{
 "cells": [
  {
   "cell_type": "markdown",
   "metadata": {
    "ExecuteTime": {
     "end_time": "2020-11-28T14:16:54.663874Z",
     "start_time": "2020-11-28T14:16:54.659964Z"
    }
   },
   "source": [
    "## Tarea 2"
   ]
  },
  {
   "cell_type": "markdown",
   "metadata": {},
   "source": [
    "INTEGRANTES: JOSÉ MIGUEL MORALES JURE - \n",
    "             JOSÉ MANUEL JEREZ DÍAZ"
   ]
  },
  {
   "cell_type": "markdown",
   "metadata": {},
   "source": [
    "- Usando las funciones anteriores, o desarrollando las propias, escriba una función que pueda valorizar, por simulación de Montecarlo, calls y puts sobre bonos cero cupón con el modelo de HW. Considere puts y calls de plazo máximo igual a 1Y.\n",
    "- Su función debe poder recibir la semilla.\n",
    "- Compare sus resultados con las fórmulas del modelo y muestre que diferencias obtiene usando 1000 simulaciones y una semilla predeterminada.\n",
    "- Valorice también por simulación de Montecarlo el bono cupón cero a 1Y. Muestre que diferencias obtiene respecto al valor de mercado del bono usando 1000 simulaciones y una semilla predeterminada."
   ]
  },
  {
   "cell_type": "code",
   "execution_count": 1,
   "metadata": {
    "ExecuteTime": {
     "end_time": "2020-12-17T20:42:50.751156Z",
     "start_time": "2020-12-17T20:42:50.143463Z"
    }
   },
   "outputs": [],
   "source": [
    "from finrisk import QC_Financial_3 as Qcf\n",
    "from typing import List, Tuple, Callable\n",
    "from scipy.interpolate import interp1d\n",
    "\n",
    "import sys\n",
    "sys.path.insert(1, '../modules')\n",
    "import auxiliary as aux\n",
    "\n",
    "# from modules\n",
    "import auxiliary as aux\n",
    "from numpy import random as rnd\n",
    "import plotly.express as px\n",
    "import pandas as pd\n",
    "import numpy as np\n",
    "import math\n",
    "from numpy import random as rnd\n",
    "from scipy.stats import norm"
   ]
  },
  {
   "cell_type": "code",
   "execution_count": 2,
   "metadata": {
    "ExecuteTime": {
     "end_time": "2020-12-17T20:42:50.801522Z",
     "start_time": "2020-12-17T20:42:50.755589Z"
    }
   },
   "outputs": [
    {
     "data": {
      "text/html": [
       "<div>\n",
       "<style scoped>\n",
       "    .dataframe tbody tr th:only-of-type {\n",
       "        vertical-align: middle;\n",
       "    }\n",
       "\n",
       "    .dataframe tbody tr th {\n",
       "        vertical-align: top;\n",
       "    }\n",
       "\n",
       "    .dataframe thead th {\n",
       "        text-align: right;\n",
       "    }\n",
       "</style>\n",
       "<table border=\"1\" class=\"dataframe\">\n",
       "  <thead>\n",
       "    <tr style=\"text-align: right;\">\n",
       "      <th></th>\n",
       "      <th>plazo</th>\n",
       "      <th>tasa</th>\n",
       "      <th>df</th>\n",
       "      <th>t</th>\n",
       "      <th>rate</th>\n",
       "    </tr>\n",
       "  </thead>\n",
       "  <tbody>\n",
       "    <tr>\n",
       "      <th>0</th>\n",
       "      <td>1</td>\n",
       "      <td>0.000811</td>\n",
       "      <td>0.999998</td>\n",
       "      <td>0.002740</td>\n",
       "      <td>0.000811</td>\n",
       "    </tr>\n",
       "    <tr>\n",
       "      <th>1</th>\n",
       "      <td>7</td>\n",
       "      <td>0.000841</td>\n",
       "      <td>0.999984</td>\n",
       "      <td>0.019178</td>\n",
       "      <td>0.000841</td>\n",
       "    </tr>\n",
       "    <tr>\n",
       "      <th>2</th>\n",
       "      <td>14</td>\n",
       "      <td>0.000780</td>\n",
       "      <td>0.999970</td>\n",
       "      <td>0.038356</td>\n",
       "      <td>0.000780</td>\n",
       "    </tr>\n",
       "    <tr>\n",
       "      <th>3</th>\n",
       "      <td>21</td>\n",
       "      <td>0.000774</td>\n",
       "      <td>0.999955</td>\n",
       "      <td>0.057534</td>\n",
       "      <td>0.000774</td>\n",
       "    </tr>\n",
       "    <tr>\n",
       "      <th>4</th>\n",
       "      <td>33</td>\n",
       "      <td>0.000781</td>\n",
       "      <td>0.999929</td>\n",
       "      <td>0.090411</td>\n",
       "      <td>0.000781</td>\n",
       "    </tr>\n",
       "    <tr>\n",
       "      <th>5</th>\n",
       "      <td>61</td>\n",
       "      <td>0.000781</td>\n",
       "      <td>0.999870</td>\n",
       "      <td>0.167123</td>\n",
       "      <td>0.000781</td>\n",
       "    </tr>\n",
       "    <tr>\n",
       "      <th>6</th>\n",
       "      <td>92</td>\n",
       "      <td>0.000811</td>\n",
       "      <td>0.999796</td>\n",
       "      <td>0.252055</td>\n",
       "      <td>0.000811</td>\n",
       "    </tr>\n",
       "    <tr>\n",
       "      <th>7</th>\n",
       "      <td>125</td>\n",
       "      <td>0.000781</td>\n",
       "      <td>0.999733</td>\n",
       "      <td>0.342466</td>\n",
       "      <td>0.000781</td>\n",
       "    </tr>\n",
       "    <tr>\n",
       "      <th>8</th>\n",
       "      <td>152</td>\n",
       "      <td>0.000760</td>\n",
       "      <td>0.999683</td>\n",
       "      <td>0.416438</td>\n",
       "      <td>0.000760</td>\n",
       "    </tr>\n",
       "    <tr>\n",
       "      <th>9</th>\n",
       "      <td>182</td>\n",
       "      <td>0.000750</td>\n",
       "      <td>0.999626</td>\n",
       "      <td>0.498630</td>\n",
       "      <td>0.000750</td>\n",
       "    </tr>\n",
       "    <tr>\n",
       "      <th>10</th>\n",
       "      <td>212</td>\n",
       "      <td>0.000736</td>\n",
       "      <td>0.999573</td>\n",
       "      <td>0.580822</td>\n",
       "      <td>0.000736</td>\n",
       "    </tr>\n",
       "    <tr>\n",
       "      <th>11</th>\n",
       "      <td>243</td>\n",
       "      <td>0.000725</td>\n",
       "      <td>0.999518</td>\n",
       "      <td>0.665753</td>\n",
       "      <td>0.000725</td>\n",
       "    </tr>\n",
       "    <tr>\n",
       "      <th>12</th>\n",
       "      <td>273</td>\n",
       "      <td>0.000720</td>\n",
       "      <td>0.999462</td>\n",
       "      <td>0.747945</td>\n",
       "      <td>0.000720</td>\n",
       "    </tr>\n",
       "    <tr>\n",
       "      <th>13</th>\n",
       "      <td>306</td>\n",
       "      <td>0.000714</td>\n",
       "      <td>0.999402</td>\n",
       "      <td>0.838356</td>\n",
       "      <td>0.000714</td>\n",
       "    </tr>\n",
       "    <tr>\n",
       "      <th>14</th>\n",
       "      <td>335</td>\n",
       "      <td>0.000708</td>\n",
       "      <td>0.999350</td>\n",
       "      <td>0.917808</td>\n",
       "      <td>0.000708</td>\n",
       "    </tr>\n",
       "    <tr>\n",
       "      <th>15</th>\n",
       "      <td>365</td>\n",
       "      <td>0.000702</td>\n",
       "      <td>0.999298</td>\n",
       "      <td>1.000000</td>\n",
       "      <td>0.000702</td>\n",
       "    </tr>\n",
       "    <tr>\n",
       "      <th>16</th>\n",
       "      <td>547</td>\n",
       "      <td>0.000642</td>\n",
       "      <td>0.999039</td>\n",
       "      <td>1.498630</td>\n",
       "      <td>0.000642</td>\n",
       "    </tr>\n",
       "    <tr>\n",
       "      <th>17</th>\n",
       "      <td>730</td>\n",
       "      <td>0.000568</td>\n",
       "      <td>0.998865</td>\n",
       "      <td>2.000000</td>\n",
       "      <td>0.000568</td>\n",
       "    </tr>\n",
       "    <tr>\n",
       "      <th>18</th>\n",
       "      <td>1097</td>\n",
       "      <td>0.000750</td>\n",
       "      <td>0.997748</td>\n",
       "      <td>3.005479</td>\n",
       "      <td>0.000750</td>\n",
       "    </tr>\n",
       "    <tr>\n",
       "      <th>19</th>\n",
       "      <td>1462</td>\n",
       "      <td>0.001258</td>\n",
       "      <td>0.994976</td>\n",
       "      <td>4.005479</td>\n",
       "      <td>0.001258</td>\n",
       "    </tr>\n",
       "    <tr>\n",
       "      <th>20</th>\n",
       "      <td>1826</td>\n",
       "      <td>0.001939</td>\n",
       "      <td>0.990348</td>\n",
       "      <td>5.002740</td>\n",
       "      <td>0.001939</td>\n",
       "    </tr>\n",
       "    <tr>\n",
       "      <th>21</th>\n",
       "      <td>2191</td>\n",
       "      <td>0.002775</td>\n",
       "      <td>0.983483</td>\n",
       "      <td>6.002740</td>\n",
       "      <td>0.002775</td>\n",
       "    </tr>\n",
       "    <tr>\n",
       "      <th>22</th>\n",
       "      <td>2556</td>\n",
       "      <td>0.003603</td>\n",
       "      <td>0.975082</td>\n",
       "      <td>7.002740</td>\n",
       "      <td>0.003603</td>\n",
       "    </tr>\n",
       "    <tr>\n",
       "      <th>23</th>\n",
       "      <td>2924</td>\n",
       "      <td>0.004384</td>\n",
       "      <td>0.965489</td>\n",
       "      <td>8.010959</td>\n",
       "      <td>0.004384</td>\n",
       "    </tr>\n",
       "    <tr>\n",
       "      <th>24</th>\n",
       "      <td>3288</td>\n",
       "      <td>0.005117</td>\n",
       "      <td>0.954953</td>\n",
       "      <td>9.008219</td>\n",
       "      <td>0.005117</td>\n",
       "    </tr>\n",
       "    <tr>\n",
       "      <th>25</th>\n",
       "      <td>3653</td>\n",
       "      <td>0.005812</td>\n",
       "      <td>0.943495</td>\n",
       "      <td>10.008219</td>\n",
       "      <td>0.005812</td>\n",
       "    </tr>\n",
       "    <tr>\n",
       "      <th>26</th>\n",
       "      <td>4383</td>\n",
       "      <td>0.006917</td>\n",
       "      <td>0.920290</td>\n",
       "      <td>12.008219</td>\n",
       "      <td>0.006917</td>\n",
       "    </tr>\n",
       "    <tr>\n",
       "      <th>27</th>\n",
       "      <td>5479</td>\n",
       "      <td>0.008064</td>\n",
       "      <td>0.885997</td>\n",
       "      <td>15.010959</td>\n",
       "      <td>0.008064</td>\n",
       "    </tr>\n",
       "    <tr>\n",
       "      <th>28</th>\n",
       "      <td>7306</td>\n",
       "      <td>0.009253</td>\n",
       "      <td>0.830924</td>\n",
       "      <td>20.016438</td>\n",
       "      <td>0.009253</td>\n",
       "    </tr>\n",
       "    <tr>\n",
       "      <th>29</th>\n",
       "      <td>9133</td>\n",
       "      <td>0.009657</td>\n",
       "      <td>0.785338</td>\n",
       "      <td>25.021918</td>\n",
       "      <td>0.009657</td>\n",
       "    </tr>\n",
       "    <tr>\n",
       "      <th>30</th>\n",
       "      <td>10957</td>\n",
       "      <td>0.009881</td>\n",
       "      <td>0.743326</td>\n",
       "      <td>30.019178</td>\n",
       "      <td>0.009881</td>\n",
       "    </tr>\n",
       "    <tr>\n",
       "      <th>31</th>\n",
       "      <td>14610</td>\n",
       "      <td>0.009408</td>\n",
       "      <td>0.686197</td>\n",
       "      <td>40.027397</td>\n",
       "      <td>0.009408</td>\n",
       "    </tr>\n",
       "    <tr>\n",
       "      <th>32</th>\n",
       "      <td>18262</td>\n",
       "      <td>0.008464</td>\n",
       "      <td>0.654757</td>\n",
       "      <td>50.032877</td>\n",
       "      <td>0.008464</td>\n",
       "    </tr>\n",
       "  </tbody>\n",
       "</table>\n",
       "</div>"
      ],
      "text/plain": [
       "    plazo      tasa        df          t      rate\n",
       "0       1  0.000811  0.999998   0.002740  0.000811\n",
       "1       7  0.000841  0.999984   0.019178  0.000841\n",
       "2      14  0.000780  0.999970   0.038356  0.000780\n",
       "3      21  0.000774  0.999955   0.057534  0.000774\n",
       "4      33  0.000781  0.999929   0.090411  0.000781\n",
       "5      61  0.000781  0.999870   0.167123  0.000781\n",
       "6      92  0.000811  0.999796   0.252055  0.000811\n",
       "7     125  0.000781  0.999733   0.342466  0.000781\n",
       "8     152  0.000760  0.999683   0.416438  0.000760\n",
       "9     182  0.000750  0.999626   0.498630  0.000750\n",
       "10    212  0.000736  0.999573   0.580822  0.000736\n",
       "11    243  0.000725  0.999518   0.665753  0.000725\n",
       "12    273  0.000720  0.999462   0.747945  0.000720\n",
       "13    306  0.000714  0.999402   0.838356  0.000714\n",
       "14    335  0.000708  0.999350   0.917808  0.000708\n",
       "15    365  0.000702  0.999298   1.000000  0.000702\n",
       "16    547  0.000642  0.999039   1.498630  0.000642\n",
       "17    730  0.000568  0.998865   2.000000  0.000568\n",
       "18   1097  0.000750  0.997748   3.005479  0.000750\n",
       "19   1462  0.001258  0.994976   4.005479  0.001258\n",
       "20   1826  0.001939  0.990348   5.002740  0.001939\n",
       "21   2191  0.002775  0.983483   6.002740  0.002775\n",
       "22   2556  0.003603  0.975082   7.002740  0.003603\n",
       "23   2924  0.004384  0.965489   8.010959  0.004384\n",
       "24   3288  0.005117  0.954953   9.008219  0.005117\n",
       "25   3653  0.005812  0.943495  10.008219  0.005812\n",
       "26   4383  0.006917  0.920290  12.008219  0.006917\n",
       "27   5479  0.008064  0.885997  15.010959  0.008064\n",
       "28   7306  0.009253  0.830924  20.016438  0.009253\n",
       "29   9133  0.009657  0.785338  25.021918  0.009657\n",
       "30  10957  0.009881  0.743326  30.019178  0.009881\n",
       "31  14610  0.009408  0.686197  40.027397  0.009408\n",
       "32  18262  0.008464  0.654757  50.032877  0.008464"
      ]
     },
     "execution_count": 2,
     "metadata": {},
     "output_type": "execute_result"
    }
   ],
   "source": [
    "datos =pd.read_excel(\"../data/20201012_built_sofr_zero.xlsx\")\n",
    "datos=pd.DataFrame(datos)\n",
    "datos['t'] = datos['plazo'] / 365.0\n",
    "datos['rate'] = np.log(1 / datos['df'])/( datos['plazo'] / 365.0)\n",
    "zcurva = interp1d(datos['t'],\n",
    "                  datos['rate'],\n",
    "                  kind='cubic',\n",
    "                  fill_value=\"extrapolate\")\n",
    "datos"
   ]
  },
  {
   "cell_type": "code",
   "execution_count": 3,
   "metadata": {
    "ExecuteTime": {
     "end_time": "2020-12-17T20:42:50.807758Z",
     "start_time": "2020-12-17T20:42:50.803357Z"
    }
   },
   "outputs": [],
   "source": [
    "def zrate(t: float) -> float:\n",
    "    return zcurva(t)\n",
    "\n",
    "\n",
    "def dzrate(t: float) -> float:\n",
    "    delta = .0001\n",
    "    return (zcurva(t + delta) - zrate(t)) / delta\n",
    "\n",
    "\n",
    "def d2zrate(t: float) -> float:\n",
    "    delta = .0001\n",
    "    return (dzrate(t + delta) - dzrate(t)) / delta"
   ]
  },
  {
   "cell_type": "code",
   "execution_count": 4,
   "metadata": {
    "ExecuteTime": {
     "end_time": "2020-12-17T20:42:50.813585Z",
     "start_time": "2020-12-17T20:42:50.810080Z"
    }
   },
   "outputs": [],
   "source": [
    "def fwd(t: float) -> float:\n",
    "    return zrate(t) + t * dzrate(t)\n",
    "\n",
    "def dfwd(t: float) -> float:\n",
    "    return 2 * dzrate(t) + t * d2zrate(t)"
   ]
  },
  {
   "cell_type": "markdown",
   "metadata": {},
   "source": [
    "MUESTRA RESULTADOS DE ZRATE - SUS DERIVADAS y theta"
   ]
  },
  {
   "cell_type": "code",
   "execution_count": 5,
   "metadata": {
    "ExecuteTime": {
     "end_time": "2020-12-17T20:42:50.824889Z",
     "start_time": "2020-12-17T20:42:50.817131Z"
    }
   },
   "outputs": [
    {
     "name": "stdout",
     "output_type": "stream",
     "text": [
      "zrate(0.00) = 0.0788%\n",
      "dzrate(0.00) = 0.9560%\n",
      "d2zrate(0.00) = -91.8498%\n"
     ]
    }
   ],
   "source": [
    "t_opcion =1\n",
    "T_bono = 2\n",
    "t=0\n",
    "sigma = 0.015\n",
    "gamma = 0.5\n",
    "# Proxy de la tasa instantánea r(t) es una tasa entre t y t + dt (donde dt es un intervalo infitesimal)\n",
    "r0 = zrate(0)\n",
    "K=1\n",
    "dt=1/365\n",
    "\n",
    "print(f'zrate({t:.2f}) = {zrate(t):.4%}')\n",
    "print(f'dzrate({t:.2f}) = {dzrate(t):.4%}')\n",
    "print(f'd2zrate({t:.2f}) = {d2zrate(t):.4%}')\n",
    "\n",
    "def theta(t: float) -> float:\n",
    "    aux = (sigma ** 2) / (2.0 * gamma) * (1 - math.exp(-2.0 * gamma * t))\n",
    "    return dfwd(t) + gamma * fwd(t) + aux"
   ]
  },
  {
   "cell_type": "markdown",
   "metadata": {
    "ExecuteTime": {
     "end_time": "2020-12-06T20:49:20.479859Z",
     "start_time": "2020-12-06T20:49:20.474834Z"
    }
   },
   "source": [
    "FUNCIONES PARA CALCULO DEL CUPON"
   ]
  },
  {
   "cell_type": "code",
   "execution_count": 6,
   "metadata": {
    "ExecuteTime": {
     "end_time": "2020-12-17T20:42:50.831748Z",
     "start_time": "2020-12-17T20:42:50.827352Z"
    }
   },
   "outputs": [],
   "source": [
    "def b_hw(gamma: float, t_opcion: float, T_bono: float) -> float:\n",
    "    \"\"\"\n",
    "    Calcula el valor de la función B(t,T) que interviene en la fórmula\n",
    "    para el valor de un bono cupón cero en el modelo de HW.\n",
    "    params:\n",
    "    - gamma: intensidad de reversión del modelo HW\n",
    "    - t:\n",
    "    - T:\n",
    "    return:\n",
    "\n",
    "    - valor de la función B(t, T)\n",
    "    \"\"\"\n",
    "    aux = 1 - math.exp(- gamma * (T_bono - t_opcion))\n",
    "    return aux / gamma"
   ]
  },
  {
   "cell_type": "code",
   "execution_count": 7,
   "metadata": {
    "ExecuteTime": {
     "end_time": "2020-12-17T20:42:50.841955Z",
     "start_time": "2020-12-17T20:42:50.833985Z"
    }
   },
   "outputs": [],
   "source": [
    "def a_hw(zrate: float, fwd, gamma: float, sigma: float, t_opcion: float, T_bono: float,\n",
    "         verbose = False):\n",
    "    \"\"\"\n",
    "    verbose: cuando es True imprime los valores de c1, c2 y c3.\n",
    "    \"\"\"\n",
    "    b = b_hw(gamma, t_opcion, T_bono)\n",
    "    dfT = math.exp(-zrate(T_bono) * T_bono)\n",
    "    dft = math.exp(-zrate(t_opcion) * t_opcion)\n",
    "    c1 = math.log(dfT / dft)\n",
    "    c2 = b * fwd(t_opcion)\n",
    "    c3 = (sigma**2) / (4 * gamma) * (b**2) * (1 - math.exp(-2 * gamma * t_opcion))\n",
    "    if verbose:\n",
    "        print(\"c1: \" + str(c1))\n",
    "        print(\"c2: \" + str(c2))\n",
    "        print(\"c3: \" + str(c3))\n",
    "    return c1 + c2 - c3"
   ]
  },
  {
   "cell_type": "code",
   "execution_count": 8,
   "metadata": {
    "ExecuteTime": {
     "end_time": "2020-12-17T20:42:50.851887Z",
     "start_time": "2020-12-17T20:42:50.844514Z"
    }
   },
   "outputs": [
    {
     "data": {
      "text/plain": [
       "0.9993919760351754"
      ]
     },
     "execution_count": 8,
     "metadata": {},
     "output_type": "execute_result"
    }
   ],
   "source": [
    "def zero_hw(r: float, gamma: float, sigma: float,\n",
    "            zrate: float, fwd: float, t_opcion: float, T_bono: float) -> float:\n",
    "    a = a_hw(zrate, fwd, gamma, sigma, t_opcion, T_bono)\n",
    "    b = b_hw(gamma, t_opcion, T_bono)\n",
    "    return math.exp(a - b * r)\n",
    "zero_hw(r0,gamma,sigma,zrate,fwd,t_opcion,T_bono)"
   ]
  },
  {
   "cell_type": "markdown",
   "metadata": {},
   "source": [
    "## CALL Y PUT FÓRMULA CERRADA"
   ]
  },
  {
   "cell_type": "code",
   "execution_count": 9,
   "metadata": {
    "ExecuteTime": {
     "end_time": "2020-12-17T20:42:50.859665Z",
     "start_time": "2020-12-17T20:42:50.853899Z"
    }
   },
   "outputs": [
    {
     "data": {
      "text/plain": [
       "0.009384953162988194"
      ]
     },
     "execution_count": 9,
     "metadata": {},
     "output_type": "execute_result"
    }
   ],
   "source": [
    "#Se definen las funciones de las que dependen Call y Put\n",
    "# Strike\n",
    "def s_z(gamma,t_opcion,T_bono,sigma):\n",
    "    b = b_hw(gamma, t_opcion, T_bono)\n",
    "    sz=b*np.sqrt((sigma**2/(2*gamma))*(1-np.exp(-2*gamma*t_opcion)))\n",
    "    return sz\n",
    "s_z(gamma,t_opcion,T_bono,sigma)"
   ]
  },
  {
   "cell_type": "code",
   "execution_count": 10,
   "metadata": {
    "ExecuteTime": {
     "end_time": "2020-12-17T20:42:50.868790Z",
     "start_time": "2020-12-17T20:42:50.861844Z"
    }
   },
   "outputs": [
    {
     "data": {
      "text/plain": [
       "-0.04142166019983301"
      ]
     },
     "execution_count": 10,
     "metadata": {},
     "output_type": "execute_result"
    }
   ],
   "source": [
    "def d1(t_opcion,T_bono,sigma,gamma,r,K):\n",
    "    sz=s_z(gamma,t_opcion,T_bono,sigma)\n",
    "    z=zero_hw(r,gamma,sigma,zrate,fwd,0,T_bono)\n",
    "    z1=zero_hw(r,gamma,sigma,zrate,fwd,0,t_opcion)\n",
    "    d_1=(np.log(z/(K*z1))+ 0.5*(sz**2))/sz\n",
    "    return d_1\n",
    "d1(t_opcion,T_bono,sigma,gamma,r0,K)"
   ]
  },
  {
   "cell_type": "code",
   "execution_count": 11,
   "metadata": {
    "ExecuteTime": {
     "end_time": "2020-12-17T20:42:50.876733Z",
     "start_time": "2020-12-17T20:42:50.870764Z"
    }
   },
   "outputs": [
    {
     "data": {
      "text/plain": [
       "-0.050806613362821204"
      ]
     },
     "execution_count": 11,
     "metadata": {},
     "output_type": "execute_result"
    }
   ],
   "source": [
    "def d2(t_opcion,T_bono,sigma,gamma,r,K):\n",
    "    d=d1(t_opcion,T_bono,sigma,gamma,r,K)\n",
    "    sz=s_z(gamma,t_opcion,T_bono,sigma)\n",
    "    d2=d-sz\n",
    "    return d2\n",
    "d2(t_opcion,T_bono,sigma,gamma,r0,K)"
   ]
  },
  {
   "cell_type": "code",
   "execution_count": 12,
   "metadata": {
    "ExecuteTime": {
     "end_time": "2020-12-17T20:42:50.889232Z",
     "start_time": "2020-12-17T20:42:50.878686Z"
    }
   },
   "outputs": [
    {
     "data": {
      "text/plain": [
       "(0.0035283883401179164, 0.003960769916741911)"
      ]
     },
     "execution_count": 12,
     "metadata": {},
     "output_type": "execute_result"
    }
   ],
   "source": [
    "def Call_Put (K,r,gamma,sigma,zrate,fwd,t_opcion,T_bono):\n",
    "    \n",
    "    z=zero_hw(r,gamma,sigma,zrate,fwd,t,t_opcion)\n",
    "    z1=zero_hw(r,gamma,sigma,zrate,fwd,t,T_bono)\n",
    "    \n",
    "    d=d1(t_opcion,T_bono,sigma,gamma,r,K)\n",
    "    d_2=d2(t_opcion,T_bono,sigma,gamma,r,K) \n",
    "    \n",
    "    Call=z*(((z1/z)*norm.cdf(d)) - K*norm.cdf(d_2))\n",
    "    Put=z*((K* norm.cdf(-d_2))-((z1/z)*norm.cdf(-d)))\n",
    "    return Call,Put\n",
    "Call_Put(K,r0,gamma,sigma,zrate,fwd,t_opcion,T_bono)\n",
    "\n"
   ]
  },
  {
   "cell_type": "markdown",
   "metadata": {},
   "source": [
    "## SIMULACIÓN DE R Y CERO CUPON\n"
   ]
  },
  {
   "cell_type": "code",
   "execution_count": 13,
   "metadata": {
    "ExecuteTime": {
     "end_time": "2020-12-17T20:42:50.895182Z",
     "start_time": "2020-12-17T20:42:50.891220Z"
    }
   },
   "outputs": [],
   "source": [
    "def theta_fwd_measure(t_opcion: float, T_bono:float) -> float:\n",
    "    aux = (sigma ** 2) / (2.0 * gamma) * (1 - math.exp(-2.0 * gamma * t_opcion))\n",
    "    return dfwd(t_opcion) + gamma * fwd(t_opcion) + aux - b_hw(gamma, t_opcion, T_bono)*sigma**2"
   ]
  },
  {
   "cell_type": "code",
   "execution_count": 14,
   "metadata": {
    "ExecuteTime": {
     "end_time": "2020-12-17T20:42:52.159166Z",
     "start_time": "2020-12-17T20:42:50.897176Z"
    },
    "scrolled": true
   },
   "outputs": [
    {
     "name": "stdout",
     "output_type": "stream",
     "text": [
      "Promedio de simulaciones de r:  0.00033599685\n"
     ]
    }
   ],
   "source": [
    "# Calculan las r para cada paso y se calcula el promedio\n",
    "num_sim = 1000\n",
    "num_steps = 264\n",
    "seed = 1234\n",
    "dt = 1 / 264.0\n",
    "def sim_hw_many(gamma, sigma, theta_fwd_measure,t_opcion, r0, num_sim, num_steps, seed):\n",
    "    \"\"\"\n",
    "    \"\"\"\n",
    "        \n",
    "    num_steps += 1\n",
    "    \n",
    "    # Calcula los números aleatorios\n",
    "    alea = np.zeros((num_sim, num_steps))\n",
    "    np.random.seed(seed)\n",
    "\n",
    "    for i in range(0, num_sim):\n",
    "        for j in range(0, num_steps):\n",
    "            alea[i][j] = np.random.normal()\n",
    "            \n",
    "    # Calcula los valores de Theta. Theta sólo depende del tiempo, no de la simulación. \n",
    "    theta_array = np.zeros(num_steps)\n",
    "    tiempo = np.zeros(num_steps)\n",
    "    for i in range(1, num_steps):\n",
    "        tiempo[i] = i * dt\n",
    "        theta_array[i] = theta_fwd_measure(i * dt,t_opcion)\n",
    "    \n",
    "    # Simula las trayectorias\n",
    "    sqdt_sigma = math.sqrt(dt) * sigma\n",
    "    gamma_dt = gamma * dt\n",
    "    sim = np.zeros((num_sim, num_steps))\n",
    "    for i in range(0, num_sim):\n",
    "        sim[i][0] = r0\n",
    "        r = r0\n",
    "        for j in range(1, num_steps):\n",
    "            r = r + theta_array[j - 1] * dt - gamma_dt * r + sqdt_sigma * alea[i][j - 1]\n",
    "            sim[i][j] = r\n",
    "    return sim\n",
    "simul=sim_hw_many(gamma, sigma, theta_fwd_measure,t_opcion,r0,num_sim,num_steps,seed)\n",
    "r=np.mean(simul)\n",
    "print(f\"Promedio de simulaciones de r: {r: .8}\")"
   ]
  },
  {
   "cell_type": "markdown",
   "metadata": {},
   "source": [
    "Se comprueba que el z de la curva y z simulado son cercanos\n",
    "### SIMULACIÓN DE FACTOR DE DESCUENTO EZ "
   ]
  },
  {
   "cell_type": "code",
   "execution_count": 15,
   "metadata": {
    "ExecuteTime": {
     "end_time": "2020-12-17T20:42:52.171928Z",
     "start_time": "2020-12-17T20:42:52.161186Z"
    }
   },
   "outputs": [
    {
     "name": "stdout",
     "output_type": "stream",
     "text": [
      "ez:  99.96894692%\n",
      "z_curva:  99.92978688%\n",
      "Diferencia discount factor:  0.00039160039\n"
     ]
    }
   ],
   "source": [
    "# valor del factor de descuento simulado \n",
    "def disc_factor(simul,dt):\n",
    "    df=0\n",
    "    for sim in simul:\n",
    "        df  += math.exp(-dt * np.sum(sim))\n",
    "    ez = df / num_sim\n",
    "    z_curva = datos['df'].iloc[15]\n",
    "    return ez,z_curva,abs(z_curva-ez)\n",
    "a=disc_factor(simul,dt)\n",
    "print(f\"ez: {a[0]: .8%}\")\n",
    "print(f\"z_curva: {a[1]: .8%}\")\n",
    "print(f\"Diferencia discount factor: {a[2]: .8}\")"
   ]
  },
  {
   "cell_type": "markdown",
   "metadata": {},
   "source": [
    "## SIMULACIÓN CALL-PUT"
   ]
  },
  {
   "cell_type": "code",
   "execution_count": 16,
   "metadata": {
    "ExecuteTime": {
     "end_time": "2020-12-17T20:42:53.617068Z",
     "start_time": "2020-12-17T20:42:52.173984Z"
    }
   },
   "outputs": [
    {
     "name": "stdout",
     "output_type": "stream",
     "text": [
      "ez:  99.99990388%\n"
     ]
    },
    {
     "data": {
      "text/plain": [
       "(0.9999990388105036, 0.0034872449710222565, 0.003635439288750601)"
      ]
     },
     "execution_count": 16,
     "metadata": {},
     "output_type": "execute_result"
    }
   ],
   "source": [
    "#CON MAS SIMULACIONES, LOS VALORES SE ACERCAN CADA VEZ MAS.\n",
    "num_sim = 1000\n",
    "num_steps = 263\n",
    "seed = 1234\n",
    "dt=1/264\n",
    "\n",
    "#Simulación Call y Put- Payoff\n",
    "def Simulación(gamma,sigma,zrate,fwd,theta_fwd_measure,t_opcion,T_bono,r0,num_sim,num_steps,seed):\n",
    "    df=0\n",
    "    simul=sim_hw_many(gamma, sigma, theta_fwd_measure,t_opcion,r0,num_sim,num_steps,seed)\n",
    "    r=simul[:,-1]\n",
    "    z=[]\n",
    "    Call_simulada=[]\n",
    "    Put_simulada=[]\n",
    "    Call_simul=[]\n",
    "    Put_simul=[]\n",
    "    for i in range (len(r)):\n",
    "        zero=zero_hw(r[i],gamma,sigma,zrate,fwd,t_opcion,T_bono)\n",
    "        z.append(zero)\n",
    "        #Payoff\n",
    "        C=max(z[i]-K,0)\n",
    "        Call_simulada.append(C)\n",
    "        P=max(K-z[i],0)\n",
    "        Put_simulada.append(P)\n",
    "    \n",
    "    # valor del factor de descuento y Valor presente\n",
    "    for sim in r:\n",
    "        df += math.exp(-dt * np.sum(sim))\n",
    "        #Payoff_C=Call_simulada[sim]*df\n",
    "        #Call_simul.append(Payoff_C)\n",
    "        #Payoff_P=Put_simulada[sim]*df\n",
    "        #Put_simul.append(Payoff_P)\n",
    "    df_final=df/len(r)\n",
    "    print(f\"ez: {df_final: .8%}\")\n",
    "    #print(f\"Call: {np.mean(Call_simul): .8%}\")\n",
    "    #print(f\"Put: {np.mean(Put_simul): .8%}\")\n",
    "    # VALOR PRESENTE\n",
    "    for c in range(len(Call_simulada)):\n",
    "        Call_1=Call_simulada[c]*df_final\n",
    "        Call_simul.append(Call_1)\n",
    "        Put_1=Put_simulada[c]*df_final\n",
    "        Put_simul.append(Put_1)\n",
    "    return df_final,np.mean(Call_simul),np.mean(Put_simul)\n",
    "\n",
    "Simulation=Simulación(gamma,sigma,zrate,fwd,theta_fwd_measure,t_opcion,T_bono,r0,num_sim,num_steps,seed)\n",
    "Simulation"
   ]
  },
  {
   "cell_type": "markdown",
   "metadata": {},
   "source": [
    "### COMPARACIÓN CALL-PUT SIMULADA VS FÓRMULA CERRADA\n"
   ]
  },
  {
   "cell_type": "code",
   "execution_count": 17,
   "metadata": {
    "ExecuteTime": {
     "end_time": "2020-12-17T20:42:53.626363Z",
     "start_time": "2020-12-17T20:42:53.618945Z"
    }
   },
   "outputs": [
    {
     "name": "stdout",
     "output_type": "stream",
     "text": [
      "El valor de la Call con formula cerrada es: 0.0035283883401179164\n",
      "El valor de la Call con simulación es: 0.0034872449710222565\n",
      "El valor del error de simulación versus fórmula cerrada Call: 4.114336909565985e-05\n",
      "El valor de la Put con formula cerrada es: 0.003960769916741911\n",
      "El valor de la Put con simulación es: 0.003635439288750601\n",
      "El valor del error de simulación versus fórmula cerrada Put: 0.00032533062799130997\n"
     ]
    }
   ],
   "source": [
    "# Se demuestra el valor de la call y put con simulación y fórmula cerrada \n",
    "#Se calcula el error de simulación en base a la fórmula cerrada\n",
    "\n",
    "# Formula cerrada\n",
    "price_cerrada=Call_Put(K,r0,gamma,sigma,zrate,fwd,t_opcion,T_bono)\n",
    "#Simulación\n",
    "price_simulacion=Simulation\n",
    "print('El valor de la Call con formula cerrada es:',price_cerrada[0])\n",
    "print('El valor de la Call con simulación es:',Simulation[1])\n",
    "print('El valor del error de simulación versus fórmula cerrada Call:',price_cerrada[0]-Simulation[1])\n",
    "print('El valor de la Put con formula cerrada es:',price_cerrada[1])\n",
    "print('El valor de la Put con simulación es:',Simulation[2])\n",
    "print('El valor del error de simulación versus fórmula cerrada Put:',price_cerrada[1]-Simulation[2])"
   ]
  },
  {
   "cell_type": "markdown",
   "metadata": {},
   "source": [
    "### Tests"
   ]
  },
  {
   "cell_type": "code",
   "execution_count": 18,
   "metadata": {
    "ExecuteTime": {
     "end_time": "2020-12-17T20:43:36.408543Z",
     "start_time": "2020-12-17T20:43:36.404838Z"
    }
   },
   "outputs": [],
   "source": [
    "import hull_white as hw"
   ]
  },
  {
   "cell_type": "code",
   "execution_count": 22,
   "metadata": {
    "ExecuteTime": {
     "end_time": "2020-12-17T20:46:06.370374Z",
     "start_time": "2020-12-17T20:46:06.364030Z"
    }
   },
   "outputs": [
    {
     "data": {
      "text/plain": [
       "0.0035283883401179272"
      ]
     },
     "execution_count": 22,
     "metadata": {},
     "output_type": "execute_result"
    }
   ],
   "source": [
    "hw.zcb_call_put(\n",
    "    hw.CallPut.CALL,\n",
    "    strike=K,\n",
    "    to=t_opcion,\n",
    "    tb=T_bono,\n",
    "    r0=zcurva(0),\n",
    "    zo=math.exp(-zcurva(t_opcion) * t_opcion),\n",
    "    zb=math.exp(-zrate(T_bono) * T_bono),\n",
    "    gamma=gamma,\n",
    "    sigma=sigma)"
   ]
  },
  {
   "cell_type": "code",
   "execution_count": 23,
   "metadata": {
    "ExecuteTime": {
     "end_time": "2020-12-17T20:46:35.391649Z",
     "start_time": "2020-12-17T20:46:35.384688Z"
    }
   },
   "outputs": [
    {
     "data": {
      "text/plain": [
       "0.00396076991674188"
      ]
     },
     "execution_count": 23,
     "metadata": {},
     "output_type": "execute_result"
    }
   ],
   "source": [
    "hw.zcb_call_put(\n",
    "    hw.CallPut.PUT,\n",
    "    strike=K,\n",
    "    to=t_opcion,\n",
    "    tb=T_bono,\n",
    "    r0=zcurva(0),\n",
    "    zo=math.exp(-zcurva(t_opcion) * t_opcion),\n",
    "    zb=math.exp(-zrate(T_bono) * T_bono),\n",
    "    gamma=gamma,\n",
    "    sigma=sigma)"
   ]
  },
  {
   "cell_type": "markdown",
   "metadata": {},
   "source": [
    "**AD:** verificar más casos ... lo mismo para el factor de descuento."
   ]
  }
 ],
 "metadata": {
  "hide_input": false,
  "kernelspec": {
   "display_name": "Python 3",
   "language": "python",
   "name": "python3"
  },
  "language_info": {
   "codemirror_mode": {
    "name": "ipython",
    "version": 3
   },
   "file_extension": ".py",
   "mimetype": "text/x-python",
   "name": "python",
   "nbconvert_exporter": "python",
   "pygments_lexer": "ipython3",
   "version": "3.7.3"
  },
  "toc": {
   "base_numbering": 1,
   "nav_menu": {},
   "number_sections": true,
   "sideBar": true,
   "skip_h1_title": false,
   "title_cell": "Table of Contents",
   "title_sidebar": "Contents",
   "toc_cell": false,
   "toc_position": {
    "height": "calc(100% - 180px)",
    "left": "10px",
    "top": "150px",
    "width": "240.488px"
   },
   "toc_section_display": true,
   "toc_window_display": true
  }
 },
 "nbformat": 4,
 "nbformat_minor": 4
}
