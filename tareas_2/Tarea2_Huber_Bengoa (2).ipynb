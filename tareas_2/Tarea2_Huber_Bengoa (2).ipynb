{
 "cells": [
  {
   "cell_type": "markdown",
   "metadata": {},
   "source": [
    "# Tarea 2"
   ]
  },
  {
   "cell_type": "code",
   "execution_count": 1,
   "metadata": {
    "ExecuteTime": {
     "end_time": "2020-12-17T21:28:08.176243Z",
     "start_time": "2020-12-17T21:28:07.534144Z"
    }
   },
   "outputs": [],
   "source": [
    "from finrisk import QC_Financial_3 as Qcf\n",
    "from typing import List, Tuple, Callable\n",
    "from scipy.interpolate import interp1d\n",
    "\n",
    "import sys\n",
    "sys.path.insert(1, '../modules')\n",
    "import auxiliary as aux\n",
    "\n",
    "# from modules\n",
    "import auxiliary as aux\n",
    "\n",
    "from numpy import random as rnd\n",
    "import plotly.express as px\n",
    "import pandas as pd\n",
    "import numpy as np\n",
    "import math\n",
    "from scipy.stats import norm"
   ]
  },
  {
   "cell_type": "markdown",
   "metadata": {},
   "source": [
    "## Funciones necesarias para las que se crearán"
   ]
  },
  {
   "cell_type": "markdown",
   "metadata": {},
   "source": [
    "Importación de los datos de la curva cero cupón"
   ]
  },
  {
   "cell_type": "code",
   "execution_count": 2,
   "metadata": {
    "ExecuteTime": {
     "end_time": "2020-12-17T21:28:08.228126Z",
     "start_time": "2020-12-17T21:28:08.181128Z"
    }
   },
   "outputs": [
    {
     "data": {
      "text/html": [
       "<div>\n",
       "<style scoped>\n",
       "    .dataframe tbody tr th:only-of-type {\n",
       "        vertical-align: middle;\n",
       "    }\n",
       "\n",
       "    .dataframe tbody tr th {\n",
       "        vertical-align: top;\n",
       "    }\n",
       "\n",
       "    .dataframe thead th {\n",
       "        text-align: right;\n",
       "    }\n",
       "</style>\n",
       "<table border=\"1\" class=\"dataframe\">\n",
       "  <thead>\n",
       "    <tr style=\"text-align: right;\">\n",
       "      <th></th>\n",
       "      <th>plazo</th>\n",
       "      <th>tasa</th>\n",
       "      <th>df</th>\n",
       "    </tr>\n",
       "  </thead>\n",
       "  <tbody>\n",
       "    <tr>\n",
       "      <th>0</th>\n",
       "      <td>1</td>\n",
       "      <td>0.000811</td>\n",
       "      <td>0.999998</td>\n",
       "    </tr>\n",
       "    <tr>\n",
       "      <th>1</th>\n",
       "      <td>7</td>\n",
       "      <td>0.000841</td>\n",
       "      <td>0.999984</td>\n",
       "    </tr>\n",
       "    <tr>\n",
       "      <th>2</th>\n",
       "      <td>14</td>\n",
       "      <td>0.000780</td>\n",
       "      <td>0.999970</td>\n",
       "    </tr>\n",
       "    <tr>\n",
       "      <th>3</th>\n",
       "      <td>21</td>\n",
       "      <td>0.000774</td>\n",
       "      <td>0.999955</td>\n",
       "    </tr>\n",
       "    <tr>\n",
       "      <th>4</th>\n",
       "      <td>33</td>\n",
       "      <td>0.000781</td>\n",
       "      <td>0.999929</td>\n",
       "    </tr>\n",
       "  </tbody>\n",
       "</table>\n",
       "</div>"
      ],
      "text/plain": [
       "   plazo      tasa        df\n",
       "0      1  0.000811  0.999998\n",
       "1      7  0.000841  0.999984\n",
       "2     14  0.000780  0.999970\n",
       "3     21  0.000774  0.999955\n",
       "4     33  0.000781  0.999929"
      ]
     },
     "execution_count": 2,
     "metadata": {},
     "output_type": "execute_result"
    }
   ],
   "source": [
    "curva = pd.read_excel('../data/20201012_built_sofr_zero.xlsx')\n",
    "curva.head()"
   ]
  },
  {
   "cell_type": "code",
   "execution_count": 3,
   "metadata": {
    "ExecuteTime": {
     "end_time": "2020-12-17T21:28:08.254249Z",
     "start_time": "2020-12-17T21:28:08.230562Z"
    }
   },
   "outputs": [
    {
     "data": {
      "text/html": [
       "<div>\n",
       "<style scoped>\n",
       "    .dataframe tbody tr th:only-of-type {\n",
       "        vertical-align: middle;\n",
       "    }\n",
       "\n",
       "    .dataframe tbody tr th {\n",
       "        vertical-align: top;\n",
       "    }\n",
       "\n",
       "    .dataframe thead th {\n",
       "        text-align: right;\n",
       "    }\n",
       "</style>\n",
       "<table border=\"1\" class=\"dataframe\">\n",
       "  <thead>\n",
       "    <tr style=\"text-align: right;\">\n",
       "      <th></th>\n",
       "      <th>plazo</th>\n",
       "      <th>tasa</th>\n",
       "      <th>df</th>\n",
       "      <th>t</th>\n",
       "      <th>rate</th>\n",
       "    </tr>\n",
       "  </thead>\n",
       "  <tbody>\n",
       "    <tr>\n",
       "      <th>0</th>\n",
       "      <td>1</td>\n",
       "      <td>0.000811</td>\n",
       "      <td>0.999998</td>\n",
       "      <td>0.002740</td>\n",
       "      <td>0.000811</td>\n",
       "    </tr>\n",
       "    <tr>\n",
       "      <th>1</th>\n",
       "      <td>7</td>\n",
       "      <td>0.000841</td>\n",
       "      <td>0.999984</td>\n",
       "      <td>0.019178</td>\n",
       "      <td>0.000841</td>\n",
       "    </tr>\n",
       "    <tr>\n",
       "      <th>2</th>\n",
       "      <td>14</td>\n",
       "      <td>0.000780</td>\n",
       "      <td>0.999970</td>\n",
       "      <td>0.038356</td>\n",
       "      <td>0.000780</td>\n",
       "    </tr>\n",
       "    <tr>\n",
       "      <th>3</th>\n",
       "      <td>21</td>\n",
       "      <td>0.000774</td>\n",
       "      <td>0.999955</td>\n",
       "      <td>0.057534</td>\n",
       "      <td>0.000774</td>\n",
       "    </tr>\n",
       "    <tr>\n",
       "      <th>4</th>\n",
       "      <td>33</td>\n",
       "      <td>0.000781</td>\n",
       "      <td>0.999929</td>\n",
       "      <td>0.090411</td>\n",
       "      <td>0.000781</td>\n",
       "    </tr>\n",
       "  </tbody>\n",
       "</table>\n",
       "</div>"
      ],
      "text/plain": [
       "   plazo      tasa        df         t      rate\n",
       "0      1  0.000811  0.999998  0.002740  0.000811\n",
       "1      7  0.000841  0.999984  0.019178  0.000841\n",
       "2     14  0.000780  0.999970  0.038356  0.000780\n",
       "3     21  0.000774  0.999955  0.057534  0.000774\n",
       "4     33  0.000781  0.999929  0.090411  0.000781"
      ]
     },
     "execution_count": 3,
     "metadata": {},
     "output_type": "execute_result"
    }
   ],
   "source": [
    "curva['t'] = curva['plazo'] / 365.0\n",
    "curva['rate'] = np.log(1 / curva['df'])/( curva['plazo'] / 365.0)\n",
    "curva.head()"
   ]
  },
  {
   "cell_type": "markdown",
   "metadata": {},
   "source": [
    "Obtención de las tasas de la curva mediante interpolación"
   ]
  },
  {
   "cell_type": "code",
   "execution_count": 4,
   "metadata": {
    "ExecuteTime": {
     "end_time": "2020-12-17T21:28:08.263620Z",
     "start_time": "2020-12-17T21:28:08.257281Z"
    }
   },
   "outputs": [],
   "source": [
    "zcurva = interp1d(curva['t'], curva['rate'], kind='cubic',\n",
    "                  fill_value=\"extrapolate\")"
   ]
  },
  {
   "cell_type": "markdown",
   "metadata": {},
   "source": [
    "### Construcción de Theta"
   ]
  },
  {
   "cell_type": "markdown",
   "metadata": {},
   "source": [
    "Función $\\theta_{t}$:\n",
    "\n",
    "$$\n",
    "\\begin{equation}\n",
    "\\theta_{t}=\\frac{\\partial f(0,t)}{\\partial t}+\\gamma^*f(0,t)+\\frac{\\sigma^2}{2\\gamma^*}\\left[1-\\exp(-2\\gamma^*t)\\right]\n",
    "\\end{equation}\n",
    "$$"
   ]
  },
  {
   "cell_type": "markdown",
   "metadata": {},
   "source": [
    "Sabemos que:\n",
    "\n",
    "$$f(0,t)=r(0,t)+t\\frac{\\partial r(0,t)}{\\partial t}$$,\n",
    "\n",
    "y también que:\n",
    "\n",
    "$$\\frac{\\partial f(0,t)}{\\partial t}=2\\frac{\\partial r(0,t)}{\\partial t}+t\\frac{\\partial^2r(0,t)}{\\partial t^2}$$"
   ]
  },
  {
   "cell_type": "code",
   "execution_count": 5,
   "metadata": {
    "ExecuteTime": {
     "end_time": "2020-12-17T21:28:08.275760Z",
     "start_time": "2020-12-17T21:28:08.268905Z"
    }
   },
   "outputs": [],
   "source": [
    "#Funciones para las derivadas de la tasa cero cupón\n",
    "\n",
    "def zrate(t: float) -> float:\n",
    "    return zcurva(t)\n",
    "\n",
    "\n",
    "def dzrate(t: float) -> float:\n",
    "    delta = .0001\n",
    "    return (zcurva(t + delta) - zrate(t)) / delta\n",
    "\n",
    "\n",
    "def d2zrate(t: float) -> float:\n",
    "    delta = .0001\n",
    "    return (dzrate(t + delta) - dzrate(t)) / delta"
   ]
  },
  {
   "cell_type": "markdown",
   "metadata": {},
   "source": [
    "Funciones para la tasa forward y su derivada:"
   ]
  },
  {
   "cell_type": "code",
   "execution_count": 6,
   "metadata": {
    "ExecuteTime": {
     "end_time": "2020-12-17T21:28:08.285923Z",
     "start_time": "2020-12-17T21:28:08.280726Z"
    }
   },
   "outputs": [],
   "source": [
    "def fwd(t: float) -> float:\n",
    "    return zrate(t) + t * dzrate(t)\n",
    "\n",
    "def dfwd(t: float) -> float:\n",
    "    return 2 * dzrate(t) + t * d2zrate(t)"
   ]
  },
  {
   "cell_type": "code",
   "execution_count": 7,
   "metadata": {
    "ExecuteTime": {
     "end_time": "2020-12-17T21:28:08.293549Z",
     "start_time": "2020-12-17T21:28:08.289330Z"
    }
   },
   "outputs": [],
   "source": [
    "#Valores arbitarios para gamma y sigma:\n",
    "\n",
    "sigma=0.015\n",
    "gamma=0.5\n",
    "\n",
    "#valor estimado de r0:\n",
    "r0 = zrate(0)    "
   ]
  },
  {
   "cell_type": "code",
   "execution_count": 8,
   "metadata": {
    "ExecuteTime": {
     "end_time": "2020-12-17T21:28:08.299426Z",
     "start_time": "2020-12-17T21:28:08.295628Z"
    }
   },
   "outputs": [],
   "source": [
    "#Función para obtener el valor de theta\n",
    "\n",
    "def theta(t, gamma, sigma):\n",
    "    theta= dfwd(t) + gamma*fwd(t) + ((sigma**2)/(2*gamma) * (1- math.exp(-2*gamma*t)))\n",
    "    return theta"
   ]
  },
  {
   "cell_type": "code",
   "execution_count": 9,
   "metadata": {
    "ExecuteTime": {
     "end_time": "2020-12-17T21:28:08.305482Z",
     "start_time": "2020-12-17T21:28:08.301667Z"
    },
    "scrolled": true
   },
   "outputs": [
    {
     "name": "stdout",
     "output_type": "stream",
     "text": [
      "Valor de Theta cuando t=2 :  0.14487625%\n"
     ]
    }
   ],
   "source": [
    "#Solo para probar\n",
    "\n",
    "theta_prueba= theta(2,gamma, sigma)\n",
    "\n",
    "print(f\"Valor de Theta cuando t=2 : {theta_prueba: .8%}\")"
   ]
  },
  {
   "cell_type": "markdown",
   "metadata": {},
   "source": [
    "Función para las simulaciones de $r_t$"
   ]
  },
  {
   "cell_type": "code",
   "execution_count": 10,
   "metadata": {
    "ExecuteTime": {
     "end_time": "2020-12-17T21:28:08.319050Z",
     "start_time": "2020-12-17T21:28:08.308020Z"
    }
   },
   "outputs": [],
   "source": [
    "#función para las simulaciones\n",
    "\n",
    "def simulaciones_HW(gamma, sigma, r0, num_sim, num_steps, seed=None): \n",
    "    \"\"\"\n",
    "    Calcula la tasa libre de riesgo r mediante el modelo de Hull y White para num_sim cantidad de simulaciones, para\n",
    "    distintos steps de tiempo determinados por num_steps\n",
    "    \"\"\"\n",
    "    \n",
    "    dt=1/264\n",
    "    num_steps= num_steps+1\n",
    "    \n",
    "    #cálculo de los números aleatorios\n",
    "    dXt = np.zeros((num_sim, num_steps))\n",
    "    np.random.seed(seed)\n",
    "    \n",
    "    for i in range(0, num_sim):\n",
    "        for j in range(0, num_steps):\n",
    "            dXt[i,j] = np.random.normal()     #generación de la matriz de números aleatorios\n",
    "            \n",
    "    #cálculo de los Theta (son determinísticos, no dependen de la simulación)\n",
    "    thetas=np.zeros((1,num_steps))      #matriz de thetas para cada t\n",
    "    tiempo = np.zeros((1,num_steps))    #matriz con los steps del tiempo\n",
    "    \n",
    "    for i in range(0,num_steps):\n",
    "        tiempo[0,i]= i * dt\n",
    "        thetas[0,i]=theta(i*dt, gamma, sigma) \n",
    "    \n",
    "    #Simulación de las trayectorias para r\n",
    "    sqdt_sigma = math.sqrt(dt) * sigma\n",
    "    gamma_dt = gamma*dt\n",
    "    simulaciones = np.zeros((num_sim, num_steps))\n",
    "    \n",
    "    simulaciones[:,0] = r0         #valor inicial de r para cada simulación\n",
    "    \n",
    "    for i in range(0, num_sim):\n",
    "        r=r0        #cada simulación inicia con r=r0\n",
    "        \n",
    "        for j in range(1,num_steps):\n",
    "            r = r + thetas[0,(j-1)] * dt - gamma_dt * r + sqdt_sigma * dXt[i,(j-1)]\n",
    "            simulaciones[i,j] = r\n",
    "            \n",
    "    return tiempo, simulaciones    #retorna el valor de r para cada step en cada simulación\n",
    "    "
   ]
  },
  {
   "cell_type": "code",
   "execution_count": 11,
   "metadata": {
    "ExecuteTime": {
     "end_time": "2020-12-17T21:28:08.416644Z",
     "start_time": "2020-12-17T21:28:08.322010Z"
    }
   },
   "outputs": [
    {
     "name": "stdout",
     "output_type": "stream",
     "text": [
      "Con una semilla predeterminada de 1000, el valor de la tasa en la última simulación de la prueba es:  0.00050987803\n"
     ]
    }
   ],
   "source": [
    "#PRUEBAS\n",
    "\n",
    "num_sim=10\n",
    "num_steps=263\n",
    "\n",
    "#verificando que el primer valor de cada simulación sea r0\n",
    "prueba_tiempo,prueba_sims=simulaciones_HW(gamma, sigma, r0, num_sim, num_steps, 1000)\n",
    "#prueba_sims[4,:]\n",
    "\n",
    "r_final= prueba_sims[0,10]\n",
    "print(f\"Con una semilla predeterminada de 1000, el valor de la tasa en la última simulación de la prueba es: {r_final: .8}\")"
   ]
  },
  {
   "cell_type": "markdown",
   "metadata": {},
   "source": [
    "Función para el cálculo del valor del bono cero cupóns, no se utiliza nunca, pero se dejó porque sí"
   ]
  },
  {
   "cell_type": "code",
   "execution_count": 12,
   "metadata": {
    "ExecuteTime": {
     "end_time": "2020-12-17T21:28:08.422521Z",
     "start_time": "2020-12-17T21:28:08.418936Z"
    }
   },
   "outputs": [],
   "source": [
    "#cálculo de B\n",
    "def get_B_HW(t,T,gamma):\n",
    "    B = (1/gamma) * (1- math.exp(-gamma*(T-t)))\n",
    "    \n",
    "    return B\n",
    "    "
   ]
  },
  {
   "cell_type": "code",
   "execution_count": 13,
   "metadata": {
    "ExecuteTime": {
     "end_time": "2020-12-17T21:28:08.429657Z",
     "start_time": "2020-12-17T21:28:08.424686Z"
    }
   },
   "outputs": [],
   "source": [
    "#cálculo de A\n",
    "def get_A_HW(t, T, gamma, sigma):\n",
    "    B= get_B_HW(t,T,gamma)\n",
    "    dfT=math.exp(-zrate(T)*T)\n",
    "    dft=math.exp(-zrate(t)*t)\n",
    "    A=math.log(dfT/dft) + B*fwd(t) - ((sigma**2)/(4*gamma) * B**2 * (1- math.exp(-2*gamma*t)))\n",
    "    \n",
    "    return A"
   ]
  },
  {
   "cell_type": "code",
   "execution_count": 14,
   "metadata": {
    "ExecuteTime": {
     "end_time": "2020-12-17T21:28:08.435917Z",
     "start_time": "2020-12-17T21:28:08.431788Z"
    }
   },
   "outputs": [],
   "source": [
    "#cálculo bono cero cupón\n",
    "def zero_HW(r, t, T, gamma, sigma):\n",
    "    A = get_A_HW(t, T, gamma, sigma)\n",
    "    B = get_B_HW(t, T, gamma)\n",
    "    \n",
    "    bono_zc = math.exp(A - B * r)\n",
    "    \n",
    "    return bono_zc"
   ]
  },
  {
   "cell_type": "markdown",
   "metadata": {},
   "source": [
    "# Función para Calls y Puts con MC"
   ]
  },
  {
   "cell_type": "code",
   "execution_count": 15,
   "metadata": {
    "ExecuteTime": {
     "end_time": "2020-12-17T21:28:08.447520Z",
     "start_time": "2020-12-17T21:28:08.437905Z"
    }
   },
   "outputs": [],
   "source": [
    "# Función para las Calls y las Puts usando el método de MonteCarlo\n",
    "\n",
    "def valor_opcion_MC(t, T, gamma, sigma, r0, K, num_sim, num_steps, opcion, seed=None):\n",
    "    \"\"\"\n",
    "    Calcula el valor de una opción call o put sobre un bono cero cupón con el método de Hull y White. Se realizan \n",
    "    \"num_sim\" simulaciones en total para los parámetros dados\n",
    "\n",
    "    \"\"\"\n",
    "\n",
    "    if t > T:\n",
    "        print('La opción no tiene valor ya que se está después luego de su expiración')\n",
    "\n",
    "    # simulaciones de las tasas con MC y HW con la función ya existente\n",
    "    tiempo, tasas_r = simulaciones_HW(\n",
    "        gamma, sigma, r0, num_sim, num_steps, seed)\n",
    "\n",
    "    # se guarda el valor final de las tasas para cada simulación\n",
    "    tasas_finales = tasas_r[:, num_steps]\n",
    "    # matriz para guardar los discount factor (precio del bono)\n",
    "    discount_factor = np.zeros((num_sim, 1))\n",
    "    payoff = np.zeros((num_sim, 1))\n",
    "\n",
    "    # Para cada simulación se calcula el payoff de la opción, para luego hacer un promedio de estos y\n",
    "    # traerlo a valor presente. Calcula por lo tanto el valor de la opción para el caso de una call ó una put.\n",
    "\n",
    "    for i in range(0, num_sim):\n",
    "        # cálculo del precio del bono para cada r al final de cada simulación\n",
    "        discount_factor[i, 0] = zero_HW(tasas_finales[i], t, T, gamma, sigma)\n",
    "\n",
    "        if opcion == \"call\":\n",
    "            # cálculo del payoff dependiendo del tipo de opción\n",
    "            payoff[i, 0] = max((discount_factor[i, 0]-K), 0)\n",
    "\n",
    "        elif opcion == \"put\":\n",
    "            payoff[i, 0] = max((K-discount_factor[i, 0]), 0)\n",
    "\n",
    "        else:\n",
    "            print('La opción debe ser call o put')\n",
    "\n",
    "    # cálculo del promedio de las simulaciones del precio de las opciones\n",
    "    valor_opcion = np.average(payoff)\n",
    "\n",
    "    valor_presente = math.exp(-t * float(zrate(t))) * \\\n",
    "        valor_opcion  # se trae a valor presente\n",
    "    # AD: el valor presente está mal calculado. Debe ser con el factor de descuento de la trayectoria.\n",
    "\n",
    "    return valor_presente"
   ]
  },
  {
   "cell_type": "code",
   "execution_count": 16,
   "metadata": {
    "ExecuteTime": {
     "end_time": "2020-12-17T21:28:09.754015Z",
     "start_time": "2020-12-17T21:28:08.449888Z"
    }
   },
   "outputs": [
    {
     "name": "stdout",
     "output_type": "stream",
     "text": [
      "El valor de la call calculado con Monte Carlo, con los parámetros establecidos es:  0.0038614301\n"
     ]
    }
   ],
   "source": [
    "# Prueba del valor de la opción call con Monte carlo con parámetros arbitrarios, con 1000 simulaciones y semilla 1000.\n",
    "\n",
    "t = 1\n",
    "T = 2\n",
    "K = 1\n",
    "num_steps = 263\n",
    "num_sim = 1000\n",
    "sigma = 0.015\n",
    "gamma = 0.5\n",
    "r0 = zrate(1/264)\n",
    "\n",
    "call_MC = valor_opcion_MC(t, T, gamma, sigma, r0, K,\n",
    "                          num_sim, num_steps, \"call\", 1000)\n",
    "\n",
    "\n",
    "print(\n",
    "    f\"El valor de la call calculado con Monte Carlo, con los parámetros establecidos es: {call_MC: .8}\")"
   ]
  },
  {
   "cell_type": "code",
   "execution_count": 17,
   "metadata": {
    "ExecuteTime": {
     "end_time": "2020-12-17T21:28:11.018606Z",
     "start_time": "2020-12-17T21:28:09.755765Z"
    }
   },
   "outputs": [
    {
     "name": "stdout",
     "output_type": "stream",
     "text": [
      "El valor de la put calculado con Monte Carlo, con los parámetros anteriores es:  0.0037686762\n"
     ]
    }
   ],
   "source": [
    "# Prueba del valor de la opción put con Monte carlo con parámetros arbitrarios con 1000 simulaciones y semilla 1000.\n",
    "\n",
    "\n",
    "put_MC = valor_opcion_MC(t, T, gamma, sigma, r0, K,\n",
    "                         num_sim, num_steps, \"put\", 1000)\n",
    "\n",
    "print(\n",
    "    f\"El valor de la put calculado con Monte Carlo, con los parámetros anteriores es: {put_MC: .8}\")"
   ]
  },
  {
   "cell_type": "markdown",
   "metadata": {},
   "source": [
    "## Función para Calls y Puts con Fórmula Teórica"
   ]
  },
  {
   "cell_type": "code",
   "execution_count": 18,
   "metadata": {
    "ExecuteTime": {
     "end_time": "2020-12-17T21:28:11.027595Z",
     "start_time": "2020-12-17T21:28:11.021311Z"
    }
   },
   "outputs": [],
   "source": [
    "# Función para el d1\n",
    "\n",
    "def get_d1(r0, TB, TO, gamma, sigma, K):\n",
    "    \"\"\"\n",
    "    Se calcula el d1 para los parámetros dados, donde TB corresponde a la madurez del bono cero cupón y TO la madurez\n",
    "    de la opción\n",
    "    \"\"\"\n",
    "\n",
    "    dfTB = math.exp(-zrate(TB)*TB)  # fatores de descuento para TB y TO\n",
    "    dfTO = math.exp(-zrate(TO)*TO)\n",
    "    Sz = get_B_HW(TO, TB, gamma) * math.sqrt((sigma**2) /\n",
    "                                             (2*gamma) * (1 - math.exp(-2*gamma*TO)))\n",
    "\n",
    "    d1 = (math.log((1/K)*dfTB/dfTO) + 0.5 * (Sz**2)) / Sz\n",
    "\n",
    "    return d1"
   ]
  },
  {
   "cell_type": "code",
   "execution_count": 19,
   "metadata": {
    "ExecuteTime": {
     "end_time": "2020-12-17T21:28:11.034521Z",
     "start_time": "2020-12-17T21:28:11.029630Z"
    }
   },
   "outputs": [],
   "source": [
    "# Función para el d2\n",
    "def get_d2(r0, TB, TO, gamma, sigma, K):\n",
    "    Sz = get_B_HW(TO, TB, gamma) * math.sqrt((sigma**2) /\n",
    "                                             (2*gamma) * (1 - math.exp(-2*gamma*TO)))\n",
    "    d1 = get_d1(r0, TB, TO, gamma, sigma, K)\n",
    "\n",
    "    d2 = d1 - Sz\n",
    "\n",
    "    return d2"
   ]
  },
  {
   "cell_type": "code",
   "execution_count": 20,
   "metadata": {
    "ExecuteTime": {
     "end_time": "2020-12-17T21:28:11.043894Z",
     "start_time": "2020-12-17T21:28:11.036558Z"
    }
   },
   "outputs": [],
   "source": [
    "# Función para el valor de la opción ORIGINAL\n",
    "\n",
    "def valor_opcion_BS(r0, TB, TO, gamma, sigma, K, opcion):\n",
    "\n",
    "    if TO > TB:\n",
    "        print('La opción no tiene valor ya que la madurez de esta es mayor que la del bono subyacente')\n",
    "\n",
    "    dfTB = math.exp(-zrate(TB)*TB)\n",
    "    dfTO = math.exp(-zrate(TO)*TO)\n",
    "\n",
    "    d1 = get_d1(r0, TB, TO, gamma, sigma, K)\n",
    "    d2 = get_d2(r0, TB, TO, gamma, sigma, K)\n",
    "\n",
    "    if opcion == \"call\":\n",
    "        call = dfTO * ((dfTB/dfTO)*norm.cdf(d1) - K*norm.cdf(d2))\n",
    "        valor_presente = call\n",
    "\n",
    "    elif opcion == \"put\":\n",
    "        put = dfTO * (K*norm.cdf(-d2) - (dfTB/dfTO)*norm.cdf(-d1))\n",
    "        valor_presente = put\n",
    "\n",
    "    else:\n",
    "        print('La opción debe ser call o put')\n",
    "\n",
    "    return valor_presente"
   ]
  },
  {
   "cell_type": "code",
   "execution_count": 21,
   "metadata": {
    "ExecuteTime": {
     "end_time": "2020-12-17T21:28:11.051424Z",
     "start_time": "2020-12-17T21:28:11.045996Z"
    }
   },
   "outputs": [
    {
     "name": "stdout",
     "output_type": "stream",
     "text": [
      "El valor de la call calculado con Black Scholes, con los parámetros anteriores es:  0.0035283883\n"
     ]
    }
   ],
   "source": [
    "# Prueba del valor de la opción call con Black Scholes con parámetros arbitrarios.\n",
    "\n",
    "opcion = \"call\"\n",
    "r0 = r0\n",
    "t = 0\n",
    "TB = 2\n",
    "TO = 1\n",
    "K = 1\n",
    "\n",
    "call_BS = valor_opcion_BS(r0, TB, TO, gamma, sigma, K, opcion)\n",
    "\n",
    "print(\n",
    "    f\"El valor de la call calculado con Black Scholes, con los parámetros anteriores es: {call_BS: .8}\")"
   ]
  },
  {
   "cell_type": "code",
   "execution_count": 34,
   "metadata": {
    "ExecuteTime": {
     "end_time": "2020-12-17T21:31:05.649949Z",
     "start_time": "2020-12-17T21:31:05.646360Z"
    }
   },
   "outputs": [],
   "source": [
    "import hull_white as hw"
   ]
  },
  {
   "cell_type": "code",
   "execution_count": 36,
   "metadata": {
    "ExecuteTime": {
     "end_time": "2020-12-17T21:31:17.494927Z",
     "start_time": "2020-12-17T21:31:17.486295Z"
    }
   },
   "outputs": [
    {
     "data": {
      "text/plain": [
       "0.0035283883401179272"
      ]
     },
     "execution_count": 36,
     "metadata": {},
     "output_type": "execute_result"
    }
   ],
   "source": [
    "# Test\n",
    "\n",
    "hw.zcb_call_put(\n",
    "    hw.CallPut.CALL,\n",
    "    strike=K,\n",
    "    to=TO,\n",
    "    tb=TB,\n",
    "    r0=r0,\n",
    "    zo=math.exp(-zrate(TO) * TO),\n",
    "    zb=math.exp(-zrate(TB) * TB),\n",
    "    gamma=gamma,\n",
    "    sigma=sigma)"
   ]
  },
  {
   "cell_type": "code",
   "execution_count": 37,
   "metadata": {
    "ExecuteTime": {
     "end_time": "2020-12-17T21:31:50.412820Z",
     "start_time": "2020-12-17T21:31:50.406580Z"
    }
   },
   "outputs": [
    {
     "name": "stdout",
     "output_type": "stream",
     "text": [
      "El valor de la put calculado con Black Scholes, con los parámetros anteriores es:  0.0039607699\n"
     ]
    }
   ],
   "source": [
    "# Prueba del valor de la opción put con Black Scholes con parámetros arbitrarios.\n",
    "\n",
    "\n",
    "opcion2 = \"put\"\n",
    "\n",
    "put_BS = valor_opcion_BS(r0, TB, TO, gamma, sigma, K, opcion2)\n",
    "\n",
    "print(\n",
    "    f\"El valor de la put calculado con Black Scholes, con los parámetros anteriores es: {put_BS: .8}\")"
   ]
  },
  {
   "cell_type": "code",
   "execution_count": 38,
   "metadata": {
    "ExecuteTime": {
     "end_time": "2020-12-17T21:31:52.453299Z",
     "start_time": "2020-12-17T21:31:52.446628Z"
    }
   },
   "outputs": [
    {
     "data": {
      "text/plain": [
       "0.00396076991674188"
      ]
     },
     "execution_count": 38,
     "metadata": {},
     "output_type": "execute_result"
    }
   ],
   "source": [
    "# Test\n",
    "\n",
    "hw.zcb_call_put(\n",
    "    hw.CallPut.PUT,\n",
    "    strike=K,\n",
    "    to=TO,\n",
    "    tb=TB,\n",
    "    r0=r0,\n",
    "    zo=math.exp(-zrate(TO) * TO),\n",
    "    zb=math.exp(-zrate(TB) * TB),\n",
    "    gamma=gamma,\n",
    "    sigma=sigma)"
   ]
  },
  {
   "cell_type": "code",
   "execution_count": 23,
   "metadata": {
    "ExecuteTime": {
     "end_time": "2020-12-17T21:28:11.065207Z",
     "start_time": "2020-12-17T21:28:11.060344Z"
    }
   },
   "outputs": [
    {
     "name": "stdout",
     "output_type": "stream",
     "text": [
      "Valor call con MC:  0.0038614301\n",
      "Valor call con BS:  0.0035283883\n",
      "Usando 1000 simulaciones y una semilla predeterminada de 1000, el error de la call entre MC y las fórmulas del modelo es:  0.00033304178\n"
     ]
    }
   ],
   "source": [
    "# Error absoluto entre el valor de la call calculada con Monte carlo versus Black Scholes.\n",
    "\n",
    "error_call = abs(call_MC-call_BS)\n",
    "\n",
    "print(f\"Valor call con MC: {call_MC: .8}\")\n",
    "print(f\"Valor call con BS: {call_BS: .8}\")\n",
    "\n",
    "\n",
    "print(\n",
    "    f\"Usando 1000 simulaciones y una semilla predeterminada de 1000, el error de la call entre MC y las fórmulas del modelo es: {error_call: .8}\")"
   ]
  },
  {
   "cell_type": "code",
   "execution_count": 24,
   "metadata": {
    "ExecuteTime": {
     "end_time": "2020-12-17T21:28:11.073126Z",
     "start_time": "2020-12-17T21:28:11.067447Z"
    }
   },
   "outputs": [
    {
     "name": "stdout",
     "output_type": "stream",
     "text": [
      "Valor put con MC:  0.0037686762\n",
      "Valor put con BS:  0.0039607699\n",
      "Usando 1000 simulaciones y una semilla predeterminada de 1000, el error absoluto de la put entre MC y las fórmulas del modelo es:  0.00019209369\n"
     ]
    }
   ],
   "source": [
    "# Error absoluto entre el valor de la put calculada con Monte carlo versus Black Scholes.\n",
    "\n",
    "error_put = abs(put_MC - put_BS)\n",
    "\n",
    "print(f\"Valor put con MC: {put_MC: .8}\")\n",
    "print(f\"Valor put con BS: {put_BS: .8}\")\n",
    "\n",
    "\n",
    "print(\n",
    "    f\"Usando 1000 simulaciones y una semilla predeterminada de 1000, el error absoluto de la put entre MC y las fórmulas del modelo es: {error_put: .8}\")"
   ]
  },
  {
   "cell_type": "code",
   "execution_count": 25,
   "metadata": {
    "ExecuteTime": {
     "end_time": "2020-12-17T21:28:21.765770Z",
     "start_time": "2020-12-17T21:28:11.075542Z"
    }
   },
   "outputs": [],
   "source": [
    "# Cálculos para la opción call y call, para distintos strikes\n",
    "\n",
    "opcion = \"call\"\n",
    "r0 = r0\n",
    "t = 1\n",
    "t_BS = 0\n",
    "TB = 2\n",
    "TO = 1\n",
    "strikes = [0.99, 0.98, 1, 1.01, 1.02]\n",
    "\n",
    "valores_call_MC = np.zeros((1, len(strikes)))\n",
    "valores_call_BS = np.zeros((1, len(strikes)))\n",
    "valores_put_MC = np.zeros((1, len(strikes)))\n",
    "valores_put_BS = np.zeros((1, len(strikes)))\n",
    "\n",
    "errores_call = np.zeros((1, len(strikes)))\n",
    "errores_put = np.zeros((1, len(strikes)))\n",
    "\n",
    "for i in range(1, len(strikes)):\n",
    "    valores_call_MC[0, i] = valor_opcion_MC(\n",
    "        t, T, gamma, sigma, r0, strikes[i], num_sim, num_steps, \"call\", 1000)\n",
    "    valores_put_MC[0, i] = valor_opcion_MC(\n",
    "        t, T, gamma, sigma, r0, strikes[i], num_sim, num_steps, \"put\", 1000)\n",
    "\n",
    "    valores_call_BS[0, i] = valor_opcion_BS(\n",
    "        r0, TB, TO, gamma, sigma, strikes[i], \"call\")\n",
    "    valores_put_BS[0, i] = valor_opcion_BS(\n",
    "        r0, TB, TO, gamma, sigma, strikes[i], \"put\")\n",
    "\n",
    "    errores_call[0, i] = abs(valores_call_MC[0, i] - valores_call_BS[0, i])\n",
    "    errores_put[0, i] = abs(valores_put_MC[0, i] - valores_put_BS[0, i])"
   ]
  },
  {
   "cell_type": "code",
   "execution_count": 26,
   "metadata": {
    "ExecuteTime": {
     "end_time": "2020-12-17T21:28:21.775291Z",
     "start_time": "2020-12-17T21:28:21.767349Z"
    }
   },
   "outputs": [
    {
     "name": "stdout",
     "output_type": "stream",
     "text": [
      "Strike K = : 0.99\n",
      "Call con Monte Carlo: 0.00000000\n",
      "Call con Black Scholes: 0.00000000\n",
      "Error Absoluto: 0.0\n",
      "\n",
      "Strike K = : 0.98\n",
      "Call con Monte Carlo: 0.02014252\n",
      "Call con Black Scholes: 0.01961254\n",
      "Error Absoluto: 0.00052997986\n",
      "\n",
      "Strike K = : 1.00\n",
      "Call con Monte Carlo: 0.00386143\n",
      "Call con Black Scholes: 0.00352839\n",
      "Error Absoluto: 0.00033304178\n",
      "\n",
      "Strike K = : 1.01\n",
      "Call con Monte Carlo: 0.00065798\n",
      "Call con Black Scholes: 0.00063852\n",
      "Error Absoluto: 1.9460033e-05\n",
      "\n",
      "Strike K = : 1.02\n",
      "Call con Monte Carlo: 0.00003599\n",
      "Call con Black Scholes: 0.00005238\n",
      "Error Absoluto: 1.6398882e-05\n",
      "\n",
      "Error Promedio para todos los strikes: 0.00017978\n"
     ]
    }
   ],
   "source": [
    "for i in range(0, len(strikes)):\n",
    "    print(f'Strike K = : {strikes[i]:.2f}')\n",
    "    print(f'Call con Monte Carlo: {valores_call_MC[0,i]:.8f}')\n",
    "    print(f'Call con Black Scholes: {valores_call_BS[0,i]:.8f}')\n",
    "    print(f'Error Absoluto: {errores_call[0,i]:.8}')\n",
    "    print('')\n",
    "\n",
    "\n",
    "error_promedio_call = np.average(errores_call)\n",
    "print(f'Error Promedio para todos los strikes: {error_promedio_call:.8f}')"
   ]
  },
  {
   "cell_type": "code",
   "execution_count": 27,
   "metadata": {
    "ExecuteTime": {
     "end_time": "2020-12-17T21:28:21.785522Z",
     "start_time": "2020-12-17T21:28:21.777007Z"
    }
   },
   "outputs": [
    {
     "name": "stdout",
     "output_type": "stream",
     "text": [
      "Strike K = : 0.99\n",
      "Put con Monte Carlo: 0.00000000\n",
      "Put con Black Scholes: 0.00000000\n",
      "Error Absoluto: 0.0\n",
      "\n",
      "Strike K = : 0.98\n",
      "Put con Monte Carlo: 0.00006381\n",
      "Put con Black Scholes: 0.00005896\n",
      "Error Absoluto: 4.8443854e-06\n",
      "\n",
      "Strike K = : 1.00\n",
      "Put con Monte Carlo: 0.00376868\n",
      "Put con Black Scholes: 0.00396077\n",
      "Error Absoluto: 0.00019209369\n",
      "\n",
      "Strike K = : 1.01\n",
      "Put con Monte Carlo: 0.01055820\n",
      "Put con Black Scholes: 0.01106388\n",
      "Error Absoluto: 0.00050567544\n",
      "\n",
      "Strike K = : 1.02\n",
      "Put con Monte Carlo: 0.01992919\n",
      "Put con Black Scholes: 0.02047072\n",
      "Error Absoluto: 0.00054153436\n",
      "\n",
      "Error Promedio para todos los strikes: 0.00024883\n"
     ]
    }
   ],
   "source": [
    "for i in range(0,len(strikes)):\n",
    "    print(f'Strike K = : {strikes[i]:.2f}')\n",
    "    print(f'Put con Monte Carlo: {valores_put_MC[0,i]:.8f}')\n",
    "    print(f'Put con Black Scholes: {valores_put_BS[0,i]:.8f}')\n",
    "    print(f'Error Absoluto: {errores_put[0,i]:.8}')\n",
    "    print('')\n",
    "    \n",
    "error_promedio_put = np.average(errores_put)\n",
    "print(f'Error Promedio para todos los strikes: {error_promedio_put:.8f}')"
   ]
  },
  {
   "cell_type": "markdown",
   "metadata": {},
   "source": [
    "**AD:** bien, vieron el error para varios casos."
   ]
  },
  {
   "cell_type": "markdown",
   "metadata": {},
   "source": [
    "## Bono Cupón Cero a 1Y"
   ]
  },
  {
   "cell_type": "code",
   "execution_count": 28,
   "metadata": {
    "ExecuteTime": {
     "end_time": "2020-12-17T21:28:21.792899Z",
     "start_time": "2020-12-17T21:28:21.787233Z"
    }
   },
   "outputs": [
    {
     "name": "stdout",
     "output_type": "stream",
     "text": [
      "15    0.999298\n",
      "Name: df, dtype: float64\n"
     ]
    }
   ],
   "source": [
    "#para saber el índice y el valor del df de la curva a 365 días (1Y)\n",
    "df_1Y=curva.loc[curva['plazo'] == 365, 'df']\n",
    "print(df_1Y)"
   ]
  },
  {
   "cell_type": "code",
   "execution_count": 29,
   "metadata": {
    "ExecuteTime": {
     "end_time": "2020-12-17T21:28:21.798293Z",
     "start_time": "2020-12-17T21:28:21.794337Z"
    }
   },
   "outputs": [
    {
     "name": "stdout",
     "output_type": "stream",
     "text": [
      "El valor de mercado del bono a 1Y se sacó directamente de la curva y es el siguiente:  0.99929787\n"
     ]
    }
   ],
   "source": [
    "#Se obtiene el valor de mercado del bono directamente de la curva \n",
    "valor_mercado_bono = curva['df'].iloc[15]\n",
    "\n",
    "print(f\"El valor de mercado del bono a 1Y se sacó directamente de la curva y es el siguiente: {valor_mercado_bono: .8}\")\n"
   ]
  },
  {
   "cell_type": "markdown",
   "metadata": {},
   "source": [
    "Cálculo del bono con MC"
   ]
  },
  {
   "cell_type": "code",
   "execution_count": 30,
   "metadata": {
    "ExecuteTime": {
     "end_time": "2020-12-17T21:28:21.804392Z",
     "start_time": "2020-12-17T21:28:21.799731Z"
    }
   },
   "outputs": [],
   "source": [
    "def valor_bono_MC(dt, gamma, sigma, r0, T_bono, num_sim, num_steps, seed=None):\n",
    "\n",
    "    # Para valorizar el bono a 1Y, reutilizamos las simulaciones de las tasas que hicimos anteriormente, por lo que\n",
    "\n",
    "    # se simulan nuevamente las tasas con MC y HW\n",
    "    # se obtiene la discretización del tiempo y las simulaciones de las tasas\n",
    "    tiempo, simulaciones_tasas = simulaciones_HW(\n",
    "        gamma, sigma, r0, num_sim, num_steps, 1000)\n",
    "    tasas_finales = simulaciones_tasas[:, num_steps]\n",
    "\n",
    "    df = 0  # se crea la variable df\n",
    "\n",
    "    for sim in simulaciones_tasas:\n",
    "        df += math.exp(-dt * np.sum(sim))\n",
    "\n",
    "    bono_MC = df/num_sim\n",
    "\n",
    "    return bono_MC"
   ]
  },
  {
   "cell_type": "code",
   "execution_count": 31,
   "metadata": {
    "ExecuteTime": {
     "end_time": "2020-12-17T21:28:22.963765Z",
     "start_time": "2020-12-17T21:28:21.806178Z"
    }
   },
   "outputs": [
    {
     "name": "stdout",
     "output_type": "stream",
     "text": [
      "El valor del bono mediante simulaciones de Monte Carlo es:  0.99969823\n"
     ]
    }
   ],
   "source": [
    "# Proxy de la tasa instantánea r(t) es una tasa entre t y t + dt (donde dt es un intervalo infitesimal)\n",
    "r0 = zrate(1/264)\n",
    "T_bono = 1\n",
    "dt = 1/264\n",
    "num_sim = 1000\n",
    "num_steps = 263\n",
    "\n",
    "bono_MC = valor_bono_MC(dt, gamma, sigma, r0, T_bono, num_sim, num_steps, 1000)\n",
    "\n",
    "print(\n",
    "    f\"El valor del bono mediante simulaciones de Monte Carlo es: {bono_MC: .8}\")"
   ]
  },
  {
   "cell_type": "code",
   "execution_count": 32,
   "metadata": {
    "ExecuteTime": {
     "end_time": "2020-12-17T21:28:22.972435Z",
     "start_time": "2020-12-17T21:28:22.967659Z"
    }
   },
   "outputs": [
    {
     "name": "stdout",
     "output_type": "stream",
     "text": [
      "Valor bono con MC:  0.99969823\n",
      "Valor bono de mercado:  0.99929787\n",
      "Usando 1000 simulaciones y una semilla predeterminada de 1000, el error absoluto del bono entre el calculado con MC y el de mercado es:  0.00040036272\n"
     ]
    }
   ],
   "source": [
    "error_bono = abs(valor_mercado_bono - bono_MC)\n",
    "\n",
    "print(f\"Valor bono con MC: {bono_MC: .8}\")\n",
    "print(f\"Valor bono de mercado: {valor_mercado_bono: .8}\")\n",
    "\n",
    "print(\n",
    "    f\"Usando 1000 simulaciones y una semilla predeterminada de 1000, el error absoluto del bono entre el calculado con MC y el de mercado es: {error_bono: .8}\")"
   ]
  },
  {
   "cell_type": "markdown",
   "metadata": {},
   "source": [
    "**AD:** hubiera sido excelente que también probaran factores de descuento a varios plazos."
   ]
  }
 ],
 "metadata": {
  "hide_input": false,
  "kernelspec": {
   "display_name": "Python 3",
   "language": "python",
   "name": "python3"
  },
  "language_info": {
   "codemirror_mode": {
    "name": "ipython",
    "version": 3
   },
   "file_extension": ".py",
   "mimetype": "text/x-python",
   "name": "python",
   "nbconvert_exporter": "python",
   "pygments_lexer": "ipython3",
   "version": "3.7.3"
  },
  "toc": {
   "base_numbering": 1,
   "nav_menu": {},
   "number_sections": true,
   "sideBar": true,
   "skip_h1_title": false,
   "title_cell": "Table of Contents",
   "title_sidebar": "Contents",
   "toc_cell": false,
   "toc_position": {},
   "toc_section_display": true,
   "toc_window_display": false
  }
 },
 "nbformat": 4,
 "nbformat_minor": 4
}
