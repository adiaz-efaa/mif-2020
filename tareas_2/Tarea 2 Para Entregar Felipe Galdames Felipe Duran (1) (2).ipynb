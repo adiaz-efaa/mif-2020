{
 "cells": [
  {
   "cell_type": "markdown",
   "metadata": {},
   "source": [
    "Integrantes:\n",
    "- Felipe Galdames.\n",
    "- Felipe Duran."
   ]
  },
  {
   "cell_type": "markdown",
   "metadata": {
    "ExecuteTime": {
     "end_time": "2020-12-03T16:12:10.625519Z",
     "start_time": "2020-12-03T16:12:10.613721Z"
    }
   },
   "source": [
    "# Tarea.\n",
    "- Usando las funciones anteriores, o desarrollando las propias, escriba una función que pueda valorizar, por simulación de Montecarlo, calls y puts sobre bonos cero cupón con el modelo de HW. Considere puts y calls de plazo máximo igual a 1Y.\n",
    "- Su función debe poder recibir la semilla.\n",
    "- Compare sus resultados con las fórmulas del modelo y muestre que diferencias obtiene usando 1000 simulaciones y una semilla predeterminada.\n",
    "- Valorice también por simulación de Montecarlo el bono cupón cero a 1Y. Muestre que diferencias obtiene respecto al valor de mercado del bono usando 1000 simulaciones y una semilla predeterminada."
   ]
  },
  {
   "cell_type": "markdown",
   "metadata": {},
   "source": [
    "## Importamos Las Librerias A Utilizar."
   ]
  },
  {
   "cell_type": "code",
   "execution_count": 1,
   "metadata": {
    "ExecuteTime": {
     "end_time": "2020-12-17T21:06:53.402813Z",
     "start_time": "2020-12-17T21:06:52.779936Z"
    }
   },
   "outputs": [],
   "source": [
    "from finrisk import QC_Financial_3 as Qcf\n",
    "from dataclasses import dataclass\n",
    "from enum import Enum\n",
    "from typing import List, Tuple, Callable\n",
    "from scipy.interpolate import interp1d\n",
    "\n",
    "import sys\n",
    "sys.path.insert(1, '../modules')\n",
    "import auxiliary as aux\n",
    "\n",
    "#from modules\n",
    "import auxiliary as aux\n",
    "\n",
    "from numpy import random as rnd\n",
    "from scipy.stats import norm\n",
    "import pandas as pd\n",
    "import numpy as np\n",
    "import inspect\n",
    "import os\n",
    "import decimal\n",
    "import plotly.express as px\n",
    "import math"
   ]
  },
  {
   "cell_type": "markdown",
   "metadata": {
    "ExecuteTime": {
     "end_time": "2020-12-04T05:34:16.553263Z",
     "start_time": "2020-12-04T05:34:16.550166Z"
    }
   },
   "source": [
    "## Definimos todas las funciones que se utilizarán a lo largo de la tarea, en orden según son llamadas originalmente."
   ]
  },
  {
   "cell_type": "code",
   "execution_count": 2,
   "metadata": {
    "ExecuteTime": {
     "end_time": "2020-12-17T21:06:53.410006Z",
     "start_time": "2020-12-17T21:06:53.405068Z"
    }
   },
   "outputs": [],
   "source": [
    "# Se definen las funciones que dan la primera y segunda derivadas del valor de las tasas\n",
    "def zrate(t: float) -> float:\n",
    "    return zcurva(t)\n",
    "\n",
    "\n",
    "def dzrate(t: float) -> float:\n",
    "    delta = .0001\n",
    "    return (zcurva(t + delta) - zrate(t)) / delta\n",
    "\n",
    "\n",
    "def d2zrate(t: float) -> float:\n",
    "    delta = .0001\n",
    "    return (dzrate(t + delta) - dzrate(t)) / delta"
   ]
  },
  {
   "cell_type": "code",
   "execution_count": 3,
   "metadata": {
    "ExecuteTime": {
     "end_time": "2020-12-17T21:06:53.419102Z",
     "start_time": "2020-12-17T21:06:53.415462Z"
    }
   },
   "outputs": [],
   "source": [
    "# Calcula f(0,t) \n",
    "def fwd(t: float) -> float:\n",
    "    return zrate(t) + t * dzrate(t)\n",
    "# Calcula f'(0,t)/dt\n",
    "def dfwd(t: float) -> float:\n",
    "    return 2 * dzrate(t) + t * d2zrate(t)"
   ]
  },
  {
   "cell_type": "markdown",
   "metadata": {
    "ExecuteTime": {
     "end_time": "2020-12-04T06:43:52.772822Z",
     "start_time": "2020-12-04T06:43:52.750976Z"
    }
   },
   "source": [
    "La función $\\theta_{t}$ esta dada por:\n",
    "\n",
    "$$\n",
    "\\begin{equation}\n",
    "\\theta_{t}=\\frac{\\partial f(0,t)}{\\partial t}+\\gamma^*f(0,t)+\\frac{\\sigma^2}{2\\gamma^*}\\left[1-\\exp(-2\\gamma^*t)\\right]\n",
    "\\end{equation}\n",
    "$$\n",
    "\n",
    "Tal como se muestra en la siguiente linea de codigo:"
   ]
  },
  {
   "cell_type": "code",
   "execution_count": 4,
   "metadata": {
    "ExecuteTime": {
     "end_time": "2020-12-17T21:06:53.426035Z",
     "start_time": "2020-12-17T21:06:53.421972Z"
    }
   },
   "outputs": [],
   "source": [
    "# Calculos de Theta.\n",
    "# Funcion\n",
    "def theta(t: float) -> float:\n",
    "    aux = (sigma ** 2) / (2.0 * gamma) * (1 - math.exp(-2.0 * gamma * t))\n",
    "    return dfwd(t) + gamma * fwd(t) + aux"
   ]
  },
  {
   "cell_type": "code",
   "execution_count": 5,
   "metadata": {
    "ExecuteTime": {
     "end_time": "2020-12-17T21:06:53.438001Z",
     "start_time": "2020-12-17T21:06:53.428898Z"
    }
   },
   "outputs": [],
   "source": [
    "def sim_hw_many(gamma, sigma, theta, r0, num_sim, num_steps, seed = None):\n",
    "    \"\"\"\n",
    "    \"\"\"\n",
    "    dt = 1 / 264.0\n",
    "    num_steps += 1\n",
    "    \n",
    "    # Calcula los números aleatorios\n",
    "    alea = np.zeros((num_sim, num_steps))\n",
    "    rnd.seed(seed)\n",
    "\n",
    "    for i in range(0, num_sim):\n",
    "        for j in range(0, num_steps):\n",
    "            alea[i][j] = rnd.normal()\n",
    "            \n",
    "    # Calcula los valores de Theta. Theta sólo depende del tiempo, no de la simulación. \n",
    "    theta_array = np.zeros(num_steps)\n",
    "    tiempo = np.zeros(num_steps)\n",
    "    \n",
    "    # Se rellenan los instantes de tiempo\n",
    "    for i in range(0, num_steps):\n",
    "        tiempo[i] = i * dt\n",
    "        theta_array[i] = theta(i * dt)\n",
    "    \n",
    "    # Simula las trayectorias\n",
    "    sqdt_sigma = math.sqrt(dt) * sigma\n",
    "    gamma_dt = gamma * dt\n",
    "    sim = np.zeros((num_sim, num_steps))\n",
    "    for i in range(0, num_sim):\n",
    "        sim[i][0] = r0\n",
    "        r = r0\n",
    "        for j in range(1, num_steps):\n",
    "            r = r + theta_array[j - 1] * dt - gamma_dt * r + sqdt_sigma * alea[i][j - 1]\n",
    "            sim[i][j] = r\n",
    "    return tiempo, sim"
   ]
  },
  {
   "cell_type": "code",
   "execution_count": 6,
   "metadata": {
    "ExecuteTime": {
     "end_time": "2020-12-17T21:06:53.446013Z",
     "start_time": "2020-12-17T21:06:53.441268Z"
    }
   },
   "outputs": [],
   "source": [
    "# Codigo B\n",
    "def b_hw(gamma: float, t: float, T: float) -> float:\n",
    "    \"\"\"\n",
    "    Calcula el valor de la función B(t,T) \n",
    "\n",
    "    \"\"\"\n",
    "    aux = 1 - math.exp(- gamma * (T - t))\n",
    "    return aux / gamma"
   ]
  },
  {
   "cell_type": "markdown",
   "metadata": {},
   "source": [
    "A, se calcula de la forma: \n",
    "$$\n",
    "\\begin{equation}\n",
    "A\\left(t,T\\right)=\\log\\frac{Z\\left(r_0,0,T\\right)}{Z\\left(r_0,0,t\\right)}+B\\left(t,T\\right)f\\left(0,t\\right)-\\frac{\\sigma^2}{4\\gamma^*}B\\left(t,T\\right)^2\\left[1-\\exp\\left(-2\\gamma^* T\\right)\\right)]\n",
    "\\end{equation}\n",
    "$$"
   ]
  },
  {
   "cell_type": "code",
   "execution_count": 7,
   "metadata": {
    "ExecuteTime": {
     "end_time": "2020-12-17T21:06:53.454468Z",
     "start_time": "2020-12-17T21:06:53.448118Z"
    }
   },
   "outputs": [],
   "source": [
    "# Codigo de A\n",
    "\n",
    "def a_hw(zrate: float, fwd, gamma: float, sigma: float, t: float, T: float,\n",
    "         verbose = False):\n",
    "    \"\"\"\n",
    "    verbose: cuando es True imprime los valores de c1, c2 y c3.\n",
    "    \"\"\"\n",
    "    b = b_hw(gamma, t, T)\n",
    "    dfT = math.exp(-zrate(T) * T)\n",
    "    dft = math.exp(-zrate(t) * t)\n",
    "    c1 = math.log(dfT / dft)\n",
    "    c2 = b * fwd(t)\n",
    "    c3 = (sigma**2) / (4 * gamma) * (b**2) * (1 - math.exp(-2 * gamma * t))\n",
    "    if verbose:\n",
    "        print(\"c1: \" + str(c1))\n",
    "        print(\"c2: \" + str(c2))\n",
    "        print(\"c3: \" + str(c3))\n",
    "    return c1 + c2 - c3\n"
   ]
  },
  {
   "cell_type": "markdown",
   "metadata": {
    "ExecuteTime": {
     "end_time": "2020-12-04T06:23:10.991174Z",
     "start_time": "2020-12-04T06:23:10.986119Z"
    }
   },
   "source": [
    "El valor de un Bono Cero Cupon esta dado por:\n",
    "\n",
    "$$\n",
    "\\begin{equation}\n",
    "Z\\left(r_t,t,T\\right)=\\exp\\left[A\\left(t,T\\right)-B\\left(t,T\\right)r_t\\right]\n",
    "\\end{equation}\n",
    "$$\n"
   ]
  },
  {
   "cell_type": "code",
   "execution_count": 8,
   "metadata": {
    "ExecuteTime": {
     "end_time": "2020-12-17T21:06:53.460920Z",
     "start_time": "2020-12-17T21:06:53.456564Z"
    }
   },
   "outputs": [],
   "source": [
    "# Valorizacion cupon\n",
    "def zero_hw(r: float, gamma: float, sigma: float,\n",
    "            zrate: float, fwd: float, t: float, T: float) -> float:\n",
    "    a = a_hw(zrate, fwd, gamma, sigma, t, T)\n",
    "    b = b_hw(gamma, t, T)\n",
    "    return math.exp(a - b * r)\n"
   ]
  },
  {
   "cell_type": "markdown",
   "metadata": {},
   "source": [
    "Hemos definido todas las funciones, por lo que procederemos a indicar las fórmulas asociadas al modelo."
   ]
  },
  {
   "cell_type": "markdown",
   "metadata": {},
   "source": [
    "El modelo sigue un proceso estocastico dado de la siguiente forma:\n",
    "    \n",
    "$$\n",
    "\\begin{equation}\n",
    "dr_t=\\left(\\theta_t-\\gamma^* r_t\\right)dt+\\sigma dX_t\n",
    "\\end{equation}\n",
    "$$\n",
    "\n",
    "donde la función $\\theta_{t}$ esta dada por:\n",
    "\n",
    "$$\n",
    "\\begin{equation}\n",
    "\\theta_{t}=\\frac{\\partial f(0,t)}{\\partial t}+\\gamma^*f(0,t)+\\frac{\\sigma^2}{2\\gamma^*}\\left[1-\\exp(-2\\gamma^*t)\\right]\n",
    "\\end{equation}\n",
    "$$"
   ]
  },
  {
   "cell_type": "markdown",
   "metadata": {},
   "source": [
    "$$\n",
    "\\frac{\\partial f\\left(0,t\\right)}{\\partial t}=\\frac{\\partial^2 r\\left(0,t\\right) }{\\partial t^2}t+2\\frac{\\partial r\\left(0,t\\right) }{\\partial t}\n",
    "$$"
   ]
  },
  {
   "cell_type": "markdown",
   "metadata": {
    "ExecuteTime": {
     "end_time": "2020-12-04T06:12:45.359886Z",
     "start_time": "2020-12-04T06:12:45.351807Z"
    }
   },
   "source": [
    "$$f(0,t)=r(0,t)+t\\frac{\\partial r(0,t)}{\\partial t}$$\n",
    "\n",
    "$$\\frac{\\partial f(0,t)}{\\partial t}=2\\frac{\\partial r(0,t)}{\\partial t}+t\\frac{\\partial^2r(0,t)}{\\partial t^2}$$"
   ]
  },
  {
   "cell_type": "markdown",
   "metadata": {},
   "source": [
    "## Procedemos a cargar la data y a procesarla."
   ]
  },
  {
   "cell_type": "code",
   "execution_count": 9,
   "metadata": {
    "ExecuteTime": {
     "end_time": "2020-12-17T21:06:53.547684Z",
     "start_time": "2020-12-17T21:06:53.462673Z"
    }
   },
   "outputs": [
    {
     "data": {
      "text/html": [
       "<style  type=\"text/css\" >\n",
       "</style><table id=\"T_c9de72fc_40ab_11eb_b2e6_02cba411ec9d\" ><thead>    <tr>        <th class=\"blank level0\" ></th>        <th class=\"col_heading level0 col0\" >plazo</th>        <th class=\"col_heading level0 col1\" >tasa</th>        <th class=\"col_heading level0 col2\" >df</th>        <th class=\"col_heading level0 col3\" >t</th>        <th class=\"col_heading level0 col4\" >rate</th>    </tr></thead><tbody>\n",
       "                <tr>\n",
       "                        <th id=\"T_c9de72fc_40ab_11eb_b2e6_02cba411ec9dlevel0_row0\" class=\"row_heading level0 row0\" >0</th>\n",
       "                        <td id=\"T_c9de72fc_40ab_11eb_b2e6_02cba411ec9drow0_col0\" class=\"data row0 col0\" >1</td>\n",
       "                        <td id=\"T_c9de72fc_40ab_11eb_b2e6_02cba411ec9drow0_col1\" class=\"data row0 col1\" >0.0811%</td>\n",
       "                        <td id=\"T_c9de72fc_40ab_11eb_b2e6_02cba411ec9drow0_col2\" class=\"data row0 col2\" >99.999778%</td>\n",
       "                        <td id=\"T_c9de72fc_40ab_11eb_b2e6_02cba411ec9drow0_col3\" class=\"data row0 col3\" >0.002740</td>\n",
       "                        <td id=\"T_c9de72fc_40ab_11eb_b2e6_02cba411ec9drow0_col4\" class=\"data row0 col4\" >0.000811</td>\n",
       "            </tr>\n",
       "            <tr>\n",
       "                        <th id=\"T_c9de72fc_40ab_11eb_b2e6_02cba411ec9dlevel0_row1\" class=\"row_heading level0 row1\" >1</th>\n",
       "                        <td id=\"T_c9de72fc_40ab_11eb_b2e6_02cba411ec9drow1_col0\" class=\"data row1 col0\" >7</td>\n",
       "                        <td id=\"T_c9de72fc_40ab_11eb_b2e6_02cba411ec9drow1_col1\" class=\"data row1 col1\" >0.0841%</td>\n",
       "                        <td id=\"T_c9de72fc_40ab_11eb_b2e6_02cba411ec9drow1_col2\" class=\"data row1 col2\" >99.998388%</td>\n",
       "                        <td id=\"T_c9de72fc_40ab_11eb_b2e6_02cba411ec9drow1_col3\" class=\"data row1 col3\" >0.019178</td>\n",
       "                        <td id=\"T_c9de72fc_40ab_11eb_b2e6_02cba411ec9drow1_col4\" class=\"data row1 col4\" >0.000841</td>\n",
       "            </tr>\n",
       "            <tr>\n",
       "                        <th id=\"T_c9de72fc_40ab_11eb_b2e6_02cba411ec9dlevel0_row2\" class=\"row_heading level0 row2\" >2</th>\n",
       "                        <td id=\"T_c9de72fc_40ab_11eb_b2e6_02cba411ec9drow2_col0\" class=\"data row2 col0\" >14</td>\n",
       "                        <td id=\"T_c9de72fc_40ab_11eb_b2e6_02cba411ec9drow2_col1\" class=\"data row2 col1\" >0.0780%</td>\n",
       "                        <td id=\"T_c9de72fc_40ab_11eb_b2e6_02cba411ec9drow2_col2\" class=\"data row2 col2\" >99.997010%</td>\n",
       "                        <td id=\"T_c9de72fc_40ab_11eb_b2e6_02cba411ec9drow2_col3\" class=\"data row2 col3\" >0.038356</td>\n",
       "                        <td id=\"T_c9de72fc_40ab_11eb_b2e6_02cba411ec9drow2_col4\" class=\"data row2 col4\" >0.000780</td>\n",
       "            </tr>\n",
       "            <tr>\n",
       "                        <th id=\"T_c9de72fc_40ab_11eb_b2e6_02cba411ec9dlevel0_row3\" class=\"row_heading level0 row3\" >3</th>\n",
       "                        <td id=\"T_c9de72fc_40ab_11eb_b2e6_02cba411ec9drow3_col0\" class=\"data row3 col0\" >21</td>\n",
       "                        <td id=\"T_c9de72fc_40ab_11eb_b2e6_02cba411ec9drow3_col1\" class=\"data row3 col1\" >0.0774%</td>\n",
       "                        <td id=\"T_c9de72fc_40ab_11eb_b2e6_02cba411ec9drow3_col2\" class=\"data row3 col2\" >99.995549%</td>\n",
       "                        <td id=\"T_c9de72fc_40ab_11eb_b2e6_02cba411ec9drow3_col3\" class=\"data row3 col3\" >0.057534</td>\n",
       "                        <td id=\"T_c9de72fc_40ab_11eb_b2e6_02cba411ec9drow3_col4\" class=\"data row3 col4\" >0.000774</td>\n",
       "            </tr>\n",
       "            <tr>\n",
       "                        <th id=\"T_c9de72fc_40ab_11eb_b2e6_02cba411ec9dlevel0_row4\" class=\"row_heading level0 row4\" >4</th>\n",
       "                        <td id=\"T_c9de72fc_40ab_11eb_b2e6_02cba411ec9drow4_col0\" class=\"data row4 col0\" >33</td>\n",
       "                        <td id=\"T_c9de72fc_40ab_11eb_b2e6_02cba411ec9drow4_col1\" class=\"data row4 col1\" >0.0781%</td>\n",
       "                        <td id=\"T_c9de72fc_40ab_11eb_b2e6_02cba411ec9drow4_col2\" class=\"data row4 col2\" >99.992942%</td>\n",
       "                        <td id=\"T_c9de72fc_40ab_11eb_b2e6_02cba411ec9drow4_col3\" class=\"data row4 col3\" >0.090411</td>\n",
       "                        <td id=\"T_c9de72fc_40ab_11eb_b2e6_02cba411ec9drow4_col4\" class=\"data row4 col4\" >0.000781</td>\n",
       "            </tr>\n",
       "            <tr>\n",
       "                        <th id=\"T_c9de72fc_40ab_11eb_b2e6_02cba411ec9dlevel0_row5\" class=\"row_heading level0 row5\" >5</th>\n",
       "                        <td id=\"T_c9de72fc_40ab_11eb_b2e6_02cba411ec9drow5_col0\" class=\"data row5 col0\" >61</td>\n",
       "                        <td id=\"T_c9de72fc_40ab_11eb_b2e6_02cba411ec9drow5_col1\" class=\"data row5 col1\" >0.0781%</td>\n",
       "                        <td id=\"T_c9de72fc_40ab_11eb_b2e6_02cba411ec9drow5_col2\" class=\"data row5 col2\" >99.986954%</td>\n",
       "                        <td id=\"T_c9de72fc_40ab_11eb_b2e6_02cba411ec9drow5_col3\" class=\"data row5 col3\" >0.167123</td>\n",
       "                        <td id=\"T_c9de72fc_40ab_11eb_b2e6_02cba411ec9drow5_col4\" class=\"data row5 col4\" >0.000781</td>\n",
       "            </tr>\n",
       "            <tr>\n",
       "                        <th id=\"T_c9de72fc_40ab_11eb_b2e6_02cba411ec9dlevel0_row6\" class=\"row_heading level0 row6\" >6</th>\n",
       "                        <td id=\"T_c9de72fc_40ab_11eb_b2e6_02cba411ec9drow6_col0\" class=\"data row6 col0\" >92</td>\n",
       "                        <td id=\"T_c9de72fc_40ab_11eb_b2e6_02cba411ec9drow6_col1\" class=\"data row6 col1\" >0.0811%</td>\n",
       "                        <td id=\"T_c9de72fc_40ab_11eb_b2e6_02cba411ec9drow6_col2\" class=\"data row6 col2\" >99.979560%</td>\n",
       "                        <td id=\"T_c9de72fc_40ab_11eb_b2e6_02cba411ec9drow6_col3\" class=\"data row6 col3\" >0.252055</td>\n",
       "                        <td id=\"T_c9de72fc_40ab_11eb_b2e6_02cba411ec9drow6_col4\" class=\"data row6 col4\" >0.000811</td>\n",
       "            </tr>\n",
       "            <tr>\n",
       "                        <th id=\"T_c9de72fc_40ab_11eb_b2e6_02cba411ec9dlevel0_row7\" class=\"row_heading level0 row7\" >7</th>\n",
       "                        <td id=\"T_c9de72fc_40ab_11eb_b2e6_02cba411ec9drow7_col0\" class=\"data row7 col0\" >125</td>\n",
       "                        <td id=\"T_c9de72fc_40ab_11eb_b2e6_02cba411ec9drow7_col1\" class=\"data row7 col1\" >0.0781%</td>\n",
       "                        <td id=\"T_c9de72fc_40ab_11eb_b2e6_02cba411ec9drow7_col2\" class=\"data row7 col2\" >99.973271%</td>\n",
       "                        <td id=\"T_c9de72fc_40ab_11eb_b2e6_02cba411ec9drow7_col3\" class=\"data row7 col3\" >0.342466</td>\n",
       "                        <td id=\"T_c9de72fc_40ab_11eb_b2e6_02cba411ec9drow7_col4\" class=\"data row7 col4\" >0.000781</td>\n",
       "            </tr>\n",
       "            <tr>\n",
       "                        <th id=\"T_c9de72fc_40ab_11eb_b2e6_02cba411ec9dlevel0_row8\" class=\"row_heading level0 row8\" >8</th>\n",
       "                        <td id=\"T_c9de72fc_40ab_11eb_b2e6_02cba411ec9drow8_col0\" class=\"data row8 col0\" >152</td>\n",
       "                        <td id=\"T_c9de72fc_40ab_11eb_b2e6_02cba411ec9drow8_col1\" class=\"data row8 col1\" >0.0760%</td>\n",
       "                        <td id=\"T_c9de72fc_40ab_11eb_b2e6_02cba411ec9drow8_col2\" class=\"data row8 col2\" >99.968343%</td>\n",
       "                        <td id=\"T_c9de72fc_40ab_11eb_b2e6_02cba411ec9drow8_col3\" class=\"data row8 col3\" >0.416438</td>\n",
       "                        <td id=\"T_c9de72fc_40ab_11eb_b2e6_02cba411ec9drow8_col4\" class=\"data row8 col4\" >0.000760</td>\n",
       "            </tr>\n",
       "            <tr>\n",
       "                        <th id=\"T_c9de72fc_40ab_11eb_b2e6_02cba411ec9dlevel0_row9\" class=\"row_heading level0 row9\" >9</th>\n",
       "                        <td id=\"T_c9de72fc_40ab_11eb_b2e6_02cba411ec9drow9_col0\" class=\"data row9 col0\" >182</td>\n",
       "                        <td id=\"T_c9de72fc_40ab_11eb_b2e6_02cba411ec9drow9_col1\" class=\"data row9 col1\" >0.0750%</td>\n",
       "                        <td id=\"T_c9de72fc_40ab_11eb_b2e6_02cba411ec9drow9_col2\" class=\"data row9 col2\" >99.962603%</td>\n",
       "                        <td id=\"T_c9de72fc_40ab_11eb_b2e6_02cba411ec9drow9_col3\" class=\"data row9 col3\" >0.498630</td>\n",
       "                        <td id=\"T_c9de72fc_40ab_11eb_b2e6_02cba411ec9drow9_col4\" class=\"data row9 col4\" >0.000750</td>\n",
       "            </tr>\n",
       "            <tr>\n",
       "                        <th id=\"T_c9de72fc_40ab_11eb_b2e6_02cba411ec9dlevel0_row10\" class=\"row_heading level0 row10\" >10</th>\n",
       "                        <td id=\"T_c9de72fc_40ab_11eb_b2e6_02cba411ec9drow10_col0\" class=\"data row10 col0\" >212</td>\n",
       "                        <td id=\"T_c9de72fc_40ab_11eb_b2e6_02cba411ec9drow10_col1\" class=\"data row10 col1\" >0.0736%</td>\n",
       "                        <td id=\"T_c9de72fc_40ab_11eb_b2e6_02cba411ec9drow10_col2\" class=\"data row10 col2\" >99.957265%</td>\n",
       "                        <td id=\"T_c9de72fc_40ab_11eb_b2e6_02cba411ec9drow10_col3\" class=\"data row10 col3\" >0.580822</td>\n",
       "                        <td id=\"T_c9de72fc_40ab_11eb_b2e6_02cba411ec9drow10_col4\" class=\"data row10 col4\" >0.000736</td>\n",
       "            </tr>\n",
       "            <tr>\n",
       "                        <th id=\"T_c9de72fc_40ab_11eb_b2e6_02cba411ec9dlevel0_row11\" class=\"row_heading level0 row11\" >11</th>\n",
       "                        <td id=\"T_c9de72fc_40ab_11eb_b2e6_02cba411ec9drow11_col0\" class=\"data row11 col0\" >243</td>\n",
       "                        <td id=\"T_c9de72fc_40ab_11eb_b2e6_02cba411ec9drow11_col1\" class=\"data row11 col1\" >0.0725%</td>\n",
       "                        <td id=\"T_c9de72fc_40ab_11eb_b2e6_02cba411ec9drow11_col2\" class=\"data row11 col2\" >99.951761%</td>\n",
       "                        <td id=\"T_c9de72fc_40ab_11eb_b2e6_02cba411ec9drow11_col3\" class=\"data row11 col3\" >0.665753</td>\n",
       "                        <td id=\"T_c9de72fc_40ab_11eb_b2e6_02cba411ec9drow11_col4\" class=\"data row11 col4\" >0.000725</td>\n",
       "            </tr>\n",
       "            <tr>\n",
       "                        <th id=\"T_c9de72fc_40ab_11eb_b2e6_02cba411ec9dlevel0_row12\" class=\"row_heading level0 row12\" >12</th>\n",
       "                        <td id=\"T_c9de72fc_40ab_11eb_b2e6_02cba411ec9drow12_col0\" class=\"data row12 col0\" >273</td>\n",
       "                        <td id=\"T_c9de72fc_40ab_11eb_b2e6_02cba411ec9drow12_col1\" class=\"data row12 col1\" >0.0720%</td>\n",
       "                        <td id=\"T_c9de72fc_40ab_11eb_b2e6_02cba411ec9drow12_col2\" class=\"data row12 col2\" >99.946187%</td>\n",
       "                        <td id=\"T_c9de72fc_40ab_11eb_b2e6_02cba411ec9drow12_col3\" class=\"data row12 col3\" >0.747945</td>\n",
       "                        <td id=\"T_c9de72fc_40ab_11eb_b2e6_02cba411ec9drow12_col4\" class=\"data row12 col4\" >0.000720</td>\n",
       "            </tr>\n",
       "            <tr>\n",
       "                        <th id=\"T_c9de72fc_40ab_11eb_b2e6_02cba411ec9dlevel0_row13\" class=\"row_heading level0 row13\" >13</th>\n",
       "                        <td id=\"T_c9de72fc_40ab_11eb_b2e6_02cba411ec9drow13_col0\" class=\"data row13 col0\" >306</td>\n",
       "                        <td id=\"T_c9de72fc_40ab_11eb_b2e6_02cba411ec9drow13_col1\" class=\"data row13 col1\" >0.0714%</td>\n",
       "                        <td id=\"T_c9de72fc_40ab_11eb_b2e6_02cba411ec9drow13_col2\" class=\"data row13 col2\" >99.940196%</td>\n",
       "                        <td id=\"T_c9de72fc_40ab_11eb_b2e6_02cba411ec9drow13_col3\" class=\"data row13 col3\" >0.838356</td>\n",
       "                        <td id=\"T_c9de72fc_40ab_11eb_b2e6_02cba411ec9drow13_col4\" class=\"data row13 col4\" >0.000714</td>\n",
       "            </tr>\n",
       "            <tr>\n",
       "                        <th id=\"T_c9de72fc_40ab_11eb_b2e6_02cba411ec9dlevel0_row14\" class=\"row_heading level0 row14\" >14</th>\n",
       "                        <td id=\"T_c9de72fc_40ab_11eb_b2e6_02cba411ec9drow14_col0\" class=\"data row14 col0\" >335</td>\n",
       "                        <td id=\"T_c9de72fc_40ab_11eb_b2e6_02cba411ec9drow14_col1\" class=\"data row14 col1\" >0.0708%</td>\n",
       "                        <td id=\"T_c9de72fc_40ab_11eb_b2e6_02cba411ec9drow14_col2\" class=\"data row14 col2\" >99.934996%</td>\n",
       "                        <td id=\"T_c9de72fc_40ab_11eb_b2e6_02cba411ec9drow14_col3\" class=\"data row14 col3\" >0.917808</td>\n",
       "                        <td id=\"T_c9de72fc_40ab_11eb_b2e6_02cba411ec9drow14_col4\" class=\"data row14 col4\" >0.000708</td>\n",
       "            </tr>\n",
       "            <tr>\n",
       "                        <th id=\"T_c9de72fc_40ab_11eb_b2e6_02cba411ec9dlevel0_row15\" class=\"row_heading level0 row15\" >15</th>\n",
       "                        <td id=\"T_c9de72fc_40ab_11eb_b2e6_02cba411ec9drow15_col0\" class=\"data row15 col0\" >365</td>\n",
       "                        <td id=\"T_c9de72fc_40ab_11eb_b2e6_02cba411ec9drow15_col1\" class=\"data row15 col1\" >0.0702%</td>\n",
       "                        <td id=\"T_c9de72fc_40ab_11eb_b2e6_02cba411ec9drow15_col2\" class=\"data row15 col2\" >99.929787%</td>\n",
       "                        <td id=\"T_c9de72fc_40ab_11eb_b2e6_02cba411ec9drow15_col3\" class=\"data row15 col3\" >1.000000</td>\n",
       "                        <td id=\"T_c9de72fc_40ab_11eb_b2e6_02cba411ec9drow15_col4\" class=\"data row15 col4\" >0.000702</td>\n",
       "            </tr>\n",
       "            <tr>\n",
       "                        <th id=\"T_c9de72fc_40ab_11eb_b2e6_02cba411ec9dlevel0_row16\" class=\"row_heading level0 row16\" >16</th>\n",
       "                        <td id=\"T_c9de72fc_40ab_11eb_b2e6_02cba411ec9drow16_col0\" class=\"data row16 col0\" >547</td>\n",
       "                        <td id=\"T_c9de72fc_40ab_11eb_b2e6_02cba411ec9drow16_col1\" class=\"data row16 col1\" >0.0642%</td>\n",
       "                        <td id=\"T_c9de72fc_40ab_11eb_b2e6_02cba411ec9drow16_col2\" class=\"data row16 col2\" >99.903893%</td>\n",
       "                        <td id=\"T_c9de72fc_40ab_11eb_b2e6_02cba411ec9drow16_col3\" class=\"data row16 col3\" >1.498630</td>\n",
       "                        <td id=\"T_c9de72fc_40ab_11eb_b2e6_02cba411ec9drow16_col4\" class=\"data row16 col4\" >0.000642</td>\n",
       "            </tr>\n",
       "            <tr>\n",
       "                        <th id=\"T_c9de72fc_40ab_11eb_b2e6_02cba411ec9dlevel0_row17\" class=\"row_heading level0 row17\" >17</th>\n",
       "                        <td id=\"T_c9de72fc_40ab_11eb_b2e6_02cba411ec9drow17_col0\" class=\"data row17 col0\" >730</td>\n",
       "                        <td id=\"T_c9de72fc_40ab_11eb_b2e6_02cba411ec9drow17_col1\" class=\"data row17 col1\" >0.0568%</td>\n",
       "                        <td id=\"T_c9de72fc_40ab_11eb_b2e6_02cba411ec9drow17_col2\" class=\"data row17 col2\" >99.886549%</td>\n",
       "                        <td id=\"T_c9de72fc_40ab_11eb_b2e6_02cba411ec9drow17_col3\" class=\"data row17 col3\" >2.000000</td>\n",
       "                        <td id=\"T_c9de72fc_40ab_11eb_b2e6_02cba411ec9drow17_col4\" class=\"data row17 col4\" >0.000568</td>\n",
       "            </tr>\n",
       "            <tr>\n",
       "                        <th id=\"T_c9de72fc_40ab_11eb_b2e6_02cba411ec9dlevel0_row18\" class=\"row_heading level0 row18\" >18</th>\n",
       "                        <td id=\"T_c9de72fc_40ab_11eb_b2e6_02cba411ec9drow18_col0\" class=\"data row18 col0\" >1097</td>\n",
       "                        <td id=\"T_c9de72fc_40ab_11eb_b2e6_02cba411ec9drow18_col1\" class=\"data row18 col1\" >0.0750%</td>\n",
       "                        <td id=\"T_c9de72fc_40ab_11eb_b2e6_02cba411ec9drow18_col2\" class=\"data row18 col2\" >99.774813%</td>\n",
       "                        <td id=\"T_c9de72fc_40ab_11eb_b2e6_02cba411ec9drow18_col3\" class=\"data row18 col3\" >3.005479</td>\n",
       "                        <td id=\"T_c9de72fc_40ab_11eb_b2e6_02cba411ec9drow18_col4\" class=\"data row18 col4\" >0.000750</td>\n",
       "            </tr>\n",
       "            <tr>\n",
       "                        <th id=\"T_c9de72fc_40ab_11eb_b2e6_02cba411ec9dlevel0_row19\" class=\"row_heading level0 row19\" >19</th>\n",
       "                        <td id=\"T_c9de72fc_40ab_11eb_b2e6_02cba411ec9drow19_col0\" class=\"data row19 col0\" >1462</td>\n",
       "                        <td id=\"T_c9de72fc_40ab_11eb_b2e6_02cba411ec9drow19_col1\" class=\"data row19 col1\" >0.1258%</td>\n",
       "                        <td id=\"T_c9de72fc_40ab_11eb_b2e6_02cba411ec9drow19_col2\" class=\"data row19 col2\" >99.497569%</td>\n",
       "                        <td id=\"T_c9de72fc_40ab_11eb_b2e6_02cba411ec9drow19_col3\" class=\"data row19 col3\" >4.005479</td>\n",
       "                        <td id=\"T_c9de72fc_40ab_11eb_b2e6_02cba411ec9drow19_col4\" class=\"data row19 col4\" >0.001258</td>\n",
       "            </tr>\n",
       "            <tr>\n",
       "                        <th id=\"T_c9de72fc_40ab_11eb_b2e6_02cba411ec9dlevel0_row20\" class=\"row_heading level0 row20\" >20</th>\n",
       "                        <td id=\"T_c9de72fc_40ab_11eb_b2e6_02cba411ec9drow20_col0\" class=\"data row20 col0\" >1826</td>\n",
       "                        <td id=\"T_c9de72fc_40ab_11eb_b2e6_02cba411ec9drow20_col1\" class=\"data row20 col1\" >0.1939%</td>\n",
       "                        <td id=\"T_c9de72fc_40ab_11eb_b2e6_02cba411ec9drow20_col2\" class=\"data row20 col2\" >99.034837%</td>\n",
       "                        <td id=\"T_c9de72fc_40ab_11eb_b2e6_02cba411ec9drow20_col3\" class=\"data row20 col3\" >5.002740</td>\n",
       "                        <td id=\"T_c9de72fc_40ab_11eb_b2e6_02cba411ec9drow20_col4\" class=\"data row20 col4\" >0.001939</td>\n",
       "            </tr>\n",
       "            <tr>\n",
       "                        <th id=\"T_c9de72fc_40ab_11eb_b2e6_02cba411ec9dlevel0_row21\" class=\"row_heading level0 row21\" >21</th>\n",
       "                        <td id=\"T_c9de72fc_40ab_11eb_b2e6_02cba411ec9drow21_col0\" class=\"data row21 col0\" >2191</td>\n",
       "                        <td id=\"T_c9de72fc_40ab_11eb_b2e6_02cba411ec9drow21_col1\" class=\"data row21 col1\" >0.2775%</td>\n",
       "                        <td id=\"T_c9de72fc_40ab_11eb_b2e6_02cba411ec9drow21_col2\" class=\"data row21 col2\" >98.348253%</td>\n",
       "                        <td id=\"T_c9de72fc_40ab_11eb_b2e6_02cba411ec9drow21_col3\" class=\"data row21 col3\" >6.002740</td>\n",
       "                        <td id=\"T_c9de72fc_40ab_11eb_b2e6_02cba411ec9drow21_col4\" class=\"data row21 col4\" >0.002775</td>\n",
       "            </tr>\n",
       "            <tr>\n",
       "                        <th id=\"T_c9de72fc_40ab_11eb_b2e6_02cba411ec9dlevel0_row22\" class=\"row_heading level0 row22\" >22</th>\n",
       "                        <td id=\"T_c9de72fc_40ab_11eb_b2e6_02cba411ec9drow22_col0\" class=\"data row22 col0\" >2556</td>\n",
       "                        <td id=\"T_c9de72fc_40ab_11eb_b2e6_02cba411ec9drow22_col1\" class=\"data row22 col1\" >0.3603%</td>\n",
       "                        <td id=\"T_c9de72fc_40ab_11eb_b2e6_02cba411ec9drow22_col2\" class=\"data row22 col2\" >97.508202%</td>\n",
       "                        <td id=\"T_c9de72fc_40ab_11eb_b2e6_02cba411ec9drow22_col3\" class=\"data row22 col3\" >7.002740</td>\n",
       "                        <td id=\"T_c9de72fc_40ab_11eb_b2e6_02cba411ec9drow22_col4\" class=\"data row22 col4\" >0.003603</td>\n",
       "            </tr>\n",
       "            <tr>\n",
       "                        <th id=\"T_c9de72fc_40ab_11eb_b2e6_02cba411ec9dlevel0_row23\" class=\"row_heading level0 row23\" >23</th>\n",
       "                        <td id=\"T_c9de72fc_40ab_11eb_b2e6_02cba411ec9drow23_col0\" class=\"data row23 col0\" >2924</td>\n",
       "                        <td id=\"T_c9de72fc_40ab_11eb_b2e6_02cba411ec9drow23_col1\" class=\"data row23 col1\" >0.4384%</td>\n",
       "                        <td id=\"T_c9de72fc_40ab_11eb_b2e6_02cba411ec9drow23_col2\" class=\"data row23 col2\" >96.548853%</td>\n",
       "                        <td id=\"T_c9de72fc_40ab_11eb_b2e6_02cba411ec9drow23_col3\" class=\"data row23 col3\" >8.010959</td>\n",
       "                        <td id=\"T_c9de72fc_40ab_11eb_b2e6_02cba411ec9drow23_col4\" class=\"data row23 col4\" >0.004384</td>\n",
       "            </tr>\n",
       "            <tr>\n",
       "                        <th id=\"T_c9de72fc_40ab_11eb_b2e6_02cba411ec9dlevel0_row24\" class=\"row_heading level0 row24\" >24</th>\n",
       "                        <td id=\"T_c9de72fc_40ab_11eb_b2e6_02cba411ec9drow24_col0\" class=\"data row24 col0\" >3288</td>\n",
       "                        <td id=\"T_c9de72fc_40ab_11eb_b2e6_02cba411ec9drow24_col1\" class=\"data row24 col1\" >0.5117%</td>\n",
       "                        <td id=\"T_c9de72fc_40ab_11eb_b2e6_02cba411ec9drow24_col2\" class=\"data row24 col2\" >95.495266%</td>\n",
       "                        <td id=\"T_c9de72fc_40ab_11eb_b2e6_02cba411ec9drow24_col3\" class=\"data row24 col3\" >9.008219</td>\n",
       "                        <td id=\"T_c9de72fc_40ab_11eb_b2e6_02cba411ec9drow24_col4\" class=\"data row24 col4\" >0.005117</td>\n",
       "            </tr>\n",
       "            <tr>\n",
       "                        <th id=\"T_c9de72fc_40ab_11eb_b2e6_02cba411ec9dlevel0_row25\" class=\"row_heading level0 row25\" >25</th>\n",
       "                        <td id=\"T_c9de72fc_40ab_11eb_b2e6_02cba411ec9drow25_col0\" class=\"data row25 col0\" >3653</td>\n",
       "                        <td id=\"T_c9de72fc_40ab_11eb_b2e6_02cba411ec9drow25_col1\" class=\"data row25 col1\" >0.5812%</td>\n",
       "                        <td id=\"T_c9de72fc_40ab_11eb_b2e6_02cba411ec9drow25_col2\" class=\"data row25 col2\" >94.349488%</td>\n",
       "                        <td id=\"T_c9de72fc_40ab_11eb_b2e6_02cba411ec9drow25_col3\" class=\"data row25 col3\" >10.008219</td>\n",
       "                        <td id=\"T_c9de72fc_40ab_11eb_b2e6_02cba411ec9drow25_col4\" class=\"data row25 col4\" >0.005812</td>\n",
       "            </tr>\n",
       "            <tr>\n",
       "                        <th id=\"T_c9de72fc_40ab_11eb_b2e6_02cba411ec9dlevel0_row26\" class=\"row_heading level0 row26\" >26</th>\n",
       "                        <td id=\"T_c9de72fc_40ab_11eb_b2e6_02cba411ec9drow26_col0\" class=\"data row26 col0\" >4383</td>\n",
       "                        <td id=\"T_c9de72fc_40ab_11eb_b2e6_02cba411ec9drow26_col1\" class=\"data row26 col1\" >0.6917%</td>\n",
       "                        <td id=\"T_c9de72fc_40ab_11eb_b2e6_02cba411ec9drow26_col2\" class=\"data row26 col2\" >92.028980%</td>\n",
       "                        <td id=\"T_c9de72fc_40ab_11eb_b2e6_02cba411ec9drow26_col3\" class=\"data row26 col3\" >12.008219</td>\n",
       "                        <td id=\"T_c9de72fc_40ab_11eb_b2e6_02cba411ec9drow26_col4\" class=\"data row26 col4\" >0.006917</td>\n",
       "            </tr>\n",
       "            <tr>\n",
       "                        <th id=\"T_c9de72fc_40ab_11eb_b2e6_02cba411ec9dlevel0_row27\" class=\"row_heading level0 row27\" >27</th>\n",
       "                        <td id=\"T_c9de72fc_40ab_11eb_b2e6_02cba411ec9drow27_col0\" class=\"data row27 col0\" >5479</td>\n",
       "                        <td id=\"T_c9de72fc_40ab_11eb_b2e6_02cba411ec9drow27_col1\" class=\"data row27 col1\" >0.8064%</td>\n",
       "                        <td id=\"T_c9de72fc_40ab_11eb_b2e6_02cba411ec9drow27_col2\" class=\"data row27 col2\" >88.599741%</td>\n",
       "                        <td id=\"T_c9de72fc_40ab_11eb_b2e6_02cba411ec9drow27_col3\" class=\"data row27 col3\" >15.010959</td>\n",
       "                        <td id=\"T_c9de72fc_40ab_11eb_b2e6_02cba411ec9drow27_col4\" class=\"data row27 col4\" >0.008064</td>\n",
       "            </tr>\n",
       "            <tr>\n",
       "                        <th id=\"T_c9de72fc_40ab_11eb_b2e6_02cba411ec9dlevel0_row28\" class=\"row_heading level0 row28\" >28</th>\n",
       "                        <td id=\"T_c9de72fc_40ab_11eb_b2e6_02cba411ec9drow28_col0\" class=\"data row28 col0\" >7306</td>\n",
       "                        <td id=\"T_c9de72fc_40ab_11eb_b2e6_02cba411ec9drow28_col1\" class=\"data row28 col1\" >0.9253%</td>\n",
       "                        <td id=\"T_c9de72fc_40ab_11eb_b2e6_02cba411ec9drow28_col2\" class=\"data row28 col2\" >83.092401%</td>\n",
       "                        <td id=\"T_c9de72fc_40ab_11eb_b2e6_02cba411ec9drow28_col3\" class=\"data row28 col3\" >20.016438</td>\n",
       "                        <td id=\"T_c9de72fc_40ab_11eb_b2e6_02cba411ec9drow28_col4\" class=\"data row28 col4\" >0.009253</td>\n",
       "            </tr>\n",
       "            <tr>\n",
       "                        <th id=\"T_c9de72fc_40ab_11eb_b2e6_02cba411ec9dlevel0_row29\" class=\"row_heading level0 row29\" >29</th>\n",
       "                        <td id=\"T_c9de72fc_40ab_11eb_b2e6_02cba411ec9drow29_col0\" class=\"data row29 col0\" >9133</td>\n",
       "                        <td id=\"T_c9de72fc_40ab_11eb_b2e6_02cba411ec9drow29_col1\" class=\"data row29 col1\" >0.9657%</td>\n",
       "                        <td id=\"T_c9de72fc_40ab_11eb_b2e6_02cba411ec9drow29_col2\" class=\"data row29 col2\" >78.533775%</td>\n",
       "                        <td id=\"T_c9de72fc_40ab_11eb_b2e6_02cba411ec9drow29_col3\" class=\"data row29 col3\" >25.021918</td>\n",
       "                        <td id=\"T_c9de72fc_40ab_11eb_b2e6_02cba411ec9drow29_col4\" class=\"data row29 col4\" >0.009657</td>\n",
       "            </tr>\n",
       "            <tr>\n",
       "                        <th id=\"T_c9de72fc_40ab_11eb_b2e6_02cba411ec9dlevel0_row30\" class=\"row_heading level0 row30\" >30</th>\n",
       "                        <td id=\"T_c9de72fc_40ab_11eb_b2e6_02cba411ec9drow30_col0\" class=\"data row30 col0\" >10957</td>\n",
       "                        <td id=\"T_c9de72fc_40ab_11eb_b2e6_02cba411ec9drow30_col1\" class=\"data row30 col1\" >0.9881%</td>\n",
       "                        <td id=\"T_c9de72fc_40ab_11eb_b2e6_02cba411ec9drow30_col2\" class=\"data row30 col2\" >74.332619%</td>\n",
       "                        <td id=\"T_c9de72fc_40ab_11eb_b2e6_02cba411ec9drow30_col3\" class=\"data row30 col3\" >30.019178</td>\n",
       "                        <td id=\"T_c9de72fc_40ab_11eb_b2e6_02cba411ec9drow30_col4\" class=\"data row30 col4\" >0.009881</td>\n",
       "            </tr>\n",
       "            <tr>\n",
       "                        <th id=\"T_c9de72fc_40ab_11eb_b2e6_02cba411ec9dlevel0_row31\" class=\"row_heading level0 row31\" >31</th>\n",
       "                        <td id=\"T_c9de72fc_40ab_11eb_b2e6_02cba411ec9drow31_col0\" class=\"data row31 col0\" >14610</td>\n",
       "                        <td id=\"T_c9de72fc_40ab_11eb_b2e6_02cba411ec9drow31_col1\" class=\"data row31 col1\" >0.9408%</td>\n",
       "                        <td id=\"T_c9de72fc_40ab_11eb_b2e6_02cba411ec9drow31_col2\" class=\"data row31 col2\" >68.619685%</td>\n",
       "                        <td id=\"T_c9de72fc_40ab_11eb_b2e6_02cba411ec9drow31_col3\" class=\"data row31 col3\" >40.027397</td>\n",
       "                        <td id=\"T_c9de72fc_40ab_11eb_b2e6_02cba411ec9drow31_col4\" class=\"data row31 col4\" >0.009408</td>\n",
       "            </tr>\n",
       "            <tr>\n",
       "                        <th id=\"T_c9de72fc_40ab_11eb_b2e6_02cba411ec9dlevel0_row32\" class=\"row_heading level0 row32\" >32</th>\n",
       "                        <td id=\"T_c9de72fc_40ab_11eb_b2e6_02cba411ec9drow32_col0\" class=\"data row32 col0\" >18262</td>\n",
       "                        <td id=\"T_c9de72fc_40ab_11eb_b2e6_02cba411ec9drow32_col1\" class=\"data row32 col1\" >0.8464%</td>\n",
       "                        <td id=\"T_c9de72fc_40ab_11eb_b2e6_02cba411ec9drow32_col2\" class=\"data row32 col2\" >65.475678%</td>\n",
       "                        <td id=\"T_c9de72fc_40ab_11eb_b2e6_02cba411ec9drow32_col3\" class=\"data row32 col3\" >50.032877</td>\n",
       "                        <td id=\"T_c9de72fc_40ab_11eb_b2e6_02cba411ec9drow32_col4\" class=\"data row32 col4\" >0.008464</td>\n",
       "            </tr>\n",
       "    </tbody></table>"
      ],
      "text/plain": [
       "<pandas.io.formats.style.Styler at 0x7f9ddf55d4e0>"
      ]
     },
     "execution_count": 9,
     "metadata": {},
     "output_type": "execute_result"
    }
   ],
   "source": [
    "# Data con la que se trabaja. \n",
    "curva = pd.read_excel('../data/20201012_built_sofr_zero.xlsx')\n",
    "frmt = {'tasa': '{:.4%}', 'df': '{:.6%}'}\n",
    "\n",
    "# Se calcula el tiempo y tasa de forma continua\n",
    "curva['t'] = curva['plazo'] / 365.0\n",
    "curva['rate'] = np.log(1 / curva['df'])/( curva['plazo'] / 365.0)\n",
    "\n",
    "zcurva = interp1d(curva['t'],\n",
    "                  curva['rate'],\n",
    "                  kind='cubic',\n",
    "                  fill_value=\"extrapolate\")\n",
    "\n",
    "curva.head(100).style.format(frmt)"
   ]
  },
  {
   "cell_type": "markdown",
   "metadata": {},
   "source": [
    "A continuacion se muestra la extrapolacion de todos los datos:"
   ]
  },
  {
   "cell_type": "code",
   "execution_count": 10,
   "metadata": {
    "ExecuteTime": {
     "end_time": "2020-12-17T21:06:53.584857Z",
     "start_time": "2020-12-17T21:06:53.549960Z"
    }
   },
   "outputs": [
    {
     "data": {
      "text/html": [
       "<div>\n",
       "<style scoped>\n",
       "    .dataframe tbody tr th:only-of-type {\n",
       "        vertical-align: middle;\n",
       "    }\n",
       "\n",
       "    .dataframe tbody tr th {\n",
       "        vertical-align: top;\n",
       "    }\n",
       "\n",
       "    .dataframe thead th {\n",
       "        text-align: right;\n",
       "    }\n",
       "</style>\n",
       "<table border=\"1\" class=\"dataframe\">\n",
       "  <thead>\n",
       "    <tr style=\"text-align: right;\">\n",
       "      <th></th>\n",
       "      <th>plazo</th>\n",
       "      <th>tasa</th>\n",
       "    </tr>\n",
       "  </thead>\n",
       "  <tbody>\n",
       "    <tr>\n",
       "      <th>0</th>\n",
       "      <td>0.000000</td>\n",
       "      <td>0.0007881405316711811</td>\n",
       "    </tr>\n",
       "    <tr>\n",
       "      <th>1</th>\n",
       "      <td>0.002740</td>\n",
       "      <td>0.0008111102098831921</td>\n",
       "    </tr>\n",
       "    <tr>\n",
       "      <th>2</th>\n",
       "      <td>0.005479</td>\n",
       "      <td>0.0008278198168317605</td>\n",
       "    </tr>\n",
       "    <tr>\n",
       "      <th>3</th>\n",
       "      <td>0.008219</td>\n",
       "      <td>0.0008389276473914464</td>\n",
       "    </tr>\n",
       "    <tr>\n",
       "      <th>4</th>\n",
       "      <td>0.010959</td>\n",
       "      <td>0.000845091996436812</td>\n",
       "    </tr>\n",
       "    <tr>\n",
       "      <th>...</th>\n",
       "      <td>...</td>\n",
       "      <td>...</td>\n",
       "    </tr>\n",
       "    <tr>\n",
       "      <th>360</th>\n",
       "      <td>0.986301</td>\n",
       "      <td>0.0007034755095980428</td>\n",
       "    </tr>\n",
       "    <tr>\n",
       "      <th>361</th>\n",
       "      <td>0.989041</td>\n",
       "      <td>0.0007032583236912854</td>\n",
       "    </tr>\n",
       "    <tr>\n",
       "      <th>362</th>\n",
       "      <td>0.991781</td>\n",
       "      <td>0.0007030399443477396</td>\n",
       "    </tr>\n",
       "    <tr>\n",
       "      <th>363</th>\n",
       "      <td>0.994521</td>\n",
       "      <td>0.00070282038501222</td>\n",
       "    </tr>\n",
       "    <tr>\n",
       "      <th>364</th>\n",
       "      <td>0.997260</td>\n",
       "      <td>0.0007025996591295411</td>\n",
       "    </tr>\n",
       "  </tbody>\n",
       "</table>\n",
       "<p>365 rows × 2 columns</p>\n",
       "</div>"
      ],
      "text/plain": [
       "        plazo                   tasa\n",
       "0    0.000000  0.0007881405316711811\n",
       "1    0.002740  0.0008111102098831921\n",
       "2    0.005479  0.0008278198168317605\n",
       "3    0.008219  0.0008389276473914464\n",
       "4    0.010959   0.000845091996436812\n",
       "..        ...                    ...\n",
       "360  0.986301  0.0007034755095980428\n",
       "361  0.989041  0.0007032583236912854\n",
       "362  0.991781  0.0007030399443477396\n",
       "363  0.994521    0.00070282038501222\n",
       "364  0.997260  0.0007025996591295411\n",
       "\n",
       "[365 rows x 2 columns]"
      ]
     },
     "execution_count": 10,
     "metadata": {},
     "output_type": "execute_result"
    }
   ],
   "source": [
    "steps_per_year = 365\n",
    "years = 1\n",
    "dt = 1 / steps_per_year\n",
    "result = []\n",
    "for i in range(0, steps_per_year * years):\n",
    "    result.append((i * dt, zcurva(i * dt)))\n",
    "df_result = pd.DataFrame(result, columns=['plazo', 'tasa'])\n",
    "df_result"
   ]
  },
  {
   "cell_type": "markdown",
   "metadata": {},
   "source": [
    "Recordar que la función $\\theta_{t}$ esta dada por:\n",
    "\n",
    "$$\n",
    "\\begin{equation}\n",
    "\\theta_{t}=\\frac{\\partial f(0,t)}{\\partial t}+\\gamma^*f(0,t)+\\frac{\\sigma^2}{2\\gamma^*}\\left[1-\\exp(-2\\gamma^*t)\\right]\n",
    "\\end{equation}\n",
    "$$\n",
    "\n",
    "lo cual se muestra en la siguiente linea de codigo:"
   ]
  },
  {
   "cell_type": "code",
   "execution_count": 11,
   "metadata": {
    "ExecuteTime": {
     "end_time": "2020-12-17T21:06:53.592992Z",
     "start_time": "2020-12-17T21:06:53.586737Z"
    }
   },
   "outputs": [
    {
     "name": "stdout",
     "output_type": "stream",
     "text": [
      "thetha(1.000)=0.01386%\n"
     ]
    }
   ],
   "source": [
    "# Parametros iniciales\n",
    "sigma = .015\n",
    "gamma = .5\n",
    "r0 = zrate(0)\n",
    "\n",
    "# Probamos que la funcion sirva\n",
    "t=1\n",
    "print(f\"thetha({t:.3f})={theta(t):.5%}\")"
   ]
  },
  {
   "cell_type": "markdown",
   "metadata": {
    "ExecuteTime": {
     "end_time": "2020-12-04T06:18:00.516725Z",
     "start_time": "2020-12-04T06:18:00.512991Z"
    }
   },
   "source": [
    "# Codigo Simulaciones de Montecarlo."
   ]
  },
  {
   "cell_type": "markdown",
   "metadata": {},
   "source": [
    "Nuevamente se muestra el codigo para realizar simulaciones de montecarlo."
   ]
  },
  {
   "cell_type": "code",
   "execution_count": 12,
   "metadata": {
    "ExecuteTime": {
     "end_time": "2020-12-17T21:06:53.603312Z",
     "start_time": "2020-12-17T21:06:53.594951Z"
    }
   },
   "outputs": [],
   "source": [
    "def sim_hw_many(gamma, sigma, theta, r0, num_sim, num_steps, seed = None):\n",
    "    \"\"\"\n",
    "    \"\"\"\n",
    "    dt = 1 / 264.0\n",
    "    num_steps += 1\n",
    "    \n",
    "    # Calcula los números aleatorios\n",
    "    alea = np.zeros((num_sim, num_steps))\n",
    "    rnd.seed(seed)\n",
    "\n",
    "    for i in range(0, num_sim):\n",
    "        for j in range(0, num_steps):\n",
    "            alea[i][j] = rnd.normal()\n",
    "            \n",
    "    # Calcula los valores de Theta. Theta sólo depende del tiempo, no de la simulación. \n",
    "    theta_array = np.zeros(num_steps)\n",
    "    tiempo = np.zeros(num_steps)\n",
    "    \n",
    "    # Se rellenan los instantes de tiempo\n",
    "    for i in range(0, num_steps):\n",
    "        tiempo[i] = i * dt\n",
    "        theta_array[i] = theta(i * dt)\n",
    "    \n",
    "    # Simula las trayectorias\n",
    "    sqdt_sigma = math.sqrt(dt) * sigma\n",
    "    gamma_dt = gamma * dt\n",
    "    sim = np.zeros((num_sim, num_steps))\n",
    "    for i in range(0, num_sim):\n",
    "        sim[i][0] = r0\n",
    "        r = r0\n",
    "        for j in range(1, num_steps):\n",
    "            r = r + theta_array[j - 1] * dt - gamma_dt * r + sqdt_sigma * alea[i][j - 1]\n",
    "            sim[i][j] = r\n",
    "    return tiempo, sim"
   ]
  },
  {
   "cell_type": "markdown",
   "metadata": {},
   "source": [
    "# Bono Cupon Zero."
   ]
  },
  {
   "cell_type": "markdown",
   "metadata": {
    "ExecuteTime": {
     "end_time": "2020-12-04T06:21:46.660123Z",
     "start_time": "2020-12-04T06:21:46.653624Z"
    }
   },
   "source": [
    "A continuacion se valorizara un bono con las formulas de HW. Se calcula B(t,T) de la forma:\n",
    "\n",
    "$$\n",
    "\\begin{equation}\n",
    "B\\left(t,T\\right)=\\frac{1}{\\gamma^*}\\left[1-\\exp\\left(-\\gamma^* T\\right)\\right)]\n",
    "\\end{equation}\n",
    "$$\n"
   ]
  },
  {
   "cell_type": "code",
   "execution_count": 13,
   "metadata": {
    "ExecuteTime": {
     "end_time": "2020-12-17T21:06:53.611103Z",
     "start_time": "2020-12-17T21:06:53.605449Z"
    }
   },
   "outputs": [
    {
     "name": "stdout",
     "output_type": "stream",
     "text": [
      "r0:        0.07881405%\n",
      "Valorizacion formulas HW:    99.9298%\n",
      "Valorizacion curva: 99.9298%\n"
     ]
    }
   ],
   "source": [
    "print(f\"r0:        {r0:.8%}\")\n",
    "t = 0 # tiempo 0\n",
    "T = 1 # 1 año\n",
    "z = zero_hw(r0, gamma, sigma, zrate, fwd, t, T)\n",
    "print(f\"Valorizacion formulas HW:    {z:.4%}\")\n",
    "print(f\"Valorizacion curva: {math.exp(-zrate(T) * T):.4%}\")"
   ]
  },
  {
   "cell_type": "markdown",
   "metadata": {
    "ExecuteTime": {
     "end_time": "2020-12-04T06:46:41.661087Z",
     "start_time": "2020-12-04T06:46:41.657496Z"
    }
   },
   "source": [
    "## Bono Cupon Zero por MonteCarlo."
   ]
  },
  {
   "cell_type": "markdown",
   "metadata": {},
   "source": [
    "A continuacion se valoriza el mismo Bono Cero Cupon por Monte-Carlo utilizando 1000 simulaciones. Al final se comparan los resultados obtenidos con Monte-Carlo, la formula de HW y la interpolacion."
   ]
  },
  {
   "cell_type": "code",
   "execution_count": 14,
   "metadata": {
    "ExecuteTime": {
     "end_time": "2020-12-17T21:06:54.905117Z",
     "start_time": "2020-12-17T21:06:53.612967Z"
    }
   },
   "outputs": [
    {
     "name": "stdout",
     "output_type": "stream",
     "text": [
      "num_steps: 263\n",
      "El valor con MonteCarlo es:  0.99947\n",
      "Valorizacion formula HW:  0.9993\n",
      "Valorizacion curva:  0.9993\n"
     ]
    }
   ],
   "source": [
    "# Numero de simulaciones y pasos\n",
    "num_sim = 1000\n",
    "num_steps = 263\n",
    "print(f\"num_steps: {num_steps}\")\n",
    "seed = 7\n",
    "df = 0\n",
    "\n",
    "# Obtenemos los tiempos y trayectorias de las num_sim simulaciones.\n",
    "tiempo, s = sim_hw_many(gamma, sigma, theta, r0, num_sim, num_steps, seed)\n",
    "\n",
    "# Obtenemos los factores de descuento. \n",
    "for sim in s:\n",
    "    df += math.exp(np.sum(-dt * np.sum(sim)))\n",
    "\n",
    "ez = df / num_sim\n",
    "z_curva = math.exp(-zrate(T) * T)\n",
    "print(f\"El valor con MonteCarlo es: {ez: .5}\")\n",
    "print(f\"Valorizacion formula HW: {z: .5}\")\n",
    "print(f\"Valorizacion curva: {z_curva: .5}\")\n"
   ]
  },
  {
   "cell_type": "markdown",
   "metadata": {
    "ExecuteTime": {
     "end_time": "2020-12-04T06:55:22.488759Z",
     "start_time": "2020-12-04T06:55:22.485853Z"
    }
   },
   "source": [
    "# Valorizacion de Put's y Call's."
   ]
  },
  {
   "cell_type": "markdown",
   "metadata": {},
   "source": [
    "Utilizaremos los siguientes parametros iniciales."
   ]
  },
  {
   "cell_type": "code",
   "execution_count": 15,
   "metadata": {
    "ExecuteTime": {
     "end_time": "2020-12-17T21:06:54.912212Z",
     "start_time": "2020-12-17T21:06:54.906806Z"
    }
   },
   "outputs": [
    {
     "name": "stdout",
     "output_type": "stream",
     "text": [
      "r_0= 0.0788%\n",
      "T_0= 1\n",
      "T_B= 2\n"
     ]
    }
   ],
   "source": [
    "# Parametros iniciales\n",
    "sigma = .015\n",
    "gamma = .5\n",
    "r0 = zrate(0)\n",
    "To=1\n",
    "Tb=2\n",
    "t=0\n",
    "#T=1\n",
    "K=1\n",
    "r0=zrate(0)\n",
    "\n",
    "print(f\"r_0= {r0:.4%}\")\n",
    "print(f\"T_0= {To}\")\n",
    "print(f\"T_B= {Tb}\")"
   ]
  },
  {
   "cell_type": "code",
   "execution_count": 16,
   "metadata": {
    "ExecuteTime": {
     "end_time": "2020-12-17T21:06:54.919454Z",
     "start_time": "2020-12-17T21:06:54.913886Z"
    }
   },
   "outputs": [
    {
     "name": "stdout",
     "output_type": "stream",
     "text": [
      "0.9992978688293874\n",
      "0.9988654872527635\n"
     ]
    }
   ],
   "source": [
    "ZTo=zero_hw(r0, gamma, sigma, zrate, fwd, t, To)\n",
    "ZTb=zero_hw(r0, gamma, sigma, zrate, fwd, t, Tb)\n",
    "print(ZTo)\n",
    "print(ZTb)"
   ]
  },
  {
   "cell_type": "markdown",
   "metadata": {
    "ExecuteTime": {
     "end_time": "2020-12-04T07:01:24.904286Z",
     "start_time": "2020-12-04T07:01:24.892720Z"
    }
   },
   "source": [
    "Calculamos:\n",
    "$$\n",
    "\\begin{equation}\n",
    "B\\left(t,T\\right)=\\frac{1}{\\gamma^*}\\left[1-\\exp\\left(-\\gamma^* T\\right)\\right)]\n",
    "\\end{equation}\n",
    "$$\n",
    "Luego se calcula:\n",
    "$$\n",
    "\\begin{equation}\n",
    "S_Z\\left(T_O\\right)=B\\left(T_O,T_B\\right)\\sqrt{\\frac{\\sigma^2}{2\\gamma^*}\\left(1-\\exp\\left(-2\\gamma^* T_O\\right)\\right)}\n",
    "\\end{equation} \n",
    "$$"
   ]
  },
  {
   "cell_type": "code",
   "execution_count": 17,
   "metadata": {
    "ExecuteTime": {
     "end_time": "2020-12-17T21:06:54.925635Z",
     "start_time": "2020-12-17T21:06:54.920995Z"
    }
   },
   "outputs": [
    {
     "name": "stdout",
     "output_type": "stream",
     "text": [
      "B(T_0,T_B)= 0.7869386805747332\n",
      "S_z(T_0)= 0.009384953162988194\n"
     ]
    }
   ],
   "source": [
    "b=b_hw(gamma, To, Tb)\n",
    "Sz=b*math.sqrt( (sigma**2)*(1-math.exp(-2*gamma*To))/(2*gamma))\n",
    "print(f\"B(T_0,T_B)= {b}\")\n",
    "print(f\"S_z(T_0)= {Sz}\")"
   ]
  },
  {
   "cell_type": "markdown",
   "metadata": {
    "ExecuteTime": {
     "end_time": "2020-12-04T07:01:45.132026Z",
     "start_time": "2020-12-04T07:01:45.121467Z"
    }
   },
   "source": [
    "Luego se calcula $d_1$ y $d_2$ de la forma:\n",
    "\n",
    "$$\n",
    "\\begin{equation}\n",
    "d_1=\\frac{\\log\\left(\\frac{Z\\left(r_0,0,T_B\\right)}{KZ\\left(r_0,0,T_O\\right)}\\right)+\\frac{1}{2}S_Z\\left(T_O\\right)^2}{\\sqrt{S_Z\\left(T_O\\right)}}\n",
    "\\end{equation}\n",
    "$$\n",
    "\n",
    "\n",
    "$$\n",
    "\\begin{equation}\n",
    "d_2=d_1-S_Z\\left(T_O\\right)\n",
    "\\end{equation}\n",
    "$$"
   ]
  },
  {
   "cell_type": "code",
   "execution_count": 18,
   "metadata": {
    "ExecuteTime": {
     "end_time": "2020-12-17T21:06:54.931033Z",
     "start_time": "2020-12-17T21:06:54.927100Z"
    }
   },
   "outputs": [
    {
     "name": "stdout",
     "output_type": "stream",
     "text": [
      "-0.04142166019983301\n",
      "-0.050806613362821204\n"
     ]
    }
   ],
   "source": [
    "\n",
    "d1=(math.log(ZTb/(ZTo*K))+0.5*Sz**2)/Sz\n",
    "d2=d1-Sz\n",
    "print(d1)\n",
    "print(d2)"
   ]
  },
  {
   "cell_type": "markdown",
   "metadata": {},
   "source": [
    "Finalmente se calcula el precio de la opcion Call en este caso de la forma:\n",
    "\n",
    "$$\n",
    "\\begin{equation}\n",
    "Call\\left(r_0,0\\right)=Z\\left(r_0,0,T_O\\right)\\left[\\frac{Z\\left(r_0,0,T_B\\right)}{Z\\left(r_0,0,T_O\\right)}N\\left(d_1\\right)-KN\\left(d_2\\right)\\right]\n",
    "\\end{equation}\n",
    "$$"
   ]
  },
  {
   "cell_type": "code",
   "execution_count": 19,
   "metadata": {
    "ExecuteTime": {
     "end_time": "2020-12-17T21:06:54.937331Z",
     "start_time": "2020-12-17T21:06:54.932548Z"
    }
   },
   "outputs": [
    {
     "name": "stdout",
     "output_type": "stream",
     "text": [
      "El precio de la opcion Call es: 0.0035283883401179164\n"
     ]
    }
   ],
   "source": [
    "\n",
    "Call=ZTo*(ZTb/ZTo*norm.cdf(d1)-K*norm.cdf(d2))\n",
    "print(f'El precio de la opcion Call es: {Call}')"
   ]
  },
  {
   "cell_type": "markdown",
   "metadata": {},
   "source": [
    "$$\n",
    "\\begin{equation}\n",
    "Put\\left(r_0,0\\right)=Z\\left(r_0,0,T_O\\right)\\left[KN\\left(-d_2\\right)-\\frac{Z\\left(r_0,0,T_B\\right)}{Z\\left(r_0,0,T_O\\right)}N\\left(-d_1\\right)\\right]\n",
    "\\end{equation}\n",
    "$$"
   ]
  },
  {
   "cell_type": "code",
   "execution_count": 20,
   "metadata": {
    "ExecuteTime": {
     "end_time": "2020-12-17T21:06:54.943519Z",
     "start_time": "2020-12-17T21:06:54.938808Z"
    }
   },
   "outputs": [
    {
     "name": "stdout",
     "output_type": "stream",
     "text": [
      "El precio de la opcion Put es: 0.003960769916741911\n"
     ]
    }
   ],
   "source": [
    "Put=ZTo*(-ZTb/ZTo*norm.cdf(-d1)+K*norm.cdf(-d2))\n",
    "print(f'El precio de la opcion Put es: {Put}')"
   ]
  },
  {
   "cell_type": "markdown",
   "metadata": {},
   "source": [
    "### Test"
   ]
  },
  {
   "cell_type": "code",
   "execution_count": 21,
   "metadata": {
    "ExecuteTime": {
     "end_time": "2020-12-17T21:06:54.948674Z",
     "start_time": "2020-12-17T21:06:54.945268Z"
    }
   },
   "outputs": [],
   "source": [
    "import hull_white as hw"
   ]
  },
  {
   "cell_type": "code",
   "execution_count": 22,
   "metadata": {
    "ExecuteTime": {
     "end_time": "2020-12-17T21:06:54.956376Z",
     "start_time": "2020-12-17T21:06:54.950248Z"
    }
   },
   "outputs": [
    {
     "data": {
      "text/plain": [
       "0.0035283883401179272"
      ]
     },
     "execution_count": 22,
     "metadata": {},
     "output_type": "execute_result"
    }
   ],
   "source": [
    "hw.zcb_call_put(\n",
    "    hw.CallPut.CALL,\n",
    "    strike=K,\n",
    "    to=To,\n",
    "    tb=Tb,\n",
    "    r0=r0,\n",
    "    zo=math.exp(-zrate(To) * To),\n",
    "    zb=math.exp(-zrate(Tb) * Tb),\n",
    "    gamma=gamma,\n",
    "    sigma=sigma)"
   ]
  },
  {
   "cell_type": "code",
   "execution_count": 23,
   "metadata": {
    "ExecuteTime": {
     "end_time": "2020-12-17T21:06:54.964796Z",
     "start_time": "2020-12-17T21:06:54.957905Z"
    }
   },
   "outputs": [
    {
     "data": {
      "text/plain": [
       "0.00396076991674188"
      ]
     },
     "execution_count": 23,
     "metadata": {},
     "output_type": "execute_result"
    }
   ],
   "source": [
    "hw.zcb_call_put(\n",
    "    hw.CallPut.PUT,\n",
    "    strike=K,\n",
    "    to=To,\n",
    "    tb=Tb,\n",
    "    r0=r0,\n",
    "    zo=math.exp(-zrate(To) * To),\n",
    "    zb=math.exp(-zrate(Tb) * Tb),\n",
    "    gamma=gamma,\n",
    "    sigma=sigma)"
   ]
  },
  {
   "cell_type": "markdown",
   "metadata": {},
   "source": [
    "## Simulaciones con Monte-Carlo de opciones Call y Put."
   ]
  },
  {
   "cell_type": "code",
   "execution_count": 24,
   "metadata": {
    "ExecuteTime": {
     "end_time": "2020-12-17T21:06:56.381697Z",
     "start_time": "2020-12-17T21:06:54.966396Z"
    }
   },
   "outputs": [
    {
     "name": "stdout",
     "output_type": "stream",
     "text": [
      "num_steps: 263\n",
      "El valor con MonteCarlo es:  0.99947\n",
      "Valorizacion formula HW:  0.9993\n",
      "Valorizacion curva:  0.9993\n"
     ]
    }
   ],
   "source": [
    "# Numero de simulaciones y pasos\n",
    "num_sim = 1000\n",
    "num_steps = 263\n",
    "print(f\"num_steps: {num_steps}\")\n",
    "seed = 7\n",
    "df = 0\n",
    "\n",
    "# Obtenemos los tiempos y trayectorias de las num_sim simulaciones.\n",
    "tiempo, s = sim_hw_many(gamma, sigma, theta, r0, num_sim, num_steps, seed)\n",
    "fDescuentos=[]\n",
    "\n",
    "\n",
    "# Obtenemos los factores de descuento. \n",
    "for sim in s:\n",
    "    df += math.exp(np.sum(-dt * np.sum(sim)))\n",
    "    fDescuentos.append(math.exp(-dt*np.sum(sim)))\n",
    "\n",
    "    \n",
    "last_rates = [sim[-1] for sim in s]    \n",
    "precios = [zero_hw(r, gamma, sigma, zrate, fwd, t=1, T=2) * 1 for r in last_rates]\n",
    "\n",
    "ez = df / num_sim\n",
    "z_curva = math.exp(-zrate(T) * T)\n",
    "print(f\"El valor con MonteCarlo es: {ez: .5}\")\n",
    "print(f\"Valorizacion formula HW: {z: .5}\")\n",
    "print(f\"Valorizacion curva: {z_curva: .5}\")"
   ]
  },
  {
   "cell_type": "code",
   "execution_count": 25,
   "metadata": {
    "ExecuteTime": {
     "end_time": "2020-12-17T21:06:56.391244Z",
     "start_time": "2020-12-17T21:06:56.383723Z"
    }
   },
   "outputs": [
    {
     "name": "stdout",
     "output_type": "stream",
     "text": [
      "El valor de la opcion Call con Monte-Carlo es: 0.003499826538082184\n",
      "El valor de la opcion Put con Monte-Carlo es: 0.003998163380897726\n"
     ]
    }
   ],
   "source": [
    "callMC=[]\n",
    "putMC=[]\n",
    "for i in range(0,1000):\n",
    "    callMC.append(max(precios[i]-1,0)*fDescuentos[i])\n",
    "    putMC.append(max(1-precios[i],0)*fDescuentos[i])\n",
    "\n",
    "\n",
    "print(f'El valor de la opcion Call con Monte-Carlo es: {np.mean(callMC)}')\n",
    "print(f'El valor de la opcion Put con Monte-Carlo es: {np.mean(putMC)}')"
   ]
  },
  {
   "cell_type": "markdown",
   "metadata": {},
   "source": [
    "**AD:** falta conexión y explicación entre las distintas partes del notebook. Se repite código."
   ]
  }
 ],
 "metadata": {
  "hide_input": false,
  "kernelspec": {
   "display_name": "Python 3",
   "language": "python",
   "name": "python3"
  },
  "language_info": {
   "codemirror_mode": {
    "name": "ipython",
    "version": 3
   },
   "file_extension": ".py",
   "mimetype": "text/x-python",
   "name": "python",
   "nbconvert_exporter": "python",
   "pygments_lexer": "ipython3",
   "version": "3.7.3"
  },
  "toc": {
   "base_numbering": 1,
   "nav_menu": {},
   "number_sections": true,
   "sideBar": true,
   "skip_h1_title": false,
   "title_cell": "Table of Contents",
   "title_sidebar": "Contents",
   "toc_cell": false,
   "toc_position": {},
   "toc_section_display": true,
   "toc_window_display": true
  }
 },
 "nbformat": 4,
 "nbformat_minor": 4
}
