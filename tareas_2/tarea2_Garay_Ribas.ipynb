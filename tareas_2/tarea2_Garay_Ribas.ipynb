{
 "cells": [
  {
   "cell_type": "markdown",
   "metadata": {},
   "source": [
    "# Tarea 2 \n",
    " \n",
    "Modelo de tasas Hull-White con simulaciones de Montecarlo\n",
    "\n",
    "Integrantes:\n",
    "- Joaquin Garay\n",
    "- Lucas Ribas"
   ]
  },
  {
   "cell_type": "markdown",
   "metadata": {},
   "source": [
    "## Inicialización funciones previas"
   ]
  },
  {
   "cell_type": "code",
   "execution_count": 1,
   "metadata": {
    "ExecuteTime": {
     "end_time": "2020-12-17T21:24:08.976721Z",
     "start_time": "2020-12-17T21:24:08.399071Z"
    }
   },
   "outputs": [],
   "source": [
    "from scipy.interpolate import interp1d\n",
    "from scipy.stats import norm\n",
    "import plotly.express as px\n",
    "import pandas as pd\n",
    "import numpy as np\n",
    "import math"
   ]
  },
  {
   "cell_type": "markdown",
   "metadata": {},
   "source": [
    "Se obtienen los valores de la curva cero cupón:"
   ]
  },
  {
   "cell_type": "code",
   "execution_count": 2,
   "metadata": {
    "ExecuteTime": {
     "end_time": "2020-12-17T21:24:08.999795Z",
     "start_time": "2020-12-17T21:24:08.978513Z"
    }
   },
   "outputs": [],
   "source": [
    "curva = pd.read_excel('../data/20201012_built_sofr_zero.xlsx')"
   ]
  },
  {
   "cell_type": "code",
   "execution_count": 3,
   "metadata": {
    "ExecuteTime": {
     "end_time": "2020-12-17T21:24:09.007828Z",
     "start_time": "2020-12-17T21:24:09.001976Z"
    }
   },
   "outputs": [],
   "source": [
    "curva['t'] = curva['plazo'] / 365.0"
   ]
  },
  {
   "cell_type": "markdown",
   "metadata": {},
   "source": [
    "### Funciones curva cero cupón.\n",
    "\n",
    "Se definen las funciones relacionadas a la curva cero cupon.\n",
    "- `zrate`: Interpola los valores de la curva cero cupón con interpolación cúbica.\n",
    "- `dzrate`: Primera derivada de la curva cero cupón. Diferencia finita forward.\n",
    "- `dz2rate`: Segunda derivada de la curva cero cupón. Diferencia finita forward.\n",
    "- `fwd`: Valor de la tasa forward determinada por $\\displaystyle f(0,t)=r(0,t)+t\\frac{\\partial r(0,t)}{\\partial t}$ \n",
    "- `dfwd`: Primera derivada de la tasa forward determinada por $\\displaystyle \\frac{\\partial f(0,t)}{\\partial t}=2\\frac{\\partial r(0,t)}{\\partial t}+t\\frac{\\partial^2r(0,t)}{\\partial t^2}$\n"
   ]
  },
  {
   "cell_type": "code",
   "execution_count": 4,
   "metadata": {
    "ExecuteTime": {
     "end_time": "2020-12-17T21:24:09.018196Z",
     "start_time": "2020-12-17T21:24:09.011633Z"
    }
   },
   "outputs": [],
   "source": [
    "def zrate(t: float):\n",
    "    dfcurva = interp1d(curva['t'],\n",
    "                  curva['tasa'],\n",
    "                  kind='cubic',\n",
    "                  fill_value=\"extrapolate\")\n",
    "    return dfcurva(t)\n",
    "\n",
    "def dzrate(t: float) -> float:\n",
    "    delta = .0001\n",
    "    return (zrate(t + delta) - zrate(t)) / delta\n",
    "\n",
    "def d2zrate(t: float) -> float:\n",
    "    delta = .0001\n",
    "    return (dzrate(t + delta) - dzrate(t)) / delta\n",
    "\n",
    "def fwd(t: float) -> float:\n",
    "    return zrate(t) + t * dzrate(t)\n",
    "\n",
    "def dfwd(t: float) -> float:\n",
    "    return 2 * dzrate(t) + t * d2zrate(t)"
   ]
  },
  {
   "cell_type": "code",
   "execution_count": 5,
   "metadata": {
    "ExecuteTime": {
     "end_time": "2020-12-17T21:24:09.034974Z",
     "start_time": "2020-12-17T21:24:09.021508Z"
    }
   },
   "outputs": [
    {
     "name": "stdout",
     "output_type": "stream",
     "text": [
      "zrate(2.00) = 0.0568%\n",
      "dzrate(2.00) = -0.0066%\n",
      "d2zrate(2.00) = 0.0584%\n",
      "fwd(2.00) = 0.0436%\n",
      "dfwd(2.00) = 0.1036%\n"
     ]
    }
   ],
   "source": [
    "t = 2\n",
    "print(f'zrate({t:.2f}) = {zrate(t):.4%}')\n",
    "print(f'dzrate({t:.2f}) = {dzrate(t):.4%}')\n",
    "print(f'd2zrate({t:.2f}) = {d2zrate(t):.4%}')\n",
    "print(f'fwd({t:.2f}) = {fwd(t):.4%}')\n",
    "print(f'dfwd({t:.2f}) = {dfwd(t):.4%}')"
   ]
  },
  {
   "cell_type": "code",
   "execution_count": 6,
   "metadata": {
    "ExecuteTime": {
     "end_time": "2020-12-17T21:24:09.041502Z",
     "start_time": "2020-12-17T21:24:09.036829Z"
    }
   },
   "outputs": [
    {
     "name": "stdout",
     "output_type": "stream",
     "text": [
      "Tasa instantánea: 0.0788%\n"
     ]
    }
   ],
   "source": [
    "# Proxy de la tasa instantánea r(t) es una tasa entre t y t + dt (donde dt es un intervalo infitesimal)\n",
    "r0 = zrate(0)\n",
    "print(f'Tasa instantánea: {r0:.4%}')"
   ]
  },
  {
   "cell_type": "markdown",
   "metadata": {},
   "source": [
    "### Funciones bono cero cupón\n",
    "\n",
    "Se definen además las funciones relacionadas a los bonos cero cupón. La fórmula para la valoración de bonos cero cupón en el modelo de Hull - White es la siguiente:\n",
    "\n",
    "$$\n",
    "\\begin{equation}\n",
    "Z\\left(r_t,t,T\\right)=\\exp\\left[A\\left(t,T\\right)-B\\left(t,T\\right)r_t\\right]\n",
    "\\end{equation}\n",
    "$$\n",
    "\n",
    "$$\n",
    "\\begin{equation}\n",
    "B\\left(t,T\\right)=\\frac{1}{\\gamma^*}\\left[1-\\exp(-\\gamma^* (T-t))\\right]\n",
    "\\end{equation}\n",
    "$$\n",
    "\n",
    "$$\n",
    "\\begin{equation}\n",
    "A\\left(t,T\\right)=\\log\\frac{Z\\left(r_0,0,T\\right)}{Z\\left(r_0,0,t\\right)}+B\\left(t,T\\right)f\\left(0,t\\right)-\\frac{\\sigma^2}{4\\gamma^*}B\\left(t,T\\right)^2\\left[1-\\exp\\left(-2\\gamma^* t\\right)\\right]\n",
    "\\end{equation}\n",
    "$$"
   ]
  },
  {
   "cell_type": "code",
   "execution_count": 7,
   "metadata": {
    "ExecuteTime": {
     "end_time": "2020-12-17T21:24:09.047208Z",
     "start_time": "2020-12-17T21:24:09.043995Z"
    }
   },
   "outputs": [],
   "source": [
    "sigma = .015\n",
    "gamma = .5"
   ]
  },
  {
   "cell_type": "code",
   "execution_count": 8,
   "metadata": {
    "ExecuteTime": {
     "end_time": "2020-12-17T21:24:09.058512Z",
     "start_time": "2020-12-17T21:24:09.049794Z"
    }
   },
   "outputs": [],
   "source": [
    "def b_hw(gamma: float, t: float, T: float) -> float:\n",
    "    \"\"\"\n",
    "    Calcula el valor de la función B(t,T) que interviene en la fórmula\n",
    "    para el valor de un bono cupón cero en el modelo de HW.\n",
    "    \n",
    "    params:\n",
    "    \n",
    "    - gamma: intensidad de reversión del modelo HW\n",
    "    - t:\n",
    "    - T:\n",
    "    \n",
    "    return:\n",
    "    \n",
    "    - valor de la función B(t, T)\n",
    "    \"\"\"\n",
    "    aux = 1 - math.exp(- gamma * (T - t))\n",
    "    return aux / gamma\n",
    "\n",
    "def a_hw(zrate: float, fwd, gamma: float, sigma: float, t: float, T: float):\n",
    "    \"\"\"\n",
    "    verbose: cuando es True imprime los valores de c1, c2 y c3.\n",
    "    \"\"\"\n",
    "    b = b_hw(gamma, t, T)\n",
    "    df_T = math.exp(-zrate(T) * T)\n",
    "    df_t = math.exp(-zrate(t) * t)\n",
    "    c1 = math.log(df_T / df_t)\n",
    "    c2 = b * fwd(t)\n",
    "    c3 = (sigma**2) / (4 * gamma) * (b**2) * (1 - math.exp(-2 * gamma * t))\n",
    "\n",
    "    return c1 + c2 - c3\n",
    "\n",
    "def zero_hw(r: float,\n",
    "            gamma: float,\n",
    "            sigma: float,\n",
    "            zrate: float,\n",
    "            fwd: float,\n",
    "            t: float,\n",
    "            T: float) -> float:\n",
    "    a = a_hw(zrate, fwd, gamma, sigma, t, T)\n",
    "    b = b_hw(gamma, t, T)\n",
    "    return math.exp(a - b * r)"
   ]
  },
  {
   "cell_type": "markdown",
   "metadata": {},
   "source": [
    "### Función theta\n",
    "\n",
    "Se inicializa la funcion $\\theta_t$ en medida forward `theta_fwd_measure` y en medida ajustada por riesgo `theta_rf_measure`.\n",
    "\n",
    "$$\n",
    "\\overline{\\theta_t}=\\theta_t-B\\left(t,T\\right)\\sigma^2\n",
    "$$\n",
    "\n",
    "donde $\\overline{\\theta_t}$ es la función $\\theta$ en la medida forward y $\\theta_t$ en medida ajustada por riesgo. $\\displaystyle \\theta_t=\\frac{\\partial f\\left(0,t\\right)}{\\partial t}+\\gamma^*f\\left(0,t\\right)+\\frac{\\sigma^2}{2\\gamma^*}\\left[1-\\exp\\left(-2\\gamma^* t\\right)\\right]$\n",
    "\n"
   ]
  },
  {
   "cell_type": "code",
   "execution_count": 9,
   "metadata": {
    "ExecuteTime": {
     "end_time": "2020-12-17T21:24:09.064996Z",
     "start_time": "2020-12-17T21:24:09.060720Z"
    }
   },
   "outputs": [],
   "source": [
    "def theta_rf_measure(t: float) -> float:\n",
    "    aux = (sigma ** 2) / (2.0 * gamma) * (1 - math.exp(-2.0 * gamma * t))\n",
    "    return dfwd(t) + gamma * fwd(t) + aux\n",
    "\n",
    "def theta_fwd_measure(t: float, T:float) -> float: \n",
    "    return theta_rf_measure(t) - b_hw(gamma, t, T)*sigma**2"
   ]
  },
  {
   "cell_type": "markdown",
   "metadata": {},
   "source": [
    "### Funciones call y put para bono cero cupón.\n",
    "\n",
    "$$\n",
    "\\begin{equation}\n",
    "Call\\left(r_0,0\\right)=Z\\left(r_0,0,T_O\\right)\\left[\\frac{Z\\left(r_0,0,T_B\\right)}{Z\\left(r_0,0,T_O\\right)}N\\left(d_1\\right)-KN\\left(d_2\\right)\\right]\n",
    "\\end{equation}\n",
    "$$\n",
    "\n",
    "$$\\displaystyle d_1=\\frac{\\log\\left(\\frac{Z(r_0,0,T_B)}{K\\cdot Z(r_0,0,T_O)}\\right)+\\frac{1}{2}S_Z(T_O)^2}{S_Z(T_O)} \\quad \\text{y} \\quad d_2=d_1-S_Z(T_O)$$\n",
    "\n",
    "La volatilidad\n",
    "$$\\displaystyle S_Z(T_O)=B(T_O,T_B)\\sqrt{\\frac{\\sigma^2}{2\\gamma^*}\\left(1-\\exp(-2\\gamma^* T_O)\\right)}$$\n",
    "\n",
    "\n",
    "Y para una put:\n",
    "\n",
    "$$\n",
    "\\begin{equation}\n",
    "Put\\left(r_0,0\\right)=Z\\left(r_0,0,T_O\\right)\\left[KN\\left(-d_2\\right)-\\frac{Z\\left(r_0,0,T_B\\right)}{Z\\left(r_0,0,T_O\\right)}N\\left(-d_1\\right)\\right]\n",
    "\\end{equation}\n",
    "$$\n",
    "\n",
    "y los mismos valores anteriores para $d_1$ y $d_2$. "
   ]
  },
  {
   "cell_type": "code",
   "execution_count": 10,
   "metadata": {
    "ExecuteTime": {
     "end_time": "2020-12-17T21:24:09.076688Z",
     "start_time": "2020-12-17T21:24:09.066635Z"
    }
   },
   "outputs": [],
   "source": [
    "def call_hw(r0: float, To: float, Tb: float, K: float, notional:float, t = 0):\n",
    "    \n",
    "    # Se normaliza strike para ser consistente con la formula. Precio strike por unidad de bono.\n",
    "    K = K/notional\n",
    "    \n",
    "    # Se definen los precios de los bonos zero coupon para Tb (Tenor bono) y To (Tenor opción)\n",
    "    Z_Tb = zero_hw(r0, gamma, sigma, zrate, fwd, t, Tb)\n",
    "    Z_To = zero_hw(r0, gamma, sigma, zrate, fwd, t, To)\n",
    "    \n",
    "    # Se definen las expresiones características del modelo\n",
    "    Sz = b_hw(gamma, To, Tb) * (sigma**2/(2*gamma))**0.5 * (1-np.exp(-2*gamma*To))**0.5\n",
    "    d1 = ( np.log(Z_Tb/(K*Z_To)) + 0.5*Sz**2 ) / Sz\n",
    "    d2 = d1 - Sz\n",
    "    \n",
    "    call = Z_Tb*norm.cdf(d1)-Z_To*K*norm.cdf(d2)\n",
    "    \n",
    "    return notional*call\n",
    "\n",
    "def put_hw(r0: float, To: float, Tb: float, K: float, notional:float, t = 0):\n",
    "    \n",
    "    # Se normaliza strike para ser consistente con la formula. Precio strike por unidad de bono.\n",
    "    K = K/notional\n",
    "    \n",
    "    # Se definen los precios de los bonos zero coupon para Tb (Tenor bono) y To (Tenor opción)\n",
    "    Z_Tb = zero_hw(r0, gamma, sigma, zrate, fwd, t, Tb)\n",
    "    Z_To = zero_hw(r0, gamma, sigma, zrate, fwd, t, To)\n",
    "    \n",
    "    # Se definen las expresiones características del modelo\n",
    "    Sz = b_hw(gamma, To, Tb) * (sigma**2/(2*gamma))**0.5 * (1-np.exp(-2*gamma*To))**0.5\n",
    "    d1 = ( np.log(Z_Tb/(K*Z_To)) + 0.5*Sz**2 ) / Sz\n",
    "    d2 = d1 - Sz\n",
    "    \n",
    "    put = -1*(Z_Tb*norm.cdf(-d1)-Z_To*K*norm.cdf(-d2))\n",
    "    \n",
    "    return notional*put"
   ]
  },
  {
   "cell_type": "markdown",
   "metadata": {},
   "source": [
    "## Simulación de Monte Carlo medida Forward para Calls y Puts"
   ]
  },
  {
   "cell_type": "markdown",
   "metadata": {},
   "source": [
    "En la medida forward, el proceso estocástico de la tasa corta se lee como\n",
    "\n",
    "$$\n",
    "dr_t=\\left(\\bar{\\theta_t}-\\gamma^* r_t\\right)dt+\\sigma dX_t\n",
    "$$\n",
    "\n",
    "\n",
    "Y una posible discretización del proceso corresponde a \n",
    "$$ r_{t+1} = r_{t} + (\\bar{\\theta_t} - \\gamma^* r_t)\\cdot dt + \\sigma \\sqrt{dt} \\cdot Shock_t $$\n",
    "donde $Shock_t$ es una variable aleatoria que distribuye normal (0,1).\n",
    "\n",
    "De manera adicional, se aplica la técnica de reducción de varianza de variables antitéticas, con tal de lograr mejor precisión en pocas simulaciones."
   ]
  },
  {
   "cell_type": "code",
   "execution_count": 11,
   "metadata": {
    "ExecuteTime": {
     "end_time": "2020-12-17T21:24:09.090855Z",
     "start_time": "2020-12-17T21:24:09.078866Z"
    }
   },
   "outputs": [],
   "source": [
    "def option_value_MC_fwd(gamma, sigma, theta_fwd_measure, zrate, To, Tb, r0, K, notional, \n",
    "                        call_put_flag, num_sim, num_steps, seed = None):\n",
    "    \"\"\"\n",
    "    Valora opcion call y put sobre bonos cero cupon con el modelo de Hull White con simulaciones de Monte Carlo\n",
    "    en la medida forward.\n",
    "    \"\"\"\n",
    "    # Call Put flag\n",
    "    eps = call_put_flag\n",
    "    \n",
    "    # Pasos temporales\n",
    "    dt = 1 / 264.0\n",
    "    num_steps += 1\n",
    "    \n",
    "    # Se precalculan los números aleatorios\n",
    "    random_numbers = np.zeros((num_sim, num_steps))\n",
    "    np.random.seed(seed)\n",
    "\n",
    "    for i in range(0, num_sim):\n",
    "        for j in range(0, num_steps):\n",
    "            random_numbers[i][j] = np.random.normal()\n",
    "            \n",
    "    # Calcula los valores de Theta. Theta sólo depende del tiempo, no de la simulación. \n",
    "    theta_array = np.zeros(num_steps)\n",
    "    for i in range(0, num_steps):\n",
    "        theta_array[i] = theta_fwd_measure(i * dt, To)\n",
    "    \n",
    "    # Precalculo de constantes para la simulacion\n",
    "    df = math.exp(-To * float(zrate(To)))\n",
    "    sqdt_sigma = math.sqrt(dt) * sigma\n",
    "    gamma_dt = gamma * dt\n",
    "    \n",
    "    # Inicializacion acumuladores\n",
    "    acum_pricing = 0\n",
    "    acum_sim = 0\n",
    "    \n",
    "    # Se comienza el loop de las simulaciones\n",
    "    for i in range(0, num_sim):\n",
    "        \n",
    "        # Se recorre la trayectoria y se guarda la tasa con que termina el path.\n",
    "        # Se simulan dos tractorias a la vez con tal de usar técnica antitética de reducción de varianza.\n",
    "        r1 = r0\n",
    "        r2 = r0\n",
    "        for j in range(1, num_steps):\n",
    "            r1 = r1 + theta_array[j - 1] * dt - gamma_dt * r1 + sqdt_sigma * random_numbers[i][j - 1]\n",
    "            r2 = r2 + theta_array[j - 1] * dt - gamma_dt * r2 - sqdt_sigma * random_numbers[i][j - 1]\n",
    "            \n",
    "        r_last1 = r1   \n",
    "        r_last2 = r2\n",
    "        \n",
    "        # Se calcula el precio del bono cero cupon con\n",
    "        price_bzc1 = notional*zero_hw(r_last1, gamma, sigma, zrate, fwd, To, Tb)\n",
    "        price_bzc2 = notional*zero_hw(r_last2, gamma, sigma, zrate, fwd, To, Tb)\n",
    "        \n",
    "        # Se determina el payoff de la opcion\n",
    "        payoff1 = max(eps*(price_bzc1 - K), 0)\n",
    "        payoff2 = max(eps*(price_bzc2 - K), 0)\n",
    "        \n",
    "        # Se trae a valor presente el payoff\n",
    "        value1 = df * payoff1\n",
    "        value2 = df * payoff2\n",
    "        \n",
    "        # Se añade al acumulador\n",
    "        acum_pricing += (value1 + value2)/2\n",
    "        acum_sim += 1\n",
    "        \n",
    "    option_value = acum_pricing / acum_sim\n",
    "    \n",
    "    return option_value"
   ]
  },
  {
   "cell_type": "markdown",
   "metadata": {},
   "source": [
    "### Cálculo Call"
   ]
  },
  {
   "cell_type": "code",
   "execution_count": 22,
   "metadata": {
    "ExecuteTime": {
     "end_time": "2020-12-17T21:25:41.512021Z",
     "start_time": "2020-12-17T21:25:36.625624Z"
    }
   },
   "outputs": [],
   "source": [
    "# Test función option_value_MC_fwd para opción Call\n",
    "num_sim = 1000\n",
    "num_steps = 264\n",
    "seed = 2\n",
    "K = 98\n",
    "r0 = zrate(0)\n",
    "To = 1\n",
    "Tb = 2\n",
    "notional = 100\n",
    "call_put_flag = 1\n",
    "\n",
    "call_MC = option_value_MC_fwd(gamma, sigma, theta_fwd_measure, zrate, To, Tb, r0, K, notional, \n",
    "                              call_put_flag, num_sim, num_steps, seed)\n",
    "call_HW_closed = call_hw(r0, To, Tb, K, notional, t = 0)"
   ]
  },
  {
   "cell_type": "code",
   "execution_count": 23,
   "metadata": {
    "ExecuteTime": {
     "end_time": "2020-12-17T21:25:43.250132Z",
     "start_time": "2020-12-17T21:25:43.245601Z"
    }
   },
   "outputs": [
    {
     "name": "stdout",
     "output_type": "stream",
     "text": [
      "Valor call con simulación MC: 1.9588805\n",
      "Valor call con fórmula cerrada: 1.9612536\n",
      "Error en la valorización: 0.23731002%\n"
     ]
    }
   ],
   "source": [
    "print(f'Valor call con simulación MC: {call_MC:.8}')\n",
    "print(f\"Valor call con fórmula cerrada: {call_HW_closed:.8}\")\n",
    "diff = np.abs(call_MC - call_HW_closed)\n",
    "print(f\"Error en la valorización: {diff:.8%}\")"
   ]
  },
  {
   "cell_type": "markdown",
   "metadata": {},
   "source": [
    "### Tests Call"
   ]
  },
  {
   "cell_type": "code",
   "execution_count": 24,
   "metadata": {
    "ExecuteTime": {
     "end_time": "2020-12-17T21:25:45.697760Z",
     "start_time": "2020-12-17T21:25:45.695285Z"
    }
   },
   "outputs": [],
   "source": [
    "import sys\n",
    "sys.path.insert(1, '../modules')\n",
    "import hull_white as hw"
   ]
  },
  {
   "cell_type": "code",
   "execution_count": 25,
   "metadata": {
    "ExecuteTime": {
     "end_time": "2020-12-17T21:25:56.352354Z",
     "start_time": "2020-12-17T21:25:56.345571Z"
    }
   },
   "outputs": [
    {
     "data": {
      "text/plain": [
       "1.9612536434544858"
      ]
     },
     "execution_count": 25,
     "metadata": {},
     "output_type": "execute_result"
    }
   ],
   "source": [
    "hw.zcb_call_put(\n",
    "    hw.CallPut.CALL,\n",
    "    strike=K/100,\n",
    "    to=To,\n",
    "    tb=Tb,\n",
    "    r0=r0,\n",
    "    zo=math.exp(-zrate(To) * To),\n",
    "    zb=math.exp(-zrate(Tb) * Tb),\n",
    "    gamma=gamma,\n",
    "    sigma=sigma) * 100"
   ]
  },
  {
   "cell_type": "markdown",
   "metadata": {},
   "source": [
    "### Cálculo Put"
   ]
  },
  {
   "cell_type": "code",
   "execution_count": 26,
   "metadata": {
    "ExecuteTime": {
     "end_time": "2020-12-17T21:27:20.999151Z",
     "start_time": "2020-12-17T21:27:16.408234Z"
    }
   },
   "outputs": [],
   "source": [
    "# Test función option_value_MC_fwd para opción Put\n",
    "num_sim = 1000\n",
    "num_steps = 264\n",
    "seed = 2\n",
    "K = 103\n",
    "r0 = zrate(0)\n",
    "To = 1\n",
    "Tb = 2\n",
    "notional = 100\n",
    "call_put_flag = -1\n",
    "\n",
    "put_MC = option_value_MC_fwd(gamma, sigma, theta_fwd_measure, zrate, To, Tb, r0, K, notional, \n",
    "                             call_put_flag, num_sim, num_steps, seed)\n",
    "put_HW_closed = put_hw(r0, To, Tb, K, notional, t = 0)"
   ]
  },
  {
   "cell_type": "code",
   "execution_count": 27,
   "metadata": {
    "ExecuteTime": {
     "end_time": "2020-12-17T21:27:22.323492Z",
     "start_time": "2020-12-17T21:27:22.318655Z"
    }
   },
   "outputs": [
    {
     "name": "stdout",
     "output_type": "stream",
     "text": [
      "Valor put con simulación MC: 3.0431627\n",
      "Valor put con fórmula cerrada: 3.0413109\n",
      "Error en la valorización: 0.18518109%\n"
     ]
    }
   ],
   "source": [
    "print(f'Valor put con simulación MC: {put_MC:.8}')\n",
    "print(f\"Valor put con fórmula cerrada: {put_HW_closed:.8}\")\n",
    "diff = np.abs(put_MC - put_HW_closed)\n",
    "print(f\"Error en la valorización: {diff:.8%}\")"
   ]
  },
  {
   "cell_type": "code",
   "execution_count": 28,
   "metadata": {
    "ExecuteTime": {
     "end_time": "2020-12-17T21:27:24.623600Z",
     "start_time": "2020-12-17T21:27:24.615852Z"
    }
   },
   "outputs": [
    {
     "data": {
      "text/plain": [
       "3.041310868796987"
      ]
     },
     "execution_count": 28,
     "metadata": {},
     "output_type": "execute_result"
    }
   ],
   "source": [
    "hw.zcb_call_put(\n",
    "    hw.CallPut.PUT,\n",
    "    strike=K/100,\n",
    "    to=To,\n",
    "    tb=Tb,\n",
    "    r0=r0,\n",
    "    zo=math.exp(-zrate(To) * To),\n",
    "    zb=math.exp(-zrate(Tb) * Tb),\n",
    "    gamma=gamma,\n",
    "    sigma=sigma) * 100"
   ]
  },
  {
   "cell_type": "markdown",
   "metadata": {},
   "source": [
    "**AD:** hasta ahora muy claro todo. Me hubiera gustado que hubieran testeado con más valores de strikes, vencimientos de opción y vencimientos de bono cero cupón."
   ]
  },
  {
   "cell_type": "markdown",
   "metadata": {},
   "source": [
    "## Simulación de Montecarlo bono zero cupón medida Riesgo Neutral"
   ]
  },
  {
   "cell_type": "markdown",
   "metadata": {},
   "source": [
    "Para valorizar un bono cero cupón con simulaciones de Montecarlo y compararlo con los precios de mercado, se debe usar una simulación en medida neutral al riesgo, por lo que se define nuevamente una funcion Monte Carlo."
   ]
  },
  {
   "cell_type": "code",
   "execution_count": 18,
   "metadata": {
    "ExecuteTime": {
     "end_time": "2020-12-17T21:24:18.940770Z",
     "start_time": "2020-12-17T21:24:18.931064Z"
    }
   },
   "outputs": [],
   "source": [
    "def bond_value_MC_rf(gamma, sigma, theta_rf_measure, r0, notional, num_sim, num_steps, seed = None):\n",
    "    \"\"\"\n",
    "    Valora bono cero cupon con el modelo de Hull White con simulaciones de Monte Carlo\n",
    "    en la medida riesgo neutral.\n",
    "    \"\"\"\n",
    "    # Pasos temporales\n",
    "    dt = 1 / 264.0\n",
    "    num_steps += 1\n",
    "    \n",
    "    # Se precalculan los números aleatorios\n",
    "    random_numbers = np.zeros((num_sim, num_steps))\n",
    "    np.random.seed(seed)\n",
    "\n",
    "    for i in range(0, num_sim):\n",
    "        for j in range(0, num_steps):\n",
    "            random_numbers[i][j] = np.random.normal()\n",
    "            \n",
    "    # Calcula los valores de Theta. Theta sólo depende del tiempo, no de la simulación. \n",
    "    theta_array = np.zeros(num_steps)\n",
    "    for i in range(0, num_steps):\n",
    "        theta_array[i] = theta_rf_measure(i * dt)\n",
    "    \n",
    "    # Precalculo de constantes para la simulacion\n",
    "    sqdt_sigma = math.sqrt(dt) * sigma\n",
    "    gamma_dt = gamma * dt\n",
    "    \n",
    "    # Inicializacion acumuladores\n",
    "    acum_sim = 0\n",
    "    acum_df = 0\n",
    "    \n",
    "    # Se comienza el loop de las simulaciones\n",
    "    for i in range(0, num_sim):\n",
    "        \n",
    "        sim1 = np.zeros(num_steps)\n",
    "        sim2 = np.zeros(num_steps)\n",
    "        sim1[0] = r0\n",
    "        sim2[0] = r0\n",
    "        r1 = r0\n",
    "        r2 = r0\n",
    "        \n",
    "        # Se recorre y se guarda la trayectoria de tasas.\n",
    "        for j in range(1, num_steps):\n",
    "            r1 = r1 + theta_array[j - 1] * dt - gamma_dt * r1 + sqdt_sigma * random_numbers[i][j - 1]\n",
    "            r2 = r2 + theta_array[j - 1] * dt - gamma_dt * r2 - sqdt_sigma * random_numbers[i][j - 1]\n",
    "            sim1[j] = r1\n",
    "            sim2[j] = r2\n",
    "\n",
    "        acum_df += 0.5*(math.exp(-dt * np.sum(sim1)) + math.exp(-dt * np.sum(sim2)))\n",
    "        acum_sim += 1\n",
    "\n",
    "    price_bzc = acum_df / acum_sim\n",
    "        \n",
    "    return price_bzc*notional"
   ]
  },
  {
   "cell_type": "code",
   "execution_count": 19,
   "metadata": {
    "ExecuteTime": {
     "end_time": "2020-12-17T21:24:21.313239Z",
     "start_time": "2020-12-17T21:24:18.943100Z"
    }
   },
   "outputs": [],
   "source": [
    "num_steps = 263\n",
    "num_sim = 1000\n",
    "notional = 1\n",
    "\n",
    "test_bzc = bond_value_MC_rf(gamma, sigma, theta_rf_measure, r0, notional, num_sim, num_steps, seed)"
   ]
  },
  {
   "cell_type": "code",
   "execution_count": 20,
   "metadata": {
    "ExecuteTime": {
     "end_time": "2020-12-17T21:24:21.330981Z",
     "start_time": "2020-12-17T21:24:21.319030Z"
    }
   },
   "outputs": [
    {
     "name": "stdout",
     "output_type": "stream",
     "text": [
      "Valor bzc con simulación MC: 99.9266%\n",
      "Valor bzc de mercado: 99.9298%\n",
      "Error en la valorización: 0.0032%\n"
     ]
    }
   ],
   "source": [
    "print(f'Valor bzc con simulación MC: {test_bzc:.4%}')\n",
    "z_curva = math.exp(-zrate(1) * (1))\n",
    "print(f\"Valor bzc de mercado: {z_curva:.4%}\")\n",
    "diff = np.abs(test_bzc - z_curva)\n",
    "print(f\"Error en la valorización: {diff:.4%}\")"
   ]
  },
  {
   "cell_type": "markdown",
   "metadata": {},
   "source": [
    "**AD:** ídem anterior. Más plazos testeados."
   ]
  }
 ],
 "metadata": {
  "hide_input": false,
  "kernelspec": {
   "display_name": "Python 3",
   "language": "python",
   "name": "python3"
  },
  "language_info": {
   "codemirror_mode": {
    "name": "ipython",
    "version": 3
   },
   "file_extension": ".py",
   "mimetype": "text/x-python",
   "name": "python",
   "nbconvert_exporter": "python",
   "pygments_lexer": "ipython3",
   "version": "3.7.3"
  },
  "toc": {
   "base_numbering": "1",
   "nav_menu": {},
   "number_sections": true,
   "sideBar": true,
   "skip_h1_title": false,
   "title_cell": "Table of Contents",
   "title_sidebar": "Contenido",
   "toc_cell": false,
   "toc_position": {
    "height": "calc(100% - 180px)",
    "left": "10px",
    "top": "150px",
    "width": "188.796875px"
   },
   "toc_section_display": true,
   "toc_window_display": true
  },
  "varInspector": {
   "cols": {
    "lenName": 16,
    "lenType": 16,
    "lenVar": 40
   },
   "kernels_config": {
    "python": {
     "delete_cmd_postfix": "",
     "delete_cmd_prefix": "del ",
     "library": "var_list.py",
     "varRefreshCmd": "print(var_dic_list())"
    },
    "r": {
     "delete_cmd_postfix": ") ",
     "delete_cmd_prefix": "rm(",
     "library": "var_list.r",
     "varRefreshCmd": "cat(var_dic_list()) "
    }
   },
   "types_to_exclude": [
    "module",
    "function",
    "builtin_function_or_method",
    "instance",
    "_Feature"
   ],
   "window_display": false
  }
 },
 "nbformat": 4,
 "nbformat_minor": 4
}
