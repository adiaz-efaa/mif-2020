{
 "cells": [
  {
   "cell_type": "markdown",
   "metadata": {},
   "source": [
    "# Tarea 2"
   ]
  },
  {
   "cell_type": "markdown",
   "metadata": {},
   "source": [
    "- Usando las funciones anteriores, o desarrollando las propias, escriba una función que pueda valorizar, por simulación de Montecarlo, calls y puts sobre bonos cero cupón con el modelo de HW. Considere puts y calls de plazo máximo igual a 1Y.\n",
    "- Su función debe poder recibir la semilla.\n",
    "- Compare sus resultados con las fórmulas del modelo y muestre que diferencias obtiene usando 1000 simulaciones y una semilla predeterminada.\n",
    "- Valorice también por simulación de Montecarlo el bono cupón cero a 1Y. Muestre que diferencias obtiene respecto al valor de mercado del bono usando 1000 simulaciones y una semilla predeterminada."
   ]
  },
  {
   "cell_type": "code",
   "execution_count": 1,
   "metadata": {
    "ExecuteTime": {
     "end_time": "2020-12-17T21:45:24.811307Z",
     "start_time": "2020-12-17T21:45:24.195733Z"
    }
   },
   "outputs": [],
   "source": [
    "from finrisk import QC_Financial_3 as Qcf\n",
    "from typing import List, Tuple, Callable\n",
    "from scipy.interpolate import interp1d\n",
    "\n",
    "import sys\n",
    "sys.path.insert(1, '../modules')\n",
    "import auxiliary as aux\n",
    "\n",
    "# from modules\n",
    "import auxiliary as aux\n",
    "\n",
    "from numpy import random as rnd\n",
    "import plotly.express as px\n",
    "import pandas as pd\n",
    "import numpy as np\n",
    "import math\n",
    "import scipy.stats"
   ]
  },
  {
   "cell_type": "markdown",
   "metadata": {},
   "source": [
    "## Base de datos\n",
    "Primero se captura la base de datos y se les hacen sus cambios correspondientes para realizar la tarea:\n",
    "- Se anualiza los plazos.\n",
    "- Se interpolan los valores de las tazas.\n"
   ]
  },
  {
   "cell_type": "code",
   "execution_count": 2,
   "metadata": {
    "ExecuteTime": {
     "end_time": "2020-12-17T21:45:24.838912Z",
     "start_time": "2020-12-17T21:45:24.815995Z"
    }
   },
   "outputs": [],
   "source": [
    "curva = pd.read_excel('../data/20201012_built_sofr_zero.xlsx')"
   ]
  },
  {
   "cell_type": "code",
   "execution_count": 3,
   "metadata": {
    "ExecuteTime": {
     "end_time": "2020-12-17T21:45:24.860192Z",
     "start_time": "2020-12-17T21:45:24.843449Z"
    },
    "scrolled": true
   },
   "outputs": [
    {
     "data": {
      "text/html": [
       "<div>\n",
       "<style scoped>\n",
       "    .dataframe tbody tr th:only-of-type {\n",
       "        vertical-align: middle;\n",
       "    }\n",
       "\n",
       "    .dataframe tbody tr th {\n",
       "        vertical-align: top;\n",
       "    }\n",
       "\n",
       "    .dataframe thead th {\n",
       "        text-align: right;\n",
       "    }\n",
       "</style>\n",
       "<table border=\"1\" class=\"dataframe\">\n",
       "  <thead>\n",
       "    <tr style=\"text-align: right;\">\n",
       "      <th></th>\n",
       "      <th>plazo</th>\n",
       "      <th>tasa</th>\n",
       "      <th>df</th>\n",
       "    </tr>\n",
       "  </thead>\n",
       "  <tbody>\n",
       "    <tr>\n",
       "      <th>0</th>\n",
       "      <td>1</td>\n",
       "      <td>0.000811</td>\n",
       "      <td>0.999998</td>\n",
       "    </tr>\n",
       "    <tr>\n",
       "      <th>1</th>\n",
       "      <td>7</td>\n",
       "      <td>0.000841</td>\n",
       "      <td>0.999984</td>\n",
       "    </tr>\n",
       "    <tr>\n",
       "      <th>2</th>\n",
       "      <td>14</td>\n",
       "      <td>0.000780</td>\n",
       "      <td>0.999970</td>\n",
       "    </tr>\n",
       "    <tr>\n",
       "      <th>3</th>\n",
       "      <td>21</td>\n",
       "      <td>0.000774</td>\n",
       "      <td>0.999955</td>\n",
       "    </tr>\n",
       "    <tr>\n",
       "      <th>4</th>\n",
       "      <td>33</td>\n",
       "      <td>0.000781</td>\n",
       "      <td>0.999929</td>\n",
       "    </tr>\n",
       "    <tr>\n",
       "      <th>5</th>\n",
       "      <td>61</td>\n",
       "      <td>0.000781</td>\n",
       "      <td>0.999870</td>\n",
       "    </tr>\n",
       "    <tr>\n",
       "      <th>6</th>\n",
       "      <td>92</td>\n",
       "      <td>0.000811</td>\n",
       "      <td>0.999796</td>\n",
       "    </tr>\n",
       "    <tr>\n",
       "      <th>7</th>\n",
       "      <td>125</td>\n",
       "      <td>0.000781</td>\n",
       "      <td>0.999733</td>\n",
       "    </tr>\n",
       "    <tr>\n",
       "      <th>8</th>\n",
       "      <td>152</td>\n",
       "      <td>0.000760</td>\n",
       "      <td>0.999683</td>\n",
       "    </tr>\n",
       "    <tr>\n",
       "      <th>9</th>\n",
       "      <td>182</td>\n",
       "      <td>0.000750</td>\n",
       "      <td>0.999626</td>\n",
       "    </tr>\n",
       "    <tr>\n",
       "      <th>10</th>\n",
       "      <td>212</td>\n",
       "      <td>0.000736</td>\n",
       "      <td>0.999573</td>\n",
       "    </tr>\n",
       "    <tr>\n",
       "      <th>11</th>\n",
       "      <td>243</td>\n",
       "      <td>0.000725</td>\n",
       "      <td>0.999518</td>\n",
       "    </tr>\n",
       "    <tr>\n",
       "      <th>12</th>\n",
       "      <td>273</td>\n",
       "      <td>0.000720</td>\n",
       "      <td>0.999462</td>\n",
       "    </tr>\n",
       "    <tr>\n",
       "      <th>13</th>\n",
       "      <td>306</td>\n",
       "      <td>0.000714</td>\n",
       "      <td>0.999402</td>\n",
       "    </tr>\n",
       "    <tr>\n",
       "      <th>14</th>\n",
       "      <td>335</td>\n",
       "      <td>0.000708</td>\n",
       "      <td>0.999350</td>\n",
       "    </tr>\n",
       "    <tr>\n",
       "      <th>15</th>\n",
       "      <td>365</td>\n",
       "      <td>0.000702</td>\n",
       "      <td>0.999298</td>\n",
       "    </tr>\n",
       "    <tr>\n",
       "      <th>16</th>\n",
       "      <td>547</td>\n",
       "      <td>0.000642</td>\n",
       "      <td>0.999039</td>\n",
       "    </tr>\n",
       "    <tr>\n",
       "      <th>17</th>\n",
       "      <td>730</td>\n",
       "      <td>0.000568</td>\n",
       "      <td>0.998865</td>\n",
       "    </tr>\n",
       "    <tr>\n",
       "      <th>18</th>\n",
       "      <td>1097</td>\n",
       "      <td>0.000750</td>\n",
       "      <td>0.997748</td>\n",
       "    </tr>\n",
       "    <tr>\n",
       "      <th>19</th>\n",
       "      <td>1462</td>\n",
       "      <td>0.001258</td>\n",
       "      <td>0.994976</td>\n",
       "    </tr>\n",
       "    <tr>\n",
       "      <th>20</th>\n",
       "      <td>1826</td>\n",
       "      <td>0.001939</td>\n",
       "      <td>0.990348</td>\n",
       "    </tr>\n",
       "    <tr>\n",
       "      <th>21</th>\n",
       "      <td>2191</td>\n",
       "      <td>0.002775</td>\n",
       "      <td>0.983483</td>\n",
       "    </tr>\n",
       "    <tr>\n",
       "      <th>22</th>\n",
       "      <td>2556</td>\n",
       "      <td>0.003603</td>\n",
       "      <td>0.975082</td>\n",
       "    </tr>\n",
       "    <tr>\n",
       "      <th>23</th>\n",
       "      <td>2924</td>\n",
       "      <td>0.004384</td>\n",
       "      <td>0.965489</td>\n",
       "    </tr>\n",
       "    <tr>\n",
       "      <th>24</th>\n",
       "      <td>3288</td>\n",
       "      <td>0.005117</td>\n",
       "      <td>0.954953</td>\n",
       "    </tr>\n",
       "    <tr>\n",
       "      <th>25</th>\n",
       "      <td>3653</td>\n",
       "      <td>0.005812</td>\n",
       "      <td>0.943495</td>\n",
       "    </tr>\n",
       "    <tr>\n",
       "      <th>26</th>\n",
       "      <td>4383</td>\n",
       "      <td>0.006917</td>\n",
       "      <td>0.920290</td>\n",
       "    </tr>\n",
       "    <tr>\n",
       "      <th>27</th>\n",
       "      <td>5479</td>\n",
       "      <td>0.008064</td>\n",
       "      <td>0.885997</td>\n",
       "    </tr>\n",
       "    <tr>\n",
       "      <th>28</th>\n",
       "      <td>7306</td>\n",
       "      <td>0.009253</td>\n",
       "      <td>0.830924</td>\n",
       "    </tr>\n",
       "    <tr>\n",
       "      <th>29</th>\n",
       "      <td>9133</td>\n",
       "      <td>0.009657</td>\n",
       "      <td>0.785338</td>\n",
       "    </tr>\n",
       "    <tr>\n",
       "      <th>30</th>\n",
       "      <td>10957</td>\n",
       "      <td>0.009881</td>\n",
       "      <td>0.743326</td>\n",
       "    </tr>\n",
       "    <tr>\n",
       "      <th>31</th>\n",
       "      <td>14610</td>\n",
       "      <td>0.009408</td>\n",
       "      <td>0.686197</td>\n",
       "    </tr>\n",
       "    <tr>\n",
       "      <th>32</th>\n",
       "      <td>18262</td>\n",
       "      <td>0.008464</td>\n",
       "      <td>0.654757</td>\n",
       "    </tr>\n",
       "  </tbody>\n",
       "</table>\n",
       "</div>"
      ],
      "text/plain": [
       "    plazo      tasa        df\n",
       "0       1  0.000811  0.999998\n",
       "1       7  0.000841  0.999984\n",
       "2      14  0.000780  0.999970\n",
       "3      21  0.000774  0.999955\n",
       "4      33  0.000781  0.999929\n",
       "5      61  0.000781  0.999870\n",
       "6      92  0.000811  0.999796\n",
       "7     125  0.000781  0.999733\n",
       "8     152  0.000760  0.999683\n",
       "9     182  0.000750  0.999626\n",
       "10    212  0.000736  0.999573\n",
       "11    243  0.000725  0.999518\n",
       "12    273  0.000720  0.999462\n",
       "13    306  0.000714  0.999402\n",
       "14    335  0.000708  0.999350\n",
       "15    365  0.000702  0.999298\n",
       "16    547  0.000642  0.999039\n",
       "17    730  0.000568  0.998865\n",
       "18   1097  0.000750  0.997748\n",
       "19   1462  0.001258  0.994976\n",
       "20   1826  0.001939  0.990348\n",
       "21   2191  0.002775  0.983483\n",
       "22   2556  0.003603  0.975082\n",
       "23   2924  0.004384  0.965489\n",
       "24   3288  0.005117  0.954953\n",
       "25   3653  0.005812  0.943495\n",
       "26   4383  0.006917  0.920290\n",
       "27   5479  0.008064  0.885997\n",
       "28   7306  0.009253  0.830924\n",
       "29   9133  0.009657  0.785338\n",
       "30  10957  0.009881  0.743326\n",
       "31  14610  0.009408  0.686197\n",
       "32  18262  0.008464  0.654757"
      ]
     },
     "execution_count": 3,
     "metadata": {},
     "output_type": "execute_result"
    }
   ],
   "source": [
    "curva"
   ]
  },
  {
   "cell_type": "code",
   "execution_count": 4,
   "metadata": {
    "ExecuteTime": {
     "end_time": "2020-12-17T21:45:24.863664Z",
     "start_time": "2020-12-17T21:45:24.861669Z"
    }
   },
   "outputs": [],
   "source": [
    "# math.exp(-curva.tasa.iloc[32]*curva.t.iloc[32])"
   ]
  },
  {
   "cell_type": "code",
   "execution_count": 5,
   "metadata": {
    "ExecuteTime": {
     "end_time": "2020-12-17T21:45:24.871014Z",
     "start_time": "2020-12-17T21:45:24.866411Z"
    }
   },
   "outputs": [],
   "source": [
    "curva['t'] = curva['plazo'] / 365.0"
   ]
  },
  {
   "cell_type": "code",
   "execution_count": 6,
   "metadata": {
    "ExecuteTime": {
     "end_time": "2020-12-17T21:45:24.876964Z",
     "start_time": "2020-12-17T21:45:24.873367Z"
    }
   },
   "outputs": [],
   "source": [
    "zcurva = interp1d(curva['t'],\n",
    "                  curva['tasa'],\n",
    "                  kind='cubic',\n",
    "                  fill_value=\"extrapolate\")"
   ]
  },
  {
   "cell_type": "markdown",
   "metadata": {},
   "source": [
    "## Monte Carlo\n"
   ]
  },
  {
   "cell_type": "markdown",
   "metadata": {},
   "source": [
    "### Funciones complementarias\n",
    "En esta sección se definen las funciones que ayudarán a la función principal, la cual valorizará la opción.\n"
   ]
  },
  {
   "cell_type": "code",
   "execution_count": 7,
   "metadata": {
    "ExecuteTime": {
     "end_time": "2020-12-17T21:45:24.891102Z",
     "start_time": "2020-12-17T21:45:24.878895Z"
    }
   },
   "outputs": [],
   "source": [
    "\n",
    "\n",
    "def zrate(t: float) -> float:\n",
    "    return zcurva(t)\n",
    "\n",
    "def dzrate(t: float) -> float:\n",
    "    delta = .0001\n",
    "    return (zcurva(t + delta) - zrate(t)) / delta\n",
    "\n",
    "def d2zrate(t: float) -> float:\n",
    "    delta = .0001\n",
    "    return (dzrate(t + delta) - dzrate(t)) / delta\n",
    "\n",
    "def fwd(t: float) -> float:\n",
    "    return zrate(t) + t * dzrate(t)\n",
    "\n",
    "def dfwd(t: float) -> float:\n",
    "    return 2 * dzrate(t) + t * d2zrate(t)\n",
    "\n",
    "def theta(t: float) -> float:\n",
    "    aux = (sigma ** 2) / (2.0 * gamma) * (1 - math.exp(-2.0 * gamma * t))\n",
    "    return dfwd(t) + gamma * fwd(t) + aux\n",
    "\n",
    "def b_hw(gamma: float, t: float, T: float) -> float:\n",
    "    aux = 1 - math.exp(- gamma * (T - t))\n",
    "    return aux / gamma\n",
    "\n",
    "def a_hw(zrate: float, fwd, gamma: float, sigma: float, t: float, T: float,\n",
    "         verbose = False):\n",
    "    b = b_hw(gamma, t, T)\n",
    "    dfT = math.exp(-zrate(T) * T)\n",
    "    dft = math.exp(-zrate(t) * t)\n",
    "    c1 = math.log(dfT / dft)\n",
    "    c2 = b * fwd(t)\n",
    "    c3 = (sigma**2) / (4 * gamma) * (b**2) * (1 - math.exp(-2 * gamma * t))\n",
    "    #if verbose:\n",
    "    #    print(\"c1: \" + str(c1))\n",
    "    #    print(\"c2: \" + str(c2))\n",
    "    #    print(\"c3: \" + str(c3))\n",
    "    return c1 + c2 - c3\n",
    "\n",
    "def zero_hw(r: float,\n",
    "            gamma: float,\n",
    "            sigma: float,\n",
    "            zrate: float,\n",
    "            fwd: float,\n",
    "            t: float,\n",
    "            T: float) -> float:\n",
    "    a = a_hw(zrate, fwd, gamma, sigma, t, T)\n",
    "    b = b_hw(gamma, t, T)\n",
    "    return math.exp(a - b * r)\n",
    "\n",
    "def option(e: float, Spot: float, strike: float) -> float:\n",
    "    \n",
    "    return max(e*Spot - e*strike, .0000)\n",
    "\n"
   ]
  },
  {
   "cell_type": "markdown",
   "metadata": {},
   "source": [
    "### Función principal\n",
    "La siguiente función corresponde al enunciado de la tarea, la cual simula un bono zero cupón con n simulaciones y T períodos, les resta a cada uno el valor del Strike, lo lleva a valor presente y calcula su promedio. Dicha función arrojando el valor presente y el valor del bono zero cupón.\n"
   ]
  },
  {
   "cell_type": "code",
   "execution_count": 8,
   "metadata": {
    "ExecuteTime": {
     "end_time": "2020-12-17T21:45:24.906055Z",
     "start_time": "2020-12-17T21:45:24.893425Z"
    }
   },
   "outputs": [],
   "source": [
    "### Funciones complementarias\n",
    "\n",
    "def sim_hw_many(e, Spot, Strikes, gamma, sigma, theta, t, T, r0, num_sim, num_steps, seed = None):\n",
    "    \"\"\"\n",
    "    \"\"\"\n",
    "    dt = 1 / 264.0\n",
    "    num_steps += 1\n",
    "    \n",
    "    # Calcula los números aleatorios\n",
    "    alea = np.zeros((num_sim, num_steps))\n",
    "    rnd.seed(seed)\n",
    "\n",
    "    for i in range(0, num_sim):\n",
    "        for j in range(0, num_steps):\n",
    "            alea[i][j] = rnd.normal()\n",
    "            \n",
    "    # Calcula los valores de Theta. Theta sólo depende del tiempo, no de la simulación. \n",
    "    theta_array = np.zeros(num_steps)\n",
    "    tiempo = np.zeros(num_steps)\n",
    "    for i in range(0, num_steps):\n",
    "        tiempo[i] = i * dt\n",
    "        theta_array[i] = theta(i * dt)\n",
    "    \n",
    "    # Simula las trayectorias\n",
    "    sqdt_sigma = math.sqrt(dt) * sigma\n",
    "    gamma_dt = gamma * dt\n",
    "    sim = np.zeros((num_sim, num_steps))\n",
    "    for i in range(0, num_sim):\n",
    "        sim[i][0] = r0\n",
    "        r = r0\n",
    "        for j in range(1, num_steps):\n",
    "            r = r + theta_array[j - 1] * dt - gamma_dt * r + sqdt_sigma * alea[i][j - 1]\n",
    "            sim[i][j] = r\n",
    "            \n",
    "    # Se toman los ultimos retornos        \n",
    "    last_rates = [sim[:][-1] for sim in sim]\n",
    "    \n",
    "    # Se calcula los precios de los bonos cero cupon para cada simulacion\n",
    "    precios = [zero_hw(r, gamma, sigma, zrate, fwd, t, T) * Spot for r in last_rates]\n",
    "    \n",
    "    valor_zero = np.average(precios)\n",
    "    \n",
    "    # Son los payoff e*(s-k) para cada simulacion\n",
    "    payoffs = {Strike:[option(e, Spot, Strike) for Spot in precios] for Strike in Strikes}\n",
    "   \n",
    "    \n",
    "    # \"vp\" comentado pues es una forma de calcular el valor presente\n",
    "    #vp = [math.exp(-1.0 * float(zrate(T-t))) * np.average(payoffs[Strike]) for Strike in Strikes]\n",
    "    \n",
    "    # Los siguientes codigos no dependen de \"valor zero\" ni de \"payoffs\"\n",
    "    \n",
    "    \n",
    "    #Se calcula el factor de descuto simulado para cada Strike\n",
    "    df=0\n",
    "    for sim in sim:\n",
    "        df += math.exp(-dt * np.sum(sim))\n",
    "    ez= df / num_sim \n",
    "    \n",
    "    # \"vp_sim\" toma el valor presente de cada opcion simulacion como exp*(-r*T)*e*(S-K) para cada simulacion\n",
    "    #vp_sim={Strike:[math.exp(-1.0 * float(zrate(T-t)*(T-t))) * option(e, Spot, Strike) for Spot in precios] for Strike in Strikes}\n",
    "    vp_sim={Strike:[ez * option(e, Spot, Strike) for Spot in precios] for Strike in Strikes}\n",
    "    \n",
    "    # \"vp\" calcula el promedio de las opciones simuladas que fueron llevados a valor presente\n",
    "    vp=[ np.average(vp_sim[Strike]) for Strike in Strikes]\n",
    "    \n",
    "    #se retorna el valor presente de la opción por Strike y tambie se retorna el valor del bono cero cupon.\n",
    "    return vp, valor_zero"
   ]
  },
  {
   "cell_type": "markdown",
   "metadata": {},
   "source": [
    "### Ejemplo Monte Carlo\n",
    "Se evalúa el valor presente de la opción y el valor del bono bajo los siguientes parámetros. Cabe mencionar que la función acepta varios valores de Strike como matriz.\n"
   ]
  },
  {
   "cell_type": "code",
   "execution_count": 9,
   "metadata": {
    "ExecuteTime": {
     "end_time": "2020-12-17T21:45:26.292824Z",
     "start_time": "2020-12-17T21:45:24.908105Z"
    }
   },
   "outputs": [
    {
     "name": "stdout",
     "output_type": "stream",
     "text": [
      "[0.003981428179522913, 0.06313310999804062, 0.3728235609382379, 1.0874897296122767, 2.035094773005987]\n",
      "99.96674281217366\n"
     ]
    },
    {
     "data": {
      "text/plain": [
       "0.9992978688293875"
      ]
     },
     "execution_count": 9,
     "metadata": {},
     "output_type": "execute_result"
    }
   ],
   "source": [
    "# IMPORTANTE: El imput Strike debe estar con corchete, la idea es obtener distintos valores presentes con distintos Strikes\n",
    "# para realizar comparaciones entre simulaciones.\n",
    "\n",
    "e = -1\n",
    "Spot = 100\n",
    "Strikes=[98, 99, 100, 101, 102]\n",
    "#Strikes = [100]\n",
    "gamma = .5\n",
    "sigma = .015\n",
    "t = 0\n",
    "T = 1\n",
    "r0 = zrate(0)\n",
    "num_sim = 1000\n",
    "num_steps = 263\n",
    "seed = 1234\n",
    "\n",
    "vp, valor_zero = sim_hw_many(\n",
    "    e, Spot, Strikes, gamma, sigma, theta, t, T, r0, num_sim, num_steps, seed)\n",
    "\n",
    "print(vp)\n",
    "print(valor_zero)\n",
    "math.exp(-zrate(T) * T)"
   ]
  },
  {
   "cell_type": "markdown",
   "metadata": {},
   "source": [
    "## Fórmula cerrada de Hull-White\n"
   ]
  },
  {
   "cell_type": "markdown",
   "metadata": {},
   "source": [
    "### Funciones complementarias\n",
    "Nuevamente se definen las funciones complementarias pero esta vez es para la fórmula cerrada.\n"
   ]
  },
  {
   "cell_type": "code",
   "execution_count": 10,
   "metadata": {
    "ExecuteTime": {
     "end_time": "2020-12-17T21:45:26.305250Z",
     "start_time": "2020-12-17T21:45:26.297070Z"
    }
   },
   "outputs": [],
   "source": [
    "def Sz(gamma, sigma, To, Tb, r0) -> float:\n",
    "    aux = math.sqrt((sigma**2) / (2 * gamma) * (1 - math.exp(-2 * gamma * To)))\n",
    "    return b_hw(gamma, 0, To)*aux\n",
    "\n",
    "\n",
    "def d1(Spot, Strikes, gamma, sigma, To, Tb, r0) -> float:\n",
    "    dfTb = Spot * math.exp(-zrate(Tb) * Tb)\n",
    "    dfTo = Strikes * math.exp(-zrate(To) * To)\n",
    "    c1 = math.log(dfTb / dfTo)\n",
    "    c2 = (Sz(gamma, sigma, To, Tb, r0) ** 2) / 2\n",
    "    #c3 = math.sqrt(Sz(gamma, sigma, To, Tb, r0))\n",
    "    c3 = Sz(gamma, sigma, To, Tb, r0)\n",
    "    return (c1 + c2) / c3\n",
    "\n",
    "\n",
    "def d2(Spot, Strikes, gamma, sigma, To, Tb, r0) -> float:\n",
    "    return d1(Spot, Strikes, gamma, sigma, To, Tb, r0) - Sz(gamma, sigma, To, Tb, r0)"
   ]
  },
  {
   "cell_type": "markdown",
   "metadata": {},
   "source": [
    "### Funciones complementarias\n",
    "En esta parte se define la función cerrada de Hull-White propiamente tal, la cual se asemeja bastante a la de Black-Scholes.\n"
   ]
  },
  {
   "cell_type": "code",
   "execution_count": 11,
   "metadata": {
    "ExecuteTime": {
     "end_time": "2020-12-17T21:45:26.313186Z",
     "start_time": "2020-12-17T21:45:26.307770Z"
    }
   },
   "outputs": [],
   "source": [
    "def option_hw(e, Spot, Strikes, gamma, sigma, To, Tb, r0):\n",
    "    nd1 = scipy.stats.norm.cdf(e*d1(Spot, Strikes, gamma, sigma, To, Tb, r0))\n",
    "    nd2 = scipy.stats.norm.cdf(e*d2(Spot, Strikes, gamma, sigma, To, Tb, r0))\n",
    "    dfTb = math.exp(-zrate(Tb) * Tb)\n",
    "    dfTo = math.exp(-zrate(To) * To)\n",
    "    NSpot = Spot * dfTb / dfTo\n",
    "    c1 = e*NSpot*nd1\n",
    "    c2 = e*Strikes*nd2\n",
    "    return math.exp(-zrate(To) * To)*(c1-c2)"
   ]
  },
  {
   "cell_type": "markdown",
   "metadata": {},
   "source": [
    "### Ejemplo Hull-White\n"
   ]
  },
  {
   "cell_type": "code",
   "execution_count": 36,
   "metadata": {
    "ExecuteTime": {
     "end_time": "2020-12-17T21:55:12.923762Z",
     "start_time": "2020-12-17T21:55:12.915969Z"
    }
   },
   "outputs": [
    {
     "data": {
      "text/plain": [
       "1.9612536434544676"
      ]
     },
     "execution_count": 36,
     "metadata": {},
     "output_type": "execute_result"
    }
   ],
   "source": [
    "e = 1\n",
    "Spot = 100\n",
    "Strike = 98\n",
    "gamma = .5\n",
    "sigma = .015\n",
    "To = 1\n",
    "Tb = 2\n",
    "r0 = zrate(0)\n",
    "vp2 = option_hw(e, Spot, Strike, gamma, sigma, To, Tb, r0)\n",
    "vp2"
   ]
  },
  {
   "cell_type": "code",
   "execution_count": 37,
   "metadata": {
    "ExecuteTime": {
     "end_time": "2020-12-17T21:55:14.472236Z",
     "start_time": "2020-12-17T21:55:14.468071Z"
    }
   },
   "outputs": [],
   "source": [
    "import hull_white as hw"
   ]
  },
  {
   "cell_type": "code",
   "execution_count": 38,
   "metadata": {
    "ExecuteTime": {
     "end_time": "2020-12-17T21:55:15.365061Z",
     "start_time": "2020-12-17T21:55:15.355438Z"
    }
   },
   "outputs": [
    {
     "data": {
      "text/plain": [
       "1.9612536434544858"
      ]
     },
     "execution_count": 38,
     "metadata": {},
     "output_type": "execute_result"
    }
   ],
   "source": [
    "hw.zcb_call_put(\n",
    "    hw.CallPut.CALL,\n",
    "    strike=Strike/100,\n",
    "    to=To,\n",
    "    tb=Tb,\n",
    "    r0=r0,\n",
    "    zo=math.exp(-zrate(To) * To),\n",
    "    zb=math.exp(-zrate(Tb) * Tb),\n",
    "    gamma=gamma,\n",
    "    sigma=sigma) * 100"
   ]
  },
  {
   "cell_type": "code",
   "execution_count": 39,
   "metadata": {
    "ExecuteTime": {
     "end_time": "2020-12-17T21:55:29.346695Z",
     "start_time": "2020-12-17T21:55:29.335772Z"
    }
   },
   "outputs": [
    {
     "data": {
      "text/plain": [
       "2.04707229189534"
      ]
     },
     "execution_count": 39,
     "metadata": {},
     "output_type": "execute_result"
    }
   ],
   "source": [
    "e = -1\n",
    "Spot = 100\n",
    "Strike = 102\n",
    "gamma = .5\n",
    "sigma = .015\n",
    "To = 1\n",
    "Tb = 2\n",
    "r0 = zrate(0)\n",
    "vp2 = option_hw(e, Spot, Strike, gamma, sigma, To, Tb, r0)\n",
    "vp2"
   ]
  },
  {
   "cell_type": "code",
   "execution_count": 40,
   "metadata": {
    "ExecuteTime": {
     "end_time": "2020-12-17T21:55:30.584373Z",
     "start_time": "2020-12-17T21:55:30.575894Z"
    }
   },
   "outputs": [
    {
     "data": {
      "text/plain": [
       "2.0470722918953355"
      ]
     },
     "execution_count": 40,
     "metadata": {},
     "output_type": "execute_result"
    }
   ],
   "source": [
    "hw.zcb_call_put(\n",
    "    hw.CallPut.PUT,\n",
    "    strike=Strike/100,\n",
    "    to=To,\n",
    "    tb=Tb,\n",
    "    r0=r0,\n",
    "    zo=math.exp(-zrate(To) * To),\n",
    "    zb=math.exp(-zrate(Tb) * Tb),\n",
    "    gamma=gamma,\n",
    "    sigma=sigma) * 100"
   ]
  },
  {
   "cell_type": "markdown",
   "metadata": {},
   "source": [
    "## Comparaciones de valorización\n",
    "Luego de tener las funciones de Monte Carlo y la de Hull-white, se compararán los resultados de cada una bajo distintos parámetros."
   ]
  },
  {
   "cell_type": "markdown",
   "metadata": {},
   "source": [
    "En esta parte demora algo en compilarlo todo pues se hacen varias simulaciones.\n"
   ]
  },
  {
   "cell_type": "markdown",
   "metadata": {},
   "source": [
    "Primero se evalúa con valores promedios o comunes en los parámetros $\\gamma$ y $\\sigma$\n"
   ]
  },
  {
   "cell_type": "code",
   "execution_count": 13,
   "metadata": {
    "ExecuteTime": {
     "end_time": "2020-12-17T21:45:27.748910Z",
     "start_time": "2020-12-17T21:45:26.324462Z"
    }
   },
   "outputs": [
    {
     "name": "stdout",
     "output_type": "stream",
     "text": [
      "     K        MC        HW\n",
      "0   98  6.028021  5.998858\n",
      "1   99  5.527626  5.476007\n",
      "2  100  5.055627  4.985315\n",
      "3  101  4.613787  4.526404\n",
      "4  102  4.199539  4.098705\n"
     ]
    }
   ],
   "source": [
    "# Gamma y sigma con valores intermedios\n",
    "\n",
    "resultados = []\n",
    "\n",
    "e = 1\n",
    "Spot = 100\n",
    "Strikes = [98, 99, 100, 101, 102]\n",
    "gamma = .5\n",
    "sigma = .2\n",
    "t = 0\n",
    "T = 1\n",
    "To = 1\n",
    "Tb = 1\n",
    "r0 = zrate(0)\n",
    "num_sim = 1000\n",
    "num_steps = 264\n",
    "seed = 2000\n",
    "vp, valor_zero = sim_hw_many(\n",
    "    e, Spot, Strikes, gamma, sigma, theta, t, T, r0, num_sim, num_steps, seed)\n",
    "\n",
    "for i in range(len(Strikes)):\n",
    "    resultados.append((Strikes[i], vp[i], option_hw(\n",
    "        e, Spot, Strikes[i], gamma, sigma, To, Tb, r0)))\n",
    "df_resultados = pd.DataFrame(resultados, columns=['K', 'MC', 'HW'])\n",
    "print(df_resultados)"
   ]
  },
  {
   "cell_type": "code",
   "execution_count": 14,
   "metadata": {
    "ExecuteTime": {
     "end_time": "2020-12-17T21:45:27.756297Z",
     "start_time": "2020-12-17T21:45:27.750936Z"
    },
    "scrolled": true
   },
   "outputs": [
    {
     "name": "stdout",
     "output_type": "stream",
     "text": [
      "Para un valor de strike 98, Monte carlo y Hull White estimaron : 6.0280 |  5.9989 \n",
      "Para un valor de strike 99, Monte carlo y Hull White estimaron : 5.5276 |  5.4760 \n",
      "Para un valor de strike 100, Monte carlo y Hull White estimaron : 5.0556 |  4.9853 \n",
      "Para un valor de strike 101, Monte carlo y Hull White estimaron : 4.6138 |  4.5264 \n",
      "Para un valor de strike 102, Monte carlo y Hull White estimaron : 4.1995 |  4.0987 \n"
     ]
    }
   ],
   "source": [
    "for i in range(len(Strikes)):\n",
    "    print(\n",
    "        f'Para un valor de strike {df_resultados.K.iloc[i]}, Monte carlo y Hull White estimaron :{df_resultados.MC.iloc[i]: .4f} | {df_resultados.HW.iloc[i]: .4f} ')"
   ]
  },
  {
   "cell_type": "markdown",
   "metadata": {},
   "source": [
    "Con gamma y sigma en valores intermedios, tal parece que la función de Monte Carlo sobrestima ligeramente las opciones con respecto a la formula cerrada de hull White, sin embargo, ambos son bastante parecidos así que esta diferencia se le puede atribuir a la aleatoriedad.\n"
   ]
  },
  {
   "cell_type": "markdown",
   "metadata": {},
   "source": [
    "Ahora se evalúa $\\gamma$ con un valor alto y bajo\n"
   ]
  },
  {
   "cell_type": "code",
   "execution_count": 15,
   "metadata": {
    "ExecuteTime": {
     "end_time": "2020-12-17T21:45:29.147762Z",
     "start_time": "2020-12-17T21:45:27.758161Z"
    }
   },
   "outputs": [
    {
     "name": "stdout",
     "output_type": "stream",
     "text": [
      "     K        MC        HW\n",
      "0   98  4.558811  4.631596\n",
      "1   99  4.041480  4.082885\n",
      "2  100  3.566786  3.578867\n",
      "3  101  3.133248  3.119154\n",
      "4  102  2.732192  2.702825\n"
     ]
    }
   ],
   "source": [
    "# Gamma alto\n",
    "\n",
    "resultados = []\n",
    "\n",
    "e = 1\n",
    "Spot = 100\n",
    "Strikes = [98, 99, 100, 101, 102]\n",
    "gamma = .9\n",
    "sigma = .2\n",
    "t = 0\n",
    "T = 1\n",
    "To = 1\n",
    "Tb = 1\n",
    "r0 = zrate(0)\n",
    "num_sim = 1000\n",
    "num_steps = 264\n",
    "seed = 2000\n",
    "vp, valor_zero = sim_hw_many(\n",
    "    e, Spot, Strikes, gamma, sigma, theta, t, T, r0, num_sim, num_steps, seed)\n",
    "\n",
    "for i in range(len(Strikes)):\n",
    "    resultados.append((Strikes[i], vp[i], option_hw(\n",
    "        e, Spot, Strikes[i], gamma, sigma, To, Tb, r0)))\n",
    "df_resultados = pd.DataFrame(resultados, columns=['K', 'MC', 'HW'])\n",
    "print(df_resultados)"
   ]
  },
  {
   "cell_type": "code",
   "execution_count": 16,
   "metadata": {
    "ExecuteTime": {
     "end_time": "2020-12-17T21:45:29.156158Z",
     "start_time": "2020-12-17T21:45:29.149981Z"
    },
    "scrolled": false
   },
   "outputs": [
    {
     "name": "stdout",
     "output_type": "stream",
     "text": [
      "Para un valor de strike 98, Monte carlo y Hull White estimaron : 4.5588 |  4.6316 \n",
      "Para un valor de strike 99, Monte carlo y Hull White estimaron : 4.0415 |  4.0829 \n",
      "Para un valor de strike 100, Monte carlo y Hull White estimaron : 3.5668 |  3.5789 \n",
      "Para un valor de strike 101, Monte carlo y Hull White estimaron : 3.1332 |  3.1192 \n",
      "Para un valor de strike 102, Monte carlo y Hull White estimaron : 2.7322 |  2.7028 \n"
     ]
    }
   ],
   "source": [
    "for i in range(len(Strikes)):\n",
    "    print(\n",
    "        f'Para un valor de strike {df_resultados.K.iloc[i]}, Monte carlo y Hull White estimaron :{df_resultados.MC.iloc[i]: .4f} | {df_resultados.HW.iloc[i]: .4f} ')"
   ]
  },
  {
   "cell_type": "code",
   "execution_count": 17,
   "metadata": {
    "ExecuteTime": {
     "end_time": "2020-12-17T21:45:30.528519Z",
     "start_time": "2020-12-17T21:45:29.158146Z"
    }
   },
   "outputs": [
    {
     "name": "stdout",
     "output_type": "stream",
     "text": [
      "     K        MC        HW\n",
      "0   98  4.558811  4.631596\n",
      "1   99  4.041480  4.082885\n",
      "2  100  3.566786  3.578867\n",
      "3  101  3.133248  3.119154\n",
      "4  102  2.732192  2.702825\n"
     ]
    }
   ],
   "source": [
    "# Gamma bajo\n",
    "\n",
    "resultados = []\n",
    "\n",
    "e = 1\n",
    "Spot = 100\n",
    "Strikes = [98, 99, 100, 101, 102]\n",
    "gamma = .9\n",
    "sigma = .2\n",
    "t = 0\n",
    "T = 1\n",
    "To = 1\n",
    "Tb = 1\n",
    "r0 = zrate(0)\n",
    "num_sim = 1000\n",
    "num_steps = 264\n",
    "seed = 2000\n",
    "vp, valor_zero = sim_hw_many(\n",
    "    e, Spot, Strikes, gamma, sigma, theta, t, T, r0, num_sim, num_steps, seed)\n",
    "\n",
    "for i in range(len(Strikes)):\n",
    "    resultados.append((Strikes[i], vp[i], option_hw(\n",
    "        e, Spot, Strikes[i], gamma, sigma, To, Tb, r0)))\n",
    "df_resultados = pd.DataFrame(resultados, columns=['K', 'MC', 'HW'])\n",
    "print(df_resultados)"
   ]
  },
  {
   "cell_type": "code",
   "execution_count": 18,
   "metadata": {
    "ExecuteTime": {
     "end_time": "2020-12-17T21:45:30.536315Z",
     "start_time": "2020-12-17T21:45:30.530321Z"
    }
   },
   "outputs": [
    {
     "name": "stdout",
     "output_type": "stream",
     "text": [
      "Para un valor de strike 98, Monte carlo y Hull White estimaron : 4.5588 |  4.6316 \n",
      "Para un valor de strike 99, Monte carlo y Hull White estimaron : 4.0415 |  4.0829 \n",
      "Para un valor de strike 100, Monte carlo y Hull White estimaron : 3.5668 |  3.5789 \n",
      "Para un valor de strike 101, Monte carlo y Hull White estimaron : 3.1332 |  3.1192 \n",
      "Para un valor de strike 102, Monte carlo y Hull White estimaron : 2.7322 |  2.7028 \n"
     ]
    }
   ],
   "source": [
    "for i in range(len(Strikes)):\n",
    "    print(f'Para un valor de strike {df_resultados.K.iloc[i]}, Monte carlo y Hull White estimaron :{df_resultados.MC.iloc[i]: .4f} | {df_resultados.HW.iloc[i]: .4f} ')\n"
   ]
  },
  {
   "cell_type": "markdown",
   "metadata": {},
   "source": [
    "Ya sea con un $\\gamma$ alto o bajo, ambos modelos son bastante parecidos. **AD:** \"bastante parecidos\" no es una argumentación precisa, hay que mostrar (al menos) error absoluto y/o relativo."
   ]
  },
  {
   "cell_type": "markdown",
   "metadata": {},
   "source": [
    "Ahora se va a cambiar el $\\sigma$ con valores altos y bajos.\n"
   ]
  },
  {
   "cell_type": "code",
   "execution_count": 19,
   "metadata": {
    "ExecuteTime": {
     "end_time": "2020-12-17T21:45:31.909816Z",
     "start_time": "2020-12-17T21:45:30.537995Z"
    }
   },
   "outputs": [
    {
     "name": "stdout",
     "output_type": "stream",
     "text": [
      "     K         MC         HW\n",
      "0   98  22.591897  22.946956\n",
      "1   99  22.206658  22.547758\n",
      "2  100  21.825614  22.155467\n",
      "3  101  21.447334  21.769981\n",
      "4  102  21.070142  21.391197\n"
     ]
    }
   ],
   "source": [
    "# sigma alto\n",
    "\n",
    "resultados = []\n",
    "\n",
    "e = 1\n",
    "Spot = 100\n",
    "Strikes = [98, 99, 100, 101, 102]\n",
    "gamma = .5\n",
    "sigma = .9\n",
    "t = 0\n",
    "T = 1\n",
    "To = 1\n",
    "Tb = 1\n",
    "r0 = zrate(0)\n",
    "num_sim = 1000\n",
    "num_steps = 264\n",
    "seed = 2000\n",
    "vp, valor_zero = sim_hw_many(\n",
    "    e, Spot, Strikes, gamma, sigma, theta, t, T, r0, num_sim, num_steps, seed)\n",
    "\n",
    "for i in range(len(Strikes)):\n",
    "    resultados.append((Strikes[i], vp[i], option_hw(\n",
    "        e, Spot, Strikes[i], gamma, sigma, To, Tb, r0)))\n",
    "df_resultados = pd.DataFrame(resultados, columns=['K', 'MC', 'HW'])\n",
    "print(df_resultados)"
   ]
  },
  {
   "cell_type": "code",
   "execution_count": 20,
   "metadata": {
    "ExecuteTime": {
     "end_time": "2020-12-17T21:45:31.918029Z",
     "start_time": "2020-12-17T21:45:31.911982Z"
    }
   },
   "outputs": [
    {
     "name": "stdout",
     "output_type": "stream",
     "text": [
      "Para un valor de strike 98, Monte carlo y Hull White estimaron : 22.5919 |  22.9470 \n",
      "Para un valor de strike 99, Monte carlo y Hull White estimaron : 22.2067 |  22.5478 \n",
      "Para un valor de strike 100, Monte carlo y Hull White estimaron : 21.8256 |  22.1555 \n",
      "Para un valor de strike 101, Monte carlo y Hull White estimaron : 21.4473 |  21.7700 \n",
      "Para un valor de strike 102, Monte carlo y Hull White estimaron : 21.0701 |  21.3912 \n"
     ]
    }
   ],
   "source": [
    "for i in range(len(Strikes)):\n",
    "    print(f'Para un valor de strike {df_resultados.K.iloc[i]}, Monte carlo y Hull White estimaron :{df_resultados.MC.iloc[i]: .4f} | {df_resultados.HW.iloc[i]: .4f} ')\n"
   ]
  },
  {
   "cell_type": "code",
   "execution_count": 21,
   "metadata": {
    "ExecuteTime": {
     "end_time": "2020-12-17T21:45:33.373201Z",
     "start_time": "2020-12-17T21:45:31.920316Z"
    }
   },
   "outputs": [
    {
     "name": "stdout",
     "output_type": "stream",
     "text": [
      "     K        MC        HW\n",
      "0   98  1.928434  2.003782\n",
      "1   99  1.013277  1.067100\n",
      "2  100  0.357089  0.374141\n",
      "3  101  0.066050  0.069923\n",
      "4  102  0.008895  0.005959\n"
     ]
    }
   ],
   "source": [
    "# sigma bajo\n",
    "\n",
    "resultados = []\n",
    "\n",
    "e = 1\n",
    "Spot = 100\n",
    "Strikes = [98, 99, 100, 101, 102]\n",
    "gamma = .5\n",
    "sigma = .015\n",
    "t = 0\n",
    "T = 1\n",
    "To = 1\n",
    "Tb = 1\n",
    "r0 = zrate(0)\n",
    "num_sim = 1000\n",
    "num_steps = 264\n",
    "seed = 2000\n",
    "vp, valor_zero = sim_hw_many(\n",
    "    e, Spot, Strikes, gamma, sigma, theta, t, T, r0, num_sim, num_steps, seed)\n",
    "\n",
    "for i in range(len(Strikes)):\n",
    "    resultados.append((Strikes[i], vp[i], option_hw(\n",
    "        e, Spot, Strikes[i], gamma, sigma, To, Tb, r0)))\n",
    "df_resultados = pd.DataFrame(resultados, columns=['K', 'MC', 'HW'])\n",
    "print(df_resultados)"
   ]
  },
  {
   "cell_type": "code",
   "execution_count": 22,
   "metadata": {
    "ExecuteTime": {
     "end_time": "2020-12-17T21:45:33.397580Z",
     "start_time": "2020-12-17T21:45:33.375546Z"
    },
    "scrolled": false
   },
   "outputs": [
    {
     "name": "stdout",
     "output_type": "stream",
     "text": [
      "Para un valor de strike 98, Monte carlo y Hull White estimaron : 1.9284 |  2.0038 \n",
      "Para un valor de strike 99, Monte carlo y Hull White estimaron : 1.0133 |  1.0671 \n",
      "Para un valor de strike 100, Monte carlo y Hull White estimaron : 0.3571 |  0.3741 \n",
      "Para un valor de strike 101, Monte carlo y Hull White estimaron : 0.0660 |  0.0699 \n",
      "Para un valor de strike 102, Monte carlo y Hull White estimaron : 0.0089 |  0.0060 \n"
     ]
    }
   ],
   "source": [
    "for i in range(len(Strikes)):\n",
    "    print(f'Para un valor de strike {df_resultados.K.iloc[i]}, Monte carlo y Hull White estimaron :{df_resultados.MC.iloc[i]: .4f} | {df_resultados.HW.iloc[i]: .4f} ')\n"
   ]
  },
  {
   "cell_type": "markdown",
   "metadata": {},
   "source": [
    "Tanto con una valor de $\\sigma$ alto o bajo, los modelos son bastante cercanos entre sí, así que ambos modelos conversan con un $\\sigma$ cualquiera."
   ]
  },
  {
   "cell_type": "markdown",
   "metadata": {},
   "source": [
    "Ahora se evalúa la sensibilidad de ambos modelos variando el Strike."
   ]
  },
  {
   "cell_type": "code",
   "execution_count": 23,
   "metadata": {
    "ExecuteTime": {
     "end_time": "2020-12-17T21:45:34.768903Z",
     "start_time": "2020-12-17T21:45:33.401560Z"
    }
   },
   "outputs": [
    {
     "name": "stdout",
     "output_type": "stream",
     "text": [
      "     K         MC            HW\n",
      "0    1  98.587806  9.893049e+01\n",
      "1   50  49.582871  4.996489e+01\n",
      "2  100   5.055627  4.985315e+00\n",
      "3  150   0.015619  2.437318e-03\n",
      "4  300   0.000000  1.970807e-18\n"
     ]
    }
   ],
   "source": [
    "# Strikes extremos\n",
    "\n",
    "resultados = []\n",
    "\n",
    "e = 1\n",
    "Spot = 100\n",
    "Strikes = [1, 50, 100, 150, 300]\n",
    "gamma = .5\n",
    "sigma = .2\n",
    "t = 0\n",
    "T = 1\n",
    "To = 1\n",
    "Tb = 1\n",
    "r0 = zrate(0)\n",
    "num_sim = 1000\n",
    "num_steps = 264\n",
    "seed = 2000\n",
    "vp, valor_zero = sim_hw_many(\n",
    "    e, Spot, Strikes, gamma, sigma, theta, t, T, r0, num_sim, num_steps, seed)\n",
    "\n",
    "for i in range(len(Strikes)):\n",
    "    resultados.append((Strikes[i], vp[i], option_hw(\n",
    "        e, Spot, Strikes[i], gamma, sigma, To, Tb, r0)))\n",
    "df_resultados = pd.DataFrame(resultados, columns=['K', 'MC', 'HW'])\n",
    "print(df_resultados)"
   ]
  },
  {
   "cell_type": "code",
   "execution_count": 24,
   "metadata": {
    "ExecuteTime": {
     "end_time": "2020-12-17T21:45:34.776801Z",
     "start_time": "2020-12-17T21:45:34.770883Z"
    },
    "scrolled": true
   },
   "outputs": [
    {
     "name": "stdout",
     "output_type": "stream",
     "text": [
      "Para un valor de strike 1, Monte carlo y Hull White estimaron : 98.5878 |  98.9305 \n",
      "Para un valor de strike 50, Monte carlo y Hull White estimaron : 49.5829 |  49.9649 \n",
      "Para un valor de strike 100, Monte carlo y Hull White estimaron : 5.0556 |  4.9853 \n",
      "Para un valor de strike 150, Monte carlo y Hull White estimaron : 0.0156 |  0.0024 \n",
      "Para un valor de strike 300, Monte carlo y Hull White estimaron : 0.0000 |  0.0000 \n"
     ]
    }
   ],
   "source": [
    "for i in range(len(Strikes)):\n",
    "    print(f'Para un valor de strike {df_resultados.K.iloc[i]}, Monte carlo y Hull White estimaron :{df_resultados.MC.iloc[i]: .4f} | {df_resultados.HW.iloc[i]: .4f} ')\n"
   ]
  },
  {
   "cell_type": "markdown",
   "metadata": {},
   "source": [
    "Por lo anterior, se puede ver que ambos modelos logran asemejarse con distintos valores extremos del Strike, por lo que se puede decir que ambos modelos estan bien estructurados y que conversan entre ellos independientemente de sus parámetros."
   ]
  },
  {
   "cell_type": "markdown",
   "metadata": {},
   "source": [
    "Ahora se va a realizar el último punto, donde se compara el valor del bono zero cupón versus el valor del mercado (zrate), con los parámetros clásicos de las clases, es decir, $\\sigma$=0.5 y $\\sigma$=0.015"
   ]
  },
  {
   "cell_type": "code",
   "execution_count": 25,
   "metadata": {
    "ExecuteTime": {
     "end_time": "2020-12-17T21:45:36.117478Z",
     "start_time": "2020-12-17T21:45:34.778381Z"
    },
    "scrolled": true
   },
   "outputs": [
    {
     "name": "stdout",
     "output_type": "stream",
     "text": [
      "Valor de un bono cupon cero por Monte carlo y por el mercado : 99.9602 |  99.9365 \n",
      "La función de Monte Carlo lo subestima muy ligeramente, pero tanto la funcion de Monte Carlo como el indice del Mercado resultaron ser bastante parecidos\n"
     ]
    }
   ],
   "source": [
    "e = 1\n",
    "Spot = 100\n",
    "Strikes = [98, 99, 100, 101, 102]\n",
    "gamma = .5\n",
    "sigma = .015\n",
    "t = 0\n",
    "T = 1\n",
    "To = 1\n",
    "Tb = 1\n",
    "r0 = zrate(0)\n",
    "num_sim = 1000\n",
    "num_steps = 264\n",
    "seed = 1234\n",
    "vp, valor_zero = sim_hw_many(\n",
    "    e, Spot, Strikes, gamma, sigma, theta, t, T, r0, num_sim, num_steps, seed)\n",
    "\n",
    "print(\n",
    "    f'Valor de un bono cupon cero por Monte carlo y por el mercado :{valor_zero: .4f} | {zero_hw(zrate(1), gamma, sigma, zrate, fwd, t, T) * Spot: .4f} ')\n",
    "print('La función de Monte Carlo lo subestima muy ligeramente, pero tanto la funcion de Monte Carlo como el indice del Mercado resultaron ser bastante parecidos')"
   ]
  },
  {
   "cell_type": "markdown",
   "metadata": {
    "ExecuteTime": {
     "end_time": "2020-12-14T10:40:34.383661Z",
     "start_time": "2020-12-14T10:40:34.376482Z"
    }
   },
   "source": [
    "**AD:** Muy claro. Bien que compararon resultados cambiando parámetros. No se evalúan las puts, no hay cálculo de error."
   ]
  }
 ],
 "metadata": {
  "hide_input": false,
  "kernelspec": {
   "display_name": "Python 3",
   "language": "python",
   "name": "python3"
  },
  "language_info": {
   "codemirror_mode": {
    "name": "ipython",
    "version": 3
   },
   "file_extension": ".py",
   "mimetype": "text/x-python",
   "name": "python",
   "nbconvert_exporter": "python",
   "pygments_lexer": "ipython3",
   "version": "3.7.3"
  },
  "latex_envs": {
   "LaTeX_envs_menu_present": true,
   "autoclose": false,
   "autocomplete": true,
   "bibliofile": "biblio.bib",
   "cite_by": "apalike",
   "current_citInitial": 1,
   "eqLabelWithNumbers": true,
   "eqNumInitial": 1,
   "hotkeys": {
    "equation": "Ctrl-E",
    "itemize": "Ctrl-I"
   },
   "labels_anchors": false,
   "latex_user_defs": false,
   "report_style_numbering": false,
   "user_envs_cfg": false
  },
  "toc": {
   "base_numbering": "13",
   "nav_menu": {},
   "number_sections": true,
   "sideBar": true,
   "skip_h1_title": false,
   "title_cell": "Tabla de Contenidos",
   "title_sidebar": "Contenido",
   "toc_cell": false,
   "toc_position": {
    "height": "calc(100% - 180px)",
    "left": "10px",
    "top": "150px",
    "width": "213.991px"
   },
   "toc_section_display": true,
   "toc_window_display": true
  },
  "varInspector": {
   "cols": {
    "lenName": 16,
    "lenType": 16,
    "lenVar": 40
   },
   "kernels_config": {
    "python": {
     "delete_cmd_postfix": "",
     "delete_cmd_prefix": "del ",
     "library": "var_list.py",
     "varRefreshCmd": "print(var_dic_list())"
    },
    "r": {
     "delete_cmd_postfix": ") ",
     "delete_cmd_prefix": "rm(",
     "library": "var_list.r",
     "varRefreshCmd": "cat(var_dic_list()) "
    }
   },
   "types_to_exclude": [
    "module",
    "function",
    "builtin_function_or_method",
    "instance",
    "_Feature"
   ],
   "window_display": false
  }
 },
 "nbformat": 4,
 "nbformat_minor": 2
}
