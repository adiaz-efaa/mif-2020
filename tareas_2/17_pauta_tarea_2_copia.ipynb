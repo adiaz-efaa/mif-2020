{
 "cells": [
  {
   "cell_type": "markdown",
   "metadata": {},
   "source": [
    "# Pauta Tarea 2"
   ]
  },
  {
   "cell_type": "markdown",
   "metadata": {},
   "source": [
    "- Usando las funciones anteriores, o desarrollando las propias, escriba una función que pueda valorizar, por simulación de Montecarlo, calls y puts sobre bonos cero cupón con el modelo de HW. Considere puts y calls de plazo máximo igual a 1Y.\n",
    "- Su función debe poder recibir la semilla.\n",
    "- Compare sus resultados con las fórmulas del modelo y muestre que diferencias obtiene usando 1000 simulaciones y una semilla predeterminada.\n",
    "- Valorice también por simulación de Montecarlo el bono cupón cero a 1Y. Muestre que diferencias obtiene respecto al valor de mercado del bono usando 1000 simulaciones y una semilla predeterminada (valor de mercado significa el valor que hoy se puede observar ."
   ]
  },
  {
   "cell_type": "markdown",
   "metadata": {},
   "source": [
    "## Configuración"
   ]
  },
  {
   "cell_type": "markdown",
   "metadata": {},
   "source": [
    "### Librerías"
   ]
  },
  {
   "cell_type": "code",
   "execution_count": 1,
   "metadata": {
    "ExecuteTime": {
     "end_time": "2020-12-17T20:13:03.881004Z",
     "start_time": "2020-12-17T20:13:03.375327Z"
    }
   },
   "outputs": [],
   "source": [
    "import sys\n",
    "sys.path.insert(1, '../modules')\n",
    "import auxiliary as aux\n",
    "\n",
    "import hull_white as hw\n",
    "import auxiliary as aux\n",
    "from typing import Callable\n",
    "import pandas as pd\n",
    "import numpy as np\n",
    "import math"
   ]
  },
  {
   "cell_type": "markdown",
   "metadata": {},
   "source": [
    "### Formatos para DataFrames"
   ]
  },
  {
   "cell_type": "code",
   "execution_count": 2,
   "metadata": {
    "ExecuteTime": {
     "end_time": "2020-12-17T20:13:03.886472Z",
     "start_time": "2020-12-17T20:13:03.882992Z"
    }
   },
   "outputs": [],
   "source": [
    "frmt = {'plazo': '{:,.0f}', 'tasa': '{:.8%}', 'df': '{:.6%}', 't': '{:.4f}',\n",
    "        'analytic_put': '{:.6%}', 'sim_put': '{:.6%}', 'dif_put': '{:.6%}',\n",
    "        'analytic_call': '{:.6%}', 'sim_call':  '{:.6%}', 'dif_call': '{:.6%}',\n",
    "        'analytic_zero': '{:.6%}', 'sim_zero':  '{:.6%}', 'dif_zero': '{:.6%}', }"
   ]
  },
  {
   "cell_type": "markdown",
   "metadata": {},
   "source": [
    "### Constante `DT`"
   ]
  },
  {
   "cell_type": "code",
   "execution_count": 3,
   "metadata": {
    "ExecuteTime": {
     "end_time": "2020-12-17T20:13:03.890372Z",
     "start_time": "2020-12-17T20:13:03.888181Z"
    }
   },
   "outputs": [],
   "source": [
    "DT = 1 / 264.0"
   ]
  },
  {
   "cell_type": "markdown",
   "metadata": {},
   "source": [
    "### Curva Cero Cupón"
   ]
  },
  {
   "cell_type": "code",
   "execution_count": 4,
   "metadata": {
    "ExecuteTime": {
     "end_time": "2020-12-17T20:13:03.914049Z",
     "start_time": "2020-12-17T20:13:03.891920Z"
    }
   },
   "outputs": [],
   "source": [
    "df_curva = pd.read_excel('../data/20201012_built_sofr_zero.xlsx')\n",
    "df_curva['t'] = df_curva['plazo'] / 365.0"
   ]
  },
  {
   "cell_type": "code",
   "execution_count": 5,
   "metadata": {
    "ExecuteTime": {
     "end_time": "2020-12-17T20:13:03.967719Z",
     "start_time": "2020-12-17T20:13:03.916776Z"
    }
   },
   "outputs": [
    {
     "data": {
      "text/html": [
       "<style  type=\"text/css\" >\n",
       "</style><table id=\"T_44e53e98_40a4_11eb_b2e6_02cba411ec9d\" ><thead>    <tr>        <th class=\"blank level0\" ></th>        <th class=\"col_heading level0 col0\" >plazo</th>        <th class=\"col_heading level0 col1\" >tasa</th>        <th class=\"col_heading level0 col2\" >df</th>        <th class=\"col_heading level0 col3\" >t</th>    </tr></thead><tbody>\n",
       "                <tr>\n",
       "                        <th id=\"T_44e53e98_40a4_11eb_b2e6_02cba411ec9dlevel0_row0\" class=\"row_heading level0 row0\" >28</th>\n",
       "                        <td id=\"T_44e53e98_40a4_11eb_b2e6_02cba411ec9drow0_col0\" class=\"data row0 col0\" >7,306</td>\n",
       "                        <td id=\"T_44e53e98_40a4_11eb_b2e6_02cba411ec9drow0_col1\" class=\"data row0 col1\" >0.92532411%</td>\n",
       "                        <td id=\"T_44e53e98_40a4_11eb_b2e6_02cba411ec9drow0_col2\" class=\"data row0 col2\" >83.092401%</td>\n",
       "                        <td id=\"T_44e53e98_40a4_11eb_b2e6_02cba411ec9drow0_col3\" class=\"data row0 col3\" >20.0164</td>\n",
       "            </tr>\n",
       "            <tr>\n",
       "                        <th id=\"T_44e53e98_40a4_11eb_b2e6_02cba411ec9dlevel0_row1\" class=\"row_heading level0 row1\" >29</th>\n",
       "                        <td id=\"T_44e53e98_40a4_11eb_b2e6_02cba411ec9drow1_col0\" class=\"data row1 col0\" >9,133</td>\n",
       "                        <td id=\"T_44e53e98_40a4_11eb_b2e6_02cba411ec9drow1_col1\" class=\"data row1 col1\" >0.96571892%</td>\n",
       "                        <td id=\"T_44e53e98_40a4_11eb_b2e6_02cba411ec9drow1_col2\" class=\"data row1 col2\" >78.533775%</td>\n",
       "                        <td id=\"T_44e53e98_40a4_11eb_b2e6_02cba411ec9drow1_col3\" class=\"data row1 col3\" >25.0219</td>\n",
       "            </tr>\n",
       "            <tr>\n",
       "                        <th id=\"T_44e53e98_40a4_11eb_b2e6_02cba411ec9dlevel0_row2\" class=\"row_heading level0 row2\" >30</th>\n",
       "                        <td id=\"T_44e53e98_40a4_11eb_b2e6_02cba411ec9drow2_col0\" class=\"data row2 col0\" >10,957</td>\n",
       "                        <td id=\"T_44e53e98_40a4_11eb_b2e6_02cba411ec9drow2_col1\" class=\"data row2 col1\" >0.98810273%</td>\n",
       "                        <td id=\"T_44e53e98_40a4_11eb_b2e6_02cba411ec9drow2_col2\" class=\"data row2 col2\" >74.332619%</td>\n",
       "                        <td id=\"T_44e53e98_40a4_11eb_b2e6_02cba411ec9drow2_col3\" class=\"data row2 col3\" >30.0192</td>\n",
       "            </tr>\n",
       "            <tr>\n",
       "                        <th id=\"T_44e53e98_40a4_11eb_b2e6_02cba411ec9dlevel0_row3\" class=\"row_heading level0 row3\" >31</th>\n",
       "                        <td id=\"T_44e53e98_40a4_11eb_b2e6_02cba411ec9drow3_col0\" class=\"data row3 col0\" >14,610</td>\n",
       "                        <td id=\"T_44e53e98_40a4_11eb_b2e6_02cba411ec9drow3_col1\" class=\"data row3 col1\" >0.94083244%</td>\n",
       "                        <td id=\"T_44e53e98_40a4_11eb_b2e6_02cba411ec9drow3_col2\" class=\"data row3 col2\" >68.619685%</td>\n",
       "                        <td id=\"T_44e53e98_40a4_11eb_b2e6_02cba411ec9drow3_col3\" class=\"data row3 col3\" >40.0274</td>\n",
       "            </tr>\n",
       "            <tr>\n",
       "                        <th id=\"T_44e53e98_40a4_11eb_b2e6_02cba411ec9dlevel0_row4\" class=\"row_heading level0 row4\" >32</th>\n",
       "                        <td id=\"T_44e53e98_40a4_11eb_b2e6_02cba411ec9drow4_col0\" class=\"data row4 col0\" >18,262</td>\n",
       "                        <td id=\"T_44e53e98_40a4_11eb_b2e6_02cba411ec9drow4_col1\" class=\"data row4 col1\" >0.84642634%</td>\n",
       "                        <td id=\"T_44e53e98_40a4_11eb_b2e6_02cba411ec9drow4_col2\" class=\"data row4 col2\" >65.475678%</td>\n",
       "                        <td id=\"T_44e53e98_40a4_11eb_b2e6_02cba411ec9drow4_col3\" class=\"data row4 col3\" >50.0329</td>\n",
       "            </tr>\n",
       "    </tbody></table>"
      ],
      "text/plain": [
       "<pandas.io.formats.style.Styler at 0x7fe08a9fdb70>"
      ]
     },
     "execution_count": 5,
     "metadata": {},
     "output_type": "execute_result"
    }
   ],
   "source": [
    "df_curva.tail().style.format(frmt)"
   ]
  },
  {
   "cell_type": "markdown",
   "metadata": {},
   "source": [
    "### Funciones del Modelo HW"
   ]
  },
  {
   "cell_type": "markdown",
   "metadata": {},
   "source": [
    "- `zrate`: es el cubic spline construido a partir de las columnas `t` y `tasa` de `df_curva`.\n",
    "- `hwz`: es una versión más sencilla de la función `zero_hw` que sólo requiere llos parámetros `r`, `t` y `T`.\n",
    "- `theta`: es la misma función que ya utilizamos.\n",
    "\n",
    "Primero se establecen los valores de $\\gamma$ y $\\sigma$."
   ]
  },
  {
   "cell_type": "code",
   "execution_count": 6,
   "metadata": {
    "ExecuteTime": {
     "end_time": "2020-12-17T20:13:03.973092Z",
     "start_time": "2020-12-17T20:13:03.970224Z"
    }
   },
   "outputs": [],
   "source": [
    "gamma = 1\n",
    "sigma = .005"
   ]
  },
  {
   "cell_type": "markdown",
   "metadata": {},
   "source": [
    "Se construyen las funciones `zrate`, `hwz` y `theta`."
   ]
  },
  {
   "cell_type": "code",
   "execution_count": 7,
   "metadata": {
    "ExecuteTime": {
     "end_time": "2020-12-17T20:13:03.979058Z",
     "start_time": "2020-12-17T20:13:03.974786Z"
    }
   },
   "outputs": [],
   "source": [
    "zrate, hwz, theta = hw.get_zrate_hwzero_and_theta(\n",
    "    df_curva['t'],\n",
    "    df_curva['tasa'],\n",
    "    gamma,\n",
    "    sigma\n",
    ")"
   ]
  },
  {
   "cell_type": "markdown",
   "metadata": {},
   "source": [
    "## Función para Valorizar"
   ]
  },
  {
   "cell_type": "markdown",
   "metadata": {},
   "source": [
    "Primero se define la función `payoff` para las call y put sobre un bono cupón cero."
   ]
  },
  {
   "cell_type": "code",
   "execution_count": 8,
   "metadata": {
    "ExecuteTime": {
     "end_time": "2020-12-17T20:13:03.985490Z",
     "start_time": "2020-12-17T20:13:03.980390Z"
    }
   },
   "outputs": [],
   "source": [
    "def call_put_payoff(\n",
    "    c_p: hw.CallPut,\n",
    "    strike: float,\n",
    "    t: float,\n",
    "    T: float,\n",
    "    r: float,\n",
    "    hwz: Callable[[float, float, float], float]) -> float:\n",
    "    \"\"\"\n",
    "    \"\"\"\n",
    "    if c_p == hw.CallPut.CALL:\n",
    "        return max(hwz(r, t, T) - strike, 0.0)\n",
    "    else:\n",
    "        return max(strike - hwz(r, t, T), 0.0)"
   ]
  },
  {
   "cell_type": "markdown",
   "metadata": {},
   "source": [
    "Se fijan los parámetros `c_p`, `strike`, `t`, `T` y `hwz`."
   ]
  },
  {
   "cell_type": "code",
   "execution_count": 9,
   "metadata": {
    "ExecuteTime": {
     "end_time": "2020-12-17T20:13:03.994605Z",
     "start_time": "2020-12-17T20:13:03.988169Z"
    }
   },
   "outputs": [],
   "source": [
    "def get_call_put_payoff(\n",
    "    c_p: hw.CallPut,\n",
    "    strike: float,\n",
    "    t: float,\n",
    "    T: float,\n",
    "    hwz: Callable[[float, float, float], float]) -> Callable[[float,], float]:\n",
    "    \"\"\"\n",
    "    \"\"\"\n",
    "    def payoff(r: float):\n",
    "        return call_put_payoff(c_p, strike, t, T, r, hwz)\n",
    "    return payoff"
   ]
  },
  {
   "cell_type": "markdown",
   "metadata": {},
   "source": [
    "Se fijan los parámetros de simulación de la función `hw.sim_hw_many`."
   ]
  },
  {
   "cell_type": "code",
   "execution_count": 10,
   "metadata": {
    "ExecuteTime": {
     "end_time": "2020-12-17T20:13:04.002596Z",
     "start_time": "2020-12-17T20:13:03.996830Z"
    }
   },
   "outputs": [],
   "source": [
    "def get_simulator(\n",
    "    gamma: float,\n",
    "    sigma: float,\n",
    "    theta: Callable[[float,], float],\n",
    "    num_sim: int,\n",
    "    num_steps: int,\n",
    "    r0: float,\n",
    "    seed=None):\n",
    "    \"\"\"\n",
    "    \"\"\"\n",
    "    def simulator(seed=None):\n",
    "        return hw.sim_hw_many(gamma, sigma, theta, r0, num_sim, num_steps, seed)\n",
    "    return simulator"
   ]
  },
  {
   "cell_type": "markdown",
   "metadata": {},
   "source": [
    "Se definen `payoff` y `simulator`."
   ]
  },
  {
   "cell_type": "code",
   "execution_count": 11,
   "metadata": {
    "ExecuteTime": {
     "end_time": "2020-12-17T20:13:04.008556Z",
     "start_time": "2020-12-17T20:13:04.004987Z"
    }
   },
   "outputs": [],
   "source": [
    "call = get_call_put_payoff(hw.CallPut.CALL, .99, 1, 2, hwz)"
   ]
  },
  {
   "cell_type": "code",
   "execution_count": 12,
   "metadata": {
    "ExecuteTime": {
     "end_time": "2020-12-17T20:13:04.017765Z",
     "start_time": "2020-12-17T20:13:04.013121Z"
    }
   },
   "outputs": [],
   "source": [
    "simulator = get_simulator(gamma, sigma, theta, 100, 264, zrate(.000001), 16127)"
   ]
  },
  {
   "cell_type": "markdown",
   "metadata": {},
   "source": [
    "Finalmente, con estos últimos dos elementos se define la función de valorización:"
   ]
  },
  {
   "cell_type": "code",
   "execution_count": 13,
   "metadata": {
    "ExecuteTime": {
     "end_time": "2020-12-17T20:13:04.023611Z",
     "start_time": "2020-12-17T20:13:04.019618Z"
    }
   },
   "outputs": [],
   "source": [
    "def value_payoff_sim(simulation, payoff) -> float:\n",
    "    \"\"\"\n",
    "    La variable `simulation` son todas las simulaciones de la tasa corta para un `t` predeterminado\n",
    "    (corte transversal.)\n",
    "    \"\"\"\n",
    "    result = 0.0\n",
    "    for s in simulation:\n",
    "        result += math.exp(-DT * np.sum(s)) * payoff(s[-1])\n",
    "    return result / len(simulation)"
   ]
  },
  {
   "cell_type": "code",
   "execution_count": 14,
   "metadata": {
    "ExecuteTime": {
     "end_time": "2020-12-17T20:13:04.119822Z",
     "start_time": "2020-12-17T20:13:04.025332Z"
    }
   },
   "outputs": [],
   "source": [
    "time, simulation = simulator()"
   ]
  },
  {
   "cell_type": "code",
   "execution_count": 15,
   "metadata": {
    "ExecuteTime": {
     "end_time": "2020-12-17T20:13:04.139703Z",
     "start_time": "2020-12-17T20:13:04.121367Z"
    }
   },
   "outputs": [
    {
     "name": "stdout",
     "output_type": "stream",
     "text": [
      "simulated value: 0.959423%\n"
     ]
    }
   ],
   "source": [
    "value = value_payoff_sim(simulation, call)\n",
    "print(f'simulated value: {value:.6%}')"
   ]
  },
  {
   "cell_type": "markdown",
   "metadata": {},
   "source": [
    "## Diferencias con Calls y Puts"
   ]
  },
  {
   "cell_type": "markdown",
   "metadata": {},
   "source": [
    "- Se muestra las diferencias para Calls y Puts y strikes desde 98% hasta 102% en intervalos de 0.5%.\n",
    "- Los subyacentes son bonos cupón cero de 2Y, 3Y, 4Y y 5Y.\n",
    "- Todas las opciones tienen vencimiento en 1Y."
   ]
  },
  {
   "cell_type": "code",
   "execution_count": 16,
   "metadata": {
    "ExecuteTime": {
     "end_time": "2020-12-17T20:13:05.121988Z",
     "start_time": "2020-12-17T20:13:04.141450Z"
    }
   },
   "outputs": [],
   "source": [
    "compare = []\n",
    "simulator = get_simulator(gamma, sigma, theta, 100, 264, zrate(.000001), 16127)\n",
    "time, simulation = simulator()\n",
    "for T in [2, 3, 4, 5]:\n",
    "    for strike in [.980, .985, .990, 1.000, 1.005, 1.010, 1.015, 1.020]:\n",
    "        zo = math.exp(-zrate(1))\n",
    "        zb = math.exp(-zrate(T) * T)\n",
    "        \n",
    "        analytic_call = hw.zcb_call_put(hw.CallPut.CALL, strike, 1, T, zrate(.000001), zo, zb, gamma, sigma)\n",
    "        call = get_call_put_payoff(hw.CallPut.CALL, strike, 1, T, hwz)\n",
    "        sim_call = value_payoff_sim(simulation, call)\n",
    "        \n",
    "        analytic_put = hw.zcb_call_put(hw.CallPut.PUT, strike, 1, T, zrate(.000001), zo, zb, gamma, sigma)\n",
    "        put = get_call_put_payoff(hw.CallPut.PUT, strike, 1, T, hwz)\n",
    "        sim_put = value_payoff_sim(simulation, put)\n",
    "        \n",
    "        compare.append((T, strike,\n",
    "                        analytic_call, sim_call, analytic_call - sim_call,\n",
    "                        analytic_put, sim_put, analytic_put - sim_put))\n",
    "\n",
    "df_compare = pd.DataFrame(compare)\n",
    "df_compare.columns = ['T', 'strike',\n",
    "                      'analytic_call', 'sim_call', 'dif_call',\n",
    "                      'analytic_put', 'sim_put', 'dif_put']"
   ]
  },
  {
   "cell_type": "code",
   "execution_count": 17,
   "metadata": {
    "ExecuteTime": {
     "end_time": "2020-12-17T20:13:05.139922Z",
     "start_time": "2020-12-17T20:13:05.123671Z"
    }
   },
   "outputs": [
    {
     "data": {
      "text/html": [
       "<style  type=\"text/css\" >\n",
       "</style><table id=\"T_45973d46_40a4_11eb_b2e6_02cba411ec9d\" ><thead>    <tr>        <th class=\"blank level0\" ></th>        <th class=\"col_heading level0 col0\" >T</th>        <th class=\"col_heading level0 col1\" >strike</th>        <th class=\"col_heading level0 col2\" >analytic_call</th>        <th class=\"col_heading level0 col3\" >sim_call</th>        <th class=\"col_heading level0 col4\" >dif_call</th>        <th class=\"col_heading level0 col5\" >analytic_put</th>        <th class=\"col_heading level0 col6\" >sim_put</th>        <th class=\"col_heading level0 col7\" >dif_put</th>    </tr></thead><tbody>\n",
       "                <tr>\n",
       "                        <th id=\"T_45973d46_40a4_11eb_b2e6_02cba411ec9dlevel0_row0\" class=\"row_heading level0 row0\" >0</th>\n",
       "                        <td id=\"T_45973d46_40a4_11eb_b2e6_02cba411ec9drow0_col0\" class=\"data row0 col0\" >2</td>\n",
       "                        <td id=\"T_45973d46_40a4_11eb_b2e6_02cba411ec9drow0_col1\" class=\"data row0 col1\" >0.980000</td>\n",
       "                        <td id=\"T_45973d46_40a4_11eb_b2e6_02cba411ec9drow0_col2\" class=\"data row0 col2\" >1.955358%</td>\n",
       "                        <td id=\"T_45973d46_40a4_11eb_b2e6_02cba411ec9drow0_col3\" class=\"data row0 col3\" >1.962252%</td>\n",
       "                        <td id=\"T_45973d46_40a4_11eb_b2e6_02cba411ec9drow0_col4\" class=\"data row0 col4\" >-0.006895%</td>\n",
       "                        <td id=\"T_45973d46_40a4_11eb_b2e6_02cba411ec9drow0_col5\" class=\"data row0 col5\" >0.000000%</td>\n",
       "                        <td id=\"T_45973d46_40a4_11eb_b2e6_02cba411ec9drow0_col6\" class=\"data row0 col6\" >0.000000%</td>\n",
       "                        <td id=\"T_45973d46_40a4_11eb_b2e6_02cba411ec9drow0_col7\" class=\"data row0 col7\" >0.000000%</td>\n",
       "            </tr>\n",
       "            <tr>\n",
       "                        <th id=\"T_45973d46_40a4_11eb_b2e6_02cba411ec9dlevel0_row1\" class=\"row_heading level0 row1\" >1</th>\n",
       "                        <td id=\"T_45973d46_40a4_11eb_b2e6_02cba411ec9drow1_col0\" class=\"data row1 col0\" >2</td>\n",
       "                        <td id=\"T_45973d46_40a4_11eb_b2e6_02cba411ec9drow1_col1\" class=\"data row1 col1\" >0.985000</td>\n",
       "                        <td id=\"T_45973d46_40a4_11eb_b2e6_02cba411ec9drow1_col2\" class=\"data row1 col2\" >1.455709%</td>\n",
       "                        <td id=\"T_45973d46_40a4_11eb_b2e6_02cba411ec9drow1_col3\" class=\"data row1 col3\" >1.462521%</td>\n",
       "                        <td id=\"T_45973d46_40a4_11eb_b2e6_02cba411ec9drow1_col4\" class=\"data row1 col4\" >-0.006812%</td>\n",
       "                        <td id=\"T_45973d46_40a4_11eb_b2e6_02cba411ec9drow1_col5\" class=\"data row1 col5\" >0.000000%</td>\n",
       "                        <td id=\"T_45973d46_40a4_11eb_b2e6_02cba411ec9drow1_col6\" class=\"data row1 col6\" >0.000000%</td>\n",
       "                        <td id=\"T_45973d46_40a4_11eb_b2e6_02cba411ec9drow1_col7\" class=\"data row1 col7\" >0.000000%</td>\n",
       "            </tr>\n",
       "            <tr>\n",
       "                        <th id=\"T_45973d46_40a4_11eb_b2e6_02cba411ec9dlevel0_row2\" class=\"row_heading level0 row2\" >2</th>\n",
       "                        <td id=\"T_45973d46_40a4_11eb_b2e6_02cba411ec9drow2_col0\" class=\"data row2 col0\" >2</td>\n",
       "                        <td id=\"T_45973d46_40a4_11eb_b2e6_02cba411ec9drow2_col1\" class=\"data row2 col1\" >0.990000</td>\n",
       "                        <td id=\"T_45973d46_40a4_11eb_b2e6_02cba411ec9drow2_col2\" class=\"data row2 col2\" >0.956060%</td>\n",
       "                        <td id=\"T_45973d46_40a4_11eb_b2e6_02cba411ec9drow2_col3\" class=\"data row2 col3\" >0.962789%</td>\n",
       "                        <td id=\"T_45973d46_40a4_11eb_b2e6_02cba411ec9drow2_col4\" class=\"data row2 col4\" >-0.006730%</td>\n",
       "                        <td id=\"T_45973d46_40a4_11eb_b2e6_02cba411ec9drow2_col5\" class=\"data row2 col5\" >0.000000%</td>\n",
       "                        <td id=\"T_45973d46_40a4_11eb_b2e6_02cba411ec9drow2_col6\" class=\"data row2 col6\" >0.000000%</td>\n",
       "                        <td id=\"T_45973d46_40a4_11eb_b2e6_02cba411ec9drow2_col7\" class=\"data row2 col7\" >0.000000%</td>\n",
       "            </tr>\n",
       "            <tr>\n",
       "                        <th id=\"T_45973d46_40a4_11eb_b2e6_02cba411ec9dlevel0_row3\" class=\"row_heading level0 row3\" >3</th>\n",
       "                        <td id=\"T_45973d46_40a4_11eb_b2e6_02cba411ec9drow3_col0\" class=\"data row3 col0\" >2</td>\n",
       "                        <td id=\"T_45973d46_40a4_11eb_b2e6_02cba411ec9drow3_col1\" class=\"data row3 col1\" >1.000000</td>\n",
       "                        <td id=\"T_45973d46_40a4_11eb_b2e6_02cba411ec9drow3_col2\" class=\"data row3 col2\" >0.063001%</td>\n",
       "                        <td id=\"T_45973d46_40a4_11eb_b2e6_02cba411ec9drow3_col3\" class=\"data row3 col3\" >0.067601%</td>\n",
       "                        <td id=\"T_45973d46_40a4_11eb_b2e6_02cba411ec9drow3_col4\" class=\"data row3 col4\" >-0.004600%</td>\n",
       "                        <td id=\"T_45973d46_40a4_11eb_b2e6_02cba411ec9drow3_col5\" class=\"data row3 col5\" >0.106239%</td>\n",
       "                        <td id=\"T_45973d46_40a4_11eb_b2e6_02cba411ec9drow3_col6\" class=\"data row3 col6\" >0.104275%</td>\n",
       "                        <td id=\"T_45973d46_40a4_11eb_b2e6_02cba411ec9drow3_col7\" class=\"data row3 col7\" >0.001965%</td>\n",
       "            </tr>\n",
       "            <tr>\n",
       "                        <th id=\"T_45973d46_40a4_11eb_b2e6_02cba411ec9dlevel0_row4\" class=\"row_heading level0 row4\" >4</th>\n",
       "                        <td id=\"T_45973d46_40a4_11eb_b2e6_02cba411ec9drow4_col0\" class=\"data row4 col0\" >2</td>\n",
       "                        <td id=\"T_45973d46_40a4_11eb_b2e6_02cba411ec9drow4_col1\" class=\"data row4 col1\" >1.005000</td>\n",
       "                        <td id=\"T_45973d46_40a4_11eb_b2e6_02cba411ec9drow4_col2\" class=\"data row4 col2\" >0.000297%</td>\n",
       "                        <td id=\"T_45973d46_40a4_11eb_b2e6_02cba411ec9drow4_col3\" class=\"data row4 col3\" >0.000000%</td>\n",
       "                        <td id=\"T_45973d46_40a4_11eb_b2e6_02cba411ec9drow4_col4\" class=\"data row4 col4\" >0.000297%</td>\n",
       "                        <td id=\"T_45973d46_40a4_11eb_b2e6_02cba411ec9drow4_col5\" class=\"data row4 col5\" >0.543184%</td>\n",
       "                        <td id=\"T_45973d46_40a4_11eb_b2e6_02cba411ec9drow4_col6\" class=\"data row4 col6\" >0.536405%</td>\n",
       "                        <td id=\"T_45973d46_40a4_11eb_b2e6_02cba411ec9drow4_col7\" class=\"data row4 col7\" >0.006779%</td>\n",
       "            </tr>\n",
       "            <tr>\n",
       "                        <th id=\"T_45973d46_40a4_11eb_b2e6_02cba411ec9dlevel0_row5\" class=\"row_heading level0 row5\" >5</th>\n",
       "                        <td id=\"T_45973d46_40a4_11eb_b2e6_02cba411ec9drow5_col0\" class=\"data row5 col0\" >2</td>\n",
       "                        <td id=\"T_45973d46_40a4_11eb_b2e6_02cba411ec9drow5_col1\" class=\"data row5 col1\" >1.010000</td>\n",
       "                        <td id=\"T_45973d46_40a4_11eb_b2e6_02cba411ec9drow5_col2\" class=\"data row5 col2\" >0.000000%</td>\n",
       "                        <td id=\"T_45973d46_40a4_11eb_b2e6_02cba411ec9drow5_col3\" class=\"data row5 col3\" >0.000000%</td>\n",
       "                        <td id=\"T_45973d46_40a4_11eb_b2e6_02cba411ec9drow5_col4\" class=\"data row5 col4\" >0.000000%</td>\n",
       "                        <td id=\"T_45973d46_40a4_11eb_b2e6_02cba411ec9drow5_col5\" class=\"data row5 col5\" >1.042536%</td>\n",
       "                        <td id=\"T_45973d46_40a4_11eb_b2e6_02cba411ec9drow5_col6\" class=\"data row5 col6\" >1.036136%</td>\n",
       "                        <td id=\"T_45973d46_40a4_11eb_b2e6_02cba411ec9drow5_col7\" class=\"data row5 col7\" >0.006400%</td>\n",
       "            </tr>\n",
       "            <tr>\n",
       "                        <th id=\"T_45973d46_40a4_11eb_b2e6_02cba411ec9dlevel0_row6\" class=\"row_heading level0 row6\" >6</th>\n",
       "                        <td id=\"T_45973d46_40a4_11eb_b2e6_02cba411ec9drow6_col0\" class=\"data row6 col0\" >2</td>\n",
       "                        <td id=\"T_45973d46_40a4_11eb_b2e6_02cba411ec9drow6_col1\" class=\"data row6 col1\" >1.015000</td>\n",
       "                        <td id=\"T_45973d46_40a4_11eb_b2e6_02cba411ec9drow6_col2\" class=\"data row6 col2\" >0.000000%</td>\n",
       "                        <td id=\"T_45973d46_40a4_11eb_b2e6_02cba411ec9drow6_col3\" class=\"data row6 col3\" >0.000000%</td>\n",
       "                        <td id=\"T_45973d46_40a4_11eb_b2e6_02cba411ec9drow6_col4\" class=\"data row6 col4\" >0.000000%</td>\n",
       "                        <td id=\"T_45973d46_40a4_11eb_b2e6_02cba411ec9drow6_col5\" class=\"data row6 col5\" >1.542185%</td>\n",
       "                        <td id=\"T_45973d46_40a4_11eb_b2e6_02cba411ec9drow6_col6\" class=\"data row6 col6\" >1.535868%</td>\n",
       "                        <td id=\"T_45973d46_40a4_11eb_b2e6_02cba411ec9drow6_col7\" class=\"data row6 col7\" >0.006317%</td>\n",
       "            </tr>\n",
       "            <tr>\n",
       "                        <th id=\"T_45973d46_40a4_11eb_b2e6_02cba411ec9dlevel0_row7\" class=\"row_heading level0 row7\" >7</th>\n",
       "                        <td id=\"T_45973d46_40a4_11eb_b2e6_02cba411ec9drow7_col0\" class=\"data row7 col0\" >2</td>\n",
       "                        <td id=\"T_45973d46_40a4_11eb_b2e6_02cba411ec9drow7_col1\" class=\"data row7 col1\" >1.020000</td>\n",
       "                        <td id=\"T_45973d46_40a4_11eb_b2e6_02cba411ec9drow7_col2\" class=\"data row7 col2\" >0.000000%</td>\n",
       "                        <td id=\"T_45973d46_40a4_11eb_b2e6_02cba411ec9drow7_col3\" class=\"data row7 col3\" >0.000000%</td>\n",
       "                        <td id=\"T_45973d46_40a4_11eb_b2e6_02cba411ec9drow7_col4\" class=\"data row7 col4\" >0.000000%</td>\n",
       "                        <td id=\"T_45973d46_40a4_11eb_b2e6_02cba411ec9drow7_col5\" class=\"data row7 col5\" >2.041834%</td>\n",
       "                        <td id=\"T_45973d46_40a4_11eb_b2e6_02cba411ec9drow7_col6\" class=\"data row7 col6\" >2.035599%</td>\n",
       "                        <td id=\"T_45973d46_40a4_11eb_b2e6_02cba411ec9drow7_col7\" class=\"data row7 col7\" >0.006235%</td>\n",
       "            </tr>\n",
       "            <tr>\n",
       "                        <th id=\"T_45973d46_40a4_11eb_b2e6_02cba411ec9dlevel0_row8\" class=\"row_heading level0 row8\" >8</th>\n",
       "                        <td id=\"T_45973d46_40a4_11eb_b2e6_02cba411ec9drow8_col0\" class=\"data row8 col0\" >3</td>\n",
       "                        <td id=\"T_45973d46_40a4_11eb_b2e6_02cba411ec9drow8_col1\" class=\"data row8 col1\" >0.980000</td>\n",
       "                        <td id=\"T_45973d46_40a4_11eb_b2e6_02cba411ec9drow8_col2\" class=\"data row8 col2\" >1.844658%</td>\n",
       "                        <td id=\"T_45973d46_40a4_11eb_b2e6_02cba411ec9drow8_col3\" class=\"data row8 col3\" >1.853942%</td>\n",
       "                        <td id=\"T_45973d46_40a4_11eb_b2e6_02cba411ec9drow8_col4\" class=\"data row8 col4\" >-0.009284%</td>\n",
       "                        <td id=\"T_45973d46_40a4_11eb_b2e6_02cba411ec9drow8_col5\" class=\"data row8 col5\" >0.000000%</td>\n",
       "                        <td id=\"T_45973d46_40a4_11eb_b2e6_02cba411ec9drow8_col6\" class=\"data row8 col6\" >0.000000%</td>\n",
       "                        <td id=\"T_45973d46_40a4_11eb_b2e6_02cba411ec9drow8_col7\" class=\"data row8 col7\" >0.000000%</td>\n",
       "            </tr>\n",
       "            <tr>\n",
       "                        <th id=\"T_45973d46_40a4_11eb_b2e6_02cba411ec9dlevel0_row9\" class=\"row_heading level0 row9\" >9</th>\n",
       "                        <td id=\"T_45973d46_40a4_11eb_b2e6_02cba411ec9drow9_col0\" class=\"data row9 col0\" >3</td>\n",
       "                        <td id=\"T_45973d46_40a4_11eb_b2e6_02cba411ec9drow9_col1\" class=\"data row9 col1\" >0.985000</td>\n",
       "                        <td id=\"T_45973d46_40a4_11eb_b2e6_02cba411ec9drow9_col2\" class=\"data row9 col2\" >1.345009%</td>\n",
       "                        <td id=\"T_45973d46_40a4_11eb_b2e6_02cba411ec9drow9_col3\" class=\"data row9 col3\" >1.354211%</td>\n",
       "                        <td id=\"T_45973d46_40a4_11eb_b2e6_02cba411ec9drow9_col4\" class=\"data row9 col4\" >-0.009202%</td>\n",
       "                        <td id=\"T_45973d46_40a4_11eb_b2e6_02cba411ec9drow9_col5\" class=\"data row9 col5\" >0.000000%</td>\n",
       "                        <td id=\"T_45973d46_40a4_11eb_b2e6_02cba411ec9drow9_col6\" class=\"data row9 col6\" >0.000000%</td>\n",
       "                        <td id=\"T_45973d46_40a4_11eb_b2e6_02cba411ec9drow9_col7\" class=\"data row9 col7\" >0.000000%</td>\n",
       "            </tr>\n",
       "            <tr>\n",
       "                        <th id=\"T_45973d46_40a4_11eb_b2e6_02cba411ec9dlevel0_row10\" class=\"row_heading level0 row10\" >10</th>\n",
       "                        <td id=\"T_45973d46_40a4_11eb_b2e6_02cba411ec9drow10_col0\" class=\"data row10 col0\" >3</td>\n",
       "                        <td id=\"T_45973d46_40a4_11eb_b2e6_02cba411ec9drow10_col1\" class=\"data row10 col1\" >0.990000</td>\n",
       "                        <td id=\"T_45973d46_40a4_11eb_b2e6_02cba411ec9drow10_col2\" class=\"data row10 col2\" >0.845471%</td>\n",
       "                        <td id=\"T_45973d46_40a4_11eb_b2e6_02cba411ec9drow10_col3\" class=\"data row10 col3\" >0.854479%</td>\n",
       "                        <td id=\"T_45973d46_40a4_11eb_b2e6_02cba411ec9drow10_col4\" class=\"data row10 col4\" >-0.009009%</td>\n",
       "                        <td id=\"T_45973d46_40a4_11eb_b2e6_02cba411ec9drow10_col5\" class=\"data row10 col5\" >0.000111%</td>\n",
       "                        <td id=\"T_45973d46_40a4_11eb_b2e6_02cba411ec9drow10_col6\" class=\"data row10 col6\" >0.000000%</td>\n",
       "                        <td id=\"T_45973d46_40a4_11eb_b2e6_02cba411ec9drow10_col7\" class=\"data row10 col7\" >0.000111%</td>\n",
       "            </tr>\n",
       "            <tr>\n",
       "                        <th id=\"T_45973d46_40a4_11eb_b2e6_02cba411ec9dlevel0_row11\" class=\"row_heading level0 row11\" >11</th>\n",
       "                        <td id=\"T_45973d46_40a4_11eb_b2e6_02cba411ec9drow11_col0\" class=\"data row11 col0\" >3</td>\n",
       "                        <td id=\"T_45973d46_40a4_11eb_b2e6_02cba411ec9drow11_col1\" class=\"data row11 col1\" >1.000000</td>\n",
       "                        <td id=\"T_45973d46_40a4_11eb_b2e6_02cba411ec9drow11_col2\" class=\"data row11 col2\" >0.052527%</td>\n",
       "                        <td id=\"T_45973d46_40a4_11eb_b2e6_02cba411ec9drow11_col3\" class=\"data row11 col3\" >0.058717%</td>\n",
       "                        <td id=\"T_45973d46_40a4_11eb_b2e6_02cba411ec9drow11_col4\" class=\"data row11 col4\" >-0.006190%</td>\n",
       "                        <td id=\"T_45973d46_40a4_11eb_b2e6_02cba411ec9drow11_col5\" class=\"data row11 col5\" >0.206464%</td>\n",
       "                        <td id=\"T_45973d46_40a4_11eb_b2e6_02cba411ec9drow11_col6\" class=\"data row11 col6\" >0.203701%</td>\n",
       "                        <td id=\"T_45973d46_40a4_11eb_b2e6_02cba411ec9drow11_col7\" class=\"data row11 col7\" >0.002764%</td>\n",
       "            </tr>\n",
       "            <tr>\n",
       "                        <th id=\"T_45973d46_40a4_11eb_b2e6_02cba411ec9dlevel0_row12\" class=\"row_heading level0 row12\" >12</th>\n",
       "                        <td id=\"T_45973d46_40a4_11eb_b2e6_02cba411ec9drow12_col0\" class=\"data row12 col0\" >3</td>\n",
       "                        <td id=\"T_45973d46_40a4_11eb_b2e6_02cba411ec9drow12_col1\" class=\"data row12 col1\" >1.005000</td>\n",
       "                        <td id=\"T_45973d46_40a4_11eb_b2e6_02cba411ec9drow12_col2\" class=\"data row12 col2\" >0.001052%</td>\n",
       "                        <td id=\"T_45973d46_40a4_11eb_b2e6_02cba411ec9drow12_col3\" class=\"data row12 col3\" >0.000103%</td>\n",
       "                        <td id=\"T_45973d46_40a4_11eb_b2e6_02cba411ec9drow12_col4\" class=\"data row12 col4\" >0.000948%</td>\n",
       "                        <td id=\"T_45973d46_40a4_11eb_b2e6_02cba411ec9drow12_col5\" class=\"data row12 col5\" >0.654638%</td>\n",
       "                        <td id=\"T_45973d46_40a4_11eb_b2e6_02cba411ec9drow12_col6\" class=\"data row12 col6\" >0.644818%</td>\n",
       "                        <td id=\"T_45973d46_40a4_11eb_b2e6_02cba411ec9drow12_col7\" class=\"data row12 col7\" >0.009820%</td>\n",
       "            </tr>\n",
       "            <tr>\n",
       "                        <th id=\"T_45973d46_40a4_11eb_b2e6_02cba411ec9dlevel0_row13\" class=\"row_heading level0 row13\" >13</th>\n",
       "                        <td id=\"T_45973d46_40a4_11eb_b2e6_02cba411ec9drow13_col0\" class=\"data row13 col0\" >3</td>\n",
       "                        <td id=\"T_45973d46_40a4_11eb_b2e6_02cba411ec9drow13_col1\" class=\"data row13 col1\" >1.010000</td>\n",
       "                        <td id=\"T_45973d46_40a4_11eb_b2e6_02cba411ec9drow13_col2\" class=\"data row13 col2\" >0.000002%</td>\n",
       "                        <td id=\"T_45973d46_40a4_11eb_b2e6_02cba411ec9drow13_col3\" class=\"data row13 col3\" >0.000000%</td>\n",
       "                        <td id=\"T_45973d46_40a4_11eb_b2e6_02cba411ec9drow13_col4\" class=\"data row13 col4\" >0.000002%</td>\n",
       "                        <td id=\"T_45973d46_40a4_11eb_b2e6_02cba411ec9drow13_col5\" class=\"data row13 col5\" >1.153237%</td>\n",
       "                        <td id=\"T_45973d46_40a4_11eb_b2e6_02cba411ec9drow13_col6\" class=\"data row13 col6\" >1.144447%</td>\n",
       "                        <td id=\"T_45973d46_40a4_11eb_b2e6_02cba411ec9drow13_col7\" class=\"data row13 col7\" >0.008791%</td>\n",
       "            </tr>\n",
       "            <tr>\n",
       "                        <th id=\"T_45973d46_40a4_11eb_b2e6_02cba411ec9dlevel0_row14\" class=\"row_heading level0 row14\" >14</th>\n",
       "                        <td id=\"T_45973d46_40a4_11eb_b2e6_02cba411ec9drow14_col0\" class=\"data row14 col0\" >3</td>\n",
       "                        <td id=\"T_45973d46_40a4_11eb_b2e6_02cba411ec9drow14_col1\" class=\"data row14 col1\" >1.015000</td>\n",
       "                        <td id=\"T_45973d46_40a4_11eb_b2e6_02cba411ec9drow14_col2\" class=\"data row14 col2\" >0.000000%</td>\n",
       "                        <td id=\"T_45973d46_40a4_11eb_b2e6_02cba411ec9drow14_col3\" class=\"data row14 col3\" >0.000000%</td>\n",
       "                        <td id=\"T_45973d46_40a4_11eb_b2e6_02cba411ec9drow14_col4\" class=\"data row14 col4\" >0.000000%</td>\n",
       "                        <td id=\"T_45973d46_40a4_11eb_b2e6_02cba411ec9drow14_col5\" class=\"data row14 col5\" >1.652885%</td>\n",
       "                        <td id=\"T_45973d46_40a4_11eb_b2e6_02cba411ec9drow14_col6\" class=\"data row14 col6\" >1.644178%</td>\n",
       "                        <td id=\"T_45973d46_40a4_11eb_b2e6_02cba411ec9drow14_col7\" class=\"data row14 col7\" >0.008706%</td>\n",
       "            </tr>\n",
       "            <tr>\n",
       "                        <th id=\"T_45973d46_40a4_11eb_b2e6_02cba411ec9dlevel0_row15\" class=\"row_heading level0 row15\" >15</th>\n",
       "                        <td id=\"T_45973d46_40a4_11eb_b2e6_02cba411ec9drow15_col0\" class=\"data row15 col0\" >3</td>\n",
       "                        <td id=\"T_45973d46_40a4_11eb_b2e6_02cba411ec9drow15_col1\" class=\"data row15 col1\" >1.020000</td>\n",
       "                        <td id=\"T_45973d46_40a4_11eb_b2e6_02cba411ec9drow15_col2\" class=\"data row15 col2\" >0.000000%</td>\n",
       "                        <td id=\"T_45973d46_40a4_11eb_b2e6_02cba411ec9drow15_col3\" class=\"data row15 col3\" >0.000000%</td>\n",
       "                        <td id=\"T_45973d46_40a4_11eb_b2e6_02cba411ec9drow15_col4\" class=\"data row15 col4\" >0.000000%</td>\n",
       "                        <td id=\"T_45973d46_40a4_11eb_b2e6_02cba411ec9drow15_col5\" class=\"data row15 col5\" >2.152533%</td>\n",
       "                        <td id=\"T_45973d46_40a4_11eb_b2e6_02cba411ec9drow15_col6\" class=\"data row15 col6\" >2.143910%</td>\n",
       "                        <td id=\"T_45973d46_40a4_11eb_b2e6_02cba411ec9drow15_col7\" class=\"data row15 col7\" >0.008624%</td>\n",
       "            </tr>\n",
       "            <tr>\n",
       "                        <th id=\"T_45973d46_40a4_11eb_b2e6_02cba411ec9dlevel0_row16\" class=\"row_heading level0 row16\" >16</th>\n",
       "                        <td id=\"T_45973d46_40a4_11eb_b2e6_02cba411ec9drow16_col0\" class=\"data row16 col0\" >4</td>\n",
       "                        <td id=\"T_45973d46_40a4_11eb_b2e6_02cba411ec9drow16_col1\" class=\"data row16 col1\" >0.980000</td>\n",
       "                        <td id=\"T_45973d46_40a4_11eb_b2e6_02cba411ec9drow16_col2\" class=\"data row16 col2\" >1.568379%</td>\n",
       "                        <td id=\"T_45973d46_40a4_11eb_b2e6_02cba411ec9drow16_col3\" class=\"data row16 col3\" >1.578479%</td>\n",
       "                        <td id=\"T_45973d46_40a4_11eb_b2e6_02cba411ec9drow16_col4\" class=\"data row16 col4\" >-0.010100%</td>\n",
       "                        <td id=\"T_45973d46_40a4_11eb_b2e6_02cba411ec9drow16_col5\" class=\"data row16 col5\" >0.000000%</td>\n",
       "                        <td id=\"T_45973d46_40a4_11eb_b2e6_02cba411ec9drow16_col6\" class=\"data row16 col6\" >0.000000%</td>\n",
       "                        <td id=\"T_45973d46_40a4_11eb_b2e6_02cba411ec9drow16_col7\" class=\"data row16 col7\" >0.000000%</td>\n",
       "            </tr>\n",
       "            <tr>\n",
       "                        <th id=\"T_45973d46_40a4_11eb_b2e6_02cba411ec9dlevel0_row17\" class=\"row_heading level0 row17\" >17</th>\n",
       "                        <td id=\"T_45973d46_40a4_11eb_b2e6_02cba411ec9drow17_col0\" class=\"data row17 col0\" >4</td>\n",
       "                        <td id=\"T_45973d46_40a4_11eb_b2e6_02cba411ec9drow17_col1\" class=\"data row17 col1\" >0.985000</td>\n",
       "                        <td id=\"T_45973d46_40a4_11eb_b2e6_02cba411ec9drow17_col2\" class=\"data row17 col2\" >1.068752%</td>\n",
       "                        <td id=\"T_45973d46_40a4_11eb_b2e6_02cba411ec9drow17_col3\" class=\"data row17 col3\" >1.078748%</td>\n",
       "                        <td id=\"T_45973d46_40a4_11eb_b2e6_02cba411ec9drow17_col4\" class=\"data row17 col4\" >-0.009996%</td>\n",
       "                        <td id=\"T_45973d46_40a4_11eb_b2e6_02cba411ec9drow17_col5\" class=\"data row17 col5\" >0.000021%</td>\n",
       "                        <td id=\"T_45973d46_40a4_11eb_b2e6_02cba411ec9drow17_col6\" class=\"data row17 col6\" >0.000000%</td>\n",
       "                        <td id=\"T_45973d46_40a4_11eb_b2e6_02cba411ec9drow17_col7\" class=\"data row17 col7\" >0.000021%</td>\n",
       "            </tr>\n",
       "            <tr>\n",
       "                        <th id=\"T_45973d46_40a4_11eb_b2e6_02cba411ec9dlevel0_row18\" class=\"row_heading level0 row18\" >18</th>\n",
       "                        <td id=\"T_45973d46_40a4_11eb_b2e6_02cba411ec9drow18_col0\" class=\"data row18 col0\" >4</td>\n",
       "                        <td id=\"T_45973d46_40a4_11eb_b2e6_02cba411ec9drow18_col1\" class=\"data row18 col1\" >0.990000</td>\n",
       "                        <td id=\"T_45973d46_40a4_11eb_b2e6_02cba411ec9drow18_col2\" class=\"data row18 col2\" >0.573120%</td>\n",
       "                        <td id=\"T_45973d46_40a4_11eb_b2e6_02cba411ec9drow18_col3\" class=\"data row18 col3\" >0.579867%</td>\n",
       "                        <td id=\"T_45973d46_40a4_11eb_b2e6_02cba411ec9drow18_col4\" class=\"data row18 col4\" >-0.006747%</td>\n",
       "                        <td id=\"T_45973d46_40a4_11eb_b2e6_02cba411ec9drow18_col5\" class=\"data row18 col5\" >0.004038%</td>\n",
       "                        <td id=\"T_45973d46_40a4_11eb_b2e6_02cba411ec9drow18_col6\" class=\"data row18 col6\" >0.000850%</td>\n",
       "                        <td id=\"T_45973d46_40a4_11eb_b2e6_02cba411ec9drow18_col7\" class=\"data row18 col7\" >0.003188%</td>\n",
       "            </tr>\n",
       "            <tr>\n",
       "                        <th id=\"T_45973d46_40a4_11eb_b2e6_02cba411ec9dlevel0_row19\" class=\"row_heading level0 row19\" >19</th>\n",
       "                        <td id=\"T_45973d46_40a4_11eb_b2e6_02cba411ec9drow19_col0\" class=\"data row19 col0\" >4</td>\n",
       "                        <td id=\"T_45973d46_40a4_11eb_b2e6_02cba411ec9drow19_col1\" class=\"data row19 col1\" >1.000000</td>\n",
       "                        <td id=\"T_45973d46_40a4_11eb_b2e6_02cba411ec9drow19_col2\" class=\"data row19 col2\" >0.011906%</td>\n",
       "                        <td id=\"T_45973d46_40a4_11eb_b2e6_02cba411ec9drow19_col3\" class=\"data row19 col3\" >0.011058%</td>\n",
       "                        <td id=\"T_45973d46_40a4_11eb_b2e6_02cba411ec9drow19_col4\" class=\"data row19 col4\" >0.000848%</td>\n",
       "                        <td id=\"T_45973d46_40a4_11eb_b2e6_02cba411ec9drow19_col5\" class=\"data row19 col5\" >0.442122%</td>\n",
       "                        <td id=\"T_45973d46_40a4_11eb_b2e6_02cba411ec9drow19_col6\" class=\"data row19 col6\" >0.431504%</td>\n",
       "                        <td id=\"T_45973d46_40a4_11eb_b2e6_02cba411ec9drow19_col7\" class=\"data row19 col7\" >0.010618%</td>\n",
       "            </tr>\n",
       "            <tr>\n",
       "                        <th id=\"T_45973d46_40a4_11eb_b2e6_02cba411ec9dlevel0_row20\" class=\"row_heading level0 row20\" >20</th>\n",
       "                        <td id=\"T_45973d46_40a4_11eb_b2e6_02cba411ec9drow20_col0\" class=\"data row20 col0\" >4</td>\n",
       "                        <td id=\"T_45973d46_40a4_11eb_b2e6_02cba411ec9drow20_col1\" class=\"data row20 col1\" >1.005000</td>\n",
       "                        <td id=\"T_45973d46_40a4_11eb_b2e6_02cba411ec9drow20_col2\" class=\"data row20 col2\" >0.000129%</td>\n",
       "                        <td id=\"T_45973d46_40a4_11eb_b2e6_02cba411ec9drow20_col3\" class=\"data row20 col3\" >0.000000%</td>\n",
       "                        <td id=\"T_45973d46_40a4_11eb_b2e6_02cba411ec9drow20_col4\" class=\"data row20 col4\" >0.000129%</td>\n",
       "                        <td id=\"T_45973d46_40a4_11eb_b2e6_02cba411ec9drow20_col5\" class=\"data row20 col5\" >0.929994%</td>\n",
       "                        <td id=\"T_45973d46_40a4_11eb_b2e6_02cba411ec9drow20_col6\" class=\"data row20 col6\" >0.920178%</td>\n",
       "                        <td id=\"T_45973d46_40a4_11eb_b2e6_02cba411ec9drow20_col7\" class=\"data row20 col7\" >0.009816%</td>\n",
       "            </tr>\n",
       "            <tr>\n",
       "                        <th id=\"T_45973d46_40a4_11eb_b2e6_02cba411ec9dlevel0_row21\" class=\"row_heading level0 row21\" >21</th>\n",
       "                        <td id=\"T_45973d46_40a4_11eb_b2e6_02cba411ec9drow21_col0\" class=\"data row21 col0\" >4</td>\n",
       "                        <td id=\"T_45973d46_40a4_11eb_b2e6_02cba411ec9drow21_col1\" class=\"data row21 col1\" >1.010000</td>\n",
       "                        <td id=\"T_45973d46_40a4_11eb_b2e6_02cba411ec9drow21_col2\" class=\"data row21 col2\" >0.000000%</td>\n",
       "                        <td id=\"T_45973d46_40a4_11eb_b2e6_02cba411ec9drow21_col3\" class=\"data row21 col3\" >0.000000%</td>\n",
       "                        <td id=\"T_45973d46_40a4_11eb_b2e6_02cba411ec9drow21_col4\" class=\"data row21 col4\" >0.000000%</td>\n",
       "                        <td id=\"T_45973d46_40a4_11eb_b2e6_02cba411ec9drow21_col5\" class=\"data row21 col5\" >1.429514%</td>\n",
       "                        <td id=\"T_45973d46_40a4_11eb_b2e6_02cba411ec9drow21_col6\" class=\"data row21 col6\" >1.419910%</td>\n",
       "                        <td id=\"T_45973d46_40a4_11eb_b2e6_02cba411ec9drow21_col7\" class=\"data row21 col7\" >0.009605%</td>\n",
       "            </tr>\n",
       "            <tr>\n",
       "                        <th id=\"T_45973d46_40a4_11eb_b2e6_02cba411ec9dlevel0_row22\" class=\"row_heading level0 row22\" >22</th>\n",
       "                        <td id=\"T_45973d46_40a4_11eb_b2e6_02cba411ec9drow22_col0\" class=\"data row22 col0\" >4</td>\n",
       "                        <td id=\"T_45973d46_40a4_11eb_b2e6_02cba411ec9drow22_col1\" class=\"data row22 col1\" >1.015000</td>\n",
       "                        <td id=\"T_45973d46_40a4_11eb_b2e6_02cba411ec9drow22_col2\" class=\"data row22 col2\" >0.000000%</td>\n",
       "                        <td id=\"T_45973d46_40a4_11eb_b2e6_02cba411ec9drow22_col3\" class=\"data row22 col3\" >0.000000%</td>\n",
       "                        <td id=\"T_45973d46_40a4_11eb_b2e6_02cba411ec9drow22_col4\" class=\"data row22 col4\" >0.000000%</td>\n",
       "                        <td id=\"T_45973d46_40a4_11eb_b2e6_02cba411ec9drow22_col5\" class=\"data row22 col5\" >1.929163%</td>\n",
       "                        <td id=\"T_45973d46_40a4_11eb_b2e6_02cba411ec9drow22_col6\" class=\"data row22 col6\" >1.919641%</td>\n",
       "                        <td id=\"T_45973d46_40a4_11eb_b2e6_02cba411ec9drow22_col7\" class=\"data row22 col7\" >0.009522%</td>\n",
       "            </tr>\n",
       "            <tr>\n",
       "                        <th id=\"T_45973d46_40a4_11eb_b2e6_02cba411ec9dlevel0_row23\" class=\"row_heading level0 row23\" >23</th>\n",
       "                        <td id=\"T_45973d46_40a4_11eb_b2e6_02cba411ec9drow23_col0\" class=\"data row23 col0\" >4</td>\n",
       "                        <td id=\"T_45973d46_40a4_11eb_b2e6_02cba411ec9drow23_col1\" class=\"data row23 col1\" >1.020000</td>\n",
       "                        <td id=\"T_45973d46_40a4_11eb_b2e6_02cba411ec9drow23_col2\" class=\"data row23 col2\" >0.000000%</td>\n",
       "                        <td id=\"T_45973d46_40a4_11eb_b2e6_02cba411ec9drow23_col3\" class=\"data row23 col3\" >0.000000%</td>\n",
       "                        <td id=\"T_45973d46_40a4_11eb_b2e6_02cba411ec9drow23_col4\" class=\"data row23 col4\" >0.000000%</td>\n",
       "                        <td id=\"T_45973d46_40a4_11eb_b2e6_02cba411ec9drow23_col5\" class=\"data row23 col5\" >2.428812%</td>\n",
       "                        <td id=\"T_45973d46_40a4_11eb_b2e6_02cba411ec9drow23_col6\" class=\"data row23 col6\" >2.419373%</td>\n",
       "                        <td id=\"T_45973d46_40a4_11eb_b2e6_02cba411ec9drow23_col7\" class=\"data row23 col7\" >0.009439%</td>\n",
       "            </tr>\n",
       "            <tr>\n",
       "                        <th id=\"T_45973d46_40a4_11eb_b2e6_02cba411ec9dlevel0_row24\" class=\"row_heading level0 row24\" >24</th>\n",
       "                        <td id=\"T_45973d46_40a4_11eb_b2e6_02cba411ec9drow24_col0\" class=\"data row24 col0\" >5</td>\n",
       "                        <td id=\"T_45973d46_40a4_11eb_b2e6_02cba411ec9drow24_col1\" class=\"data row24 col1\" >0.980000</td>\n",
       "                        <td id=\"T_45973d46_40a4_11eb_b2e6_02cba411ec9drow24_col2\" class=\"data row24 col2\" >1.105242%</td>\n",
       "                        <td id=\"T_45973d46_40a4_11eb_b2e6_02cba411ec9drow24_col3\" class=\"data row24 col3\" >1.115524%</td>\n",
       "                        <td id=\"T_45973d46_40a4_11eb_b2e6_02cba411ec9drow24_col4\" class=\"data row24 col4\" >-0.010281%</td>\n",
       "                        <td id=\"T_45973d46_40a4_11eb_b2e6_02cba411ec9drow24_col5\" class=\"data row24 col5\" >0.000020%</td>\n",
       "                        <td id=\"T_45973d46_40a4_11eb_b2e6_02cba411ec9drow24_col6\" class=\"data row24 col6\" >0.000000%</td>\n",
       "                        <td id=\"T_45973d46_40a4_11eb_b2e6_02cba411ec9drow24_col7\" class=\"data row24 col7\" >0.000020%</td>\n",
       "            </tr>\n",
       "            <tr>\n",
       "                        <th id=\"T_45973d46_40a4_11eb_b2e6_02cba411ec9dlevel0_row25\" class=\"row_heading level0 row25\" >25</th>\n",
       "                        <td id=\"T_45973d46_40a4_11eb_b2e6_02cba411ec9drow25_col0\" class=\"data row25 col0\" >5</td>\n",
       "                        <td id=\"T_45973d46_40a4_11eb_b2e6_02cba411ec9drow25_col1\" class=\"data row25 col1\" >0.985000</td>\n",
       "                        <td id=\"T_45973d46_40a4_11eb_b2e6_02cba411ec9drow25_col2\" class=\"data row25 col2\" >0.609092%</td>\n",
       "                        <td id=\"T_45973d46_40a4_11eb_b2e6_02cba411ec9drow25_col3\" class=\"data row25 col3\" >0.616456%</td>\n",
       "                        <td id=\"T_45973d46_40a4_11eb_b2e6_02cba411ec9drow25_col4\" class=\"data row25 col4\" >-0.007365%</td>\n",
       "                        <td id=\"T_45973d46_40a4_11eb_b2e6_02cba411ec9drow25_col5\" class=\"data row25 col5\" >0.003519%</td>\n",
       "                        <td id=\"T_45973d46_40a4_11eb_b2e6_02cba411ec9drow25_col6\" class=\"data row25 col6\" >0.000664%</td>\n",
       "                        <td id=\"T_45973d46_40a4_11eb_b2e6_02cba411ec9drow25_col7\" class=\"data row25 col7\" >0.002855%</td>\n",
       "            </tr>\n",
       "            <tr>\n",
       "                        <th id=\"T_45973d46_40a4_11eb_b2e6_02cba411ec9dlevel0_row26\" class=\"row_heading level0 row26\" >26</th>\n",
       "                        <td id=\"T_45973d46_40a4_11eb_b2e6_02cba411ec9drow26_col0\" class=\"data row26 col0\" >5</td>\n",
       "                        <td id=\"T_45973d46_40a4_11eb_b2e6_02cba411ec9drow26_col1\" class=\"data row26 col1\" >0.990000</td>\n",
       "                        <td id=\"T_45973d46_40a4_11eb_b2e6_02cba411ec9drow26_col2\" class=\"data row26 col2\" >0.187349%</td>\n",
       "                        <td id=\"T_45973d46_40a4_11eb_b2e6_02cba411ec9drow26_col3\" class=\"data row26 col3\" >0.195742%</td>\n",
       "                        <td id=\"T_45973d46_40a4_11eb_b2e6_02cba411ec9drow26_col4\" class=\"data row26 col4\" >-0.008392%</td>\n",
       "                        <td id=\"T_45973d46_40a4_11eb_b2e6_02cba411ec9drow26_col5\" class=\"data row26 col5\" >0.081425%</td>\n",
       "                        <td id=\"T_45973d46_40a4_11eb_b2e6_02cba411ec9drow26_col6\" class=\"data row26 col6\" >0.079681%</td>\n",
       "                        <td id=\"T_45973d46_40a4_11eb_b2e6_02cba411ec9drow26_col7\" class=\"data row26 col7\" >0.001744%</td>\n",
       "            </tr>\n",
       "            <tr>\n",
       "                        <th id=\"T_45973d46_40a4_11eb_b2e6_02cba411ec9dlevel0_row27\" class=\"row_heading level0 row27\" >27</th>\n",
       "                        <td id=\"T_45973d46_40a4_11eb_b2e6_02cba411ec9drow27_col0\" class=\"data row27 col0\" >5</td>\n",
       "                        <td id=\"T_45973d46_40a4_11eb_b2e6_02cba411ec9drow27_col1\" class=\"data row27 col1\" >1.000000</td>\n",
       "                        <td id=\"T_45973d46_40a4_11eb_b2e6_02cba411ec9drow27_col2\" class=\"data row27 col2\" >0.000259%</td>\n",
       "                        <td id=\"T_45973d46_40a4_11eb_b2e6_02cba411ec9drow27_col3\" class=\"data row27 col3\" >0.000000%</td>\n",
       "                        <td id=\"T_45973d46_40a4_11eb_b2e6_02cba411ec9drow27_col4\" class=\"data row27 col4\" >0.000259%</td>\n",
       "                        <td id=\"T_45973d46_40a4_11eb_b2e6_02cba411ec9drow27_col5\" class=\"data row27 col5\" >0.893633%</td>\n",
       "                        <td id=\"T_45973d46_40a4_11eb_b2e6_02cba411ec9drow27_col6\" class=\"data row27 col6\" >0.883402%</td>\n",
       "                        <td id=\"T_45973d46_40a4_11eb_b2e6_02cba411ec9drow27_col7\" class=\"data row27 col7\" >0.010231%</td>\n",
       "            </tr>\n",
       "            <tr>\n",
       "                        <th id=\"T_45973d46_40a4_11eb_b2e6_02cba411ec9dlevel0_row28\" class=\"row_heading level0 row28\" >28</th>\n",
       "                        <td id=\"T_45973d46_40a4_11eb_b2e6_02cba411ec9drow28_col0\" class=\"data row28 col0\" >5</td>\n",
       "                        <td id=\"T_45973d46_40a4_11eb_b2e6_02cba411ec9drow28_col1\" class=\"data row28 col1\" >1.005000</td>\n",
       "                        <td id=\"T_45973d46_40a4_11eb_b2e6_02cba411ec9drow28_col2\" class=\"data row28 col2\" >0.000001%</td>\n",
       "                        <td id=\"T_45973d46_40a4_11eb_b2e6_02cba411ec9drow28_col3\" class=\"data row28 col3\" >0.000000%</td>\n",
       "                        <td id=\"T_45973d46_40a4_11eb_b2e6_02cba411ec9drow28_col4\" class=\"data row28 col4\" >0.000001%</td>\n",
       "                        <td id=\"T_45973d46_40a4_11eb_b2e6_02cba411ec9drow28_col5\" class=\"data row28 col5\" >1.393023%</td>\n",
       "                        <td id=\"T_45973d46_40a4_11eb_b2e6_02cba411ec9drow28_col6\" class=\"data row28 col6\" >1.383134%</td>\n",
       "                        <td id=\"T_45973d46_40a4_11eb_b2e6_02cba411ec9drow28_col7\" class=\"data row28 col7\" >0.009890%</td>\n",
       "            </tr>\n",
       "            <tr>\n",
       "                        <th id=\"T_45973d46_40a4_11eb_b2e6_02cba411ec9dlevel0_row29\" class=\"row_heading level0 row29\" >29</th>\n",
       "                        <td id=\"T_45973d46_40a4_11eb_b2e6_02cba411ec9drow29_col0\" class=\"data row29 col0\" >5</td>\n",
       "                        <td id=\"T_45973d46_40a4_11eb_b2e6_02cba411ec9drow29_col1\" class=\"data row29 col1\" >1.010000</td>\n",
       "                        <td id=\"T_45973d46_40a4_11eb_b2e6_02cba411ec9drow29_col2\" class=\"data row29 col2\" >0.000000%</td>\n",
       "                        <td id=\"T_45973d46_40a4_11eb_b2e6_02cba411ec9drow29_col3\" class=\"data row29 col3\" >0.000000%</td>\n",
       "                        <td id=\"T_45973d46_40a4_11eb_b2e6_02cba411ec9drow29_col4\" class=\"data row29 col4\" >0.000000%</td>\n",
       "                        <td id=\"T_45973d46_40a4_11eb_b2e6_02cba411ec9drow29_col5\" class=\"data row29 col5\" >1.892672%</td>\n",
       "                        <td id=\"T_45973d46_40a4_11eb_b2e6_02cba411ec9drow29_col6\" class=\"data row29 col6\" >1.882865%</td>\n",
       "                        <td id=\"T_45973d46_40a4_11eb_b2e6_02cba411ec9drow29_col7\" class=\"data row29 col7\" >0.009807%</td>\n",
       "            </tr>\n",
       "            <tr>\n",
       "                        <th id=\"T_45973d46_40a4_11eb_b2e6_02cba411ec9dlevel0_row30\" class=\"row_heading level0 row30\" >30</th>\n",
       "                        <td id=\"T_45973d46_40a4_11eb_b2e6_02cba411ec9drow30_col0\" class=\"data row30 col0\" >5</td>\n",
       "                        <td id=\"T_45973d46_40a4_11eb_b2e6_02cba411ec9drow30_col1\" class=\"data row30 col1\" >1.015000</td>\n",
       "                        <td id=\"T_45973d46_40a4_11eb_b2e6_02cba411ec9drow30_col2\" class=\"data row30 col2\" >0.000000%</td>\n",
       "                        <td id=\"T_45973d46_40a4_11eb_b2e6_02cba411ec9drow30_col3\" class=\"data row30 col3\" >0.000000%</td>\n",
       "                        <td id=\"T_45973d46_40a4_11eb_b2e6_02cba411ec9drow30_col4\" class=\"data row30 col4\" >0.000000%</td>\n",
       "                        <td id=\"T_45973d46_40a4_11eb_b2e6_02cba411ec9drow30_col5\" class=\"data row30 col5\" >2.392321%</td>\n",
       "                        <td id=\"T_45973d46_40a4_11eb_b2e6_02cba411ec9drow30_col6\" class=\"data row30 col6\" >2.382597%</td>\n",
       "                        <td id=\"T_45973d46_40a4_11eb_b2e6_02cba411ec9drow30_col7\" class=\"data row30 col7\" >0.009724%</td>\n",
       "            </tr>\n",
       "            <tr>\n",
       "                        <th id=\"T_45973d46_40a4_11eb_b2e6_02cba411ec9dlevel0_row31\" class=\"row_heading level0 row31\" >31</th>\n",
       "                        <td id=\"T_45973d46_40a4_11eb_b2e6_02cba411ec9drow31_col0\" class=\"data row31 col0\" >5</td>\n",
       "                        <td id=\"T_45973d46_40a4_11eb_b2e6_02cba411ec9drow31_col1\" class=\"data row31 col1\" >1.020000</td>\n",
       "                        <td id=\"T_45973d46_40a4_11eb_b2e6_02cba411ec9drow31_col2\" class=\"data row31 col2\" >0.000000%</td>\n",
       "                        <td id=\"T_45973d46_40a4_11eb_b2e6_02cba411ec9drow31_col3\" class=\"data row31 col3\" >0.000000%</td>\n",
       "                        <td id=\"T_45973d46_40a4_11eb_b2e6_02cba411ec9drow31_col4\" class=\"data row31 col4\" >0.000000%</td>\n",
       "                        <td id=\"T_45973d46_40a4_11eb_b2e6_02cba411ec9drow31_col5\" class=\"data row31 col5\" >2.891970%</td>\n",
       "                        <td id=\"T_45973d46_40a4_11eb_b2e6_02cba411ec9drow31_col6\" class=\"data row31 col6\" >2.882328%</td>\n",
       "                        <td id=\"T_45973d46_40a4_11eb_b2e6_02cba411ec9drow31_col7\" class=\"data row31 col7\" >0.009642%</td>\n",
       "            </tr>\n",
       "    </tbody></table>"
      ],
      "text/plain": [
       "<pandas.io.formats.style.Styler at 0x7fe08a5e4898>"
      ]
     },
     "execution_count": 17,
     "metadata": {},
     "output_type": "execute_result"
    }
   ],
   "source": [
    "df_compare.style.format(frmt)"
   ]
  },
  {
   "cell_type": "markdown",
   "metadata": {},
   "source": [
    "## Diferencias con Bonos Cupón Cero"
   ]
  },
  {
   "cell_type": "code",
   "execution_count": 18,
   "metadata": {
    "ExecuteTime": {
     "end_time": "2020-12-17T20:13:05.144277Z",
     "start_time": "2020-12-17T20:13:05.141483Z"
    }
   },
   "outputs": [],
   "source": [
    "def zcb(r: float):\n",
    "    return 1"
   ]
  },
  {
   "cell_type": "code",
   "execution_count": 19,
   "metadata": {
    "ExecuteTime": {
     "end_time": "2020-12-17T20:13:13.982384Z",
     "start_time": "2020-12-17T20:13:05.146077Z"
    }
   },
   "outputs": [],
   "source": [
    "simulator = get_simulator(gamma, sigma, theta, 1000, 20 * 264, zrate(.000001), 16127)\n",
    "time, simulation = simulator()"
   ]
  },
  {
   "cell_type": "code",
   "execution_count": 20,
   "metadata": {
    "ExecuteTime": {
     "end_time": "2020-12-17T20:13:14.070634Z",
     "start_time": "2020-12-17T20:13:13.985146Z"
    }
   },
   "outputs": [],
   "source": [
    "compare2 = []\n",
    "for T in [1, 2, 3, 4, 5, 10, 12, 15, 20]:\n",
    "    analytic_zero = math.exp(-zrate(T) * T)\n",
    "    stop_index = list(time).index(T)\n",
    "    simulazione = simulation[:, 0:stop_index]\n",
    "    sim_zero = value_payoff_sim(simulazione, zcb)\n",
    "\n",
    "    compare2.append((T, analytic_zero, sim_zero, analytic_zero - sim_zero))\n",
    "\n",
    "df_compare2 = pd.DataFrame(compare2)\n",
    "df_compare2.columns = ['T', 'analytic_zero', 'sim_zero', 'dif_zero']"
   ]
  },
  {
   "cell_type": "code",
   "execution_count": 21,
   "metadata": {
    "ExecuteTime": {
     "end_time": "2020-12-17T20:13:14.081881Z",
     "start_time": "2020-12-17T20:13:14.072244Z"
    }
   },
   "outputs": [
    {
     "data": {
      "text/html": [
       "<style  type=\"text/css\" >\n",
       "</style><table id=\"T_4aecb56e_40a4_11eb_b2e6_02cba411ec9d\" ><thead>    <tr>        <th class=\"blank level0\" ></th>        <th class=\"col_heading level0 col0\" >T</th>        <th class=\"col_heading level0 col1\" >analytic_zero</th>        <th class=\"col_heading level0 col2\" >sim_zero</th>        <th class=\"col_heading level0 col3\" >dif_zero</th>    </tr></thead><tbody>\n",
       "                <tr>\n",
       "                        <th id=\"T_4aecb56e_40a4_11eb_b2e6_02cba411ec9dlevel0_row0\" class=\"row_heading level0 row0\" >0</th>\n",
       "                        <td id=\"T_4aecb56e_40a4_11eb_b2e6_02cba411ec9drow0_col0\" class=\"data row0 col0\" >1</td>\n",
       "                        <td id=\"T_4aecb56e_40a4_11eb_b2e6_02cba411ec9drow0_col1\" class=\"data row0 col1\" >99.929787%</td>\n",
       "                        <td id=\"T_4aecb56e_40a4_11eb_b2e6_02cba411ec9drow0_col2\" class=\"data row0 col2\" >99.928893%</td>\n",
       "                        <td id=\"T_4aecb56e_40a4_11eb_b2e6_02cba411ec9drow0_col3\" class=\"data row0 col3\" >0.000894%</td>\n",
       "            </tr>\n",
       "            <tr>\n",
       "                        <th id=\"T_4aecb56e_40a4_11eb_b2e6_02cba411ec9dlevel0_row1\" class=\"row_heading level0 row1\" >1</th>\n",
       "                        <td id=\"T_4aecb56e_40a4_11eb_b2e6_02cba411ec9drow1_col0\" class=\"data row1 col0\" >2</td>\n",
       "                        <td id=\"T_4aecb56e_40a4_11eb_b2e6_02cba411ec9drow1_col1\" class=\"data row1 col1\" >99.886549%</td>\n",
       "                        <td id=\"T_4aecb56e_40a4_11eb_b2e6_02cba411ec9drow1_col2\" class=\"data row1 col2\" >99.880187%</td>\n",
       "                        <td id=\"T_4aecb56e_40a4_11eb_b2e6_02cba411ec9drow1_col3\" class=\"data row1 col3\" >0.006362%</td>\n",
       "            </tr>\n",
       "            <tr>\n",
       "                        <th id=\"T_4aecb56e_40a4_11eb_b2e6_02cba411ec9dlevel0_row2\" class=\"row_heading level0 row2\" >2</th>\n",
       "                        <td id=\"T_4aecb56e_40a4_11eb_b2e6_02cba411ec9drow2_col0\" class=\"data row2 col0\" >3</td>\n",
       "                        <td id=\"T_4aecb56e_40a4_11eb_b2e6_02cba411ec9drow2_col1\" class=\"data row2 col1\" >99.775849%</td>\n",
       "                        <td id=\"T_4aecb56e_40a4_11eb_b2e6_02cba411ec9drow2_col2\" class=\"data row2 col2\" >99.760896%</td>\n",
       "                        <td id=\"T_4aecb56e_40a4_11eb_b2e6_02cba411ec9drow2_col3\" class=\"data row2 col3\" >0.014953%</td>\n",
       "            </tr>\n",
       "            <tr>\n",
       "                        <th id=\"T_4aecb56e_40a4_11eb_b2e6_02cba411ec9dlevel0_row3\" class=\"row_heading level0 row3\" >3</th>\n",
       "                        <td id=\"T_4aecb56e_40a4_11eb_b2e6_02cba411ec9drow3_col0\" class=\"data row3 col0\" >4</td>\n",
       "                        <td id=\"T_4aecb56e_40a4_11eb_b2e6_02cba411ec9drow3_col1\" class=\"data row3 col1\" >99.499571%</td>\n",
       "                        <td id=\"T_4aecb56e_40a4_11eb_b2e6_02cba411ec9drow3_col2\" class=\"data row3 col2\" >99.473609%</td>\n",
       "                        <td id=\"T_4aecb56e_40a4_11eb_b2e6_02cba411ec9drow3_col3\" class=\"data row3 col3\" >0.025962%</td>\n",
       "            </tr>\n",
       "            <tr>\n",
       "                        <th id=\"T_4aecb56e_40a4_11eb_b2e6_02cba411ec9dlevel0_row4\" class=\"row_heading level0 row4\" >4</th>\n",
       "                        <td id=\"T_4aecb56e_40a4_11eb_b2e6_02cba411ec9drow4_col0\" class=\"data row4 col0\" >5</td>\n",
       "                        <td id=\"T_4aecb56e_40a4_11eb_b2e6_02cba411ec9drow4_col1\" class=\"data row4 col1\" >99.036413%</td>\n",
       "                        <td id=\"T_4aecb56e_40a4_11eb_b2e6_02cba411ec9drow4_col2\" class=\"data row4 col2\" >98.997534%</td>\n",
       "                        <td id=\"T_4aecb56e_40a4_11eb_b2e6_02cba411ec9drow4_col3\" class=\"data row4 col3\" >0.038879%</td>\n",
       "            </tr>\n",
       "            <tr>\n",
       "                        <th id=\"T_4aecb56e_40a4_11eb_b2e6_02cba411ec9dlevel0_row5\" class=\"row_heading level0 row5\" >5</th>\n",
       "                        <td id=\"T_4aecb56e_40a4_11eb_b2e6_02cba411ec9drow5_col0\" class=\"data row5 col0\" >10</td>\n",
       "                        <td id=\"T_4aecb56e_40a4_11eb_b2e6_02cba411ec9drow5_col1\" class=\"data row5 col1\" >94.359063%</td>\n",
       "                        <td id=\"T_4aecb56e_40a4_11eb_b2e6_02cba411ec9drow5_col2\" class=\"data row5 col2\" >94.312132%</td>\n",
       "                        <td id=\"T_4aecb56e_40a4_11eb_b2e6_02cba411ec9drow5_col3\" class=\"data row5 col3\" >0.046931%</td>\n",
       "            </tr>\n",
       "            <tr>\n",
       "                        <th id=\"T_4aecb56e_40a4_11eb_b2e6_02cba411ec9dlevel0_row6\" class=\"row_heading level0 row6\" >6</th>\n",
       "                        <td id=\"T_4aecb56e_40a4_11eb_b2e6_02cba411ec9drow6_col0\" class=\"data row6 col0\" >12</td>\n",
       "                        <td id=\"T_4aecb56e_40a4_11eb_b2e6_02cba411ec9drow6_col1\" class=\"data row6 col1\" >92.038455%</td>\n",
       "                        <td id=\"T_4aecb56e_40a4_11eb_b2e6_02cba411ec9drow6_col2\" class=\"data row6 col2\" >91.979683%</td>\n",
       "                        <td id=\"T_4aecb56e_40a4_11eb_b2e6_02cba411ec9drow6_col3\" class=\"data row6 col3\" >0.058772%</td>\n",
       "            </tr>\n",
       "            <tr>\n",
       "                        <th id=\"T_4aecb56e_40a4_11eb_b2e6_02cba411ec9dlevel0_row7\" class=\"row_heading level0 row7\" >7</th>\n",
       "                        <td id=\"T_4aecb56e_40a4_11eb_b2e6_02cba411ec9drow7_col0\" class=\"data row7 col0\" >15</td>\n",
       "                        <td id=\"T_4aecb56e_40a4_11eb_b2e6_02cba411ec9drow7_col1\" class=\"data row7 col1\" >88.612207%</td>\n",
       "                        <td id=\"T_4aecb56e_40a4_11eb_b2e6_02cba411ec9drow7_col2\" class=\"data row7 col2\" >88.521547%</td>\n",
       "                        <td id=\"T_4aecb56e_40a4_11eb_b2e6_02cba411ec9drow7_col3\" class=\"data row7 col3\" >0.090660%</td>\n",
       "            </tr>\n",
       "            <tr>\n",
       "                        <th id=\"T_4aecb56e_40a4_11eb_b2e6_02cba411ec9dlevel0_row8\" class=\"row_heading level0 row8\" >8</th>\n",
       "                        <td id=\"T_4aecb56e_40a4_11eb_b2e6_02cba411ec9drow8_col0\" class=\"data row8 col0\" >20</td>\n",
       "                        <td id=\"T_4aecb56e_40a4_11eb_b2e6_02cba411ec9drow8_col1\" class=\"data row8 col1\" >83.109040%</td>\n",
       "                        <td id=\"T_4aecb56e_40a4_11eb_b2e6_02cba411ec9drow8_col2\" class=\"data row8 col2\" >83.044233%</td>\n",
       "                        <td id=\"T_4aecb56e_40a4_11eb_b2e6_02cba411ec9drow8_col3\" class=\"data row8 col3\" >0.064807%</td>\n",
       "            </tr>\n",
       "    </tbody></table>"
      ],
      "text/plain": [
       "<pandas.io.formats.style.Styler at 0x7fe08a5eeba8>"
      ]
     },
     "execution_count": 21,
     "metadata": {},
     "output_type": "execute_result"
    }
   ],
   "source": [
    "df_compare2.style.format(frmt)"
   ]
  },
  {
   "cell_type": "code",
   "execution_count": 23,
   "metadata": {
    "ExecuteTime": {
     "end_time": "2020-12-17T20:27:57.230703Z",
     "start_time": "2020-12-17T20:27:57.223939Z"
    }
   },
   "outputs": [
    {
     "data": {
      "text/plain": [
       "0.09949740530631479"
      ]
     },
     "execution_count": 23,
     "metadata": {},
     "output_type": "execute_result"
    }
   ],
   "source": [
    "hw.zcb_call_put(\n",
    "    hw.CallPut.CALL,\n",
    "    strike=.9,\n",
    "    to=1,\n",
    "    tb=2,\n",
    "    r0=zrate(0.0001),\n",
    "    zo=math.exp(-zrate(1)),\n",
    "    zb=math.exp(-zrate(2)*2),\n",
    "    gamma=.5,\n",
    "    sigma=.015)"
   ]
  }
 ],
 "metadata": {
  "hide_input": false,
  "kernelspec": {
   "display_name": "Python 3",
   "language": "python",
   "name": "python3"
  },
  "language_info": {
   "codemirror_mode": {
    "name": "ipython",
    "version": 3
   },
   "file_extension": ".py",
   "mimetype": "text/x-python",
   "name": "python",
   "nbconvert_exporter": "python",
   "pygments_lexer": "ipython3",
   "version": "3.7.3"
  },
  "toc": {
   "base_numbering": "17",
   "nav_menu": {},
   "number_sections": true,
   "sideBar": true,
   "skip_h1_title": false,
   "title_cell": "Table of Contents",
   "title_sidebar": "Contenido",
   "toc_cell": false,
   "toc_position": {
    "height": "calc(100% - 180px)",
    "left": "10px",
    "top": "150px",
    "width": "182.796875px"
   },
   "toc_section_display": true,
   "toc_window_display": true
  }
 },
 "nbformat": 4,
 "nbformat_minor": 4
}
