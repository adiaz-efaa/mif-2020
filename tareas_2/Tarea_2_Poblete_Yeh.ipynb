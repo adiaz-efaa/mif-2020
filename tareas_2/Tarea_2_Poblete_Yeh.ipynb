{
 "cells": [
  {
   "cell_type": "code",
   "execution_count": 1,
   "metadata": {
    "ExecuteTime": {
     "end_time": "2020-12-17T22:10:37.377326Z",
     "start_time": "2020-12-17T22:10:37.373416Z"
    }
   },
   "outputs": [],
   "source": [
    "#TAREA 2 DIEGO POBLETE ALBERTO YEH"
   ]
  },
  {
   "cell_type": "code",
   "execution_count": 2,
   "metadata": {
    "ExecuteTime": {
     "end_time": "2020-12-17T22:10:38.001904Z",
     "start_time": "2020-12-17T22:10:37.380766Z"
    }
   },
   "outputs": [],
   "source": [
    "from finrisk import QC_Financial_3 as Qcf\n",
    "from scipy.stats import norm # Para poder hacer el normcdf del d1\n",
    "from typing import List, Tuple, Callable\n",
    "from scipy.interpolate import interp1d\n",
    "\n",
    "import sys\n",
    "sys.path.insert(1, '../modules')\n",
    "import auxiliary as aux\n",
    "# from modules\n",
    "import auxiliary as aux\n",
    "\n",
    "from numpy import random as rnd\n",
    "import plotly.express as px\n",
    "import pandas as pd\n",
    "import numpy as np\n",
    "import math"
   ]
  },
  {
   "cell_type": "code",
   "execution_count": 3,
   "metadata": {
    "ExecuteTime": {
     "end_time": "2020-12-17T22:10:38.033763Z",
     "start_time": "2020-12-17T22:10:38.004779Z"
    }
   },
   "outputs": [],
   "source": [
    "frmt = {'tasa': '{:.4%}', 'df': '{:.6%}'} \n",
    "\n",
    "#se obtienen los valores de la curva cero cupón en la data\n",
    "\n",
    "curva = pd.read_excel('../data/20201012_built_sofr_zero.xlsx')\n",
    "\n",
    "curva['t'] = curva['plazo'] / 365.0\n",
    "\n",
    "curva['rate'] = np.log(1 / curva['df'])/( curva['plazo'] / 365.0)\n",
    "\n",
    "#interpolando la curva \n",
    "zcurva = interp1d(curva['t'],\n",
    "                  curva['rate'],\n",
    "                  kind='cubic',\n",
    "                  fill_value=\"extrapolate\")"
   ]
  },
  {
   "cell_type": "code",
   "execution_count": 4,
   "metadata": {
    "ExecuteTime": {
     "end_time": "2020-12-17T22:10:38.042605Z",
     "start_time": "2020-12-17T22:10:38.036952Z"
    }
   },
   "outputs": [],
   "source": [
    "#generando variables auxiliares con diferencias finitas\n",
    "def zrate(t: float) -> float:\n",
    "    return zcurva(t)\n",
    "\n",
    "\n",
    "def dzrate(t: float) -> float:\n",
    "    delta = .0001\n",
    "    return (zcurva(t + delta) - zrate(t)) / delta\n",
    "\n",
    "\n",
    "def d2zrate(t: float) -> float:\n",
    "    delta = .0001\n",
    "    return (dzrate(t + delta) - dzrate(t)) / delta\n",
    "\n",
    "#definir las funciones fwd(0,t) y dfwd(0,t).\n",
    "def fwd(t: float) -> float:\n",
    "    return zrate(t) + t * dzrate(t)\n",
    "\n",
    "def dfwd(t: float) -> float:\n",
    "    return 2 * dzrate(t) + t * d2zrate(t)"
   ]
  },
  {
   "cell_type": "code",
   "execution_count": 5,
   "metadata": {
    "ExecuteTime": {
     "end_time": "2020-12-17T22:10:38.048852Z",
     "start_time": "2020-12-17T22:10:38.045022Z"
    }
   },
   "outputs": [],
   "source": [
    "# Parametros\n",
    "strike = 1\n",
    "gamma = 0.5\n",
    "sigma = 0.015\n",
    "num_sim = 1000\n",
    "num_steps = 254\n",
    "seed = 2556\n",
    "# Proxy de la tasa instantánea r(t) es una tasa entre t y t + dt (donde dt es un intervalo infitesimal)\n",
    "r0 = zrate(0)\n",
    "t = 1\n",
    "T_1 = 1\n",
    "T_2 = 2"
   ]
  },
  {
   "cell_type": "code",
   "execution_count": 6,
   "metadata": {
    "ExecuteTime": {
     "end_time": "2020-12-17T22:10:38.055012Z",
     "start_time": "2020-12-17T22:10:38.050778Z"
    }
   },
   "outputs": [],
   "source": [
    "#obteniendo theta\n",
    "def theta(t: float) -> float:\n",
    "    aux = (sigma ** 2) / (2.0 * gamma) * (1 - math.exp(-2.0 * gamma * t))\n",
    "    return dfwd(t) + gamma * fwd(t) + aux"
   ]
  },
  {
   "cell_type": "code",
   "execution_count": 7,
   "metadata": {
    "ExecuteTime": {
     "end_time": "2020-12-17T22:10:38.065165Z",
     "start_time": "2020-12-17T22:10:38.057314Z"
    }
   },
   "outputs": [],
   "source": [
    "#matrices auxiliares para valorizar un bono cero cupón \n",
    "\n",
    "#obteniendo función B\n",
    "def b_hw(gamma: float, t: float, T: float) -> float:\n",
    "    \"\"\"\n",
    "    Calcula el valor de la función B(t,T) que interviene en la fórmula\n",
    "    para el valor de un bono cupón cero en el modelo de HW.\n",
    "    \n",
    "    params:\n",
    "    \n",
    "    - gamma: intensidad de reversión del modelo HW\n",
    "    - t:\n",
    "    - T:\n",
    "    \n",
    "    return:\n",
    "    \n",
    "    - valor de la función B(t, T)\n",
    "    \"\"\"\n",
    "    aux = 1 - math.exp(- gamma * (T - t))\n",
    "    return aux / gamma\n",
    "\n",
    "#obteniendo función A\n",
    "def a_hw(zrate: float, fwd, gamma: float, sigma: float, t: float, T: float,\n",
    "         verbose = False):\n",
    "    \"\"\"\n",
    "    verbose: cuando es True imprime los valores de c1, c2 y c3.\n",
    "    Calcula el A(t,T) dentro de la formula de Z para sacar el valor del bono cupon cero\n",
    "    \"\"\"\n",
    "    b = b_hw(gamma, t, T)\n",
    "    dfT = math.exp(-zrate(T) * T) # en plazo final\n",
    "    dft = math.exp(-zrate(t) * t) # en plazo inicial\n",
    "    c1 = math.log(dfT / dft)\n",
    "    c2 = b * fwd(t)\n",
    "    c3 = (sigma**2) / (4 * gamma) * (b**2) * (1 - math.exp(-2 * gamma * t))\n",
    "    if verbose:\n",
    "        print(\"c1: \" + str(c1))\n",
    "        print(\"c2: \" + str(c2))\n",
    "        print(\"c3: \" + str(c3))\n",
    "    return c1 + c2 - c3"
   ]
  },
  {
   "cell_type": "code",
   "execution_count": 8,
   "metadata": {
    "ExecuteTime": {
     "end_time": "2020-12-17T22:10:38.072924Z",
     "start_time": "2020-12-17T22:10:38.068157Z"
    }
   },
   "outputs": [],
   "source": [
    "#obteniendo finalmente la valorización de un bono cupón a 1Y\n",
    "def zero_hw(r: float, gamma: float, sigma: float, \n",
    "            zrate: float, fwd: float, t: float, T: float) -> float:\n",
    "    \"\"\"\n",
    "    Retorna el valor de Z(r,t,T) de la formula tomando las funciones a_hw y b_hw asi obteniendo\n",
    "    el valor del bono cupon cero\n",
    "    Modelo de HW reproduce exactamente los valores de los factores de descuento de la curva \n",
    "    cupon cero de mercado\n",
    "    \n",
    "    \"\"\"\n",
    "    a = a_hw(zrate, fwd, gamma, sigma, t, T)\n",
    "    b = b_hw(gamma, t, T)\n",
    "    return math.exp(a - b * r)\n",
    "\n"
   ]
  },
  {
   "cell_type": "code",
   "execution_count": 9,
   "metadata": {
    "ExecuteTime": {
     "end_time": "2020-12-17T22:10:38.084394Z",
     "start_time": "2020-12-17T22:10:38.074883Z"
    }
   },
   "outputs": [],
   "source": [
    "#simulando la dinámica de la tasa con 264 saltos temporales \n",
    "def sim_hw_many(gamma, sigma, theta, r0, num_sim, num_steps, seed = None):\n",
    "    \"\"\"\n",
    "    \"\"\"\n",
    "    dt = 1 / 264.0\n",
    "    num_steps += 1\n",
    "    \n",
    "    # Calcula los números aleatorios\n",
    "    alea = np.zeros((num_sim, num_steps))\n",
    "    rnd.seed(seed)\n",
    "\n",
    "    for i in range(0, num_sim):\n",
    "        for j in range(0, num_steps):\n",
    "            alea[i][j] = rnd.normal()\n",
    "            \n",
    "    # Calcula los valores de Theta. Theta sólo depende del tiempo, no de la simulación. \n",
    "    theta_array = np.zeros(num_steps)\n",
    "    tiempo = np.zeros(num_steps)\n",
    "    for i in range(0, num_steps):\n",
    "        tiempo[i] = i * dt\n",
    "        theta_array[i] = theta(i * dt)\n",
    "    \n",
    "    # Simula las trayectorias\n",
    "    sqdt_sigma = math.sqrt(dt) * sigma\n",
    "    gamma_dt = gamma * dt\n",
    "    sim = np.zeros((num_sim, num_steps))\n",
    "    for i in range(0, num_sim):\n",
    "        sim[i][0] = r0\n",
    "        r = r0\n",
    "        for j in range(1, num_steps):\n",
    "            r = r + theta_array[j - 1] * dt - gamma_dt * r + sqdt_sigma * alea[i][j - 1]\n",
    "            sim[i][j] = r\n",
    "    return tiempo, sim"
   ]
  },
  {
   "cell_type": "code",
   "execution_count": 10,
   "metadata": {
    "ExecuteTime": {
     "end_time": "2020-12-17T22:10:39.291027Z",
     "start_time": "2020-12-17T22:10:38.086824Z"
    }
   },
   "outputs": [],
   "source": [
    "tiempo, sim = sim_hw_many(gamma, sigma, theta, r0, num_sim, num_steps, seed )"
   ]
  },
  {
   "cell_type": "code",
   "execution_count": 11,
   "metadata": {
    "ExecuteTime": {
     "end_time": "2020-12-17T22:10:40.511865Z",
     "start_time": "2020-12-17T22:10:39.294703Z"
    }
   },
   "outputs": [],
   "source": [
    "#se obtiene la multiplicación de los factores de dcto simulados desde el día 1 hasta el día 263\n",
    "#esto es para obtener el valor presente del instrumento \n",
    "\n",
    "dt = 1/264\n",
    "\n",
    "tiempo, s = sim_hw_many(gamma, sigma, theta, r0, num_sim, num_steps, seed)\n",
    "df = []\n",
    "D = s[:len(s)-1]\n",
    "for sim in D:\n",
    "    aux_df = math.exp(-dt * np.sum(sim))\n",
    "    df.append(aux_df)\n",
    "    "
   ]
  },
  {
   "cell_type": "code",
   "execution_count": 12,
   "metadata": {
    "ExecuteTime": {
     "end_time": "2020-12-17T22:10:40.521277Z",
     "start_time": "2020-12-17T22:10:40.516220Z"
    }
   },
   "outputs": [],
   "source": [
    "############ PREGUNTA 1: VALORIZANDO CALL Y PUT ############"
   ]
  },
  {
   "cell_type": "code",
   "execution_count": 13,
   "metadata": {
    "ExecuteTime": {
     "end_time": "2020-12-17T22:10:40.533003Z",
     "start_time": "2020-12-17T22:10:40.524941Z"
    }
   },
   "outputs": [],
   "source": [
    "#se obtiene el valor de la opción call y put con la formula empírica en el instante actual \n",
    "def Bono_call_put(gamma, T_1, T_2, sigma, r, zrate ,fwd ,t, strike ):\n",
    "\n",
    "    auxB = b_hw(gamma, T_1, T_2)\n",
    "    auxright = math.sqrt((sigma**2/(2*gamma)) * (1 - math.exp(-2 * gamma * T_1)))\n",
    "    Sz = auxB * auxright\n",
    "    \n",
    "    Zt2 = zero_hw(r, gamma, sigma, zrate, fwd, t, T_2)\n",
    "    Zt1 = zero_hw(r, gamma, sigma, zrate, fwd, t, T_1)\n",
    "    \n",
    "    auxlog = math.log(Zt2/(strike*Zt1))\n",
    "    auxSz = 0.5 * Sz**2\n",
    "    d1 = (auxlog + auxSz)/Sz    \n",
    "    d2 = d1 - Sz\n",
    "    \n",
    "    aux1c = (Zt2/Zt1)*norm.cdf(d1)\n",
    "    aux2c = strike*norm.cdf(d2)\n",
    "    \n",
    "    aux1p = strike*norm.cdf(-d2)\n",
    "    aux2p = (Zt2/Zt1)*norm.cdf(-d1)\n",
    "     \n",
    "    call = Zt1 * (aux1c - aux2c)   \n",
    "    put = Zt1 * (aux1p - aux2p)\n",
    "    \n",
    "    return call, put"
   ]
  },
  {
   "cell_type": "code",
   "execution_count": 14,
   "metadata": {
    "ExecuteTime": {
     "end_time": "2020-12-17T22:10:41.933462Z",
     "start_time": "2020-12-17T22:10:40.535251Z"
    }
   },
   "outputs": [],
   "source": [
    "tiempo, sim = sim_hw_many(gamma, sigma, theta, r0, num_sim, num_steps, seed )\n",
    "# Extraemos las ultimas tasas(step) de cada simulacion\n",
    "r= []\n",
    "aux_Z=[]\n",
    "for i in range(num_sim):\n",
    "    aux = sim[i][-1]\n",
    "    r.append(aux) # mis r\n",
    "    \n",
    "    aux1 = zero_hw(r[i], gamma, sigma, zrate, fwd, T_1, T_2)\n",
    "    aux_Z.append(aux1) # mis precios del bono"
   ]
  },
  {
   "cell_type": "code",
   "execution_count": 15,
   "metadata": {
    "ExecuteTime": {
     "end_time": "2020-12-17T22:10:41.939903Z",
     "start_time": "2020-12-17T22:10:41.935135Z"
    }
   },
   "outputs": [],
   "source": [
    "#se simula los payoffs tanto para una call como para una put con la última tasa simulada (del step 264)\n",
    "def sim_call_put(aux_Z, strike, num_sim):\n",
    "    precios = []\n",
    "    sim_call = []\n",
    "    sim_put = []\n",
    "    for i in range(num_sim):        \n",
    "        precios.append(aux_Z[i])\n",
    "        \n",
    "        aux_call = max((precios[i]-strike),0)\n",
    "        sim_call.append(aux_call)\n",
    "        \n",
    "        aux_put = max((strike - precios[i]),0)\n",
    "        sim_put.append(aux_put)\n",
    "        \n",
    "    \n",
    "    return sim_call, sim_put"
   ]
  },
  {
   "cell_type": "code",
   "execution_count": 16,
   "metadata": {
    "ExecuteTime": {
     "end_time": "2020-12-17T22:10:41.945392Z",
     "start_time": "2020-12-17T22:10:41.941786Z"
    }
   },
   "outputs": [],
   "source": [
    "sim_call, sim_put = sim_call_put(aux_Z, strike, num_sim)"
   ]
  },
  {
   "cell_type": "code",
   "execution_count": 17,
   "metadata": {
    "ExecuteTime": {
     "end_time": "2020-12-17T22:10:41.949152Z",
     "start_time": "2020-12-17T22:10:41.947057Z"
    }
   },
   "outputs": [],
   "source": [
    "#CÁLCULO VALOR PRESENTE DE LA OPCIÓN CALL Y PUT"
   ]
  },
  {
   "cell_type": "code",
   "execution_count": 18,
   "metadata": {
    "ExecuteTime": {
     "end_time": "2020-12-17T22:10:41.954240Z",
     "start_time": "2020-12-17T22:10:41.950759Z"
    }
   },
   "outputs": [],
   "source": [
    "#luego de esto, se obtienen el producto de los payoffs de la call y \n",
    "#la multiplicación de los factores de dcto simulados desde el día 1 hasta el día 263\n",
    "#Finalmente, el valor presente de la opción call corresponde al promedio de estos productos \n",
    "\n",
    "products_call = []\n",
    "for num1, num2 in zip(sim_call, df):\n",
    "    products_call.append(num1 * num2)\n",
    "    \n",
    "#finalmente, se obtiene el valor presente del instrumento \n",
    "vp_call_sim = np.mean(products_call)"
   ]
  },
  {
   "cell_type": "code",
   "execution_count": 19,
   "metadata": {
    "ExecuteTime": {
     "end_time": "2020-12-17T22:10:41.961162Z",
     "start_time": "2020-12-17T22:10:41.957384Z"
    }
   },
   "outputs": [],
   "source": [
    "#Por otro lado, se obtienen el producto de los payoffs de la put y \n",
    "#la multiplicación de los factores de dcto simulados desde el día 1 hasta el día 263\n",
    "#Finalmente, el valor presente de la opción put corresponde al promedio de estos productos \n",
    "\n",
    "products_put = []\n",
    "for num1, num2 in zip(sim_put, df):\n",
    "    products_put.append(num1 * num2)\n",
    "#finalmente, se obtiene el valor presente del instrumento \n",
    "vp_put_sim = np.mean(products_put)"
   ]
  },
  {
   "cell_type": "code",
   "execution_count": 35,
   "metadata": {
    "ExecuteTime": {
     "end_time": "2020-12-17T22:12:33.161235Z",
     "start_time": "2020-12-17T22:12:33.153243Z"
    }
   },
   "outputs": [
    {
     "name": "stdout",
     "output_type": "stream",
     "text": [
      " Valor Teorico Call: 0.0034467478 \n",
      " Valor Simulacion de Call: 0.0035198635\n",
      " Error de la Call: 7.3115671e-05\n",
      " Valor Teorico Put: 0.0040547718 \n",
      " Valor Simulacion de Put: 0.004025615\n",
      " Error de la Put: 2.915674e-05\n"
     ]
    }
   ],
   "source": [
    "CallTeorico , PutTeorico = Bono_call_put(gamma, T_1, T_2, sigma, r0, zrate ,fwd ,t, strike )\n",
    "\n",
    "print(f' Valor Teorico Call:{CallTeorico: .8} \\n Valor Simulacion de Call:{vp_call_sim: .8}')\n",
    "errorCall = abs(CallTeorico - vp_call_sim)\n",
    "print(f' Error de la Call:{errorCall: .8}')\n",
    "\n",
    "print(f' Valor Teorico Put:{PutTeorico: .8} \\n Valor Simulacion de Put:{vp_put_sim: .8}')\n",
    "errorPut = abs(PutTeorico-vp_put_sim)\n",
    "print(f' Error de la Put:{errorPut: .8}')"
   ]
  },
  {
   "cell_type": "code",
   "execution_count": 36,
   "metadata": {
    "ExecuteTime": {
     "end_time": "2020-12-17T22:12:34.914865Z",
     "start_time": "2020-12-17T22:12:34.906672Z"
    }
   },
   "outputs": [
    {
     "name": "stdout",
     "output_type": "stream",
     "text": [
      "0.0035283883401179272\n",
      "0.00396076991674188\n"
     ]
    }
   ],
   "source": [
    "# Tests\n",
    "\n",
    "import hull_white as hw\n",
    "\n",
    "call = hw.zcb_call_put(\n",
    "    hw.CallPut.CALL,\n",
    "    strike=strike,\n",
    "    to=T_1,\n",
    "    tb=T_2,\n",
    "    r0=r0,\n",
    "    zo=math.exp(-zrate(T_1) * T_1),\n",
    "    zb=math.exp(-zrate(T_2) * T_2),\n",
    "    gamma=gamma,\n",
    "    sigma=sigma)\n",
    "\n",
    "put = hw.zcb_call_put(\n",
    "    hw.CallPut.PUT,\n",
    "    strike=strike,\n",
    "    to=T_1,\n",
    "    tb=T_2,\n",
    "    r0=r0,\n",
    "    zo=math.exp(-zrate(T_1) * T_1),\n",
    "    zb=math.exp(-zrate(T_2) * T_2),\n",
    "    gamma=gamma,\n",
    "    sigma=sigma)\n",
    "\n",
    "print(call)\n",
    "print(put)"
   ]
  },
  {
   "cell_type": "markdown",
   "metadata": {},
   "source": [
    "**AD:** Muy claro el procedimiento. Me hubiera gustado que probaran más strikes y plazos de vencimiento del bono cupón cero. El test del valor teórico no da perfecto."
   ]
  },
  {
   "cell_type": "code",
   "execution_count": 22,
   "metadata": {
    "ExecuteTime": {
     "end_time": "2020-12-17T22:10:41.984921Z",
     "start_time": "2020-12-17T22:10:41.982605Z"
    }
   },
   "outputs": [],
   "source": [
    "############PREGUNTA 2: VALORIZANDO BONO 0 CUPÓN############"
   ]
  },
  {
   "cell_type": "code",
   "execution_count": 23,
   "metadata": {
    "ExecuteTime": {
     "end_time": "2020-12-17T22:10:41.990379Z",
     "start_time": "2020-12-17T22:10:41.986772Z"
    }
   },
   "outputs": [],
   "source": [
    "# Extraemos las ultimas tasas(step) de cada simulacion\n",
    "last_sim = []\n",
    "for i in range(num_sim):\n",
    "    aux = sim[i][-1]\n",
    "    last_sim.append(aux)"
   ]
  },
  {
   "cell_type": "code",
   "execution_count": 24,
   "metadata": {
    "ExecuteTime": {
     "end_time": "2020-12-17T22:10:41.996334Z",
     "start_time": "2020-12-17T22:10:41.992118Z"
    }
   },
   "outputs": [],
   "source": [
    "#se simula los payoffs del bono cero cupón con la última tasa simulada (del step 264)\n",
    "def sim_bono(num_sim, last_sim, gamma, sigma, zrate, fwd, T_1, T_2):\n",
    "    valorBono = []    \n",
    "    for i in range(num_sim):\n",
    "        r = last_sim[i]\n",
    "        auxZ = zero_hw(r, gamma, sigma, zrate, fwd, T_1, T_2)\n",
    "        valorBono.append(auxZ)\n",
    "    return valorBono"
   ]
  },
  {
   "cell_type": "code",
   "execution_count": 25,
   "metadata": {
    "ExecuteTime": {
     "end_time": "2020-12-17T22:10:42.128478Z",
     "start_time": "2020-12-17T22:10:41.998216Z"
    }
   },
   "outputs": [],
   "source": [
    "valorBono_1Y = sim_bono(num_sim, last_sim, gamma, sigma, zrate, fwd, T_1, T_2)"
   ]
  },
  {
   "cell_type": "code",
   "execution_count": 26,
   "metadata": {
    "ExecuteTime": {
     "end_time": "2020-12-17T22:10:42.133053Z",
     "start_time": "2020-12-17T22:10:42.130461Z"
    }
   },
   "outputs": [],
   "source": [
    "#CÁLCULO VALOR PRESENTE DEL BONO CUPÓN 0 "
   ]
  },
  {
   "cell_type": "code",
   "execution_count": 27,
   "metadata": {
    "ExecuteTime": {
     "end_time": "2020-12-17T22:10:42.138578Z",
     "start_time": "2020-12-17T22:10:42.135094Z"
    }
   },
   "outputs": [],
   "source": [
    "#luego de esto, se obtienen el producto de los payoffs del bono y la multiplicación de los factores de dcto simulados desde el día 1 hasta el día 263\n",
    "products = []\n",
    "\n",
    "for num1, num2 in zip(valorBono_1Y, df):\n",
    "    products.append(num1 * num2)\n",
    "#finalmente, se obtiene el valor presente del instrumento \n",
    "vp_bono_sim = np.mean(products)"
   ]
  },
  {
   "cell_type": "code",
   "execution_count": 28,
   "metadata": {
    "ExecuteTime": {
     "end_time": "2020-12-17T22:10:42.142982Z",
     "start_time": "2020-12-17T22:10:42.140243Z"
    }
   },
   "outputs": [],
   "source": [
    "# En la celda anterior se quizo obtener el valor presente al igual que la opción call y put. \n",
    "#Sin embargo, luego nos dimos cuenta que el payoff del bono cupon 0 a vencimiento es igual a 1\n",
    "#Por lo tanto, el valor presente de este instrumento se simplifica en cuanto al cálculo ya que solo corresponde \n",
    "#al promedio del producto de los factores de descuento diarios (del comienzo hasta el día 263)\n",
    "vp_bono_sim = np.average(df)"
   ]
  },
  {
   "cell_type": "code",
   "execution_count": 29,
   "metadata": {
    "ExecuteTime": {
     "end_time": "2020-12-17T22:10:42.148339Z",
     "start_time": "2020-12-17T22:10:42.144441Z"
    }
   },
   "outputs": [
    {
     "data": {
      "text/plain": [
       "999"
      ]
     },
     "execution_count": 29,
     "metadata": {},
     "output_type": "execute_result"
    }
   ],
   "source": [
    "len(df)"
   ]
  },
  {
   "cell_type": "code",
   "execution_count": 30,
   "metadata": {
    "ExecuteTime": {
     "end_time": "2020-12-17T22:10:42.153105Z",
     "start_time": "2020-12-17T22:10:42.149922Z"
    }
   },
   "outputs": [],
   "source": [
    "# finalmente el valor teórico de este instrumento corresponde al valor de la curva a un plazo de 1Y\n",
    "vp_bono_teorico = curva['df'].iloc[15]"
   ]
  },
  {
   "cell_type": "code",
   "execution_count": 31,
   "metadata": {
    "ExecuteTime": {
     "end_time": "2020-12-17T22:10:42.158249Z",
     "start_time": "2020-12-17T22:10:42.154748Z"
    }
   },
   "outputs": [
    {
     "name": "stdout",
     "output_type": "stream",
     "text": [
      "Valor Teorico del Bono: 0.99929787 \n",
      "Valor Simulado del Bono: 0.99929008\n",
      "Error del bono: 7.7906617e-06\n"
     ]
    }
   ],
   "source": [
    "print(f'Valor Teorico del Bono:{vp_bono_teorico: .8} \\nValor Simulado del Bono:{vp_bono_sim: .8}')\n",
    "print(f'Error del bono:{abs(vp_bono_teorico-vp_bono_sim): .8}')"
   ]
  },
  {
   "cell_type": "markdown",
   "metadata": {},
   "source": [
    "**AD:** Igual que arriba. Ojalá hubieran testeado con más factores de descuento."
   ]
  }
 ],
 "metadata": {
  "hide_input": false,
  "kernelspec": {
   "display_name": "Python 3",
   "language": "python",
   "name": "python3"
  },
  "language_info": {
   "codemirror_mode": {
    "name": "ipython",
    "version": 3
   },
   "file_extension": ".py",
   "mimetype": "text/x-python",
   "name": "python",
   "nbconvert_exporter": "python",
   "pygments_lexer": "ipython3",
   "version": "3.7.3"
  },
  "toc": {
   "base_numbering": 1,
   "nav_menu": {},
   "number_sections": true,
   "sideBar": true,
   "skip_h1_title": false,
   "title_cell": "Table of Contents",
   "title_sidebar": "Contents",
   "toc_cell": false,
   "toc_position": {},
   "toc_section_display": true,
   "toc_window_display": false
  },
  "varInspector": {
   "cols": {
    "lenName": 16,
    "lenType": 16,
    "lenVar": 40
   },
   "kernels_config": {
    "python": {
     "delete_cmd_postfix": "",
     "delete_cmd_prefix": "del ",
     "library": "var_list.py",
     "varRefreshCmd": "print(var_dic_list())"
    },
    "r": {
     "delete_cmd_postfix": ") ",
     "delete_cmd_prefix": "rm(",
     "library": "var_list.r",
     "varRefreshCmd": "cat(var_dic_list()) "
    }
   },
   "oldHeight": 616.390625,
   "position": {
    "height": "40px",
    "left": "597px",
    "right": "20px",
    "top": "84px",
    "width": "711px"
   },
   "types_to_exclude": [
    "module",
    "function",
    "builtin_function_or_method",
    "instance",
    "_Feature"
   ],
   "varInspector_section_display": "none",
   "window_display": false
  }
 },
 "nbformat": 4,
 "nbformat_minor": 4
}
