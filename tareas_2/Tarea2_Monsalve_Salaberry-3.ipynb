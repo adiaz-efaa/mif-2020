{
 "cells": [
  {
   "cell_type": "markdown",
   "metadata": {},
   "source": [
    "# Tarea 2"
   ]
  },
  {
   "cell_type": "markdown",
   "metadata": {
    "ExecuteTime": {
     "end_time": "2020-12-04T03:04:17.594991Z",
     "start_time": "2020-12-04T03:04:17.587645Z"
    }
   },
   "source": [
    "Integrantes: Gregorio Salaberry y Rocío Monsalve"
   ]
  },
  {
   "cell_type": "markdown",
   "metadata": {},
   "source": [
    "- Usando las funciones anteriores, o desarrollando las propias, escriba una función que pueda valorizar, por simulación de Montecarlo, calls y puts sobre bonos cero cupón con el modelo de HW. Considere puts y calls de plazo máximo igual a 1Y.\n",
    "- Su función debe poder recibir la semilla.\n",
    "- Compare sus resultados con las fórmulas del modelo y muestre que diferencias obtiene usando 1000 simulaciones y una semilla predeterminada.\n",
    "- Valorice también por simulación de Montecarlo el bono cupón cero a 1Y. Muestre que diferencias obtiene respecto al valor de mercado del bono usando 1000 simulaciones y una semilla predeterminada."
   ]
  },
  {
   "cell_type": "markdown",
   "metadata": {},
   "source": [
    "Se cargan las librerias necesarias para realizar la tarea:"
   ]
  },
  {
   "cell_type": "code",
   "execution_count": 36,
   "metadata": {
    "ExecuteTime": {
     "end_time": "2020-12-17T21:40:17.042301Z",
     "start_time": "2020-12-17T21:40:17.031962Z"
    }
   },
   "outputs": [],
   "source": [
    "import sys\n",
    "sys.path.insert(1, '../modules')\n",
    "import auxiliary as aux\n",
    "\n",
    "from finrisk import QC_Financial_3 as Qcf\n",
    "from typing import List, Tuple, Callable\n",
    "from scipy.interpolate import interp1d\n",
    "# from modules\n",
    "import auxiliary as aux\n",
    "from numpy import random as rnd\n",
    "import plotly.express as px\n",
    "import pandas as pd\n",
    "import numpy as np\n",
    "import math\n",
    "from scipy.stats import norm"
   ]
  },
  {
   "cell_type": "code",
   "execution_count": 37,
   "metadata": {
    "ExecuteTime": {
     "end_time": "2020-12-17T21:40:17.048766Z",
     "start_time": "2020-12-17T21:40:17.045007Z"
    }
   },
   "outputs": [],
   "source": [
    "frmt = {'tasa': '{:.4%}', 'df': '{:.6%}'} #sirve para formatear los dataframe que pondremos en pantalla"
   ]
  },
  {
   "cell_type": "markdown",
   "metadata": {},
   "source": [
    "## Funciones de Notebooks anteriores"
   ]
  },
  {
   "cell_type": "markdown",
   "metadata": {},
   "source": [
    "### Cargar Curva Cero Cupon e Interpolación"
   ]
  },
  {
   "cell_type": "code",
   "execution_count": 38,
   "metadata": {
    "ExecuteTime": {
     "end_time": "2020-12-17T21:40:17.069992Z",
     "start_time": "2020-12-17T21:40:17.052821Z"
    }
   },
   "outputs": [],
   "source": [
    "#Se cargan los datos para construir la curva cupon cero\n",
    "curva = pd.read_excel('../data/20201012_built_sofr_zero.xlsx')"
   ]
  },
  {
   "cell_type": "code",
   "execution_count": 39,
   "metadata": {
    "ExecuteTime": {
     "end_time": "2020-12-17T21:40:17.080607Z",
     "start_time": "2020-12-17T21:40:17.072714Z"
    }
   },
   "outputs": [
    {
     "data": {
      "text/html": [
       "<style  type=\"text/css\" >\n",
       "</style><table id=\"T_7412fc44_40b0_11eb_b2e6_02cba411ec9d\" ><thead>    <tr>        <th class=\"blank level0\" ></th>        <th class=\"col_heading level0 col0\" >plazo</th>        <th class=\"col_heading level0 col1\" >tasa</th>        <th class=\"col_heading level0 col2\" >df</th>    </tr></thead><tbody>\n",
       "                <tr>\n",
       "                        <th id=\"T_7412fc44_40b0_11eb_b2e6_02cba411ec9dlevel0_row0\" class=\"row_heading level0 row0\" >0</th>\n",
       "                        <td id=\"T_7412fc44_40b0_11eb_b2e6_02cba411ec9drow0_col0\" class=\"data row0 col0\" >1</td>\n",
       "                        <td id=\"T_7412fc44_40b0_11eb_b2e6_02cba411ec9drow0_col1\" class=\"data row0 col1\" >0.0811%</td>\n",
       "                        <td id=\"T_7412fc44_40b0_11eb_b2e6_02cba411ec9drow0_col2\" class=\"data row0 col2\" >99.999778%</td>\n",
       "            </tr>\n",
       "            <tr>\n",
       "                        <th id=\"T_7412fc44_40b0_11eb_b2e6_02cba411ec9dlevel0_row1\" class=\"row_heading level0 row1\" >1</th>\n",
       "                        <td id=\"T_7412fc44_40b0_11eb_b2e6_02cba411ec9drow1_col0\" class=\"data row1 col0\" >7</td>\n",
       "                        <td id=\"T_7412fc44_40b0_11eb_b2e6_02cba411ec9drow1_col1\" class=\"data row1 col1\" >0.0841%</td>\n",
       "                        <td id=\"T_7412fc44_40b0_11eb_b2e6_02cba411ec9drow1_col2\" class=\"data row1 col2\" >99.998388%</td>\n",
       "            </tr>\n",
       "            <tr>\n",
       "                        <th id=\"T_7412fc44_40b0_11eb_b2e6_02cba411ec9dlevel0_row2\" class=\"row_heading level0 row2\" >2</th>\n",
       "                        <td id=\"T_7412fc44_40b0_11eb_b2e6_02cba411ec9drow2_col0\" class=\"data row2 col0\" >14</td>\n",
       "                        <td id=\"T_7412fc44_40b0_11eb_b2e6_02cba411ec9drow2_col1\" class=\"data row2 col1\" >0.0780%</td>\n",
       "                        <td id=\"T_7412fc44_40b0_11eb_b2e6_02cba411ec9drow2_col2\" class=\"data row2 col2\" >99.997010%</td>\n",
       "            </tr>\n",
       "            <tr>\n",
       "                        <th id=\"T_7412fc44_40b0_11eb_b2e6_02cba411ec9dlevel0_row3\" class=\"row_heading level0 row3\" >3</th>\n",
       "                        <td id=\"T_7412fc44_40b0_11eb_b2e6_02cba411ec9drow3_col0\" class=\"data row3 col0\" >21</td>\n",
       "                        <td id=\"T_7412fc44_40b0_11eb_b2e6_02cba411ec9drow3_col1\" class=\"data row3 col1\" >0.0774%</td>\n",
       "                        <td id=\"T_7412fc44_40b0_11eb_b2e6_02cba411ec9drow3_col2\" class=\"data row3 col2\" >99.995549%</td>\n",
       "            </tr>\n",
       "            <tr>\n",
       "                        <th id=\"T_7412fc44_40b0_11eb_b2e6_02cba411ec9dlevel0_row4\" class=\"row_heading level0 row4\" >4</th>\n",
       "                        <td id=\"T_7412fc44_40b0_11eb_b2e6_02cba411ec9drow4_col0\" class=\"data row4 col0\" >33</td>\n",
       "                        <td id=\"T_7412fc44_40b0_11eb_b2e6_02cba411ec9drow4_col1\" class=\"data row4 col1\" >0.0781%</td>\n",
       "                        <td id=\"T_7412fc44_40b0_11eb_b2e6_02cba411ec9drow4_col2\" class=\"data row4 col2\" >99.992942%</td>\n",
       "            </tr>\n",
       "    </tbody></table>"
      ],
      "text/plain": [
       "<pandas.io.formats.style.Styler at 0x7f7bc80a5b00>"
      ]
     },
     "execution_count": 39,
     "metadata": {},
     "output_type": "execute_result"
    }
   ],
   "source": [
    "#Se muestra la tabla\n",
    "curva.head().style.format(frmt)"
   ]
  },
  {
   "cell_type": "code",
   "execution_count": 40,
   "metadata": {
    "ExecuteTime": {
     "end_time": "2020-12-17T21:40:17.096260Z",
     "start_time": "2020-12-17T21:40:17.083421Z"
    }
   },
   "outputs": [
    {
     "data": {
      "text/html": [
       "<style  type=\"text/css\" >\n",
       "</style><table id=\"T_7412fc45_40b0_11eb_b2e6_02cba411ec9d\" ><thead>    <tr>        <th class=\"blank level0\" ></th>        <th class=\"col_heading level0 col0\" >plazo</th>        <th class=\"col_heading level0 col1\" >tasa</th>        <th class=\"col_heading level0 col2\" >df</th>        <th class=\"col_heading level0 col3\" >t</th>        <th class=\"col_heading level0 col4\" >rate</th>    </tr></thead><tbody>\n",
       "                <tr>\n",
       "                        <th id=\"T_7412fc45_40b0_11eb_b2e6_02cba411ec9dlevel0_row0\" class=\"row_heading level0 row0\" >0</th>\n",
       "                        <td id=\"T_7412fc45_40b0_11eb_b2e6_02cba411ec9drow0_col0\" class=\"data row0 col0\" >1</td>\n",
       "                        <td id=\"T_7412fc45_40b0_11eb_b2e6_02cba411ec9drow0_col1\" class=\"data row0 col1\" >0.0811%</td>\n",
       "                        <td id=\"T_7412fc45_40b0_11eb_b2e6_02cba411ec9drow0_col2\" class=\"data row0 col2\" >99.999778%</td>\n",
       "                        <td id=\"T_7412fc45_40b0_11eb_b2e6_02cba411ec9drow0_col3\" class=\"data row0 col3\" >0.002740</td>\n",
       "                        <td id=\"T_7412fc45_40b0_11eb_b2e6_02cba411ec9drow0_col4\" class=\"data row0 col4\" >0.000811</td>\n",
       "            </tr>\n",
       "            <tr>\n",
       "                        <th id=\"T_7412fc45_40b0_11eb_b2e6_02cba411ec9dlevel0_row1\" class=\"row_heading level0 row1\" >1</th>\n",
       "                        <td id=\"T_7412fc45_40b0_11eb_b2e6_02cba411ec9drow1_col0\" class=\"data row1 col0\" >7</td>\n",
       "                        <td id=\"T_7412fc45_40b0_11eb_b2e6_02cba411ec9drow1_col1\" class=\"data row1 col1\" >0.0841%</td>\n",
       "                        <td id=\"T_7412fc45_40b0_11eb_b2e6_02cba411ec9drow1_col2\" class=\"data row1 col2\" >99.998388%</td>\n",
       "                        <td id=\"T_7412fc45_40b0_11eb_b2e6_02cba411ec9drow1_col3\" class=\"data row1 col3\" >0.019178</td>\n",
       "                        <td id=\"T_7412fc45_40b0_11eb_b2e6_02cba411ec9drow1_col4\" class=\"data row1 col4\" >0.000841</td>\n",
       "            </tr>\n",
       "            <tr>\n",
       "                        <th id=\"T_7412fc45_40b0_11eb_b2e6_02cba411ec9dlevel0_row2\" class=\"row_heading level0 row2\" >2</th>\n",
       "                        <td id=\"T_7412fc45_40b0_11eb_b2e6_02cba411ec9drow2_col0\" class=\"data row2 col0\" >14</td>\n",
       "                        <td id=\"T_7412fc45_40b0_11eb_b2e6_02cba411ec9drow2_col1\" class=\"data row2 col1\" >0.0780%</td>\n",
       "                        <td id=\"T_7412fc45_40b0_11eb_b2e6_02cba411ec9drow2_col2\" class=\"data row2 col2\" >99.997010%</td>\n",
       "                        <td id=\"T_7412fc45_40b0_11eb_b2e6_02cba411ec9drow2_col3\" class=\"data row2 col3\" >0.038356</td>\n",
       "                        <td id=\"T_7412fc45_40b0_11eb_b2e6_02cba411ec9drow2_col4\" class=\"data row2 col4\" >0.000780</td>\n",
       "            </tr>\n",
       "            <tr>\n",
       "                        <th id=\"T_7412fc45_40b0_11eb_b2e6_02cba411ec9dlevel0_row3\" class=\"row_heading level0 row3\" >3</th>\n",
       "                        <td id=\"T_7412fc45_40b0_11eb_b2e6_02cba411ec9drow3_col0\" class=\"data row3 col0\" >21</td>\n",
       "                        <td id=\"T_7412fc45_40b0_11eb_b2e6_02cba411ec9drow3_col1\" class=\"data row3 col1\" >0.0774%</td>\n",
       "                        <td id=\"T_7412fc45_40b0_11eb_b2e6_02cba411ec9drow3_col2\" class=\"data row3 col2\" >99.995549%</td>\n",
       "                        <td id=\"T_7412fc45_40b0_11eb_b2e6_02cba411ec9drow3_col3\" class=\"data row3 col3\" >0.057534</td>\n",
       "                        <td id=\"T_7412fc45_40b0_11eb_b2e6_02cba411ec9drow3_col4\" class=\"data row3 col4\" >0.000774</td>\n",
       "            </tr>\n",
       "            <tr>\n",
       "                        <th id=\"T_7412fc45_40b0_11eb_b2e6_02cba411ec9dlevel0_row4\" class=\"row_heading level0 row4\" >4</th>\n",
       "                        <td id=\"T_7412fc45_40b0_11eb_b2e6_02cba411ec9drow4_col0\" class=\"data row4 col0\" >33</td>\n",
       "                        <td id=\"T_7412fc45_40b0_11eb_b2e6_02cba411ec9drow4_col1\" class=\"data row4 col1\" >0.0781%</td>\n",
       "                        <td id=\"T_7412fc45_40b0_11eb_b2e6_02cba411ec9drow4_col2\" class=\"data row4 col2\" >99.992942%</td>\n",
       "                        <td id=\"T_7412fc45_40b0_11eb_b2e6_02cba411ec9drow4_col3\" class=\"data row4 col3\" >0.090411</td>\n",
       "                        <td id=\"T_7412fc45_40b0_11eb_b2e6_02cba411ec9drow4_col4\" class=\"data row4 col4\" >0.000781</td>\n",
       "            </tr>\n",
       "    </tbody></table>"
      ],
      "text/plain": [
       "<pandas.io.formats.style.Styler at 0x7f7bc801dd68>"
      ]
     },
     "execution_count": 40,
     "metadata": {},
     "output_type": "execute_result"
    }
   ],
   "source": [
    "#Necesitamos tener derivadas para la función theta\n",
    "#Se crean estas nuevas columnas en el datagrame de la curva\n",
    "curva['t'] = curva['plazo'] / 365.0\n",
    "curva['rate'] = np.log(1 / curva['df'])/( curva['plazo'] / 365.0)\n",
    "curva.head().style.format(frmt)"
   ]
  },
  {
   "cell_type": "code",
   "execution_count": 41,
   "metadata": {
    "ExecuteTime": {
     "end_time": "2020-12-17T21:40:17.101954Z",
     "start_time": "2020-12-17T21:40:17.098370Z"
    }
   },
   "outputs": [],
   "source": [
    "#Construimos este nuevo objeto para poder interpolar la curva, zcurva es una función. \n",
    "#Se utiliza una interpolación cúbica, de manera de obtener una curva más suave\n",
    "zcurva = interp1d(curva['t'],\n",
    "                  curva['rate'],\n",
    "                  kind='cubic',\n",
    "                  fill_value=\"extrapolate\")"
   ]
  },
  {
   "cell_type": "markdown",
   "metadata": {},
   "source": [
    "### Derivadas para la función Zcurva"
   ]
  },
  {
   "cell_type": "code",
   "execution_count": 42,
   "metadata": {
    "ExecuteTime": {
     "end_time": "2020-12-17T21:40:17.112508Z",
     "start_time": "2020-12-17T21:40:17.105535Z"
    }
   },
   "outputs": [
    {
     "name": "stdout",
     "output_type": "stream",
     "text": [
      "zrate(2.00) = 0.0568%\n",
      "dzrate(2.00) = -0.0066%\n",
      "d2zrate(2.00) = 0.0584%\n"
     ]
    }
   ],
   "source": [
    "#Funciones de las derivadas \n",
    "def zrate(t: float) -> float:\n",
    "    return zcurva(t)\n",
    "\n",
    "\n",
    "def dzrate(t: float) -> float:\n",
    "    delta = .0001\n",
    "    return (zcurva(t + delta) - zrate(t)) / delta\n",
    "\n",
    "\n",
    "def d2zrate(t: float) -> float:\n",
    "    delta = .0001\n",
    "    return (dzrate(t + delta) - dzrate(t)) / delta\n",
    "\n",
    "#Probar las funciones realizadas\n",
    "t = 2\n",
    "print(f'zrate({t:.2f}) = {zrate(t):.4%}')\n",
    "print(f'dzrate({t:.2f}) = {dzrate(t):.4%}')\n",
    "print(f'd2zrate({t:.2f}) = {d2zrate(t):.4%}')"
   ]
  },
  {
   "cell_type": "markdown",
   "metadata": {},
   "source": [
    "Podemos ahora definir las funciones `fwd(0,t)` y `dfwd(0,t)`."
   ]
  },
  {
   "cell_type": "markdown",
   "metadata": {},
   "source": [
    "### Funciones `fwd(0,t)` y `dfwd(0,t)`"
   ]
  },
  {
   "cell_type": "code",
   "execution_count": 43,
   "metadata": {
    "ExecuteTime": {
     "end_time": "2020-12-17T21:40:17.119683Z",
     "start_time": "2020-12-17T21:40:17.115764Z"
    }
   },
   "outputs": [],
   "source": [
    "def fwd(t: float) -> float:\n",
    "    return zrate(t) + t * dzrate(t)\n",
    "\n",
    "def dfwd(t: float) -> float:\n",
    "    return 2 * dzrate(t) + t * d2zrate(t)"
   ]
  },
  {
   "cell_type": "code",
   "execution_count": 44,
   "metadata": {
    "ExecuteTime": {
     "end_time": "2020-12-17T21:40:17.125734Z",
     "start_time": "2020-12-17T21:40:17.121525Z"
    }
   },
   "outputs": [
    {
     "name": "stdout",
     "output_type": "stream",
     "text": [
      "fwd(2.00) = 0.0436%\n",
      "dfwd(2.00) = 0.1036%\n"
     ]
    }
   ],
   "source": [
    "#Probar las funciones realizadas\n",
    "print(f'fwd({t:.2f}) = {fwd(t):.4%}')\n",
    "print(f'dfwd({t:.2f}) = {dfwd(t):.4%}')"
   ]
  },
  {
   "cell_type": "markdown",
   "metadata": {},
   "source": [
    "### Función $\\theta$"
   ]
  },
  {
   "cell_type": "code",
   "execution_count": 45,
   "metadata": {
    "ExecuteTime": {
     "end_time": "2020-12-17T21:40:17.130864Z",
     "start_time": "2020-12-17T21:40:17.127546Z"
    }
   },
   "outputs": [],
   "source": [
    "#Ahora se puede crear una función para obtener el Theta\n",
    "sigma = .015\n",
    "gamma = .5\n",
    "\n",
    "# Proxy de la tasa instantánea r(t) es una tasa entre t y t + dt (donde dt es un intervalo infitesimal)\n",
    "r0 = float(zrate(0))\n",
    "\n",
    "#Plazos de t y T\n",
    "t=1\n",
    "T=2"
   ]
  },
  {
   "cell_type": "code",
   "execution_count": 46,
   "metadata": {
    "ExecuteTime": {
     "end_time": "2020-12-17T21:40:17.136627Z",
     "start_time": "2020-12-17T21:40:17.133056Z"
    }
   },
   "outputs": [],
   "source": [
    "#Se crea la función theta\n",
    "def theta(t: float) -> float:\n",
    "    aux = (sigma ** 2) / (2.0 * gamma) * (1 - math.exp(-2.0 * gamma * t))\n",
    "    return dfwd(t) + gamma * fwd(t) + aux"
   ]
  },
  {
   "cell_type": "code",
   "execution_count": 47,
   "metadata": {
    "ExecuteTime": {
     "end_time": "2020-12-17T21:40:17.141919Z",
     "start_time": "2020-12-17T21:40:17.138443Z"
    }
   },
   "outputs": [
    {
     "name": "stdout",
     "output_type": "stream",
     "text": [
      "theta(1.00) = 0.0139%\n"
     ]
    }
   ],
   "source": [
    "#Se prueba la función creada\n",
    "print(f'theta({t:.2f}) = {theta(t):.4%}')"
   ]
  },
  {
   "cell_type": "markdown",
   "metadata": {},
   "source": [
    "# Valorizar Call o Put sobre Bono Cero Cupon "
   ]
  },
  {
   "cell_type": "markdown",
   "metadata": {},
   "source": [
    "Usando las funciones anteriores, o desarrollando las propias, escriba una función que pueda valorizar, por simulación de Montecarlo, calls y puts sobre bonos cero cupón con el modelo de HW. Considere puts y calls de plazo máximo igual a 1Y."
   ]
  },
  {
   "cell_type": "markdown",
   "metadata": {
    "ExecuteTime": {
     "end_time": "2020-12-04T01:06:35.127391Z",
     "start_time": "2020-12-04T01:06:35.121614Z"
    }
   },
   "source": [
    "## Simulación MonteCarlo"
   ]
  },
  {
   "cell_type": "code",
   "execution_count": 48,
   "metadata": {
    "ExecuteTime": {
     "end_time": "2020-12-17T21:40:17.153442Z",
     "start_time": "2020-12-17T21:40:17.143948Z"
    }
   },
   "outputs": [],
   "source": [
    "#Se utiliza el código para crear la función de montecarlo\n",
    "def sim_hw_many(gamma, sigma, theta, r0, num_sim, num_steps, seed = None):\n",
    "    \"\"\"\n",
    "    \"\"\"\n",
    "    dt = 1 / 264.0\n",
    "    num_steps += 1\n",
    "    \n",
    "    # Calcula los números aleatorios\n",
    "    alea = np.zeros((num_sim, num_steps))\n",
    "    rnd.seed(seed)\n",
    "\n",
    "    for i in range(0, num_sim):\n",
    "        for j in range(0, num_steps):\n",
    "            alea[i][j] = rnd.normal()\n",
    "            \n",
    "    # Calcula los valores de Theta. Theta sólo depende del tiempo, no de la simulación. \n",
    "    theta_array = np.zeros(num_steps)\n",
    "    tiempo = np.zeros(num_steps)\n",
    "    for i in range(0, num_steps):\n",
    "        tiempo[i] = i * dt\n",
    "        theta_array[i] = theta(i * dt)\n",
    "    \n",
    "    # Simula las trayectorias\n",
    "    sqdt_sigma = math.sqrt(dt) * sigma\n",
    "    gamma_dt = gamma * dt\n",
    "    sim = np.zeros((num_sim, num_steps))\n",
    "    for i in range(0, num_sim):\n",
    "        sim[i][0] = r0\n",
    "        r = r0\n",
    "        for j in range(1, num_steps):\n",
    "            r = r + theta_array[j - 1] * dt - gamma_dt * r + sqdt_sigma * alea[i][j - 1]\n",
    "            sim[i][j] = r\n",
    "    return tiempo, sim"
   ]
  },
  {
   "cell_type": "markdown",
   "metadata": {},
   "source": [
    "### Tasa Corta"
   ]
  },
  {
   "cell_type": "code",
   "execution_count": 49,
   "metadata": {
    "ExecuteTime": {
     "end_time": "2020-12-17T21:40:18.550274Z",
     "start_time": "2020-12-17T21:40:17.156137Z"
    }
   },
   "outputs": [
    {
     "name": "stdout",
     "output_type": "stream",
     "text": [
      "num_steps: 263\n",
      "ez:  99.95341796%\n",
      "z_curva:  99.92978688%\n"
     ]
    }
   ],
   "source": [
    "#Se realiza la simulación de MonteCarlo para obtener el valor de la tasa\n",
    "\n",
    "num_sim = 1000\n",
    "num_steps = 263\n",
    "print(f\"num_steps: {num_steps}\")\n",
    "dt=1/264.0\n",
    "seed = 1234\n",
    "df = 0\n",
    "\n",
    "#Se realiza la simulacion de MC, utilizando la función que se encuentra en el punto anterior. \n",
    "tiempo, s = sim_hw_many(gamma, sigma, theta, r0, num_sim, num_steps, seed)\n",
    "for sim in s:\n",
    "    df += math.exp(-dt * np.sum(sim))  #se calculan los df\n",
    "\n",
    "    \n",
    "ez = df / num_sim\n",
    "z_curva = math.exp(-zrate(t) * t)\n",
    "print(f\"ez: {ez: .8%}\")\n",
    "print(f\"z_curva: {z_curva: .8%}\")\n",
    "\n",
    "\n",
    "#  Extrae la Última Tasa de Cada Simulación\n",
    "last_rates = [sim[-1] for sim in s]"
   ]
  },
  {
   "cell_type": "markdown",
   "metadata": {},
   "source": [
    "### Precio Bono Cero Cupon "
   ]
  },
  {
   "cell_type": "code",
   "execution_count": 50,
   "metadata": {
    "ExecuteTime": {
     "end_time": "2020-12-17T21:40:18.561435Z",
     "start_time": "2020-12-17T21:40:18.552875Z"
    }
   },
   "outputs": [],
   "source": [
    "#Función A de la fórmula para un bono cupón cero:\n",
    "\n",
    "def a_hw(zrate: float, fwd, gamma: float, sigma: float, t: float, T: float,\n",
    "         verbose = False):\n",
    "    \"\"\"\n",
    "    verbose: cuando es True imprime los valores de c1, c2 y c3.\n",
    "    \"\"\"\n",
    "    b = b_hw(gamma, t, T)\n",
    "    dfT = math.exp(-zrate(T) * T)\n",
    "    dft = math.exp(-zrate(t) * t)\n",
    "    c1 = math.log(dfT / dft)\n",
    "    c2 = b * fwd(t)\n",
    "    c3 = (sigma**2) / (4 * gamma) * (b**2) * (1 - math.exp(-2 * gamma * t))\n",
    "    if verbose:\n",
    "        print(\"c1: \" + str(c1))\n",
    "        print(\"c2: \" + str(c2))\n",
    "        print(\"c3: \" + str(c3))\n",
    "    return c1 + c2 - c3"
   ]
  },
  {
   "cell_type": "code",
   "execution_count": 51,
   "metadata": {
    "ExecuteTime": {
     "end_time": "2020-12-17T21:40:18.567674Z",
     "start_time": "2020-12-17T21:40:18.563745Z"
    }
   },
   "outputs": [],
   "source": [
    "#Función  𝐵 de la fórmula para un bono cupón cero:\n",
    "\n",
    "def b_hw(gamma: float, t: float, T: float) -> float:\n",
    "    \"\"\"\n",
    "    Calcula el valor de la función B(t,T) que interviene en la fórmula\n",
    "    para el valor de un bono cupón cero en el modelo de HW.\n",
    "    \n",
    "    params:\n",
    "    \n",
    "    - gamma: intensidad de reversión del modelo HW\n",
    "    - t:\n",
    "    - T:\n",
    "    \n",
    "    return:\n",
    "    \n",
    "    - valor de la función B(t, T)\n",
    "    \"\"\"\n",
    "    aux = 1 - math.exp(- gamma * (T - t))\n",
    "    return aux / gamma"
   ]
  },
  {
   "cell_type": "code",
   "execution_count": 52,
   "metadata": {
    "ExecuteTime": {
     "end_time": "2020-12-17T21:40:18.574177Z",
     "start_time": "2020-12-17T21:40:18.569989Z"
    }
   },
   "outputs": [],
   "source": [
    "#Bono Cero Cupon \n",
    "def zero_hw(r: float, \n",
    "            gamma: float, \n",
    "            sigma: float,\n",
    "            zrate: float, \n",
    "            fwd: float, t: float, T: float) -> float:\n",
    "    \n",
    "    a = a_hw(zrate, fwd, gamma, sigma, t, T)\n",
    "    b = b_hw(gamma, t, T)\n",
    "    return math.exp(a - b * r)"
   ]
  },
  {
   "cell_type": "markdown",
   "metadata": {},
   "source": [
    "### Precio del Bono Cupon Cero"
   ]
  },
  {
   "cell_type": "code",
   "execution_count": 53,
   "metadata": {
    "ExecuteTime": {
     "end_time": "2020-12-17T21:40:18.714552Z",
     "start_time": "2020-12-17T21:40:18.576256Z"
    }
   },
   "outputs": [
    {
     "data": {
      "text/html": [
       "<div>\n",
       "<style scoped>\n",
       "    .dataframe tbody tr th:only-of-type {\n",
       "        vertical-align: middle;\n",
       "    }\n",
       "\n",
       "    .dataframe tbody tr th {\n",
       "        vertical-align: top;\n",
       "    }\n",
       "\n",
       "    .dataframe thead th {\n",
       "        text-align: right;\n",
       "    }\n",
       "</style>\n",
       "<table border=\"1\" class=\"dataframe\">\n",
       "  <thead>\n",
       "    <tr style=\"text-align: right;\">\n",
       "      <th></th>\n",
       "      <th>Precios</th>\n",
       "    </tr>\n",
       "  </thead>\n",
       "  <tbody>\n",
       "    <tr>\n",
       "      <th>0</th>\n",
       "      <td>0.993345</td>\n",
       "    </tr>\n",
       "    <tr>\n",
       "      <th>1</th>\n",
       "      <td>1.002322</td>\n",
       "    </tr>\n",
       "    <tr>\n",
       "      <th>2</th>\n",
       "      <td>0.994522</td>\n",
       "    </tr>\n",
       "    <tr>\n",
       "      <th>3</th>\n",
       "      <td>1.008650</td>\n",
       "    </tr>\n",
       "    <tr>\n",
       "      <th>4</th>\n",
       "      <td>0.988016</td>\n",
       "    </tr>\n",
       "  </tbody>\n",
       "</table>\n",
       "</div>"
      ],
      "text/plain": [
       "    Precios\n",
       "0  0.993345\n",
       "1  1.002322\n",
       "2  0.994522\n",
       "3  1.008650\n",
       "4  0.988016"
      ]
     },
     "execution_count": 53,
     "metadata": {},
     "output_type": "execute_result"
    }
   ],
   "source": [
    "#Se obtienen los precios del bono cupon cero en t a T con las tasas simuladas anteriormente\n",
    "t=1\n",
    "T=2\n",
    "#precios = [zero_hw(r, gamma, sigma, zrate, fwd, t, T) * 100 for r in last_rates]\n",
    "precios = [zero_hw(r, gamma, sigma, zrate, fwd, t, T) for r in last_rates]\n",
    "precios_df=pd.DataFrame()\n",
    "precios_df[\"Precios\"]=precios\n",
    "precios_df.head(5)"
   ]
  },
  {
   "cell_type": "markdown",
   "metadata": {},
   "source": [
    "### Cálculo del Payoff"
   ]
  },
  {
   "cell_type": "code",
   "execution_count": 54,
   "metadata": {
    "ExecuteTime": {
     "end_time": "2020-12-17T21:40:18.720680Z",
     "start_time": "2020-12-17T21:40:18.716982Z"
    }
   },
   "outputs": [],
   "source": [
    "#Formula para obtener el payoff de la call: max(math.log(max(z - strike, .0001)), .0001)\n",
    "#Formula para obtener el payoff de la put: max(math.log(max(strike-k, .0001)), .0001)"
   ]
  },
  {
   "cell_type": "code",
   "execution_count": 55,
   "metadata": {
    "ExecuteTime": {
     "end_time": "2020-12-17T21:40:18.727166Z",
     "start_time": "2020-12-17T21:40:18.722838Z"
    }
   },
   "outputs": [],
   "source": [
    "# Se crea una nueva función que retorna el payoff\n",
    "\n",
    "def Payoff_op(z:float, strike: float, opcion) -> float:\n",
    "    \n",
    "    \"\"\"\n",
    "    z: es el precio del bono cupón cero al vencimiento\n",
    "    strike: es el strike de la opción\n",
    "    opcion: corresponde a si es una call o put. Solamente recibe como parámetros \"call\"\n",
    "    o \"put\"\n",
    "    \"\"\"\n",
    "    if opcion==\"call\":\n",
    "         return max((max(z - strike, .0001)), .0001)\n",
    "    elif opcion== \"put\":\n",
    "        return max((max(strike - z, .0001)), .0001)\n",
    "    \n",
    "    else:\n",
    "        print(\"Debe escribir call o put\")\n",
    "        #esto es el caso en que no se recibe bien el input de la función, ya que la función está diseñada\n",
    "        #solamente para recibir la palabra \"call\" o la palabra \"put\". En caso contrario, deberá imprirmir \n",
    "        #por pantalla que está incorrecto el argumento que entró a la función."
   ]
  },
  {
   "cell_type": "code",
   "execution_count": 56,
   "metadata": {
    "ExecuteTime": {
     "end_time": "2020-12-17T21:40:18.740563Z",
     "start_time": "2020-12-17T21:40:18.729561Z"
    }
   },
   "outputs": [],
   "source": [
    "# Se prueba la funcion\n",
    "#Eleccion de los strikes correspondientes. \n",
    "strikes = [0.98, 0.99, 1.00, 1.01, 1.02]\n",
    "\n",
    "valor_payoffcall = {strike:[Payoff_op(z, strike, \"call\") for z in precios] for strike in strikes}\n",
    "\n",
    "valor_payoffput=valor_call = {strike:[Payoff_op(z, strike, \"put\") for z in precios] for strike in strikes}\n"
   ]
  },
  {
   "cell_type": "markdown",
   "metadata": {},
   "source": [
    "### Cálculo del Valor Presente"
   ]
  },
  {
   "cell_type": "code",
   "execution_count": 57,
   "metadata": {
    "ExecuteTime": {
     "end_time": "2020-12-17T21:40:19.016404Z",
     "start_time": "2020-12-17T21:40:18.742538Z"
    }
   },
   "outputs": [],
   "source": [
    "for sim in s:\n",
    "    df = math.exp(-dt * np.sum(sim))  #se calculan los df\n",
    "    valor_calls2= [df * np.average(valor_payoffcall[strike]) \n",
    "                  for strike in strikes]\n",
    "\n"
   ]
  },
  {
   "cell_type": "code",
   "execution_count": 58,
   "metadata": {
    "ExecuteTime": {
     "end_time": "2020-12-17T21:40:19.024771Z",
     "start_time": "2020-12-17T21:40:19.019739Z"
    }
   },
   "outputs": [
    {
     "data": {
      "text/plain": [
       "[0.019786913277178707,\n",
       " 0.010386615009360304,\n",
       " 0.003492364342275166,\n",
       " 0.0006463731432217685,\n",
       " 0.00012771747017441273]"
      ]
     },
     "execution_count": 58,
     "metadata": {},
     "output_type": "execute_result"
    }
   ],
   "source": [
    "valor_calls2"
   ]
  },
  {
   "cell_type": "code",
   "execution_count": 59,
   "metadata": {
    "ExecuteTime": {
     "end_time": "2020-12-17T21:40:19.034771Z",
     "start_time": "2020-12-17T21:40:19.027502Z"
    }
   },
   "outputs": [
    {
     "name": "stdout",
     "output_type": "stream",
     "text": [
      "valor call: 0.01978758\n",
      "valor call: 0.01038697\n",
      "valor call: 0.00349248\n",
      "valor call: 0.00064639\n",
      "valor call: 0.00012772\n"
     ]
    }
   ],
   "source": [
    "t_ = 1.0 # 1 año que corresponde al vencimiento.\n",
    "\n",
    "#Valor Presente de la Call\n",
    "valor_calls= [math.exp(-t_ * float(zrate(t_))) * np.average(valor_payoffcall[strike]) for strike in strikes]\n",
    "for v in valor_calls:\n",
    "    print(f'valor call: {v:.8f}')"
   ]
  },
  {
   "cell_type": "code",
   "execution_count": 60,
   "metadata": {
    "ExecuteTime": {
     "end_time": "2020-12-17T21:40:19.044304Z",
     "start_time": "2020-12-17T21:40:19.037008Z"
    }
   },
   "outputs": [
    {
     "name": "stdout",
     "output_type": "stream",
     "text": [
      "valor put: 0.00013782\n",
      "valor put: 0.00070342\n",
      "valor put: 0.00372750\n",
      "valor put: 0.01080247\n",
      "valor put: 0.02025484\n"
     ]
    }
   ],
   "source": [
    "#Valor Presente de la Put\n",
    "valor_puts= [math.exp(-t_ * float(zrate(t_))) * np.average(valor_payoffput[strike]) for strike in strikes]\n",
    "for v in valor_puts:\n",
    "    print(f'valor put: {v:.8f}')"
   ]
  },
  {
   "cell_type": "code",
   "execution_count": 61,
   "metadata": {
    "ExecuteTime": {
     "end_time": "2020-12-17T21:40:19.060631Z",
     "start_time": "2020-12-17T21:40:19.046530Z"
    },
    "scrolled": true
   },
   "outputs": [
    {
     "data": {
      "text/html": [
       "<div>\n",
       "<style scoped>\n",
       "    .dataframe tbody tr th:only-of-type {\n",
       "        vertical-align: middle;\n",
       "    }\n",
       "\n",
       "    .dataframe tbody tr th {\n",
       "        vertical-align: top;\n",
       "    }\n",
       "\n",
       "    .dataframe thead th {\n",
       "        text-align: right;\n",
       "    }\n",
       "</style>\n",
       "<table border=\"1\" class=\"dataframe\">\n",
       "  <thead>\n",
       "    <tr style=\"text-align: right;\">\n",
       "      <th></th>\n",
       "      <th>Strikes</th>\n",
       "      <th>Call MC</th>\n",
       "      <th>Put MC</th>\n",
       "    </tr>\n",
       "  </thead>\n",
       "  <tbody>\n",
       "    <tr>\n",
       "      <th>0</th>\n",
       "      <td>0.98</td>\n",
       "      <td>0.019788</td>\n",
       "      <td>0.000138</td>\n",
       "    </tr>\n",
       "    <tr>\n",
       "      <th>1</th>\n",
       "      <td>0.99</td>\n",
       "      <td>0.010387</td>\n",
       "      <td>0.000703</td>\n",
       "    </tr>\n",
       "    <tr>\n",
       "      <th>2</th>\n",
       "      <td>1.00</td>\n",
       "      <td>0.003492</td>\n",
       "      <td>0.003728</td>\n",
       "    </tr>\n",
       "    <tr>\n",
       "      <th>3</th>\n",
       "      <td>1.01</td>\n",
       "      <td>0.000646</td>\n",
       "      <td>0.010802</td>\n",
       "    </tr>\n",
       "    <tr>\n",
       "      <th>4</th>\n",
       "      <td>1.02</td>\n",
       "      <td>0.000128</td>\n",
       "      <td>0.020255</td>\n",
       "    </tr>\n",
       "  </tbody>\n",
       "</table>\n",
       "</div>"
      ],
      "text/plain": [
       "   Strikes   Call MC    Put MC\n",
       "0     0.98  0.019788  0.000138\n",
       "1     0.99  0.010387  0.000703\n",
       "2     1.00  0.003492  0.003728\n",
       "3     1.01  0.000646  0.010802\n",
       "4     1.02  0.000128  0.020255"
      ]
     },
     "execution_count": 61,
     "metadata": {},
     "output_type": "execute_result"
    }
   ],
   "source": [
    "#Se crea un dataframe para poder ver los resultados que se obtienen \n",
    "df_Resultados=pd.DataFrame()\n",
    "df_Resultados[\"Strikes\"]=strikes\n",
    "df_Resultados[\"Call MC\"]=valor_calls\n",
    "df_Resultados[\"Put MC\"]=valor_puts\n",
    "df_Resultados"
   ]
  },
  {
   "cell_type": "markdown",
   "metadata": {},
   "source": [
    "## Valorización de la Opción con las fórmulas del modelo"
   ]
  },
  {
   "cell_type": "markdown",
   "metadata": {},
   "source": [
    "Compare sus resultados con las fórmulas del modelo y muestre que diferencias obtiene usando 1000 simulaciones y una semilla predeterminada. Las siguientes fórmulas son las que se utilizarán:"
   ]
  },
  {
   "cell_type": "markdown",
   "metadata": {},
   "source": [
    "$$\n",
    "\\begin{equation}\n",
    "Call\\left(r_0,0\\right)=Z\\left(r_0,0,T_O\\right)\\left[\\frac{Z\\left(r_0,0,T_B\\right)}{Z\\left(r_0,0,T_O\\right)}N\\left(d_1\\right)-KN\\left(d_2\\right)\\right]\n",
    "\\end{equation}\n",
    "$$\n",
    "\n",
    "\n",
    "$$\n",
    "\\begin{equation}\n",
    "d_1=\\frac{\\log\\left(\\frac{Z\\left(r_0,0,T_B\\right)}{KZ\\left(r_0,0,T_O\\right)}\\right)+\\frac{1}{2}S_Z\\left(T_O\\right)^2}{S_Z\\left(T_O\\right)}\n",
    "\\end{equation}\n",
    "$$\n",
    "\n",
    "\n",
    "$$\n",
    "\\begin{equation}\n",
    "d_2=d_1-S_Z\\left(T_O\\right)\n",
    "\\end{equation}\n",
    "$$\n",
    "\n",
    "\n",
    "$$\n",
    "\\begin{equation}\n",
    "S_Z\\left(T_O\\right)=B\\left(T_O,T_B\\right)\\sqrt{\\frac{\\sigma^2}{2\\gamma^*}\\left(1-\\exp\\left(-2\\gamma^* T_O\\right)\\right)}\n",
    "\\end{equation} \n",
    "$$\n",
    "\n",
    "Y para una put:\n",
    "\n",
    "$$\n",
    "\\begin{equation}\n",
    "Put\\left(r_0,0\\right)=Z\\left(r_0,0,T_O\\right)\\left[KN\\left(-d_2\\right)-\\frac{Z\\left(r_0,0,T_B\\right)}{Z\\left(r_0,0,T_O\\right)}N\\left(-d_1\\right)\\right]\n",
    "\\end{equation}\n",
    "$$\n",
    "\n",
    "y los mismos valores anteriores para $d_1$ y $d_2$."
   ]
  },
  {
   "cell_type": "code",
   "execution_count": 62,
   "metadata": {
    "ExecuteTime": {
     "end_time": "2020-12-17T21:40:19.071371Z",
     "start_time": "2020-12-17T21:40:19.062637Z"
    }
   },
   "outputs": [
    {
     "name": "stdout",
     "output_type": "stream",
     "text": [
      "Precio T0         :  0.99929787\n",
      "Precio T0 de Curva:  0.99929787\n",
      "Precio TB         :  0.99886549\n",
      "Precio TB de Curva:  0.99886549\n"
     ]
    }
   ],
   "source": [
    "#Verifiquemos que los valores que entrega la fórmula de HW coinciden con los datos de la curva:\n",
    "T0=1\n",
    "TB=2\n",
    "\n",
    "# Primero se obtienen los valores del precio de la curva cero cupon para ambos T.\n",
    "#zero_hw(r, gamma, sigma, zrate,fwd: float, t: float, T: float) -> float:\n",
    "r=zrate(0)\n",
    "zero_T0=zero_hw(r, gamma, sigma, zrate, fwd, 0, T0)\n",
    "zero_TB=zero_hw(r, gamma, sigma, zrate, fwd, 0, TB)\n",
    "\n",
    "print(f'Precio T0         :  {zero_T0:.8f}')\n",
    "print(f'Precio T0 de Curva:  {math.exp(-zrate(T0)*T0):.8f}')\n",
    "print(f'Precio TB         :  {zero_TB:.8f}')\n",
    "print(f'Precio TB de Curva:  {math.exp(-zrate(TB)*TB):.8f}')\n"
   ]
  },
  {
   "cell_type": "markdown",
   "metadata": {},
   "source": [
    "Los valores anteriores nos indican que la función zero_hw es correcta."
   ]
  },
  {
   "cell_type": "markdown",
   "metadata": {},
   "source": [
    "### Calculo Call y Put con Fórmulas"
   ]
  },
  {
   "cell_type": "code",
   "execution_count": 63,
   "metadata": {
    "ExecuteTime": {
     "end_time": "2020-12-17T21:40:19.081386Z",
     "start_time": "2020-12-17T21:40:19.073695Z"
    }
   },
   "outputs": [],
   "source": [
    "#Se crea una función para obtener los valores de call o puts con la fórmula cerrada\n",
    "\n",
    "def formula_BS (zrate: float, \n",
    "                gamma: float, \n",
    "                sigma: float, \n",
    "                T0: float, \n",
    "                TB: float, \n",
    "                strike:float,\n",
    "                opcion) -> float:\n",
    "    \n",
    "    #Se obtienen los valores que van en la ecuacion para obtener calls y puts\n",
    "    zero_T0=math.exp(-zrate(T0)*T0)\n",
    "    zero_TB=math.exp(-zrate(TB)*TB)\n",
    "    \n",
    "    if opcion==\"call\":\n",
    "        epsilon=1\n",
    "    elif opcion== \"put\":\n",
    "        epsilon=-1\n",
    "    else:\n",
    "        print(\"Debe escribir call o put\")\n",
    "    \n",
    "    #Se aplica la formula de Black Scholes\n",
    "    Sz=b_hw(gamma,T0,TB)*math.sqrt((sigma**2/(2*gamma)*(1-math.exp(-2*gamma*T0))))\n",
    "    d1=(math.log(zero_TB/(strike*zero_T0))+ 0.5*(Sz**2))/Sz\n",
    "    d2=d1- Sz\n",
    "    \n",
    "    return epsilon* zero_T0*((zero_TB/zero_T0)*norm.cdf(epsilon*d1)- strike*norm.cdf(epsilon*d2))\n",
    " \n",
    "#Es importante destacar que el valor del Payoff siempre debe ser positivo, ya que es el valor esperado\n",
    "#de un número y el valor esperado de un número siempre es positivo. "
   ]
  },
  {
   "cell_type": "code",
   "execution_count": 64,
   "metadata": {
    "ExecuteTime": {
     "end_time": "2020-12-17T21:40:19.104057Z",
     "start_time": "2020-12-17T21:40:19.083486Z"
    }
   },
   "outputs": [
    {
     "data": {
      "text/html": [
       "<div>\n",
       "<style scoped>\n",
       "    .dataframe tbody tr th:only-of-type {\n",
       "        vertical-align: middle;\n",
       "    }\n",
       "\n",
       "    .dataframe tbody tr th {\n",
       "        vertical-align: top;\n",
       "    }\n",
       "\n",
       "    .dataframe thead th {\n",
       "        text-align: right;\n",
       "    }\n",
       "</style>\n",
       "<table border=\"1\" class=\"dataframe\">\n",
       "  <thead>\n",
       "    <tr style=\"text-align: right;\">\n",
       "      <th></th>\n",
       "      <th>Strikes</th>\n",
       "      <th>Call MC</th>\n",
       "      <th>Put MC</th>\n",
       "      <th>Call FC</th>\n",
       "      <th>Put FC</th>\n",
       "    </tr>\n",
       "  </thead>\n",
       "  <tbody>\n",
       "    <tr>\n",
       "      <th>0</th>\n",
       "      <td>0.98</td>\n",
       "      <td>0.019788</td>\n",
       "      <td>0.000138</td>\n",
       "      <td>0.019613</td>\n",
       "      <td>0.000059</td>\n",
       "    </tr>\n",
       "    <tr>\n",
       "      <th>1</th>\n",
       "      <td>0.99</td>\n",
       "      <td>0.010387</td>\n",
       "      <td>0.000703</td>\n",
       "      <td>0.010302</td>\n",
       "      <td>0.000741</td>\n",
       "    </tr>\n",
       "    <tr>\n",
       "      <th>2</th>\n",
       "      <td>1.00</td>\n",
       "      <td>0.003492</td>\n",
       "      <td>0.003728</td>\n",
       "      <td>0.003528</td>\n",
       "      <td>0.003961</td>\n",
       "    </tr>\n",
       "    <tr>\n",
       "      <th>3</th>\n",
       "      <td>1.01</td>\n",
       "      <td>0.000646</td>\n",
       "      <td>0.010802</td>\n",
       "      <td>0.000639</td>\n",
       "      <td>0.011064</td>\n",
       "    </tr>\n",
       "    <tr>\n",
       "      <th>4</th>\n",
       "      <td>1.02</td>\n",
       "      <td>0.000128</td>\n",
       "      <td>0.020255</td>\n",
       "      <td>0.000052</td>\n",
       "      <td>0.020471</td>\n",
       "    </tr>\n",
       "  </tbody>\n",
       "</table>\n",
       "</div>"
      ],
      "text/plain": [
       "   Strikes   Call MC    Put MC   Call FC    Put FC\n",
       "0     0.98  0.019788  0.000138  0.019613  0.000059\n",
       "1     0.99  0.010387  0.000703  0.010302  0.000741\n",
       "2     1.00  0.003492  0.003728  0.003528  0.003961\n",
       "3     1.01  0.000646  0.010802  0.000639  0.011064\n",
       "4     1.02  0.000128  0.020255  0.000052  0.020471"
      ]
     },
     "execution_count": 64,
     "metadata": {},
     "output_type": "execute_result"
    }
   ],
   "source": [
    "#Strikes que se utilizarán, se utilizan distintos valores de strikes para poder obtener los \n",
    "#valores de las opciones en diferentes casos.\n",
    "strikes = [0.98, 0.99, 1.00, 1.01, 1.02]\n",
    "\n",
    "#Es importante destacar que los strikes deben estar en la misma función en que se encuentra el bono.\n",
    "#Si el bono están en función de 100, el strike debe estar igual. En nuestro caso, no se encuentran\n",
    "#en función de 100. \n",
    "\n",
    "\n",
    "#Obtencion del valor de la call\n",
    "valor_callBS= {strike:(formula_BS(zrate, gamma, sigma, T0, TB, strike, \"call\")) for strike in strikes}\n",
    "df_1 = pd.DataFrame(list(valor_callBS.items()),columns = ['Strikes','Call FC']) \n",
    "\n",
    "#Obtencion del valor de la put\n",
    "valor_BSput= {strike:(formula_BS(zrate, gamma, sigma, T0, TB, strike, \"put\")) for strike in strikes}\n",
    "df_2 = pd.DataFrame(list(valor_BSput.items()),columns = ['Strikes','Put FC']) \n",
    "\n",
    "\n",
    "#Unirlos al mismo DataFrame\n",
    "df_Resultados[\"Call FC\"]=df_1[\"Call FC\"]\n",
    "df_Resultados[\"Put FC\"]=df_2[\"Put FC\"]\n",
    "\n",
    "df_Resultados\n",
    "#Se muestran los resultados obtenidos"
   ]
  },
  {
   "cell_type": "code",
   "execution_count": 75,
   "metadata": {
    "ExecuteTime": {
     "end_time": "2020-12-17T21:44:25.667697Z",
     "start_time": "2020-12-17T21:44:25.651831Z"
    }
   },
   "outputs": [
    {
     "name": "stdout",
     "output_type": "stream",
     "text": [
      "0.98, 0.019613\n",
      "0.99, 0.010302\n",
      "1.00, 0.003528\n",
      "1.01, 0.000639\n",
      "1.02, 0.000052\n",
      "\n",
      "0.98, 0.000059\n",
      "0.99, 0.000741\n",
      "1.00, 0.003961\n",
      "1.01, 0.011064\n",
      "1.02, 0.020471\n"
     ]
    }
   ],
   "source": [
    "# Test\n",
    "\n",
    "import hull_white as hw\n",
    "\n",
    "calls = [(r.Strikes, hw.zcb_call_put(\n",
    "    hw.CallPut.CALL,\n",
    "    strike=r.Strikes,\n",
    "    to=T0,\n",
    "    tb=TB,\n",
    "    r0=zrate(0),\n",
    "    zo=math.exp(-zrate(T0) * T0),\n",
    "    zb=math.exp(-zrate(TB) * TB),\n",
    "    gamma=gamma,\n",
    "    sigma=sigma)) for r in df_Resultados.itertuples()]\n",
    "\n",
    "for c in calls:\n",
    "    print(f'{c[0]:.2f}, {c[1]:.6f}')\n",
    "\n",
    "print()\n",
    "\n",
    "puts = [(r.Strikes, hw.zcb_call_put(\n",
    "    hw.CallPut.PUT,\n",
    "    strike=r.Strikes,\n",
    "    to=T0,\n",
    "    tb=TB,\n",
    "    r0=zrate(0),\n",
    "    zo=math.exp(-zrate(T0) * T0),\n",
    "    zb=math.exp(-zrate(TB) * TB),\n",
    "    gamma=gamma,\n",
    "    sigma=sigma)) for r in df_Resultados.itertuples()]\n",
    "\n",
    "for p in puts:\n",
    "    print(f'{p[0]:.2f}, {p[1]:.6f}')"
   ]
  },
  {
   "cell_type": "code",
   "execution_count": 76,
   "metadata": {
    "ExecuteTime": {
     "end_time": "2020-12-17T21:44:45.437736Z",
     "start_time": "2020-12-17T21:44:45.421593Z"
    }
   },
   "outputs": [
    {
     "data": {
      "text/html": [
       "<div>\n",
       "<style scoped>\n",
       "    .dataframe tbody tr th:only-of-type {\n",
       "        vertical-align: middle;\n",
       "    }\n",
       "\n",
       "    .dataframe tbody tr th {\n",
       "        vertical-align: top;\n",
       "    }\n",
       "\n",
       "    .dataframe thead th {\n",
       "        text-align: right;\n",
       "    }\n",
       "</style>\n",
       "<table border=\"1\" class=\"dataframe\">\n",
       "  <thead>\n",
       "    <tr style=\"text-align: right;\">\n",
       "      <th></th>\n",
       "      <th>Strikes</th>\n",
       "      <th>Call MC</th>\n",
       "      <th>Put MC</th>\n",
       "      <th>Call FC</th>\n",
       "      <th>Put FC</th>\n",
       "      <th>Error relativo Call</th>\n",
       "      <th>Error relativo Put</th>\n",
       "    </tr>\n",
       "  </thead>\n",
       "  <tbody>\n",
       "    <tr>\n",
       "      <th>0</th>\n",
       "      <td>0.98</td>\n",
       "      <td>0.019788</td>\n",
       "      <td>0.000138</td>\n",
       "      <td>0.019613</td>\n",
       "      <td>0.000059</td>\n",
       "      <td>0.008846</td>\n",
       "      <td>0.572181</td>\n",
       "    </tr>\n",
       "    <tr>\n",
       "      <th>1</th>\n",
       "      <td>0.99</td>\n",
       "      <td>0.010387</td>\n",
       "      <td>0.000703</td>\n",
       "      <td>0.010302</td>\n",
       "      <td>0.000741</td>\n",
       "      <td>0.008192</td>\n",
       "      <td>0.053810</td>\n",
       "    </tr>\n",
       "    <tr>\n",
       "      <th>2</th>\n",
       "      <td>1.00</td>\n",
       "      <td>0.003492</td>\n",
       "      <td>0.003728</td>\n",
       "      <td>0.003528</td>\n",
       "      <td>0.003961</td>\n",
       "      <td>0.010281</td>\n",
       "      <td>0.062580</td>\n",
       "    </tr>\n",
       "    <tr>\n",
       "      <th>3</th>\n",
       "      <td>1.01</td>\n",
       "      <td>0.000646</td>\n",
       "      <td>0.010802</td>\n",
       "      <td>0.000639</td>\n",
       "      <td>0.011064</td>\n",
       "      <td>0.012185</td>\n",
       "      <td>0.024199</td>\n",
       "    </tr>\n",
       "    <tr>\n",
       "      <th>4</th>\n",
       "      <td>1.02</td>\n",
       "      <td>0.000128</td>\n",
       "      <td>0.020255</td>\n",
       "      <td>0.000052</td>\n",
       "      <td>0.020471</td>\n",
       "      <td>0.589859</td>\n",
       "      <td>0.010658</td>\n",
       "    </tr>\n",
       "  </tbody>\n",
       "</table>\n",
       "</div>"
      ],
      "text/plain": [
       "   Strikes   Call MC    Put MC   Call FC    Put FC  Error relativo Call  \\\n",
       "0     0.98  0.019788  0.000138  0.019613  0.000059             0.008846   \n",
       "1     0.99  0.010387  0.000703  0.010302  0.000741             0.008192   \n",
       "2     1.00  0.003492  0.003728  0.003528  0.003961             0.010281   \n",
       "3     1.01  0.000646  0.010802  0.000639  0.011064             0.012185   \n",
       "4     1.02  0.000128  0.020255  0.000052  0.020471             0.589859   \n",
       "\n",
       "   Error relativo Put  \n",
       "0            0.572181  \n",
       "1            0.053810  \n",
       "2            0.062580  \n",
       "3            0.024199  \n",
       "4            0.010658  "
      ]
     },
     "execution_count": 76,
     "metadata": {},
     "output_type": "execute_result"
    }
   ],
   "source": [
    "#Calculo de los errores relativos obtenidos:\n",
    "df_Resultados[\"Error relativo Call\"]=abs(df_Resultados[\"Call MC\"]\n",
    "                                      - df_Resultados[\"Call FC\"])/df_Resultados[\"Call MC\"] \n",
    "\n",
    "df_Resultados[\"Error relativo Put\"]=abs(df_Resultados[\"Put MC\"]\n",
    "                                     - df_Resultados[\"Put FC\"])/df_Resultados[\"Put MC\"] \n",
    "\n",
    "df_Resultados"
   ]
  },
  {
   "cell_type": "markdown",
   "metadata": {},
   "source": [
    "Al calcular los errores relativos obtenidos, podemos decir que las diferencias entre el valor de las opciones call que se obtuvo de la simulación de montecarlo y el valor que se obtuvo con la fórmula cerrada son muy pequeñas, por lo que los resultados obtenidos son bastante buenos. Ocurre lo mismo al calcular los valores de las opciones put. "
   ]
  },
  {
   "cell_type": "markdown",
   "metadata": {},
   "source": [
    "**ADV:** algunos errores relativos son muy altos, 0.5 es un 50%."
   ]
  },
  {
   "cell_type": "markdown",
   "metadata": {},
   "source": [
    "# Simulación Monte Carlo y Valor Mercado Bono Cero Cupon"
   ]
  },
  {
   "cell_type": "markdown",
   "metadata": {},
   "source": [
    "Valorice también por simulación de Montecarlo el bono cupón cero a 1Y. Muestre que diferencias obtiene respecto al valor de mercado del bono usando 1000 simulaciones y una semilla predeterminada."
   ]
  },
  {
   "cell_type": "code",
   "execution_count": 77,
   "metadata": {
    "ExecuteTime": {
     "end_time": "2020-12-17T21:44:46.724888Z",
     "start_time": "2020-12-17T21:44:45.440023Z"
    }
   },
   "outputs": [
    {
     "name": "stdout",
     "output_type": "stream",
     "text": [
      "num_steps: 263\n",
      "ez:  0.99929734\n",
      "z_curva:  0.99929787\n"
     ]
    }
   ],
   "source": [
    "#Se realiza la simulación de MonteCarlo para el bono cupon cero a 1Y. Se utilizan 1000 simulaciones \n",
    "\n",
    "t=1\n",
    "num_sim = 1000\n",
    "num_steps = 263\n",
    "print(f\"num_steps: {num_steps}\")\n",
    "dt=1/264.0\n",
    "seed = 2000\n",
    "\n",
    "df = 0\n",
    "tiempo, s = sim_hw_many(gamma, sigma, theta, r0, num_sim, num_steps, seed)\n",
    "for sim in s:\n",
    "    df += math.exp(-dt * np.sum(sim))\n",
    "\n",
    "\n",
    "ez = df / num_sim #resultado con simulacion de montecarlo\n",
    "\n",
    "z_curva = math.exp(-zrate(t) * t)  #resultado de mercado\n",
    "print(f\"ez: {ez: .8}\")\n",
    "print(f\"z_curva: {z_curva: .8}\")"
   ]
  },
  {
   "cell_type": "markdown",
   "metadata": {},
   "source": [
    "## Error Relativo Porcentual entre ambos resultados anteriores"
   ]
  },
  {
   "cell_type": "code",
   "execution_count": 78,
   "metadata": {
    "ExecuteTime": {
     "end_time": "2020-12-17T21:44:46.730609Z",
     "start_time": "2020-12-17T21:44:46.726867Z"
    }
   },
   "outputs": [
    {
     "name": "stdout",
     "output_type": "stream",
     "text": [
      "Error relativo porcentual:  0.00524558%%\n"
     ]
    }
   ],
   "source": [
    "error_porcentual= abs(ez-z_curva)/z_curva *100\n",
    "print(f\"Error relativo porcentual: {error_porcentual: .8%}%\")"
   ]
  },
  {
   "cell_type": "markdown",
   "metadata": {},
   "source": [
    "Podemos observar que se obtuvo un errorr relativo porcentual pequeño al calcular por simulacion de MonteCarlo el bono cupon cero a 1 año."
   ]
  },
  {
   "cell_type": "code",
   "execution_count": 79,
   "metadata": {
    "ExecuteTime": {
     "end_time": "2020-12-17T21:44:46.743284Z",
     "start_time": "2020-12-17T21:44:46.732614Z"
    }
   },
   "outputs": [
    {
     "data": {
      "text/plain": [
       "1.0185658839228664"
      ]
     },
     "execution_count": 79,
     "metadata": {},
     "output_type": "execute_result"
    }
   ],
   "source": [
    "for sim in s:\n",
    "    df = math.exp(-dt * np.sum(sim))  #se calculan los df\n",
    "    valor_bono= df * 1   #el payoff del bono cupon cero es igual a 1. \n",
    "valor_bono"
   ]
  },
  {
   "cell_type": "markdown",
   "metadata": {},
   "source": [
    "**AD:** no hay explicaciones, sólo 1 comparación."
   ]
  }
 ],
 "metadata": {
  "hide_input": false,
  "kernelspec": {
   "display_name": "Python 3",
   "language": "python",
   "name": "python3"
  },
  "language_info": {
   "codemirror_mode": {
    "name": "ipython",
    "version": 3
   },
   "file_extension": ".py",
   "mimetype": "text/x-python",
   "name": "python",
   "nbconvert_exporter": "python",
   "pygments_lexer": "ipython3",
   "version": "3.7.3"
  },
  "toc": {
   "base_numbering": 1,
   "nav_menu": {},
   "number_sections": true,
   "sideBar": true,
   "skip_h1_title": false,
   "title_cell": "Table of Contents",
   "title_sidebar": "Contents",
   "toc_cell": false,
   "toc_position": {},
   "toc_section_display": true,
   "toc_window_display": false
  }
 },
 "nbformat": 4,
 "nbformat_minor": 4
}
