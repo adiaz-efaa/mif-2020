{
 "cells": [
  {
   "cell_type": "markdown",
   "metadata": {
    "ExecuteTime": {
     "end_time": "2020-11-29T22:12:17.886941Z",
     "start_time": "2020-11-29T22:12:17.881728Z"
    }
   },
   "source": [
    "# Tarea 2"
   ]
  },
  {
   "cell_type": "markdown",
   "metadata": {},
   "source": [
    "Ignacio Carter y Matías Garrido"
   ]
  },
  {
   "cell_type": "markdown",
   "metadata": {},
   "source": [
    "- Usando las funciones anteriores, o desarrollando las propias, escriba una función que pueda valorizar, por simulación de Montecarlo, calls y puts sobre bonos cero cupón con el modelo de HW. Considere puts y calls de plazo máximo igual a 1Y.\n",
    "- Su función debe poder recibir la semilla.\n",
    "- Compare sus resultados con las fórmulas del modelo y muestre que diferencias obtiene usando 1000 simulaciones y una semilla predeterminada.\n",
    "- Valorice también por simulación de Montecarlo el bono cupón cero a 1Y. Muestre que diferencias obtiene respecto al valor de mercado del bono usando 1000 simulaciones y una semilla predeterminada."
   ]
  },
  {
   "cell_type": "markdown",
   "metadata": {},
   "source": [
    "## Valorización de opciones con modelo HW"
   ]
  },
  {
   "cell_type": "code",
   "execution_count": 1,
   "metadata": {
    "ExecuteTime": {
     "end_time": "2020-12-17T22:06:58.934890Z",
     "start_time": "2020-12-17T22:06:58.293695Z"
    }
   },
   "outputs": [],
   "source": [
    "from finrisk import QC_Financial_3 as Qcf\n",
    "from typing import List, Tuple, Callable\n",
    "from scipy.interpolate import interp1d\n",
    "\n",
    "import sys\n",
    "sys.path.insert(1, '../modules')\n",
    "# from modules\n",
    "import auxiliary as aux\n",
    "\n",
    "from numpy import random as rnd\n",
    "from scipy.stats import norm\n",
    "import plotly.express as px\n",
    "import pandas as pd\n",
    "import numpy as np\n",
    "import math"
   ]
  },
  {
   "cell_type": "markdown",
   "metadata": {},
   "source": [
    "Importar la curva cero cupon"
   ]
  },
  {
   "cell_type": "code",
   "execution_count": 2,
   "metadata": {
    "ExecuteTime": {
     "end_time": "2020-12-17T22:06:58.961886Z",
     "start_time": "2020-12-17T22:06:58.937475Z"
    }
   },
   "outputs": [],
   "source": [
    "curva = pd.read_excel('../data/20201012_built_sofr_zero.xlsx')"
   ]
  },
  {
   "cell_type": "code",
   "execution_count": 3,
   "metadata": {
    "ExecuteTime": {
     "end_time": "2020-12-17T22:06:58.967426Z",
     "start_time": "2020-12-17T22:06:58.963999Z"
    }
   },
   "outputs": [],
   "source": [
    "frmt = {'tasa': '{:.4%}', 'df': '{:.6%}'}"
   ]
  },
  {
   "cell_type": "code",
   "execution_count": 4,
   "metadata": {
    "ExecuteTime": {
     "end_time": "2020-12-17T22:06:58.975667Z",
     "start_time": "2020-12-17T22:06:58.969764Z"
    }
   },
   "outputs": [],
   "source": [
    "curva['t'] = curva['plazo'] / 365.0"
   ]
  },
  {
   "cell_type": "code",
   "execution_count": 5,
   "metadata": {
    "ExecuteTime": {
     "end_time": "2020-12-17T22:06:58.985919Z",
     "start_time": "2020-12-17T22:06:58.980021Z"
    }
   },
   "outputs": [],
   "source": [
    "curva['rate'] = np.log(1 / curva['df'])/( curva['plazo'] / 365.0)"
   ]
  },
  {
   "cell_type": "code",
   "execution_count": 6,
   "metadata": {
    "ExecuteTime": {
     "end_time": "2020-12-17T22:06:59.064420Z",
     "start_time": "2020-12-17T22:06:58.990812Z"
    }
   },
   "outputs": [
    {
     "data": {
      "text/html": [
       "<style  type=\"text/css\" >\n",
       "</style><table id=\"T_2eed93e6_40b4_11eb_b2e6_02cba411ec9d\" ><thead>    <tr>        <th class=\"blank level0\" ></th>        <th class=\"col_heading level0 col0\" >plazo</th>        <th class=\"col_heading level0 col1\" >tasa</th>        <th class=\"col_heading level0 col2\" >df</th>        <th class=\"col_heading level0 col3\" >t</th>        <th class=\"col_heading level0 col4\" >rate</th>    </tr></thead><tbody>\n",
       "                <tr>\n",
       "                        <th id=\"T_2eed93e6_40b4_11eb_b2e6_02cba411ec9dlevel0_row0\" class=\"row_heading level0 row0\" >0</th>\n",
       "                        <td id=\"T_2eed93e6_40b4_11eb_b2e6_02cba411ec9drow0_col0\" class=\"data row0 col0\" >1</td>\n",
       "                        <td id=\"T_2eed93e6_40b4_11eb_b2e6_02cba411ec9drow0_col1\" class=\"data row0 col1\" >0.0811%</td>\n",
       "                        <td id=\"T_2eed93e6_40b4_11eb_b2e6_02cba411ec9drow0_col2\" class=\"data row0 col2\" >99.999778%</td>\n",
       "                        <td id=\"T_2eed93e6_40b4_11eb_b2e6_02cba411ec9drow0_col3\" class=\"data row0 col3\" >0.002740</td>\n",
       "                        <td id=\"T_2eed93e6_40b4_11eb_b2e6_02cba411ec9drow0_col4\" class=\"data row0 col4\" >0.000811</td>\n",
       "            </tr>\n",
       "            <tr>\n",
       "                        <th id=\"T_2eed93e6_40b4_11eb_b2e6_02cba411ec9dlevel0_row1\" class=\"row_heading level0 row1\" >1</th>\n",
       "                        <td id=\"T_2eed93e6_40b4_11eb_b2e6_02cba411ec9drow1_col0\" class=\"data row1 col0\" >7</td>\n",
       "                        <td id=\"T_2eed93e6_40b4_11eb_b2e6_02cba411ec9drow1_col1\" class=\"data row1 col1\" >0.0841%</td>\n",
       "                        <td id=\"T_2eed93e6_40b4_11eb_b2e6_02cba411ec9drow1_col2\" class=\"data row1 col2\" >99.998388%</td>\n",
       "                        <td id=\"T_2eed93e6_40b4_11eb_b2e6_02cba411ec9drow1_col3\" class=\"data row1 col3\" >0.019178</td>\n",
       "                        <td id=\"T_2eed93e6_40b4_11eb_b2e6_02cba411ec9drow1_col4\" class=\"data row1 col4\" >0.000841</td>\n",
       "            </tr>\n",
       "            <tr>\n",
       "                        <th id=\"T_2eed93e6_40b4_11eb_b2e6_02cba411ec9dlevel0_row2\" class=\"row_heading level0 row2\" >2</th>\n",
       "                        <td id=\"T_2eed93e6_40b4_11eb_b2e6_02cba411ec9drow2_col0\" class=\"data row2 col0\" >14</td>\n",
       "                        <td id=\"T_2eed93e6_40b4_11eb_b2e6_02cba411ec9drow2_col1\" class=\"data row2 col1\" >0.0780%</td>\n",
       "                        <td id=\"T_2eed93e6_40b4_11eb_b2e6_02cba411ec9drow2_col2\" class=\"data row2 col2\" >99.997010%</td>\n",
       "                        <td id=\"T_2eed93e6_40b4_11eb_b2e6_02cba411ec9drow2_col3\" class=\"data row2 col3\" >0.038356</td>\n",
       "                        <td id=\"T_2eed93e6_40b4_11eb_b2e6_02cba411ec9drow2_col4\" class=\"data row2 col4\" >0.000780</td>\n",
       "            </tr>\n",
       "            <tr>\n",
       "                        <th id=\"T_2eed93e6_40b4_11eb_b2e6_02cba411ec9dlevel0_row3\" class=\"row_heading level0 row3\" >3</th>\n",
       "                        <td id=\"T_2eed93e6_40b4_11eb_b2e6_02cba411ec9drow3_col0\" class=\"data row3 col0\" >21</td>\n",
       "                        <td id=\"T_2eed93e6_40b4_11eb_b2e6_02cba411ec9drow3_col1\" class=\"data row3 col1\" >0.0774%</td>\n",
       "                        <td id=\"T_2eed93e6_40b4_11eb_b2e6_02cba411ec9drow3_col2\" class=\"data row3 col2\" >99.995549%</td>\n",
       "                        <td id=\"T_2eed93e6_40b4_11eb_b2e6_02cba411ec9drow3_col3\" class=\"data row3 col3\" >0.057534</td>\n",
       "                        <td id=\"T_2eed93e6_40b4_11eb_b2e6_02cba411ec9drow3_col4\" class=\"data row3 col4\" >0.000774</td>\n",
       "            </tr>\n",
       "            <tr>\n",
       "                        <th id=\"T_2eed93e6_40b4_11eb_b2e6_02cba411ec9dlevel0_row4\" class=\"row_heading level0 row4\" >4</th>\n",
       "                        <td id=\"T_2eed93e6_40b4_11eb_b2e6_02cba411ec9drow4_col0\" class=\"data row4 col0\" >33</td>\n",
       "                        <td id=\"T_2eed93e6_40b4_11eb_b2e6_02cba411ec9drow4_col1\" class=\"data row4 col1\" >0.0781%</td>\n",
       "                        <td id=\"T_2eed93e6_40b4_11eb_b2e6_02cba411ec9drow4_col2\" class=\"data row4 col2\" >99.992942%</td>\n",
       "                        <td id=\"T_2eed93e6_40b4_11eb_b2e6_02cba411ec9drow4_col3\" class=\"data row4 col3\" >0.090411</td>\n",
       "                        <td id=\"T_2eed93e6_40b4_11eb_b2e6_02cba411ec9drow4_col4\" class=\"data row4 col4\" >0.000781</td>\n",
       "            </tr>\n",
       "    </tbody></table>"
      ],
      "text/plain": [
       "<pandas.io.formats.style.Styler at 0x7fd9c01a9e48>"
      ]
     },
     "execution_count": 6,
     "metadata": {},
     "output_type": "execute_result"
    }
   ],
   "source": [
    "curva.head().style.format(frmt)"
   ]
  },
  {
   "cell_type": "code",
   "execution_count": 7,
   "metadata": {
    "ExecuteTime": {
     "end_time": "2020-12-17T22:06:59.073237Z",
     "start_time": "2020-12-17T22:06:59.066853Z"
    }
   },
   "outputs": [],
   "source": [
    "zcurva = interp1d(curva['t'],\n",
    "                  curva['rate'],\n",
    "                  kind='cubic',\n",
    "                  fill_value=\"extrapolate\")"
   ]
  },
  {
   "cell_type": "code",
   "execution_count": 8,
   "metadata": {
    "ExecuteTime": {
     "end_time": "2020-12-17T22:06:59.087197Z",
     "start_time": "2020-12-17T22:06:59.080601Z"
    }
   },
   "outputs": [],
   "source": [
    "def zrate(t: float) -> float:\n",
    "    return zcurva(t)\n",
    "\n",
    "\n",
    "def dzrate(t: float) -> float:\n",
    "    delta = .0001\n",
    "    return (zcurva(t + delta) - zrate(t)) / delta\n",
    "\n",
    "\n",
    "def d2zrate(t: float) -> float:\n",
    "    delta = .0001\n",
    "    return (dzrate(t + delta) - dzrate(t)) / delta"
   ]
  },
  {
   "cell_type": "code",
   "execution_count": 9,
   "metadata": {
    "ExecuteTime": {
     "end_time": "2020-12-17T22:06:59.094894Z",
     "start_time": "2020-12-17T22:06:59.089400Z"
    }
   },
   "outputs": [],
   "source": [
    "def zero_hw(r: float, gamma: float, sigma: float,\n",
    "            zrate: float, fwd: float, t: float, T: float) -> float:\n",
    "    a = a_hw(zrate, fwd, gamma, sigma, t, T)\n",
    "    b = b_hw(gamma, t, T)\n",
    "    return math.exp(a - b * r)"
   ]
  },
  {
   "cell_type": "code",
   "execution_count": 10,
   "metadata": {
    "ExecuteTime": {
     "end_time": "2020-12-17T22:06:59.105536Z",
     "start_time": "2020-12-17T22:06:59.097969Z"
    }
   },
   "outputs": [],
   "source": [
    "def a_hw(zrate: float, fwd, gamma: float, sigma: float, t: float, T: float,\n",
    "         verbose = False):\n",
    "    \"\"\"\n",
    "    verbose: cuando es True imprime los valores de c1, c2 y c3.\n",
    "    \"\"\"\n",
    "    b = b_hw(gamma, t, T)\n",
    "    dfT = math.exp(-zrate(T) * T)\n",
    "    dft = math.exp(-zrate(t) * t)\n",
    "    c1 = math.log(dfT / dft)\n",
    "    c2 = b * fwd(t)\n",
    "    c3 = (sigma**2) / (4 * gamma) * (b**2) * (1 - math.exp(-2 * gamma * t))\n",
    "    if verbose:\n",
    "        print(\"c1: \" + str(c1))\n",
    "        print(\"c2: \" + str(c2))\n",
    "        print(\"c3: \" + str(c3))\n",
    "    return c1 + c2 - c3"
   ]
  },
  {
   "cell_type": "code",
   "execution_count": 11,
   "metadata": {
    "ExecuteTime": {
     "end_time": "2020-12-17T22:06:59.113416Z",
     "start_time": "2020-12-17T22:06:59.108023Z"
    }
   },
   "outputs": [],
   "source": [
    "def b_hw(gamma: float, t: float, T: float) -> float:\n",
    "    \"\"\"\n",
    "    Calcula el valor de la función B(t,T) que interviene en la fórmula\n",
    "    para el valor de un bono cupón cero en el modelo de HW.\n",
    "    \n",
    "    params:\n",
    "    \n",
    "    - gamma: intensidad de reversión del modelo HW\n",
    "    - t:\n",
    "    - T:\n",
    "    \n",
    "    return:\n",
    "    \n",
    "    - valor de la función B(t, T)\n",
    "    \"\"\"\n",
    "    aux = 1 - math.exp(- gamma * (T - t))\n",
    "    return aux / gamma"
   ]
  },
  {
   "cell_type": "code",
   "execution_count": 12,
   "metadata": {
    "ExecuteTime": {
     "end_time": "2020-12-17T22:06:59.121671Z",
     "start_time": "2020-12-17T22:06:59.116718Z"
    }
   },
   "outputs": [],
   "source": [
    "def fwd(t: float) -> float:\n",
    "    return zrate(t) + t * dzrate(t)\n",
    "\n",
    "def dfwd(t: float) -> float:\n",
    "    return 2 * dzrate(t) + t * d2zrate(t)"
   ]
  },
  {
   "cell_type": "code",
   "execution_count": 13,
   "metadata": {
    "ExecuteTime": {
     "end_time": "2020-12-17T22:06:59.129920Z",
     "start_time": "2020-12-17T22:06:59.124572Z"
    }
   },
   "outputs": [],
   "source": [
    "def theta_fwd_measure(t: float, T:float) -> float:\n",
    "    aux = (sigma ** 2) / (2.0 * gamma) * (1 - math.exp(-2.0 * gamma * t))\n",
    "    return dfwd(t) + gamma * fwd(t) + aux - b_hw(gamma, t, T)*sigma**2"
   ]
  },
  {
   "cell_type": "code",
   "execution_count": 14,
   "metadata": {
    "ExecuteTime": {
     "end_time": "2020-12-17T22:06:59.143558Z",
     "start_time": "2020-12-17T22:06:59.132736Z"
    }
   },
   "outputs": [],
   "source": [
    "def sims_hw_many(gamma, sigma, theta_fwd_measure, T, r0, num_sim, num_steps, seed = None):\n",
    "    \"\"\"\n",
    "    Simulaciones de la tasa por el modelo de Hull White\n",
    "    \"\"\"\n",
    "    dt = 1 / 264.0\n",
    "    num_steps += 1\n",
    "    \n",
    "    # Calcula los números aleatorios\n",
    "    alea = np.zeros((num_sim, num_steps))\n",
    "    np.random.seed(seed)\n",
    "\n",
    "    for i in range(0, num_sim):\n",
    "        for j in range(0, num_steps):\n",
    "            alea[i][j] = np.random.normal()\n",
    "            \n",
    "    # Calcula los valores de Theta. Theta sólo depende del tiempo, no de la simulación. \n",
    "    theta_array = np.zeros(num_steps)\n",
    "    tiempo = np.zeros(num_steps)\n",
    "    for i in range(1, num_steps):\n",
    "        tiempo[i] = i * dt\n",
    "        theta_array[i] = theta_fwd_measure(i * dt, T)\n",
    "    \n",
    "    # Simula las trayectorias\n",
    "    sqdt_sigma = math.sqrt(dt) * sigma\n",
    "    gamma_dt = gamma * dt\n",
    "    sim = np.zeros((num_sim, num_steps))\n",
    "    for i in range(0, num_sim):\n",
    "        sim[i][0] = r0\n",
    "        r = r0\n",
    "        for j in range(1, num_steps):\n",
    "            r = r + theta_array[j - 1] * dt - gamma_dt * r + sqdt_sigma * alea[i][j - 1]\n",
    "            sim[i][j] = r\n",
    "    return sim"
   ]
  },
  {
   "cell_type": "code",
   "execution_count": 15,
   "metadata": {
    "ExecuteTime": {
     "end_time": "2020-12-17T22:06:59.152147Z",
     "start_time": "2020-12-17T22:06:59.146283Z"
    }
   },
   "outputs": [],
   "source": [
    "def option_payoff(z: float, strike,e):\n",
    "    \"\"\"\n",
    "    Payoff de la opcion\n",
    "    \"\"\"\n",
    "    payoff = max(e*z - e*strike,0)\n",
    "    return payoff"
   ]
  },
  {
   "cell_type": "code",
   "execution_count": 16,
   "metadata": {
    "ExecuteTime": {
     "end_time": "2020-12-17T22:06:59.163122Z",
     "start_time": "2020-12-17T22:06:59.156014Z"
    }
   },
   "outputs": [],
   "source": [
    "def option_price(strike,r,gamma,sigma,zrate,fwd,t,Tb,To,e):\n",
    "    \"\"\"\n",
    "    Función calcula el precio de una call o put sobre bonos cupón cero con el modelo de HW. Se tomará como fecha\n",
    "    de vencimiento 1Y.\n",
    "    \"\"\"\n",
    "    z_tb = zero_hw(r, gamma, sigma, zrate, fwd, t, Tb)\n",
    "    z_to = zero_hw(r, gamma, sigma, zrate, fwd, t, To)\n",
    "    d1 = get_d1(z_tb,z_to,strike,gamma,Tb,To)\n",
    "    d2 = get_d2(z_tb,z_to,strike,gamma,Tb,To)\n",
    "    \n",
    "    price = z_to*(e*(z_tb/z_to)*norm.cdf(e*d1) - e*strike*norm.cdf(e*d2))\n",
    "        \n",
    "    return price"
   ]
  },
  {
   "cell_type": "code",
   "execution_count": 17,
   "metadata": {
    "ExecuteTime": {
     "end_time": "2020-12-17T22:06:59.172078Z",
     "start_time": "2020-12-17T22:06:59.166126Z"
    }
   },
   "outputs": [],
   "source": [
    "def s_z(gamma:float,\n",
    "        sigma:float,\n",
    "        Tb: float,To: float) -> float:\n",
    "    \n",
    "    \"\"\"\n",
    "    Calcula la funcion Sz\n",
    "    \"\"\"\n",
    "    \n",
    "    B = b_hw(gamma,To,Tb)\n",
    "    aux1 = 1 - math.exp(-2*gamma*To)\n",
    "    aux2 = (sigma**2)/(2*gamma)\n",
    "    sz = B*math.sqrt(aux2*aux1)\n",
    "    return sz"
   ]
  },
  {
   "cell_type": "code",
   "execution_count": 18,
   "metadata": {
    "ExecuteTime": {
     "end_time": "2020-12-17T22:06:59.180119Z",
     "start_time": "2020-12-17T22:06:59.175038Z"
    }
   },
   "outputs": [],
   "source": [
    "def get_d1(z_tb,z_to,strike,gamma,Tb,To):\n",
    "    \n",
    "    \"\"\"\n",
    "    Calcula la funcion d1 de formula de opciones\n",
    "    \"\"\"\n",
    "\n",
    "    sz = s_z(gamma,sigma,Tb,To)\n",
    "    aux1 = math.log(z_tb/(strike*z_to))\n",
    "    d1 = (aux1 + 0.5*sz**2)/sz\n",
    "    return d1"
   ]
  },
  {
   "cell_type": "code",
   "execution_count": 19,
   "metadata": {
    "ExecuteTime": {
     "end_time": "2020-12-17T22:06:59.187073Z",
     "start_time": "2020-12-17T22:06:59.182897Z"
    }
   },
   "outputs": [],
   "source": [
    "def get_d2(z_tb,z_to,strike,gamma,Tb,To):\n",
    "    \n",
    "    \"\"\"\n",
    "    Calcula la funcion d2 de formula de opciones\n",
    "    \"\"\"\n",
    "    \n",
    "    d1 = get_d1(z_tb,z_to,strike,gamma,Tb,To)\n",
    "    sz = s_z(gamma,sigma,Tb,To)\n",
    "    d2 = d1 - sz\n",
    "    return d2"
   ]
  },
  {
   "cell_type": "markdown",
   "metadata": {},
   "source": [
    "Parámetros iniciales"
   ]
  },
  {
   "cell_type": "code",
   "execution_count": 20,
   "metadata": {
    "ExecuteTime": {
     "end_time": "2020-12-17T22:06:59.194891Z",
     "start_time": "2020-12-17T22:06:59.189575Z"
    }
   },
   "outputs": [],
   "source": [
    "#Parametros iniciales\n",
    "num_sim = 10000\n",
    "num_steps = 264\n",
    "seed = 1234\n",
    "sigma = .015\n",
    "gamma = .5\n",
    "r0 = zrate(0)\n",
    "t = 0\n",
    "To = 1\n",
    "Tb = 2\n",
    "strike = 1"
   ]
  },
  {
   "cell_type": "markdown",
   "metadata": {},
   "source": [
    "Simluaciones de la tasa r por método de Monte Carlos y cálculo de bono cero cupón"
   ]
  },
  {
   "cell_type": "code",
   "execution_count": 21,
   "metadata": {
    "ExecuteTime": {
     "end_time": "2020-12-17T22:07:12.132342Z",
     "start_time": "2020-12-17T22:06:59.197446Z"
    }
   },
   "outputs": [],
   "source": [
    "#Simulaciones de MC de r\n",
    "z = []\n",
    "T = 1\n",
    "r = sims_hw_many(gamma, sigma, theta_fwd_measure,To, r0, num_sim, num_steps, seed)"
   ]
  },
  {
   "cell_type": "code",
   "execution_count": 22,
   "metadata": {
    "ExecuteTime": {
     "end_time": "2020-12-17T22:07:14.019595Z",
     "start_time": "2020-12-17T22:07:12.134757Z"
    }
   },
   "outputs": [],
   "source": [
    "# r_c toma la tasa que simula hasta el año (264 steps)\n",
    "# s va a guardar las N simulaciones para posteriormente calcular el df con 263 steps\n",
    "# z almacena el valor de bono cero cupón a 1Y\n",
    "\n",
    "s = []\n",
    "for i in range(num_sim):\n",
    "    r_c = r[i][-1]\n",
    "    s.append(r[i][:-1])\n",
    "    z.append(zero_hw(r_c, gamma, sigma, zrate, fwd, To, Tb))"
   ]
  },
  {
   "cell_type": "markdown",
   "metadata": {},
   "source": [
    "Calcular factor de descuento df"
   ]
  },
  {
   "cell_type": "code",
   "execution_count": 23,
   "metadata": {
    "ExecuteTime": {
     "end_time": "2020-12-17T22:07:14.083954Z",
     "start_time": "2020-12-17T22:07:14.025370Z"
    }
   },
   "outputs": [
    {
     "name": "stdout",
     "output_type": "stream",
     "text": [
      "Factor de descuento 0.9995374408620068\n"
     ]
    }
   ],
   "source": [
    "df = 0\n",
    "dt = 1/365\n",
    "\n",
    "#Calcular factor de descuento (df)\n",
    "for sim in s:\n",
    "    df += math.exp(-dt * np.sum(sim))\n",
    "df = df/num_sim\n",
    "print(\"Factor de descuento\",df)"
   ]
  },
  {
   "cell_type": "markdown",
   "metadata": {
    "ExecuteTime": {
     "end_time": "2020-11-29T22:07:42.130315Z",
     "start_time": "2020-11-29T22:07:42.125083Z"
    }
   },
   "source": [
    "Calcular el precio de las opción por método de Monte Carlos"
   ]
  },
  {
   "cell_type": "code",
   "execution_count": 24,
   "metadata": {
    "ExecuteTime": {
     "end_time": "2020-12-17T22:07:14.111482Z",
     "start_time": "2020-12-17T22:07:14.086461Z"
    }
   },
   "outputs": [
    {
     "name": "stdout",
     "output_type": "stream",
     "text": [
      "Tiempo vencimiento bono es 2 y tiempo vencimiento de la opcion es 1\n",
      "Precio opcion call MC: 0.0035041210810816863\n",
      "Precio opcion put MC: 0.0038864181401477333\n"
     ]
    }
   ],
   "source": [
    "#Calcular Precio por simulacion de MC\n",
    "payoff_call = []\n",
    "payoff_put = []\n",
    "\n",
    "for i in range(len(z)):\n",
    "    payoff_call.append(df*option_payoff(z[i],strike,1))\n",
    "    payoff_put.append(df*option_payoff(z[i],strike,-1))\n",
    "    \n",
    "call_mc = np.average(payoff_call)    \n",
    "put_mc = np.average(payoff_put)\n",
    "print(\"Tiempo vencimiento bono es\",Tb,\"y tiempo vencimiento de la opcion es\", To)\n",
    "print(\"Precio opcion call MC:\",call_mc)\n",
    "print(\"Precio opcion put MC:\",put_mc)"
   ]
  },
  {
   "cell_type": "markdown",
   "metadata": {},
   "source": [
    "## Cálculo del precio de la opción con fórmula analítica"
   ]
  },
  {
   "cell_type": "code",
   "execution_count": 25,
   "metadata": {
    "ExecuteTime": {
     "end_time": "2020-12-17T22:07:14.128169Z",
     "start_time": "2020-12-17T22:07:14.118570Z"
    }
   },
   "outputs": [
    {
     "name": "stdout",
     "output_type": "stream",
     "text": [
      "Tiempo vencimiento bono es 2 y tiempo vencimiento de la opcion es 1\n",
      "Precio Call:  0.0035283883401179164\n",
      "Precio Put:  0.003960769916741911\n"
     ]
    }
   ],
   "source": [
    "price_call = option_price(strike,r0,gamma,sigma,zrate,fwd,t,Tb,To,1)\n",
    "\n",
    "print(\"Tiempo vencimiento bono es\",Tb,\"y tiempo vencimiento de la opcion es\", To)\n",
    "print(\"Precio Call: \",price_call)\n",
    "price_put = option_price(strike,r0,gamma,sigma,zrate,fwd,t,Tb,To,-1)\n",
    "print(\"Precio Put: \",price_put)"
   ]
  },
  {
   "cell_type": "markdown",
   "metadata": {},
   "source": [
    "Se obtiene un precio de las opciones Call y Put practicamente iguales tanto con el método de la simulacion\n",
    "de Monte Carlo como la fórmula analítica realizando 10000 simulaciones, ya que con 1000 simulaciones la precision es muy baja. El error de precisión se puede deber al número de simulaciones. \n",
    "Si el número de simulaciones aumentara, la precisión del cálculo de la opción seria aún mas precisa."
   ]
  },
  {
   "cell_type": "markdown",
   "metadata": {},
   "source": [
    "### Tests"
   ]
  },
  {
   "cell_type": "code",
   "execution_count": 29,
   "metadata": {
    "ExecuteTime": {
     "end_time": "2020-12-17T22:09:34.437372Z",
     "start_time": "2020-12-17T22:09:34.429243Z"
    }
   },
   "outputs": [
    {
     "name": "stdout",
     "output_type": "stream",
     "text": [
      "0.0035283883401179272\n",
      "0.00396076991674188\n"
     ]
    }
   ],
   "source": [
    "import hull_white as hw\n",
    "\n",
    "call = hw.zcb_call_put(\n",
    "    hw.CallPut.CALL,\n",
    "    strike=strike,\n",
    "    to=To,\n",
    "    tb=Tb,\n",
    "    r0=r0,\n",
    "    zo=math.exp(-zrate(To) * To),\n",
    "    zb=math.exp(-zrate(Tb) * Tb),\n",
    "    gamma=gamma,\n",
    "    sigma=sigma)\n",
    "\n",
    "put = hw.zcb_call_put(\n",
    "    hw.CallPut.PUT,\n",
    "    strike=strike,\n",
    "    to=To,\n",
    "    tb=Tb,\n",
    "    r0=r0,\n",
    "    zo=math.exp(-zrate(To) * To),\n",
    "    zb=math.exp(-zrate(Tb) * Tb),\n",
    "    gamma=gamma,\n",
    "    sigma=sigma)\n",
    "\n",
    "print(call)\n",
    "print(put)"
   ]
  },
  {
   "cell_type": "markdown",
   "metadata": {},
   "source": [
    "## Valorización bono cero cupón a 1Y"
   ]
  },
  {
   "cell_type": "code",
   "execution_count": 26,
   "metadata": {
    "ExecuteTime": {
     "end_time": "2020-12-17T22:07:14.193281Z",
     "start_time": "2020-12-17T22:07:14.132404Z"
    }
   },
   "outputs": [
    {
     "name": "stdout",
     "output_type": "stream",
     "text": [
      "Precio Bono Cero Cupón con simulaciones de MC 0.9991551438029409\n",
      "Precio Bono Cero Cupón de mercado 0.9992978688293875\n"
     ]
    }
   ],
   "source": [
    "df_sim = 0\n",
    "\n",
    "# Calcular factor de descuento (df) con las simulaciones\n",
    "for sim in s:\n",
    "    df_sim += math.exp(-dt * np.sum(sim))\n",
    "df_sim = df_sim/num_sim\n",
    "\n",
    "# Factor de descuento a 1Y\n",
    "df_mkt = curva['df'].iloc[15]\n",
    "\n",
    "bono_sim = df_sim*np.average(z)\n",
    "bono_mkt = df_mkt\n",
    "\n",
    "print(\"Precio Bono Cero Cupón con simulaciones de MC\", bono_sim)\n",
    "print(\"Precio Bono Cero Cupón de mercado\", bono_mkt)"
   ]
  },
  {
   "cell_type": "markdown",
   "metadata": {},
   "source": [
    "La diferencia entre el precio del bono cero cupón de mercado y simulado es pequeña. Tiene un pequeño error de precisión. "
   ]
  },
  {
   "cell_type": "markdown",
   "metadata": {},
   "source": [
    "**AD:** ¿Pequeño error de simulación? Miren la diferencia en tasa. Al comentario le falta análisis."
   ]
  },
  {
   "cell_type": "code",
   "execution_count": 27,
   "metadata": {
    "ExecuteTime": {
     "end_time": "2020-12-17T22:07:14.200293Z",
     "start_time": "2020-12-17T22:07:14.195738Z"
    }
   },
   "outputs": [
    {
     "name": "stdout",
     "output_type": "stream",
     "text": [
      "0.042261%\n",
      "0.035119%\n"
     ]
    }
   ],
   "source": [
    "tasa_sim = -.5*math.log(bono_sim)\n",
    "print(f'{tasa_sim:.6%}')\n",
    "\n",
    "tasa_mkt = -.5*math.log(bono_mkt)\n",
    "print(f'{tasa_mkt:.6%}')"
   ]
  }
 ],
 "metadata": {
  "hide_input": false,
  "kernelspec": {
   "display_name": "Python 3",
   "language": "python",
   "name": "python3"
  },
  "language_info": {
   "codemirror_mode": {
    "name": "ipython",
    "version": 3
   },
   "file_extension": ".py",
   "mimetype": "text/x-python",
   "name": "python",
   "nbconvert_exporter": "python",
   "pygments_lexer": "ipython3",
   "version": "3.7.3"
  },
  "toc": {
   "base_numbering": 1,
   "nav_menu": {},
   "number_sections": true,
   "sideBar": true,
   "skip_h1_title": false,
   "title_cell": "Table of Contents",
   "title_sidebar": "Contents",
   "toc_cell": false,
   "toc_position": {},
   "toc_section_display": true,
   "toc_window_display": false
  }
 },
 "nbformat": 4,
 "nbformat_minor": 4
}
