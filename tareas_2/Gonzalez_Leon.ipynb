{
 "cells": [
  {
   "cell_type": "markdown",
   "metadata": {},
   "source": [
    "# Tarea 2"
   ]
  },
  {
   "cell_type": "markdown",
   "metadata": {},
   "source": [
    "- Usando las funciones anteriores, o desarrollando las propias, escriba una función que pueda valorizar, por simulación de Montecarlo, calls y puts sobre bonos cero cupón con el modelo de HW. Considere puts y calls de plazo máximo igual a 1Y.\n",
    "- Su función debe poder recibir la semilla.\n",
    "- Compare sus resultados con las fórmulas del modelo y muestre que diferencias obtiene usando 1000 simulaciones y una semilla predeterminada.\n",
    "- Valorice también por simulación de Montecarlo el bono cupón cero a 1Y. Muestre que diferencias obtiene respecto al valor de mercado del bono usando 1000 simulaciones y una semilla predeterminada."
   ]
  },
  {
   "cell_type": "code",
   "execution_count": 1,
   "metadata": {
    "ExecuteTime": {
     "end_time": "2020-12-17T20:13:52.088240Z",
     "start_time": "2020-12-17T20:13:51.449179Z"
    }
   },
   "outputs": [],
   "source": [
    "from finrisk import QC_Financial_3 as Qcf\n",
    "from scipy.interpolate import interp1d\n",
    "\n",
    "import sys\n",
    "sys.path.insert(1, '../modules')\n",
    "import auxiliary as aux\n",
    "\n",
    "#from modules\n",
    "import auxiliary as aux\n",
    "\n",
    "from numpy import random as rnd\n",
    "import plotly.express as px\n",
    "import pandas as pd\n",
    "import numpy as np\n",
    "import math\n",
    "from scipy.stats import norm"
   ]
  },
  {
   "cell_type": "markdown",
   "metadata": {
    "ExecuteTime": {
     "end_time": "2020-11-22T02:32:18.417316Z",
     "start_time": "2020-11-22T02:32:18.413809Z"
    }
   },
   "source": [
    "## Función Curva Cero Cupón "
   ]
  },
  {
   "cell_type": "markdown",
   "metadata": {},
   "source": [
    "### Curva Cero Cupón en Tiempo Continuo"
   ]
  },
  {
   "cell_type": "code",
   "execution_count": 2,
   "metadata": {
    "ExecuteTime": {
     "end_time": "2020-12-17T20:13:52.121205Z",
     "start_time": "2020-12-17T20:13:52.094482Z"
    }
   },
   "outputs": [],
   "source": [
    "curva = pd.read_excel('../data/20201012_built_sofr_zero.xlsx')\n",
    "curva['t'] = curva['plazo'] / 365.0\n",
    "curva['rate'] = np.log(1 / curva['df'])/( curva['plazo'] / 365.0)\n",
    "zcurva = interp1d(curva['t'],\n",
    "                  curva['rate'],\n",
    "                  kind = 'cubic',\n",
    "                  fill_value = \"extrapolate\")\n",
    "\n",
    "#Nota: t es cuando lo quiero calcular\n",
    "#      T es el plazo del bono"
   ]
  },
  {
   "cell_type": "markdown",
   "metadata": {},
   "source": [
    "### Tasas y Derivadas Curva Cero Cupón "
   ]
  },
  {
   "cell_type": "code",
   "execution_count": 3,
   "metadata": {
    "ExecuteTime": {
     "end_time": "2020-12-17T20:13:52.132665Z",
     "start_time": "2020-12-17T20:13:52.125084Z"
    }
   },
   "outputs": [],
   "source": [
    "#TASAS Y DERIVADAS DE CURVA CERO CUPON EN FUNCIÓN DEL PLAZO t \n",
    "#se calcula con diferencias finitas por la derecha\n",
    "def zrate(t: float) -> float:\n",
    "    return zcurva(t)\n",
    "\n",
    "def dzrate(t: float) -> float:\n",
    "    delta = .0001\n",
    "    return (zcurva(t + delta) - zrate(t)) / delta\n",
    "\n",
    "def d2zrate(t: float) -> float:\n",
    "    delta = .0001\n",
    "    return (dzrate(t + delta) - dzrate(t)) / delta"
   ]
  },
  {
   "cell_type": "markdown",
   "metadata": {},
   "source": [
    "### Tasas y Derivadas Forward"
   ]
  },
  {
   "cell_type": "code",
   "execution_count": 4,
   "metadata": {
    "ExecuteTime": {
     "end_time": "2020-12-17T20:13:52.143853Z",
     "start_time": "2020-12-17T20:13:52.137776Z"
    }
   },
   "outputs": [],
   "source": [
    "#TASAS Y DERIVADA FORWARD EN FUNCION DE PLAZO t\n",
    "def fwd(t: float) -> float:\n",
    "    return zrate(t) + t * dzrate(t)\n",
    "\n",
    "def dfwd(t: float) -> float:\n",
    "    return 2 * dzrate(t) + t * d2zrate(t)"
   ]
  },
  {
   "cell_type": "code",
   "execution_count": 5,
   "metadata": {
    "ExecuteTime": {
     "end_time": "2020-12-17T20:13:52.154760Z",
     "start_time": "2020-12-17T20:13:52.149313Z"
    }
   },
   "outputs": [],
   "source": [
    "# ELIGIENDO VALORES PREESTABLECIDOS DE SIGMA Y GAMMA\n",
    "sigma = .015\n",
    "gamma = .5\n",
    "# Proxy de la tasa instantánea (corta) r(t) es una tasa entre t y t + dt (donde dt es un intervalo infitesimal),\n",
    "# para invertir a un intante de tiempo despues\n",
    "r0 = zrate(0)\n",
    "# PLAZOS\n",
    "t = 1\n",
    "T = 2\n",
    "# Semilla\n",
    "seed = 3879"
   ]
  },
  {
   "cell_type": "markdown",
   "metadata": {
    "ExecuteTime": {
     "end_time": "2020-11-22T02:24:29.857856Z",
     "start_time": "2020-11-22T02:24:29.853591Z"
    }
   },
   "source": [
    "## Función $\\theta$"
   ]
  },
  {
   "cell_type": "code",
   "execution_count": 6,
   "metadata": {
    "ExecuteTime": {
     "end_time": "2020-12-17T20:13:52.165574Z",
     "start_time": "2020-12-17T20:13:52.159316Z"
    }
   },
   "outputs": [],
   "source": [
    "def theta(t: float) -> float:\n",
    "    aux = (sigma ** 2) / (2.0 * gamma) * (1 - math.exp(-2.0 * gamma * t))\n",
    "    return dfwd(t) + gamma * fwd(t) + aux"
   ]
  },
  {
   "cell_type": "markdown",
   "metadata": {},
   "source": [
    "## Simulación MC Tasa Corta"
   ]
  },
  {
   "cell_type": "code",
   "execution_count": 7,
   "metadata": {
    "ExecuteTime": {
     "end_time": "2020-12-17T20:13:52.184800Z",
     "start_time": "2020-12-17T20:13:52.168503Z"
    }
   },
   "outputs": [],
   "source": [
    "def sim_hw_many(gamma, sigma, theta, r0, num_sim, num_steps, seed = None):\n",
    "    \"\"\"\n",
    "    Simulación de montecarlo\n",
    "    \n",
    "    params:\n",
    "    - gamma: intensidad de reversión del modelo HW\n",
    "    - sigma: volatilidad\n",
    "    - Theta: función theta del modelo HW\n",
    "    - r0: tasa instantánea\n",
    "    - num_sim: número simulaciones\n",
    "    - num_step: número pasas cada simulación\n",
    "    \"\"\"\n",
    "    dt = 1 / 264.0\n",
    "    num_steps += 1 \n",
    "    \n",
    "    # Calcula los números aleatorios\n",
    "    alea = np.zeros((num_sim, num_steps))\n",
    "    rnd.seed(seed)\n",
    "\n",
    "    for i in range(0, num_sim):\n",
    "        for j in range(0, num_steps):\n",
    "            alea[i][j] = rnd.normal()\n",
    "            \n",
    "    # Calcula los valores de Theta. Theta sólo depende del tiempo, no de la simulación. \n",
    "    theta_array = np.zeros(num_steps)\n",
    "    tiempo = np.zeros(num_steps)\n",
    "    for i in range(0, num_steps):\n",
    "        tiempo[i] = i * dt\n",
    "        theta_array[i] = theta(i * dt)\n",
    "    \n",
    "    # Simula las trayectorias\n",
    "    sqdt_sigma = math.sqrt(dt) * sigma\n",
    "    gamma_dt = gamma * dt\n",
    "    sim = np.zeros((num_sim, num_steps))\n",
    "    for i in range(0, num_sim):\n",
    "        sim[i][0] = r0\n",
    "        r = r0\n",
    "        for j in range(1, num_steps):\n",
    "            r = r + theta_array[j - 1] * dt - gamma_dt * r + sqdt_sigma * alea[i][j - 1]\n",
    "            sim[i][j] = r\n",
    "    return tiempo, sim"
   ]
  },
  {
   "cell_type": "markdown",
   "metadata": {
    "ExecuteTime": {
     "end_time": "2020-11-22T02:50:15.055574Z",
     "start_time": "2020-11-22T02:50:15.052058Z"
    }
   },
   "source": [
    "# Bono Cupón Cero"
   ]
  },
  {
   "cell_type": "markdown",
   "metadata": {},
   "source": [
    "### Simulaciones MC y Mercado"
   ]
  },
  {
   "cell_type": "code",
   "execution_count": 8,
   "metadata": {
    "ExecuteTime": {
     "end_time": "2020-12-17T20:13:53.804884Z",
     "start_time": "2020-12-17T20:13:52.186943Z"
    }
   },
   "outputs": [
    {
     "name": "stdout",
     "output_type": "stream",
     "text": [
      "num_steps: 263\n",
      "ez:  99.93976321%\n",
      "z_curva:  99.92978688%\n"
     ]
    }
   ],
   "source": [
    "#VALORES PRESENTES (Precio bono cero cupon)\n",
    "num_sim = 1000\n",
    "num_steps = 263 #Un día antes de T\n",
    "dt = 1 / 264.0 #Saltos Diarios\n",
    "print(f\"num_steps: {num_steps}\")\n",
    "df = 0\n",
    "\n",
    "tiempo, s = sim_hw_many(gamma, sigma, theta, r0, num_sim, num_steps, seed)\n",
    "for sim in s:\n",
    "     df += math.exp(-dt * np.sum(sim))\n",
    "    \n",
    "# MC Bono Cupón Cero en t \n",
    "ez = df / num_sim #Promedio simulaciones\n",
    "print(f\"ez: {ez: .8%}\") \n",
    "\n",
    "# Bono Cupón Cero de Mercado en t \n",
    "z_curva = math.exp(-zrate(t) * t)\n",
    "print(f\"z_curva: {z_curva: .8%}\") "
   ]
  },
  {
   "cell_type": "markdown",
   "metadata": {},
   "source": [
    "### Error Relativo Bono Cero Cupón"
   ]
  },
  {
   "cell_type": "code",
   "execution_count": 9,
   "metadata": {
    "ExecuteTime": {
     "end_time": "2020-12-17T20:13:53.810416Z",
     "start_time": "2020-12-17T20:13:53.806766Z"
    }
   },
   "outputs": [
    {
     "name": "stdout",
     "output_type": "stream",
     "text": [
      "Error Relativo:  0.99833356%\n"
     ]
    }
   ],
   "source": [
    "error=(ez-z_curva)/z_curva\n",
    "print(f\"Error Relativo: {error*100: .8%}\")"
   ]
  },
  {
   "cell_type": "markdown",
   "metadata": {},
   "source": [
    "**AD:** Me hubiera gustado que compararan más plazos."
   ]
  },
  {
   "cell_type": "markdown",
   "metadata": {},
   "source": [
    "# Valorizar un Call o Put de un Bono Cupón Cero"
   ]
  },
  {
   "cell_type": "markdown",
   "metadata": {},
   "source": [
    "## Simulación de Montecarlo"
   ]
  },
  {
   "cell_type": "markdown",
   "metadata": {},
   "source": [
    "### Tasa Corta"
   ]
  },
  {
   "cell_type": "code",
   "execution_count": 10,
   "metadata": {
    "ExecuteTime": {
     "end_time": "2020-12-17T20:13:55.100803Z",
     "start_time": "2020-12-17T20:13:53.812126Z"
    }
   },
   "outputs": [],
   "source": [
    "num_sim = 1000\n",
    "num_steps = 263\n",
    "\n",
    "#RESULTADOS SIMULACIÓN\n",
    "tiempo, s = sim_hw_many(gamma, sigma, theta, r0, num_sim, num_steps, seed)\n",
    "last_rates = [sim[-1] for sim in s] #Último valor cada simulación "
   ]
  },
  {
   "cell_type": "markdown",
   "metadata": {},
   "source": [
    "### Precio Subyacente (Bono Cupón Cero)"
   ]
  },
  {
   "cell_type": "code",
   "execution_count": 11,
   "metadata": {
    "ExecuteTime": {
     "end_time": "2020-12-17T20:13:55.108681Z",
     "start_time": "2020-12-17T20:13:55.102297Z"
    }
   },
   "outputs": [],
   "source": [
    "#Función A(t) del Modelo HW\n",
    "def a_hw(zrate: float, fwd, gamma: float, sigma: float, t: float, T: float,\n",
    "         verbose = False):\n",
    "    \"\"\"\n",
    "    Calcula el valor de la función A(t,T) que interviene en la fórmula\n",
    "    para el valor de un bono cupón cero en el modelo de HW.\n",
    "    \n",
    "    params:\n",
    "    \n",
    "    - zrate: curva cero cupón\n",
    "    - fwd: Tasa forward\n",
    "    - gamma: intensidad de reversión del modelo HW\n",
    "    - sigma: volatilidad\n",
    "    - t: cuando quiero calcular\n",
    "    - T: plazo del bono\n",
    "\n",
    "    verbose: cuando es True imprime los valores de c1, c2 y c3.\n",
    "    \"\"\"\n",
    "    b = b_hw(gamma, t, T)\n",
    "    dfT = math.exp(-zrate(T) * T)\n",
    "    dft = math.exp(-zrate(t) * t)\n",
    "    c1 = math.log(dfT / dft)\n",
    "    c2 = b * fwd(t)\n",
    "    c3 = (sigma**2) / (4 * gamma) * (b**2) * (1 - math.exp(-2 * gamma * t))\n",
    "    if verbose:\n",
    "        print(\"c1: \" + str(c1))\n",
    "        print(\"c2: \" + str(c2))\n",
    "        print(\"c3: \" + str(c3))\n",
    "    return c1 + c2 - c3"
   ]
  },
  {
   "cell_type": "code",
   "execution_count": 12,
   "metadata": {
    "ExecuteTime": {
     "end_time": "2020-12-17T20:13:55.114320Z",
     "start_time": "2020-12-17T20:13:55.110514Z"
    }
   },
   "outputs": [],
   "source": [
    "#Función B(t) del Modelo HW\n",
    "def b_hw(gamma: float, t: float, T: float) -> float:\n",
    "    \"\"\"\n",
    "    Calcula el valor de la función B(t,T) que interviene en la fórmula\n",
    "    para el valor de un bono cupón cero en el modelo de HW.\n",
    "    \n",
    "    params:\n",
    "    \n",
    "    - gamma: intensidad de reversión del modelo HW\n",
    "    - t: cuando quiero calcular\n",
    "    - T: plazo del bono\n",
    "    \n",
    "    return:\n",
    "    \n",
    "    - valor de la función B(t, T)\n",
    "    \"\"\"\n",
    "    aux = 1 - math.exp(- gamma * (T - t))\n",
    "    return aux / gamma"
   ]
  },
  {
   "cell_type": "code",
   "execution_count": 13,
   "metadata": {
    "ExecuteTime": {
     "end_time": "2020-12-17T20:13:55.120996Z",
     "start_time": "2020-12-17T20:13:55.116699Z"
    }
   },
   "outputs": [],
   "source": [
    "#Bono Cero Cupón \n",
    "def zero_hw(r: float,\n",
    "            gamma: float,\n",
    "            sigma: float,\n",
    "            zrate: float,\n",
    "            fwd: float,\n",
    "            t: float,\n",
    "            T: float) -> float:\n",
    "    \"\"\"\n",
    "    Calculo Bono Cupón Cero\n",
    "    params:\n",
    "    - r: tasa simulada\n",
    "    - gamma: intensidad de reversión del modelo HW\n",
    "    - sigma: volatilidad\n",
    "    - zrate: curva cero cupón\n",
    "    - fwd: Tasa forward\n",
    "    - t: cuando quiero calcular\n",
    "    - T: plazo del bono\n",
    "    \"\"\"\n",
    " \n",
    "    a = a_hw(zrate, fwd, gamma, sigma, t, T)\n",
    "    b = b_hw(gamma, t, T)\n",
    "    return math.exp(a - b * r)"
   ]
  },
  {
   "cell_type": "code",
   "execution_count": 14,
   "metadata": {
    "ExecuteTime": {
     "end_time": "2020-12-17T20:13:55.280410Z",
     "start_time": "2020-12-17T20:13:55.122881Z"
    }
   },
   "outputs": [],
   "source": [
    "#PRECIOS BONO CERO CUPÓN EN t DE PLAZO T A PARTIR DE 1000 TASAS CORTAS SIMULADAS\n",
    "precios = [zero_hw(r, gamma, sigma, zrate, fwd, t, T) for r in last_rates]\n",
    "P = pd.DataFrame()\n",
    "P[\"PRECIOS\"]=precios\n",
    "#P\n",
    "\n",
    "#no esta en valor presente por que para esto debo calcular el valor esperado \n",
    "#del valor presente y necesito el recorrido de cada simulación"
   ]
  },
  {
   "cell_type": "markdown",
   "metadata": {},
   "source": [
    "### Payoff Opción"
   ]
  },
  {
   "cell_type": "code",
   "execution_count": 15,
   "metadata": {
    "ExecuteTime": {
     "end_time": "2020-12-17T20:13:55.287107Z",
     "start_time": "2020-12-17T20:13:55.282542Z"
    }
   },
   "outputs": [],
   "source": [
    "def Vanilla_Payoff(z: float, strike: float, tipo) -> float:\n",
    "    \"\"\"\n",
    "    Cálculo payoff de una call o put \n",
    "    \n",
    "   - z: es el precio del bono cupón cero al vencimiento\n",
    "   - strike: es el strike de la opción\n",
    "   - Tipo: es el tipo de opción \n",
    "   \"\"\"\n",
    "    eps=1\n",
    "    \n",
    "    if tipo == \"Call\":\n",
    "        eps = 1 \n",
    "        \n",
    "    elif tipo == \"Put\":\n",
    "        eps = -1\n",
    "        \n",
    "    else:\n",
    "        print(\"Solo se puede escribir Call o Put como variable tipo\")\n",
    "        \n",
    "    return max(max(eps*(z - strike), .000), .000)"
   ]
  },
  {
   "cell_type": "code",
   "execution_count": 16,
   "metadata": {
    "ExecuteTime": {
     "end_time": "2020-12-17T20:13:55.295557Z",
     "start_time": "2020-12-17T20:13:55.288927Z"
    }
   },
   "outputs": [],
   "source": [
    "#Elegir Strikes para Call y Put, respectivamente\n",
    "strikes_C = [0.3 ,0.7, 0.8, 1.01]\n",
    "strikes_P = [0.98, 1, 1.2, 1.3, 5]"
   ]
  },
  {
   "cell_type": "code",
   "execution_count": 17,
   "metadata": {
    "ExecuteTime": {
     "end_time": "2020-12-17T20:13:55.306337Z",
     "start_time": "2020-12-17T20:13:55.297625Z"
    }
   },
   "outputs": [],
   "source": [
    "payoffs_C = {strike:[Vanilla_Payoff(z, strike, 'Call') for z in precios] for strike in strikes_C}\n",
    "\n",
    "payoffs_P = {strike:[Vanilla_Payoff(z, strike, 'Put') for z in precios] for strike in strikes_P}"
   ]
  },
  {
   "cell_type": "markdown",
   "metadata": {},
   "source": [
    "### Valores Presentes"
   ]
  },
  {
   "cell_type": "code",
   "execution_count": 18,
   "metadata": {
    "ExecuteTime": {
     "end_time": "2020-12-17T20:13:55.327775Z",
     "start_time": "2020-12-17T20:13:55.308441Z"
    }
   },
   "outputs": [],
   "source": [
    "#FACTORES DE DESCUENTO\n",
    "df = np.array(math.exp(-dt * np.sum(s[0])))\n",
    "\n",
    "for sim in s[1:]:\n",
    "    df=np.append(df, math.exp(-dt * np.sum(sim)))\n",
    "                                              "
   ]
  },
  {
   "cell_type": "code",
   "execution_count": 19,
   "metadata": {
    "ExecuteTime": {
     "end_time": "2020-12-17T20:13:55.334910Z",
     "start_time": "2020-12-17T20:13:55.329486Z"
    }
   },
   "outputs": [
    {
     "name": "stdout",
     "output_type": "stream",
     "text": [
      "{0.3: [0.6993457458026102], 0.7: [0.2995866929667216], 0.8: [0.1996469297577493], 1.01: [0.0007456031750802969]}\n",
      "{0.98: [8.049604527382468e-05], 1: [0.00392088008031346], 1.2: [0.20011212307813925], 1.3: [0.3000518862871115], 5: [3.997823125019082]}\n"
     ]
    }
   ],
   "source": [
    "# CALL\n",
    "Vp_C = {strike:[np.average(np.multiply(df,payoffs_C[strike]))] for strike in strikes_C}\n",
    "print(Vp_C)\n",
    "# PUT\n",
    "Vp_P = {strike:[np.average(np.multiply(df,payoffs_P[strike]))] for strike in strikes_P}\n",
    "print(Vp_P)\n"
   ]
  },
  {
   "cell_type": "code",
   "execution_count": 20,
   "metadata": {
    "ExecuteTime": {
     "end_time": "2020-12-17T20:13:55.347902Z",
     "start_time": "2020-12-17T20:13:55.336574Z"
    }
   },
   "outputs": [
    {
     "name": "stdout",
     "output_type": "stream",
     "text": [
      "1.1993249717021608\n",
      "4.501988510509916\n"
     ]
    }
   ],
   "source": [
    "#A MANO (Solo funciona con un strike en la lista)\n",
    "vp_C=0\n",
    "\n",
    "for strike in strikes_C:\n",
    "    for i in range(num_sim):\n",
    "         vp_C += df[i]*payoffs_C[strike][i]\n",
    "VP_C=vp_C/num_sim\n",
    "print(VP_C)\n",
    "\n",
    "vp_P=0\n",
    "\n",
    "for strike in strikes_P:\n",
    "    for i in range(num_sim):\n",
    "         vp_P += df[i]*payoffs_P[strike][i]\n",
    "VP_P=vp_P/num_sim\n",
    "print(VP_P)"
   ]
  },
  {
   "cell_type": "markdown",
   "metadata": {},
   "source": [
    "## Valor Teórico Opción"
   ]
  },
  {
   "cell_type": "code",
   "execution_count": 21,
   "metadata": {
    "ExecuteTime": {
     "end_time": "2020-12-17T20:13:55.352504Z",
     "start_time": "2020-12-17T20:13:55.349795Z"
    }
   },
   "outputs": [],
   "source": [
    "#DEFINIR PLAZOS\n",
    "T0 = 1\n",
    "TB = 2"
   ]
  },
  {
   "cell_type": "code",
   "execution_count": 22,
   "metadata": {
    "ExecuteTime": {
     "end_time": "2020-12-17T20:13:55.362299Z",
     "start_time": "2020-12-17T20:13:55.354434Z"
    }
   },
   "outputs": [
    {
     "name": "stdout",
     "output_type": "stream",
     "text": [
      "To:  0.99929787\n",
      "To curva:  0.99929787\n",
      "TB:  0.99886549\n",
      "TB curva:  0.99886549\n"
     ]
    }
   ],
   "source": [
    "#Comprobación\n",
    "precio_T0=zero_hw(zrate(0), gamma, sigma, zrate, fwd, 0, T0)\n",
    "precio_TB=zero_hw(zrate(0), gamma, sigma, zrate, fwd, 0, TB)\n",
    "print(f\"To: {precio_T0: .8}\")\n",
    "print(f\"To curva: {math.exp(-zrate(T0) * T0): .8}\")\n",
    "print(f\"TB: {precio_TB: .8}\")\n",
    "print(f\"TB curva: {math.exp(-zrate(TB) * TB): .8}\")"
   ]
  },
  {
   "cell_type": "markdown",
   "metadata": {},
   "source": [
    "### Payoff Opción "
   ]
  },
  {
   "cell_type": "code",
   "execution_count": 23,
   "metadata": {
    "ExecuteTime": {
     "end_time": "2020-12-17T20:13:55.371632Z",
     "start_time": "2020-12-17T20:13:55.363880Z"
    }
   },
   "outputs": [],
   "source": [
    "def Opcion_BS(zrate: float, gamma: float, sigma: float, strike: float, T0: float, TB: float, tipo)-> float:\n",
    "\n",
    "    #Precios Bono Cupón Cero\n",
    "    precio_T0=math.exp(-zrate(T0) * T0)\n",
    "    precio_TB=math.exp(-zrate(TB) * TB)\n",
    "    \n",
    "    #Opciones\n",
    "    eps=1\n",
    "    \n",
    "    if tipo == \"Call\":\n",
    "        eps = 1 \n",
    "        \n",
    "    elif tipo == \"Put\":\n",
    "        eps = -1\n",
    "        \n",
    "    else:\n",
    "        print(\"Solo se puede escribir Call o Put como variable tipo\")\n",
    "   \n",
    "    #Black Scholes\n",
    "    Sz = b_hw(gamma, T0, TB)*math.sqrt(sigma**2/(2*gamma)*(1-math.exp(-2*gamma*T0)))\n",
    "    d1 = (math.log(precio_TB/(strike*precio_T0))+0.5*Sz**2)/Sz\n",
    "    d2 = d1-Sz\n",
    "    N1 = norm.cdf(eps*d1)\n",
    "    N2 = norm.cdf(eps*d2)\n",
    "        \n",
    "    return eps*precio_T0*((precio_TB/precio_T0)*N1-strike*N2)"
   ]
  },
  {
   "cell_type": "markdown",
   "metadata": {},
   "source": [
    "### Valor Presente"
   ]
  },
  {
   "cell_type": "code",
   "execution_count": 24,
   "metadata": {
    "ExecuteTime": {
     "end_time": "2020-12-17T20:13:55.383520Z",
     "start_time": "2020-12-17T20:13:55.373868Z"
    }
   },
   "outputs": [
    {
     "name": "stdout",
     "output_type": "stream",
     "text": [
      "{0.3: [0.6990761266039472], 0.7: [0.29935697907219233], 0.8: [0.1994271921892535], 1.01: [0.0006385183229155442]}\n",
      "{0.98: [5.8960634580996594e-05], 1: [0.003960769916741911], 1.2: [0.20029195534250138], 1.3: [0.30022174222544024], 5: [3.9976238568941733]}\n"
     ]
    }
   ],
   "source": [
    "# CALL\n",
    "Vp_BS_C = {strike:[Opcion_BS(zrate, gamma, sigma, strike, T0, TB, 'Call')] for strike in strikes_C}\n",
    "print(Vp_BS_C)\n",
    "\n",
    "Vp_BS_P = {strike:[Opcion_BS(zrate, gamma, sigma, strike, T0, TB, 'Put')] for strike in strikes_P}\n",
    "print(Vp_BS_P)"
   ]
  },
  {
   "cell_type": "markdown",
   "metadata": {},
   "source": [
    "### Test"
   ]
  },
  {
   "cell_type": "code",
   "execution_count": 26,
   "metadata": {
    "ExecuteTime": {
     "end_time": "2020-12-17T20:15:31.150199Z",
     "start_time": "2020-12-17T20:15:31.146058Z"
    }
   },
   "outputs": [],
   "source": [
    "import hull_white as hw"
   ]
  },
  {
   "cell_type": "code",
   "execution_count": 31,
   "metadata": {
    "ExecuteTime": {
     "end_time": "2020-12-17T20:19:30.176421Z",
     "start_time": "2020-12-17T20:19:30.169008Z"
    }
   },
   "outputs": [],
   "source": [
    "check_call = {strike: hw.zcb_call_put(\n",
    "    hw.CallPut.CALL,\n",
    "    strike,\n",
    "    T0,\n",
    "    TB,\n",
    "    zrate(0),\n",
    "    math.exp(-zrate(T0) * T0),\n",
    "    math.exp(-zrate(TB) * TB),\n",
    "    gamma,\n",
    "    sigma) for strike in strikes_C}"
   ]
  },
  {
   "cell_type": "code",
   "execution_count": 32,
   "metadata": {
    "ExecuteTime": {
     "end_time": "2020-12-17T20:19:32.289617Z",
     "start_time": "2020-12-17T20:19:32.285134Z"
    }
   },
   "outputs": [
    {
     "data": {
      "text/plain": [
       "{0.3: 0.6990761266039472,\n",
       " 0.7: 0.2993569790721923,\n",
       " 0.8: 0.19942719218925353,\n",
       " 1.01: 0.00063851832291556}"
      ]
     },
     "execution_count": 32,
     "metadata": {},
     "output_type": "execute_result"
    }
   ],
   "source": [
    "check_call"
   ]
  },
  {
   "cell_type": "code",
   "execution_count": 33,
   "metadata": {
    "ExecuteTime": {
     "end_time": "2020-12-17T20:20:20.841989Z",
     "start_time": "2020-12-17T20:20:20.834526Z"
    }
   },
   "outputs": [],
   "source": [
    "check_put = {strike: hw.zcb_call_put(\n",
    "    hw.CallPut.PUT,\n",
    "    strike,\n",
    "    T0,\n",
    "    TB,\n",
    "    zrate(0),\n",
    "    math.exp(-zrate(T0) * T0),\n",
    "    math.exp(-zrate(TB) * TB),\n",
    "    gamma,\n",
    "    sigma) for strike in strikes_P}"
   ]
  },
  {
   "cell_type": "code",
   "execution_count": 34,
   "metadata": {
    "ExecuteTime": {
     "end_time": "2020-12-17T20:20:25.664497Z",
     "start_time": "2020-12-17T20:20:25.658051Z"
    }
   },
   "outputs": [
    {
     "data": {
      "text/plain": [
       "{0.98: 5.896063458099565e-05,\n",
       " 1: 0.00396076991674188,\n",
       " 1.2: 0.20029195534250144,\n",
       " 1.3: 0.3002217422254402,\n",
       " 5: 3.9976238568941738}"
      ]
     },
     "execution_count": 34,
     "metadata": {},
     "output_type": "execute_result"
    }
   ],
   "source": [
    "check_put"
   ]
  },
  {
   "cell_type": "markdown",
   "metadata": {},
   "source": [
    "## Error Relativo"
   ]
  },
  {
   "cell_type": "code",
   "execution_count": 25,
   "metadata": {
    "ExecuteTime": {
     "end_time": "2020-12-17T20:13:55.391769Z",
     "start_time": "2020-12-17T20:13:55.385181Z"
    }
   },
   "outputs": [
    {
     "name": "stdout",
     "output_type": "stream",
     "text": [
      "{0.3: [array([0.03856793])], 0.7: [array([0.07673577])], 0.8: [array([0.11018436])], 1.01: [array([16.77083465])]}\n",
      "{0.98: [array([36.525066])], 1: [array([-1.00712329])], 1.2: [array([-0.08978507])], 1.3: [array([-0.05657683])], 5: [array([0.00498466])]}\n"
     ]
    }
   ],
   "source": [
    "#Los errores estan en porcentaje\n",
    "Error_C = {strike:[(np.array(Vp_C[strike])-np.array(Vp_BS_C[strike]))*100/np.array(Vp_BS_C[strike])] for strike in strikes_C}\n",
    "print(Error_C)\n",
    "\n",
    "Error_P = {strike:[(np.array(Vp_P[strike])-np.array(Vp_BS_P[strike]))*100/np.array(Vp_BS_P[strike])] for strike in strikes_P}\n",
    "print(Error_P)\n"
   ]
  },
  {
   "cell_type": "markdown",
   "metadata": {},
   "source": [
    "**AD:** Muy poco explicado, es difícil seguir el razonamiento. "
   ]
  }
 ],
 "metadata": {
  "hide_input": false,
  "kernelspec": {
   "display_name": "Python 3",
   "language": "python",
   "name": "python3"
  },
  "language_info": {
   "codemirror_mode": {
    "name": "ipython",
    "version": 3
   },
   "file_extension": ".py",
   "mimetype": "text/x-python",
   "name": "python",
   "nbconvert_exporter": "python",
   "pygments_lexer": "ipython3",
   "version": "3.7.3"
  },
  "toc": {
   "base_numbering": 1,
   "nav_menu": {},
   "number_sections": true,
   "sideBar": true,
   "skip_h1_title": false,
   "title_cell": "Table of Contents",
   "title_sidebar": "Contenido",
   "toc_cell": false,
   "toc_position": {
    "height": "calc(100% - 180px)",
    "left": "10px",
    "top": "150px",
    "width": "296.1875px"
   },
   "toc_section_display": true,
   "toc_window_display": true
  }
 },
 "nbformat": 4,
 "nbformat_minor": 4
}
