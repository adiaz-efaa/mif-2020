{
 "cells": [
  {
   "cell_type": "markdown",
   "metadata": {
    "ExecuteTime": {
     "end_time": "2020-12-15T21:28:20.140207Z",
     "start_time": "2020-12-15T21:28:20.137240Z"
    }
   },
   "source": [
    "# Tarea 2 :\n",
    "\n",
    "JAVIERA KAID Y CLAUDIA DONOSO\n",
    "\n",
    "- Usando las funciones anteriores, o desarrollando las propias, escriba una función que pueda valorizar, por simulación de Montecarlo, calls y puts sobre bonos cero cupón con el modelo de HW. Considere puts y calls de plazo máximo igual a 1Y.\n",
    "- Su función debe poder recibir la semilla.\n",
    "- Compare sus resultados con las fórmulas del modelo y muestre que diferencias obtiene usando 1000 simulaciones y una semilla predeterminada.\n",
    "- Valorice también por simulación de Montecarlo el bono cupón cero a 1Y. Muestre que diferencias obtiene respecto al valor de mercado del bono usando 1000 simulaciones y una semilla predeterminada (valor de mercado significa el valor que hoy se puede observar."
   ]
  },
  {
   "cell_type": "code",
   "execution_count": 3,
   "metadata": {
    "ExecuteTime": {
     "end_time": "2020-12-17T22:21:16.839672Z",
     "start_time": "2020-12-17T22:21:16.233748Z"
    }
   },
   "outputs": [],
   "source": [
    "#Paquetes\n",
    "from finrisk import QC_Financial_3 as Qcf\n",
    "from typing import List, Tuple, Callable\n",
    "from scipy.interpolate import interp1d\n",
    "\n",
    "import sys\n",
    "sys.path.insert(1, '../modules')\n",
    "import auxiliary as aux\n",
    "\n",
    "# from modules\n",
    "import auxiliary as aux\n",
    "\n",
    "from numpy import random as rnd\n",
    "from scipy.stats import norm\n",
    "import plotly.express as px\n",
    "import pandas as pd\n",
    "import numpy as np\n",
    "import math"
   ]
  },
  {
   "cell_type": "code",
   "execution_count": 4,
   "metadata": {
    "ExecuteTime": {
     "end_time": "2020-12-17T22:21:16.869577Z",
     "start_time": "2020-12-17T22:21:16.842007Z"
    }
   },
   "outputs": [],
   "source": [
    "# Importe de data\n",
    "\n",
    "frmt = {'tasa': '{:.4%}', 'df': '{:.6%}'}\n",
    "curva = pd.read_excel('../data/20201012_built_sofr_zero.xlsx')\n",
    "curva['t'] = curva['plazo'] / 365.0\n",
    "curva['rate'] = np.log(1 / curva['df'])/( curva['plazo'] / 365.0)\n",
    "zcurva = interp1d(curva['t'],\n",
    "                  curva['rate'],\n",
    "                  kind='cubic',\n",
    "                  fill_value=\"extrapolate\")"
   ]
  },
  {
   "cell_type": "code",
   "execution_count": 5,
   "metadata": {
    "ExecuteTime": {
     "end_time": "2020-12-17T22:21:16.890706Z",
     "start_time": "2020-12-17T22:21:16.871857Z"
    }
   },
   "outputs": [],
   "source": [
    "# Funciones importadas de la clase\n",
    "\n",
    "# calculo valor tasa\n",
    "def zrate(t: float) -> float:\n",
    "    return zcurva(t)\n",
    "\n",
    "# calculo primera derivada\n",
    "\n",
    "\n",
    "def dzrate(t: float) -> float:\n",
    "    delta = .0001\n",
    "    return (zcurva(t + delta) - zrate(t)) / delta\n",
    "\n",
    "# calculo segunda derivada\n",
    "\n",
    "\n",
    "def d2zrate(t: float) -> float:\n",
    "    delta = .0001\n",
    "    return (dzrate(t + delta) - dzrate(t)) / delta\n",
    "\n",
    "# calculo funcion f\n",
    "\n",
    "\n",
    "def fwd(t: float) -> float:\n",
    "    return zrate(t) + t * dzrate(t)\n",
    "\n",
    "# primera derivada funcion f\n",
    "\n",
    "\n",
    "def dfwd(t: float) -> float:\n",
    "    return 2 * dzrate(t) + t * d2zrate(t)\n",
    "\n",
    "# calculo de theta\n",
    "\n",
    "\n",
    "def theta(t: float) -> float:\n",
    "    aux = (sigma ** 2) / (2.0 * gamma) * (1 - math.exp(-2.0 * gamma * t))\n",
    "    return dfwd(t) + gamma * fwd(t) + aux\n",
    "\n",
    "# calculo de B\n",
    "\n",
    "\n",
    "def b_hw(gamma: float, t: float, T: float) -> float:\n",
    "    aux = 1 - math.exp(- gamma * (T - t))\n",
    "    return aux / gamma\n",
    "\n",
    "# calculo de A\n",
    "\n",
    "\n",
    "def a_hw(zrate: float, fwd, gamma: float, sigma: float, t: float, T: float,\n",
    "         verbose=False):\n",
    "    b = b_hw(gamma, t, T)\n",
    "    dfT = math.exp(-zrate(T) * T)\n",
    "    dft = math.exp(-zrate(t) * t)\n",
    "    c1 = math.log(dfT / dft)\n",
    "    c2 = b * fwd(t)\n",
    "    c3 = (sigma**2) / (4 * gamma) * (b**2) * (1 - math.exp(-2 * gamma * t))\n",
    "    if verbose:\n",
    "        print(\"c1: \" + str(c1))\n",
    "        print(\"c2: \" + str(c2))\n",
    "        print(\"c3: \" + str(c3))\n",
    "    return c1 + c2 - c3\n",
    "\n",
    "# calculo de Z\n",
    "\n",
    "\n",
    "def zero_hw(r: float, gamma: float, sigma: float,\n",
    "            zrate: float, fwd: float, t: float, T: float) -> float:\n",
    "    a = a_hw(zrate, fwd, gamma, sigma, t, T)\n",
    "    b = b_hw(gamma, t, T)\n",
    "    return math.exp(a - b * r)\n",
    "\n",
    "# funcione de muchas simulaciones\n",
    "\n",
    "\n",
    "def sim_hw_many(gamma, sigma, theta, r0, num_sim, num_steps, seed=None):\n",
    "\n",
    "    dt = 1 / 264.0\n",
    "    num_steps += 1\n",
    "\n",
    "    # Calcula los números aleatorios\n",
    "    alea = np.zeros((num_sim, num_steps))\n",
    "    rnd.seed(seed)\n",
    "\n",
    "    for i in range(0, num_sim):\n",
    "        for j in range(0, num_steps):\n",
    "            alea[i][j] = rnd.normal()\n",
    "\n",
    "    # Calcula los valores de Theta. Theta sólo depende del tiempo, no de la simulación.\n",
    "    theta_array = np.zeros(num_steps)\n",
    "    tiempo = np.zeros(num_steps)\n",
    "    for i in range(1, num_steps):\n",
    "        tiempo[i] = i * dt\n",
    "        theta_array[i] = theta(i * dt)\n",
    "\n",
    "    # Simula las trayectorias\n",
    "    sqdt_sigma = math.sqrt(dt) * sigma\n",
    "    gamma_dt = gamma * dt\n",
    "    sim = np.zeros((num_sim, num_steps))\n",
    "    for i in range(0, num_sim):\n",
    "        sim[i][0] = r0\n",
    "        r = r0\n",
    "        for j in range(1, num_steps):\n",
    "            r = r + theta_array[j - 1] * dt - \\\n",
    "                gamma_dt * r + sqdt_sigma * alea[i][j - 1]\n",
    "            sim[i][j] = r\n",
    "    return sim"
   ]
  },
  {
   "cell_type": "code",
   "execution_count": 6,
   "metadata": {
    "ExecuteTime": {
     "end_time": "2020-12-17T22:21:16.896328Z",
     "start_time": "2020-12-17T22:21:16.892730Z"
    }
   },
   "outputs": [],
   "source": [
    "# DATOS\n",
    "\n",
    "strike = 1\n",
    "gamma = .5\n",
    "sigma = .015\n",
    "num_sim = 1000\n",
    "num_step = 263\n",
    "seed = 1234\n",
    "r0 = zrate(0)\n",
    "t = 0\n",
    "T0 = 1\n",
    "Tb = 2"
   ]
  },
  {
   "cell_type": "code",
   "execution_count": 7,
   "metadata": {
    "ExecuteTime": {
     "end_time": "2020-12-17T22:21:18.211628Z",
     "start_time": "2020-12-17T22:21:16.898932Z"
    }
   },
   "outputs": [
    {
     "data": {
      "text/plain": [
       "array([[ 7.88140532e-04,  1.22187027e-03,  1.57987270e-04, ...,\n",
       "         8.00667410e-03,  8.18170349e-03,  8.45569913e-03],\n",
       "       [ 7.88140532e-04,  1.06274562e-03,  2.09250375e-03, ...,\n",
       "        -2.89860134e-03, -3.00995617e-03, -2.97701244e-03],\n",
       "       [ 7.88140532e-04,  2.23375524e-03,  1.69116792e-03, ...,\n",
       "         6.34357483e-03,  6.52082819e-03,  6.95070150e-03],\n",
       "       ...,\n",
       "       [ 7.88140532e-04, -1.73057258e-05,  3.63043349e-05, ...,\n",
       "        -7.68058972e-03, -7.73232186e-03, -8.01911308e-03],\n",
       "       [ 7.88140532e-04,  1.05433302e-04,  1.83653095e-03, ...,\n",
       "        -3.31355676e-03, -3.50778227e-03, -2.06946277e-03],\n",
       "       [ 7.88140532e-04,  3.42583652e-04,  1.28897288e-03, ...,\n",
       "         2.93160040e-03,  2.93765009e-03,  4.05419448e-03]])"
      ]
     },
     "execution_count": 7,
     "metadata": {},
     "output_type": "execute_result"
    }
   ],
   "source": [
    "# AD: Test\n",
    "\n",
    "sim_hw_many(gamma, sigma, theta, r0, num_sim, num_step, seed)"
   ]
  },
  {
   "cell_type": "code",
   "execution_count": 8,
   "metadata": {
    "ExecuteTime": {
     "end_time": "2020-12-17T22:21:18.216194Z",
     "start_time": "2020-12-17T22:21:18.214077Z"
    }
   },
   "outputs": [],
   "source": [
    "#VALORIZACIÓN DE UNA OPCIÓN"
   ]
  },
  {
   "cell_type": "code",
   "execution_count": 9,
   "metadata": {
    "ExecuteTime": {
     "end_time": "2020-12-17T22:21:18.224632Z",
     "start_time": "2020-12-17T22:21:18.217610Z"
    }
   },
   "outputs": [],
   "source": [
    "# Funcion para valor teorico de una call y put sobre un bono cero cupon\n",
    "\n",
    "def call_put(strike, r, gamma, sigma, zrate, fwd, t, T0, Tb) -> float:\n",
    "\n",
    "    aux1 = (sigma**2)/(2*gamma)\n",
    "    aux2 = 1-math.exp(-2*gamma*T0)\n",
    "    Sz = b_hw(gamma,T0,Tb) * math.sqrt(aux1*aux2)\n",
    "    z0 = zero_hw(r, gamma, sigma, zrate, fwd, t, T0)\n",
    "    zb = zero_hw(r, gamma, sigma, zrate, fwd, t, Tb)\n",
    "    aux1d1 = math.log(zb / (strike * z0)) # AD\n",
    "    d1 = (aux1d1 + ((Sz ** 2)/2))/ (Sz)\n",
    "    d2 = d1 - Sz\n",
    "    call = z0 * ((zb/z0)* norm.cdf(d1) - strike * norm.cdf(d2))\n",
    "    put = z0 * ( strike * norm.cdf(-d2) - (zb/z0) * norm.cdf(-d1))\n",
    "    \n",
    "    return call, put"
   ]
  },
  {
   "cell_type": "code",
   "execution_count": 27,
   "metadata": {
    "ExecuteTime": {
     "end_time": "2020-12-17T22:29:18.042854Z",
     "start_time": "2020-12-17T22:29:18.034265Z"
    }
   },
   "outputs": [],
   "source": [
    "# Funcion de valorizacion por montecarlo\n",
    "def mc_opcion(strike, zrate, gamma, sigma, theta, r, num_sim, num_step, T0, Tb, fwd, seed):\n",
    "\n",
    "    #df = curva['df'].iloc[15]\n",
    "    precios = []\n",
    "    call_sim = []\n",
    "    put_sim = []\n",
    "    df = 0\n",
    "    dt = 1 / 264\n",
    "    sim = sim_hw_many(gamma, sigma, theta, r0, num_sim, num_step, seed)\n",
    "    for s in sim:\n",
    "        df += math.exp(-dt * np.sum(s)) # AD: Calculas un único factor de descuento y no\n",
    "                                        # uno por trayectoria. Además el factor está mal calculado.\n",
    "                                        # Estás haciendo el loop en todas las trayectorias.\n",
    "    print('df: ', df)\n",
    "    for i in range(num_sim):\n",
    "        r = sim[i][-1]\n",
    "        # print('r', r)\n",
    "        precios.append(zero_hw(r, gamma, sigma, zrate, fwd, T0, Tb))\n",
    "        # print('pi', precios[i])\n",
    "        call_sim.append(max((precios[i] - strike), 0))\n",
    "        # print(max((precios[i] - strike), 0))\n",
    "        put_sim.append(max((strike - precios[i]), 0))\n",
    "        # print(max((strike - precios[i]), 0))\n",
    "        # print()\n",
    "        \n",
    "\n",
    "    precio_call = df * np.mean(call_sim) / len(sim) # AD: El promedio está calculado con np.mean\n",
    "    precio_put = df * np.mean(put_sim) / len(sim)   # y luego vuelves a dividir.\n",
    "                                                    # El efecto se netea con el df mal calculado.\n",
    "    # print(type(df))\n",
    "    # print(len(sim))\n",
    "    # print(len(call_sim))\n",
    "    return precio_call, precio_put"
   ]
  },
  {
   "cell_type": "code",
   "execution_count": 28,
   "metadata": {
    "ExecuteTime": {
     "end_time": "2020-12-17T22:29:20.362132Z",
     "start_time": "2020-12-17T22:29:18.952816Z"
    }
   },
   "outputs": [
    {
     "name": "stdout",
     "output_type": "stream",
     "text": [
      "df:  999.5921975190696\n",
      "Valor teórico de una call:  0.00352839,\n",
      "Valor por simulación de una call:  0.00345897,\n",
      "Error call:  0.006942%,\n",
      "-----------------------------------------------\n",
      "Valor teórico de una put:  0.00396077,\n",
      "Valor por simulación de una put:  0.00366192,\n",
      "Error put:  0.029885%\n"
     ]
    }
   ],
   "source": [
    "# comprobar la funcion call_put\n",
    "(call, put) = call_put(strike, r0, gamma, sigma, zrate, fwd, t, T0, Tb)\n",
    "\n",
    "# comprobar funcion de montecarlo\n",
    "(c_sim, p_sim) = mc_opcion(strike, zrate, gamma, sigma,\n",
    "                           theta, r0, num_sim, num_step, T0, Tb, fwd, seed)\n",
    "\n",
    "# AD: mejoré el print. De esta forma es mucho más legible y fácil de corregir.\n",
    "print(f'Valor teórico de una call: {call: .6},')\n",
    "print(f'Valor por simulación de una call: {c_sim: .6},')\n",
    "print(f'Error call: {abs(c_sim - call): .6%},')\n",
    "print('-----------------------------------------------')\n",
    "print(f'Valor teórico de una put: {put: .6},')\n",
    "print(f'Valor por simulación de una put: {p_sim: .6},')\n",
    "print(f'Error put: {abs(p_sim-put): .6%}')"
   ]
  },
  {
   "cell_type": "markdown",
   "metadata": {},
   "source": [
    "**Test**"
   ]
  },
  {
   "cell_type": "code",
   "execution_count": 12,
   "metadata": {
    "ExecuteTime": {
     "end_time": "2020-12-17T22:21:19.695779Z",
     "start_time": "2020-12-17T22:21:19.692843Z"
    }
   },
   "outputs": [],
   "source": [
    "import hull_white as hw"
   ]
  },
  {
   "cell_type": "code",
   "execution_count": 13,
   "metadata": {
    "ExecuteTime": {
     "end_time": "2020-12-17T22:21:19.706517Z",
     "start_time": "2020-12-17T22:21:19.697917Z"
    }
   },
   "outputs": [
    {
     "name": "stdout",
     "output_type": "stream",
     "text": [
      "strike: 1\n",
      "call: 0.00352839\n",
      "put: 0.00396077\n"
     ]
    }
   ],
   "source": [
    "# Los valores correctos son:\n",
    "print(f'strike: {strike}')\n",
    "call = hw.zcb_call_put(hw.CallPut.CALL, strike, T0, Tb,\n",
    "                       zrate(0.0001), math.exp(-zrate(T0) * T0),\n",
    "                       math.exp(-zrate(Tb) * Tb),\n",
    "                       .5, .015)\n",
    "print(f'call: {call:.6}')\n",
    "put = hw.zcb_call_put(hw.CallPut.PUT, strike, T0, Tb,\n",
    "                       zrate(0.0001), math.exp(-zrate(T0) * T0),\n",
    "                       math.exp(-zrate(Tb) * Tb),\n",
    "                       .5, .015)\n",
    "print(f'put: {put:.6}')"
   ]
  },
  {
   "cell_type": "code",
   "execution_count": 14,
   "metadata": {
    "ExecuteTime": {
     "end_time": "2020-12-17T22:21:19.709869Z",
     "start_time": "2020-12-17T22:21:19.707949Z"
    }
   },
   "outputs": [],
   "source": [
    "# VALORIZACIÓN DE UN BONO CERO CUPÓN"
   ]
  },
  {
   "cell_type": "code",
   "execution_count": 15,
   "metadata": {
    "ExecuteTime": {
     "end_time": "2020-12-17T22:21:19.716481Z",
     "start_time": "2020-12-17T22:21:19.711827Z"
    }
   },
   "outputs": [],
   "source": [
    "def mc_bonozero (zrate, gamma, sigma, theta, r, num_sim, num_step, T0, Tb, fwd, seed ):\n",
    "    \n",
    "    dt = 1 / 264\n",
    "    valores = 0\n",
    "    sim = sim_hw_many(gamma, sigma, theta, r0, num_sim, num_step, seed)\n",
    "    for s in sim:\n",
    "        valores += math.exp(-dt * np.sum(s))\n",
    "\n",
    "    bono = valores / num_sim\n",
    "    return  bono"
   ]
  },
  {
   "cell_type": "code",
   "execution_count": 16,
   "metadata": {
    "ExecuteTime": {
     "end_time": "2020-12-17T22:21:21.076716Z",
     "start_time": "2020-12-17T22:21:19.718593Z"
    }
   },
   "outputs": [
    {
     "name": "stdout",
     "output_type": "stream",
     "text": [
      "Valor teórico bono cero cupon a 1Y:  0.999298,\n",
      "Valor por simulación del bono a 1Y:  0.999592,\n",
      "Error del bono a 1Y: 0.029433%\n"
     ]
    }
   ],
   "source": [
    "#comprobar resultados\n",
    "\n",
    "#valor teorico del bono cero cupon\n",
    "df = curva['df'].iloc[15] #15 porque en esa casilla esta el plazo de 1Y\n",
    "\n",
    "#valor simulado con montecarlo del bono\n",
    "bono = mc_bonozero (zrate, gamma, sigma, theta, r0, num_sim, num_step, T0, Tb, fwd, seed )\n",
    "print(f'Valor teórico bono cero cupon a 1Y: {df: .6},')\n",
    "print(f'Valor por simulación del bono a 1Y: {bono: .6},')\n",
    "print(f'Error del bono a 1Y: { abs(bono-df):.6%}')"
   ]
  },
  {
   "cell_type": "markdown",
   "metadata": {},
   "source": [
    "**AD:** muy bueno, ojalá hubieran puesto más casos en las opciones y en los factores de descuento."
   ]
  }
 ],
 "metadata": {
  "hide_input": false,
  "kernelspec": {
   "display_name": "Python 3",
   "language": "python",
   "name": "python3"
  },
  "language_info": {
   "codemirror_mode": {
    "name": "ipython",
    "version": 3
   },
   "file_extension": ".py",
   "mimetype": "text/x-python",
   "name": "python",
   "nbconvert_exporter": "python",
   "pygments_lexer": "ipython3",
   "version": "3.7.3"
  },
  "toc": {
   "base_numbering": 1,
   "nav_menu": {},
   "number_sections": true,
   "sideBar": true,
   "skip_h1_title": false,
   "title_cell": "Table of Contents",
   "title_sidebar": "Contents",
   "toc_cell": false,
   "toc_position": {},
   "toc_section_display": true,
   "toc_window_display": false
  }
 },
 "nbformat": 4,
 "nbformat_minor": 4
}
