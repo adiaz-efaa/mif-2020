{
 "cells": [
  {
   "cell_type": "code",
   "execution_count": 1,
   "metadata": {
    "ExecuteTime": {
     "end_time": "2020-12-17T21:13:21.658851Z",
     "start_time": "2020-12-17T21:13:20.976263Z"
    }
   },
   "outputs": [
    {
     "data": {
      "text/html": [
       "<style  type=\"text/css\" >\n",
       "</style><table id=\"T_b1350bac_40ac_11eb_b2e6_02cba411ec9d\" ><thead>    <tr>        <th class=\"blank level0\" ></th>        <th class=\"col_heading level0 col0\" >plazo</th>        <th class=\"col_heading level0 col1\" >tasa</th>        <th class=\"col_heading level0 col2\" >df</th>    </tr></thead><tbody>\n",
       "                <tr>\n",
       "                        <th id=\"T_b1350bac_40ac_11eb_b2e6_02cba411ec9dlevel0_row0\" class=\"row_heading level0 row0\" >0</th>\n",
       "                        <td id=\"T_b1350bac_40ac_11eb_b2e6_02cba411ec9drow0_col0\" class=\"data row0 col0\" >1</td>\n",
       "                        <td id=\"T_b1350bac_40ac_11eb_b2e6_02cba411ec9drow0_col1\" class=\"data row0 col1\" >0.0811%</td>\n",
       "                        <td id=\"T_b1350bac_40ac_11eb_b2e6_02cba411ec9drow0_col2\" class=\"data row0 col2\" >99.999778%</td>\n",
       "            </tr>\n",
       "            <tr>\n",
       "                        <th id=\"T_b1350bac_40ac_11eb_b2e6_02cba411ec9dlevel0_row1\" class=\"row_heading level0 row1\" >1</th>\n",
       "                        <td id=\"T_b1350bac_40ac_11eb_b2e6_02cba411ec9drow1_col0\" class=\"data row1 col0\" >7</td>\n",
       "                        <td id=\"T_b1350bac_40ac_11eb_b2e6_02cba411ec9drow1_col1\" class=\"data row1 col1\" >0.0841%</td>\n",
       "                        <td id=\"T_b1350bac_40ac_11eb_b2e6_02cba411ec9drow1_col2\" class=\"data row1 col2\" >99.998388%</td>\n",
       "            </tr>\n",
       "            <tr>\n",
       "                        <th id=\"T_b1350bac_40ac_11eb_b2e6_02cba411ec9dlevel0_row2\" class=\"row_heading level0 row2\" >2</th>\n",
       "                        <td id=\"T_b1350bac_40ac_11eb_b2e6_02cba411ec9drow2_col0\" class=\"data row2 col0\" >14</td>\n",
       "                        <td id=\"T_b1350bac_40ac_11eb_b2e6_02cba411ec9drow2_col1\" class=\"data row2 col1\" >0.0780%</td>\n",
       "                        <td id=\"T_b1350bac_40ac_11eb_b2e6_02cba411ec9drow2_col2\" class=\"data row2 col2\" >99.997010%</td>\n",
       "            </tr>\n",
       "            <tr>\n",
       "                        <th id=\"T_b1350bac_40ac_11eb_b2e6_02cba411ec9dlevel0_row3\" class=\"row_heading level0 row3\" >3</th>\n",
       "                        <td id=\"T_b1350bac_40ac_11eb_b2e6_02cba411ec9drow3_col0\" class=\"data row3 col0\" >21</td>\n",
       "                        <td id=\"T_b1350bac_40ac_11eb_b2e6_02cba411ec9drow3_col1\" class=\"data row3 col1\" >0.0774%</td>\n",
       "                        <td id=\"T_b1350bac_40ac_11eb_b2e6_02cba411ec9drow3_col2\" class=\"data row3 col2\" >99.995549%</td>\n",
       "            </tr>\n",
       "            <tr>\n",
       "                        <th id=\"T_b1350bac_40ac_11eb_b2e6_02cba411ec9dlevel0_row4\" class=\"row_heading level0 row4\" >4</th>\n",
       "                        <td id=\"T_b1350bac_40ac_11eb_b2e6_02cba411ec9drow4_col0\" class=\"data row4 col0\" >33</td>\n",
       "                        <td id=\"T_b1350bac_40ac_11eb_b2e6_02cba411ec9drow4_col1\" class=\"data row4 col1\" >0.0781%</td>\n",
       "                        <td id=\"T_b1350bac_40ac_11eb_b2e6_02cba411ec9drow4_col2\" class=\"data row4 col2\" >99.992942%</td>\n",
       "            </tr>\n",
       "    </tbody></table>"
      ],
      "text/plain": [
       "<pandas.io.formats.style.Styler at 0x7f9bf5e7b400>"
      ]
     },
     "execution_count": 1,
     "metadata": {},
     "output_type": "execute_result"
    }
   ],
   "source": [
    "#get_ipython().magic('reset -sf')\n",
    "from finrisk import QC_Financial_3 as Qcf\n",
    "from typing import List, Tuple, Callable\n",
    "from scipy.interpolate import interp1d\n",
    "\n",
    "import sys\n",
    "sys.path.insert(1, '../modules')\n",
    "# from modules\n",
    "import auxiliary as aux\n",
    "\n",
    "from numpy import random as rnd\n",
    "import plotly.express as px\n",
    "import pandas as pd\n",
    "import numpy as np\n",
    "import math\n",
    "from scipy.stats import norm\n",
    "\n",
    "frmt = {'tasa': '{:.4%}', 'df': '{:.6%}'}\n",
    "\n",
    "curva = pd.read_excel('../data/20201012_built_sofr_zero.xlsx')\n",
    "\n",
    "curva.head().style.format(frmt)"
   ]
  },
  {
   "cell_type": "code",
   "execution_count": 2,
   "metadata": {
    "ExecuteTime": {
     "end_time": "2020-12-17T21:13:21.673965Z",
     "start_time": "2020-12-17T21:13:21.661283Z"
    }
   },
   "outputs": [
    {
     "data": {
      "text/html": [
       "<style  type=\"text/css\" >\n",
       "</style><table id=\"T_b1350bad_40ac_11eb_b2e6_02cba411ec9d\" ><thead>    <tr>        <th class=\"blank level0\" ></th>        <th class=\"col_heading level0 col0\" >plazo</th>        <th class=\"col_heading level0 col1\" >tasa</th>        <th class=\"col_heading level0 col2\" >df</th>        <th class=\"col_heading level0 col3\" >t</th>        <th class=\"col_heading level0 col4\" >rate</th>    </tr></thead><tbody>\n",
       "                <tr>\n",
       "                        <th id=\"T_b1350bad_40ac_11eb_b2e6_02cba411ec9dlevel0_row0\" class=\"row_heading level0 row0\" >0</th>\n",
       "                        <td id=\"T_b1350bad_40ac_11eb_b2e6_02cba411ec9drow0_col0\" class=\"data row0 col0\" >1</td>\n",
       "                        <td id=\"T_b1350bad_40ac_11eb_b2e6_02cba411ec9drow0_col1\" class=\"data row0 col1\" >0.0811%</td>\n",
       "                        <td id=\"T_b1350bad_40ac_11eb_b2e6_02cba411ec9drow0_col2\" class=\"data row0 col2\" >99.999778%</td>\n",
       "                        <td id=\"T_b1350bad_40ac_11eb_b2e6_02cba411ec9drow0_col3\" class=\"data row0 col3\" >0.002740</td>\n",
       "                        <td id=\"T_b1350bad_40ac_11eb_b2e6_02cba411ec9drow0_col4\" class=\"data row0 col4\" >0.000811</td>\n",
       "            </tr>\n",
       "            <tr>\n",
       "                        <th id=\"T_b1350bad_40ac_11eb_b2e6_02cba411ec9dlevel0_row1\" class=\"row_heading level0 row1\" >1</th>\n",
       "                        <td id=\"T_b1350bad_40ac_11eb_b2e6_02cba411ec9drow1_col0\" class=\"data row1 col0\" >7</td>\n",
       "                        <td id=\"T_b1350bad_40ac_11eb_b2e6_02cba411ec9drow1_col1\" class=\"data row1 col1\" >0.0841%</td>\n",
       "                        <td id=\"T_b1350bad_40ac_11eb_b2e6_02cba411ec9drow1_col2\" class=\"data row1 col2\" >99.998388%</td>\n",
       "                        <td id=\"T_b1350bad_40ac_11eb_b2e6_02cba411ec9drow1_col3\" class=\"data row1 col3\" >0.019178</td>\n",
       "                        <td id=\"T_b1350bad_40ac_11eb_b2e6_02cba411ec9drow1_col4\" class=\"data row1 col4\" >0.000841</td>\n",
       "            </tr>\n",
       "            <tr>\n",
       "                        <th id=\"T_b1350bad_40ac_11eb_b2e6_02cba411ec9dlevel0_row2\" class=\"row_heading level0 row2\" >2</th>\n",
       "                        <td id=\"T_b1350bad_40ac_11eb_b2e6_02cba411ec9drow2_col0\" class=\"data row2 col0\" >14</td>\n",
       "                        <td id=\"T_b1350bad_40ac_11eb_b2e6_02cba411ec9drow2_col1\" class=\"data row2 col1\" >0.0780%</td>\n",
       "                        <td id=\"T_b1350bad_40ac_11eb_b2e6_02cba411ec9drow2_col2\" class=\"data row2 col2\" >99.997010%</td>\n",
       "                        <td id=\"T_b1350bad_40ac_11eb_b2e6_02cba411ec9drow2_col3\" class=\"data row2 col3\" >0.038356</td>\n",
       "                        <td id=\"T_b1350bad_40ac_11eb_b2e6_02cba411ec9drow2_col4\" class=\"data row2 col4\" >0.000780</td>\n",
       "            </tr>\n",
       "            <tr>\n",
       "                        <th id=\"T_b1350bad_40ac_11eb_b2e6_02cba411ec9dlevel0_row3\" class=\"row_heading level0 row3\" >3</th>\n",
       "                        <td id=\"T_b1350bad_40ac_11eb_b2e6_02cba411ec9drow3_col0\" class=\"data row3 col0\" >21</td>\n",
       "                        <td id=\"T_b1350bad_40ac_11eb_b2e6_02cba411ec9drow3_col1\" class=\"data row3 col1\" >0.0774%</td>\n",
       "                        <td id=\"T_b1350bad_40ac_11eb_b2e6_02cba411ec9drow3_col2\" class=\"data row3 col2\" >99.995549%</td>\n",
       "                        <td id=\"T_b1350bad_40ac_11eb_b2e6_02cba411ec9drow3_col3\" class=\"data row3 col3\" >0.057534</td>\n",
       "                        <td id=\"T_b1350bad_40ac_11eb_b2e6_02cba411ec9drow3_col4\" class=\"data row3 col4\" >0.000774</td>\n",
       "            </tr>\n",
       "            <tr>\n",
       "                        <th id=\"T_b1350bad_40ac_11eb_b2e6_02cba411ec9dlevel0_row4\" class=\"row_heading level0 row4\" >4</th>\n",
       "                        <td id=\"T_b1350bad_40ac_11eb_b2e6_02cba411ec9drow4_col0\" class=\"data row4 col0\" >33</td>\n",
       "                        <td id=\"T_b1350bad_40ac_11eb_b2e6_02cba411ec9drow4_col1\" class=\"data row4 col1\" >0.0781%</td>\n",
       "                        <td id=\"T_b1350bad_40ac_11eb_b2e6_02cba411ec9drow4_col2\" class=\"data row4 col2\" >99.992942%</td>\n",
       "                        <td id=\"T_b1350bad_40ac_11eb_b2e6_02cba411ec9drow4_col3\" class=\"data row4 col3\" >0.090411</td>\n",
       "                        <td id=\"T_b1350bad_40ac_11eb_b2e6_02cba411ec9drow4_col4\" class=\"data row4 col4\" >0.000781</td>\n",
       "            </tr>\n",
       "    </tbody></table>"
      ],
      "text/plain": [
       "<pandas.io.formats.style.Styler at 0x7f9c1efc24a8>"
      ]
     },
     "execution_count": 2,
     "metadata": {},
     "output_type": "execute_result"
    }
   ],
   "source": [
    "curva['t'] = curva['plazo'] / 365\n",
    "curva['rate'] = np.log(1 / curva['df'])/(curva['plazo'] / 365)\n",
    "curva.head().style.format(frmt)"
   ]
  },
  {
   "cell_type": "code",
   "execution_count": 3,
   "metadata": {
    "ExecuteTime": {
     "end_time": "2020-12-17T21:13:21.681772Z",
     "start_time": "2020-12-17T21:13:21.675507Z"
    }
   },
   "outputs": [],
   "source": [
    "zcurva = interp1d (curva['t'],\n",
    "                  curva ['rate'],\n",
    "                  kind = 'cubic',\n",
    "                  fill_value=\"extrapolate\")\n",
    "def zrate (t):\n",
    "    return zcurva(t)\n",
    "def dzrate(t): \n",
    "    delta = .0001\n",
    "    return (zcurva(t + delta) - zrate(t)) / delta\n",
    "def d2zrate(t):\n",
    "    delta = .0001\n",
    "    return (dzrate(t + delta) - dzrate(t)) / delta\n",
    "def fwd(t) :\n",
    "    return zrate(t) + t*dzrate(t)\n",
    "def dfwd(t):\n",
    "    return 2 * dzrate(t) + t * d2zrate(t)"
   ]
  },
  {
   "cell_type": "code",
   "execution_count": 4,
   "metadata": {
    "ExecuteTime": {
     "end_time": "2020-12-17T21:13:21.688538Z",
     "start_time": "2020-12-17T21:13:21.683381Z"
    }
   },
   "outputs": [],
   "source": [
    "def b_hw(gamma, t, T):\n",
    "    aux = 1- math.exp(- gamma * (T - t))\n",
    "    return aux / gamma\n",
    "\n",
    "def a_hw(zrate, fwd, gamma, sigma, t, T,\n",
    "         verbose = False):\n",
    "    b = b_hw(gamma, t, T)\n",
    "    dfT = math.exp (-zrate(T) * T)\n",
    "    dft = math.exp (-zrate(t) * t)\n",
    "    c1 = math.log (dfT / dft)\n",
    "    c2 = b * fwd(t)\n",
    "    c3 = (sigma**2) / (4 * gamma) * (b**2) * (1 - math.exp(-2 * gamma * t))\n",
    "    return c1 + c2 - c3"
   ]
  },
  {
   "cell_type": "code",
   "execution_count": 5,
   "metadata": {
    "ExecuteTime": {
     "end_time": "2020-12-17T21:13:21.703560Z",
     "start_time": "2020-12-17T21:13:21.691478Z"
    }
   },
   "outputs": [],
   "source": [
    "def zero_hw(r, gamma, sigma,\n",
    "            zrate, fwd, t, T):\n",
    "    a = a_hw(zrate, fwd, gamma, sigma, t, T)\n",
    "    b = b_hw(gamma, t, T)\n",
    "    return math.exp(a - b * r)\n",
    "\n",
    "def theta(t):\n",
    "    aux = (sigma ** 2) / (2.0 * gamma) * (1 - math.exp(-2.0 * gamma * t))\n",
    "    return dfwd(t) + gamma * fwd(t) + aux\n",
    "\n",
    "def sim_hw_many(gamma, sigma, theta, r0, num_sim, num_steps, seed = None):\n",
    "\n",
    "    dt = 1 / 264.0\n",
    "    num_steps += 1\n",
    "    \n",
    "    alea = np.zeros((num_sim, num_steps))\n",
    "    rnd.seed(seed)\n",
    "\n",
    "    for i in range(0, num_sim):\n",
    "        for j in range(0, num_steps):\n",
    "            alea[i][j] = rnd.normal()\n",
    "            \n",
    "    theta_array = np.zeros(num_steps)\n",
    "    tiempo = np.zeros(num_steps)\n",
    "    for i in range(1, num_steps):\n",
    "        tiempo[i] = i * dt\n",
    "        theta_array[i] = theta(i * dt)\n",
    "    \n",
    "    sqdt_sigma = math.sqrt(dt) * sigma\n",
    "    gamma_dt = gamma * dt\n",
    "    sim = np.zeros((num_sim, num_steps))\n",
    "    for i in range(0, num_sim):\n",
    "        sim[i][0] = r0\n",
    "        r = r0\n",
    "        for j in range(1, num_steps):\n",
    "            r = r + theta_array[j - 1] * dt - gamma_dt * r + sqdt_sigma * alea[i][j - 1]\n",
    "            sim[i][j] = r\n",
    "    return  sim"
   ]
  },
  {
   "cell_type": "code",
   "execution_count": 6,
   "metadata": {
    "ExecuteTime": {
     "end_time": "2020-12-17T21:13:21.712455Z",
     "start_time": "2020-12-17T21:13:21.705619Z"
    }
   },
   "outputs": [],
   "source": [
    "def Call_Put(r, t, T0, TB, K, gamma, epsilon, sigma):\n",
    "    b = b_hw(gamma, T0, TB)\n",
    "    Sz = b * math.sqrt(((sigma**2)/(2*gamma))*(1-math.exp(-2*gamma*T0)))\n",
    "    Z0 = zero_hw(r, gamma, sigma, zrate, fwd, t, T0)\n",
    "    ZB = zero_hw(r, gamma, sigma, zrate, fwd, t, TB)\n",
    "    c1 = math.log (ZB / (K*Z0))\n",
    "    d1 = (c1 + 0.5 * (Sz**2)) / math.sqrt(Sz) # AD: tiene el error de la fórmula que se corrigió en clase.\n",
    "    d2 = d1 - Sz\n",
    "    Div = ZB / Z0\n",
    "    Norm1 = norm.cdf(epsilon * d1)\n",
    "    Norm2 = norm.cdf(epsilon * d2)\n",
    "    Call_Put = Z0*(epsilon*(Div * Norm1 - K*Norm2))\n",
    "    return Call_Put\n",
    "\n",
    "#Depende de lo que se quiera, si se quiere una call se utiliza epsilon = 1 y si se quiere una put, un epsilon = -1."
   ]
  },
  {
   "cell_type": "code",
   "execution_count": 7,
   "metadata": {
    "ExecuteTime": {
     "end_time": "2020-12-17T21:13:21.720289Z",
     "start_time": "2020-12-17T21:13:21.714266Z"
    }
   },
   "outputs": [],
   "source": [
    "def Opcion_Monte_Carlo (epsilon, K, zrate, gamma, sigma, theta, r0, num_sim, num_step, T0, TB, fwd, seed ):\n",
    "    df = curva['df'].iloc[15]\n",
    "    precios = []\n",
    "    CallPut_sim = []\n",
    "    sim = sim_hw_many(gamma, sigma, theta, r0, num_sim, num_step, seed)\n",
    "    for i in range (num_sim):\n",
    "        r = sim[i][-1]\n",
    "        precios.append(zero_hw(r, gamma, sigma, zrate, fwd, T0, TB))  \n",
    "        CallPut_sim.append(max((epsilon*(precios[i] - K)),0))\n",
    "    precio_CallPut = df * np.mean(CallPut_sim)   \n",
    "    return precio_CallPut"
   ]
  },
  {
   "cell_type": "code",
   "execution_count": 8,
   "metadata": {
    "ExecuteTime": {
     "end_time": "2020-12-17T21:13:24.321080Z",
     "start_time": "2020-12-17T21:13:21.722251Z"
    }
   },
   "outputs": [],
   "source": [
    "K = 1.01\n",
    "epsilon = 1\n",
    "gamma = .5\n",
    "sigma = .015\n",
    "num_sim = 2000\n",
    "num_step = 254\n",
    "seed = 2\n",
    "r0 = zrate(0)\n",
    "t=0\n",
    "T0 = 1\n",
    "TB = 2\n",
    "Teorico_Call_Put = Call_Put(r0, t, T0, TB, K, gamma, epsilon, sigma)\n",
    "Monte_Carlo_CallPut = Opcion_Monte_Carlo (epsilon, K, zrate, gamma, sigma, theta, r0, num_sim, num_step, T0, TB, fwd, seed )"
   ]
  },
  {
   "cell_type": "markdown",
   "metadata": {},
   "source": [
    "**AD:** para este strike da valores negativos."
   ]
  },
  {
   "cell_type": "code",
   "execution_count": 9,
   "metadata": {
    "ExecuteTime": {
     "end_time": "2020-12-17T21:13:24.326100Z",
     "start_time": "2020-12-17T21:13:24.322630Z"
    }
   },
   "outputs": [
    {
     "name": "stdout",
     "output_type": "stream",
     "text": [
      "Valor teórico de una call: -0.0010142, \n",
      " Valor por simulación de una call:  0.000636566, \n",
      " Error call:  0.00165076\n"
     ]
    }
   ],
   "source": [
    "#Ya que se uso un valor de epsilon = 1, se mostrara el error de una call\n",
    "print (f'Valor teórico de una call: {Teorico_Call_Put: .6}, \\n Valor por simulación de una call: {Monte_Carlo_CallPut: .6}, \\n Error call: {abs(Monte_Carlo_CallPut - Teorico_Call_Put): .6}')"
   ]
  },
  {
   "cell_type": "code",
   "execution_count": 10,
   "metadata": {
    "ExecuteTime": {
     "end_time": "2020-12-17T21:13:26.692074Z",
     "start_time": "2020-12-17T21:13:24.327867Z"
    }
   },
   "outputs": [],
   "source": [
    "def Bono_0_Cupon_Monte_Carlo (zrate, gamma, sigma, theta, r, num_sim, num_step, T0, TB, fwd, seed ):\n",
    "    values = 0\n",
    "    sim = sim_hw_many(gamma, sigma, theta, r0, num_sim, num_step, seed)\n",
    "    dt = 1 / 264.0\n",
    "    for i in sim:\n",
    "        values += math.exp(-dt * np.sum(i))\n",
    "        bono = values / num_sim\n",
    "    return bono\n",
    "\n",
    "Teorico_Bono = curva['df'].iloc[15]\n",
    "Montecarlo_Bono = Bono_0_Cupon_Monte_Carlo (zrate, gamma, sigma, theta, r0, num_sim, num_step, T0, TB, fwd, seed )"
   ]
  },
  {
   "cell_type": "code",
   "execution_count": 11,
   "metadata": {
    "ExecuteTime": {
     "end_time": "2020-12-17T21:13:26.697624Z",
     "start_time": "2020-12-17T21:13:26.693778Z"
    }
   },
   "outputs": [
    {
     "name": "stdout",
     "output_type": "stream",
     "text": [
      " Valor teórico bono cero cupon a 1Y:  0.999298, \n",
      " Valor por simulación del bono a 1Y:  0.999379, \n",
      " Error del bono a 1Y:  8.12949e-05\n"
     ]
    }
   ],
   "source": [
    "print(f' Valor teórico bono cero cupon a 1Y: {Teorico_Bono: .6}, \\n Valor por simulación del bono a 1Y: {Montecarlo_Bono: .6}, \\n Error del bono a 1Y: { abs(Montecarlo_Bono-Teorico_Bono): .6}')"
   ]
  },
  {
   "cell_type": "markdown",
   "metadata": {},
   "source": [
    "**AD:** la fórmula analítica está mal. No se analiza la Put. No hay explicaciones."
   ]
  }
 ],
 "metadata": {
  "hide_input": false,
  "kernelspec": {
   "display_name": "Python 3",
   "language": "python",
   "name": "python3"
  },
  "language_info": {
   "codemirror_mode": {
    "name": "ipython",
    "version": 3
   },
   "file_extension": ".py",
   "mimetype": "text/x-python",
   "name": "python",
   "nbconvert_exporter": "python",
   "pygments_lexer": "ipython3",
   "version": "3.7.3"
  },
  "toc": {
   "base_numbering": 1,
   "nav_menu": {},
   "number_sections": true,
   "sideBar": true,
   "skip_h1_title": false,
   "title_cell": "Table of Contents",
   "title_sidebar": "Contents",
   "toc_cell": false,
   "toc_position": {},
   "toc_section_display": true,
   "toc_window_display": false
  }
 },
 "nbformat": 4,
 "nbformat_minor": 4
}
