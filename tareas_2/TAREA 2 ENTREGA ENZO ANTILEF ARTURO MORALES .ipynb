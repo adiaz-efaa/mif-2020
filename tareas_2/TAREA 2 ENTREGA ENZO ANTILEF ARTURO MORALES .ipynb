{
 "cells": [
  {
   "cell_type": "markdown",
   "metadata": {},
   "source": [
    "# Pedía a Gritos un Título"
   ]
  },
  {
   "cell_type": "code",
   "execution_count": 1,
   "metadata": {
    "ExecuteTime": {
     "end_time": "2020-12-17T21:34:35.091771Z",
     "start_time": "2020-12-17T21:34:34.466698Z"
    }
   },
   "outputs": [],
   "source": [
    "from finrisk import QC_Financial_3 as Qcf\n",
    "from typing import List, Tuple, Callable\n",
    "from scipy.interpolate import interp1d\n",
    "\n",
    "import sys\n",
    "sys.path.insert(1, '../modules')\n",
    "import auxiliary as aux\n",
    "\n",
    "#from modules\n",
    "import auxiliary as aux\n",
    "\n",
    "from numpy import random as rnd\n",
    "import plotly.express as px\n",
    "import pandas as pd\n",
    "from scipy.stats import norm\n",
    "import numpy as np\n",
    "import math"
   ]
  },
  {
   "cell_type": "code",
   "execution_count": 2,
   "metadata": {
    "ExecuteTime": {
     "end_time": "2020-12-17T21:34:35.131087Z",
     "start_time": "2020-12-17T21:34:35.093846Z"
    }
   },
   "outputs": [
    {
     "data": {
      "text/html": [
       "<div>\n",
       "<style scoped>\n",
       "    .dataframe tbody tr th:only-of-type {\n",
       "        vertical-align: middle;\n",
       "    }\n",
       "\n",
       "    .dataframe tbody tr th {\n",
       "        vertical-align: top;\n",
       "    }\n",
       "\n",
       "    .dataframe thead th {\n",
       "        text-align: right;\n",
       "    }\n",
       "</style>\n",
       "<table border=\"1\" class=\"dataframe\">\n",
       "  <thead>\n",
       "    <tr style=\"text-align: right;\">\n",
       "      <th></th>\n",
       "      <th>plazo</th>\n",
       "      <th>tasa</th>\n",
       "      <th>df</th>\n",
       "      <th>t</th>\n",
       "      <th>log_df</th>\n",
       "    </tr>\n",
       "  </thead>\n",
       "  <tbody>\n",
       "    <tr>\n",
       "      <th>0</th>\n",
       "      <td>1</td>\n",
       "      <td>0.000811</td>\n",
       "      <td>0.999998</td>\n",
       "      <td>0.002740</td>\n",
       "      <td>-0.000002</td>\n",
       "    </tr>\n",
       "    <tr>\n",
       "      <th>1</th>\n",
       "      <td>7</td>\n",
       "      <td>0.000841</td>\n",
       "      <td>0.999984</td>\n",
       "      <td>0.019178</td>\n",
       "      <td>-0.000016</td>\n",
       "    </tr>\n",
       "    <tr>\n",
       "      <th>2</th>\n",
       "      <td>14</td>\n",
       "      <td>0.000780</td>\n",
       "      <td>0.999970</td>\n",
       "      <td>0.038356</td>\n",
       "      <td>-0.000030</td>\n",
       "    </tr>\n",
       "    <tr>\n",
       "      <th>3</th>\n",
       "      <td>21</td>\n",
       "      <td>0.000774</td>\n",
       "      <td>0.999955</td>\n",
       "      <td>0.057534</td>\n",
       "      <td>-0.000045</td>\n",
       "    </tr>\n",
       "    <tr>\n",
       "      <th>4</th>\n",
       "      <td>33</td>\n",
       "      <td>0.000781</td>\n",
       "      <td>0.999929</td>\n",
       "      <td>0.090411</td>\n",
       "      <td>-0.000071</td>\n",
       "    </tr>\n",
       "  </tbody>\n",
       "</table>\n",
       "</div>"
      ],
      "text/plain": [
       "   plazo      tasa        df         t    log_df\n",
       "0      1  0.000811  0.999998  0.002740 -0.000002\n",
       "1      7  0.000841  0.999984  0.019178 -0.000016\n",
       "2     14  0.000780  0.999970  0.038356 -0.000030\n",
       "3     21  0.000774  0.999955  0.057534 -0.000045\n",
       "4     33  0.000781  0.999929  0.090411 -0.000071"
      ]
     },
     "execution_count": 2,
     "metadata": {},
     "output_type": "execute_result"
    }
   ],
   "source": [
    "curva = pd.read_excel('../data/20201012_built_sofr_zero.xlsx')\n",
    "curva.head()#.style.format(frmt)\n",
    "curva['t'] = curva['plazo'] / 365.0\n",
    "curva['log_df'] = np.log(curva['df'])\n",
    "curva.head()"
   ]
  },
  {
   "cell_type": "code",
   "execution_count": 3,
   "metadata": {
    "ExecuteTime": {
     "end_time": "2020-12-17T21:34:35.300336Z",
     "start_time": "2020-12-17T21:34:35.132964Z"
    }
   },
   "outputs": [],
   "source": [
    "zcurva = interp1d(curva['t'],\n",
    "                  curva['tasa'],\n",
    "                  kind='cubic',\n",
    "                  fill_value=\"extrapolate\")\n",
    "steps_per_year = 365\n",
    "years = 20\n",
    "dt = 1 / steps_per_year\n",
    "result = []\n",
    "for i in range(0, steps_per_year * years):\n",
    "    result.append((i * dt, zcurva(i * dt)))\n",
    "df_result = pd.DataFrame(result, columns=['plazo', 'tasa'])"
   ]
  },
  {
   "cell_type": "markdown",
   "metadata": {},
   "source": [
    "**AD:** primeras celdas sin comentarios."
   ]
  },
  {
   "cell_type": "code",
   "execution_count": 4,
   "metadata": {
    "ExecuteTime": {
     "end_time": "2020-12-17T21:34:35.329267Z",
     "start_time": "2020-12-17T21:34:35.302122Z"
    }
   },
   "outputs": [],
   "source": [
    "# FUNCIONES CON ELEMENTOS PARA FÓRMULA CERRADA Y SIMULACIONES DE MONTECARLO\n",
    "\n",
    "def zrate(t):\n",
    "    return zcurva(t)\n",
    "\n",
    "\n",
    "def dzrate(t):\n",
    "    delta = .0001\n",
    "    return (zrate(t + delta) - zrate(t)) / delta\n",
    "\n",
    "\n",
    "def d2zrate(t):\n",
    "    delta = .0001\n",
    "    return (dzrate(t + delta) - dzrate(t)) / delta\n",
    "\n",
    "\n",
    "def fwd(t):\n",
    "    return zrate(t) + dzrate(t)*t\n",
    "\n",
    "\n",
    "def dfwd(t):\n",
    "    return 2*dzrate(t) + d2zrate(t)*t\n",
    "\n",
    "\n",
    "def bhw(gamma, t, T):\n",
    "\n",
    "    aux = 1 - math.exp(-gamma*(T-t))\n",
    "    B = aux/gamma\n",
    "    return B\n",
    "\n",
    "\n",
    "def ahw(gamma, sigma, t, T):\n",
    "    b = bhw(gamma, t, T)\n",
    "    dfT = math.exp(-zrate(T)*T)\n",
    "    dft = math.exp(-zrate(t)*t)\n",
    "    c1 = math.log(dfT/dft)\n",
    "    c2 = b*fwd(t)\n",
    "    c3 = (sigma**2) / (4*gamma)*(b**2)*(1-math.exp(-2*gamma*t))\n",
    "    A = c1 + c2 - c3\n",
    "    return A\n",
    "\n",
    "\n",
    "# No usaremos la medida forward, por lo que el theta no presenta el uso del valor \"B\"\n",
    "def theta(t, gamma, sigma):\n",
    "    aux = (sigma ** 2) / (2.0 * gamma) * (1 - math.exp(-2.0 * gamma * t))\n",
    "    return dfwd(t) + gamma * fwd(t) + aux\n",
    "\n",
    "\n",
    "def Sz(gamma, sigma, TO, TB):\n",
    "\n",
    "    B = bhw(gamma, TO, TB)\n",
    "    z = 1-math.exp(-2*gamma*TO)\n",
    "    x = (sigma**2)/(2*gamma)\n",
    "    w = B*math.sqrt(x*z)\n",
    "    return w\n",
    "\n",
    "\n",
    "def zero_hw(r, gamma, sigma, t, T):\n",
    "    a = ahw(gamma, sigma, t, T)\n",
    "    b = bhw(gamma, t, T)\n",
    "    u = math.exp(a-b*r)\n",
    "    return u\n",
    "\n",
    "\n",
    "def d1(r, gamma, sigma, t, TO, TB, Strike):\n",
    "    Z_TB = zero_hw(r, gamma, sigma, t, TB)\n",
    "    Z_TO = zero_hw(r, gamma, sigma, t, TO)\n",
    "    Sz_1 = Sz(gamma, sigma, TO, TB)\n",
    "    x = (math.log(Z_TB/Strike*Z_TO)+0.5*(Sz_1**2))/Sz_1\n",
    "    return x\n",
    "\n",
    "\n",
    "def d2(r, gamma, sigma, t, TO, TB, Strike):\n",
    "    c = d1(r, gamma, sigma, t, TO, TB, Strike)-Sz(gamma, sigma, TO, TB)\n",
    "    return c\n",
    "\n",
    "\n",
    "# Los d1 y d2 son iguales. No es necesario que estén dentro del loop.\n",
    "def precio(r, gamma, sigma, t, TO, TB, Strike, posicion):\n",
    "    if posicion == \"call\":\n",
    "        Z_TO = zero_hw(r, gamma, sigma, t, TO)\n",
    "        Z_TB = zero_hw(r, gamma, sigma, t, TB)\n",
    "        d_11 = d1(r, gamma, sigma, t, TO, TB, Strike)\n",
    "        d_22 = d2(r, gamma, sigma, t, TO, TB, Strike)\n",
    "        price = Z_TO*((Z_TB/Z_TO)*norm.cdf(d_11)-Strike*norm.cdf(d_22))\n",
    "        return price\n",
    "    if posicion == \"put\":\n",
    "        Z_TO = zero_hw(r, gamma, sigma, t, TO)\n",
    "        Z_TB = zero_hw(r, gamma, sigma, t, TB)\n",
    "        d_1 = d1(r, gamma, sigma, t, TO, TB, Strike)\n",
    "        d_2 = d2(r, gamma, sigma, t, TO, TB, Strike)\n",
    "        price = Z_TO*(Strike*norm.cdf(-d_2)-(Z_TB/Z_TO)*norm.cdf(-d_1))\n",
    "        return price\n",
    "\n",
    "\n",
    "def sim_hw_many(gamma, sigma, r0, num_sim, num_steps, seed):\n",
    "\n",
    "    dt = 1 / 264.0\n",
    "    num_steps += 1\n",
    "\n",
    "    alea = np.zeros((num_sim, num_steps))\n",
    "    rnd.seed(seed)\n",
    "\n",
    "    for i in range(0, num_sim):\n",
    "        for j in range(0, num_steps):\n",
    "            alea[i][j] = rnd.normal()\n",
    "\n",
    "    theta_array = np.zeros(num_steps)\n",
    "    tiempo = np.zeros(num_steps)\n",
    "    for i in range(1, num_steps):\n",
    "        tiempo[i] = i * dt\n",
    "        theta_array[i] = theta(i*dt, gamma, sigma)\n",
    "\n",
    "    sqdt_sigma = math.sqrt(dt) * sigma\n",
    "    gamma_dt = gamma * dt\n",
    "    sim = np.zeros((num_sim, num_steps))\n",
    "    for i in range(0, num_sim):\n",
    "        sim[i][0] = r0\n",
    "        r = r0\n",
    "        for j in range(1, num_steps):\n",
    "            r = r + theta_array[j - 1] * dt - \\\n",
    "                gamma_dt * r + sqdt_sigma * alea[i][j - 1]\n",
    "            sim[i][j] = r\n",
    "    return sim\n",
    "\n",
    "\n",
    "# ingresamos la funcion zero_hw dentro de precios\n",
    "def simulaciones_precios(gamma, sigma, t, T, r0, r, num_sim, num_steps, seed):\n",
    "    precios_matriz = []\n",
    "    r_matriz = []\n",
    "    g = sim_hw_many(gamma, sigma, r0, num_sim, num_steps, seed)\n",
    "    for i in range(num_sim):\n",
    "        r = g[i][-1]\n",
    "        r_matriz.append(r)\n",
    "        precios_matriz.append(zero_hw(r, gamma, sigma, t, T))\n",
    "    return precios_matriz, r_matriz"
   ]
  },
  {
   "cell_type": "code",
   "execution_count": 5,
   "metadata": {
    "ExecuteTime": {
     "end_time": "2020-12-17T21:34:46.981652Z",
     "start_time": "2020-12-17T21:34:35.331456Z"
    }
   },
   "outputs": [
    {
     "name": "stdout",
     "output_type": "stream",
     "text": [
      " Precio opción Call con Strike = 1, simulación de montecarlo :  0.003482213857038766\n",
      " Precio opción Call con Strike = 1, fórmulas cerradas de Hull-White:  0.0034869542306079425\n",
      " Precio opción Put con Strike = 1, simulación de montecarlo: 0.0036379059587726493\n",
      " Precio opción Put con Strike = 1, fórmulas cerradas de Hull-White: 0.0039193358072319925\n"
     ]
    }
   ],
   "source": [
    "# FUNCIÓN QUE CALCULA PRECIO DE UNA OPCIÓN MEDIANTE SIMULACION DE MONTECARLO\n",
    "\n",
    "# definición de parámetros\n",
    "gamma = 0.5\n",
    "sigma = 0.015\n",
    "t = 0\n",
    "T_opcion = 1  # Expiración opción = 1\n",
    "T_bono = 2  # Expiración bono = 2\n",
    "num_simulaciones = 1000\n",
    "# Al no usar medida forward, es necesario calcular los factores de dscto a 263 pasos.\n",
    "num_steps = 263\n",
    "strike = 1\n",
    "r_0 = zcurva(0)\n",
    "semilla = 1234\n",
    "\n",
    "\n",
    "# Función de Simulación de MC para precios de opciones\n",
    "\n",
    "# IMPORTANTE MENCIONAR QUE AL NO UTILIZAR MEDIDA FORWARD, DESCONTAMOS LOS PAYOFF A VALOR PRESENTE CON EL FACTOR DE\n",
    "# DESCUENTO SIMULADO A 263 PASOS. PARA ESTO FUIMOS MULTIPLICANDO TODOS LOS FACTORES POR CADA SIMULACIÓN, PARA LUEGO\n",
    "# APLICAR EL RESULTADO DE DICHA MULTIPLICACIÓN A CADA PAYOFF SIMULADO Y LUEGO CALCULAR LOS PROMEDIOS.\n",
    "\n",
    "def Precio_MC(gamma, sigma, t, T, r, r0, num_sim, num_steps, seed, opcion, strike):\n",
    "\n",
    "    # precios y tasas bajo la misma simulación\n",
    "    precios_sim, tasas = simulaciones_precios(\n",
    "        gamma, sigma, t, T, r, r0, num_sim, num_steps, seed)\n",
    "    dfs = sim_hw_many(gamma, sigma, r0, num_sim, num_steps, seed)\n",
    "    dt = 1/num_steps\n",
    "    df = 0\n",
    "\n",
    "    if opcion == \"call\":\n",
    "        payoff_cal = []\n",
    "        for i in range(len(precios_sim)):\n",
    "            factores = []\n",
    "            for j in range(len(dfs[1, :])):\n",
    "                factores.append(math.exp(dfs[i, j] * (-dt)))\n",
    "                df_sim = np.prod(factores)\n",
    "            payoff_cal.append(max(precios_sim[i]-strike, 0) * df_sim)\n",
    "        precio_opc = np.mean(payoff_cal)\n",
    "\n",
    "    if opcion == \"put\":\n",
    "        payoff_cal_1 = []\n",
    "        for i in range(len(precios_sim)):\n",
    "            factores_1 = []\n",
    "            for j in range(len(dfs[1, :])):\n",
    "                factores_1.append(math.exp(dfs[i, j] * (-dt)))\n",
    "                df_sim_1 = np.prod(factores_1)\n",
    "            payoff_cal_1.append(max(strike-precios_sim[i], 0) * df_sim_1)\n",
    "        precio_opc = np.mean(payoff_cal_1)\n",
    "    return precio_opc\n",
    "\n",
    "\n",
    "# Aplicación de la función con los parámetros escogidos.\n",
    "\n",
    "call_MC = Precio_MC(gamma, sigma, T_opcion, T_bono, r_0, r_0,\n",
    "                    num_simulaciones, num_steps, semilla, \"call\", strike)\n",
    "call_formula = precio(r_0, gamma, sigma, t, T_opcion, T_bono, strike, \"call\")\n",
    "\n",
    "\n",
    "put_MC = Precio_MC(gamma, sigma, T_opcion, T_bono, r_0, r_0,\n",
    "                   num_simulaciones, num_steps, semilla, \"put\", strike)\n",
    "put_formula = precio(r_0, gamma, sigma, t, T_opcion, T_bono, strike, \"put\")\n",
    "\n",
    "\n",
    "print(\n",
    "    f' Precio opción Call con Strike = 1, simulación de montecarlo :  {call_MC}')\n",
    "print(\n",
    "    f' Precio opción Call con Strike = 1, fórmulas cerradas de Hull-White:  {call_formula}')\n",
    "print(f' Precio opción Put con Strike = 1, simulación de montecarlo: {put_MC}')\n",
    "print(\n",
    "    f' Precio opción Put con Strike = 1, fórmulas cerradas de Hull-White: {put_formula}')"
   ]
  },
  {
   "cell_type": "markdown",
   "metadata": {},
   "source": [
    "**Test**"
   ]
  },
  {
   "cell_type": "code",
   "execution_count": 6,
   "metadata": {
    "ExecuteTime": {
     "end_time": "2020-12-17T21:34:46.988166Z",
     "start_time": "2020-12-17T21:34:46.984064Z"
    }
   },
   "outputs": [],
   "source": [
    "import hull_white as hw"
   ]
  },
  {
   "cell_type": "code",
   "execution_count": 7,
   "metadata": {
    "ExecuteTime": {
     "end_time": "2020-12-17T21:34:46.997150Z",
     "start_time": "2020-12-17T21:34:46.990539Z"
    }
   },
   "outputs": [
    {
     "name": "stdout",
     "output_type": "stream",
     "text": [
      "1 0.0035283883401179272\n"
     ]
    }
   ],
   "source": [
    "ad_call = hw.zcb_call_put(\n",
    "    hw.CallPut.CALL,\n",
    "    strike=strike,\n",
    "    to=T_opcion,\n",
    "    tb=T_bono,\n",
    "    r0=r_0,\n",
    "    zo=math.exp(-zcurva(T_opcion) * T_opcion),\n",
    "    zb=math.exp(-zcurva(T_bono) * T_bono),\n",
    "    gamma=gamma,\n",
    "    sigma=sigma)\n",
    "print(strike, ad_call)"
   ]
  },
  {
   "cell_type": "code",
   "execution_count": 8,
   "metadata": {
    "ExecuteTime": {
     "end_time": "2020-12-17T21:34:47.005044Z",
     "start_time": "2020-12-17T21:34:46.999380Z"
    }
   },
   "outputs": [
    {
     "name": "stdout",
     "output_type": "stream",
     "text": [
      "1 0.003960769916741769\n"
     ]
    }
   ],
   "source": [
    "ad_put = hw.zcb_call_put(\n",
    "    hw.CallPut.PUT,\n",
    "    strike=strike,\n",
    "    to=T_opcion,\n",
    "    tb=T_bono,\n",
    "    r0=r_0,\n",
    "    zo=math.exp(-zrate(T_opcion) * T_opcion),\n",
    "    zb=math.exp(-zrate(T_bono) * T_bono),\n",
    "    gamma=gamma,\n",
    "    sigma=sigma)\n",
    "print(strike, ad_put)"
   ]
  },
  {
   "cell_type": "markdown",
   "metadata": {},
   "source": [
    "**AD:** Muy claro el proceso. Hicieron una función. Ojalá hubieran testeado más strikes y/o plazos del bono cupón cero."
   ]
  },
  {
   "cell_type": "code",
   "execution_count": 9,
   "metadata": {
    "ExecuteTime": {
     "end_time": "2020-12-17T21:34:48.341469Z",
     "start_time": "2020-12-17T21:34:47.007505Z"
    }
   },
   "outputs": [
    {
     "name": "stdout",
     "output_type": "stream",
     "text": [
      "Precio bono cero cupón a 1Y con simulación de Montecarlo: 0.9995669785453031\n",
      "Precio bono cero cupón a 1Y de mercado: 0.9992978688293875\n",
      "Error de la estimación en porcentaje : 0.0269%\n"
     ]
    }
   ],
   "source": [
    "## CÁLCULO PRECIO DE UN BONO A 1Y\n",
    "\n",
    "\n",
    "r=zcurva(1/264) #Tasa instantánea del primer paso desde el que comenzamos a simular.\n",
    "\n",
    "# Función que estima precio de bono mediante MC.\n",
    "def Bono_MC(gamma,sigma,r,num_sim,num_steps,seed):\n",
    "    df = 0\n",
    "    dt = 1/num_steps\n",
    "    s = sim_hw_many(gamma,sigma,r,num_sim,num_steps,seed)\n",
    "    \n",
    "    for sim in s:\n",
    "        df += math.exp(-dt * np.sum(sim))\n",
    "    \n",
    "    ez = df / num_sim\n",
    "    return ez\n",
    "\n",
    "\n",
    "simul_bono = Bono_MC(gamma,sigma,r,num_simulaciones,num_steps,semilla)\n",
    "precio_mercado = curva['df'].iloc[15] #.iloc 15 se refiere al factor de descuento empírico a 1 año.\n",
    "error_estimacion = (simul_bono-precio_mercado)/precio_mercado #Error porcentual de la estimación.\n",
    "\n",
    "\n",
    "print(f'Precio bono cero cupón a 1Y con simulación de Montecarlo: {simul_bono}')\n",
    "print(f'Precio bono cero cupón a 1Y de mercado: {precio_mercado}')\n",
    "print(f'Error de la estimación en porcentaje :{error_estimacion: .4%}')\n"
   ]
  },
  {
   "cell_type": "markdown",
   "metadata": {
    "ExecuteTime": {
     "end_time": "2020-12-04T00:43:43.169675Z",
     "start_time": "2020-12-04T00:43:41.163284Z"
    }
   },
   "source": [
    "\n"
   ]
  },
  {
   "cell_type": "markdown",
   "metadata": {},
   "source": [
    "**AD:** ídem arriba. En este caso muestran el error relativo."
   ]
  }
 ],
 "metadata": {
  "hide_input": false,
  "kernelspec": {
   "display_name": "Python 3",
   "language": "python",
   "name": "python3"
  },
  "language_info": {
   "codemirror_mode": {
    "name": "ipython",
    "version": 3
   },
   "file_extension": ".py",
   "mimetype": "text/x-python",
   "name": "python",
   "nbconvert_exporter": "python",
   "pygments_lexer": "ipython3",
   "version": "3.7.3"
  },
  "toc": {
   "base_numbering": 1,
   "nav_menu": {},
   "number_sections": true,
   "sideBar": true,
   "skip_h1_title": false,
   "title_cell": "Table of Contents",
   "title_sidebar": "Contents",
   "toc_cell": false,
   "toc_position": {},
   "toc_section_display": true,
   "toc_window_display": false
  },
  "varInspector": {
   "cols": {
    "lenName": 16,
    "lenType": 16,
    "lenVar": 40
   },
   "kernels_config": {
    "python": {
     "delete_cmd_postfix": "",
     "delete_cmd_prefix": "del ",
     "library": "var_list.py",
     "varRefreshCmd": "print(var_dic_list())"
    },
    "r": {
     "delete_cmd_postfix": ") ",
     "delete_cmd_prefix": "rm(",
     "library": "var_list.r",
     "varRefreshCmd": "cat(var_dic_list()) "
    }
   },
   "types_to_exclude": [
    "module",
    "function",
    "builtin_function_or_method",
    "instance",
    "_Feature"
   ],
   "window_display": false
  }
 },
 "nbformat": 4,
 "nbformat_minor": 4
}
