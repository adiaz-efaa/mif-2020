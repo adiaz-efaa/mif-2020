{
 "cells": [
  {
   "cell_type": "code",
   "execution_count": 1,
   "metadata": {
    "ExecuteTime": {
     "end_time": "2020-12-17T21:59:31.899522Z",
     "start_time": "2020-12-17T21:59:31.275254Z"
    }
   },
   "outputs": [],
   "source": [
    "from finrisk import QC_Financial_3 as Qcf\n",
    "from typing import List, Tuple, Callable\n",
    "from scipy.interpolate import interp1d\n",
    "\n",
    "import sys\n",
    "sys.path.insert(1, '../modules')\n",
    "# from modules\n",
    "import auxiliary as aux\n",
    "\n",
    "from numpy import random as rnd\n",
    "from scipy import stats\n",
    "import plotly.express as px\n",
    "import pandas as pd\n",
    "import numpy as np\n",
    "import scipy\n",
    "import math"
   ]
  },
  {
   "cell_type": "code",
   "execution_count": 2,
   "metadata": {
    "ExecuteTime": {
     "end_time": "2020-12-17T21:59:31.927638Z",
     "start_time": "2020-12-17T21:59:31.901509Z"
    }
   },
   "outputs": [],
   "source": [
    "curva = pd.read_excel('../data/20201012_built_sofr_zero.xlsx')\n",
    "curva['t'] = curva['plazo'] / 365.0\n",
    "curva['rate'] = np.log(1 / curva['df'])/( curva['plazo'] / 365.0)\n",
    "zcurva = interp1d(curva['t'],\n",
    "                  curva['rate'],\n",
    "                  kind='cubic',\n",
    "                  fill_value=\"extrapolate\")"
   ]
  },
  {
   "cell_type": "code",
   "execution_count": 3,
   "metadata": {
    "ExecuteTime": {
     "end_time": "2020-12-17T21:59:31.934617Z",
     "start_time": "2020-12-17T21:59:31.929794Z"
    }
   },
   "outputs": [],
   "source": [
    "def zrate(t: float) -> float:\n",
    "    return zcurva(t)\n",
    "\n",
    "\n",
    "def dzrate(t: float) -> float:\n",
    "    delta = .0001\n",
    "    return (zcurva(t + delta) - zrate(t)) / delta\n",
    "\n",
    "\n",
    "def d2zrate(t: float) -> float:\n",
    "    delta = .0001\n",
    "    return (dzrate(t + delta) - dzrate(t)) / delta"
   ]
  },
  {
   "cell_type": "code",
   "execution_count": 4,
   "metadata": {
    "ExecuteTime": {
     "end_time": "2020-12-17T21:59:31.940899Z",
     "start_time": "2020-12-17T21:59:31.936983Z"
    }
   },
   "outputs": [],
   "source": [
    "def fwd(t: float) -> float:\n",
    "    return zrate(t) + t * dzrate(t)\n",
    "\n",
    "def dfwd(t: float) -> float:\n",
    "    return 2 * dzrate(t) + t * d2zrate(t)"
   ]
  },
  {
   "cell_type": "code",
   "execution_count": 5,
   "metadata": {
    "ExecuteTime": {
     "end_time": "2020-12-17T21:59:31.949004Z",
     "start_time": "2020-12-17T21:59:31.944792Z"
    }
   },
   "outputs": [],
   "source": [
    "def theta(t: float) -> float:\n",
    "    aux = (sigma ** 2) / (2.0 * gamma) * (1 - math.exp(-2.0 * gamma * t))\n",
    "    return dfwd(t) + gamma * fwd(t) + aux"
   ]
  },
  {
   "cell_type": "code",
   "execution_count": 6,
   "metadata": {
    "ExecuteTime": {
     "end_time": "2020-12-17T21:59:31.955284Z",
     "start_time": "2020-12-17T21:59:31.951945Z"
    }
   },
   "outputs": [],
   "source": [
    "def b_hw(gamma: float, t: float, T: float) -> float:\n",
    "    aux = 1 - math.exp(- gamma * (T-t))\n",
    "    return aux / gamma"
   ]
  },
  {
   "cell_type": "code",
   "execution_count": 7,
   "metadata": {
    "ExecuteTime": {
     "end_time": "2020-12-17T21:59:31.963674Z",
     "start_time": "2020-12-17T21:59:31.957340Z"
    }
   },
   "outputs": [],
   "source": [
    "def a_hw(zrate: float, fwd, gamma: float, sigma: float, t: float, T: float,\n",
    "         verbose = False):\n",
    "    b = b_hw(gamma, t, T)\n",
    "    dfT = math.exp(-zrate(T) * T)\n",
    "    dft = math.exp(-zrate(t) * t)\n",
    "    c1 = math.log(dfT / dft)\n",
    "    c2 = b * fwd(t)\n",
    "    c3 = (sigma**2) / (4 * gamma) * (b**2) * (1 - math.exp(-2 * gamma * t))\n",
    "    if verbose:\n",
    "        print(\"c1: \" + str(c1))\n",
    "        print(\"c2: \" + str(c2))\n",
    "        print(\"c3: \" + str(c3))\n",
    "    return c1 + c2 - c3"
   ]
  },
  {
   "cell_type": "code",
   "execution_count": 8,
   "metadata": {
    "ExecuteTime": {
     "end_time": "2020-12-17T21:59:31.969938Z",
     "start_time": "2020-12-17T21:59:31.965705Z"
    }
   },
   "outputs": [],
   "source": [
    "def Sz(gamma: float, t: float, T: float, sigma:float) -> float:\n",
    "    B = b_hw(gamma,t,T)\n",
    "    aux=math.sqrt(((sigma**2)/(2*gamma))*(1-math.exp(-2*gamma*t)))\n",
    "    return B*aux"
   ]
  },
  {
   "cell_type": "code",
   "execution_count": 9,
   "metadata": {
    "ExecuteTime": {
     "end_time": "2020-12-17T21:59:31.976673Z",
     "start_time": "2020-12-17T21:59:31.971695Z"
    }
   },
   "outputs": [],
   "source": [
    "def d1(K: float, gamma: float, t: float, T: float,sigma:float)-> float:\n",
    "    dfT = math.exp(-zrate(T) * T)\n",
    "    dft = math.exp(-zrate(t) * t)\n",
    "    c1_K = math.log(dfT / (K*dft))\n",
    "    d1 = (np.log(dfT/(K*dft))+0.5*Sz(gamma,t,T,sigma)**2)/Sz(gamma,t,T,sigma)\n",
    "    return d1"
   ]
  },
  {
   "cell_type": "code",
   "execution_count": 10,
   "metadata": {
    "ExecuteTime": {
     "end_time": "2020-12-17T21:59:31.982157Z",
     "start_time": "2020-12-17T21:59:31.978456Z"
    }
   },
   "outputs": [],
   "source": [
    "def d2(K: float, gamma: float, t: float, T: float,sigma:float)-> float:\n",
    "    d2 = d1(K, gamma, t, T,sigma)-Sz(gamma, t, T,sigma)\n",
    "    return d2"
   ]
  },
  {
   "cell_type": "code",
   "execution_count": 11,
   "metadata": {
    "ExecuteTime": {
     "end_time": "2020-12-17T21:59:31.991943Z",
     "start_time": "2020-12-17T21:59:31.983923Z"
    }
   },
   "outputs": [],
   "source": [
    "def Opt_teo(Option: str, t: float,T: float , K: float, gamma: float,sigma:float)->float:\n",
    "    dft = math.exp(-zrate(t) * t)\n",
    "    dfT = math.exp(-zrate(T) * T)\n",
    "    if (Option == \"Call\"):\n",
    "        Opt = dft*(((dfT/dft)*scipy.stats.norm.cdf(d1(K, gamma, t, T,sigma)))-(K*scipy.stats.norm.cdf(d2(K, gamma, t, T,sigma))))\n",
    "    elif (Option == \"Put\"):\n",
    "        Opt = dft*(K*scipy.stats.norm.cdf(-d2(K, gamma, t, T,sigma))-((dfT/dft)*scipy.stats.norm.cdf(-d1(K, gamma, t, T,sigma))))\n",
    "    return Opt "
   ]
  },
  {
   "cell_type": "code",
   "execution_count": 12,
   "metadata": {
    "ExecuteTime": {
     "end_time": "2020-12-17T21:59:31.997526Z",
     "start_time": "2020-12-17T21:59:31.993933Z"
    }
   },
   "outputs": [],
   "source": [
    "def theta(t: float) -> float:\n",
    "    aux = (sigma ** 2) / (2.0 * gamma) * (1 - math.exp(-2.0 * gamma * t))\n",
    "    return dfwd(t) + gamma * fwd(t) + aux"
   ]
  },
  {
   "cell_type": "code",
   "execution_count": 13,
   "metadata": {
    "ExecuteTime": {
     "end_time": "2020-12-17T21:59:32.003861Z",
     "start_time": "2020-12-17T21:59:31.999355Z"
    }
   },
   "outputs": [],
   "source": [
    "def zero_hw(r: float, gamma: float, sigma: float,\n",
    "            zrate: float, fwd: float, t: float, T: float) -> float:\n",
    "    a = a_hw(zrate, fwd, gamma, sigma, t, T)\n",
    "    b = b_hw(gamma, t, T)\n",
    "    return math.exp(a - b * r)"
   ]
  },
  {
   "cell_type": "code",
   "execution_count": 14,
   "metadata": {
    "ExecuteTime": {
     "end_time": "2020-12-17T21:59:32.015256Z",
     "start_time": "2020-12-17T21:59:32.005878Z"
    }
   },
   "outputs": [],
   "source": [
    "def sim_hw_many(gamma:float, sigma:float, theta:Callable[[float, ], float], r0:float, num_sim:int, num_steps:int, seed = None):\n",
    "    dt = 1 / 264.0\n",
    "    num_steps += 1\n",
    "\n",
    "    alea = np.zeros((num_sim, num_steps))\n",
    "    rnd.seed(seed)\n",
    "\n",
    "    for i in range(0, num_sim):\n",
    "        for j in range(0, num_steps):\n",
    "            alea[i][j] = rnd.normal()\n",
    "            \n",
    " \n",
    "    theta_array = np.zeros(num_steps)\n",
    "    tiempo = np.zeros(num_steps)\n",
    "    for i in range(0, num_steps):\n",
    "        tiempo[i] = i * dt\n",
    "        theta_array[i] = theta(i * dt)\n",
    "\n",
    "    sqdt_sigma = math.sqrt(dt) * sigma\n",
    "    gamma_dt = gamma * dt\n",
    "    sim = np.zeros((num_sim, num_steps))\n",
    "    for i in range(0, num_sim):\n",
    "        sim[i][0] = r0\n",
    "        r = r0\n",
    "        for j in range(1, num_steps):\n",
    "            r = r + theta_array[j - 1] * dt - gamma_dt * r + sqdt_sigma * alea[i][j - 1]\n",
    "            sim[i][j] = r\n",
    "    return sim"
   ]
  },
  {
   "cell_type": "code",
   "execution_count": 15,
   "metadata": {
    "ExecuteTime": {
     "end_time": "2020-12-17T21:59:32.021552Z",
     "start_time": "2020-12-17T21:59:32.017405Z"
    }
   },
   "outputs": [],
   "source": [
    "def opcion(Opt:str,z: float, strike: float) -> float:\n",
    "    \n",
    "    if (Opt == \"Call\"):\n",
    "        i=max(z - strike, 0)\n",
    "    elif (Opt == \"Put\"):\n",
    "        i=max(strike-z,0)\n",
    "    elif (Opt == \"Bono\"):\n",
    "        i=1\n",
    "    return i"
   ]
  },
  {
   "cell_type": "code",
   "execution_count": 16,
   "metadata": {
    "ExecuteTime": {
     "end_time": "2020-12-17T21:59:32.029630Z",
     "start_time": "2020-12-17T21:59:32.023260Z"
    }
   },
   "outputs": [],
   "source": [
    "def Valorizacion(Opt:str,gamma:float,t:float,T:float,K:float, sigma:float, theta:Callable[[float, ], float], r0:float, num_sim:int, num_steps:int, seed = None):\n",
    "    s=sim_hw_many(gamma, sigma, theta, r0, num_sim, num_steps, seed)\n",
    "    last_rates = [sim[-1] for sim in s]\n",
    "    precios = [zero_hw(r, gamma, sigma, zrate, fwd, t=1, T=2) for r in last_rates]\n",
    "    payoff=[opcion(Opt,z,K) for z in precios]\n",
    "    t_vencimiento=T-t\n",
    "    valor=math.exp(-t_vencimiento * float(zrate(t_vencimiento))) * np.average(payoff)\n",
    "    return valor"
   ]
  },
  {
   "cell_type": "code",
   "execution_count": 24,
   "metadata": {
    "ExecuteTime": {
     "end_time": "2020-12-17T22:01:08.952561Z",
     "start_time": "2020-12-17T22:01:08.948762Z"
    }
   },
   "outputs": [],
   "source": [
    "sigma = .015\n",
    "gamma = .5\n",
    "K=1.0\n",
    "r0 = zrate(0)\n",
    "seed=1\n",
    "t=1\n",
    "T=2"
   ]
  },
  {
   "cell_type": "code",
   "execution_count": 26,
   "metadata": {
    "ExecuteTime": {
     "end_time": "2020-12-17T22:01:27.846382Z",
     "start_time": "2020-12-17T22:01:25.125456Z"
    }
   },
   "outputs": [
    {
     "name": "stdout",
     "output_type": "stream",
     "text": [
      "Valor Call por Montecarlo: 0.003427\n",
      "Valor Put por Montecarlo 0.004307\n"
     ]
    }
   ],
   "source": [
    "Call_MC=Valorizacion(\"Call\",gamma,t,T,K,sigma,theta,r0,1000,264,seed)\n",
    "Put_MC=Valorizacion(\"Put\",gamma,t,T,K,sigma,theta,r0,1000,264,seed)\n",
    "print(f'Valor Call por Montecarlo: {Call_MC:.6f}')\n",
    "print(f'Valor Put por Montecarlo {Put_MC:.6f}')"
   ]
  },
  {
   "cell_type": "code",
   "execution_count": 27,
   "metadata": {
    "ExecuteTime": {
     "end_time": "2020-12-17T22:03:45.854735Z",
     "start_time": "2020-12-17T22:03:45.848269Z"
    }
   },
   "outputs": [],
   "source": [
    "def Opt_teo(Option: str, t: float,T: float , K: float, gamma: float,sigma:float)->float:\n",
    "    dft = math.exp(-zrate(t) * t)\n",
    "    dfT = math.exp(-zrate(T) * T)\n",
    "    if (Option == \"Call\"):\n",
    "        Opt = dft*(((dfT/dft)*scipy.stats.norm.cdf(d1(K, gamma, t, T,sigma)))-(K*scipy.stats.norm.cdf(d2(K, gamma, t, T,sigma))))\n",
    "    elif (Option == \"Put\"):\n",
    "        Opt = dft*(K*scipy.stats.norm.cdf(-d2(K, gamma, t, T,sigma))-((dfT/dft)*scipy.stats.norm.cdf(-d1(K, gamma, t, T,sigma))))\n",
    "    return Opt "
   ]
  },
  {
   "cell_type": "code",
   "execution_count": 29,
   "metadata": {
    "ExecuteTime": {
     "end_time": "2020-12-17T22:03:57.210583Z",
     "start_time": "2020-12-17T22:03:57.203360Z"
    }
   },
   "outputs": [
    {
     "name": "stdout",
     "output_type": "stream",
     "text": [
      "Valor teórico de la Call: 0.003528\n",
      "Valor teórico de la put: 0.003961\n"
     ]
    }
   ],
   "source": [
    "Call_teo=Opt_teo(\"Call\",t,T,K,gamma,sigma)\n",
    "print(f'Valor teórico de la Call: {Call_teo:.6f}')\n",
    "Put_teo=Opt_teo(\"Put\",t,T,K,gamma,sigma)\n",
    "print(f'Valor teórico de la put: {Put_teo:.6f}')"
   ]
  },
  {
   "cell_type": "code",
   "execution_count": 31,
   "metadata": {
    "ExecuteTime": {
     "end_time": "2020-12-17T22:06:12.670985Z",
     "start_time": "2020-12-17T22:06:12.656526Z"
    }
   },
   "outputs": [
    {
     "name": "stdout",
     "output_type": "stream",
     "text": [
      "0.003528\n",
      "0.003961\n"
     ]
    }
   ],
   "source": [
    "# Test\n",
    "\n",
    "import hull_white as hw\n",
    "\n",
    "call = hw.zcb_call_put(\n",
    "    hw.CallPut.CALL,\n",
    "    strike=K,\n",
    "    to=t,\n",
    "    tb=T,\n",
    "    r0=r0,\n",
    "    zo=math.exp(-zrate(t) * t),\n",
    "    zb=math.exp(-zrate(T) * T),\n",
    "    gamma=gamma,\n",
    "    sigma=sigma)\n",
    "\n",
    "put = hw.zcb_call_put(\n",
    "    hw.CallPut.PUT,\n",
    "    strike=K,\n",
    "    to=t,\n",
    "    tb=T,\n",
    "    r0=r0,\n",
    "    zo=math.exp(-zrate(t) * t),\n",
    "    zb=math.exp(-zrate(T) * T),\n",
    "    gamma=gamma,\n",
    "    sigma=sigma)\n",
    "\n",
    "print(f'{call:.6f}')\n",
    "print(f'{put:.6f}')"
   ]
  },
  {
   "cell_type": "code",
   "execution_count": 21,
   "metadata": {
    "ExecuteTime": {
     "end_time": "2020-12-17T21:59:34.777967Z",
     "start_time": "2020-12-17T21:59:34.773782Z"
    }
   },
   "outputs": [
    {
     "name": "stdout",
     "output_type": "stream",
     "text": [
      "Diferencia valor Call teórico vs. simulacion MC:0.0000\n",
      "Diferencia valor Put teórico vs. simulacion MC:-0.0004\n"
     ]
    }
   ],
   "source": [
    "Dif_Call = Call_teo - Call_MC\n",
    "print(f'Diferencia valor Call teórico vs. simulacion MC:{Dif_Call:.4f}')\n",
    "Dif_Put = Put_teo - Put_MC\n",
    "print(f'Diferencia valor Put teórico vs. simulacion MC:{Dif_Put:.4f}')"
   ]
  },
  {
   "cell_type": "code",
   "execution_count": 22,
   "metadata": {
    "ExecuteTime": {
     "end_time": "2020-12-17T21:59:36.148805Z",
     "start_time": "2020-12-17T21:59:34.779553Z"
    }
   },
   "outputs": [
    {
     "name": "stdout",
     "output_type": "stream",
     "text": [
      "Valor de Montecarlo del Bono: 0.99929787\n",
      "Valor teórico del bono: 0.99939198\n"
     ]
    }
   ],
   "source": [
    "Bono=Valorizacion(\"Bono\",gamma,t,T,K,sigma,theta,r0,1000,264,seed)\n",
    "print(f'Valor de Montecarlo del Bono: {Bono:.8f}')\n",
    "Bono_teo=zero_hw(r0, gamma, sigma,zrate, fwd, t, T)\n",
    "print(f'Valor teórico del bono: {Bono_teo:.8f}')\n"
   ]
  },
  {
   "cell_type": "code",
   "execution_count": 23,
   "metadata": {
    "ExecuteTime": {
     "end_time": "2020-12-17T21:59:36.153500Z",
     "start_time": "2020-12-17T21:59:36.150162Z"
    }
   },
   "outputs": [
    {
     "name": "stdout",
     "output_type": "stream",
     "text": [
      "Diferencia valor Bono teórico vs. simulacion MC:0.00009411\n"
     ]
    }
   ],
   "source": [
    "Dif_Bono = Bono_teo - Bono\n",
    "print(f'Diferencia valor Bono teórico vs. simulacion MC:{Dif_Bono:.8f}')"
   ]
  },
  {
   "cell_type": "markdown",
   "metadata": {},
   "source": [
    "**AD:** análisis con más strikes y más plazos en los bonos cero cupón. Más explicaciones y comentarios. La presentación de la tarea podría ser mucho mejor."
   ]
  }
 ],
 "metadata": {
  "hide_input": false,
  "kernelspec": {
   "display_name": "Python 3",
   "language": "python",
   "name": "python3"
  },
  "language_info": {
   "codemirror_mode": {
    "name": "ipython",
    "version": 3
   },
   "file_extension": ".py",
   "mimetype": "text/x-python",
   "name": "python",
   "nbconvert_exporter": "python",
   "pygments_lexer": "ipython3",
   "version": "3.7.3"
  },
  "toc": {
   "base_numbering": 1,
   "nav_menu": {},
   "number_sections": true,
   "sideBar": true,
   "skip_h1_title": false,
   "title_cell": "Table of Contents",
   "title_sidebar": "Contents",
   "toc_cell": false,
   "toc_position": {},
   "toc_section_display": true,
   "toc_window_display": false
  }
 },
 "nbformat": 4,
 "nbformat_minor": 4
}
