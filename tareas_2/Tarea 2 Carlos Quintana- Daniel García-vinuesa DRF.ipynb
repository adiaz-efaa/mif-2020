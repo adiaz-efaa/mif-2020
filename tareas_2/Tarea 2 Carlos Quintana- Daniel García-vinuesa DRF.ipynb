{
 "cells": [
  {
   "cell_type": "code",
   "execution_count": 1,
   "metadata": {
    "ExecuteTime": {
     "end_time": "2020-12-17T20:21:29.362020Z",
     "start_time": "2020-12-17T20:21:28.772207Z"
    }
   },
   "outputs": [],
   "source": [
    "#Librerias utilizadas\n",
    "from finrisk import QC_Financial_3 as Qcf\n",
    "from typing import List, Tuple, Callable\n",
    "from scipy.interpolate import interp1d\n",
    "\n",
    "import sys\n",
    "sys.path.insert(1, '../modules')\n",
    "import auxiliary as aux\n",
    "\n",
    "#from modules\n",
    "import auxiliary as aux\n",
    "from numpy import random as rnd\n",
    "import plotly.express as px\n",
    "import pandas as pd\n",
    "import numpy as np\n",
    "import math\n",
    "from scipy.stats import norm"
   ]
  },
  {
   "cell_type": "markdown",
   "metadata": {},
   "source": [
    "# Tarea 2 Carlos Quintana - Daniel García-vinuesa"
   ]
  },
  {
   "cell_type": "markdown",
   "metadata": {},
   "source": [
    "- Usando las funciones anteriores, o desarrollando las propias, escriba una función que pueda valorizar, por simulación de Montecarlo, calls y puts sobre bonos cero cupón con el modelo de HW. Considere puts y calls de plazo máximo igual a 1Y.\n",
    "- Su función debe poder recibir la semilla.\n",
    "- Compare sus resultados con las fórmulas del modelo y muestre que diferencias obtiene usando 1000 simulaciones y una semilla predeterminada.\n",
    "- Valorice también por simulación de Montecarlo el bono cupón cero a 1Y. Muestre que diferencias obtiene respecto al valor de mercado del bono usando 1000 simulaciones y una semilla predeterminada.\n"
   ]
  },
  {
   "cell_type": "markdown",
   "metadata": {},
   "source": [
    "# Data"
   ]
  },
  {
   "cell_type": "code",
   "execution_count": 2,
   "metadata": {
    "ExecuteTime": {
     "end_time": "2020-12-17T20:21:29.391216Z",
     "start_time": "2020-12-17T20:21:29.365104Z"
    }
   },
   "outputs": [],
   "source": [
    "#Data\n",
    "curva = pd.read_excel('../data/20201012_built_sofr_zero.xlsx')"
   ]
  },
  {
   "cell_type": "code",
   "execution_count": 3,
   "metadata": {
    "ExecuteTime": {
     "end_time": "2020-12-17T20:21:29.397191Z",
     "start_time": "2020-12-17T20:21:29.392753Z"
    }
   },
   "outputs": [],
   "source": [
    "curva['t'] = curva['plazo'] / 365.0"
   ]
  },
  {
   "cell_type": "code",
   "execution_count": 4,
   "metadata": {
    "ExecuteTime": {
     "end_time": "2020-12-17T20:21:29.403124Z",
     "start_time": "2020-12-17T20:21:29.398683Z"
    }
   },
   "outputs": [],
   "source": [
    "curva['rate'] = np.log(1 / curva['df'])/( curva['plazo'] / 365.0)"
   ]
  },
  {
   "cell_type": "code",
   "execution_count": 5,
   "metadata": {
    "ExecuteTime": {
     "end_time": "2020-12-17T20:21:29.410544Z",
     "start_time": "2020-12-17T20:21:29.406139Z"
    }
   },
   "outputs": [],
   "source": [
    "zcurva = interp1d(curva['t'],\n",
    "                  curva['rate'],\n",
    "                  kind='cubic',\n",
    "                  fill_value=\"extrapolate\")"
   ]
  },
  {
   "cell_type": "code",
   "execution_count": 6,
   "metadata": {
    "ExecuteTime": {
     "end_time": "2020-12-17T20:21:29.416939Z",
     "start_time": "2020-12-17T20:21:29.413089Z"
    }
   },
   "outputs": [],
   "source": [
    "# acá se define la función fwd y dfwd\n",
    "def fwd(t: float) -> float:\n",
    "    return zrate(t) + t * dzrate(t)\n",
    "\n",
    "def dfwd(t: float) -> float:\n",
    "    return 2 * dzrate(t) + t * d2zrate(t)"
   ]
  },
  {
   "cell_type": "code",
   "execution_count": 7,
   "metadata": {
    "ExecuteTime": {
     "end_time": "2020-12-17T20:21:29.423379Z",
     "start_time": "2020-12-17T20:21:29.418711Z"
    }
   },
   "outputs": [],
   "source": [
    "def zrate(t: float) -> float:\n",
    "    return zcurva(t)\n",
    "\n",
    "\n",
    "def dzrate(t: float) -> float:\n",
    "    delta = .0001\n",
    "    return (zcurva(t + delta) - zrate(t)) / delta\n",
    "\n",
    "\n",
    "def d2zrate(t: float) -> float:\n",
    "    delta = .0001\n",
    "    return (dzrate(t + delta) - dzrate(t)) / delta"
   ]
  },
  {
   "cell_type": "markdown",
   "metadata": {},
   "source": [
    "# Parámetros 1\n"
   ]
  },
  {
   "cell_type": "code",
   "execution_count": 8,
   "metadata": {
    "ExecuteTime": {
     "end_time": "2020-12-17T20:21:29.431508Z",
     "start_time": "2020-12-17T20:21:29.425887Z"
    }
   },
   "outputs": [],
   "source": [
    "#Parámetros\n",
    "sigma = 0.015\n",
    "gamma = 0.5\n",
    "r = zrate(0)\n",
    "t = 0\n",
    "T_opcion=1\n",
    "T_bono=2\n",
    "k=1.01\n",
    "num_sim = 1000\n",
    "num_steps = 264\n",
    "seed = 1234\n",
    "df = 0\n",
    "dt=1/264"
   ]
  },
  {
   "cell_type": "markdown",
   "metadata": {},
   "source": [
    "# Función tetha, b_hw, a_hw y zero_hw"
   ]
  },
  {
   "cell_type": "code",
   "execution_count": 9,
   "metadata": {
    "ExecuteTime": {
     "end_time": "2020-12-17T20:21:29.437554Z",
     "start_time": "2020-12-17T20:21:29.433709Z"
    }
   },
   "outputs": [],
   "source": [
    "def theta(t: float) -> float:\n",
    "    aux = (sigma ** 2) / (2.0 * gamma) * (1 - math.exp(-2.0 * gamma * t))\n",
    "    return dfwd(t) + gamma * fwd(t) + aux"
   ]
  },
  {
   "cell_type": "code",
   "execution_count": 10,
   "metadata": {
    "ExecuteTime": {
     "end_time": "2020-12-17T20:21:29.443451Z",
     "start_time": "2020-12-17T20:21:29.439554Z"
    }
   },
   "outputs": [],
   "source": [
    "def b_hw(gamma: float, t: float, T: float) -> float:\n",
    "    \"\"\"\n",
    "    Calcula el valor de la función B(t,T) que interviene en la fórmula\n",
    "    para el valor de un bono cupón cero en el modelo de HW.\n",
    "    \n",
    "    params:\n",
    "    \n",
    "    - gamma: intensidad de reversión del modelo HW\n",
    "    - t:\n",
    "    - T:\n",
    "    \n",
    "    return:\n",
    "    \n",
    "    - valor de la función B(t, T)\n",
    "    \"\"\"\n",
    "    aux = 1 - math.exp(- gamma * (T - t))\n",
    "    return aux / gamma"
   ]
  },
  {
   "cell_type": "code",
   "execution_count": 11,
   "metadata": {
    "ExecuteTime": {
     "end_time": "2020-12-17T20:21:29.451257Z",
     "start_time": "2020-12-17T20:21:29.445092Z"
    }
   },
   "outputs": [],
   "source": [
    "def a_hw(zrate: float, fwd, gamma: float, sigma: float, t: float, T: float,\n",
    "         verbose = False):\n",
    "    \"\"\"\n",
    "    verbose: cuando es True imprime los valores de c1, c2 y c3.\n",
    "    \"\"\"\n",
    "    b = b_hw(gamma, t, T)\n",
    "    dfT = math.exp(-zrate(T) * T)\n",
    "    dft = math.exp(-zrate(t) * t)\n",
    "    c1 = math.log(dfT / dft)\n",
    "    c2 = b * fwd(t)\n",
    "    c3 = (sigma**2) / (4 * gamma) * (b**2) * (1 - math.exp(-2 * gamma * t))\n",
    "    if verbose:\n",
    "        print(\"c1: \" + str(c1))\n",
    "        print(\"c2: \" + str(c2))\n",
    "        print(\"c3: \" + str(c3))\n",
    "    return c1 + c2 - c3\n"
   ]
  },
  {
   "cell_type": "code",
   "execution_count": 12,
   "metadata": {
    "ExecuteTime": {
     "end_time": "2020-12-17T20:21:29.457292Z",
     "start_time": "2020-12-17T20:21:29.453101Z"
    }
   },
   "outputs": [],
   "source": [
    "def zero_hw(r: float, gamma: float, sigma: float, zrate: float, fwd: float, t: float, T: float) -> float:\n",
    "    a = a_hw(zrate, fwd, gamma, sigma, t, T)\n",
    "    b = b_hw(gamma, t, T)\n",
    "    return math.exp(a - b * r)\n"
   ]
  },
  {
   "cell_type": "markdown",
   "metadata": {},
   "source": [
    "# Funciónes de Call y Put cerradas"
   ]
  },
  {
   "cell_type": "code",
   "execution_count": 13,
   "metadata": {
    "ExecuteTime": {
     "end_time": "2020-12-17T20:21:29.479930Z",
     "start_time": "2020-12-17T20:21:29.459129Z"
    },
    "scrolled": true
   },
   "outputs": [
    {
     "name": "stdout",
     "output_type": "stream",
     "text": [
      "La Put es: 0.011063878585398887\n",
      "La Call es: 0.0006385183204811755\n"
     ]
    }
   ],
   "source": [
    "#Funciones\n",
    "\n",
    "#Función sz \n",
    "def sz(T_opcion,T_bono,gamma,sigma):\n",
    "    b=b_hw(gamma,T_opcion,T_bono)\n",
    "    sz=b*np.sqrt((sigma**2/(2*gamma))*(1-np.exp(-2*gamma*T_opcion)))\n",
    "    return sz\n",
    "\n",
    "#Función d1\n",
    "def d1(T_bono,T_opcion,t,sigma,gamma,r,k):\n",
    "    z_op=zero_hw(r,gamma,sigma, zrate,fwd,t,T_opcion)\n",
    "    z_bn=zero_hw(r,gamma,sigma, zrate,fwd,t,T_bono)\n",
    "    s_z=sz(T_opcion,T_bono,gamma,sigma)\n",
    "    d1=(np.log(z_bn/(k*z_op)+(0.5*s_z**2))/s_z)\n",
    "    return d1\n",
    "\n",
    "#Función d2  \n",
    "def d2(T_bono,T_opcion,t,sigma,gamma,r,k):\n",
    "    z_op=zero_hw(r,gamma,sigma, zrate,fwd,t,T_opcion)\n",
    "    z_bn=zero_hw(r,gamma,sigma, zrate,fwd,t,T_bono)\n",
    "    s_z=sz(T_opcion,T_bono,gamma,sigma)\n",
    "    d_1=d1(T_bono,T_opcion,t,sigma,gamma,r,k)\n",
    "    d2=d_1-s_z\n",
    "    return d2\n",
    "\n",
    "#Funciones para call y put\n",
    "def call(T_bono,T_opcion,t,sigma,gamma,r,k):\n",
    "    z_op=zero_hw(r,gamma,sigma, zrate,fwd,t,T_opcion)\n",
    "    z_bn=zero_hw(r,gamma,sigma, zrate,fwd,t,T_bono)\n",
    "    d_1=d1(T_bono,T_opcion,t,sigma,gamma,r,k)\n",
    "    d_2=d2(T_bono,T_opcion,t,sigma,gamma,r,k)\n",
    "    call=z_op*((z_bn/z_op)*norm.cdf(d_1)-k*norm.cdf(d_2))\n",
    "    return call\n",
    "\n",
    "def put(T_bono,T_opcion,t,sigma,gamma,r,k):\n",
    "    z_op=zero_hw(r,gamma,sigma, zrate,fwd,t,T_opcion)\n",
    "    z_bn=zero_hw(r,gamma,sigma, zrate,fwd,t,T_bono)\n",
    "    d_1=d1(T_bono,T_opcion,t,sigma,gamma,r,k)\n",
    "    d_2=d2(T_bono,T_opcion,t,sigma,gamma,r,k)\n",
    "    put=z_op*((z_bn/z_op)*-norm.cdf(-d_1)+k*norm.cdf(-d_2))\n",
    "    return put\n",
    "\n",
    "#Resultados con parámetros 1\n",
    "print(\"La Put es:\",put(T_bono,T_opcion,t,sigma,gamma,r,k))   \n",
    "print(\"La Call es:\",call(T_bono,T_opcion,t,sigma,gamma,r,k)) "
   ]
  },
  {
   "cell_type": "markdown",
   "metadata": {},
   "source": [
    "# Simulación del discount factor (ez) y r"
   ]
  },
  {
   "cell_type": "code",
   "execution_count": 14,
   "metadata": {
    "ExecuteTime": {
     "end_time": "2020-12-17T20:21:29.486477Z",
     "start_time": "2020-12-17T20:21:29.482018Z"
    }
   },
   "outputs": [],
   "source": [
    "#Función theta que depende de t y T\n",
    "def theta_fwd_measure(t: float, T:float) -> float:\n",
    "    aux = (sigma ** 2) / (2.0 * gamma) * (1 - math.exp(-2.0 * gamma * t))\n",
    "    return dfwd(t) + gamma * fwd(t) + aux - b_hw(gamma, t, T)*sigma**2"
   ]
  },
  {
   "cell_type": "code",
   "execution_count": 15,
   "metadata": {
    "ExecuteTime": {
     "end_time": "2020-12-17T20:21:29.496772Z",
     "start_time": "2020-12-17T20:21:29.488131Z"
    }
   },
   "outputs": [],
   "source": [
    "#Función que realiza las simulaciones\n",
    "def sim_hw_many(gamma, sigma, theta_fwd_measure,T, r0, num_sim, num_steps, seed,dt):\n",
    "    \"\"\"\n",
    "    \"\"\"\n",
    "    \n",
    "    num_steps += 1\n",
    "    \n",
    "    # Calcula los números aleatorios\n",
    "    alea = np.zeros((num_sim, num_steps))\n",
    "    np.random.seed(seed)\n",
    "\n",
    "    for i in range(0, num_sim):\n",
    "        for j in range(0, num_steps):\n",
    "            alea[i][j] = np.random.normal()\n",
    "            \n",
    "    # Calcula los valores de Theta. Theta sólo depende del tiempo, no de la simulación. \n",
    "    theta_array = np.zeros(num_steps)\n",
    "    tiempo = np.zeros(num_steps)\n",
    "    for i in range(1, num_steps):\n",
    "        tiempo[i] = i * dt\n",
    "        theta_array[i] = theta_fwd_measure(i * dt,T)\n",
    "    \n",
    "    # Simula las trayectorias\n",
    "    sqdt_sigma = math.sqrt(dt) * sigma\n",
    "    gamma_dt = gamma * dt\n",
    "    sim = np.zeros((num_sim, num_steps))\n",
    "    for i in range(0, num_sim):\n",
    "        sim[i][0] = r0\n",
    "        r = r0\n",
    "        for j in range(1, num_steps):\n",
    "            r = r + theta_array[j - 1] * dt - gamma_dt * r + sqdt_sigma * alea[i][j - 1]\n",
    "            sim[i][j] = r\n",
    "    return sim"
   ]
  },
  {
   "cell_type": "code",
   "execution_count": 16,
   "metadata": {
    "ExecuteTime": {
     "end_time": "2020-12-17T20:21:30.871597Z",
     "start_time": "2020-12-17T20:21:29.498476Z"
    }
   },
   "outputs": [
    {
     "name": "stdout",
     "output_type": "stream",
     "text": [
      "El promedio de las simulaciones es: 0.0003359968463563494\n"
     ]
    }
   ],
   "source": [
    "#Resultado de la simulación  de r\n",
    "s=sim_hw_many(gamma, sigma, theta_fwd_measure,T_opcion, r, num_sim, num_steps, seed,dt)\n",
    "r_prom=np.mean(s)\n",
    "print(\"El promedio de las simulaciones es:\",r_prom)"
   ]
  },
  {
   "cell_type": "markdown",
   "metadata": {},
   "source": [
    "**AD:** revisa valores de variables."
   ]
  },
  {
   "cell_type": "code",
   "execution_count": 17,
   "metadata": {
    "ExecuteTime": {
     "end_time": "2020-12-17T20:21:30.877707Z",
     "start_time": "2020-12-17T20:21:30.873668Z"
    }
   },
   "outputs": [
    {
     "name": "stdout",
     "output_type": "stream",
     "text": [
      "num_sim: 1000\n",
      "num_steps: 264\n",
      "seed: 1234\n"
     ]
    }
   ],
   "source": [
    "print(f'num_sim: {num_sim}')\n",
    "print(f'num_steps: {num_steps}')\n",
    "print(f'seed: {seed}')"
   ]
  },
  {
   "cell_type": "markdown",
   "metadata": {},
   "source": [
    "## Función que calcula el factor de descuento"
   ]
  },
  {
   "cell_type": "code",
   "execution_count": 18,
   "metadata": {
    "ExecuteTime": {
     "end_time": "2020-12-17T20:21:30.896066Z",
     "start_time": "2020-12-17T20:21:30.879468Z"
    }
   },
   "outputs": [
    {
     "data": {
      "text/plain": [
       "('ez:  99.96894692%', 'z_curva:  99.92978688%', 'diferencia:  0.00039160039')"
      ]
     },
     "execution_count": 18,
     "metadata": {},
     "output_type": "execute_result"
    }
   ],
   "source": [
    "# Función que calcula el ez y z curva, además de su diferencia absoluta\n",
    "def factor_dct(s,df,curva,dt):\n",
    "    for sim in s:\n",
    "        df += math.exp(-dt * np.sum(sim))\n",
    "\n",
    "    ez = df / num_sim\n",
    "    z_curva = curva['df'].iloc[15]\n",
    "    return (f\"ez: {ez: .8%}\"), (f\"z_curva: {z_curva: .8%}\"),(f\"diferencia: {abs(z_curva-ez): .8}\")\n",
    "factor_dct(s,df,curva,dt)"
   ]
  },
  {
   "cell_type": "markdown",
   "metadata": {},
   "source": [
    "**AD:** están chequeando el factor de descuento en la medida forward. Esto no es correcto, para esta verificación hay que usar la medida libre de riesgo."
   ]
  },
  {
   "cell_type": "markdown",
   "metadata": {},
   "source": [
    "# Parámetros 2 (para calcular call y put con simulación)"
   ]
  },
  {
   "cell_type": "code",
   "execution_count": 19,
   "metadata": {
    "ExecuteTime": {
     "end_time": "2020-12-17T20:21:32.212279Z",
     "start_time": "2020-12-17T20:21:30.898002Z"
    }
   },
   "outputs": [],
   "source": [
    "# Parámetros para la simulación\n",
    "s = sim_hw_many(gamma, sigma, theta_fwd_measure,\n",
    "                T_opcion, r, num_sim, num_steps, seed, dt)\n",
    "tasas = s[:, -1]\n",
    "num_steps = 263"
   ]
  },
  {
   "cell_type": "markdown",
   "metadata": {},
   "source": [
    "## Función para el payoff de la call y put"
   ]
  },
  {
   "cell_type": "code",
   "execution_count": 20,
   "metadata": {
    "ExecuteTime": {
     "end_time": "2020-12-17T20:21:32.217752Z",
     "start_time": "2020-12-17T20:21:32.213817Z"
    }
   },
   "outputs": [],
   "source": [
    "# Funciones para la call y put, las cuales son utilizadas en la función \"Simulacion\"\n",
    "def payoff_call(z, k):\n",
    "    C = max(z-k, 0)\n",
    "    return C\n",
    "\n",
    "\n",
    "def payoff_put(z, k):\n",
    "    P = max(-z+k, 0)\n",
    "    return P"
   ]
  },
  {
   "cell_type": "markdown",
   "metadata": {},
   "source": [
    "## Simulación de la call y la put"
   ]
  },
  {
   "cell_type": "code",
   "execution_count": 21,
   "metadata": {
    "ExecuteTime": {
     "end_time": "2020-12-17T20:21:32.225518Z",
     "start_time": "2020-12-17T20:21:32.219789Z"
    }
   },
   "outputs": [],
   "source": [
    "# Simulación Call y Put- Payoff\n",
    "def Simulación(gamma, sigma, zrate, fwd, theta_fwd_measure, T_opcion, T_bono, r, num_sim, num_steps, seed, k, s):\n",
    "    z = []\n",
    "    sim_call = []\n",
    "    sim_put = []\n",
    "    i = 0\n",
    "    # Condición del loop\n",
    "    while i < len(tasas):\n",
    "        # variable que contiene la función zerp_hw para las diferentes tasas utilizadas\n",
    "        zero = zero_hw(tasas[i], gamma, sigma, zrate, fwd, T_opcion, T_bono)\n",
    "        z.append(zero)\n",
    "        # Payoff call y put\n",
    "        C = payoff_call(z[i], k)\n",
    "        sim_call.append(C)\n",
    "        P = payoff_put(z[i], k)\n",
    "        sim_put.append(P)\n",
    "        i = i+1\n",
    "\n",
    "    return sim_call, sim_put"
   ]
  },
  {
   "cell_type": "markdown",
   "metadata": {},
   "source": [
    " ### Función que calcula el factor de descuento para la simulación"
   ]
  },
  {
   "cell_type": "code",
   "execution_count": 22,
   "metadata": {
    "ExecuteTime": {
     "end_time": "2020-12-17T20:21:32.231203Z",
     "start_time": "2020-12-17T20:21:32.227302Z"
    }
   },
   "outputs": [],
   "source": [
    "#función que retorna el factor de descuento, utilizando parámetros 2\n",
    "def disc_fac(tasas,dt):\n",
    "    df=0\n",
    "    for i in tasas:\n",
    "        df += math.exp(-dt * np.sum(i))\n",
    "    discount_factor=df/len(tasas)\n",
    "    print(f\"ez: {discount_factor: .8%}\")\n",
    "    return discount_factor"
   ]
  },
  {
   "cell_type": "markdown",
   "metadata": {},
   "source": [
    "### Función que calcula los valores de call y put"
   ]
  },
  {
   "cell_type": "code",
   "execution_count": 23,
   "metadata": {
    "ExecuteTime": {
     "end_time": "2020-12-17T20:21:32.239806Z",
     "start_time": "2020-12-17T20:21:32.233402Z"
    }
   },
   "outputs": [],
   "source": [
    "# Función que retorna los valroes de la call y de la put hechas con simulación, además de su tasa de descuento\n",
    "def payoff(tasas, gamma, sigma, zrate, fwd, theta_fwd_measure, T_opcion, T_bono,\n",
    "           r, num_sim, num_steps, seed, k, s):\n",
    "    call, put = Simulación(gamma, sigma, zrate, fwd, theta_fwd_measure,\n",
    "                           T_opcion, T_bono, r, num_sim, num_steps, seed, k, s)\n",
    "    c = []\n",
    "    p = []\n",
    "    discount_factor = disc_fac(tasas, dt)\n",
    "    j = 0\n",
    "    while j < len(call):\n",
    "        call_s = call[j]*discount_factor\n",
    "        c.append(call_s)\n",
    "        put_s = put[j]*discount_factor\n",
    "        p.append(put_s)\n",
    "        j = j+1\n",
    "    return discount_factor, np.average(c), np.average(p)"
   ]
  },
  {
   "cell_type": "code",
   "execution_count": 24,
   "metadata": {
    "ExecuteTime": {
     "end_time": "2020-12-17T20:21:32.404503Z",
     "start_time": "2020-12-17T20:21:32.241449Z"
    }
   },
   "outputs": [
    {
     "name": "stdout",
     "output_type": "stream",
     "text": [
      "ez:  99.99987278%\n"
     ]
    },
    {
     "data": {
      "text/plain": [
       "(0.9999987277931004, 0.0005638567882788321, 0.010777615395188381)"
      ]
     },
     "execution_count": 24,
     "metadata": {},
     "output_type": "execute_result"
    }
   ],
   "source": [
    "payoff(tasas,gamma,sigma,zrate,fwd,theta_fwd_measure,T_opcion,T_bono,r,num_sim,num_steps,seed,k,s)"
   ]
  },
  {
   "cell_type": "markdown",
   "metadata": {},
   "source": [
    "# Comparativa entre fórmulas cerradas y simulación"
   ]
  },
  {
   "cell_type": "code",
   "execution_count": 25,
   "metadata": {
    "ExecuteTime": {
     "end_time": "2020-12-17T20:21:32.577915Z",
     "start_time": "2020-12-17T20:21:32.406512Z"
    }
   },
   "outputs": [
    {
     "name": "stdout",
     "output_type": "stream",
     "text": [
      "ez:  99.99987278%\n",
      "La Put con fórmula cerrada es: 0.011063878585398887\n",
      "La Put calculada con simulación es: 0.010777615395188381\n",
      "=============================================================\n",
      "La Call con fórmula cerrada es: 0.0006385183204811755\n",
      "La Call calculada con simulación es: 0.0005638567882788321\n"
     ]
    }
   ],
   "source": [
    "#Comparación de resultados con simulación y fórmula cerrada\n",
    "disc,call_sim, put_sim=payoff(tasas,gamma,sigma,zrate,fwd,theta_fwd_measure,T_opcion,T_bono,r,num_sim,num_steps,seed,k,s)\n",
    "#Comparación de la Put\n",
    "print(\"La Put con fórmula cerrada es:\",put(T_bono,T_opcion,t,sigma,gamma,r,k))   \n",
    "print(\"La Put calculada con simulación es:\",put_sim)  \n",
    "\n",
    "print(\"=============================================================\")\n",
    "\n",
    "#Comparación de la Call\n",
    "print(\"La Call con fórmula cerrada es:\",call(T_bono,T_opcion,t,sigma,gamma,r,k)) \n",
    "print(\"La Call calculada con simulación es:\",call_sim)  "
   ]
  },
  {
   "cell_type": "markdown",
   "metadata": {},
   "source": [
    "## Test"
   ]
  },
  {
   "cell_type": "code",
   "execution_count": 26,
   "metadata": {
    "ExecuteTime": {
     "end_time": "2020-12-17T20:22:19.477452Z",
     "start_time": "2020-12-17T20:22:19.474312Z"
    }
   },
   "outputs": [],
   "source": [
    "import hull_white as hw"
   ]
  },
  {
   "cell_type": "code",
   "execution_count": 32,
   "metadata": {
    "ExecuteTime": {
     "end_time": "2020-12-17T20:25:51.358174Z",
     "start_time": "2020-12-17T20:25:51.352031Z"
    }
   },
   "outputs": [
    {
     "name": "stdout",
     "output_type": "stream",
     "text": [
      "1.01 0.00063851832291556\n"
     ]
    }
   ],
   "source": [
    "call = hw.zcb_call_put(hw.CallPut.CALL, k, T_opcion, T_bono, zrate(0),\n",
    "                       math.exp(-zrate(T_opcion) * T_opcion),\n",
    "                       math.exp(-zrate(T_bono) * T_bono),\n",
    "                       gamma,\n",
    "                       sigma)\n",
    "print(k, call)"
   ]
  },
  {
   "cell_type": "code",
   "execution_count": 33,
   "metadata": {
    "ExecuteTime": {
     "end_time": "2020-12-17T20:26:26.859760Z",
     "start_time": "2020-12-17T20:26:26.854033Z"
    }
   },
   "outputs": [
    {
     "name": "stdout",
     "output_type": "stream",
     "text": [
      "1.01 0.01106387858783342\n"
     ]
    }
   ],
   "source": [
    "put = hw.zcb_call_put(hw.CallPut.PUT, k, T_opcion, T_bono, zrate(0),\n",
    "                       math.exp(-zrate(T_opcion) * T_opcion),\n",
    "                       math.exp(-zrate(T_bono) * T_bono),\n",
    "                       gamma,\n",
    "                       sigma)\n",
    "print(k, put)"
   ]
  }
 ],
 "metadata": {
  "hide_input": false,
  "kernelspec": {
   "display_name": "Python 3",
   "language": "python",
   "name": "python3"
  },
  "language_info": {
   "codemirror_mode": {
    "name": "ipython",
    "version": 3
   },
   "file_extension": ".py",
   "mimetype": "text/x-python",
   "name": "python",
   "nbconvert_exporter": "python",
   "pygments_lexer": "ipython3",
   "version": "3.7.3"
  },
  "toc": {
   "base_numbering": 1,
   "nav_menu": {},
   "number_sections": true,
   "sideBar": true,
   "skip_h1_title": false,
   "title_cell": "Table of Contents",
   "title_sidebar": "Contents",
   "toc_cell": false,
   "toc_position": {},
   "toc_section_display": true,
   "toc_window_display": false
  }
 },
 "nbformat": 4,
 "nbformat_minor": 4
}
