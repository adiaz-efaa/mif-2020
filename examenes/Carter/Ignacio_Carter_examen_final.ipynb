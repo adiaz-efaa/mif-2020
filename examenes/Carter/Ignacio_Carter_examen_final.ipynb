{
 "cells": [
  {
   "cell_type": "markdown",
   "metadata": {},
   "source": [
    "# Examen Final"
   ]
  },
  {
   "cell_type": "markdown",
   "metadata": {},
   "source": [
    "- Prender cámaras.\n",
    "- Puede utilizar sus apuntes.\n",
    "- Puede utilizar los notebooks del curso.\n",
    "- La alumna o alumno que sea sorprendido solicitando ayuda a cualquier persona, sea ella compañera o no, será calificada con un 2.\n",
    "- Cada pregunta vale un punto.\n",
    "- La nota mínima es un 2.\n",
    "- La nota se determinará con la siguiente fórmula $nota = \\min\\left(puntos + 2, 7\\right)$\n",
    "- Todas las funciones necesarias para resolver los ejercicios están ya importadas al notebook."
   ]
  },
  {
   "cell_type": "markdown",
   "metadata": {},
   "source": [
    "## Librerías"
   ]
  },
  {
   "cell_type": "code",
   "execution_count": 20,
   "metadata": {
    "ExecuteTime": {
     "end_time": "2020-12-11T20:31:48.898703Z",
     "start_time": "2020-12-11T20:31:48.880113Z"
    }
   },
   "outputs": [],
   "source": [
    "from finrisk import examen_final as ef\n",
    "from scipy.interpolate import interp1d\n",
    "import modules.hull_white as hw\n",
    "import modules.auxiliary as aux\n",
    "import pandas as pd\n",
    "import numpy as np\n",
    "import textwrap\n",
    "import random\n",
    "import math"
   ]
  },
  {
   "cell_type": "markdown",
   "metadata": {},
   "source": [
    "## Curva Cero Cupón"
   ]
  },
  {
   "cell_type": "markdown",
   "metadata": {},
   "source": [
    "Los plazos están en días y las tasas en convención exp act/365."
   ]
  },
  {
   "cell_type": "code",
   "execution_count": 2,
   "metadata": {
    "ExecuteTime": {
     "end_time": "2020-12-11T20:05:35.292650Z",
     "start_time": "2020-12-11T20:05:35.255204Z"
    }
   },
   "outputs": [],
   "source": [
    "df_curva = pd.read_excel('data/20201012_built_sofr_zero.xlsx')"
   ]
  },
  {
   "cell_type": "code",
   "execution_count": 3,
   "metadata": {
    "ExecuteTime": {
     "end_time": "2020-12-11T20:05:35.315540Z",
     "start_time": "2020-12-11T20:05:35.295756Z"
    }
   },
   "outputs": [
    {
     "data": {
      "text/html": [
       "<div>\n",
       "<style scoped>\n",
       "    .dataframe tbody tr th:only-of-type {\n",
       "        vertical-align: middle;\n",
       "    }\n",
       "\n",
       "    .dataframe tbody tr th {\n",
       "        vertical-align: top;\n",
       "    }\n",
       "\n",
       "    .dataframe thead th {\n",
       "        text-align: right;\n",
       "    }\n",
       "</style>\n",
       "<table border=\"1\" class=\"dataframe\">\n",
       "  <thead>\n",
       "    <tr style=\"text-align: right;\">\n",
       "      <th></th>\n",
       "      <th>plazo</th>\n",
       "      <th>tasa</th>\n",
       "      <th>df</th>\n",
       "    </tr>\n",
       "  </thead>\n",
       "  <tbody>\n",
       "    <tr>\n",
       "      <th>0</th>\n",
       "      <td>1</td>\n",
       "      <td>0.000811</td>\n",
       "      <td>0.999998</td>\n",
       "    </tr>\n",
       "    <tr>\n",
       "      <th>1</th>\n",
       "      <td>7</td>\n",
       "      <td>0.000841</td>\n",
       "      <td>0.999984</td>\n",
       "    </tr>\n",
       "    <tr>\n",
       "      <th>2</th>\n",
       "      <td>14</td>\n",
       "      <td>0.000780</td>\n",
       "      <td>0.999970</td>\n",
       "    </tr>\n",
       "    <tr>\n",
       "      <th>3</th>\n",
       "      <td>21</td>\n",
       "      <td>0.000774</td>\n",
       "      <td>0.999955</td>\n",
       "    </tr>\n",
       "    <tr>\n",
       "      <th>4</th>\n",
       "      <td>33</td>\n",
       "      <td>0.000781</td>\n",
       "      <td>0.999929</td>\n",
       "    </tr>\n",
       "  </tbody>\n",
       "</table>\n",
       "</div>"
      ],
      "text/plain": [
       "   plazo      tasa        df\n",
       "0      1  0.000811  0.999998\n",
       "1      7  0.000841  0.999984\n",
       "2     14  0.000780  0.999970\n",
       "3     21  0.000774  0.999955\n",
       "4     33  0.000781  0.999929"
      ]
     },
     "execution_count": 3,
     "metadata": {},
     "output_type": "execute_result"
    }
   ],
   "source": [
    "df_curva.head()"
   ]
  },
  {
   "cell_type": "code",
   "execution_count": 4,
   "metadata": {
    "ExecuteTime": {
     "end_time": "2020-12-11T20:05:35.323500Z",
     "start_time": "2020-12-11T20:05:35.318006Z"
    }
   },
   "outputs": [],
   "source": [
    "curva = interp1d(df_curva['plazo'], df_curva['tasa'], 'linear', fill_value='extrapolate')"
   ]
  },
  {
   "cell_type": "markdown",
   "metadata": {},
   "source": [
    "## Cálculo Opción"
   ]
  },
  {
   "cell_type": "markdown",
   "metadata": {},
   "source": [
    "Para identificar si es una Call o una Put se usa un `enum`."
   ]
  },
  {
   "cell_type": "code",
   "execution_count": 5,
   "metadata": {
    "ExecuteTime": {
     "end_time": "2020-12-11T20:05:35.332009Z",
     "start_time": "2020-12-11T20:05:35.328054Z"
    }
   },
   "outputs": [],
   "source": [
    "c_p = hw.CallPut.CALL\n",
    "c_p = hw.CallPut.PUT"
   ]
  },
  {
   "cell_type": "markdown",
   "metadata": {},
   "source": [
    "Ver toda la documentación:"
   ]
  },
  {
   "cell_type": "code",
   "execution_count": 6,
   "metadata": {
    "ExecuteTime": {
     "end_time": "2020-12-11T20:05:35.341456Z",
     "start_time": "2020-12-11T20:05:35.335166Z"
    }
   },
   "outputs": [
    {
     "name": "stdout",
     "output_type": "stream",
     "text": [
      "\n",
      "    Calcula el valor de una call o una put sobre un bono cero cupón en el modelo de HW.\n",
      "    \n",
      "    params:\n",
      "    \n",
      "    - c_p: indica si es la opción es Call o Put. Es un `enum` de tipo CallPut. Ejemplo, c_p = CallPut.CALL.\n",
      "    - strike: es el strike de la opción. Se ingresa como número. Un strike del 90% se ingresa como .9.\n",
      "    - r0: es la tasa corta al momento de valorizar la opción (t = 0).\n",
      "    - to: instante de tiempo en que vence la opción, expresado en años.\n",
      "    - tb: instante de tiempo en que vence el bono subyacente, expresado en años. Debe ser tb > to.\n",
      "    - zo: factor de descuento de mercado a tiempo t = 0 hasta to.\n",
      "    - zb: factor de descuento de mercado a tiempo t = 0 hasta tb.\n",
      "    - gamma: parámetro gamma del modelo HW.\n",
      "    - sigma: parámetro sigma del modelo HW.\n",
      "    \n",
      "    return:\n",
      "    \n",
      "    -  el valor de la opción.\n",
      "    \n"
     ]
    }
   ],
   "source": [
    "print(hw.zcb_call_put.__doc__)"
   ]
  },
  {
   "cell_type": "markdown",
   "metadata": {},
   "source": [
    "## Valores `gamma` y `sigma`"
   ]
  },
  {
   "cell_type": "code",
   "execution_count": 7,
   "metadata": {
    "ExecuteTime": {
     "end_time": "2020-12-11T20:05:35.350533Z",
     "start_time": "2020-12-11T20:05:35.344159Z"
    }
   },
   "outputs": [],
   "source": [
    "gamma = 1\n",
    "sigma = .005"
   ]
  },
  {
   "cell_type": "code",
   "execution_count": 8,
   "metadata": {
    "ExecuteTime": {
     "end_time": "2020-12-11T20:05:35.379355Z",
     "start_time": "2020-12-11T20:05:35.353534Z"
    }
   },
   "outputs": [
    {
     "name": "stdout",
     "output_type": "stream",
     "text": [
      "0.98 0.019553575799963863\n",
      "0.981 0.0185542779311344\n",
      "0.982 0.017554980062305048\n",
      "0.983 0.016555682193475696\n",
      "0.984 0.015556384324646233\n",
      "0.985 0.014557086455816881\n",
      "0.99 0.0095605971116699\n",
      "0.991 0.008561299242840548\n",
      "0.992 0.007562001374011196\n",
      "0.993 0.006562703505181733\n"
     ]
    }
   ],
   "source": [
    "strikes = [.98, .981, .982, .983, .984, .985, .99, .991, .992, .993]\n",
    "for k in strikes:\n",
    "    print(k, hw.zcb_call_put(\n",
    "        hw.CallPut.CALL,\n",
    "        k,\n",
    "        curva(.0001),\n",
    "        1,\n",
    "        2,\n",
    "        math.exp(-curva(365)),\n",
    "        math.exp(-curva(730) * 730 / 365.0),\n",
    "        gamma,\n",
    "        sigma\n",
    "    ))"
   ]
  },
  {
   "cell_type": "markdown",
   "metadata": {},
   "source": [
    "## Preguntas"
   ]
  },
  {
   "cell_type": "code",
   "execution_count": 9,
   "metadata": {
    "ExecuteTime": {
     "end_time": "2020-12-11T20:05:35.391646Z",
     "start_time": "2020-12-11T20:05:35.383209Z"
    },
    "hide_input": false
   },
   "outputs": [],
   "source": [
    "try:\n",
    "    q = ef.get_questions()\n",
    "except Exception as e:\n",
    "    print(str(e))"
   ]
  },
  {
   "cell_type": "code",
   "execution_count": 10,
   "metadata": {
    "ExecuteTime": {
     "end_time": "2020-12-11T20:05:35.406411Z",
     "start_time": "2020-12-11T20:05:35.394812Z"
    },
    "hide_input": true
   },
   "outputs": [
    {
     "name": "stdout",
     "output_type": "stream",
     "text": [
      "Pregunta 1:\n",
      "\n",
      "Ceteris paribus una opción sobre una activo con reversión a la media vale menos\n",
      "que una opción sobre un activo sin reversión a la media. Comente.\n",
      "\n",
      "\n",
      "Pregunta 2:\n",
      "\n",
      "Calcule la TNA con ICP0 = 10,000.00 e ICP365 = 10,049.00 (365 días después).\n",
      "\n",
      "\n",
      "Pregunta 3:\n",
      "\n",
      "Con la curva cero cupón, interpolando linealmente en tasa, calcule la tasa\n",
      "forward entre 982 y 1454 días.\n",
      "\n",
      "\n",
      "Pregunta 4:\n",
      "\n",
      "Explique la diferencia entre valorizar un payoff g(r(T), T) por simulación de\n",
      "Montecarlo utilizando el modelo de Hull-White en la medida libre de riesgo y el\n",
      "modelo de Hull-White en la medida T-forward.\n",
      "\n",
      "\n",
      "Pregunta 5:\n",
      "\n",
      "Calcule un paso de simulación de Montecarlo para el modelo de Vasicek usando\n",
      "gamma = 1.0, sigma = 0.5%, dt = 1/264, r0 obtenido de la curva cupón cero\n",
      "entregada y número aleatorio N(0, 1) igual a .1.4756 .\n",
      "\n",
      "\n",
      "Pregunta 6:\n",
      "\n",
      "Considere un swap a 1Y con cupones semestrales de 1.4% (lineal). Si la tasa\n",
      "cupón cero a 0.5Y es 1.3% (exp), calcule la tasa cero a 1Y.\n",
      "\n",
      "\n",
      "Pregunta 7:\n",
      "\n",
      "Usando la curva cero cupón entregada y parámetros gamma = 1.0 y sigma = 0.5%\n",
      "valorice una call a 1Y sobre un bono cero cupón a 2Y con un strike de 98.5%.\n",
      "Entregue el resultado 8 decimales y suponiendo un nocional de 1.\n",
      "\n",
      "\n"
     ]
    }
   ],
   "source": [
    "for qq in q:\n",
    "    print(f'{qq[0]}\\n')\n",
    "    print(textwrap.fill(f'{qq[1]}', 80))\n",
    "    print('\\n')"
   ]
  },
  {
   "cell_type": "markdown",
   "metadata": {},
   "source": [
    "## Respuestas"
   ]
  },
  {
   "cell_type": "markdown",
   "metadata": {},
   "source": []
  },
  {
   "cell_type": "code",
   "execution_count": null,
   "metadata": {},
   "outputs": [],
   "source": []
  },
  {
   "cell_type": "markdown",
   "metadata": {},
   "source": [
    "### Pregunta 1"
   ]
  },
  {
   "cell_type": "markdown",
   "metadata": {},
   "source": [
    "Ceteris paribus una opción sobre una activo con reversión a la media vale menos\n",
    "que una opción sobre un activo sin reversión a la media. Comente.\n",
    "\n",
    "**R: Una opción que presenta reversión a la media tiene un mayor precio debido a que la distribución\n",
    "de la opción es mucho más estable, lo que permite una mejor predicción del comportamiento futuro, por lo que\n",
    "no tiende a \"escaparse\" sus valores, es decir, en el largo plazo se sabe que tiende a converger a una media. Sin embargo, aquel instrumento financiero que no presenta reversión a la media puede tener distribución menos estable y\n",
    "podría el precio escaparse de la media.**"
   ]
  },
  {
   "cell_type": "markdown",
   "metadata": {},
   "source": [
    "### Pregunta 2"
   ]
  },
  {
   "cell_type": "markdown",
   "metadata": {},
   "source": [
    "Calcule la TNA con ICP0 = 10,000.00 e ICP365 = 10,049.00 (365 días después).\n",
    "\n",
    "$$TNA=Round\\left(\\left( \\frac{ICP_{T}}{ICP_{t}}-1\\right)\\cdot\\frac{360}{d},4\\right)$$"
   ]
  },
  {
   "cell_type": "code",
   "execution_count": 17,
   "metadata": {
    "ExecuteTime": {
     "end_time": "2020-12-11T20:20:49.034666Z",
     "start_time": "2020-12-11T20:20:49.024655Z"
    }
   },
   "outputs": [
    {
     "name": "stdout",
     "output_type": "stream",
     "text": [
      "Resultado TNA:0.004800\n"
     ]
    }
   ],
   "source": [
    "ICP_365 = 10049.0\n",
    "ICP_0 = 10000.0\n",
    "d = 365\n",
    "TNA = round((ICP_365/ICP_0 -1)*(360/d),4)\n",
    "print(f'Resultado TNA:{TNA:f}')"
   ]
  },
  {
   "cell_type": "markdown",
   "metadata": {},
   "source": [
    "### Pregunta 3"
   ]
  },
  {
   "cell_type": "markdown",
   "metadata": {},
   "source": [
    "Con la curva cero cupón, interpolando linealmente en tasa, calcule la tasa\n",
    "forward entre 982 y 1454 días."
   ]
  },
  {
   "cell_type": "code",
   "execution_count": 18,
   "metadata": {
    "ExecuteTime": {
     "end_time": "2020-12-11T20:24:23.142171Z",
     "start_time": "2020-12-11T20:24:23.136788Z"
    }
   },
   "outputs": [],
   "source": [
    "#Interpolación\n",
    "curva = interp1d(df_curva['plazo'], df_curva['tasa'], 'linear', fill_value='extrapolate')"
   ]
  },
  {
   "cell_type": "code",
   "execution_count": 28,
   "metadata": {
    "ExecuteTime": {
     "end_time": "2020-12-11T20:37:50.673359Z",
     "start_time": "2020-12-11T20:37:50.665005Z"
    }
   },
   "outputs": [
    {
     "name": "stdout",
     "output_type": "stream",
     "text": [
      "La tasa forward entre 982 días y 1454 días es de 0.23687660%\n"
     ]
    }
   ],
   "source": [
    "t1 = 982\n",
    "t2 = 1454\n",
    "r1 = curva(t1)\n",
    "r2 = curva(t2)\n",
    "df_982 = math.exp(-r1 * t1 / 365)\n",
    "df_1454 = math.exp(-r2 * t2 / 365)\n",
    "fwd_rate = (df_982 / df_1454 - 1.0) * 360.0 / (t2 - t1)\n",
    "print(f'La tasa forward entre 982 días y 1454 días es de {fwd_rate:.8%}')\n"
   ]
  },
  {
   "cell_type": "markdown",
   "metadata": {},
   "source": [
    "### Pregunta 4"
   ]
  },
  {
   "cell_type": "markdown",
   "metadata": {},
   "source": [
    "Explique la diferencia entre valorizar un payoff g(r(T), T) por simulación de\n",
    "Montecarlo utilizando el modelo de Hull-White en la medida libre de riesgo y el\n",
    "modelo de Hull-White en la medida T-forward.\n",
    "\n",
    "**R: El valorizar en la medida libre de riesgo implica que uno descuento los flujos del payoff de la opción\n",
    "con los factores de descuento que simuló con el modelo, por lo tanto, se utiliza el mismo camino que\n",
    "sigue la tasa para descontar y traer a valor presente el payoff. Sin embargo, el utilizar la medida forward\n",
    "uno utiliza el factor de descuento de la curva cero cupon al plazo que corresponde el vencimiento, por lo tanto,\n",
    "este payoff se descuenta con la tasa esperada de la curva**"
   ]
  },
  {
   "cell_type": "markdown",
   "metadata": {
    "ExecuteTime": {
     "end_time": "2020-12-11T02:18:04.908007Z",
     "start_time": "2020-12-11T02:18:04.905073Z"
    }
   },
   "source": [
    "### Pregunta 5"
   ]
  },
  {
   "cell_type": "markdown",
   "metadata": {},
   "source": [
    "Calcule un paso de simulación de Montecarlo para el modelo de Vasicek usando\n",
    "gamma = 1.0, sigma = 0.5%, dt = 1/264, r0 obtenido de la curva cupón cero\n",
    "entregada y número aleatorio N(0, 1) igual a .1.4756 ."
   ]
  },
  {
   "cell_type": "code",
   "execution_count": 39,
   "metadata": {
    "ExecuteTime": {
     "end_time": "2020-12-11T20:57:38.970962Z",
     "start_time": "2020-12-11T20:57:38.964629Z"
    }
   },
   "outputs": [
    {
     "name": "stdout",
     "output_type": "stream",
     "text": [
      "El resultado tras una simulación es:0.12761808%\n"
     ]
    }
   ],
   "source": [
    "gamma = 1\n",
    "sigma = 0.005\n",
    "dt = 1/264\n",
    "r0 = curva(0)\n",
    "r_ = 0.005\n",
    "alea = 1.4756\n",
    "drt = gamma*(r_ - r0)*dt + sigma*math.sqrt(dt)*alea\n",
    "r1 = r0 + drt\n",
    "print(f'El resultado tras una simulación es:{r1:.8%}')"
   ]
  },
  {
   "cell_type": "markdown",
   "metadata": {},
   "source": [
    "### Pregunta 6"
   ]
  },
  {
   "cell_type": "markdown",
   "metadata": {},
   "source": [
    "Considere un swap a 1Y con cupones semestrales de 1.4% (lineal). Si la tasa\n",
    "cupón cero a 0.5Y es 1.3% (exp), calcule la tasa cero a 1Y."
   ]
  },
  {
   "cell_type": "code",
   "execution_count": 73,
   "metadata": {
    "ExecuteTime": {
     "end_time": "2020-12-11T21:40:40.410289Z",
     "start_time": "2020-12-11T21:40:40.397733Z"
    }
   },
   "outputs": [
    {
     "name": "stdout",
     "output_type": "stream",
     "text": [
      "Tasa cero 1Y: 1.35668190%\n"
     ]
    }
   ],
   "source": [
    "wf1 = 1 + 0.014*0.5\n",
    "wf2 = math.exp(0.013)**(1/2)\n",
    "tasa = ((wf1*wf2) -1)*1\n",
    "print(f'Tasa cero 1Y: {tasa:.8%}')"
   ]
  },
  {
   "cell_type": "markdown",
   "metadata": {},
   "source": [
    "### Pregunta 7"
   ]
  },
  {
   "cell_type": "markdown",
   "metadata": {},
   "source": [
    "Usando la curva cero cupón entregada y parámetros gamma = 1.0 y sigma = 0.5%\n",
    "valorice una call a 1Y sobre un bono cero cupón a 2Y con un strike de 98.5%.\n",
    "Entregue el resultado 8 decimales y suponiendo un nocional de 1."
   ]
  },
  {
   "cell_type": "code",
   "execution_count": 44,
   "metadata": {
    "ExecuteTime": {
     "end_time": "2020-12-11T21:10:14.149965Z",
     "start_time": "2020-12-11T21:10:14.144811Z"
    }
   },
   "outputs": [],
   "source": [
    "from scipy.stats import norm"
   ]
  },
  {
   "cell_type": "code",
   "execution_count": 45,
   "metadata": {
    "ExecuteTime": {
     "end_time": "2020-12-11T21:10:15.639759Z",
     "start_time": "2020-12-11T21:10:15.629065Z"
    }
   },
   "outputs": [],
   "source": [
    "def option_price(strike,r,gamma,sigma,zrate,fwd,t,Tb,To,e):\n",
    "    \"\"\"\n",
    "    Función calcula el precio de una call o put sobre bonos cupón cero con el modelo de HW. Se tomará como fecha\n",
    "    de vencimiento 1Y.\n",
    "    \"\"\"\n",
    "    z_tb = zero_hw(r, gamma, sigma, zrate, fwd, t, Tb)\n",
    "    z_to = zero_hw(r, gamma, sigma, zrate, fwd, t, To)\n",
    "    d1 = get_d1(z_tb,z_to,strike,gamma,Tb,To)\n",
    "    d2 = get_d2(z_tb,z_to,strike,gamma,Tb,To)\n",
    "    \n",
    "    price = z_to*(e*(z_tb/z_to)*norm.cdf(e*d1) - e*strike*norm.cdf(e*d2))\n",
    "        \n",
    "    return price"
   ]
  },
  {
   "cell_type": "code",
   "execution_count": 46,
   "metadata": {
    "ExecuteTime": {
     "end_time": "2020-12-11T21:10:16.415453Z",
     "start_time": "2020-12-11T21:10:16.405807Z"
    }
   },
   "outputs": [],
   "source": [
    "def get_d1(z_tb,z_to,strike,gamma,Tb,To):\n",
    "    \n",
    "    \"\"\"\n",
    "    Calcula la funcion d1 de formula de opciones\n",
    "    \"\"\"\n",
    "\n",
    "    sz = s_z(gamma,sigma,Tb,To)\n",
    "    aux1 = math.log(z_tb/(strike*z_to))\n",
    "    d1 = (aux1 + 0.5*sz**2)/sz\n",
    "    return d1"
   ]
  },
  {
   "cell_type": "code",
   "execution_count": 47,
   "metadata": {
    "ExecuteTime": {
     "end_time": "2020-12-11T21:10:17.274641Z",
     "start_time": "2020-12-11T21:10:17.268140Z"
    }
   },
   "outputs": [],
   "source": [
    "def get_d2(z_tb,z_to,strike,gamma,Tb,To):\n",
    "    \n",
    "    \"\"\"\n",
    "    Calcula la funcion d2 de formula de opciones\n",
    "    \"\"\"\n",
    "    \n",
    "    d1 = get_d1(z_tb,z_to,strike,gamma,Tb,To)\n",
    "    sz = s_z(gamma,sigma,Tb,To)\n",
    "    d2 = d1 - sz\n",
    "    return d2"
   ]
  },
  {
   "cell_type": "code",
   "execution_count": 58,
   "metadata": {
    "ExecuteTime": {
     "end_time": "2020-12-11T21:15:17.529213Z",
     "start_time": "2020-12-11T21:15:17.520986Z"
    }
   },
   "outputs": [],
   "source": [
    "def s_z(gamma:float,\n",
    "        sigma:float,\n",
    "        Tb: float,To: float) -> float:\n",
    "    \n",
    "    \"\"\"\n",
    "    Calcula la funcion Sz\n",
    "    \"\"\"\n",
    "    \n",
    "    B = b_hw(gamma,To,Tb)\n",
    "    aux1 = 1 - math.exp(-2*gamma*To)\n",
    "    aux2 = (sigma**2)/(2*gamma)\n",
    "    sz = B*math.sqrt(aux2*aux1)\n",
    "    return sz"
   ]
  },
  {
   "cell_type": "code",
   "execution_count": 55,
   "metadata": {
    "ExecuteTime": {
     "end_time": "2020-12-11T21:14:41.285725Z",
     "start_time": "2020-12-11T21:14:41.279582Z"
    }
   },
   "outputs": [],
   "source": [
    "def zrate(t: float) -> float:\n",
    "    return curva(t)\n",
    "\n",
    "\n",
    "def dzrate(t: float) -> float:\n",
    "    delta = .0001\n",
    "    return (curva(t + delta) - zrate(t)) / delta\n",
    "\n",
    "\n",
    "def d2zrate(t: float) -> float:\n",
    "    delta = .0001\n",
    "    return (dzrate(t + delta) - dzrate(t)) / delta"
   ]
  },
  {
   "cell_type": "code",
   "execution_count": 56,
   "metadata": {
    "ExecuteTime": {
     "end_time": "2020-12-11T21:14:42.420551Z",
     "start_time": "2020-12-11T21:14:42.416183Z"
    }
   },
   "outputs": [],
   "source": [
    "def fwd(t: float) -> float:\n",
    "    return zrate(t) + t * dzrate(t)\n",
    "\n",
    "def dfwd(t: float) -> float:\n",
    "    return 2 * dzrate(t) + t * d2zrate(t)"
   ]
  },
  {
   "cell_type": "code",
   "execution_count": 51,
   "metadata": {
    "ExecuteTime": {
     "end_time": "2020-12-11T21:14:09.437067Z",
     "start_time": "2020-12-11T21:14:09.431672Z"
    }
   },
   "outputs": [],
   "source": [
    "def zero_hw(r: float, gamma: float, sigma: float,\n",
    "            zrate: float, fwd: float, t: float, T: float) -> float:\n",
    "    a = a_hw(zrate, fwd, gamma, sigma, t, T)\n",
    "    b = b_hw(gamma, t, T)\n",
    "    return math.exp(a - b * r)"
   ]
  },
  {
   "cell_type": "code",
   "execution_count": 52,
   "metadata": {
    "ExecuteTime": {
     "end_time": "2020-12-11T21:14:10.371304Z",
     "start_time": "2020-12-11T21:14:10.359795Z"
    }
   },
   "outputs": [],
   "source": [
    "def a_hw(zrate: float, fwd, gamma: float, sigma: float, t: float, T: float,\n",
    "         verbose = False):\n",
    "    \"\"\"\n",
    "    verbose: cuando es True imprime los valores de c1, c2 y c3.\n",
    "    \"\"\"\n",
    "    b = b_hw(gamma, t, T)\n",
    "    dfT = math.exp(-zrate(T) * T)\n",
    "    dft = math.exp(-zrate(t) * t)\n",
    "    c1 = math.log(dfT / dft)\n",
    "    c2 = b * fwd(t)\n",
    "    c3 = (sigma**2) / (4 * gamma) * (b**2) * (1 - math.exp(-2 * gamma * t))\n",
    "    if verbose:\n",
    "        print(\"c1: \" + str(c1))\n",
    "        print(\"c2: \" + str(c2))\n",
    "        print(\"c3: \" + str(c3))\n",
    "    return c1 + c2 - c3"
   ]
  },
  {
   "cell_type": "code",
   "execution_count": 53,
   "metadata": {
    "ExecuteTime": {
     "end_time": "2020-12-11T21:14:11.491927Z",
     "start_time": "2020-12-11T21:14:11.486211Z"
    }
   },
   "outputs": [],
   "source": [
    "def b_hw(gamma: float, t: float, T: float) -> float:\n",
    "    \"\"\"\n",
    "    Calcula el valor de la función B(t,T) que interviene en la fórmula\n",
    "    para el valor de un bono cupón cero en el modelo de HW.\n",
    "    \"\"\"\n",
    "    aux = 1 - math.exp(- gamma * (T - t))\n",
    "    return aux / gamma"
   ]
  },
  {
   "cell_type": "code",
   "execution_count": 63,
   "metadata": {
    "ExecuteTime": {
     "end_time": "2020-12-11T21:16:20.933502Z",
     "start_time": "2020-12-11T21:16:20.925464Z"
    }
   },
   "outputs": [
    {
     "name": "stdout",
     "output_type": "stream",
     "text": [
      "Tiempo vencimiento bono es 2 años y tiempo vencimiento de la opcion es 1 año\n",
      "Precio Call: 0.01416793\n"
     ]
    }
   ],
   "source": [
    "sigma = .005\n",
    "gamma = 1\n",
    "r0 = curva(0)\n",
    "t = 0\n",
    "To = 1\n",
    "Tb = 2\n",
    "strike = 0.985\n",
    "\n",
    "price_call = option_price(strike,r0,gamma,sigma,zrate,fwd,t,Tb,To,1)\n",
    "print(\"Tiempo vencimiento bono es\",Tb,\"años y tiempo vencimiento de la opcion es\",To,\"año\")\n",
    "print(f'Precio Call: {price_call:.8f}')"
   ]
  },
  {
   "cell_type": "code",
   "execution_count": null,
   "metadata": {},
   "outputs": [],
   "source": []
  }
 ],
 "metadata": {
  "hide_input": false,
  "kernelspec": {
   "display_name": "Python 3",
   "language": "python",
   "name": "python3"
  },
  "language_info": {
   "codemirror_mode": {
    "name": "ipython",
    "version": 3
   },
   "file_extension": ".py",
   "mimetype": "text/x-python",
   "name": "python",
   "nbconvert_exporter": "python",
   "pygments_lexer": "ipython3",
   "version": "3.7.3"
  },
  "toc": {
   "base_numbering": "16",
   "nav_menu": {},
   "number_sections": true,
   "sideBar": true,
   "skip_h1_title": false,
   "title_cell": "Table of Contents",
   "title_sidebar": "Contenido",
   "toc_cell": false,
   "toc_position": {
    "height": "calc(100% - 180px)",
    "left": "10px",
    "top": "150px",
    "width": "165px"
   },
   "toc_section_display": true,
   "toc_window_display": true
  }
 },
 "nbformat": 4,
 "nbformat_minor": 4
}
