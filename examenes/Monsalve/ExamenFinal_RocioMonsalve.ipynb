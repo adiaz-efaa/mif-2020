{
 "cells": [
  {
   "cell_type": "markdown",
   "metadata": {},
   "source": [
    "# Examen Final"
   ]
  },
  {
   "cell_type": "markdown",
   "metadata": {},
   "source": [
    "- Prender cámaras.\n",
    "- Puede utilizar sus apuntes.\n",
    "- Puede utilizar los notebooks del curso.\n",
    "- La alumna o alumno que sea sorprendido solicitando ayuda a cualquier persona, sea ella compañera o no, será calificada con un 2.\n",
    "- Cada pregunta vale un punto.\n",
    "- La nota mínima es un 2.\n",
    "- La nota se determinará con la siguiente fórmula $nota = \\min\\left(puntos + 2, 7\\right)$\n",
    "- Todas las funciones necesarias para resolver los ejercicios están ya importadas al notebook."
   ]
  },
  {
   "cell_type": "markdown",
   "metadata": {},
   "source": [
    "## Librerías"
   ]
  },
  {
   "cell_type": "code",
   "execution_count": 11,
   "metadata": {
    "ExecuteTime": {
     "end_time": "2020-12-11T20:50:49.913668Z",
     "start_time": "2020-12-11T20:50:49.909823Z"
    }
   },
   "outputs": [],
   "source": [
    "from finrisk import examen_final as ef\n",
    "from scipy.interpolate import interp1d\n",
    "import modules.hull_white as hw\n",
    "import pandas as pd\n",
    "import numpy as np\n",
    "import textwrap\n",
    "import random\n",
    "import math\n"
   ]
  },
  {
   "cell_type": "markdown",
   "metadata": {},
   "source": [
    "## Curva Cero Cupón"
   ]
  },
  {
   "cell_type": "markdown",
   "metadata": {},
   "source": [
    "Los plazos están en días y las tasas en convención exp act/365."
   ]
  },
  {
   "cell_type": "code",
   "execution_count": 12,
   "metadata": {
    "ExecuteTime": {
     "end_time": "2020-12-11T20:50:51.048844Z",
     "start_time": "2020-12-11T20:50:51.038077Z"
    }
   },
   "outputs": [],
   "source": [
    "df_curva = pd.read_excel('data/20201012_built_sofr_zero.xlsx')"
   ]
  },
  {
   "cell_type": "code",
   "execution_count": 13,
   "metadata": {
    "ExecuteTime": {
     "end_time": "2020-12-11T20:50:52.984312Z",
     "start_time": "2020-12-11T20:50:52.973730Z"
    }
   },
   "outputs": [
    {
     "data": {
      "text/html": [
       "<div>\n",
       "<style scoped>\n",
       "    .dataframe tbody tr th:only-of-type {\n",
       "        vertical-align: middle;\n",
       "    }\n",
       "\n",
       "    .dataframe tbody tr th {\n",
       "        vertical-align: top;\n",
       "    }\n",
       "\n",
       "    .dataframe thead th {\n",
       "        text-align: right;\n",
       "    }\n",
       "</style>\n",
       "<table border=\"1\" class=\"dataframe\">\n",
       "  <thead>\n",
       "    <tr style=\"text-align: right;\">\n",
       "      <th></th>\n",
       "      <th>plazo</th>\n",
       "      <th>tasa</th>\n",
       "      <th>df</th>\n",
       "    </tr>\n",
       "  </thead>\n",
       "  <tbody>\n",
       "    <tr>\n",
       "      <th>0</th>\n",
       "      <td>1</td>\n",
       "      <td>0.000811</td>\n",
       "      <td>0.999998</td>\n",
       "    </tr>\n",
       "    <tr>\n",
       "      <th>1</th>\n",
       "      <td>7</td>\n",
       "      <td>0.000841</td>\n",
       "      <td>0.999984</td>\n",
       "    </tr>\n",
       "    <tr>\n",
       "      <th>2</th>\n",
       "      <td>14</td>\n",
       "      <td>0.000780</td>\n",
       "      <td>0.999970</td>\n",
       "    </tr>\n",
       "    <tr>\n",
       "      <th>3</th>\n",
       "      <td>21</td>\n",
       "      <td>0.000774</td>\n",
       "      <td>0.999955</td>\n",
       "    </tr>\n",
       "    <tr>\n",
       "      <th>4</th>\n",
       "      <td>33</td>\n",
       "      <td>0.000781</td>\n",
       "      <td>0.999929</td>\n",
       "    </tr>\n",
       "  </tbody>\n",
       "</table>\n",
       "</div>"
      ],
      "text/plain": [
       "   plazo      tasa        df\n",
       "0      1  0.000811  0.999998\n",
       "1      7  0.000841  0.999984\n",
       "2     14  0.000780  0.999970\n",
       "3     21  0.000774  0.999955\n",
       "4     33  0.000781  0.999929"
      ]
     },
     "execution_count": 13,
     "metadata": {},
     "output_type": "execute_result"
    }
   ],
   "source": [
    "df_curva.head()"
   ]
  },
  {
   "cell_type": "code",
   "execution_count": 14,
   "metadata": {
    "ExecuteTime": {
     "end_time": "2020-12-11T20:50:53.737531Z",
     "start_time": "2020-12-11T20:50:53.732375Z"
    }
   },
   "outputs": [],
   "source": [
    "curva = interp1d(df_curva['plazo'], df_curva['tasa'], 'linear', fill_value='extrapolate')"
   ]
  },
  {
   "cell_type": "markdown",
   "metadata": {},
   "source": [
    "## Cálculo Opción"
   ]
  },
  {
   "cell_type": "markdown",
   "metadata": {},
   "source": [
    "Para identificar si es una Call o una Put se usa un `enum`."
   ]
  },
  {
   "cell_type": "code",
   "execution_count": 15,
   "metadata": {
    "ExecuteTime": {
     "end_time": "2020-12-11T20:50:55.152498Z",
     "start_time": "2020-12-11T20:50:55.145476Z"
    }
   },
   "outputs": [],
   "source": [
    "c_p = hw.CallPut.CALL\n",
    "c_p = hw.CallPut.PUT"
   ]
  },
  {
   "cell_type": "markdown",
   "metadata": {},
   "source": [
    "Ver toda la documentación:"
   ]
  },
  {
   "cell_type": "code",
   "execution_count": 16,
   "metadata": {
    "ExecuteTime": {
     "end_time": "2020-12-11T20:50:57.688202Z",
     "start_time": "2020-12-11T20:50:57.682410Z"
    }
   },
   "outputs": [
    {
     "name": "stdout",
     "output_type": "stream",
     "text": [
      "\n",
      "    Calcula el valor de una call o una put sobre un bono cero cupón en el modelo de HW.\n",
      "    \n",
      "    params:\n",
      "    \n",
      "    - c_p: indica si es la opción es Call o Put. Es un `enum` de tipo CallPut. Ejemplo, c_p = CallPut.CALL.\n",
      "    - strike: es el strike de la opción. Se ingresa como número. Un strike del 90% se ingresa como .9.\n",
      "    - r0: es la tasa corta al momento de valorizar la opción (t = 0).\n",
      "    - to: instante de tiempo en que vence la opción, expresado en años.\n",
      "    - tb: instante de tiempo en que vence el bono subyacente, expresado en años. Debe ser tb > to.\n",
      "    - zo: factor de descuento de mercado a tiempo t = 0 hasta to.\n",
      "    - zb: factor de descuento de mercado a tiempo t = 0 hasta tb.\n",
      "    - gamma: parámetro gamma del modelo HW.\n",
      "    - sigma: parámetro sigma del modelo HW.\n",
      "    \n",
      "    return:\n",
      "    \n",
      "    -  el valor de la opción.\n",
      "    \n"
     ]
    }
   ],
   "source": [
    "print(hw.zcb_call_put.__doc__)"
   ]
  },
  {
   "cell_type": "markdown",
   "metadata": {},
   "source": [
    "## Valores `gamma` y `sigma`"
   ]
  },
  {
   "cell_type": "code",
   "execution_count": 17,
   "metadata": {
    "ExecuteTime": {
     "end_time": "2020-12-11T20:50:59.825819Z",
     "start_time": "2020-12-11T20:50:59.820949Z"
    }
   },
   "outputs": [],
   "source": [
    "gamma = 1\n",
    "sigma = .005"
   ]
  },
  {
   "cell_type": "code",
   "execution_count": 18,
   "metadata": {
    "ExecuteTime": {
     "end_time": "2020-12-11T20:51:00.252283Z",
     "start_time": "2020-12-11T20:51:00.235319Z"
    }
   },
   "outputs": [
    {
     "name": "stdout",
     "output_type": "stream",
     "text": [
      "0.98 0.019553575799963863\n",
      "0.981 0.0185542779311344\n",
      "0.982 0.017554980062305048\n",
      "0.983 0.016555682193475696\n",
      "0.984 0.015556384324646233\n",
      "0.985 0.014557086455816881\n",
      "0.99 0.0095605971116699\n",
      "0.991 0.008561299242840548\n",
      "0.992 0.007562001374011196\n",
      "0.993 0.006562703505181733\n"
     ]
    }
   ],
   "source": [
    "strikes = [.98, .981, .982, .983, .984, .985, .99, .991, .992, .993]\n",
    "for k in strikes:\n",
    "    print(k, hw.zcb_call_put(\n",
    "        hw.CallPut.CALL,\n",
    "        k,\n",
    "        curva(.0001),\n",
    "        1,\n",
    "        2,\n",
    "        math.exp(-curva(365)),\n",
    "        math.exp(-curva(730) * 730 / 365.0),\n",
    "        gamma,\n",
    "        sigma\n",
    "    ))"
   ]
  },
  {
   "cell_type": "markdown",
   "metadata": {},
   "source": [
    "## Preguntas"
   ]
  },
  {
   "cell_type": "code",
   "execution_count": 9,
   "metadata": {
    "ExecuteTime": {
     "end_time": "2020-12-11T20:06:27.029768Z",
     "start_time": "2020-12-11T20:06:27.024874Z"
    },
    "hide_input": false
   },
   "outputs": [],
   "source": [
    "try:\n",
    "    q = ef.get_questions()\n",
    "except Exception as e:\n",
    "    print(str(e))"
   ]
  },
  {
   "cell_type": "code",
   "execution_count": 10,
   "metadata": {
    "ExecuteTime": {
     "end_time": "2020-12-11T20:06:27.038829Z",
     "start_time": "2020-12-11T20:06:27.032607Z"
    },
    "hide_input": true
   },
   "outputs": [
    {
     "name": "stdout",
     "output_type": "stream",
     "text": [
      "Pregunta 1:\n",
      "\n",
      "Usando la curva cero cupón entregada y parámetros gamma = 1.0 y sigma = 0.5%\n",
      "valorice una call a 1Y sobre un bono cero cupón a 2Y con un strike de 98.5%.\n",
      "Entregue el resultado 8 decimales y suponiendo un nocional de 1.\n",
      "\n",
      "\n",
      "Pregunta 2:\n",
      "\n",
      "Calcule un paso de simulación de Montecarlo para el modelo de Vasicek usando\n",
      "gamma = 1.0, sigma = 0.5%, dt = 1/264, r0 obtenido de la curva cupón cero\n",
      "entregada y número aleatorio N(0, 1) igual a .1629.\n",
      "\n",
      "\n",
      "Pregunta 3:\n",
      "\n",
      "Con la curva cero cupón, interpolando linealmente en tasa, calcule la tasa\n",
      "forward entre 382 y 554 días.\n",
      "\n",
      "\n",
      "Pregunta 4:\n",
      "\n",
      "Considere un swap a 1Y con cupones semestrales de 1.0% (lineal). Si la tasa\n",
      "cupón cero a 0.5Y es 0.9% (exp), calcule la tasa cero a 1Y.\n",
      "\n",
      "\n",
      "Pregunta 5:\n",
      "\n",
      "Calcule la TNA con ICP0 = 10,000.00 e ICP365 = 10,110.00 (365 días después).\n",
      "\n",
      "\n",
      "Pregunta 6:\n",
      "\n",
      "Explique la diferencia entre valorizar un payoff g(r(T), T) por simulación de\n",
      "Montecarlo utilizando el modelo de Hull-White en la medida libre de riesgo y el\n",
      "modelo de Hull-White en la medida T-forward.\n",
      "\n",
      "\n",
      "Pregunta 7:\n",
      "\n",
      "Ceteris paribus una opción sobre una activo con reversión a la media vale menos\n",
      "que una opción sobre un activo sin reversión a la media. Comente.\n",
      "\n",
      "\n"
     ]
    }
   ],
   "source": [
    "for qq in q:\n",
    "    print(f'{qq[0]}\\n')\n",
    "    print(textwrap.fill(f'{qq[1]}', 80))\n",
    "    print('\\n')"
   ]
  },
  {
   "cell_type": "markdown",
   "metadata": {},
   "source": [
    "## Respuestas"
   ]
  },
  {
   "cell_type": "markdown",
   "metadata": {},
   "source": []
  },
  {
   "cell_type": "code",
   "execution_count": null,
   "metadata": {},
   "outputs": [],
   "source": []
  },
  {
   "cell_type": "markdown",
   "metadata": {},
   "source": [
    "### Pregunta 1"
   ]
  },
  {
   "cell_type": "markdown",
   "metadata": {},
   "source": [
    "Usando la curva cero cupón entregada y parámetros gamma = 1.0 y sigma = 0.5%\n",
    "valorice una call a 1Y sobre un bono cero cupón a 2Y con un strike de 98.5%.\n",
    "Entregue el resultado 8 decimales y suponiendo un nocional de 1."
   ]
  },
  {
   "cell_type": "code",
   "execution_count": 19,
   "metadata": {
    "ExecuteTime": {
     "end_time": "2020-12-11T20:51:39.000982Z",
     "start_time": "2020-12-11T20:51:38.995939Z"
    }
   },
   "outputs": [],
   "source": [
    "gamma= 1.0\n",
    "sigma=(0.5/100)\n",
    "\n",
    "strike=(98.5/100)\n",
    "nocional=1\n"
   ]
  },
  {
   "cell_type": "code",
   "execution_count": 20,
   "metadata": {
    "ExecuteTime": {
     "end_time": "2020-12-11T20:51:39.918024Z",
     "start_time": "2020-12-11T20:51:39.914776Z"
    }
   },
   "outputs": [],
   "source": [
    "def zrate(t: float) -> float:\n",
    "    return curva(t)"
   ]
  },
  {
   "cell_type": "code",
   "execution_count": 22,
   "metadata": {
    "ExecuteTime": {
     "end_time": "2020-12-11T20:52:27.339172Z",
     "start_time": "2020-12-11T20:52:27.326670Z"
    }
   },
   "outputs": [],
   "source": [
    "#Función A de la fórmula para un bono cupón cero:\n",
    "\n",
    "def a_hw(zrate: float, fwd, gamma: float, sigma: float, t: float, T: float,\n",
    "         verbose = False):\n",
    "    \"\"\"\n",
    "    verbose: cuando es True imprime los valores de c1, c2 y c3.\n",
    "    \"\"\"\n",
    "    b = b_hw(gamma, t, T)\n",
    "    dfT = math.exp(-zrate(T) * T)\n",
    "    dft = math.exp(-zrate(t) * t)\n",
    "    c1 = math.log(dfT / dft)\n",
    "    c2 = b * fwd(t)\n",
    "    c3 = (sigma**2) / (4 * gamma) * (b**2) * (1 - math.exp(-2 * gamma * t))\n",
    "    if verbose:\n",
    "        print(\"c1: \" + str(c1))\n",
    "        print(\"c2: \" + str(c2))\n",
    "        print(\"c3: \" + str(c3))\n",
    "    return c1 + c2 - c3"
   ]
  },
  {
   "cell_type": "code",
   "execution_count": 23,
   "metadata": {
    "ExecuteTime": {
     "end_time": "2020-12-11T20:52:45.968926Z",
     "start_time": "2020-12-11T20:52:45.964877Z"
    }
   },
   "outputs": [],
   "source": [
    "#Función  𝐵 de la fórmula para un bono cupón cero:\n",
    "\n",
    "def b_hw(gamma: float, t: float, T: float) -> float:\n",
    "    \"\"\"\n",
    "    Calcula el valor de la función B(t,T) que interviene en la fórmula\n",
    "    para el valor de un bono cupón cero en el modelo de HW.\n",
    "    \n",
    "    params:\n",
    "    \n",
    "    - gamma: intensidad de reversión del modelo HW\n",
    "    - t:\n",
    "    - T:\n",
    "    \n",
    "    return:\n",
    "    \n",
    "    - valor de la función B(t, T)\n",
    "    \"\"\"\n",
    "    aux = 1 - math.exp(- gamma * (T - t))\n",
    "    return aux / gamma"
   ]
  },
  {
   "cell_type": "code",
   "execution_count": 24,
   "metadata": {
    "ExecuteTime": {
     "end_time": "2020-12-11T20:52:51.824387Z",
     "start_time": "2020-12-11T20:52:51.812502Z"
    }
   },
   "outputs": [],
   "source": [
    "from scipy.stats import norm\n",
    "T0=1\n",
    "TB=2\n",
    "    \n",
    "#Se obtienen los valores que van en la ecuacion para obtener calls y puts\n",
    "zero_T0=math.exp(-zrate(T0)*T0)\n",
    "zero_TB=math.exp(-zrate(TB)*TB)\n",
    "\n",
    "Sz=b_hw(gamma,T0,TB)*math.sqrt((sigma**2/(2*gamma)*(1-math.exp(-2*gamma*T0))))\n",
    "d1=(math.log(zero_TB/(strike*zero_T0))+ 0.5*(Sz**2))/Sz\n",
    "d2=d1- Sz\n",
    "call= zero_T0*((zero_TB/zero_T0)*norm.cdf(d1)- strike*norm.cdf(d2))"
   ]
  },
  {
   "cell_type": "code",
   "execution_count": 25,
   "metadata": {
    "ExecuteTime": {
     "end_time": "2020-12-11T20:54:09.658582Z",
     "start_time": "2020-12-11T20:54:09.654080Z"
    }
   },
   "outputs": [
    {
     "name": "stdout",
     "output_type": "stream",
     "text": [
      "El valor de la call es igual a:  0.014167931\n"
     ]
    }
   ],
   "source": [
    "print (f'El valor de la call es igual a:  {call:.8}')"
   ]
  },
  {
   "cell_type": "markdown",
   "metadata": {},
   "source": [
    "### Pregunta 2"
   ]
  },
  {
   "cell_type": "markdown",
   "metadata": {},
   "source": [
    "Calcule un paso de simulación de Montecarlo para el modelo de Vasicek usando\n",
    "gamma = 1.0, sigma = 0.5%, dt = 1/264, r0 obtenido de la curva cupón cero\n",
    "entregada y número aleatorio N(0, 1) igual a .1629."
   ]
  },
  {
   "cell_type": "code",
   "execution_count": 65,
   "metadata": {
    "ExecuteTime": {
     "end_time": "2020-12-11T21:45:15.803877Z",
     "start_time": "2020-12-11T21:45:15.797449Z"
    }
   },
   "outputs": [],
   "source": [
    "gamma=1.0\n",
    "sigma=(0.5/100)\n",
    "dt=1/264\n",
    "r_ = (0.5/100)\n",
    "r0 = curva(0)"
   ]
  },
  {
   "cell_type": "code",
   "execution_count": 66,
   "metadata": {
    "ExecuteTime": {
     "end_time": "2020-12-11T21:45:19.143409Z",
     "start_time": "2020-12-11T21:45:19.140304Z"
    }
   },
   "outputs": [],
   "source": [
    "numero_aleatorio=.1629"
   ]
  },
  {
   "cell_type": "code",
   "execution_count": 67,
   "metadata": {
    "ExecuteTime": {
     "end_time": "2020-12-11T21:45:19.526600Z",
     "start_time": "2020-12-11T21:45:19.518473Z"
    }
   },
   "outputs": [],
   "source": [
    "dt_gamma_r_ = dt * gamma * r_\n",
    "sigma_sqdt = sigma * math.sqrt(dt)\n",
    "result = [(0, r0),]\n",
    "gamma_dt = gamma * dt\n",
    "num_dias=1\n",
    "pasos_dia=1\n",
    "r = r0\n",
    "for i in range(1, (num_dias + 1) * pasos_dia):\n",
    "    r = dt_gamma_r_ + (1 - gamma_dt) * r + sigma_sqdt * numero_aleatorio # Discretización de Euler\n",
    "    result.append((i * dt, r))\n"
   ]
  },
  {
   "cell_type": "code",
   "execution_count": 68,
   "metadata": {
    "ExecuteTime": {
     "end_time": "2020-12-11T21:45:19.939592Z",
     "start_time": "2020-12-11T21:45:19.934694Z"
    }
   },
   "outputs": [],
   "source": [
    "df_sim = pd.DataFrame(result, columns=['t', 'tasa'])"
   ]
  },
  {
   "cell_type": "code",
   "execution_count": 70,
   "metadata": {
    "ExecuteTime": {
     "end_time": "2020-12-11T21:45:25.613035Z",
     "start_time": "2020-12-11T21:45:25.603141Z"
    }
   },
   "outputs": [
    {
     "data": {
      "text/html": [
       "<div>\n",
       "<style scoped>\n",
       "    .dataframe tbody tr th:only-of-type {\n",
       "        vertical-align: middle;\n",
       "    }\n",
       "\n",
       "    .dataframe tbody tr th {\n",
       "        vertical-align: top;\n",
       "    }\n",
       "\n",
       "    .dataframe thead th {\n",
       "        text-align: right;\n",
       "    }\n",
       "</style>\n",
       "<table border=\"1\" class=\"dataframe\">\n",
       "  <thead>\n",
       "    <tr style=\"text-align: right;\">\n",
       "      <th></th>\n",
       "      <th>t</th>\n",
       "      <th>tasa</th>\n",
       "    </tr>\n",
       "  </thead>\n",
       "  <tbody>\n",
       "    <tr>\n",
       "      <th>0</th>\n",
       "      <td>0.000000</td>\n",
       "      <td>0.0008062107276586798</td>\n",
       "    </tr>\n",
       "    <tr>\n",
       "      <th>1</th>\n",
       "      <td>0.003788</td>\n",
       "      <td>0.000872225</td>\n",
       "    </tr>\n",
       "  </tbody>\n",
       "</table>\n",
       "</div>"
      ],
      "text/plain": [
       "          t                   tasa\n",
       "0  0.000000  0.0008062107276586798\n",
       "1  0.003788            0.000872225"
      ]
     },
     "execution_count": 70,
     "metadata": {},
     "output_type": "execute_result"
    }
   ],
   "source": [
    "df_sim"
   ]
  },
  {
   "cell_type": "markdown",
   "metadata": {},
   "source": [
    "### Pregunta 3"
   ]
  },
  {
   "cell_type": "markdown",
   "metadata": {},
   "source": [
    "Con la curva cero cupón, interpolando linealmente en tasa, calcule la tasa\n",
    "forward entre 382 y 554 días."
   ]
  },
  {
   "cell_type": "code",
   "execution_count": 35,
   "metadata": {
    "ExecuteTime": {
     "end_time": "2020-12-11T21:05:08.635732Z",
     "start_time": "2020-12-11T21:05:08.630680Z"
    }
   },
   "outputs": [],
   "source": [
    "#Se utiliza la libreria from scipy.interpolate import interp1d, para poder interpolar de manera lineal\n",
    "\n",
    "crv= interp1d(df_curva['plazo'],df_curva['tasa'], 'linear' )"
   ]
  },
  {
   "cell_type": "code",
   "execution_count": 36,
   "metadata": {
    "ExecuteTime": {
     "end_time": "2020-12-11T21:05:09.043985Z",
     "start_time": "2020-12-11T21:05:09.036547Z"
    }
   },
   "outputs": [
    {
     "name": "stdout",
     "output_type": "stream",
     "text": [
      "La tasa forward entre 382 y 554 días es igual a:  0.05032025%\n"
     ]
    }
   ],
   "source": [
    "#Valores de días que se encuentran en el enunciado de la pregunta \n",
    "t1=382\n",
    "t2= 554\n",
    "\n",
    "#se utiliza la interpolación:\n",
    "r1=crv(t1) \n",
    "r2=crv(t2)\n",
    "\n",
    "#Cálculo de los factores de descuento:\n",
    "df1=math.exp(-r1*t1 /365)\n",
    "df2=math.exp(-r2*t2 /365)\n",
    "fwd12 =(df1/df2 - 1.0) *360.0 /(t2-t1) #formula para obtener la tasa forward entre ambos días.\n",
    "\n",
    "\n",
    "print (f'La tasa forward entre 382 y 554 días es igual a:  {fwd12:.8%}')"
   ]
  },
  {
   "cell_type": "markdown",
   "metadata": {},
   "source": [
    "### Pregunta 4"
   ]
  },
  {
   "cell_type": "markdown",
   "metadata": {},
   "source": [
    "Considere un swap a 1Y con cupones semestrales de 1.0% (lineal). Si la tasa\n",
    "cupón cero a 0.5Y es 0.9% (exp), calcule la tasa cero a 1Y."
   ]
  },
  {
   "cell_type": "code",
   "execution_count": 71,
   "metadata": {
    "ExecuteTime": {
     "end_time": "2020-12-11T21:47:04.964402Z",
     "start_time": "2020-12-11T21:47:04.960691Z"
    }
   },
   "outputs": [],
   "source": [
    "cupones_sem=0.01\n",
    "tasa_cupon_cero=(0.9/100)\n",
    "\n"
   ]
  },
  {
   "cell_type": "markdown",
   "metadata": {
    "ExecuteTime": {
     "end_time": "2020-12-11T02:18:04.908007Z",
     "start_time": "2020-12-11T02:18:04.905073Z"
    }
   },
   "source": [
    "### Pregunta 5"
   ]
  },
  {
   "cell_type": "markdown",
   "metadata": {},
   "source": [
    "Calcule la TNA con ICP0 = 10,000.00 e ICP365 = 10,110.00 (365 días después)."
   ]
  },
  {
   "cell_type": "code",
   "execution_count": 42,
   "metadata": {
    "ExecuteTime": {
     "end_time": "2020-12-11T21:34:53.551494Z",
     "start_time": "2020-12-11T21:34:53.547738Z"
    }
   },
   "outputs": [],
   "source": [
    "ICP0 = 10000.00 \n",
    "ICP365 = 10110.00\n",
    "d=365"
   ]
  },
  {
   "cell_type": "code",
   "execution_count": 45,
   "metadata": {
    "ExecuteTime": {
     "end_time": "2020-12-11T21:35:27.656216Z",
     "start_time": "2020-12-11T21:35:27.650863Z"
    }
   },
   "outputs": [
    {
     "name": "stdout",
     "output_type": "stream",
     "text": [
      "El valor de la tasa TNA es:  1.0800%\n"
     ]
    }
   ],
   "source": [
    "#TNA: tasa nominal anual \n",
    "TNA= round(((ICP365/ICP0) -1) *(360/d),4)\n",
    "\n",
    "print (f'El valor de la tasa TNA es:  {TNA:.4%}')"
   ]
  },
  {
   "cell_type": "markdown",
   "metadata": {},
   "source": [
    "### Pregunta 6"
   ]
  },
  {
   "cell_type": "markdown",
   "metadata": {},
   "source": [
    "Explique la diferencia entre valorizar un payoff g(r(T), T) por simulación de\n",
    "Montecarlo utilizando el modelo de Hull-White en la medida libre de riesgo y el\n",
    "modelo de Hull-White en la medida T-forward."
   ]
  },
  {
   "cell_type": "markdown",
   "metadata": {},
   "source": [
    "Al valorizar un payoff con simulaciones de Montecarlo utilizando el modelo de Hull-White en diferentes medidas, se obtendrán **diferentes valores AD: ¿?**. La simulación de montecarlo utilizando el modelo de Hull.White en la medida libre de riesgo utiliza una función theta que depende del tiempo, y esta función se calibra  para que el modelo se ajuste perfectamente al valor de mercado de los bonos cero cupón. La forma de traer a valor presente este payoff es devolviendose por las trayectorias que generé, tengo el valor del instrumento en esta trayectoria y me lo debo traer a valor presente. Al traerlo a valor presente, debo traerme el producto de todos los factores de descuento que generé en la trayectoria y ahi obtengo un valor presente, luego hago otra trayectoria, calculo el valor y me lo traigo a valor presente. Una vez que se finaliza este proceso, debo sacar el promedio y eso será el valor del instrumento. Es importante rescatar cada una de las tasa que se obtienen en la simulación, ya que con ellas calcularemos los factores de descuento que se utilizan para descontar los cupones del bono. Estos son los pasos que se deben seguir cuando estamos utilizando la medida libre de riesgo.\n",
    "\n",
    "En cambio, al realizarlo con la medida forward, es distinto, pues primero debo calcular una función theta en la medida forward, por lo que la función cambia en relacion con el otro caso. Se debe encontrar un nuevo drift que corresponde al ajusto que se debe realizar para encontrar el valor del payoff. Además el calculo del valor presente se realiza de otra forma, pues se utilza una tasa directamente de la curva cupon cero creada. "
   ]
  },
  {
   "cell_type": "markdown",
   "metadata": {},
   "source": [
    "### Pregunta 7"
   ]
  },
  {
   "cell_type": "markdown",
   "metadata": {},
   "source": [
    "Ceteris paribus una opción sobre una activo con reversión a la media vale menos\n",
    "que una opción sobre un activo sin reversión a la media : verdadero \n",
    "\n",
    "Las opciones sin reversión a la media son más caras que las opciones con reversión a la media mientras que todo el resto se mantenga constante. Esto queda demostrado con el siguiente ejemplo, si tenemos dos subyacentes, en donde su coeficiente de volatilidad es el mismo. Ambas opciones parten en el mismo punto inicial pero una opción tiene reversión a la  media y la otra no. La opción con reversión a la media va a mantenerse mucho más acotado, porque la varianza del subyacente se mantiene aproximadamente en el mismo nivel, en cambio, la varianza del instrumento sin reversión a la media podría explotar. Cuando un modelo no tiene reversión a la media, siempre ocurrirá el subyacente superará cierto nivel, por lo que esta opción valdrá más. En una opción sobre un activo con reversión a la media, existen niveles inalcanzables. \n",
    "\n",
    "Se deduce que en el largo plazo la distribución de valores posibles va a estar centrada en la tasa de largo plazo y tendrá la varianza de largo plazo y por lo tanto hay escenarios que son inalcanzables en el largo plazo. Por lo que las opciones van a tener más valor cuando el subyacente no tiene reversión a la media. "
   ]
  },
  {
   "cell_type": "code",
   "execution_count": null,
   "metadata": {},
   "outputs": [],
   "source": []
  }
 ],
 "metadata": {
  "hide_input": false,
  "kernelspec": {
   "display_name": "Python 3",
   "language": "python",
   "name": "python3"
  },
  "language_info": {
   "codemirror_mode": {
    "name": "ipython",
    "version": 3
   },
   "file_extension": ".py",
   "mimetype": "text/x-python",
   "name": "python",
   "nbconvert_exporter": "python",
   "pygments_lexer": "ipython3",
   "version": "3.7.3"
  },
  "toc": {
   "base_numbering": "16",
   "nav_menu": {},
   "number_sections": true,
   "sideBar": true,
   "skip_h1_title": false,
   "title_cell": "Table of Contents",
   "title_sidebar": "Contenido",
   "toc_cell": false,
   "toc_position": {
    "height": "calc(100% - 180px)",
    "left": "10px",
    "top": "150px",
    "width": "165px"
   },
   "toc_section_display": true,
   "toc_window_display": true
  }
 },
 "nbformat": 4,
 "nbformat_minor": 4
}
