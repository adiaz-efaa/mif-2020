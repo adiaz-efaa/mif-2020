{
 "cells": [
  {
   "cell_type": "markdown",
   "metadata": {},
   "source": [
    "# Examen Final"
   ]
  },
  {
   "cell_type": "markdown",
   "metadata": {},
   "source": [
    "- Prender cámaras.\n",
    "- Puede utilizar sus apuntes.\n",
    "- Puede utilizar los notebooks del curso.\n",
    "- La alumna o alumno que sea sorprendido solicitando ayuda a cualquier persona, sea ella compañera o no, será calificada con un 2.\n",
    "- Cada pregunta vale un punto.\n",
    "- La nota mínima es un 2.\n",
    "- La nota se determinará con la siguiente fórmula $nota = \\min\\left(puntos + 2, 7\\right)$\n",
    "- Todas las funciones necesarias para resolver los ejercicios están ya importadas al notebook."
   ]
  },
  {
   "cell_type": "markdown",
   "metadata": {},
   "source": [
    "## Librerías"
   ]
  },
  {
   "cell_type": "code",
   "execution_count": 2,
   "metadata": {
    "ExecuteTime": {
     "end_time": "2020-12-11T21:41:29.523485Z",
     "start_time": "2020-12-11T21:41:28.666839Z"
    }
   },
   "outputs": [],
   "source": [
    "from finrisk import examen_final as ef\n",
    "from scipy.interpolate import interp1d\n",
    "import modules.hull_white as hw\n",
    "import pandas as pd\n",
    "import numpy as np\n",
    "import textwrap\n",
    "import random\n",
    "import math"
   ]
  },
  {
   "cell_type": "markdown",
   "metadata": {},
   "source": [
    "## Curva Cero Cupón"
   ]
  },
  {
   "cell_type": "markdown",
   "metadata": {},
   "source": [
    "Los plazos están en días y las tasas en convención exp act/365."
   ]
  },
  {
   "cell_type": "code",
   "execution_count": 3,
   "metadata": {
    "ExecuteTime": {
     "end_time": "2020-12-11T21:41:32.023600Z",
     "start_time": "2020-12-11T21:41:31.985015Z"
    }
   },
   "outputs": [],
   "source": [
    "df_curva = pd.read_excel('data/20201012_built_sofr_zero.xlsx')"
   ]
  },
  {
   "cell_type": "code",
   "execution_count": 4,
   "metadata": {
    "ExecuteTime": {
     "end_time": "2020-12-11T21:41:32.920629Z",
     "start_time": "2020-12-11T21:41:32.902998Z"
    }
   },
   "outputs": [
    {
     "data": {
      "text/html": [
       "<div>\n",
       "<style scoped>\n",
       "    .dataframe tbody tr th:only-of-type {\n",
       "        vertical-align: middle;\n",
       "    }\n",
       "\n",
       "    .dataframe tbody tr th {\n",
       "        vertical-align: top;\n",
       "    }\n",
       "\n",
       "    .dataframe thead th {\n",
       "        text-align: right;\n",
       "    }\n",
       "</style>\n",
       "<table border=\"1\" class=\"dataframe\">\n",
       "  <thead>\n",
       "    <tr style=\"text-align: right;\">\n",
       "      <th></th>\n",
       "      <th>plazo</th>\n",
       "      <th>tasa</th>\n",
       "      <th>df</th>\n",
       "    </tr>\n",
       "  </thead>\n",
       "  <tbody>\n",
       "    <tr>\n",
       "      <th>0</th>\n",
       "      <td>1</td>\n",
       "      <td>0.000811</td>\n",
       "      <td>0.999998</td>\n",
       "    </tr>\n",
       "    <tr>\n",
       "      <th>1</th>\n",
       "      <td>7</td>\n",
       "      <td>0.000841</td>\n",
       "      <td>0.999984</td>\n",
       "    </tr>\n",
       "    <tr>\n",
       "      <th>2</th>\n",
       "      <td>14</td>\n",
       "      <td>0.000780</td>\n",
       "      <td>0.999970</td>\n",
       "    </tr>\n",
       "    <tr>\n",
       "      <th>3</th>\n",
       "      <td>21</td>\n",
       "      <td>0.000774</td>\n",
       "      <td>0.999955</td>\n",
       "    </tr>\n",
       "    <tr>\n",
       "      <th>4</th>\n",
       "      <td>33</td>\n",
       "      <td>0.000781</td>\n",
       "      <td>0.999929</td>\n",
       "    </tr>\n",
       "  </tbody>\n",
       "</table>\n",
       "</div>"
      ],
      "text/plain": [
       "   plazo      tasa        df\n",
       "0      1  0.000811  0.999998\n",
       "1      7  0.000841  0.999984\n",
       "2     14  0.000780  0.999970\n",
       "3     21  0.000774  0.999955\n",
       "4     33  0.000781  0.999929"
      ]
     },
     "execution_count": 4,
     "metadata": {},
     "output_type": "execute_result"
    }
   ],
   "source": [
    "df_curva.head()"
   ]
  },
  {
   "cell_type": "code",
   "execution_count": 5,
   "metadata": {
    "ExecuteTime": {
     "end_time": "2020-12-11T21:41:34.478906Z",
     "start_time": "2020-12-11T21:41:34.472287Z"
    }
   },
   "outputs": [],
   "source": [
    "curva = interp1d(df_curva['plazo'], df_curva['tasa'], 'linear', fill_value='extrapolate')"
   ]
  },
  {
   "cell_type": "markdown",
   "metadata": {},
   "source": [
    "## Cálculo Opción"
   ]
  },
  {
   "cell_type": "markdown",
   "metadata": {},
   "source": [
    "Para identificar si es una Call o una Put se usa un `enum`."
   ]
  },
  {
   "cell_type": "code",
   "execution_count": 5,
   "metadata": {
    "ExecuteTime": {
     "end_time": "2020-12-11T20:05:11.615785Z",
     "start_time": "2020-12-11T20:05:11.608728Z"
    }
   },
   "outputs": [],
   "source": [
    "c_p = hw.CallPut.CALL\n",
    "c_p = hw.CallPut.PUT"
   ]
  },
  {
   "cell_type": "markdown",
   "metadata": {},
   "source": [
    "Ver toda la documentación:"
   ]
  },
  {
   "cell_type": "code",
   "execution_count": 6,
   "metadata": {
    "ExecuteTime": {
     "end_time": "2020-12-11T20:05:11.627399Z",
     "start_time": "2020-12-11T20:05:11.619431Z"
    }
   },
   "outputs": [
    {
     "name": "stdout",
     "output_type": "stream",
     "text": [
      "\n",
      "    Calcula el valor de una call o una put sobre un bono cero cupón en el modelo de HW.\n",
      "    \n",
      "    params:\n",
      "    \n",
      "    - c_p: indica si es la opción es Call o Put. Es un `enum` de tipo CallPut. Ejemplo, c_p = CallPut.CALL.\n",
      "    - strike: es el strike de la opción. Se ingresa como número. Un strike del 90% se ingresa como .9.\n",
      "    - r0: es la tasa corta al momento de valorizar la opción (t = 0).\n",
      "    - to: instante de tiempo en que vence la opción, expresado en años.\n",
      "    - tb: instante de tiempo en que vence el bono subyacente, expresado en años. Debe ser tb > to.\n",
      "    - zo: factor de descuento de mercado a tiempo t = 0 hasta to.\n",
      "    - zb: factor de descuento de mercado a tiempo t = 0 hasta tb.\n",
      "    - gamma: parámetro gamma del modelo HW.\n",
      "    - sigma: parámetro sigma del modelo HW.\n",
      "    \n",
      "    return:\n",
      "    \n",
      "    -  el valor de la opción.\n",
      "    \n"
     ]
    }
   ],
   "source": [
    "print(hw.zcb_call_put.__doc__)"
   ]
  },
  {
   "cell_type": "markdown",
   "metadata": {},
   "source": [
    "## Valores `gamma` y `sigma`"
   ]
  },
  {
   "cell_type": "code",
   "execution_count": 13,
   "metadata": {
    "ExecuteTime": {
     "end_time": "2020-12-11T20:36:31.038859Z",
     "start_time": "2020-12-11T20:36:31.035259Z"
    }
   },
   "outputs": [],
   "source": [
    "gamma = 1\n",
    "sigma = .005\n",
    "r_=0.5/100"
   ]
  },
  {
   "cell_type": "code",
   "execution_count": 8,
   "metadata": {
    "ExecuteTime": {
     "end_time": "2020-12-11T20:05:11.667837Z",
     "start_time": "2020-12-11T20:05:11.638415Z"
    }
   },
   "outputs": [
    {
     "name": "stdout",
     "output_type": "stream",
     "text": [
      "0.98 0.019553575799963863\n",
      "0.981 0.0185542779311344\n",
      "0.982 0.017554980062305048\n",
      "0.983 0.016555682193475696\n",
      "0.984 0.015556384324646233\n",
      "0.985 0.014557086455816881\n",
      "0.99 0.0095605971116699\n",
      "0.991 0.008561299242840548\n",
      "0.992 0.007562001374011196\n",
      "0.993 0.006562703505181733\n"
     ]
    }
   ],
   "source": [
    "strikes = [.98, .981, .982, .983, .984, .985, .99, .991, .992, .993]\n",
    "for k in strikes:\n",
    "    print(k, hw.zcb_call_put(\n",
    "        hw.CallPut.CALL,\n",
    "        k,\n",
    "        curva(.0001),\n",
    "        1,\n",
    "        2,\n",
    "        math.exp(-curva(365)),\n",
    "        math.exp(-curva(730) * 730 / 365.0),\n",
    "        gamma,\n",
    "        sigma\n",
    "    ))"
   ]
  },
  {
   "cell_type": "markdown",
   "metadata": {},
   "source": [
    "## Preguntas"
   ]
  },
  {
   "cell_type": "code",
   "execution_count": 9,
   "metadata": {
    "ExecuteTime": {
     "end_time": "2020-12-11T20:05:11.677196Z",
     "start_time": "2020-12-11T20:05:11.671128Z"
    },
    "hide_input": false
   },
   "outputs": [],
   "source": [
    "try:\n",
    "    q = ef.get_questions()\n",
    "except Exception as e:\n",
    "    print(str(e))"
   ]
  },
  {
   "cell_type": "code",
   "execution_count": 10,
   "metadata": {
    "ExecuteTime": {
     "end_time": "2020-12-11T20:05:11.690785Z",
     "start_time": "2020-12-11T20:05:11.680710Z"
    },
    "hide_input": true
   },
   "outputs": [
    {
     "name": "stdout",
     "output_type": "stream",
     "text": [
      "Pregunta 1:\n",
      "\n",
      "Calcule un paso de simulación de Montecarlo para el modelo de Vasicek usando\n",
      "gamma = 1.0, sigma = 0.5%, dt = 1/264, r0 obtenido de la curva cupón cero\n",
      "entregada y número aleatorio N(0, 1) igual a .447 .\n",
      "\n",
      "\n",
      "Pregunta 2:\n",
      "\n",
      "Considere un swap a 1Y con cupones semestrales de 1.5% (lineal). Si la tasa\n",
      "cupón cero a 0.5Y es 1.4% (exp), calcule la tasa cero a 1Y.\n",
      "\n",
      "\n",
      "Pregunta 3:\n",
      "\n",
      "Explique la diferencia entre valorizar un payoff g(r(T), T) por simulación de\n",
      "Montecarlo utilizando el modelo de Hull-White en la medida libre de riesgo y el\n",
      "modelo de Hull-White en la medida T-forward.\n",
      "\n",
      "\n",
      "Pregunta 4:\n",
      "\n",
      "Una opción sobre un bono cupón cero valorizada con el modelo de Vasicek vale lo\n",
      "mismo que la misma opción valorizada con el modelo de Hull-White. Comente.\n",
      "\n",
      "\n",
      "Pregunta 5:\n",
      "\n",
      "Con la curva cero cupón, interpolando linealmente en tasa, calcule la tasa\n",
      "forward entre 1282 y 2454 días.\n",
      "\n",
      "\n",
      "Pregunta 6:\n",
      "\n",
      "Calcule la TNA con ICP0 = 10,000.00 e ICP365 = 10,022.00 (365 días después).\n",
      "\n",
      "\n",
      "Pregunta 7:\n",
      "\n",
      "Usando la curva cero cupón entregada y parámetros gamma = 1.0 y sigma = 0.5%\n",
      "valorice una call a 1Y sobre un bono cero cupón a 2Y con un strike de 98.0%.\n",
      "Entregue el resultado 8 decimales y suponiendo un nocional de 1.\n",
      "\n",
      "\n"
     ]
    }
   ],
   "source": [
    "for qq in q:\n",
    "    print(f'{qq[0]}\\n')\n",
    "    print(textwrap.fill(f'{qq[1]}', 80))\n",
    "    print('\\n')"
   ]
  },
  {
   "cell_type": "markdown",
   "metadata": {},
   "source": [
    "## Respuestas"
   ]
  },
  {
   "cell_type": "markdown",
   "metadata": {},
   "source": []
  },
  {
   "cell_type": "code",
   "execution_count": null,
   "metadata": {},
   "outputs": [],
   "source": []
  },
  {
   "cell_type": "markdown",
   "metadata": {},
   "source": [
    "### Pregunta 1"
   ]
  },
  {
   "cell_type": "markdown",
   "metadata": {},
   "source": [
    "El modelo de Vasicek para la tasa instantánea en la medida histórica es:\n",
    "\n",
    "$$\n",
    "\\begin{equation}\n",
    "dr_t=\\gamma\\left(\\overline{r}-r_t\\right)dt+\\sigma dX_t\n",
    "\\end{equation}\n",
    "$$"
   ]
  },
  {
   "cell_type": "code",
   "execution_count": 28,
   "metadata": {
    "ExecuteTime": {
     "end_time": "2020-12-11T21:03:22.249680Z",
     "start_time": "2020-12-11T21:03:22.240337Z"
    }
   },
   "outputs": [
    {
     "name": "stdout",
     "output_type": "stream",
     "text": [
      "El valor del primer paso de una simulación de MC para estos parámetros es:  0.0022508856\n"
     ]
    }
   ],
   "source": [
    "gamma=1\n",
    "sigma=0.5/100\n",
    "dt=1/264\n",
    "r_=0.5/100\n",
    "dXt=0.447\n",
    "r0=curva(0)\n",
    "\n",
    "drt = gamma * (r_-r0)*dt + sigma*dXt\n",
    "print(f\"El valor del primer paso de una simulación de MC para estos parámetros es: {drt: .8}\")"
   ]
  },
  {
   "cell_type": "markdown",
   "metadata": {},
   "source": [
    "### Pregunta 2"
   ]
  },
  {
   "cell_type": "code",
   "execution_count": null,
   "metadata": {},
   "outputs": [],
   "source": []
  },
  {
   "cell_type": "markdown",
   "metadata": {},
   "source": [
    "### Pregunta 3"
   ]
  },
  {
   "cell_type": "markdown",
   "metadata": {},
   "source": [
    "En los modelos estocásticos en general, al hacer un cambio de medida, lo que cambia en el modelo es el drift (tendencia), mientras que el coeficiente de difusión (volatilidad) se mantiene igual. De esta forma, en el modelo de Hull y White, este cambio de medida se ve reflejado en el theta de la dinámica de la tasa corta, que sería la única diferencia entre ambas medidas.\n",
    "\n",
    "Así, ya en las valorizaciones, la principal diferencia entre valorizar por MC con la medida libre de riesgo y la medida T-forward es la manera en que se trae el payoff a valor presente. En el caso de la medida libre de riesgo, para encontrar el factor de descuento es necesario devolverse por cada trayectoria de las simulaciones, es decir, ir calculando un factor de descuento para cada step en que se discretizó el tiempo con cada tasa correspondiente al step, y así sucesivamente hasta llegar al presente. Recién ahí se puede utilizar el factor de descuento para traer a valor presente. En el caso de la medida forward esto no es así (lo cual es su principal ventaja), ya que el factor de descuento queda fuera de la esperanza, por lo que solo se debe utilizar la tasa correspondiente al instante de tiempo en el que se quiere valorizar, sin devolverse por cada trayectoria.\n"
   ]
  },
  {
   "cell_type": "markdown",
   "metadata": {},
   "source": [
    "### Pregunta 4"
   ]
  },
  {
   "cell_type": "markdown",
   "metadata": {},
   "source": [
    "No necesariamente es así. A pesar de que las fórmulas para Calls y Puts son iguales en ambos modelos, los valores de opciones con estos no son iguales. Dado que son opciones sobre bonos cero cupón, los valores de estas dependen del valor del bono. En primer lugar, las tasas simuladas con ambos modelos no son iguales, ya que en el modelo de HW se tiene una reversión a la media variable con el tiempo, mientras que en Vasicek esta es constante. Dado esto, el valor de los bonos de ambos modelos serán distintos, ya que dependen de las tasas, y por consiguiente el valor de la opción será distinto. Además, es importante mencionar que las fórmulas de calls y puts en ambos modelos dependen del valor del bono cero cupón a las fechas de madurez del bono en sí y de la opción. Los valores de los bonos se calculan de manera diferente en ambos modelos, difiriendo en el cálculo del A. Por último, dado que el drift de ambos modelos es distinto, la calibración de los parámetros no dará valores iguales para ambos modelos, lo que también influye en que el valor de las opciones sea distinto."
   ]
  },
  {
   "cell_type": "markdown",
   "metadata": {
    "ExecuteTime": {
     "end_time": "2020-12-11T02:18:04.908007Z",
     "start_time": "2020-12-11T02:18:04.905073Z"
    }
   },
   "source": [
    "### Pregunta 5"
   ]
  },
  {
   "cell_type": "markdown",
   "metadata": {
    "ExecuteTime": {
     "end_time": "2020-12-11T20:35:46.708176Z",
     "start_time": "2020-12-11T20:35:46.702136Z"
    }
   },
   "source": [
    "Con la curva cero cupón, interpolando linealmente en tasa, calcule la tasa\n",
    "forward entre 1282 y 2454 días."
   ]
  },
  {
   "cell_type": "markdown",
   "metadata": {},
   "source": [
    "Sabemos que:\n",
    "\n",
    "$$f(0,t)=r(0,t)+t\\frac{\\partial r(0,t)}{\\partial t}$$\n",
    "\n",
    "\n"
   ]
  },
  {
   "cell_type": "markdown",
   "metadata": {},
   "source": [
    "Primero, es necesario interpolar para obtener el valor de la curva cero cupón entre 1282 y 2454 días. Después, se usa la fórmula de la tasa forward para obtenerla."
   ]
  },
  {
   "cell_type": "code",
   "execution_count": 19,
   "metadata": {
    "ExecuteTime": {
     "end_time": "2020-12-11T20:49:42.287761Z",
     "start_time": "2020-12-11T20:49:42.281519Z"
    }
   },
   "outputs": [
    {
     "data": {
      "text/plain": [
       "array(0.00085436)"
      ]
     },
     "execution_count": 19,
     "metadata": {},
     "output_type": "execute_result"
    }
   ],
   "source": [
    "to=1282\n",
    "t=2454\n",
    "tasa_cero_cupon = curva(t-to)\n",
    "tasa_cero_cupon"
   ]
  },
  {
   "cell_type": "code",
   "execution_count": 18,
   "metadata": {
    "ExecuteTime": {
     "end_time": "2020-12-11T20:47:54.406390Z",
     "start_time": "2020-12-11T20:47:54.402538Z"
    }
   },
   "outputs": [],
   "source": [
    "dtasa_cero_cupon = (curva(t) - curva(to))/(t-to)    #aproximación de la derivada"
   ]
  },
  {
   "cell_type": "code",
   "execution_count": 22,
   "metadata": {
    "ExecuteTime": {
     "end_time": "2020-12-11T20:53:05.222329Z",
     "start_time": "2020-12-11T20:53:05.217880Z"
    }
   },
   "outputs": [
    {
     "name": "stdout",
     "output_type": "stream",
     "text": [
      "El valor de la tasa forward entre 1282 y 2454 días es:  0.00321888\n"
     ]
    }
   ],
   "source": [
    "tasa_forward = tasa_cero_cupon + (t-to)*dtasa_cero_cupon\n",
    "print(f\"El valor de la tasa forward entre 1282 y 2454 días es: {tasa_forward: .8}\")"
   ]
  },
  {
   "cell_type": "markdown",
   "metadata": {},
   "source": [
    "### Pregunta 6"
   ]
  },
  {
   "cell_type": "markdown",
   "metadata": {},
   "source": [
    "\n",
    "\n",
    "$$TNA=Round\\left(\\left( \\frac{ICP_{T}}{ICP_{t}}-1\\right)\\cdot\\frac{360}{d},4\\right)$$\n",
    "\n",
    "Donde:\n",
    "\n",
    "- TNA: significa *tasa nominal anual*.\n",
    "- $ICP_{\\tau}$: es el valor del $ICP$ la fecha $\\tau=t,T$.\n",
    "- $d$ es el número de días entre $t$ y $T$.\n",
    "- $Round\\left(x,4\\right)$ redondea el número $x$ a 4 decimales."
   ]
  },
  {
   "cell_type": "code",
   "execution_count": 38,
   "metadata": {
    "ExecuteTime": {
     "end_time": "2020-12-11T21:14:56.843951Z",
     "start_time": "2020-12-11T21:14:56.838327Z"
    }
   },
   "outputs": [
    {
     "name": "stdout",
     "output_type": "stream",
     "text": [
      "El valor de la TNA 365 días después es:  0.0022\n"
     ]
    }
   ],
   "source": [
    "ICPo= 10000\n",
    "ICPT = 10022\n",
    "\n",
    "TNA = round(((ICPT/ICPo)-1) * 360/365, 4)\n",
    "print(f\"El valor de la TNA 365 días después es: {TNA: .8}\")"
   ]
  },
  {
   "cell_type": "markdown",
   "metadata": {},
   "source": [
    "### Pregunta 7"
   ]
  },
  {
   "cell_type": "code",
   "execution_count": 47,
   "metadata": {
    "ExecuteTime": {
     "end_time": "2020-12-11T21:24:45.831998Z",
     "start_time": "2020-12-11T21:24:45.825823Z"
    }
   },
   "outputs": [],
   "source": [
    "c_p = hw.CallPut.CALL\n",
    "K = 98/100\n",
    "r0= curva(0)\n",
    "TO=1\n",
    "TB=2\n",
    "dfTO = math.exp(-curva(TO)*TO)  #cálculo del factor de descuento de mercado al tiempo TO mediante la tasa interpolada de la curva\n",
    "dfTB = math.exp(-curva(TB)*TB)  #cálculo del factor de descuento de mercado al tiempo TB mediante la tasa interpolada de la curva\n",
    "gamma=1\n",
    "sigma=0.5/100\n",
    "\n",
    "# AD: ¡los plazos de la curva están en días!"
   ]
  },
  {
   "cell_type": "code",
   "execution_count": 50,
   "metadata": {
    "ExecuteTime": {
     "end_time": "2020-12-11T21:25:34.577557Z",
     "start_time": "2020-12-11T21:25:34.571279Z"
    }
   },
   "outputs": [
    {
     "name": "stdout",
     "output_type": "stream",
     "text": [
      "El valor de la Call con un nocional de 1 y los parámetros dados es:  0.019163877\n"
     ]
    }
   ],
   "source": [
    "valor_call = hw.zcb_call_put(c_p, K, r0, TO, TB, dfTO, dfTB, gamma, sigma)\n",
    "print(f\"El valor de la Call con un nocional de 1 y los parámetros dados es: {valor_call: .8}\")"
   ]
  }
 ],
 "metadata": {
  "hide_input": false,
  "kernelspec": {
   "display_name": "Python 3",
   "language": "python",
   "name": "python3"
  },
  "language_info": {
   "codemirror_mode": {
    "name": "ipython",
    "version": 3
   },
   "file_extension": ".py",
   "mimetype": "text/x-python",
   "name": "python",
   "nbconvert_exporter": "python",
   "pygments_lexer": "ipython3",
   "version": "3.7.3"
  },
  "toc": {
   "base_numbering": "16",
   "nav_menu": {},
   "number_sections": true,
   "sideBar": true,
   "skip_h1_title": false,
   "title_cell": "Table of Contents",
   "title_sidebar": "Contenido",
   "toc_cell": false,
   "toc_position": {
    "height": "calc(100% - 180px)",
    "left": "10px",
    "top": "150px",
    "width": "165px"
   },
   "toc_section_display": true,
   "toc_window_display": true
  }
 },
 "nbformat": 4,
 "nbformat_minor": 4
}
