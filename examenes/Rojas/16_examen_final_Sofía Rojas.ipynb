{
 "cells": [
  {
   "cell_type": "markdown",
   "metadata": {},
   "source": [
    "# Examen Final"
   ]
  },
  {
   "cell_type": "markdown",
   "metadata": {},
   "source": [
    "- Prender cámaras.\n",
    "- Puede utilizar sus apuntes.\n",
    "- Puede utilizar los notebooks del curso.\n",
    "- La alumna o alumno que sea sorprendido solicitando ayuda a cualquier persona, sea ella compañera o no, será calificada con un 2.\n",
    "- Cada pregunta vale un punto.\n",
    "- La nota mínima es un 2.\n",
    "- La nota se determinará con la siguiente fórmula $nota = \\min\\left(puntos + 2, 7\\right)$\n",
    "- Todas las funciones necesarias para resolver los ejercicios están ya importadas al notebook."
   ]
  },
  {
   "cell_type": "markdown",
   "metadata": {},
   "source": [
    "## Librerías"
   ]
  },
  {
   "cell_type": "code",
   "execution_count": 1,
   "metadata": {
    "ExecuteTime": {
     "end_time": "2020-12-11T20:05:20.162754Z",
     "start_time": "2020-12-11T20:05:19.309539Z"
    }
   },
   "outputs": [],
   "source": [
    "from finrisk import examen_final as ef\n",
    "from scipy.interpolate import interp1d\n",
    "import modules.hull_white as hw\n",
    "import pandas as pd\n",
    "import numpy as np\n",
    "import textwrap\n",
    "import random\n",
    "import math"
   ]
  },
  {
   "cell_type": "markdown",
   "metadata": {},
   "source": [
    "## Curva Cero Cupón"
   ]
  },
  {
   "cell_type": "markdown",
   "metadata": {},
   "source": [
    "Los plazos están en días y las tasas en convención exp act/365."
   ]
  },
  {
   "cell_type": "code",
   "execution_count": 2,
   "metadata": {
    "ExecuteTime": {
     "end_time": "2020-12-11T20:05:20.194008Z",
     "start_time": "2020-12-11T20:05:20.168240Z"
    }
   },
   "outputs": [],
   "source": [
    "df_curva = pd.read_excel('data/20201012_built_sofr_zero.xlsx')"
   ]
  },
  {
   "cell_type": "code",
   "execution_count": 3,
   "metadata": {
    "ExecuteTime": {
     "end_time": "2020-12-11T20:05:20.218050Z",
     "start_time": "2020-12-11T20:05:20.196839Z"
    }
   },
   "outputs": [
    {
     "data": {
      "text/html": [
       "<div>\n",
       "<style scoped>\n",
       "    .dataframe tbody tr th:only-of-type {\n",
       "        vertical-align: middle;\n",
       "    }\n",
       "\n",
       "    .dataframe tbody tr th {\n",
       "        vertical-align: top;\n",
       "    }\n",
       "\n",
       "    .dataframe thead th {\n",
       "        text-align: right;\n",
       "    }\n",
       "</style>\n",
       "<table border=\"1\" class=\"dataframe\">\n",
       "  <thead>\n",
       "    <tr style=\"text-align: right;\">\n",
       "      <th></th>\n",
       "      <th>plazo</th>\n",
       "      <th>tasa</th>\n",
       "      <th>df</th>\n",
       "    </tr>\n",
       "  </thead>\n",
       "  <tbody>\n",
       "    <tr>\n",
       "      <th>0</th>\n",
       "      <td>1</td>\n",
       "      <td>0.000811</td>\n",
       "      <td>0.999998</td>\n",
       "    </tr>\n",
       "    <tr>\n",
       "      <th>1</th>\n",
       "      <td>7</td>\n",
       "      <td>0.000841</td>\n",
       "      <td>0.999984</td>\n",
       "    </tr>\n",
       "    <tr>\n",
       "      <th>2</th>\n",
       "      <td>14</td>\n",
       "      <td>0.000780</td>\n",
       "      <td>0.999970</td>\n",
       "    </tr>\n",
       "    <tr>\n",
       "      <th>3</th>\n",
       "      <td>21</td>\n",
       "      <td>0.000774</td>\n",
       "      <td>0.999955</td>\n",
       "    </tr>\n",
       "    <tr>\n",
       "      <th>4</th>\n",
       "      <td>33</td>\n",
       "      <td>0.000781</td>\n",
       "      <td>0.999929</td>\n",
       "    </tr>\n",
       "  </tbody>\n",
       "</table>\n",
       "</div>"
      ],
      "text/plain": [
       "   plazo      tasa        df\n",
       "0      1  0.000811  0.999998\n",
       "1      7  0.000841  0.999984\n",
       "2     14  0.000780  0.999970\n",
       "3     21  0.000774  0.999955\n",
       "4     33  0.000781  0.999929"
      ]
     },
     "execution_count": 3,
     "metadata": {},
     "output_type": "execute_result"
    }
   ],
   "source": [
    "df_curva.head()"
   ]
  },
  {
   "cell_type": "code",
   "execution_count": 4,
   "metadata": {
    "ExecuteTime": {
     "end_time": "2020-12-11T20:05:20.226616Z",
     "start_time": "2020-12-11T20:05:20.220865Z"
    }
   },
   "outputs": [],
   "source": [
    "curva = interp1d(df_curva['plazo'], df_curva['tasa'], 'linear', fill_value='extrapolate')"
   ]
  },
  {
   "cell_type": "markdown",
   "metadata": {},
   "source": [
    "## Cálculo Opción"
   ]
  },
  {
   "cell_type": "markdown",
   "metadata": {},
   "source": [
    "Para identificar si es una Call o una Put se usa un `enum`."
   ]
  },
  {
   "cell_type": "code",
   "execution_count": 5,
   "metadata": {
    "ExecuteTime": {
     "end_time": "2020-12-11T20:05:20.237305Z",
     "start_time": "2020-12-11T20:05:20.231153Z"
    }
   },
   "outputs": [],
   "source": [
    "c_p = hw.CallPut.CALL\n",
    "c_p = hw.CallPut.PUT"
   ]
  },
  {
   "cell_type": "markdown",
   "metadata": {},
   "source": [
    "Ver toda la documentación:"
   ]
  },
  {
   "cell_type": "code",
   "execution_count": 13,
   "metadata": {
    "ExecuteTime": {
     "end_time": "2020-12-11T20:12:08.608932Z",
     "start_time": "2020-12-11T20:12:08.600657Z"
    }
   },
   "outputs": [
    {
     "name": "stdout",
     "output_type": "stream",
     "text": [
      "\n",
      "    Calcula el valor de una call o una put sobre un bono cero cupón en el modelo de HW.\n",
      "    \n",
      "    params:\n",
      "    \n",
      "    - c_p: indica si es la opción es Call o Put. Es un `enum` de tipo CallPut. Ejemplo, c_p = CallPut.CALL.\n",
      "    - strike: es el strike de la opción. Se ingresa como número. Un strike del 90% se ingresa como .9.\n",
      "    - r0: es la tasa corta al momento de valorizar la opción (t = 0).\n",
      "    - to: instante de tiempo en que vence la opción, expresado en años.\n",
      "    - tb: instante de tiempo en que vence el bono subyacente, expresado en años. Debe ser tb > to.\n",
      "    - zo: factor de descuento de mercado a tiempo t = 0 hasta to.\n",
      "    - zb: factor de descuento de mercado a tiempo t = 0 hasta tb.\n",
      "    - gamma: parámetro gamma del modelo HW.\n",
      "    - sigma: parámetro sigma del modelo HW.\n",
      "    \n",
      "    return:\n",
      "    \n",
      "    -  el valor de la opción.\n",
      "    \n"
     ]
    }
   ],
   "source": [
    "print(hw.zcb_call_put.__doc__)"
   ]
  },
  {
   "cell_type": "markdown",
   "metadata": {},
   "source": [
    "## Valores `gamma` y `sigma`"
   ]
  },
  {
   "cell_type": "code",
   "execution_count": 7,
   "metadata": {
    "ExecuteTime": {
     "end_time": "2020-12-11T20:05:20.256417Z",
     "start_time": "2020-12-11T20:05:20.252516Z"
    }
   },
   "outputs": [],
   "source": [
    "gamma = 1\n",
    "sigma = .005"
   ]
  },
  {
   "cell_type": "code",
   "execution_count": 8,
   "metadata": {
    "ExecuteTime": {
     "end_time": "2020-12-11T20:05:20.292106Z",
     "start_time": "2020-12-11T20:05:20.260019Z"
    }
   },
   "outputs": [
    {
     "name": "stdout",
     "output_type": "stream",
     "text": [
      "0.98 0.019553575799963863\n",
      "0.981 0.0185542779311344\n",
      "0.982 0.017554980062305048\n",
      "0.983 0.016555682193475696\n",
      "0.984 0.015556384324646233\n",
      "0.985 0.014557086455816881\n",
      "0.99 0.0095605971116699\n",
      "0.991 0.008561299242840548\n",
      "0.992 0.007562001374011196\n",
      "0.993 0.006562703505181733\n"
     ]
    }
   ],
   "source": [
    "strikes = [.98, .981, .982, .983, .984, .985, .99, .991, .992, .993]\n",
    "for k in strikes:\n",
    "    print(k, hw.zcb_call_put(\n",
    "        hw.CallPut.CALL,\n",
    "        k,\n",
    "        curva(.0001),\n",
    "        1,\n",
    "        2,\n",
    "        math.exp(-curva(365)),\n",
    "        math.exp(-curva(730) * 730 / 365.0),\n",
    "        gamma,\n",
    "        sigma\n",
    "    ))"
   ]
  },
  {
   "cell_type": "markdown",
   "metadata": {},
   "source": [
    "## Preguntas"
   ]
  },
  {
   "cell_type": "code",
   "execution_count": 9,
   "metadata": {
    "ExecuteTime": {
     "end_time": "2020-12-11T20:05:20.303710Z",
     "start_time": "2020-12-11T20:05:20.297811Z"
    },
    "hide_input": false
   },
   "outputs": [],
   "source": [
    "try:\n",
    "    q = ef.get_questions()\n",
    "except Exception as e:\n",
    "    print(str(e))"
   ]
  },
  {
   "cell_type": "code",
   "execution_count": 10,
   "metadata": {
    "ExecuteTime": {
     "end_time": "2020-12-11T20:05:20.337287Z",
     "start_time": "2020-12-11T20:05:20.322612Z"
    },
    "hide_input": true
   },
   "outputs": [
    {
     "name": "stdout",
     "output_type": "stream",
     "text": [
      "Pregunta 1:\n",
      "\n",
      "Considere un swap a 1Y con cupones semestrales de 1.7% (lineal). Si la tasa\n",
      "cupón cero a 0.5Y es 1.6% (exp), calcule la tasa cero a 1Y.\n",
      "\n",
      "\n",
      "Pregunta 2:\n",
      "\n",
      "Usando la curva cero cupón entregada y parámetros gamma = 1.0 y sigma = 0.5%\n",
      "valorice una call a 1Y sobre un bono cero cupón a 2Y con un strike de 99.0%.\n",
      "Entregue el resultado 8 decimales y suponiendo un nocional de 1.\n",
      "\n",
      "\n",
      "Pregunta 3:\n",
      "\n",
      "Calcule un paso de simulación de Montecarlo para el modelo de Vasicek usando\n",
      "gamma = 1.0, sigma = 0.5%, dt = 1/264, r0 obtenido de la curva cupón cero\n",
      "entregada y número aleatorio N(0, 1) igual a -.7028 .\n",
      "\n",
      "\n",
      "Pregunta 4:\n",
      "\n",
      "Explique la diferencia entre valorizar un payoff g(r(T), T) por simulación de\n",
      "Montecarlo utilizando el modelo de Hull-White en la medida libre de riesgo y el\n",
      "modelo de Hull-White en la medida T-forward.\n",
      "\n",
      "\n",
      "Pregunta 5:\n",
      "\n",
      "Calcule la TNA con ICP0 = 10,000.00 e ICP365 = 10,214.00 (365 días después).\n",
      "\n",
      "\n",
      "Pregunta 6:\n",
      "\n",
      "Una opción sobre un bono cupón cero valorizada con el modelo de Vasicek vale lo\n",
      "mismo que la misma opción valorizada con el modelo de Hull-White. Comente.\n",
      "\n",
      "\n",
      "Pregunta 7:\n",
      "\n",
      "Con la curva cero cupón, interpolando linealmente en tasa, calcule la tasa\n",
      "forward entre 282 y 454 días.\n",
      "\n",
      "\n"
     ]
    }
   ],
   "source": [
    "for qq in q:\n",
    "    print(f'{qq[0]}\\n')\n",
    "    print(textwrap.fill(f'{qq[1]}', 80))\n",
    "    print('\\n')"
   ]
  },
  {
   "cell_type": "markdown",
   "metadata": {},
   "source": [
    "## Respuestas"
   ]
  },
  {
   "cell_type": "markdown",
   "metadata": {},
   "source": []
  },
  {
   "cell_type": "code",
   "execution_count": null,
   "metadata": {},
   "outputs": [],
   "source": []
  },
  {
   "cell_type": "markdown",
   "metadata": {},
   "source": [
    "### Pregunta 1"
   ]
  },
  {
   "cell_type": "markdown",
   "metadata": {},
   "source": [
    "Considere un swap a 1Y con cupones semestrales de 1.7% (lineal). Si la tasa\n",
    "cupón cero a 0.5Y es 1.6% (exp), calcule la tasa cero a 1Y."
   ]
  },
  {
   "cell_type": "code",
   "execution_count": 38,
   "metadata": {
    "ExecuteTime": {
     "end_time": "2020-12-11T21:34:03.514146Z",
     "start_time": "2020-12-11T21:34:03.509852Z"
    }
   },
   "outputs": [
    {
     "name": "stdout",
     "output_type": "stream",
     "text": [
      "Valor de la tasa cero a 1Y: 0.02560000%\n"
     ]
    }
   ],
   "source": [
    "#1.6/100=math.exp(r*0.5)\n",
    "r_exp=math.log(1.6/100)/0.5\n",
    "tasa_cero=math.exp(r_exp*1) #es el factor no la tasa \n",
    "print(f'Valor de la tasa cero exponencial a 1Y: {tasa_cero:,.8%}') "
   ]
  },
  {
   "cell_type": "markdown",
   "metadata": {},
   "source": [
    "### Pregunta 2"
   ]
  },
  {
   "cell_type": "markdown",
   "metadata": {},
   "source": [
    "Se pide valorizar una call. "
   ]
  },
  {
   "cell_type": "code",
   "execution_count": 39,
   "metadata": {
    "ExecuteTime": {
     "end_time": "2020-12-11T21:36:22.247742Z",
     "start_time": "2020-12-11T21:36:22.241914Z"
    }
   },
   "outputs": [],
   "source": [
    "#Datos importantes: \n",
    "k=0.99\n",
    "r0=curva(.0001) #es la tasa corta al momento de valorizar la opción (t = 0).\n",
    "to=1 #instante de tiempo en que vence la opción, expresado en años call\n",
    "tb=2 # instante de tiempo en que vence el bono subyacente, expresado en años. Debe ser tb > to.\n",
    "zo= math.exp(-curva(365)) # a un año factor de descuento de mercado a tiempo t = 0 hasta to.\n",
    "zb= math.exp(-curva(730) * 730 / 365.0) #factor de descuento de mercado a tiempo t = 0 hasta tb."
   ]
  },
  {
   "cell_type": "code",
   "execution_count": 40,
   "metadata": {
    "ExecuteTime": {
     "end_time": "2020-12-11T21:36:24.916760Z",
     "start_time": "2020-12-11T21:36:24.911596Z"
    }
   },
   "outputs": [
    {
     "name": "stdout",
     "output_type": "stream",
     "text": [
      "Valor de la opción Call: 0.00956060\n"
     ]
    }
   ],
   "source": [
    "CALL=hw.zcb_call_put(\n",
    "        hw.CallPut.CALL,\n",
    "        k,\n",
    "        r0,\n",
    "        to,\n",
    "        tb,\n",
    "        zo,\n",
    "        zb,\n",
    "        gamma,\n",
    "        sigma\n",
    "    )\n",
    "print(f'Valor de la opción Call: {CALL:,.8f}') #considerando nocional de 1"
   ]
  },
  {
   "cell_type": "markdown",
   "metadata": {},
   "source": [
    "### Pregunta 3"
   ]
  },
  {
   "cell_type": "markdown",
   "metadata": {},
   "source": [
    "Calcule un paso de simulación de Montecarlo para el modelo de Vasicek usando\n",
    "gamma = 1.0, sigma = 0.5%, dt = 1/264, r0 obtenido de la curva cupón cero\n",
    "entregada y número aleatorio N(0, 1) igual a -.7028 ."
   ]
  },
  {
   "cell_type": "code",
   "execution_count": 41,
   "metadata": {
    "ExecuteTime": {
     "end_time": "2020-12-11T21:36:26.956533Z",
     "start_time": "2020-12-11T21:36:26.943503Z"
    }
   },
   "outputs": [
    {
     "name": "stdout",
     "output_type": "stream",
     "text": [
      "Un paso de la simulación de MC para la tas del modelo de Vasicek:0.06058245%\n"
     ]
    }
   ],
   "source": [
    "gamma = 1.0\n",
    "sigma = 0.005\n",
    "r_ = 0.005 #dicho en prueba \n",
    "dt = 1/264\n",
    "rnd_al= -.7028\n",
    "r0 = curva(0)\n",
    "#Se usará la misma idea de la función del notebook 12, 12.2 \n",
    "dt_gamma_r_ = dt * gamma * r_\n",
    "sigma_sqdt = sigma * math.sqrt(dt)\n",
    "result = [(0, r0),]\n",
    "gamma_dt = gamma * dt   \n",
    "r = dt_gamma_r_ + (1 - gamma_dt) * r0 + sigma_sqdt * rnd_al\n",
    "print(f'Un paso de la simulación de MC para la tas del modelo de Vasicek:{r:.8%}')"
   ]
  },
  {
   "cell_type": "markdown",
   "metadata": {},
   "source": [
    "### Pregunta 4"
   ]
  },
  {
   "cell_type": "markdown",
   "metadata": {},
   "source": [
    "La primera diferencia que se encuentra en la valorización por simulación de Monte Carlo con la media forward versus la medida libre de riesgo es el drift. En la medida forward el drift cambia, para calcularlo se debe derivar la función del bono cupón cero de Hull & White y al cambiar el drift se tendrá una nueva función de $\\theta$ que es la que va a generar una diferencia en la simulación de Monte-Carlo. En el resto de las cosas, con esto me refiero a la creación de los valores normales aleatorios, las funciones involucradas como A y B. Recordar que la función $\\theta$ SÍ cambia. \n",
    "\n",
    "Una vez que se tiene eso se puede usar la misma función para simular pero cambaindo la función $\\theta$ y se crean los ciclos for para que recorra las diferentes trayectorias (número de simulaciones) y los pasos que se desean entregar. \n",
    "\n",
    "La segunda diferencia que ocurre es a la hora de traer a valor presente la opción, con la medida forward se tiene que el la esperanza del factor de descuento es conocida y se considera como el factor de descuento con la tasa al vencimiento, por lo que para traer a valor presente basta multiplicar ese factro de descuento con el promedio de los payoffs obtenidos. Cabe mencionar que en este caso el número de pasos serñia 264. \n",
    "\n",
    "Por otro lado, si se hace la simulación con la medida libre de riesgo, se tiene que la cantidad de pasos que hace la simulación son 263, y para poder traer a valor presente se debe calcular el factor de descuento de cada trayectoria (simulación) y multplicarlo por el payoff de cada trayectoria y a la multiplicación anterior se le calcula el promedio. \n",
    "\n"
   ]
  },
  {
   "cell_type": "markdown",
   "metadata": {
    "ExecuteTime": {
     "end_time": "2020-12-11T02:18:04.908007Z",
     "start_time": "2020-12-11T02:18:04.905073Z"
    }
   },
   "source": [
    "### Pregunta 5"
   ]
  },
  {
   "cell_type": "markdown",
   "metadata": {},
   "source": [
    "La TNA viene dada por la siguiente ecuación: \n",
    "$$TNA=Round\\left(\\left( \\frac{ICP_{T}}{ICP_{t}}-1\\right)\\cdot\\frac{360}{d},4\\right)$$\n",
    "\n",
    "Donde:\n",
    "\n",
    "- TNA: significa *tasa nominal anual*.\n",
    "- $ICP_{\\tau}$: es el valor del $ICP$ la fecha $\\tau=t,T$.\n",
    "- $d$ es el número de días entre $t$ y $T$.\n",
    "- $Round\\left(x,4\\right)$ redondea el número $x$ a 4 decimales."
   ]
  },
  {
   "cell_type": "markdown",
   "metadata": {},
   "source": [
    "Calcule la TNA con ICP0 = 10,000.00 e ICP365 = 10,214.00 (365 días después)."
   ]
  },
  {
   "cell_type": "code",
   "execution_count": 42,
   "metadata": {
    "ExecuteTime": {
     "end_time": "2020-12-11T21:36:31.466153Z",
     "start_time": "2020-12-11T21:36:31.461481Z"
    }
   },
   "outputs": [
    {
     "name": "stdout",
     "output_type": "stream",
     "text": [
      "Valor de la TNA: 0.0211\n"
     ]
    }
   ],
   "source": [
    "ICP0=10000.00\n",
    "ICP=10214.00\n",
    "d=365\n",
    "TNA=round((ICP/ICP0-1)*360/d,4)\n",
    "print(f'Valor de la TNA: {TNA:,.4f}')"
   ]
  },
  {
   "cell_type": "markdown",
   "metadata": {},
   "source": [
    "### Pregunta 6"
   ]
  },
  {
   "cell_type": "markdown",
   "metadata": {},
   "source": [
    "Una opción sobre un bono cupón cero valorizada con el modelo de Vasicek vale lo\n",
    "mismo que la misma opción valorizada con el modelo de Hull-White. Comente."
   ]
  },
  {
   "cell_type": "markdown",
   "metadata": {},
   "source": [
    "Es importante comenzar mencionando que el modelo de HUll-White es una extensión del modelo de Vasicek. El modelo de Vacisek no logra percibir los cambios de curvatura en la curva cero cupón mientras que el del Hull-White si puede, es a partir de lo anterior que la primera diferencia entre estos dos modelos, es la dinámica que sigue la tasa instantánea, ya que en el modelo de HW aparece una función $\\theta$ que se puede interpretar como un nivel de reversión a la media variable en el tiempo, mientras que en el otro modelo no está. \n",
    "\n",
    "A partir de lo anterior, la fórmula para valorizar el bono cupón cero cambia, sin embargo, si se quiere valorizar una opción europea (Call o Put) la fórmula sigue siendo la misma, por lo que en ambos modelos el valor de la opción es el mismo (si es que es una call o put). En otro caso, en otro tipo de opción, no creo que la opción en ambos modelos valga lo mismo, ya que, como se mencionó anteriormente la medida de riesgo varía y como por lo general no se tiene una fórmula cerrada para otro tipo de opciones y se debe valorizar por MC, el valor no sería el mismo. \n"
   ]
  },
  {
   "cell_type": "markdown",
   "metadata": {},
   "source": [
    "### Pregunta 7"
   ]
  },
  {
   "cell_type": "markdown",
   "metadata": {
    "ExecuteTime": {
     "end_time": "2020-12-11T20:33:48.070257Z",
     "start_time": "2020-12-11T20:33:48.064511Z"
    }
   },
   "source": [
    "Para calcular la tasa forward se debe en primer lugar interpolar la curva. "
   ]
  },
  {
   "cell_type": "markdown",
   "metadata": {},
   "source": [
    "Una vez que se tiene la curva, se deben establecer los datos necesarios. "
   ]
  },
  {
   "cell_type": "code",
   "execution_count": 43,
   "metadata": {
    "ExecuteTime": {
     "end_time": "2020-12-11T21:36:33.878713Z",
     "start_time": "2020-12-11T21:36:33.873640Z"
    }
   },
   "outputs": [],
   "source": [
    "t1=282\n",
    "t2=454 \n",
    "r1=curva(t1)\n",
    "r2=curva(t2)\n",
    "df1=math.exp(-r1* t1/365)\n",
    "df2=math.exp(-r2* t2/365)"
   ]
  },
  {
   "cell_type": "markdown",
   "metadata": {},
   "source": [
    "Luego se calcular la tasa forward, como la tasa equivalente. "
   ]
  },
  {
   "cell_type": "code",
   "execution_count": 44,
   "metadata": {
    "ExecuteTime": {
     "end_time": "2020-12-11T21:36:35.453435Z",
     "start_time": "2020-12-11T21:36:35.448991Z"
    }
   },
   "outputs": [
    {
     "name": "stdout",
     "output_type": "stream",
     "text": [
      "Valor de la tasa forward: 0.05902083%\n"
     ]
    }
   ],
   "source": [
    "tasa_forward=(df1/df2-1)*360/(t2-t1)\n",
    "print(f'Valor de la tasa forward: {tasa_forward:,.8%}')"
   ]
  }
 ],
 "metadata": {
  "hide_input": false,
  "kernelspec": {
   "display_name": "Python 3",
   "language": "python",
   "name": "python3"
  },
  "language_info": {
   "codemirror_mode": {
    "name": "ipython",
    "version": 3
   },
   "file_extension": ".py",
   "mimetype": "text/x-python",
   "name": "python",
   "nbconvert_exporter": "python",
   "pygments_lexer": "ipython3",
   "version": "3.7.3"
  },
  "toc": {
   "base_numbering": "16",
   "nav_menu": {},
   "number_sections": true,
   "sideBar": true,
   "skip_h1_title": false,
   "title_cell": "Table of Contents",
   "title_sidebar": "Contenido",
   "toc_cell": false,
   "toc_position": {
    "height": "calc(100% - 180px)",
    "left": "10px",
    "top": "150px",
    "width": "165px"
   },
   "toc_section_display": true,
   "toc_window_display": true
  }
 },
 "nbformat": 4,
 "nbformat_minor": 4
}
