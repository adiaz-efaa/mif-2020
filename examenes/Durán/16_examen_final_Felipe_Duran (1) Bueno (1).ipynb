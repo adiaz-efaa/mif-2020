{
 "cells": [
  {
   "cell_type": "markdown",
   "metadata": {},
   "source": [
    "# Examen Final"
   ]
  },
  {
   "cell_type": "markdown",
   "metadata": {},
   "source": [
    "- Prender cámaras.\n",
    "- Puede utilizar sus apuntes.\n",
    "- Puede utilizar los notebooks del curso.\n",
    "- La alumna o alumno que sea sorprendido solicitando ayuda a cualquier persona, sea ella compañera o no, será calificada con un 2.\n",
    "- Cada pregunta vale un punto.\n",
    "- La nota mínima es un 2.\n",
    "- La nota se determinará con la siguiente fórmula $nota = \\min\\left(puntos + 2, 7\\right)$\n",
    "- Todas las funciones necesarias para resolver los ejercicios están ya importadas al notebook."
   ]
  },
  {
   "cell_type": "markdown",
   "metadata": {},
   "source": [
    "## Librerías"
   ]
  },
  {
   "cell_type": "code",
   "execution_count": 5,
   "metadata": {
    "ExecuteTime": {
     "end_time": "2020-12-11T21:40:52.759147Z",
     "start_time": "2020-12-11T21:40:52.028071Z"
    }
   },
   "outputs": [],
   "source": [
    "from finrisk import examen_final as ef\n",
    "from scipy.interpolate import interp1d\n",
    "import modules.hull_white as hw\n",
    "import pandas as pd\n",
    "import numpy as np\n",
    "import textwrap\n",
    "import random\n",
    "import math"
   ]
  },
  {
   "cell_type": "markdown",
   "metadata": {},
   "source": [
    "## Curva Cero Cupón"
   ]
  },
  {
   "cell_type": "markdown",
   "metadata": {},
   "source": [
    "Los plazos están en días y las tasas en convención exp act/365."
   ]
  },
  {
   "cell_type": "code",
   "execution_count": 6,
   "metadata": {
    "ExecuteTime": {
     "end_time": "2020-12-11T20:05:44.535030Z",
     "start_time": "2020-12-11T20:05:44.518648Z"
    }
   },
   "outputs": [],
   "source": [
    "df_curva = pd.read_excel('data/20201012_built_sofr_zero.xlsx')"
   ]
  },
  {
   "cell_type": "code",
   "execution_count": 7,
   "metadata": {
    "ExecuteTime": {
     "end_time": "2020-12-11T20:05:44.552873Z",
     "start_time": "2020-12-11T20:05:44.538126Z"
    }
   },
   "outputs": [
    {
     "data": {
      "text/html": [
       "<div>\n",
       "<style scoped>\n",
       "    .dataframe tbody tr th:only-of-type {\n",
       "        vertical-align: middle;\n",
       "    }\n",
       "\n",
       "    .dataframe tbody tr th {\n",
       "        vertical-align: top;\n",
       "    }\n",
       "\n",
       "    .dataframe thead th {\n",
       "        text-align: right;\n",
       "    }\n",
       "</style>\n",
       "<table border=\"1\" class=\"dataframe\">\n",
       "  <thead>\n",
       "    <tr style=\"text-align: right;\">\n",
       "      <th></th>\n",
       "      <th>plazo</th>\n",
       "      <th>tasa</th>\n",
       "      <th>df</th>\n",
       "    </tr>\n",
       "  </thead>\n",
       "  <tbody>\n",
       "    <tr>\n",
       "      <th>0</th>\n",
       "      <td>1</td>\n",
       "      <td>0.000811</td>\n",
       "      <td>0.999998</td>\n",
       "    </tr>\n",
       "    <tr>\n",
       "      <th>1</th>\n",
       "      <td>7</td>\n",
       "      <td>0.000841</td>\n",
       "      <td>0.999984</td>\n",
       "    </tr>\n",
       "    <tr>\n",
       "      <th>2</th>\n",
       "      <td>14</td>\n",
       "      <td>0.000780</td>\n",
       "      <td>0.999970</td>\n",
       "    </tr>\n",
       "    <tr>\n",
       "      <th>3</th>\n",
       "      <td>21</td>\n",
       "      <td>0.000774</td>\n",
       "      <td>0.999955</td>\n",
       "    </tr>\n",
       "    <tr>\n",
       "      <th>4</th>\n",
       "      <td>33</td>\n",
       "      <td>0.000781</td>\n",
       "      <td>0.999929</td>\n",
       "    </tr>\n",
       "  </tbody>\n",
       "</table>\n",
       "</div>"
      ],
      "text/plain": [
       "   plazo      tasa        df\n",
       "0      1  0.000811  0.999998\n",
       "1      7  0.000841  0.999984\n",
       "2     14  0.000780  0.999970\n",
       "3     21  0.000774  0.999955\n",
       "4     33  0.000781  0.999929"
      ]
     },
     "execution_count": 7,
     "metadata": {},
     "output_type": "execute_result"
    }
   ],
   "source": [
    "df_curva.head()"
   ]
  },
  {
   "cell_type": "code",
   "execution_count": 8,
   "metadata": {
    "ExecuteTime": {
     "end_time": "2020-12-11T20:05:44.560891Z",
     "start_time": "2020-12-11T20:05:44.555885Z"
    }
   },
   "outputs": [],
   "source": [
    "curva = interp1d(df_curva['plazo'], df_curva['tasa'], 'linear', fill_value='extrapolate')"
   ]
  },
  {
   "cell_type": "markdown",
   "metadata": {},
   "source": [
    "## Cálculo Opción"
   ]
  },
  {
   "cell_type": "markdown",
   "metadata": {},
   "source": [
    "Para identificar si es una Call o una Put se usa un `enum`."
   ]
  },
  {
   "cell_type": "code",
   "execution_count": 9,
   "metadata": {
    "ExecuteTime": {
     "end_time": "2020-12-11T20:05:44.569836Z",
     "start_time": "2020-12-11T20:05:44.565713Z"
    }
   },
   "outputs": [],
   "source": [
    "c_p = hw.CallPut.CALL\n",
    "c_p = hw.CallPut.PUT"
   ]
  },
  {
   "cell_type": "markdown",
   "metadata": {},
   "source": [
    "Ver toda la documentación:"
   ]
  },
  {
   "cell_type": "code",
   "execution_count": 10,
   "metadata": {
    "ExecuteTime": {
     "end_time": "2020-12-11T20:05:44.577542Z",
     "start_time": "2020-12-11T20:05:44.572662Z"
    }
   },
   "outputs": [
    {
     "name": "stdout",
     "output_type": "stream",
     "text": [
      "\n",
      "    Calcula el valor de una call o una put sobre un bono cero cupón en el modelo de HW.\n",
      "    \n",
      "    params:\n",
      "    \n",
      "    - c_p: indica si es la opción es Call o Put. Es un `enum` de tipo CallPut. Ejemplo, c_p = CallPut.CALL.\n",
      "    - strike: es el strike de la opción. Se ingresa como número. Un strike del 90% se ingresa como .9.\n",
      "    - r0: es la tasa corta al momento de valorizar la opción (t = 0).\n",
      "    - to: instante de tiempo en que vence la opción, expresado en años.\n",
      "    - tb: instante de tiempo en que vence el bono subyacente, expresado en años. Debe ser tb > to.\n",
      "    - zo: factor de descuento de mercado a tiempo t = 0 hasta to.\n",
      "    - zb: factor de descuento de mercado a tiempo t = 0 hasta tb.\n",
      "    - gamma: parámetro gamma del modelo HW.\n",
      "    - sigma: parámetro sigma del modelo HW.\n",
      "    \n",
      "    return:\n",
      "    \n",
      "    -  el valor de la opción.\n",
      "    \n"
     ]
    }
   ],
   "source": [
    "print(hw.zcb_call_put.__doc__)"
   ]
  },
  {
   "cell_type": "markdown",
   "metadata": {},
   "source": [
    "## Valores `gamma` y `sigma`"
   ]
  },
  {
   "cell_type": "code",
   "execution_count": 11,
   "metadata": {
    "ExecuteTime": {
     "end_time": "2020-12-11T20:05:44.583702Z",
     "start_time": "2020-12-11T20:05:44.580098Z"
    }
   },
   "outputs": [],
   "source": [
    "gamma = 1\n",
    "sigma = .005"
   ]
  },
  {
   "cell_type": "code",
   "execution_count": 12,
   "metadata": {
    "ExecuteTime": {
     "end_time": "2020-12-11T20:05:44.614417Z",
     "start_time": "2020-12-11T20:05:44.586339Z"
    }
   },
   "outputs": [
    {
     "name": "stdout",
     "output_type": "stream",
     "text": [
      "0.98 0.019553575799963863\n",
      "0.981 0.0185542779311344\n",
      "0.982 0.017554980062305048\n",
      "0.983 0.016555682193475696\n",
      "0.984 0.015556384324646233\n",
      "0.985 0.014557086455816881\n",
      "0.99 0.0095605971116699\n",
      "0.991 0.008561299242840548\n",
      "0.992 0.007562001374011196\n",
      "0.993 0.006562703505181733\n"
     ]
    }
   ],
   "source": [
    "strikes = [.98, .981, .982, .983, .984, .985, .99, .991, .992, .993]\n",
    "for k in strikes:\n",
    "    print(k, hw.zcb_call_put(\n",
    "        hw.CallPut.CALL,\n",
    "        k,\n",
    "        curva(.0001),\n",
    "        1,\n",
    "        2,\n",
    "        math.exp(-curva(365)),\n",
    "        math.exp(-curva(730) * 730 / 365.0),\n",
    "        gamma,\n",
    "        sigma\n",
    "    ))"
   ]
  },
  {
   "cell_type": "markdown",
   "metadata": {},
   "source": [
    "## Preguntas"
   ]
  },
  {
   "cell_type": "code",
   "execution_count": 13,
   "metadata": {
    "ExecuteTime": {
     "end_time": "2020-12-11T20:05:44.621974Z",
     "start_time": "2020-12-11T20:05:44.617033Z"
    },
    "hide_input": false
   },
   "outputs": [],
   "source": [
    "try:\n",
    "    q = ef.get_questions()\n",
    "except Exception as e:\n",
    "    print(str(e))"
   ]
  },
  {
   "cell_type": "code",
   "execution_count": 14,
   "metadata": {
    "ExecuteTime": {
     "end_time": "2020-12-11T20:05:44.637112Z",
     "start_time": "2020-12-11T20:05:44.625276Z"
    },
    "hide_input": true
   },
   "outputs": [
    {
     "name": "stdout",
     "output_type": "stream",
     "text": [
      "Pregunta 1:\n",
      "\n",
      "Calcule la TNA con ICP0 = 10,000.00 e ICP365 = 10,033.00 (365 días después).\n",
      "\n",
      "\n",
      "Pregunta 2:\n",
      "\n",
      "Explique la diferencia entre valorizar un payoff g(r(T), T) por simulación de\n",
      "Montecarlo utilizando el modelo de Hull-White en la medida libre de riesgo y el\n",
      "modelo de Hull-White en la medida T-forward.\n",
      "\n",
      "\n",
      "Pregunta 3:\n",
      "\n",
      "Calcule un paso de simulación de Montecarlo para el modelo de Vasicek usando\n",
      "gamma = 1.0, sigma = 0.5%, dt = 1/264, r0 obtenido de la curva cupón cero\n",
      "entregada y número aleatorio N(0, 1) igual a .1.4756 .\n",
      "\n",
      "\n",
      "Pregunta 4:\n",
      "\n",
      "Usando la curva cero cupón entregada y parámetros gamma = 1.0 y sigma = 0.5%\n",
      "valorice una call a 1Y sobre un bono cero cupón a 2Y con un strike de 98.5%.\n",
      "Entregue el resultado 8 decimales y suponiendo un nocional de 1.\n",
      "\n",
      "\n",
      "Pregunta 5:\n",
      "\n",
      "Ceteris paribus una opción sobre una activo con reversión a la media vale menos\n",
      "que una opción sobre un activo sin reversión a la media. Comente.\n",
      "\n",
      "\n",
      "Pregunta 6:\n",
      "\n",
      "Considere un swap a 1Y con cupones semestrales de 1.4% (lineal). Si la tasa\n",
      "cupón cero a 0.5Y es 1.3% (exp), calcule la tasa cero a 1Y.\n",
      "\n",
      "\n",
      "Pregunta 7:\n",
      "\n",
      "Con la curva cero cupón, interpolando linealmente en tasa, calcule la tasa\n",
      "forward entre 1282 y 2454 días.\n",
      "\n",
      "\n"
     ]
    }
   ],
   "source": [
    "for qq in q:\n",
    "    print(f'{qq[0]}\\n')\n",
    "    print(textwrap.fill(f'{qq[1]}', 80))\n",
    "    print('\\n')"
   ]
  },
  {
   "cell_type": "markdown",
   "metadata": {},
   "source": [
    "## Respuestas"
   ]
  },
  {
   "cell_type": "markdown",
   "metadata": {},
   "source": []
  },
  {
   "cell_type": "markdown",
   "metadata": {},
   "source": [
    "Pregunta 1:\n",
    "\n",
    "Calcule la TNA con ICP0 = 10,000.00 e ICP365 = 10,033.00 (365 días después).\n",
    "\n",
    "\n",
    "Pregunta 2:\n",
    "\n",
    "Explique la diferencia entre valorizar un payoff g(r(T), T) por simulación de\n",
    "Montecarlo utilizando el modelo de Hull-White en la medida libre de riesgo y el\n",
    "modelo de Hull-White en la medida T-forward.\n",
    "\n",
    "\n",
    "Pregunta 3:\n",
    "\n",
    "Calcule un paso de simulación de Montecarlo para el modelo de Vasicek usando\n",
    "gamma = 1.0, sigma = 0.5%, dt = 1/264, r0 obtenido de la curva cupón cero\n",
    "entregada y número aleatorio N(0, 1) igual a .1.4756 .\n",
    "\n",
    "\n",
    "Pregunta 4:\n",
    "\n",
    "Usando la curva cero cupón entregada y parámetros gamma = 1.0 y sigma = 0.5%\n",
    "valorice una call a 1Y sobre un bono cero cupón a 2Y con un strike de 98.5%.\n",
    "Entregue el resultado 8 decimales y suponiendo un nocional de 1.\n",
    "\n",
    "\n",
    "Pregunta 5:\n",
    "\n",
    "Ceteris paribus una opción sobre una activo con reversión a la media vale menos\n",
    "que una opción sobre un activo sin reversión a la media. Comente.\n",
    "\n",
    "\n",
    "Pregunta 6:\n",
    "\n",
    "Considere un swap a 1Y con cupones semestrales de 1.4% (lineal). Si la tasa\n",
    "cupón cero a 0.5Y es 1.3% (exp), calcule la tasa cero a 1Y.\n",
    "\n",
    "\n",
    "Pregunta 7:\n",
    "\n",
    "Con la curva cero cupón, interpolando linealmente en tasa, calcule la tasa\n",
    "forward entre 1282 y 2454 días.\n"
   ]
  },
  {
   "cell_type": "markdown",
   "metadata": {},
   "source": [
    "### Pregunta 1"
   ]
  },
  {
   "cell_type": "code",
   "execution_count": 8,
   "metadata": {
    "ExecuteTime": {
     "end_time": "2020-12-11T21:42:07.343558Z",
     "start_time": "2020-12-11T21:42:07.336546Z"
    }
   },
   "outputs": [
    {
     "name": "stdout",
     "output_type": "stream",
     "text": [
      "0.33000000%\n"
     ]
    }
   ],
   "source": [
    "ICP0 = 10000.00\n",
    "ICP365 = 10033.00\n",
    "d = 365\n",
    "TNA = round((ICP365 / ICP0 -1)* 360 / d,4 )\n",
    "print(f'{TNA:.8%}')"
   ]
  },
  {
   "cell_type": "markdown",
   "metadata": {},
   "source": [
    "### Pregunta 2"
   ]
  },
  {
   "cell_type": "markdown",
   "metadata": {},
   "source": [
    "La diferencia principal radica en que la medida forward se utiliza cuando debemos considerar el plazo de un instrumento a valorizar, en este caso, la medida forward por otra parte modifica el factor de descuento llevandolo fuera de la ecuación, asi como, a diferencia del modelo con la medida riesgo neutral, cambia el theta."
   ]
  },
  {
   "cell_type": "markdown",
   "metadata": {},
   "source": [
    "### Pregunta 3"
   ]
  },
  {
   "cell_type": "code",
   "execution_count": 37,
   "metadata": {
    "ExecuteTime": {
     "end_time": "2020-12-11T20:51:26.397273Z",
     "start_time": "2020-12-11T20:51:26.388039Z"
    }
   },
   "outputs": [
    {
     "name": "stdout",
     "output_type": "stream",
     "text": [
      "0.08111102%\n",
      "0.08723857%\n"
     ]
    }
   ],
   "source": [
    "r_ = 0.005\n",
    "gamma = 1.0\n",
    "sigma = 0.005\n",
    "dt = 1/264\n",
    "randcero = .14756\n",
    "r0 = df_curva.iloc[0]['tasa']\n",
    "dt_gamma_r_ = dt * gamma * r_\n",
    "sigma_sqdt = sigma * math.sqrt(dt)\n",
    "result = [(0, r0),]\n",
    "gamma_dt = gamma * dt\n",
    "r=r0\n",
    "print(f'{r:.8%}')\n",
    "r = dt_gamma_r_ + (1 - gamma_dt) * r + sigma_sqdt * randcero\n",
    "print(f'{r:.8%}')"
   ]
  },
  {
   "cell_type": "markdown",
   "metadata": {},
   "source": [
    "### Pregunta 4"
   ]
  },
  {
   "cell_type": "code",
   "execution_count": 22,
   "metadata": {
    "ExecuteTime": {
     "end_time": "2020-12-11T20:26:47.583160Z",
     "start_time": "2020-12-11T20:26:47.575378Z"
    }
   },
   "outputs": [
    {
     "name": "stdout",
     "output_type": "stream",
     "text": [
      "0.985 1.45570865%\n"
     ]
    }
   ],
   "source": [
    "gamma = 1\n",
    "sigma = .005\n",
    "strikes = [ .985]\n",
    "for k in strikes:\n",
    "        Call=hw.zcb_call_put(\n",
    "        hw.CallPut.CALL,\n",
    "        k,\n",
    "        curva(.0001),\n",
    "        1,\n",
    "        2,\n",
    "        math.exp(-curva(365)),\n",
    "        math.exp(-curva(730) * 730 / 365.0),\n",
    "        gamma,\n",
    "        sigma\n",
    "    )\n",
    "print(k,f'{Call:.8%}')"
   ]
  },
  {
   "cell_type": "markdown",
   "metadata": {
    "ExecuteTime": {
     "end_time": "2020-12-11T02:18:04.908007Z",
     "start_time": "2020-12-11T02:18:04.905073Z"
    }
   },
   "source": [
    "### Pregunta 5"
   ]
  },
  {
   "cell_type": "markdown",
   "metadata": {},
   "source": [
    "Verdadero, incluso bajo la misma volatilidad, la opcion con reversión a la media vale menos, porque la reversion a la media disminuye la volatilidad realizada, aun bajo un mismo sigma."
   ]
  },
  {
   "cell_type": "markdown",
   "metadata": {},
   "source": [
    "### Pregunta 6"
   ]
  },
  {
   "cell_type": "code",
   "execution_count": 7,
   "metadata": {
    "ExecuteTime": {
     "end_time": "2020-12-11T21:42:03.520264Z",
     "start_time": "2020-12-11T21:42:03.513934Z"
    }
   },
   "outputs": [
    {
     "name": "stdout",
     "output_type": "stream",
     "text": [
      "1.35724973%\n"
     ]
    }
   ],
   "source": [
    "\n",
    "r=0.014\n",
    "cz06=0.013\n",
    "T1=180\n",
    "T2=360\n",
    "df2 = math.exp(-cz06*T1 /365)\n",
    "cz12=(r * (T2 - T1) /360 + 1) / df2\n",
    "cz12 = 1 / cz12\n",
    "cz12= math.log(cz12)*(-1)*365 / T2\n",
    "print(f'{cz12:.8%}')"
   ]
  },
  {
   "cell_type": "markdown",
   "metadata": {},
   "source": [
    "### Pregunta 7"
   ]
  },
  {
   "cell_type": "code",
   "execution_count": 15,
   "metadata": {
    "ExecuteTime": {
     "end_time": "2020-12-11T20:14:51.812379Z",
     "start_time": "2020-12-11T20:14:51.802973Z"
    }
   },
   "outputs": [
    {
     "name": "stdout",
     "output_type": "stream",
     "text": [
      "0.59331987%\n"
     ]
    }
   ],
   "source": [
    "t1 = 1282\n",
    "t2 = 2454\n",
    "r1 = curva(t1)\n",
    "r2 = curva(t2)\n",
    "df1 = math.exp(-r1*t1 /365)\n",
    "df2 = math.exp(-r2*t2 /365)\n",
    "fwd12 = (df1 / df2 - 1.0) * 360.0 / (t2 - t1)\n",
    "print(f'{fwd12:.8%}')"
   ]
  }
 ],
 "metadata": {
  "hide_input": false,
  "kernelspec": {
   "display_name": "Python 3",
   "language": "python",
   "name": "python3"
  },
  "language_info": {
   "codemirror_mode": {
    "name": "ipython",
    "version": 3
   },
   "file_extension": ".py",
   "mimetype": "text/x-python",
   "name": "python",
   "nbconvert_exporter": "python",
   "pygments_lexer": "ipython3",
   "version": "3.7.3"
  },
  "toc": {
   "base_numbering": "16",
   "nav_menu": {},
   "number_sections": true,
   "sideBar": true,
   "skip_h1_title": false,
   "title_cell": "Table of Contents",
   "title_sidebar": "Contenido",
   "toc_cell": false,
   "toc_position": {
    "height": "calc(100% - 180px)",
    "left": "10px",
    "top": "150px",
    "width": "165px"
   },
   "toc_section_display": true,
   "toc_window_display": true
  }
 },
 "nbformat": 4,
 "nbformat_minor": 4
}
