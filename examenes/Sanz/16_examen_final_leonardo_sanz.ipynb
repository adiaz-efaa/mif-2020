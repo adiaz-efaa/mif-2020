{
 "cells": [
  {
   "cell_type": "markdown",
   "metadata": {},
   "source": [
    "# Examen Final"
   ]
  },
  {
   "cell_type": "markdown",
   "metadata": {},
   "source": [
    "- Prender cámaras.\n",
    "- Puede utilizar sus apuntes.\n",
    "- Puede utilizar los notebooks del curso.\n",
    "- La alumna o alumno que sea sorprendido solicitando ayuda a cualquier persona, sea ella compañera o no, será calificada con un 2.\n",
    "- Cada pregunta vale un punto.\n",
    "- La nota mínima es un 2.\n",
    "- La nota se determinará con la siguiente fórmula $nota = \\min\\left(puntos + 2, 7\\right)$\n",
    "- Todas las funciones necesarias para resolver los ejercicios están ya importadas al notebook."
   ]
  },
  {
   "cell_type": "markdown",
   "metadata": {},
   "source": [
    "## Librerías"
   ]
  },
  {
   "cell_type": "code",
   "execution_count": 21,
   "metadata": {
    "ExecuteTime": {
     "end_time": "2020-12-11T20:08:27.685847Z",
     "start_time": "2020-12-11T20:08:27.666999Z"
    }
   },
   "outputs": [],
   "source": [
    "from finrisk import examen_final as ef\n",
    "from scipy.interpolate import interp1d\n",
    "import modules.hull_white as hw\n",
    "import pandas as pd\n",
    "import numpy as np\n",
    "import textwrap\n",
    "import random\n",
    "import math"
   ]
  },
  {
   "cell_type": "markdown",
   "metadata": {},
   "source": [
    "## Curva Cero Cupón"
   ]
  },
  {
   "cell_type": "markdown",
   "metadata": {},
   "source": [
    "Los plazos están en días y las tasas en convención exp act/365."
   ]
  },
  {
   "cell_type": "code",
   "execution_count": 46,
   "metadata": {
    "ExecuteTime": {
     "end_time": "2020-12-11T21:30:15.514074Z",
     "start_time": "2020-12-11T21:30:15.499337Z"
    }
   },
   "outputs": [],
   "source": [
    "df_curva = pd.read_excel('data/20201012_built_sofr_zero.xlsx')"
   ]
  },
  {
   "cell_type": "code",
   "execution_count": 47,
   "metadata": {
    "ExecuteTime": {
     "end_time": "2020-12-11T21:30:15.605107Z",
     "start_time": "2020-12-11T21:30:15.591057Z"
    }
   },
   "outputs": [
    {
     "data": {
      "text/html": [
       "<div>\n",
       "<style scoped>\n",
       "    .dataframe tbody tr th:only-of-type {\n",
       "        vertical-align: middle;\n",
       "    }\n",
       "\n",
       "    .dataframe tbody tr th {\n",
       "        vertical-align: top;\n",
       "    }\n",
       "\n",
       "    .dataframe thead th {\n",
       "        text-align: right;\n",
       "    }\n",
       "</style>\n",
       "<table border=\"1\" class=\"dataframe\">\n",
       "  <thead>\n",
       "    <tr style=\"text-align: right;\">\n",
       "      <th></th>\n",
       "      <th>plazo</th>\n",
       "      <th>tasa</th>\n",
       "      <th>df</th>\n",
       "    </tr>\n",
       "  </thead>\n",
       "  <tbody>\n",
       "    <tr>\n",
       "      <th>0</th>\n",
       "      <td>1</td>\n",
       "      <td>0.000811</td>\n",
       "      <td>0.999998</td>\n",
       "    </tr>\n",
       "    <tr>\n",
       "      <th>1</th>\n",
       "      <td>7</td>\n",
       "      <td>0.000841</td>\n",
       "      <td>0.999984</td>\n",
       "    </tr>\n",
       "    <tr>\n",
       "      <th>2</th>\n",
       "      <td>14</td>\n",
       "      <td>0.000780</td>\n",
       "      <td>0.999970</td>\n",
       "    </tr>\n",
       "    <tr>\n",
       "      <th>3</th>\n",
       "      <td>21</td>\n",
       "      <td>0.000774</td>\n",
       "      <td>0.999955</td>\n",
       "    </tr>\n",
       "    <tr>\n",
       "      <th>4</th>\n",
       "      <td>33</td>\n",
       "      <td>0.000781</td>\n",
       "      <td>0.999929</td>\n",
       "    </tr>\n",
       "  </tbody>\n",
       "</table>\n",
       "</div>"
      ],
      "text/plain": [
       "   plazo      tasa        df\n",
       "0      1  0.000811  0.999998\n",
       "1      7  0.000841  0.999984\n",
       "2     14  0.000780  0.999970\n",
       "3     21  0.000774  0.999955\n",
       "4     33  0.000781  0.999929"
      ]
     },
     "execution_count": 47,
     "metadata": {},
     "output_type": "execute_result"
    }
   ],
   "source": [
    "df_curva.head()"
   ]
  },
  {
   "cell_type": "code",
   "execution_count": 48,
   "metadata": {
    "ExecuteTime": {
     "end_time": "2020-12-11T21:30:17.251048Z",
     "start_time": "2020-12-11T21:30:17.245932Z"
    }
   },
   "outputs": [],
   "source": [
    "curva = interp1d(df_curva['plazo'], df_curva['tasa'], 'linear', fill_value='extrapolate')"
   ]
  },
  {
   "cell_type": "markdown",
   "metadata": {},
   "source": [
    "## Cálculo Opción"
   ]
  },
  {
   "cell_type": "markdown",
   "metadata": {},
   "source": [
    "Para identificar si es una Call o una Put se usa un `enum`."
   ]
  },
  {
   "cell_type": "code",
   "execution_count": 49,
   "metadata": {
    "ExecuteTime": {
     "end_time": "2020-12-11T21:30:20.583747Z",
     "start_time": "2020-12-11T21:30:20.578797Z"
    }
   },
   "outputs": [],
   "source": [
    "c_p = hw.CallPut.CALL\n",
    "c_p = hw.CallPut.PUT"
   ]
  },
  {
   "cell_type": "markdown",
   "metadata": {},
   "source": [
    "Ver toda la documentación:"
   ]
  },
  {
   "cell_type": "code",
   "execution_count": 50,
   "metadata": {
    "ExecuteTime": {
     "end_time": "2020-12-11T21:30:21.776240Z",
     "start_time": "2020-12-11T21:30:21.770399Z"
    }
   },
   "outputs": [
    {
     "name": "stdout",
     "output_type": "stream",
     "text": [
      "\n",
      "    Calcula el valor de una call o una put sobre un bono cero cupón en el modelo de HW.\n",
      "    \n",
      "    params:\n",
      "    \n",
      "    - c_p: indica si es la opción es Call o Put. Es un `enum` de tipo CallPut. Ejemplo, c_p = CallPut.CALL.\n",
      "    - strike: es el strike de la opción. Se ingresa como número. Un strike del 90% se ingresa como .9.\n",
      "    - r0: es la tasa corta al momento de valorizar la opción (t = 0).\n",
      "    - to: instante de tiempo en que vence la opción, expresado en años.\n",
      "    - tb: instante de tiempo en que vence el bono subyacente, expresado en años. Debe ser tb > to.\n",
      "    - zo: factor de descuento de mercado a tiempo t = 0 hasta to.\n",
      "    - zb: factor de descuento de mercado a tiempo t = 0 hasta tb.\n",
      "    - gamma: parámetro gamma del modelo HW.\n",
      "    - sigma: parámetro sigma del modelo HW.\n",
      "    \n",
      "    return:\n",
      "    \n",
      "    -  el valor de la opción.\n",
      "    \n"
     ]
    }
   ],
   "source": [
    "print(hw.zcb_call_put.__doc__)"
   ]
  },
  {
   "cell_type": "markdown",
   "metadata": {},
   "source": [
    "## Valores `gamma` y `sigma`"
   ]
  },
  {
   "cell_type": "code",
   "execution_count": 51,
   "metadata": {
    "ExecuteTime": {
     "end_time": "2020-12-11T21:30:28.306531Z",
     "start_time": "2020-12-11T21:30:28.302894Z"
    }
   },
   "outputs": [],
   "source": [
    "gamma = 1\n",
    "sigma = .005"
   ]
  },
  {
   "cell_type": "code",
   "execution_count": 52,
   "metadata": {
    "ExecuteTime": {
     "end_time": "2020-12-11T21:30:29.193009Z",
     "start_time": "2020-12-11T21:30:29.170713Z"
    }
   },
   "outputs": [
    {
     "name": "stdout",
     "output_type": "stream",
     "text": [
      "0.98 0.019553575799963863\n",
      "0.981 0.0185542779311344\n",
      "0.982 0.017554980062305048\n",
      "0.983 0.016555682193475696\n",
      "0.984 0.015556384324646233\n",
      "0.985 0.014557086455816881\n",
      "0.99 0.0095605971116699\n",
      "0.991 0.008561299242840548\n",
      "0.992 0.007562001374011196\n",
      "0.993 0.006562703505181733\n"
     ]
    }
   ],
   "source": [
    "strikes = [.98, .981, .982, .983, .984, .985, .99, .991, .992, .993]\n",
    "for k in strikes:\n",
    "    print(k, hw.zcb_call_put(\n",
    "        hw.CallPut.CALL,\n",
    "        k,\n",
    "        curva(.0001),\n",
    "        1,\n",
    "        2,\n",
    "        math.exp(-curva(365)),\n",
    "        math.exp(-curva(730) * 730 / 365.0),\n",
    "        gamma,\n",
    "        sigma\n",
    "    ))"
   ]
  },
  {
   "cell_type": "markdown",
   "metadata": {},
   "source": [
    "## Preguntas"
   ]
  },
  {
   "cell_type": "code",
   "execution_count": 29,
   "metadata": {
    "ExecuteTime": {
     "end_time": "2020-12-11T20:09:50.632484Z",
     "start_time": "2020-12-11T20:09:50.626288Z"
    },
    "hide_input": false
   },
   "outputs": [
    {
     "name": "stdout",
     "output_type": "stream",
     "text": [
      "Sólo puedes pedir las preguntas 1 vez.\n"
     ]
    }
   ],
   "source": [
    "try:\n",
    "    q = ef.get_questions()\n",
    "except Exception as e:\n",
    "    print(str(e))"
   ]
  },
  {
   "cell_type": "code",
   "execution_count": 30,
   "metadata": {
    "ExecuteTime": {
     "end_time": "2020-12-11T20:09:53.141352Z",
     "start_time": "2020-12-11T20:09:53.132788Z"
    },
    "hide_input": true
   },
   "outputs": [
    {
     "name": "stdout",
     "output_type": "stream",
     "text": [
      "Pregunta 1:\n",
      "\n",
      "Usando la curva cero cupón entregada y parámetros gamma = 1.0 y sigma = 0.5%\n",
      "valorice una call a 1Y sobre un bono cero cupón a 2Y con un strike de 98.3%.\n",
      "Entregue el resultado 8 decimales y suponiendo un nocional de 1.\n",
      "\n",
      "\n",
      "Pregunta 2:\n",
      "\n",
      "Ceteris paribus una opción sobre una activo con reversión a la media vale menos\n",
      "que una opción sobre un activo sin reversión a la media. Comente.\n",
      "\n",
      "\n",
      "Pregunta 3:\n",
      "\n",
      "Calcule la TNA con ICP0 = 10,000.00 e ICP365 = 10,378.00 (365 días después).\n",
      "\n",
      "\n",
      "Pregunta 4:\n",
      "\n",
      "Con la curva cero cupón, interpolando linealmente en tasa, calcule la tasa\n",
      "forward entre 482 y 654 días.\n",
      "\n",
      "\n",
      "Pregunta 5:\n",
      "\n",
      "Explique la diferencia entre valorizar un payoff g(r(T), T) por simulación de\n",
      "Montecarlo utilizando el modelo de Hull-White en la medida libre de riesgo y el\n",
      "modelo de Hull-White en la medida T-forward.\n",
      "\n",
      "\n",
      "Pregunta 6:\n",
      "\n",
      "Calcule un paso de simulación de Montecarlo para el modelo de Vasicek usando\n",
      "gamma = 1.0, sigma = 0.5%, dt = 1/264, r0 obtenido de la curva cupón cero\n",
      "entregada y número aleatorio N(0, 1) igual a -.4115 .\n",
      "\n",
      "\n",
      "Pregunta 7:\n",
      "\n",
      "Considere un swap a 1Y con cupones semestrales de 1.0% (lineal). Si la tasa\n",
      "cupón cero a 0.5Y es 0.9% (exp), calcule la tasa cero a 1Y.\n",
      "\n",
      "\n"
     ]
    }
   ],
   "source": [
    "for qq in q:\n",
    "    print(f'{qq[0]}\\n')\n",
    "    print(textwrap.fill(f'{qq[1]}', 80))\n",
    "    print('\\n')"
   ]
  },
  {
   "cell_type": "markdown",
   "metadata": {},
   "source": [
    "## Respuestas"
   ]
  },
  {
   "cell_type": "markdown",
   "metadata": {},
   "source": []
  },
  {
   "cell_type": "code",
   "execution_count": null,
   "metadata": {},
   "outputs": [],
   "source": []
  },
  {
   "cell_type": "markdown",
   "metadata": {},
   "source": [
    "### Pregunta 1"
   ]
  },
  {
   "cell_type": "code",
   "execution_count": 53,
   "metadata": {
    "ExecuteTime": {
     "end_time": "2020-12-11T21:30:34.118792Z",
     "start_time": "2020-12-11T21:30:34.108413Z"
    }
   },
   "outputs": [
    {
     "name": "stdout",
     "output_type": "stream",
     "text": [
      "0.016555682193475696\n"
     ]
    }
   ],
   "source": [
    "gamma=1\n",
    "sigma=0.005\n",
    "k=.983\n",
    "CALL = hw.zcb_call_put(\n",
    "        hw.CallPut.CALL,\n",
    "        k,\n",
    "        curva(.0001),\n",
    "        1,\n",
    "        2,\n",
    "        math.exp(-curva(365)),\n",
    "        math.exp(-curva(730) * 730 / 365.0),\n",
    "        gamma,\n",
    "        sigma\n",
    "        )\n",
    "\n",
    "print(f'{CALL}')"
   ]
  },
  {
   "cell_type": "markdown",
   "metadata": {},
   "source": [
    "### Pregunta 2"
   ]
  },
  {
   "cell_type": "markdown",
   "metadata": {},
   "source": [
    "Un activo con reversion a la media vale memos, que uno sin reversion,  ASR > ACR\n",
    "esto se debe a que la reversion a la media disminuye la volatilidad realizada, aun que $\\sigma$ sea igual."
   ]
  },
  {
   "cell_type": "markdown",
   "metadata": {},
   "source": [
    "### Pregunta 3"
   ]
  },
  {
   "cell_type": "code",
   "execution_count": 31,
   "metadata": {
    "ExecuteTime": {
     "end_time": "2020-12-11T20:24:13.090333Z",
     "start_time": "2020-12-11T20:24:13.085058Z"
    }
   },
   "outputs": [
    {
     "name": "stdout",
     "output_type": "stream",
     "text": [
      "0.03728219178082197\n"
     ]
    }
   ],
   "source": [
    "dias= 365\n",
    "TNA = ( (10378/10000)-1 )*(360/dias)\n",
    "print(f'{TNA}')"
   ]
  },
  {
   "cell_type": "markdown",
   "metadata": {},
   "source": [
    "### Pregunta 4"
   ]
  },
  {
   "cell_type": "code",
   "execution_count": 34,
   "metadata": {
    "ExecuteTime": {
     "end_time": "2020-12-11T20:32:45.306204Z",
     "start_time": "2020-12-11T20:32:45.293702Z"
    }
   },
   "outputs": [
    {
     "name": "stdout",
     "output_type": "stream",
     "text": [
      "0.0004105425284616809\n"
     ]
    }
   ],
   "source": [
    "from scipy.interpolate import interp1d\n",
    "import math\n",
    "\n",
    "crv=interp1d(df_curva[\"plazo\"],df_curva[\"tasa\"],\"linear\")\n",
    "\n",
    "t1=482\n",
    "t2=654\n",
    "r1=crv(t1)\n",
    "r2=crv(t2)\n",
    "df1=math.exp(-r1*t1/365)\n",
    "df2=math.exp(-r2*t2/365)\n",
    "fdw12=(df1/df2-1.0)*360.0/(t2-t1)\n",
    "\n",
    "print(f'{fdw12}')"
   ]
  },
  {
   "cell_type": "markdown",
   "metadata": {
    "ExecuteTime": {
     "end_time": "2020-12-11T02:18:04.908007Z",
     "start_time": "2020-12-11T02:18:04.905073Z"
    }
   },
   "source": [
    "### Pregunta 5"
   ]
  },
  {
   "cell_type": "markdown",
   "metadata": {},
   "source": [
    "La principal diferencia es la forma con la que se trae a valor presente.\n",
    "En la medida libre de riesgo se utiliza $\\theta_t$, y se descuenta dia a dia, mientras que en la medida t_Foward simula con un $\\theta_t$ diferente,\n",
    "que es $\\theta_t_gorro$, y para traer a valor presente con la tasa_Foward se utiliza la tasa del periodo. \n"
   ]
  },
  {
   "cell_type": "markdown",
   "metadata": {},
   "source": [
    "### Pregunta 6"
   ]
  },
  {
   "cell_type": "code",
   "execution_count": 40,
   "metadata": {
    "ExecuteTime": {
     "end_time": "2020-12-11T21:12:57.123827Z",
     "start_time": "2020-12-11T21:12:57.019188Z"
    }
   },
   "outputs": [
    {
     "data": {
      "text/plain": [
       "[(0, array(0.00078814)),\n",
       " (0.003787878787878788, 0.0022408528037132216),\n",
       " (0.007575757575757576, 0.003688062377755102),\n",
       " (0.011363636363636364, 0.005129790097349855),\n",
       " (0.015151515151515152, 0.006566056727097659),\n",
       " (0.01893939393939394, 0.007996882952944902),\n",
       " (0.022727272727272728, 0.009422289382482118),\n",
       " (0.026515151515151516, 0.010842296545240783),\n",
       " (0.030303030303030304, 0.012256924892988998),\n",
       " (0.03409090909090909, 0.013666194800026047),\n",
       " (0.03787878787878788, 0.015070126563475833),\n",
       " (0.04166666666666667, 0.016468740403579218),\n",
       " (0.045454545454545456, 0.017862056463985244),\n",
       " (0.04924242424242424, 0.01925009481204125),\n",
       " (0.05303030303030303, 0.020632875439081887),\n",
       " (0.05681818181818182, 0.02201041826071707),\n",
       " (0.06060606060606061, 0.023382743117118788),\n",
       " (0.06439393939393939, 0.02474986977330686),\n",
       " (0.06818181818181818, 0.026111817919433615),\n",
       " (0.07196969696969698, 0.027468607171067465),\n",
       " (0.07575757575757576, 0.02882025706947543),\n",
       " (0.07954545454545454, 0.030166787081904577),\n",
       " (0.08333333333333334, 0.0315082166018624),\n",
       " (0.08712121212121213, 0.03284456494939614),\n",
       " (0.09090909090909091, 0.03417585137137104),\n",
       " (0.0946969696969697, 0.03550209504174755),\n",
       " (0.09848484848484848, 0.03682331506185748),\n",
       " (0.10227272727272728, 0.03813953046067912),\n",
       " (0.10606060606060606, 0.03945076019511128),\n",
       " (0.10984848484848485, 0.04075702315024635),\n",
       " (0.11363636363636365, 0.04205833813964228),\n",
       " (0.11742424242424243, 0.04335472390559352),\n",
       " (0.12121212121212122, 0.04464619911940101),\n",
       " (0.125, 0.045932782381641044),\n",
       " (0.12878787878787878, 0.0472144922224332),\n",
       " (0.13257575757575757, 0.0484913471017072),\n",
       " (0.13636363636363635, 0.0497633654094688),\n",
       " (0.14015151515151517, 0.051030565466064645),\n",
       " (0.14393939393939395, 0.052292965522446104),\n",
       " (0.14772727272727273, 0.05355058376043218),\n",
       " (0.15151515151515152, 0.05480343829297134),\n",
       " (0.1553030303030303, 0.056051547164402395),\n",
       " (0.1590909090909091, 0.0572949283507144),\n",
       " (0.16287878787878787, 0.058533599759805516),\n",
       " (0.16666666666666669, 0.05976757923174099),\n",
       " (0.17045454545454547, 0.06099688453901004),\n",
       " (0.17424242424242425, 0.06222153338678186),\n",
       " (0.17803030303030304, 0.0634415434131606),\n",
       " (0.18181818181818182, 0.06465693218943942),\n",
       " (0.1856060606060606, 0.06586771722035355),\n",
       " (0.1893939393939394, 0.06707391594433239),\n",
       " (0.19318181818181818, 0.0682755457337507),\n",
       " (0.19696969696969696, 0.0694726238951788),\n",
       " (0.20075757575757577, 0.07066516766963178),\n",
       " (0.20454545454545456, 0.0718531942328179),\n",
       " (0.20833333333333334, 0.07303672069538589),\n",
       " (0.21212121212121213, 0.07421576410317142),\n",
       " (0.2159090909090909, 0.07539034143744261),\n",
       " (0.2196969696969697, 0.0765604696151446),\n",
       " (0.22348484848484848, 0.07772616548914316),\n",
       " (0.2272727272727273, 0.07888744584846749),\n",
       " (0.23106060606060608, 0.08004432741855196),\n",
       " (0.23484848484848486, 0.08119682686147701),\n",
       " (0.23863636363636365, 0.08234496077620918),\n",
       " (0.24242424242424243, 0.08348874569884007),\n",
       " (0.24621212121212122, 0.08462819810282464),\n",
       " (0.25, 0.08576333439921836),\n",
       " (0.2537878787878788, 0.08689417093691362),\n",
       " (0.25757575757575757, 0.08802072400287518),\n",
       " (0.26136363636363635, 0.08914300982237477),\n",
       " (0.26515151515151514, 0.09026104455922475),\n",
       " (0.2689393939393939, 0.0913748443160109),\n",
       " (0.2727272727272727, 0.09248442513432437),\n",
       " (0.27651515151515155, 0.09358980299499271),\n",
       " (0.28030303030303033, 0.09469099381831003),\n",
       " (0.2840909090909091, 0.09578801346426631),\n",
       " (0.2878787878787879, 0.09688087773277579),\n",
       " (0.2916666666666667, 0.09796960236390455),\n",
       " (0.29545454545454547, 0.09905420303809721),\n",
       " (0.29924242424242425, 0.10013469537640278),\n",
       " (0.30303030303030304, 0.10121109494069962),\n",
       " (0.3068181818181818, 0.10228341723391957),\n",
       " (0.3106060606060606, 0.10335167770027126),\n",
       " (0.3143939393939394, 0.10441589172546253),\n",
       " (0.3181818181818182, 0.10547607463692202),\n",
       " (0.32196969696969696, 0.10653224170401991),\n",
       " (0.32575757575757575, 0.10758440813828789),\n",
       " (0.32954545454545453, 0.10863258909363818),\n",
       " (0.33333333333333337, 0.10967679966658185),\n",
       " (0.33712121212121215, 0.11071705489644619),\n",
       " (0.34090909090909094, 0.11175336976559135),\n",
       " (0.3446969696969697, 0.1127857591996261),\n",
       " (0.3484848484848485, 0.11381423806762285),\n",
       " (0.3522727272727273, 0.11483882118233173),\n",
       " (0.3560606060606061, 0.11585952330039398),\n",
       " (0.35984848484848486, 0.11687635912255448),\n",
       " (0.36363636363636365, 0.11788934329387346),\n",
       " (0.36742424242424243, 0.11889849040393745),\n",
       " (0.3712121212121212, 0.11990381498706938),\n",
       " (0.375, 0.12090533152253793),\n",
       " (0.3787878787878788, 0.12190305443476607),\n",
       " (0.38257575757575757, 0.1228969980935388),\n",
       " (0.38636363636363635, 0.12388717681421012),\n",
       " (0.39015151515151514, 0.1248736048579092),\n",
       " (0.3939393939393939, 0.12585629643174578),\n",
       " (0.39772727272727276, 0.1268352656890148),\n",
       " (0.40151515151515155, 0.12781052672940021),\n",
       " (0.40530303030303033, 0.1287820935991781),\n",
       " (0.4090909090909091, 0.129749980291419),\n",
       " (0.4128787878787879, 0.13071420074618925),\n",
       " (0.4166666666666667, 0.13167476885075205),\n",
       " (0.42045454545454547, 0.13263169843976724),\n",
       " (0.42424242424242425, 0.13358500329549072),\n",
       " (0.42803030303030304, 0.13453469714797284),\n",
       " (0.4318181818181818, 0.13548079367525614),\n",
       " (0.4356060606060606, 0.13642330650357248),\n",
       " (0.4393939393939394, 0.13736224920753912),\n",
       " (0.4431818181818182, 0.13829763531035438),\n",
       " (0.44696969696969696, 0.13922947828399232),\n",
       " (0.45075757575757575, 0.14015779154939675),\n",
       " (0.4545454545454546, 0.14108258847667468),\n",
       " (0.45833333333333337, 0.14200388238528866),\n",
       " (0.46212121212121215, 0.1429216865442488),\n",
       " (0.46590909090909094, 0.1438360141723038),\n",
       " (0.4696969696969697, 0.1447468784381313),\n",
       " (0.4734848484848485, 0.14565429246052766),\n",
       " (0.4772727272727273, 0.14655826930859675),\n",
       " (0.4810606060606061, 0.1474588220019383),\n",
       " (0.48484848484848486, 0.14835596351083538),\n",
       " (0.48863636363636365, 0.14924970675644117),\n",
       " (0.49242424242424243, 0.15014006461096513),\n",
       " (0.4962121212121212, 0.1510270498978583),\n",
       " (0.5, 0.15191067539199812),\n",
       " (0.5037878787878788, 0.15279095381987223),\n",
       " (0.5075757575757576, 0.15366789785976198),\n",
       " (0.5113636363636364, 0.15454152014192488),\n",
       " (0.5151515151515151, 0.15541183324877655),\n",
       " (0.5189393939393939, 0.15627884971507197),\n",
       " (0.5227272727272727, 0.15714258202808595),\n",
       " (0.5265151515151515, 0.15800304262779308),\n",
       " (0.5303030303030303, 0.15886024390704676),\n",
       " (0.5340909090909091, 0.1597141982117578),\n",
       " (0.5378787878787878, 0.16056491784107224),\n",
       " (0.5416666666666666, 0.16141241504754836),\n",
       " (0.5454545454545454, 0.16225670203733328),\n",
       " (0.5492424242424243, 0.16309779097033872),\n",
       " (0.5530303030303031, 0.1639356939604161),\n",
       " (0.5568181818181819, 0.16477042307553105),\n",
       " (0.5606060606060607, 0.16560199033793724),\n",
       " (0.5643939393939394, 0.16643040772434947),\n",
       " (0.5681818181818182, 0.1672556871661162),\n",
       " (0.571969696969697, 0.16807784054939137),\n",
       " (0.5757575757575758, 0.16889687971530568),\n",
       " (0.5795454545454546, 0.16971281646013697),\n",
       " (0.5833333333333334, 0.17052566253548027),\n",
       " (0.5871212121212122, 0.17133542964841697),\n",
       " (0.5909090909090909, 0.17214212946168345),\n",
       " (0.5946969696969697, 0.17294577359383906),\n",
       " (0.5984848484848485, 0.1737463736194335),\n",
       " (0.6022727272727273, 0.1745439410691734),\n",
       " (0.6060606060606061, 0.17533848743008854),\n",
       " (0.6098484848484849, 0.17613002414569717),\n",
       " (0.6136363636363636, 0.17691856261617092),\n",
       " (0.6174242424242424, 0.17770411419849894),\n",
       " (0.6212121212121212, 0.17848669020665148),\n",
       " (0.625, 0.1792663019117428),\n",
       " (0.6287878787878788, 0.18004296054219365),\n",
       " (0.6325757575757576, 0.18081667728389278),\n",
       " (0.6363636363636364, 0.1815874632803582),\n",
       " (0.6401515151515151, 0.18235532963289763),\n",
       " (0.6439393939393939, 0.18312028740076836),\n",
       " (0.6477272727272727, 0.18388234760133654),\n",
       " (0.6515151515151515, 0.1846415212102359),\n",
       " (0.6553030303030303, 0.18539781916152578),\n",
       " (0.6590909090909091, 0.18615125234784866),\n",
       " (0.6628787878787878, 0.186901831620587),\n",
       " (0.6666666666666667, 0.18764956779001948),\n",
       " (0.6704545454545455, 0.18839447162547687),\n",
       " (0.6742424242424243, 0.1891365538554969),\n",
       " (0.6780303030303031, 0.189875825167979),\n",
       " (0.6818181818181819, 0.19061229621033804),\n",
       " (0.6856060606060607, 0.19134597758965785),\n",
       " (0.6893939393939394, 0.19207687987284386),\n",
       " (0.6931818181818182, 0.19280501358677538),\n",
       " (0.696969696969697, 0.19353038921845717),\n",
       " (0.7007575757575758, 0.19425301721517046),\n",
       " (0.7045454545454546, 0.1949729079846235),\n",
       " (0.7083333333333334, 0.19569007189510132),\n",
       " (0.7121212121212122, 0.1964045192756152),\n",
       " (0.7159090909090909, 0.19711626041605138),\n",
       " (0.7196969696969697, 0.19782530556731923),\n",
       " (0.7234848484848485, 0.19853166494149896),\n",
       " (0.7272727272727273, 0.1992353487119886),\n",
       " (0.7310606060606061, 0.19993636701365064),\n",
       " (0.7348484848484849, 0.2006347299429579),\n",
       " (0.7386363636363636, 0.20133044755813898),\n",
       " (0.7424242424242424, 0.20202352987932318),\n",
       " (0.7462121212121212, 0.2027139868886847),\n",
       " (0.75, 0.20340182853058653),\n",
       " (0.7537878787878788, 0.20408706471172358),\n",
       " (0.7575757575757576, 0.2047697053012654),\n",
       " (0.7613636363636364, 0.20544976013099836),\n",
       " (0.7651515151515151, 0.20612723899546717),\n",
       " (0.7689393939393939, 0.20680215165211605),\n",
       " (0.7727272727272727, 0.20747450782142912),\n",
       " (0.7765151515151515, 0.20814431718707055),\n",
       " (0.7803030303030303, 0.20881158939602396),\n",
       " (0.7840909090909091, 0.2094763340587313),\n",
       " (0.7878787878787878, 0.21013856074923146),\n",
       " (0.7916666666666667, 0.21079827900529788),\n",
       " (0.7954545454545455, 0.21145549832857616),\n",
       " (0.7992424242424243, 0.2121102281847208),\n",
       " (0.8030303030303031, 0.2127624780035316),\n",
       " (0.8068181818181819, 0.2134122571790893),\n",
       " (0.8106060606060607, 0.2140595750698911),\n",
       " (0.8143939393939394, 0.2147044409989853),\n",
       " (0.8181818181818182, 0.21534686425410568),\n",
       " (0.821969696969697, 0.21598685408780516),\n",
       " (0.8257575757575758, 0.2166244197175891),\n",
       " (0.8295454545454546, 0.21725957032604812),\n",
       " (0.8333333333333334, 0.21789231506099024),\n",
       " (0.8371212121212122, 0.21852266303557272),\n",
       " (0.8409090909090909, 0.2191506233284333),\n",
       " (0.8446969696969697, 0.21977620498382092),\n",
       " (0.8484848484848485, 0.22039941701172602),\n",
       " (0.8522727272727273, 0.22102026838801025),\n",
       " (0.8560606060606061, 0.22163876805453583),\n",
       " (0.8598484848484849, 0.22225492491929427),\n",
       " (0.8636363636363636, 0.2228687478565347),\n",
       " (0.8674242424242424, 0.22348024570689165),\n",
       " (0.8712121212121212, 0.22408942727751238),\n",
       " (0.875, 0.2246963013421838),\n",
       " (0.8787878787878788, 0.22530087664145873),\n",
       " (0.8825757575757576, 0.22590316188278187),\n",
       " (0.8863636363636364, 0.22650316574061513),\n",
       " (0.8901515151515151, 0.22710089685656268),\n",
       " (0.8939393939393939, 0.22769636383949526),\n",
       " (0.8977272727272727, 0.2282895752656743),\n",
       " (0.9015151515151515, 0.22888053967887542),\n",
       " (0.9053030303030303, 0.22946926559051137),\n",
       " (0.9090909090909092, 0.23005576147975476),\n",
       " (0.912878787878788, 0.2306400357936601),\n",
       " (0.9166666666666667, 0.23122209694728552),\n",
       " (0.9204545454545455, 0.23180195332381384),\n",
       " (0.9242424242424243, 0.23237961327467352),\n",
       " (0.9280303030303031, 0.23295508511965873),\n",
       " (0.9318181818181819, 0.2335283771470493),\n",
       " (0.9356060606060607, 0.23409949761373006),\n",
       " (0.9393939393939394, 0.23466845474530973),\n",
       " (0.9431818181818182, 0.2352352567362395),\n",
       " (0.946969696969697, 0.23579991174993087),\n",
       " (0.9507575757575758, 0.23636242791887344),\n",
       " (0.9545454545454546, 0.23692281334475182),\n",
       " (0.9583333333333334, 0.23748107609856248),\n",
       " (0.9621212121212122, 0.23803722422072993),\n",
       " (0.9659090909090909, 0.2385912657212225),\n",
       " (0.9696969696969697, 0.23914320857966773),\n",
       " (0.9734848484848485, 0.23969306074546734),\n",
       " (0.9772727272727273, 0.24024083013791164),\n",
       " (0.9810606060606061, 0.24078652464629366),\n",
       " (0.9848484848484849, 0.24133015213002273),\n",
       " (0.9886363636363636, 0.24187172041873767),\n",
       " (0.9924242424242424, 0.2424112373124196),\n",
       " (0.9962121212121212, 0.24294871058150425)]"
      ]
     },
     "execution_count": 40,
     "metadata": {},
     "output_type": "execute_result"
    }
   ],
   "source": [
    "from typing import List, Tuple\n",
    "import scipy.optimize as opt\n",
    "import plotly.express as px\n",
    "import pandas as pd\n",
    "import numpy as np\n",
    "import math\n",
    "\n",
    "frmt = {'tasa': '{:.4%}', 'df': '{:.6%}'}\n",
    "\n",
    "gamma = 1\n",
    "sigma = .005\n",
    "r_ = .005\n",
    "#r0 = .05 # tasa corta a día de hoy\n",
    "#CALCULO R0 momento t=0\n",
    "\n",
    "curva = pd.read_excel('data/20201012_built_sofr_zero.xlsx')\n",
    "\n",
    "frmt = {'tasa': '{:.4%}', 'df': '{:.6%}'}\n",
    "#curva.head().style.format(frmt)\n",
    "curva['t'] = curva['plazo'] / 365.0\n",
    "curva['rate'] = np.log(1 / curva['df'])/( curva['plazo'] / 365.0)\n",
    "#curva.head().style.format(frmt)\n",
    "zcurva = interp1d(curva['t'],\n",
    "                  curva['rate'],\n",
    "                  kind='cubic',\n",
    "                  fill_value=\"extrapolate\")\n",
    "r0= zcurva(0)\n",
    "\n",
    "def vasicek_path(r0: float,\n",
    "                 gamma: float, r_: float,\n",
    "                 sigma: float,\n",
    "                 num_dias: int = 263,\n",
    "                 dias_agno: int = 264,\n",
    "                 pasos_dia: int = 1) -> List[Tuple[float, float]]:\n",
    "    \"\"\"\n",
    "    Retorna un camino de simulación del modelo de Vasicek.\n",
    "    \n",
    "    params:\n",
    "    \n",
    "    - r0: tasa inicial (t = 0) de la simulación\n",
    "    - Parámetros del modelo:\n",
    "      - gamma: velocidad de reversión\n",
    "      - r_: tasa de largo plazo\n",
    "      - sigma: volatilidad\n",
    "    - num_dias: número de días en la trayectoria, incluyendo el instante t = 0\n",
    "    - dias_agno: número de días hábiles por año\n",
    "    - pasos_dia: número de pasos de simulación en 1 día\n",
    "    \n",
    "    return:\n",
    "    \n",
    "    - Un `list` donde cada elemento es una `tuple` con los valores del tiempo y la tasa simulada.\n",
    "    \"\"\"\n",
    "    dt = 1 / (dias_agno * pasos_dia)\n",
    "    dt_gamma_r_ = dt * gamma * r_\n",
    "    sigma_sqdt = sigma * math.sqrt(dt)\n",
    "    result = [(0, r0),]\n",
    "    gamma_dt = gamma * dt\n",
    "    \n",
    "    r = r0\n",
    "    for i in range(1, (num_dias + 1) * pasos_dia):\n",
    "        r = dt_gamma_r_ + (1 - gamma_dt) * r + sigma_sqdt * 0.4115 #np.random.normal() # Discretización de Euler\n",
    "        result.append((i * dt, r))\n",
    "    return result\n",
    "\n",
    "vasicek_path(r0, gamma, r_, sigma, num_dias = 263, dias_agno = 264, pasos_dia = 1)"
   ]
  },
  {
   "cell_type": "markdown",
   "metadata": {},
   "source": [
    "### Pregunta 7"
   ]
  },
  {
   "cell_type": "code",
   "execution_count": null,
   "metadata": {},
   "outputs": [],
   "source": []
  }
 ],
 "metadata": {
  "hide_input": false,
  "kernelspec": {
   "display_name": "Python 3",
   "language": "python",
   "name": "python3"
  },
  "language_info": {
   "codemirror_mode": {
    "name": "ipython",
    "version": 3
   },
   "file_extension": ".py",
   "mimetype": "text/x-python",
   "name": "python",
   "nbconvert_exporter": "python",
   "pygments_lexer": "ipython3",
   "version": "3.7.3"
  },
  "toc": {
   "base_numbering": "16",
   "nav_menu": {},
   "number_sections": true,
   "sideBar": true,
   "skip_h1_title": false,
   "title_cell": "Table of Contents",
   "title_sidebar": "Contenido",
   "toc_cell": false,
   "toc_position": {
    "height": "calc(100% - 180px)",
    "left": "10px",
    "top": "150px",
    "width": "165px"
   },
   "toc_section_display": true,
   "toc_window_display": true
  }
 },
 "nbformat": 4,
 "nbformat_minor": 4
}
