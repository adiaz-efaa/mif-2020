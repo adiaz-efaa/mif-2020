{
 "cells": [
  {
   "cell_type": "markdown",
   "metadata": {},
   "source": [
    "# Examen Final"
   ]
  },
  {
   "cell_type": "markdown",
   "metadata": {},
   "source": [
    "- Prender cámaras.\n",
    "- Puede utilizar sus apuntes.\n",
    "- Puede utilizar los notebooks del curso.\n",
    "- La alumna o alumno que sea sorprendido solicitando ayuda a cualquier persona, sea ella compañera o no, será calificada con un 2.\n",
    "- Cada pregunta vale un punto.\n",
    "- La nota mínima es un 2.\n",
    "- La nota se determinará con la siguiente fórmula $nota = \\min\\left(puntos + 2, 7\\right)$\n",
    "- Todas las funciones necesarias para resolver los ejercicios están ya importadas al notebook."
   ]
  },
  {
   "cell_type": "markdown",
   "metadata": {},
   "source": [
    "## Librerías"
   ]
  },
  {
   "cell_type": "code",
   "execution_count": 100,
   "metadata": {
    "ExecuteTime": {
     "end_time": "2020-12-11T21:24:07.040805Z",
     "start_time": "2020-12-11T21:24:07.035000Z"
    }
   },
   "outputs": [],
   "source": [
    "from finrisk import examen_final as ef\n",
    "from scipy.interpolate import interp1d\n",
    "import modules.hull_white as hw\n",
    "import pandas as pd\n",
    "import numpy as np\n",
    "import textwrap\n",
    "import random\n",
    "import math"
   ]
  },
  {
   "cell_type": "markdown",
   "metadata": {},
   "source": [
    "## Curva Cero Cupón"
   ]
  },
  {
   "cell_type": "markdown",
   "metadata": {},
   "source": [
    "Los plazos están en días y las tasas en convención exp act/365."
   ]
  },
  {
   "cell_type": "code",
   "execution_count": 101,
   "metadata": {
    "ExecuteTime": {
     "end_time": "2020-12-11T21:24:07.061625Z",
     "start_time": "2020-12-11T21:24:07.044976Z"
    }
   },
   "outputs": [],
   "source": [
    "df_curva = pd.read_excel('data/20201012_built_sofr_zero.xlsx')"
   ]
  },
  {
   "cell_type": "code",
   "execution_count": 102,
   "metadata": {
    "ExecuteTime": {
     "end_time": "2020-12-11T21:24:07.081414Z",
     "start_time": "2020-12-11T21:24:07.064746Z"
    }
   },
   "outputs": [
    {
     "data": {
      "text/html": [
       "<div>\n",
       "<style scoped>\n",
       "    .dataframe tbody tr th:only-of-type {\n",
       "        vertical-align: middle;\n",
       "    }\n",
       "\n",
       "    .dataframe tbody tr th {\n",
       "        vertical-align: top;\n",
       "    }\n",
       "\n",
       "    .dataframe thead th {\n",
       "        text-align: right;\n",
       "    }\n",
       "</style>\n",
       "<table border=\"1\" class=\"dataframe\">\n",
       "  <thead>\n",
       "    <tr style=\"text-align: right;\">\n",
       "      <th></th>\n",
       "      <th>plazo</th>\n",
       "      <th>tasa</th>\n",
       "      <th>df</th>\n",
       "    </tr>\n",
       "  </thead>\n",
       "  <tbody>\n",
       "    <tr>\n",
       "      <th>0</th>\n",
       "      <td>1</td>\n",
       "      <td>0.000811</td>\n",
       "      <td>0.999998</td>\n",
       "    </tr>\n",
       "    <tr>\n",
       "      <th>1</th>\n",
       "      <td>7</td>\n",
       "      <td>0.000841</td>\n",
       "      <td>0.999984</td>\n",
       "    </tr>\n",
       "    <tr>\n",
       "      <th>2</th>\n",
       "      <td>14</td>\n",
       "      <td>0.000780</td>\n",
       "      <td>0.999970</td>\n",
       "    </tr>\n",
       "    <tr>\n",
       "      <th>3</th>\n",
       "      <td>21</td>\n",
       "      <td>0.000774</td>\n",
       "      <td>0.999955</td>\n",
       "    </tr>\n",
       "    <tr>\n",
       "      <th>4</th>\n",
       "      <td>33</td>\n",
       "      <td>0.000781</td>\n",
       "      <td>0.999929</td>\n",
       "    </tr>\n",
       "  </tbody>\n",
       "</table>\n",
       "</div>"
      ],
      "text/plain": [
       "   plazo      tasa        df\n",
       "0      1  0.000811  0.999998\n",
       "1      7  0.000841  0.999984\n",
       "2     14  0.000780  0.999970\n",
       "3     21  0.000774  0.999955\n",
       "4     33  0.000781  0.999929"
      ]
     },
     "execution_count": 102,
     "metadata": {},
     "output_type": "execute_result"
    }
   ],
   "source": [
    "df_curva.head()"
   ]
  },
  {
   "cell_type": "code",
   "execution_count": 103,
   "metadata": {
    "ExecuteTime": {
     "end_time": "2020-12-11T21:24:07.089504Z",
     "start_time": "2020-12-11T21:24:07.084721Z"
    }
   },
   "outputs": [],
   "source": [
    "curva = interp1d(df_curva['plazo'], df_curva['tasa'], 'linear', fill_value='extrapolate')\n"
   ]
  },
  {
   "cell_type": "markdown",
   "metadata": {},
   "source": [
    "## Cálculo Opción"
   ]
  },
  {
   "cell_type": "markdown",
   "metadata": {},
   "source": [
    "Para identificar si es una Call o una Put se usa un `enum`."
   ]
  },
  {
   "cell_type": "code",
   "execution_count": 104,
   "metadata": {
    "ExecuteTime": {
     "end_time": "2020-12-11T21:24:07.097605Z",
     "start_time": "2020-12-11T21:24:07.094323Z"
    }
   },
   "outputs": [],
   "source": [
    "c_p = hw.CallPut.CALL\n",
    "c_p = hw.CallPut.PUT"
   ]
  },
  {
   "cell_type": "markdown",
   "metadata": {},
   "source": [
    "Ver toda la documentación:"
   ]
  },
  {
   "cell_type": "code",
   "execution_count": 105,
   "metadata": {
    "ExecuteTime": {
     "end_time": "2020-12-11T21:24:07.105287Z",
     "start_time": "2020-12-11T21:24:07.100238Z"
    }
   },
   "outputs": [
    {
     "name": "stdout",
     "output_type": "stream",
     "text": [
      "\n",
      "    Calcula el valor de una call o una put sobre un bono cero cupón en el modelo de HW.\n",
      "    \n",
      "    params:\n",
      "    \n",
      "    - c_p: indica si es la opción es Call o Put. Es un `enum` de tipo CallPut. Ejemplo, c_p = CallPut.CALL.\n",
      "    - strike: es el strike de la opción. Se ingresa como número. Un strike del 90% se ingresa como .9.\n",
      "    - r0: es la tasa corta al momento de valorizar la opción (t = 0).\n",
      "    - to: instante de tiempo en que vence la opción, expresado en años.\n",
      "    - tb: instante de tiempo en que vence el bono subyacente, expresado en años. Debe ser tb > to.\n",
      "    - zo: factor de descuento de mercado a tiempo t = 0 hasta to.\n",
      "    - zb: factor de descuento de mercado a tiempo t = 0 hasta tb.\n",
      "    - gamma: parámetro gamma del modelo HW.\n",
      "    - sigma: parámetro sigma del modelo HW.\n",
      "    \n",
      "    return:\n",
      "    \n",
      "    -  el valor de la opción.\n",
      "    \n"
     ]
    }
   ],
   "source": [
    "print(hw.zcb_call_put.__doc__)"
   ]
  },
  {
   "cell_type": "markdown",
   "metadata": {},
   "source": [
    "## Valores `gamma` y `sigma`"
   ]
  },
  {
   "cell_type": "code",
   "execution_count": 106,
   "metadata": {
    "ExecuteTime": {
     "end_time": "2020-12-11T21:24:07.112474Z",
     "start_time": "2020-12-11T21:24:07.107441Z"
    }
   },
   "outputs": [],
   "source": [
    "gamma = 1\n",
    "sigma = .005"
   ]
  },
  {
   "cell_type": "code",
   "execution_count": 107,
   "metadata": {
    "ExecuteTime": {
     "end_time": "2020-12-11T21:24:07.140567Z",
     "start_time": "2020-12-11T21:24:07.115853Z"
    }
   },
   "outputs": [
    {
     "name": "stdout",
     "output_type": "stream",
     "text": [
      "0.98 0.019553575799963863\n",
      "0.981 0.0185542779311344\n",
      "0.982 0.017554980062305048\n",
      "0.983 0.016555682193475696\n",
      "0.984 0.015556384324646233\n",
      "0.985 0.014557086455816881\n",
      "0.99 0.0095605971116699\n",
      "0.991 0.008561299242840548\n",
      "0.992 0.007562001374011196\n",
      "0.993 0.006562703505181733\n"
     ]
    }
   ],
   "source": [
    "strikes = [.98, .981, .982, .983, .984, .985, .99, .991, .992, .993]\n",
    "for k in strikes:\n",
    "    print(k, hw.zcb_call_put(\n",
    "        hw.CallPut.CALL,\n",
    "        k,\n",
    "        curva(.0001),\n",
    "        1,\n",
    "        2,\n",
    "        math.exp(-curva(365)),\n",
    "        math.exp(-curva(730) * 730 / 365.0),\n",
    "        gamma,\n",
    "        sigma\n",
    "    ))"
   ]
  },
  {
   "cell_type": "markdown",
   "metadata": {},
   "source": [
    "## Preguntas"
   ]
  },
  {
   "cell_type": "code",
   "execution_count": 108,
   "metadata": {
    "ExecuteTime": {
     "end_time": "2020-12-11T21:24:07.147923Z",
     "start_time": "2020-12-11T21:24:07.143097Z"
    },
    "hide_input": false
   },
   "outputs": [
    {
     "name": "stdout",
     "output_type": "stream",
     "text": [
      "Sólo puedes pedir las preguntas 1 vez.\n"
     ]
    }
   ],
   "source": [
    "try:\n",
    "    q = ef.get_questions()\n",
    "except Exception as e:\n",
    "    print(str(e))"
   ]
  },
  {
   "cell_type": "code",
   "execution_count": 109,
   "metadata": {
    "ExecuteTime": {
     "end_time": "2020-12-11T21:24:07.159510Z",
     "start_time": "2020-12-11T21:24:07.150819Z"
    },
    "hide_input": true,
    "scrolled": true
   },
   "outputs": [
    {
     "name": "stdout",
     "output_type": "stream",
     "text": [
      "Pregunta 1:\n",
      "\n",
      "Calcule un paso de simulación de Montecarlo para el modelo de Vasicek usando\n",
      "gamma = 1.0, sigma = 0.5%, dt = 1/264, r0 obtenido de la curva cupón cero\n",
      "entregada y número aleatorio N(0, 1) igual a -.5797 .\n",
      "\n",
      "\n",
      "Pregunta 2:\n",
      "\n",
      "Usando la curva cero cupón entregada y parámetros gamma = 1.0 y sigma = 0.5%\n",
      "valorice una call a 1Y sobre un bono cero cupón a 2Y con un strike de 98.0%.\n",
      "Entregue el resultado 8 decimales y suponiendo un nocional de 1.\n",
      "\n",
      "\n",
      "Pregunta 3:\n",
      "\n",
      "Considere un swap a 1Y con cupones semestrales de 1.6% (lineal). Si la tasa\n",
      "cupón cero a 0.5Y es 1.5% (exp), calcule la tasa cero a 1Y.\n",
      "\n",
      "\n",
      "Pregunta 4:\n",
      "\n",
      "Explique la diferencia entre valorizar un payoff g(r(T), T) por simulación de\n",
      "Montecarlo utilizando el modelo de Hull-White en la medida libre de riesgo y el\n",
      "modelo de Hull-White en la medida T-forward.\n",
      "\n",
      "\n",
      "Pregunta 5:\n",
      "\n",
      "Con la curva cero cupón, interpolando linealmente en tasa, calcule la tasa\n",
      "forward entre 1282 y 2454 días.\n",
      "\n",
      "\n",
      "Pregunta 6:\n",
      "\n",
      "La fórmula para una opción sobre un bono cupón cero en el modelo de Vasicek es\n",
      "la misma que en el modelo de Hull-White. Comente.\n",
      "\n",
      "\n",
      "Pregunta 7:\n",
      "\n",
      "Calcule la TNA con ICP0 = 10,000.00 e ICP365 = 10,020.00 (365 días después).\n",
      "\n",
      "\n"
     ]
    }
   ],
   "source": [
    "for qq in q:\n",
    "    print(f'{qq[0]}\\n')\n",
    "    print(textwrap.fill(f'{qq[1]}', 80))\n",
    "    print('\\n')"
   ]
  },
  {
   "cell_type": "markdown",
   "metadata": {},
   "source": [
    "## Respuestas"
   ]
  },
  {
   "cell_type": "markdown",
   "metadata": {},
   "source": []
  },
  {
   "cell_type": "code",
   "execution_count": null,
   "metadata": {},
   "outputs": [],
   "source": []
  },
  {
   "cell_type": "markdown",
   "metadata": {},
   "source": [
    "### Pregunta 1"
   ]
  },
  {
   "cell_type": "code",
   "execution_count": 110,
   "metadata": {
    "ExecuteTime": {
     "end_time": "2020-12-11T21:24:07.184103Z",
     "start_time": "2020-12-11T21:24:07.162209Z"
    }
   },
   "outputs": [
    {
     "name": "stdout",
     "output_type": "stream",
     "text": [
      "Calcule un paso de simulación de Montecarlo para el modelo de Vasicek usando gamma = 1.0, sigma = 0.5%, dt = 1/264, r0 obtenido de la curva cupón ceroentregada y número aleatorio N(0, 1) igual a -.5797 .\n",
      "          0                      1\n",
      "0  0.000000  0.0008062112176069023\n",
      "1  0.003788            0.000643706\n",
      "Valor de la tasa =  0.064371%\n"
     ]
    }
   ],
   "source": [
    "#funcion obtenida del libro 12 con algunas alteraciones\n",
    "def vasicek_path(r0: float,\n",
    "                 gamma: float, r_: float,\n",
    "                 sigma: float,\n",
    "                 num_dias: int = 263,\n",
    "                 dias_agno: int = 264,\n",
    "                 pasos_dia: int = 1):\n",
    "    \"\"\"\n",
    "    Retorna un camino de simulación del modelo de Vasicek.\n",
    "    \n",
    "    params:\n",
    "    \n",
    "    - r0: tasa inicial (t = 0) de la simulación\n",
    "    - Parámetros del modelo:\n",
    "      - gamma: velocidad de reversión\n",
    "      - r_: tasa de largo plazo\n",
    "      - sigma: volatilidad\n",
    "    - num_dias: número de días en la trayectoria, incluyendo el instante t = 0\n",
    "    - dias_agno: número de días hábiles por año\n",
    "    - pasos_dia: número de pasos de simulación en 1 día\n",
    "    \n",
    "    return:\n",
    "    \n",
    "    - Un `list` donde cada elemento es una `tuple` con los valores del tiempo y la tasa simulada.\n",
    "    \"\"\"\n",
    "    dt = 1 / (264)\n",
    "    dt_gamma_r_ = dt * gamma * r_\n",
    "    sigma_sqdt = sigma * math.sqrt(dt)\n",
    "    result = [(0, r0),]\n",
    "    gamma_dt = gamma * dt\n",
    "    \n",
    "    r = r0\n",
    "    for i in range(1, (num_dias + 1) * pasos_dia):\n",
    "        #r = dt_gamma_r_ + (1 - gamma_dt) * r + sigma_sqdt * np.random.normal() # Discretización de Euler\n",
    "        r = dt_gamma_r_ + (1 - gamma_dt) * r + sigma_sqdt * -.5797\n",
    "        result.append((i * dt, r))\n",
    "    return result\n",
    "sim = vasicek_path(curva(.0001), 1, 0.005, 0.005, num_dias=1)\n",
    "sim=pd.DataFrame(sim)\n",
    "print('Calcule un paso de simulación de Montecarlo para el modelo de Vasicek usando gamma = 1.0, sigma = 0.5%, dt = 1/264, r0 obtenido de la curva cupón ceroentregada y número aleatorio N(0, 1) igual a -.5797 .')\n",
    "print(sim)\n",
    "print(f'Valor de la tasa = {sim.iloc[1,1]: 4%}')\n"
   ]
  },
  {
   "cell_type": "markdown",
   "metadata": {},
   "source": [
    "### Pregunta 2"
   ]
  },
  {
   "cell_type": "code",
   "execution_count": 111,
   "metadata": {
    "ExecuteTime": {
     "end_time": "2020-12-11T21:24:07.196278Z",
     "start_time": "2020-12-11T21:24:07.187567Z"
    }
   },
   "outputs": [
    {
     "name": "stdout",
     "output_type": "stream",
     "text": [
      "Usando la curva cero cupón entregada y parámetros gamma = 1.0 y sigma = 0.5% valorice una call a 1Y sobre un bono cero cupón a 2Y con un strike de 98.0%. Entregue el resultado 8 decimales y suponiendo un nocional de 1.\n",
      " Valor de la opcion = 0.01955358\n"
     ]
    }
   ],
   "source": [
    "k = .98\n",
    "gamma=1\n",
    "sigma=0.005\n",
    "opcion = hw.zcb_call_put(\n",
    "    hw.CallPut.CALL,\n",
    "    k,\n",
    "    curva(.0001),\n",
    "    1,\n",
    "    2,\n",
    "    math.exp(-curva(365)),\n",
    "    math.exp(-curva(730) * 730 / 365.0),\n",
    "    gamma,\n",
    "    sigma\n",
    ")\n",
    "print('Usando la curva cero cupón entregada y parámetros gamma = 1.0 y sigma = 0.5% valorice una call a 1Y sobre un bono cero cupón a 2Y con un strike de 98.0%. Entregue el resultado 8 decimales y suponiendo un nocional de 1.')\n",
    "\n",
    "print(f' Valor de la opcion = {opcion:.8f}')"
   ]
  },
  {
   "cell_type": "markdown",
   "metadata": {},
   "source": [
    "### Pregunta 3"
   ]
  },
  {
   "cell_type": "code",
   "execution_count": 128,
   "metadata": {
    "ExecuteTime": {
     "end_time": "2020-12-11T21:32:26.123582Z",
     "start_time": "2020-12-11T21:32:26.118151Z"
    }
   },
   "outputs": [
    {
     "name": "stdout",
     "output_type": "stream",
     "text": [
      "Considere un swap a 1Y con cupones semestrales de 1.6% (lineal). Si la tasa cupón cero a 0.5Y es 1.5% (exp), calcule la tasa cero a 1Y.\n",
      "El valor de la tasa a 1Y es de  3.225600%\n"
     ]
    }
   ],
   "source": [
    "print('Considere un swap a 1Y con cupones semestrales de 1.6% (lineal). Si la tasa cupón cero a 0.5Y es 1.5% (exp), calcule la tasa cero a 1Y.')\n",
    "\n",
    "b=(1+0.016)**(2)-1\n",
    "print(f'El valor de la tasa a 1Y es de {b: 2%}')"
   ]
  },
  {
   "cell_type": "markdown",
   "metadata": {},
   "source": [
    "### Pregunta 4"
   ]
  },
  {
   "cell_type": "markdown",
   "metadata": {},
   "source": [
    "La gran diferencia entre la simulacion de Hull-White en la medida libre de riesgo versus el\n",
    "modelo de Hull-White en la medida T-forward es que cambia el parámetro de $\\theta_t$ por el siguiente $\\overline{\\theta_t}$ dada las siguientes modificaciones:\n",
    "\n",
    "$$\n",
    "\\overline{\\theta_t}=\\theta_t-B\\left(t,T\\right)\\sigma^2\n",
    "$$"
   ]
  },
  {
   "cell_type": "code",
   "execution_count": 112,
   "metadata": {
    "ExecuteTime": {
     "end_time": "2020-12-11T21:24:07.204042Z",
     "start_time": "2020-12-11T21:24:07.199274Z"
    }
   },
   "outputs": [
    {
     "name": "stdout",
     "output_type": "stream",
     "text": [
      "Explique la diferencia entre valorizar un payoff g(r(T), T) por simulación de Montecarlo utilizando el modelo de Hull-White en la medida libre de riesgo y el modelo de Hull-White en la medida T-forward.\n",
      "La gran diferencia entre la simulacion de Hull-White en la medida libre de riesgo versus el modelo de Hull-White en la medida T-forward es que cambia el parámetro del thetta por un thetta gorro, el cual se encuentra descrito anteriormente\n"
     ]
    }
   ],
   "source": [
    "print('Explique la diferencia entre valorizar un payoff g(r(T), T) por simulación de Montecarlo utilizando el modelo de Hull-White en la medida libre de riesgo y el modelo de Hull-White en la medida T-forward.')\n",
    "\n",
    "print('La gran diferencia entre la simulacion de Hull-White en la medida libre de riesgo versus el modelo de Hull-White en la medida T-forward es que cambia el parámetro del thetta por un thetta gorro, el cual se encuentra descrito anteriormente')"
   ]
  },
  {
   "cell_type": "markdown",
   "metadata": {
    "ExecuteTime": {
     "end_time": "2020-12-11T02:18:04.908007Z",
     "start_time": "2020-12-11T02:18:04.905073Z"
    }
   },
   "source": [
    "### Pregunta 5"
   ]
  },
  {
   "cell_type": "markdown",
   "metadata": {},
   "source": [
    "La tasa forward lineal en $t$ que expira en $T$ y vence en $S$ con $S>T$ se denota con $F(t;T,S)$ y se define como:\n",
    "\n",
    "$$\n",
    "F(t;T,S):=\\left(\\frac{P(t,T)}{P(t,S)}-1\\right)\\cdot\\frac{1}{S-T}=\\left(\\frac{W(t,S)}{W(t,T)}-1\\right)\\cdot\\frac{1}{S-T}\n",
    "$$"
   ]
  },
  {
   "cell_type": "code",
   "execution_count": 113,
   "metadata": {
    "ExecuteTime": {
     "end_time": "2020-12-11T21:24:07.212744Z",
     "start_time": "2020-12-11T21:24:07.206630Z"
    }
   },
   "outputs": [
    {
     "name": "stdout",
     "output_type": "stream",
     "text": [
      "Con la curva cero cupón, interpolando linealmente en tasa, calcule la tasa forward entre 1282 y 2454 días.\n",
      "valor de la tasa forward =  0.200291%\n"
     ]
    }
   ],
   "source": [
    "print('Con la curva cero cupón, interpolando linealmente en tasa, calcule la tasa forward entre 1282 y 2454 días.')\n",
    "a = (curva(2454)/curva(1282)-1)*(1/(2454-1282))\n",
    "print(f'valor de la tasa forward = {a: 4%}')"
   ]
  },
  {
   "cell_type": "markdown",
   "metadata": {},
   "source": [
    "### Pregunta 6"
   ]
  },
  {
   "cell_type": "markdown",
   "metadata": {},
   "source": [
    "Verdadero, ya que en la valorización de una opción, tanto en el modelo Vasicek como en el modelo Hull-White, se usan exactamente los mismos parámetros, lo que cambia entre ambos modelos no es la fórmula cerrada, sinó que es en la simulación de montecarlo, donde cambia el $\\gamma*\\overline{r}$ por $\\theta_t$, además, se cambia $A\\left(t,T\\right)$ dependiendo del modelo pero solo se usa para la valorización del bono cero cupon y no para valorizar la opción, además se mantiene el $B\\left(t,T\\right)$ \n"
   ]
  },
  {
   "cell_type": "code",
   "execution_count": 114,
   "metadata": {
    "ExecuteTime": {
     "end_time": "2020-12-11T21:24:07.221243Z",
     "start_time": "2020-12-11T21:24:07.216998Z"
    },
    "scrolled": true
   },
   "outputs": [
    {
     "name": "stdout",
     "output_type": "stream",
     "text": [
      "La fórmula para una opción sobre un bono cupón cero en el modelo de Vasicek es la misma que en el modelo de Hull-White. Comente.\n"
     ]
    }
   ],
   "source": [
    "print('La fórmula para una opción sobre un bono cupón cero en el modelo de Vasicek es la misma que en el modelo de Hull-White. Comente.')"
   ]
  },
  {
   "cell_type": "markdown",
   "metadata": {},
   "source": [
    "### Pregunta 7"
   ]
  },
  {
   "cell_type": "markdown",
   "metadata": {},
   "source": [
    "De esta forma la tasa utilizada para calcular el pago de un cupón entre las fechas $T > t$ de la pata flotante de un swap cámara promedio $(TNA)$ se determina a través de:\n",
    "\n",
    "$$TNA=Round\\left(\\left( \\frac{ICP_{T}}{ICP_{t}}-1\\right)\\cdot\\frac{360}{d},4\\right)$$\n",
    "\n",
    "Donde:\n",
    "\n",
    "- TNA: significa *tasa nominal anual*.\n",
    "- $ICP_{\\tau}$: es el valor del $ICP$ la fecha $\\tau=t,T$.\n",
    "- $d$ es el número de días entre $t$ y $T$.\n",
    "- $Round\\left(x,4\\right)$ redondea el número $x$ a 4 decimales."
   ]
  },
  {
   "cell_type": "code",
   "execution_count": 115,
   "metadata": {
    "ExecuteTime": {
     "end_time": "2020-12-11T21:24:07.229758Z",
     "start_time": "2020-12-11T21:24:07.224329Z"
    }
   },
   "outputs": [
    {
     "name": "stdout",
     "output_type": "stream",
     "text": [
      "Calcule la TNA con ICP0 = 10,000.00 e ICP365 = 10,020.00 (365 días después)\n",
      "El valor de la TNA es de = 0.001973\n",
      "En extricto rivor, el valor de la TNA es de = 0.002\n"
     ]
    }
   ],
   "source": [
    "print('Calcule la TNA con ICP0 = 10,000.00 e ICP365 = 10,020.00 (365 días después)')\n",
    "TNA=round((10020/10000-1)*360/365,6)\n",
    "#redondeo a 6 para tener más numeros que ceros, debiera ser a 4.\n",
    "print(f'El valor de la TNA es de = {TNA}')\n",
    "print(f'En extricto rivor, el valor de la TNA es de = {round(TNA,4)}')"
   ]
  }
 ],
 "metadata": {
  "hide_input": false,
  "kernelspec": {
   "display_name": "Python 3",
   "language": "python",
   "name": "python3"
  },
  "language_info": {
   "codemirror_mode": {
    "name": "ipython",
    "version": 3
   },
   "file_extension": ".py",
   "mimetype": "text/x-python",
   "name": "python",
   "nbconvert_exporter": "python",
   "pygments_lexer": "ipython3",
   "version": "3.7.3"
  },
  "toc": {
   "base_numbering": "16",
   "nav_menu": {},
   "number_sections": true,
   "sideBar": true,
   "skip_h1_title": false,
   "title_cell": "Table of Contents",
   "title_sidebar": "Contenido",
   "toc_cell": false,
   "toc_position": {
    "height": "calc(100% - 180px)",
    "left": "10px",
    "top": "150px",
    "width": "165px"
   },
   "toc_section_display": true,
   "toc_window_display": true
  }
 },
 "nbformat": 4,
 "nbformat_minor": 4
}
