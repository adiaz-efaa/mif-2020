{
 "cells": [
  {
   "cell_type": "markdown",
   "metadata": {},
   "source": [
    "# Examen Final"
   ]
  },
  {
   "cell_type": "markdown",
   "metadata": {},
   "source": [
    "- Prender cámaras.\n",
    "- Puede utilizar sus apuntes.\n",
    "- Puede utilizar los notebooks del curso.\n",
    "- La alumna o alumno que sea sorprendido solicitando ayuda a cualquier persona, sea ella compañera o no, será calificada con un 2.\n",
    "- Cada pregunta vale un punto.\n",
    "- La nota mínima es un 2.\n",
    "- La nota se determinará con la siguiente fórmula $nota = \\min\\left(puntos + 2, 7\\right)$\n",
    "- Todas las funciones necesarias para resolver los ejercicios están ya importadas al notebook."
   ]
  },
  {
   "cell_type": "markdown",
   "metadata": {},
   "source": [
    "## Librerías"
   ]
  },
  {
   "cell_type": "code",
   "execution_count": 1,
   "metadata": {
    "ExecuteTime": {
     "end_time": "2020-12-11T20:05:08.056560Z",
     "start_time": "2020-12-11T20:05:07.228988Z"
    }
   },
   "outputs": [],
   "source": [
    "from finrisk import examen_final as ef\n",
    "from scipy.interpolate import interp1d\n",
    "import modules.hull_white as hw\n",
    "import pandas as pd\n",
    "import numpy as np\n",
    "import textwrap\n",
    "import random\n",
    "import math"
   ]
  },
  {
   "cell_type": "markdown",
   "metadata": {},
   "source": [
    "## Curva Cero Cupón"
   ]
  },
  {
   "cell_type": "markdown",
   "metadata": {},
   "source": [
    "Los plazos están en días y las tasas en convención exp act/365."
   ]
  },
  {
   "cell_type": "code",
   "execution_count": 2,
   "metadata": {
    "ExecuteTime": {
     "end_time": "2020-12-11T20:05:08.098413Z",
     "start_time": "2020-12-11T20:05:08.062259Z"
    }
   },
   "outputs": [],
   "source": [
    "df_curva = pd.read_excel('data/20201012_built_sofr_zero.xlsx')"
   ]
  },
  {
   "cell_type": "code",
   "execution_count": 3,
   "metadata": {
    "ExecuteTime": {
     "end_time": "2020-12-11T20:05:08.124081Z",
     "start_time": "2020-12-11T20:05:08.100959Z"
    }
   },
   "outputs": [
    {
     "data": {
      "text/html": [
       "<div>\n",
       "<style scoped>\n",
       "    .dataframe tbody tr th:only-of-type {\n",
       "        vertical-align: middle;\n",
       "    }\n",
       "\n",
       "    .dataframe tbody tr th {\n",
       "        vertical-align: top;\n",
       "    }\n",
       "\n",
       "    .dataframe thead th {\n",
       "        text-align: right;\n",
       "    }\n",
       "</style>\n",
       "<table border=\"1\" class=\"dataframe\">\n",
       "  <thead>\n",
       "    <tr style=\"text-align: right;\">\n",
       "      <th></th>\n",
       "      <th>plazo</th>\n",
       "      <th>tasa</th>\n",
       "      <th>df</th>\n",
       "    </tr>\n",
       "  </thead>\n",
       "  <tbody>\n",
       "    <tr>\n",
       "      <th>0</th>\n",
       "      <td>1</td>\n",
       "      <td>0.000811</td>\n",
       "      <td>0.999998</td>\n",
       "    </tr>\n",
       "    <tr>\n",
       "      <th>1</th>\n",
       "      <td>7</td>\n",
       "      <td>0.000841</td>\n",
       "      <td>0.999984</td>\n",
       "    </tr>\n",
       "    <tr>\n",
       "      <th>2</th>\n",
       "      <td>14</td>\n",
       "      <td>0.000780</td>\n",
       "      <td>0.999970</td>\n",
       "    </tr>\n",
       "    <tr>\n",
       "      <th>3</th>\n",
       "      <td>21</td>\n",
       "      <td>0.000774</td>\n",
       "      <td>0.999955</td>\n",
       "    </tr>\n",
       "    <tr>\n",
       "      <th>4</th>\n",
       "      <td>33</td>\n",
       "      <td>0.000781</td>\n",
       "      <td>0.999929</td>\n",
       "    </tr>\n",
       "  </tbody>\n",
       "</table>\n",
       "</div>"
      ],
      "text/plain": [
       "   plazo      tasa        df\n",
       "0      1  0.000811  0.999998\n",
       "1      7  0.000841  0.999984\n",
       "2     14  0.000780  0.999970\n",
       "3     21  0.000774  0.999955\n",
       "4     33  0.000781  0.999929"
      ]
     },
     "execution_count": 3,
     "metadata": {},
     "output_type": "execute_result"
    }
   ],
   "source": [
    "df_curva.head()"
   ]
  },
  {
   "cell_type": "code",
   "execution_count": 28,
   "metadata": {
    "ExecuteTime": {
     "end_time": "2020-12-11T20:31:35.251131Z",
     "start_time": "2020-12-11T20:31:35.245718Z"
    }
   },
   "outputs": [],
   "source": [
    "curva = interp1d(df_curva['plazo'], df_curva['tasa'], 'linear', fill_value='extrapolate')"
   ]
  },
  {
   "cell_type": "markdown",
   "metadata": {},
   "source": [
    "## Cálculo Opción"
   ]
  },
  {
   "cell_type": "markdown",
   "metadata": {},
   "source": [
    "Para identificar si es una Call o una Put se usa un `enum`."
   ]
  },
  {
   "cell_type": "code",
   "execution_count": 5,
   "metadata": {
    "ExecuteTime": {
     "end_time": "2020-12-11T20:05:08.144879Z",
     "start_time": "2020-12-11T20:05:08.140130Z"
    }
   },
   "outputs": [],
   "source": [
    "c_p = hw.CallPut.CALL\n",
    "c_p = hw.CallPut.PUT"
   ]
  },
  {
   "cell_type": "markdown",
   "metadata": {},
   "source": [
    "Ver toda la documentación:"
   ]
  },
  {
   "cell_type": "code",
   "execution_count": 6,
   "metadata": {
    "ExecuteTime": {
     "end_time": "2020-12-11T20:05:08.154612Z",
     "start_time": "2020-12-11T20:05:08.148626Z"
    }
   },
   "outputs": [
    {
     "name": "stdout",
     "output_type": "stream",
     "text": [
      "\n",
      "    Calcula el valor de una call o una put sobre un bono cero cupón en el modelo de HW.\n",
      "    \n",
      "    params:\n",
      "    \n",
      "    - c_p: indica si es la opción es Call o Put. Es un `enum` de tipo CallPut. Ejemplo, c_p = CallPut.CALL.\n",
      "    - strike: es el strike de la opción. Se ingresa como número. Un strike del 90% se ingresa como .9.\n",
      "    - r0: es la tasa corta al momento de valorizar la opción (t = 0).\n",
      "    - to: instante de tiempo en que vence la opción, expresado en años.\n",
      "    - tb: instante de tiempo en que vence el bono subyacente, expresado en años. Debe ser tb > to.\n",
      "    - zo: factor de descuento de mercado a tiempo t = 0 hasta to.\n",
      "    - zb: factor de descuento de mercado a tiempo t = 0 hasta tb.\n",
      "    - gamma: parámetro gamma del modelo HW.\n",
      "    - sigma: parámetro sigma del modelo HW.\n",
      "    \n",
      "    return:\n",
      "    \n",
      "    -  el valor de la opción.\n",
      "    \n"
     ]
    }
   ],
   "source": [
    "print(hw.zcb_call_put.__doc__)"
   ]
  },
  {
   "cell_type": "markdown",
   "metadata": {},
   "source": [
    "## Valores `gamma` y `sigma`"
   ]
  },
  {
   "cell_type": "code",
   "execution_count": 7,
   "metadata": {
    "ExecuteTime": {
     "end_time": "2020-12-11T20:05:08.169944Z",
     "start_time": "2020-12-11T20:05:08.157797Z"
    }
   },
   "outputs": [],
   "source": [
    "gamma = 1\n",
    "sigma = .005"
   ]
  },
  {
   "cell_type": "code",
   "execution_count": 8,
   "metadata": {
    "ExecuteTime": {
     "end_time": "2020-12-11T20:05:08.199246Z",
     "start_time": "2020-12-11T20:05:08.173486Z"
    }
   },
   "outputs": [
    {
     "name": "stdout",
     "output_type": "stream",
     "text": [
      "0.98 0.019553575799963863\n",
      "0.981 0.0185542779311344\n",
      "0.982 0.017554980062305048\n",
      "0.983 0.016555682193475696\n",
      "0.984 0.015556384324646233\n",
      "0.985 0.014557086455816881\n",
      "0.99 0.0095605971116699\n",
      "0.991 0.008561299242840548\n",
      "0.992 0.007562001374011196\n",
      "0.993 0.006562703505181733\n"
     ]
    }
   ],
   "source": [
    "strikes = [.98, .981, .982, .983, .984, .985, .99, .991, .992, .993]\n",
    "for k in strikes:\n",
    "    print(k, hw.zcb_call_put(\n",
    "        hw.CallPut.CALL,\n",
    "        k,\n",
    "        curva(.0001),\n",
    "        1,\n",
    "        2,\n",
    "        math.exp(-curva(365)),\n",
    "        math.exp(-curva(730) * 730 / 365.0),\n",
    "        gamma,\n",
    "        sigma\n",
    "    ))"
   ]
  },
  {
   "cell_type": "markdown",
   "metadata": {},
   "source": [
    "## Preguntas"
   ]
  },
  {
   "cell_type": "code",
   "execution_count": 9,
   "metadata": {
    "ExecuteTime": {
     "end_time": "2020-12-11T20:05:08.207660Z",
     "start_time": "2020-12-11T20:05:08.203799Z"
    },
    "hide_input": false
   },
   "outputs": [],
   "source": [
    "try:\n",
    "    q = ef.get_questions()\n",
    "except Exception as e:\n",
    "    print(str(e))"
   ]
  },
  {
   "cell_type": "code",
   "execution_count": 10,
   "metadata": {
    "ExecuteTime": {
     "end_time": "2020-12-11T20:05:08.222708Z",
     "start_time": "2020-12-11T20:05:08.216090Z"
    },
    "hide_input": true
   },
   "outputs": [
    {
     "name": "stdout",
     "output_type": "stream",
     "text": [
      "Pregunta 1:\n",
      "\n",
      "Calcule la TNA con ICP0 = 10,000.00 e ICP365 = 10,214.00 (365 días después).\n",
      "\n",
      "\n",
      "Pregunta 2:\n",
      "\n",
      "Explique la diferencia entre valorizar un payoff g(r(T), T) por simulación de\n",
      "Montecarlo utilizando el modelo de Hull-White en la medida libre de riesgo y el\n",
      "modelo de Hull-White en la medida T-forward.\n",
      "\n",
      "\n",
      "Pregunta 3:\n",
      "\n",
      "Con la curva cero cupón, interpolando linealmente en tasa, calcule la tasa\n",
      "forward entre 3282 y 4454 días.\n",
      "\n",
      "\n",
      "Pregunta 4:\n",
      "\n",
      "La fórmula para una opción sobre un bono cupón cero en el modelo de Vasicek es\n",
      "la misma que en el modelo de Hull-White. Comente.\n",
      "\n",
      "\n",
      "Pregunta 5:\n",
      "\n",
      "Considere un swap a 1Y con cupones semestrales de 1.9% (lineal). Si la tasa\n",
      "cupón cero a 0.5Y es 1.8% (exp), calcule la tasa cero a 1Y.\n",
      "\n",
      "\n",
      "Pregunta 6:\n",
      "\n",
      "Usando la curva cero cupón entregada y parámetros gamma = 1.0 y sigma = 0.5%\n",
      "valorice una call a 1Y sobre un bono cero cupón a 2Y con un strike de 99.1%.\n",
      "Entregue el resultado 8 decimales y suponiendo un nocional de 1.\n",
      "\n",
      "\n",
      "Pregunta 7:\n",
      "\n",
      "Calcule un paso de simulación de Montecarlo para el modelo de Vasicek usando\n",
      "gamma = 1.0, sigma = 0.5%, dt = 1/264, r0 obtenido de la curva cupón cero\n",
      "entregada y número aleatorio N(0, 1) igual a .5504 .\n",
      "\n",
      "\n"
     ]
    }
   ],
   "source": [
    "for qq in q:\n",
    "    print(f'{qq[0]}\\n')\n",
    "    print(textwrap.fill(f'{qq[1]}', 80))\n",
    "    print('\\n')"
   ]
  },
  {
   "cell_type": "markdown",
   "metadata": {},
   "source": [
    "## Respuestas"
   ]
  },
  {
   "cell_type": "markdown",
   "metadata": {},
   "source": []
  },
  {
   "cell_type": "markdown",
   "metadata": {},
   "source": [
    "### Pregunta 1"
   ]
  },
  {
   "cell_type": "markdown",
   "metadata": {},
   "source": [
    "Calcule la TNA con ICP0 = 10,000.00 e ICP365 = 10,214.00 (365 días después).\n",
    "\n",
    "RESPUESTA: \n",
    "    \n",
    "Se debe utilizar las siguientes ecuaciones: \n",
    "    \n",
    "$$ICP_{t+d}=Round \\left( ICP_{t}\\cdot\\left(1+r_{t}\\cdot \\frac{d}{360} \\right),2 \\right)$$\n",
    "\n",
    "Siendo d el número de días entre t la próxima fecha hábil para la ecuacion del ICP y T para el TNA.\n",
    "\n",
    "$$TNA=Round\\left(\\left( \\frac{ICP_{T}}{ICP_{t}}-1\\right)\\cdot\\frac{360}{d},4\\right)$$"
   ]
  },
  {
   "cell_type": "code",
   "execution_count": 74,
   "metadata": {
    "ExecuteTime": {
     "end_time": "2020-12-11T21:42:23.390384Z",
     "start_time": "2020-12-11T21:42:23.384196Z"
    }
   },
   "outputs": [
    {
     "name": "stdout",
     "output_type": "stream",
     "text": [
      "2.1100%\n"
     ]
    }
   ],
   "source": [
    "ICP0=10000\n",
    "ICP365=10214\n",
    "\n",
    "TNA = round((10214.0 / 10000.0 - 1) * (360.0 / 365), 4)\n",
    "\n",
    "print(f'{TNA:.4%}')"
   ]
  },
  {
   "cell_type": "markdown",
   "metadata": {},
   "source": [
    "### Pregunta 2"
   ]
  },
  {
   "cell_type": "markdown",
   "metadata": {},
   "source": [
    "Explique la diferencia entre valorizar un payoff g(r(T), T) por simulación de Montecarlo utilizando el modelo de Hull-White en la medida libre de riesgo y el modelo de Hull-White en la medida T-forward.\n",
    "\n",
    "RESPUESTA: \n",
    "\n",
    "La diferencia esta en que bajo la medida forward y la medida libre se riesgo esta en que bajo la primera medida se puede sacar el valor del factor de descuento de la esperanza, no teniendo así que \"devolverme por la trayectoria\" para obtener el valor presente del payoff. \n",
    "\n",
    "Devolverse por la trayectoria implica calcular para cada salto en el tiempo (dt) de cada simulación la multimplicación entre el factor de descuento por el flujo en el tiempo t y luego sumarlo para obtener el valor presente de cada simulación. Finalmente obteniendo el valor final calculando el promedio de las simulaciones. \n",
    "\n",
    "No devolverse por la tractoria es que calculo el payoff esperado calculando el promedio de las simulaciones.\n"
   ]
  },
  {
   "cell_type": "markdown",
   "metadata": {},
   "source": [
    "MEDIDA FORWARD\n",
    "\n",
    "\\begin{equation}\n",
    "V\\left(r_t,t,T\\right)=Z\\left(r_t,t,T\\right)\\mathbb{E}_t^{Z_T}\\left[g\\left(r_T,T\\right)\\right]\n",
    "\\end{equation}\n",
    "\n",
    "MEDIDA LIBRE DE RIESGO\n",
    "\n",
    "\\begin{equation}\n",
    "V\\left(r_t,t\\right)=\\mathbb{E}_t^*\\left[e^{-\\int_{t}^{T}R\\left(r_u\\right)du}g\\left(r_T,T\\right)\\right] \n",
    "\\end{equation}\n"
   ]
  },
  {
   "cell_type": "markdown",
   "metadata": {},
   "source": [
    "### Pregunta 3"
   ]
  },
  {
   "cell_type": "markdown",
   "metadata": {},
   "source": [
    "Con la curva cero cupón, interpolando linealmente en tasa, calcule la tasa forward entre 3282 y 4454 días.\n",
    "RESPUESTA: "
   ]
  },
  {
   "cell_type": "code",
   "execution_count": 68,
   "metadata": {
    "ExecuteTime": {
     "end_time": "2020-12-11T21:31:53.506333Z",
     "start_time": "2020-12-11T21:31:53.499522Z"
    },
    "cell_style": "center"
   },
   "outputs": [
    {
     "name": "stdout",
     "output_type": "stream",
     "text": [
      "1.25210516%\n"
     ]
    }
   ],
   "source": [
    "t1=3282\n",
    "t2=4454\n",
    "\n",
    "r1=curva(t1)\n",
    "r2=curva(t2)\n",
    "\n",
    "df1=math.exp(-r1*t1/365)\n",
    "df2=math.exp(-r2*t2/365)\n",
    "\n",
    "fwd=(df1/df2-1)*365/(t2-t1)\n",
    "\n",
    "print(f'{fwd:.8%}')"
   ]
  },
  {
   "cell_type": "markdown",
   "metadata": {
    "cell_style": "center"
   },
   "source": [
    "TASA FORWARD\n",
    "\n",
    "\\begin{equation}\n",
    "\\mathbb{E}_t^Q\\left(L_{T_f}\\right)=\\left(\\frac{P_L\\left(t,T_f\\right)}{P_L\\left(t,T_{f+3M}\\right)}-1\\right)\\cdot\\frac{1}{yf\\left(T_f,T_{f+3M}\\right)}=FWD\\left(T_f,T_{f+3M}\\right)\n",
    "\\end{equation}"
   ]
  },
  {
   "cell_type": "markdown",
   "metadata": {},
   "source": [
    "### Pregunta 4"
   ]
  },
  {
   "cell_type": "markdown",
   "metadata": {
    "ExecuteTime": {
     "end_time": "2020-12-11T20:35:54.824346Z",
     "start_time": "2020-12-11T20:35:54.818154Z"
    }
   },
   "source": [
    "La fórmula para una opción sobre un bono cupón cero en el modelo de Vasicek es la misma que en el modelo de Hull-White. Comente.\n",
    "\n",
    "RESPUESTA:\n",
    "    \n",
    "Si la ecución es la misma, esto es posible dado a que la ecuación de black y scholes se puede utilizar mientras que\n",
    "el subyacente tenga una distribución log-normal. Esto es el caso de Vasicek y Hull-White dado que la ecuación \n",
    "de la tasa instantanea varía en los modelos esta distribuye normal, por lo que al aplicar la ecuación siguiente ecuacion para obtener el bono cupon cero: \n",
    "\n",
    "\\begin{equation}\n",
    "Z\\left(r_t,t,T\\right)=\\exp\\left[A\\left(t,T\\right)-B\\left(t,T\\right)r_t\\right] \\\\\n",
    "\\end{equation}\n",
    "\n",
    "Nos damos cuenta que este distribuye lognormal haciendo posible lo anterios, a pesar que A y B no sean las mismas funciones. \n"
   ]
  },
  {
   "cell_type": "markdown",
   "metadata": {
    "ExecuteTime": {
     "end_time": "2020-12-11T02:18:04.908007Z",
     "start_time": "2020-12-11T02:18:04.905073Z"
    }
   },
   "source": [
    "### Pregunta 5"
   ]
  },
  {
   "cell_type": "markdown",
   "metadata": {},
   "source": [
    "Considere un swap a 1Y con cupones semestrales de 1.9% (lineal). Si la tasa cupón cero a 0.5Y es 1.8% (exp), \n",
    "calcule la tasa cero a 1Y.\n",
    "\n",
    "RESPUESTA:\n",
    "\n",
    "La ecuaciones a utilizar son para el factor de descuento del primer cupon: \n",
    "\n",
    "$$\n",
    "\\begin{equation}\n",
    "\\Pi^{fija,tenor}\\left(T_0\\right)=P_c\\left(T_0,T_{tenor}\\right)\\cdot\\left(1+r\\cdot\\frac{T_{tenor}-T_0}{360}\\right)=1\n",
    "\\end{equation}\n",
    "$$\n",
    "\n",
    "Para el factor de descuento del segundo cupón:\n",
    "\n",
    "$$\n",
    "\\begin{equation}\n",
    "\\Pi^{fija}\\left(T_0\\right)=P_c\\left(t_0,T_1\\right)\\cdot r\\cdot\\frac{T_1-T_0}{360}+P_c\\left(t_0,T_2\\right)\\left(1+r \\cdot \\frac{T_2-T_1}{360}\\right)=1\n",
    "\\end{equation}\n",
    "$$\n",
    "\n",
    "Pues en esta se pagan dos cupones y se debe utilizar el factor de descuento del primer cupon obtenido con la tasa cupón cero \n",
    "para obtener el segundo. \n",
    "Cabe mencionar que se considerara nocional igual a 1 y siendo r =1.9%\n"
   ]
  },
  {
   "cell_type": "code",
   "execution_count": 75,
   "metadata": {
    "ExecuteTime": {
     "end_time": "2020-12-11T21:42:29.446292Z",
     "start_time": "2020-12-11T21:42:29.437130Z"
    }
   },
   "outputs": [
    {
     "data": {
      "text/plain": [
       "0.03835706806349034"
      ]
     },
     "execution_count": 75,
     "metadata": {},
     "output_type": "execute_result"
    }
   ],
   "source": [
    "Fd_c1 = math.exp(-1.8/100*180/365) #Payoff primer cupon\n",
    "\n",
    "Fd_c2 = (1-Fd_c1*0.019*180/360)/(1+0.019*180/360)\n",
    "\n",
    "tasa_1Y= -math.log(Fd_c2)*365/180 \n",
    "\n",
    "# AD: Fd_c2 = (1-Fd_c1*0.019*180/360)/(1+0.019*180/360) = exp(-tasa_1Y * 365/360)\n",
    "# tasa_1Y = -log(Fd_c2) * 360 / 365\n",
    "\n",
    "tasa_1Y"
   ]
  },
  {
   "cell_type": "markdown",
   "metadata": {},
   "source": [
    "### Pregunta 6"
   ]
  },
  {
   "cell_type": "markdown",
   "metadata": {},
   "source": [
    "Usando la curva cero cupón entregada y parámetros gamma = 1.0 y sigma = 0.5% valorice una call a 1Y sobre un bono \n",
    "cero cupón a 2Y con un strike de 99.1%.\n",
    "Entregue el resultado 8 decimales y suponiendo un nocional de 1.\n",
    "\n",
    "RESPUESTA:\n",
    "\n",
    "Recordar que el orden de los parametros de la fución son:\n",
    "    \n",
    "    - c_p: indica si es la opción es Call o Put. Es un `enum` de tipo CallPut. Ejemplo, c_p = CallPut.CALL.\n",
    "    - strike: es el strike de la opción. Se ingresa como número. Un strike del 90% se ingresa como .9.\n",
    "    - r0: es la tasa corta al momento de valorizar la opción (t = 0).\n",
    "    - to: instante de tiempo en que vence la opción, expresado en años.\n",
    "    - tb: instante de tiempo en que vence el bono subyacente, expresado en años. Debe ser tb > to.\n",
    "    - zo: factor de descuento de mercado a tiempo t = 0 hasta to.\n",
    "    - zb: factor de descuento de mercado a tiempo t = 0 hasta tb.\n",
    "    - gamma: parámetro gamma del modelo HW.\n",
    "    - sigma: parámetro sigma del modelo HW.\n",
    "    \n",
    "Cabe mencionar, que los parametros gamma y sigma del enunciado coinciden con los de la seccion 16.4.\n",
    "    "
   ]
  },
  {
   "cell_type": "code",
   "execution_count": 63,
   "metadata": {
    "ExecuteTime": {
     "end_time": "2020-12-11T21:10:23.728937Z",
     "start_time": "2020-12-11T21:10:23.719036Z"
    }
   },
   "outputs": [
    {
     "name": "stdout",
     "output_type": "stream",
     "text": [
      "0.0085612992\n"
     ]
    }
   ],
   "source": [
    "strikes = [.991]\n",
    "for k in strikes:\n",
    "    V = hw.zcb_call_put(\n",
    "        hw.CallPut.CALL,\n",
    "        k,\n",
    "        curva(.0001),\n",
    "        1,\n",
    "        2,\n",
    "        math.exp(-curva(365)),   #1 año\n",
    "        math.exp(-curva(730) * 730 / 365.0),  #2 años\n",
    "        gamma,\n",
    "        sigma\n",
    "    )\n",
    "\n",
    "print(f'{V:.8}')"
   ]
  },
  {
   "cell_type": "markdown",
   "metadata": {},
   "source": [
    "### Pregunta 7"
   ]
  },
  {
   "cell_type": "markdown",
   "metadata": {},
   "source": [
    "Calcule un paso de simulación de Montecarlo para el modelo de Vasicek usando gamma = 1.0, sigma = 0.5%, dt = 1/264, r0\n",
    "obtenido de la curva cupón cero entregada y número aleatorio N(0, 1) igual a .5504 .\n",
    "\n",
    "RESPUESTA:"
   ]
  },
  {
   "cell_type": "code",
   "execution_count": 1,
   "metadata": {
    "ExecuteTime": {
     "end_time": "2020-12-20T17:41:33.736939Z",
     "start_time": "2020-12-20T17:41:33.734470Z"
    }
   },
   "outputs": [],
   "source": [
    "# AD: pucha ...."
   ]
  }
 ],
 "metadata": {
  "hide_input": false,
  "kernelspec": {
   "display_name": "Python 3",
   "language": "python",
   "name": "python3"
  },
  "language_info": {
   "codemirror_mode": {
    "name": "ipython",
    "version": 3
   },
   "file_extension": ".py",
   "mimetype": "text/x-python",
   "name": "python",
   "nbconvert_exporter": "python",
   "pygments_lexer": "ipython3",
   "version": "3.7.3"
  },
  "toc": {
   "base_numbering": "16",
   "nav_menu": {},
   "number_sections": true,
   "sideBar": true,
   "skip_h1_title": false,
   "title_cell": "Table of Contents",
   "title_sidebar": "Contenido",
   "toc_cell": false,
   "toc_position": {
    "height": "calc(100% - 180px)",
    "left": "10px",
    "top": "150px",
    "width": "165px"
   },
   "toc_section_display": true,
   "toc_window_display": true
  }
 },
 "nbformat": 4,
 "nbformat_minor": 4
}
