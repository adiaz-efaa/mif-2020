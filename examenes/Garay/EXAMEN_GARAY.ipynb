{
 "cells": [
  {
   "cell_type": "markdown",
   "metadata": {},
   "source": [
    "# Examen Final"
   ]
  },
  {
   "cell_type": "markdown",
   "metadata": {},
   "source": [
    "- Prender cámaras.\n",
    "- Puede utilizar sus apuntes.\n",
    "- Puede utilizar los notebooks del curso.\n",
    "- La alumna o alumno que sea sorprendido solicitando ayuda a cualquier persona, sea ella compañera o no, será calificada con un 2.\n",
    "- Cada pregunta vale un punto.\n",
    "- La nota mínima es un 2.\n",
    "- La nota se determinará con la siguiente fórmula $nota = \\min\\left(puntos + 2, 7\\right)$\n",
    "- Todas las funciones necesarias para resolver los ejercicios están ya importadas al notebook."
   ]
  },
  {
   "cell_type": "markdown",
   "metadata": {},
   "source": [
    "## Librerías"
   ]
  },
  {
   "cell_type": "code",
   "execution_count": 24,
   "metadata": {
    "ExecuteTime": {
     "end_time": "2020-12-11T20:08:21.800647Z",
     "start_time": "2020-12-11T20:08:21.795988Z"
    }
   },
   "outputs": [],
   "source": [
    "from finrisk import examen_final as ef\n",
    "from scipy.interpolate import interp1d\n",
    "import modules.hull_white as hw\n",
    "import pandas as pd\n",
    "import numpy as np\n",
    "import textwrap\n",
    "import random\n",
    "import math"
   ]
  },
  {
   "cell_type": "markdown",
   "metadata": {},
   "source": [
    "## Curva Cero Cupón"
   ]
  },
  {
   "cell_type": "markdown",
   "metadata": {},
   "source": [
    "Los plazos están en días y las tasas en convención exp act/365."
   ]
  },
  {
   "cell_type": "code",
   "execution_count": 25,
   "metadata": {
    "ExecuteTime": {
     "end_time": "2020-12-11T20:08:21.823651Z",
     "start_time": "2020-12-11T20:08:21.804451Z"
    }
   },
   "outputs": [],
   "source": [
    "df_curva = pd.read_excel('data/20201012_built_sofr_zero.xlsx')"
   ]
  },
  {
   "cell_type": "code",
   "execution_count": 26,
   "metadata": {
    "ExecuteTime": {
     "end_time": "2020-12-11T20:08:21.838393Z",
     "start_time": "2020-12-11T20:08:21.827479Z"
    }
   },
   "outputs": [
    {
     "data": {
      "text/html": [
       "<div>\n",
       "<style scoped>\n",
       "    .dataframe tbody tr th:only-of-type {\n",
       "        vertical-align: middle;\n",
       "    }\n",
       "\n",
       "    .dataframe tbody tr th {\n",
       "        vertical-align: top;\n",
       "    }\n",
       "\n",
       "    .dataframe thead th {\n",
       "        text-align: right;\n",
       "    }\n",
       "</style>\n",
       "<table border=\"1\" class=\"dataframe\">\n",
       "  <thead>\n",
       "    <tr style=\"text-align: right;\">\n",
       "      <th></th>\n",
       "      <th>plazo</th>\n",
       "      <th>tasa</th>\n",
       "      <th>df</th>\n",
       "    </tr>\n",
       "  </thead>\n",
       "  <tbody>\n",
       "    <tr>\n",
       "      <th>0</th>\n",
       "      <td>1</td>\n",
       "      <td>0.000811</td>\n",
       "      <td>0.999998</td>\n",
       "    </tr>\n",
       "    <tr>\n",
       "      <th>1</th>\n",
       "      <td>7</td>\n",
       "      <td>0.000841</td>\n",
       "      <td>0.999984</td>\n",
       "    </tr>\n",
       "    <tr>\n",
       "      <th>2</th>\n",
       "      <td>14</td>\n",
       "      <td>0.000780</td>\n",
       "      <td>0.999970</td>\n",
       "    </tr>\n",
       "    <tr>\n",
       "      <th>3</th>\n",
       "      <td>21</td>\n",
       "      <td>0.000774</td>\n",
       "      <td>0.999955</td>\n",
       "    </tr>\n",
       "    <tr>\n",
       "      <th>4</th>\n",
       "      <td>33</td>\n",
       "      <td>0.000781</td>\n",
       "      <td>0.999929</td>\n",
       "    </tr>\n",
       "  </tbody>\n",
       "</table>\n",
       "</div>"
      ],
      "text/plain": [
       "   plazo      tasa        df\n",
       "0      1  0.000811  0.999998\n",
       "1      7  0.000841  0.999984\n",
       "2     14  0.000780  0.999970\n",
       "3     21  0.000774  0.999955\n",
       "4     33  0.000781  0.999929"
      ]
     },
     "execution_count": 26,
     "metadata": {},
     "output_type": "execute_result"
    }
   ],
   "source": [
    "df_curva.head()"
   ]
  },
  {
   "cell_type": "code",
   "execution_count": 27,
   "metadata": {
    "ExecuteTime": {
     "end_time": "2020-12-11T20:08:21.846233Z",
     "start_time": "2020-12-11T20:08:21.842236Z"
    }
   },
   "outputs": [],
   "source": [
    "curva = interp1d(df_curva['plazo'], df_curva['tasa'], 'linear', fill_value='extrapolate')"
   ]
  },
  {
   "cell_type": "markdown",
   "metadata": {},
   "source": [
    "## Cálculo Opción"
   ]
  },
  {
   "cell_type": "markdown",
   "metadata": {},
   "source": [
    "Para identificar si es una Call o una Put se usa un `enum`."
   ]
  },
  {
   "cell_type": "code",
   "execution_count": 28,
   "metadata": {
    "ExecuteTime": {
     "end_time": "2020-12-11T20:08:21.851950Z",
     "start_time": "2020-12-11T20:08:21.848394Z"
    }
   },
   "outputs": [],
   "source": [
    "c_p = hw.CallPut.CALL\n",
    "c_p = hw.CallPut.PUT"
   ]
  },
  {
   "cell_type": "markdown",
   "metadata": {},
   "source": [
    "Ver toda la documentación:"
   ]
  },
  {
   "cell_type": "code",
   "execution_count": 29,
   "metadata": {
    "ExecuteTime": {
     "end_time": "2020-12-11T20:08:21.858089Z",
     "start_time": "2020-12-11T20:08:21.854470Z"
    }
   },
   "outputs": [
    {
     "name": "stdout",
     "output_type": "stream",
     "text": [
      "\n",
      "    Calcula el valor de una call o una put sobre un bono cero cupón en el modelo de HW.\n",
      "    \n",
      "    params:\n",
      "    \n",
      "    - c_p: indica si es la opción es Call o Put. Es un `enum` de tipo CallPut. Ejemplo, c_p = CallPut.CALL.\n",
      "    - strike: es el strike de la opción. Se ingresa como número. Un strike del 90% se ingresa como .9.\n",
      "    - r0: es la tasa corta al momento de valorizar la opción (t = 0).\n",
      "    - to: instante de tiempo en que vence la opción, expresado en años.\n",
      "    - tb: instante de tiempo en que vence el bono subyacente, expresado en años. Debe ser tb > to.\n",
      "    - zo: factor de descuento de mercado a tiempo t = 0 hasta to.\n",
      "    - zb: factor de descuento de mercado a tiempo t = 0 hasta tb.\n",
      "    - gamma: parámetro gamma del modelo HW.\n",
      "    - sigma: parámetro sigma del modelo HW.\n",
      "    \n",
      "    return:\n",
      "    \n",
      "    -  el valor de la opción.\n",
      "    \n"
     ]
    }
   ],
   "source": [
    "print(hw.zcb_call_put.__doc__)"
   ]
  },
  {
   "cell_type": "markdown",
   "metadata": {},
   "source": [
    "## Valores `gamma` y `sigma`"
   ]
  },
  {
   "cell_type": "code",
   "execution_count": 30,
   "metadata": {
    "ExecuteTime": {
     "end_time": "2020-12-11T20:08:21.864031Z",
     "start_time": "2020-12-11T20:08:21.860660Z"
    }
   },
   "outputs": [],
   "source": [
    "gamma = 1\n",
    "sigma = .005"
   ]
  },
  {
   "cell_type": "code",
   "execution_count": 31,
   "metadata": {
    "ExecuteTime": {
     "end_time": "2020-12-11T20:08:21.889242Z",
     "start_time": "2020-12-11T20:08:21.866888Z"
    }
   },
   "outputs": [
    {
     "name": "stdout",
     "output_type": "stream",
     "text": [
      "0.98 0.019553575799963863\n",
      "0.981 0.0185542779311344\n",
      "0.982 0.017554980062305048\n",
      "0.983 0.016555682193475696\n",
      "0.984 0.015556384324646233\n",
      "0.985 0.014557086455816881\n",
      "0.99 0.0095605971116699\n",
      "0.991 0.008561299242840548\n",
      "0.992 0.007562001374011196\n",
      "0.993 0.006562703505181733\n"
     ]
    }
   ],
   "source": [
    "strikes = [.98, .981, .982, .983, .984, .985, .99, .991, .992, .993]\n",
    "for k in strikes:\n",
    "    print(k, hw.zcb_call_put(\n",
    "        hw.CallPut.CALL,\n",
    "        k,\n",
    "        curva(.0001),\n",
    "        1,\n",
    "        2,\n",
    "        math.exp(-curva(365)),\n",
    "        math.exp(-curva(730) * 730 / 365.0),\n",
    "        gamma,\n",
    "        sigma\n",
    "    ))"
   ]
  },
  {
   "cell_type": "markdown",
   "metadata": {},
   "source": [
    "## Preguntas"
   ]
  },
  {
   "cell_type": "code",
   "execution_count": 32,
   "metadata": {
    "ExecuteTime": {
     "end_time": "2020-12-11T20:08:21.902082Z",
     "start_time": "2020-12-11T20:08:21.891897Z"
    },
    "hide_input": false
   },
   "outputs": [
    {
     "name": "stdout",
     "output_type": "stream",
     "text": [
      "Sólo puedes pedir las preguntas 1 vez.\n"
     ]
    }
   ],
   "source": [
    "try:\n",
    "    q = ef.get_questions()\n",
    "except Exception as e:\n",
    "    print(str(e))"
   ]
  },
  {
   "cell_type": "code",
   "execution_count": 33,
   "metadata": {
    "ExecuteTime": {
     "end_time": "2020-12-11T20:08:21.913813Z",
     "start_time": "2020-12-11T20:08:21.905189Z"
    },
    "hide_input": true
   },
   "outputs": [
    {
     "name": "stdout",
     "output_type": "stream",
     "text": [
      "Pregunta 1:\n",
      "\n",
      "Usando la curva cero cupón entregada y parámetros gamma = 1.0 y sigma = 0.5%\n",
      "valorice una call a 1Y sobre un bono cero cupón a 2Y con un strike de 98.0%.\n",
      "Entregue el resultado 8 decimales y suponiendo un nocional de 1.\n",
      "\n",
      "\n",
      "Pregunta 2:\n",
      "\n",
      "Con la curva cero cupón, interpolando linealmente en tasa, calcule la tasa\n",
      "forward entre 582 y 754 días.\n",
      "\n",
      "\n",
      "Pregunta 3:\n",
      "\n",
      "Calcule la TNA con ICP0 = 10,000.00 e ICP365 = 10,022.00 (365 días después).\n",
      "\n",
      "\n",
      "Pregunta 4:\n",
      "\n",
      "Calcule un paso de simulación de Montecarlo para el modelo de Vasicek usando\n",
      "gamma = 1.0, sigma = 0.5%, dt = 1/264, r0 obtenido de la curva cupón cero\n",
      "entregada y número aleatorio N(0, 1) igual a .5504 .\n",
      "\n",
      "\n",
      "Pregunta 5:\n",
      "\n",
      "Explique la diferencia entre valorizar un payoff g(r(T), T) por simulación de\n",
      "Montecarlo utilizando el modelo de Hull-White en la medida libre de riesgo y el\n",
      "modelo de Hull-White en la medida T-forward.\n",
      "\n",
      "\n",
      "Pregunta 6:\n",
      "\n",
      "La fórmula para una opción sobre un bono cupón cero en el modelo de Vasicek es\n",
      "la misma que en el modelo de Hull-White. Comente.\n",
      "\n",
      "\n",
      "Pregunta 7:\n",
      "\n",
      "Considere un swap a 1Y con cupones semestrales de 1.2% (lineal). Si la tasa\n",
      "cupón cero a 0.5Y es 1.1% (exp), calcule la tasa cero a 1Y.\n",
      "\n",
      "\n"
     ]
    }
   ],
   "source": [
    "for qq in q:\n",
    "    print(f'{qq[0]}\\n')\n",
    "    print(textwrap.fill(f'{qq[1]}', 80))\n",
    "    print('\\n')"
   ]
  },
  {
   "cell_type": "markdown",
   "metadata": {},
   "source": [
    "## Respuestas"
   ]
  },
  {
   "cell_type": "markdown",
   "metadata": {},
   "source": []
  },
  {
   "cell_type": "code",
   "execution_count": null,
   "metadata": {},
   "outputs": [],
   "source": []
  },
  {
   "cell_type": "markdown",
   "metadata": {},
   "source": [
    "### Pregunta 1"
   ]
  },
  {
   "cell_type": "markdown",
   "metadata": {},
   "source": [
    "**Enunciado**\n",
    "\n",
    "Usando la curva cero cupón entregada y parámetros gamma = 1.0 y sigma = 0.5%\n",
    "valorice una call a 1Y sobre un bono cero cupón a 2Y con un strike de 98.0%.\n",
    "Entregue el resultado 8 decimales y suponiendo un nocional de 1.\n",
    "\n",
    "**Respuesta**"
   ]
  },
  {
   "cell_type": "code",
   "execution_count": 73,
   "metadata": {
    "ExecuteTime": {
     "end_time": "2020-12-11T21:00:59.397113Z",
     "start_time": "2020-12-11T21:00:59.390282Z"
    }
   },
   "outputs": [
    {
     "name": "stdout",
     "output_type": "stream",
     "text": [
      "Valor Call 0.019553576\n"
     ]
    }
   ],
   "source": [
    "gamma = 1\n",
    "sigma = 0.5e-2\n",
    "\n",
    "value = hw.zcb_call_put(\n",
    "            hw.CallPut.CALL,\n",
    "            0.98,\n",
    "            curva(0),\n",
    "            1,\n",
    "            2,\n",
    "            math.exp(-curva(1*365) * 1),\n",
    "            math.exp(-curva(2*365) * 2),\n",
    "            gamma,\n",
    "            sigma)\n",
    "print(f'Valor Call {value:.8}')"
   ]
  },
  {
   "cell_type": "markdown",
   "metadata": {},
   "source": [
    "### Pregunta 2"
   ]
  },
  {
   "cell_type": "markdown",
   "metadata": {},
   "source": [
    "**Enunciado**\n",
    "\n",
    "Con la curva cero cupón, interpolando linealmente en tasa, calcule la tasa\n",
    "forward entre 582 y 754 días.\n",
    "\n",
    "**Respuesta**"
   ]
  },
  {
   "cell_type": "code",
   "execution_count": 52,
   "metadata": {
    "ExecuteTime": {
     "end_time": "2020-12-11T20:16:15.414492Z",
     "start_time": "2020-12-11T20:16:15.407706Z"
    }
   },
   "outputs": [
    {
     "name": "stdout",
     "output_type": "stream",
     "text": [
      "Tasa Forward 0.04115688%\n"
     ]
    }
   ],
   "source": [
    "t1 = 582\n",
    "t2 = 754\n",
    "r1 = curva(t1)\n",
    "r2 = curva(t2)\n",
    "df1 = (1+r1)**(-t1/365)\n",
    "df2 = (1+r2)**(-t2/365)\n",
    "fwd_rate = (df1/df2-1)*360/(t2-t1)\n",
    "fwd_rate\n",
    "\n",
    "print(f'Tasa Forward {fwd_rate:.8%}')"
   ]
  },
  {
   "cell_type": "markdown",
   "metadata": {},
   "source": [
    "### Pregunta 3"
   ]
  },
  {
   "cell_type": "markdown",
   "metadata": {},
   "source": [
    "**Enunciado**\n",
    "\n",
    "Calcule la TNA con ICP0 = 10,000.00 e ICP365 = 10,022.00 (365 días después).\n",
    "\n",
    "**Respuesta**"
   ]
  },
  {
   "cell_type": "code",
   "execution_count": 53,
   "metadata": {
    "ExecuteTime": {
     "end_time": "2020-12-11T20:16:17.407627Z",
     "start_time": "2020-12-11T20:16:17.401745Z"
    }
   },
   "outputs": [
    {
     "name": "stdout",
     "output_type": "stream",
     "text": [
      "TNA 0.2200%\n"
     ]
    }
   ],
   "source": [
    "ICP_0 = 10e3\n",
    "ICP_365 = 10022\n",
    "d = 365\n",
    "\n",
    "TNA = round(((ICP_365/ICP_0 - 1) * 360 / d), 4)\n",
    "\n",
    "print(f'TNA {TNA:.4%}')"
   ]
  },
  {
   "cell_type": "markdown",
   "metadata": {},
   "source": [
    "### Pregunta 4"
   ]
  },
  {
   "cell_type": "markdown",
   "metadata": {},
   "source": [
    "**Enunciado**\n",
    "\n",
    "Calcule un paso de simulación de Montecarlo para el modelo de Vasicek usando\n",
    "gamma = 1.0, sigma = 0.5%, dt = 1/264, r0 obtenido de la curva cupón cero\n",
    "entregada y número aleatorio N(0, 1) igual a .5504 .\n",
    "\n",
    "**Respuesta**\n",
    "\n",
    "Considerando la dinámica de la tasa:\n",
    "\n",
    "$$dr_t=\\gamma\\left(\\overline{r}-r_t\\right)dt+\\sigma dX^*_t$$\n",
    "\n",
    "La discretización de Euler se lee como:\n",
    "\n",
    "$$ r_1 = r_0 + \\gamma\\left(\\overline{r}-r_0\\right)dt + \\sigma \\sqrt{dt} \\cdot Shock_1$$\n",
    "\n"
   ]
  },
  {
   "cell_type": "code",
   "execution_count": 77,
   "metadata": {
    "ExecuteTime": {
     "end_time": "2020-12-11T21:15:54.664969Z",
     "start_time": "2020-12-11T21:15:54.657081Z"
    }
   },
   "outputs": [
    {
     "name": "stdout",
     "output_type": "stream",
     "text": [
      "La tasa en el paso 1 corresponde a 0.09914702%\n"
     ]
    }
   ],
   "source": [
    "r0 = curva(0)\n",
    "r_ = 0.5e-2\n",
    "dt = 1/264\n",
    "gamma = 1\n",
    "sigma = 0.5e-2\n",
    "shock = 0.5504\n",
    "\n",
    "r1 = r0 + gamma * (r_ - r0) * dt + sigma * math.sqrt(dt) * shock\n",
    "\n",
    "print(f'La tasa en el paso 1 corresponde a {r1:.8%}')\n",
    "\n"
   ]
  },
  {
   "cell_type": "markdown",
   "metadata": {
    "ExecuteTime": {
     "end_time": "2020-12-11T02:18:04.908007Z",
     "start_time": "2020-12-11T02:18:04.905073Z"
    }
   },
   "source": [
    "### Pregunta 5"
   ]
  },
  {
   "cell_type": "markdown",
   "metadata": {},
   "source": [
    "**Enunciado** \n",
    "\n",
    "Explique la diferencia entre valorizar un payoff g(r(T), T) por simulación de\n",
    "Montecarlo utilizando el modelo de Hull-White en la medida libre de riesgo y el\n",
    "modelo de Hull-White en la medida T-forward.\n",
    "\n",
    "**Respuesta**\n",
    "\n",
    "En cuanto al cálculo estocástico, lo único que cambia es el drift de la dinámica del precio del instrumento, que pasa de $m^*$ a $m^*\\left(r_t,t\\right)+\\sigma_Z\\left(r_t,t\\right)\\sigma\\left(r_t,t\\right)$, además de que el término $rV$ de la SDE desaparece. \n",
    "\n",
    "\\begin{equation}\n",
    "\\frac{\\partial\\overline{V}}{\\partial t}+\\frac{\\partial\\overline{V}}{\\partial r}\\left[m^*\\left(r_t,t\\right)+\\sigma_Z\\left(r_t,t\\right)\\sigma\\left(r_t,t\\right)\\right]+\\frac{1}{2}\\frac{\\partial^2\\overline{V}}{\\partial r^2}\\sigma^2\\left(r_t,t\\right)=0\n",
    "\\end{equation}\n",
    "\n",
    "Por lo que reflejado en la simulación esto lleva a modificar la función $\\theta_t$ del modelo de HW.\n",
    "\n",
    "Ahora bien, la razón de porque resulta tan útil el cambio de medida es porque el factor de descuento $\\displaystyle \\exp \\int r_s ds$ deja de ser estocástico, y se convierto en algo super conocido y observable que es el precio del bono cupón cero. Por lo que al momento de simular en la medida forward, no es necesario guardar las trayectoria de las tasas, porque el df es una constante. Computacionalmente esto es un plus. En caso de medida ajustada por riesgo, se debe guardar la trayectoria, porque se calcula un factor descuento para cada simulación que depende de la trayectoria de cada uno de los paths.\n"
   ]
  },
  {
   "cell_type": "markdown",
   "metadata": {},
   "source": [
    "### Pregunta 6"
   ]
  },
  {
   "cell_type": "markdown",
   "metadata": {},
   "source": [
    "**Enunciado**: \n",
    "\n",
    "La fórmula para una opción sobre un bono cupón cero en el modelo de Vasicek es\n",
    "la misma que en el modelo de Hull-White. Comente.\n",
    "\n",
    "**Respuesta**: \n",
    "\n",
    "Efectivamente, la fórmula para una opción, sea call o put, sobre un bono cupón cero es igual para los dos modelos. Si bien los modelos son distintos, en ambos caso se puede hacer uso de la conocida ecuación de Black-Scholes-Merton, que representa el valor presente del valor esperado de un payoff que depende de un subyacente, como lo es el precio del bono cupón cero, que distribuye lognormal.\n",
    "\n",
    "Si bien estos modelos de tasas tienen dinámicas que dependen de parámetros distintos en cuanto al drift, el coeficiente de difusión es el mismo en ambos. Lo que lleva a que la ecuanción de BSM sea valida para los dos casos.\n"
   ]
  },
  {
   "cell_type": "markdown",
   "metadata": {},
   "source": [
    "### Pregunta 7"
   ]
  },
  {
   "cell_type": "markdown",
   "metadata": {},
   "source": [
    "**Enunciado**\n",
    "\n",
    "Considere un swap a 1Y con cupones semestrales de 1.2% (lineal). Si la tasa\n",
    "cupón cero a 0.5Y es 1.1% (exp), calcule la tasa cero a 1Y."
   ]
  },
  {
   "cell_type": "markdown",
   "metadata": {},
   "source": [
    "**Respuesta**\n",
    "\n",
    "Primero se debe calcular el factor de descuento a 6M a partir de la tasa cupón cero a 6M."
   ]
  },
  {
   "cell_type": "code",
   "execution_count": 88,
   "metadata": {
    "ExecuteTime": {
     "end_time": "2020-12-11T21:32:45.930864Z",
     "start_time": "2020-12-11T21:32:45.923950Z"
    }
   },
   "outputs": [
    {
     "name": "stdout",
     "output_type": "stream",
     "text": [
      "Factor de descuento 6M: 0.9945\n"
     ]
    }
   ],
   "source": [
    "r_6M = 1.1e-2\n",
    "yf_6M = 0.5\n",
    "yf_6M_1Y = 0.5\n",
    "yf_1Y = 1\n",
    "df6M = math.exp(-r_6M*yf_6M)\n",
    "\n",
    "print(f'Factor de descuento 6M: {df6M:.4}')"
   ]
  },
  {
   "cell_type": "markdown",
   "metadata": {},
   "source": [
    "Suponiendo que la pata fija vale par se tiene que\n",
    "$$r_{swap,1Y} \\cdot yf_{0,6M} \\cdot df_{6M} + (1 + r_{swap, 1Y} \\cdot yf_{6M,1Y}) = 1$$\n",
    "se puede despejar facilmente el factor de descuento a 1Y."
   ]
  },
  {
   "cell_type": "code",
   "execution_count": 89,
   "metadata": {
    "ExecuteTime": {
     "end_time": "2020-12-11T21:32:46.107979Z",
     "start_time": "2020-12-11T21:32:46.103488Z"
    }
   },
   "outputs": [
    {
     "name": "stdout",
     "output_type": "stream",
     "text": [
      "Factor de descuento 1Y: 0.9881\n"
     ]
    }
   ],
   "source": [
    "r_swap1Y = 1.2e-2\n",
    "df1Y = (1 - r_swap1Y * yf_6M * df6M) / (1 + r_swap1Y * yf_6M_1Y)\n",
    "\n",
    "print(f'Factor de descuento 1Y: {df1Y:.4}')"
   ]
  },
  {
   "cell_type": "markdown",
   "metadata": {},
   "source": [
    "Finalmete, se determina la tasa a 1Y a partir del df a 1Y."
   ]
  },
  {
   "cell_type": "code",
   "execution_count": 90,
   "metadata": {
    "ExecuteTime": {
     "end_time": "2020-12-11T21:32:46.409420Z",
     "start_time": "2020-12-11T21:32:46.405079Z"
    }
   },
   "outputs": [
    {
     "name": "stdout",
     "output_type": "stream",
     "text": [
      "Tasa cero a 1Y 1.1967%\n"
     ]
    }
   ],
   "source": [
    "r_1Y = -math.log(df1Y)/yf_1Y\n",
    "\n",
    "print(f'Tasa cero a 1Y {r_1Y:.4%}')"
   ]
  }
 ],
 "metadata": {
  "hide_input": false,
  "kernelspec": {
   "display_name": "Python 3",
   "language": "python",
   "name": "python3"
  },
  "language_info": {
   "codemirror_mode": {
    "name": "ipython",
    "version": 3
   },
   "file_extension": ".py",
   "mimetype": "text/x-python",
   "name": "python",
   "nbconvert_exporter": "python",
   "pygments_lexer": "ipython3",
   "version": "3.7.3"
  },
  "toc": {
   "base_numbering": "16",
   "nav_menu": {},
   "number_sections": true,
   "sideBar": true,
   "skip_h1_title": false,
   "title_cell": "Table of Contents",
   "title_sidebar": "Contenido",
   "toc_cell": false,
   "toc_position": {
    "height": "calc(100% - 180px)",
    "left": "10px",
    "top": "150px",
    "width": "165px"
   },
   "toc_section_display": true,
   "toc_window_display": true
  },
  "varInspector": {
   "cols": {
    "lenName": 16,
    "lenType": 16,
    "lenVar": 40
   },
   "kernels_config": {
    "python": {
     "delete_cmd_postfix": "",
     "delete_cmd_prefix": "del ",
     "library": "var_list.py",
     "varRefreshCmd": "print(var_dic_list())"
    },
    "r": {
     "delete_cmd_postfix": ") ",
     "delete_cmd_prefix": "rm(",
     "library": "var_list.r",
     "varRefreshCmd": "cat(var_dic_list()) "
    }
   },
   "types_to_exclude": [
    "module",
    "function",
    "builtin_function_or_method",
    "instance",
    "_Feature"
   ],
   "window_display": false
  }
 },
 "nbformat": 4,
 "nbformat_minor": 4
}
