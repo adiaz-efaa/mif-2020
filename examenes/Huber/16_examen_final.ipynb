{
 "cells": [
  {
   "cell_type": "markdown",
   "metadata": {},
   "source": [
    "# Examen Final"
   ]
  },
  {
   "cell_type": "markdown",
   "metadata": {},
   "source": [
    "- Prender cámaras.\n",
    "- Puede utilizar sus apuntes.\n",
    "- Puede utilizar los notebooks del curso.\n",
    "- La alumna o alumno que sea sorprendido solicitando ayuda a cualquier persona, sea ella compañera o no, será calificada con un 2.\n",
    "- Cada pregunta vale un punto.\n",
    "- La nota mínima es un 2.\n",
    "- La nota se determinará con la siguiente fórmula $nota = \\min\\left(puntos + 2, 7\\right)$\n",
    "- Todas las funciones necesarias para resolver los ejercicios están ya importadas al notebook."
   ]
  },
  {
   "cell_type": "markdown",
   "metadata": {},
   "source": [
    "## Librerías"
   ]
  },
  {
   "cell_type": "code",
   "execution_count": 1,
   "metadata": {
    "ExecuteTime": {
     "end_time": "2020-12-20T22:40:52.235690Z",
     "start_time": "2020-12-20T22:40:51.714048Z"
    }
   },
   "outputs": [],
   "source": [
    "from finrisk import examen_final as ef\n",
    "from scipy.interpolate import interp1d\n",
    "\n",
    "import sys\n",
    "sys.path.insert(1, '../../modules')\n",
    "import hull_white as hw\n",
    "\n",
    "import pandas as pd\n",
    "import numpy as np\n",
    "import textwrap\n",
    "import random\n",
    "import math"
   ]
  },
  {
   "cell_type": "markdown",
   "metadata": {},
   "source": [
    "## Curva Cero Cupón"
   ]
  },
  {
   "cell_type": "markdown",
   "metadata": {},
   "source": [
    "Los plazos están en días y las tasas en convención exp act/365."
   ]
  },
  {
   "cell_type": "code",
   "execution_count": 2,
   "metadata": {
    "ExecuteTime": {
     "end_time": "2020-12-20T22:41:01.341317Z",
     "start_time": "2020-12-20T22:41:01.317597Z"
    }
   },
   "outputs": [],
   "source": [
    "df_curva = pd.read_excel('../../data/20201012_built_sofr_zero.xlsx')"
   ]
  },
  {
   "cell_type": "code",
   "execution_count": 3,
   "metadata": {
    "ExecuteTime": {
     "end_time": "2020-12-20T22:41:02.155798Z",
     "start_time": "2020-12-20T22:41:02.139485Z"
    }
   },
   "outputs": [
    {
     "data": {
      "text/html": [
       "<div>\n",
       "<style scoped>\n",
       "    .dataframe tbody tr th:only-of-type {\n",
       "        vertical-align: middle;\n",
       "    }\n",
       "\n",
       "    .dataframe tbody tr th {\n",
       "        vertical-align: top;\n",
       "    }\n",
       "\n",
       "    .dataframe thead th {\n",
       "        text-align: right;\n",
       "    }\n",
       "</style>\n",
       "<table border=\"1\" class=\"dataframe\">\n",
       "  <thead>\n",
       "    <tr style=\"text-align: right;\">\n",
       "      <th></th>\n",
       "      <th>plazo</th>\n",
       "      <th>tasa</th>\n",
       "      <th>df</th>\n",
       "    </tr>\n",
       "  </thead>\n",
       "  <tbody>\n",
       "    <tr>\n",
       "      <th>0</th>\n",
       "      <td>1</td>\n",
       "      <td>0.000811</td>\n",
       "      <td>0.999998</td>\n",
       "    </tr>\n",
       "    <tr>\n",
       "      <th>1</th>\n",
       "      <td>7</td>\n",
       "      <td>0.000841</td>\n",
       "      <td>0.999984</td>\n",
       "    </tr>\n",
       "    <tr>\n",
       "      <th>2</th>\n",
       "      <td>14</td>\n",
       "      <td>0.000780</td>\n",
       "      <td>0.999970</td>\n",
       "    </tr>\n",
       "    <tr>\n",
       "      <th>3</th>\n",
       "      <td>21</td>\n",
       "      <td>0.000774</td>\n",
       "      <td>0.999955</td>\n",
       "    </tr>\n",
       "    <tr>\n",
       "      <th>4</th>\n",
       "      <td>33</td>\n",
       "      <td>0.000781</td>\n",
       "      <td>0.999929</td>\n",
       "    </tr>\n",
       "  </tbody>\n",
       "</table>\n",
       "</div>"
      ],
      "text/plain": [
       "   plazo      tasa        df\n",
       "0      1  0.000811  0.999998\n",
       "1      7  0.000841  0.999984\n",
       "2     14  0.000780  0.999970\n",
       "3     21  0.000774  0.999955\n",
       "4     33  0.000781  0.999929"
      ]
     },
     "execution_count": 3,
     "metadata": {},
     "output_type": "execute_result"
    }
   ],
   "source": [
    "df_curva.head()"
   ]
  },
  {
   "cell_type": "code",
   "execution_count": 4,
   "metadata": {
    "ExecuteTime": {
     "end_time": "2020-12-20T22:41:03.469523Z",
     "start_time": "2020-12-20T22:41:03.465334Z"
    }
   },
   "outputs": [],
   "source": [
    "curva = interp1d(df_curva['plazo'], df_curva['tasa'], 'linear', fill_value='extrapolate')"
   ]
  },
  {
   "cell_type": "markdown",
   "metadata": {},
   "source": [
    "## Cálculo Opción"
   ]
  },
  {
   "cell_type": "markdown",
   "metadata": {},
   "source": [
    "Para identificar si es una Call o una Put se usa un `enum`."
   ]
  },
  {
   "cell_type": "code",
   "execution_count": 5,
   "metadata": {
    "ExecuteTime": {
     "end_time": "2020-12-20T22:41:06.089325Z",
     "start_time": "2020-12-20T22:41:06.086585Z"
    }
   },
   "outputs": [],
   "source": [
    "c_p = hw.CallPut.CALL\n",
    "c_p = hw.CallPut.PUT"
   ]
  },
  {
   "cell_type": "markdown",
   "metadata": {},
   "source": [
    "Ver toda la documentación:"
   ]
  },
  {
   "cell_type": "code",
   "execution_count": 6,
   "metadata": {
    "ExecuteTime": {
     "end_time": "2020-12-20T22:41:07.233255Z",
     "start_time": "2020-12-20T22:41:07.229502Z"
    }
   },
   "outputs": [
    {
     "name": "stdout",
     "output_type": "stream",
     "text": [
      "\n",
      "    Calcula el valor de una call o una put sobre un bono cero cupón en el modelo de HW.\n",
      "    \n",
      "    params:\n",
      "    \n",
      "    - c_p: indica si es la opción es Call o Put. Es un `enum` de tipo CallPut. Ejemplo, c_p = CallPut.CALL.\n",
      "    - strike: es el strike de la opción. Se ingresa como número. Un strike del 90% se ingresa como .9.\n",
      "    - r0: es la tasa corta al momento de valorizar la opción (t = 0).\n",
      "    - to: instante de tiempo en que vence la opción, expresado en años.\n",
      "    - tb: instante de tiempo en que vence el bono subyacente, expresado en años. Debe ser tb > to.\n",
      "    - zo: factor de descuento de mercado a tiempo t = 0 hasta to.\n",
      "    - zb: factor de descuento de mercado a tiempo t = 0 hasta tb.\n",
      "    - gamma: parámetro gamma del modelo HW.\n",
      "    - sigma: parámetro sigma del modelo HW.\n",
      "    \n",
      "    return:\n",
      "    \n",
      "    -  el valor de la opción.\n",
      "    \n"
     ]
    }
   ],
   "source": [
    "print(hw.zcb_call_put.__doc__)"
   ]
  },
  {
   "cell_type": "markdown",
   "metadata": {},
   "source": [
    "## Valores `gamma` y `sigma`"
   ]
  },
  {
   "cell_type": "code",
   "execution_count": 7,
   "metadata": {
    "ExecuteTime": {
     "end_time": "2020-12-20T22:41:09.808903Z",
     "start_time": "2020-12-20T22:41:09.806353Z"
    }
   },
   "outputs": [],
   "source": [
    "gamma = 1\n",
    "sigma = .005"
   ]
  },
  {
   "cell_type": "code",
   "execution_count": 8,
   "metadata": {
    "ExecuteTime": {
     "end_time": "2020-12-20T22:41:10.698881Z",
     "start_time": "2020-12-20T22:41:10.684447Z"
    }
   },
   "outputs": [
    {
     "name": "stdout",
     "output_type": "stream",
     "text": [
      "0.98 0.019553575799963863\n",
      "0.981 0.0185542779311344\n",
      "0.982 0.017554980062305048\n",
      "0.983 0.016555682193475696\n",
      "0.984 0.015556384324646233\n",
      "0.985 0.014557086455816881\n",
      "0.99 0.0095605971116699\n",
      "0.991 0.008561299242840548\n",
      "0.992 0.007562001374011196\n",
      "0.993 0.006562703505181733\n"
     ]
    }
   ],
   "source": [
    "strikes = [.98, .981, .982, .983, .984, .985, .99, .991, .992, .993]\n",
    "for k in strikes:\n",
    "    print(k, hw.zcb_call_put(\n",
    "        hw.CallPut.CALL,\n",
    "        k,\n",
    "        curva(.0001),\n",
    "        1,\n",
    "        2,\n",
    "        math.exp(-curva(365)),\n",
    "        math.exp(-curva(730) * 730 / 365.0),\n",
    "        gamma,\n",
    "        sigma\n",
    "    ))"
   ]
  },
  {
   "cell_type": "markdown",
   "metadata": {},
   "source": [
    "## Preguntas"
   ]
  },
  {
   "cell_type": "code",
   "execution_count": null,
   "metadata": {
    "ExecuteTime": {
     "start_time": "2020-12-11T21:45:25.341Z"
    },
    "hide_input": false
   },
   "outputs": [],
   "source": [
    "try:\n",
    "    q = ef.get_questions()\n",
    "except Exception as e:\n",
    "    print(str(e))"
   ]
  },
  {
   "cell_type": "code",
   "execution_count": null,
   "metadata": {
    "ExecuteTime": {
     "start_time": "2020-12-11T21:45:25.345Z"
    },
    "hide_input": true
   },
   "outputs": [],
   "source": [
    "for qq in q:\n",
    "    print(f'{qq[0]}\\n')\n",
    "    print(textwrap.fill(f'{qq[1]}', 80))\n",
    "    print('\\n')"
   ]
  },
  {
   "cell_type": "markdown",
   "metadata": {},
   "source": [
    "## Respuestas"
   ]
  },
  {
   "cell_type": "markdown",
   "metadata": {},
   "source": []
  },
  {
   "cell_type": "markdown",
   "metadata": {
    "ExecuteTime": {
     "end_time": "2020-12-11T20:12:25.940666Z",
     "start_time": "2020-12-11T20:12:25.927821Z"
    }
   },
   "source": [
    "Verdadero, se puede ver que la fórmula para una put o una call sobre un bono de copún cero es exactamente la misma.\n",
    "\n"
   ]
  },
  {
   "cell_type": "markdown",
   "metadata": {},
   "source": [
    "### Pregunta 1"
   ]
  },
  {
   "cell_type": "markdown",
   "metadata": {
    "ExecuteTime": {
     "end_time": "2020-12-11T21:00:20.224876Z",
     "start_time": "2020-12-11T21:00:20.205539Z"
    }
   },
   "source": [
    "La fórmula para una opción sobre un bono cupón cero en el modelo de Vasicek es\n",
    "la misma que en el modelo de Hull-White. Comente."
   ]
  },
  {
   "cell_type": "markdown",
   "metadata": {},
   "source": [
    "Verdadero, se puede ver que la fórmula para una put o una call sobre un bono de copún cero es exactamente la misma.\n",
    "\n"
   ]
  },
  {
   "cell_type": "markdown",
   "metadata": {},
   "source": [
    "Como se mencionó enteriormente, son iguales, a continuación vemos el ejemplo para una call:\n",
    "\n",
    "$$\n",
    "\\begin{equation}\n",
    "Call\\left(r_0,0\\right)=Z\\left(r_0,0,T_O\\right)\\left[\\frac{Z\\left(r_0,0,T_B\\right)}{Z\\left(r_0,0,T_O\\right)}N\\left(d_1\\right)-KN\\left(d_2\\right)\\right]\n",
    "\\end{equation}\n",
    "$$\n",
    "\n",
    "\n",
    "$$\n",
    "\\begin{equation}\n",
    "d_1=\\frac{\\log\\left(\\frac{Z\\left(r_0,0,T_B\\right)}{KZ\\left(r_0,0,T_O\\right)}\\right)+\\frac{1}{2}S_Z\\left(T_O\\right)^2}{S_Z\\left(T_O\\right)}\n",
    "\\end{equation}\n",
    "$$\n",
    "\n",
    "\n",
    "$$\n",
    "\\begin{equation}\n",
    "d_2=d_1-S_Z\\left(T_O\\right)\n",
    "\\end{equation}\n",
    "$$\n",
    "\n",
    "\n",
    "$$\n",
    "\\begin{equation}\n",
    "S_Z\\left(T_O\\right)=B\\left(T_O,T_B\\right)\\sqrt{\\frac{\\sigma^2}{2\\gamma^*}\\left(1-\\exp\\left(-2\\gamma^* T_O\\right)\\right)}\n",
    "\\end{equation} \n",
    "$$\n",
    "\n",
    "Y para una put:\n",
    "\n",
    "$$\n",
    "\\begin{equation}\n",
    "Put\\left(r_0,0\\right)=Z\\left(r_0,0,T_O\\right)\\left[KN\\left(-d_2\\right)-\\frac{Z\\left(r_0,0,T_B\\right)}{Z\\left(r_0,0,T_O\\right)}N\\left(-d_1\\right)\\right]\n",
    "\\end{equation}\n",
    "$$\n",
    "\n",
    "y los mismos valores anteriores para $d_1$ y $d_2$."
   ]
  },
  {
   "cell_type": "markdown",
   "metadata": {},
   "source": [
    "### Pregunta 2"
   ]
  },
  {
   "cell_type": "markdown",
   "metadata": {},
   "source": [
    "Usando la curva cero cupón entregada y parámetros gamma = 1.0 y sigma = 0.5%\n",
    "valorice una call a 1Y sobre un bono cero cupón a 2Y con un strike de 99.2%.\n",
    "Entregue el resultado 8 decimales y suponiendo un nocional de 1."
   ]
  },
  {
   "cell_type": "code",
   "execution_count": 9,
   "metadata": {
    "ExecuteTime": {
     "end_time": "2020-12-20T22:41:20.243256Z",
     "start_time": "2020-12-20T22:41:20.237742Z"
    }
   },
   "outputs": [],
   "source": [
    "c_p = hw.CallPut.CALL\n",
    "strike = 0.992\n",
    "r0 = curva(0.0001)\n",
    "to = 1\n",
    "tb = 2\n",
    "z0 = math.exp(-curva(365))  # Es la curva a un año= 365 dias\n",
    "zb = math.exp(-curva(730) * 730 / 365.0)\n",
    "gamma = 1.0\n",
    "sigma = 0.005"
   ]
  },
  {
   "cell_type": "code",
   "execution_count": 10,
   "metadata": {
    "ExecuteTime": {
     "end_time": "2020-12-20T22:41:28.028184Z",
     "start_time": "2020-12-20T22:41:28.019324Z"
    }
   },
   "outputs": [
    {
     "name": "stdout",
     "output_type": "stream",
     "text": [
      "El valor de la call es 0.75620014%\n"
     ]
    }
   ],
   "source": [
    "call= hw.zcb_call_put(\n",
    "    c_p, \n",
    "    strike, \n",
    "    r0, \n",
    "    to, \n",
    "    tb, \n",
    "    z0, \n",
    "    zb, \n",
    "    gamma, \n",
    "    sigma\n",
    "    )\n",
    "\n",
    "print(f\"El valor de la call es {call:.8%}\")"
   ]
  },
  {
   "cell_type": "markdown",
   "metadata": {},
   "source": [
    "### Pregunta 3"
   ]
  },
  {
   "cell_type": "markdown",
   "metadata": {},
   "source": [
    "Con la curva cero cupón, interpolando linealmente en tasa, calcule la tasa\n",
    "forward entre 1282 y 2454 días."
   ]
  },
  {
   "cell_type": "code",
   "execution_count": 12,
   "metadata": {
    "ExecuteTime": {
     "end_time": "2020-12-20T22:43:06.293119Z",
     "start_time": "2020-12-20T22:43:06.274448Z"
    }
   },
   "outputs": [],
   "source": [
    "from finrisk import QC_Financial_3 as Qcf"
   ]
  },
  {
   "cell_type": "code",
   "execution_count": 13,
   "metadata": {
    "ExecuteTime": {
     "end_time": "2020-12-20T22:43:09.737243Z",
     "start_time": "2020-12-20T22:43:09.730463Z"
    }
   },
   "outputs": [],
   "source": [
    "def get_curve_from_dataframe(yf: Qcf.QCYearFraction, wf: Qcf.QCWealthFactor,\n",
    "                             df_curva: pd.DataFrame) -> Qcf.ZeroCouponCurve:\n",
    "    \"\"\"\n",
    "    Retorna un objeto Qcf.ZeroCouponCurve. Esta función requiere que `df_curva` tenga una columna\n",
    "    de nombre 'plazo' y una columna de nombre 'tasa'. Se usa interpolación lineal en la curva que\n",
    "    se retorna.\n",
    "    \"\"\"\n",
    "    plazos = Qcf.long_vec()\n",
    "    tasas = Qcf.double_vec()\n",
    "    for row in df_curva.itertuples():\n",
    "        plazos.append(row.plazo)\n",
    "        tasas.append(row.tasa)\n",
    "    curva = Qcf.QCCurve(plazos, tasas)\n",
    "    curva = Qcf.QCLinearInterpolator(curva)\n",
    "    tipo_tasa = Qcf.QCInterestRate(0.0, yf, wf)\n",
    "    curva = Qcf.ZeroCouponCurve(curva, tipo_tasa)\n",
    "    return curva"
   ]
  },
  {
   "cell_type": "code",
   "execution_count": 14,
   "metadata": {
    "ExecuteTime": {
     "end_time": "2020-12-20T22:43:14.326725Z",
     "start_time": "2020-12-20T22:43:14.320540Z"
    }
   },
   "outputs": [],
   "source": [
    "zcc = get_curve_from_dataframe(Qcf.QCAct365(),Qcf.QCCompoundWf(), df_curva)"
   ]
  },
  {
   "cell_type": "code",
   "execution_count": 15,
   "metadata": {
    "ExecuteTime": {
     "end_time": "2020-12-20T22:43:20.477037Z",
     "start_time": "2020-12-20T22:43:20.471132Z"
    }
   },
   "outputs": [
    {
     "name": "stdout",
     "output_type": "stream",
     "text": [
      "Tasa a 1172 días es igual a 0.08543635%\n"
     ]
    }
   ],
   "source": [
    "plazo = 2454-1282\n",
    "print(f\"Tasa a {plazo} días es igual a {zcc.get_rate_at(plazo):.8%}\")"
   ]
  },
  {
   "cell_type": "markdown",
   "metadata": {},
   "source": [
    "### Pregunta 4"
   ]
  },
  {
   "cell_type": "markdown",
   "metadata": {
    "ExecuteTime": {
     "end_time": "2020-12-11T20:27:54.602395Z",
     "start_time": "2020-12-11T20:27:54.591946Z"
    }
   },
   "source": [
    "Calcule la TNA con ICP0 = 10,000.00 e ICP365 = 10,044.00 (365 días después).\n",
    "\n",
    "\n",
    "De esta forma la tasa utilizada para calcular el pago de un cupón entre las fechas $T > t$ de la pata flotante de un swap cámara promedio $(TNA)$ se determina a través de:\n",
    "\n",
    "$$TNA=Round\\left(\\left( \\frac{ICP_{T}}{ICP_{t}}-1\\right)\\cdot\\frac{360}{d},4\\right)$$\n",
    "\n",
    "Donde:\n",
    "\n",
    "- TNA: significa *tasa nominal anual*.\n",
    "- $ICP_{\\tau}$: es el valor del $ICP$ la fecha $\\tau=t,T$.\n",
    "- $d$ es el número de días entre $t$ y $T$.\n",
    "- $Round\\left(x,4\\right)$ redondea el número $x$ a 4 decimales."
   ]
  },
  {
   "cell_type": "code",
   "execution_count": 16,
   "metadata": {
    "ExecuteTime": {
     "end_time": "2020-12-20T22:43:35.799803Z",
     "start_time": "2020-12-20T22:43:35.794485Z"
    }
   },
   "outputs": [
    {
     "name": "stdout",
     "output_type": "stream",
     "text": [
      "El TNA es:  0.0043\n"
     ]
    }
   ],
   "source": [
    "ICP0= 10000.000\n",
    "ICP365= 10044.00\n",
    "d=365\n",
    "\n",
    "TNA= round(((ICP365/ICP0)-1)*360/d,4) #Se redondea a 4 decimales\n",
    "\n",
    "print(f\"El TNA es: {TNA: .8}\")"
   ]
  },
  {
   "cell_type": "markdown",
   "metadata": {
    "ExecuteTime": {
     "end_time": "2020-12-11T02:18:04.908007Z",
     "start_time": "2020-12-11T02:18:04.905073Z"
    }
   },
   "source": [
    "### Pregunta 5"
   ]
  },
  {
   "cell_type": "markdown",
   "metadata": {},
   "source": [
    "Explique la diferencia entre valorizar un payoff g(r(T), T) por simulación de\n",
    "Montecarlo utilizando el modelo de Hull-White en la medida libre de riesgo y el\n",
    "modelo de Hull-White en la medida T-forward."
   ]
  },
  {
   "cell_type": "markdown",
   "metadata": {},
   "source": [
    "La principal diferencia es como se calcula el theta.\n",
    "\n",
    "Por simulación de Montecarlo utilizando el modelo de Hull-White se calcula de la siguiente manera:\n",
    "    \n",
    "$$\n",
    "\\begin{equation}\n",
    "\\theta_t=\\frac{\\partial f\\left(0,t\\right)}{\\partial t}+\\gamma^*f\\left(0,t\\right)+\\frac{\\sigma^2}{2\\gamma^*}\\left[1-\\exp\\left(-2\\gamma^* t\\right)\\right]\n",
    "\\end{equation}\n",
    "$$\n",
    "\n",
    "Utilizando la medida T-forward de la siguiente forma:\n",
    "\n",
    "Para simular, puedo utilizar las funciones del notebook 13, considerando un nuevo $\\theta_t$ sea éste $\\overline{\\theta_t}$, dado por la siguiente fórmula:\n",
    "\n",
    "$$\n",
    "\\overline{\\theta_t}=\\theta_t-B\\left(t,T\\right)\\sigma^2\n",
    "$$"
   ]
  },
  {
   "cell_type": "markdown",
   "metadata": {},
   "source": [
    "### Pregunta 6"
   ]
  },
  {
   "cell_type": "markdown",
   "metadata": {},
   "source": [
    "Considere un swap a 1Y con cupones semestrales de 1.4% (lineal). Si la tasa\n",
    "cupón cero a 0.5Y es 1.3% (exp), calcule la tasa cero a 1Y."
   ]
  },
  {
   "cell_type": "code",
   "execution_count": null,
   "metadata": {},
   "outputs": [],
   "source": []
  },
  {
   "cell_type": "markdown",
   "metadata": {},
   "source": [
    "### Pregunta 7"
   ]
  },
  {
   "cell_type": "markdown",
   "metadata": {},
   "source": [
    "Calcule un paso de simulación de Montecarlo para el modelo de Vasicek usando\n",
    "gamma = 1.0, sigma = 0.5%, dt = 1/264, r0 obtenido de la curva cupón cero\n",
    "entregada y número aleatorio N(0, 1) igual a .447 ."
   ]
  },
  {
   "cell_type": "code",
   "execution_count": 17,
   "metadata": {
    "ExecuteTime": {
     "end_time": "2020-12-20T22:44:21.652904Z",
     "start_time": "2020-12-20T22:44:21.643810Z"
    }
   },
   "outputs": [
    {
     "data": {
      "text/plain": [
       "[(0, 0.0008111102098831921), (0.003787878787878788, 0.0009645319578333419)]"
      ]
     },
     "execution_count": 17,
     "metadata": {},
     "output_type": "execute_result"
    }
   ],
   "source": [
    "r0= df_curva['tasa'][0]\n",
    "r_= 0.005\n",
    "gamma=1.0\n",
    "sigma= 0.005\n",
    "dt= 1/264\n",
    "n_aleatorio= 0.447\n",
    "\n",
    "#Simulación de MC\n",
    "dt_gamma_r_ = dt * gamma * r_\n",
    "sigma_sqdt = sigma * math.sqrt(dt)\n",
    "result = [(0, r0),]\n",
    "gamma_dt = gamma * dt\n",
    "\n",
    "#Cálculo de un paso de dimulación de MC\n",
    "r = r0\n",
    "for i in range(1,2):\n",
    "    r = dt_gamma_r_ + (1 - gamma_dt) * r + sigma_sqdt * n_aleatorio # Discretización de Euler\n",
    "    result.append((i * dt, r))\n",
    "\n",
    "result\n",
    "\n",
    "# El resultado es un `list` donde cada elemento es una `tuple` con los valores del tiempo y la tasa simulada.\n"
   ]
  }
 ],
 "metadata": {
  "hide_input": false,
  "kernelspec": {
   "display_name": "Python 3",
   "language": "python",
   "name": "python3"
  },
  "language_info": {
   "codemirror_mode": {
    "name": "ipython",
    "version": 3
   },
   "file_extension": ".py",
   "mimetype": "text/x-python",
   "name": "python",
   "nbconvert_exporter": "python",
   "pygments_lexer": "ipython3",
   "version": "3.7.3"
  },
  "toc": {
   "base_numbering": "16",
   "nav_menu": {},
   "number_sections": true,
   "sideBar": true,
   "skip_h1_title": false,
   "title_cell": "Table of Contents",
   "title_sidebar": "Contenido",
   "toc_cell": false,
   "toc_position": {
    "height": "calc(100% - 180px)",
    "left": "10px",
    "top": "150px",
    "width": "165px"
   },
   "toc_section_display": true,
   "toc_window_display": true
  }
 },
 "nbformat": 4,
 "nbformat_minor": 4
}
