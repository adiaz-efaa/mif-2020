{
 "cells": [
  {
   "cell_type": "markdown",
   "metadata": {},
   "source": [
    "# Examen Final"
   ]
  },
  {
   "cell_type": "markdown",
   "metadata": {},
   "source": [
    "- Prender cámaras.\n",
    "- Puede utilizar sus apuntes.\n",
    "- Puede utilizar los notebooks del curso.\n",
    "- La alumna o alumno que sea sorprendido solicitando ayuda a cualquier persona, sea ella compañera o no, será calificada con un 2.\n",
    "- Cada pregunta vale un punto.\n",
    "- La nota mínima es un 2.\n",
    "- La nota se determinará con la siguiente fórmula $nota = \\min\\left(puntos + 2, 7\\right)$\n",
    "- Todas las funciones necesarias para resolver los ejercicios están ya importadas al notebook."
   ]
  },
  {
   "cell_type": "markdown",
   "metadata": {},
   "source": [
    "## Librerías"
   ]
  },
  {
   "cell_type": "code",
   "execution_count": 1,
   "metadata": {
    "ExecuteTime": {
     "end_time": "2020-12-11T20:08:57.132468Z",
     "start_time": "2020-12-11T20:08:56.284703Z"
    }
   },
   "outputs": [],
   "source": [
    "from finrisk import examen_final as ef\n",
    "from scipy.interpolate import interp1d\n",
    "import modules.hull_white as hw\n",
    "import pandas as pd\n",
    "import numpy as np\n",
    "import textwrap\n",
    "import random\n",
    "import math"
   ]
  },
  {
   "cell_type": "markdown",
   "metadata": {},
   "source": [
    "## Curva Cero Cupón"
   ]
  },
  {
   "cell_type": "markdown",
   "metadata": {},
   "source": [
    "Los plazos están en días y las tasas en convención exp act/365."
   ]
  },
  {
   "cell_type": "code",
   "execution_count": 2,
   "metadata": {
    "ExecuteTime": {
     "end_time": "2020-12-11T20:08:57.161281Z",
     "start_time": "2020-12-11T20:08:57.136042Z"
    }
   },
   "outputs": [],
   "source": [
    "df_curva = pd.read_excel('data/20201012_built_sofr_zero.xlsx')"
   ]
  },
  {
   "cell_type": "code",
   "execution_count": 14,
   "metadata": {
    "ExecuteTime": {
     "end_time": "2020-12-11T20:18:12.158457Z",
     "start_time": "2020-12-11T20:18:12.148180Z"
    }
   },
   "outputs": [
    {
     "data": {
      "text/html": [
       "<div>\n",
       "<style scoped>\n",
       "    .dataframe tbody tr th:only-of-type {\n",
       "        vertical-align: middle;\n",
       "    }\n",
       "\n",
       "    .dataframe tbody tr th {\n",
       "        vertical-align: top;\n",
       "    }\n",
       "\n",
       "    .dataframe thead th {\n",
       "        text-align: right;\n",
       "    }\n",
       "</style>\n",
       "<table border=\"1\" class=\"dataframe\">\n",
       "  <thead>\n",
       "    <tr style=\"text-align: right;\">\n",
       "      <th></th>\n",
       "      <th>plazo</th>\n",
       "      <th>tasa</th>\n",
       "      <th>df</th>\n",
       "    </tr>\n",
       "  </thead>\n",
       "  <tbody>\n",
       "    <tr>\n",
       "      <th>0</th>\n",
       "      <td>1</td>\n",
       "      <td>0.000811</td>\n",
       "      <td>0.999998</td>\n",
       "    </tr>\n",
       "    <tr>\n",
       "      <th>1</th>\n",
       "      <td>7</td>\n",
       "      <td>0.000841</td>\n",
       "      <td>0.999984</td>\n",
       "    </tr>\n",
       "    <tr>\n",
       "      <th>2</th>\n",
       "      <td>14</td>\n",
       "      <td>0.000780</td>\n",
       "      <td>0.999970</td>\n",
       "    </tr>\n",
       "    <tr>\n",
       "      <th>3</th>\n",
       "      <td>21</td>\n",
       "      <td>0.000774</td>\n",
       "      <td>0.999955</td>\n",
       "    </tr>\n",
       "    <tr>\n",
       "      <th>4</th>\n",
       "      <td>33</td>\n",
       "      <td>0.000781</td>\n",
       "      <td>0.999929</td>\n",
       "    </tr>\n",
       "  </tbody>\n",
       "</table>\n",
       "</div>"
      ],
      "text/plain": [
       "   plazo      tasa        df\n",
       "0      1  0.000811  0.999998\n",
       "1      7  0.000841  0.999984\n",
       "2     14  0.000780  0.999970\n",
       "3     21  0.000774  0.999955\n",
       "4     33  0.000781  0.999929"
      ]
     },
     "execution_count": 14,
     "metadata": {},
     "output_type": "execute_result"
    }
   ],
   "source": [
    "df_curva.head()\n"
   ]
  },
  {
   "cell_type": "code",
   "execution_count": 4,
   "metadata": {
    "ExecuteTime": {
     "end_time": "2020-12-11T20:08:57.188689Z",
     "start_time": "2020-12-11T20:08:57.184034Z"
    }
   },
   "outputs": [],
   "source": [
    "curva = interp1d(df_curva['plazo'], df_curva['tasa'], 'linear', fill_value='extrapolate')"
   ]
  },
  {
   "cell_type": "markdown",
   "metadata": {},
   "source": [
    "## Cálculo Opción"
   ]
  },
  {
   "cell_type": "markdown",
   "metadata": {},
   "source": [
    "Para identificar si es una Call o una Put se usa un `enum`."
   ]
  },
  {
   "cell_type": "code",
   "execution_count": 5,
   "metadata": {
    "ExecuteTime": {
     "end_time": "2020-12-11T20:08:57.196984Z",
     "start_time": "2020-12-11T20:08:57.193145Z"
    }
   },
   "outputs": [],
   "source": [
    "c_p = hw.CallPut.CALL\n",
    "c_p = hw.CallPut.PUT"
   ]
  },
  {
   "cell_type": "markdown",
   "metadata": {},
   "source": [
    "Ver toda la documentación:"
   ]
  },
  {
   "cell_type": "code",
   "execution_count": 6,
   "metadata": {
    "ExecuteTime": {
     "end_time": "2020-12-11T20:08:57.204593Z",
     "start_time": "2020-12-11T20:08:57.200222Z"
    }
   },
   "outputs": [
    {
     "name": "stdout",
     "output_type": "stream",
     "text": [
      "\n",
      "    Calcula el valor de una call o una put sobre un bono cero cupón en el modelo de HW.\n",
      "    \n",
      "    params:\n",
      "    \n",
      "    - c_p: indica si es la opción es Call o Put. Es un `enum` de tipo CallPut. Ejemplo, c_p = CallPut.CALL.\n",
      "    - strike: es el strike de la opción. Se ingresa como número. Un strike del 90% se ingresa como .9.\n",
      "    - r0: es la tasa corta al momento de valorizar la opción (t = 0).\n",
      "    - to: instante de tiempo en que vence la opción, expresado en años.\n",
      "    - tb: instante de tiempo en que vence el bono subyacente, expresado en años. Debe ser tb > to.\n",
      "    - zo: factor de descuento de mercado a tiempo t = 0 hasta to.\n",
      "    - zb: factor de descuento de mercado a tiempo t = 0 hasta tb.\n",
      "    - gamma: parámetro gamma del modelo HW.\n",
      "    - sigma: parámetro sigma del modelo HW.\n",
      "    \n",
      "    return:\n",
      "    \n",
      "    -  el valor de la opción.\n",
      "    \n"
     ]
    }
   ],
   "source": [
    "print(hw.zcb_call_put.__doc__)"
   ]
  },
  {
   "cell_type": "markdown",
   "metadata": {},
   "source": [
    "## Valores `gamma` y `sigma`"
   ]
  },
  {
   "cell_type": "code",
   "execution_count": 7,
   "metadata": {
    "ExecuteTime": {
     "end_time": "2020-12-11T20:08:57.211008Z",
     "start_time": "2020-12-11T20:08:57.207694Z"
    }
   },
   "outputs": [],
   "source": [
    "gamma = 1\n",
    "sigma = .005"
   ]
  },
  {
   "cell_type": "code",
   "execution_count": 8,
   "metadata": {
    "ExecuteTime": {
     "end_time": "2020-12-11T20:08:57.246214Z",
     "start_time": "2020-12-11T20:08:57.213312Z"
    }
   },
   "outputs": [
    {
     "name": "stdout",
     "output_type": "stream",
     "text": [
      "0.98 0.019553575799963863\n",
      "0.981 0.0185542779311344\n",
      "0.982 0.017554980062305048\n",
      "0.983 0.016555682193475696\n",
      "0.984 0.015556384324646233\n",
      "0.985 0.014557086455816881\n",
      "0.99 0.0095605971116699\n",
      "0.991 0.008561299242840548\n",
      "0.992 0.007562001374011196\n",
      "0.993 0.006562703505181733\n"
     ]
    }
   ],
   "source": [
    "strikes = [.98, .981, .982, .983, .984, .985, .99, .991, .992, .993]\n",
    "for k in strikes:\n",
    "    print(k, hw.zcb_call_put(\n",
    "        hw.CallPut.CALL,\n",
    "        k,\n",
    "        curva(.0001),\n",
    "        1,\n",
    "        2,\n",
    "        math.exp(-curva(365)),\n",
    "        math.exp(-curva(730) * 730 / 365.0),\n",
    "        gamma,\n",
    "        sigma\n",
    "    ))"
   ]
  },
  {
   "cell_type": "markdown",
   "metadata": {},
   "source": [
    "## Preguntas"
   ]
  },
  {
   "cell_type": "code",
   "execution_count": 9,
   "metadata": {
    "ExecuteTime": {
     "end_time": "2020-12-11T20:08:57.253766Z",
     "start_time": "2020-12-11T20:08:57.249033Z"
    },
    "hide_input": false
   },
   "outputs": [],
   "source": [
    "try:\n",
    "    q = ef.get_questions()\n",
    "except Exception as e:\n",
    "    print(str(e))"
   ]
  },
  {
   "cell_type": "code",
   "execution_count": 10,
   "metadata": {
    "ExecuteTime": {
     "end_time": "2020-12-11T20:08:57.263166Z",
     "start_time": "2020-12-11T20:08:57.256454Z"
    },
    "hide_input": true
   },
   "outputs": [
    {
     "name": "stdout",
     "output_type": "stream",
     "text": [
      "Pregunta 1:\n",
      "\n",
      "Considere un swap a 1Y con cupones semestrales de 1.5% (lineal). Si la tasa\n",
      "cupón cero a 0.5Y es 1.4% (exp), calcule la tasa cero a 1Y.\n",
      "\n",
      "\n",
      "Pregunta 2:\n",
      "\n",
      "Calcule la TNA con ICP0 = 10,000.00 e ICP365 = 10,010.00 (365 días después).\n",
      "\n",
      "\n",
      "Pregunta 3:\n",
      "\n",
      "Una opción sobre un bono cupón cero valorizada con el modelo de Vasicek vale lo\n",
      "mismo que la misma opción valorizada con el modelo de Hull-White. Comente.\n",
      "\n",
      "\n",
      "Pregunta 4:\n",
      "\n",
      "Usando la curva cero cupón entregada y parámetros gamma = 1.0 y sigma = 0.5%\n",
      "valorice una call a 1Y sobre un bono cero cupón a 2Y con un strike de 99.1%.\n",
      "Entregue el resultado 8 decimales y suponiendo un nocional de 1.\n",
      "\n",
      "\n",
      "Pregunta 5:\n",
      "\n",
      "Explique la diferencia entre valorizar un payoff g(r(T), T) por simulación de\n",
      "Montecarlo utilizando el modelo de Hull-White en la medida libre de riesgo y el\n",
      "modelo de Hull-White en la medida T-forward.\n",
      "\n",
      "\n",
      "Pregunta 6:\n",
      "\n",
      "Calcule un paso de simulación de Montecarlo para el modelo de Vasicek usando\n",
      "gamma = 1.0, sigma = 0.5%, dt = 1/264, r0 obtenido de la curva cupón cero\n",
      "entregada y número aleatorio N(0, 1) igual a -.5797 .\n",
      "\n",
      "\n",
      "Pregunta 7:\n",
      "\n",
      "Con la curva cero cupón, interpolando linealmente en tasa, calcule la tasa\n",
      "forward entre 382 y 554 días.\n",
      "\n",
      "\n"
     ]
    }
   ],
   "source": [
    "for qq in q:\n",
    "    print(f'{qq[0]}\\n')\n",
    "    print(textwrap.fill(f'{qq[1]}', 80))\n",
    "    print('\\n')"
   ]
  },
  {
   "cell_type": "markdown",
   "metadata": {},
   "source": [
    "## Respuestas"
   ]
  },
  {
   "cell_type": "markdown",
   "metadata": {},
   "source": []
  },
  {
   "cell_type": "code",
   "execution_count": null,
   "metadata": {},
   "outputs": [],
   "source": []
  },
  {
   "cell_type": "markdown",
   "metadata": {},
   "source": [
    "EXÁMEN ARTURO MORALES VIDELA\n"
   ]
  },
  {
   "cell_type": "markdown",
   "metadata": {},
   "source": [
    "### Pregunta 1"
   ]
  },
  {
   "cell_type": "code",
   "execution_count": 66,
   "metadata": {
    "ExecuteTime": {
     "end_time": "2020-12-11T21:35:58.975412Z",
     "start_time": "2020-12-11T21:35:58.969448Z"
    }
   },
   "outputs": [
    {
     "name": "stdout",
     "output_type": "stream",
     "text": [
      " Tasa cero a 1Y: 0.025549105791734767\n"
     ]
    }
   ],
   "source": [
    "tasa_05Y = 0.014\n",
    "tasa_1Y = math.log(1 + tasa_05Y / 100 * 180 / 360)* 365.0 / 1\n",
    "\n",
    "print(f' Tasa cero a 1Y: {tasa_1Y}')"
   ]
  },
  {
   "cell_type": "markdown",
   "metadata": {},
   "source": [
    "### Pregunta 2"
   ]
  },
  {
   "cell_type": "code",
   "execution_count": 67,
   "metadata": {
    "ExecuteTime": {
     "end_time": "2020-12-11T21:36:02.600743Z",
     "start_time": "2020-12-11T21:36:02.595033Z"
    }
   },
   "outputs": [
    {
     "name": "stdout",
     "output_type": "stream",
     "text": [
      "Tasa nominal anual a 365 días: 0.000986301369862905\n"
     ]
    }
   ],
   "source": [
    "ICP_0 = 10000\n",
    "ICP_365 = 10010\n",
    "\n",
    "TNA = ((ICP_365/ICP_0)-1)*360/365\n",
    "\n",
    "print(f'Tasa nominal anual a 365 días: {TNA}')\n"
   ]
  },
  {
   "cell_type": "markdown",
   "metadata": {},
   "source": [
    "### Pregunta 3"
   ]
  },
  {
   "cell_type": "markdown",
   "metadata": {
    "ExecuteTime": {
     "end_time": "2020-12-11T20:26:52.010714Z",
     "start_time": "2020-12-11T20:26:52.005293Z"
    }
   },
   "source": [
    " Falso, porque el modelo de Vasicek tiene dificultades para calcular la curva cupón cero , mientras que el modelo de Hull White\n",
    " no tiene dichas dificultades, de hecho, el modelo de Hull-White se considera una extensión del modelo de Vasicek.\n",
    " Al tener distintas maneras de calcular la curva, los factores de descuento no serán los mismos valores ni tampoco las\n",
    " tasas esperadas, por lo cual los payoff descontados pueden ser distintos para ambos modelos, lo que significa que los \n",
    " precios de las opciones sobre un bono cero cupón pueden diferir.\n",
    " \n",
    " Otra diferencia entre ambos modelos es que el modelo de Hull White permite adoptar la medida Forward para valorizar opciones,\n",
    " lo cual permite descontar payoff simplemente a la tasa de mercado simulada de la fecha de expiración de la opción.\n",
    "\n"
   ]
  },
  {
   "cell_type": "markdown",
   "metadata": {},
   "source": [
    "### Pregunta 4"
   ]
  },
  {
   "cell_type": "code",
   "execution_count": 68,
   "metadata": {
    "ExecuteTime": {
     "end_time": "2020-12-11T21:36:04.821544Z",
     "start_time": "2020-12-11T21:36:04.813305Z"
    }
   },
   "outputs": [
    {
     "name": "stdout",
     "output_type": "stream",
     "text": [
      "Precio opción Call a 1Y sobre bono cero cupón a 2Y:  0.00856130\n"
     ]
    }
   ],
   "source": [
    "P_opcion = hw.zcb_call_put(\n",
    "        hw.CallPut.CALL,\n",
    "        0.991,\n",
    "        curva(.0001),\n",
    "        1,\n",
    "        2,\n",
    "        math.exp(-curva(365)),\n",
    "        math.exp(-curva(730) * 730 / 365.0),\n",
    "        gamma,\n",
    "        sigma\n",
    "    )\n",
    "\n",
    "print(f'Precio opción Call a 1Y sobre bono cero cupón a 2Y:  {\"{:.8f}\".format(P_opcion)}')"
   ]
  },
  {
   "cell_type": "markdown",
   "metadata": {
    "ExecuteTime": {
     "end_time": "2020-12-11T02:18:04.908007Z",
     "start_time": "2020-12-11T02:18:04.905073Z"
    }
   },
   "source": [
    "### Pregunta 5"
   ]
  },
  {
   "cell_type": "markdown",
   "metadata": {},
   "source": [
    "La principal diferencia entre plantear una simulación de Montecarlo con una medida forward contra una medida libre de \n",
    " riesgo radica en que, en el caso de la medida forward, debemos simular N trayectoria de tasas, luego con la tasa del \n",
    " período final se calcula un payoff con el precio Strike, y ese payoff se descuenta a la tasa del período de expiración\n",
    " en el paso final de los \"número de steps\". Al hacer esto, podemos obtener un total de N payoffs descontados, a los cuales\n",
    " se les calcula el promedio y obtenemos finalmente el precio de la opción simulado por MC con N trayectorias. \n",
    " Por ejemplo, si tenemos 264 pasos para una opción a 1 año, simulamos las tasas, luego con las tasas del paso\n",
    " 264 calculamos el payoff, calculamos el factor de dscto al paso 264 y lo descontamos. Se hace esto N veces y se calcula\n",
    " el promedio de todos los payoff descontados.\n",
    "\n",
    " En el caso de la medida libre de riesgo, lo que debemos hacer es simular N trayectorias de factores de descuento \n",
    " hasta llegar a la expiración de la opción, con la diferencia de que ahora será necesario componer en el tiempo \n",
    " todos los factores obtenidos en los saltos de tiempo. Esto se logra multiplicando los factores de descuento del paso\n",
    " 1 hasta el paso paso \"final-1 \", es decir, si hacemos 264 pasos, componemos los factores de descuento hasta el \n",
    " paso 263, luego con esos factores compuestos, se obtiene el factor al cual descontamos los payoff y además la tasa\n",
    " que se compara con el strike. Esto lo tenemos un total de N veces, luego, promediamos los N payoff descontados y obtenemos\n",
    " el precio simulado de la opción."
   ]
  },
  {
   "cell_type": "markdown",
   "metadata": {},
   "source": [
    "### Pregunta 6"
   ]
  },
  {
   "cell_type": "code",
   "execution_count": 69,
   "metadata": {
    "ExecuteTime": {
     "end_time": "2020-12-11T21:36:09.811336Z",
     "start_time": "2020-12-11T21:36:09.801786Z"
    }
   },
   "outputs": [
    {
     "name": "stdout",
     "output_type": "stream",
     "text": [
      "Un paso de simulación de Vasicek: 0.0006278208743051043\n"
     ]
    }
   ],
   "source": [
    "r_ = curva(0.0001)\n",
    "dt = 1 / 264\n",
    "dt_gamma_r_ = dt * gamma * r_\n",
    "sigma_sqdt = sigma * math.sqrt(dt)\n",
    "result = [(0, r_),]\n",
    "gamma_dt = gamma * dt\n",
    "    \n",
    "r = dt_gamma_r_ + (1 - gamma_dt) * r_ + sigma_sqdt * (-.5797) # Discretización de Euler\n",
    "\n",
    "\n",
    "print(f'Un paso de simulación de Vasicek: {r}')"
   ]
  },
  {
   "cell_type": "markdown",
   "metadata": {},
   "source": [
    "### Pregunta 7"
   ]
  },
  {
   "cell_type": "code",
   "execution_count": 70,
   "metadata": {
    "ExecuteTime": {
     "end_time": "2020-12-11T21:36:11.819625Z",
     "start_time": "2020-12-11T21:36:11.810048Z"
    }
   },
   "outputs": [
    {
     "name": "stdout",
     "output_type": "stream",
     "text": [
      "Tasa forward entre 382 y 554 días: 0.0005101914539272275\n"
     ]
    }
   ],
   "source": [
    "#Con la curva cero cupón, interpolando linealmente en tasa, calcule la tasa\n",
    "#forward entre 382 y 554 días.\n",
    "t1 = 382\n",
    "t2 = 554\n",
    "r1 = curva(t1)\n",
    "r2 = curva(t2)\n",
    "df1 = math.exp(-r1*t1/365)\n",
    "df2 = math.exp(-r2*t2/365)\n",
    "tasa_fwd = (df1/df2-1)*365/(t2-t1) #tasa forward\n",
    "print(f'Tasa forward entre 382 y 554 días: {tasa_fwd}')"
   ]
  },
  {
   "cell_type": "code",
   "execution_count": null,
   "metadata": {},
   "outputs": [],
   "source": []
  }
 ],
 "metadata": {
  "hide_input": false,
  "kernelspec": {
   "display_name": "Python 3",
   "language": "python",
   "name": "python3"
  },
  "language_info": {
   "codemirror_mode": {
    "name": "ipython",
    "version": 3
   },
   "file_extension": ".py",
   "mimetype": "text/x-python",
   "name": "python",
   "nbconvert_exporter": "python",
   "pygments_lexer": "ipython3",
   "version": "3.7.3"
  },
  "toc": {
   "base_numbering": "16",
   "nav_menu": {},
   "number_sections": true,
   "sideBar": true,
   "skip_h1_title": false,
   "title_cell": "Table of Contents",
   "title_sidebar": "Contenido",
   "toc_cell": false,
   "toc_position": {
    "height": "calc(100% - 180px)",
    "left": "10px",
    "top": "150px",
    "width": "165px"
   },
   "toc_section_display": true,
   "toc_window_display": true
  }
 },
 "nbformat": 4,
 "nbformat_minor": 4
}
