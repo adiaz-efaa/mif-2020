{
 "cells": [
  {
   "cell_type": "markdown",
   "metadata": {},
   "source": [
    "# Ejemplo CVA"
   ]
  },
  {
   "cell_type": "markdown",
   "metadata": {},
   "source": [
    "Se calcula el CVA de un swap."
   ]
  },
  {
   "cell_type": "markdown",
   "metadata": {},
   "source": [
    "## Librerías"
   ]
  },
  {
   "cell_type": "markdown",
   "metadata": {},
   "source": [
    "Las funciones relacionadas con el modelo de Hull-White que definimos y utilizamos en los notebooks 13 y 14 han sido mejoradas y encapsuladas en el módulo `hull_white.py`.\n",
    "\n",
    "La función `bono_tasa_fija` se trasladó al nuevo módulo `instruments.py`."
   ]
  },
  {
   "cell_type": "code",
   "execution_count": 72,
   "metadata": {
    "ExecuteTime": {
     "end_time": "2020-11-27T19:43:48.649360Z",
     "start_time": "2020-11-27T19:43:48.643264Z"
    }
   },
   "outputs": [],
   "source": [
    "from modules import instruments as inst\n",
    "from modules import hull_white as hw\n",
    "from modules import auxiliary as aux\n",
    "import pandas as pd\n",
    "import numpy as np"
   ]
  },
  {
   "cell_type": "markdown",
   "metadata": {},
   "source": [
    "## Data Curva"
   ]
  },
  {
   "cell_type": "code",
   "execution_count": 2,
   "metadata": {
    "ExecuteTime": {
     "end_time": "2020-11-27T18:32:49.126636Z",
     "start_time": "2020-11-27T18:32:49.068817Z"
    }
   },
   "outputs": [],
   "source": [
    "df_curva = pd.read_excel('data/20201012_built_sofr_zero.xlsx')"
   ]
  },
  {
   "cell_type": "code",
   "execution_count": 3,
   "metadata": {
    "ExecuteTime": {
     "end_time": "2020-11-27T18:32:49.388155Z",
     "start_time": "2020-11-27T18:32:49.378876Z"
    }
   },
   "outputs": [],
   "source": [
    "df_curva['t'] = df_curva['plazo'] / 365.0"
   ]
  },
  {
   "cell_type": "code",
   "execution_count": 4,
   "metadata": {
    "ExecuteTime": {
     "end_time": "2020-11-27T18:32:50.084703Z",
     "start_time": "2020-11-27T18:32:50.043412Z"
    }
   },
   "outputs": [
    {
     "data": {
      "text/html": [
       "<div>\n",
       "<style scoped>\n",
       "    .dataframe tbody tr th:only-of-type {\n",
       "        vertical-align: middle;\n",
       "    }\n",
       "\n",
       "    .dataframe tbody tr th {\n",
       "        vertical-align: top;\n",
       "    }\n",
       "\n",
       "    .dataframe thead th {\n",
       "        text-align: right;\n",
       "    }\n",
       "</style>\n",
       "<table border=\"1\" class=\"dataframe\">\n",
       "  <thead>\n",
       "    <tr style=\"text-align: right;\">\n",
       "      <th></th>\n",
       "      <th>plazo</th>\n",
       "      <th>tasa</th>\n",
       "      <th>df</th>\n",
       "      <th>t</th>\n",
       "    </tr>\n",
       "  </thead>\n",
       "  <tbody>\n",
       "    <tr>\n",
       "      <th>0</th>\n",
       "      <td>1</td>\n",
       "      <td>0.000811</td>\n",
       "      <td>0.999998</td>\n",
       "      <td>0.002740</td>\n",
       "    </tr>\n",
       "    <tr>\n",
       "      <th>1</th>\n",
       "      <td>7</td>\n",
       "      <td>0.000841</td>\n",
       "      <td>0.999984</td>\n",
       "      <td>0.019178</td>\n",
       "    </tr>\n",
       "    <tr>\n",
       "      <th>2</th>\n",
       "      <td>14</td>\n",
       "      <td>0.000780</td>\n",
       "      <td>0.999970</td>\n",
       "      <td>0.038356</td>\n",
       "    </tr>\n",
       "    <tr>\n",
       "      <th>3</th>\n",
       "      <td>21</td>\n",
       "      <td>0.000774</td>\n",
       "      <td>0.999955</td>\n",
       "      <td>0.057534</td>\n",
       "    </tr>\n",
       "    <tr>\n",
       "      <th>4</th>\n",
       "      <td>33</td>\n",
       "      <td>0.000781</td>\n",
       "      <td>0.999929</td>\n",
       "      <td>0.090411</td>\n",
       "    </tr>\n",
       "  </tbody>\n",
       "</table>\n",
       "</div>"
      ],
      "text/plain": [
       "   plazo      tasa        df         t\n",
       "0      1  0.000811  0.999998  0.002740\n",
       "1      7  0.000841  0.999984  0.019178\n",
       "2     14  0.000780  0.999970  0.038356\n",
       "3     21  0.000774  0.999955  0.057534\n",
       "4     33  0.000781  0.999929  0.090411"
      ]
     },
     "execution_count": 4,
     "metadata": {},
     "output_type": "execute_result"
    }
   ],
   "source": [
    "df_curva.head()"
   ]
  },
  {
   "cell_type": "markdown",
   "metadata": {},
   "source": [
    "## Funciones para el Modelo de HW"
   ]
  },
  {
   "cell_type": "markdown",
   "metadata": {},
   "source": [
    "- `zrate`: es el cubic spline construido a partir de las columnas `t` y `tasa` de `df_curva`.\n",
    "- `hwz`: es una versión más sencilla de la función `zero_hw` que sólo requiere llos parámetros `r`, `t` y `T`.\n",
    "- `theta`: es la misma función que ya utilizamos."
   ]
  },
  {
   "cell_type": "code",
   "execution_count": 53,
   "metadata": {
    "ExecuteTime": {
     "end_time": "2020-11-27T19:32:18.814102Z",
     "start_time": "2020-11-27T19:32:18.807288Z"
    }
   },
   "outputs": [],
   "source": [
    "zrate, hwz, theta = hw.get_zrate_hwzero_and_theta(df_curva['t'], df_curva['tasa'], gamma, sigma)"
   ]
  },
  {
   "cell_type": "markdown",
   "metadata": {},
   "source": [
    "## Simulación"
   ]
  },
  {
   "cell_type": "markdown",
   "metadata": {},
   "source": [
    "Se definen los parámetros requeridos, tanto del modelo como de la simulación."
   ]
  },
  {
   "cell_type": "code",
   "execution_count": 54,
   "metadata": {
    "ExecuteTime": {
     "end_time": "2020-11-27T19:33:39.291274Z",
     "start_time": "2020-11-27T19:33:39.286102Z"
    }
   },
   "outputs": [],
   "source": [
    "gamma = 1.0\n",
    "sigma = .0025\n",
    "r0 = zrate(.0001)\n",
    "num_sims = 1000\n",
    "num_steps = 528"
   ]
  },
  {
   "cell_type": "markdown",
   "metadata": {},
   "source": [
    "Se obtienen las trayectorias."
   ]
  },
  {
   "cell_type": "code",
   "execution_count": 55,
   "metadata": {
    "ExecuteTime": {
     "end_time": "2020-11-27T19:34:01.443132Z",
     "start_time": "2020-11-27T19:33:56.373221Z"
    }
   },
   "outputs": [],
   "source": [
    "time_steps, paths = hw.sim_hw_many(gamma, sigma, theta, r0, 1000, 528, seed=1000)"
   ]
  },
  {
   "cell_type": "markdown",
   "metadata": {
    "ExecuteTime": {
     "end_time": "2020-11-27T18:16:13.035672Z",
     "start_time": "2020-11-27T18:16:13.030346Z"
    }
   },
   "source": [
    "Se extrae el elemento correspondiente a 6M, 1Y, 18M de cada simulación:"
   ]
  },
  {
   "cell_type": "code",
   "execution_count": 58,
   "metadata": {
    "ExecuteTime": {
     "end_time": "2020-11-27T19:34:57.396815Z",
     "start_time": "2020-11-27T19:34:57.376417Z"
    }
   },
   "outputs": [
    {
     "data": {
      "text/plain": [
       "(0.00023065735784508546, -0.0022857834272125696, -0.0010278696736560555)"
      ]
     },
     "execution_count": 58,
     "metadata": {},
     "output_type": "execute_result"
    }
   ],
   "source": [
    "last_r = [(s[132], s[264], s[396]) for s in paths]\n",
    "last_r[0]"
   ]
  },
  {
   "cell_type": "markdown",
   "metadata": {},
   "source": [
    "## Cálculo de la *EE* de un Swap"
   ]
  },
  {
   "cell_type": "markdown",
   "metadata": {},
   "source": [
    "Para el swap vamos a utilizar una función sencilla para la pata fija y consideraremos que el valor presente de la pata flotante siempre es igual al nocional. Consideremos un swap a 2Y."
   ]
  },
  {
   "cell_type": "code",
   "execution_count": 59,
   "metadata": {
    "ExecuteTime": {
     "end_time": "2020-11-27T19:35:53.493423Z",
     "start_time": "2020-11-27T19:35:53.489464Z"
    }
   },
   "outputs": [],
   "source": [
    "swap_fija = inst.bono_tasa_fija(0, .5, 4, .001)"
   ]
  },
  {
   "cell_type": "code",
   "execution_count": 60,
   "metadata": {
    "ExecuteTime": {
     "end_time": "2020-11-27T19:35:54.871949Z",
     "start_time": "2020-11-27T19:35:54.863706Z"
    }
   },
   "outputs": [
    {
     "data": {
      "text/plain": [
       "[(0.5, 0.05), (1.0, 0.05), (1.5, 0.05), (2.0, 100.05)]"
      ]
     },
     "execution_count": 60,
     "metadata": {},
     "output_type": "execute_result"
    }
   ],
   "source": [
    "swap_fija"
   ]
  },
  {
   "cell_type": "markdown",
   "metadata": {},
   "source": [
    "Se define una función que construye una función que valoriza el swap a partir de $t$ y $r_t$."
   ]
  },
  {
   "cell_type": "code",
   "execution_count": 61,
   "metadata": {
    "ExecuteTime": {
     "end_time": "2020-11-27T19:38:16.441607Z",
     "start_time": "2020-11-27T19:38:16.433916Z"
    }
   },
   "outputs": [],
   "source": [
    "def valorizador_swap(pata_fija, df_function):\n",
    "    def valor(r, t):\n",
    "        result = 0.0\n",
    "        for e in pata_fija:\n",
    "            if e[0] > t:\n",
    "                result += e[1] * df_function(r, t, e[0])\n",
    "        return result - 100.0 if result > 0.0 else 0.0\n",
    "    return valor"
   ]
  },
  {
   "cell_type": "markdown",
   "metadata": {},
   "source": [
    "Probemos:"
   ]
  },
  {
   "cell_type": "code",
   "execution_count": 62,
   "metadata": {
    "ExecuteTime": {
     "end_time": "2020-11-27T19:38:32.097424Z",
     "start_time": "2020-11-27T19:38:32.092722Z"
    }
   },
   "outputs": [],
   "source": [
    "vswap = valorizador_swap(swap_fija, hwz)"
   ]
  },
  {
   "cell_type": "code",
   "execution_count": 63,
   "metadata": {
    "ExecuteTime": {
     "end_time": "2020-11-27T19:38:39.817523Z",
     "start_time": "2020-11-27T19:38:39.811452Z"
    }
   },
   "outputs": [
    {
     "data": {
      "text/plain": [
       "0.017069551127349314"
      ]
     },
     "execution_count": 63,
     "metadata": {},
     "output_type": "execute_result"
    }
   ],
   "source": [
    "vswap(r0, 1.5)"
   ]
  },
  {
   "cell_type": "markdown",
   "metadata": {},
   "source": [
    "Valoricemos el swap en 6M más en cada simulación:"
   ]
  },
  {
   "cell_type": "code",
   "execution_count": 69,
   "metadata": {
    "ExecuteTime": {
     "end_time": "2020-11-27T19:41:32.648327Z",
     "start_time": "2020-11-27T19:41:31.516739Z"
    }
   },
   "outputs": [
    {
     "data": {
      "text/plain": [
       "[0.1087151035156495,\n",
       " -0.06891838127835115,\n",
       " -0.08828135334222509,\n",
       " 0.024086600811841663,\n",
       " 0.023152978606702845,\n",
       " 0.16379864922694765,\n",
       " 0.1809763078510258,\n",
       " 0.14545651414299243,\n",
       " -0.10416145596083481,\n",
       " -0.012453256721840944]"
      ]
     },
     "execution_count": 69,
     "metadata": {},
     "output_type": "execute_result"
    }
   ],
   "source": [
    "valor_swap_6m = [vswap(r[0], .5) for r in last_r]\n",
    "valor_swap_6m[0: 10]"
   ]
  },
  {
   "cell_type": "markdown",
   "metadata": {},
   "source": [
    "Mejor aún, podemos calcular directamente la exposición."
   ]
  },
  {
   "cell_type": "code",
   "execution_count": 71,
   "metadata": {
    "ExecuteTime": {
     "end_time": "2020-11-27T19:42:30.793854Z",
     "start_time": "2020-11-27T19:42:29.906869Z"
    }
   },
   "outputs": [
    {
     "data": {
      "text/plain": [
       "[0.1087151035156495,\n",
       " 0,\n",
       " 0,\n",
       " 0.024086600811841663,\n",
       " 0.023152978606702845,\n",
       " 0.16379864922694765,\n",
       " 0.1809763078510258,\n",
       " 0.14545651414299243,\n",
       " 0,\n",
       " 0]"
      ]
     },
     "execution_count": 71,
     "metadata": {},
     "output_type": "execute_result"
    }
   ],
   "source": [
    "e_swap_6m = [max(vswap(r[0], .5), 0) for r in last_r]\n",
    "e_swap_6m[0: 10]"
   ]
  },
  {
   "cell_type": "markdown",
   "metadata": {},
   "source": [
    "Por lo tanto, la exposición esperada en 6M es:"
   ]
  },
  {
   "cell_type": "code",
   "execution_count": 74,
   "metadata": {
    "ExecuteTime": {
     "end_time": "2020-11-27T19:44:52.104246Z",
     "start_time": "2020-11-27T19:44:52.098830Z"
    }
   },
   "outputs": [
    {
     "name": "stdout",
     "output_type": "stream",
     "text": [
      "La EE del swap en 6M es:  0.09\n"
     ]
    }
   ],
   "source": [
    "ee_swap_6m = np.average(e_swap_6m)\n",
    "print(f'La EE del swap en 6M es: {ee_swap_6m: ,.2f}')"
   ]
  }
 ],
 "metadata": {
  "hide_input": false,
  "kernelspec": {
   "display_name": "Python 3",
   "language": "python",
   "name": "python3"
  },
  "language_info": {
   "codemirror_mode": {
    "name": "ipython",
    "version": 3
   },
   "file_extension": ".py",
   "mimetype": "text/x-python",
   "name": "python",
   "nbconvert_exporter": "python",
   "pygments_lexer": "ipython3",
   "version": "3.7.3"
  },
  "toc": {
   "base_numbering": "15",
   "nav_menu": {},
   "number_sections": true,
   "sideBar": true,
   "skip_h1_title": false,
   "title_cell": "Table of Contents",
   "title_sidebar": "Contenido",
   "toc_cell": false,
   "toc_position": {
    "height": "calc(100% - 180px)",
    "left": "10px",
    "top": "150px",
    "width": "204.390625px"
   },
   "toc_section_display": true,
   "toc_window_display": false
  }
 },
 "nbformat": 4,
 "nbformat_minor": 4
}
