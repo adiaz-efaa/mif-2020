{
 "cells": [
  {
   "cell_type": "markdown",
   "metadata": {},
   "source": [
    "# Tarea 1"
   ]
  },
  {
   "cell_type": "markdown",
   "metadata": {},
   "source": [
    "Implementar la clase `OisCashflow`."
   ]
  },
  {
   "cell_type": "markdown",
   "metadata": {},
   "source": [
    "## Configuración Inicial"
   ]
  },
  {
   "cell_type": "code",
   "execution_count": 1,
   "metadata": {
    "ExecuteTime": {
     "end_time": "2020-12-01T20:09:13.885383Z",
     "start_time": "2020-12-01T20:09:13.398617Z"
    }
   },
   "outputs": [],
   "source": [
    "from finrisk import QC_Financial_3 as Qcf\n",
    "from dataclasses import dataclass\n",
    "from enum import Enum\n",
    "import pandas as pd"
   ]
  },
  {
   "cell_type": "code",
   "execution_count": 2,
   "metadata": {
    "ExecuteTime": {
     "end_time": "2020-12-01T20:09:14.005345Z",
     "start_time": "2020-12-01T20:09:13.996785Z"
    }
   },
   "outputs": [],
   "source": [
    "class BusCal(Enum):\n",
    "    NY = 1\n",
    "    SCL = 2"
   ]
  },
  {
   "cell_type": "code",
   "execution_count": 3,
   "metadata": {
    "ExecuteTime": {
     "end_time": "2020-12-01T20:09:14.977737Z",
     "start_time": "2020-12-01T20:09:14.911263Z"
    }
   },
   "outputs": [],
   "source": [
    "def get_cal(code: BusCal) -> Qcf.BusinessCalendar:\n",
    "    \"\"\"\n",
    "    \"\"\"\n",
    "    if code == BusCal.NY:\n",
    "        cal = Qcf.BusinessCalendar(Qcf.QCDate(1, 1, 2020), 20)\n",
    "        for agno in range(2019, 2071):\n",
    "            f = Qcf.QCDate(12, 10, agno)\n",
    "            if f.week_day() == Qcf.WeekDay.SAT:\n",
    "                cal.add_holiday(Qcf.QCDate(14, 10, agno))\n",
    "            elif f.week_day() == Qcf.WeekDay.SUN:\n",
    "                cal.add_holiday(Qcf.QCDate(13, 10, agno))\n",
    "            elif f.week_day() == Qcf.WeekDay.MON:\n",
    "                cal.add_holiday(Qcf.QCDate(12, 10, agno))\n",
    "            elif f.week_day() == Qcf.WeekDay.TUE:\n",
    "                cal.add_holiday(Qcf.QCDate(11, 10, agno))\n",
    "            elif f.week_day() == Qcf.WeekDay.WED:\n",
    "                cal.add_holiday(Qcf.QCDate(10, 10, agno))\n",
    "            elif f.week_day() == Qcf.WeekDay.THU:\n",
    "                cal.add_holiday(Qcf.QCDate(9, 10, agno))\n",
    "            else:\n",
    "                cal.add_holiday(Qcf.QCDate(8, 10, agno))\n",
    "        cal.add_holiday(Qcf.QCDate(11, 11, 2019))\n",
    "        cal.add_holiday(Qcf.QCDate(28, 11, 2019))\n",
    "        cal.add_holiday(Qcf.QCDate(25, 12, 2019))\n",
    "        cal.add_holiday(Qcf.QCDate(20, 1, 2020))\n",
    "        cal.add_holiday(Qcf.QCDate(17, 2, 2020))\n",
    "        cal.add_holiday(Qcf.QCDate(10, 4, 2020))\n",
    "        cal.add_holiday(Qcf.QCDate(25, 5, 2020))\n",
    "        cal.add_holiday(Qcf.QCDate(3, 7, 2020))\n",
    "        cal.add_holiday(Qcf.QCDate(7, 9, 2020))\n",
    "        \n",
    "        # cal.add_holiday(Qcf.QCDate(30, 9, 2020)) Este no corresponde y se detectó en los tests.\n",
    "        \n",
    "        cal.add_holiday(Qcf.QCDate(15, 2, 2021))\n",
    "        \n",
    "    return cal"
   ]
  },
  {
   "cell_type": "markdown",
   "metadata": {},
   "source": [
    "## `Qcf.time_series`"
   ]
  },
  {
   "cell_type": "code",
   "execution_count": 4,
   "metadata": {
    "ExecuteTime": {
     "end_time": "2020-12-01T20:10:05.370994Z",
     "start_time": "2020-12-01T20:10:05.350358Z"
    }
   },
   "outputs": [
    {
     "name": "stdout",
     "output_type": "stream",
     "text": [
      "ts[fecha1]: 19690113.0\n",
      "\n",
      "13-1-1969\n",
      "14-1-1969\n",
      "\n",
      "19690113.0\n",
      "19690114.0\n"
     ]
    }
   ],
   "source": [
    "ts = Qcf.time_series()\n",
    "\n",
    "fecha1 = Qcf.QCDate(13, 1, 1969)\n",
    "ts[fecha1] = 19690113\n",
    "\n",
    "fecha2 = Qcf.QCDate(14, 1, 1969)\n",
    "ts[fecha2] = 19690114\n",
    "\n",
    "print(f'ts[fecha1]: {ts[fecha1]}\\n')\n",
    "\n",
    "dl = Qcf.time_series_dates(ts)\n",
    "for d in dl:\n",
    "    print(d)\n",
    "print()\n",
    "    \n",
    "vl = Qcf.time_series_values(ts)\n",
    "for v in vl:\n",
    "    print(v)"
   ]
  },
  {
   "cell_type": "markdown",
   "metadata": {},
   "source": [
    "## Clase `OisCashflow`"
   ]
  },
  {
   "cell_type": "markdown",
   "metadata": {},
   "source": [
    "La clase `OisCashflow` es una [`dataclass`](https://realpython.com/python-data-classes/). La tarea consiste en:\n",
    "\n",
    "- Implementar los 3 métodos de la clase que están con `pass`.\n",
    "- Implementar la función `present_value`.\n",
    "- Implementar la función `set_expected_rate`."
   ]
  },
  {
   "cell_type": "code",
   "execution_count": 5,
   "metadata": {
    "ExecuteTime": {
     "end_time": "2020-12-01T20:10:11.046892Z",
     "start_time": "2020-12-01T20:10:10.992237Z"
    },
    "code_folding": []
   },
   "outputs": [],
   "source": [
    "@dataclass  # syntactic sugar\n",
    "class OisCashflow:\n",
    "    start_date: Qcf.QCDate\n",
    "    end_date: Qcf.QCDate\n",
    "    settlement_date: Qcf.QCDate\n",
    "    notional: float\n",
    "    currency: Qcf.QCCurrency\n",
    "    amortization: float\n",
    "    amort_is_cashflow: bool\n",
    "    interest_rate: Qcf.QCInterestRate\n",
    "    on_index: Qcf.InterestRateIndex\n",
    "    spread: float\n",
    "    gearing: float\n",
    "    calendar: Qcf.BusinessCalendar  # tuve que agregar esta variable\n",
    "\n",
    "    def get_accrued_rate(self, accrual_date: Qcf.QCDate, fixings: Qcf.time_series) -> float:\n",
    "        \"\"\"\n",
    "        Calcula la tasa equivalente desde `self.start_date` a `accrual_date`. La tasa equivalente\n",
    "        se calcula como:\n",
    "\n",
    "        (P - 1) * 360 / (accrual_date - self.start_date)\n",
    "\n",
    "        donde P es el producto de los factores de capitalización de todas las tasas overnight\n",
    "        entre `start_date` y `accrual_date`. Los valores de esas tasas deben estar almacenados\n",
    "        en la variable `fixings`.\n",
    "\n",
    "        Ver la documentación de `QC_Financial_3` para el uso y funcionamiento de los objetos\n",
    "        de tipo Qcf.time_series.\n",
    "        \"\"\"\n",
    "        if self.calendar.next_busy_day(accrual_date) > accrual_date:\n",
    "            raise ValueError(\"Acrrual date must be a working day.\")\n",
    "        fecha = self.start_date\n",
    "        if accrual_date <= fecha:\n",
    "            return 0.0\n",
    "        factor = 1.0\n",
    "        while fecha < accrual_date:\n",
    "            fecha_siguiente = self.calendar.shift(fecha, 1)\n",
    "            tasa = self.on_index.get_rate()\n",
    "            try:\n",
    "                tasa.set_value(fixings[fecha])\n",
    "            except Exception as e:\n",
    "                raise ValueError(\n",
    "                    f'Se produjo el error: {str(e)}. Fecha de cálculo: {fecha.description(False)}')\n",
    "            factor *= tasa.wf(fecha, fecha_siguiente)\n",
    "            fecha = fecha_siguiente\n",
    "        return self.interest_rate.get_rate_from_wf(factor, self.start_date, accrual_date)\n",
    "\n",
    "    def get_accrued_interest(self, accrual_date: Qcf.QCDate, fixings: Qcf.time_series) -> float:\n",
    "        \"\"\"\n",
    "        Calcula el interés (plata) devengado desde `self.start_date` a `accrual_date` utilizando la tasa equivalente\n",
    "        que se calcula con el método anterior.\n",
    "\n",
    "        Los valores de las  tasas overnight deben estar almacenados en la variable `fixings`.\n",
    "\n",
    "        Ver la documentación de `QC_Financial_3` para el uso y funcionamiento de los objetos\n",
    "        de tipo Qcf.time_series.\n",
    "        \"\"\"\n",
    "        valor_tasa = self.get_accrued_rate(accrual_date, fixings)\n",
    "        self.interest_rate.set_value(valor_tasa)\n",
    "        return self.notional * (self.interest_rate.wf(self.start_date, accrual_date) - 1.0)\n",
    "\n",
    "    def amount(self, fixings: Qcf.time_series = None) -> float:\n",
    "        \"\"\"\n",
    "        Calcula el flujo total al vencimiento (amortización más intereses devengados hasta self.end_date).\n",
    "\n",
    "        Los valores de las  tasas overnight deben estar almacenados en la variable `fixings`.\n",
    "\n",
    "        Ver la documentación de `QC_Financial_3` para el uso y funcionamiento de los objetos\n",
    "        de tipo Qcf.time_series.\n",
    "        \"\"\"\n",
    "        if fixings is None:\n",
    "            return self.notional * self.interest_rate.wf(self.start_date, self.end_date)\n",
    "        else:\n",
    "            return self.get_accrued_interest(self.end_date, fixings) + self.amortization"
   ]
  },
  {
   "cell_type": "markdown",
   "metadata": {},
   "source": [
    "Construcción de un objeto `Qcf.InterestRateIndex`."
   ]
  },
  {
   "cell_type": "code",
   "execution_count": 6,
   "metadata": {
    "ExecuteTime": {
     "end_time": "2020-12-01T20:14:54.920639Z",
     "start_time": "2020-12-01T20:14:54.866597Z"
    }
   },
   "outputs": [],
   "source": [
    "codigo = 'SOFR'\n",
    "tasa_on = Qcf.QCInterestRate(.0, Qcf.QCAct360(), Qcf.QCLinearWf())\n",
    "fixing_lag = Qcf.Tenor('0d')\n",
    "tenor = Qcf.Tenor('1d')\n",
    "fixing_calendar = get_cal(BusCal.NY)     \n",
    "settlement_calendar = fixing_calendar  \n",
    "sofr = Qcf.InterestRateIndex(\n",
    "    codigo,\n",
    "    tasa_on,\n",
    "    fixing_lag,\n",
    "    tenor,\n",
    "    fixing_calendar,\n",
    "    settlement_calendar,\n",
    "    Qcf.QCUSD()\n",
    ")"
   ]
  },
  {
   "cell_type": "markdown",
   "metadata": {},
   "source": [
    "Construcción de una instancia de `OisCashflow`."
   ]
  },
  {
   "cell_type": "code",
   "execution_count": 7,
   "metadata": {
    "ExecuteTime": {
     "end_time": "2020-12-01T20:14:59.457961Z",
     "start_time": "2020-12-01T20:14:59.447178Z"
    }
   },
   "outputs": [],
   "source": [
    "ois = OisCashflow(\n",
    "    Qcf.QCDate(1, 10, 2019),\n",
    "    Qcf.QCDate(1, 10, 2020),\n",
    "    Qcf.QCDate(1, 10, 2020),\n",
    "    10000000,\n",
    "    Qcf.QCUSD(),\n",
    "    1000000,\n",
    "    True,\n",
    "    Qcf.QCInterestRate(0.0, Qcf.QCAct360(), Qcf.QCLinearWf()),\n",
    "    sofr,\n",
    "    0,\n",
    "    1,\n",
    "    settlement_calendar\n",
    ")"
   ]
  },
  {
   "cell_type": "markdown",
   "metadata": {},
   "source": [
    "## Funciones"
   ]
  },
  {
   "cell_type": "markdown",
   "metadata": {},
   "source": [
    "### `set_expected_rate(...)`"
   ]
  },
  {
   "cell_type": "markdown",
   "metadata": {},
   "source": [
    "Las funciones que hacen este trabajo en `QC_Finacial_3` no retornan ningún valor, pero cambian el estado del cashflow, al dejar almacenado dentro de él el valor de la tasa flotante (o el valor de los índices ICP). En la clase `OisCashflow` este cambio de estado puede lograrse cambiando el valor de la tasa en el objeto `interest_rate`."
   ]
  },
  {
   "cell_type": "code",
   "execution_count": 8,
   "metadata": {
    "ExecuteTime": {
     "end_time": "2020-12-01T20:17:01.315320Z",
     "start_time": "2020-12-01T20:17:01.263126Z"
    },
    "code_folding": []
   },
   "outputs": [],
   "source": [
    "def set_expected_rate(\n",
    "        val_date: Qcf.QCDate,\n",
    "        ois_cashflow: OisCashflow,\n",
    "        fixings: Qcf.time_series,\n",
    "        zcc: Qcf.ZeroCouponCurve) -> None:\n",
    "    \"\"\"\n",
    "    Esta función opera de la misma forma que la análoga función de `QC_Financial_3`.\n",
    "    Ver por ejemplo los casos cuando usamos el objeto Qcf.ForwardRates() en el notebook 9.\n",
    "\n",
    "    Para un OIS calculando en t0 un cashflow entre (t0 <) t1 < t2\n",
    "    ICP(t0) * wf(to, t2) = ICP(t2), ICP(t0) * w(t0, t1) = ICP(t1) -> ICP(t2) / ICP(t1) = ICP(t1,t2)\n",
    "    tasa(t1, t2) = [ICP(t1, t2) - 1] * 360 / (t2-t1)\n",
    "    El ICP se puede pensar como el account asociado a la tasa interbancaria chilena, que es el índice\n",
    "    overnight chileno.\n",
    "\n",
    "    Cuando t1 < t0 < t2 tener un poquito de ojo ... porque el cashflow ya tiene fixings.\n",
    "\n",
    "    Se distinguen 3 casos (en todos ellos `zcc.wf()` significa `1 / zcc.get_discount_factor_at()`:\n",
    "\n",
    "    - `val_date <= ois_cashflow.start_date`: se calculan los dos plazos p1, p2 desde `val_date` hasta\n",
    "    `ois_cashflow.start_date` y `ois_cashflow.end_date` respectivamente. Se define `account(val_date) = 1.0` y luego,\n",
    "      - `account(ois_cashflow.start_date) = 1.0 * zcc.wf(p1) := wf1`\n",
    "      - `account(ois_cashflow.end_date) = 1.0 * zcc.wf(p2) := wf2`\n",
    "      - `tasa_esperada = (wf2 / wf2 - 1.0) * 360.0 / (p2 - p1)`\n",
    "      - Finalmente, `ois_cashflow.interest_rate.set_value(tasa_esperada)`.\n",
    "\n",
    "    - `ois_cashflow.start_date < val_date < ois_cashflow.end_date`:\n",
    "      - se calcula el plazo `p1` desde `ois_cashflow.end_date` hasta `val_date`.\n",
    "      - Se calcula `wf1 = 1 + ois_cashflow.get_accrued_interest(val_date, fixings) / ois_cashflow.notional`.\n",
    "      - se calcula el plazo `p2` desde `val_date` hasta `ois_cashflow.end_date`.\n",
    "      - Se calcula `wf2 = zcc.wf(p2)`.\n",
    "      - `tasa_esperada = (wf2 / wf2 - 1.0) * 360.0 / (p1 + p1)`.\n",
    "      - Finalmente, `ois_cashflow.interest_rate.set_value(tasa_esperada)`.\n",
    "\n",
    "    - `ois_cashflow.end_date <= val_date`: en este caso el flujo debe ser conocido, y por lo tanto:\n",
    "      - `tasa_esperada = ois_cashflow.accrued_rate(ois_cashflow.end_date)`.\n",
    "      - Finalmente, `ois_cashflow.interest_rate.set_value(tasa_esperada)`.\n",
    "    \"\"\"\n",
    "    if val_date < ois_cashflow.start_date:\n",
    "        p1 = val_date.day_diff(ois_cashflow.start_date)\n",
    "        p2 = val_date.day_diff(ois_cashflow.end_date)\n",
    "        wf1 = 1 / zcc.get_discount_factor_at(p1)\n",
    "        wf2 = 1 / zcc.get_discount_factor_at(p2)\n",
    "        tasa_esperada = (wf2 / wf1 - 1) * 360 / (p2 - p1)\n",
    "    elif ois_cashflow.start_date <= val_date < ois_cashflow.end_date:\n",
    "        p1 = ois_cashflow.start_date.day_diff(val_date)\n",
    "        wf1 = 1 + ois_cashflow.get_accrued_interest(\n",
    "            val_date, fixings) / ois_cashflow.notional\n",
    "        p2 = val_date.day_diff(ois_cashflow.end_date)\n",
    "        wf2 = 1 / zcc.get_discount_factor_at(p2)\n",
    "        tasa_esperada = (wf1 * wf2 - 1) * 360 / (p1 + p2)\n",
    "    else:\n",
    "        tasa_esperada = ois_cashflow.get_accrued_rate(\n",
    "            ois_cashflow.end_date, fixings)\n",
    "    ois_cashflow.interest_rate.set_value(tasa_esperada)\n",
    "    return"
   ]
  },
  {
   "cell_type": "markdown",
   "metadata": {},
   "source": [
    "### `present_value(...)`"
   ]
  },
  {
   "cell_type": "markdown",
   "metadata": {},
   "source": [
    "Para que esta función opere de la misma forma que los métodos de la clase `PresentValue` de `QC_Fimancial_3` se requiere tener un método `amount` en `OisCashflow` que no requiera argumentos y retorne el flujo final utilizando el valor de la tasa que se fijó con la función `set_expected_rate`.\n",
    "\n",
    "En Python no se puede sobrecargar una función o método de una clase (mismo nombre para una función que tiene más de una firma). Sin embargo, se puede lograr un efecto similar transformando en opcional el argumento de la versión ya implementada de `amount`."
   ]
  },
  {
   "cell_type": "code",
   "execution_count": 9,
   "metadata": {
    "ExecuteTime": {
     "end_time": "2020-12-01T20:17:04.252873Z",
     "start_time": "2020-12-01T20:17:04.236507Z"
    }
   },
   "outputs": [],
   "source": [
    "def present_value(\n",
    "        val_date: Qcf.QCDate,\n",
    "        ois_cashflow: OisCashflow,\n",
    "        zcc: Qcf.ZeroCouponCurve) -> float:\n",
    "    \"\"\"\n",
    "    Esta función opera de la misma forma que la análoga función de `QC_Financial_3`.\n",
    "    Para probar esta función utilizar la data de que está en data/20201012_built_sofr_zero.xlsx.\n",
    "    Para traer a valor presente debes respetar la convención de las tasas de la curva.\n",
    "\n",
    "    NOTA: la variable ois_cashflow debe haber 'pasado' por la función set_expected_rate para que\n",
    "    tenga los intereses de los fixings futuros.\n",
    "    \"\"\"\n",
    "    plazo = val_date.day_diff(ois_cashflow.settlement_date)\n",
    "    if plazo <= 0:\n",
    "        return 0.0\n",
    "    else:\n",
    "        return ois_cashflow.amount() * zcc.get_discount_factor_at(plazo)"
   ]
  },
  {
   "cell_type": "code",
   "execution_count": 10,
   "metadata": {
    "ExecuteTime": {
     "end_time": "2020-12-01T20:17:07.843433Z",
     "start_time": "2020-12-01T20:17:07.631019Z"
    }
   },
   "outputs": [
    {
     "ename": "NameError",
     "evalue": "name 'stop' is not defined",
     "output_type": "error",
     "traceback": [
      "\u001b[0;31m---------------------------------------------------------------------------\u001b[0m",
      "\u001b[0;31mNameError\u001b[0m                                 Traceback (most recent call last)",
      "\u001b[0;32m<ipython-input-10-4f76a9dad686>\u001b[0m in \u001b[0;36m<module>\u001b[0;34m\u001b[0m\n\u001b[0;32m----> 1\u001b[0;31m \u001b[0mstop\u001b[0m\u001b[0;34m\u001b[0m\u001b[0;34m\u001b[0m\u001b[0m\n\u001b[0m",
      "\u001b[0;31mNameError\u001b[0m: name 'stop' is not defined"
     ]
    }
   ],
   "source": [
    "stop"
   ]
  },
  {
   "cell_type": "markdown",
   "metadata": {},
   "source": [
    "## Tests"
   ]
  },
  {
   "cell_type": "code",
   "execution_count": 13,
   "metadata": {
    "ExecuteTime": {
     "end_time": "2020-12-01T20:18:24.082166Z",
     "start_time": "2020-12-01T20:18:24.044353Z"
    }
   },
   "outputs": [],
   "source": [
    "import sys\n",
    "sys.path.insert(1, '../modules')\n",
    "import auxiliary as aux"
   ]
  },
  {
   "cell_type": "code",
   "execution_count": 14,
   "metadata": {
    "ExecuteTime": {
     "end_time": "2020-12-01T20:18:24.649677Z",
     "start_time": "2020-12-01T20:18:24.644244Z"
    }
   },
   "outputs": [],
   "source": [
    "amount_tol = 10000\n",
    "rate_tol = .001"
   ]
  },
  {
   "cell_type": "code",
   "execution_count": 15,
   "metadata": {
    "ExecuteTime": {
     "end_time": "2020-12-01T20:18:25.549032Z",
     "start_time": "2020-12-01T20:18:25.543355Z"
    }
   },
   "outputs": [],
   "source": [
    "exitos = 0"
   ]
  },
  {
   "cell_type": "code",
   "execution_count": 36,
   "metadata": {
    "ExecuteTime": {
     "end_time": "2020-12-01T20:24:16.704828Z",
     "start_time": "2020-12-01T20:24:16.690761Z"
    }
   },
   "outputs": [],
   "source": [
    "def suma_exito(resultado, check, tipo):\n",
    "    global exitos\n",
    "    if resultado is None:\n",
    "        return\n",
    "    else:\n",
    "        print('Suma medio punto por obtener resultado.')\n",
    "        exitos += .5\n",
    "        if tipo == 'monto':\n",
    "            if abs(resultado - check) < amount_tol:\n",
    "                print('Suma 1 punto por obtener resultado dentro de la tolerancia.')\n",
    "                exitos += 1\n",
    "        else:\n",
    "            if abs(resultado - check) < rate_tol:\n",
    "                print('Suma 1 punto por obtener resultado dentro de la tolerancia.')\n",
    "                exitos += 1"
   ]
  },
  {
   "cell_type": "markdown",
   "metadata": {},
   "source": [
    "Construcción de una instancia de `OisCashflow`."
   ]
  },
  {
   "cell_type": "code",
   "execution_count": 17,
   "metadata": {
    "ExecuteTime": {
     "end_time": "2020-12-01T20:20:09.766904Z",
     "start_time": "2020-12-01T20:20:09.752908Z"
    }
   },
   "outputs": [],
   "source": [
    "ois = OisCashflow(\n",
    "    Qcf.QCDate(1, 10, 2019),\n",
    "    Qcf.QCDate(1, 10, 2020),\n",
    "    Qcf.QCDate(1, 10, 2020),\n",
    "    10000000,\n",
    "    Qcf.QCUSD(),\n",
    "    1000000,\n",
    "    True,\n",
    "    Qcf.QCInterestRate(0.0, Qcf.QCAct360(), Qcf.QCLinearWf()),\n",
    "    sofr,\n",
    "    0,\n",
    "    1,\n",
    "    settlement_calendar\n",
    ")"
   ]
  },
  {
   "cell_type": "markdown",
   "metadata": {},
   "source": [
    "En la siguiente variable `exitos` se registra cuantos tests se superan con éxito."
   ]
  },
  {
   "cell_type": "markdown",
   "metadata": {},
   "source": [
    "### Objeto `fixings`"
   ]
  },
  {
   "cell_type": "code",
   "execution_count": 18,
   "metadata": {
    "ExecuteTime": {
     "end_time": "2020-12-01T20:20:17.159232Z",
     "start_time": "2020-12-01T20:20:17.083206Z"
    }
   },
   "outputs": [],
   "source": [
    "df_fixings = pd.read_excel('../data/SOFR-10012019-10292020.xls', sheet_name='nice format')\n",
    "df_fixings.columns = ['fecha', 'nombre', 'valor']\n",
    "df_fixings['valor'] /= 100"
   ]
  },
  {
   "cell_type": "code",
   "execution_count": 19,
   "metadata": {
    "ExecuteTime": {
     "end_time": "2020-12-01T20:21:06.134340Z",
     "start_time": "2020-12-01T20:21:05.766553Z"
    }
   },
   "outputs": [
    {
     "data": {
      "text/html": [
       "<style  type=\"text/css\" >\n",
       "</style><table id=\"T_bda7148a_3412_11eb_a3d0_02cba411ec9d\" ><thead>    <tr>        <th class=\"blank level0\" ></th>        <th class=\"col_heading level0 col0\" >fecha</th>        <th class=\"col_heading level0 col1\" >nombre</th>        <th class=\"col_heading level0 col2\" >valor</th>    </tr></thead><tbody>\n",
       "                <tr>\n",
       "                        <th id=\"T_bda7148a_3412_11eb_a3d0_02cba411ec9dlevel0_row0\" class=\"row_heading level0 row0\" >0</th>\n",
       "                        <td id=\"T_bda7148a_3412_11eb_a3d0_02cba411ec9drow0_col0\" class=\"data row0 col0\" >2020-10-28</td>\n",
       "                        <td id=\"T_bda7148a_3412_11eb_a3d0_02cba411ec9drow0_col1\" class=\"data row0 col1\" >SOFR</td>\n",
       "                        <td id=\"T_bda7148a_3412_11eb_a3d0_02cba411ec9drow0_col2\" class=\"data row0 col2\" >0.0800%</td>\n",
       "            </tr>\n",
       "            <tr>\n",
       "                        <th id=\"T_bda7148a_3412_11eb_a3d0_02cba411ec9dlevel0_row1\" class=\"row_heading level0 row1\" >1</th>\n",
       "                        <td id=\"T_bda7148a_3412_11eb_a3d0_02cba411ec9drow1_col0\" class=\"data row1 col0\" >2020-10-27</td>\n",
       "                        <td id=\"T_bda7148a_3412_11eb_a3d0_02cba411ec9drow1_col1\" class=\"data row1 col1\" >SOFR</td>\n",
       "                        <td id=\"T_bda7148a_3412_11eb_a3d0_02cba411ec9drow1_col2\" class=\"data row1 col2\" >0.0900%</td>\n",
       "            </tr>\n",
       "            <tr>\n",
       "                        <th id=\"T_bda7148a_3412_11eb_a3d0_02cba411ec9dlevel0_row2\" class=\"row_heading level0 row2\" >2</th>\n",
       "                        <td id=\"T_bda7148a_3412_11eb_a3d0_02cba411ec9drow2_col0\" class=\"data row2 col0\" >2020-10-26</td>\n",
       "                        <td id=\"T_bda7148a_3412_11eb_a3d0_02cba411ec9drow2_col1\" class=\"data row2 col1\" >SOFR</td>\n",
       "                        <td id=\"T_bda7148a_3412_11eb_a3d0_02cba411ec9drow2_col2\" class=\"data row2 col2\" >0.0900%</td>\n",
       "            </tr>\n",
       "            <tr>\n",
       "                        <th id=\"T_bda7148a_3412_11eb_a3d0_02cba411ec9dlevel0_row3\" class=\"row_heading level0 row3\" >3</th>\n",
       "                        <td id=\"T_bda7148a_3412_11eb_a3d0_02cba411ec9drow3_col0\" class=\"data row3 col0\" >2020-10-23</td>\n",
       "                        <td id=\"T_bda7148a_3412_11eb_a3d0_02cba411ec9drow3_col1\" class=\"data row3 col1\" >SOFR</td>\n",
       "                        <td id=\"T_bda7148a_3412_11eb_a3d0_02cba411ec9drow3_col2\" class=\"data row3 col2\" >0.0800%</td>\n",
       "            </tr>\n",
       "            <tr>\n",
       "                        <th id=\"T_bda7148a_3412_11eb_a3d0_02cba411ec9dlevel0_row4\" class=\"row_heading level0 row4\" >4</th>\n",
       "                        <td id=\"T_bda7148a_3412_11eb_a3d0_02cba411ec9drow4_col0\" class=\"data row4 col0\" >2020-10-22</td>\n",
       "                        <td id=\"T_bda7148a_3412_11eb_a3d0_02cba411ec9drow4_col1\" class=\"data row4 col1\" >SOFR</td>\n",
       "                        <td id=\"T_bda7148a_3412_11eb_a3d0_02cba411ec9drow4_col2\" class=\"data row4 col2\" >0.0700%</td>\n",
       "            </tr>\n",
       "    </tbody></table>"
      ],
      "text/plain": [
       "<pandas.io.formats.style.Styler at 0x7fc74246b518>"
      ]
     },
     "execution_count": 19,
     "metadata": {},
     "output_type": "execute_result"
    }
   ],
   "source": [
    "df_fixings.head().style.format({'valor': '{:.4%}'})"
   ]
  },
  {
   "cell_type": "code",
   "execution_count": 20,
   "metadata": {
    "ExecuteTime": {
     "end_time": "2020-12-01T20:21:08.879669Z",
     "start_time": "2020-12-01T20:21:08.851091Z"
    }
   },
   "outputs": [],
   "source": [
    "fixings = Qcf.time_series()\n",
    "for row in df_fixings.itertuples():\n",
    "    fixings[Qcf.build_qcdate_from_string(row.fecha)] = row.valor"
   ]
  },
  {
   "cell_type": "code",
   "execution_count": 21,
   "metadata": {
    "ExecuteTime": {
     "end_time": "2020-12-01T20:21:09.901971Z",
     "start_time": "2020-12-01T20:21:09.877775Z"
    }
   },
   "outputs": [
    {
     "data": {
      "text/plain": [
       "0.0154"
      ]
     },
     "execution_count": 21,
     "metadata": {},
     "output_type": "execute_result"
    }
   ],
   "source": [
    "fixings[Qcf.QCDate(13, 1, 2020)]"
   ]
  },
  {
   "cell_type": "markdown",
   "metadata": {},
   "source": [
    "### `OisCashflow.accrued_rate`"
   ]
  },
  {
   "cell_type": "code",
   "execution_count": 22,
   "metadata": {
    "ExecuteTime": {
     "end_time": "2020-12-01T20:21:18.135508Z",
     "start_time": "2020-12-01T20:21:18.115777Z"
    }
   },
   "outputs": [
    {
     "name": "stdout",
     "output_type": "stream",
     "text": [
      "accrued rate: 1.04766527%\n"
     ]
    }
   ],
   "source": [
    "accrued_rate = ois.get_accrued_rate(Qcf.QCDate(15, 6, 2020), fixings)\n",
    "print(f'accrued rate: {accrued_rate:.8%}')"
   ]
  },
  {
   "cell_type": "markdown",
   "metadata": {},
   "source": [
    "Se verificará el cálculo usando `df_fixings`."
   ]
  },
  {
   "cell_type": "code",
   "execution_count": 23,
   "metadata": {
    "ExecuteTime": {
     "end_time": "2020-12-01T20:21:29.251565Z",
     "start_time": "2020-12-01T20:21:29.221252Z"
    }
   },
   "outputs": [
    {
     "data": {
      "text/html": [
       "<style  type=\"text/css\" >\n",
       "</style><table id=\"T_cb738198_3412_11eb_a3d0_02cba411ec9d\" ><thead>    <tr>        <th class=\"blank level0\" ></th>        <th class=\"col_heading level0 col0\" >fecha</th>        <th class=\"col_heading level0 col1\" >nombre</th>        <th class=\"col_heading level0 col2\" >valor</th>    </tr></thead><tbody>\n",
       "                <tr>\n",
       "                        <th id=\"T_cb738198_3412_11eb_a3d0_02cba411ec9dlevel0_row0\" class=\"row_heading level0 row0\" >0</th>\n",
       "                        <td id=\"T_cb738198_3412_11eb_a3d0_02cba411ec9drow0_col0\" class=\"data row0 col0\" >2020-10-28</td>\n",
       "                        <td id=\"T_cb738198_3412_11eb_a3d0_02cba411ec9drow0_col1\" class=\"data row0 col1\" >SOFR</td>\n",
       "                        <td id=\"T_cb738198_3412_11eb_a3d0_02cba411ec9drow0_col2\" class=\"data row0 col2\" >0.0800%</td>\n",
       "            </tr>\n",
       "            <tr>\n",
       "                        <th id=\"T_cb738198_3412_11eb_a3d0_02cba411ec9dlevel0_row1\" class=\"row_heading level0 row1\" >1</th>\n",
       "                        <td id=\"T_cb738198_3412_11eb_a3d0_02cba411ec9drow1_col0\" class=\"data row1 col0\" >2020-10-27</td>\n",
       "                        <td id=\"T_cb738198_3412_11eb_a3d0_02cba411ec9drow1_col1\" class=\"data row1 col1\" >SOFR</td>\n",
       "                        <td id=\"T_cb738198_3412_11eb_a3d0_02cba411ec9drow1_col2\" class=\"data row1 col2\" >0.0900%</td>\n",
       "            </tr>\n",
       "            <tr>\n",
       "                        <th id=\"T_cb738198_3412_11eb_a3d0_02cba411ec9dlevel0_row2\" class=\"row_heading level0 row2\" >2</th>\n",
       "                        <td id=\"T_cb738198_3412_11eb_a3d0_02cba411ec9drow2_col0\" class=\"data row2 col0\" >2020-10-26</td>\n",
       "                        <td id=\"T_cb738198_3412_11eb_a3d0_02cba411ec9drow2_col1\" class=\"data row2 col1\" >SOFR</td>\n",
       "                        <td id=\"T_cb738198_3412_11eb_a3d0_02cba411ec9drow2_col2\" class=\"data row2 col2\" >0.0900%</td>\n",
       "            </tr>\n",
       "            <tr>\n",
       "                        <th id=\"T_cb738198_3412_11eb_a3d0_02cba411ec9dlevel0_row3\" class=\"row_heading level0 row3\" >3</th>\n",
       "                        <td id=\"T_cb738198_3412_11eb_a3d0_02cba411ec9drow3_col0\" class=\"data row3 col0\" >2020-10-23</td>\n",
       "                        <td id=\"T_cb738198_3412_11eb_a3d0_02cba411ec9drow3_col1\" class=\"data row3 col1\" >SOFR</td>\n",
       "                        <td id=\"T_cb738198_3412_11eb_a3d0_02cba411ec9drow3_col2\" class=\"data row3 col2\" >0.0800%</td>\n",
       "            </tr>\n",
       "            <tr>\n",
       "                        <th id=\"T_cb738198_3412_11eb_a3d0_02cba411ec9dlevel0_row4\" class=\"row_heading level0 row4\" >4</th>\n",
       "                        <td id=\"T_cb738198_3412_11eb_a3d0_02cba411ec9drow4_col0\" class=\"data row4 col0\" >2020-10-22</td>\n",
       "                        <td id=\"T_cb738198_3412_11eb_a3d0_02cba411ec9drow4_col1\" class=\"data row4 col1\" >SOFR</td>\n",
       "                        <td id=\"T_cb738198_3412_11eb_a3d0_02cba411ec9drow4_col2\" class=\"data row4 col2\" >0.0700%</td>\n",
       "            </tr>\n",
       "    </tbody></table>"
      ],
      "text/plain": [
       "<pandas.io.formats.style.Styler at 0x7fc77e437668>"
      ]
     },
     "execution_count": 23,
     "metadata": {},
     "output_type": "execute_result"
    }
   ],
   "source": [
    "df_fixings.head().style.format({'valor': '{:.4%}'})"
   ]
  },
  {
   "cell_type": "markdown",
   "metadata": {
    "ExecuteTime": {
     "end_time": "2020-11-28T10:46:07.293545Z",
     "start_time": "2020-11-28T10:46:07.285532Z"
    }
   },
   "source": [
    "Se agrega la columna `next_date`, servirá para calcular el factor de capitalización de cada tasa."
   ]
  },
  {
   "cell_type": "code",
   "execution_count": 24,
   "metadata": {
    "ExecuteTime": {
     "end_time": "2020-12-01T20:21:38.432645Z",
     "start_time": "2020-12-01T20:21:38.411162Z"
    }
   },
   "outputs": [],
   "source": [
    "def next_date(fecha:str, calendario: Qcf.BusinessCalendar) -> str:\n",
    "    qfecha = Qcf.build_qcdate_from_string(fecha)\n",
    "    next_fecha = calendario.shift(qfecha, 1)\n",
    "    return next_fecha.description(False)"
   ]
  },
  {
   "cell_type": "code",
   "execution_count": 25,
   "metadata": {
    "ExecuteTime": {
     "end_time": "2020-12-01T20:21:39.487921Z",
     "start_time": "2020-12-01T20:21:39.420309Z"
    }
   },
   "outputs": [],
   "source": [
    "df_fixings['next_fecha'] = df_fixings.apply(\n",
    "    lambda row: next_date(row['fecha'], settlement_calendar),\n",
    "    axis=1\n",
    ")"
   ]
  },
  {
   "cell_type": "code",
   "execution_count": 26,
   "metadata": {
    "ExecuteTime": {
     "end_time": "2020-12-01T20:23:02.531429Z",
     "start_time": "2020-12-01T20:23:02.479996Z"
    }
   },
   "outputs": [
    {
     "data": {
      "text/html": [
       "<style  type=\"text/css\" >\n",
       "</style><table id=\"T_0309c248_3413_11eb_a3d0_02cba411ec9d\" ><thead>    <tr>        <th class=\"blank level0\" ></th>        <th class=\"col_heading level0 col0\" >fecha</th>        <th class=\"col_heading level0 col1\" >nombre</th>        <th class=\"col_heading level0 col2\" >valor</th>        <th class=\"col_heading level0 col3\" >next_fecha</th>    </tr></thead><tbody>\n",
       "                <tr>\n",
       "                        <th id=\"T_0309c248_3413_11eb_a3d0_02cba411ec9dlevel0_row0\" class=\"row_heading level0 row0\" >0</th>\n",
       "                        <td id=\"T_0309c248_3413_11eb_a3d0_02cba411ec9drow0_col0\" class=\"data row0 col0\" >2020-10-28</td>\n",
       "                        <td id=\"T_0309c248_3413_11eb_a3d0_02cba411ec9drow0_col1\" class=\"data row0 col1\" >SOFR</td>\n",
       "                        <td id=\"T_0309c248_3413_11eb_a3d0_02cba411ec9drow0_col2\" class=\"data row0 col2\" >0.0800%</td>\n",
       "                        <td id=\"T_0309c248_3413_11eb_a3d0_02cba411ec9drow0_col3\" class=\"data row0 col3\" >2020-10-29</td>\n",
       "            </tr>\n",
       "            <tr>\n",
       "                        <th id=\"T_0309c248_3413_11eb_a3d0_02cba411ec9dlevel0_row1\" class=\"row_heading level0 row1\" >1</th>\n",
       "                        <td id=\"T_0309c248_3413_11eb_a3d0_02cba411ec9drow1_col0\" class=\"data row1 col0\" >2020-10-27</td>\n",
       "                        <td id=\"T_0309c248_3413_11eb_a3d0_02cba411ec9drow1_col1\" class=\"data row1 col1\" >SOFR</td>\n",
       "                        <td id=\"T_0309c248_3413_11eb_a3d0_02cba411ec9drow1_col2\" class=\"data row1 col2\" >0.0900%</td>\n",
       "                        <td id=\"T_0309c248_3413_11eb_a3d0_02cba411ec9drow1_col3\" class=\"data row1 col3\" >2020-10-28</td>\n",
       "            </tr>\n",
       "            <tr>\n",
       "                        <th id=\"T_0309c248_3413_11eb_a3d0_02cba411ec9dlevel0_row2\" class=\"row_heading level0 row2\" >2</th>\n",
       "                        <td id=\"T_0309c248_3413_11eb_a3d0_02cba411ec9drow2_col0\" class=\"data row2 col0\" >2020-10-26</td>\n",
       "                        <td id=\"T_0309c248_3413_11eb_a3d0_02cba411ec9drow2_col1\" class=\"data row2 col1\" >SOFR</td>\n",
       "                        <td id=\"T_0309c248_3413_11eb_a3d0_02cba411ec9drow2_col2\" class=\"data row2 col2\" >0.0900%</td>\n",
       "                        <td id=\"T_0309c248_3413_11eb_a3d0_02cba411ec9drow2_col3\" class=\"data row2 col3\" >2020-10-27</td>\n",
       "            </tr>\n",
       "            <tr>\n",
       "                        <th id=\"T_0309c248_3413_11eb_a3d0_02cba411ec9dlevel0_row3\" class=\"row_heading level0 row3\" >3</th>\n",
       "                        <td id=\"T_0309c248_3413_11eb_a3d0_02cba411ec9drow3_col0\" class=\"data row3 col0\" >2020-10-23</td>\n",
       "                        <td id=\"T_0309c248_3413_11eb_a3d0_02cba411ec9drow3_col1\" class=\"data row3 col1\" >SOFR</td>\n",
       "                        <td id=\"T_0309c248_3413_11eb_a3d0_02cba411ec9drow3_col2\" class=\"data row3 col2\" >0.0800%</td>\n",
       "                        <td id=\"T_0309c248_3413_11eb_a3d0_02cba411ec9drow3_col3\" class=\"data row3 col3\" >2020-10-26</td>\n",
       "            </tr>\n",
       "            <tr>\n",
       "                        <th id=\"T_0309c248_3413_11eb_a3d0_02cba411ec9dlevel0_row4\" class=\"row_heading level0 row4\" >4</th>\n",
       "                        <td id=\"T_0309c248_3413_11eb_a3d0_02cba411ec9drow4_col0\" class=\"data row4 col0\" >2020-10-22</td>\n",
       "                        <td id=\"T_0309c248_3413_11eb_a3d0_02cba411ec9drow4_col1\" class=\"data row4 col1\" >SOFR</td>\n",
       "                        <td id=\"T_0309c248_3413_11eb_a3d0_02cba411ec9drow4_col2\" class=\"data row4 col2\" >0.0700%</td>\n",
       "                        <td id=\"T_0309c248_3413_11eb_a3d0_02cba411ec9drow4_col3\" class=\"data row4 col3\" >2020-10-23</td>\n",
       "            </tr>\n",
       "    </tbody></table>"
      ],
      "text/plain": [
       "<pandas.io.formats.style.Styler at 0x7fc74246b5f8>"
      ]
     },
     "execution_count": 26,
     "metadata": {},
     "output_type": "execute_result"
    }
   ],
   "source": [
    "df_fixings.head().style.format({'valor': '{:.4%}'})"
   ]
  },
  {
   "cell_type": "markdown",
   "metadata": {},
   "source": [
    "Se calcula ahora el factor de capitalización."
   ]
  },
  {
   "cell_type": "code",
   "execution_count": 27,
   "metadata": {
    "ExecuteTime": {
     "end_time": "2020-12-01T20:23:06.071075Z",
     "start_time": "2020-12-01T20:23:06.050491Z"
    }
   },
   "outputs": [],
   "source": [
    "def factor_cap(fecha: str, next_fecha: str, valor: float) -> float:\n",
    "    qfecha = Qcf.build_qcdate_from_string(fecha)\n",
    "    qnext_fecha = Qcf.build_qcdate_from_string(next_fecha)\n",
    "    int_rate = Qcf.QCInterestRate(valor, Qcf.QCAct360(), Qcf.QCLinearWf())\n",
    "    return int_rate.wf(qfecha, qnext_fecha)"
   ]
  },
  {
   "cell_type": "code",
   "execution_count": 28,
   "metadata": {
    "ExecuteTime": {
     "end_time": "2020-12-01T20:23:08.135760Z",
     "start_time": "2020-12-01T20:23:08.053010Z"
    }
   },
   "outputs": [],
   "source": [
    "df_fixings['factor_capitalizacion'] = df_fixings.apply(\n",
    "    lambda row: factor_cap(row['fecha'], row['next_fecha'], row['valor']),\n",
    "    axis=1\n",
    ")"
   ]
  },
  {
   "cell_type": "code",
   "execution_count": 29,
   "metadata": {
    "ExecuteTime": {
     "end_time": "2020-12-01T20:23:10.091742Z",
     "start_time": "2020-12-01T20:23:10.052672Z"
    }
   },
   "outputs": [
    {
     "data": {
      "text/html": [
       "<style  type=\"text/css\" >\n",
       "</style><table id=\"T_078d17e8_3413_11eb_a3d0_02cba411ec9d\" ><thead>    <tr>        <th class=\"blank level0\" ></th>        <th class=\"col_heading level0 col0\" >fecha</th>        <th class=\"col_heading level0 col1\" >nombre</th>        <th class=\"col_heading level0 col2\" >valor</th>        <th class=\"col_heading level0 col3\" >next_fecha</th>        <th class=\"col_heading level0 col4\" >factor_capitalizacion</th>    </tr></thead><tbody>\n",
       "                <tr>\n",
       "                        <th id=\"T_078d17e8_3413_11eb_a3d0_02cba411ec9dlevel0_row0\" class=\"row_heading level0 row0\" >0</th>\n",
       "                        <td id=\"T_078d17e8_3413_11eb_a3d0_02cba411ec9drow0_col0\" class=\"data row0 col0\" >2020-10-28</td>\n",
       "                        <td id=\"T_078d17e8_3413_11eb_a3d0_02cba411ec9drow0_col1\" class=\"data row0 col1\" >SOFR</td>\n",
       "                        <td id=\"T_078d17e8_3413_11eb_a3d0_02cba411ec9drow0_col2\" class=\"data row0 col2\" >0.0800%</td>\n",
       "                        <td id=\"T_078d17e8_3413_11eb_a3d0_02cba411ec9drow0_col3\" class=\"data row0 col3\" >2020-10-29</td>\n",
       "                        <td id=\"T_078d17e8_3413_11eb_a3d0_02cba411ec9drow0_col4\" class=\"data row0 col4\" >1.000002</td>\n",
       "            </tr>\n",
       "            <tr>\n",
       "                        <th id=\"T_078d17e8_3413_11eb_a3d0_02cba411ec9dlevel0_row1\" class=\"row_heading level0 row1\" >1</th>\n",
       "                        <td id=\"T_078d17e8_3413_11eb_a3d0_02cba411ec9drow1_col0\" class=\"data row1 col0\" >2020-10-27</td>\n",
       "                        <td id=\"T_078d17e8_3413_11eb_a3d0_02cba411ec9drow1_col1\" class=\"data row1 col1\" >SOFR</td>\n",
       "                        <td id=\"T_078d17e8_3413_11eb_a3d0_02cba411ec9drow1_col2\" class=\"data row1 col2\" >0.0900%</td>\n",
       "                        <td id=\"T_078d17e8_3413_11eb_a3d0_02cba411ec9drow1_col3\" class=\"data row1 col3\" >2020-10-28</td>\n",
       "                        <td id=\"T_078d17e8_3413_11eb_a3d0_02cba411ec9drow1_col4\" class=\"data row1 col4\" >1.000002</td>\n",
       "            </tr>\n",
       "            <tr>\n",
       "                        <th id=\"T_078d17e8_3413_11eb_a3d0_02cba411ec9dlevel0_row2\" class=\"row_heading level0 row2\" >2</th>\n",
       "                        <td id=\"T_078d17e8_3413_11eb_a3d0_02cba411ec9drow2_col0\" class=\"data row2 col0\" >2020-10-26</td>\n",
       "                        <td id=\"T_078d17e8_3413_11eb_a3d0_02cba411ec9drow2_col1\" class=\"data row2 col1\" >SOFR</td>\n",
       "                        <td id=\"T_078d17e8_3413_11eb_a3d0_02cba411ec9drow2_col2\" class=\"data row2 col2\" >0.0900%</td>\n",
       "                        <td id=\"T_078d17e8_3413_11eb_a3d0_02cba411ec9drow2_col3\" class=\"data row2 col3\" >2020-10-27</td>\n",
       "                        <td id=\"T_078d17e8_3413_11eb_a3d0_02cba411ec9drow2_col4\" class=\"data row2 col4\" >1.000002</td>\n",
       "            </tr>\n",
       "            <tr>\n",
       "                        <th id=\"T_078d17e8_3413_11eb_a3d0_02cba411ec9dlevel0_row3\" class=\"row_heading level0 row3\" >3</th>\n",
       "                        <td id=\"T_078d17e8_3413_11eb_a3d0_02cba411ec9drow3_col0\" class=\"data row3 col0\" >2020-10-23</td>\n",
       "                        <td id=\"T_078d17e8_3413_11eb_a3d0_02cba411ec9drow3_col1\" class=\"data row3 col1\" >SOFR</td>\n",
       "                        <td id=\"T_078d17e8_3413_11eb_a3d0_02cba411ec9drow3_col2\" class=\"data row3 col2\" >0.0800%</td>\n",
       "                        <td id=\"T_078d17e8_3413_11eb_a3d0_02cba411ec9drow3_col3\" class=\"data row3 col3\" >2020-10-26</td>\n",
       "                        <td id=\"T_078d17e8_3413_11eb_a3d0_02cba411ec9drow3_col4\" class=\"data row3 col4\" >1.000007</td>\n",
       "            </tr>\n",
       "            <tr>\n",
       "                        <th id=\"T_078d17e8_3413_11eb_a3d0_02cba411ec9dlevel0_row4\" class=\"row_heading level0 row4\" >4</th>\n",
       "                        <td id=\"T_078d17e8_3413_11eb_a3d0_02cba411ec9drow4_col0\" class=\"data row4 col0\" >2020-10-22</td>\n",
       "                        <td id=\"T_078d17e8_3413_11eb_a3d0_02cba411ec9drow4_col1\" class=\"data row4 col1\" >SOFR</td>\n",
       "                        <td id=\"T_078d17e8_3413_11eb_a3d0_02cba411ec9drow4_col2\" class=\"data row4 col2\" >0.0700%</td>\n",
       "                        <td id=\"T_078d17e8_3413_11eb_a3d0_02cba411ec9drow4_col3\" class=\"data row4 col3\" >2020-10-23</td>\n",
       "                        <td id=\"T_078d17e8_3413_11eb_a3d0_02cba411ec9drow4_col4\" class=\"data row4 col4\" >1.000002</td>\n",
       "            </tr>\n",
       "    </tbody></table>"
      ],
      "text/plain": [
       "<pandas.io.formats.style.Styler at 0x7fc77e4084a8>"
      ]
     },
     "execution_count": 29,
     "metadata": {},
     "output_type": "execute_result"
    }
   ],
   "source": [
    "df_fixings.head().style.format({'valor': '{:.4%}'})"
   ]
  },
  {
   "cell_type": "markdown",
   "metadata": {},
   "source": [
    "Veamos donde están en `df_fixings` los valores para `start_date` de `ois` y la fecha 15-6-2020 y calculamos el producto de los factores de capitalización desde esa fecha hasta la última fecha de `df_flujos` (que es el primer registro). Luego, el cociente de los dos factores nos dará el factor entre ambas fechas. Finalmente, con ese factor, se calculará `accrued_rate`."
   ]
  },
  {
   "cell_type": "code",
   "execution_count": 30,
   "metadata": {
    "ExecuteTime": {
     "end_time": "2020-12-01T20:23:26.301280Z",
     "start_time": "2020-12-01T20:23:26.246598Z"
    }
   },
   "outputs": [
    {
     "data": {
      "text/html": [
       "<div>\n",
       "<style scoped>\n",
       "    .dataframe tbody tr th:only-of-type {\n",
       "        vertical-align: middle;\n",
       "    }\n",
       "\n",
       "    .dataframe tbody tr th {\n",
       "        vertical-align: top;\n",
       "    }\n",
       "\n",
       "    .dataframe thead th {\n",
       "        text-align: right;\n",
       "    }\n",
       "</style>\n",
       "<table border=\"1\" class=\"dataframe\">\n",
       "  <thead>\n",
       "    <tr style=\"text-align: right;\">\n",
       "      <th></th>\n",
       "      <th>fecha</th>\n",
       "      <th>nombre</th>\n",
       "      <th>valor</th>\n",
       "      <th>next_fecha</th>\n",
       "      <th>factor_capitalizacion</th>\n",
       "    </tr>\n",
       "  </thead>\n",
       "  <tbody>\n",
       "    <tr>\n",
       "      <th>269</th>\n",
       "      <td>2019-10-01</td>\n",
       "      <td>SOFR</td>\n",
       "      <td>0.0188</td>\n",
       "      <td>2019-10-02</td>\n",
       "      <td>1.000052</td>\n",
       "    </tr>\n",
       "  </tbody>\n",
       "</table>\n",
       "</div>"
      ],
      "text/plain": [
       "          fecha nombre   valor  next_fecha  factor_capitalizacion\n",
       "269  2019-10-01   SOFR  0.0188  2019-10-02               1.000052"
      ]
     },
     "execution_count": 30,
     "metadata": {},
     "output_type": "execute_result"
    }
   ],
   "source": [
    "start_date = ois.start_date.description(False)\n",
    "df_fixings[df_fixings.fecha == start_date]"
   ]
  },
  {
   "cell_type": "code",
   "execution_count": 31,
   "metadata": {
    "ExecuteTime": {
     "end_time": "2020-12-01T20:23:35.694344Z",
     "start_time": "2020-12-01T20:23:35.677486Z"
    }
   },
   "outputs": [
    {
     "name": "stdout",
     "output_type": "stream",
     "text": [
      "1.007853957449575\n"
     ]
    }
   ],
   "source": [
    "factor_largo = df_fixings.iloc[:270]['factor_capitalizacion'].prod()\n",
    "print(factor_largo)\n",
    "qstart_date = Qcf.build_qcdate_from_string('2019-10-01')"
   ]
  },
  {
   "cell_type": "code",
   "execution_count": 32,
   "metadata": {
    "ExecuteTime": {
     "end_time": "2020-12-01T20:23:42.342995Z",
     "start_time": "2020-12-01T20:23:42.256721Z"
    }
   },
   "outputs": [
    {
     "data": {
      "text/html": [
       "<div>\n",
       "<style scoped>\n",
       "    .dataframe tbody tr th:only-of-type {\n",
       "        vertical-align: middle;\n",
       "    }\n",
       "\n",
       "    .dataframe tbody tr th {\n",
       "        vertical-align: top;\n",
       "    }\n",
       "\n",
       "    .dataframe thead th {\n",
       "        text-align: right;\n",
       "    }\n",
       "</style>\n",
       "<table border=\"1\" class=\"dataframe\">\n",
       "  <thead>\n",
       "    <tr style=\"text-align: right;\">\n",
       "      <th></th>\n",
       "      <th>fecha</th>\n",
       "      <th>nombre</th>\n",
       "      <th>valor</th>\n",
       "      <th>next_fecha</th>\n",
       "      <th>factor_capitalizacion</th>\n",
       "    </tr>\n",
       "  </thead>\n",
       "  <tbody>\n",
       "    <tr>\n",
       "      <th>94</th>\n",
       "      <td>2020-06-15</td>\n",
       "      <td>SOFR</td>\n",
       "      <td>0.0009</td>\n",
       "      <td>2020-06-16</td>\n",
       "      <td>1.000002</td>\n",
       "    </tr>\n",
       "  </tbody>\n",
       "</table>\n",
       "</div>"
      ],
      "text/plain": [
       "         fecha nombre   valor  next_fecha  factor_capitalizacion\n",
       "94  2020-06-15   SOFR  0.0009  2020-06-16               1.000002"
      ]
     },
     "execution_count": 32,
     "metadata": {},
     "output_type": "execute_result"
    }
   ],
   "source": [
    "df_fixings[df_fixings.fecha == '2020-06-15']"
   ]
  },
  {
   "cell_type": "code",
   "execution_count": 33,
   "metadata": {
    "ExecuteTime": {
     "end_time": "2020-12-01T20:23:51.220703Z",
     "start_time": "2020-12-01T20:23:51.196593Z"
    }
   },
   "outputs": [],
   "source": [
    "factor_corto = df_fixings.iloc[:95]['factor_capitalizacion'].prod()\n",
    "qaccrued_date = Qcf.build_qcdate_from_string('2020-06-15')"
   ]
  },
  {
   "cell_type": "code",
   "execution_count": 34,
   "metadata": {
    "ExecuteTime": {
     "end_time": "2020-12-01T20:24:01.920629Z",
     "start_time": "2020-12-01T20:24:01.898326Z"
    }
   },
   "outputs": [
    {
     "name": "stdout",
     "output_type": "stream",
     "text": [
      "La diferencia es: 0.00000000%\n"
     ]
    }
   ],
   "source": [
    "dias = qstart_date.day_diff(qaccrued_date)\n",
    "check_accrued_rate = (factor_largo / factor_corto - 1.0) * 360.0 / dias\n",
    "print(f'La diferencia es: {accrued_rate - check_accrued_rate:.8%}')"
   ]
  },
  {
   "cell_type": "code",
   "execution_count": 37,
   "metadata": {
    "ExecuteTime": {
     "end_time": "2020-12-01T20:24:27.098305Z",
     "start_time": "2020-12-01T20:24:27.090315Z"
    }
   },
   "outputs": [
    {
     "name": "stdout",
     "output_type": "stream",
     "text": [
      "Suma medio punto por obtener resultado.\n",
      "Suma 1 punto por obtener resultado dentro de la tolerancia.\n"
     ]
    }
   ],
   "source": [
    "suma_exito(accrued_rate, check_accrued_rate, 'tasa')"
   ]
  },
  {
   "cell_type": "markdown",
   "metadata": {},
   "source": [
    "### `OisCashflow.accrued_interest`"
   ]
  },
  {
   "cell_type": "code",
   "execution_count": 38,
   "metadata": {
    "ExecuteTime": {
     "end_time": "2020-12-01T20:24:46.563539Z",
     "start_time": "2020-12-01T20:24:46.554542Z"
    }
   },
   "outputs": [
    {
     "name": "stdout",
     "output_type": "stream",
     "text": [
      "accrued interest: 75,082.68\n"
     ]
    }
   ],
   "source": [
    "accrued_interest = ois.get_accrued_interest(Qcf.QCDate(15, 6, 2020), fixings)\n",
    "print(f'accrued interest: {accrued_interest:,.2f}')"
   ]
  },
  {
   "cell_type": "code",
   "execution_count": 39,
   "metadata": {
    "ExecuteTime": {
     "end_time": "2020-12-01T20:25:37.807190Z",
     "start_time": "2020-12-01T20:25:37.798439Z"
    }
   },
   "outputs": [
    {
     "name": "stdout",
     "output_type": "stream",
     "text": [
      "La diferencia es: 0.000000\n"
     ]
    }
   ],
   "source": [
    "check_accrued_interest = ois.notional * accrued_rate * dias / 360.0\n",
    "print(f'La diferencia es: {accrued_interest - check_accrued_interest:,.6f}')"
   ]
  },
  {
   "cell_type": "code",
   "execution_count": 40,
   "metadata": {
    "ExecuteTime": {
     "end_time": "2020-12-01T20:26:00.728997Z",
     "start_time": "2020-12-01T20:26:00.722509Z"
    }
   },
   "outputs": [
    {
     "name": "stdout",
     "output_type": "stream",
     "text": [
      "Suma medio punto por obtener resultado.\n",
      "Suma 1 punto por obtener resultado dentro de la tolerancia.\n"
     ]
    }
   ],
   "source": [
    "suma_exito(accrued_interest, check_accrued_interest, 'monto')"
   ]
  },
  {
   "cell_type": "markdown",
   "metadata": {},
   "source": [
    "### `OisCashflow.amount`"
   ]
  },
  {
   "cell_type": "code",
   "execution_count": 41,
   "metadata": {
    "ExecuteTime": {
     "end_time": "2020-12-01T20:26:13.580520Z",
     "start_time": "2020-12-01T20:26:13.572826Z"
    }
   },
   "outputs": [
    {
     "name": "stdout",
     "output_type": "stream",
     "text": [
      "amount: 1,077,850.90\n"
     ]
    }
   ],
   "source": [
    "amount = ois.amount(fixings)\n",
    "print(f'amount: {amount:,.2f}')"
   ]
  },
  {
   "cell_type": "code",
   "execution_count": 42,
   "metadata": {
    "ExecuteTime": {
     "end_time": "2020-12-01T20:26:14.677500Z",
     "start_time": "2020-12-01T20:26:14.626189Z"
    }
   },
   "outputs": [
    {
     "name": "stdout",
     "output_type": "stream",
     "text": [
      "end date: 2020-10-01\n"
     ]
    },
    {
     "data": {
      "text/html": [
       "<div>\n",
       "<style scoped>\n",
       "    .dataframe tbody tr th:only-of-type {\n",
       "        vertical-align: middle;\n",
       "    }\n",
       "\n",
       "    .dataframe tbody tr th {\n",
       "        vertical-align: top;\n",
       "    }\n",
       "\n",
       "    .dataframe thead th {\n",
       "        text-align: right;\n",
       "    }\n",
       "</style>\n",
       "<table border=\"1\" class=\"dataframe\">\n",
       "  <thead>\n",
       "    <tr style=\"text-align: right;\">\n",
       "      <th></th>\n",
       "      <th>fecha</th>\n",
       "      <th>nombre</th>\n",
       "      <th>valor</th>\n",
       "      <th>next_fecha</th>\n",
       "      <th>factor_capitalizacion</th>\n",
       "    </tr>\n",
       "  </thead>\n",
       "  <tbody>\n",
       "    <tr>\n",
       "      <th>18</th>\n",
       "      <td>2020-10-01</td>\n",
       "      <td>SOFR</td>\n",
       "      <td>0.0008</td>\n",
       "      <td>2020-10-02</td>\n",
       "      <td>1.000002</td>\n",
       "    </tr>\n",
       "  </tbody>\n",
       "</table>\n",
       "</div>"
      ],
      "text/plain": [
       "         fecha nombre   valor  next_fecha  factor_capitalizacion\n",
       "18  2020-10-01   SOFR  0.0008  2020-10-02               1.000002"
      ]
     },
     "execution_count": 42,
     "metadata": {},
     "output_type": "execute_result"
    }
   ],
   "source": [
    "end_date = ois.end_date.description(False)\n",
    "print(f'end date: {end_date}')\n",
    "df_fixings[df_fixings.fecha == end_date]"
   ]
  },
  {
   "cell_type": "code",
   "execution_count": 43,
   "metadata": {
    "ExecuteTime": {
     "end_time": "2020-12-01T20:26:17.286906Z",
     "start_time": "2020-12-01T20:26:17.276577Z"
    }
   },
   "outputs": [
    {
     "name": "stdout",
     "output_type": "stream",
     "text": [
      "La diferencia es: 0.000000\n"
     ]
    }
   ],
   "source": [
    "factor_corto_2 = df_fixings.iloc[:19]['factor_capitalizacion'].prod()\n",
    "dias_2 = qstart_date.day_diff(ois.end_date)\n",
    "accrued_rate_amount = (factor_largo / factor_corto_2- 1.0) * 360.0 / dias_2\n",
    "check_amount = ois.notional * accrued_rate_amount * dias_2 / 360.0 + ois.amortization\n",
    "print(f'La diferencia es: {amount - check_amount:.6f}')"
   ]
  },
  {
   "cell_type": "code",
   "execution_count": 44,
   "metadata": {
    "ExecuteTime": {
     "end_time": "2020-12-01T20:26:24.354631Z",
     "start_time": "2020-12-01T20:26:24.343861Z"
    }
   },
   "outputs": [
    {
     "name": "stdout",
     "output_type": "stream",
     "text": [
      "Suma medio punto por obtener resultado.\n",
      "Suma 1 punto por obtener resultado dentro de la tolerancia.\n"
     ]
    }
   ],
   "source": [
    "suma_exito(amount, check_amount, 'monto')"
   ]
  },
  {
   "cell_type": "markdown",
   "metadata": {},
   "source": [
    "### `set_expected_rate`"
   ]
  },
  {
   "cell_type": "markdown",
   "metadata": {},
   "source": [
    "Comenzamos cargando los valores de la curva cero cupón que se utilizará para hacer pruebas de `set_expected_rate` y `present_value`."
   ]
  },
  {
   "cell_type": "code",
   "execution_count": 45,
   "metadata": {
    "ExecuteTime": {
     "end_time": "2020-12-01T20:26:35.147698Z",
     "start_time": "2020-12-01T20:26:35.100197Z"
    }
   },
   "outputs": [],
   "source": [
    "df_curva = pd.read_excel('../data/20201012_built_sofr_zero.xlsx')"
   ]
  },
  {
   "cell_type": "code",
   "execution_count": 46,
   "metadata": {
    "ExecuteTime": {
     "end_time": "2020-12-01T20:26:37.316561Z",
     "start_time": "2020-12-01T20:26:37.301955Z"
    }
   },
   "outputs": [
    {
     "data": {
      "text/html": [
       "<style  type=\"text/css\" >\n",
       "</style><table id=\"T_8313df0a_3413_11eb_a3d0_02cba411ec9d\" ><thead>    <tr>        <th class=\"blank level0\" ></th>        <th class=\"col_heading level0 col0\" >plazo</th>        <th class=\"col_heading level0 col1\" >tasa</th>        <th class=\"col_heading level0 col2\" >df</th>    </tr></thead><tbody>\n",
       "                <tr>\n",
       "                        <th id=\"T_8313df0a_3413_11eb_a3d0_02cba411ec9dlevel0_row0\" class=\"row_heading level0 row0\" >0</th>\n",
       "                        <td id=\"T_8313df0a_3413_11eb_a3d0_02cba411ec9drow0_col0\" class=\"data row0 col0\" >1</td>\n",
       "                        <td id=\"T_8313df0a_3413_11eb_a3d0_02cba411ec9drow0_col1\" class=\"data row0 col1\" >0.0811%</td>\n",
       "                        <td id=\"T_8313df0a_3413_11eb_a3d0_02cba411ec9drow0_col2\" class=\"data row0 col2\" >99.999778%</td>\n",
       "            </tr>\n",
       "            <tr>\n",
       "                        <th id=\"T_8313df0a_3413_11eb_a3d0_02cba411ec9dlevel0_row1\" class=\"row_heading level0 row1\" >1</th>\n",
       "                        <td id=\"T_8313df0a_3413_11eb_a3d0_02cba411ec9drow1_col0\" class=\"data row1 col0\" >7</td>\n",
       "                        <td id=\"T_8313df0a_3413_11eb_a3d0_02cba411ec9drow1_col1\" class=\"data row1 col1\" >0.0841%</td>\n",
       "                        <td id=\"T_8313df0a_3413_11eb_a3d0_02cba411ec9drow1_col2\" class=\"data row1 col2\" >99.998388%</td>\n",
       "            </tr>\n",
       "            <tr>\n",
       "                        <th id=\"T_8313df0a_3413_11eb_a3d0_02cba411ec9dlevel0_row2\" class=\"row_heading level0 row2\" >2</th>\n",
       "                        <td id=\"T_8313df0a_3413_11eb_a3d0_02cba411ec9drow2_col0\" class=\"data row2 col0\" >14</td>\n",
       "                        <td id=\"T_8313df0a_3413_11eb_a3d0_02cba411ec9drow2_col1\" class=\"data row2 col1\" >0.0780%</td>\n",
       "                        <td id=\"T_8313df0a_3413_11eb_a3d0_02cba411ec9drow2_col2\" class=\"data row2 col2\" >99.997010%</td>\n",
       "            </tr>\n",
       "            <tr>\n",
       "                        <th id=\"T_8313df0a_3413_11eb_a3d0_02cba411ec9dlevel0_row3\" class=\"row_heading level0 row3\" >3</th>\n",
       "                        <td id=\"T_8313df0a_3413_11eb_a3d0_02cba411ec9drow3_col0\" class=\"data row3 col0\" >21</td>\n",
       "                        <td id=\"T_8313df0a_3413_11eb_a3d0_02cba411ec9drow3_col1\" class=\"data row3 col1\" >0.0774%</td>\n",
       "                        <td id=\"T_8313df0a_3413_11eb_a3d0_02cba411ec9drow3_col2\" class=\"data row3 col2\" >99.995549%</td>\n",
       "            </tr>\n",
       "            <tr>\n",
       "                        <th id=\"T_8313df0a_3413_11eb_a3d0_02cba411ec9dlevel0_row4\" class=\"row_heading level0 row4\" >4</th>\n",
       "                        <td id=\"T_8313df0a_3413_11eb_a3d0_02cba411ec9drow4_col0\" class=\"data row4 col0\" >33</td>\n",
       "                        <td id=\"T_8313df0a_3413_11eb_a3d0_02cba411ec9drow4_col1\" class=\"data row4 col1\" >0.0781%</td>\n",
       "                        <td id=\"T_8313df0a_3413_11eb_a3d0_02cba411ec9drow4_col2\" class=\"data row4 col2\" >99.992942%</td>\n",
       "            </tr>\n",
       "    </tbody></table>"
      ],
      "text/plain": [
       "<pandas.io.formats.style.Styler at 0x7fc75bd4c8d0>"
      ]
     },
     "execution_count": 46,
     "metadata": {},
     "output_type": "execute_result"
    }
   ],
   "source": [
    "df_curva.head().style.format({'tasa': '{:.4%}', 'df': '{:.6%}'})"
   ]
  },
  {
   "cell_type": "markdown",
   "metadata": {},
   "source": [
    "Con la data se construye un objeto de tipo `Qcf.ZeroCouponCurve`."
   ]
  },
  {
   "cell_type": "code",
   "execution_count": 47,
   "metadata": {
    "ExecuteTime": {
     "end_time": "2020-12-01T20:26:50.937931Z",
     "start_time": "2020-12-01T20:26:50.925909Z"
    },
    "scrolled": true
   },
   "outputs": [],
   "source": [
    "zcc = aux.get_curve_from_dataframe(Qcf.QCAct365(),Qcf.QCCompoundWf(), df_curva)"
   ]
  },
  {
   "cell_type": "markdown",
   "metadata": {},
   "source": [
    "Comienzan los tests."
   ]
  },
  {
   "cell_type": "code",
   "execution_count": 48,
   "metadata": {
    "ExecuteTime": {
     "end_time": "2020-12-01T20:26:54.090777Z",
     "start_time": "2020-12-01T20:26:54.085474Z"
    }
   },
   "outputs": [
    {
     "name": "stdout",
     "output_type": "stream",
     "text": [
      "Fecha inicial flujo: 2019-10-01\n",
      "Fecha final flujo: 2020-10-01\n"
     ]
    }
   ],
   "source": [
    "print(f'Fecha inicial flujo: {ois.start_date.description(False)}')\n",
    "print(f'Fecha final flujo: {ois.end_date.description(False)}')"
   ]
  },
  {
   "cell_type": "code",
   "execution_count": 49,
   "metadata": {
    "ExecuteTime": {
     "end_time": "2020-12-01T20:27:17.190951Z",
     "start_time": "2020-12-01T20:27:17.154157Z"
    }
   },
   "outputs": [
    {
     "name": "stdout",
     "output_type": "stream",
     "text": [
      "Tasa esperada es: 0.06121277%\n",
      "Check tasa esperada es: 0.06121277%\n",
      "Suma medio punto por obtener resultado.\n",
      "Suma 1 punto por obtener resultado dentro de la tolerancia.\n"
     ]
    }
   ],
   "source": [
    "# Check primer caso\n",
    "val_date = Qcf.QCDate(1, 6, 2019)\n",
    "set_expected_rate(val_date, ois, fixings, zcc)\n",
    "resultado = ois.interest_rate.get_value()\n",
    "print(f'Tasa esperada es: {resultado:.8%}')\n",
    "p1 = val_date.day_diff(ois.start_date)\n",
    "p2 = val_date.day_diff(ois.end_date)\n",
    "df1 = zcc.get_discount_factor_at(p1)\n",
    "df2 = zcc.get_discount_factor_at(p2)\n",
    "check = (df1 / df2 - 1) * 360 / (p2 - p1)\n",
    "print(f'Check tasa esperada es: {check:.8%}')\n",
    "\n",
    "suma_exito(resultado, check, 'tasa')"
   ]
  },
  {
   "cell_type": "code",
   "execution_count": 50,
   "metadata": {
    "ExecuteTime": {
     "end_time": "2020-12-01T20:27:43.670339Z",
     "start_time": "2020-12-01T20:27:43.657972Z"
    }
   },
   "outputs": [
    {
     "name": "stdout",
     "output_type": "stream",
     "text": [
      "Tasa esperada es: 0.06924275%\n",
      "Check tasa esperada es: 0.06924275%\n",
      "Suma medio punto por obtener resultado.\n",
      "Suma 1 punto por obtener resultado dentro de la tolerancia.\n"
     ]
    }
   ],
   "source": [
    "# Check segundo caso borde\n",
    "val_date = Qcf.QCDate(1, 10, 2019)\n",
    "set_expected_rate(val_date, ois, fixings, zcc)\n",
    "resultado = ois.interest_rate.get_value()\n",
    "print(f'Tasa esperada es: {resultado:.8%}')\n",
    "p1 = val_date.day_diff(ois.start_date)\n",
    "p2 = val_date.day_diff(ois.end_date)\n",
    "df1 = zcc.get_discount_factor_at(p1)\n",
    "df2 = zcc.get_discount_factor_at(p2)\n",
    "check = (df1 / df2 - 1) * 360 / (p2 - p1)\n",
    "print(f'Check tasa esperada es: {check:.8%}')\n",
    "\n",
    "suma_exito(resultado, check, 'tasa')"
   ]
  },
  {
   "cell_type": "code",
   "execution_count": 51,
   "metadata": {
    "ExecuteTime": {
     "end_time": "2020-12-01T20:27:45.995059Z",
     "start_time": "2020-12-01T20:27:45.965055Z"
    }
   },
   "outputs": [
    {
     "name": "stdout",
     "output_type": "stream",
     "text": [
      "Tasa esperada es: 0.22166384%\n",
      "Check tasa esperada es: 0.22166384%\n",
      "Suma medio punto por obtener resultado.\n",
      "Suma 1 punto por obtener resultado dentro de la tolerancia.\n"
     ]
    }
   ],
   "source": [
    "# Check segundo caso\n",
    "val_date = Qcf.QCDate(1, 11, 2019)\n",
    "set_expected_rate(val_date, ois, fixings, zcc)\n",
    "resultado = ois.interest_rate.get_value()\n",
    "print(f'Tasa esperada es: {resultado:.8%}')\n",
    "p1 = ois.start_date.day_diff(val_date)\n",
    "p2 = val_date.day_diff(ois.end_date)\n",
    "wf1 = 1 + ois.get_accrued_interest(val_date, fixings) / ois.notional\n",
    "wf2 = 1 / zcc.get_discount_factor_at(p2)\n",
    "check = (wf1 * wf2 - 1) * 360 / (p1 + p2)\n",
    "print(f'Check tasa esperada es: {check:.8%}')\n",
    "\n",
    "suma_exito(resultado, check, 'tasa')"
   ]
  },
  {
   "cell_type": "code",
   "execution_count": 52,
   "metadata": {
    "ExecuteTime": {
     "end_time": "2020-12-01T20:27:47.507576Z",
     "start_time": "2020-12-01T20:27:47.454917Z"
    }
   },
   "outputs": [
    {
     "name": "stdout",
     "output_type": "stream",
     "text": [
      "Tasa esperada es: 0.76574655%\n",
      "Check tasa esperada es: 0.76574655%\n",
      "Suma medio punto por obtener resultado.\n",
      "Suma 1 punto por obtener resultado dentro de la tolerancia.\n"
     ]
    }
   ],
   "source": [
    "# Check tercer caso borde\n",
    "val_date = Qcf.QCDate(1, 10, 2020)\n",
    "set_expected_rate(val_date, ois, fixings, zcc)\n",
    "resultado = ois.interest_rate.get_value()\n",
    "print(f'Tasa esperada es: {resultado:.8%}')\n",
    "check = ois.get_accrued_rate(val_date, fixings)\n",
    "print(f'Check tasa esperada es: {check:.8%}')\n",
    "\n",
    "suma_exito(resultado, check, 'tasa')"
   ]
  },
  {
   "cell_type": "code",
   "execution_count": 53,
   "metadata": {
    "ExecuteTime": {
     "end_time": "2020-12-01T20:27:49.642021Z",
     "start_time": "2020-12-01T20:27:49.620209Z"
    }
   },
   "outputs": [
    {
     "name": "stdout",
     "output_type": "stream",
     "text": [
      "Tasa esperada es: 0.76574655%\n",
      "Check tasa esperada es: 0.76574655%\n",
      "Suma medio punto por obtener resultado.\n",
      "Suma 1 punto por obtener resultado dentro de la tolerancia.\n"
     ]
    }
   ],
   "source": [
    "# Check tercer caso\n",
    "val_date = Qcf.QCDate(15, 10, 2020)\n",
    "set_expected_rate(val_date, ois, fixings, zcc)\n",
    "resultado = ois.interest_rate.get_value()\n",
    "print(f'Tasa esperada es: {resultado:.8%}')\n",
    "check = ois.get_accrued_rate(ois.end_date, fixings)\n",
    "print(f'Check tasa esperada es: {check:.8%}')\n",
    "\n",
    "suma_exito(resultado, check, 'tasa')"
   ]
  },
  {
   "cell_type": "markdown",
   "metadata": {},
   "source": [
    "### `present_value`"
   ]
  },
  {
   "cell_type": "code",
   "execution_count": 54,
   "metadata": {
    "ExecuteTime": {
     "end_time": "2020-12-01T20:27:51.665599Z",
     "start_time": "2020-12-01T20:27:51.646359Z"
    }
   },
   "outputs": [
    {
     "name": "stdout",
     "output_type": "stream",
     "text": [
      "Valor presente es: 9,997,383.0229\n",
      "Amount: 10,006,223.2979\n",
      "Df: 99.911652%\n",
      "VP check es: 9,997,383.0229\n",
      "Suma medio punto por obtener resultado.\n",
      "Suma 1 punto por obtener resultado dentro de la tolerancia.\n"
     ]
    }
   ],
   "source": [
    "# Check primer caso\n",
    "val_date = Qcf.QCDate(1, 6, 2019)\n",
    "set_expected_rate(val_date, ois, fixings, zcc)\n",
    "pv = present_value(val_date, ois, zcc)\n",
    "print(f'Valor presente es: {pv:,.4f}')\n",
    "amount = ois.amount()\n",
    "print(f'Amount: {amount:,.4f}')\n",
    "amount = ois.amount()\n",
    "plazo = val_date.day_diff(ois.settlement_date)\n",
    "df = zcc.get_discount_factor_at(plazo)\n",
    "print(f'Df: {df:.6%}')\n",
    "vp_check = df * amount\n",
    "print(f'VP check es: {vp_check:,.4f}')\n",
    "\n",
    "suma_exito(pv, vp_check, 'monto')"
   ]
  },
  {
   "cell_type": "code",
   "execution_count": 55,
   "metadata": {
    "ExecuteTime": {
     "end_time": "2020-12-01T20:27:54.851585Z",
     "start_time": "2020-12-01T20:27:54.824915Z"
    }
   },
   "outputs": [
    {
     "name": "stdout",
     "output_type": "stream",
     "text": [
      "Valor presente es: 10,000,000.0000\n",
      "Amount: 10,007,039.6797\n",
      "Df: 99.929653%\n",
      "VP check es: 10,000,000.0000\n",
      "Suma medio punto por obtener resultado.\n",
      "Suma 1 punto por obtener resultado dentro de la tolerancia.\n"
     ]
    }
   ],
   "source": [
    "# Check segundo caso borde\n",
    "val_date = Qcf.QCDate(1, 10, 2019)\n",
    "set_expected_rate(val_date, ois, fixings, zcc)\n",
    "pv = present_value(val_date, ois, zcc)\n",
    "print(f'Valor presente es: {pv:,.4f}')\n",
    "amount = ois.amount()\n",
    "print(f'Amount: {amount:,.4f}')\n",
    "amount = ois.amount()\n",
    "plazo = val_date.day_diff(ois.settlement_date)\n",
    "df = zcc.get_discount_factor_at(plazo)\n",
    "print(f'Df: {df:.6%}')\n",
    "vp_check = df * amount\n",
    "print(f'VP check es: {vp_check:,.4f}')\n",
    "\n",
    "suma_exito(pv, vp_check, 'monto')"
   ]
  },
  {
   "cell_type": "code",
   "execution_count": 56,
   "metadata": {
    "ExecuteTime": {
     "end_time": "2020-12-01T20:27:57.385582Z",
     "start_time": "2020-12-01T20:27:57.355847Z"
    }
   },
   "outputs": [
    {
     "name": "stdout",
     "output_type": "stream",
     "text": [
      "Valor presente es: 10,016,023.1254\n",
      "Amount: 10,022,535.8238\n",
      "Df: 99.935019%\n",
      "VP check es: 10,016,023.1254\n",
      "Suma medio punto por obtener resultado.\n",
      "Suma 1 punto por obtener resultado dentro de la tolerancia.\n"
     ]
    }
   ],
   "source": [
    "# Check segundo caso\n",
    "val_date = Qcf.QCDate(1, 11, 2019)\n",
    "set_expected_rate(val_date, ois, fixings, zcc)\n",
    "pv = present_value(val_date, ois, zcc)\n",
    "print(f'Valor presente es: {pv:,.4f}')\n",
    "amount = ois.amount()\n",
    "print(f'Amount: {amount:,.4f}')\n",
    "amount = ois.amount()\n",
    "plazo = val_date.day_diff(ois.settlement_date)\n",
    "df = zcc.get_discount_factor_at(plazo)\n",
    "print(f'Df: {df:.6%}')\n",
    "vp_check = df * amount\n",
    "print(f'VP check es: {vp_check:,.4f}')\n",
    "\n",
    "suma_exito(pv, vp_check, 'monto')"
   ]
  },
  {
   "cell_type": "code",
   "execution_count": 57,
   "metadata": {
    "ExecuteTime": {
     "end_time": "2020-12-01T20:27:58.421475Z",
     "start_time": "2020-12-01T20:27:58.378728Z"
    }
   },
   "outputs": [
    {
     "name": "stdout",
     "output_type": "stream",
     "text": [
      "Valor presente es: 0.0000\n",
      "Amount: 10,077,850.8996\n",
      "Df: 0.000000%\n",
      "VP check es: 0.0000\n",
      "Suma medio punto por obtener resultado.\n",
      "Suma 1 punto por obtener resultado dentro de la tolerancia.\n"
     ]
    }
   ],
   "source": [
    "# Check tercer caso borde\n",
    "val_date = Qcf.QCDate(1, 10, 2020)\n",
    "set_expected_rate(val_date, ois, fixings, zcc)\n",
    "pv = present_value(val_date, ois, zcc)\n",
    "print(f'Valor presente es: {pv:,.4f}')\n",
    "amount = ois.amount()\n",
    "print(f'Amount: {amount:,.4f}')\n",
    "amount = ois.amount()\n",
    "plazo = val_date.day_diff(ois.settlement_date)\n",
    "if plazo <= 0:\n",
    "    df = 0.0\n",
    "else:\n",
    "    df = zcc.get_discount_factor_at(plazo)\n",
    "print(f'Df: {df:.6%}')\n",
    "vp_check = df * amount\n",
    "print(f'VP check es: {vp_check:,.4f}')\n",
    "\n",
    "suma_exito(pv, vp_check, 'monto')"
   ]
  },
  {
   "cell_type": "code",
   "execution_count": 58,
   "metadata": {
    "ExecuteTime": {
     "end_time": "2020-12-01T20:28:00.763835Z",
     "start_time": "2020-12-01T20:28:00.723228Z"
    }
   },
   "outputs": [
    {
     "name": "stdout",
     "output_type": "stream",
     "text": [
      "Valor presente es: 0.0000\n",
      "Amount: 10,077,850.8996\n",
      "Df: 0.000000%\n",
      "VP check es: 0.0000\n",
      "Suma medio punto por obtener resultado.\n",
      "Suma 1 punto por obtener resultado dentro de la tolerancia.\n"
     ]
    }
   ],
   "source": [
    "# Check tercer caso\n",
    "val_date = Qcf.QCDate(15, 10, 2020)\n",
    "set_expected_rate(val_date, ois, fixings, zcc)\n",
    "pv = present_value(val_date, ois, zcc)\n",
    "print(f'Valor presente es: {pv:,.4f}')\n",
    "amount = ois.amount()\n",
    "print(f'Amount: {amount:,.4f}')\n",
    "amount = ois.amount()\n",
    "plazo = val_date.day_diff(ois.settlement_date)\n",
    "if plazo <= 0:\n",
    "    df = 0.0\n",
    "else:\n",
    "    df = zcc.get_discount_factor_at(plazo)\n",
    "print(f'Df: {df:.6%}')\n",
    "vp_check = df * amount\n",
    "print(f'VP check es: {vp_check:,.4f}')\n",
    "\n",
    "suma_exito(pv, vp_check, 'monto')"
   ]
  },
  {
   "cell_type": "code",
   "execution_count": 59,
   "metadata": {
    "ExecuteTime": {
     "end_time": "2020-12-01T20:28:03.483119Z",
     "start_time": "2020-12-01T20:28:03.477001Z"
    }
   },
   "outputs": [
    {
     "name": "stdout",
     "output_type": "stream",
     "text": [
      "Éxitos totales: 19.5\n"
     ]
    }
   ],
   "source": [
    "print(f'Éxitos totales: {exitos}')"
   ]
  }
 ],
 "metadata": {
  "hide_input": false,
  "kernelspec": {
   "display_name": "Python 3",
   "language": "python",
   "name": "python3"
  },
  "language_info": {
   "codemirror_mode": {
    "name": "ipython",
    "version": 3
   },
   "file_extension": ".py",
   "mimetype": "text/x-python",
   "name": "python",
   "nbconvert_exporter": "python",
   "pygments_lexer": "ipython3",
   "version": "3.7.3"
  },
  "latex_envs": {
   "LaTeX_envs_menu_present": true,
   "autoclose": true,
   "autocomplete": true,
   "bibliofile": "biblio.bib",
   "cite_by": "apalike",
   "current_citInitial": 1,
   "eqLabelWithNumbers": true,
   "eqNumInitial": 1,
   "hotkeys": {
    "equation": "Ctrl-E",
    "itemize": "Ctrl-I"
   },
   "labels_anchors": false,
   "latex_user_defs": false,
   "report_style_numbering": false,
   "user_envs_cfg": false
  },
  "toc": {
   "base_numbering": "8",
   "nav_menu": {},
   "number_sections": true,
   "sideBar": true,
   "skip_h1_title": false,
   "title_cell": "Table of Contents",
   "title_sidebar": "Contenido",
   "toc_cell": false,
   "toc_position": {
    "height": "calc(100% - 180px)",
    "left": "10px",
    "top": "150px",
    "width": "221.59375px"
   },
   "toc_section_display": true,
   "toc_window_display": true
  }
 },
 "nbformat": 4,
 "nbformat_minor": 4
}
