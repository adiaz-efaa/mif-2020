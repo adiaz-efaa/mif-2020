{
 "cells": [
  {
   "cell_type": "markdown",
   "metadata": {},
   "source": [
    "# Tarea 1"
   ]
  },
  {
   "cell_type": "markdown",
   "metadata": {},
   "source": [
    "Implementar la clase `OisCashflow`."
   ]
  },
  {
   "cell_type": "markdown",
   "metadata": {},
   "source": [
    "## Configuración Inicial"
   ]
  },
  {
   "cell_type": "code",
   "execution_count": 1,
   "metadata": {
    "ExecuteTime": {
     "end_time": "2020-12-01T23:54:28.690020Z",
     "start_time": "2020-12-01T23:54:28.090783Z"
    }
   },
   "outputs": [],
   "source": [
    "from finrisk import QC_Financial_3 as Qcf\n",
    "from dataclasses import dataclass\n",
    "import pandas as pd\n",
    "from enum import Enum"
   ]
  },
  {
   "cell_type": "code",
   "execution_count": 2,
   "metadata": {
    "ExecuteTime": {
     "end_time": "2020-12-01T23:54:30.034176Z",
     "start_time": "2020-12-01T23:54:30.028410Z"
    }
   },
   "outputs": [],
   "source": [
    "class BusCal(Enum):\n",
    "    NY = 1\n",
    "    SCL = 2"
   ]
  },
  {
   "cell_type": "code",
   "execution_count": 3,
   "metadata": {
    "ExecuteTime": {
     "end_time": "2020-12-01T23:54:31.162123Z",
     "start_time": "2020-12-01T23:54:31.062492Z"
    }
   },
   "outputs": [],
   "source": [
    "def get_cal(code: BusCal) -> Qcf.BusinessCalendar:\n",
    "    \"\"\"\n",
    "    \"\"\"\n",
    "    if code == BusCal.NY:\n",
    "        cal = Qcf.BusinessCalendar(Qcf.QCDate(1, 1, 2020), 20)\n",
    "        for agno in range(2020, 2071):\n",
    "            f = Qcf.QCDate(12, 10, agno)\n",
    "            if f.week_day() == Qcf.WeekDay.SAT:\n",
    "                cal.add_holiday(Qcf.QCDate(14, 10, agno))\n",
    "            elif f.week_day() == Qcf.WeekDay.SUN:\n",
    "                cal.add_holiday(Qcf.QCDate(13, 10, agno))\n",
    "            elif f.week_day() == Qcf.WeekDay.MON:\n",
    "                cal.add_holiday(Qcf.QCDate(12, 10, agno))\n",
    "            elif f.week_day() == Qcf.WeekDay.TUE:\n",
    "                cal.add_holiday(Qcf.QCDate(11, 10, agno))\n",
    "            elif f.week_day() == Qcf.WeekDay.WED:\n",
    "                cal.add_holiday(Qcf.QCDate(10, 10, agno))\n",
    "            elif f.week_day() == Qcf.WeekDay.THU:\n",
    "                cal.add_holiday(Qcf.QCDate(9, 10, agno))\n",
    "            else:\n",
    "                cal.add_holiday(Qcf.QCDate(8, 10, agno))\n",
    "        cal.add_holiday(Qcf.QCDate(15, 2, 2021))\n",
    "        \n",
    "    return cal"
   ]
  },
  {
   "cell_type": "markdown",
   "metadata": {},
   "source": [
    "## `Qcf.time_series`"
   ]
  },
  {
   "cell_type": "code",
   "execution_count": 4,
   "metadata": {
    "ExecuteTime": {
     "end_time": "2020-12-01T23:54:33.378011Z",
     "start_time": "2020-12-01T23:54:33.363506Z"
    }
   },
   "outputs": [
    {
     "name": "stdout",
     "output_type": "stream",
     "text": [
      "ts[fecha1]: 19690113.0\n",
      "\n",
      "19690113.0\n",
      "19690114.0\n",
      "listo\n",
      "19690115.0\n"
     ]
    }
   ],
   "source": [
    "ts = Qcf.time_series()\n",
    "\n",
    "fecha1 = Qcf.QCDate(13, 1, 1969)\n",
    "ts[fecha1] = 19690113\n",
    "\n",
    "fecha2 = Qcf.QCDate(14, 1, 1969)\n",
    "ts[fecha2] = 19690114\n",
    "fecha3 = Qcf.QCDate(15, 1, 1969)\n",
    "ts[fecha3] = 19690115\n",
    "\n",
    "print(f'ts[fecha1]: {ts[fecha1]}\\n')\n",
    "\n",
    "dl = Qcf.time_series_dates(ts)\n",
    "\n",
    "for d in dl:\n",
    "    \n",
    "    print(ts[d])\n",
    "    \n",
    "    if ts[d]==ts[fecha2]:\n",
    "        print(\"listo\")"
   ]
  },
  {
   "cell_type": "code",
   "execution_count": 5,
   "metadata": {
    "ExecuteTime": {
     "end_time": "2020-12-01T23:54:34.380990Z",
     "start_time": "2020-12-01T23:54:34.370031Z"
    }
   },
   "outputs": [
    {
     "name": "stdout",
     "output_type": "stream",
     "text": [
      "ts[fecha1]: 19690113.0\n",
      "\n",
      "1\n",
      "13-1-1969\n",
      "14-1-1969\n",
      "15\n"
     ]
    }
   ],
   "source": [
    "ts = Qcf.time_series()\n",
    "\n",
    "fecha1 = Qcf.QCDate(13, 1, 1969)\n",
    "ts[fecha1] = 19690113\n",
    "\n",
    "fecha2 = Qcf.QCDate(14, 1, 1969)\n",
    "ts[fecha2] = 19690114\n",
    "fecha3 = Qcf.QCDate(15, 1, 1969)\n",
    "ts[fecha3] = 19690115\n",
    "\n",
    "print(f'ts[fecha1]: {ts[fecha1]}\\n')\n",
    "dl = Qcf.time_series_dates(ts)\n",
    "x=fecha1.day_diff(fecha2) \n",
    "print(x)\n",
    "for d in dl:\n",
    "    \n",
    "    print(d)\n",
    "    if d==fecha2:\n",
    "        print(15)\n",
    "        break"
   ]
  },
  {
   "cell_type": "markdown",
   "metadata": {},
   "source": [
    "## Clase `OisCashflow`"
   ]
  },
  {
   "cell_type": "markdown",
   "metadata": {},
   "source": [
    "La clase `OisCashflow` es una [`dataclass`](https://realpython.com/python-data-classes/). La tarea consiste en:\n",
    "\n",
    "- Implementar los 3 métodos de la clase que están con `pass`.\n",
    "- Implementar la función `present_value`.\n",
    "- Implementar la función `set_expected_rate`."
   ]
  },
  {
   "cell_type": "code",
   "execution_count": 6,
   "metadata": {
    "ExecuteTime": {
     "end_time": "2020-12-01T23:54:36.975731Z",
     "start_time": "2020-12-01T23:54:36.957792Z"
    }
   },
   "outputs": [],
   "source": [
    "@dataclass # syntactic sugar\n",
    "class OisCashflow:\n",
    "    start_date: Qcf.QCDate\n",
    "    end_date: Qcf.QCDate\n",
    "    settlement_date: Qcf.QCDate\n",
    "    notional: float\n",
    "    currency: Qcf.QCCurrency\n",
    "    amortization: float\n",
    "    amort_is_cashflow: bool\n",
    "    interest_rate: Qcf.QCInterestRate\n",
    "    on_index: Qcf.InterestRateIndex\n",
    "    spread: float\n",
    "    gearing: float\n",
    "        \n",
    "    def get_accrued_rate(self, accrual_date: Qcf.QCDate, fixings: Qcf.time_series) -> float:\n",
    "        \n",
    "        P=1\n",
    "        fechas=Qcf.time_series_dates(fixings)#calendario con fechas hasta accrual_date\n",
    "        for fecha in fechas:\n",
    "            P=(1+fixings[fecha])*P\n",
    "            if fecha==accrual_date:\n",
    "                break\n",
    "            \n",
    "        dias = self.start_date.day_diff(accrual_date) #dias es fecha actual menos inicial\n",
    "        accrued=(P - 1) * 360 / (dias)\n",
    "        \n",
    "        return accrued\n",
    "        \n",
    "        \n",
    "    \n",
    "    def get_accrued_interest(self, accrual_date: Qcf.QCDate, fixings: Qcf.time_series) -> float:\n",
    "        \n",
    "        \n",
    "        dias = self.start_date.day_diff(accrual_date) #dias es fecha actual menos inicial\n",
    "        acc_interest=self.notional*self.get_accrued_rate(accrual_date, fixings) * dias/360\n",
    "        \n",
    "        return acc_interest\n",
    "       \n",
    "    \n",
    "    def amount(self, fixings: Qcf.time_series) -> float:\n",
    "       \n",
    "        valor=0\n",
    "        for fecha in calendario: #fecha donde pago intereses\n",
    "            valor=valor+self.get_accrued_interest(fecha, fixings)\n",
    "           \n",
    "        amount=nocional+valor\n",
    "        return amount"
   ]
  },
  {
   "cell_type": "markdown",
   "metadata": {},
   "source": [
    "Construcción de un objeto `Qcf.InterestRateIndex`."
   ]
  },
  {
   "cell_type": "code",
   "execution_count": 7,
   "metadata": {
    "ExecuteTime": {
     "end_time": "2020-12-01T23:54:42.993608Z",
     "start_time": "2020-12-01T23:54:42.982886Z"
    }
   },
   "outputs": [],
   "source": [
    "codigo = 'SOFR'\n",
    "tasa_on = Qcf.QCInterestRate(.0, Qcf.QCAct360(), Qcf.QCLinearWf())\n",
    "fixing_lag = Qcf.Tenor('0d')\n",
    "tenor = Qcf.Tenor('1d')\n",
    "fixing_calendar = get_cal(BusCal.NY)     \n",
    "settlement_calendar = fixing_calendar  \n",
    "sofr = Qcf.InterestRateIndex(\n",
    "    codigo,\n",
    "    tasa_on,\n",
    "    fixing_lag,\n",
    "    tenor,\n",
    "    fixing_calendar,\n",
    "    settlement_calendar,\n",
    "    Qcf.QCUSD()\n",
    ")"
   ]
  },
  {
   "cell_type": "markdown",
   "metadata": {},
   "source": [
    "Construcción de una instancia de `OisCashflow`."
   ]
  },
  {
   "cell_type": "code",
   "execution_count": 8,
   "metadata": {
    "ExecuteTime": {
     "end_time": "2020-12-01T23:54:44.386784Z",
     "start_time": "2020-12-01T23:54:44.380322Z"
    }
   },
   "outputs": [],
   "source": [
    "ois = OisCashflow(\n",
    "    Qcf.QCDate(13, 1, 2020),\n",
    "    Qcf.QCDate(13, 1, 2021),\n",
    "    Qcf.QCDate(13, 1, 2021),\n",
    "    10000000,\n",
    "    Qcf.QCUSD(),\n",
    "    1000000,\n",
    "    True,\n",
    "    Qcf.QCInterestRate(0.0, Qcf.QCAct360(), Qcf.QCLinearWf()),\n",
    "    sofr,\n",
    "    0,\n",
    "    1\n",
    ")"
   ]
  },
  {
   "cell_type": "code",
   "execution_count": 9,
   "metadata": {
    "ExecuteTime": {
     "end_time": "2020-12-01T23:54:48.975190Z",
     "start_time": "2020-12-01T23:54:48.939789Z"
    }
   },
   "outputs": [
    {
     "name": "stdout",
     "output_type": "stream",
     "text": [
      "    plazo      tasa        df\n",
      "0       1  0.000811  0.999998\n",
      "1       7  0.000841  0.999984\n",
      "2      14  0.000780  0.999970\n",
      "3      21  0.000774  0.999955\n",
      "4      33  0.000781  0.999929\n",
      "5      61  0.000781  0.999870\n",
      "6      92  0.000811  0.999796\n",
      "7     125  0.000781  0.999733\n",
      "8     152  0.000760  0.999683\n",
      "9     182  0.000750  0.999626\n",
      "10    212  0.000736  0.999573\n",
      "11    243  0.000725  0.999518\n",
      "12    273  0.000720  0.999462\n",
      "13    306  0.000714  0.999402\n",
      "14    335  0.000708  0.999350\n",
      "15    365  0.000702  0.999298\n",
      "16    547  0.000642  0.999039\n",
      "17    730  0.000568  0.998865\n",
      "18   1097  0.000750  0.997748\n",
      "19   1462  0.001258  0.994976\n",
      "20   1826  0.001939  0.990348\n",
      "21   2191  0.002775  0.983483\n",
      "22   2556  0.003603  0.975082\n",
      "23   2924  0.004384  0.965489\n",
      "24   3288  0.005117  0.954953\n",
      "25   3653  0.005812  0.943495\n",
      "26   4383  0.006917  0.920290\n",
      "27   5479  0.008064  0.885997\n",
      "28   7306  0.009253  0.830924\n",
      "29   9133  0.009657  0.785338\n",
      "30  10957  0.009881  0.743326\n",
      "31  14610  0.009408  0.686197\n",
      "32  18262  0.008464  0.654757\n"
     ]
    }
   ],
   "source": [
    "df_curva = pd.read_excel('../data/20201012_built_sofr_zero.xlsx')\n",
    "print(df_curva)"
   ]
  },
  {
   "cell_type": "code",
   "execution_count": 10,
   "metadata": {
    "ExecuteTime": {
     "end_time": "2020-12-01T23:54:51.516132Z",
     "start_time": "2020-12-01T23:54:51.509811Z"
    }
   },
   "outputs": [
    {
     "name": "stdout",
     "output_type": "stream",
     "text": [
      "Hacer algo\n"
     ]
    }
   ],
   "source": [
    "try:\n",
    "    ois.test1(0)\n",
    "except Exception as e:\n",
    "    print('Hacer algo')"
   ]
  },
  {
   "cell_type": "code",
   "execution_count": 11,
   "metadata": {
    "ExecuteTime": {
     "end_time": "2020-12-01T23:54:52.336098Z",
     "start_time": "2020-12-01T23:54:52.329961Z"
    }
   },
   "outputs": [
    {
     "name": "stdout",
     "output_type": "stream",
     "text": [
      "13-1-2020\n"
     ]
    }
   ],
   "source": [
    "print(ois.start_date)"
   ]
  },
  {
   "cell_type": "code",
   "execution_count": 12,
   "metadata": {
    "ExecuteTime": {
     "end_time": "2020-12-01T23:54:53.114881Z",
     "start_time": "2020-12-01T23:54:53.100553Z"
    }
   },
   "outputs": [
    {
     "name": "stdout",
     "output_type": "stream",
     "text": [
      "0.000000 Act360 Lin\n"
     ]
    }
   ],
   "source": [
    "print(ois.interest_rate)"
   ]
  },
  {
   "cell_type": "markdown",
   "metadata": {},
   "source": [
    "## Funciones"
   ]
  },
  {
   "cell_type": "code",
   "execution_count": 13,
   "metadata": {
    "ExecuteTime": {
     "end_time": "2020-12-01T23:54:54.437563Z",
     "start_time": "2020-12-01T23:54:54.428682Z"
    }
   },
   "outputs": [],
   "source": [
    "def set_expected_rate(\n",
    "        val_date: Qcf.QCDate,\n",
    "        ois_cashflow: OisCashflow,\n",
    "        zcc: Qcf.ZeroCouponCurve,\n",
    "        fixings: Qcf.time_series) -> None:\n",
    "    \n",
    "    \n",
    "    sofr1= zcc.get_discount_factor_at(val_date)\n",
    "    sofr2= zcc.get_discount_factor_at(OisCashflow.end_date)\n",
    "    e_rate=((sofr2/sofr1)-1)*360.0/(val_date.day_diff(OisCashflow.end_date))\n",
    "    \n",
    "    return e_rate\n",
    "   \n",
    "    # Para un OIS calculando en t0 un cashflow entre (t0 <) t1 < t2\n",
    "    # ICP(t0)*wf(to, t2) = ICP(t2), ICP(t0)*w(t0, t1)=ICP(t1) -> ICP(t2)/ICP(t1)=ICP(t1,t2)\n",
    "    # tasa(t1, t2) = [ICP(t1, t2) - 1]*360 / (t2-t1)\n",
    "    # El ICP se puede pensar como el account asociado a la tasa interbancaria chilena,\n",
    "    # que es el índice overnight chileno.\n",
    "    #\n",
    "    # Cuando t1 < t0 < t2 tener un poquito de ojo ... porque el cashflow ya tiene fixings."
   ]
  },
  {
   "cell_type": "code",
   "execution_count": 14,
   "metadata": {
    "ExecuteTime": {
     "end_time": "2020-12-01T23:54:57.010914Z",
     "start_time": "2020-12-01T23:54:57.000501Z"
    }
   },
   "outputs": [],
   "source": [
    "def present_value(val_date: Qcf.QCDate,\n",
    "                  ois_cashflow: OisCashflow,\n",
    "                  zcc: Qcf.ZeroCouponCurve) -> float:\n",
    "   \n",
    "    fecha_vcto = OisCashflow.end_date\n",
    "    monto = ois_cashflow.notional\n",
    "    usd = Qcf.QCUSD()\n",
    "\n",
    "# Se construye el depósito\n",
    "    depo = Qcf.SimpleCashflow(fecha_vcto, monto, usd)\n",
    "# val_date fecha de hoy\n",
    "    plazo = val_date.day_diff(fecha_vcto)\n",
    "    tasa_int = set_expected_rate(\n",
    "        val_date,\n",
    "        ois_cashflow,\n",
    "        zcc,\n",
    "        fixings)\n",
    "    valor_presente = monto * (1 + tasa_int)**(-plazo / 365)\n",
    "    \n",
    "    return valor_presente"
   ]
  },
  {
   "cell_type": "markdown",
   "metadata": {},
   "source": [
    "## Tests"
   ]
  },
  {
   "cell_type": "code",
   "execution_count": 15,
   "metadata": {
    "ExecuteTime": {
     "end_time": "2020-12-01T23:56:05.535901Z",
     "start_time": "2020-12-01T23:56:05.529731Z"
    }
   },
   "outputs": [],
   "source": [
    "import sys\n",
    "sys.path.insert(1, '../modules')\n",
    "import auxiliary as aux"
   ]
  },
  {
   "cell_type": "code",
   "execution_count": 16,
   "metadata": {
    "ExecuteTime": {
     "end_time": "2020-12-01T23:56:06.359556Z",
     "start_time": "2020-12-01T23:56:06.348559Z"
    }
   },
   "outputs": [],
   "source": [
    "amount_tol = 10000\n",
    "rate_tol = .001"
   ]
  },
  {
   "cell_type": "code",
   "execution_count": 17,
   "metadata": {
    "ExecuteTime": {
     "end_time": "2020-12-01T23:56:07.075817Z",
     "start_time": "2020-12-01T23:56:07.070045Z"
    }
   },
   "outputs": [],
   "source": [
    "exitos = 0"
   ]
  },
  {
   "cell_type": "code",
   "execution_count": 18,
   "metadata": {
    "ExecuteTime": {
     "end_time": "2020-12-01T23:56:09.176936Z",
     "start_time": "2020-12-01T23:56:09.170242Z"
    }
   },
   "outputs": [],
   "source": [
    "def suma_exito(resultado, check, tipo):\n",
    "    global exitos\n",
    "    if resultado is None:\n",
    "        return\n",
    "    else:\n",
    "        print('Suma medio punto por obtener resultado.')\n",
    "        exitos += .5\n",
    "        if tipo == 'monto':\n",
    "            if abs(resultado - check) < amount_tol:\n",
    "                print('Suma 1 punto por obtener resultado dentro de la tolerancia.')\n",
    "                exitos += 1\n",
    "        else:\n",
    "            if abs(resultado - check) < rate_tol:\n",
    "                print('Suma 1 punto por obtener resultado dentro de la tolerancia.')\n",
    "                exitos += 1"
   ]
  },
  {
   "cell_type": "markdown",
   "metadata": {},
   "source": [
    "Construcción de una instancia de `OisCashflow`."
   ]
  },
  {
   "cell_type": "code",
   "execution_count": 20,
   "metadata": {
    "ExecuteTime": {
     "end_time": "2020-12-01T23:56:16.530864Z",
     "start_time": "2020-12-01T23:56:16.523368Z"
    }
   },
   "outputs": [],
   "source": [
    "ois = OisCashflow(\n",
    "    Qcf.QCDate(1, 10, 2019),\n",
    "    Qcf.QCDate(1, 10, 2020),\n",
    "    Qcf.QCDate(1, 10, 2020),\n",
    "    10000000,\n",
    "    Qcf.QCUSD(),\n",
    "    1000000,\n",
    "    True,\n",
    "    Qcf.QCInterestRate(0.0, Qcf.QCAct360(), Qcf.QCLinearWf()),\n",
    "    sofr,\n",
    "    0,\n",
    "    1\n",
    ")"
   ]
  },
  {
   "cell_type": "markdown",
   "metadata": {},
   "source": [
    "En la siguiente variable `exitos` se registra cuantos tests se superan con éxito."
   ]
  },
  {
   "cell_type": "markdown",
   "metadata": {},
   "source": [
    "### Objeto `fixings`"
   ]
  },
  {
   "cell_type": "code",
   "execution_count": 21,
   "metadata": {
    "ExecuteTime": {
     "end_time": "2020-12-01T23:56:18.596784Z",
     "start_time": "2020-12-01T23:56:18.560198Z"
    }
   },
   "outputs": [],
   "source": [
    "df_fixings = pd.read_excel('../data/SOFR-10012019-10292020.xls', sheet_name='nice format')\n",
    "df_fixings.columns = ['fecha', 'nombre', 'valor']\n",
    "df_fixings['valor'] /= 100"
   ]
  },
  {
   "cell_type": "code",
   "execution_count": 22,
   "metadata": {
    "ExecuteTime": {
     "end_time": "2020-12-01T23:56:19.735187Z",
     "start_time": "2020-12-01T23:56:19.630233Z"
    }
   },
   "outputs": [
    {
     "data": {
      "text/html": [
       "<style  type=\"text/css\" >\n",
       "</style><table id=\"T_cec869bc_3430_11eb_a3d0_02cba411ec9d\" ><thead>    <tr>        <th class=\"blank level0\" ></th>        <th class=\"col_heading level0 col0\" >fecha</th>        <th class=\"col_heading level0 col1\" >nombre</th>        <th class=\"col_heading level0 col2\" >valor</th>    </tr></thead><tbody>\n",
       "                <tr>\n",
       "                        <th id=\"T_cec869bc_3430_11eb_a3d0_02cba411ec9dlevel0_row0\" class=\"row_heading level0 row0\" >0</th>\n",
       "                        <td id=\"T_cec869bc_3430_11eb_a3d0_02cba411ec9drow0_col0\" class=\"data row0 col0\" >2020-10-28</td>\n",
       "                        <td id=\"T_cec869bc_3430_11eb_a3d0_02cba411ec9drow0_col1\" class=\"data row0 col1\" >SOFR</td>\n",
       "                        <td id=\"T_cec869bc_3430_11eb_a3d0_02cba411ec9drow0_col2\" class=\"data row0 col2\" >0.0800%</td>\n",
       "            </tr>\n",
       "            <tr>\n",
       "                        <th id=\"T_cec869bc_3430_11eb_a3d0_02cba411ec9dlevel0_row1\" class=\"row_heading level0 row1\" >1</th>\n",
       "                        <td id=\"T_cec869bc_3430_11eb_a3d0_02cba411ec9drow1_col0\" class=\"data row1 col0\" >2020-10-27</td>\n",
       "                        <td id=\"T_cec869bc_3430_11eb_a3d0_02cba411ec9drow1_col1\" class=\"data row1 col1\" >SOFR</td>\n",
       "                        <td id=\"T_cec869bc_3430_11eb_a3d0_02cba411ec9drow1_col2\" class=\"data row1 col2\" >0.0900%</td>\n",
       "            </tr>\n",
       "            <tr>\n",
       "                        <th id=\"T_cec869bc_3430_11eb_a3d0_02cba411ec9dlevel0_row2\" class=\"row_heading level0 row2\" >2</th>\n",
       "                        <td id=\"T_cec869bc_3430_11eb_a3d0_02cba411ec9drow2_col0\" class=\"data row2 col0\" >2020-10-26</td>\n",
       "                        <td id=\"T_cec869bc_3430_11eb_a3d0_02cba411ec9drow2_col1\" class=\"data row2 col1\" >SOFR</td>\n",
       "                        <td id=\"T_cec869bc_3430_11eb_a3d0_02cba411ec9drow2_col2\" class=\"data row2 col2\" >0.0900%</td>\n",
       "            </tr>\n",
       "            <tr>\n",
       "                        <th id=\"T_cec869bc_3430_11eb_a3d0_02cba411ec9dlevel0_row3\" class=\"row_heading level0 row3\" >3</th>\n",
       "                        <td id=\"T_cec869bc_3430_11eb_a3d0_02cba411ec9drow3_col0\" class=\"data row3 col0\" >2020-10-23</td>\n",
       "                        <td id=\"T_cec869bc_3430_11eb_a3d0_02cba411ec9drow3_col1\" class=\"data row3 col1\" >SOFR</td>\n",
       "                        <td id=\"T_cec869bc_3430_11eb_a3d0_02cba411ec9drow3_col2\" class=\"data row3 col2\" >0.0800%</td>\n",
       "            </tr>\n",
       "            <tr>\n",
       "                        <th id=\"T_cec869bc_3430_11eb_a3d0_02cba411ec9dlevel0_row4\" class=\"row_heading level0 row4\" >4</th>\n",
       "                        <td id=\"T_cec869bc_3430_11eb_a3d0_02cba411ec9drow4_col0\" class=\"data row4 col0\" >2020-10-22</td>\n",
       "                        <td id=\"T_cec869bc_3430_11eb_a3d0_02cba411ec9drow4_col1\" class=\"data row4 col1\" >SOFR</td>\n",
       "                        <td id=\"T_cec869bc_3430_11eb_a3d0_02cba411ec9drow4_col2\" class=\"data row4 col2\" >0.0700%</td>\n",
       "            </tr>\n",
       "    </tbody></table>"
      ],
      "text/plain": [
       "<pandas.io.formats.style.Styler at 0x7f250c0adda0>"
      ]
     },
     "execution_count": 22,
     "metadata": {},
     "output_type": "execute_result"
    }
   ],
   "source": [
    "df_fixings.head().style.format({'valor': '{:.4%}'})"
   ]
  },
  {
   "cell_type": "code",
   "execution_count": 23,
   "metadata": {
    "ExecuteTime": {
     "end_time": "2020-12-01T23:56:21.840927Z",
     "start_time": "2020-12-01T23:56:21.830890Z"
    }
   },
   "outputs": [],
   "source": [
    "fixings = Qcf.time_series()\n",
    "for row in df_fixings.itertuples():\n",
    "    fixings[Qcf.build_qcdate_from_string(row.fecha)] = row.valor"
   ]
  },
  {
   "cell_type": "code",
   "execution_count": 24,
   "metadata": {
    "ExecuteTime": {
     "end_time": "2020-12-01T23:56:22.629281Z",
     "start_time": "2020-12-01T23:56:22.620280Z"
    }
   },
   "outputs": [
    {
     "data": {
      "text/plain": [
       "0.0154"
      ]
     },
     "execution_count": 24,
     "metadata": {},
     "output_type": "execute_result"
    }
   ],
   "source": [
    "fixings[Qcf.QCDate(13, 1, 2020)]"
   ]
  },
  {
   "cell_type": "markdown",
   "metadata": {},
   "source": [
    "### `OisCashflow.accrued_rate`"
   ]
  },
  {
   "cell_type": "code",
   "execution_count": 25,
   "metadata": {
    "ExecuteTime": {
     "end_time": "2020-12-01T23:56:24.789842Z",
     "start_time": "2020-12-01T23:56:24.782976Z"
    }
   },
   "outputs": [
    {
     "name": "stdout",
     "output_type": "stream",
     "text": [
      "accrued rate: 705.49474235%\n"
     ]
    }
   ],
   "source": [
    "accrued_rate = ois.get_accrued_rate(Qcf.QCDate(15, 6, 2020), fixings)\n",
    "print(f'accrued rate: {accrued_rate:.8%}')"
   ]
  },
  {
   "cell_type": "markdown",
   "metadata": {},
   "source": [
    "Se verificará el cálculo usando `df_fixings`."
   ]
  },
  {
   "cell_type": "code",
   "execution_count": 26,
   "metadata": {
    "ExecuteTime": {
     "end_time": "2020-12-01T23:56:28.401717Z",
     "start_time": "2020-12-01T23:56:28.390697Z"
    }
   },
   "outputs": [
    {
     "data": {
      "text/html": [
       "<style  type=\"text/css\" >\n",
       "</style><table id=\"T_d3f3611c_3430_11eb_a3d0_02cba411ec9d\" ><thead>    <tr>        <th class=\"blank level0\" ></th>        <th class=\"col_heading level0 col0\" >fecha</th>        <th class=\"col_heading level0 col1\" >nombre</th>        <th class=\"col_heading level0 col2\" >valor</th>    </tr></thead><tbody>\n",
       "                <tr>\n",
       "                        <th id=\"T_d3f3611c_3430_11eb_a3d0_02cba411ec9dlevel0_row0\" class=\"row_heading level0 row0\" >0</th>\n",
       "                        <td id=\"T_d3f3611c_3430_11eb_a3d0_02cba411ec9drow0_col0\" class=\"data row0 col0\" >2020-10-28</td>\n",
       "                        <td id=\"T_d3f3611c_3430_11eb_a3d0_02cba411ec9drow0_col1\" class=\"data row0 col1\" >SOFR</td>\n",
       "                        <td id=\"T_d3f3611c_3430_11eb_a3d0_02cba411ec9drow0_col2\" class=\"data row0 col2\" >0.0800%</td>\n",
       "            </tr>\n",
       "            <tr>\n",
       "                        <th id=\"T_d3f3611c_3430_11eb_a3d0_02cba411ec9dlevel0_row1\" class=\"row_heading level0 row1\" >1</th>\n",
       "                        <td id=\"T_d3f3611c_3430_11eb_a3d0_02cba411ec9drow1_col0\" class=\"data row1 col0\" >2020-10-27</td>\n",
       "                        <td id=\"T_d3f3611c_3430_11eb_a3d0_02cba411ec9drow1_col1\" class=\"data row1 col1\" >SOFR</td>\n",
       "                        <td id=\"T_d3f3611c_3430_11eb_a3d0_02cba411ec9drow1_col2\" class=\"data row1 col2\" >0.0900%</td>\n",
       "            </tr>\n",
       "            <tr>\n",
       "                        <th id=\"T_d3f3611c_3430_11eb_a3d0_02cba411ec9dlevel0_row2\" class=\"row_heading level0 row2\" >2</th>\n",
       "                        <td id=\"T_d3f3611c_3430_11eb_a3d0_02cba411ec9drow2_col0\" class=\"data row2 col0\" >2020-10-26</td>\n",
       "                        <td id=\"T_d3f3611c_3430_11eb_a3d0_02cba411ec9drow2_col1\" class=\"data row2 col1\" >SOFR</td>\n",
       "                        <td id=\"T_d3f3611c_3430_11eb_a3d0_02cba411ec9drow2_col2\" class=\"data row2 col2\" >0.0900%</td>\n",
       "            </tr>\n",
       "            <tr>\n",
       "                        <th id=\"T_d3f3611c_3430_11eb_a3d0_02cba411ec9dlevel0_row3\" class=\"row_heading level0 row3\" >3</th>\n",
       "                        <td id=\"T_d3f3611c_3430_11eb_a3d0_02cba411ec9drow3_col0\" class=\"data row3 col0\" >2020-10-23</td>\n",
       "                        <td id=\"T_d3f3611c_3430_11eb_a3d0_02cba411ec9drow3_col1\" class=\"data row3 col1\" >SOFR</td>\n",
       "                        <td id=\"T_d3f3611c_3430_11eb_a3d0_02cba411ec9drow3_col2\" class=\"data row3 col2\" >0.0800%</td>\n",
       "            </tr>\n",
       "            <tr>\n",
       "                        <th id=\"T_d3f3611c_3430_11eb_a3d0_02cba411ec9dlevel0_row4\" class=\"row_heading level0 row4\" >4</th>\n",
       "                        <td id=\"T_d3f3611c_3430_11eb_a3d0_02cba411ec9drow4_col0\" class=\"data row4 col0\" >2020-10-22</td>\n",
       "                        <td id=\"T_d3f3611c_3430_11eb_a3d0_02cba411ec9drow4_col1\" class=\"data row4 col1\" >SOFR</td>\n",
       "                        <td id=\"T_d3f3611c_3430_11eb_a3d0_02cba411ec9drow4_col2\" class=\"data row4 col2\" >0.0700%</td>\n",
       "            </tr>\n",
       "    </tbody></table>"
      ],
      "text/plain": [
       "<pandas.io.formats.style.Styler at 0x7f24d36c5c88>"
      ]
     },
     "execution_count": 26,
     "metadata": {},
     "output_type": "execute_result"
    }
   ],
   "source": [
    "df_fixings.head().style.format({'valor': '{:.4%}'})"
   ]
  },
  {
   "cell_type": "markdown",
   "metadata": {
    "ExecuteTime": {
     "end_time": "2020-11-28T10:46:07.293545Z",
     "start_time": "2020-11-28T10:46:07.285532Z"
    }
   },
   "source": [
    "Se agrega la columna `next_date`, servirá para calcular el factor de capitalización de cada tasa."
   ]
  },
  {
   "cell_type": "code",
   "execution_count": 27,
   "metadata": {
    "ExecuteTime": {
     "end_time": "2020-12-01T23:56:29.745658Z",
     "start_time": "2020-12-01T23:56:29.739792Z"
    }
   },
   "outputs": [],
   "source": [
    "def next_date(fecha:str, calendario: Qcf.BusinessCalendar) -> str:\n",
    "    qfecha = Qcf.build_qcdate_from_string(fecha)\n",
    "    next_fecha = calendario.shift(qfecha, 1)\n",
    "    return next_fecha.description(False)"
   ]
  },
  {
   "cell_type": "code",
   "execution_count": 28,
   "metadata": {
    "ExecuteTime": {
     "end_time": "2020-12-01T23:56:30.321415Z",
     "start_time": "2020-12-01T23:56:30.280592Z"
    }
   },
   "outputs": [],
   "source": [
    "df_fixings['next_fecha'] = df_fixings.apply(\n",
    "    lambda row: next_date(row['fecha'], settlement_calendar),\n",
    "    axis=1\n",
    ")"
   ]
  },
  {
   "cell_type": "code",
   "execution_count": 29,
   "metadata": {
    "ExecuteTime": {
     "end_time": "2020-12-01T23:56:30.929571Z",
     "start_time": "2020-12-01T23:56:30.860670Z"
    }
   },
   "outputs": [
    {
     "data": {
      "text/html": [
       "<style  type=\"text/css\" >\n",
       "</style><table id=\"T_d56da7a0_3430_11eb_a3d0_02cba411ec9d\" ><thead>    <tr>        <th class=\"blank level0\" ></th>        <th class=\"col_heading level0 col0\" >fecha</th>        <th class=\"col_heading level0 col1\" >nombre</th>        <th class=\"col_heading level0 col2\" >valor</th>        <th class=\"col_heading level0 col3\" >next_fecha</th>    </tr></thead><tbody>\n",
       "                <tr>\n",
       "                        <th id=\"T_d56da7a0_3430_11eb_a3d0_02cba411ec9dlevel0_row0\" class=\"row_heading level0 row0\" >0</th>\n",
       "                        <td id=\"T_d56da7a0_3430_11eb_a3d0_02cba411ec9drow0_col0\" class=\"data row0 col0\" >2020-10-28</td>\n",
       "                        <td id=\"T_d56da7a0_3430_11eb_a3d0_02cba411ec9drow0_col1\" class=\"data row0 col1\" >SOFR</td>\n",
       "                        <td id=\"T_d56da7a0_3430_11eb_a3d0_02cba411ec9drow0_col2\" class=\"data row0 col2\" >0.0800%</td>\n",
       "                        <td id=\"T_d56da7a0_3430_11eb_a3d0_02cba411ec9drow0_col3\" class=\"data row0 col3\" >2020-10-29</td>\n",
       "            </tr>\n",
       "            <tr>\n",
       "                        <th id=\"T_d56da7a0_3430_11eb_a3d0_02cba411ec9dlevel0_row1\" class=\"row_heading level0 row1\" >1</th>\n",
       "                        <td id=\"T_d56da7a0_3430_11eb_a3d0_02cba411ec9drow1_col0\" class=\"data row1 col0\" >2020-10-27</td>\n",
       "                        <td id=\"T_d56da7a0_3430_11eb_a3d0_02cba411ec9drow1_col1\" class=\"data row1 col1\" >SOFR</td>\n",
       "                        <td id=\"T_d56da7a0_3430_11eb_a3d0_02cba411ec9drow1_col2\" class=\"data row1 col2\" >0.0900%</td>\n",
       "                        <td id=\"T_d56da7a0_3430_11eb_a3d0_02cba411ec9drow1_col3\" class=\"data row1 col3\" >2020-10-28</td>\n",
       "            </tr>\n",
       "            <tr>\n",
       "                        <th id=\"T_d56da7a0_3430_11eb_a3d0_02cba411ec9dlevel0_row2\" class=\"row_heading level0 row2\" >2</th>\n",
       "                        <td id=\"T_d56da7a0_3430_11eb_a3d0_02cba411ec9drow2_col0\" class=\"data row2 col0\" >2020-10-26</td>\n",
       "                        <td id=\"T_d56da7a0_3430_11eb_a3d0_02cba411ec9drow2_col1\" class=\"data row2 col1\" >SOFR</td>\n",
       "                        <td id=\"T_d56da7a0_3430_11eb_a3d0_02cba411ec9drow2_col2\" class=\"data row2 col2\" >0.0900%</td>\n",
       "                        <td id=\"T_d56da7a0_3430_11eb_a3d0_02cba411ec9drow2_col3\" class=\"data row2 col3\" >2020-10-27</td>\n",
       "            </tr>\n",
       "            <tr>\n",
       "                        <th id=\"T_d56da7a0_3430_11eb_a3d0_02cba411ec9dlevel0_row3\" class=\"row_heading level0 row3\" >3</th>\n",
       "                        <td id=\"T_d56da7a0_3430_11eb_a3d0_02cba411ec9drow3_col0\" class=\"data row3 col0\" >2020-10-23</td>\n",
       "                        <td id=\"T_d56da7a0_3430_11eb_a3d0_02cba411ec9drow3_col1\" class=\"data row3 col1\" >SOFR</td>\n",
       "                        <td id=\"T_d56da7a0_3430_11eb_a3d0_02cba411ec9drow3_col2\" class=\"data row3 col2\" >0.0800%</td>\n",
       "                        <td id=\"T_d56da7a0_3430_11eb_a3d0_02cba411ec9drow3_col3\" class=\"data row3 col3\" >2020-10-26</td>\n",
       "            </tr>\n",
       "            <tr>\n",
       "                        <th id=\"T_d56da7a0_3430_11eb_a3d0_02cba411ec9dlevel0_row4\" class=\"row_heading level0 row4\" >4</th>\n",
       "                        <td id=\"T_d56da7a0_3430_11eb_a3d0_02cba411ec9drow4_col0\" class=\"data row4 col0\" >2020-10-22</td>\n",
       "                        <td id=\"T_d56da7a0_3430_11eb_a3d0_02cba411ec9drow4_col1\" class=\"data row4 col1\" >SOFR</td>\n",
       "                        <td id=\"T_d56da7a0_3430_11eb_a3d0_02cba411ec9drow4_col2\" class=\"data row4 col2\" >0.0700%</td>\n",
       "                        <td id=\"T_d56da7a0_3430_11eb_a3d0_02cba411ec9drow4_col3\" class=\"data row4 col3\" >2020-10-23</td>\n",
       "            </tr>\n",
       "    </tbody></table>"
      ],
      "text/plain": [
       "<pandas.io.formats.style.Styler at 0x7f24f1f426d8>"
      ]
     },
     "execution_count": 29,
     "metadata": {},
     "output_type": "execute_result"
    }
   ],
   "source": [
    "df_fixings.head().style.format({'valor': '{:.4%}'})"
   ]
  },
  {
   "cell_type": "markdown",
   "metadata": {},
   "source": [
    "Se calcula ahora el factor de capitalización."
   ]
  },
  {
   "cell_type": "code",
   "execution_count": 30,
   "metadata": {
    "ExecuteTime": {
     "end_time": "2020-12-01T23:56:32.308072Z",
     "start_time": "2020-12-01T23:56:32.290259Z"
    }
   },
   "outputs": [],
   "source": [
    "def factor_cap(fecha: str, next_fecha: str, valor: float) -> float:\n",
    "    qfecha = Qcf.build_qcdate_from_string(fecha)\n",
    "    qnext_fecha = Qcf.build_qcdate_from_string(next_fecha)\n",
    "    int_rate = Qcf.QCInterestRate(valor, Qcf.QCAct360(), Qcf.QCLinearWf())\n",
    "    return int_rate.wf(qfecha, qnext_fecha)"
   ]
  },
  {
   "cell_type": "code",
   "execution_count": 31,
   "metadata": {
    "ExecuteTime": {
     "end_time": "2020-12-01T23:56:32.974832Z",
     "start_time": "2020-12-01T23:56:32.942673Z"
    }
   },
   "outputs": [],
   "source": [
    "df_fixings['factor_capitalizacion'] = df_fixings.apply(\n",
    "    lambda row: factor_cap(row['fecha'], row['next_fecha'], row['valor']),\n",
    "    axis=1\n",
    ")"
   ]
  },
  {
   "cell_type": "code",
   "execution_count": 32,
   "metadata": {
    "ExecuteTime": {
     "end_time": "2020-12-01T23:56:33.631640Z",
     "start_time": "2020-12-01T23:56:33.592790Z"
    }
   },
   "outputs": [
    {
     "data": {
      "text/html": [
       "<style  type=\"text/css\" >\n",
       "</style><table id=\"T_d70e47fe_3430_11eb_a3d0_02cba411ec9d\" ><thead>    <tr>        <th class=\"blank level0\" ></th>        <th class=\"col_heading level0 col0\" >fecha</th>        <th class=\"col_heading level0 col1\" >nombre</th>        <th class=\"col_heading level0 col2\" >valor</th>        <th class=\"col_heading level0 col3\" >next_fecha</th>        <th class=\"col_heading level0 col4\" >factor_capitalizacion</th>    </tr></thead><tbody>\n",
       "                <tr>\n",
       "                        <th id=\"T_d70e47fe_3430_11eb_a3d0_02cba411ec9dlevel0_row0\" class=\"row_heading level0 row0\" >0</th>\n",
       "                        <td id=\"T_d70e47fe_3430_11eb_a3d0_02cba411ec9drow0_col0\" class=\"data row0 col0\" >2020-10-28</td>\n",
       "                        <td id=\"T_d70e47fe_3430_11eb_a3d0_02cba411ec9drow0_col1\" class=\"data row0 col1\" >SOFR</td>\n",
       "                        <td id=\"T_d70e47fe_3430_11eb_a3d0_02cba411ec9drow0_col2\" class=\"data row0 col2\" >0.0800%</td>\n",
       "                        <td id=\"T_d70e47fe_3430_11eb_a3d0_02cba411ec9drow0_col3\" class=\"data row0 col3\" >2020-10-29</td>\n",
       "                        <td id=\"T_d70e47fe_3430_11eb_a3d0_02cba411ec9drow0_col4\" class=\"data row0 col4\" >1.000002</td>\n",
       "            </tr>\n",
       "            <tr>\n",
       "                        <th id=\"T_d70e47fe_3430_11eb_a3d0_02cba411ec9dlevel0_row1\" class=\"row_heading level0 row1\" >1</th>\n",
       "                        <td id=\"T_d70e47fe_3430_11eb_a3d0_02cba411ec9drow1_col0\" class=\"data row1 col0\" >2020-10-27</td>\n",
       "                        <td id=\"T_d70e47fe_3430_11eb_a3d0_02cba411ec9drow1_col1\" class=\"data row1 col1\" >SOFR</td>\n",
       "                        <td id=\"T_d70e47fe_3430_11eb_a3d0_02cba411ec9drow1_col2\" class=\"data row1 col2\" >0.0900%</td>\n",
       "                        <td id=\"T_d70e47fe_3430_11eb_a3d0_02cba411ec9drow1_col3\" class=\"data row1 col3\" >2020-10-28</td>\n",
       "                        <td id=\"T_d70e47fe_3430_11eb_a3d0_02cba411ec9drow1_col4\" class=\"data row1 col4\" >1.000002</td>\n",
       "            </tr>\n",
       "            <tr>\n",
       "                        <th id=\"T_d70e47fe_3430_11eb_a3d0_02cba411ec9dlevel0_row2\" class=\"row_heading level0 row2\" >2</th>\n",
       "                        <td id=\"T_d70e47fe_3430_11eb_a3d0_02cba411ec9drow2_col0\" class=\"data row2 col0\" >2020-10-26</td>\n",
       "                        <td id=\"T_d70e47fe_3430_11eb_a3d0_02cba411ec9drow2_col1\" class=\"data row2 col1\" >SOFR</td>\n",
       "                        <td id=\"T_d70e47fe_3430_11eb_a3d0_02cba411ec9drow2_col2\" class=\"data row2 col2\" >0.0900%</td>\n",
       "                        <td id=\"T_d70e47fe_3430_11eb_a3d0_02cba411ec9drow2_col3\" class=\"data row2 col3\" >2020-10-27</td>\n",
       "                        <td id=\"T_d70e47fe_3430_11eb_a3d0_02cba411ec9drow2_col4\" class=\"data row2 col4\" >1.000002</td>\n",
       "            </tr>\n",
       "            <tr>\n",
       "                        <th id=\"T_d70e47fe_3430_11eb_a3d0_02cba411ec9dlevel0_row3\" class=\"row_heading level0 row3\" >3</th>\n",
       "                        <td id=\"T_d70e47fe_3430_11eb_a3d0_02cba411ec9drow3_col0\" class=\"data row3 col0\" >2020-10-23</td>\n",
       "                        <td id=\"T_d70e47fe_3430_11eb_a3d0_02cba411ec9drow3_col1\" class=\"data row3 col1\" >SOFR</td>\n",
       "                        <td id=\"T_d70e47fe_3430_11eb_a3d0_02cba411ec9drow3_col2\" class=\"data row3 col2\" >0.0800%</td>\n",
       "                        <td id=\"T_d70e47fe_3430_11eb_a3d0_02cba411ec9drow3_col3\" class=\"data row3 col3\" >2020-10-26</td>\n",
       "                        <td id=\"T_d70e47fe_3430_11eb_a3d0_02cba411ec9drow3_col4\" class=\"data row3 col4\" >1.000007</td>\n",
       "            </tr>\n",
       "            <tr>\n",
       "                        <th id=\"T_d70e47fe_3430_11eb_a3d0_02cba411ec9dlevel0_row4\" class=\"row_heading level0 row4\" >4</th>\n",
       "                        <td id=\"T_d70e47fe_3430_11eb_a3d0_02cba411ec9drow4_col0\" class=\"data row4 col0\" >2020-10-22</td>\n",
       "                        <td id=\"T_d70e47fe_3430_11eb_a3d0_02cba411ec9drow4_col1\" class=\"data row4 col1\" >SOFR</td>\n",
       "                        <td id=\"T_d70e47fe_3430_11eb_a3d0_02cba411ec9drow4_col2\" class=\"data row4 col2\" >0.0700%</td>\n",
       "                        <td id=\"T_d70e47fe_3430_11eb_a3d0_02cba411ec9drow4_col3\" class=\"data row4 col3\" >2020-10-23</td>\n",
       "                        <td id=\"T_d70e47fe_3430_11eb_a3d0_02cba411ec9drow4_col4\" class=\"data row4 col4\" >1.000002</td>\n",
       "            </tr>\n",
       "    </tbody></table>"
      ],
      "text/plain": [
       "<pandas.io.formats.style.Styler at 0x7f24d3f98c18>"
      ]
     },
     "execution_count": 32,
     "metadata": {},
     "output_type": "execute_result"
    }
   ],
   "source": [
    "df_fixings.head().style.format({'valor': '{:.4%}'})"
   ]
  },
  {
   "cell_type": "markdown",
   "metadata": {},
   "source": [
    "Veamos donde están en `df_fixings` los valores para `start_date` de `ois` y la fecha 15-6-2020 y calculamos el producto de los factores de capitalización desde esa fecha hasta la última fecha de `df_flujos` (que es el primer registro). Luego, el cociente de los dos factores nos dará el factor entre ambas fechas. Finalmente, con ese factor, se calculará `accrued_rate`."
   ]
  },
  {
   "cell_type": "code",
   "execution_count": 33,
   "metadata": {
    "ExecuteTime": {
     "end_time": "2020-12-01T23:56:36.172752Z",
     "start_time": "2020-12-01T23:56:36.131297Z"
    }
   },
   "outputs": [
    {
     "data": {
      "text/html": [
       "<div>\n",
       "<style scoped>\n",
       "    .dataframe tbody tr th:only-of-type {\n",
       "        vertical-align: middle;\n",
       "    }\n",
       "\n",
       "    .dataframe tbody tr th {\n",
       "        vertical-align: top;\n",
       "    }\n",
       "\n",
       "    .dataframe thead th {\n",
       "        text-align: right;\n",
       "    }\n",
       "</style>\n",
       "<table border=\"1\" class=\"dataframe\">\n",
       "  <thead>\n",
       "    <tr style=\"text-align: right;\">\n",
       "      <th></th>\n",
       "      <th>fecha</th>\n",
       "      <th>nombre</th>\n",
       "      <th>valor</th>\n",
       "      <th>next_fecha</th>\n",
       "      <th>factor_capitalizacion</th>\n",
       "    </tr>\n",
       "  </thead>\n",
       "  <tbody>\n",
       "    <tr>\n",
       "      <th>269</th>\n",
       "      <td>2019-10-01</td>\n",
       "      <td>SOFR</td>\n",
       "      <td>0.0188</td>\n",
       "      <td>2019-10-02</td>\n",
       "      <td>1.000052</td>\n",
       "    </tr>\n",
       "  </tbody>\n",
       "</table>\n",
       "</div>"
      ],
      "text/plain": [
       "          fecha nombre   valor  next_fecha  factor_capitalizacion\n",
       "269  2019-10-01   SOFR  0.0188  2019-10-02               1.000052"
      ]
     },
     "execution_count": 33,
     "metadata": {},
     "output_type": "execute_result"
    }
   ],
   "source": [
    "start_date = ois.start_date.description(False)\n",
    "df_fixings[df_fixings.fecha == start_date]"
   ]
  },
  {
   "cell_type": "code",
   "execution_count": 34,
   "metadata": {
    "ExecuteTime": {
     "end_time": "2020-12-01T23:56:37.039527Z",
     "start_time": "2020-12-01T23:56:37.028799Z"
    }
   },
   "outputs": [
    {
     "name": "stdout",
     "output_type": "stream",
     "text": [
      "1.0075715527341267\n"
     ]
    }
   ],
   "source": [
    "factor_largo = df_fixings.iloc[:270]['factor_capitalizacion'].prod()\n",
    "print(factor_largo)\n",
    "qstart_date = Qcf.build_qcdate_from_string('2019-10-01')"
   ]
  },
  {
   "cell_type": "code",
   "execution_count": 35,
   "metadata": {
    "ExecuteTime": {
     "end_time": "2020-12-01T23:56:37.786599Z",
     "start_time": "2020-12-01T23:56:37.765658Z"
    }
   },
   "outputs": [
    {
     "data": {
      "text/html": [
       "<div>\n",
       "<style scoped>\n",
       "    .dataframe tbody tr th:only-of-type {\n",
       "        vertical-align: middle;\n",
       "    }\n",
       "\n",
       "    .dataframe tbody tr th {\n",
       "        vertical-align: top;\n",
       "    }\n",
       "\n",
       "    .dataframe thead th {\n",
       "        text-align: right;\n",
       "    }\n",
       "</style>\n",
       "<table border=\"1\" class=\"dataframe\">\n",
       "  <thead>\n",
       "    <tr style=\"text-align: right;\">\n",
       "      <th></th>\n",
       "      <th>fecha</th>\n",
       "      <th>nombre</th>\n",
       "      <th>valor</th>\n",
       "      <th>next_fecha</th>\n",
       "      <th>factor_capitalizacion</th>\n",
       "    </tr>\n",
       "  </thead>\n",
       "  <tbody>\n",
       "    <tr>\n",
       "      <th>94</th>\n",
       "      <td>2020-06-15</td>\n",
       "      <td>SOFR</td>\n",
       "      <td>0.0009</td>\n",
       "      <td>2020-06-16</td>\n",
       "      <td>1.000002</td>\n",
       "    </tr>\n",
       "  </tbody>\n",
       "</table>\n",
       "</div>"
      ],
      "text/plain": [
       "         fecha nombre   valor  next_fecha  factor_capitalizacion\n",
       "94  2020-06-15   SOFR  0.0009  2020-06-16               1.000002"
      ]
     },
     "execution_count": 35,
     "metadata": {},
     "output_type": "execute_result"
    }
   ],
   "source": [
    "df_fixings[df_fixings.fecha == '2020-06-15']"
   ]
  },
  {
   "cell_type": "code",
   "execution_count": 36,
   "metadata": {
    "ExecuteTime": {
     "end_time": "2020-12-01T23:56:38.997729Z",
     "start_time": "2020-12-01T23:56:38.986534Z"
    }
   },
   "outputs": [],
   "source": [
    "factor_corto = df_fixings.iloc[:95]['factor_capitalizacion'].prod()\n",
    "qaccrued_date = Qcf.build_qcdate_from_string('2020-06-15')"
   ]
  },
  {
   "cell_type": "code",
   "execution_count": 37,
   "metadata": {
    "ExecuteTime": {
     "end_time": "2020-12-01T23:56:39.744240Z",
     "start_time": "2020-12-01T23:56:39.739384Z"
    }
   },
   "outputs": [
    {
     "name": "stdout",
     "output_type": "stream",
     "text": [
      "La diferencia es: 704.48482921%\n"
     ]
    }
   ],
   "source": [
    "dias = qstart_date.day_diff(qaccrued_date)\n",
    "check_accrued_rate = (factor_largo / factor_corto - 1.0) * 360.0 / dias\n",
    "print(f'La diferencia es: {accrued_rate - check_accrued_rate:.8%}')"
   ]
  },
  {
   "cell_type": "code",
   "execution_count": 38,
   "metadata": {
    "ExecuteTime": {
     "end_time": "2020-12-01T23:56:42.087019Z",
     "start_time": "2020-12-01T23:56:42.080406Z"
    }
   },
   "outputs": [
    {
     "name": "stdout",
     "output_type": "stream",
     "text": [
      "Suma medio punto por obtener resultado.\n"
     ]
    }
   ],
   "source": [
    "suma_exito(accrued_rate, check_accrued_rate, 'tasa')"
   ]
  },
  {
   "cell_type": "markdown",
   "metadata": {},
   "source": [
    "### `OisCashflow.accrued_interest`"
   ]
  },
  {
   "cell_type": "code",
   "execution_count": 39,
   "metadata": {
    "ExecuteTime": {
     "end_time": "2020-12-01T23:56:43.753424Z",
     "start_time": "2020-12-01T23:56:43.730085Z"
    }
   },
   "outputs": [
    {
     "name": "stdout",
     "output_type": "stream",
     "text": [
      "accrued interest: 50,560,456.54\n"
     ]
    }
   ],
   "source": [
    "accrued_interest = ois.get_accrued_interest(Qcf.QCDate(15, 6, 2020), fixings)\n",
    "print(f'accrued interest: {accrued_interest:,.2f}')"
   ]
  },
  {
   "cell_type": "code",
   "execution_count": 40,
   "metadata": {
    "ExecuteTime": {
     "end_time": "2020-12-01T23:56:45.288134Z",
     "start_time": "2020-12-01T23:56:45.280008Z"
    }
   },
   "outputs": [
    {
     "name": "stdout",
     "output_type": "stream",
     "text": [
      "La diferencia es: 0.000000\n"
     ]
    }
   ],
   "source": [
    "check_accrued_interest = ois.notional * accrued_rate * dias / 360.0\n",
    "print(f'La diferencia es: {accrued_interest - check_accrued_interest:,.6f}')"
   ]
  },
  {
   "cell_type": "code",
   "execution_count": 41,
   "metadata": {
    "ExecuteTime": {
     "end_time": "2020-12-01T23:56:46.907651Z",
     "start_time": "2020-12-01T23:56:46.892709Z"
    }
   },
   "outputs": [
    {
     "name": "stdout",
     "output_type": "stream",
     "text": [
      "Suma medio punto por obtener resultado.\n",
      "Suma 1 punto por obtener resultado dentro de la tolerancia.\n"
     ]
    }
   ],
   "source": [
    "suma_exito(accrued_interest, check_accrued_interest, 'monto')"
   ]
  },
  {
   "cell_type": "markdown",
   "metadata": {},
   "source": [
    "### `OisCashflow.amount`"
   ]
  },
  {
   "cell_type": "code",
   "execution_count": 42,
   "metadata": {
    "ExecuteTime": {
     "end_time": "2020-12-01T23:56:50.424370Z",
     "start_time": "2020-12-01T23:56:50.340815Z"
    }
   },
   "outputs": [
    {
     "ename": "NameError",
     "evalue": "name 'calendario' is not defined",
     "output_type": "error",
     "traceback": [
      "\u001b[0;31m---------------------------------------------------------------------------\u001b[0m",
      "\u001b[0;31mNameError\u001b[0m                                 Traceback (most recent call last)",
      "\u001b[0;32m<ipython-input-42-552cb8e44151>\u001b[0m in \u001b[0;36m<module>\u001b[0;34m\u001b[0m\n\u001b[0;32m----> 1\u001b[0;31m \u001b[0mamount\u001b[0m \u001b[0;34m=\u001b[0m \u001b[0mois\u001b[0m\u001b[0;34m.\u001b[0m\u001b[0mamount\u001b[0m\u001b[0;34m(\u001b[0m\u001b[0mfixings\u001b[0m\u001b[0;34m)\u001b[0m\u001b[0;34m\u001b[0m\u001b[0;34m\u001b[0m\u001b[0m\n\u001b[0m\u001b[1;32m      2\u001b[0m \u001b[0mprint\u001b[0m\u001b[0;34m(\u001b[0m\u001b[0;34mf'amount: {amount:,.2f}'\u001b[0m\u001b[0;34m)\u001b[0m\u001b[0;34m\u001b[0m\u001b[0;34m\u001b[0m\u001b[0m\n",
      "\u001b[0;32m<ipython-input-6-45aee0835e09>\u001b[0m in \u001b[0;36mamount\u001b[0;34m(self, fixings)\u001b[0m\n\u001b[1;32m     41\u001b[0m \u001b[0;34m\u001b[0m\u001b[0m\n\u001b[1;32m     42\u001b[0m         \u001b[0mvalor\u001b[0m\u001b[0;34m=\u001b[0m\u001b[0;36m0\u001b[0m\u001b[0;34m\u001b[0m\u001b[0;34m\u001b[0m\u001b[0m\n\u001b[0;32m---> 43\u001b[0;31m         \u001b[0;32mfor\u001b[0m \u001b[0mfecha\u001b[0m \u001b[0;32min\u001b[0m \u001b[0mcalendario\u001b[0m\u001b[0;34m:\u001b[0m \u001b[0;31m#fecha donde pago intereses\u001b[0m\u001b[0;34m\u001b[0m\u001b[0;34m\u001b[0m\u001b[0m\n\u001b[0m\u001b[1;32m     44\u001b[0m             \u001b[0mvalor\u001b[0m\u001b[0;34m=\u001b[0m\u001b[0mvalor\u001b[0m\u001b[0;34m+\u001b[0m\u001b[0mself\u001b[0m\u001b[0;34m.\u001b[0m\u001b[0mget_accrued_interest\u001b[0m\u001b[0;34m(\u001b[0m\u001b[0mfecha\u001b[0m\u001b[0;34m,\u001b[0m \u001b[0mfixings\u001b[0m\u001b[0;34m)\u001b[0m\u001b[0;34m\u001b[0m\u001b[0;34m\u001b[0m\u001b[0m\n\u001b[1;32m     45\u001b[0m \u001b[0;34m\u001b[0m\u001b[0m\n",
      "\u001b[0;31mNameError\u001b[0m: name 'calendario' is not defined"
     ]
    }
   ],
   "source": [
    "amount = ois.amount(fixings)\n",
    "print(f'amount: {amount:,.2f}')"
   ]
  },
  {
   "cell_type": "code",
   "execution_count": 43,
   "metadata": {
    "ExecuteTime": {
     "end_time": "2020-12-01T23:56:59.795098Z",
     "start_time": "2020-12-01T23:56:59.778222Z"
    }
   },
   "outputs": [
    {
     "name": "stdout",
     "output_type": "stream",
     "text": [
      "end date: 2020-10-01\n"
     ]
    },
    {
     "data": {
      "text/html": [
       "<div>\n",
       "<style scoped>\n",
       "    .dataframe tbody tr th:only-of-type {\n",
       "        vertical-align: middle;\n",
       "    }\n",
       "\n",
       "    .dataframe tbody tr th {\n",
       "        vertical-align: top;\n",
       "    }\n",
       "\n",
       "    .dataframe thead th {\n",
       "        text-align: right;\n",
       "    }\n",
       "</style>\n",
       "<table border=\"1\" class=\"dataframe\">\n",
       "  <thead>\n",
       "    <tr style=\"text-align: right;\">\n",
       "      <th></th>\n",
       "      <th>fecha</th>\n",
       "      <th>nombre</th>\n",
       "      <th>valor</th>\n",
       "      <th>next_fecha</th>\n",
       "      <th>factor_capitalizacion</th>\n",
       "    </tr>\n",
       "  </thead>\n",
       "  <tbody>\n",
       "    <tr>\n",
       "      <th>18</th>\n",
       "      <td>2020-10-01</td>\n",
       "      <td>SOFR</td>\n",
       "      <td>0.0008</td>\n",
       "      <td>2020-10-02</td>\n",
       "      <td>1.000002</td>\n",
       "    </tr>\n",
       "  </tbody>\n",
       "</table>\n",
       "</div>"
      ],
      "text/plain": [
       "         fecha nombre   valor  next_fecha  factor_capitalizacion\n",
       "18  2020-10-01   SOFR  0.0008  2020-10-02               1.000002"
      ]
     },
     "execution_count": 43,
     "metadata": {},
     "output_type": "execute_result"
    }
   ],
   "source": [
    "end_date = ois.end_date.description(False)\n",
    "print(f'end date: {end_date}')\n",
    "df_fixings[df_fixings.fecha == end_date]"
   ]
  },
  {
   "cell_type": "code",
   "execution_count": 44,
   "metadata": {
    "ExecuteTime": {
     "end_time": "2020-12-01T23:57:00.878480Z",
     "start_time": "2020-12-01T23:57:00.846515Z"
    }
   },
   "outputs": [
    {
     "ename": "NameError",
     "evalue": "name 'amount' is not defined",
     "output_type": "error",
     "traceback": [
      "\u001b[0;31m---------------------------------------------------------------------------\u001b[0m",
      "\u001b[0;31mNameError\u001b[0m                                 Traceback (most recent call last)",
      "\u001b[0;32m<ipython-input-44-d4de6f6c3671>\u001b[0m in \u001b[0;36m<module>\u001b[0;34m\u001b[0m\n\u001b[1;32m      3\u001b[0m \u001b[0maccrued_rate_amount\u001b[0m \u001b[0;34m=\u001b[0m \u001b[0;34m(\u001b[0m\u001b[0mfactor_largo\u001b[0m \u001b[0;34m/\u001b[0m \u001b[0mfactor_corto_2\u001b[0m\u001b[0;34m-\u001b[0m \u001b[0;36m1.0\u001b[0m\u001b[0;34m)\u001b[0m \u001b[0;34m*\u001b[0m \u001b[0;36m360.0\u001b[0m \u001b[0;34m/\u001b[0m \u001b[0mdias_2\u001b[0m\u001b[0;34m\u001b[0m\u001b[0;34m\u001b[0m\u001b[0m\n\u001b[1;32m      4\u001b[0m \u001b[0mcheck_amount\u001b[0m \u001b[0;34m=\u001b[0m \u001b[0mois\u001b[0m\u001b[0;34m.\u001b[0m\u001b[0mnotional\u001b[0m \u001b[0;34m*\u001b[0m \u001b[0maccrued_rate_amount\u001b[0m \u001b[0;34m*\u001b[0m \u001b[0mdias_2\u001b[0m \u001b[0;34m/\u001b[0m \u001b[0;36m360.0\u001b[0m \u001b[0;34m+\u001b[0m \u001b[0mois\u001b[0m\u001b[0;34m.\u001b[0m\u001b[0mamortization\u001b[0m\u001b[0;34m\u001b[0m\u001b[0;34m\u001b[0m\u001b[0m\n\u001b[0;32m----> 5\u001b[0;31m \u001b[0mprint\u001b[0m\u001b[0;34m(\u001b[0m\u001b[0;34mf'La diferencia es: {amount - check_amount:.6f}'\u001b[0m\u001b[0;34m)\u001b[0m\u001b[0;34m\u001b[0m\u001b[0;34m\u001b[0m\u001b[0m\n\u001b[0m",
      "\u001b[0;31mNameError\u001b[0m: name 'amount' is not defined"
     ]
    }
   ],
   "source": [
    "factor_corto_2 = df_fixings.iloc[:19]['factor_capitalizacion'].prod()\n",
    "dias_2 = qstart_date.day_diff(ois.end_date)\n",
    "accrued_rate_amount = (factor_largo / factor_corto_2- 1.0) * 360.0 / dias_2\n",
    "check_amount = ois.notional * accrued_rate_amount * dias_2 / 360.0 + ois.amortization\n",
    "print(f'La diferencia es: {amount - check_amount:.6f}')"
   ]
  },
  {
   "cell_type": "code",
   "execution_count": 45,
   "metadata": {
    "ExecuteTime": {
     "end_time": "2020-12-01T23:57:04.923854Z",
     "start_time": "2020-12-01T23:57:04.884355Z"
    }
   },
   "outputs": [
    {
     "ename": "NameError",
     "evalue": "name 'amount' is not defined",
     "output_type": "error",
     "traceback": [
      "\u001b[0;31m---------------------------------------------------------------------------\u001b[0m",
      "\u001b[0;31mNameError\u001b[0m                                 Traceback (most recent call last)",
      "\u001b[0;32m<ipython-input-45-cf6b179bd5d3>\u001b[0m in \u001b[0;36m<module>\u001b[0;34m\u001b[0m\n\u001b[0;32m----> 1\u001b[0;31m \u001b[0msuma_exito\u001b[0m\u001b[0;34m(\u001b[0m\u001b[0mamount\u001b[0m\u001b[0;34m,\u001b[0m \u001b[0mcheck_amount\u001b[0m\u001b[0;34m,\u001b[0m \u001b[0;34m'monto'\u001b[0m\u001b[0;34m)\u001b[0m\u001b[0;34m\u001b[0m\u001b[0;34m\u001b[0m\u001b[0m\n\u001b[0m",
      "\u001b[0;31mNameError\u001b[0m: name 'amount' is not defined"
     ]
    }
   ],
   "source": [
    "suma_exito(amount, check_amount, 'monto')"
   ]
  },
  {
   "cell_type": "markdown",
   "metadata": {},
   "source": [
    "### `set_expected_rate`"
   ]
  },
  {
   "cell_type": "markdown",
   "metadata": {},
   "source": [
    "Comenzamos cargando los valores de la curva cero cupón que se utilizará para hacer pruebas de `set_expected_rate` y `present_value`."
   ]
  },
  {
   "cell_type": "code",
   "execution_count": 46,
   "metadata": {
    "ExecuteTime": {
     "end_time": "2020-12-01T23:57:09.570881Z",
     "start_time": "2020-12-01T23:57:09.512168Z"
    }
   },
   "outputs": [],
   "source": [
    "df_curva = pd.read_excel('../data/20201012_built_sofr_zero.xlsx')"
   ]
  },
  {
   "cell_type": "code",
   "execution_count": 47,
   "metadata": {
    "ExecuteTime": {
     "end_time": "2020-12-01T23:57:10.294337Z",
     "start_time": "2020-12-01T23:57:10.260008Z"
    }
   },
   "outputs": [
    {
     "data": {
      "text/html": [
       "<style  type=\"text/css\" >\n",
       "</style><table id=\"T_ece82d24_3430_11eb_a3d0_02cba411ec9d\" ><thead>    <tr>        <th class=\"blank level0\" ></th>        <th class=\"col_heading level0 col0\" >plazo</th>        <th class=\"col_heading level0 col1\" >tasa</th>        <th class=\"col_heading level0 col2\" >df</th>    </tr></thead><tbody>\n",
       "                <tr>\n",
       "                        <th id=\"T_ece82d24_3430_11eb_a3d0_02cba411ec9dlevel0_row0\" class=\"row_heading level0 row0\" >0</th>\n",
       "                        <td id=\"T_ece82d24_3430_11eb_a3d0_02cba411ec9drow0_col0\" class=\"data row0 col0\" >1</td>\n",
       "                        <td id=\"T_ece82d24_3430_11eb_a3d0_02cba411ec9drow0_col1\" class=\"data row0 col1\" >0.0811%</td>\n",
       "                        <td id=\"T_ece82d24_3430_11eb_a3d0_02cba411ec9drow0_col2\" class=\"data row0 col2\" >99.999778%</td>\n",
       "            </tr>\n",
       "            <tr>\n",
       "                        <th id=\"T_ece82d24_3430_11eb_a3d0_02cba411ec9dlevel0_row1\" class=\"row_heading level0 row1\" >1</th>\n",
       "                        <td id=\"T_ece82d24_3430_11eb_a3d0_02cba411ec9drow1_col0\" class=\"data row1 col0\" >7</td>\n",
       "                        <td id=\"T_ece82d24_3430_11eb_a3d0_02cba411ec9drow1_col1\" class=\"data row1 col1\" >0.0841%</td>\n",
       "                        <td id=\"T_ece82d24_3430_11eb_a3d0_02cba411ec9drow1_col2\" class=\"data row1 col2\" >99.998388%</td>\n",
       "            </tr>\n",
       "            <tr>\n",
       "                        <th id=\"T_ece82d24_3430_11eb_a3d0_02cba411ec9dlevel0_row2\" class=\"row_heading level0 row2\" >2</th>\n",
       "                        <td id=\"T_ece82d24_3430_11eb_a3d0_02cba411ec9drow2_col0\" class=\"data row2 col0\" >14</td>\n",
       "                        <td id=\"T_ece82d24_3430_11eb_a3d0_02cba411ec9drow2_col1\" class=\"data row2 col1\" >0.0780%</td>\n",
       "                        <td id=\"T_ece82d24_3430_11eb_a3d0_02cba411ec9drow2_col2\" class=\"data row2 col2\" >99.997010%</td>\n",
       "            </tr>\n",
       "            <tr>\n",
       "                        <th id=\"T_ece82d24_3430_11eb_a3d0_02cba411ec9dlevel0_row3\" class=\"row_heading level0 row3\" >3</th>\n",
       "                        <td id=\"T_ece82d24_3430_11eb_a3d0_02cba411ec9drow3_col0\" class=\"data row3 col0\" >21</td>\n",
       "                        <td id=\"T_ece82d24_3430_11eb_a3d0_02cba411ec9drow3_col1\" class=\"data row3 col1\" >0.0774%</td>\n",
       "                        <td id=\"T_ece82d24_3430_11eb_a3d0_02cba411ec9drow3_col2\" class=\"data row3 col2\" >99.995549%</td>\n",
       "            </tr>\n",
       "            <tr>\n",
       "                        <th id=\"T_ece82d24_3430_11eb_a3d0_02cba411ec9dlevel0_row4\" class=\"row_heading level0 row4\" >4</th>\n",
       "                        <td id=\"T_ece82d24_3430_11eb_a3d0_02cba411ec9drow4_col0\" class=\"data row4 col0\" >33</td>\n",
       "                        <td id=\"T_ece82d24_3430_11eb_a3d0_02cba411ec9drow4_col1\" class=\"data row4 col1\" >0.0781%</td>\n",
       "                        <td id=\"T_ece82d24_3430_11eb_a3d0_02cba411ec9drow4_col2\" class=\"data row4 col2\" >99.992942%</td>\n",
       "            </tr>\n",
       "    </tbody></table>"
      ],
      "text/plain": [
       "<pandas.io.formats.style.Styler at 0x7f24f1cee320>"
      ]
     },
     "execution_count": 47,
     "metadata": {},
     "output_type": "execute_result"
    }
   ],
   "source": [
    "df_curva.head().style.format({'tasa': '{:.4%}', 'df': '{:.6%}'})"
   ]
  },
  {
   "cell_type": "markdown",
   "metadata": {},
   "source": [
    "Con la data se construye un objeto de tipo `Qcf.ZeroCouponCurve`."
   ]
  },
  {
   "cell_type": "code",
   "execution_count": 48,
   "metadata": {
    "ExecuteTime": {
     "end_time": "2020-12-01T23:57:12.527919Z",
     "start_time": "2020-12-01T23:57:12.519982Z"
    },
    "scrolled": true
   },
   "outputs": [],
   "source": [
    "zcc = aux.get_curve_from_dataframe(Qcf.QCAct365(),Qcf.QCCompoundWf(), df_curva)"
   ]
  },
  {
   "cell_type": "markdown",
   "metadata": {},
   "source": [
    "Comienzan los tests."
   ]
  },
  {
   "cell_type": "code",
   "execution_count": 49,
   "metadata": {
    "ExecuteTime": {
     "end_time": "2020-12-01T23:57:13.817630Z",
     "start_time": "2020-12-01T23:57:13.810784Z"
    }
   },
   "outputs": [
    {
     "name": "stdout",
     "output_type": "stream",
     "text": [
      "Fecha inicial flujo: 2019-10-01\n",
      "Fecha final flujo: 2020-10-01\n"
     ]
    }
   ],
   "source": [
    "print(f'Fecha inicial flujo: {ois.start_date.description(False)}')\n",
    "print(f'Fecha final flujo: {ois.end_date.description(False)}')"
   ]
  },
  {
   "cell_type": "code",
   "execution_count": 51,
   "metadata": {
    "ExecuteTime": {
     "end_time": "2020-12-01T23:57:52.321030Z",
     "start_time": "2020-12-01T23:57:52.280006Z"
    }
   },
   "outputs": [
    {
     "ename": "ArgumentError",
     "evalue": "Python argument types in\n    InterestRateCurve.get_discount_factor_at(ZeroCouponCurve, QCDate)\ndid not match C++ signature:\n    get_discount_factor_at(std::shared_ptr<wrappers::InterestRateCurveWrap> {lvalue}, long)\n    get_discount_factor_at(QCode::Financial::InterestRateCurve {lvalue}, long)",
     "output_type": "error",
     "traceback": [
      "\u001b[0;31m---------------------------------------------------------------------------\u001b[0m",
      "\u001b[0;31mArgumentError\u001b[0m                             Traceback (most recent call last)",
      "\u001b[0;32m<ipython-input-51-00775f1b2d97>\u001b[0m in \u001b[0;36m<module>\u001b[0;34m\u001b[0m\n\u001b[1;32m      1\u001b[0m \u001b[0;31m# Check primer caso\u001b[0m\u001b[0;34m\u001b[0m\u001b[0;34m\u001b[0m\u001b[0;34m\u001b[0m\u001b[0m\n\u001b[1;32m      2\u001b[0m \u001b[0mval_date\u001b[0m \u001b[0;34m=\u001b[0m \u001b[0mQcf\u001b[0m\u001b[0;34m.\u001b[0m\u001b[0mQCDate\u001b[0m\u001b[0;34m(\u001b[0m\u001b[0;36m1\u001b[0m\u001b[0;34m,\u001b[0m \u001b[0;36m6\u001b[0m\u001b[0;34m,\u001b[0m \u001b[0;36m2019\u001b[0m\u001b[0;34m)\u001b[0m\u001b[0;34m\u001b[0m\u001b[0;34m\u001b[0m\u001b[0m\n\u001b[0;32m----> 3\u001b[0;31m \u001b[0mset_expected_rate\u001b[0m\u001b[0;34m(\u001b[0m\u001b[0mval_date\u001b[0m\u001b[0;34m,\u001b[0m \u001b[0mois\u001b[0m\u001b[0;34m,\u001b[0m \u001b[0mzcc\u001b[0m\u001b[0;34m,\u001b[0m \u001b[0mfixings\u001b[0m\u001b[0;34m)\u001b[0m\u001b[0;34m\u001b[0m\u001b[0;34m\u001b[0m\u001b[0m\n\u001b[0m\u001b[1;32m      4\u001b[0m \u001b[0mresultado\u001b[0m \u001b[0;34m=\u001b[0m \u001b[0mois\u001b[0m\u001b[0;34m.\u001b[0m\u001b[0minterest_rate\u001b[0m\u001b[0;34m.\u001b[0m\u001b[0mget_value\u001b[0m\u001b[0;34m(\u001b[0m\u001b[0;34m)\u001b[0m\u001b[0;34m\u001b[0m\u001b[0;34m\u001b[0m\u001b[0m\n\u001b[1;32m      5\u001b[0m \u001b[0mprint\u001b[0m\u001b[0;34m(\u001b[0m\u001b[0;34mf'Tasa esperada es: {resultado:.8%}'\u001b[0m\u001b[0;34m)\u001b[0m\u001b[0;34m\u001b[0m\u001b[0;34m\u001b[0m\u001b[0m\n",
      "\u001b[0;32m<ipython-input-13-cb40bd257d4e>\u001b[0m in \u001b[0;36mset_expected_rate\u001b[0;34m(val_date, ois_cashflow, zcc, fixings)\u001b[0m\n\u001b[1;32m      6\u001b[0m \u001b[0;34m\u001b[0m\u001b[0m\n\u001b[1;32m      7\u001b[0m \u001b[0;34m\u001b[0m\u001b[0m\n\u001b[0;32m----> 8\u001b[0;31m     \u001b[0msofr1\u001b[0m\u001b[0;34m=\u001b[0m \u001b[0mzcc\u001b[0m\u001b[0;34m.\u001b[0m\u001b[0mget_discount_factor_at\u001b[0m\u001b[0;34m(\u001b[0m\u001b[0mval_date\u001b[0m\u001b[0;34m)\u001b[0m\u001b[0;34m\u001b[0m\u001b[0;34m\u001b[0m\u001b[0m\n\u001b[0m\u001b[1;32m      9\u001b[0m     \u001b[0msofr2\u001b[0m\u001b[0;34m=\u001b[0m \u001b[0mzcc\u001b[0m\u001b[0;34m.\u001b[0m\u001b[0mget_discount_factor_at\u001b[0m\u001b[0;34m(\u001b[0m\u001b[0mOisCashflow\u001b[0m\u001b[0;34m.\u001b[0m\u001b[0mend_date\u001b[0m\u001b[0;34m)\u001b[0m\u001b[0;34m\u001b[0m\u001b[0;34m\u001b[0m\u001b[0m\n\u001b[1;32m     10\u001b[0m     \u001b[0me_rate\u001b[0m\u001b[0;34m=\u001b[0m\u001b[0;34m(\u001b[0m\u001b[0;34m(\u001b[0m\u001b[0msofr2\u001b[0m\u001b[0;34m/\u001b[0m\u001b[0msofr1\u001b[0m\u001b[0;34m)\u001b[0m\u001b[0;34m-\u001b[0m\u001b[0;36m1\u001b[0m\u001b[0;34m)\u001b[0m\u001b[0;34m*\u001b[0m\u001b[0;36m360.0\u001b[0m\u001b[0;34m/\u001b[0m\u001b[0;34m(\u001b[0m\u001b[0mval_date\u001b[0m\u001b[0;34m.\u001b[0m\u001b[0mday_diff\u001b[0m\u001b[0;34m(\u001b[0m\u001b[0mOisCashflow\u001b[0m\u001b[0;34m.\u001b[0m\u001b[0mend_date\u001b[0m\u001b[0;34m)\u001b[0m\u001b[0;34m)\u001b[0m\u001b[0;34m\u001b[0m\u001b[0;34m\u001b[0m\u001b[0m\n",
      "\u001b[0;31mArgumentError\u001b[0m: Python argument types in\n    InterestRateCurve.get_discount_factor_at(ZeroCouponCurve, QCDate)\ndid not match C++ signature:\n    get_discount_factor_at(std::shared_ptr<wrappers::InterestRateCurveWrap> {lvalue}, long)\n    get_discount_factor_at(QCode::Financial::InterestRateCurve {lvalue}, long)"
     ]
    }
   ],
   "source": [
    "# Check primer caso\n",
    "val_date = Qcf.QCDate(1, 6, 2019)\n",
    "set_expected_rate(val_date, ois, zcc, fixings)\n",
    "resultado = ois.interest_rate.get_value()\n",
    "print(f'Tasa esperada es: {resultado:.8%}')\n",
    "p1 = val_date.day_diff(ois.start_date)\n",
    "p2 = val_date.day_diff(ois.end_date)\n",
    "df1 = zcc.get_discount_factor_at(p1)\n",
    "df2 = zcc.get_discount_factor_at(p2)\n",
    "check = (df1 / df2 - 1) * 360 / (p2 - p1)\n",
    "print(f'Check tasa esperada es: {check:.8%}')\n",
    "\n",
    "suma_exito(resultado, check, 'tasa')"
   ]
  },
  {
   "cell_type": "code",
   "execution_count": 52,
   "metadata": {
    "ExecuteTime": {
     "end_time": "2020-12-01T23:58:25.812140Z",
     "start_time": "2020-12-01T23:58:25.770017Z"
    }
   },
   "outputs": [
    {
     "ename": "ArgumentError",
     "evalue": "Python argument types in\n    InterestRateCurve.get_discount_factor_at(ZeroCouponCurve, QCDate)\ndid not match C++ signature:\n    get_discount_factor_at(std::shared_ptr<wrappers::InterestRateCurveWrap> {lvalue}, long)\n    get_discount_factor_at(QCode::Financial::InterestRateCurve {lvalue}, long)",
     "output_type": "error",
     "traceback": [
      "\u001b[0;31m---------------------------------------------------------------------------\u001b[0m",
      "\u001b[0;31mArgumentError\u001b[0m                             Traceback (most recent call last)",
      "\u001b[0;32m<ipython-input-52-1d368990da4e>\u001b[0m in \u001b[0;36m<module>\u001b[0;34m\u001b[0m\n\u001b[1;32m      1\u001b[0m \u001b[0;31m# Check segundo caso borde\u001b[0m\u001b[0;34m\u001b[0m\u001b[0;34m\u001b[0m\u001b[0;34m\u001b[0m\u001b[0m\n\u001b[1;32m      2\u001b[0m \u001b[0mval_date\u001b[0m \u001b[0;34m=\u001b[0m \u001b[0mQcf\u001b[0m\u001b[0;34m.\u001b[0m\u001b[0mQCDate\u001b[0m\u001b[0;34m(\u001b[0m\u001b[0;36m1\u001b[0m\u001b[0;34m,\u001b[0m \u001b[0;36m10\u001b[0m\u001b[0;34m,\u001b[0m \u001b[0;36m2019\u001b[0m\u001b[0;34m)\u001b[0m\u001b[0;34m\u001b[0m\u001b[0;34m\u001b[0m\u001b[0m\n\u001b[0;32m----> 3\u001b[0;31m \u001b[0mset_expected_rate\u001b[0m\u001b[0;34m(\u001b[0m\u001b[0mval_date\u001b[0m\u001b[0;34m,\u001b[0m \u001b[0mois\u001b[0m\u001b[0;34m,\u001b[0m \u001b[0mzcc\u001b[0m\u001b[0;34m,\u001b[0m \u001b[0mfixings\u001b[0m\u001b[0;34m)\u001b[0m\u001b[0;34m\u001b[0m\u001b[0;34m\u001b[0m\u001b[0m\n\u001b[0m\u001b[1;32m      4\u001b[0m \u001b[0mresultado\u001b[0m \u001b[0;34m=\u001b[0m \u001b[0mois\u001b[0m\u001b[0;34m.\u001b[0m\u001b[0minterest_rate\u001b[0m\u001b[0;34m.\u001b[0m\u001b[0mget_value\u001b[0m\u001b[0;34m(\u001b[0m\u001b[0;34m)\u001b[0m\u001b[0;34m\u001b[0m\u001b[0;34m\u001b[0m\u001b[0m\n\u001b[1;32m      5\u001b[0m \u001b[0mprint\u001b[0m\u001b[0;34m(\u001b[0m\u001b[0;34mf'Tasa esperada es: {resultado:.8%}'\u001b[0m\u001b[0;34m)\u001b[0m\u001b[0;34m\u001b[0m\u001b[0;34m\u001b[0m\u001b[0m\n",
      "\u001b[0;32m<ipython-input-13-cb40bd257d4e>\u001b[0m in \u001b[0;36mset_expected_rate\u001b[0;34m(val_date, ois_cashflow, zcc, fixings)\u001b[0m\n\u001b[1;32m      6\u001b[0m \u001b[0;34m\u001b[0m\u001b[0m\n\u001b[1;32m      7\u001b[0m \u001b[0;34m\u001b[0m\u001b[0m\n\u001b[0;32m----> 8\u001b[0;31m     \u001b[0msofr1\u001b[0m\u001b[0;34m=\u001b[0m \u001b[0mzcc\u001b[0m\u001b[0;34m.\u001b[0m\u001b[0mget_discount_factor_at\u001b[0m\u001b[0;34m(\u001b[0m\u001b[0mval_date\u001b[0m\u001b[0;34m)\u001b[0m\u001b[0;34m\u001b[0m\u001b[0;34m\u001b[0m\u001b[0m\n\u001b[0m\u001b[1;32m      9\u001b[0m     \u001b[0msofr2\u001b[0m\u001b[0;34m=\u001b[0m \u001b[0mzcc\u001b[0m\u001b[0;34m.\u001b[0m\u001b[0mget_discount_factor_at\u001b[0m\u001b[0;34m(\u001b[0m\u001b[0mOisCashflow\u001b[0m\u001b[0;34m.\u001b[0m\u001b[0mend_date\u001b[0m\u001b[0;34m)\u001b[0m\u001b[0;34m\u001b[0m\u001b[0;34m\u001b[0m\u001b[0m\n\u001b[1;32m     10\u001b[0m     \u001b[0me_rate\u001b[0m\u001b[0;34m=\u001b[0m\u001b[0;34m(\u001b[0m\u001b[0;34m(\u001b[0m\u001b[0msofr2\u001b[0m\u001b[0;34m/\u001b[0m\u001b[0msofr1\u001b[0m\u001b[0;34m)\u001b[0m\u001b[0;34m-\u001b[0m\u001b[0;36m1\u001b[0m\u001b[0;34m)\u001b[0m\u001b[0;34m*\u001b[0m\u001b[0;36m360.0\u001b[0m\u001b[0;34m/\u001b[0m\u001b[0;34m(\u001b[0m\u001b[0mval_date\u001b[0m\u001b[0;34m.\u001b[0m\u001b[0mday_diff\u001b[0m\u001b[0;34m(\u001b[0m\u001b[0mOisCashflow\u001b[0m\u001b[0;34m.\u001b[0m\u001b[0mend_date\u001b[0m\u001b[0;34m)\u001b[0m\u001b[0;34m)\u001b[0m\u001b[0;34m\u001b[0m\u001b[0;34m\u001b[0m\u001b[0m\n",
      "\u001b[0;31mArgumentError\u001b[0m: Python argument types in\n    InterestRateCurve.get_discount_factor_at(ZeroCouponCurve, QCDate)\ndid not match C++ signature:\n    get_discount_factor_at(std::shared_ptr<wrappers::InterestRateCurveWrap> {lvalue}, long)\n    get_discount_factor_at(QCode::Financial::InterestRateCurve {lvalue}, long)"
     ]
    }
   ],
   "source": [
    "# Check segundo caso borde\n",
    "val_date = Qcf.QCDate(1, 10, 2019)\n",
    "set_expected_rate(val_date, ois, zcc, fixings)\n",
    "resultado = ois.interest_rate.get_value()\n",
    "print(f'Tasa esperada es: {resultado:.8%}')\n",
    "p1 = val_date.day_diff(ois.start_date)\n",
    "p2 = val_date.day_diff(ois.end_date)\n",
    "df1 = zcc.get_discount_factor_at(p1)\n",
    "df2 = zcc.get_discount_factor_at(p2)\n",
    "check = (df1 / df2 - 1) * 360 / (p2 - p1)\n",
    "print(f'Check tasa esperada es: {check:.8%}')\n",
    "\n",
    "suma_exito(resultado, check, 'tasa')"
   ]
  },
  {
   "cell_type": "code",
   "execution_count": 53,
   "metadata": {
    "ExecuteTime": {
     "end_time": "2020-12-01T23:58:35.769911Z",
     "start_time": "2020-12-01T23:58:35.750569Z"
    }
   },
   "outputs": [
    {
     "ename": "ArgumentError",
     "evalue": "Python argument types in\n    InterestRateCurve.get_discount_factor_at(ZeroCouponCurve, QCDate)\ndid not match C++ signature:\n    get_discount_factor_at(std::shared_ptr<wrappers::InterestRateCurveWrap> {lvalue}, long)\n    get_discount_factor_at(QCode::Financial::InterestRateCurve {lvalue}, long)",
     "output_type": "error",
     "traceback": [
      "\u001b[0;31m---------------------------------------------------------------------------\u001b[0m",
      "\u001b[0;31mArgumentError\u001b[0m                             Traceback (most recent call last)",
      "\u001b[0;32m<ipython-input-53-a75067ae05fb>\u001b[0m in \u001b[0;36m<module>\u001b[0;34m\u001b[0m\n\u001b[1;32m      1\u001b[0m \u001b[0;31m# Check segundo caso\u001b[0m\u001b[0;34m\u001b[0m\u001b[0;34m\u001b[0m\u001b[0;34m\u001b[0m\u001b[0m\n\u001b[1;32m      2\u001b[0m \u001b[0mval_date\u001b[0m \u001b[0;34m=\u001b[0m \u001b[0mQcf\u001b[0m\u001b[0;34m.\u001b[0m\u001b[0mQCDate\u001b[0m\u001b[0;34m(\u001b[0m\u001b[0;36m1\u001b[0m\u001b[0;34m,\u001b[0m \u001b[0;36m11\u001b[0m\u001b[0;34m,\u001b[0m \u001b[0;36m2019\u001b[0m\u001b[0;34m)\u001b[0m\u001b[0;34m\u001b[0m\u001b[0;34m\u001b[0m\u001b[0m\n\u001b[0;32m----> 3\u001b[0;31m \u001b[0mset_expected_rate\u001b[0m\u001b[0;34m(\u001b[0m\u001b[0mval_date\u001b[0m\u001b[0;34m,\u001b[0m \u001b[0mois\u001b[0m\u001b[0;34m,\u001b[0m \u001b[0mzcc\u001b[0m\u001b[0;34m,\u001b[0m \u001b[0mfixings\u001b[0m\u001b[0;34m)\u001b[0m\u001b[0;34m\u001b[0m\u001b[0;34m\u001b[0m\u001b[0m\n\u001b[0m\u001b[1;32m      4\u001b[0m \u001b[0mresultado\u001b[0m \u001b[0;34m=\u001b[0m \u001b[0mois\u001b[0m\u001b[0;34m.\u001b[0m\u001b[0minterest_rate\u001b[0m\u001b[0;34m.\u001b[0m\u001b[0mget_value\u001b[0m\u001b[0;34m(\u001b[0m\u001b[0;34m)\u001b[0m\u001b[0;34m\u001b[0m\u001b[0;34m\u001b[0m\u001b[0m\n\u001b[1;32m      5\u001b[0m \u001b[0mprint\u001b[0m\u001b[0;34m(\u001b[0m\u001b[0;34mf'Tasa esperada es: {resultado:.8%}'\u001b[0m\u001b[0;34m)\u001b[0m\u001b[0;34m\u001b[0m\u001b[0;34m\u001b[0m\u001b[0m\n",
      "\u001b[0;32m<ipython-input-13-cb40bd257d4e>\u001b[0m in \u001b[0;36mset_expected_rate\u001b[0;34m(val_date, ois_cashflow, zcc, fixings)\u001b[0m\n\u001b[1;32m      6\u001b[0m \u001b[0;34m\u001b[0m\u001b[0m\n\u001b[1;32m      7\u001b[0m \u001b[0;34m\u001b[0m\u001b[0m\n\u001b[0;32m----> 8\u001b[0;31m     \u001b[0msofr1\u001b[0m\u001b[0;34m=\u001b[0m \u001b[0mzcc\u001b[0m\u001b[0;34m.\u001b[0m\u001b[0mget_discount_factor_at\u001b[0m\u001b[0;34m(\u001b[0m\u001b[0mval_date\u001b[0m\u001b[0;34m)\u001b[0m\u001b[0;34m\u001b[0m\u001b[0;34m\u001b[0m\u001b[0m\n\u001b[0m\u001b[1;32m      9\u001b[0m     \u001b[0msofr2\u001b[0m\u001b[0;34m=\u001b[0m \u001b[0mzcc\u001b[0m\u001b[0;34m.\u001b[0m\u001b[0mget_discount_factor_at\u001b[0m\u001b[0;34m(\u001b[0m\u001b[0mOisCashflow\u001b[0m\u001b[0;34m.\u001b[0m\u001b[0mend_date\u001b[0m\u001b[0;34m)\u001b[0m\u001b[0;34m\u001b[0m\u001b[0;34m\u001b[0m\u001b[0m\n\u001b[1;32m     10\u001b[0m     \u001b[0me_rate\u001b[0m\u001b[0;34m=\u001b[0m\u001b[0;34m(\u001b[0m\u001b[0;34m(\u001b[0m\u001b[0msofr2\u001b[0m\u001b[0;34m/\u001b[0m\u001b[0msofr1\u001b[0m\u001b[0;34m)\u001b[0m\u001b[0;34m-\u001b[0m\u001b[0;36m1\u001b[0m\u001b[0;34m)\u001b[0m\u001b[0;34m*\u001b[0m\u001b[0;36m360.0\u001b[0m\u001b[0;34m/\u001b[0m\u001b[0;34m(\u001b[0m\u001b[0mval_date\u001b[0m\u001b[0;34m.\u001b[0m\u001b[0mday_diff\u001b[0m\u001b[0;34m(\u001b[0m\u001b[0mOisCashflow\u001b[0m\u001b[0;34m.\u001b[0m\u001b[0mend_date\u001b[0m\u001b[0;34m)\u001b[0m\u001b[0;34m)\u001b[0m\u001b[0;34m\u001b[0m\u001b[0;34m\u001b[0m\u001b[0m\n",
      "\u001b[0;31mArgumentError\u001b[0m: Python argument types in\n    InterestRateCurve.get_discount_factor_at(ZeroCouponCurve, QCDate)\ndid not match C++ signature:\n    get_discount_factor_at(std::shared_ptr<wrappers::InterestRateCurveWrap> {lvalue}, long)\n    get_discount_factor_at(QCode::Financial::InterestRateCurve {lvalue}, long)"
     ]
    }
   ],
   "source": [
    "# Check segundo caso\n",
    "val_date = Qcf.QCDate(1, 11, 2019)\n",
    "set_expected_rate(val_date, ois, zcc, fixings)\n",
    "resultado = ois.interest_rate.get_value()\n",
    "print(f'Tasa esperada es: {resultado:.8%}')\n",
    "p1 = ois.start_date.day_diff(val_date)\n",
    "p2 = val_date.day_diff(ois.end_date)\n",
    "wf1 = 1 + ois.get_accrued_interest(val_date, fixings) / ois.notional\n",
    "wf2 = 1 / zcc.get_discount_factor_at(p2)\n",
    "check = (wf1 * wf2 - 1) * 360 / (p1 + p2)\n",
    "print(f'Check tasa esperada es: {check:.8%}')\n",
    "\n",
    "suma_exito(resultado, check, 'tasa')"
   ]
  },
  {
   "cell_type": "code",
   "execution_count": 54,
   "metadata": {
    "ExecuteTime": {
     "end_time": "2020-12-01T23:58:44.281471Z",
     "start_time": "2020-12-01T23:58:44.249823Z"
    }
   },
   "outputs": [
    {
     "ename": "ArgumentError",
     "evalue": "Python argument types in\n    InterestRateCurve.get_discount_factor_at(ZeroCouponCurve, QCDate)\ndid not match C++ signature:\n    get_discount_factor_at(std::shared_ptr<wrappers::InterestRateCurveWrap> {lvalue}, long)\n    get_discount_factor_at(QCode::Financial::InterestRateCurve {lvalue}, long)",
     "output_type": "error",
     "traceback": [
      "\u001b[0;31m---------------------------------------------------------------------------\u001b[0m",
      "\u001b[0;31mArgumentError\u001b[0m                             Traceback (most recent call last)",
      "\u001b[0;32m<ipython-input-54-e94ccfa78f1c>\u001b[0m in \u001b[0;36m<module>\u001b[0;34m\u001b[0m\n\u001b[1;32m      1\u001b[0m \u001b[0;31m# Check tercer caso borde\u001b[0m\u001b[0;34m\u001b[0m\u001b[0;34m\u001b[0m\u001b[0;34m\u001b[0m\u001b[0m\n\u001b[1;32m      2\u001b[0m \u001b[0mval_date\u001b[0m \u001b[0;34m=\u001b[0m \u001b[0mQcf\u001b[0m\u001b[0;34m.\u001b[0m\u001b[0mQCDate\u001b[0m\u001b[0;34m(\u001b[0m\u001b[0;36m1\u001b[0m\u001b[0;34m,\u001b[0m \u001b[0;36m10\u001b[0m\u001b[0;34m,\u001b[0m \u001b[0;36m2020\u001b[0m\u001b[0;34m)\u001b[0m\u001b[0;34m\u001b[0m\u001b[0;34m\u001b[0m\u001b[0m\n\u001b[0;32m----> 3\u001b[0;31m \u001b[0mset_expected_rate\u001b[0m\u001b[0;34m(\u001b[0m\u001b[0mval_date\u001b[0m\u001b[0;34m,\u001b[0m \u001b[0mois\u001b[0m\u001b[0;34m,\u001b[0m \u001b[0mzcc\u001b[0m\u001b[0;34m,\u001b[0m \u001b[0mfixings\u001b[0m\u001b[0;34m)\u001b[0m\u001b[0;34m\u001b[0m\u001b[0;34m\u001b[0m\u001b[0m\n\u001b[0m\u001b[1;32m      4\u001b[0m \u001b[0mresultado\u001b[0m \u001b[0;34m=\u001b[0m \u001b[0mois\u001b[0m\u001b[0;34m.\u001b[0m\u001b[0minterest_rate\u001b[0m\u001b[0;34m.\u001b[0m\u001b[0mget_value\u001b[0m\u001b[0;34m(\u001b[0m\u001b[0;34m)\u001b[0m\u001b[0;34m\u001b[0m\u001b[0;34m\u001b[0m\u001b[0m\n\u001b[1;32m      5\u001b[0m \u001b[0mprint\u001b[0m\u001b[0;34m(\u001b[0m\u001b[0;34mf'Tasa esperada es: {resultado:.8%}'\u001b[0m\u001b[0;34m)\u001b[0m\u001b[0;34m\u001b[0m\u001b[0;34m\u001b[0m\u001b[0m\n",
      "\u001b[0;32m<ipython-input-13-cb40bd257d4e>\u001b[0m in \u001b[0;36mset_expected_rate\u001b[0;34m(val_date, ois_cashflow, zcc, fixings)\u001b[0m\n\u001b[1;32m      6\u001b[0m \u001b[0;34m\u001b[0m\u001b[0m\n\u001b[1;32m      7\u001b[0m \u001b[0;34m\u001b[0m\u001b[0m\n\u001b[0;32m----> 8\u001b[0;31m     \u001b[0msofr1\u001b[0m\u001b[0;34m=\u001b[0m \u001b[0mzcc\u001b[0m\u001b[0;34m.\u001b[0m\u001b[0mget_discount_factor_at\u001b[0m\u001b[0;34m(\u001b[0m\u001b[0mval_date\u001b[0m\u001b[0;34m)\u001b[0m\u001b[0;34m\u001b[0m\u001b[0;34m\u001b[0m\u001b[0m\n\u001b[0m\u001b[1;32m      9\u001b[0m     \u001b[0msofr2\u001b[0m\u001b[0;34m=\u001b[0m \u001b[0mzcc\u001b[0m\u001b[0;34m.\u001b[0m\u001b[0mget_discount_factor_at\u001b[0m\u001b[0;34m(\u001b[0m\u001b[0mOisCashflow\u001b[0m\u001b[0;34m.\u001b[0m\u001b[0mend_date\u001b[0m\u001b[0;34m)\u001b[0m\u001b[0;34m\u001b[0m\u001b[0;34m\u001b[0m\u001b[0m\n\u001b[1;32m     10\u001b[0m     \u001b[0me_rate\u001b[0m\u001b[0;34m=\u001b[0m\u001b[0;34m(\u001b[0m\u001b[0;34m(\u001b[0m\u001b[0msofr2\u001b[0m\u001b[0;34m/\u001b[0m\u001b[0msofr1\u001b[0m\u001b[0;34m)\u001b[0m\u001b[0;34m-\u001b[0m\u001b[0;36m1\u001b[0m\u001b[0;34m)\u001b[0m\u001b[0;34m*\u001b[0m\u001b[0;36m360.0\u001b[0m\u001b[0;34m/\u001b[0m\u001b[0;34m(\u001b[0m\u001b[0mval_date\u001b[0m\u001b[0;34m.\u001b[0m\u001b[0mday_diff\u001b[0m\u001b[0;34m(\u001b[0m\u001b[0mOisCashflow\u001b[0m\u001b[0;34m.\u001b[0m\u001b[0mend_date\u001b[0m\u001b[0;34m)\u001b[0m\u001b[0;34m)\u001b[0m\u001b[0;34m\u001b[0m\u001b[0;34m\u001b[0m\u001b[0m\n",
      "\u001b[0;31mArgumentError\u001b[0m: Python argument types in\n    InterestRateCurve.get_discount_factor_at(ZeroCouponCurve, QCDate)\ndid not match C++ signature:\n    get_discount_factor_at(std::shared_ptr<wrappers::InterestRateCurveWrap> {lvalue}, long)\n    get_discount_factor_at(QCode::Financial::InterestRateCurve {lvalue}, long)"
     ]
    }
   ],
   "source": [
    "# Check tercer caso borde\n",
    "val_date = Qcf.QCDate(1, 10, 2020)\n",
    "set_expected_rate(val_date, ois, zcc, fixings)\n",
    "resultado = ois.interest_rate.get_value()\n",
    "print(f'Tasa esperada es: {resultado:.8%}')\n",
    "check = ois.get_accrued_rate(val_date, fixings)\n",
    "print(f'Check tasa esperada es: {check:.8%}')\n",
    "\n",
    "suma_exito(resultado, check, 'tasa')"
   ]
  },
  {
   "cell_type": "code",
   "execution_count": 55,
   "metadata": {
    "ExecuteTime": {
     "end_time": "2020-12-01T23:58:52.700219Z",
     "start_time": "2020-12-01T23:58:52.660126Z"
    }
   },
   "outputs": [
    {
     "ename": "ArgumentError",
     "evalue": "Python argument types in\n    InterestRateCurve.get_discount_factor_at(ZeroCouponCurve, QCDate)\ndid not match C++ signature:\n    get_discount_factor_at(std::shared_ptr<wrappers::InterestRateCurveWrap> {lvalue}, long)\n    get_discount_factor_at(QCode::Financial::InterestRateCurve {lvalue}, long)",
     "output_type": "error",
     "traceback": [
      "\u001b[0;31m---------------------------------------------------------------------------\u001b[0m",
      "\u001b[0;31mArgumentError\u001b[0m                             Traceback (most recent call last)",
      "\u001b[0;32m<ipython-input-55-cca3f63ba284>\u001b[0m in \u001b[0;36m<module>\u001b[0;34m\u001b[0m\n\u001b[1;32m      1\u001b[0m \u001b[0;31m# Check tercer caso\u001b[0m\u001b[0;34m\u001b[0m\u001b[0;34m\u001b[0m\u001b[0;34m\u001b[0m\u001b[0m\n\u001b[1;32m      2\u001b[0m \u001b[0mval_date\u001b[0m \u001b[0;34m=\u001b[0m \u001b[0mQcf\u001b[0m\u001b[0;34m.\u001b[0m\u001b[0mQCDate\u001b[0m\u001b[0;34m(\u001b[0m\u001b[0;36m15\u001b[0m\u001b[0;34m,\u001b[0m \u001b[0;36m10\u001b[0m\u001b[0;34m,\u001b[0m \u001b[0;36m2020\u001b[0m\u001b[0;34m)\u001b[0m\u001b[0;34m\u001b[0m\u001b[0;34m\u001b[0m\u001b[0m\n\u001b[0;32m----> 3\u001b[0;31m \u001b[0mset_expected_rate\u001b[0m\u001b[0;34m(\u001b[0m\u001b[0mval_date\u001b[0m\u001b[0;34m,\u001b[0m \u001b[0mois\u001b[0m\u001b[0;34m,\u001b[0m \u001b[0mzcc\u001b[0m\u001b[0;34m,\u001b[0m \u001b[0mfixings\u001b[0m\u001b[0;34m)\u001b[0m\u001b[0;34m\u001b[0m\u001b[0;34m\u001b[0m\u001b[0m\n\u001b[0m\u001b[1;32m      4\u001b[0m \u001b[0mresultado\u001b[0m \u001b[0;34m=\u001b[0m \u001b[0mois\u001b[0m\u001b[0;34m.\u001b[0m\u001b[0minterest_rate\u001b[0m\u001b[0;34m.\u001b[0m\u001b[0mget_value\u001b[0m\u001b[0;34m(\u001b[0m\u001b[0;34m)\u001b[0m\u001b[0;34m\u001b[0m\u001b[0;34m\u001b[0m\u001b[0m\n\u001b[1;32m      5\u001b[0m \u001b[0mprint\u001b[0m\u001b[0;34m(\u001b[0m\u001b[0;34mf'Tasa esperada es: {resultado:.8%}'\u001b[0m\u001b[0;34m)\u001b[0m\u001b[0;34m\u001b[0m\u001b[0;34m\u001b[0m\u001b[0m\n",
      "\u001b[0;32m<ipython-input-13-cb40bd257d4e>\u001b[0m in \u001b[0;36mset_expected_rate\u001b[0;34m(val_date, ois_cashflow, zcc, fixings)\u001b[0m\n\u001b[1;32m      6\u001b[0m \u001b[0;34m\u001b[0m\u001b[0m\n\u001b[1;32m      7\u001b[0m \u001b[0;34m\u001b[0m\u001b[0m\n\u001b[0;32m----> 8\u001b[0;31m     \u001b[0msofr1\u001b[0m\u001b[0;34m=\u001b[0m \u001b[0mzcc\u001b[0m\u001b[0;34m.\u001b[0m\u001b[0mget_discount_factor_at\u001b[0m\u001b[0;34m(\u001b[0m\u001b[0mval_date\u001b[0m\u001b[0;34m)\u001b[0m\u001b[0;34m\u001b[0m\u001b[0;34m\u001b[0m\u001b[0m\n\u001b[0m\u001b[1;32m      9\u001b[0m     \u001b[0msofr2\u001b[0m\u001b[0;34m=\u001b[0m \u001b[0mzcc\u001b[0m\u001b[0;34m.\u001b[0m\u001b[0mget_discount_factor_at\u001b[0m\u001b[0;34m(\u001b[0m\u001b[0mOisCashflow\u001b[0m\u001b[0;34m.\u001b[0m\u001b[0mend_date\u001b[0m\u001b[0;34m)\u001b[0m\u001b[0;34m\u001b[0m\u001b[0;34m\u001b[0m\u001b[0m\n\u001b[1;32m     10\u001b[0m     \u001b[0me_rate\u001b[0m\u001b[0;34m=\u001b[0m\u001b[0;34m(\u001b[0m\u001b[0;34m(\u001b[0m\u001b[0msofr2\u001b[0m\u001b[0;34m/\u001b[0m\u001b[0msofr1\u001b[0m\u001b[0;34m)\u001b[0m\u001b[0;34m-\u001b[0m\u001b[0;36m1\u001b[0m\u001b[0;34m)\u001b[0m\u001b[0;34m*\u001b[0m\u001b[0;36m360.0\u001b[0m\u001b[0;34m/\u001b[0m\u001b[0;34m(\u001b[0m\u001b[0mval_date\u001b[0m\u001b[0;34m.\u001b[0m\u001b[0mday_diff\u001b[0m\u001b[0;34m(\u001b[0m\u001b[0mOisCashflow\u001b[0m\u001b[0;34m.\u001b[0m\u001b[0mend_date\u001b[0m\u001b[0;34m)\u001b[0m\u001b[0;34m)\u001b[0m\u001b[0;34m\u001b[0m\u001b[0;34m\u001b[0m\u001b[0m\n",
      "\u001b[0;31mArgumentError\u001b[0m: Python argument types in\n    InterestRateCurve.get_discount_factor_at(ZeroCouponCurve, QCDate)\ndid not match C++ signature:\n    get_discount_factor_at(std::shared_ptr<wrappers::InterestRateCurveWrap> {lvalue}, long)\n    get_discount_factor_at(QCode::Financial::InterestRateCurve {lvalue}, long)"
     ]
    }
   ],
   "source": [
    "# Check tercer caso\n",
    "val_date = Qcf.QCDate(15, 10, 2020)\n",
    "set_expected_rate(val_date, ois, zcc, fixings)\n",
    "resultado = ois.interest_rate.get_value()\n",
    "print(f'Tasa esperada es: {resultado:.8%}')\n",
    "check = ois.get_accrued_rate(ois.end_date, fixings)\n",
    "print(f'Check tasa esperada es: {check:.8%}')\n",
    "\n",
    "suma_exito(resultado, check, 'tasa')"
   ]
  },
  {
   "cell_type": "markdown",
   "metadata": {},
   "source": [
    "### `present_value`"
   ]
  },
  {
   "cell_type": "code",
   "execution_count": 56,
   "metadata": {
    "ExecuteTime": {
     "end_time": "2020-12-01T23:59:00.424004Z",
     "start_time": "2020-12-01T23:59:00.373440Z"
    }
   },
   "outputs": [
    {
     "ename": "ArgumentError",
     "evalue": "Python argument types in\n    InterestRateCurve.get_discount_factor_at(ZeroCouponCurve, QCDate)\ndid not match C++ signature:\n    get_discount_factor_at(std::shared_ptr<wrappers::InterestRateCurveWrap> {lvalue}, long)\n    get_discount_factor_at(QCode::Financial::InterestRateCurve {lvalue}, long)",
     "output_type": "error",
     "traceback": [
      "\u001b[0;31m---------------------------------------------------------------------------\u001b[0m",
      "\u001b[0;31mArgumentError\u001b[0m                             Traceback (most recent call last)",
      "\u001b[0;32m<ipython-input-56-014bfdafebd4>\u001b[0m in \u001b[0;36m<module>\u001b[0;34m\u001b[0m\n\u001b[1;32m      1\u001b[0m \u001b[0;31m# Check primer caso\u001b[0m\u001b[0;34m\u001b[0m\u001b[0;34m\u001b[0m\u001b[0;34m\u001b[0m\u001b[0m\n\u001b[1;32m      2\u001b[0m \u001b[0mval_date\u001b[0m \u001b[0;34m=\u001b[0m \u001b[0mQcf\u001b[0m\u001b[0;34m.\u001b[0m\u001b[0mQCDate\u001b[0m\u001b[0;34m(\u001b[0m\u001b[0;36m1\u001b[0m\u001b[0;34m,\u001b[0m \u001b[0;36m6\u001b[0m\u001b[0;34m,\u001b[0m \u001b[0;36m2019\u001b[0m\u001b[0;34m)\u001b[0m\u001b[0;34m\u001b[0m\u001b[0;34m\u001b[0m\u001b[0m\n\u001b[0;32m----> 3\u001b[0;31m \u001b[0mset_expected_rate\u001b[0m\u001b[0;34m(\u001b[0m\u001b[0mval_date\u001b[0m\u001b[0;34m,\u001b[0m \u001b[0mois\u001b[0m\u001b[0;34m,\u001b[0m  \u001b[0mzcc\u001b[0m\u001b[0;34m,\u001b[0m \u001b[0mfixings\u001b[0m\u001b[0;34m)\u001b[0m\u001b[0;34m\u001b[0m\u001b[0;34m\u001b[0m\u001b[0m\n\u001b[0m\u001b[1;32m      4\u001b[0m \u001b[0mpv\u001b[0m \u001b[0;34m=\u001b[0m \u001b[0mpresent_value\u001b[0m\u001b[0;34m(\u001b[0m\u001b[0mval_date\u001b[0m\u001b[0;34m,\u001b[0m \u001b[0mois\u001b[0m\u001b[0;34m,\u001b[0m \u001b[0mzcc\u001b[0m\u001b[0;34m)\u001b[0m\u001b[0;34m\u001b[0m\u001b[0;34m\u001b[0m\u001b[0m\n\u001b[1;32m      5\u001b[0m \u001b[0mprint\u001b[0m\u001b[0;34m(\u001b[0m\u001b[0;34mf'Valor presente es: {pv:,.4f}'\u001b[0m\u001b[0;34m)\u001b[0m\u001b[0;34m\u001b[0m\u001b[0;34m\u001b[0m\u001b[0m\n",
      "\u001b[0;32m<ipython-input-13-cb40bd257d4e>\u001b[0m in \u001b[0;36mset_expected_rate\u001b[0;34m(val_date, ois_cashflow, zcc, fixings)\u001b[0m\n\u001b[1;32m      6\u001b[0m \u001b[0;34m\u001b[0m\u001b[0m\n\u001b[1;32m      7\u001b[0m \u001b[0;34m\u001b[0m\u001b[0m\n\u001b[0;32m----> 8\u001b[0;31m     \u001b[0msofr1\u001b[0m\u001b[0;34m=\u001b[0m \u001b[0mzcc\u001b[0m\u001b[0;34m.\u001b[0m\u001b[0mget_discount_factor_at\u001b[0m\u001b[0;34m(\u001b[0m\u001b[0mval_date\u001b[0m\u001b[0;34m)\u001b[0m\u001b[0;34m\u001b[0m\u001b[0;34m\u001b[0m\u001b[0m\n\u001b[0m\u001b[1;32m      9\u001b[0m     \u001b[0msofr2\u001b[0m\u001b[0;34m=\u001b[0m \u001b[0mzcc\u001b[0m\u001b[0;34m.\u001b[0m\u001b[0mget_discount_factor_at\u001b[0m\u001b[0;34m(\u001b[0m\u001b[0mOisCashflow\u001b[0m\u001b[0;34m.\u001b[0m\u001b[0mend_date\u001b[0m\u001b[0;34m)\u001b[0m\u001b[0;34m\u001b[0m\u001b[0;34m\u001b[0m\u001b[0m\n\u001b[1;32m     10\u001b[0m     \u001b[0me_rate\u001b[0m\u001b[0;34m=\u001b[0m\u001b[0;34m(\u001b[0m\u001b[0;34m(\u001b[0m\u001b[0msofr2\u001b[0m\u001b[0;34m/\u001b[0m\u001b[0msofr1\u001b[0m\u001b[0;34m)\u001b[0m\u001b[0;34m-\u001b[0m\u001b[0;36m1\u001b[0m\u001b[0;34m)\u001b[0m\u001b[0;34m*\u001b[0m\u001b[0;36m360.0\u001b[0m\u001b[0;34m/\u001b[0m\u001b[0;34m(\u001b[0m\u001b[0mval_date\u001b[0m\u001b[0;34m.\u001b[0m\u001b[0mday_diff\u001b[0m\u001b[0;34m(\u001b[0m\u001b[0mOisCashflow\u001b[0m\u001b[0;34m.\u001b[0m\u001b[0mend_date\u001b[0m\u001b[0;34m)\u001b[0m\u001b[0;34m)\u001b[0m\u001b[0;34m\u001b[0m\u001b[0;34m\u001b[0m\u001b[0m\n",
      "\u001b[0;31mArgumentError\u001b[0m: Python argument types in\n    InterestRateCurve.get_discount_factor_at(ZeroCouponCurve, QCDate)\ndid not match C++ signature:\n    get_discount_factor_at(std::shared_ptr<wrappers::InterestRateCurveWrap> {lvalue}, long)\n    get_discount_factor_at(QCode::Financial::InterestRateCurve {lvalue}, long)"
     ]
    }
   ],
   "source": [
    "# Check primer caso\n",
    "val_date = Qcf.QCDate(1, 6, 2019)\n",
    "set_expected_rate(val_date, ois,  zcc, fixings)\n",
    "pv = present_value(val_date, ois, zcc)\n",
    "print(f'Valor presente es: {pv:,.4f}')\n",
    "amount = ois.amount()\n",
    "print(f'Amount: {amount:,.4f}')\n",
    "amount = ois.amount()\n",
    "plazo = val_date.day_diff(ois.settlement_date)\n",
    "df = zcc.get_discount_factor_at(plazo)\n",
    "print(f'Df: {df:.6%}')\n",
    "vp_check = df * amount\n",
    "print(f'VP check es: {vp_check:,.4f}')\n",
    "\n",
    "suma_exito(pv, vp_check, 'monto')"
   ]
  },
  {
   "cell_type": "code",
   "execution_count": 57,
   "metadata": {
    "ExecuteTime": {
     "end_time": "2020-12-01T23:59:20.455330Z",
     "start_time": "2020-12-01T23:59:20.428120Z"
    }
   },
   "outputs": [
    {
     "ename": "ArgumentError",
     "evalue": "Python argument types in\n    InterestRateCurve.get_discount_factor_at(ZeroCouponCurve, QCDate)\ndid not match C++ signature:\n    get_discount_factor_at(std::shared_ptr<wrappers::InterestRateCurveWrap> {lvalue}, long)\n    get_discount_factor_at(QCode::Financial::InterestRateCurve {lvalue}, long)",
     "output_type": "error",
     "traceback": [
      "\u001b[0;31m---------------------------------------------------------------------------\u001b[0m",
      "\u001b[0;31mArgumentError\u001b[0m                             Traceback (most recent call last)",
      "\u001b[0;32m<ipython-input-57-db677d7b52aa>\u001b[0m in \u001b[0;36m<module>\u001b[0;34m\u001b[0m\n\u001b[1;32m      1\u001b[0m \u001b[0;31m# Check segundo caso borde\u001b[0m\u001b[0;34m\u001b[0m\u001b[0;34m\u001b[0m\u001b[0;34m\u001b[0m\u001b[0m\n\u001b[1;32m      2\u001b[0m \u001b[0mval_date\u001b[0m \u001b[0;34m=\u001b[0m \u001b[0mQcf\u001b[0m\u001b[0;34m.\u001b[0m\u001b[0mQCDate\u001b[0m\u001b[0;34m(\u001b[0m\u001b[0;36m1\u001b[0m\u001b[0;34m,\u001b[0m \u001b[0;36m10\u001b[0m\u001b[0;34m,\u001b[0m \u001b[0;36m2019\u001b[0m\u001b[0;34m)\u001b[0m\u001b[0;34m\u001b[0m\u001b[0;34m\u001b[0m\u001b[0m\n\u001b[0;32m----> 3\u001b[0;31m \u001b[0mset_expected_rate\u001b[0m\u001b[0;34m(\u001b[0m\u001b[0mval_date\u001b[0m\u001b[0;34m,\u001b[0m \u001b[0mois\u001b[0m\u001b[0;34m,\u001b[0m \u001b[0mzcc\u001b[0m\u001b[0;34m,\u001b[0m \u001b[0mfixings\u001b[0m\u001b[0;34m)\u001b[0m\u001b[0;34m\u001b[0m\u001b[0;34m\u001b[0m\u001b[0m\n\u001b[0m\u001b[1;32m      4\u001b[0m \u001b[0mpv\u001b[0m \u001b[0;34m=\u001b[0m \u001b[0mpresent_value\u001b[0m\u001b[0;34m(\u001b[0m\u001b[0mval_date\u001b[0m\u001b[0;34m,\u001b[0m \u001b[0mois\u001b[0m\u001b[0;34m,\u001b[0m \u001b[0mzcc\u001b[0m\u001b[0;34m)\u001b[0m\u001b[0;34m\u001b[0m\u001b[0;34m\u001b[0m\u001b[0m\n\u001b[1;32m      5\u001b[0m \u001b[0mprint\u001b[0m\u001b[0;34m(\u001b[0m\u001b[0;34mf'Valor presente es: {pv:,.4f}'\u001b[0m\u001b[0;34m)\u001b[0m\u001b[0;34m\u001b[0m\u001b[0;34m\u001b[0m\u001b[0m\n",
      "\u001b[0;32m<ipython-input-13-cb40bd257d4e>\u001b[0m in \u001b[0;36mset_expected_rate\u001b[0;34m(val_date, ois_cashflow, zcc, fixings)\u001b[0m\n\u001b[1;32m      6\u001b[0m \u001b[0;34m\u001b[0m\u001b[0m\n\u001b[1;32m      7\u001b[0m \u001b[0;34m\u001b[0m\u001b[0m\n\u001b[0;32m----> 8\u001b[0;31m     \u001b[0msofr1\u001b[0m\u001b[0;34m=\u001b[0m \u001b[0mzcc\u001b[0m\u001b[0;34m.\u001b[0m\u001b[0mget_discount_factor_at\u001b[0m\u001b[0;34m(\u001b[0m\u001b[0mval_date\u001b[0m\u001b[0;34m)\u001b[0m\u001b[0;34m\u001b[0m\u001b[0;34m\u001b[0m\u001b[0m\n\u001b[0m\u001b[1;32m      9\u001b[0m     \u001b[0msofr2\u001b[0m\u001b[0;34m=\u001b[0m \u001b[0mzcc\u001b[0m\u001b[0;34m.\u001b[0m\u001b[0mget_discount_factor_at\u001b[0m\u001b[0;34m(\u001b[0m\u001b[0mOisCashflow\u001b[0m\u001b[0;34m.\u001b[0m\u001b[0mend_date\u001b[0m\u001b[0;34m)\u001b[0m\u001b[0;34m\u001b[0m\u001b[0;34m\u001b[0m\u001b[0m\n\u001b[1;32m     10\u001b[0m     \u001b[0me_rate\u001b[0m\u001b[0;34m=\u001b[0m\u001b[0;34m(\u001b[0m\u001b[0;34m(\u001b[0m\u001b[0msofr2\u001b[0m\u001b[0;34m/\u001b[0m\u001b[0msofr1\u001b[0m\u001b[0;34m)\u001b[0m\u001b[0;34m-\u001b[0m\u001b[0;36m1\u001b[0m\u001b[0;34m)\u001b[0m\u001b[0;34m*\u001b[0m\u001b[0;36m360.0\u001b[0m\u001b[0;34m/\u001b[0m\u001b[0;34m(\u001b[0m\u001b[0mval_date\u001b[0m\u001b[0;34m.\u001b[0m\u001b[0mday_diff\u001b[0m\u001b[0;34m(\u001b[0m\u001b[0mOisCashflow\u001b[0m\u001b[0;34m.\u001b[0m\u001b[0mend_date\u001b[0m\u001b[0;34m)\u001b[0m\u001b[0;34m)\u001b[0m\u001b[0;34m\u001b[0m\u001b[0;34m\u001b[0m\u001b[0m\n",
      "\u001b[0;31mArgumentError\u001b[0m: Python argument types in\n    InterestRateCurve.get_discount_factor_at(ZeroCouponCurve, QCDate)\ndid not match C++ signature:\n    get_discount_factor_at(std::shared_ptr<wrappers::InterestRateCurveWrap> {lvalue}, long)\n    get_discount_factor_at(QCode::Financial::InterestRateCurve {lvalue}, long)"
     ]
    }
   ],
   "source": [
    "# Check segundo caso borde\n",
    "val_date = Qcf.QCDate(1, 10, 2019)\n",
    "set_expected_rate(val_date, ois, zcc, fixings)\n",
    "pv = present_value(val_date, ois, zcc)\n",
    "print(f'Valor presente es: {pv:,.4f}')\n",
    "amount = ois.amount()\n",
    "print(f'Amount: {amount:,.4f}')\n",
    "amount = ois.amount()\n",
    "plazo = val_date.day_diff(ois.settlement_date)\n",
    "df = zcc.get_discount_factor_at(plazo)\n",
    "print(f'Df: {df:.6%}')\n",
    "vp_check = df * amount\n",
    "print(f'VP check es: {vp_check:,.4f}')\n",
    "\n",
    "suma_exito(pv, vp_check, 'monto')"
   ]
  },
  {
   "cell_type": "code",
   "execution_count": 58,
   "metadata": {
    "ExecuteTime": {
     "end_time": "2020-12-01T23:59:29.083697Z",
     "start_time": "2020-12-01T23:59:29.059814Z"
    }
   },
   "outputs": [
    {
     "ename": "ArgumentError",
     "evalue": "Python argument types in\n    InterestRateCurve.get_discount_factor_at(ZeroCouponCurve, QCDate)\ndid not match C++ signature:\n    get_discount_factor_at(std::shared_ptr<wrappers::InterestRateCurveWrap> {lvalue}, long)\n    get_discount_factor_at(QCode::Financial::InterestRateCurve {lvalue}, long)",
     "output_type": "error",
     "traceback": [
      "\u001b[0;31m---------------------------------------------------------------------------\u001b[0m",
      "\u001b[0;31mArgumentError\u001b[0m                             Traceback (most recent call last)",
      "\u001b[0;32m<ipython-input-58-567726090a28>\u001b[0m in \u001b[0;36m<module>\u001b[0;34m\u001b[0m\n\u001b[1;32m      1\u001b[0m \u001b[0;31m# Check segundo caso\u001b[0m\u001b[0;34m\u001b[0m\u001b[0;34m\u001b[0m\u001b[0;34m\u001b[0m\u001b[0m\n\u001b[1;32m      2\u001b[0m \u001b[0mval_date\u001b[0m \u001b[0;34m=\u001b[0m \u001b[0mQcf\u001b[0m\u001b[0;34m.\u001b[0m\u001b[0mQCDate\u001b[0m\u001b[0;34m(\u001b[0m\u001b[0;36m1\u001b[0m\u001b[0;34m,\u001b[0m \u001b[0;36m11\u001b[0m\u001b[0;34m,\u001b[0m \u001b[0;36m2019\u001b[0m\u001b[0;34m)\u001b[0m\u001b[0;34m\u001b[0m\u001b[0;34m\u001b[0m\u001b[0m\n\u001b[0;32m----> 3\u001b[0;31m \u001b[0mset_expected_rate\u001b[0m\u001b[0;34m(\u001b[0m\u001b[0mval_date\u001b[0m\u001b[0;34m,\u001b[0m \u001b[0mois\u001b[0m\u001b[0;34m,\u001b[0m \u001b[0mzcc\u001b[0m\u001b[0;34m,\u001b[0m \u001b[0mfixings\u001b[0m\u001b[0;34m)\u001b[0m\u001b[0;34m\u001b[0m\u001b[0;34m\u001b[0m\u001b[0m\n\u001b[0m\u001b[1;32m      4\u001b[0m \u001b[0mpv\u001b[0m \u001b[0;34m=\u001b[0m \u001b[0mpresent_value\u001b[0m\u001b[0;34m(\u001b[0m\u001b[0mval_date\u001b[0m\u001b[0;34m,\u001b[0m \u001b[0mois\u001b[0m\u001b[0;34m,\u001b[0m \u001b[0mzcc\u001b[0m\u001b[0;34m)\u001b[0m\u001b[0;34m\u001b[0m\u001b[0;34m\u001b[0m\u001b[0m\n\u001b[1;32m      5\u001b[0m \u001b[0mprint\u001b[0m\u001b[0;34m(\u001b[0m\u001b[0;34mf'Valor presente es: {pv:,.4f}'\u001b[0m\u001b[0;34m)\u001b[0m\u001b[0;34m\u001b[0m\u001b[0;34m\u001b[0m\u001b[0m\n",
      "\u001b[0;32m<ipython-input-13-cb40bd257d4e>\u001b[0m in \u001b[0;36mset_expected_rate\u001b[0;34m(val_date, ois_cashflow, zcc, fixings)\u001b[0m\n\u001b[1;32m      6\u001b[0m \u001b[0;34m\u001b[0m\u001b[0m\n\u001b[1;32m      7\u001b[0m \u001b[0;34m\u001b[0m\u001b[0m\n\u001b[0;32m----> 8\u001b[0;31m     \u001b[0msofr1\u001b[0m\u001b[0;34m=\u001b[0m \u001b[0mzcc\u001b[0m\u001b[0;34m.\u001b[0m\u001b[0mget_discount_factor_at\u001b[0m\u001b[0;34m(\u001b[0m\u001b[0mval_date\u001b[0m\u001b[0;34m)\u001b[0m\u001b[0;34m\u001b[0m\u001b[0;34m\u001b[0m\u001b[0m\n\u001b[0m\u001b[1;32m      9\u001b[0m     \u001b[0msofr2\u001b[0m\u001b[0;34m=\u001b[0m \u001b[0mzcc\u001b[0m\u001b[0;34m.\u001b[0m\u001b[0mget_discount_factor_at\u001b[0m\u001b[0;34m(\u001b[0m\u001b[0mOisCashflow\u001b[0m\u001b[0;34m.\u001b[0m\u001b[0mend_date\u001b[0m\u001b[0;34m)\u001b[0m\u001b[0;34m\u001b[0m\u001b[0;34m\u001b[0m\u001b[0m\n\u001b[1;32m     10\u001b[0m     \u001b[0me_rate\u001b[0m\u001b[0;34m=\u001b[0m\u001b[0;34m(\u001b[0m\u001b[0;34m(\u001b[0m\u001b[0msofr2\u001b[0m\u001b[0;34m/\u001b[0m\u001b[0msofr1\u001b[0m\u001b[0;34m)\u001b[0m\u001b[0;34m-\u001b[0m\u001b[0;36m1\u001b[0m\u001b[0;34m)\u001b[0m\u001b[0;34m*\u001b[0m\u001b[0;36m360.0\u001b[0m\u001b[0;34m/\u001b[0m\u001b[0;34m(\u001b[0m\u001b[0mval_date\u001b[0m\u001b[0;34m.\u001b[0m\u001b[0mday_diff\u001b[0m\u001b[0;34m(\u001b[0m\u001b[0mOisCashflow\u001b[0m\u001b[0;34m.\u001b[0m\u001b[0mend_date\u001b[0m\u001b[0;34m)\u001b[0m\u001b[0;34m)\u001b[0m\u001b[0;34m\u001b[0m\u001b[0;34m\u001b[0m\u001b[0m\n",
      "\u001b[0;31mArgumentError\u001b[0m: Python argument types in\n    InterestRateCurve.get_discount_factor_at(ZeroCouponCurve, QCDate)\ndid not match C++ signature:\n    get_discount_factor_at(std::shared_ptr<wrappers::InterestRateCurveWrap> {lvalue}, long)\n    get_discount_factor_at(QCode::Financial::InterestRateCurve {lvalue}, long)"
     ]
    }
   ],
   "source": [
    "# Check segundo caso\n",
    "val_date = Qcf.QCDate(1, 11, 2019)\n",
    "set_expected_rate(val_date, ois, zcc, fixings)\n",
    "pv = present_value(val_date, ois, zcc)\n",
    "print(f'Valor presente es: {pv:,.4f}')\n",
    "amount = ois.amount()\n",
    "print(f'Amount: {amount:,.4f}')\n",
    "amount = ois.amount()\n",
    "plazo = val_date.day_diff(ois.settlement_date)\n",
    "df = zcc.get_discount_factor_at(plazo)\n",
    "print(f'Df: {df:.6%}')\n",
    "vp_check = df * amount\n",
    "print(f'VP check es: {vp_check:,.4f}')\n",
    "\n",
    "suma_exito(pv, vp_check, 'monto')"
   ]
  },
  {
   "cell_type": "code",
   "execution_count": 59,
   "metadata": {
    "ExecuteTime": {
     "end_time": "2020-12-01T23:59:36.347709Z",
     "start_time": "2020-12-01T23:59:36.318587Z"
    }
   },
   "outputs": [
    {
     "ename": "ArgumentError",
     "evalue": "Python argument types in\n    InterestRateCurve.get_discount_factor_at(ZeroCouponCurve, QCDate)\ndid not match C++ signature:\n    get_discount_factor_at(std::shared_ptr<wrappers::InterestRateCurveWrap> {lvalue}, long)\n    get_discount_factor_at(QCode::Financial::InterestRateCurve {lvalue}, long)",
     "output_type": "error",
     "traceback": [
      "\u001b[0;31m---------------------------------------------------------------------------\u001b[0m",
      "\u001b[0;31mArgumentError\u001b[0m                             Traceback (most recent call last)",
      "\u001b[0;32m<ipython-input-59-3d80c6ca4a46>\u001b[0m in \u001b[0;36m<module>\u001b[0;34m\u001b[0m\n\u001b[1;32m      1\u001b[0m \u001b[0;31m# Check tercer caso borde\u001b[0m\u001b[0;34m\u001b[0m\u001b[0;34m\u001b[0m\u001b[0;34m\u001b[0m\u001b[0m\n\u001b[1;32m      2\u001b[0m \u001b[0mval_date\u001b[0m \u001b[0;34m=\u001b[0m \u001b[0mQcf\u001b[0m\u001b[0;34m.\u001b[0m\u001b[0mQCDate\u001b[0m\u001b[0;34m(\u001b[0m\u001b[0;36m1\u001b[0m\u001b[0;34m,\u001b[0m \u001b[0;36m10\u001b[0m\u001b[0;34m,\u001b[0m \u001b[0;36m2020\u001b[0m\u001b[0;34m)\u001b[0m\u001b[0;34m\u001b[0m\u001b[0;34m\u001b[0m\u001b[0m\n\u001b[0;32m----> 3\u001b[0;31m \u001b[0mset_expected_rate\u001b[0m\u001b[0;34m(\u001b[0m\u001b[0mval_date\u001b[0m\u001b[0;34m,\u001b[0m \u001b[0mois\u001b[0m\u001b[0;34m,\u001b[0m \u001b[0mzcc\u001b[0m\u001b[0;34m,\u001b[0m \u001b[0mfixings\u001b[0m\u001b[0;34m)\u001b[0m\u001b[0;34m\u001b[0m\u001b[0;34m\u001b[0m\u001b[0m\n\u001b[0m\u001b[1;32m      4\u001b[0m \u001b[0mpv\u001b[0m \u001b[0;34m=\u001b[0m \u001b[0mpresent_value\u001b[0m\u001b[0;34m(\u001b[0m\u001b[0mval_date\u001b[0m\u001b[0;34m,\u001b[0m \u001b[0mois\u001b[0m\u001b[0;34m,\u001b[0m \u001b[0mzcc\u001b[0m\u001b[0;34m)\u001b[0m\u001b[0;34m\u001b[0m\u001b[0;34m\u001b[0m\u001b[0m\n\u001b[1;32m      5\u001b[0m \u001b[0mprint\u001b[0m\u001b[0;34m(\u001b[0m\u001b[0;34mf'Valor presente es: {pv:,.4f}'\u001b[0m\u001b[0;34m)\u001b[0m\u001b[0;34m\u001b[0m\u001b[0;34m\u001b[0m\u001b[0m\n",
      "\u001b[0;32m<ipython-input-13-cb40bd257d4e>\u001b[0m in \u001b[0;36mset_expected_rate\u001b[0;34m(val_date, ois_cashflow, zcc, fixings)\u001b[0m\n\u001b[1;32m      6\u001b[0m \u001b[0;34m\u001b[0m\u001b[0m\n\u001b[1;32m      7\u001b[0m \u001b[0;34m\u001b[0m\u001b[0m\n\u001b[0;32m----> 8\u001b[0;31m     \u001b[0msofr1\u001b[0m\u001b[0;34m=\u001b[0m \u001b[0mzcc\u001b[0m\u001b[0;34m.\u001b[0m\u001b[0mget_discount_factor_at\u001b[0m\u001b[0;34m(\u001b[0m\u001b[0mval_date\u001b[0m\u001b[0;34m)\u001b[0m\u001b[0;34m\u001b[0m\u001b[0;34m\u001b[0m\u001b[0m\n\u001b[0m\u001b[1;32m      9\u001b[0m     \u001b[0msofr2\u001b[0m\u001b[0;34m=\u001b[0m \u001b[0mzcc\u001b[0m\u001b[0;34m.\u001b[0m\u001b[0mget_discount_factor_at\u001b[0m\u001b[0;34m(\u001b[0m\u001b[0mOisCashflow\u001b[0m\u001b[0;34m.\u001b[0m\u001b[0mend_date\u001b[0m\u001b[0;34m)\u001b[0m\u001b[0;34m\u001b[0m\u001b[0;34m\u001b[0m\u001b[0m\n\u001b[1;32m     10\u001b[0m     \u001b[0me_rate\u001b[0m\u001b[0;34m=\u001b[0m\u001b[0;34m(\u001b[0m\u001b[0;34m(\u001b[0m\u001b[0msofr2\u001b[0m\u001b[0;34m/\u001b[0m\u001b[0msofr1\u001b[0m\u001b[0;34m)\u001b[0m\u001b[0;34m-\u001b[0m\u001b[0;36m1\u001b[0m\u001b[0;34m)\u001b[0m\u001b[0;34m*\u001b[0m\u001b[0;36m360.0\u001b[0m\u001b[0;34m/\u001b[0m\u001b[0;34m(\u001b[0m\u001b[0mval_date\u001b[0m\u001b[0;34m.\u001b[0m\u001b[0mday_diff\u001b[0m\u001b[0;34m(\u001b[0m\u001b[0mOisCashflow\u001b[0m\u001b[0;34m.\u001b[0m\u001b[0mend_date\u001b[0m\u001b[0;34m)\u001b[0m\u001b[0;34m)\u001b[0m\u001b[0;34m\u001b[0m\u001b[0;34m\u001b[0m\u001b[0m\n",
      "\u001b[0;31mArgumentError\u001b[0m: Python argument types in\n    InterestRateCurve.get_discount_factor_at(ZeroCouponCurve, QCDate)\ndid not match C++ signature:\n    get_discount_factor_at(std::shared_ptr<wrappers::InterestRateCurveWrap> {lvalue}, long)\n    get_discount_factor_at(QCode::Financial::InterestRateCurve {lvalue}, long)"
     ]
    }
   ],
   "source": [
    "# Check tercer caso borde\n",
    "val_date = Qcf.QCDate(1, 10, 2020)\n",
    "set_expected_rate(val_date, ois, zcc, fixings)\n",
    "pv = present_value(val_date, ois, zcc)\n",
    "print(f'Valor presente es: {pv:,.4f}')\n",
    "amount = ois.amount()\n",
    "print(f'Amount: {amount:,.4f}')\n",
    "amount = ois.amount()\n",
    "plazo = val_date.day_diff(ois.settlement_date)\n",
    "if plazo <= 0:\n",
    "    df = 0.0\n",
    "else:\n",
    "    df = zcc.get_discount_factor_at(plazo)\n",
    "print(f'Df: {df:.6%}')\n",
    "vp_check = df * amount\n",
    "print(f'VP check es: {vp_check:,.4f}')\n",
    "\n",
    "suma_exito(pv, vp_check, 'monto')"
   ]
  },
  {
   "cell_type": "code",
   "execution_count": 60,
   "metadata": {
    "ExecuteTime": {
     "end_time": "2020-12-01T23:59:44.169849Z",
     "start_time": "2020-12-01T23:59:44.147409Z"
    }
   },
   "outputs": [
    {
     "ename": "ArgumentError",
     "evalue": "Python argument types in\n    InterestRateCurve.get_discount_factor_at(ZeroCouponCurve, QCDate)\ndid not match C++ signature:\n    get_discount_factor_at(std::shared_ptr<wrappers::InterestRateCurveWrap> {lvalue}, long)\n    get_discount_factor_at(QCode::Financial::InterestRateCurve {lvalue}, long)",
     "output_type": "error",
     "traceback": [
      "\u001b[0;31m---------------------------------------------------------------------------\u001b[0m",
      "\u001b[0;31mArgumentError\u001b[0m                             Traceback (most recent call last)",
      "\u001b[0;32m<ipython-input-60-6ed681e369ae>\u001b[0m in \u001b[0;36m<module>\u001b[0;34m\u001b[0m\n\u001b[1;32m      1\u001b[0m \u001b[0;31m# Check tercer caso\u001b[0m\u001b[0;34m\u001b[0m\u001b[0;34m\u001b[0m\u001b[0;34m\u001b[0m\u001b[0m\n\u001b[1;32m      2\u001b[0m \u001b[0mval_date\u001b[0m \u001b[0;34m=\u001b[0m \u001b[0mQcf\u001b[0m\u001b[0;34m.\u001b[0m\u001b[0mQCDate\u001b[0m\u001b[0;34m(\u001b[0m\u001b[0;36m15\u001b[0m\u001b[0;34m,\u001b[0m \u001b[0;36m10\u001b[0m\u001b[0;34m,\u001b[0m \u001b[0;36m2020\u001b[0m\u001b[0;34m)\u001b[0m\u001b[0;34m\u001b[0m\u001b[0;34m\u001b[0m\u001b[0m\n\u001b[0;32m----> 3\u001b[0;31m \u001b[0mset_expected_rate\u001b[0m\u001b[0;34m(\u001b[0m\u001b[0mval_date\u001b[0m\u001b[0;34m,\u001b[0m \u001b[0mois\u001b[0m\u001b[0;34m,\u001b[0m \u001b[0mzcc\u001b[0m\u001b[0;34m,\u001b[0m \u001b[0mfixings\u001b[0m\u001b[0;34m)\u001b[0m\u001b[0;34m\u001b[0m\u001b[0;34m\u001b[0m\u001b[0m\n\u001b[0m\u001b[1;32m      4\u001b[0m \u001b[0mpv\u001b[0m \u001b[0;34m=\u001b[0m \u001b[0mpresent_value\u001b[0m\u001b[0;34m(\u001b[0m\u001b[0mval_date\u001b[0m\u001b[0;34m,\u001b[0m \u001b[0mois\u001b[0m\u001b[0;34m,\u001b[0m \u001b[0mzcc\u001b[0m\u001b[0;34m)\u001b[0m\u001b[0;34m\u001b[0m\u001b[0;34m\u001b[0m\u001b[0m\n\u001b[1;32m      5\u001b[0m \u001b[0mprint\u001b[0m\u001b[0;34m(\u001b[0m\u001b[0;34mf'Valor presente es: {pv:,.4f}'\u001b[0m\u001b[0;34m)\u001b[0m\u001b[0;34m\u001b[0m\u001b[0;34m\u001b[0m\u001b[0m\n",
      "\u001b[0;32m<ipython-input-13-cb40bd257d4e>\u001b[0m in \u001b[0;36mset_expected_rate\u001b[0;34m(val_date, ois_cashflow, zcc, fixings)\u001b[0m\n\u001b[1;32m      6\u001b[0m \u001b[0;34m\u001b[0m\u001b[0m\n\u001b[1;32m      7\u001b[0m \u001b[0;34m\u001b[0m\u001b[0m\n\u001b[0;32m----> 8\u001b[0;31m     \u001b[0msofr1\u001b[0m\u001b[0;34m=\u001b[0m \u001b[0mzcc\u001b[0m\u001b[0;34m.\u001b[0m\u001b[0mget_discount_factor_at\u001b[0m\u001b[0;34m(\u001b[0m\u001b[0mval_date\u001b[0m\u001b[0;34m)\u001b[0m\u001b[0;34m\u001b[0m\u001b[0;34m\u001b[0m\u001b[0m\n\u001b[0m\u001b[1;32m      9\u001b[0m     \u001b[0msofr2\u001b[0m\u001b[0;34m=\u001b[0m \u001b[0mzcc\u001b[0m\u001b[0;34m.\u001b[0m\u001b[0mget_discount_factor_at\u001b[0m\u001b[0;34m(\u001b[0m\u001b[0mOisCashflow\u001b[0m\u001b[0;34m.\u001b[0m\u001b[0mend_date\u001b[0m\u001b[0;34m)\u001b[0m\u001b[0;34m\u001b[0m\u001b[0;34m\u001b[0m\u001b[0m\n\u001b[1;32m     10\u001b[0m     \u001b[0me_rate\u001b[0m\u001b[0;34m=\u001b[0m\u001b[0;34m(\u001b[0m\u001b[0;34m(\u001b[0m\u001b[0msofr2\u001b[0m\u001b[0;34m/\u001b[0m\u001b[0msofr1\u001b[0m\u001b[0;34m)\u001b[0m\u001b[0;34m-\u001b[0m\u001b[0;36m1\u001b[0m\u001b[0;34m)\u001b[0m\u001b[0;34m*\u001b[0m\u001b[0;36m360.0\u001b[0m\u001b[0;34m/\u001b[0m\u001b[0;34m(\u001b[0m\u001b[0mval_date\u001b[0m\u001b[0;34m.\u001b[0m\u001b[0mday_diff\u001b[0m\u001b[0;34m(\u001b[0m\u001b[0mOisCashflow\u001b[0m\u001b[0;34m.\u001b[0m\u001b[0mend_date\u001b[0m\u001b[0;34m)\u001b[0m\u001b[0;34m)\u001b[0m\u001b[0;34m\u001b[0m\u001b[0;34m\u001b[0m\u001b[0m\n",
      "\u001b[0;31mArgumentError\u001b[0m: Python argument types in\n    InterestRateCurve.get_discount_factor_at(ZeroCouponCurve, QCDate)\ndid not match C++ signature:\n    get_discount_factor_at(std::shared_ptr<wrappers::InterestRateCurveWrap> {lvalue}, long)\n    get_discount_factor_at(QCode::Financial::InterestRateCurve {lvalue}, long)"
     ]
    }
   ],
   "source": [
    "# Check tercer caso\n",
    "val_date = Qcf.QCDate(15, 10, 2020)\n",
    "set_expected_rate(val_date, ois, zcc, fixings)\n",
    "pv = present_value(val_date, ois, zcc)\n",
    "print(f'Valor presente es: {pv:,.4f}')\n",
    "amount = ois.amount()\n",
    "print(f'Amount: {amount:,.4f}')\n",
    "amount = ois.amount()\n",
    "plazo = val_date.day_diff(ois.settlement_date)\n",
    "if plazo <= 0:\n",
    "    df = 0.0\n",
    "else:\n",
    "    df = zcc.get_discount_factor_at(plazo)\n",
    "print(f'Df: {df:.6%}')\n",
    "vp_check = df * amount\n",
    "print(f'VP check es: {vp_check:,.4f}')\n",
    "\n",
    "suma_exito(pv, vp_check, 'monto')"
   ]
  },
  {
   "cell_type": "code",
   "execution_count": 61,
   "metadata": {
    "ExecuteTime": {
     "end_time": "2020-12-01T23:59:47.221848Z",
     "start_time": "2020-12-01T23:59:47.210212Z"
    }
   },
   "outputs": [
    {
     "name": "stdout",
     "output_type": "stream",
     "text": [
      "Éxitos totales: 2.0\n"
     ]
    }
   ],
   "source": [
    "print(f'Éxitos totales: {exitos}')"
   ]
  }
 ],
 "metadata": {
  "hide_input": false,
  "kernelspec": {
   "display_name": "Python 3",
   "language": "python",
   "name": "python3"
  },
  "language_info": {
   "codemirror_mode": {
    "name": "ipython",
    "version": 3
   },
   "file_extension": ".py",
   "mimetype": "text/x-python",
   "name": "python",
   "nbconvert_exporter": "python",
   "pygments_lexer": "ipython3",
   "version": "3.7.3"
  },
  "latex_envs": {
   "LaTeX_envs_menu_present": true,
   "autoclose": true,
   "autocomplete": true,
   "bibliofile": "biblio.bib",
   "cite_by": "apalike",
   "current_citInitial": 1,
   "eqLabelWithNumbers": true,
   "eqNumInitial": 1,
   "hotkeys": {
    "equation": "Ctrl-E",
    "itemize": "Ctrl-I"
   },
   "labels_anchors": false,
   "latex_user_defs": false,
   "report_style_numbering": false,
   "user_envs_cfg": false
  },
  "toc": {
   "base_numbering": "8",
   "nav_menu": {},
   "number_sections": true,
   "sideBar": true,
   "skip_h1_title": false,
   "title_cell": "Table of Contents",
   "title_sidebar": "Contenido",
   "toc_cell": false,
   "toc_position": {
    "height": "calc(100% - 180px)",
    "left": "10px",
    "top": "150px",
    "width": "187.59375px"
   },
   "toc_section_display": true,
   "toc_window_display": true
  }
 },
 "nbformat": 4,
 "nbformat_minor": 4
}
