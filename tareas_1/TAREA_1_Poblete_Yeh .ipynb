{
 "cells": [
  {
   "cell_type": "code",
   "execution_count": 1,
   "metadata": {
    "ExecuteTime": {
     "end_time": "2020-11-29T14:07:49.519742Z",
     "start_time": "2020-11-29T14:07:48.899688Z"
    }
   },
   "outputs": [],
   "source": [
    "from finrisk import QC_Financial_3 as Qcf\n",
    "from dataclasses import dataclass\n",
    "from enum import Enum\n",
    "from IPython.display import Image\n",
    "from IPython.core.display import HTML\n",
    "import pandas as pd\n",
    "from datetime import date\n",
    "\n",
    "import sys\n",
    "sys.path.insert(1, '../modules')\n",
    "import auxiliary as aux\n",
    "\n",
    "import numpy as np\n",
    "import sys\n",
    "from scipy.optimize import root_scalar\n",
    "from functools import partial"
   ]
  },
  {
   "cell_type": "code",
   "execution_count": 2,
   "metadata": {
    "ExecuteTime": {
     "end_time": "2020-11-29T14:07:50.959469Z",
     "start_time": "2020-11-29T14:07:50.942242Z"
    }
   },
   "outputs": [],
   "source": [
    "class BusCal(Enum):\n",
    "    NY = 1\n",
    "    SCL = 2\n",
    "    \n",
    "def get_cal(code: BusCal) -> Qcf.BusinessCalendar:\n",
    "    \"\"\"\n",
    "    \"\"\"\n",
    "    if code == BusCal.NY:\n",
    "        cal = Qcf.BusinessCalendar(Qcf.QCDate(1, 1, 2020), 20)\n",
    "        for agno in range(2020, 2071):\n",
    "            f = Qcf.QCDate(12, 10, agno)\n",
    "            if f.week_day() == Qcf.WeekDay.SAT:\n",
    "                cal.add_holiday(Qcf.QCDate(14, 10, agno))\n",
    "            elif f.week_day() == Qcf.WeekDay.SUN:\n",
    "                cal.add_holiday(Qcf.QCDate(13, 10, agno))\n",
    "            elif f.week_day() == Qcf.WeekDay.MON:\n",
    "                cal.add_holiday(Qcf.QCDate(12, 10, agno))\n",
    "            elif f.week_day() == Qcf.WeekDay.TUE:\n",
    "                cal.add_holiday(Qcf.QCDate(11, 10, agno))\n",
    "            elif f.week_day() == Qcf.WeekDay.WED:\n",
    "                cal.add_holiday(Qcf.QCDate(10, 10, agno))\n",
    "            elif f.week_day() == Qcf.WeekDay.THU:\n",
    "                cal.add_holiday(Qcf.QCDate(9, 10, agno))\n",
    "            else:\n",
    "                cal.add_holiday(Qcf.QCDate(8, 10, agno))\n",
    "        cal.add_holiday(Qcf.QCDate(15, 2, 2021))\n",
    "        \n",
    "    return cal"
   ]
  },
  {
   "cell_type": "code",
   "execution_count": 4,
   "metadata": {
    "ExecuteTime": {
     "end_time": "2020-11-29T14:07:56.556859Z",
     "start_time": "2020-11-29T14:07:56.533912Z"
    }
   },
   "outputs": [],
   "source": [
    "# Importamos el archivo Excel a un DataFrame de pandas\n",
    "df = pd.read_excel('../data/SOFR-10012019-10292020.xls',\"nice format\")\n",
    "\n",
    "df = df.drop(df.columns[[1]], axis='columns')\n"
   ]
  },
  {
   "cell_type": "code",
   "execution_count": 5,
   "metadata": {
    "ExecuteTime": {
     "end_time": "2020-11-29T14:07:57.672772Z",
     "start_time": "2020-11-29T14:07:57.665840Z"
    }
   },
   "outputs": [],
   "source": [
    "\n",
    "# Los campos de fecha se importan como datetime (con horas, minutos y segundos).\n",
    "# Se mantiene sólo la fecha.\n",
    "\n",
    "df['fecha_inicial'] = df['DATE'] #En la Clase 2 IN[10] se agrega una nueva columna de fechas\n",
    "df['TASA_SOFR'] = df['RATE\\n(PERCENT)'] /100.0 # Transformamos las tasas de intereses creando una nueva columna tasa/100"
   ]
  },
  {
   "cell_type": "code",
   "execution_count": 6,
   "metadata": {
    "ExecuteTime": {
     "end_time": "2020-11-29T14:07:59.212117Z",
     "start_time": "2020-11-29T14:07:59.086430Z"
    },
    "scrolled": false
   },
   "outputs": [
    {
     "data": {
      "text/html": [
       "<style  type=\"text/css\" >\n",
       "</style><table id=\"T_492e375e_324c_11eb_a3d0_02cba411ec9d\" ><thead>    <tr>        <th class=\"blank level0\" ></th>        <th class=\"col_heading level0 col0\" >fecha_inicial</th>        <th class=\"col_heading level0 col1\" >TASA_SOFR</th>        <th class=\"col_heading level0 col2\" >fecha_final</th>    </tr></thead><tbody>\n",
       "                <tr>\n",
       "                        <th id=\"T_492e375e_324c_11eb_a3d0_02cba411ec9dlevel0_row0\" class=\"row_heading level0 row0\" >269</th>\n",
       "                        <td id=\"T_492e375e_324c_11eb_a3d0_02cba411ec9drow0_col0\" class=\"data row0 col0\" >2019-10-01</td>\n",
       "                        <td id=\"T_492e375e_324c_11eb_a3d0_02cba411ec9drow0_col1\" class=\"data row0 col1\" >0.018800</td>\n",
       "                        <td id=\"T_492e375e_324c_11eb_a3d0_02cba411ec9drow0_col2\" class=\"data row0 col2\" >2019-10-02</td>\n",
       "            </tr>\n",
       "            <tr>\n",
       "                        <th id=\"T_492e375e_324c_11eb_a3d0_02cba411ec9dlevel0_row1\" class=\"row_heading level0 row1\" >268</th>\n",
       "                        <td id=\"T_492e375e_324c_11eb_a3d0_02cba411ec9drow1_col0\" class=\"data row1 col0\" >2019-10-02</td>\n",
       "                        <td id=\"T_492e375e_324c_11eb_a3d0_02cba411ec9drow1_col1\" class=\"data row1 col1\" >0.018500</td>\n",
       "                        <td id=\"T_492e375e_324c_11eb_a3d0_02cba411ec9drow1_col2\" class=\"data row1 col2\" >2019-10-03</td>\n",
       "            </tr>\n",
       "            <tr>\n",
       "                        <th id=\"T_492e375e_324c_11eb_a3d0_02cba411ec9dlevel0_row2\" class=\"row_heading level0 row2\" >267</th>\n",
       "                        <td id=\"T_492e375e_324c_11eb_a3d0_02cba411ec9drow2_col0\" class=\"data row2 col0\" >2019-10-03</td>\n",
       "                        <td id=\"T_492e375e_324c_11eb_a3d0_02cba411ec9drow2_col1\" class=\"data row2 col1\" >0.018400</td>\n",
       "                        <td id=\"T_492e375e_324c_11eb_a3d0_02cba411ec9drow2_col2\" class=\"data row2 col2\" >2019-10-04</td>\n",
       "            </tr>\n",
       "            <tr>\n",
       "                        <th id=\"T_492e375e_324c_11eb_a3d0_02cba411ec9dlevel0_row3\" class=\"row_heading level0 row3\" >266</th>\n",
       "                        <td id=\"T_492e375e_324c_11eb_a3d0_02cba411ec9drow3_col0\" class=\"data row3 col0\" >2019-10-04</td>\n",
       "                        <td id=\"T_492e375e_324c_11eb_a3d0_02cba411ec9drow3_col1\" class=\"data row3 col1\" >0.018200</td>\n",
       "                        <td id=\"T_492e375e_324c_11eb_a3d0_02cba411ec9drow3_col2\" class=\"data row3 col2\" >2019-10-07</td>\n",
       "            </tr>\n",
       "            <tr>\n",
       "                        <th id=\"T_492e375e_324c_11eb_a3d0_02cba411ec9dlevel0_row4\" class=\"row_heading level0 row4\" >265</th>\n",
       "                        <td id=\"T_492e375e_324c_11eb_a3d0_02cba411ec9drow4_col0\" class=\"data row4 col0\" >2019-10-07</td>\n",
       "                        <td id=\"T_492e375e_324c_11eb_a3d0_02cba411ec9drow4_col1\" class=\"data row4 col1\" >0.018300</td>\n",
       "                        <td id=\"T_492e375e_324c_11eb_a3d0_02cba411ec9drow4_col2\" class=\"data row4 col2\" >2019-10-08</td>\n",
       "            </tr>\n",
       "            <tr>\n",
       "                        <th id=\"T_492e375e_324c_11eb_a3d0_02cba411ec9dlevel0_row5\" class=\"row_heading level0 row5\" >264</th>\n",
       "                        <td id=\"T_492e375e_324c_11eb_a3d0_02cba411ec9drow5_col0\" class=\"data row5 col0\" >2019-10-08</td>\n",
       "                        <td id=\"T_492e375e_324c_11eb_a3d0_02cba411ec9drow5_col1\" class=\"data row5 col1\" >0.018500</td>\n",
       "                        <td id=\"T_492e375e_324c_11eb_a3d0_02cba411ec9drow5_col2\" class=\"data row5 col2\" >2019-10-09</td>\n",
       "            </tr>\n",
       "            <tr>\n",
       "                        <th id=\"T_492e375e_324c_11eb_a3d0_02cba411ec9dlevel0_row6\" class=\"row_heading level0 row6\" >263</th>\n",
       "                        <td id=\"T_492e375e_324c_11eb_a3d0_02cba411ec9drow6_col0\" class=\"data row6 col0\" >2019-10-09</td>\n",
       "                        <td id=\"T_492e375e_324c_11eb_a3d0_02cba411ec9drow6_col1\" class=\"data row6 col1\" >0.018500</td>\n",
       "                        <td id=\"T_492e375e_324c_11eb_a3d0_02cba411ec9drow6_col2\" class=\"data row6 col2\" >2019-10-10</td>\n",
       "            </tr>\n",
       "            <tr>\n",
       "                        <th id=\"T_492e375e_324c_11eb_a3d0_02cba411ec9dlevel0_row7\" class=\"row_heading level0 row7\" >262</th>\n",
       "                        <td id=\"T_492e375e_324c_11eb_a3d0_02cba411ec9drow7_col0\" class=\"data row7 col0\" >2019-10-10</td>\n",
       "                        <td id=\"T_492e375e_324c_11eb_a3d0_02cba411ec9drow7_col1\" class=\"data row7 col1\" >0.018500</td>\n",
       "                        <td id=\"T_492e375e_324c_11eb_a3d0_02cba411ec9drow7_col2\" class=\"data row7 col2\" >2019-10-11</td>\n",
       "            </tr>\n",
       "            <tr>\n",
       "                        <th id=\"T_492e375e_324c_11eb_a3d0_02cba411ec9dlevel0_row8\" class=\"row_heading level0 row8\" >261</th>\n",
       "                        <td id=\"T_492e375e_324c_11eb_a3d0_02cba411ec9drow8_col0\" class=\"data row8 col0\" >2019-10-11</td>\n",
       "                        <td id=\"T_492e375e_324c_11eb_a3d0_02cba411ec9drow8_col1\" class=\"data row8 col1\" >0.018500</td>\n",
       "                        <td id=\"T_492e375e_324c_11eb_a3d0_02cba411ec9drow8_col2\" class=\"data row8 col2\" >2019-10-15</td>\n",
       "            </tr>\n",
       "            <tr>\n",
       "                        <th id=\"T_492e375e_324c_11eb_a3d0_02cba411ec9dlevel0_row9\" class=\"row_heading level0 row9\" >260</th>\n",
       "                        <td id=\"T_492e375e_324c_11eb_a3d0_02cba411ec9drow9_col0\" class=\"data row9 col0\" >2019-10-15</td>\n",
       "                        <td id=\"T_492e375e_324c_11eb_a3d0_02cba411ec9drow9_col1\" class=\"data row9 col1\" >0.020000</td>\n",
       "                        <td id=\"T_492e375e_324c_11eb_a3d0_02cba411ec9drow9_col2\" class=\"data row9 col2\" >2019-10-16</td>\n",
       "            </tr>\n",
       "            <tr>\n",
       "                        <th id=\"T_492e375e_324c_11eb_a3d0_02cba411ec9dlevel0_row10\" class=\"row_heading level0 row10\" >259</th>\n",
       "                        <td id=\"T_492e375e_324c_11eb_a3d0_02cba411ec9drow10_col0\" class=\"data row10 col0\" >2019-10-16</td>\n",
       "                        <td id=\"T_492e375e_324c_11eb_a3d0_02cba411ec9drow10_col1\" class=\"data row10 col1\" >0.020500</td>\n",
       "                        <td id=\"T_492e375e_324c_11eb_a3d0_02cba411ec9drow10_col2\" class=\"data row10 col2\" >2019-10-17</td>\n",
       "            </tr>\n",
       "            <tr>\n",
       "                        <th id=\"T_492e375e_324c_11eb_a3d0_02cba411ec9dlevel0_row11\" class=\"row_heading level0 row11\" >258</th>\n",
       "                        <td id=\"T_492e375e_324c_11eb_a3d0_02cba411ec9drow11_col0\" class=\"data row11 col0\" >2019-10-17</td>\n",
       "                        <td id=\"T_492e375e_324c_11eb_a3d0_02cba411ec9drow11_col1\" class=\"data row11 col1\" >0.019500</td>\n",
       "                        <td id=\"T_492e375e_324c_11eb_a3d0_02cba411ec9drow11_col2\" class=\"data row11 col2\" >2019-10-18</td>\n",
       "            </tr>\n",
       "            <tr>\n",
       "                        <th id=\"T_492e375e_324c_11eb_a3d0_02cba411ec9dlevel0_row12\" class=\"row_heading level0 row12\" >257</th>\n",
       "                        <td id=\"T_492e375e_324c_11eb_a3d0_02cba411ec9drow12_col0\" class=\"data row12 col0\" >2019-10-18</td>\n",
       "                        <td id=\"T_492e375e_324c_11eb_a3d0_02cba411ec9drow12_col1\" class=\"data row12 col1\" >0.018800</td>\n",
       "                        <td id=\"T_492e375e_324c_11eb_a3d0_02cba411ec9drow12_col2\" class=\"data row12 col2\" >2019-10-21</td>\n",
       "            </tr>\n",
       "            <tr>\n",
       "                        <th id=\"T_492e375e_324c_11eb_a3d0_02cba411ec9dlevel0_row13\" class=\"row_heading level0 row13\" >256</th>\n",
       "                        <td id=\"T_492e375e_324c_11eb_a3d0_02cba411ec9drow13_col0\" class=\"data row13 col0\" >2019-10-21</td>\n",
       "                        <td id=\"T_492e375e_324c_11eb_a3d0_02cba411ec9drow13_col1\" class=\"data row13 col1\" >0.018600</td>\n",
       "                        <td id=\"T_492e375e_324c_11eb_a3d0_02cba411ec9drow13_col2\" class=\"data row13 col2\" >2019-10-22</td>\n",
       "            </tr>\n",
       "            <tr>\n",
       "                        <th id=\"T_492e375e_324c_11eb_a3d0_02cba411ec9dlevel0_row14\" class=\"row_heading level0 row14\" >255</th>\n",
       "                        <td id=\"T_492e375e_324c_11eb_a3d0_02cba411ec9drow14_col0\" class=\"data row14 col0\" >2019-10-22</td>\n",
       "                        <td id=\"T_492e375e_324c_11eb_a3d0_02cba411ec9drow14_col1\" class=\"data row14 col1\" >0.018700</td>\n",
       "                        <td id=\"T_492e375e_324c_11eb_a3d0_02cba411ec9drow14_col2\" class=\"data row14 col2\" >2019-10-23</td>\n",
       "            </tr>\n",
       "            <tr>\n",
       "                        <th id=\"T_492e375e_324c_11eb_a3d0_02cba411ec9dlevel0_row15\" class=\"row_heading level0 row15\" >254</th>\n",
       "                        <td id=\"T_492e375e_324c_11eb_a3d0_02cba411ec9drow15_col0\" class=\"data row15 col0\" >2019-10-23</td>\n",
       "                        <td id=\"T_492e375e_324c_11eb_a3d0_02cba411ec9drow15_col1\" class=\"data row15 col1\" >0.018700</td>\n",
       "                        <td id=\"T_492e375e_324c_11eb_a3d0_02cba411ec9drow15_col2\" class=\"data row15 col2\" >2019-10-24</td>\n",
       "            </tr>\n",
       "            <tr>\n",
       "                        <th id=\"T_492e375e_324c_11eb_a3d0_02cba411ec9dlevel0_row16\" class=\"row_heading level0 row16\" >253</th>\n",
       "                        <td id=\"T_492e375e_324c_11eb_a3d0_02cba411ec9drow16_col0\" class=\"data row16 col0\" >2019-10-24</td>\n",
       "                        <td id=\"T_492e375e_324c_11eb_a3d0_02cba411ec9drow16_col1\" class=\"data row16 col1\" >0.018600</td>\n",
       "                        <td id=\"T_492e375e_324c_11eb_a3d0_02cba411ec9drow16_col2\" class=\"data row16 col2\" >2019-10-25</td>\n",
       "            </tr>\n",
       "            <tr>\n",
       "                        <th id=\"T_492e375e_324c_11eb_a3d0_02cba411ec9dlevel0_row17\" class=\"row_heading level0 row17\" >252</th>\n",
       "                        <td id=\"T_492e375e_324c_11eb_a3d0_02cba411ec9drow17_col0\" class=\"data row17 col0\" >2019-10-25</td>\n",
       "                        <td id=\"T_492e375e_324c_11eb_a3d0_02cba411ec9drow17_col1\" class=\"data row17 col1\" >0.018400</td>\n",
       "                        <td id=\"T_492e375e_324c_11eb_a3d0_02cba411ec9drow17_col2\" class=\"data row17 col2\" >2019-10-28</td>\n",
       "            </tr>\n",
       "            <tr>\n",
       "                        <th id=\"T_492e375e_324c_11eb_a3d0_02cba411ec9dlevel0_row18\" class=\"row_heading level0 row18\" >251</th>\n",
       "                        <td id=\"T_492e375e_324c_11eb_a3d0_02cba411ec9drow18_col0\" class=\"data row18 col0\" >2019-10-28</td>\n",
       "                        <td id=\"T_492e375e_324c_11eb_a3d0_02cba411ec9drow18_col1\" class=\"data row18 col1\" >0.018200</td>\n",
       "                        <td id=\"T_492e375e_324c_11eb_a3d0_02cba411ec9drow18_col2\" class=\"data row18 col2\" >2019-10-29</td>\n",
       "            </tr>\n",
       "            <tr>\n",
       "                        <th id=\"T_492e375e_324c_11eb_a3d0_02cba411ec9dlevel0_row19\" class=\"row_heading level0 row19\" >250</th>\n",
       "                        <td id=\"T_492e375e_324c_11eb_a3d0_02cba411ec9drow19_col0\" class=\"data row19 col0\" >2019-10-29</td>\n",
       "                        <td id=\"T_492e375e_324c_11eb_a3d0_02cba411ec9drow19_col1\" class=\"data row19 col1\" >0.018100</td>\n",
       "                        <td id=\"T_492e375e_324c_11eb_a3d0_02cba411ec9drow19_col2\" class=\"data row19 col2\" >2019-10-30</td>\n",
       "            </tr>\n",
       "            <tr>\n",
       "                        <th id=\"T_492e375e_324c_11eb_a3d0_02cba411ec9dlevel0_row20\" class=\"row_heading level0 row20\" >249</th>\n",
       "                        <td id=\"T_492e375e_324c_11eb_a3d0_02cba411ec9drow20_col0\" class=\"data row20 col0\" >2019-10-30</td>\n",
       "                        <td id=\"T_492e375e_324c_11eb_a3d0_02cba411ec9drow20_col1\" class=\"data row20 col1\" >0.018200</td>\n",
       "                        <td id=\"T_492e375e_324c_11eb_a3d0_02cba411ec9drow20_col2\" class=\"data row20 col2\" >2019-10-31</td>\n",
       "            </tr>\n",
       "            <tr>\n",
       "                        <th id=\"T_492e375e_324c_11eb_a3d0_02cba411ec9dlevel0_row21\" class=\"row_heading level0 row21\" >248</th>\n",
       "                        <td id=\"T_492e375e_324c_11eb_a3d0_02cba411ec9drow21_col0\" class=\"data row21 col0\" >2019-10-31</td>\n",
       "                        <td id=\"T_492e375e_324c_11eb_a3d0_02cba411ec9drow21_col1\" class=\"data row21 col1\" >0.017600</td>\n",
       "                        <td id=\"T_492e375e_324c_11eb_a3d0_02cba411ec9drow21_col2\" class=\"data row21 col2\" >2019-11-01</td>\n",
       "            </tr>\n",
       "            <tr>\n",
       "                        <th id=\"T_492e375e_324c_11eb_a3d0_02cba411ec9dlevel0_row22\" class=\"row_heading level0 row22\" >247</th>\n",
       "                        <td id=\"T_492e375e_324c_11eb_a3d0_02cba411ec9drow22_col0\" class=\"data row22 col0\" >2019-11-01</td>\n",
       "                        <td id=\"T_492e375e_324c_11eb_a3d0_02cba411ec9drow22_col1\" class=\"data row22 col1\" >0.015800</td>\n",
       "                        <td id=\"T_492e375e_324c_11eb_a3d0_02cba411ec9drow22_col2\" class=\"data row22 col2\" >2019-11-04</td>\n",
       "            </tr>\n",
       "            <tr>\n",
       "                        <th id=\"T_492e375e_324c_11eb_a3d0_02cba411ec9dlevel0_row23\" class=\"row_heading level0 row23\" >246</th>\n",
       "                        <td id=\"T_492e375e_324c_11eb_a3d0_02cba411ec9drow23_col0\" class=\"data row23 col0\" >2019-11-04</td>\n",
       "                        <td id=\"T_492e375e_324c_11eb_a3d0_02cba411ec9drow23_col1\" class=\"data row23 col1\" >0.015600</td>\n",
       "                        <td id=\"T_492e375e_324c_11eb_a3d0_02cba411ec9drow23_col2\" class=\"data row23 col2\" >2019-11-05</td>\n",
       "            </tr>\n",
       "            <tr>\n",
       "                        <th id=\"T_492e375e_324c_11eb_a3d0_02cba411ec9dlevel0_row24\" class=\"row_heading level0 row24\" >245</th>\n",
       "                        <td id=\"T_492e375e_324c_11eb_a3d0_02cba411ec9drow24_col0\" class=\"data row24 col0\" >2019-11-05</td>\n",
       "                        <td id=\"T_492e375e_324c_11eb_a3d0_02cba411ec9drow24_col1\" class=\"data row24 col1\" >0.015800</td>\n",
       "                        <td id=\"T_492e375e_324c_11eb_a3d0_02cba411ec9drow24_col2\" class=\"data row24 col2\" >2019-11-06</td>\n",
       "            </tr>\n",
       "            <tr>\n",
       "                        <th id=\"T_492e375e_324c_11eb_a3d0_02cba411ec9dlevel0_row25\" class=\"row_heading level0 row25\" >244</th>\n",
       "                        <td id=\"T_492e375e_324c_11eb_a3d0_02cba411ec9drow25_col0\" class=\"data row25 col0\" >2019-11-06</td>\n",
       "                        <td id=\"T_492e375e_324c_11eb_a3d0_02cba411ec9drow25_col1\" class=\"data row25 col1\" >0.015700</td>\n",
       "                        <td id=\"T_492e375e_324c_11eb_a3d0_02cba411ec9drow25_col2\" class=\"data row25 col2\" >2019-11-07</td>\n",
       "            </tr>\n",
       "            <tr>\n",
       "                        <th id=\"T_492e375e_324c_11eb_a3d0_02cba411ec9dlevel0_row26\" class=\"row_heading level0 row26\" >243</th>\n",
       "                        <td id=\"T_492e375e_324c_11eb_a3d0_02cba411ec9drow26_col0\" class=\"data row26 col0\" >2019-11-07</td>\n",
       "                        <td id=\"T_492e375e_324c_11eb_a3d0_02cba411ec9drow26_col1\" class=\"data row26 col1\" >0.015600</td>\n",
       "                        <td id=\"T_492e375e_324c_11eb_a3d0_02cba411ec9drow26_col2\" class=\"data row26 col2\" >2019-11-08</td>\n",
       "            </tr>\n",
       "            <tr>\n",
       "                        <th id=\"T_492e375e_324c_11eb_a3d0_02cba411ec9dlevel0_row27\" class=\"row_heading level0 row27\" >242</th>\n",
       "                        <td id=\"T_492e375e_324c_11eb_a3d0_02cba411ec9drow27_col0\" class=\"data row27 col0\" >2019-11-08</td>\n",
       "                        <td id=\"T_492e375e_324c_11eb_a3d0_02cba411ec9drow27_col1\" class=\"data row27 col1\" >0.015600</td>\n",
       "                        <td id=\"T_492e375e_324c_11eb_a3d0_02cba411ec9drow27_col2\" class=\"data row27 col2\" >2019-11-12</td>\n",
       "            </tr>\n",
       "            <tr>\n",
       "                        <th id=\"T_492e375e_324c_11eb_a3d0_02cba411ec9dlevel0_row28\" class=\"row_heading level0 row28\" >241</th>\n",
       "                        <td id=\"T_492e375e_324c_11eb_a3d0_02cba411ec9drow28_col0\" class=\"data row28 col0\" >2019-11-12</td>\n",
       "                        <td id=\"T_492e375e_324c_11eb_a3d0_02cba411ec9drow28_col1\" class=\"data row28 col1\" >0.015700</td>\n",
       "                        <td id=\"T_492e375e_324c_11eb_a3d0_02cba411ec9drow28_col2\" class=\"data row28 col2\" >2019-11-13</td>\n",
       "            </tr>\n",
       "            <tr>\n",
       "                        <th id=\"T_492e375e_324c_11eb_a3d0_02cba411ec9dlevel0_row29\" class=\"row_heading level0 row29\" >240</th>\n",
       "                        <td id=\"T_492e375e_324c_11eb_a3d0_02cba411ec9drow29_col0\" class=\"data row29 col0\" >2019-11-13</td>\n",
       "                        <td id=\"T_492e375e_324c_11eb_a3d0_02cba411ec9drow29_col1\" class=\"data row29 col1\" >0.015700</td>\n",
       "                        <td id=\"T_492e375e_324c_11eb_a3d0_02cba411ec9drow29_col2\" class=\"data row29 col2\" >2019-11-14</td>\n",
       "            </tr>\n",
       "            <tr>\n",
       "                        <th id=\"T_492e375e_324c_11eb_a3d0_02cba411ec9dlevel0_row30\" class=\"row_heading level0 row30\" >239</th>\n",
       "                        <td id=\"T_492e375e_324c_11eb_a3d0_02cba411ec9drow30_col0\" class=\"data row30 col0\" >2019-11-14</td>\n",
       "                        <td id=\"T_492e375e_324c_11eb_a3d0_02cba411ec9drow30_col1\" class=\"data row30 col1\" >0.015800</td>\n",
       "                        <td id=\"T_492e375e_324c_11eb_a3d0_02cba411ec9drow30_col2\" class=\"data row30 col2\" >2019-11-15</td>\n",
       "            </tr>\n",
       "            <tr>\n",
       "                        <th id=\"T_492e375e_324c_11eb_a3d0_02cba411ec9dlevel0_row31\" class=\"row_heading level0 row31\" >238</th>\n",
       "                        <td id=\"T_492e375e_324c_11eb_a3d0_02cba411ec9drow31_col0\" class=\"data row31 col0\" >2019-11-15</td>\n",
       "                        <td id=\"T_492e375e_324c_11eb_a3d0_02cba411ec9drow31_col1\" class=\"data row31 col1\" >0.015900</td>\n",
       "                        <td id=\"T_492e375e_324c_11eb_a3d0_02cba411ec9drow31_col2\" class=\"data row31 col2\" >2019-11-18</td>\n",
       "            </tr>\n",
       "            <tr>\n",
       "                        <th id=\"T_492e375e_324c_11eb_a3d0_02cba411ec9dlevel0_row32\" class=\"row_heading level0 row32\" >237</th>\n",
       "                        <td id=\"T_492e375e_324c_11eb_a3d0_02cba411ec9drow32_col0\" class=\"data row32 col0\" >2019-11-18</td>\n",
       "                        <td id=\"T_492e375e_324c_11eb_a3d0_02cba411ec9drow32_col1\" class=\"data row32 col1\" >0.015600</td>\n",
       "                        <td id=\"T_492e375e_324c_11eb_a3d0_02cba411ec9drow32_col2\" class=\"data row32 col2\" >2019-11-19</td>\n",
       "            </tr>\n",
       "            <tr>\n",
       "                        <th id=\"T_492e375e_324c_11eb_a3d0_02cba411ec9dlevel0_row33\" class=\"row_heading level0 row33\" >236</th>\n",
       "                        <td id=\"T_492e375e_324c_11eb_a3d0_02cba411ec9drow33_col0\" class=\"data row33 col0\" >2019-11-19</td>\n",
       "                        <td id=\"T_492e375e_324c_11eb_a3d0_02cba411ec9drow33_col1\" class=\"data row33 col1\" >0.015700</td>\n",
       "                        <td id=\"T_492e375e_324c_11eb_a3d0_02cba411ec9drow33_col2\" class=\"data row33 col2\" >2019-11-20</td>\n",
       "            </tr>\n",
       "            <tr>\n",
       "                        <th id=\"T_492e375e_324c_11eb_a3d0_02cba411ec9dlevel0_row34\" class=\"row_heading level0 row34\" >235</th>\n",
       "                        <td id=\"T_492e375e_324c_11eb_a3d0_02cba411ec9drow34_col0\" class=\"data row34 col0\" >2019-11-20</td>\n",
       "                        <td id=\"T_492e375e_324c_11eb_a3d0_02cba411ec9drow34_col1\" class=\"data row34 col1\" >0.015700</td>\n",
       "                        <td id=\"T_492e375e_324c_11eb_a3d0_02cba411ec9drow34_col2\" class=\"data row34 col2\" >2019-11-21</td>\n",
       "            </tr>\n",
       "            <tr>\n",
       "                        <th id=\"T_492e375e_324c_11eb_a3d0_02cba411ec9dlevel0_row35\" class=\"row_heading level0 row35\" >234</th>\n",
       "                        <td id=\"T_492e375e_324c_11eb_a3d0_02cba411ec9drow35_col0\" class=\"data row35 col0\" >2019-11-21</td>\n",
       "                        <td id=\"T_492e375e_324c_11eb_a3d0_02cba411ec9drow35_col1\" class=\"data row35 col1\" >0.015800</td>\n",
       "                        <td id=\"T_492e375e_324c_11eb_a3d0_02cba411ec9drow35_col2\" class=\"data row35 col2\" >2019-11-22</td>\n",
       "            </tr>\n",
       "            <tr>\n",
       "                        <th id=\"T_492e375e_324c_11eb_a3d0_02cba411ec9dlevel0_row36\" class=\"row_heading level0 row36\" >233</th>\n",
       "                        <td id=\"T_492e375e_324c_11eb_a3d0_02cba411ec9drow36_col0\" class=\"data row36 col0\" >2019-11-22</td>\n",
       "                        <td id=\"T_492e375e_324c_11eb_a3d0_02cba411ec9drow36_col1\" class=\"data row36 col1\" >0.015800</td>\n",
       "                        <td id=\"T_492e375e_324c_11eb_a3d0_02cba411ec9drow36_col2\" class=\"data row36 col2\" >2019-11-25</td>\n",
       "            </tr>\n",
       "            <tr>\n",
       "                        <th id=\"T_492e375e_324c_11eb_a3d0_02cba411ec9dlevel0_row37\" class=\"row_heading level0 row37\" >232</th>\n",
       "                        <td id=\"T_492e375e_324c_11eb_a3d0_02cba411ec9drow37_col0\" class=\"data row37 col0\" >2019-11-25</td>\n",
       "                        <td id=\"T_492e375e_324c_11eb_a3d0_02cba411ec9drow37_col1\" class=\"data row37 col1\" >0.015600</td>\n",
       "                        <td id=\"T_492e375e_324c_11eb_a3d0_02cba411ec9drow37_col2\" class=\"data row37 col2\" >2019-11-26</td>\n",
       "            </tr>\n",
       "            <tr>\n",
       "                        <th id=\"T_492e375e_324c_11eb_a3d0_02cba411ec9dlevel0_row38\" class=\"row_heading level0 row38\" >231</th>\n",
       "                        <td id=\"T_492e375e_324c_11eb_a3d0_02cba411ec9drow38_col0\" class=\"data row38 col0\" >2019-11-26</td>\n",
       "                        <td id=\"T_492e375e_324c_11eb_a3d0_02cba411ec9drow38_col1\" class=\"data row38 col1\" >0.015400</td>\n",
       "                        <td id=\"T_492e375e_324c_11eb_a3d0_02cba411ec9drow38_col2\" class=\"data row38 col2\" >2019-11-27</td>\n",
       "            </tr>\n",
       "            <tr>\n",
       "                        <th id=\"T_492e375e_324c_11eb_a3d0_02cba411ec9dlevel0_row39\" class=\"row_heading level0 row39\" >230</th>\n",
       "                        <td id=\"T_492e375e_324c_11eb_a3d0_02cba411ec9drow39_col0\" class=\"data row39 col0\" >2019-11-27</td>\n",
       "                        <td id=\"T_492e375e_324c_11eb_a3d0_02cba411ec9drow39_col1\" class=\"data row39 col1\" >0.015500</td>\n",
       "                        <td id=\"T_492e375e_324c_11eb_a3d0_02cba411ec9drow39_col2\" class=\"data row39 col2\" >2019-11-29</td>\n",
       "            </tr>\n",
       "            <tr>\n",
       "                        <th id=\"T_492e375e_324c_11eb_a3d0_02cba411ec9dlevel0_row40\" class=\"row_heading level0 row40\" >229</th>\n",
       "                        <td id=\"T_492e375e_324c_11eb_a3d0_02cba411ec9drow40_col0\" class=\"data row40 col0\" >2019-11-29</td>\n",
       "                        <td id=\"T_492e375e_324c_11eb_a3d0_02cba411ec9drow40_col1\" class=\"data row40 col1\" >0.016500</td>\n",
       "                        <td id=\"T_492e375e_324c_11eb_a3d0_02cba411ec9drow40_col2\" class=\"data row40 col2\" >2019-12-02</td>\n",
       "            </tr>\n",
       "            <tr>\n",
       "                        <th id=\"T_492e375e_324c_11eb_a3d0_02cba411ec9dlevel0_row41\" class=\"row_heading level0 row41\" >228</th>\n",
       "                        <td id=\"T_492e375e_324c_11eb_a3d0_02cba411ec9drow41_col0\" class=\"data row41 col0\" >2019-12-02</td>\n",
       "                        <td id=\"T_492e375e_324c_11eb_a3d0_02cba411ec9drow41_col1\" class=\"data row41 col1\" >0.016300</td>\n",
       "                        <td id=\"T_492e375e_324c_11eb_a3d0_02cba411ec9drow41_col2\" class=\"data row41 col2\" >2019-12-03</td>\n",
       "            </tr>\n",
       "            <tr>\n",
       "                        <th id=\"T_492e375e_324c_11eb_a3d0_02cba411ec9dlevel0_row42\" class=\"row_heading level0 row42\" >227</th>\n",
       "                        <td id=\"T_492e375e_324c_11eb_a3d0_02cba411ec9drow42_col0\" class=\"data row42 col0\" >2019-12-03</td>\n",
       "                        <td id=\"T_492e375e_324c_11eb_a3d0_02cba411ec9drow42_col1\" class=\"data row42 col1\" >0.015500</td>\n",
       "                        <td id=\"T_492e375e_324c_11eb_a3d0_02cba411ec9drow42_col2\" class=\"data row42 col2\" >2019-12-04</td>\n",
       "            </tr>\n",
       "            <tr>\n",
       "                        <th id=\"T_492e375e_324c_11eb_a3d0_02cba411ec9dlevel0_row43\" class=\"row_heading level0 row43\" >226</th>\n",
       "                        <td id=\"T_492e375e_324c_11eb_a3d0_02cba411ec9drow43_col0\" class=\"data row43 col0\" >2019-12-04</td>\n",
       "                        <td id=\"T_492e375e_324c_11eb_a3d0_02cba411ec9drow43_col1\" class=\"data row43 col1\" >0.015400</td>\n",
       "                        <td id=\"T_492e375e_324c_11eb_a3d0_02cba411ec9drow43_col2\" class=\"data row43 col2\" >2019-12-05</td>\n",
       "            </tr>\n",
       "            <tr>\n",
       "                        <th id=\"T_492e375e_324c_11eb_a3d0_02cba411ec9dlevel0_row44\" class=\"row_heading level0 row44\" >225</th>\n",
       "                        <td id=\"T_492e375e_324c_11eb_a3d0_02cba411ec9drow44_col0\" class=\"data row44 col0\" >2019-12-05</td>\n",
       "                        <td id=\"T_492e375e_324c_11eb_a3d0_02cba411ec9drow44_col1\" class=\"data row44 col1\" >0.015500</td>\n",
       "                        <td id=\"T_492e375e_324c_11eb_a3d0_02cba411ec9drow44_col2\" class=\"data row44 col2\" >2019-12-06</td>\n",
       "            </tr>\n",
       "            <tr>\n",
       "                        <th id=\"T_492e375e_324c_11eb_a3d0_02cba411ec9dlevel0_row45\" class=\"row_heading level0 row45\" >224</th>\n",
       "                        <td id=\"T_492e375e_324c_11eb_a3d0_02cba411ec9drow45_col0\" class=\"data row45 col0\" >2019-12-06</td>\n",
       "                        <td id=\"T_492e375e_324c_11eb_a3d0_02cba411ec9drow45_col1\" class=\"data row45 col1\" >0.015500</td>\n",
       "                        <td id=\"T_492e375e_324c_11eb_a3d0_02cba411ec9drow45_col2\" class=\"data row45 col2\" >2019-12-09</td>\n",
       "            </tr>\n",
       "            <tr>\n",
       "                        <th id=\"T_492e375e_324c_11eb_a3d0_02cba411ec9dlevel0_row46\" class=\"row_heading level0 row46\" >223</th>\n",
       "                        <td id=\"T_492e375e_324c_11eb_a3d0_02cba411ec9drow46_col0\" class=\"data row46 col0\" >2019-12-09</td>\n",
       "                        <td id=\"T_492e375e_324c_11eb_a3d0_02cba411ec9drow46_col1\" class=\"data row46 col1\" >0.015600</td>\n",
       "                        <td id=\"T_492e375e_324c_11eb_a3d0_02cba411ec9drow46_col2\" class=\"data row46 col2\" >2019-12-10</td>\n",
       "            </tr>\n",
       "            <tr>\n",
       "                        <th id=\"T_492e375e_324c_11eb_a3d0_02cba411ec9dlevel0_row47\" class=\"row_heading level0 row47\" >222</th>\n",
       "                        <td id=\"T_492e375e_324c_11eb_a3d0_02cba411ec9drow47_col0\" class=\"data row47 col0\" >2019-12-10</td>\n",
       "                        <td id=\"T_492e375e_324c_11eb_a3d0_02cba411ec9drow47_col1\" class=\"data row47 col1\" >0.015500</td>\n",
       "                        <td id=\"T_492e375e_324c_11eb_a3d0_02cba411ec9drow47_col2\" class=\"data row47 col2\" >2019-12-11</td>\n",
       "            </tr>\n",
       "            <tr>\n",
       "                        <th id=\"T_492e375e_324c_11eb_a3d0_02cba411ec9dlevel0_row48\" class=\"row_heading level0 row48\" >221</th>\n",
       "                        <td id=\"T_492e375e_324c_11eb_a3d0_02cba411ec9drow48_col0\" class=\"data row48 col0\" >2019-12-11</td>\n",
       "                        <td id=\"T_492e375e_324c_11eb_a3d0_02cba411ec9drow48_col1\" class=\"data row48 col1\" >0.015400</td>\n",
       "                        <td id=\"T_492e375e_324c_11eb_a3d0_02cba411ec9drow48_col2\" class=\"data row48 col2\" >2019-12-12</td>\n",
       "            </tr>\n",
       "            <tr>\n",
       "                        <th id=\"T_492e375e_324c_11eb_a3d0_02cba411ec9dlevel0_row49\" class=\"row_heading level0 row49\" >220</th>\n",
       "                        <td id=\"T_492e375e_324c_11eb_a3d0_02cba411ec9drow49_col0\" class=\"data row49 col0\" >2019-12-12</td>\n",
       "                        <td id=\"T_492e375e_324c_11eb_a3d0_02cba411ec9drow49_col1\" class=\"data row49 col1\" >0.015300</td>\n",
       "                        <td id=\"T_492e375e_324c_11eb_a3d0_02cba411ec9drow49_col2\" class=\"data row49 col2\" >2019-12-13</td>\n",
       "            </tr>\n",
       "            <tr>\n",
       "                        <th id=\"T_492e375e_324c_11eb_a3d0_02cba411ec9dlevel0_row50\" class=\"row_heading level0 row50\" >219</th>\n",
       "                        <td id=\"T_492e375e_324c_11eb_a3d0_02cba411ec9drow50_col0\" class=\"data row50 col0\" >2019-12-13</td>\n",
       "                        <td id=\"T_492e375e_324c_11eb_a3d0_02cba411ec9drow50_col1\" class=\"data row50 col1\" >0.015400</td>\n",
       "                        <td id=\"T_492e375e_324c_11eb_a3d0_02cba411ec9drow50_col2\" class=\"data row50 col2\" >2019-12-16</td>\n",
       "            </tr>\n",
       "            <tr>\n",
       "                        <th id=\"T_492e375e_324c_11eb_a3d0_02cba411ec9dlevel0_row51\" class=\"row_heading level0 row51\" >218</th>\n",
       "                        <td id=\"T_492e375e_324c_11eb_a3d0_02cba411ec9drow51_col0\" class=\"data row51 col0\" >2019-12-16</td>\n",
       "                        <td id=\"T_492e375e_324c_11eb_a3d0_02cba411ec9drow51_col1\" class=\"data row51 col1\" >0.016200</td>\n",
       "                        <td id=\"T_492e375e_324c_11eb_a3d0_02cba411ec9drow51_col2\" class=\"data row51 col2\" >2019-12-17</td>\n",
       "            </tr>\n",
       "            <tr>\n",
       "                        <th id=\"T_492e375e_324c_11eb_a3d0_02cba411ec9dlevel0_row52\" class=\"row_heading level0 row52\" >217</th>\n",
       "                        <td id=\"T_492e375e_324c_11eb_a3d0_02cba411ec9drow52_col0\" class=\"data row52 col0\" >2019-12-17</td>\n",
       "                        <td id=\"T_492e375e_324c_11eb_a3d0_02cba411ec9drow52_col1\" class=\"data row52 col1\" >0.015400</td>\n",
       "                        <td id=\"T_492e375e_324c_11eb_a3d0_02cba411ec9drow52_col2\" class=\"data row52 col2\" >2019-12-18</td>\n",
       "            </tr>\n",
       "            <tr>\n",
       "                        <th id=\"T_492e375e_324c_11eb_a3d0_02cba411ec9dlevel0_row53\" class=\"row_heading level0 row53\" >216</th>\n",
       "                        <td id=\"T_492e375e_324c_11eb_a3d0_02cba411ec9drow53_col0\" class=\"data row53 col0\" >2019-12-18</td>\n",
       "                        <td id=\"T_492e375e_324c_11eb_a3d0_02cba411ec9drow53_col1\" class=\"data row53 col1\" >0.015300</td>\n",
       "                        <td id=\"T_492e375e_324c_11eb_a3d0_02cba411ec9drow53_col2\" class=\"data row53 col2\" >2019-12-19</td>\n",
       "            </tr>\n",
       "            <tr>\n",
       "                        <th id=\"T_492e375e_324c_11eb_a3d0_02cba411ec9dlevel0_row54\" class=\"row_heading level0 row54\" >215</th>\n",
       "                        <td id=\"T_492e375e_324c_11eb_a3d0_02cba411ec9drow54_col0\" class=\"data row54 col0\" >2019-12-19</td>\n",
       "                        <td id=\"T_492e375e_324c_11eb_a3d0_02cba411ec9drow54_col1\" class=\"data row54 col1\" >0.015300</td>\n",
       "                        <td id=\"T_492e375e_324c_11eb_a3d0_02cba411ec9drow54_col2\" class=\"data row54 col2\" >2019-12-20</td>\n",
       "            </tr>\n",
       "            <tr>\n",
       "                        <th id=\"T_492e375e_324c_11eb_a3d0_02cba411ec9dlevel0_row55\" class=\"row_heading level0 row55\" >214</th>\n",
       "                        <td id=\"T_492e375e_324c_11eb_a3d0_02cba411ec9drow55_col0\" class=\"data row55 col0\" >2019-12-20</td>\n",
       "                        <td id=\"T_492e375e_324c_11eb_a3d0_02cba411ec9drow55_col1\" class=\"data row55 col1\" >0.015300</td>\n",
       "                        <td id=\"T_492e375e_324c_11eb_a3d0_02cba411ec9drow55_col2\" class=\"data row55 col2\" >2019-12-23</td>\n",
       "            </tr>\n",
       "            <tr>\n",
       "                        <th id=\"T_492e375e_324c_11eb_a3d0_02cba411ec9dlevel0_row56\" class=\"row_heading level0 row56\" >213</th>\n",
       "                        <td id=\"T_492e375e_324c_11eb_a3d0_02cba411ec9drow56_col0\" class=\"data row56 col0\" >2019-12-23</td>\n",
       "                        <td id=\"T_492e375e_324c_11eb_a3d0_02cba411ec9drow56_col1\" class=\"data row56 col1\" >0.015200</td>\n",
       "                        <td id=\"T_492e375e_324c_11eb_a3d0_02cba411ec9drow56_col2\" class=\"data row56 col2\" >2019-12-24</td>\n",
       "            </tr>\n",
       "            <tr>\n",
       "                        <th id=\"T_492e375e_324c_11eb_a3d0_02cba411ec9dlevel0_row57\" class=\"row_heading level0 row57\" >212</th>\n",
       "                        <td id=\"T_492e375e_324c_11eb_a3d0_02cba411ec9drow57_col0\" class=\"data row57 col0\" >2019-12-24</td>\n",
       "                        <td id=\"T_492e375e_324c_11eb_a3d0_02cba411ec9drow57_col1\" class=\"data row57 col1\" >0.015200</td>\n",
       "                        <td id=\"T_492e375e_324c_11eb_a3d0_02cba411ec9drow57_col2\" class=\"data row57 col2\" >2019-12-26</td>\n",
       "            </tr>\n",
       "            <tr>\n",
       "                        <th id=\"T_492e375e_324c_11eb_a3d0_02cba411ec9dlevel0_row58\" class=\"row_heading level0 row58\" >211</th>\n",
       "                        <td id=\"T_492e375e_324c_11eb_a3d0_02cba411ec9drow58_col0\" class=\"data row58 col0\" >2019-12-26</td>\n",
       "                        <td id=\"T_492e375e_324c_11eb_a3d0_02cba411ec9drow58_col1\" class=\"data row58 col1\" >0.015200</td>\n",
       "                        <td id=\"T_492e375e_324c_11eb_a3d0_02cba411ec9drow58_col2\" class=\"data row58 col2\" >2019-12-27</td>\n",
       "            </tr>\n",
       "            <tr>\n",
       "                        <th id=\"T_492e375e_324c_11eb_a3d0_02cba411ec9dlevel0_row59\" class=\"row_heading level0 row59\" >210</th>\n",
       "                        <td id=\"T_492e375e_324c_11eb_a3d0_02cba411ec9drow59_col0\" class=\"data row59 col0\" >2019-12-27</td>\n",
       "                        <td id=\"T_492e375e_324c_11eb_a3d0_02cba411ec9drow59_col1\" class=\"data row59 col1\" >0.015300</td>\n",
       "                        <td id=\"T_492e375e_324c_11eb_a3d0_02cba411ec9drow59_col2\" class=\"data row59 col2\" >2019-12-30</td>\n",
       "            </tr>\n",
       "            <tr>\n",
       "                        <th id=\"T_492e375e_324c_11eb_a3d0_02cba411ec9dlevel0_row60\" class=\"row_heading level0 row60\" >209</th>\n",
       "                        <td id=\"T_492e375e_324c_11eb_a3d0_02cba411ec9drow60_col0\" class=\"data row60 col0\" >2019-12-30</td>\n",
       "                        <td id=\"T_492e375e_324c_11eb_a3d0_02cba411ec9drow60_col1\" class=\"data row60 col1\" >0.015400</td>\n",
       "                        <td id=\"T_492e375e_324c_11eb_a3d0_02cba411ec9drow60_col2\" class=\"data row60 col2\" >2019-12-31</td>\n",
       "            </tr>\n",
       "            <tr>\n",
       "                        <th id=\"T_492e375e_324c_11eb_a3d0_02cba411ec9dlevel0_row61\" class=\"row_heading level0 row61\" >208</th>\n",
       "                        <td id=\"T_492e375e_324c_11eb_a3d0_02cba411ec9drow61_col0\" class=\"data row61 col0\" >2019-12-31</td>\n",
       "                        <td id=\"T_492e375e_324c_11eb_a3d0_02cba411ec9drow61_col1\" class=\"data row61 col1\" >0.015500</td>\n",
       "                        <td id=\"T_492e375e_324c_11eb_a3d0_02cba411ec9drow61_col2\" class=\"data row61 col2\" >2020-01-02</td>\n",
       "            </tr>\n",
       "            <tr>\n",
       "                        <th id=\"T_492e375e_324c_11eb_a3d0_02cba411ec9dlevel0_row62\" class=\"row_heading level0 row62\" >207</th>\n",
       "                        <td id=\"T_492e375e_324c_11eb_a3d0_02cba411ec9drow62_col0\" class=\"data row62 col0\" >2020-01-02</td>\n",
       "                        <td id=\"T_492e375e_324c_11eb_a3d0_02cba411ec9drow62_col1\" class=\"data row62 col1\" >0.015400</td>\n",
       "                        <td id=\"T_492e375e_324c_11eb_a3d0_02cba411ec9drow62_col2\" class=\"data row62 col2\" >2020-01-03</td>\n",
       "            </tr>\n",
       "            <tr>\n",
       "                        <th id=\"T_492e375e_324c_11eb_a3d0_02cba411ec9dlevel0_row63\" class=\"row_heading level0 row63\" >206</th>\n",
       "                        <td id=\"T_492e375e_324c_11eb_a3d0_02cba411ec9drow63_col0\" class=\"data row63 col0\" >2020-01-03</td>\n",
       "                        <td id=\"T_492e375e_324c_11eb_a3d0_02cba411ec9drow63_col1\" class=\"data row63 col1\" >0.015500</td>\n",
       "                        <td id=\"T_492e375e_324c_11eb_a3d0_02cba411ec9drow63_col2\" class=\"data row63 col2\" >2020-01-06</td>\n",
       "            </tr>\n",
       "            <tr>\n",
       "                        <th id=\"T_492e375e_324c_11eb_a3d0_02cba411ec9dlevel0_row64\" class=\"row_heading level0 row64\" >205</th>\n",
       "                        <td id=\"T_492e375e_324c_11eb_a3d0_02cba411ec9drow64_col0\" class=\"data row64 col0\" >2020-01-06</td>\n",
       "                        <td id=\"T_492e375e_324c_11eb_a3d0_02cba411ec9drow64_col1\" class=\"data row64 col1\" >0.015500</td>\n",
       "                        <td id=\"T_492e375e_324c_11eb_a3d0_02cba411ec9drow64_col2\" class=\"data row64 col2\" >2020-01-07</td>\n",
       "            </tr>\n",
       "            <tr>\n",
       "                        <th id=\"T_492e375e_324c_11eb_a3d0_02cba411ec9dlevel0_row65\" class=\"row_heading level0 row65\" >204</th>\n",
       "                        <td id=\"T_492e375e_324c_11eb_a3d0_02cba411ec9drow65_col0\" class=\"data row65 col0\" >2020-01-07</td>\n",
       "                        <td id=\"T_492e375e_324c_11eb_a3d0_02cba411ec9drow65_col1\" class=\"data row65 col1\" >0.015600</td>\n",
       "                        <td id=\"T_492e375e_324c_11eb_a3d0_02cba411ec9drow65_col2\" class=\"data row65 col2\" >2020-01-08</td>\n",
       "            </tr>\n",
       "            <tr>\n",
       "                        <th id=\"T_492e375e_324c_11eb_a3d0_02cba411ec9dlevel0_row66\" class=\"row_heading level0 row66\" >203</th>\n",
       "                        <td id=\"T_492e375e_324c_11eb_a3d0_02cba411ec9drow66_col0\" class=\"data row66 col0\" >2020-01-08</td>\n",
       "                        <td id=\"T_492e375e_324c_11eb_a3d0_02cba411ec9drow66_col1\" class=\"data row66 col1\" >0.015500</td>\n",
       "                        <td id=\"T_492e375e_324c_11eb_a3d0_02cba411ec9drow66_col2\" class=\"data row66 col2\" >2020-01-09</td>\n",
       "            </tr>\n",
       "            <tr>\n",
       "                        <th id=\"T_492e375e_324c_11eb_a3d0_02cba411ec9dlevel0_row67\" class=\"row_heading level0 row67\" >202</th>\n",
       "                        <td id=\"T_492e375e_324c_11eb_a3d0_02cba411ec9drow67_col0\" class=\"data row67 col0\" >2020-01-09</td>\n",
       "                        <td id=\"T_492e375e_324c_11eb_a3d0_02cba411ec9drow67_col1\" class=\"data row67 col1\" >0.015500</td>\n",
       "                        <td id=\"T_492e375e_324c_11eb_a3d0_02cba411ec9drow67_col2\" class=\"data row67 col2\" >2020-01-10</td>\n",
       "            </tr>\n",
       "            <tr>\n",
       "                        <th id=\"T_492e375e_324c_11eb_a3d0_02cba411ec9dlevel0_row68\" class=\"row_heading level0 row68\" >201</th>\n",
       "                        <td id=\"T_492e375e_324c_11eb_a3d0_02cba411ec9drow68_col0\" class=\"data row68 col0\" >2020-01-10</td>\n",
       "                        <td id=\"T_492e375e_324c_11eb_a3d0_02cba411ec9drow68_col1\" class=\"data row68 col1\" >0.015500</td>\n",
       "                        <td id=\"T_492e375e_324c_11eb_a3d0_02cba411ec9drow68_col2\" class=\"data row68 col2\" >2020-01-13</td>\n",
       "            </tr>\n",
       "            <tr>\n",
       "                        <th id=\"T_492e375e_324c_11eb_a3d0_02cba411ec9dlevel0_row69\" class=\"row_heading level0 row69\" >200</th>\n",
       "                        <td id=\"T_492e375e_324c_11eb_a3d0_02cba411ec9drow69_col0\" class=\"data row69 col0\" >2020-01-13</td>\n",
       "                        <td id=\"T_492e375e_324c_11eb_a3d0_02cba411ec9drow69_col1\" class=\"data row69 col1\" >0.015400</td>\n",
       "                        <td id=\"T_492e375e_324c_11eb_a3d0_02cba411ec9drow69_col2\" class=\"data row69 col2\" >2020-01-14</td>\n",
       "            </tr>\n",
       "            <tr>\n",
       "                        <th id=\"T_492e375e_324c_11eb_a3d0_02cba411ec9dlevel0_row70\" class=\"row_heading level0 row70\" >199</th>\n",
       "                        <td id=\"T_492e375e_324c_11eb_a3d0_02cba411ec9drow70_col0\" class=\"data row70 col0\" >2020-01-14</td>\n",
       "                        <td id=\"T_492e375e_324c_11eb_a3d0_02cba411ec9drow70_col1\" class=\"data row70 col1\" >0.015500</td>\n",
       "                        <td id=\"T_492e375e_324c_11eb_a3d0_02cba411ec9drow70_col2\" class=\"data row70 col2\" >2020-01-15</td>\n",
       "            </tr>\n",
       "            <tr>\n",
       "                        <th id=\"T_492e375e_324c_11eb_a3d0_02cba411ec9dlevel0_row71\" class=\"row_heading level0 row71\" >198</th>\n",
       "                        <td id=\"T_492e375e_324c_11eb_a3d0_02cba411ec9drow71_col0\" class=\"data row71 col0\" >2020-01-15</td>\n",
       "                        <td id=\"T_492e375e_324c_11eb_a3d0_02cba411ec9drow71_col1\" class=\"data row71 col1\" >0.015600</td>\n",
       "                        <td id=\"T_492e375e_324c_11eb_a3d0_02cba411ec9drow71_col2\" class=\"data row71 col2\" >2020-01-16</td>\n",
       "            </tr>\n",
       "            <tr>\n",
       "                        <th id=\"T_492e375e_324c_11eb_a3d0_02cba411ec9dlevel0_row72\" class=\"row_heading level0 row72\" >197</th>\n",
       "                        <td id=\"T_492e375e_324c_11eb_a3d0_02cba411ec9drow72_col0\" class=\"data row72 col0\" >2020-01-16</td>\n",
       "                        <td id=\"T_492e375e_324c_11eb_a3d0_02cba411ec9drow72_col1\" class=\"data row72 col1\" >0.015500</td>\n",
       "                        <td id=\"T_492e375e_324c_11eb_a3d0_02cba411ec9drow72_col2\" class=\"data row72 col2\" >2020-01-17</td>\n",
       "            </tr>\n",
       "            <tr>\n",
       "                        <th id=\"T_492e375e_324c_11eb_a3d0_02cba411ec9dlevel0_row73\" class=\"row_heading level0 row73\" >196</th>\n",
       "                        <td id=\"T_492e375e_324c_11eb_a3d0_02cba411ec9drow73_col0\" class=\"data row73 col0\" >2020-01-17</td>\n",
       "                        <td id=\"T_492e375e_324c_11eb_a3d0_02cba411ec9drow73_col1\" class=\"data row73 col1\" >0.015400</td>\n",
       "                        <td id=\"T_492e375e_324c_11eb_a3d0_02cba411ec9drow73_col2\" class=\"data row73 col2\" >2020-01-21</td>\n",
       "            </tr>\n",
       "            <tr>\n",
       "                        <th id=\"T_492e375e_324c_11eb_a3d0_02cba411ec9dlevel0_row74\" class=\"row_heading level0 row74\" >195</th>\n",
       "                        <td id=\"T_492e375e_324c_11eb_a3d0_02cba411ec9drow74_col0\" class=\"data row74 col0\" >2020-01-21</td>\n",
       "                        <td id=\"T_492e375e_324c_11eb_a3d0_02cba411ec9drow74_col1\" class=\"data row74 col1\" >0.015400</td>\n",
       "                        <td id=\"T_492e375e_324c_11eb_a3d0_02cba411ec9drow74_col2\" class=\"data row74 col2\" >2020-01-22</td>\n",
       "            </tr>\n",
       "            <tr>\n",
       "                        <th id=\"T_492e375e_324c_11eb_a3d0_02cba411ec9dlevel0_row75\" class=\"row_heading level0 row75\" >194</th>\n",
       "                        <td id=\"T_492e375e_324c_11eb_a3d0_02cba411ec9drow75_col0\" class=\"data row75 col0\" >2020-01-22</td>\n",
       "                        <td id=\"T_492e375e_324c_11eb_a3d0_02cba411ec9drow75_col1\" class=\"data row75 col1\" >0.015400</td>\n",
       "                        <td id=\"T_492e375e_324c_11eb_a3d0_02cba411ec9drow75_col2\" class=\"data row75 col2\" >2020-01-23</td>\n",
       "            </tr>\n",
       "            <tr>\n",
       "                        <th id=\"T_492e375e_324c_11eb_a3d0_02cba411ec9dlevel0_row76\" class=\"row_heading level0 row76\" >193</th>\n",
       "                        <td id=\"T_492e375e_324c_11eb_a3d0_02cba411ec9drow76_col0\" class=\"data row76 col0\" >2020-01-23</td>\n",
       "                        <td id=\"T_492e375e_324c_11eb_a3d0_02cba411ec9drow76_col1\" class=\"data row76 col1\" >0.015400</td>\n",
       "                        <td id=\"T_492e375e_324c_11eb_a3d0_02cba411ec9drow76_col2\" class=\"data row76 col2\" >2020-01-24</td>\n",
       "            </tr>\n",
       "            <tr>\n",
       "                        <th id=\"T_492e375e_324c_11eb_a3d0_02cba411ec9dlevel0_row77\" class=\"row_heading level0 row77\" >192</th>\n",
       "                        <td id=\"T_492e375e_324c_11eb_a3d0_02cba411ec9drow77_col0\" class=\"data row77 col0\" >2020-01-24</td>\n",
       "                        <td id=\"T_492e375e_324c_11eb_a3d0_02cba411ec9drow77_col1\" class=\"data row77 col1\" >0.015300</td>\n",
       "                        <td id=\"T_492e375e_324c_11eb_a3d0_02cba411ec9drow77_col2\" class=\"data row77 col2\" >2020-01-27</td>\n",
       "            </tr>\n",
       "            <tr>\n",
       "                        <th id=\"T_492e375e_324c_11eb_a3d0_02cba411ec9dlevel0_row78\" class=\"row_heading level0 row78\" >191</th>\n",
       "                        <td id=\"T_492e375e_324c_11eb_a3d0_02cba411ec9drow78_col0\" class=\"data row78 col0\" >2020-01-27</td>\n",
       "                        <td id=\"T_492e375e_324c_11eb_a3d0_02cba411ec9drow78_col1\" class=\"data row78 col1\" >0.015300</td>\n",
       "                        <td id=\"T_492e375e_324c_11eb_a3d0_02cba411ec9drow78_col2\" class=\"data row78 col2\" >2020-01-28</td>\n",
       "            </tr>\n",
       "            <tr>\n",
       "                        <th id=\"T_492e375e_324c_11eb_a3d0_02cba411ec9dlevel0_row79\" class=\"row_heading level0 row79\" >190</th>\n",
       "                        <td id=\"T_492e375e_324c_11eb_a3d0_02cba411ec9drow79_col0\" class=\"data row79 col0\" >2020-01-28</td>\n",
       "                        <td id=\"T_492e375e_324c_11eb_a3d0_02cba411ec9drow79_col1\" class=\"data row79 col1\" >0.015300</td>\n",
       "                        <td id=\"T_492e375e_324c_11eb_a3d0_02cba411ec9drow79_col2\" class=\"data row79 col2\" >2020-01-29</td>\n",
       "            </tr>\n",
       "            <tr>\n",
       "                        <th id=\"T_492e375e_324c_11eb_a3d0_02cba411ec9dlevel0_row80\" class=\"row_heading level0 row80\" >189</th>\n",
       "                        <td id=\"T_492e375e_324c_11eb_a3d0_02cba411ec9drow80_col0\" class=\"data row80 col0\" >2020-01-29</td>\n",
       "                        <td id=\"T_492e375e_324c_11eb_a3d0_02cba411ec9drow80_col1\" class=\"data row80 col1\" >0.015300</td>\n",
       "                        <td id=\"T_492e375e_324c_11eb_a3d0_02cba411ec9drow80_col2\" class=\"data row80 col2\" >2020-01-30</td>\n",
       "            </tr>\n",
       "            <tr>\n",
       "                        <th id=\"T_492e375e_324c_11eb_a3d0_02cba411ec9dlevel0_row81\" class=\"row_heading level0 row81\" >188</th>\n",
       "                        <td id=\"T_492e375e_324c_11eb_a3d0_02cba411ec9drow81_col0\" class=\"data row81 col0\" >2020-01-30</td>\n",
       "                        <td id=\"T_492e375e_324c_11eb_a3d0_02cba411ec9drow81_col1\" class=\"data row81 col1\" >0.015800</td>\n",
       "                        <td id=\"T_492e375e_324c_11eb_a3d0_02cba411ec9drow81_col2\" class=\"data row81 col2\" >2020-01-31</td>\n",
       "            </tr>\n",
       "            <tr>\n",
       "                        <th id=\"T_492e375e_324c_11eb_a3d0_02cba411ec9dlevel0_row82\" class=\"row_heading level0 row82\" >187</th>\n",
       "                        <td id=\"T_492e375e_324c_11eb_a3d0_02cba411ec9drow82_col0\" class=\"data row82 col0\" >2020-01-31</td>\n",
       "                        <td id=\"T_492e375e_324c_11eb_a3d0_02cba411ec9drow82_col1\" class=\"data row82 col1\" >0.016000</td>\n",
       "                        <td id=\"T_492e375e_324c_11eb_a3d0_02cba411ec9drow82_col2\" class=\"data row82 col2\" >2020-02-03</td>\n",
       "            </tr>\n",
       "            <tr>\n",
       "                        <th id=\"T_492e375e_324c_11eb_a3d0_02cba411ec9dlevel0_row83\" class=\"row_heading level0 row83\" >186</th>\n",
       "                        <td id=\"T_492e375e_324c_11eb_a3d0_02cba411ec9drow83_col0\" class=\"data row83 col0\" >2020-02-03</td>\n",
       "                        <td id=\"T_492e375e_324c_11eb_a3d0_02cba411ec9drow83_col1\" class=\"data row83 col1\" >0.015900</td>\n",
       "                        <td id=\"T_492e375e_324c_11eb_a3d0_02cba411ec9drow83_col2\" class=\"data row83 col2\" >2020-02-04</td>\n",
       "            </tr>\n",
       "            <tr>\n",
       "                        <th id=\"T_492e375e_324c_11eb_a3d0_02cba411ec9dlevel0_row84\" class=\"row_heading level0 row84\" >185</th>\n",
       "                        <td id=\"T_492e375e_324c_11eb_a3d0_02cba411ec9drow84_col0\" class=\"data row84 col0\" >2020-02-04</td>\n",
       "                        <td id=\"T_492e375e_324c_11eb_a3d0_02cba411ec9drow84_col1\" class=\"data row84 col1\" >0.016000</td>\n",
       "                        <td id=\"T_492e375e_324c_11eb_a3d0_02cba411ec9drow84_col2\" class=\"data row84 col2\" >2020-02-05</td>\n",
       "            </tr>\n",
       "            <tr>\n",
       "                        <th id=\"T_492e375e_324c_11eb_a3d0_02cba411ec9dlevel0_row85\" class=\"row_heading level0 row85\" >184</th>\n",
       "                        <td id=\"T_492e375e_324c_11eb_a3d0_02cba411ec9drow85_col0\" class=\"data row85 col0\" >2020-02-05</td>\n",
       "                        <td id=\"T_492e375e_324c_11eb_a3d0_02cba411ec9drow85_col1\" class=\"data row85 col1\" >0.015900</td>\n",
       "                        <td id=\"T_492e375e_324c_11eb_a3d0_02cba411ec9drow85_col2\" class=\"data row85 col2\" >2020-02-06</td>\n",
       "            </tr>\n",
       "            <tr>\n",
       "                        <th id=\"T_492e375e_324c_11eb_a3d0_02cba411ec9dlevel0_row86\" class=\"row_heading level0 row86\" >183</th>\n",
       "                        <td id=\"T_492e375e_324c_11eb_a3d0_02cba411ec9drow86_col0\" class=\"data row86 col0\" >2020-02-06</td>\n",
       "                        <td id=\"T_492e375e_324c_11eb_a3d0_02cba411ec9drow86_col1\" class=\"data row86 col1\" >0.015900</td>\n",
       "                        <td id=\"T_492e375e_324c_11eb_a3d0_02cba411ec9drow86_col2\" class=\"data row86 col2\" >2020-02-07</td>\n",
       "            </tr>\n",
       "            <tr>\n",
       "                        <th id=\"T_492e375e_324c_11eb_a3d0_02cba411ec9dlevel0_row87\" class=\"row_heading level0 row87\" >182</th>\n",
       "                        <td id=\"T_492e375e_324c_11eb_a3d0_02cba411ec9drow87_col0\" class=\"data row87 col0\" >2020-02-07</td>\n",
       "                        <td id=\"T_492e375e_324c_11eb_a3d0_02cba411ec9drow87_col1\" class=\"data row87 col1\" >0.015800</td>\n",
       "                        <td id=\"T_492e375e_324c_11eb_a3d0_02cba411ec9drow87_col2\" class=\"data row87 col2\" >2020-02-10</td>\n",
       "            </tr>\n",
       "            <tr>\n",
       "                        <th id=\"T_492e375e_324c_11eb_a3d0_02cba411ec9dlevel0_row88\" class=\"row_heading level0 row88\" >181</th>\n",
       "                        <td id=\"T_492e375e_324c_11eb_a3d0_02cba411ec9drow88_col0\" class=\"data row88 col0\" >2020-02-10</td>\n",
       "                        <td id=\"T_492e375e_324c_11eb_a3d0_02cba411ec9drow88_col1\" class=\"data row88 col1\" >0.015800</td>\n",
       "                        <td id=\"T_492e375e_324c_11eb_a3d0_02cba411ec9drow88_col2\" class=\"data row88 col2\" >2020-02-11</td>\n",
       "            </tr>\n",
       "            <tr>\n",
       "                        <th id=\"T_492e375e_324c_11eb_a3d0_02cba411ec9dlevel0_row89\" class=\"row_heading level0 row89\" >180</th>\n",
       "                        <td id=\"T_492e375e_324c_11eb_a3d0_02cba411ec9drow89_col0\" class=\"data row89 col0\" >2020-02-11</td>\n",
       "                        <td id=\"T_492e375e_324c_11eb_a3d0_02cba411ec9drow89_col1\" class=\"data row89 col1\" >0.015800</td>\n",
       "                        <td id=\"T_492e375e_324c_11eb_a3d0_02cba411ec9drow89_col2\" class=\"data row89 col2\" >2020-02-12</td>\n",
       "            </tr>\n",
       "            <tr>\n",
       "                        <th id=\"T_492e375e_324c_11eb_a3d0_02cba411ec9dlevel0_row90\" class=\"row_heading level0 row90\" >179</th>\n",
       "                        <td id=\"T_492e375e_324c_11eb_a3d0_02cba411ec9drow90_col0\" class=\"data row90 col0\" >2020-02-12</td>\n",
       "                        <td id=\"T_492e375e_324c_11eb_a3d0_02cba411ec9drow90_col1\" class=\"data row90 col1\" >0.015700</td>\n",
       "                        <td id=\"T_492e375e_324c_11eb_a3d0_02cba411ec9drow90_col2\" class=\"data row90 col2\" >2020-02-13</td>\n",
       "            </tr>\n",
       "            <tr>\n",
       "                        <th id=\"T_492e375e_324c_11eb_a3d0_02cba411ec9dlevel0_row91\" class=\"row_heading level0 row91\" >178</th>\n",
       "                        <td id=\"T_492e375e_324c_11eb_a3d0_02cba411ec9drow91_col0\" class=\"data row91 col0\" >2020-02-13</td>\n",
       "                        <td id=\"T_492e375e_324c_11eb_a3d0_02cba411ec9drow91_col1\" class=\"data row91 col1\" >0.015700</td>\n",
       "                        <td id=\"T_492e375e_324c_11eb_a3d0_02cba411ec9drow91_col2\" class=\"data row91 col2\" >2020-02-14</td>\n",
       "            </tr>\n",
       "            <tr>\n",
       "                        <th id=\"T_492e375e_324c_11eb_a3d0_02cba411ec9dlevel0_row92\" class=\"row_heading level0 row92\" >177</th>\n",
       "                        <td id=\"T_492e375e_324c_11eb_a3d0_02cba411ec9drow92_col0\" class=\"data row92 col0\" >2020-02-14</td>\n",
       "                        <td id=\"T_492e375e_324c_11eb_a3d0_02cba411ec9drow92_col1\" class=\"data row92 col1\" >0.015800</td>\n",
       "                        <td id=\"T_492e375e_324c_11eb_a3d0_02cba411ec9drow92_col2\" class=\"data row92 col2\" >2020-02-18</td>\n",
       "            </tr>\n",
       "            <tr>\n",
       "                        <th id=\"T_492e375e_324c_11eb_a3d0_02cba411ec9dlevel0_row93\" class=\"row_heading level0 row93\" >176</th>\n",
       "                        <td id=\"T_492e375e_324c_11eb_a3d0_02cba411ec9drow93_col0\" class=\"data row93 col0\" >2020-02-18</td>\n",
       "                        <td id=\"T_492e375e_324c_11eb_a3d0_02cba411ec9drow93_col1\" class=\"data row93 col1\" >0.016000</td>\n",
       "                        <td id=\"T_492e375e_324c_11eb_a3d0_02cba411ec9drow93_col2\" class=\"data row93 col2\" >2020-02-19</td>\n",
       "            </tr>\n",
       "            <tr>\n",
       "                        <th id=\"T_492e375e_324c_11eb_a3d0_02cba411ec9dlevel0_row94\" class=\"row_heading level0 row94\" >175</th>\n",
       "                        <td id=\"T_492e375e_324c_11eb_a3d0_02cba411ec9drow94_col0\" class=\"data row94 col0\" >2020-02-19</td>\n",
       "                        <td id=\"T_492e375e_324c_11eb_a3d0_02cba411ec9drow94_col1\" class=\"data row94 col1\" >0.015900</td>\n",
       "                        <td id=\"T_492e375e_324c_11eb_a3d0_02cba411ec9drow94_col2\" class=\"data row94 col2\" >2020-02-20</td>\n",
       "            </tr>\n",
       "            <tr>\n",
       "                        <th id=\"T_492e375e_324c_11eb_a3d0_02cba411ec9dlevel0_row95\" class=\"row_heading level0 row95\" >174</th>\n",
       "                        <td id=\"T_492e375e_324c_11eb_a3d0_02cba411ec9drow95_col0\" class=\"data row95 col0\" >2020-02-20</td>\n",
       "                        <td id=\"T_492e375e_324c_11eb_a3d0_02cba411ec9drow95_col1\" class=\"data row95 col1\" >0.016000</td>\n",
       "                        <td id=\"T_492e375e_324c_11eb_a3d0_02cba411ec9drow95_col2\" class=\"data row95 col2\" >2020-02-21</td>\n",
       "            </tr>\n",
       "            <tr>\n",
       "                        <th id=\"T_492e375e_324c_11eb_a3d0_02cba411ec9dlevel0_row96\" class=\"row_heading level0 row96\" >173</th>\n",
       "                        <td id=\"T_492e375e_324c_11eb_a3d0_02cba411ec9drow96_col0\" class=\"data row96 col0\" >2020-02-21</td>\n",
       "                        <td id=\"T_492e375e_324c_11eb_a3d0_02cba411ec9drow96_col1\" class=\"data row96 col1\" >0.015800</td>\n",
       "                        <td id=\"T_492e375e_324c_11eb_a3d0_02cba411ec9drow96_col2\" class=\"data row96 col2\" >2020-02-24</td>\n",
       "            </tr>\n",
       "            <tr>\n",
       "                        <th id=\"T_492e375e_324c_11eb_a3d0_02cba411ec9dlevel0_row97\" class=\"row_heading level0 row97\" >172</th>\n",
       "                        <td id=\"T_492e375e_324c_11eb_a3d0_02cba411ec9drow97_col0\" class=\"data row97 col0\" >2020-02-24</td>\n",
       "                        <td id=\"T_492e375e_324c_11eb_a3d0_02cba411ec9drow97_col1\" class=\"data row97 col1\" >0.015800</td>\n",
       "                        <td id=\"T_492e375e_324c_11eb_a3d0_02cba411ec9drow97_col2\" class=\"data row97 col2\" >2020-02-25</td>\n",
       "            </tr>\n",
       "            <tr>\n",
       "                        <th id=\"T_492e375e_324c_11eb_a3d0_02cba411ec9dlevel0_row98\" class=\"row_heading level0 row98\" >171</th>\n",
       "                        <td id=\"T_492e375e_324c_11eb_a3d0_02cba411ec9drow98_col0\" class=\"data row98 col0\" >2020-02-25</td>\n",
       "                        <td id=\"T_492e375e_324c_11eb_a3d0_02cba411ec9drow98_col1\" class=\"data row98 col1\" >0.015900</td>\n",
       "                        <td id=\"T_492e375e_324c_11eb_a3d0_02cba411ec9drow98_col2\" class=\"data row98 col2\" >2020-02-26</td>\n",
       "            </tr>\n",
       "            <tr>\n",
       "                        <th id=\"T_492e375e_324c_11eb_a3d0_02cba411ec9dlevel0_row99\" class=\"row_heading level0 row99\" >170</th>\n",
       "                        <td id=\"T_492e375e_324c_11eb_a3d0_02cba411ec9drow99_col0\" class=\"data row99 col0\" >2020-02-26</td>\n",
       "                        <td id=\"T_492e375e_324c_11eb_a3d0_02cba411ec9drow99_col1\" class=\"data row99 col1\" >0.015800</td>\n",
       "                        <td id=\"T_492e375e_324c_11eb_a3d0_02cba411ec9drow99_col2\" class=\"data row99 col2\" >2020-02-27</td>\n",
       "            </tr>\n",
       "            <tr>\n",
       "                        <th id=\"T_492e375e_324c_11eb_a3d0_02cba411ec9dlevel0_row100\" class=\"row_heading level0 row100\" >169</th>\n",
       "                        <td id=\"T_492e375e_324c_11eb_a3d0_02cba411ec9drow100_col0\" class=\"data row100 col0\" >2020-02-27</td>\n",
       "                        <td id=\"T_492e375e_324c_11eb_a3d0_02cba411ec9drow100_col1\" class=\"data row100 col1\" >0.015800</td>\n",
       "                        <td id=\"T_492e375e_324c_11eb_a3d0_02cba411ec9drow100_col2\" class=\"data row100 col2\" >2020-02-28</td>\n",
       "            </tr>\n",
       "            <tr>\n",
       "                        <th id=\"T_492e375e_324c_11eb_a3d0_02cba411ec9dlevel0_row101\" class=\"row_heading level0 row101\" >168</th>\n",
       "                        <td id=\"T_492e375e_324c_11eb_a3d0_02cba411ec9drow101_col0\" class=\"data row101 col0\" >2020-02-28</td>\n",
       "                        <td id=\"T_492e375e_324c_11eb_a3d0_02cba411ec9drow101_col1\" class=\"data row101 col1\" >0.016000</td>\n",
       "                        <td id=\"T_492e375e_324c_11eb_a3d0_02cba411ec9drow101_col2\" class=\"data row101 col2\" >2020-03-02</td>\n",
       "            </tr>\n",
       "            <tr>\n",
       "                        <th id=\"T_492e375e_324c_11eb_a3d0_02cba411ec9dlevel0_row102\" class=\"row_heading level0 row102\" >167</th>\n",
       "                        <td id=\"T_492e375e_324c_11eb_a3d0_02cba411ec9drow102_col0\" class=\"data row102 col0\" >2020-03-02</td>\n",
       "                        <td id=\"T_492e375e_324c_11eb_a3d0_02cba411ec9drow102_col1\" class=\"data row102 col1\" >0.015900</td>\n",
       "                        <td id=\"T_492e375e_324c_11eb_a3d0_02cba411ec9drow102_col2\" class=\"data row102 col2\" >2020-03-03</td>\n",
       "            </tr>\n",
       "            <tr>\n",
       "                        <th id=\"T_492e375e_324c_11eb_a3d0_02cba411ec9dlevel0_row103\" class=\"row_heading level0 row103\" >166</th>\n",
       "                        <td id=\"T_492e375e_324c_11eb_a3d0_02cba411ec9drow103_col0\" class=\"data row103 col0\" >2020-03-03</td>\n",
       "                        <td id=\"T_492e375e_324c_11eb_a3d0_02cba411ec9drow103_col1\" class=\"data row103 col1\" >0.016400</td>\n",
       "                        <td id=\"T_492e375e_324c_11eb_a3d0_02cba411ec9drow103_col2\" class=\"data row103 col2\" >2020-03-04</td>\n",
       "            </tr>\n",
       "            <tr>\n",
       "                        <th id=\"T_492e375e_324c_11eb_a3d0_02cba411ec9dlevel0_row104\" class=\"row_heading level0 row104\" >165</th>\n",
       "                        <td id=\"T_492e375e_324c_11eb_a3d0_02cba411ec9drow104_col0\" class=\"data row104 col0\" >2020-03-04</td>\n",
       "                        <td id=\"T_492e375e_324c_11eb_a3d0_02cba411ec9drow104_col1\" class=\"data row104 col1\" >0.012300</td>\n",
       "                        <td id=\"T_492e375e_324c_11eb_a3d0_02cba411ec9drow104_col2\" class=\"data row104 col2\" >2020-03-05</td>\n",
       "            </tr>\n",
       "            <tr>\n",
       "                        <th id=\"T_492e375e_324c_11eb_a3d0_02cba411ec9dlevel0_row105\" class=\"row_heading level0 row105\" >164</th>\n",
       "                        <td id=\"T_492e375e_324c_11eb_a3d0_02cba411ec9drow105_col0\" class=\"data row105 col0\" >2020-03-05</td>\n",
       "                        <td id=\"T_492e375e_324c_11eb_a3d0_02cba411ec9drow105_col1\" class=\"data row105 col1\" >0.011200</td>\n",
       "                        <td id=\"T_492e375e_324c_11eb_a3d0_02cba411ec9drow105_col2\" class=\"data row105 col2\" >2020-03-06</td>\n",
       "            </tr>\n",
       "            <tr>\n",
       "                        <th id=\"T_492e375e_324c_11eb_a3d0_02cba411ec9dlevel0_row106\" class=\"row_heading level0 row106\" >163</th>\n",
       "                        <td id=\"T_492e375e_324c_11eb_a3d0_02cba411ec9drow106_col0\" class=\"data row106 col0\" >2020-03-06</td>\n",
       "                        <td id=\"T_492e375e_324c_11eb_a3d0_02cba411ec9drow106_col1\" class=\"data row106 col1\" >0.011000</td>\n",
       "                        <td id=\"T_492e375e_324c_11eb_a3d0_02cba411ec9drow106_col2\" class=\"data row106 col2\" >2020-03-09</td>\n",
       "            </tr>\n",
       "            <tr>\n",
       "                        <th id=\"T_492e375e_324c_11eb_a3d0_02cba411ec9dlevel0_row107\" class=\"row_heading level0 row107\" >162</th>\n",
       "                        <td id=\"T_492e375e_324c_11eb_a3d0_02cba411ec9drow107_col0\" class=\"data row107 col0\" >2020-03-09</td>\n",
       "                        <td id=\"T_492e375e_324c_11eb_a3d0_02cba411ec9drow107_col1\" class=\"data row107 col1\" >0.010900</td>\n",
       "                        <td id=\"T_492e375e_324c_11eb_a3d0_02cba411ec9drow107_col2\" class=\"data row107 col2\" >2020-03-10</td>\n",
       "            </tr>\n",
       "            <tr>\n",
       "                        <th id=\"T_492e375e_324c_11eb_a3d0_02cba411ec9dlevel0_row108\" class=\"row_heading level0 row108\" >161</th>\n",
       "                        <td id=\"T_492e375e_324c_11eb_a3d0_02cba411ec9drow108_col0\" class=\"data row108 col0\" >2020-03-10</td>\n",
       "                        <td id=\"T_492e375e_324c_11eb_a3d0_02cba411ec9drow108_col1\" class=\"data row108 col1\" >0.011100</td>\n",
       "                        <td id=\"T_492e375e_324c_11eb_a3d0_02cba411ec9drow108_col2\" class=\"data row108 col2\" >2020-03-11</td>\n",
       "            </tr>\n",
       "            <tr>\n",
       "                        <th id=\"T_492e375e_324c_11eb_a3d0_02cba411ec9dlevel0_row109\" class=\"row_heading level0 row109\" >160</th>\n",
       "                        <td id=\"T_492e375e_324c_11eb_a3d0_02cba411ec9drow109_col0\" class=\"data row109 col0\" >2020-03-11</td>\n",
       "                        <td id=\"T_492e375e_324c_11eb_a3d0_02cba411ec9drow109_col1\" class=\"data row109 col1\" >0.011500</td>\n",
       "                        <td id=\"T_492e375e_324c_11eb_a3d0_02cba411ec9drow109_col2\" class=\"data row109 col2\" >2020-03-12</td>\n",
       "            </tr>\n",
       "            <tr>\n",
       "                        <th id=\"T_492e375e_324c_11eb_a3d0_02cba411ec9dlevel0_row110\" class=\"row_heading level0 row110\" >159</th>\n",
       "                        <td id=\"T_492e375e_324c_11eb_a3d0_02cba411ec9drow110_col0\" class=\"data row110 col0\" >2020-03-12</td>\n",
       "                        <td id=\"T_492e375e_324c_11eb_a3d0_02cba411ec9drow110_col1\" class=\"data row110 col1\" >0.012000</td>\n",
       "                        <td id=\"T_492e375e_324c_11eb_a3d0_02cba411ec9drow110_col2\" class=\"data row110 col2\" >2020-03-13</td>\n",
       "            </tr>\n",
       "            <tr>\n",
       "                        <th id=\"T_492e375e_324c_11eb_a3d0_02cba411ec9dlevel0_row111\" class=\"row_heading level0 row111\" >158</th>\n",
       "                        <td id=\"T_492e375e_324c_11eb_a3d0_02cba411ec9drow111_col0\" class=\"data row111 col0\" >2020-03-13</td>\n",
       "                        <td id=\"T_492e375e_324c_11eb_a3d0_02cba411ec9drow111_col1\" class=\"data row111 col1\" >0.011000</td>\n",
       "                        <td id=\"T_492e375e_324c_11eb_a3d0_02cba411ec9drow111_col2\" class=\"data row111 col2\" >2020-03-16</td>\n",
       "            </tr>\n",
       "            <tr>\n",
       "                        <th id=\"T_492e375e_324c_11eb_a3d0_02cba411ec9dlevel0_row112\" class=\"row_heading level0 row112\" >157</th>\n",
       "                        <td id=\"T_492e375e_324c_11eb_a3d0_02cba411ec9drow112_col0\" class=\"data row112 col0\" >2020-03-16</td>\n",
       "                        <td id=\"T_492e375e_324c_11eb_a3d0_02cba411ec9drow112_col1\" class=\"data row112 col1\" >0.002600</td>\n",
       "                        <td id=\"T_492e375e_324c_11eb_a3d0_02cba411ec9drow112_col2\" class=\"data row112 col2\" >2020-03-17</td>\n",
       "            </tr>\n",
       "            <tr>\n",
       "                        <th id=\"T_492e375e_324c_11eb_a3d0_02cba411ec9dlevel0_row113\" class=\"row_heading level0 row113\" >156</th>\n",
       "                        <td id=\"T_492e375e_324c_11eb_a3d0_02cba411ec9drow113_col0\" class=\"data row113 col0\" >2020-03-17</td>\n",
       "                        <td id=\"T_492e375e_324c_11eb_a3d0_02cba411ec9drow113_col1\" class=\"data row113 col1\" >0.005400</td>\n",
       "                        <td id=\"T_492e375e_324c_11eb_a3d0_02cba411ec9drow113_col2\" class=\"data row113 col2\" >2020-03-18</td>\n",
       "            </tr>\n",
       "            <tr>\n",
       "                        <th id=\"T_492e375e_324c_11eb_a3d0_02cba411ec9dlevel0_row114\" class=\"row_heading level0 row114\" >155</th>\n",
       "                        <td id=\"T_492e375e_324c_11eb_a3d0_02cba411ec9drow114_col0\" class=\"data row114 col0\" >2020-03-18</td>\n",
       "                        <td id=\"T_492e375e_324c_11eb_a3d0_02cba411ec9drow114_col1\" class=\"data row114 col1\" >0.001000</td>\n",
       "                        <td id=\"T_492e375e_324c_11eb_a3d0_02cba411ec9drow114_col2\" class=\"data row114 col2\" >2020-03-19</td>\n",
       "            </tr>\n",
       "            <tr>\n",
       "                        <th id=\"T_492e375e_324c_11eb_a3d0_02cba411ec9dlevel0_row115\" class=\"row_heading level0 row115\" >154</th>\n",
       "                        <td id=\"T_492e375e_324c_11eb_a3d0_02cba411ec9drow115_col0\" class=\"data row115 col0\" >2020-03-19</td>\n",
       "                        <td id=\"T_492e375e_324c_11eb_a3d0_02cba411ec9drow115_col1\" class=\"data row115 col1\" >0.000600</td>\n",
       "                        <td id=\"T_492e375e_324c_11eb_a3d0_02cba411ec9drow115_col2\" class=\"data row115 col2\" >2020-03-20</td>\n",
       "            </tr>\n",
       "            <tr>\n",
       "                        <th id=\"T_492e375e_324c_11eb_a3d0_02cba411ec9dlevel0_row116\" class=\"row_heading level0 row116\" >153</th>\n",
       "                        <td id=\"T_492e375e_324c_11eb_a3d0_02cba411ec9drow116_col0\" class=\"data row116 col0\" >2020-03-20</td>\n",
       "                        <td id=\"T_492e375e_324c_11eb_a3d0_02cba411ec9drow116_col1\" class=\"data row116 col1\" >0.000400</td>\n",
       "                        <td id=\"T_492e375e_324c_11eb_a3d0_02cba411ec9drow116_col2\" class=\"data row116 col2\" >2020-03-23</td>\n",
       "            </tr>\n",
       "            <tr>\n",
       "                        <th id=\"T_492e375e_324c_11eb_a3d0_02cba411ec9dlevel0_row117\" class=\"row_heading level0 row117\" >152</th>\n",
       "                        <td id=\"T_492e375e_324c_11eb_a3d0_02cba411ec9drow117_col0\" class=\"data row117 col0\" >2020-03-23</td>\n",
       "                        <td id=\"T_492e375e_324c_11eb_a3d0_02cba411ec9drow117_col1\" class=\"data row117 col1\" >0.000200</td>\n",
       "                        <td id=\"T_492e375e_324c_11eb_a3d0_02cba411ec9drow117_col2\" class=\"data row117 col2\" >2020-03-24</td>\n",
       "            </tr>\n",
       "            <tr>\n",
       "                        <th id=\"T_492e375e_324c_11eb_a3d0_02cba411ec9dlevel0_row118\" class=\"row_heading level0 row118\" >151</th>\n",
       "                        <td id=\"T_492e375e_324c_11eb_a3d0_02cba411ec9drow118_col0\" class=\"data row118 col0\" >2020-03-24</td>\n",
       "                        <td id=\"T_492e375e_324c_11eb_a3d0_02cba411ec9drow118_col1\" class=\"data row118 col1\" >0.000100</td>\n",
       "                        <td id=\"T_492e375e_324c_11eb_a3d0_02cba411ec9drow118_col2\" class=\"data row118 col2\" >2020-03-25</td>\n",
       "            </tr>\n",
       "            <tr>\n",
       "                        <th id=\"T_492e375e_324c_11eb_a3d0_02cba411ec9dlevel0_row119\" class=\"row_heading level0 row119\" >150</th>\n",
       "                        <td id=\"T_492e375e_324c_11eb_a3d0_02cba411ec9drow119_col0\" class=\"data row119 col0\" >2020-03-25</td>\n",
       "                        <td id=\"T_492e375e_324c_11eb_a3d0_02cba411ec9drow119_col1\" class=\"data row119 col1\" >0.000100</td>\n",
       "                        <td id=\"T_492e375e_324c_11eb_a3d0_02cba411ec9drow119_col2\" class=\"data row119 col2\" >2020-03-26</td>\n",
       "            </tr>\n",
       "            <tr>\n",
       "                        <th id=\"T_492e375e_324c_11eb_a3d0_02cba411ec9dlevel0_row120\" class=\"row_heading level0 row120\" >149</th>\n",
       "                        <td id=\"T_492e375e_324c_11eb_a3d0_02cba411ec9drow120_col0\" class=\"data row120 col0\" >2020-03-26</td>\n",
       "                        <td id=\"T_492e375e_324c_11eb_a3d0_02cba411ec9drow120_col1\" class=\"data row120 col1\" >0.000100</td>\n",
       "                        <td id=\"T_492e375e_324c_11eb_a3d0_02cba411ec9drow120_col2\" class=\"data row120 col2\" >2020-03-27</td>\n",
       "            </tr>\n",
       "            <tr>\n",
       "                        <th id=\"T_492e375e_324c_11eb_a3d0_02cba411ec9dlevel0_row121\" class=\"row_heading level0 row121\" >148</th>\n",
       "                        <td id=\"T_492e375e_324c_11eb_a3d0_02cba411ec9drow121_col0\" class=\"data row121 col0\" >2020-03-27</td>\n",
       "                        <td id=\"T_492e375e_324c_11eb_a3d0_02cba411ec9drow121_col1\" class=\"data row121 col1\" >0.000100</td>\n",
       "                        <td id=\"T_492e375e_324c_11eb_a3d0_02cba411ec9drow121_col2\" class=\"data row121 col2\" >2020-03-30</td>\n",
       "            </tr>\n",
       "            <tr>\n",
       "                        <th id=\"T_492e375e_324c_11eb_a3d0_02cba411ec9dlevel0_row122\" class=\"row_heading level0 row122\" >147</th>\n",
       "                        <td id=\"T_492e375e_324c_11eb_a3d0_02cba411ec9drow122_col0\" class=\"data row122 col0\" >2020-03-30</td>\n",
       "                        <td id=\"T_492e375e_324c_11eb_a3d0_02cba411ec9drow122_col1\" class=\"data row122 col1\" >0.000100</td>\n",
       "                        <td id=\"T_492e375e_324c_11eb_a3d0_02cba411ec9drow122_col2\" class=\"data row122 col2\" >2020-03-31</td>\n",
       "            </tr>\n",
       "            <tr>\n",
       "                        <th id=\"T_492e375e_324c_11eb_a3d0_02cba411ec9dlevel0_row123\" class=\"row_heading level0 row123\" >146</th>\n",
       "                        <td id=\"T_492e375e_324c_11eb_a3d0_02cba411ec9drow123_col0\" class=\"data row123 col0\" >2020-03-31</td>\n",
       "                        <td id=\"T_492e375e_324c_11eb_a3d0_02cba411ec9drow123_col1\" class=\"data row123 col1\" >0.000100</td>\n",
       "                        <td id=\"T_492e375e_324c_11eb_a3d0_02cba411ec9drow123_col2\" class=\"data row123 col2\" >2020-04-01</td>\n",
       "            </tr>\n",
       "            <tr>\n",
       "                        <th id=\"T_492e375e_324c_11eb_a3d0_02cba411ec9dlevel0_row124\" class=\"row_heading level0 row124\" >145</th>\n",
       "                        <td id=\"T_492e375e_324c_11eb_a3d0_02cba411ec9drow124_col0\" class=\"data row124 col0\" >2020-04-01</td>\n",
       "                        <td id=\"T_492e375e_324c_11eb_a3d0_02cba411ec9drow124_col1\" class=\"data row124 col1\" >0.000100</td>\n",
       "                        <td id=\"T_492e375e_324c_11eb_a3d0_02cba411ec9drow124_col2\" class=\"data row124 col2\" >2020-04-02</td>\n",
       "            </tr>\n",
       "            <tr>\n",
       "                        <th id=\"T_492e375e_324c_11eb_a3d0_02cba411ec9dlevel0_row125\" class=\"row_heading level0 row125\" >144</th>\n",
       "                        <td id=\"T_492e375e_324c_11eb_a3d0_02cba411ec9drow125_col0\" class=\"data row125 col0\" >2020-04-02</td>\n",
       "                        <td id=\"T_492e375e_324c_11eb_a3d0_02cba411ec9drow125_col1\" class=\"data row125 col1\" >0.000100</td>\n",
       "                        <td id=\"T_492e375e_324c_11eb_a3d0_02cba411ec9drow125_col2\" class=\"data row125 col2\" >2020-04-03</td>\n",
       "            </tr>\n",
       "            <tr>\n",
       "                        <th id=\"T_492e375e_324c_11eb_a3d0_02cba411ec9dlevel0_row126\" class=\"row_heading level0 row126\" >143</th>\n",
       "                        <td id=\"T_492e375e_324c_11eb_a3d0_02cba411ec9drow126_col0\" class=\"data row126 col0\" >2020-04-03</td>\n",
       "                        <td id=\"T_492e375e_324c_11eb_a3d0_02cba411ec9drow126_col1\" class=\"data row126 col1\" >0.000100</td>\n",
       "                        <td id=\"T_492e375e_324c_11eb_a3d0_02cba411ec9drow126_col2\" class=\"data row126 col2\" >2020-04-06</td>\n",
       "            </tr>\n",
       "            <tr>\n",
       "                        <th id=\"T_492e375e_324c_11eb_a3d0_02cba411ec9dlevel0_row127\" class=\"row_heading level0 row127\" >142</th>\n",
       "                        <td id=\"T_492e375e_324c_11eb_a3d0_02cba411ec9drow127_col0\" class=\"data row127 col0\" >2020-04-06</td>\n",
       "                        <td id=\"T_492e375e_324c_11eb_a3d0_02cba411ec9drow127_col1\" class=\"data row127 col1\" >0.000100</td>\n",
       "                        <td id=\"T_492e375e_324c_11eb_a3d0_02cba411ec9drow127_col2\" class=\"data row127 col2\" >2020-04-07</td>\n",
       "            </tr>\n",
       "            <tr>\n",
       "                        <th id=\"T_492e375e_324c_11eb_a3d0_02cba411ec9dlevel0_row128\" class=\"row_heading level0 row128\" >141</th>\n",
       "                        <td id=\"T_492e375e_324c_11eb_a3d0_02cba411ec9drow128_col0\" class=\"data row128 col0\" >2020-04-07</td>\n",
       "                        <td id=\"T_492e375e_324c_11eb_a3d0_02cba411ec9drow128_col1\" class=\"data row128 col1\" >0.000100</td>\n",
       "                        <td id=\"T_492e375e_324c_11eb_a3d0_02cba411ec9drow128_col2\" class=\"data row128 col2\" >2020-04-08</td>\n",
       "            </tr>\n",
       "            <tr>\n",
       "                        <th id=\"T_492e375e_324c_11eb_a3d0_02cba411ec9dlevel0_row129\" class=\"row_heading level0 row129\" >140</th>\n",
       "                        <td id=\"T_492e375e_324c_11eb_a3d0_02cba411ec9drow129_col0\" class=\"data row129 col0\" >2020-04-08</td>\n",
       "                        <td id=\"T_492e375e_324c_11eb_a3d0_02cba411ec9drow129_col1\" class=\"data row129 col1\" >0.000100</td>\n",
       "                        <td id=\"T_492e375e_324c_11eb_a3d0_02cba411ec9drow129_col2\" class=\"data row129 col2\" >2020-04-09</td>\n",
       "            </tr>\n",
       "            <tr>\n",
       "                        <th id=\"T_492e375e_324c_11eb_a3d0_02cba411ec9dlevel0_row130\" class=\"row_heading level0 row130\" >139</th>\n",
       "                        <td id=\"T_492e375e_324c_11eb_a3d0_02cba411ec9drow130_col0\" class=\"data row130 col0\" >2020-04-09</td>\n",
       "                        <td id=\"T_492e375e_324c_11eb_a3d0_02cba411ec9drow130_col1\" class=\"data row130 col1\" >0.000100</td>\n",
       "                        <td id=\"T_492e375e_324c_11eb_a3d0_02cba411ec9drow130_col2\" class=\"data row130 col2\" >2020-04-13</td>\n",
       "            </tr>\n",
       "            <tr>\n",
       "                        <th id=\"T_492e375e_324c_11eb_a3d0_02cba411ec9dlevel0_row131\" class=\"row_heading level0 row131\" >138</th>\n",
       "                        <td id=\"T_492e375e_324c_11eb_a3d0_02cba411ec9drow131_col0\" class=\"data row131 col0\" >2020-04-13</td>\n",
       "                        <td id=\"T_492e375e_324c_11eb_a3d0_02cba411ec9drow131_col1\" class=\"data row131 col1\" >0.000200</td>\n",
       "                        <td id=\"T_492e375e_324c_11eb_a3d0_02cba411ec9drow131_col2\" class=\"data row131 col2\" >2020-04-14</td>\n",
       "            </tr>\n",
       "            <tr>\n",
       "                        <th id=\"T_492e375e_324c_11eb_a3d0_02cba411ec9dlevel0_row132\" class=\"row_heading level0 row132\" >137</th>\n",
       "                        <td id=\"T_492e375e_324c_11eb_a3d0_02cba411ec9drow132_col0\" class=\"data row132 col0\" >2020-04-14</td>\n",
       "                        <td id=\"T_492e375e_324c_11eb_a3d0_02cba411ec9drow132_col1\" class=\"data row132 col1\" >0.000600</td>\n",
       "                        <td id=\"T_492e375e_324c_11eb_a3d0_02cba411ec9drow132_col2\" class=\"data row132 col2\" >2020-04-15</td>\n",
       "            </tr>\n",
       "            <tr>\n",
       "                        <th id=\"T_492e375e_324c_11eb_a3d0_02cba411ec9dlevel0_row133\" class=\"row_heading level0 row133\" >136</th>\n",
       "                        <td id=\"T_492e375e_324c_11eb_a3d0_02cba411ec9drow133_col0\" class=\"data row133 col0\" >2020-04-15</td>\n",
       "                        <td id=\"T_492e375e_324c_11eb_a3d0_02cba411ec9drow133_col1\" class=\"data row133 col1\" >0.000300</td>\n",
       "                        <td id=\"T_492e375e_324c_11eb_a3d0_02cba411ec9drow133_col2\" class=\"data row133 col2\" >2020-04-16</td>\n",
       "            </tr>\n",
       "            <tr>\n",
       "                        <th id=\"T_492e375e_324c_11eb_a3d0_02cba411ec9dlevel0_row134\" class=\"row_heading level0 row134\" >135</th>\n",
       "                        <td id=\"T_492e375e_324c_11eb_a3d0_02cba411ec9drow134_col0\" class=\"data row134 col0\" >2020-04-16</td>\n",
       "                        <td id=\"T_492e375e_324c_11eb_a3d0_02cba411ec9drow134_col1\" class=\"data row134 col1\" >0.000300</td>\n",
       "                        <td id=\"T_492e375e_324c_11eb_a3d0_02cba411ec9drow134_col2\" class=\"data row134 col2\" >2020-04-17</td>\n",
       "            </tr>\n",
       "            <tr>\n",
       "                        <th id=\"T_492e375e_324c_11eb_a3d0_02cba411ec9dlevel0_row135\" class=\"row_heading level0 row135\" >134</th>\n",
       "                        <td id=\"T_492e375e_324c_11eb_a3d0_02cba411ec9drow135_col0\" class=\"data row135 col0\" >2020-04-17</td>\n",
       "                        <td id=\"T_492e375e_324c_11eb_a3d0_02cba411ec9drow135_col1\" class=\"data row135 col1\" >0.000300</td>\n",
       "                        <td id=\"T_492e375e_324c_11eb_a3d0_02cba411ec9drow135_col2\" class=\"data row135 col2\" >2020-04-20</td>\n",
       "            </tr>\n",
       "            <tr>\n",
       "                        <th id=\"T_492e375e_324c_11eb_a3d0_02cba411ec9dlevel0_row136\" class=\"row_heading level0 row136\" >133</th>\n",
       "                        <td id=\"T_492e375e_324c_11eb_a3d0_02cba411ec9drow136_col0\" class=\"data row136 col0\" >2020-04-20</td>\n",
       "                        <td id=\"T_492e375e_324c_11eb_a3d0_02cba411ec9drow136_col1\" class=\"data row136 col1\" >0.000200</td>\n",
       "                        <td id=\"T_492e375e_324c_11eb_a3d0_02cba411ec9drow136_col2\" class=\"data row136 col2\" >2020-04-21</td>\n",
       "            </tr>\n",
       "            <tr>\n",
       "                        <th id=\"T_492e375e_324c_11eb_a3d0_02cba411ec9dlevel0_row137\" class=\"row_heading level0 row137\" >132</th>\n",
       "                        <td id=\"T_492e375e_324c_11eb_a3d0_02cba411ec9drow137_col0\" class=\"data row137 col0\" >2020-04-21</td>\n",
       "                        <td id=\"T_492e375e_324c_11eb_a3d0_02cba411ec9drow137_col1\" class=\"data row137 col1\" >0.000100</td>\n",
       "                        <td id=\"T_492e375e_324c_11eb_a3d0_02cba411ec9drow137_col2\" class=\"data row137 col2\" >2020-04-22</td>\n",
       "            </tr>\n",
       "            <tr>\n",
       "                        <th id=\"T_492e375e_324c_11eb_a3d0_02cba411ec9dlevel0_row138\" class=\"row_heading level0 row138\" >131</th>\n",
       "                        <td id=\"T_492e375e_324c_11eb_a3d0_02cba411ec9drow138_col0\" class=\"data row138 col0\" >2020-04-22</td>\n",
       "                        <td id=\"T_492e375e_324c_11eb_a3d0_02cba411ec9drow138_col1\" class=\"data row138 col1\" >0.000100</td>\n",
       "                        <td id=\"T_492e375e_324c_11eb_a3d0_02cba411ec9drow138_col2\" class=\"data row138 col2\" >2020-04-23</td>\n",
       "            </tr>\n",
       "            <tr>\n",
       "                        <th id=\"T_492e375e_324c_11eb_a3d0_02cba411ec9dlevel0_row139\" class=\"row_heading level0 row139\" >130</th>\n",
       "                        <td id=\"T_492e375e_324c_11eb_a3d0_02cba411ec9drow139_col0\" class=\"data row139 col0\" >2020-04-23</td>\n",
       "                        <td id=\"T_492e375e_324c_11eb_a3d0_02cba411ec9drow139_col1\" class=\"data row139 col1\" >0.000100</td>\n",
       "                        <td id=\"T_492e375e_324c_11eb_a3d0_02cba411ec9drow139_col2\" class=\"data row139 col2\" >2020-04-24</td>\n",
       "            </tr>\n",
       "            <tr>\n",
       "                        <th id=\"T_492e375e_324c_11eb_a3d0_02cba411ec9dlevel0_row140\" class=\"row_heading level0 row140\" >129</th>\n",
       "                        <td id=\"T_492e375e_324c_11eb_a3d0_02cba411ec9drow140_col0\" class=\"data row140 col0\" >2020-04-24</td>\n",
       "                        <td id=\"T_492e375e_324c_11eb_a3d0_02cba411ec9drow140_col1\" class=\"data row140 col1\" >0.000300</td>\n",
       "                        <td id=\"T_492e375e_324c_11eb_a3d0_02cba411ec9drow140_col2\" class=\"data row140 col2\" >2020-04-27</td>\n",
       "            </tr>\n",
       "            <tr>\n",
       "                        <th id=\"T_492e375e_324c_11eb_a3d0_02cba411ec9dlevel0_row141\" class=\"row_heading level0 row141\" >128</th>\n",
       "                        <td id=\"T_492e375e_324c_11eb_a3d0_02cba411ec9drow141_col0\" class=\"data row141 col0\" >2020-04-27</td>\n",
       "                        <td id=\"T_492e375e_324c_11eb_a3d0_02cba411ec9drow141_col1\" class=\"data row141 col1\" >0.000300</td>\n",
       "                        <td id=\"T_492e375e_324c_11eb_a3d0_02cba411ec9drow141_col2\" class=\"data row141 col2\" >2020-04-28</td>\n",
       "            </tr>\n",
       "            <tr>\n",
       "                        <th id=\"T_492e375e_324c_11eb_a3d0_02cba411ec9dlevel0_row142\" class=\"row_heading level0 row142\" >127</th>\n",
       "                        <td id=\"T_492e375e_324c_11eb_a3d0_02cba411ec9drow142_col0\" class=\"data row142 col0\" >2020-04-28</td>\n",
       "                        <td id=\"T_492e375e_324c_11eb_a3d0_02cba411ec9drow142_col1\" class=\"data row142 col1\" >0.000100</td>\n",
       "                        <td id=\"T_492e375e_324c_11eb_a3d0_02cba411ec9drow142_col2\" class=\"data row142 col2\" >2020-04-29</td>\n",
       "            </tr>\n",
       "            <tr>\n",
       "                        <th id=\"T_492e375e_324c_11eb_a3d0_02cba411ec9dlevel0_row143\" class=\"row_heading level0 row143\" >126</th>\n",
       "                        <td id=\"T_492e375e_324c_11eb_a3d0_02cba411ec9drow143_col0\" class=\"data row143 col0\" >2020-04-29</td>\n",
       "                        <td id=\"T_492e375e_324c_11eb_a3d0_02cba411ec9drow143_col1\" class=\"data row143 col1\" >0.000100</td>\n",
       "                        <td id=\"T_492e375e_324c_11eb_a3d0_02cba411ec9drow143_col2\" class=\"data row143 col2\" >2020-04-30</td>\n",
       "            </tr>\n",
       "            <tr>\n",
       "                        <th id=\"T_492e375e_324c_11eb_a3d0_02cba411ec9dlevel0_row144\" class=\"row_heading level0 row144\" >125</th>\n",
       "                        <td id=\"T_492e375e_324c_11eb_a3d0_02cba411ec9drow144_col0\" class=\"data row144 col0\" >2020-04-30</td>\n",
       "                        <td id=\"T_492e375e_324c_11eb_a3d0_02cba411ec9drow144_col1\" class=\"data row144 col1\" >0.000400</td>\n",
       "                        <td id=\"T_492e375e_324c_11eb_a3d0_02cba411ec9drow144_col2\" class=\"data row144 col2\" >2020-05-01</td>\n",
       "            </tr>\n",
       "            <tr>\n",
       "                        <th id=\"T_492e375e_324c_11eb_a3d0_02cba411ec9dlevel0_row145\" class=\"row_heading level0 row145\" >124</th>\n",
       "                        <td id=\"T_492e375e_324c_11eb_a3d0_02cba411ec9drow145_col0\" class=\"data row145 col0\" >2020-05-01</td>\n",
       "                        <td id=\"T_492e375e_324c_11eb_a3d0_02cba411ec9drow145_col1\" class=\"data row145 col1\" >0.000300</td>\n",
       "                        <td id=\"T_492e375e_324c_11eb_a3d0_02cba411ec9drow145_col2\" class=\"data row145 col2\" >2020-05-04</td>\n",
       "            </tr>\n",
       "            <tr>\n",
       "                        <th id=\"T_492e375e_324c_11eb_a3d0_02cba411ec9dlevel0_row146\" class=\"row_heading level0 row146\" >123</th>\n",
       "                        <td id=\"T_492e375e_324c_11eb_a3d0_02cba411ec9drow146_col0\" class=\"data row146 col0\" >2020-05-04</td>\n",
       "                        <td id=\"T_492e375e_324c_11eb_a3d0_02cba411ec9drow146_col1\" class=\"data row146 col1\" >0.000500</td>\n",
       "                        <td id=\"T_492e375e_324c_11eb_a3d0_02cba411ec9drow146_col2\" class=\"data row146 col2\" >2020-05-05</td>\n",
       "            </tr>\n",
       "            <tr>\n",
       "                        <th id=\"T_492e375e_324c_11eb_a3d0_02cba411ec9dlevel0_row147\" class=\"row_heading level0 row147\" >122</th>\n",
       "                        <td id=\"T_492e375e_324c_11eb_a3d0_02cba411ec9drow147_col0\" class=\"data row147 col0\" >2020-05-05</td>\n",
       "                        <td id=\"T_492e375e_324c_11eb_a3d0_02cba411ec9drow147_col1\" class=\"data row147 col1\" >0.000500</td>\n",
       "                        <td id=\"T_492e375e_324c_11eb_a3d0_02cba411ec9drow147_col2\" class=\"data row147 col2\" >2020-05-06</td>\n",
       "            </tr>\n",
       "            <tr>\n",
       "                        <th id=\"T_492e375e_324c_11eb_a3d0_02cba411ec9dlevel0_row148\" class=\"row_heading level0 row148\" >121</th>\n",
       "                        <td id=\"T_492e375e_324c_11eb_a3d0_02cba411ec9drow148_col0\" class=\"data row148 col0\" >2020-05-06</td>\n",
       "                        <td id=\"T_492e375e_324c_11eb_a3d0_02cba411ec9drow148_col1\" class=\"data row148 col1\" >0.000500</td>\n",
       "                        <td id=\"T_492e375e_324c_11eb_a3d0_02cba411ec9drow148_col2\" class=\"data row148 col2\" >2020-05-07</td>\n",
       "            </tr>\n",
       "            <tr>\n",
       "                        <th id=\"T_492e375e_324c_11eb_a3d0_02cba411ec9dlevel0_row149\" class=\"row_heading level0 row149\" >120</th>\n",
       "                        <td id=\"T_492e375e_324c_11eb_a3d0_02cba411ec9drow149_col0\" class=\"data row149 col0\" >2020-05-07</td>\n",
       "                        <td id=\"T_492e375e_324c_11eb_a3d0_02cba411ec9drow149_col1\" class=\"data row149 col1\" >0.000500</td>\n",
       "                        <td id=\"T_492e375e_324c_11eb_a3d0_02cba411ec9drow149_col2\" class=\"data row149 col2\" >2020-05-08</td>\n",
       "            </tr>\n",
       "            <tr>\n",
       "                        <th id=\"T_492e375e_324c_11eb_a3d0_02cba411ec9dlevel0_row150\" class=\"row_heading level0 row150\" >119</th>\n",
       "                        <td id=\"T_492e375e_324c_11eb_a3d0_02cba411ec9drow150_col0\" class=\"data row150 col0\" >2020-05-08</td>\n",
       "                        <td id=\"T_492e375e_324c_11eb_a3d0_02cba411ec9drow150_col1\" class=\"data row150 col1\" >0.000600</td>\n",
       "                        <td id=\"T_492e375e_324c_11eb_a3d0_02cba411ec9drow150_col2\" class=\"data row150 col2\" >2020-05-11</td>\n",
       "            </tr>\n",
       "            <tr>\n",
       "                        <th id=\"T_492e375e_324c_11eb_a3d0_02cba411ec9dlevel0_row151\" class=\"row_heading level0 row151\" >118</th>\n",
       "                        <td id=\"T_492e375e_324c_11eb_a3d0_02cba411ec9drow151_col0\" class=\"data row151 col0\" >2020-05-11</td>\n",
       "                        <td id=\"T_492e375e_324c_11eb_a3d0_02cba411ec9drow151_col1\" class=\"data row151 col1\" >0.000600</td>\n",
       "                        <td id=\"T_492e375e_324c_11eb_a3d0_02cba411ec9drow151_col2\" class=\"data row151 col2\" >2020-05-12</td>\n",
       "            </tr>\n",
       "            <tr>\n",
       "                        <th id=\"T_492e375e_324c_11eb_a3d0_02cba411ec9dlevel0_row152\" class=\"row_heading level0 row152\" >117</th>\n",
       "                        <td id=\"T_492e375e_324c_11eb_a3d0_02cba411ec9drow152_col0\" class=\"data row152 col0\" >2020-05-12</td>\n",
       "                        <td id=\"T_492e375e_324c_11eb_a3d0_02cba411ec9drow152_col1\" class=\"data row152 col1\" >0.000600</td>\n",
       "                        <td id=\"T_492e375e_324c_11eb_a3d0_02cba411ec9drow152_col2\" class=\"data row152 col2\" >2020-05-13</td>\n",
       "            </tr>\n",
       "            <tr>\n",
       "                        <th id=\"T_492e375e_324c_11eb_a3d0_02cba411ec9dlevel0_row153\" class=\"row_heading level0 row153\" >116</th>\n",
       "                        <td id=\"T_492e375e_324c_11eb_a3d0_02cba411ec9drow153_col0\" class=\"data row153 col0\" >2020-05-13</td>\n",
       "                        <td id=\"T_492e375e_324c_11eb_a3d0_02cba411ec9drow153_col1\" class=\"data row153 col1\" >0.000400</td>\n",
       "                        <td id=\"T_492e375e_324c_11eb_a3d0_02cba411ec9drow153_col2\" class=\"data row153 col2\" >2020-05-14</td>\n",
       "            </tr>\n",
       "            <tr>\n",
       "                        <th id=\"T_492e375e_324c_11eb_a3d0_02cba411ec9dlevel0_row154\" class=\"row_heading level0 row154\" >115</th>\n",
       "                        <td id=\"T_492e375e_324c_11eb_a3d0_02cba411ec9drow154_col0\" class=\"data row154 col0\" >2020-05-14</td>\n",
       "                        <td id=\"T_492e375e_324c_11eb_a3d0_02cba411ec9drow154_col1\" class=\"data row154 col1\" >0.000200</td>\n",
       "                        <td id=\"T_492e375e_324c_11eb_a3d0_02cba411ec9drow154_col2\" class=\"data row154 col2\" >2020-05-15</td>\n",
       "            </tr>\n",
       "            <tr>\n",
       "                        <th id=\"T_492e375e_324c_11eb_a3d0_02cba411ec9dlevel0_row155\" class=\"row_heading level0 row155\" >114</th>\n",
       "                        <td id=\"T_492e375e_324c_11eb_a3d0_02cba411ec9drow155_col0\" class=\"data row155 col0\" >2020-05-15</td>\n",
       "                        <td id=\"T_492e375e_324c_11eb_a3d0_02cba411ec9drow155_col1\" class=\"data row155 col1\" >0.000500</td>\n",
       "                        <td id=\"T_492e375e_324c_11eb_a3d0_02cba411ec9drow155_col2\" class=\"data row155 col2\" >2020-05-18</td>\n",
       "            </tr>\n",
       "            <tr>\n",
       "                        <th id=\"T_492e375e_324c_11eb_a3d0_02cba411ec9dlevel0_row156\" class=\"row_heading level0 row156\" >113</th>\n",
       "                        <td id=\"T_492e375e_324c_11eb_a3d0_02cba411ec9drow156_col0\" class=\"data row156 col0\" >2020-05-18</td>\n",
       "                        <td id=\"T_492e375e_324c_11eb_a3d0_02cba411ec9drow156_col1\" class=\"data row156 col1\" >0.000400</td>\n",
       "                        <td id=\"T_492e375e_324c_11eb_a3d0_02cba411ec9drow156_col2\" class=\"data row156 col2\" >2020-05-19</td>\n",
       "            </tr>\n",
       "            <tr>\n",
       "                        <th id=\"T_492e375e_324c_11eb_a3d0_02cba411ec9dlevel0_row157\" class=\"row_heading level0 row157\" >112</th>\n",
       "                        <td id=\"T_492e375e_324c_11eb_a3d0_02cba411ec9drow157_col0\" class=\"data row157 col0\" >2020-05-19</td>\n",
       "                        <td id=\"T_492e375e_324c_11eb_a3d0_02cba411ec9drow157_col1\" class=\"data row157 col1\" >0.000400</td>\n",
       "                        <td id=\"T_492e375e_324c_11eb_a3d0_02cba411ec9drow157_col2\" class=\"data row157 col2\" >2020-05-20</td>\n",
       "            </tr>\n",
       "            <tr>\n",
       "                        <th id=\"T_492e375e_324c_11eb_a3d0_02cba411ec9dlevel0_row158\" class=\"row_heading level0 row158\" >111</th>\n",
       "                        <td id=\"T_492e375e_324c_11eb_a3d0_02cba411ec9drow158_col0\" class=\"data row158 col0\" >2020-05-20</td>\n",
       "                        <td id=\"T_492e375e_324c_11eb_a3d0_02cba411ec9drow158_col1\" class=\"data row158 col1\" >0.000100</td>\n",
       "                        <td id=\"T_492e375e_324c_11eb_a3d0_02cba411ec9drow158_col2\" class=\"data row158 col2\" >2020-05-21</td>\n",
       "            </tr>\n",
       "            <tr>\n",
       "                        <th id=\"T_492e375e_324c_11eb_a3d0_02cba411ec9dlevel0_row159\" class=\"row_heading level0 row159\" >110</th>\n",
       "                        <td id=\"T_492e375e_324c_11eb_a3d0_02cba411ec9drow159_col0\" class=\"data row159 col0\" >2020-05-21</td>\n",
       "                        <td id=\"T_492e375e_324c_11eb_a3d0_02cba411ec9drow159_col1\" class=\"data row159 col1\" >0.000200</td>\n",
       "                        <td id=\"T_492e375e_324c_11eb_a3d0_02cba411ec9drow159_col2\" class=\"data row159 col2\" >2020-05-22</td>\n",
       "            </tr>\n",
       "            <tr>\n",
       "                        <th id=\"T_492e375e_324c_11eb_a3d0_02cba411ec9dlevel0_row160\" class=\"row_heading level0 row160\" >109</th>\n",
       "                        <td id=\"T_492e375e_324c_11eb_a3d0_02cba411ec9drow160_col0\" class=\"data row160 col0\" >2020-05-22</td>\n",
       "                        <td id=\"T_492e375e_324c_11eb_a3d0_02cba411ec9drow160_col1\" class=\"data row160 col1\" >0.000400</td>\n",
       "                        <td id=\"T_492e375e_324c_11eb_a3d0_02cba411ec9drow160_col2\" class=\"data row160 col2\" >2020-05-26</td>\n",
       "            </tr>\n",
       "            <tr>\n",
       "                        <th id=\"T_492e375e_324c_11eb_a3d0_02cba411ec9dlevel0_row161\" class=\"row_heading level0 row161\" >108</th>\n",
       "                        <td id=\"T_492e375e_324c_11eb_a3d0_02cba411ec9drow161_col0\" class=\"data row161 col0\" >2020-05-26</td>\n",
       "                        <td id=\"T_492e375e_324c_11eb_a3d0_02cba411ec9drow161_col1\" class=\"data row161 col1\" >0.000600</td>\n",
       "                        <td id=\"T_492e375e_324c_11eb_a3d0_02cba411ec9drow161_col2\" class=\"data row161 col2\" >2020-05-27</td>\n",
       "            </tr>\n",
       "            <tr>\n",
       "                        <th id=\"T_492e375e_324c_11eb_a3d0_02cba411ec9dlevel0_row162\" class=\"row_heading level0 row162\" >107</th>\n",
       "                        <td id=\"T_492e375e_324c_11eb_a3d0_02cba411ec9drow162_col0\" class=\"data row162 col0\" >2020-05-27</td>\n",
       "                        <td id=\"T_492e375e_324c_11eb_a3d0_02cba411ec9drow162_col1\" class=\"data row162 col1\" >0.000600</td>\n",
       "                        <td id=\"T_492e375e_324c_11eb_a3d0_02cba411ec9drow162_col2\" class=\"data row162 col2\" >2020-05-28</td>\n",
       "            </tr>\n",
       "            <tr>\n",
       "                        <th id=\"T_492e375e_324c_11eb_a3d0_02cba411ec9dlevel0_row163\" class=\"row_heading level0 row163\" >106</th>\n",
       "                        <td id=\"T_492e375e_324c_11eb_a3d0_02cba411ec9drow163_col0\" class=\"data row163 col0\" >2020-05-28</td>\n",
       "                        <td id=\"T_492e375e_324c_11eb_a3d0_02cba411ec9drow163_col1\" class=\"data row163 col1\" >0.000600</td>\n",
       "                        <td id=\"T_492e375e_324c_11eb_a3d0_02cba411ec9drow163_col2\" class=\"data row163 col2\" >2020-05-29</td>\n",
       "            </tr>\n",
       "            <tr>\n",
       "                        <th id=\"T_492e375e_324c_11eb_a3d0_02cba411ec9dlevel0_row164\" class=\"row_heading level0 row164\" >105</th>\n",
       "                        <td id=\"T_492e375e_324c_11eb_a3d0_02cba411ec9drow164_col0\" class=\"data row164 col0\" >2020-05-29</td>\n",
       "                        <td id=\"T_492e375e_324c_11eb_a3d0_02cba411ec9drow164_col1\" class=\"data row164 col1\" >0.000600</td>\n",
       "                        <td id=\"T_492e375e_324c_11eb_a3d0_02cba411ec9drow164_col2\" class=\"data row164 col2\" >2020-06-01</td>\n",
       "            </tr>\n",
       "            <tr>\n",
       "                        <th id=\"T_492e375e_324c_11eb_a3d0_02cba411ec9dlevel0_row165\" class=\"row_heading level0 row165\" >104</th>\n",
       "                        <td id=\"T_492e375e_324c_11eb_a3d0_02cba411ec9drow165_col0\" class=\"data row165 col0\" >2020-06-01</td>\n",
       "                        <td id=\"T_492e375e_324c_11eb_a3d0_02cba411ec9drow165_col1\" class=\"data row165 col1\" >0.000600</td>\n",
       "                        <td id=\"T_492e375e_324c_11eb_a3d0_02cba411ec9drow165_col2\" class=\"data row165 col2\" >2020-06-02</td>\n",
       "            </tr>\n",
       "            <tr>\n",
       "                        <th id=\"T_492e375e_324c_11eb_a3d0_02cba411ec9dlevel0_row166\" class=\"row_heading level0 row166\" >103</th>\n",
       "                        <td id=\"T_492e375e_324c_11eb_a3d0_02cba411ec9drow166_col0\" class=\"data row166 col0\" >2020-06-02</td>\n",
       "                        <td id=\"T_492e375e_324c_11eb_a3d0_02cba411ec9drow166_col1\" class=\"data row166 col1\" >0.000700</td>\n",
       "                        <td id=\"T_492e375e_324c_11eb_a3d0_02cba411ec9drow166_col2\" class=\"data row166 col2\" >2020-06-03</td>\n",
       "            </tr>\n",
       "            <tr>\n",
       "                        <th id=\"T_492e375e_324c_11eb_a3d0_02cba411ec9dlevel0_row167\" class=\"row_heading level0 row167\" >102</th>\n",
       "                        <td id=\"T_492e375e_324c_11eb_a3d0_02cba411ec9drow167_col0\" class=\"data row167 col0\" >2020-06-03</td>\n",
       "                        <td id=\"T_492e375e_324c_11eb_a3d0_02cba411ec9drow167_col1\" class=\"data row167 col1\" >0.000600</td>\n",
       "                        <td id=\"T_492e375e_324c_11eb_a3d0_02cba411ec9drow167_col2\" class=\"data row167 col2\" >2020-06-04</td>\n",
       "            </tr>\n",
       "            <tr>\n",
       "                        <th id=\"T_492e375e_324c_11eb_a3d0_02cba411ec9dlevel0_row168\" class=\"row_heading level0 row168\" >101</th>\n",
       "                        <td id=\"T_492e375e_324c_11eb_a3d0_02cba411ec9drow168_col0\" class=\"data row168 col0\" >2020-06-04</td>\n",
       "                        <td id=\"T_492e375e_324c_11eb_a3d0_02cba411ec9drow168_col1\" class=\"data row168 col1\" >0.000700</td>\n",
       "                        <td id=\"T_492e375e_324c_11eb_a3d0_02cba411ec9drow168_col2\" class=\"data row168 col2\" >2020-06-05</td>\n",
       "            </tr>\n",
       "            <tr>\n",
       "                        <th id=\"T_492e375e_324c_11eb_a3d0_02cba411ec9dlevel0_row169\" class=\"row_heading level0 row169\" >100</th>\n",
       "                        <td id=\"T_492e375e_324c_11eb_a3d0_02cba411ec9drow169_col0\" class=\"data row169 col0\" >2020-06-05</td>\n",
       "                        <td id=\"T_492e375e_324c_11eb_a3d0_02cba411ec9drow169_col1\" class=\"data row169 col1\" >0.000700</td>\n",
       "                        <td id=\"T_492e375e_324c_11eb_a3d0_02cba411ec9drow169_col2\" class=\"data row169 col2\" >2020-06-08</td>\n",
       "            </tr>\n",
       "            <tr>\n",
       "                        <th id=\"T_492e375e_324c_11eb_a3d0_02cba411ec9dlevel0_row170\" class=\"row_heading level0 row170\" >99</th>\n",
       "                        <td id=\"T_492e375e_324c_11eb_a3d0_02cba411ec9drow170_col0\" class=\"data row170 col0\" >2020-06-08</td>\n",
       "                        <td id=\"T_492e375e_324c_11eb_a3d0_02cba411ec9drow170_col1\" class=\"data row170 col1\" >0.000700</td>\n",
       "                        <td id=\"T_492e375e_324c_11eb_a3d0_02cba411ec9drow170_col2\" class=\"data row170 col2\" >2020-06-09</td>\n",
       "            </tr>\n",
       "            <tr>\n",
       "                        <th id=\"T_492e375e_324c_11eb_a3d0_02cba411ec9dlevel0_row171\" class=\"row_heading level0 row171\" >98</th>\n",
       "                        <td id=\"T_492e375e_324c_11eb_a3d0_02cba411ec9drow171_col0\" class=\"data row171 col0\" >2020-06-09</td>\n",
       "                        <td id=\"T_492e375e_324c_11eb_a3d0_02cba411ec9drow171_col1\" class=\"data row171 col1\" >0.000800</td>\n",
       "                        <td id=\"T_492e375e_324c_11eb_a3d0_02cba411ec9drow171_col2\" class=\"data row171 col2\" >2020-06-10</td>\n",
       "            </tr>\n",
       "            <tr>\n",
       "                        <th id=\"T_492e375e_324c_11eb_a3d0_02cba411ec9dlevel0_row172\" class=\"row_heading level0 row172\" >97</th>\n",
       "                        <td id=\"T_492e375e_324c_11eb_a3d0_02cba411ec9drow172_col0\" class=\"data row172 col0\" >2020-06-10</td>\n",
       "                        <td id=\"T_492e375e_324c_11eb_a3d0_02cba411ec9drow172_col1\" class=\"data row172 col1\" >0.000700</td>\n",
       "                        <td id=\"T_492e375e_324c_11eb_a3d0_02cba411ec9drow172_col2\" class=\"data row172 col2\" >2020-06-11</td>\n",
       "            </tr>\n",
       "            <tr>\n",
       "                        <th id=\"T_492e375e_324c_11eb_a3d0_02cba411ec9dlevel0_row173\" class=\"row_heading level0 row173\" >96</th>\n",
       "                        <td id=\"T_492e375e_324c_11eb_a3d0_02cba411ec9drow173_col0\" class=\"data row173 col0\" >2020-06-11</td>\n",
       "                        <td id=\"T_492e375e_324c_11eb_a3d0_02cba411ec9drow173_col1\" class=\"data row173 col1\" >0.000800</td>\n",
       "                        <td id=\"T_492e375e_324c_11eb_a3d0_02cba411ec9drow173_col2\" class=\"data row173 col2\" >2020-06-12</td>\n",
       "            </tr>\n",
       "            <tr>\n",
       "                        <th id=\"T_492e375e_324c_11eb_a3d0_02cba411ec9dlevel0_row174\" class=\"row_heading level0 row174\" >95</th>\n",
       "                        <td id=\"T_492e375e_324c_11eb_a3d0_02cba411ec9drow174_col0\" class=\"data row174 col0\" >2020-06-12</td>\n",
       "                        <td id=\"T_492e375e_324c_11eb_a3d0_02cba411ec9drow174_col1\" class=\"data row174 col1\" >0.000800</td>\n",
       "                        <td id=\"T_492e375e_324c_11eb_a3d0_02cba411ec9drow174_col2\" class=\"data row174 col2\" >2020-06-15</td>\n",
       "            </tr>\n",
       "            <tr>\n",
       "                        <th id=\"T_492e375e_324c_11eb_a3d0_02cba411ec9dlevel0_row175\" class=\"row_heading level0 row175\" >94</th>\n",
       "                        <td id=\"T_492e375e_324c_11eb_a3d0_02cba411ec9drow175_col0\" class=\"data row175 col0\" >2020-06-15</td>\n",
       "                        <td id=\"T_492e375e_324c_11eb_a3d0_02cba411ec9drow175_col1\" class=\"data row175 col1\" >0.000900</td>\n",
       "                        <td id=\"T_492e375e_324c_11eb_a3d0_02cba411ec9drow175_col2\" class=\"data row175 col2\" >2020-06-16</td>\n",
       "            </tr>\n",
       "            <tr>\n",
       "                        <th id=\"T_492e375e_324c_11eb_a3d0_02cba411ec9dlevel0_row176\" class=\"row_heading level0 row176\" >93</th>\n",
       "                        <td id=\"T_492e375e_324c_11eb_a3d0_02cba411ec9drow176_col0\" class=\"data row176 col0\" >2020-06-16</td>\n",
       "                        <td id=\"T_492e375e_324c_11eb_a3d0_02cba411ec9drow176_col1\" class=\"data row176 col1\" >0.000900</td>\n",
       "                        <td id=\"T_492e375e_324c_11eb_a3d0_02cba411ec9drow176_col2\" class=\"data row176 col2\" >2020-06-17</td>\n",
       "            </tr>\n",
       "            <tr>\n",
       "                        <th id=\"T_492e375e_324c_11eb_a3d0_02cba411ec9dlevel0_row177\" class=\"row_heading level0 row177\" >92</th>\n",
       "                        <td id=\"T_492e375e_324c_11eb_a3d0_02cba411ec9drow177_col0\" class=\"data row177 col0\" >2020-06-17</td>\n",
       "                        <td id=\"T_492e375e_324c_11eb_a3d0_02cba411ec9drow177_col1\" class=\"data row177 col1\" >0.000900</td>\n",
       "                        <td id=\"T_492e375e_324c_11eb_a3d0_02cba411ec9drow177_col2\" class=\"data row177 col2\" >2020-06-18</td>\n",
       "            </tr>\n",
       "            <tr>\n",
       "                        <th id=\"T_492e375e_324c_11eb_a3d0_02cba411ec9dlevel0_row178\" class=\"row_heading level0 row178\" >91</th>\n",
       "                        <td id=\"T_492e375e_324c_11eb_a3d0_02cba411ec9drow178_col0\" class=\"data row178 col0\" >2020-06-18</td>\n",
       "                        <td id=\"T_492e375e_324c_11eb_a3d0_02cba411ec9drow178_col1\" class=\"data row178 col1\" >0.000900</td>\n",
       "                        <td id=\"T_492e375e_324c_11eb_a3d0_02cba411ec9drow178_col2\" class=\"data row178 col2\" >2020-06-19</td>\n",
       "            </tr>\n",
       "            <tr>\n",
       "                        <th id=\"T_492e375e_324c_11eb_a3d0_02cba411ec9dlevel0_row179\" class=\"row_heading level0 row179\" >90</th>\n",
       "                        <td id=\"T_492e375e_324c_11eb_a3d0_02cba411ec9drow179_col0\" class=\"data row179 col0\" >2020-06-19</td>\n",
       "                        <td id=\"T_492e375e_324c_11eb_a3d0_02cba411ec9drow179_col1\" class=\"data row179 col1\" >0.000900</td>\n",
       "                        <td id=\"T_492e375e_324c_11eb_a3d0_02cba411ec9drow179_col2\" class=\"data row179 col2\" >2020-06-22</td>\n",
       "            </tr>\n",
       "            <tr>\n",
       "                        <th id=\"T_492e375e_324c_11eb_a3d0_02cba411ec9dlevel0_row180\" class=\"row_heading level0 row180\" >89</th>\n",
       "                        <td id=\"T_492e375e_324c_11eb_a3d0_02cba411ec9drow180_col0\" class=\"data row180 col0\" >2020-06-22</td>\n",
       "                        <td id=\"T_492e375e_324c_11eb_a3d0_02cba411ec9drow180_col1\" class=\"data row180 col1\" >0.000800</td>\n",
       "                        <td id=\"T_492e375e_324c_11eb_a3d0_02cba411ec9drow180_col2\" class=\"data row180 col2\" >2020-06-23</td>\n",
       "            </tr>\n",
       "            <tr>\n",
       "                        <th id=\"T_492e375e_324c_11eb_a3d0_02cba411ec9dlevel0_row181\" class=\"row_heading level0 row181\" >88</th>\n",
       "                        <td id=\"T_492e375e_324c_11eb_a3d0_02cba411ec9drow181_col0\" class=\"data row181 col0\" >2020-06-23</td>\n",
       "                        <td id=\"T_492e375e_324c_11eb_a3d0_02cba411ec9drow181_col1\" class=\"data row181 col1\" >0.000700</td>\n",
       "                        <td id=\"T_492e375e_324c_11eb_a3d0_02cba411ec9drow181_col2\" class=\"data row181 col2\" >2020-06-24</td>\n",
       "            </tr>\n",
       "            <tr>\n",
       "                        <th id=\"T_492e375e_324c_11eb_a3d0_02cba411ec9dlevel0_row182\" class=\"row_heading level0 row182\" >87</th>\n",
       "                        <td id=\"T_492e375e_324c_11eb_a3d0_02cba411ec9drow182_col0\" class=\"data row182 col0\" >2020-06-24</td>\n",
       "                        <td id=\"T_492e375e_324c_11eb_a3d0_02cba411ec9drow182_col1\" class=\"data row182 col1\" >0.000800</td>\n",
       "                        <td id=\"T_492e375e_324c_11eb_a3d0_02cba411ec9drow182_col2\" class=\"data row182 col2\" >2020-06-25</td>\n",
       "            </tr>\n",
       "            <tr>\n",
       "                        <th id=\"T_492e375e_324c_11eb_a3d0_02cba411ec9dlevel0_row183\" class=\"row_heading level0 row183\" >86</th>\n",
       "                        <td id=\"T_492e375e_324c_11eb_a3d0_02cba411ec9drow183_col0\" class=\"data row183 col0\" >2020-06-25</td>\n",
       "                        <td id=\"T_492e375e_324c_11eb_a3d0_02cba411ec9drow183_col1\" class=\"data row183 col1\" >0.000900</td>\n",
       "                        <td id=\"T_492e375e_324c_11eb_a3d0_02cba411ec9drow183_col2\" class=\"data row183 col2\" >2020-06-26</td>\n",
       "            </tr>\n",
       "            <tr>\n",
       "                        <th id=\"T_492e375e_324c_11eb_a3d0_02cba411ec9dlevel0_row184\" class=\"row_heading level0 row184\" >85</th>\n",
       "                        <td id=\"T_492e375e_324c_11eb_a3d0_02cba411ec9drow184_col0\" class=\"data row184 col0\" >2020-06-26</td>\n",
       "                        <td id=\"T_492e375e_324c_11eb_a3d0_02cba411ec9drow184_col1\" class=\"data row184 col1\" >0.000800</td>\n",
       "                        <td id=\"T_492e375e_324c_11eb_a3d0_02cba411ec9drow184_col2\" class=\"data row184 col2\" >2020-06-29</td>\n",
       "            </tr>\n",
       "            <tr>\n",
       "                        <th id=\"T_492e375e_324c_11eb_a3d0_02cba411ec9dlevel0_row185\" class=\"row_heading level0 row185\" >84</th>\n",
       "                        <td id=\"T_492e375e_324c_11eb_a3d0_02cba411ec9drow185_col0\" class=\"data row185 col0\" >2020-06-29</td>\n",
       "                        <td id=\"T_492e375e_324c_11eb_a3d0_02cba411ec9drow185_col1\" class=\"data row185 col1\" >0.000800</td>\n",
       "                        <td id=\"T_492e375e_324c_11eb_a3d0_02cba411ec9drow185_col2\" class=\"data row185 col2\" >2020-06-30</td>\n",
       "            </tr>\n",
       "            <tr>\n",
       "                        <th id=\"T_492e375e_324c_11eb_a3d0_02cba411ec9dlevel0_row186\" class=\"row_heading level0 row186\" >83</th>\n",
       "                        <td id=\"T_492e375e_324c_11eb_a3d0_02cba411ec9drow186_col0\" class=\"data row186 col0\" >2020-06-30</td>\n",
       "                        <td id=\"T_492e375e_324c_11eb_a3d0_02cba411ec9drow186_col1\" class=\"data row186 col1\" >0.001000</td>\n",
       "                        <td id=\"T_492e375e_324c_11eb_a3d0_02cba411ec9drow186_col2\" class=\"data row186 col2\" >2020-07-01</td>\n",
       "            </tr>\n",
       "            <tr>\n",
       "                        <th id=\"T_492e375e_324c_11eb_a3d0_02cba411ec9dlevel0_row187\" class=\"row_heading level0 row187\" >82</th>\n",
       "                        <td id=\"T_492e375e_324c_11eb_a3d0_02cba411ec9drow187_col0\" class=\"data row187 col0\" >2020-07-01</td>\n",
       "                        <td id=\"T_492e375e_324c_11eb_a3d0_02cba411ec9drow187_col1\" class=\"data row187 col1\" >0.001100</td>\n",
       "                        <td id=\"T_492e375e_324c_11eb_a3d0_02cba411ec9drow187_col2\" class=\"data row187 col2\" >2020-07-02</td>\n",
       "            </tr>\n",
       "            <tr>\n",
       "                        <th id=\"T_492e375e_324c_11eb_a3d0_02cba411ec9dlevel0_row188\" class=\"row_heading level0 row188\" >81</th>\n",
       "                        <td id=\"T_492e375e_324c_11eb_a3d0_02cba411ec9drow188_col0\" class=\"data row188 col0\" >2020-07-02</td>\n",
       "                        <td id=\"T_492e375e_324c_11eb_a3d0_02cba411ec9drow188_col1\" class=\"data row188 col1\" >0.001100</td>\n",
       "                        <td id=\"T_492e375e_324c_11eb_a3d0_02cba411ec9drow188_col2\" class=\"data row188 col2\" >2020-07-06</td>\n",
       "            </tr>\n",
       "            <tr>\n",
       "                        <th id=\"T_492e375e_324c_11eb_a3d0_02cba411ec9dlevel0_row189\" class=\"row_heading level0 row189\" >80</th>\n",
       "                        <td id=\"T_492e375e_324c_11eb_a3d0_02cba411ec9drow189_col0\" class=\"data row189 col0\" >2020-07-06</td>\n",
       "                        <td id=\"T_492e375e_324c_11eb_a3d0_02cba411ec9drow189_col1\" class=\"data row189 col1\" >0.001000</td>\n",
       "                        <td id=\"T_492e375e_324c_11eb_a3d0_02cba411ec9drow189_col2\" class=\"data row189 col2\" >2020-07-07</td>\n",
       "            </tr>\n",
       "            <tr>\n",
       "                        <th id=\"T_492e375e_324c_11eb_a3d0_02cba411ec9dlevel0_row190\" class=\"row_heading level0 row190\" >79</th>\n",
       "                        <td id=\"T_492e375e_324c_11eb_a3d0_02cba411ec9drow190_col0\" class=\"data row190 col0\" >2020-07-07</td>\n",
       "                        <td id=\"T_492e375e_324c_11eb_a3d0_02cba411ec9drow190_col1\" class=\"data row190 col1\" >0.001000</td>\n",
       "                        <td id=\"T_492e375e_324c_11eb_a3d0_02cba411ec9drow190_col2\" class=\"data row190 col2\" >2020-07-08</td>\n",
       "            </tr>\n",
       "            <tr>\n",
       "                        <th id=\"T_492e375e_324c_11eb_a3d0_02cba411ec9dlevel0_row191\" class=\"row_heading level0 row191\" >78</th>\n",
       "                        <td id=\"T_492e375e_324c_11eb_a3d0_02cba411ec9drow191_col0\" class=\"data row191 col0\" >2020-07-08</td>\n",
       "                        <td id=\"T_492e375e_324c_11eb_a3d0_02cba411ec9drow191_col1\" class=\"data row191 col1\" >0.001000</td>\n",
       "                        <td id=\"T_492e375e_324c_11eb_a3d0_02cba411ec9drow191_col2\" class=\"data row191 col2\" >2020-07-09</td>\n",
       "            </tr>\n",
       "            <tr>\n",
       "                        <th id=\"T_492e375e_324c_11eb_a3d0_02cba411ec9dlevel0_row192\" class=\"row_heading level0 row192\" >77</th>\n",
       "                        <td id=\"T_492e375e_324c_11eb_a3d0_02cba411ec9drow192_col0\" class=\"data row192 col0\" >2020-07-09</td>\n",
       "                        <td id=\"T_492e375e_324c_11eb_a3d0_02cba411ec9drow192_col1\" class=\"data row192 col1\" >0.001000</td>\n",
       "                        <td id=\"T_492e375e_324c_11eb_a3d0_02cba411ec9drow192_col2\" class=\"data row192 col2\" >2020-07-10</td>\n",
       "            </tr>\n",
       "            <tr>\n",
       "                        <th id=\"T_492e375e_324c_11eb_a3d0_02cba411ec9dlevel0_row193\" class=\"row_heading level0 row193\" >76</th>\n",
       "                        <td id=\"T_492e375e_324c_11eb_a3d0_02cba411ec9drow193_col0\" class=\"data row193 col0\" >2020-07-10</td>\n",
       "                        <td id=\"T_492e375e_324c_11eb_a3d0_02cba411ec9drow193_col1\" class=\"data row193 col1\" >0.001000</td>\n",
       "                        <td id=\"T_492e375e_324c_11eb_a3d0_02cba411ec9drow193_col2\" class=\"data row193 col2\" >2020-07-13</td>\n",
       "            </tr>\n",
       "            <tr>\n",
       "                        <th id=\"T_492e375e_324c_11eb_a3d0_02cba411ec9dlevel0_row194\" class=\"row_heading level0 row194\" >75</th>\n",
       "                        <td id=\"T_492e375e_324c_11eb_a3d0_02cba411ec9drow194_col0\" class=\"data row194 col0\" >2020-07-13</td>\n",
       "                        <td id=\"T_492e375e_324c_11eb_a3d0_02cba411ec9drow194_col1\" class=\"data row194 col1\" >0.001000</td>\n",
       "                        <td id=\"T_492e375e_324c_11eb_a3d0_02cba411ec9drow194_col2\" class=\"data row194 col2\" >2020-07-14</td>\n",
       "            </tr>\n",
       "            <tr>\n",
       "                        <th id=\"T_492e375e_324c_11eb_a3d0_02cba411ec9dlevel0_row195\" class=\"row_heading level0 row195\" >74</th>\n",
       "                        <td id=\"T_492e375e_324c_11eb_a3d0_02cba411ec9drow195_col0\" class=\"data row195 col0\" >2020-07-14</td>\n",
       "                        <td id=\"T_492e375e_324c_11eb_a3d0_02cba411ec9drow195_col1\" class=\"data row195 col1\" >0.001100</td>\n",
       "                        <td id=\"T_492e375e_324c_11eb_a3d0_02cba411ec9drow195_col2\" class=\"data row195 col2\" >2020-07-15</td>\n",
       "            </tr>\n",
       "            <tr>\n",
       "                        <th id=\"T_492e375e_324c_11eb_a3d0_02cba411ec9dlevel0_row196\" class=\"row_heading level0 row196\" >73</th>\n",
       "                        <td id=\"T_492e375e_324c_11eb_a3d0_02cba411ec9drow196_col0\" class=\"data row196 col0\" >2020-07-15</td>\n",
       "                        <td id=\"T_492e375e_324c_11eb_a3d0_02cba411ec9drow196_col1\" class=\"data row196 col1\" >0.001300</td>\n",
       "                        <td id=\"T_492e375e_324c_11eb_a3d0_02cba411ec9drow196_col2\" class=\"data row196 col2\" >2020-07-16</td>\n",
       "            </tr>\n",
       "            <tr>\n",
       "                        <th id=\"T_492e375e_324c_11eb_a3d0_02cba411ec9dlevel0_row197\" class=\"row_heading level0 row197\" >72</th>\n",
       "                        <td id=\"T_492e375e_324c_11eb_a3d0_02cba411ec9drow197_col0\" class=\"data row197 col0\" >2020-07-16</td>\n",
       "                        <td id=\"T_492e375e_324c_11eb_a3d0_02cba411ec9drow197_col1\" class=\"data row197 col1\" >0.001200</td>\n",
       "                        <td id=\"T_492e375e_324c_11eb_a3d0_02cba411ec9drow197_col2\" class=\"data row197 col2\" >2020-07-17</td>\n",
       "            </tr>\n",
       "            <tr>\n",
       "                        <th id=\"T_492e375e_324c_11eb_a3d0_02cba411ec9dlevel0_row198\" class=\"row_heading level0 row198\" >71</th>\n",
       "                        <td id=\"T_492e375e_324c_11eb_a3d0_02cba411ec9drow198_col0\" class=\"data row198 col0\" >2020-07-17</td>\n",
       "                        <td id=\"T_492e375e_324c_11eb_a3d0_02cba411ec9drow198_col1\" class=\"data row198 col1\" >0.001200</td>\n",
       "                        <td id=\"T_492e375e_324c_11eb_a3d0_02cba411ec9drow198_col2\" class=\"data row198 col2\" >2020-07-20</td>\n",
       "            </tr>\n",
       "            <tr>\n",
       "                        <th id=\"T_492e375e_324c_11eb_a3d0_02cba411ec9dlevel0_row199\" class=\"row_heading level0 row199\" >70</th>\n",
       "                        <td id=\"T_492e375e_324c_11eb_a3d0_02cba411ec9drow199_col0\" class=\"data row199 col0\" >2020-07-20</td>\n",
       "                        <td id=\"T_492e375e_324c_11eb_a3d0_02cba411ec9drow199_col1\" class=\"data row199 col1\" >0.001200</td>\n",
       "                        <td id=\"T_492e375e_324c_11eb_a3d0_02cba411ec9drow199_col2\" class=\"data row199 col2\" >2020-07-21</td>\n",
       "            </tr>\n",
       "            <tr>\n",
       "                        <th id=\"T_492e375e_324c_11eb_a3d0_02cba411ec9dlevel0_row200\" class=\"row_heading level0 row200\" >69</th>\n",
       "                        <td id=\"T_492e375e_324c_11eb_a3d0_02cba411ec9drow200_col0\" class=\"data row200 col0\" >2020-07-21</td>\n",
       "                        <td id=\"T_492e375e_324c_11eb_a3d0_02cba411ec9drow200_col1\" class=\"data row200 col1\" >0.001100</td>\n",
       "                        <td id=\"T_492e375e_324c_11eb_a3d0_02cba411ec9drow200_col2\" class=\"data row200 col2\" >2020-07-22</td>\n",
       "            </tr>\n",
       "            <tr>\n",
       "                        <th id=\"T_492e375e_324c_11eb_a3d0_02cba411ec9dlevel0_row201\" class=\"row_heading level0 row201\" >68</th>\n",
       "                        <td id=\"T_492e375e_324c_11eb_a3d0_02cba411ec9drow201_col0\" class=\"data row201 col0\" >2020-07-22</td>\n",
       "                        <td id=\"T_492e375e_324c_11eb_a3d0_02cba411ec9drow201_col1\" class=\"data row201 col1\" >0.001000</td>\n",
       "                        <td id=\"T_492e375e_324c_11eb_a3d0_02cba411ec9drow201_col2\" class=\"data row201 col2\" >2020-07-23</td>\n",
       "            </tr>\n",
       "            <tr>\n",
       "                        <th id=\"T_492e375e_324c_11eb_a3d0_02cba411ec9dlevel0_row202\" class=\"row_heading level0 row202\" >67</th>\n",
       "                        <td id=\"T_492e375e_324c_11eb_a3d0_02cba411ec9drow202_col0\" class=\"data row202 col0\" >2020-07-23</td>\n",
       "                        <td id=\"T_492e375e_324c_11eb_a3d0_02cba411ec9drow202_col1\" class=\"data row202 col1\" >0.001000</td>\n",
       "                        <td id=\"T_492e375e_324c_11eb_a3d0_02cba411ec9drow202_col2\" class=\"data row202 col2\" >2020-07-24</td>\n",
       "            </tr>\n",
       "            <tr>\n",
       "                        <th id=\"T_492e375e_324c_11eb_a3d0_02cba411ec9dlevel0_row203\" class=\"row_heading level0 row203\" >66</th>\n",
       "                        <td id=\"T_492e375e_324c_11eb_a3d0_02cba411ec9drow203_col0\" class=\"data row203 col0\" >2020-07-24</td>\n",
       "                        <td id=\"T_492e375e_324c_11eb_a3d0_02cba411ec9drow203_col1\" class=\"data row203 col1\" >0.001000</td>\n",
       "                        <td id=\"T_492e375e_324c_11eb_a3d0_02cba411ec9drow203_col2\" class=\"data row203 col2\" >2020-07-27</td>\n",
       "            </tr>\n",
       "            <tr>\n",
       "                        <th id=\"T_492e375e_324c_11eb_a3d0_02cba411ec9dlevel0_row204\" class=\"row_heading level0 row204\" >65</th>\n",
       "                        <td id=\"T_492e375e_324c_11eb_a3d0_02cba411ec9drow204_col0\" class=\"data row204 col0\" >2020-07-27</td>\n",
       "                        <td id=\"T_492e375e_324c_11eb_a3d0_02cba411ec9drow204_col1\" class=\"data row204 col1\" >0.001000</td>\n",
       "                        <td id=\"T_492e375e_324c_11eb_a3d0_02cba411ec9drow204_col2\" class=\"data row204 col2\" >2020-07-28</td>\n",
       "            </tr>\n",
       "            <tr>\n",
       "                        <th id=\"T_492e375e_324c_11eb_a3d0_02cba411ec9dlevel0_row205\" class=\"row_heading level0 row205\" >64</th>\n",
       "                        <td id=\"T_492e375e_324c_11eb_a3d0_02cba411ec9drow205_col0\" class=\"data row205 col0\" >2020-07-28</td>\n",
       "                        <td id=\"T_492e375e_324c_11eb_a3d0_02cba411ec9drow205_col1\" class=\"data row205 col1\" >0.001000</td>\n",
       "                        <td id=\"T_492e375e_324c_11eb_a3d0_02cba411ec9drow205_col2\" class=\"data row205 col2\" >2020-07-29</td>\n",
       "            </tr>\n",
       "            <tr>\n",
       "                        <th id=\"T_492e375e_324c_11eb_a3d0_02cba411ec9dlevel0_row206\" class=\"row_heading level0 row206\" >63</th>\n",
       "                        <td id=\"T_492e375e_324c_11eb_a3d0_02cba411ec9drow206_col0\" class=\"data row206 col0\" >2020-07-29</td>\n",
       "                        <td id=\"T_492e375e_324c_11eb_a3d0_02cba411ec9drow206_col1\" class=\"data row206 col1\" >0.000900</td>\n",
       "                        <td id=\"T_492e375e_324c_11eb_a3d0_02cba411ec9drow206_col2\" class=\"data row206 col2\" >2020-07-30</td>\n",
       "            </tr>\n",
       "            <tr>\n",
       "                        <th id=\"T_492e375e_324c_11eb_a3d0_02cba411ec9dlevel0_row207\" class=\"row_heading level0 row207\" >62</th>\n",
       "                        <td id=\"T_492e375e_324c_11eb_a3d0_02cba411ec9drow207_col0\" class=\"data row207 col0\" >2020-07-30</td>\n",
       "                        <td id=\"T_492e375e_324c_11eb_a3d0_02cba411ec9drow207_col1\" class=\"data row207 col1\" >0.001000</td>\n",
       "                        <td id=\"T_492e375e_324c_11eb_a3d0_02cba411ec9drow207_col2\" class=\"data row207 col2\" >2020-07-31</td>\n",
       "            </tr>\n",
       "            <tr>\n",
       "                        <th id=\"T_492e375e_324c_11eb_a3d0_02cba411ec9dlevel0_row208\" class=\"row_heading level0 row208\" >61</th>\n",
       "                        <td id=\"T_492e375e_324c_11eb_a3d0_02cba411ec9drow208_col0\" class=\"data row208 col0\" >2020-07-31</td>\n",
       "                        <td id=\"T_492e375e_324c_11eb_a3d0_02cba411ec9drow208_col1\" class=\"data row208 col1\" >0.001000</td>\n",
       "                        <td id=\"T_492e375e_324c_11eb_a3d0_02cba411ec9drow208_col2\" class=\"data row208 col2\" >2020-08-03</td>\n",
       "            </tr>\n",
       "            <tr>\n",
       "                        <th id=\"T_492e375e_324c_11eb_a3d0_02cba411ec9dlevel0_row209\" class=\"row_heading level0 row209\" >60</th>\n",
       "                        <td id=\"T_492e375e_324c_11eb_a3d0_02cba411ec9drow209_col0\" class=\"data row209 col0\" >2020-08-03</td>\n",
       "                        <td id=\"T_492e375e_324c_11eb_a3d0_02cba411ec9drow209_col1\" class=\"data row209 col1\" >0.001000</td>\n",
       "                        <td id=\"T_492e375e_324c_11eb_a3d0_02cba411ec9drow209_col2\" class=\"data row209 col2\" >2020-08-04</td>\n",
       "            </tr>\n",
       "            <tr>\n",
       "                        <th id=\"T_492e375e_324c_11eb_a3d0_02cba411ec9dlevel0_row210\" class=\"row_heading level0 row210\" >59</th>\n",
       "                        <td id=\"T_492e375e_324c_11eb_a3d0_02cba411ec9drow210_col0\" class=\"data row210 col0\" >2020-08-04</td>\n",
       "                        <td id=\"T_492e375e_324c_11eb_a3d0_02cba411ec9drow210_col1\" class=\"data row210 col1\" >0.000900</td>\n",
       "                        <td id=\"T_492e375e_324c_11eb_a3d0_02cba411ec9drow210_col2\" class=\"data row210 col2\" >2020-08-05</td>\n",
       "            </tr>\n",
       "            <tr>\n",
       "                        <th id=\"T_492e375e_324c_11eb_a3d0_02cba411ec9dlevel0_row211\" class=\"row_heading level0 row211\" >58</th>\n",
       "                        <td id=\"T_492e375e_324c_11eb_a3d0_02cba411ec9drow211_col0\" class=\"data row211 col0\" >2020-08-05</td>\n",
       "                        <td id=\"T_492e375e_324c_11eb_a3d0_02cba411ec9drow211_col1\" class=\"data row211 col1\" >0.000900</td>\n",
       "                        <td id=\"T_492e375e_324c_11eb_a3d0_02cba411ec9drow211_col2\" class=\"data row211 col2\" >2020-08-06</td>\n",
       "            </tr>\n",
       "            <tr>\n",
       "                        <th id=\"T_492e375e_324c_11eb_a3d0_02cba411ec9dlevel0_row212\" class=\"row_heading level0 row212\" >57</th>\n",
       "                        <td id=\"T_492e375e_324c_11eb_a3d0_02cba411ec9drow212_col0\" class=\"data row212 col0\" >2020-08-06</td>\n",
       "                        <td id=\"T_492e375e_324c_11eb_a3d0_02cba411ec9drow212_col1\" class=\"data row212 col1\" >0.000900</td>\n",
       "                        <td id=\"T_492e375e_324c_11eb_a3d0_02cba411ec9drow212_col2\" class=\"data row212 col2\" >2020-08-07</td>\n",
       "            </tr>\n",
       "            <tr>\n",
       "                        <th id=\"T_492e375e_324c_11eb_a3d0_02cba411ec9dlevel0_row213\" class=\"row_heading level0 row213\" >56</th>\n",
       "                        <td id=\"T_492e375e_324c_11eb_a3d0_02cba411ec9drow213_col0\" class=\"data row213 col0\" >2020-08-07</td>\n",
       "                        <td id=\"T_492e375e_324c_11eb_a3d0_02cba411ec9drow213_col1\" class=\"data row213 col1\" >0.000900</td>\n",
       "                        <td id=\"T_492e375e_324c_11eb_a3d0_02cba411ec9drow213_col2\" class=\"data row213 col2\" >2020-08-10</td>\n",
       "            </tr>\n",
       "            <tr>\n",
       "                        <th id=\"T_492e375e_324c_11eb_a3d0_02cba411ec9dlevel0_row214\" class=\"row_heading level0 row214\" >55</th>\n",
       "                        <td id=\"T_492e375e_324c_11eb_a3d0_02cba411ec9drow214_col0\" class=\"data row214 col0\" >2020-08-10</td>\n",
       "                        <td id=\"T_492e375e_324c_11eb_a3d0_02cba411ec9drow214_col1\" class=\"data row214 col1\" >0.000900</td>\n",
       "                        <td id=\"T_492e375e_324c_11eb_a3d0_02cba411ec9drow214_col2\" class=\"data row214 col2\" >2020-08-11</td>\n",
       "            </tr>\n",
       "            <tr>\n",
       "                        <th id=\"T_492e375e_324c_11eb_a3d0_02cba411ec9dlevel0_row215\" class=\"row_heading level0 row215\" >54</th>\n",
       "                        <td id=\"T_492e375e_324c_11eb_a3d0_02cba411ec9drow215_col0\" class=\"data row215 col0\" >2020-08-11</td>\n",
       "                        <td id=\"T_492e375e_324c_11eb_a3d0_02cba411ec9drow215_col1\" class=\"data row215 col1\" >0.001000</td>\n",
       "                        <td id=\"T_492e375e_324c_11eb_a3d0_02cba411ec9drow215_col2\" class=\"data row215 col2\" >2020-08-12</td>\n",
       "            </tr>\n",
       "            <tr>\n",
       "                        <th id=\"T_492e375e_324c_11eb_a3d0_02cba411ec9dlevel0_row216\" class=\"row_heading level0 row216\" >53</th>\n",
       "                        <td id=\"T_492e375e_324c_11eb_a3d0_02cba411ec9drow216_col0\" class=\"data row216 col0\" >2020-08-12</td>\n",
       "                        <td id=\"T_492e375e_324c_11eb_a3d0_02cba411ec9drow216_col1\" class=\"data row216 col1\" >0.000900</td>\n",
       "                        <td id=\"T_492e375e_324c_11eb_a3d0_02cba411ec9drow216_col2\" class=\"data row216 col2\" >2020-08-13</td>\n",
       "            </tr>\n",
       "            <tr>\n",
       "                        <th id=\"T_492e375e_324c_11eb_a3d0_02cba411ec9dlevel0_row217\" class=\"row_heading level0 row217\" >52</th>\n",
       "                        <td id=\"T_492e375e_324c_11eb_a3d0_02cba411ec9drow217_col0\" class=\"data row217 col0\" >2020-08-13</td>\n",
       "                        <td id=\"T_492e375e_324c_11eb_a3d0_02cba411ec9drow217_col1\" class=\"data row217 col1\" >0.000900</td>\n",
       "                        <td id=\"T_492e375e_324c_11eb_a3d0_02cba411ec9drow217_col2\" class=\"data row217 col2\" >2020-08-14</td>\n",
       "            </tr>\n",
       "            <tr>\n",
       "                        <th id=\"T_492e375e_324c_11eb_a3d0_02cba411ec9dlevel0_row218\" class=\"row_heading level0 row218\" >51</th>\n",
       "                        <td id=\"T_492e375e_324c_11eb_a3d0_02cba411ec9drow218_col0\" class=\"data row218 col0\" >2020-08-14</td>\n",
       "                        <td id=\"T_492e375e_324c_11eb_a3d0_02cba411ec9drow218_col1\" class=\"data row218 col1\" >0.000900</td>\n",
       "                        <td id=\"T_492e375e_324c_11eb_a3d0_02cba411ec9drow218_col2\" class=\"data row218 col2\" >2020-08-17</td>\n",
       "            </tr>\n",
       "            <tr>\n",
       "                        <th id=\"T_492e375e_324c_11eb_a3d0_02cba411ec9dlevel0_row219\" class=\"row_heading level0 row219\" >50</th>\n",
       "                        <td id=\"T_492e375e_324c_11eb_a3d0_02cba411ec9drow219_col0\" class=\"data row219 col0\" >2020-08-17</td>\n",
       "                        <td id=\"T_492e375e_324c_11eb_a3d0_02cba411ec9drow219_col1\" class=\"data row219 col1\" >0.001000</td>\n",
       "                        <td id=\"T_492e375e_324c_11eb_a3d0_02cba411ec9drow219_col2\" class=\"data row219 col2\" >2020-08-18</td>\n",
       "            </tr>\n",
       "            <tr>\n",
       "                        <th id=\"T_492e375e_324c_11eb_a3d0_02cba411ec9dlevel0_row220\" class=\"row_heading level0 row220\" >49</th>\n",
       "                        <td id=\"T_492e375e_324c_11eb_a3d0_02cba411ec9drow220_col0\" class=\"data row220 col0\" >2020-08-18</td>\n",
       "                        <td id=\"T_492e375e_324c_11eb_a3d0_02cba411ec9drow220_col1\" class=\"data row220 col1\" >0.000900</td>\n",
       "                        <td id=\"T_492e375e_324c_11eb_a3d0_02cba411ec9drow220_col2\" class=\"data row220 col2\" >2020-08-19</td>\n",
       "            </tr>\n",
       "            <tr>\n",
       "                        <th id=\"T_492e375e_324c_11eb_a3d0_02cba411ec9dlevel0_row221\" class=\"row_heading level0 row221\" >48</th>\n",
       "                        <td id=\"T_492e375e_324c_11eb_a3d0_02cba411ec9drow221_col0\" class=\"data row221 col0\" >2020-08-19</td>\n",
       "                        <td id=\"T_492e375e_324c_11eb_a3d0_02cba411ec9drow221_col1\" class=\"data row221 col1\" >0.000900</td>\n",
       "                        <td id=\"T_492e375e_324c_11eb_a3d0_02cba411ec9drow221_col2\" class=\"data row221 col2\" >2020-08-20</td>\n",
       "            </tr>\n",
       "            <tr>\n",
       "                        <th id=\"T_492e375e_324c_11eb_a3d0_02cba411ec9dlevel0_row222\" class=\"row_heading level0 row222\" >47</th>\n",
       "                        <td id=\"T_492e375e_324c_11eb_a3d0_02cba411ec9drow222_col0\" class=\"data row222 col0\" >2020-08-20</td>\n",
       "                        <td id=\"T_492e375e_324c_11eb_a3d0_02cba411ec9drow222_col1\" class=\"data row222 col1\" >0.000700</td>\n",
       "                        <td id=\"T_492e375e_324c_11eb_a3d0_02cba411ec9drow222_col2\" class=\"data row222 col2\" >2020-08-21</td>\n",
       "            </tr>\n",
       "            <tr>\n",
       "                        <th id=\"T_492e375e_324c_11eb_a3d0_02cba411ec9dlevel0_row223\" class=\"row_heading level0 row223\" >46</th>\n",
       "                        <td id=\"T_492e375e_324c_11eb_a3d0_02cba411ec9drow223_col0\" class=\"data row223 col0\" >2020-08-21</td>\n",
       "                        <td id=\"T_492e375e_324c_11eb_a3d0_02cba411ec9drow223_col1\" class=\"data row223 col1\" >0.000700</td>\n",
       "                        <td id=\"T_492e375e_324c_11eb_a3d0_02cba411ec9drow223_col2\" class=\"data row223 col2\" >2020-08-24</td>\n",
       "            </tr>\n",
       "            <tr>\n",
       "                        <th id=\"T_492e375e_324c_11eb_a3d0_02cba411ec9dlevel0_row224\" class=\"row_heading level0 row224\" >45</th>\n",
       "                        <td id=\"T_492e375e_324c_11eb_a3d0_02cba411ec9drow224_col0\" class=\"data row224 col0\" >2020-08-24</td>\n",
       "                        <td id=\"T_492e375e_324c_11eb_a3d0_02cba411ec9drow224_col1\" class=\"data row224 col1\" >0.000800</td>\n",
       "                        <td id=\"T_492e375e_324c_11eb_a3d0_02cba411ec9drow224_col2\" class=\"data row224 col2\" >2020-08-25</td>\n",
       "            </tr>\n",
       "            <tr>\n",
       "                        <th id=\"T_492e375e_324c_11eb_a3d0_02cba411ec9dlevel0_row225\" class=\"row_heading level0 row225\" >44</th>\n",
       "                        <td id=\"T_492e375e_324c_11eb_a3d0_02cba411ec9drow225_col0\" class=\"data row225 col0\" >2020-08-25</td>\n",
       "                        <td id=\"T_492e375e_324c_11eb_a3d0_02cba411ec9drow225_col1\" class=\"data row225 col1\" >0.000800</td>\n",
       "                        <td id=\"T_492e375e_324c_11eb_a3d0_02cba411ec9drow225_col2\" class=\"data row225 col2\" >2020-08-26</td>\n",
       "            </tr>\n",
       "            <tr>\n",
       "                        <th id=\"T_492e375e_324c_11eb_a3d0_02cba411ec9dlevel0_row226\" class=\"row_heading level0 row226\" >43</th>\n",
       "                        <td id=\"T_492e375e_324c_11eb_a3d0_02cba411ec9drow226_col0\" class=\"data row226 col0\" >2020-08-26</td>\n",
       "                        <td id=\"T_492e375e_324c_11eb_a3d0_02cba411ec9drow226_col1\" class=\"data row226 col1\" >0.000700</td>\n",
       "                        <td id=\"T_492e375e_324c_11eb_a3d0_02cba411ec9drow226_col2\" class=\"data row226 col2\" >2020-08-27</td>\n",
       "            </tr>\n",
       "            <tr>\n",
       "                        <th id=\"T_492e375e_324c_11eb_a3d0_02cba411ec9dlevel0_row227\" class=\"row_heading level0 row227\" >42</th>\n",
       "                        <td id=\"T_492e375e_324c_11eb_a3d0_02cba411ec9drow227_col0\" class=\"data row227 col0\" >2020-08-27</td>\n",
       "                        <td id=\"T_492e375e_324c_11eb_a3d0_02cba411ec9drow227_col1\" class=\"data row227 col1\" >0.000700</td>\n",
       "                        <td id=\"T_492e375e_324c_11eb_a3d0_02cba411ec9drow227_col2\" class=\"data row227 col2\" >2020-08-28</td>\n",
       "            </tr>\n",
       "            <tr>\n",
       "                        <th id=\"T_492e375e_324c_11eb_a3d0_02cba411ec9dlevel0_row228\" class=\"row_heading level0 row228\" >41</th>\n",
       "                        <td id=\"T_492e375e_324c_11eb_a3d0_02cba411ec9drow228_col0\" class=\"data row228 col0\" >2020-08-28</td>\n",
       "                        <td id=\"T_492e375e_324c_11eb_a3d0_02cba411ec9drow228_col1\" class=\"data row228 col1\" >0.000700</td>\n",
       "                        <td id=\"T_492e375e_324c_11eb_a3d0_02cba411ec9drow228_col2\" class=\"data row228 col2\" >2020-08-31</td>\n",
       "            </tr>\n",
       "            <tr>\n",
       "                        <th id=\"T_492e375e_324c_11eb_a3d0_02cba411ec9dlevel0_row229\" class=\"row_heading level0 row229\" >40</th>\n",
       "                        <td id=\"T_492e375e_324c_11eb_a3d0_02cba411ec9drow229_col0\" class=\"data row229 col0\" >2020-08-31</td>\n",
       "                        <td id=\"T_492e375e_324c_11eb_a3d0_02cba411ec9drow229_col1\" class=\"data row229 col1\" >0.000900</td>\n",
       "                        <td id=\"T_492e375e_324c_11eb_a3d0_02cba411ec9drow229_col2\" class=\"data row229 col2\" >2020-09-01</td>\n",
       "            </tr>\n",
       "            <tr>\n",
       "                        <th id=\"T_492e375e_324c_11eb_a3d0_02cba411ec9dlevel0_row230\" class=\"row_heading level0 row230\" >39</th>\n",
       "                        <td id=\"T_492e375e_324c_11eb_a3d0_02cba411ec9drow230_col0\" class=\"data row230 col0\" >2020-09-01</td>\n",
       "                        <td id=\"T_492e375e_324c_11eb_a3d0_02cba411ec9drow230_col1\" class=\"data row230 col1\" >0.000900</td>\n",
       "                        <td id=\"T_492e375e_324c_11eb_a3d0_02cba411ec9drow230_col2\" class=\"data row230 col2\" >2020-09-02</td>\n",
       "            </tr>\n",
       "            <tr>\n",
       "                        <th id=\"T_492e375e_324c_11eb_a3d0_02cba411ec9dlevel0_row231\" class=\"row_heading level0 row231\" >38</th>\n",
       "                        <td id=\"T_492e375e_324c_11eb_a3d0_02cba411ec9drow231_col0\" class=\"data row231 col0\" >2020-09-02</td>\n",
       "                        <td id=\"T_492e375e_324c_11eb_a3d0_02cba411ec9drow231_col1\" class=\"data row231 col1\" >0.000900</td>\n",
       "                        <td id=\"T_492e375e_324c_11eb_a3d0_02cba411ec9drow231_col2\" class=\"data row231 col2\" >2020-09-03</td>\n",
       "            </tr>\n",
       "            <tr>\n",
       "                        <th id=\"T_492e375e_324c_11eb_a3d0_02cba411ec9dlevel0_row232\" class=\"row_heading level0 row232\" >37</th>\n",
       "                        <td id=\"T_492e375e_324c_11eb_a3d0_02cba411ec9drow232_col0\" class=\"data row232 col0\" >2020-09-03</td>\n",
       "                        <td id=\"T_492e375e_324c_11eb_a3d0_02cba411ec9drow232_col1\" class=\"data row232 col1\" >0.001000</td>\n",
       "                        <td id=\"T_492e375e_324c_11eb_a3d0_02cba411ec9drow232_col2\" class=\"data row232 col2\" >2020-09-04</td>\n",
       "            </tr>\n",
       "            <tr>\n",
       "                        <th id=\"T_492e375e_324c_11eb_a3d0_02cba411ec9dlevel0_row233\" class=\"row_heading level0 row233\" >36</th>\n",
       "                        <td id=\"T_492e375e_324c_11eb_a3d0_02cba411ec9drow233_col0\" class=\"data row233 col0\" >2020-09-04</td>\n",
       "                        <td id=\"T_492e375e_324c_11eb_a3d0_02cba411ec9drow233_col1\" class=\"data row233 col1\" >0.000900</td>\n",
       "                        <td id=\"T_492e375e_324c_11eb_a3d0_02cba411ec9drow233_col2\" class=\"data row233 col2\" >2020-09-08</td>\n",
       "            </tr>\n",
       "            <tr>\n",
       "                        <th id=\"T_492e375e_324c_11eb_a3d0_02cba411ec9dlevel0_row234\" class=\"row_heading level0 row234\" >35</th>\n",
       "                        <td id=\"T_492e375e_324c_11eb_a3d0_02cba411ec9drow234_col0\" class=\"data row234 col0\" >2020-09-08</td>\n",
       "                        <td id=\"T_492e375e_324c_11eb_a3d0_02cba411ec9drow234_col1\" class=\"data row234 col1\" >0.000900</td>\n",
       "                        <td id=\"T_492e375e_324c_11eb_a3d0_02cba411ec9drow234_col2\" class=\"data row234 col2\" >2020-09-09</td>\n",
       "            </tr>\n",
       "            <tr>\n",
       "                        <th id=\"T_492e375e_324c_11eb_a3d0_02cba411ec9dlevel0_row235\" class=\"row_heading level0 row235\" >34</th>\n",
       "                        <td id=\"T_492e375e_324c_11eb_a3d0_02cba411ec9drow235_col0\" class=\"data row235 col0\" >2020-09-09</td>\n",
       "                        <td id=\"T_492e375e_324c_11eb_a3d0_02cba411ec9drow235_col1\" class=\"data row235 col1\" >0.000900</td>\n",
       "                        <td id=\"T_492e375e_324c_11eb_a3d0_02cba411ec9drow235_col2\" class=\"data row235 col2\" >2020-09-10</td>\n",
       "            </tr>\n",
       "            <tr>\n",
       "                        <th id=\"T_492e375e_324c_11eb_a3d0_02cba411ec9dlevel0_row236\" class=\"row_heading level0 row236\" >33</th>\n",
       "                        <td id=\"T_492e375e_324c_11eb_a3d0_02cba411ec9drow236_col0\" class=\"data row236 col0\" >2020-09-10</td>\n",
       "                        <td id=\"T_492e375e_324c_11eb_a3d0_02cba411ec9drow236_col1\" class=\"data row236 col1\" >0.000900</td>\n",
       "                        <td id=\"T_492e375e_324c_11eb_a3d0_02cba411ec9drow236_col2\" class=\"data row236 col2\" >2020-09-11</td>\n",
       "            </tr>\n",
       "            <tr>\n",
       "                        <th id=\"T_492e375e_324c_11eb_a3d0_02cba411ec9dlevel0_row237\" class=\"row_heading level0 row237\" >32</th>\n",
       "                        <td id=\"T_492e375e_324c_11eb_a3d0_02cba411ec9drow237_col0\" class=\"data row237 col0\" >2020-09-11</td>\n",
       "                        <td id=\"T_492e375e_324c_11eb_a3d0_02cba411ec9drow237_col1\" class=\"data row237 col1\" >0.000900</td>\n",
       "                        <td id=\"T_492e375e_324c_11eb_a3d0_02cba411ec9drow237_col2\" class=\"data row237 col2\" >2020-09-14</td>\n",
       "            </tr>\n",
       "            <tr>\n",
       "                        <th id=\"T_492e375e_324c_11eb_a3d0_02cba411ec9dlevel0_row238\" class=\"row_heading level0 row238\" >31</th>\n",
       "                        <td id=\"T_492e375e_324c_11eb_a3d0_02cba411ec9drow238_col0\" class=\"data row238 col0\" >2020-09-14</td>\n",
       "                        <td id=\"T_492e375e_324c_11eb_a3d0_02cba411ec9drow238_col1\" class=\"data row238 col1\" >0.000900</td>\n",
       "                        <td id=\"T_492e375e_324c_11eb_a3d0_02cba411ec9drow238_col2\" class=\"data row238 col2\" >2020-09-15</td>\n",
       "            </tr>\n",
       "            <tr>\n",
       "                        <th id=\"T_492e375e_324c_11eb_a3d0_02cba411ec9dlevel0_row239\" class=\"row_heading level0 row239\" >30</th>\n",
       "                        <td id=\"T_492e375e_324c_11eb_a3d0_02cba411ec9drow239_col0\" class=\"data row239 col0\" >2020-09-15</td>\n",
       "                        <td id=\"T_492e375e_324c_11eb_a3d0_02cba411ec9drow239_col1\" class=\"data row239 col1\" >0.001000</td>\n",
       "                        <td id=\"T_492e375e_324c_11eb_a3d0_02cba411ec9drow239_col2\" class=\"data row239 col2\" >2020-09-16</td>\n",
       "            </tr>\n",
       "            <tr>\n",
       "                        <th id=\"T_492e375e_324c_11eb_a3d0_02cba411ec9dlevel0_row240\" class=\"row_heading level0 row240\" >29</th>\n",
       "                        <td id=\"T_492e375e_324c_11eb_a3d0_02cba411ec9drow240_col0\" class=\"data row240 col0\" >2020-09-16</td>\n",
       "                        <td id=\"T_492e375e_324c_11eb_a3d0_02cba411ec9drow240_col1\" class=\"data row240 col1\" >0.001000</td>\n",
       "                        <td id=\"T_492e375e_324c_11eb_a3d0_02cba411ec9drow240_col2\" class=\"data row240 col2\" >2020-09-17</td>\n",
       "            </tr>\n",
       "            <tr>\n",
       "                        <th id=\"T_492e375e_324c_11eb_a3d0_02cba411ec9dlevel0_row241\" class=\"row_heading level0 row241\" >28</th>\n",
       "                        <td id=\"T_492e375e_324c_11eb_a3d0_02cba411ec9drow241_col0\" class=\"data row241 col0\" >2020-09-17</td>\n",
       "                        <td id=\"T_492e375e_324c_11eb_a3d0_02cba411ec9drow241_col1\" class=\"data row241 col1\" >0.001000</td>\n",
       "                        <td id=\"T_492e375e_324c_11eb_a3d0_02cba411ec9drow241_col2\" class=\"data row241 col2\" >2020-09-18</td>\n",
       "            </tr>\n",
       "            <tr>\n",
       "                        <th id=\"T_492e375e_324c_11eb_a3d0_02cba411ec9dlevel0_row242\" class=\"row_heading level0 row242\" >27</th>\n",
       "                        <td id=\"T_492e375e_324c_11eb_a3d0_02cba411ec9drow242_col0\" class=\"data row242 col0\" >2020-09-18</td>\n",
       "                        <td id=\"T_492e375e_324c_11eb_a3d0_02cba411ec9drow242_col1\" class=\"data row242 col1\" >0.000900</td>\n",
       "                        <td id=\"T_492e375e_324c_11eb_a3d0_02cba411ec9drow242_col2\" class=\"data row242 col2\" >2020-09-21</td>\n",
       "            </tr>\n",
       "            <tr>\n",
       "                        <th id=\"T_492e375e_324c_11eb_a3d0_02cba411ec9dlevel0_row243\" class=\"row_heading level0 row243\" >26</th>\n",
       "                        <td id=\"T_492e375e_324c_11eb_a3d0_02cba411ec9drow243_col0\" class=\"data row243 col0\" >2020-09-21</td>\n",
       "                        <td id=\"T_492e375e_324c_11eb_a3d0_02cba411ec9drow243_col1\" class=\"data row243 col1\" >0.000800</td>\n",
       "                        <td id=\"T_492e375e_324c_11eb_a3d0_02cba411ec9drow243_col2\" class=\"data row243 col2\" >2020-09-22</td>\n",
       "            </tr>\n",
       "            <tr>\n",
       "                        <th id=\"T_492e375e_324c_11eb_a3d0_02cba411ec9dlevel0_row244\" class=\"row_heading level0 row244\" >25</th>\n",
       "                        <td id=\"T_492e375e_324c_11eb_a3d0_02cba411ec9drow244_col0\" class=\"data row244 col0\" >2020-09-22</td>\n",
       "                        <td id=\"T_492e375e_324c_11eb_a3d0_02cba411ec9drow244_col1\" class=\"data row244 col1\" >0.000700</td>\n",
       "                        <td id=\"T_492e375e_324c_11eb_a3d0_02cba411ec9drow244_col2\" class=\"data row244 col2\" >2020-09-23</td>\n",
       "            </tr>\n",
       "            <tr>\n",
       "                        <th id=\"T_492e375e_324c_11eb_a3d0_02cba411ec9dlevel0_row245\" class=\"row_heading level0 row245\" >24</th>\n",
       "                        <td id=\"T_492e375e_324c_11eb_a3d0_02cba411ec9drow245_col0\" class=\"data row245 col0\" >2020-09-23</td>\n",
       "                        <td id=\"T_492e375e_324c_11eb_a3d0_02cba411ec9drow245_col1\" class=\"data row245 col1\" >0.000600</td>\n",
       "                        <td id=\"T_492e375e_324c_11eb_a3d0_02cba411ec9drow245_col2\" class=\"data row245 col2\" >2020-09-24</td>\n",
       "            </tr>\n",
       "            <tr>\n",
       "                        <th id=\"T_492e375e_324c_11eb_a3d0_02cba411ec9dlevel0_row246\" class=\"row_heading level0 row246\" >23</th>\n",
       "                        <td id=\"T_492e375e_324c_11eb_a3d0_02cba411ec9drow246_col0\" class=\"data row246 col0\" >2020-09-24</td>\n",
       "                        <td id=\"T_492e375e_324c_11eb_a3d0_02cba411ec9drow246_col1\" class=\"data row246 col1\" >0.000700</td>\n",
       "                        <td id=\"T_492e375e_324c_11eb_a3d0_02cba411ec9drow246_col2\" class=\"data row246 col2\" >2020-09-25</td>\n",
       "            </tr>\n",
       "            <tr>\n",
       "                        <th id=\"T_492e375e_324c_11eb_a3d0_02cba411ec9dlevel0_row247\" class=\"row_heading level0 row247\" >22</th>\n",
       "                        <td id=\"T_492e375e_324c_11eb_a3d0_02cba411ec9drow247_col0\" class=\"data row247 col0\" >2020-09-25</td>\n",
       "                        <td id=\"T_492e375e_324c_11eb_a3d0_02cba411ec9drow247_col1\" class=\"data row247 col1\" >0.000800</td>\n",
       "                        <td id=\"T_492e375e_324c_11eb_a3d0_02cba411ec9drow247_col2\" class=\"data row247 col2\" >2020-09-28</td>\n",
       "            </tr>\n",
       "            <tr>\n",
       "                        <th id=\"T_492e375e_324c_11eb_a3d0_02cba411ec9dlevel0_row248\" class=\"row_heading level0 row248\" >21</th>\n",
       "                        <td id=\"T_492e375e_324c_11eb_a3d0_02cba411ec9drow248_col0\" class=\"data row248 col0\" >2020-09-28</td>\n",
       "                        <td id=\"T_492e375e_324c_11eb_a3d0_02cba411ec9drow248_col1\" class=\"data row248 col1\" >0.000800</td>\n",
       "                        <td id=\"T_492e375e_324c_11eb_a3d0_02cba411ec9drow248_col2\" class=\"data row248 col2\" >2020-09-29</td>\n",
       "            </tr>\n",
       "            <tr>\n",
       "                        <th id=\"T_492e375e_324c_11eb_a3d0_02cba411ec9dlevel0_row249\" class=\"row_heading level0 row249\" >20</th>\n",
       "                        <td id=\"T_492e375e_324c_11eb_a3d0_02cba411ec9drow249_col0\" class=\"data row249 col0\" >2020-09-29</td>\n",
       "                        <td id=\"T_492e375e_324c_11eb_a3d0_02cba411ec9drow249_col1\" class=\"data row249 col1\" >0.000700</td>\n",
       "                        <td id=\"T_492e375e_324c_11eb_a3d0_02cba411ec9drow249_col2\" class=\"data row249 col2\" >2020-09-30</td>\n",
       "            </tr>\n",
       "            <tr>\n",
       "                        <th id=\"T_492e375e_324c_11eb_a3d0_02cba411ec9dlevel0_row250\" class=\"row_heading level0 row250\" >19</th>\n",
       "                        <td id=\"T_492e375e_324c_11eb_a3d0_02cba411ec9drow250_col0\" class=\"data row250 col0\" >2020-09-30</td>\n",
       "                        <td id=\"T_492e375e_324c_11eb_a3d0_02cba411ec9drow250_col1\" class=\"data row250 col1\" >0.000800</td>\n",
       "                        <td id=\"T_492e375e_324c_11eb_a3d0_02cba411ec9drow250_col2\" class=\"data row250 col2\" >2020-10-01</td>\n",
       "            </tr>\n",
       "            <tr>\n",
       "                        <th id=\"T_492e375e_324c_11eb_a3d0_02cba411ec9dlevel0_row251\" class=\"row_heading level0 row251\" >18</th>\n",
       "                        <td id=\"T_492e375e_324c_11eb_a3d0_02cba411ec9drow251_col0\" class=\"data row251 col0\" >2020-10-01</td>\n",
       "                        <td id=\"T_492e375e_324c_11eb_a3d0_02cba411ec9drow251_col1\" class=\"data row251 col1\" >0.000800</td>\n",
       "                        <td id=\"T_492e375e_324c_11eb_a3d0_02cba411ec9drow251_col2\" class=\"data row251 col2\" >2020-10-02</td>\n",
       "            </tr>\n",
       "            <tr>\n",
       "                        <th id=\"T_492e375e_324c_11eb_a3d0_02cba411ec9dlevel0_row252\" class=\"row_heading level0 row252\" >17</th>\n",
       "                        <td id=\"T_492e375e_324c_11eb_a3d0_02cba411ec9drow252_col0\" class=\"data row252 col0\" >2020-10-02</td>\n",
       "                        <td id=\"T_492e375e_324c_11eb_a3d0_02cba411ec9drow252_col1\" class=\"data row252 col1\" >0.001000</td>\n",
       "                        <td id=\"T_492e375e_324c_11eb_a3d0_02cba411ec9drow252_col2\" class=\"data row252 col2\" >2020-10-05</td>\n",
       "            </tr>\n",
       "            <tr>\n",
       "                        <th id=\"T_492e375e_324c_11eb_a3d0_02cba411ec9dlevel0_row253\" class=\"row_heading level0 row253\" >16</th>\n",
       "                        <td id=\"T_492e375e_324c_11eb_a3d0_02cba411ec9drow253_col0\" class=\"data row253 col0\" >2020-10-05</td>\n",
       "                        <td id=\"T_492e375e_324c_11eb_a3d0_02cba411ec9drow253_col1\" class=\"data row253 col1\" >0.000900</td>\n",
       "                        <td id=\"T_492e375e_324c_11eb_a3d0_02cba411ec9drow253_col2\" class=\"data row253 col2\" >2020-10-06</td>\n",
       "            </tr>\n",
       "            <tr>\n",
       "                        <th id=\"T_492e375e_324c_11eb_a3d0_02cba411ec9dlevel0_row254\" class=\"row_heading level0 row254\" >15</th>\n",
       "                        <td id=\"T_492e375e_324c_11eb_a3d0_02cba411ec9drow254_col0\" class=\"data row254 col0\" >2020-10-06</td>\n",
       "                        <td id=\"T_492e375e_324c_11eb_a3d0_02cba411ec9drow254_col1\" class=\"data row254 col1\" >0.001000</td>\n",
       "                        <td id=\"T_492e375e_324c_11eb_a3d0_02cba411ec9drow254_col2\" class=\"data row254 col2\" >2020-10-07</td>\n",
       "            </tr>\n",
       "            <tr>\n",
       "                        <th id=\"T_492e375e_324c_11eb_a3d0_02cba411ec9dlevel0_row255\" class=\"row_heading level0 row255\" >14</th>\n",
       "                        <td id=\"T_492e375e_324c_11eb_a3d0_02cba411ec9drow255_col0\" class=\"data row255 col0\" >2020-10-07</td>\n",
       "                        <td id=\"T_492e375e_324c_11eb_a3d0_02cba411ec9drow255_col1\" class=\"data row255 col1\" >0.000900</td>\n",
       "                        <td id=\"T_492e375e_324c_11eb_a3d0_02cba411ec9drow255_col2\" class=\"data row255 col2\" >2020-10-08</td>\n",
       "            </tr>\n",
       "            <tr>\n",
       "                        <th id=\"T_492e375e_324c_11eb_a3d0_02cba411ec9dlevel0_row256\" class=\"row_heading level0 row256\" >13</th>\n",
       "                        <td id=\"T_492e375e_324c_11eb_a3d0_02cba411ec9drow256_col0\" class=\"data row256 col0\" >2020-10-08</td>\n",
       "                        <td id=\"T_492e375e_324c_11eb_a3d0_02cba411ec9drow256_col1\" class=\"data row256 col1\" >0.000800</td>\n",
       "                        <td id=\"T_492e375e_324c_11eb_a3d0_02cba411ec9drow256_col2\" class=\"data row256 col2\" >2020-10-09</td>\n",
       "            </tr>\n",
       "            <tr>\n",
       "                        <th id=\"T_492e375e_324c_11eb_a3d0_02cba411ec9dlevel0_row257\" class=\"row_heading level0 row257\" >12</th>\n",
       "                        <td id=\"T_492e375e_324c_11eb_a3d0_02cba411ec9drow257_col0\" class=\"data row257 col0\" >2020-10-09</td>\n",
       "                        <td id=\"T_492e375e_324c_11eb_a3d0_02cba411ec9drow257_col1\" class=\"data row257 col1\" >0.000900</td>\n",
       "                        <td id=\"T_492e375e_324c_11eb_a3d0_02cba411ec9drow257_col2\" class=\"data row257 col2\" >2020-10-13</td>\n",
       "            </tr>\n",
       "            <tr>\n",
       "                        <th id=\"T_492e375e_324c_11eb_a3d0_02cba411ec9dlevel0_row258\" class=\"row_heading level0 row258\" >11</th>\n",
       "                        <td id=\"T_492e375e_324c_11eb_a3d0_02cba411ec9drow258_col0\" class=\"data row258 col0\" >2020-10-13</td>\n",
       "                        <td id=\"T_492e375e_324c_11eb_a3d0_02cba411ec9drow258_col1\" class=\"data row258 col1\" >0.000900</td>\n",
       "                        <td id=\"T_492e375e_324c_11eb_a3d0_02cba411ec9drow258_col2\" class=\"data row258 col2\" >2020-10-14</td>\n",
       "            </tr>\n",
       "            <tr>\n",
       "                        <th id=\"T_492e375e_324c_11eb_a3d0_02cba411ec9dlevel0_row259\" class=\"row_heading level0 row259\" >10</th>\n",
       "                        <td id=\"T_492e375e_324c_11eb_a3d0_02cba411ec9drow259_col0\" class=\"data row259 col0\" >2020-10-14</td>\n",
       "                        <td id=\"T_492e375e_324c_11eb_a3d0_02cba411ec9drow259_col1\" class=\"data row259 col1\" >0.000900</td>\n",
       "                        <td id=\"T_492e375e_324c_11eb_a3d0_02cba411ec9drow259_col2\" class=\"data row259 col2\" >2020-10-15</td>\n",
       "            </tr>\n",
       "            <tr>\n",
       "                        <th id=\"T_492e375e_324c_11eb_a3d0_02cba411ec9dlevel0_row260\" class=\"row_heading level0 row260\" >9</th>\n",
       "                        <td id=\"T_492e375e_324c_11eb_a3d0_02cba411ec9drow260_col0\" class=\"data row260 col0\" >2020-10-15</td>\n",
       "                        <td id=\"T_492e375e_324c_11eb_a3d0_02cba411ec9drow260_col1\" class=\"data row260 col1\" >0.001000</td>\n",
       "                        <td id=\"T_492e375e_324c_11eb_a3d0_02cba411ec9drow260_col2\" class=\"data row260 col2\" >2020-10-16</td>\n",
       "            </tr>\n",
       "            <tr>\n",
       "                        <th id=\"T_492e375e_324c_11eb_a3d0_02cba411ec9dlevel0_row261\" class=\"row_heading level0 row261\" >8</th>\n",
       "                        <td id=\"T_492e375e_324c_11eb_a3d0_02cba411ec9drow261_col0\" class=\"data row261 col0\" >2020-10-16</td>\n",
       "                        <td id=\"T_492e375e_324c_11eb_a3d0_02cba411ec9drow261_col1\" class=\"data row261 col1\" >0.000900</td>\n",
       "                        <td id=\"T_492e375e_324c_11eb_a3d0_02cba411ec9drow261_col2\" class=\"data row261 col2\" >2020-10-19</td>\n",
       "            </tr>\n",
       "            <tr>\n",
       "                        <th id=\"T_492e375e_324c_11eb_a3d0_02cba411ec9dlevel0_row262\" class=\"row_heading level0 row262\" >7</th>\n",
       "                        <td id=\"T_492e375e_324c_11eb_a3d0_02cba411ec9drow262_col0\" class=\"data row262 col0\" >2020-10-19</td>\n",
       "                        <td id=\"T_492e375e_324c_11eb_a3d0_02cba411ec9drow262_col1\" class=\"data row262 col1\" >0.000900</td>\n",
       "                        <td id=\"T_492e375e_324c_11eb_a3d0_02cba411ec9drow262_col2\" class=\"data row262 col2\" >2020-10-20</td>\n",
       "            </tr>\n",
       "            <tr>\n",
       "                        <th id=\"T_492e375e_324c_11eb_a3d0_02cba411ec9dlevel0_row263\" class=\"row_heading level0 row263\" >6</th>\n",
       "                        <td id=\"T_492e375e_324c_11eb_a3d0_02cba411ec9drow263_col0\" class=\"data row263 col0\" >2020-10-20</td>\n",
       "                        <td id=\"T_492e375e_324c_11eb_a3d0_02cba411ec9drow263_col1\" class=\"data row263 col1\" >0.000800</td>\n",
       "                        <td id=\"T_492e375e_324c_11eb_a3d0_02cba411ec9drow263_col2\" class=\"data row263 col2\" >2020-10-21</td>\n",
       "            </tr>\n",
       "            <tr>\n",
       "                        <th id=\"T_492e375e_324c_11eb_a3d0_02cba411ec9dlevel0_row264\" class=\"row_heading level0 row264\" >5</th>\n",
       "                        <td id=\"T_492e375e_324c_11eb_a3d0_02cba411ec9drow264_col0\" class=\"data row264 col0\" >2020-10-21</td>\n",
       "                        <td id=\"T_492e375e_324c_11eb_a3d0_02cba411ec9drow264_col1\" class=\"data row264 col1\" >0.000700</td>\n",
       "                        <td id=\"T_492e375e_324c_11eb_a3d0_02cba411ec9drow264_col2\" class=\"data row264 col2\" >2020-10-22</td>\n",
       "            </tr>\n",
       "            <tr>\n",
       "                        <th id=\"T_492e375e_324c_11eb_a3d0_02cba411ec9dlevel0_row265\" class=\"row_heading level0 row265\" >4</th>\n",
       "                        <td id=\"T_492e375e_324c_11eb_a3d0_02cba411ec9drow265_col0\" class=\"data row265 col0\" >2020-10-22</td>\n",
       "                        <td id=\"T_492e375e_324c_11eb_a3d0_02cba411ec9drow265_col1\" class=\"data row265 col1\" >0.000700</td>\n",
       "                        <td id=\"T_492e375e_324c_11eb_a3d0_02cba411ec9drow265_col2\" class=\"data row265 col2\" >2020-10-23</td>\n",
       "            </tr>\n",
       "            <tr>\n",
       "                        <th id=\"T_492e375e_324c_11eb_a3d0_02cba411ec9dlevel0_row266\" class=\"row_heading level0 row266\" >3</th>\n",
       "                        <td id=\"T_492e375e_324c_11eb_a3d0_02cba411ec9drow266_col0\" class=\"data row266 col0\" >2020-10-23</td>\n",
       "                        <td id=\"T_492e375e_324c_11eb_a3d0_02cba411ec9drow266_col1\" class=\"data row266 col1\" >0.000800</td>\n",
       "                        <td id=\"T_492e375e_324c_11eb_a3d0_02cba411ec9drow266_col2\" class=\"data row266 col2\" >2020-10-26</td>\n",
       "            </tr>\n",
       "            <tr>\n",
       "                        <th id=\"T_492e375e_324c_11eb_a3d0_02cba411ec9dlevel0_row267\" class=\"row_heading level0 row267\" >2</th>\n",
       "                        <td id=\"T_492e375e_324c_11eb_a3d0_02cba411ec9drow267_col0\" class=\"data row267 col0\" >2020-10-26</td>\n",
       "                        <td id=\"T_492e375e_324c_11eb_a3d0_02cba411ec9drow267_col1\" class=\"data row267 col1\" >0.000900</td>\n",
       "                        <td id=\"T_492e375e_324c_11eb_a3d0_02cba411ec9drow267_col2\" class=\"data row267 col2\" >2020-10-27</td>\n",
       "            </tr>\n",
       "            <tr>\n",
       "                        <th id=\"T_492e375e_324c_11eb_a3d0_02cba411ec9dlevel0_row268\" class=\"row_heading level0 row268\" >1</th>\n",
       "                        <td id=\"T_492e375e_324c_11eb_a3d0_02cba411ec9drow268_col0\" class=\"data row268 col0\" >2020-10-27</td>\n",
       "                        <td id=\"T_492e375e_324c_11eb_a3d0_02cba411ec9drow268_col1\" class=\"data row268 col1\" >0.000900</td>\n",
       "                        <td id=\"T_492e375e_324c_11eb_a3d0_02cba411ec9drow268_col2\" class=\"data row268 col2\" >2020-10-28</td>\n",
       "            </tr>\n",
       "            <tr>\n",
       "                        <th id=\"T_492e375e_324c_11eb_a3d0_02cba411ec9dlevel0_row269\" class=\"row_heading level0 row269\" >0</th>\n",
       "                        <td id=\"T_492e375e_324c_11eb_a3d0_02cba411ec9drow269_col0\" class=\"data row269 col0\" >2020-10-28</td>\n",
       "                        <td id=\"T_492e375e_324c_11eb_a3d0_02cba411ec9drow269_col1\" class=\"data row269 col1\" >0.000800</td>\n",
       "                        <td id=\"T_492e375e_324c_11eb_a3d0_02cba411ec9drow269_col2\" class=\"data row269 col2\" >2020-10-29</td>\n",
       "            </tr>\n",
       "    </tbody></table>"
      ],
      "text/plain": [
       "<pandas.io.formats.style.Styler at 0x7f45e6b11860>"
      ]
     },
     "execution_count": 6,
     "metadata": {},
     "output_type": "execute_result"
    }
   ],
   "source": [
    "\n",
    "#construcción fecha final \n",
    "fecha = df.iloc[0:269,0] #Llamo todas las filas de matriz df en la primera columna \n",
    "addfecha = \"2020-10-29\" #se agrega la fecha\n",
    "fecha = np.append(addfecha, fecha) #se fusionan en una sola matrix\n",
    "\n",
    "df[\"fecha_final\"]= pd.Series(fecha) #extrayendo la fecha a la matriz df\n",
    "\n",
    "df['fecha_inicial'] = pd.to_datetime(df['fecha_inicial'], errors='coerce') \n",
    "df['fecha_final'] = pd.to_datetime(df['fecha_final'], errors='coerce')\n",
    "\n",
    "df['fecha_inicial'] = df['fecha_inicial'].dt.date\n",
    "df['fecha_final'] = df['fecha_final'].dt.date\n",
    "\n",
    "#eliminando columnas restantes del data frame\n",
    "df = df.drop(df.columns[[1]], axis='columns')\n",
    "df = df.drop(df.columns[[0]], axis='columns') \n",
    "\n",
    "#se da vuelta la matriz\n",
    "df= df.iloc[::-1] \n",
    "\n",
    "# tabulación del resultado\n",
    "df.style.format({'RATE(PERCENT)': '{0:.2%}'}) #grafica el df en forma bonita"
   ]
  },
  {
   "cell_type": "code",
   "execution_count": 7,
   "metadata": {
    "ExecuteTime": {
     "end_time": "2020-11-29T14:08:07.817523Z",
     "start_time": "2020-11-29T14:08:07.812201Z"
    }
   },
   "outputs": [],
   "source": [
    "\n",
    "fixing = Qcf.time_series()\n",
    "accrual_date: Qcf.QCDate\n",
    "final = Qcf.time_series()  \n",
    "\n"
   ]
  },
  {
   "cell_type": "code",
   "execution_count": 8,
   "metadata": {
    "ExecuteTime": {
     "end_time": "2020-11-29T14:08:36.650709Z",
     "start_time": "2020-11-29T14:08:36.631199Z"
    }
   },
   "outputs": [],
   "source": [
    "class OisCashFlow:\n",
    "    \n",
    "    # AD: Esto no era necesario.\n",
    "    \n",
    "    def __init__ (self, start_date, end_date, settlement_date, notional, currency, amortization,amort_is_cashflow,interest_rate, on_index, spread, gearing):\n",
    "        \n",
    "        self.start_date = start_date\n",
    "        self.end_date = end_date\n",
    "        self.settlement_date = settlement_date\n",
    "        self.notional = notional\n",
    "        self.currency = currency\n",
    "        self.amortization = amortization\n",
    "        self.amort_is_cashflow = amort_is_cashflow\n",
    "        self.interest_rate = interest_rate\n",
    "        self.on_index = on_index\n",
    "        self.spread = spread\n",
    "        self.gearing = gearing\n",
    "\n",
    "    def get_accrued_rate(self, accrual_date: Qcf.QCDate, fixing: Qcf.time_series) -> float:\n",
    "        \n",
    "        \"\"\"\n",
    "        Calcula la tasa equivalente desde `self.start_date` a `accrual_date`. La tasa equivalente\n",
    "        se calcula como:\n",
    "        \n",
    "        (P - 1) * 360 / (accrual_date - self.start_date)\n",
    "        \n",
    "        donde P es el producto de los factores de capitalización de todas las tasas overnight\n",
    "        entre `start_date` y `accrual_date`. Los valores de esas tasas deben estar almacenados\n",
    "        en la variable `fixings`.\n",
    "        \n",
    "        Ver la documentación de `QC_Financial_3` para el uso y funcionamiento de los objetos\n",
    "        de tipo Qcf.time_series.\n",
    "        \"\"\"\n",
    "                 \n",
    "        self.fecha_final = accrual_date\n",
    "        self.diff = self.start_date.day_diff(self.fecha_final)\n",
    "\n",
    "        for i in range(270):\n",
    "            \n",
    "                        count = i\n",
    "\n",
    "                        fec_ini_1 = Qcf.QCDate(df.iloc[i]['fecha_inicial'].day, df.iloc[i]['fecha_inicial'].month, df.iloc[i]['fecha_inicial'].year)\n",
    "                \n",
    "                        fec_fin_ = Qcf.QCDate(df.iloc[i]['fecha_final'].day, df.iloc[i]['fecha_final'].month, df.iloc[i]['fecha_final'].year)\n",
    "                        \n",
    "\n",
    "                        if fec_ini_1 == self.start_date:\n",
    "\n",
    "                             for j in range(count,count+self.diff):\n",
    "\n",
    "                                fec_ini_2 = Qcf.QCDate(df.iloc[j]['fecha_inicial'].day, df.iloc[j]['fecha_inicial'].month, df.iloc[j]['fecha_inicial'].year)\n",
    "\n",
    "                                fec_fin_2 = Qcf.QCDate(df.iloc[j]['fecha_final'].day, df.iloc[j]['fecha_final'].month, df.iloc[j]['fecha_final'].year)\n",
    "\n",
    "\n",
    "                                fixing[fec_ini_2] = df.iloc[j]['TASA_SOFR']\n",
    "                                final[fec_ini_2] = df.iloc[j]['TASA_SOFR']\n",
    "\n",
    "        asoc_inicial = Qcf.time_series_dates(fixing)                         \n",
    "        asoc_final = Qcf.time_series_dates(final)                                                         \n",
    "        asoc_tasa = Qcf.time_series_values(fixing)\n",
    "\n",
    "        df2= pd.DataFrame({'FECHA INICIAL':asoc_inicial,'FECHA FINAL':asoc_final,'TASAS':asoc_tasa})\n",
    "        \n",
    "        #generando función auxiliar\n",
    "\n",
    "        def get_wf(fecha_inicial: Qcf.QCDate, fecha_final: Qcf.QCDate, valor_tasa: float) -> float:\n",
    "            \n",
    "            self.qc_tasa = Qcf.QCInterestRate(valor_tasa, Qcf.QCAct360(), Qcf.QCLinearWf())\n",
    "            \n",
    "            return self.qc_tasa.wf(fecha_inicial, fecha_final)\n",
    "\n",
    "        df2['wf'] = df2.apply(\n",
    "        lambda row: get_wf(row['FECHA INICIAL'], row['FECHA FINAL'],row['TASAS']),\n",
    "        axis=1\n",
    "        )\n",
    "\n",
    "        df2.style.format({'TASAS': '{0:.2%}', 'wf': '{0:.6%}'})\n",
    "        \n",
    "        #factores de capitalización compuesto\n",
    "\n",
    "        self.prod = df2['wf'].product()\n",
    "        self.dias = self.start_date.day_diff(self.fecha_final)\n",
    "                        # Tasa equivalente\n",
    "                        # prod = 1 + tasa_eq * dias / 360\n",
    "        self.tasa_eq = (self.prod - 1) * 360.0 / self.dias\n",
    "\n",
    "        return self.tasa_eq\n",
    "\n",
    "        #def get_accrued_interest(self, accrual_date: Qcf.QCDate, fixings: Qcf.time_series) -> float:\n",
    "        \n",
    "        #self.interes_flot_ois = self.notional * self.tasa_eq * self.dias / 360     \n",
    "        #return self.interes_flot_ois  \n",
    "        #TRATAMOS DE EFECTUAR ESTA FUNCIÓN PERO NO PUDIMOS "
   ]
  },
  {
   "cell_type": "code",
   "execution_count": 9,
   "metadata": {
    "ExecuteTime": {
     "end_time": "2020-11-29T14:08:38.335486Z",
     "start_time": "2020-11-29T14:08:38.326137Z"
    }
   },
   "outputs": [],
   "source": [
    "codigo = 'SOFR'\n",
    "tasa_on = Qcf.QCInterestRate(.0, Qcf.QCAct360(), Qcf.QCLinearWf())\n",
    "fixing_lag = Qcf.Tenor('0d')\n",
    "tenor = Qcf.Tenor('1d')\n",
    "fixing_calendar = get_cal(BusCal.NY)     \n",
    "settlement_calendar = fixing_calendar  \n",
    "sofr = Qcf.InterestRateIndex(\n",
    "    codigo,\n",
    "    tasa_on,\n",
    "    fixing_lag,\n",
    "    tenor,\n",
    "    fixing_calendar,\n",
    "    settlement_calendar,\n",
    "    Qcf.QCUSD()\n",
    ")"
   ]
  },
  {
   "cell_type": "code",
   "execution_count": 10,
   "metadata": {
    "ExecuteTime": {
     "end_time": "2020-11-29T14:08:40.928730Z",
     "start_time": "2020-11-29T14:08:40.912797Z"
    }
   },
   "outputs": [
    {
     "ename": "NameError",
     "evalue": "name 'ois' is not defined",
     "output_type": "error",
     "traceback": [
      "\u001b[0;31m---------------------------------------------------------------------------\u001b[0m",
      "\u001b[0;31mNameError\u001b[0m                                 Traceback (most recent call last)",
      "\u001b[0;32m<ipython-input-10-e8c747e64790>\u001b[0m in \u001b[0;36m<module>\u001b[0;34m\u001b[0m\n\u001b[0;32m----> 1\u001b[0;31m \u001b[0mois\u001b[0m\u001b[0;34m.\u001b[0m\u001b[0mget_accrued_rate\u001b[0m\u001b[0;34m(\u001b[0m\u001b[0mQcf\u001b[0m\u001b[0;34m.\u001b[0m\u001b[0mQCDate\u001b[0m\u001b[0;34m(\u001b[0m\u001b[0;36m1\u001b[0m\u001b[0;34m,\u001b[0m\u001b[0;36m5\u001b[0m\u001b[0;34m,\u001b[0m\u001b[0;36m2020\u001b[0m\u001b[0;34m)\u001b[0m\u001b[0;34m,\u001b[0m\u001b[0mfixing\u001b[0m\u001b[0;34m)\u001b[0m\u001b[0;34m\u001b[0m\u001b[0;34m\u001b[0m\u001b[0m\n\u001b[0m\u001b[1;32m      2\u001b[0m \u001b[0;34m\u001b[0m\u001b[0m\n\u001b[1;32m      3\u001b[0m \u001b[0;31m#la tasa equivalente a la fecha 1-05-2020 corresponde a un 1,09% aprox.\u001b[0m\u001b[0;34m\u001b[0m\u001b[0;34m\u001b[0m\u001b[0;34m\u001b[0m\u001b[0m\n",
      "\u001b[0;31mNameError\u001b[0m: name 'ois' is not defined"
     ]
    }
   ],
   "source": [
    "ois.get_accrued_rate(Qcf.QCDate(1,5,2020),fixing)\n",
    "\n",
    "#la tasa equivalente a la fecha 1-05-2020 corresponde a un 1,09% aprox. "
   ]
  },
  {
   "cell_type": "markdown",
   "metadata": {},
   "source": [
    "## Tests"
   ]
  },
  {
   "cell_type": "code",
   "execution_count": 11,
   "metadata": {
    "ExecuteTime": {
     "end_time": "2020-11-29T14:08:54.487270Z",
     "start_time": "2020-11-29T14:08:54.482675Z"
    }
   },
   "outputs": [],
   "source": [
    "import sys\n",
    "sys.path.insert(1, '../modules')\n",
    "import auxiliary as aux"
   ]
  },
  {
   "cell_type": "code",
   "execution_count": 12,
   "metadata": {
    "ExecuteTime": {
     "end_time": "2020-11-29T14:08:55.159822Z",
     "start_time": "2020-11-29T14:08:55.153249Z"
    }
   },
   "outputs": [],
   "source": [
    "amount_tol = 10000\n",
    "rate_tol = .001"
   ]
  },
  {
   "cell_type": "code",
   "execution_count": 13,
   "metadata": {
    "ExecuteTime": {
     "end_time": "2020-11-29T14:08:55.766712Z",
     "start_time": "2020-11-29T14:08:55.763533Z"
    }
   },
   "outputs": [],
   "source": [
    "exitos = 0"
   ]
  },
  {
   "cell_type": "code",
   "execution_count": 14,
   "metadata": {
    "ExecuteTime": {
     "end_time": "2020-11-29T14:08:56.825294Z",
     "start_time": "2020-11-29T14:08:56.816644Z"
    }
   },
   "outputs": [],
   "source": [
    "def suma_exito(resultado, check, tipo):\n",
    "    global exitos\n",
    "    if resultado is None:\n",
    "        return\n",
    "    else:\n",
    "        print('Suma medio punto por obtener resultado.')\n",
    "        exitos += .5\n",
    "        if tipo == 'monto':\n",
    "            if abs(resultado - check) < amount_tol:\n",
    "                print('Suma 1 punto por obtener resultado dentro de la tolerancia.')\n",
    "                exitos += 1\n",
    "        else:\n",
    "            if abs(resultado - check) < rate_tol:\n",
    "                print('Suma 1 punto por obtener resultado dentro de la tolerancia.')\n",
    "                exitos += 1"
   ]
  },
  {
   "cell_type": "markdown",
   "metadata": {},
   "source": [
    "Construcción de una instancia de `OisCashflow`."
   ]
  },
  {
   "cell_type": "code",
   "execution_count": 16,
   "metadata": {
    "ExecuteTime": {
     "end_time": "2020-11-29T14:09:41.853034Z",
     "start_time": "2020-11-29T14:09:41.843532Z"
    }
   },
   "outputs": [],
   "source": [
    "ois = OisCashFlow(\n",
    "    Qcf.QCDate(1, 10, 2019),\n",
    "    Qcf.QCDate(1, 10, 2020),\n",
    "    Qcf.QCDate(1, 10, 2020),\n",
    "    10000000,\n",
    "    Qcf.QCUSD(),\n",
    "    1000000,\n",
    "    True,\n",
    "    Qcf.QCInterestRate(0.0, Qcf.QCAct360(), Qcf.QCLinearWf()),\n",
    "    sofr,\n",
    "    0,\n",
    "    1\n",
    ")"
   ]
  },
  {
   "cell_type": "markdown",
   "metadata": {},
   "source": [
    "En la siguiente variable `exitos` se registra cuantos tests se superan con éxito."
   ]
  },
  {
   "cell_type": "markdown",
   "metadata": {},
   "source": [
    "### Objeto `fixings`"
   ]
  },
  {
   "cell_type": "code",
   "execution_count": 17,
   "metadata": {
    "ExecuteTime": {
     "end_time": "2020-11-29T14:46:26.972550Z",
     "start_time": "2020-11-29T14:46:26.945458Z"
    }
   },
   "outputs": [],
   "source": [
    "df_fixings = pd.read_excel('../data/SOFR-10012019-10292020.xls', sheet_name='nice format')\n",
    "df_fixings.columns = ['fecha', 'nombre', 'valor']\n",
    "df_fixings['valor'] /= 100"
   ]
  },
  {
   "cell_type": "code",
   "execution_count": 18,
   "metadata": {
    "ExecuteTime": {
     "end_time": "2020-11-29T14:46:27.758931Z",
     "start_time": "2020-11-29T14:46:27.747995Z"
    }
   },
   "outputs": [
    {
     "data": {
      "text/html": [
       "<style  type=\"text/css\" >\n",
       "</style><table id=\"T_a93573b0_3251_11eb_a3d0_02cba411ec9d\" ><thead>    <tr>        <th class=\"blank level0\" ></th>        <th class=\"col_heading level0 col0\" >fecha</th>        <th class=\"col_heading level0 col1\" >nombre</th>        <th class=\"col_heading level0 col2\" >valor</th>    </tr></thead><tbody>\n",
       "                <tr>\n",
       "                        <th id=\"T_a93573b0_3251_11eb_a3d0_02cba411ec9dlevel0_row0\" class=\"row_heading level0 row0\" >0</th>\n",
       "                        <td id=\"T_a93573b0_3251_11eb_a3d0_02cba411ec9drow0_col0\" class=\"data row0 col0\" >2020-10-28</td>\n",
       "                        <td id=\"T_a93573b0_3251_11eb_a3d0_02cba411ec9drow0_col1\" class=\"data row0 col1\" >SOFR</td>\n",
       "                        <td id=\"T_a93573b0_3251_11eb_a3d0_02cba411ec9drow0_col2\" class=\"data row0 col2\" >0.0800%</td>\n",
       "            </tr>\n",
       "            <tr>\n",
       "                        <th id=\"T_a93573b0_3251_11eb_a3d0_02cba411ec9dlevel0_row1\" class=\"row_heading level0 row1\" >1</th>\n",
       "                        <td id=\"T_a93573b0_3251_11eb_a3d0_02cba411ec9drow1_col0\" class=\"data row1 col0\" >2020-10-27</td>\n",
       "                        <td id=\"T_a93573b0_3251_11eb_a3d0_02cba411ec9drow1_col1\" class=\"data row1 col1\" >SOFR</td>\n",
       "                        <td id=\"T_a93573b0_3251_11eb_a3d0_02cba411ec9drow1_col2\" class=\"data row1 col2\" >0.0900%</td>\n",
       "            </tr>\n",
       "            <tr>\n",
       "                        <th id=\"T_a93573b0_3251_11eb_a3d0_02cba411ec9dlevel0_row2\" class=\"row_heading level0 row2\" >2</th>\n",
       "                        <td id=\"T_a93573b0_3251_11eb_a3d0_02cba411ec9drow2_col0\" class=\"data row2 col0\" >2020-10-26</td>\n",
       "                        <td id=\"T_a93573b0_3251_11eb_a3d0_02cba411ec9drow2_col1\" class=\"data row2 col1\" >SOFR</td>\n",
       "                        <td id=\"T_a93573b0_3251_11eb_a3d0_02cba411ec9drow2_col2\" class=\"data row2 col2\" >0.0900%</td>\n",
       "            </tr>\n",
       "            <tr>\n",
       "                        <th id=\"T_a93573b0_3251_11eb_a3d0_02cba411ec9dlevel0_row3\" class=\"row_heading level0 row3\" >3</th>\n",
       "                        <td id=\"T_a93573b0_3251_11eb_a3d0_02cba411ec9drow3_col0\" class=\"data row3 col0\" >2020-10-23</td>\n",
       "                        <td id=\"T_a93573b0_3251_11eb_a3d0_02cba411ec9drow3_col1\" class=\"data row3 col1\" >SOFR</td>\n",
       "                        <td id=\"T_a93573b0_3251_11eb_a3d0_02cba411ec9drow3_col2\" class=\"data row3 col2\" >0.0800%</td>\n",
       "            </tr>\n",
       "            <tr>\n",
       "                        <th id=\"T_a93573b0_3251_11eb_a3d0_02cba411ec9dlevel0_row4\" class=\"row_heading level0 row4\" >4</th>\n",
       "                        <td id=\"T_a93573b0_3251_11eb_a3d0_02cba411ec9drow4_col0\" class=\"data row4 col0\" >2020-10-22</td>\n",
       "                        <td id=\"T_a93573b0_3251_11eb_a3d0_02cba411ec9drow4_col1\" class=\"data row4 col1\" >SOFR</td>\n",
       "                        <td id=\"T_a93573b0_3251_11eb_a3d0_02cba411ec9drow4_col2\" class=\"data row4 col2\" >0.0700%</td>\n",
       "            </tr>\n",
       "    </tbody></table>"
      ],
      "text/plain": [
       "<pandas.io.formats.style.Styler at 0x7f45e67d8e48>"
      ]
     },
     "execution_count": 18,
     "metadata": {},
     "output_type": "execute_result"
    }
   ],
   "source": [
    "df_fixings.head().style.format({'valor': '{:.4%}'})"
   ]
  },
  {
   "cell_type": "code",
   "execution_count": 19,
   "metadata": {
    "ExecuteTime": {
     "end_time": "2020-11-29T14:46:29.775121Z",
     "start_time": "2020-11-29T14:46:29.764285Z"
    }
   },
   "outputs": [],
   "source": [
    "fixings = Qcf.time_series()\n",
    "for row in df_fixings.itertuples():\n",
    "    fixings[Qcf.build_qcdate_from_string(row.fecha)] = row.valor"
   ]
  },
  {
   "cell_type": "code",
   "execution_count": 20,
   "metadata": {
    "ExecuteTime": {
     "end_time": "2020-11-29T14:46:30.507434Z",
     "start_time": "2020-11-29T14:46:30.501121Z"
    }
   },
   "outputs": [
    {
     "data": {
      "text/plain": [
       "0.0154"
      ]
     },
     "execution_count": 20,
     "metadata": {},
     "output_type": "execute_result"
    }
   ],
   "source": [
    "fixings[Qcf.QCDate(13, 1, 2020)]"
   ]
  },
  {
   "cell_type": "markdown",
   "metadata": {},
   "source": [
    "### `OisCashflow.accrued_rate`"
   ]
  },
  {
   "cell_type": "code",
   "execution_count": 21,
   "metadata": {
    "ExecuteTime": {
     "end_time": "2020-11-29T14:46:33.862346Z",
     "start_time": "2020-11-29T14:46:33.000928Z"
    }
   },
   "outputs": [
    {
     "ename": "ValueError",
     "evalue": "arrays must all be same length",
     "output_type": "error",
     "traceback": [
      "\u001b[0;31m---------------------------------------------------------------------------\u001b[0m",
      "\u001b[0;31mValueError\u001b[0m                                Traceback (most recent call last)",
      "\u001b[0;32m<ipython-input-21-81509e5440a9>\u001b[0m in \u001b[0;36m<module>\u001b[0;34m\u001b[0m\n\u001b[0;32m----> 1\u001b[0;31m \u001b[0maccrued_rate\u001b[0m \u001b[0;34m=\u001b[0m \u001b[0mois\u001b[0m\u001b[0;34m.\u001b[0m\u001b[0mget_accrued_rate\u001b[0m\u001b[0;34m(\u001b[0m\u001b[0mQcf\u001b[0m\u001b[0;34m.\u001b[0m\u001b[0mQCDate\u001b[0m\u001b[0;34m(\u001b[0m\u001b[0;36m15\u001b[0m\u001b[0;34m,\u001b[0m \u001b[0;36m6\u001b[0m\u001b[0;34m,\u001b[0m \u001b[0;36m2020\u001b[0m\u001b[0;34m)\u001b[0m\u001b[0;34m,\u001b[0m \u001b[0mfixings\u001b[0m\u001b[0;34m)\u001b[0m\u001b[0;34m\u001b[0m\u001b[0;34m\u001b[0m\u001b[0m\n\u001b[0m\u001b[1;32m      2\u001b[0m \u001b[0mprint\u001b[0m\u001b[0;34m(\u001b[0m\u001b[0;34mf'accrued rate: {accrued_rate:.8%}'\u001b[0m\u001b[0;34m)\u001b[0m\u001b[0;34m\u001b[0m\u001b[0;34m\u001b[0m\u001b[0m\n",
      "\u001b[0;32m<ipython-input-8-2e22d1af94a6>\u001b[0m in \u001b[0;36mget_accrued_rate\u001b[0;34m(self, accrual_date, fixing)\u001b[0m\n\u001b[1;32m     61\u001b[0m         \u001b[0masoc_tasa\u001b[0m \u001b[0;34m=\u001b[0m \u001b[0mQcf\u001b[0m\u001b[0;34m.\u001b[0m\u001b[0mtime_series_values\u001b[0m\u001b[0;34m(\u001b[0m\u001b[0mfixing\u001b[0m\u001b[0;34m)\u001b[0m\u001b[0;34m\u001b[0m\u001b[0;34m\u001b[0m\u001b[0m\n\u001b[1;32m     62\u001b[0m \u001b[0;34m\u001b[0m\u001b[0m\n\u001b[0;32m---> 63\u001b[0;31m         \u001b[0mdf2\u001b[0m\u001b[0;34m=\u001b[0m \u001b[0mpd\u001b[0m\u001b[0;34m.\u001b[0m\u001b[0mDataFrame\u001b[0m\u001b[0;34m(\u001b[0m\u001b[0;34m{\u001b[0m\u001b[0;34m'FECHA INICIAL'\u001b[0m\u001b[0;34m:\u001b[0m\u001b[0masoc_inicial\u001b[0m\u001b[0;34m,\u001b[0m\u001b[0;34m'FECHA FINAL'\u001b[0m\u001b[0;34m:\u001b[0m\u001b[0masoc_final\u001b[0m\u001b[0;34m,\u001b[0m\u001b[0;34m'TASAS'\u001b[0m\u001b[0;34m:\u001b[0m\u001b[0masoc_tasa\u001b[0m\u001b[0;34m}\u001b[0m\u001b[0;34m)\u001b[0m\u001b[0;34m\u001b[0m\u001b[0;34m\u001b[0m\u001b[0m\n\u001b[0m\u001b[1;32m     64\u001b[0m \u001b[0;34m\u001b[0m\u001b[0m\n\u001b[1;32m     65\u001b[0m         \u001b[0;31m#generando función auxiliar\u001b[0m\u001b[0;34m\u001b[0m\u001b[0;34m\u001b[0m\u001b[0;34m\u001b[0m\u001b[0m\n",
      "\u001b[0;32m/opt/tljh/user/lib/python3.7/site-packages/pandas/core/frame.py\u001b[0m in \u001b[0;36m__init__\u001b[0;34m(self, data, index, columns, dtype, copy)\u001b[0m\n\u001b[1;32m    433\u001b[0m             )\n\u001b[1;32m    434\u001b[0m         \u001b[0;32melif\u001b[0m \u001b[0misinstance\u001b[0m\u001b[0;34m(\u001b[0m\u001b[0mdata\u001b[0m\u001b[0;34m,\u001b[0m \u001b[0mdict\u001b[0m\u001b[0;34m)\u001b[0m\u001b[0;34m:\u001b[0m\u001b[0;34m\u001b[0m\u001b[0;34m\u001b[0m\u001b[0m\n\u001b[0;32m--> 435\u001b[0;31m             \u001b[0mmgr\u001b[0m \u001b[0;34m=\u001b[0m \u001b[0minit_dict\u001b[0m\u001b[0;34m(\u001b[0m\u001b[0mdata\u001b[0m\u001b[0;34m,\u001b[0m \u001b[0mindex\u001b[0m\u001b[0;34m,\u001b[0m \u001b[0mcolumns\u001b[0m\u001b[0;34m,\u001b[0m \u001b[0mdtype\u001b[0m\u001b[0;34m=\u001b[0m\u001b[0mdtype\u001b[0m\u001b[0;34m)\u001b[0m\u001b[0;34m\u001b[0m\u001b[0;34m\u001b[0m\u001b[0m\n\u001b[0m\u001b[1;32m    436\u001b[0m         \u001b[0;32melif\u001b[0m \u001b[0misinstance\u001b[0m\u001b[0;34m(\u001b[0m\u001b[0mdata\u001b[0m\u001b[0;34m,\u001b[0m \u001b[0mma\u001b[0m\u001b[0;34m.\u001b[0m\u001b[0mMaskedArray\u001b[0m\u001b[0;34m)\u001b[0m\u001b[0;34m:\u001b[0m\u001b[0;34m\u001b[0m\u001b[0;34m\u001b[0m\u001b[0m\n\u001b[1;32m    437\u001b[0m             \u001b[0;32mimport\u001b[0m \u001b[0mnumpy\u001b[0m\u001b[0;34m.\u001b[0m\u001b[0mma\u001b[0m\u001b[0;34m.\u001b[0m\u001b[0mmrecords\u001b[0m \u001b[0;32mas\u001b[0m \u001b[0mmrecords\u001b[0m\u001b[0;34m\u001b[0m\u001b[0;34m\u001b[0m\u001b[0m\n",
      "\u001b[0;32m/opt/tljh/user/lib/python3.7/site-packages/pandas/core/internals/construction.py\u001b[0m in \u001b[0;36minit_dict\u001b[0;34m(data, index, columns, dtype)\u001b[0m\n\u001b[1;32m    252\u001b[0m             \u001b[0marr\u001b[0m \u001b[0;32mif\u001b[0m \u001b[0;32mnot\u001b[0m \u001b[0mis_datetime64tz_dtype\u001b[0m\u001b[0;34m(\u001b[0m\u001b[0marr\u001b[0m\u001b[0;34m)\u001b[0m \u001b[0;32melse\u001b[0m \u001b[0marr\u001b[0m\u001b[0;34m.\u001b[0m\u001b[0mcopy\u001b[0m\u001b[0;34m(\u001b[0m\u001b[0;34m)\u001b[0m \u001b[0;32mfor\u001b[0m \u001b[0marr\u001b[0m \u001b[0;32min\u001b[0m \u001b[0marrays\u001b[0m\u001b[0;34m\u001b[0m\u001b[0;34m\u001b[0m\u001b[0m\n\u001b[1;32m    253\u001b[0m         ]\n\u001b[0;32m--> 254\u001b[0;31m     \u001b[0;32mreturn\u001b[0m \u001b[0marrays_to_mgr\u001b[0m\u001b[0;34m(\u001b[0m\u001b[0marrays\u001b[0m\u001b[0;34m,\u001b[0m \u001b[0mdata_names\u001b[0m\u001b[0;34m,\u001b[0m \u001b[0mindex\u001b[0m\u001b[0;34m,\u001b[0m \u001b[0mcolumns\u001b[0m\u001b[0;34m,\u001b[0m \u001b[0mdtype\u001b[0m\u001b[0;34m=\u001b[0m\u001b[0mdtype\u001b[0m\u001b[0;34m)\u001b[0m\u001b[0;34m\u001b[0m\u001b[0;34m\u001b[0m\u001b[0m\n\u001b[0m\u001b[1;32m    255\u001b[0m \u001b[0;34m\u001b[0m\u001b[0m\n\u001b[1;32m    256\u001b[0m \u001b[0;34m\u001b[0m\u001b[0m\n",
      "\u001b[0;32m/opt/tljh/user/lib/python3.7/site-packages/pandas/core/internals/construction.py\u001b[0m in \u001b[0;36marrays_to_mgr\u001b[0;34m(arrays, arr_names, index, columns, dtype)\u001b[0m\n\u001b[1;32m     62\u001b[0m     \u001b[0;31m# figure out the index, if necessary\u001b[0m\u001b[0;34m\u001b[0m\u001b[0;34m\u001b[0m\u001b[0;34m\u001b[0m\u001b[0m\n\u001b[1;32m     63\u001b[0m     \u001b[0;32mif\u001b[0m \u001b[0mindex\u001b[0m \u001b[0;32mis\u001b[0m \u001b[0;32mNone\u001b[0m\u001b[0;34m:\u001b[0m\u001b[0;34m\u001b[0m\u001b[0;34m\u001b[0m\u001b[0m\n\u001b[0;32m---> 64\u001b[0;31m         \u001b[0mindex\u001b[0m \u001b[0;34m=\u001b[0m \u001b[0mextract_index\u001b[0m\u001b[0;34m(\u001b[0m\u001b[0marrays\u001b[0m\u001b[0;34m)\u001b[0m\u001b[0;34m\u001b[0m\u001b[0;34m\u001b[0m\u001b[0m\n\u001b[0m\u001b[1;32m     65\u001b[0m     \u001b[0;32melse\u001b[0m\u001b[0;34m:\u001b[0m\u001b[0;34m\u001b[0m\u001b[0;34m\u001b[0m\u001b[0m\n\u001b[1;32m     66\u001b[0m         \u001b[0mindex\u001b[0m \u001b[0;34m=\u001b[0m \u001b[0mensure_index\u001b[0m\u001b[0;34m(\u001b[0m\u001b[0mindex\u001b[0m\u001b[0;34m)\u001b[0m\u001b[0;34m\u001b[0m\u001b[0;34m\u001b[0m\u001b[0m\n",
      "\u001b[0;32m/opt/tljh/user/lib/python3.7/site-packages/pandas/core/internals/construction.py\u001b[0m in \u001b[0;36mextract_index\u001b[0;34m(data)\u001b[0m\n\u001b[1;32m    363\u001b[0m             \u001b[0mlengths\u001b[0m \u001b[0;34m=\u001b[0m \u001b[0mlist\u001b[0m\u001b[0;34m(\u001b[0m\u001b[0mset\u001b[0m\u001b[0;34m(\u001b[0m\u001b[0mraw_lengths\u001b[0m\u001b[0;34m)\u001b[0m\u001b[0;34m)\u001b[0m\u001b[0;34m\u001b[0m\u001b[0;34m\u001b[0m\u001b[0m\n\u001b[1;32m    364\u001b[0m             \u001b[0;32mif\u001b[0m \u001b[0mlen\u001b[0m\u001b[0;34m(\u001b[0m\u001b[0mlengths\u001b[0m\u001b[0;34m)\u001b[0m \u001b[0;34m>\u001b[0m \u001b[0;36m1\u001b[0m\u001b[0;34m:\u001b[0m\u001b[0;34m\u001b[0m\u001b[0;34m\u001b[0m\u001b[0m\n\u001b[0;32m--> 365\u001b[0;31m                 \u001b[0;32mraise\u001b[0m \u001b[0mValueError\u001b[0m\u001b[0;34m(\u001b[0m\u001b[0;34m\"arrays must all be same length\"\u001b[0m\u001b[0;34m)\u001b[0m\u001b[0;34m\u001b[0m\u001b[0;34m\u001b[0m\u001b[0m\n\u001b[0m\u001b[1;32m    366\u001b[0m \u001b[0;34m\u001b[0m\u001b[0m\n\u001b[1;32m    367\u001b[0m             \u001b[0;32mif\u001b[0m \u001b[0mhave_dicts\u001b[0m\u001b[0;34m:\u001b[0m\u001b[0;34m\u001b[0m\u001b[0;34m\u001b[0m\u001b[0m\n",
      "\u001b[0;31mValueError\u001b[0m: arrays must all be same length"
     ]
    }
   ],
   "source": [
    "accrued_rate = ois.get_accrued_rate(Qcf.QCDate(15, 6, 2020), fixings)\n",
    "print(f'accrued rate: {accrued_rate:.8%}')"
   ]
  },
  {
   "cell_type": "markdown",
   "metadata": {},
   "source": [
    "Se verificará el cálculo usando `df_fixings`."
   ]
  },
  {
   "cell_type": "code",
   "execution_count": 22,
   "metadata": {
    "ExecuteTime": {
     "end_time": "2020-11-29T14:47:13.416532Z",
     "start_time": "2020-11-29T14:47:13.409635Z"
    }
   },
   "outputs": [
    {
     "data": {
      "text/html": [
       "<style  type=\"text/css\" >\n",
       "</style><table id=\"T_c46ca3ba_3251_11eb_a3d0_02cba411ec9d\" ><thead>    <tr>        <th class=\"blank level0\" ></th>        <th class=\"col_heading level0 col0\" >fecha</th>        <th class=\"col_heading level0 col1\" >nombre</th>        <th class=\"col_heading level0 col2\" >valor</th>    </tr></thead><tbody>\n",
       "                <tr>\n",
       "                        <th id=\"T_c46ca3ba_3251_11eb_a3d0_02cba411ec9dlevel0_row0\" class=\"row_heading level0 row0\" >0</th>\n",
       "                        <td id=\"T_c46ca3ba_3251_11eb_a3d0_02cba411ec9drow0_col0\" class=\"data row0 col0\" >2020-10-28</td>\n",
       "                        <td id=\"T_c46ca3ba_3251_11eb_a3d0_02cba411ec9drow0_col1\" class=\"data row0 col1\" >SOFR</td>\n",
       "                        <td id=\"T_c46ca3ba_3251_11eb_a3d0_02cba411ec9drow0_col2\" class=\"data row0 col2\" >0.0800%</td>\n",
       "            </tr>\n",
       "            <tr>\n",
       "                        <th id=\"T_c46ca3ba_3251_11eb_a3d0_02cba411ec9dlevel0_row1\" class=\"row_heading level0 row1\" >1</th>\n",
       "                        <td id=\"T_c46ca3ba_3251_11eb_a3d0_02cba411ec9drow1_col0\" class=\"data row1 col0\" >2020-10-27</td>\n",
       "                        <td id=\"T_c46ca3ba_3251_11eb_a3d0_02cba411ec9drow1_col1\" class=\"data row1 col1\" >SOFR</td>\n",
       "                        <td id=\"T_c46ca3ba_3251_11eb_a3d0_02cba411ec9drow1_col2\" class=\"data row1 col2\" >0.0900%</td>\n",
       "            </tr>\n",
       "            <tr>\n",
       "                        <th id=\"T_c46ca3ba_3251_11eb_a3d0_02cba411ec9dlevel0_row2\" class=\"row_heading level0 row2\" >2</th>\n",
       "                        <td id=\"T_c46ca3ba_3251_11eb_a3d0_02cba411ec9drow2_col0\" class=\"data row2 col0\" >2020-10-26</td>\n",
       "                        <td id=\"T_c46ca3ba_3251_11eb_a3d0_02cba411ec9drow2_col1\" class=\"data row2 col1\" >SOFR</td>\n",
       "                        <td id=\"T_c46ca3ba_3251_11eb_a3d0_02cba411ec9drow2_col2\" class=\"data row2 col2\" >0.0900%</td>\n",
       "            </tr>\n",
       "            <tr>\n",
       "                        <th id=\"T_c46ca3ba_3251_11eb_a3d0_02cba411ec9dlevel0_row3\" class=\"row_heading level0 row3\" >3</th>\n",
       "                        <td id=\"T_c46ca3ba_3251_11eb_a3d0_02cba411ec9drow3_col0\" class=\"data row3 col0\" >2020-10-23</td>\n",
       "                        <td id=\"T_c46ca3ba_3251_11eb_a3d0_02cba411ec9drow3_col1\" class=\"data row3 col1\" >SOFR</td>\n",
       "                        <td id=\"T_c46ca3ba_3251_11eb_a3d0_02cba411ec9drow3_col2\" class=\"data row3 col2\" >0.0800%</td>\n",
       "            </tr>\n",
       "            <tr>\n",
       "                        <th id=\"T_c46ca3ba_3251_11eb_a3d0_02cba411ec9dlevel0_row4\" class=\"row_heading level0 row4\" >4</th>\n",
       "                        <td id=\"T_c46ca3ba_3251_11eb_a3d0_02cba411ec9drow4_col0\" class=\"data row4 col0\" >2020-10-22</td>\n",
       "                        <td id=\"T_c46ca3ba_3251_11eb_a3d0_02cba411ec9drow4_col1\" class=\"data row4 col1\" >SOFR</td>\n",
       "                        <td id=\"T_c46ca3ba_3251_11eb_a3d0_02cba411ec9drow4_col2\" class=\"data row4 col2\" >0.0700%</td>\n",
       "            </tr>\n",
       "    </tbody></table>"
      ],
      "text/plain": [
       "<pandas.io.formats.style.Styler at 0x7f46293a45f8>"
      ]
     },
     "execution_count": 22,
     "metadata": {},
     "output_type": "execute_result"
    }
   ],
   "source": [
    "df_fixings.head().style.format({'valor': '{:.4%}'})"
   ]
  },
  {
   "cell_type": "markdown",
   "metadata": {
    "ExecuteTime": {
     "end_time": "2020-11-28T10:46:07.293545Z",
     "start_time": "2020-11-28T10:46:07.285532Z"
    }
   },
   "source": [
    "Se agrega la columna `next_date`, servirá para calcular el factor de capitalización de cada tasa."
   ]
  },
  {
   "cell_type": "code",
   "execution_count": 23,
   "metadata": {
    "ExecuteTime": {
     "end_time": "2020-11-29T14:47:38.660246Z",
     "start_time": "2020-11-29T14:47:38.654957Z"
    }
   },
   "outputs": [],
   "source": [
    "def next_date(fecha:str, calendario: Qcf.BusinessCalendar) -> str:\n",
    "    qfecha = Qcf.build_qcdate_from_string(fecha)\n",
    "    next_fecha = calendario.shift(qfecha, 1)\n",
    "    return next_fecha.description(False)"
   ]
  },
  {
   "cell_type": "code",
   "execution_count": 24,
   "metadata": {
    "ExecuteTime": {
     "end_time": "2020-11-29T14:47:44.108141Z",
     "start_time": "2020-11-29T14:47:44.082799Z"
    }
   },
   "outputs": [],
   "source": [
    "df_fixings['next_fecha'] = df_fixings.apply(\n",
    "    lambda row: next_date(row['fecha'], settlement_calendar),\n",
    "    axis=1\n",
    ")"
   ]
  },
  {
   "cell_type": "code",
   "execution_count": 25,
   "metadata": {
    "ExecuteTime": {
     "end_time": "2020-11-29T14:47:53.659517Z",
     "start_time": "2020-11-29T14:47:53.648938Z"
    }
   },
   "outputs": [
    {
     "data": {
      "text/html": [
       "<style  type=\"text/css\" >\n",
       "</style><table id=\"T_dc68f7de_3251_11eb_a3d0_02cba411ec9d\" ><thead>    <tr>        <th class=\"blank level0\" ></th>        <th class=\"col_heading level0 col0\" >fecha</th>        <th class=\"col_heading level0 col1\" >nombre</th>        <th class=\"col_heading level0 col2\" >valor</th>        <th class=\"col_heading level0 col3\" >next_fecha</th>    </tr></thead><tbody>\n",
       "                <tr>\n",
       "                        <th id=\"T_dc68f7de_3251_11eb_a3d0_02cba411ec9dlevel0_row0\" class=\"row_heading level0 row0\" >0</th>\n",
       "                        <td id=\"T_dc68f7de_3251_11eb_a3d0_02cba411ec9drow0_col0\" class=\"data row0 col0\" >2020-10-28</td>\n",
       "                        <td id=\"T_dc68f7de_3251_11eb_a3d0_02cba411ec9drow0_col1\" class=\"data row0 col1\" >SOFR</td>\n",
       "                        <td id=\"T_dc68f7de_3251_11eb_a3d0_02cba411ec9drow0_col2\" class=\"data row0 col2\" >0.0800%</td>\n",
       "                        <td id=\"T_dc68f7de_3251_11eb_a3d0_02cba411ec9drow0_col3\" class=\"data row0 col3\" >2020-10-29</td>\n",
       "            </tr>\n",
       "            <tr>\n",
       "                        <th id=\"T_dc68f7de_3251_11eb_a3d0_02cba411ec9dlevel0_row1\" class=\"row_heading level0 row1\" >1</th>\n",
       "                        <td id=\"T_dc68f7de_3251_11eb_a3d0_02cba411ec9drow1_col0\" class=\"data row1 col0\" >2020-10-27</td>\n",
       "                        <td id=\"T_dc68f7de_3251_11eb_a3d0_02cba411ec9drow1_col1\" class=\"data row1 col1\" >SOFR</td>\n",
       "                        <td id=\"T_dc68f7de_3251_11eb_a3d0_02cba411ec9drow1_col2\" class=\"data row1 col2\" >0.0900%</td>\n",
       "                        <td id=\"T_dc68f7de_3251_11eb_a3d0_02cba411ec9drow1_col3\" class=\"data row1 col3\" >2020-10-28</td>\n",
       "            </tr>\n",
       "            <tr>\n",
       "                        <th id=\"T_dc68f7de_3251_11eb_a3d0_02cba411ec9dlevel0_row2\" class=\"row_heading level0 row2\" >2</th>\n",
       "                        <td id=\"T_dc68f7de_3251_11eb_a3d0_02cba411ec9drow2_col0\" class=\"data row2 col0\" >2020-10-26</td>\n",
       "                        <td id=\"T_dc68f7de_3251_11eb_a3d0_02cba411ec9drow2_col1\" class=\"data row2 col1\" >SOFR</td>\n",
       "                        <td id=\"T_dc68f7de_3251_11eb_a3d0_02cba411ec9drow2_col2\" class=\"data row2 col2\" >0.0900%</td>\n",
       "                        <td id=\"T_dc68f7de_3251_11eb_a3d0_02cba411ec9drow2_col3\" class=\"data row2 col3\" >2020-10-27</td>\n",
       "            </tr>\n",
       "            <tr>\n",
       "                        <th id=\"T_dc68f7de_3251_11eb_a3d0_02cba411ec9dlevel0_row3\" class=\"row_heading level0 row3\" >3</th>\n",
       "                        <td id=\"T_dc68f7de_3251_11eb_a3d0_02cba411ec9drow3_col0\" class=\"data row3 col0\" >2020-10-23</td>\n",
       "                        <td id=\"T_dc68f7de_3251_11eb_a3d0_02cba411ec9drow3_col1\" class=\"data row3 col1\" >SOFR</td>\n",
       "                        <td id=\"T_dc68f7de_3251_11eb_a3d0_02cba411ec9drow3_col2\" class=\"data row3 col2\" >0.0800%</td>\n",
       "                        <td id=\"T_dc68f7de_3251_11eb_a3d0_02cba411ec9drow3_col3\" class=\"data row3 col3\" >2020-10-26</td>\n",
       "            </tr>\n",
       "            <tr>\n",
       "                        <th id=\"T_dc68f7de_3251_11eb_a3d0_02cba411ec9dlevel0_row4\" class=\"row_heading level0 row4\" >4</th>\n",
       "                        <td id=\"T_dc68f7de_3251_11eb_a3d0_02cba411ec9drow4_col0\" class=\"data row4 col0\" >2020-10-22</td>\n",
       "                        <td id=\"T_dc68f7de_3251_11eb_a3d0_02cba411ec9drow4_col1\" class=\"data row4 col1\" >SOFR</td>\n",
       "                        <td id=\"T_dc68f7de_3251_11eb_a3d0_02cba411ec9drow4_col2\" class=\"data row4 col2\" >0.0700%</td>\n",
       "                        <td id=\"T_dc68f7de_3251_11eb_a3d0_02cba411ec9drow4_col3\" class=\"data row4 col3\" >2020-10-23</td>\n",
       "            </tr>\n",
       "    </tbody></table>"
      ],
      "text/plain": [
       "<pandas.io.formats.style.Styler at 0x7f46293a4550>"
      ]
     },
     "execution_count": 25,
     "metadata": {},
     "output_type": "execute_result"
    }
   ],
   "source": [
    "df_fixings.head().style.format({'valor': '{:.4%}'})"
   ]
  },
  {
   "cell_type": "markdown",
   "metadata": {},
   "source": [
    "Se calcula ahora el factor de capitalización."
   ]
  },
  {
   "cell_type": "code",
   "execution_count": 26,
   "metadata": {
    "ExecuteTime": {
     "end_time": "2020-11-29T14:47:58.858015Z",
     "start_time": "2020-11-29T14:47:58.851502Z"
    }
   },
   "outputs": [],
   "source": [
    "def factor_cap(fecha: str, next_fecha: str, valor: float) -> float:\n",
    "    qfecha = Qcf.build_qcdate_from_string(fecha)\n",
    "    qnext_fecha = Qcf.build_qcdate_from_string(next_fecha)\n",
    "    int_rate = Qcf.QCInterestRate(valor, Qcf.QCAct360(), Qcf.QCLinearWf())\n",
    "    return int_rate.wf(qfecha, qnext_fecha)"
   ]
  },
  {
   "cell_type": "code",
   "execution_count": 27,
   "metadata": {
    "ExecuteTime": {
     "end_time": "2020-11-29T14:47:59.869771Z",
     "start_time": "2020-11-29T14:47:59.828090Z"
    }
   },
   "outputs": [],
   "source": [
    "df_fixings['factor_capitalizacion'] = df_fixings.apply(\n",
    "    lambda row: factor_cap(row['fecha'], row['next_fecha'], row['valor']),\n",
    "    axis=1\n",
    ")"
   ]
  },
  {
   "cell_type": "code",
   "execution_count": 28,
   "metadata": {
    "ExecuteTime": {
     "end_time": "2020-11-29T14:48:01.884157Z",
     "start_time": "2020-11-29T14:48:01.875619Z"
    }
   },
   "outputs": [
    {
     "data": {
      "text/html": [
       "<style  type=\"text/css\" >\n",
       "</style><table id=\"T_e1500df0_3251_11eb_a3d0_02cba411ec9d\" ><thead>    <tr>        <th class=\"blank level0\" ></th>        <th class=\"col_heading level0 col0\" >fecha</th>        <th class=\"col_heading level0 col1\" >nombre</th>        <th class=\"col_heading level0 col2\" >valor</th>        <th class=\"col_heading level0 col3\" >next_fecha</th>        <th class=\"col_heading level0 col4\" >factor_capitalizacion</th>    </tr></thead><tbody>\n",
       "                <tr>\n",
       "                        <th id=\"T_e1500df0_3251_11eb_a3d0_02cba411ec9dlevel0_row0\" class=\"row_heading level0 row0\" >0</th>\n",
       "                        <td id=\"T_e1500df0_3251_11eb_a3d0_02cba411ec9drow0_col0\" class=\"data row0 col0\" >2020-10-28</td>\n",
       "                        <td id=\"T_e1500df0_3251_11eb_a3d0_02cba411ec9drow0_col1\" class=\"data row0 col1\" >SOFR</td>\n",
       "                        <td id=\"T_e1500df0_3251_11eb_a3d0_02cba411ec9drow0_col2\" class=\"data row0 col2\" >0.0800%</td>\n",
       "                        <td id=\"T_e1500df0_3251_11eb_a3d0_02cba411ec9drow0_col3\" class=\"data row0 col3\" >2020-10-29</td>\n",
       "                        <td id=\"T_e1500df0_3251_11eb_a3d0_02cba411ec9drow0_col4\" class=\"data row0 col4\" >1.000002</td>\n",
       "            </tr>\n",
       "            <tr>\n",
       "                        <th id=\"T_e1500df0_3251_11eb_a3d0_02cba411ec9dlevel0_row1\" class=\"row_heading level0 row1\" >1</th>\n",
       "                        <td id=\"T_e1500df0_3251_11eb_a3d0_02cba411ec9drow1_col0\" class=\"data row1 col0\" >2020-10-27</td>\n",
       "                        <td id=\"T_e1500df0_3251_11eb_a3d0_02cba411ec9drow1_col1\" class=\"data row1 col1\" >SOFR</td>\n",
       "                        <td id=\"T_e1500df0_3251_11eb_a3d0_02cba411ec9drow1_col2\" class=\"data row1 col2\" >0.0900%</td>\n",
       "                        <td id=\"T_e1500df0_3251_11eb_a3d0_02cba411ec9drow1_col3\" class=\"data row1 col3\" >2020-10-28</td>\n",
       "                        <td id=\"T_e1500df0_3251_11eb_a3d0_02cba411ec9drow1_col4\" class=\"data row1 col4\" >1.000002</td>\n",
       "            </tr>\n",
       "            <tr>\n",
       "                        <th id=\"T_e1500df0_3251_11eb_a3d0_02cba411ec9dlevel0_row2\" class=\"row_heading level0 row2\" >2</th>\n",
       "                        <td id=\"T_e1500df0_3251_11eb_a3d0_02cba411ec9drow2_col0\" class=\"data row2 col0\" >2020-10-26</td>\n",
       "                        <td id=\"T_e1500df0_3251_11eb_a3d0_02cba411ec9drow2_col1\" class=\"data row2 col1\" >SOFR</td>\n",
       "                        <td id=\"T_e1500df0_3251_11eb_a3d0_02cba411ec9drow2_col2\" class=\"data row2 col2\" >0.0900%</td>\n",
       "                        <td id=\"T_e1500df0_3251_11eb_a3d0_02cba411ec9drow2_col3\" class=\"data row2 col3\" >2020-10-27</td>\n",
       "                        <td id=\"T_e1500df0_3251_11eb_a3d0_02cba411ec9drow2_col4\" class=\"data row2 col4\" >1.000002</td>\n",
       "            </tr>\n",
       "            <tr>\n",
       "                        <th id=\"T_e1500df0_3251_11eb_a3d0_02cba411ec9dlevel0_row3\" class=\"row_heading level0 row3\" >3</th>\n",
       "                        <td id=\"T_e1500df0_3251_11eb_a3d0_02cba411ec9drow3_col0\" class=\"data row3 col0\" >2020-10-23</td>\n",
       "                        <td id=\"T_e1500df0_3251_11eb_a3d0_02cba411ec9drow3_col1\" class=\"data row3 col1\" >SOFR</td>\n",
       "                        <td id=\"T_e1500df0_3251_11eb_a3d0_02cba411ec9drow3_col2\" class=\"data row3 col2\" >0.0800%</td>\n",
       "                        <td id=\"T_e1500df0_3251_11eb_a3d0_02cba411ec9drow3_col3\" class=\"data row3 col3\" >2020-10-26</td>\n",
       "                        <td id=\"T_e1500df0_3251_11eb_a3d0_02cba411ec9drow3_col4\" class=\"data row3 col4\" >1.000007</td>\n",
       "            </tr>\n",
       "            <tr>\n",
       "                        <th id=\"T_e1500df0_3251_11eb_a3d0_02cba411ec9dlevel0_row4\" class=\"row_heading level0 row4\" >4</th>\n",
       "                        <td id=\"T_e1500df0_3251_11eb_a3d0_02cba411ec9drow4_col0\" class=\"data row4 col0\" >2020-10-22</td>\n",
       "                        <td id=\"T_e1500df0_3251_11eb_a3d0_02cba411ec9drow4_col1\" class=\"data row4 col1\" >SOFR</td>\n",
       "                        <td id=\"T_e1500df0_3251_11eb_a3d0_02cba411ec9drow4_col2\" class=\"data row4 col2\" >0.0700%</td>\n",
       "                        <td id=\"T_e1500df0_3251_11eb_a3d0_02cba411ec9drow4_col3\" class=\"data row4 col3\" >2020-10-23</td>\n",
       "                        <td id=\"T_e1500df0_3251_11eb_a3d0_02cba411ec9drow4_col4\" class=\"data row4 col4\" >1.000002</td>\n",
       "            </tr>\n",
       "    </tbody></table>"
      ],
      "text/plain": [
       "<pandas.io.formats.style.Styler at 0x7f45e67d8780>"
      ]
     },
     "execution_count": 28,
     "metadata": {},
     "output_type": "execute_result"
    }
   ],
   "source": [
    "df_fixings.head().style.format({'valor': '{:.4%}'})"
   ]
  },
  {
   "cell_type": "markdown",
   "metadata": {},
   "source": [
    "Veamos donde están en `df_fixings` los valores para `start_date` de `ois` y la fecha 15-6-2020 y calculamos el producto de los factores de capitalización desde esa fecha hasta la última fecha de `df_flujos` (que es el primer registro). Luego, el cociente de los dos factores nos dará el factor entre ambas fechas. Finalmente, con ese factor, se calculará `accrued_rate`."
   ]
  },
  {
   "cell_type": "code",
   "execution_count": 29,
   "metadata": {
    "ExecuteTime": {
     "end_time": "2020-11-29T14:48:03.293617Z",
     "start_time": "2020-11-29T14:48:03.273662Z"
    }
   },
   "outputs": [
    {
     "data": {
      "text/html": [
       "<div>\n",
       "<style scoped>\n",
       "    .dataframe tbody tr th:only-of-type {\n",
       "        vertical-align: middle;\n",
       "    }\n",
       "\n",
       "    .dataframe tbody tr th {\n",
       "        vertical-align: top;\n",
       "    }\n",
       "\n",
       "    .dataframe thead th {\n",
       "        text-align: right;\n",
       "    }\n",
       "</style>\n",
       "<table border=\"1\" class=\"dataframe\">\n",
       "  <thead>\n",
       "    <tr style=\"text-align: right;\">\n",
       "      <th></th>\n",
       "      <th>fecha</th>\n",
       "      <th>nombre</th>\n",
       "      <th>valor</th>\n",
       "      <th>next_fecha</th>\n",
       "      <th>factor_capitalizacion</th>\n",
       "    </tr>\n",
       "  </thead>\n",
       "  <tbody>\n",
       "    <tr>\n",
       "      <th>269</th>\n",
       "      <td>2019-10-01</td>\n",
       "      <td>SOFR</td>\n",
       "      <td>0.0188</td>\n",
       "      <td>2019-10-02</td>\n",
       "      <td>1.000052</td>\n",
       "    </tr>\n",
       "  </tbody>\n",
       "</table>\n",
       "</div>"
      ],
      "text/plain": [
       "          fecha nombre   valor  next_fecha  factor_capitalizacion\n",
       "269  2019-10-01   SOFR  0.0188  2019-10-02               1.000052"
      ]
     },
     "execution_count": 29,
     "metadata": {},
     "output_type": "execute_result"
    }
   ],
   "source": [
    "start_date = ois.start_date.description(False)\n",
    "df_fixings[df_fixings.fecha == start_date]"
   ]
  },
  {
   "cell_type": "code",
   "execution_count": 30,
   "metadata": {
    "ExecuteTime": {
     "end_time": "2020-11-29T14:48:06.069917Z",
     "start_time": "2020-11-29T14:48:06.062385Z"
    }
   },
   "outputs": [
    {
     "name": "stdout",
     "output_type": "stream",
     "text": [
      "1.0075715527341267\n"
     ]
    }
   ],
   "source": [
    "factor_largo = df_fixings.iloc[:270]['factor_capitalizacion'].prod()\n",
    "print(factor_largo)\n",
    "qstart_date = Qcf.build_qcdate_from_string('2019-10-01')"
   ]
  },
  {
   "cell_type": "code",
   "execution_count": 31,
   "metadata": {
    "ExecuteTime": {
     "end_time": "2020-11-29T14:48:07.259576Z",
     "start_time": "2020-11-29T14:48:07.245289Z"
    }
   },
   "outputs": [
    {
     "data": {
      "text/html": [
       "<div>\n",
       "<style scoped>\n",
       "    .dataframe tbody tr th:only-of-type {\n",
       "        vertical-align: middle;\n",
       "    }\n",
       "\n",
       "    .dataframe tbody tr th {\n",
       "        vertical-align: top;\n",
       "    }\n",
       "\n",
       "    .dataframe thead th {\n",
       "        text-align: right;\n",
       "    }\n",
       "</style>\n",
       "<table border=\"1\" class=\"dataframe\">\n",
       "  <thead>\n",
       "    <tr style=\"text-align: right;\">\n",
       "      <th></th>\n",
       "      <th>fecha</th>\n",
       "      <th>nombre</th>\n",
       "      <th>valor</th>\n",
       "      <th>next_fecha</th>\n",
       "      <th>factor_capitalizacion</th>\n",
       "    </tr>\n",
       "  </thead>\n",
       "  <tbody>\n",
       "    <tr>\n",
       "      <th>94</th>\n",
       "      <td>2020-06-15</td>\n",
       "      <td>SOFR</td>\n",
       "      <td>0.0009</td>\n",
       "      <td>2020-06-16</td>\n",
       "      <td>1.000002</td>\n",
       "    </tr>\n",
       "  </tbody>\n",
       "</table>\n",
       "</div>"
      ],
      "text/plain": [
       "         fecha nombre   valor  next_fecha  factor_capitalizacion\n",
       "94  2020-06-15   SOFR  0.0009  2020-06-16               1.000002"
      ]
     },
     "execution_count": 31,
     "metadata": {},
     "output_type": "execute_result"
    }
   ],
   "source": [
    "df_fixings[df_fixings.fecha == '2020-06-15']"
   ]
  },
  {
   "cell_type": "code",
   "execution_count": 32,
   "metadata": {
    "ExecuteTime": {
     "end_time": "2020-11-29T14:48:08.360281Z",
     "start_time": "2020-11-29T14:48:08.355813Z"
    }
   },
   "outputs": [],
   "source": [
    "factor_corto = df_fixings.iloc[:95]['factor_capitalizacion'].prod()\n",
    "qaccrued_date = Qcf.build_qcdate_from_string('2020-06-15')"
   ]
  },
  {
   "cell_type": "code",
   "execution_count": 33,
   "metadata": {
    "ExecuteTime": {
     "end_time": "2020-11-29T14:48:08.997348Z",
     "start_time": "2020-11-29T14:48:08.982448Z"
    }
   },
   "outputs": [
    {
     "ename": "NameError",
     "evalue": "name 'accrued_rate' is not defined",
     "output_type": "error",
     "traceback": [
      "\u001b[0;31m---------------------------------------------------------------------------\u001b[0m",
      "\u001b[0;31mNameError\u001b[0m                                 Traceback (most recent call last)",
      "\u001b[0;32m<ipython-input-33-b8a7f4c1f41e>\u001b[0m in \u001b[0;36m<module>\u001b[0;34m\u001b[0m\n\u001b[1;32m      1\u001b[0m \u001b[0mdias\u001b[0m \u001b[0;34m=\u001b[0m \u001b[0mqstart_date\u001b[0m\u001b[0;34m.\u001b[0m\u001b[0mday_diff\u001b[0m\u001b[0;34m(\u001b[0m\u001b[0mqaccrued_date\u001b[0m\u001b[0;34m)\u001b[0m\u001b[0;34m\u001b[0m\u001b[0;34m\u001b[0m\u001b[0m\n\u001b[1;32m      2\u001b[0m \u001b[0mcheck_accrued_rate\u001b[0m \u001b[0;34m=\u001b[0m \u001b[0;34m(\u001b[0m\u001b[0mfactor_largo\u001b[0m \u001b[0;34m/\u001b[0m \u001b[0mfactor_corto\u001b[0m \u001b[0;34m-\u001b[0m \u001b[0;36m1.0\u001b[0m\u001b[0;34m)\u001b[0m \u001b[0;34m*\u001b[0m \u001b[0;36m360.0\u001b[0m \u001b[0;34m/\u001b[0m \u001b[0mdias\u001b[0m\u001b[0;34m\u001b[0m\u001b[0;34m\u001b[0m\u001b[0m\n\u001b[0;32m----> 3\u001b[0;31m \u001b[0mprint\u001b[0m\u001b[0;34m(\u001b[0m\u001b[0;34mf'La diferencia es: {accrued_rate - check_accrued_rate:.8%}'\u001b[0m\u001b[0;34m)\u001b[0m\u001b[0;34m\u001b[0m\u001b[0;34m\u001b[0m\u001b[0m\n\u001b[0m",
      "\u001b[0;31mNameError\u001b[0m: name 'accrued_rate' is not defined"
     ]
    }
   ],
   "source": [
    "dias = qstart_date.day_diff(qaccrued_date)\n",
    "check_accrued_rate = (factor_largo / factor_corto - 1.0) * 360.0 / dias\n",
    "print(f'La diferencia es: {accrued_rate - check_accrued_rate:.8%}')"
   ]
  },
  {
   "cell_type": "code",
   "execution_count": 34,
   "metadata": {
    "ExecuteTime": {
     "end_time": "2020-11-29T14:48:19.515788Z",
     "start_time": "2020-11-29T14:48:19.505783Z"
    }
   },
   "outputs": [
    {
     "ename": "NameError",
     "evalue": "name 'accrued_rate' is not defined",
     "output_type": "error",
     "traceback": [
      "\u001b[0;31m---------------------------------------------------------------------------\u001b[0m",
      "\u001b[0;31mNameError\u001b[0m                                 Traceback (most recent call last)",
      "\u001b[0;32m<ipython-input-34-2cdc88cabcb7>\u001b[0m in \u001b[0;36m<module>\u001b[0;34m\u001b[0m\n\u001b[0;32m----> 1\u001b[0;31m \u001b[0msuma_exito\u001b[0m\u001b[0;34m(\u001b[0m\u001b[0maccrued_rate\u001b[0m\u001b[0;34m,\u001b[0m \u001b[0mcheck_accrued_rate\u001b[0m\u001b[0;34m,\u001b[0m \u001b[0;34m'tasa'\u001b[0m\u001b[0;34m)\u001b[0m\u001b[0;34m\u001b[0m\u001b[0;34m\u001b[0m\u001b[0m\n\u001b[0m",
      "\u001b[0;31mNameError\u001b[0m: name 'accrued_rate' is not defined"
     ]
    }
   ],
   "source": [
    "suma_exito(accrued_rate, check_accrued_rate, 'tasa')"
   ]
  },
  {
   "cell_type": "markdown",
   "metadata": {},
   "source": [
    "### `OisCashflow.accrued_interest`"
   ]
  },
  {
   "cell_type": "code",
   "execution_count": 35,
   "metadata": {
    "ExecuteTime": {
     "end_time": "2020-11-29T14:48:23.019392Z",
     "start_time": "2020-11-29T14:48:23.009135Z"
    }
   },
   "outputs": [
    {
     "ename": "AttributeError",
     "evalue": "'OisCashFlow' object has no attribute 'get_accrued_interest'",
     "output_type": "error",
     "traceback": [
      "\u001b[0;31m---------------------------------------------------------------------------\u001b[0m",
      "\u001b[0;31mAttributeError\u001b[0m                            Traceback (most recent call last)",
      "\u001b[0;32m<ipython-input-35-6b70a618675b>\u001b[0m in \u001b[0;36m<module>\u001b[0;34m\u001b[0m\n\u001b[0;32m----> 1\u001b[0;31m \u001b[0maccrued_interest\u001b[0m \u001b[0;34m=\u001b[0m \u001b[0mois\u001b[0m\u001b[0;34m.\u001b[0m\u001b[0mget_accrued_interest\u001b[0m\u001b[0;34m(\u001b[0m\u001b[0mQcf\u001b[0m\u001b[0;34m.\u001b[0m\u001b[0mQCDate\u001b[0m\u001b[0;34m(\u001b[0m\u001b[0;36m15\u001b[0m\u001b[0;34m,\u001b[0m \u001b[0;36m6\u001b[0m\u001b[0;34m,\u001b[0m \u001b[0;36m2020\u001b[0m\u001b[0;34m)\u001b[0m\u001b[0;34m,\u001b[0m \u001b[0mfixings\u001b[0m\u001b[0;34m)\u001b[0m\u001b[0;34m\u001b[0m\u001b[0;34m\u001b[0m\u001b[0m\n\u001b[0m\u001b[1;32m      2\u001b[0m \u001b[0mprint\u001b[0m\u001b[0;34m(\u001b[0m\u001b[0;34mf'accrued interest: {accrued_interest:,.2f}'\u001b[0m\u001b[0;34m)\u001b[0m\u001b[0;34m\u001b[0m\u001b[0;34m\u001b[0m\u001b[0m\n",
      "\u001b[0;31mAttributeError\u001b[0m: 'OisCashFlow' object has no attribute 'get_accrued_interest'"
     ]
    }
   ],
   "source": [
    "accrued_interest = ois.get_accrued_interest(Qcf.QCDate(15, 6, 2020), fixings)\n",
    "print(f'accrued interest: {accrued_interest:,.2f}')"
   ]
  },
  {
   "cell_type": "code",
   "execution_count": 36,
   "metadata": {
    "ExecuteTime": {
     "end_time": "2020-11-29T14:48:56.217027Z",
     "start_time": "2020-11-29T14:48:56.205252Z"
    }
   },
   "outputs": [
    {
     "ename": "NameError",
     "evalue": "name 'accrued_rate' is not defined",
     "output_type": "error",
     "traceback": [
      "\u001b[0;31m---------------------------------------------------------------------------\u001b[0m",
      "\u001b[0;31mNameError\u001b[0m                                 Traceback (most recent call last)",
      "\u001b[0;32m<ipython-input-36-8511c9e7797b>\u001b[0m in \u001b[0;36m<module>\u001b[0;34m\u001b[0m\n\u001b[0;32m----> 1\u001b[0;31m \u001b[0mcheck_accrued_interest\u001b[0m \u001b[0;34m=\u001b[0m \u001b[0mois\u001b[0m\u001b[0;34m.\u001b[0m\u001b[0mnotional\u001b[0m \u001b[0;34m*\u001b[0m \u001b[0maccrued_rate\u001b[0m \u001b[0;34m*\u001b[0m \u001b[0mdias\u001b[0m \u001b[0;34m/\u001b[0m \u001b[0;36m360.0\u001b[0m\u001b[0;34m\u001b[0m\u001b[0;34m\u001b[0m\u001b[0m\n\u001b[0m\u001b[1;32m      2\u001b[0m \u001b[0mprint\u001b[0m\u001b[0;34m(\u001b[0m\u001b[0;34mf'La diferencia es: {accrued_interest - check_accrued_interest:,.6f}'\u001b[0m\u001b[0;34m)\u001b[0m\u001b[0;34m\u001b[0m\u001b[0;34m\u001b[0m\u001b[0m\n",
      "\u001b[0;31mNameError\u001b[0m: name 'accrued_rate' is not defined"
     ]
    }
   ],
   "source": [
    "check_accrued_interest = ois.notional * accrued_rate * dias / 360.0\n",
    "print(f'La diferencia es: {accrued_interest - check_accrued_interest:,.6f}')"
   ]
  },
  {
   "cell_type": "code",
   "execution_count": 37,
   "metadata": {
    "ExecuteTime": {
     "end_time": "2020-11-29T14:48:57.361450Z",
     "start_time": "2020-11-29T14:48:57.345581Z"
    }
   },
   "outputs": [
    {
     "ename": "NameError",
     "evalue": "name 'accrued_interest' is not defined",
     "output_type": "error",
     "traceback": [
      "\u001b[0;31m---------------------------------------------------------------------------\u001b[0m",
      "\u001b[0;31mNameError\u001b[0m                                 Traceback (most recent call last)",
      "\u001b[0;32m<ipython-input-37-5634a26ac8ad>\u001b[0m in \u001b[0;36m<module>\u001b[0;34m\u001b[0m\n\u001b[0;32m----> 1\u001b[0;31m \u001b[0msuma_exito\u001b[0m\u001b[0;34m(\u001b[0m\u001b[0maccrued_interest\u001b[0m\u001b[0;34m,\u001b[0m \u001b[0mcheck_accrued_interest\u001b[0m\u001b[0;34m,\u001b[0m \u001b[0;34m'monto'\u001b[0m\u001b[0;34m)\u001b[0m\u001b[0;34m\u001b[0m\u001b[0;34m\u001b[0m\u001b[0m\n\u001b[0m",
      "\u001b[0;31mNameError\u001b[0m: name 'accrued_interest' is not defined"
     ]
    }
   ],
   "source": [
    "suma_exito(accrued_interest, check_accrued_interest, 'monto')"
   ]
  },
  {
   "cell_type": "markdown",
   "metadata": {},
   "source": [
    "### `OisCashflow.amount`"
   ]
  },
  {
   "cell_type": "code",
   "execution_count": 38,
   "metadata": {
    "ExecuteTime": {
     "end_time": "2020-11-29T14:48:58.625882Z",
     "start_time": "2020-11-29T14:48:58.611953Z"
    }
   },
   "outputs": [
    {
     "ename": "AttributeError",
     "evalue": "'OisCashFlow' object has no attribute 'amount'",
     "output_type": "error",
     "traceback": [
      "\u001b[0;31m---------------------------------------------------------------------------\u001b[0m",
      "\u001b[0;31mAttributeError\u001b[0m                            Traceback (most recent call last)",
      "\u001b[0;32m<ipython-input-38-552cb8e44151>\u001b[0m in \u001b[0;36m<module>\u001b[0;34m\u001b[0m\n\u001b[0;32m----> 1\u001b[0;31m \u001b[0mamount\u001b[0m \u001b[0;34m=\u001b[0m \u001b[0mois\u001b[0m\u001b[0;34m.\u001b[0m\u001b[0mamount\u001b[0m\u001b[0;34m(\u001b[0m\u001b[0mfixings\u001b[0m\u001b[0;34m)\u001b[0m\u001b[0;34m\u001b[0m\u001b[0;34m\u001b[0m\u001b[0m\n\u001b[0m\u001b[1;32m      2\u001b[0m \u001b[0mprint\u001b[0m\u001b[0;34m(\u001b[0m\u001b[0;34mf'amount: {amount:,.2f}'\u001b[0m\u001b[0;34m)\u001b[0m\u001b[0;34m\u001b[0m\u001b[0;34m\u001b[0m\u001b[0m\n",
      "\u001b[0;31mAttributeError\u001b[0m: 'OisCashFlow' object has no attribute 'amount'"
     ]
    }
   ],
   "source": [
    "amount = ois.amount(fixings)\n",
    "print(f'amount: {amount:,.2f}')"
   ]
  },
  {
   "cell_type": "code",
   "execution_count": 39,
   "metadata": {
    "ExecuteTime": {
     "end_time": "2020-11-29T14:49:00.380838Z",
     "start_time": "2020-11-29T14:49:00.366599Z"
    }
   },
   "outputs": [
    {
     "name": "stdout",
     "output_type": "stream",
     "text": [
      "end date: 2020-10-01\n"
     ]
    },
    {
     "data": {
      "text/html": [
       "<div>\n",
       "<style scoped>\n",
       "    .dataframe tbody tr th:only-of-type {\n",
       "        vertical-align: middle;\n",
       "    }\n",
       "\n",
       "    .dataframe tbody tr th {\n",
       "        vertical-align: top;\n",
       "    }\n",
       "\n",
       "    .dataframe thead th {\n",
       "        text-align: right;\n",
       "    }\n",
       "</style>\n",
       "<table border=\"1\" class=\"dataframe\">\n",
       "  <thead>\n",
       "    <tr style=\"text-align: right;\">\n",
       "      <th></th>\n",
       "      <th>fecha</th>\n",
       "      <th>nombre</th>\n",
       "      <th>valor</th>\n",
       "      <th>next_fecha</th>\n",
       "      <th>factor_capitalizacion</th>\n",
       "    </tr>\n",
       "  </thead>\n",
       "  <tbody>\n",
       "    <tr>\n",
       "      <th>18</th>\n",
       "      <td>2020-10-01</td>\n",
       "      <td>SOFR</td>\n",
       "      <td>0.0008</td>\n",
       "      <td>2020-10-02</td>\n",
       "      <td>1.000002</td>\n",
       "    </tr>\n",
       "  </tbody>\n",
       "</table>\n",
       "</div>"
      ],
      "text/plain": [
       "         fecha nombre   valor  next_fecha  factor_capitalizacion\n",
       "18  2020-10-01   SOFR  0.0008  2020-10-02               1.000002"
      ]
     },
     "execution_count": 39,
     "metadata": {},
     "output_type": "execute_result"
    }
   ],
   "source": [
    "end_date = ois.end_date.description(False)\n",
    "print(f'end date: {end_date}')\n",
    "df_fixings[df_fixings.fecha == end_date]"
   ]
  },
  {
   "cell_type": "code",
   "execution_count": 40,
   "metadata": {
    "ExecuteTime": {
     "end_time": "2020-11-29T14:49:02.984843Z",
     "start_time": "2020-11-29T14:49:02.972851Z"
    }
   },
   "outputs": [
    {
     "ename": "NameError",
     "evalue": "name 'amount' is not defined",
     "output_type": "error",
     "traceback": [
      "\u001b[0;31m---------------------------------------------------------------------------\u001b[0m",
      "\u001b[0;31mNameError\u001b[0m                                 Traceback (most recent call last)",
      "\u001b[0;32m<ipython-input-40-d4de6f6c3671>\u001b[0m in \u001b[0;36m<module>\u001b[0;34m\u001b[0m\n\u001b[1;32m      3\u001b[0m \u001b[0maccrued_rate_amount\u001b[0m \u001b[0;34m=\u001b[0m \u001b[0;34m(\u001b[0m\u001b[0mfactor_largo\u001b[0m \u001b[0;34m/\u001b[0m \u001b[0mfactor_corto_2\u001b[0m\u001b[0;34m-\u001b[0m \u001b[0;36m1.0\u001b[0m\u001b[0;34m)\u001b[0m \u001b[0;34m*\u001b[0m \u001b[0;36m360.0\u001b[0m \u001b[0;34m/\u001b[0m \u001b[0mdias_2\u001b[0m\u001b[0;34m\u001b[0m\u001b[0;34m\u001b[0m\u001b[0m\n\u001b[1;32m      4\u001b[0m \u001b[0mcheck_amount\u001b[0m \u001b[0;34m=\u001b[0m \u001b[0mois\u001b[0m\u001b[0;34m.\u001b[0m\u001b[0mnotional\u001b[0m \u001b[0;34m*\u001b[0m \u001b[0maccrued_rate_amount\u001b[0m \u001b[0;34m*\u001b[0m \u001b[0mdias_2\u001b[0m \u001b[0;34m/\u001b[0m \u001b[0;36m360.0\u001b[0m \u001b[0;34m+\u001b[0m \u001b[0mois\u001b[0m\u001b[0;34m.\u001b[0m\u001b[0mamortization\u001b[0m\u001b[0;34m\u001b[0m\u001b[0;34m\u001b[0m\u001b[0m\n\u001b[0;32m----> 5\u001b[0;31m \u001b[0mprint\u001b[0m\u001b[0;34m(\u001b[0m\u001b[0;34mf'La diferencia es: {amount - check_amount:.6f}'\u001b[0m\u001b[0;34m)\u001b[0m\u001b[0;34m\u001b[0m\u001b[0;34m\u001b[0m\u001b[0m\n\u001b[0m",
      "\u001b[0;31mNameError\u001b[0m: name 'amount' is not defined"
     ]
    }
   ],
   "source": [
    "factor_corto_2 = df_fixings.iloc[:19]['factor_capitalizacion'].prod()\n",
    "dias_2 = qstart_date.day_diff(ois.end_date)\n",
    "accrued_rate_amount = (factor_largo / factor_corto_2- 1.0) * 360.0 / dias_2\n",
    "check_amount = ois.notional * accrued_rate_amount * dias_2 / 360.0 + ois.amortization\n",
    "print(f'La diferencia es: {amount - check_amount:.6f}')"
   ]
  },
  {
   "cell_type": "code",
   "execution_count": 41,
   "metadata": {
    "ExecuteTime": {
     "end_time": "2020-11-29T14:49:04.132087Z",
     "start_time": "2020-11-29T14:49:04.120920Z"
    }
   },
   "outputs": [
    {
     "ename": "NameError",
     "evalue": "name 'amount' is not defined",
     "output_type": "error",
     "traceback": [
      "\u001b[0;31m---------------------------------------------------------------------------\u001b[0m",
      "\u001b[0;31mNameError\u001b[0m                                 Traceback (most recent call last)",
      "\u001b[0;32m<ipython-input-41-cf6b179bd5d3>\u001b[0m in \u001b[0;36m<module>\u001b[0;34m\u001b[0m\n\u001b[0;32m----> 1\u001b[0;31m \u001b[0msuma_exito\u001b[0m\u001b[0;34m(\u001b[0m\u001b[0mamount\u001b[0m\u001b[0;34m,\u001b[0m \u001b[0mcheck_amount\u001b[0m\u001b[0;34m,\u001b[0m \u001b[0;34m'monto'\u001b[0m\u001b[0;34m)\u001b[0m\u001b[0;34m\u001b[0m\u001b[0;34m\u001b[0m\u001b[0m\n\u001b[0m",
      "\u001b[0;31mNameError\u001b[0m: name 'amount' is not defined"
     ]
    }
   ],
   "source": [
    "suma_exito(amount, check_amount, 'monto')"
   ]
  },
  {
   "cell_type": "markdown",
   "metadata": {},
   "source": [
    "### `set_expected_rate`"
   ]
  },
  {
   "cell_type": "markdown",
   "metadata": {},
   "source": [
    "Comenzamos cargando los valores de la curva cero cupón que se utilizará para hacer pruebas de `set_expected_rate` y `present_value`."
   ]
  },
  {
   "cell_type": "code",
   "execution_count": 42,
   "metadata": {
    "ExecuteTime": {
     "end_time": "2020-11-29T14:49:07.665537Z",
     "start_time": "2020-11-29T14:49:07.638761Z"
    }
   },
   "outputs": [],
   "source": [
    "df_curva = pd.read_excel('../data/20201012_built_sofr_zero.xlsx')"
   ]
  },
  {
   "cell_type": "code",
   "execution_count": 43,
   "metadata": {
    "ExecuteTime": {
     "end_time": "2020-11-29T14:49:08.415398Z",
     "start_time": "2020-11-29T14:49:08.406233Z"
    }
   },
   "outputs": [
    {
     "data": {
      "text/html": [
       "<style  type=\"text/css\" >\n",
       "</style><table id=\"T_08f7c7c6_3252_11eb_a3d0_02cba411ec9d\" ><thead>    <tr>        <th class=\"blank level0\" ></th>        <th class=\"col_heading level0 col0\" >plazo</th>        <th class=\"col_heading level0 col1\" >tasa</th>        <th class=\"col_heading level0 col2\" >df</th>    </tr></thead><tbody>\n",
       "                <tr>\n",
       "                        <th id=\"T_08f7c7c6_3252_11eb_a3d0_02cba411ec9dlevel0_row0\" class=\"row_heading level0 row0\" >0</th>\n",
       "                        <td id=\"T_08f7c7c6_3252_11eb_a3d0_02cba411ec9drow0_col0\" class=\"data row0 col0\" >1</td>\n",
       "                        <td id=\"T_08f7c7c6_3252_11eb_a3d0_02cba411ec9drow0_col1\" class=\"data row0 col1\" >0.0811%</td>\n",
       "                        <td id=\"T_08f7c7c6_3252_11eb_a3d0_02cba411ec9drow0_col2\" class=\"data row0 col2\" >99.999778%</td>\n",
       "            </tr>\n",
       "            <tr>\n",
       "                        <th id=\"T_08f7c7c6_3252_11eb_a3d0_02cba411ec9dlevel0_row1\" class=\"row_heading level0 row1\" >1</th>\n",
       "                        <td id=\"T_08f7c7c6_3252_11eb_a3d0_02cba411ec9drow1_col0\" class=\"data row1 col0\" >7</td>\n",
       "                        <td id=\"T_08f7c7c6_3252_11eb_a3d0_02cba411ec9drow1_col1\" class=\"data row1 col1\" >0.0841%</td>\n",
       "                        <td id=\"T_08f7c7c6_3252_11eb_a3d0_02cba411ec9drow1_col2\" class=\"data row1 col2\" >99.998388%</td>\n",
       "            </tr>\n",
       "            <tr>\n",
       "                        <th id=\"T_08f7c7c6_3252_11eb_a3d0_02cba411ec9dlevel0_row2\" class=\"row_heading level0 row2\" >2</th>\n",
       "                        <td id=\"T_08f7c7c6_3252_11eb_a3d0_02cba411ec9drow2_col0\" class=\"data row2 col0\" >14</td>\n",
       "                        <td id=\"T_08f7c7c6_3252_11eb_a3d0_02cba411ec9drow2_col1\" class=\"data row2 col1\" >0.0780%</td>\n",
       "                        <td id=\"T_08f7c7c6_3252_11eb_a3d0_02cba411ec9drow2_col2\" class=\"data row2 col2\" >99.997010%</td>\n",
       "            </tr>\n",
       "            <tr>\n",
       "                        <th id=\"T_08f7c7c6_3252_11eb_a3d0_02cba411ec9dlevel0_row3\" class=\"row_heading level0 row3\" >3</th>\n",
       "                        <td id=\"T_08f7c7c6_3252_11eb_a3d0_02cba411ec9drow3_col0\" class=\"data row3 col0\" >21</td>\n",
       "                        <td id=\"T_08f7c7c6_3252_11eb_a3d0_02cba411ec9drow3_col1\" class=\"data row3 col1\" >0.0774%</td>\n",
       "                        <td id=\"T_08f7c7c6_3252_11eb_a3d0_02cba411ec9drow3_col2\" class=\"data row3 col2\" >99.995549%</td>\n",
       "            </tr>\n",
       "            <tr>\n",
       "                        <th id=\"T_08f7c7c6_3252_11eb_a3d0_02cba411ec9dlevel0_row4\" class=\"row_heading level0 row4\" >4</th>\n",
       "                        <td id=\"T_08f7c7c6_3252_11eb_a3d0_02cba411ec9drow4_col0\" class=\"data row4 col0\" >33</td>\n",
       "                        <td id=\"T_08f7c7c6_3252_11eb_a3d0_02cba411ec9drow4_col1\" class=\"data row4 col1\" >0.0781%</td>\n",
       "                        <td id=\"T_08f7c7c6_3252_11eb_a3d0_02cba411ec9drow4_col2\" class=\"data row4 col2\" >99.992942%</td>\n",
       "            </tr>\n",
       "    </tbody></table>"
      ],
      "text/plain": [
       "<pandas.io.formats.style.Styler at 0x7f46292e70f0>"
      ]
     },
     "execution_count": 43,
     "metadata": {},
     "output_type": "execute_result"
    }
   ],
   "source": [
    "df_curva.head().style.format({'tasa': '{:.4%}', 'df': '{:.6%}'})"
   ]
  },
  {
   "cell_type": "markdown",
   "metadata": {},
   "source": [
    "Con la data se construye un objeto de tipo `Qcf.ZeroCouponCurve`."
   ]
  },
  {
   "cell_type": "code",
   "execution_count": 44,
   "metadata": {
    "ExecuteTime": {
     "end_time": "2020-11-29T14:49:09.777777Z",
     "start_time": "2020-11-29T14:49:09.772063Z"
    },
    "scrolled": true
   },
   "outputs": [],
   "source": [
    "zcc = aux.get_curve_from_dataframe(Qcf.QCAct365(),Qcf.QCCompoundWf(), df_curva)"
   ]
  },
  {
   "cell_type": "markdown",
   "metadata": {},
   "source": [
    "Comienzan los tests."
   ]
  },
  {
   "cell_type": "code",
   "execution_count": 45,
   "metadata": {
    "ExecuteTime": {
     "end_time": "2020-11-29T14:49:10.879335Z",
     "start_time": "2020-11-29T14:49:10.874375Z"
    }
   },
   "outputs": [
    {
     "name": "stdout",
     "output_type": "stream",
     "text": [
      "Fecha inicial flujo: 2019-10-01\n",
      "Fecha final flujo: 2020-10-01\n"
     ]
    }
   ],
   "source": [
    "print(f'Fecha inicial flujo: {ois.start_date.description(False)}')\n",
    "print(f'Fecha final flujo: {ois.end_date.description(False)}')"
   ]
  },
  {
   "cell_type": "code",
   "execution_count": 46,
   "metadata": {
    "ExecuteTime": {
     "end_time": "2020-11-29T14:49:12.983803Z",
     "start_time": "2020-11-29T14:49:12.962472Z"
    }
   },
   "outputs": [
    {
     "ename": "NameError",
     "evalue": "name 'set_expected_rate' is not defined",
     "output_type": "error",
     "traceback": [
      "\u001b[0;31m---------------------------------------------------------------------------\u001b[0m",
      "\u001b[0;31mNameError\u001b[0m                                 Traceback (most recent call last)",
      "\u001b[0;32m<ipython-input-46-475edc3f6020>\u001b[0m in \u001b[0;36m<module>\u001b[0;34m\u001b[0m\n\u001b[1;32m      1\u001b[0m \u001b[0;31m# Check primer caso\u001b[0m\u001b[0;34m\u001b[0m\u001b[0;34m\u001b[0m\u001b[0;34m\u001b[0m\u001b[0m\n\u001b[1;32m      2\u001b[0m \u001b[0mval_date\u001b[0m \u001b[0;34m=\u001b[0m \u001b[0mQcf\u001b[0m\u001b[0;34m.\u001b[0m\u001b[0mQCDate\u001b[0m\u001b[0;34m(\u001b[0m\u001b[0;36m1\u001b[0m\u001b[0;34m,\u001b[0m \u001b[0;36m6\u001b[0m\u001b[0;34m,\u001b[0m \u001b[0;36m2019\u001b[0m\u001b[0;34m)\u001b[0m\u001b[0;34m\u001b[0m\u001b[0;34m\u001b[0m\u001b[0m\n\u001b[0;32m----> 3\u001b[0;31m \u001b[0mset_expected_rate\u001b[0m\u001b[0;34m(\u001b[0m\u001b[0mval_date\u001b[0m\u001b[0;34m,\u001b[0m \u001b[0mois\u001b[0m\u001b[0;34m,\u001b[0m \u001b[0mfixings\u001b[0m\u001b[0;34m,\u001b[0m \u001b[0mzcc\u001b[0m\u001b[0;34m)\u001b[0m\u001b[0;34m\u001b[0m\u001b[0;34m\u001b[0m\u001b[0m\n\u001b[0m\u001b[1;32m      4\u001b[0m \u001b[0mresultado\u001b[0m \u001b[0;34m=\u001b[0m \u001b[0mois\u001b[0m\u001b[0;34m.\u001b[0m\u001b[0minterest_rate\u001b[0m\u001b[0;34m.\u001b[0m\u001b[0mget_value\u001b[0m\u001b[0;34m(\u001b[0m\u001b[0;34m)\u001b[0m\u001b[0;34m\u001b[0m\u001b[0;34m\u001b[0m\u001b[0m\n\u001b[1;32m      5\u001b[0m \u001b[0mprint\u001b[0m\u001b[0;34m(\u001b[0m\u001b[0;34mf'Tasa esperada es: {resultado:.8%}'\u001b[0m\u001b[0;34m)\u001b[0m\u001b[0;34m\u001b[0m\u001b[0;34m\u001b[0m\u001b[0m\n",
      "\u001b[0;31mNameError\u001b[0m: name 'set_expected_rate' is not defined"
     ]
    }
   ],
   "source": [
    "# Check primer caso\n",
    "val_date = Qcf.QCDate(1, 6, 2019)\n",
    "set_expected_rate(val_date, ois, fixings, zcc)\n",
    "resultado = ois.interest_rate.get_value()\n",
    "print(f'Tasa esperada es: {resultado:.8%}')\n",
    "p1 = val_date.day_diff(ois.start_date)\n",
    "p2 = val_date.day_diff(ois.end_date)\n",
    "df1 = zcc.get_discount_factor_at(p1)\n",
    "df2 = zcc.get_discount_factor_at(p2)\n",
    "check = (df1 / df2 - 1) * 360 / (p2 - p1)\n",
    "print(f'Check tasa esperada es: {check:.8%}')\n",
    "\n",
    "suma_exito(resultado, check, 'tasa')"
   ]
  },
  {
   "cell_type": "code",
   "execution_count": 47,
   "metadata": {
    "ExecuteTime": {
     "end_time": "2020-11-29T14:49:20.016057Z",
     "start_time": "2020-11-29T14:49:19.994331Z"
    }
   },
   "outputs": [
    {
     "ename": "NameError",
     "evalue": "name 'set_expected_rate' is not defined",
     "output_type": "error",
     "traceback": [
      "\u001b[0;31m---------------------------------------------------------------------------\u001b[0m",
      "\u001b[0;31mNameError\u001b[0m                                 Traceback (most recent call last)",
      "\u001b[0;32m<ipython-input-47-3cd413be66df>\u001b[0m in \u001b[0;36m<module>\u001b[0;34m\u001b[0m\n\u001b[1;32m      1\u001b[0m \u001b[0;31m# Check segundo caso borde\u001b[0m\u001b[0;34m\u001b[0m\u001b[0;34m\u001b[0m\u001b[0;34m\u001b[0m\u001b[0m\n\u001b[1;32m      2\u001b[0m \u001b[0mval_date\u001b[0m \u001b[0;34m=\u001b[0m \u001b[0mQcf\u001b[0m\u001b[0;34m.\u001b[0m\u001b[0mQCDate\u001b[0m\u001b[0;34m(\u001b[0m\u001b[0;36m1\u001b[0m\u001b[0;34m,\u001b[0m \u001b[0;36m10\u001b[0m\u001b[0;34m,\u001b[0m \u001b[0;36m2019\u001b[0m\u001b[0;34m)\u001b[0m\u001b[0;34m\u001b[0m\u001b[0;34m\u001b[0m\u001b[0m\n\u001b[0;32m----> 3\u001b[0;31m \u001b[0mset_expected_rate\u001b[0m\u001b[0;34m(\u001b[0m\u001b[0mval_date\u001b[0m\u001b[0;34m,\u001b[0m \u001b[0mois\u001b[0m\u001b[0;34m,\u001b[0m \u001b[0mfixings\u001b[0m\u001b[0;34m,\u001b[0m \u001b[0mzcc\u001b[0m\u001b[0;34m)\u001b[0m\u001b[0;34m\u001b[0m\u001b[0;34m\u001b[0m\u001b[0m\n\u001b[0m\u001b[1;32m      4\u001b[0m \u001b[0mresultado\u001b[0m \u001b[0;34m=\u001b[0m \u001b[0mois\u001b[0m\u001b[0;34m.\u001b[0m\u001b[0minterest_rate\u001b[0m\u001b[0;34m.\u001b[0m\u001b[0mget_value\u001b[0m\u001b[0;34m(\u001b[0m\u001b[0;34m)\u001b[0m\u001b[0;34m\u001b[0m\u001b[0;34m\u001b[0m\u001b[0m\n\u001b[1;32m      5\u001b[0m \u001b[0mprint\u001b[0m\u001b[0;34m(\u001b[0m\u001b[0;34mf'Tasa esperada es: {resultado:.8%}'\u001b[0m\u001b[0;34m)\u001b[0m\u001b[0;34m\u001b[0m\u001b[0;34m\u001b[0m\u001b[0m\n",
      "\u001b[0;31mNameError\u001b[0m: name 'set_expected_rate' is not defined"
     ]
    }
   ],
   "source": [
    "# Check segundo caso borde\n",
    "val_date = Qcf.QCDate(1, 10, 2019)\n",
    "set_expected_rate(val_date, ois, fixings, zcc)\n",
    "resultado = ois.interest_rate.get_value()\n",
    "print(f'Tasa esperada es: {resultado:.8%}')\n",
    "p1 = val_date.day_diff(ois.start_date)\n",
    "p2 = val_date.day_diff(ois.end_date)\n",
    "df1 = zcc.get_discount_factor_at(p1)\n",
    "df2 = zcc.get_discount_factor_at(p2)\n",
    "check = (df1 / df2 - 1) * 360 / (p2 - p1)\n",
    "print(f'Check tasa esperada es: {check:.8%}')\n",
    "\n",
    "suma_exito(resultado, check, 'tasa')"
   ]
  },
  {
   "cell_type": "code",
   "execution_count": 48,
   "metadata": {
    "ExecuteTime": {
     "end_time": "2020-11-29T14:49:20.712812Z",
     "start_time": "2020-11-29T14:49:20.692780Z"
    }
   },
   "outputs": [
    {
     "ename": "NameError",
     "evalue": "name 'set_expected_rate' is not defined",
     "output_type": "error",
     "traceback": [
      "\u001b[0;31m---------------------------------------------------------------------------\u001b[0m",
      "\u001b[0;31mNameError\u001b[0m                                 Traceback (most recent call last)",
      "\u001b[0;32m<ipython-input-48-78892b3db4de>\u001b[0m in \u001b[0;36m<module>\u001b[0;34m\u001b[0m\n\u001b[1;32m      1\u001b[0m \u001b[0;31m# Check segundo caso\u001b[0m\u001b[0;34m\u001b[0m\u001b[0;34m\u001b[0m\u001b[0;34m\u001b[0m\u001b[0m\n\u001b[1;32m      2\u001b[0m \u001b[0mval_date\u001b[0m \u001b[0;34m=\u001b[0m \u001b[0mQcf\u001b[0m\u001b[0;34m.\u001b[0m\u001b[0mQCDate\u001b[0m\u001b[0;34m(\u001b[0m\u001b[0;36m1\u001b[0m\u001b[0;34m,\u001b[0m \u001b[0;36m11\u001b[0m\u001b[0;34m,\u001b[0m \u001b[0;36m2019\u001b[0m\u001b[0;34m)\u001b[0m\u001b[0;34m\u001b[0m\u001b[0;34m\u001b[0m\u001b[0m\n\u001b[0;32m----> 3\u001b[0;31m \u001b[0mset_expected_rate\u001b[0m\u001b[0;34m(\u001b[0m\u001b[0mval_date\u001b[0m\u001b[0;34m,\u001b[0m \u001b[0mois\u001b[0m\u001b[0;34m,\u001b[0m \u001b[0mfixings\u001b[0m\u001b[0;34m,\u001b[0m \u001b[0mzcc\u001b[0m\u001b[0;34m)\u001b[0m\u001b[0;34m\u001b[0m\u001b[0;34m\u001b[0m\u001b[0m\n\u001b[0m\u001b[1;32m      4\u001b[0m \u001b[0mresultado\u001b[0m \u001b[0;34m=\u001b[0m \u001b[0mois\u001b[0m\u001b[0;34m.\u001b[0m\u001b[0minterest_rate\u001b[0m\u001b[0;34m.\u001b[0m\u001b[0mget_value\u001b[0m\u001b[0;34m(\u001b[0m\u001b[0;34m)\u001b[0m\u001b[0;34m\u001b[0m\u001b[0;34m\u001b[0m\u001b[0m\n\u001b[1;32m      5\u001b[0m \u001b[0mprint\u001b[0m\u001b[0;34m(\u001b[0m\u001b[0;34mf'Tasa esperada es: {resultado:.8%}'\u001b[0m\u001b[0;34m)\u001b[0m\u001b[0;34m\u001b[0m\u001b[0;34m\u001b[0m\u001b[0m\n",
      "\u001b[0;31mNameError\u001b[0m: name 'set_expected_rate' is not defined"
     ]
    }
   ],
   "source": [
    "# Check segundo caso\n",
    "val_date = Qcf.QCDate(1, 11, 2019)\n",
    "set_expected_rate(val_date, ois, fixings, zcc)\n",
    "resultado = ois.interest_rate.get_value()\n",
    "print(f'Tasa esperada es: {resultado:.8%}')\n",
    "p1 = ois.start_date.day_diff(val_date)\n",
    "p2 = val_date.day_diff(ois.end_date)\n",
    "wf1 = 1 + ois.get_accrued_interest(val_date, fixings) / ois.notional\n",
    "wf2 = 1 / zcc.get_discount_factor_at(p2)\n",
    "check = (wf1 * wf2 - 1) * 360 / (p1 + p2)\n",
    "print(f'Check tasa esperada es: {check:.8%}')\n",
    "\n",
    "suma_exito(resultado, check, 'tasa')"
   ]
  },
  {
   "cell_type": "code",
   "execution_count": 49,
   "metadata": {
    "ExecuteTime": {
     "end_time": "2020-11-29T14:49:21.476638Z",
     "start_time": "2020-11-29T14:49:21.465148Z"
    }
   },
   "outputs": [
    {
     "ename": "NameError",
     "evalue": "name 'set_expected_rate' is not defined",
     "output_type": "error",
     "traceback": [
      "\u001b[0;31m---------------------------------------------------------------------------\u001b[0m",
      "\u001b[0;31mNameError\u001b[0m                                 Traceback (most recent call last)",
      "\u001b[0;32m<ipython-input-49-13131794e717>\u001b[0m in \u001b[0;36m<module>\u001b[0;34m\u001b[0m\n\u001b[1;32m      1\u001b[0m \u001b[0;31m# Check tercer caso borde\u001b[0m\u001b[0;34m\u001b[0m\u001b[0;34m\u001b[0m\u001b[0;34m\u001b[0m\u001b[0m\n\u001b[1;32m      2\u001b[0m \u001b[0mval_date\u001b[0m \u001b[0;34m=\u001b[0m \u001b[0mQcf\u001b[0m\u001b[0;34m.\u001b[0m\u001b[0mQCDate\u001b[0m\u001b[0;34m(\u001b[0m\u001b[0;36m1\u001b[0m\u001b[0;34m,\u001b[0m \u001b[0;36m10\u001b[0m\u001b[0;34m,\u001b[0m \u001b[0;36m2020\u001b[0m\u001b[0;34m)\u001b[0m\u001b[0;34m\u001b[0m\u001b[0;34m\u001b[0m\u001b[0m\n\u001b[0;32m----> 3\u001b[0;31m \u001b[0mset_expected_rate\u001b[0m\u001b[0;34m(\u001b[0m\u001b[0mval_date\u001b[0m\u001b[0;34m,\u001b[0m \u001b[0mois\u001b[0m\u001b[0;34m,\u001b[0m \u001b[0mfixings\u001b[0m\u001b[0;34m,\u001b[0m \u001b[0mzcc\u001b[0m\u001b[0;34m)\u001b[0m\u001b[0;34m\u001b[0m\u001b[0;34m\u001b[0m\u001b[0m\n\u001b[0m\u001b[1;32m      4\u001b[0m \u001b[0mresultado\u001b[0m \u001b[0;34m=\u001b[0m \u001b[0mois\u001b[0m\u001b[0;34m.\u001b[0m\u001b[0minterest_rate\u001b[0m\u001b[0;34m.\u001b[0m\u001b[0mget_value\u001b[0m\u001b[0;34m(\u001b[0m\u001b[0;34m)\u001b[0m\u001b[0;34m\u001b[0m\u001b[0;34m\u001b[0m\u001b[0m\n\u001b[1;32m      5\u001b[0m \u001b[0mprint\u001b[0m\u001b[0;34m(\u001b[0m\u001b[0;34mf'Tasa esperada es: {resultado:.8%}'\u001b[0m\u001b[0;34m)\u001b[0m\u001b[0;34m\u001b[0m\u001b[0;34m\u001b[0m\u001b[0m\n",
      "\u001b[0;31mNameError\u001b[0m: name 'set_expected_rate' is not defined"
     ]
    }
   ],
   "source": [
    "# Check tercer caso borde\n",
    "val_date = Qcf.QCDate(1, 10, 2020)\n",
    "set_expected_rate(val_date, ois, fixings, zcc)\n",
    "resultado = ois.interest_rate.get_value()\n",
    "print(f'Tasa esperada es: {resultado:.8%}')\n",
    "check = ois.get_accrued_rate(val_date, fixings)\n",
    "print(f'Check tasa esperada es: {check:.8%}')\n",
    "\n",
    "suma_exito(resultado, check, 'tasa')"
   ]
  },
  {
   "cell_type": "code",
   "execution_count": 50,
   "metadata": {
    "ExecuteTime": {
     "end_time": "2020-11-29T14:49:23.630303Z",
     "start_time": "2020-11-29T14:49:23.616359Z"
    }
   },
   "outputs": [
    {
     "ename": "NameError",
     "evalue": "name 'set_expected_rate' is not defined",
     "output_type": "error",
     "traceback": [
      "\u001b[0;31m---------------------------------------------------------------------------\u001b[0m",
      "\u001b[0;31mNameError\u001b[0m                                 Traceback (most recent call last)",
      "\u001b[0;32m<ipython-input-50-3c955cfb9ce0>\u001b[0m in \u001b[0;36m<module>\u001b[0;34m\u001b[0m\n\u001b[1;32m      1\u001b[0m \u001b[0;31m# Check tercer caso\u001b[0m\u001b[0;34m\u001b[0m\u001b[0;34m\u001b[0m\u001b[0;34m\u001b[0m\u001b[0m\n\u001b[1;32m      2\u001b[0m \u001b[0mval_date\u001b[0m \u001b[0;34m=\u001b[0m \u001b[0mQcf\u001b[0m\u001b[0;34m.\u001b[0m\u001b[0mQCDate\u001b[0m\u001b[0;34m(\u001b[0m\u001b[0;36m15\u001b[0m\u001b[0;34m,\u001b[0m \u001b[0;36m10\u001b[0m\u001b[0;34m,\u001b[0m \u001b[0;36m2020\u001b[0m\u001b[0;34m)\u001b[0m\u001b[0;34m\u001b[0m\u001b[0;34m\u001b[0m\u001b[0m\n\u001b[0;32m----> 3\u001b[0;31m \u001b[0mset_expected_rate\u001b[0m\u001b[0;34m(\u001b[0m\u001b[0mval_date\u001b[0m\u001b[0;34m,\u001b[0m \u001b[0mois\u001b[0m\u001b[0;34m,\u001b[0m \u001b[0mfixings\u001b[0m\u001b[0;34m,\u001b[0m \u001b[0mzcc\u001b[0m\u001b[0;34m)\u001b[0m\u001b[0;34m\u001b[0m\u001b[0;34m\u001b[0m\u001b[0m\n\u001b[0m\u001b[1;32m      4\u001b[0m \u001b[0mresultado\u001b[0m \u001b[0;34m=\u001b[0m \u001b[0mois\u001b[0m\u001b[0;34m.\u001b[0m\u001b[0minterest_rate\u001b[0m\u001b[0;34m.\u001b[0m\u001b[0mget_value\u001b[0m\u001b[0;34m(\u001b[0m\u001b[0;34m)\u001b[0m\u001b[0;34m\u001b[0m\u001b[0;34m\u001b[0m\u001b[0m\n\u001b[1;32m      5\u001b[0m \u001b[0mprint\u001b[0m\u001b[0;34m(\u001b[0m\u001b[0;34mf'Tasa esperada es: {resultado:.8%}'\u001b[0m\u001b[0;34m)\u001b[0m\u001b[0;34m\u001b[0m\u001b[0;34m\u001b[0m\u001b[0m\n",
      "\u001b[0;31mNameError\u001b[0m: name 'set_expected_rate' is not defined"
     ]
    }
   ],
   "source": [
    "# Check tercer caso\n",
    "val_date = Qcf.QCDate(15, 10, 2020)\n",
    "set_expected_rate(val_date, ois, fixings, zcc)\n",
    "resultado = ois.interest_rate.get_value()\n",
    "print(f'Tasa esperada es: {resultado:.8%}')\n",
    "check = ois.get_accrued_rate(ois.end_date, fixings)\n",
    "print(f'Check tasa esperada es: {check:.8%}')\n",
    "\n",
    "suma_exito(resultado, check, 'tasa')"
   ]
  },
  {
   "cell_type": "markdown",
   "metadata": {},
   "source": [
    "### `present_value`"
   ]
  },
  {
   "cell_type": "code",
   "execution_count": 51,
   "metadata": {
    "ExecuteTime": {
     "end_time": "2020-11-29T14:49:24.790354Z",
     "start_time": "2020-11-29T14:49:24.764969Z"
    }
   },
   "outputs": [
    {
     "ename": "NameError",
     "evalue": "name 'set_expected_rate' is not defined",
     "output_type": "error",
     "traceback": [
      "\u001b[0;31m---------------------------------------------------------------------------\u001b[0m",
      "\u001b[0;31mNameError\u001b[0m                                 Traceback (most recent call last)",
      "\u001b[0;32m<ipython-input-51-4f0160431073>\u001b[0m in \u001b[0;36m<module>\u001b[0;34m\u001b[0m\n\u001b[1;32m      1\u001b[0m \u001b[0;31m# Check primer caso\u001b[0m\u001b[0;34m\u001b[0m\u001b[0;34m\u001b[0m\u001b[0;34m\u001b[0m\u001b[0m\n\u001b[1;32m      2\u001b[0m \u001b[0mval_date\u001b[0m \u001b[0;34m=\u001b[0m \u001b[0mQcf\u001b[0m\u001b[0;34m.\u001b[0m\u001b[0mQCDate\u001b[0m\u001b[0;34m(\u001b[0m\u001b[0;36m1\u001b[0m\u001b[0;34m,\u001b[0m \u001b[0;36m6\u001b[0m\u001b[0;34m,\u001b[0m \u001b[0;36m2019\u001b[0m\u001b[0;34m)\u001b[0m\u001b[0;34m\u001b[0m\u001b[0;34m\u001b[0m\u001b[0m\n\u001b[0;32m----> 3\u001b[0;31m \u001b[0mset_expected_rate\u001b[0m\u001b[0;34m(\u001b[0m\u001b[0mval_date\u001b[0m\u001b[0;34m,\u001b[0m \u001b[0mois\u001b[0m\u001b[0;34m,\u001b[0m \u001b[0mfixings\u001b[0m\u001b[0;34m,\u001b[0m \u001b[0mzcc\u001b[0m\u001b[0;34m)\u001b[0m\u001b[0;34m\u001b[0m\u001b[0;34m\u001b[0m\u001b[0m\n\u001b[0m\u001b[1;32m      4\u001b[0m \u001b[0mpv\u001b[0m \u001b[0;34m=\u001b[0m \u001b[0mpresent_value\u001b[0m\u001b[0;34m(\u001b[0m\u001b[0mval_date\u001b[0m\u001b[0;34m,\u001b[0m \u001b[0mois\u001b[0m\u001b[0;34m,\u001b[0m \u001b[0mzcc\u001b[0m\u001b[0;34m)\u001b[0m\u001b[0;34m\u001b[0m\u001b[0;34m\u001b[0m\u001b[0m\n\u001b[1;32m      5\u001b[0m \u001b[0mprint\u001b[0m\u001b[0;34m(\u001b[0m\u001b[0;34mf'Valor presente es: {pv:,.4f}'\u001b[0m\u001b[0;34m)\u001b[0m\u001b[0;34m\u001b[0m\u001b[0;34m\u001b[0m\u001b[0m\n",
      "\u001b[0;31mNameError\u001b[0m: name 'set_expected_rate' is not defined"
     ]
    }
   ],
   "source": [
    "# Check primer caso\n",
    "val_date = Qcf.QCDate(1, 6, 2019)\n",
    "set_expected_rate(val_date, ois, fixings, zcc)\n",
    "pv = present_value(val_date, ois, zcc)\n",
    "print(f'Valor presente es: {pv:,.4f}')\n",
    "amount = ois.amount()\n",
    "print(f'Amount: {amount:,.4f}')\n",
    "amount = ois.amount()\n",
    "plazo = val_date.day_diff(ois.settlement_date)\n",
    "df = zcc.get_discount_factor_at(plazo)\n",
    "print(f'Df: {df:.6%}')\n",
    "vp_check = df * amount\n",
    "print(f'VP check es: {vp_check:,.4f}')\n",
    "\n",
    "suma_exito(pv, vp_check, 'monto')"
   ]
  },
  {
   "cell_type": "code",
   "execution_count": 52,
   "metadata": {
    "ExecuteTime": {
     "end_time": "2020-11-29T14:49:25.350608Z",
     "start_time": "2020-11-29T14:49:25.333398Z"
    }
   },
   "outputs": [
    {
     "ename": "NameError",
     "evalue": "name 'set_expected_rate' is not defined",
     "output_type": "error",
     "traceback": [
      "\u001b[0;31m---------------------------------------------------------------------------\u001b[0m",
      "\u001b[0;31mNameError\u001b[0m                                 Traceback (most recent call last)",
      "\u001b[0;32m<ipython-input-52-9658e49590a5>\u001b[0m in \u001b[0;36m<module>\u001b[0;34m\u001b[0m\n\u001b[1;32m      1\u001b[0m \u001b[0;31m# Check segundo caso borde\u001b[0m\u001b[0;34m\u001b[0m\u001b[0;34m\u001b[0m\u001b[0;34m\u001b[0m\u001b[0m\n\u001b[1;32m      2\u001b[0m \u001b[0mval_date\u001b[0m \u001b[0;34m=\u001b[0m \u001b[0mQcf\u001b[0m\u001b[0;34m.\u001b[0m\u001b[0mQCDate\u001b[0m\u001b[0;34m(\u001b[0m\u001b[0;36m1\u001b[0m\u001b[0;34m,\u001b[0m \u001b[0;36m10\u001b[0m\u001b[0;34m,\u001b[0m \u001b[0;36m2019\u001b[0m\u001b[0;34m)\u001b[0m\u001b[0;34m\u001b[0m\u001b[0;34m\u001b[0m\u001b[0m\n\u001b[0;32m----> 3\u001b[0;31m \u001b[0mset_expected_rate\u001b[0m\u001b[0;34m(\u001b[0m\u001b[0mval_date\u001b[0m\u001b[0;34m,\u001b[0m \u001b[0mois\u001b[0m\u001b[0;34m,\u001b[0m \u001b[0mfixings\u001b[0m\u001b[0;34m,\u001b[0m \u001b[0mzcc\u001b[0m\u001b[0;34m)\u001b[0m\u001b[0;34m\u001b[0m\u001b[0;34m\u001b[0m\u001b[0m\n\u001b[0m\u001b[1;32m      4\u001b[0m \u001b[0mpv\u001b[0m \u001b[0;34m=\u001b[0m \u001b[0mpresent_value\u001b[0m\u001b[0;34m(\u001b[0m\u001b[0mval_date\u001b[0m\u001b[0;34m,\u001b[0m \u001b[0mois\u001b[0m\u001b[0;34m,\u001b[0m \u001b[0mzcc\u001b[0m\u001b[0;34m)\u001b[0m\u001b[0;34m\u001b[0m\u001b[0;34m\u001b[0m\u001b[0m\n\u001b[1;32m      5\u001b[0m \u001b[0mprint\u001b[0m\u001b[0;34m(\u001b[0m\u001b[0;34mf'Valor presente es: {pv:,.4f}'\u001b[0m\u001b[0;34m)\u001b[0m\u001b[0;34m\u001b[0m\u001b[0;34m\u001b[0m\u001b[0m\n",
      "\u001b[0;31mNameError\u001b[0m: name 'set_expected_rate' is not defined"
     ]
    }
   ],
   "source": [
    "# Check segundo caso borde\n",
    "val_date = Qcf.QCDate(1, 10, 2019)\n",
    "set_expected_rate(val_date, ois, fixings, zcc)\n",
    "pv = present_value(val_date, ois, zcc)\n",
    "print(f'Valor presente es: {pv:,.4f}')\n",
    "amount = ois.amount()\n",
    "print(f'Amount: {amount:,.4f}')\n",
    "amount = ois.amount()\n",
    "plazo = val_date.day_diff(ois.settlement_date)\n",
    "df = zcc.get_discount_factor_at(plazo)\n",
    "print(f'Df: {df:.6%}')\n",
    "vp_check = df * amount\n",
    "print(f'VP check es: {vp_check:,.4f}')\n",
    "\n",
    "suma_exito(pv, vp_check, 'monto')"
   ]
  },
  {
   "cell_type": "code",
   "execution_count": 53,
   "metadata": {
    "ExecuteTime": {
     "end_time": "2020-11-29T14:49:26.585680Z",
     "start_time": "2020-11-29T14:49:26.567617Z"
    }
   },
   "outputs": [
    {
     "ename": "NameError",
     "evalue": "name 'set_expected_rate' is not defined",
     "output_type": "error",
     "traceback": [
      "\u001b[0;31m---------------------------------------------------------------------------\u001b[0m",
      "\u001b[0;31mNameError\u001b[0m                                 Traceback (most recent call last)",
      "\u001b[0;32m<ipython-input-53-21b8241a3f80>\u001b[0m in \u001b[0;36m<module>\u001b[0;34m\u001b[0m\n\u001b[1;32m      1\u001b[0m \u001b[0;31m# Check segundo caso\u001b[0m\u001b[0;34m\u001b[0m\u001b[0;34m\u001b[0m\u001b[0;34m\u001b[0m\u001b[0m\n\u001b[1;32m      2\u001b[0m \u001b[0mval_date\u001b[0m \u001b[0;34m=\u001b[0m \u001b[0mQcf\u001b[0m\u001b[0;34m.\u001b[0m\u001b[0mQCDate\u001b[0m\u001b[0;34m(\u001b[0m\u001b[0;36m1\u001b[0m\u001b[0;34m,\u001b[0m \u001b[0;36m11\u001b[0m\u001b[0;34m,\u001b[0m \u001b[0;36m2019\u001b[0m\u001b[0;34m)\u001b[0m\u001b[0;34m\u001b[0m\u001b[0;34m\u001b[0m\u001b[0m\n\u001b[0;32m----> 3\u001b[0;31m \u001b[0mset_expected_rate\u001b[0m\u001b[0;34m(\u001b[0m\u001b[0mval_date\u001b[0m\u001b[0;34m,\u001b[0m \u001b[0mois\u001b[0m\u001b[0;34m,\u001b[0m \u001b[0mfixings\u001b[0m\u001b[0;34m,\u001b[0m \u001b[0mzcc\u001b[0m\u001b[0;34m)\u001b[0m\u001b[0;34m\u001b[0m\u001b[0;34m\u001b[0m\u001b[0m\n\u001b[0m\u001b[1;32m      4\u001b[0m \u001b[0mpv\u001b[0m \u001b[0;34m=\u001b[0m \u001b[0mpresent_value\u001b[0m\u001b[0;34m(\u001b[0m\u001b[0mval_date\u001b[0m\u001b[0;34m,\u001b[0m \u001b[0mois\u001b[0m\u001b[0;34m,\u001b[0m \u001b[0mzcc\u001b[0m\u001b[0;34m)\u001b[0m\u001b[0;34m\u001b[0m\u001b[0;34m\u001b[0m\u001b[0m\n\u001b[1;32m      5\u001b[0m \u001b[0mprint\u001b[0m\u001b[0;34m(\u001b[0m\u001b[0;34mf'Valor presente es: {pv:,.4f}'\u001b[0m\u001b[0;34m)\u001b[0m\u001b[0;34m\u001b[0m\u001b[0;34m\u001b[0m\u001b[0m\n",
      "\u001b[0;31mNameError\u001b[0m: name 'set_expected_rate' is not defined"
     ]
    }
   ],
   "source": [
    "# Check segundo caso\n",
    "val_date = Qcf.QCDate(1, 11, 2019)\n",
    "set_expected_rate(val_date, ois, fixings, zcc)\n",
    "pv = present_value(val_date, ois, zcc)\n",
    "print(f'Valor presente es: {pv:,.4f}')\n",
    "amount = ois.amount()\n",
    "print(f'Amount: {amount:,.4f}')\n",
    "amount = ois.amount()\n",
    "plazo = val_date.day_diff(ois.settlement_date)\n",
    "df = zcc.get_discount_factor_at(plazo)\n",
    "print(f'Df: {df:.6%}')\n",
    "vp_check = df * amount\n",
    "print(f'VP check es: {vp_check:,.4f}')\n",
    "\n",
    "suma_exito(pv, vp_check, 'monto')"
   ]
  },
  {
   "cell_type": "code",
   "execution_count": 54,
   "metadata": {
    "ExecuteTime": {
     "end_time": "2020-11-29T14:49:27.208088Z",
     "start_time": "2020-11-29T14:49:27.192193Z"
    }
   },
   "outputs": [
    {
     "ename": "NameError",
     "evalue": "name 'set_expected_rate' is not defined",
     "output_type": "error",
     "traceback": [
      "\u001b[0;31m---------------------------------------------------------------------------\u001b[0m",
      "\u001b[0;31mNameError\u001b[0m                                 Traceback (most recent call last)",
      "\u001b[0;32m<ipython-input-54-b30b1a6a077b>\u001b[0m in \u001b[0;36m<module>\u001b[0;34m\u001b[0m\n\u001b[1;32m      1\u001b[0m \u001b[0;31m# Check tercer caso borde\u001b[0m\u001b[0;34m\u001b[0m\u001b[0;34m\u001b[0m\u001b[0;34m\u001b[0m\u001b[0m\n\u001b[1;32m      2\u001b[0m \u001b[0mval_date\u001b[0m \u001b[0;34m=\u001b[0m \u001b[0mQcf\u001b[0m\u001b[0;34m.\u001b[0m\u001b[0mQCDate\u001b[0m\u001b[0;34m(\u001b[0m\u001b[0;36m1\u001b[0m\u001b[0;34m,\u001b[0m \u001b[0;36m10\u001b[0m\u001b[0;34m,\u001b[0m \u001b[0;36m2020\u001b[0m\u001b[0;34m)\u001b[0m\u001b[0;34m\u001b[0m\u001b[0;34m\u001b[0m\u001b[0m\n\u001b[0;32m----> 3\u001b[0;31m \u001b[0mset_expected_rate\u001b[0m\u001b[0;34m(\u001b[0m\u001b[0mval_date\u001b[0m\u001b[0;34m,\u001b[0m \u001b[0mois\u001b[0m\u001b[0;34m,\u001b[0m \u001b[0mfixings\u001b[0m\u001b[0;34m,\u001b[0m \u001b[0mzcc\u001b[0m\u001b[0;34m)\u001b[0m\u001b[0;34m\u001b[0m\u001b[0;34m\u001b[0m\u001b[0m\n\u001b[0m\u001b[1;32m      4\u001b[0m \u001b[0mpv\u001b[0m \u001b[0;34m=\u001b[0m \u001b[0mpresent_value\u001b[0m\u001b[0;34m(\u001b[0m\u001b[0mval_date\u001b[0m\u001b[0;34m,\u001b[0m \u001b[0mois\u001b[0m\u001b[0;34m,\u001b[0m \u001b[0mzcc\u001b[0m\u001b[0;34m)\u001b[0m\u001b[0;34m\u001b[0m\u001b[0;34m\u001b[0m\u001b[0m\n\u001b[1;32m      5\u001b[0m \u001b[0mprint\u001b[0m\u001b[0;34m(\u001b[0m\u001b[0;34mf'Valor presente es: {pv:,.4f}'\u001b[0m\u001b[0;34m)\u001b[0m\u001b[0;34m\u001b[0m\u001b[0;34m\u001b[0m\u001b[0m\n",
      "\u001b[0;31mNameError\u001b[0m: name 'set_expected_rate' is not defined"
     ]
    }
   ],
   "source": [
    "# Check tercer caso borde\n",
    "val_date = Qcf.QCDate(1, 10, 2020)\n",
    "set_expected_rate(val_date, ois, fixings, zcc)\n",
    "pv = present_value(val_date, ois, zcc)\n",
    "print(f'Valor presente es: {pv:,.4f}')\n",
    "amount = ois.amount()\n",
    "print(f'Amount: {amount:,.4f}')\n",
    "amount = ois.amount()\n",
    "plazo = val_date.day_diff(ois.settlement_date)\n",
    "if plazo <= 0:\n",
    "    df = 0.0\n",
    "else:\n",
    "    df = zcc.get_discount_factor_at(plazo)\n",
    "print(f'Df: {df:.6%}')\n",
    "vp_check = df * amount\n",
    "print(f'VP check es: {vp_check:,.4f}')\n",
    "\n",
    "suma_exito(pv, vp_check, 'monto')"
   ]
  },
  {
   "cell_type": "code",
   "execution_count": 55,
   "metadata": {
    "ExecuteTime": {
     "end_time": "2020-11-29T14:49:28.451202Z",
     "start_time": "2020-11-29T14:49:28.431036Z"
    }
   },
   "outputs": [
    {
     "ename": "NameError",
     "evalue": "name 'set_expected_rate' is not defined",
     "output_type": "error",
     "traceback": [
      "\u001b[0;31m---------------------------------------------------------------------------\u001b[0m",
      "\u001b[0;31mNameError\u001b[0m                                 Traceback (most recent call last)",
      "\u001b[0;32m<ipython-input-55-b7cc61ac2171>\u001b[0m in \u001b[0;36m<module>\u001b[0;34m\u001b[0m\n\u001b[1;32m      1\u001b[0m \u001b[0;31m# Check tercer caso\u001b[0m\u001b[0;34m\u001b[0m\u001b[0;34m\u001b[0m\u001b[0;34m\u001b[0m\u001b[0m\n\u001b[1;32m      2\u001b[0m \u001b[0mval_date\u001b[0m \u001b[0;34m=\u001b[0m \u001b[0mQcf\u001b[0m\u001b[0;34m.\u001b[0m\u001b[0mQCDate\u001b[0m\u001b[0;34m(\u001b[0m\u001b[0;36m15\u001b[0m\u001b[0;34m,\u001b[0m \u001b[0;36m10\u001b[0m\u001b[0;34m,\u001b[0m \u001b[0;36m2020\u001b[0m\u001b[0;34m)\u001b[0m\u001b[0;34m\u001b[0m\u001b[0;34m\u001b[0m\u001b[0m\n\u001b[0;32m----> 3\u001b[0;31m \u001b[0mset_expected_rate\u001b[0m\u001b[0;34m(\u001b[0m\u001b[0mval_date\u001b[0m\u001b[0;34m,\u001b[0m \u001b[0mois\u001b[0m\u001b[0;34m,\u001b[0m \u001b[0mfixings\u001b[0m\u001b[0;34m,\u001b[0m \u001b[0mzcc\u001b[0m\u001b[0;34m)\u001b[0m\u001b[0;34m\u001b[0m\u001b[0;34m\u001b[0m\u001b[0m\n\u001b[0m\u001b[1;32m      4\u001b[0m \u001b[0mpv\u001b[0m \u001b[0;34m=\u001b[0m \u001b[0mpresent_value\u001b[0m\u001b[0;34m(\u001b[0m\u001b[0mval_date\u001b[0m\u001b[0;34m,\u001b[0m \u001b[0mois\u001b[0m\u001b[0;34m,\u001b[0m \u001b[0mzcc\u001b[0m\u001b[0;34m)\u001b[0m\u001b[0;34m\u001b[0m\u001b[0;34m\u001b[0m\u001b[0m\n\u001b[1;32m      5\u001b[0m \u001b[0mprint\u001b[0m\u001b[0;34m(\u001b[0m\u001b[0;34mf'Valor presente es: {pv:,.4f}'\u001b[0m\u001b[0;34m)\u001b[0m\u001b[0;34m\u001b[0m\u001b[0;34m\u001b[0m\u001b[0m\n",
      "\u001b[0;31mNameError\u001b[0m: name 'set_expected_rate' is not defined"
     ]
    }
   ],
   "source": [
    "# Check tercer caso\n",
    "val_date = Qcf.QCDate(15, 10, 2020)\n",
    "set_expected_rate(val_date, ois, fixings, zcc)\n",
    "pv = present_value(val_date, ois, zcc)\n",
    "print(f'Valor presente es: {pv:,.4f}')\n",
    "amount = ois.amount()\n",
    "print(f'Amount: {amount:,.4f}')\n",
    "amount = ois.amount()\n",
    "plazo = val_date.day_diff(ois.settlement_date)\n",
    "if plazo <= 0:\n",
    "    df = 0.0\n",
    "else:\n",
    "    df = zcc.get_discount_factor_at(plazo)\n",
    "print(f'Df: {df:.6%}')\n",
    "vp_check = df * amount\n",
    "print(f'VP check es: {vp_check:,.4f}')\n",
    "\n",
    "suma_exito(pv, vp_check, 'monto')"
   ]
  },
  {
   "cell_type": "code",
   "execution_count": 56,
   "metadata": {
    "ExecuteTime": {
     "end_time": "2020-11-29T14:49:31.722480Z",
     "start_time": "2020-11-29T14:49:31.711850Z"
    }
   },
   "outputs": [
    {
     "name": "stdout",
     "output_type": "stream",
     "text": [
      "Éxitos totales: 0\n"
     ]
    }
   ],
   "source": [
    "print(f'Éxitos totales: {exitos}')"
   ]
  }
 ],
 "metadata": {
  "hide_input": false,
  "kernelspec": {
   "display_name": "Python 3",
   "language": "python",
   "name": "python3"
  },
  "language_info": {
   "codemirror_mode": {
    "name": "ipython",
    "version": 3
   },
   "file_extension": ".py",
   "mimetype": "text/x-python",
   "name": "python",
   "nbconvert_exporter": "python",
   "pygments_lexer": "ipython3",
   "version": "3.7.3"
  },
  "toc": {
   "base_numbering": 1,
   "nav_menu": {},
   "number_sections": true,
   "sideBar": true,
   "skip_h1_title": false,
   "title_cell": "Table of Contents",
   "title_sidebar": "Contents",
   "toc_cell": false,
   "toc_position": {},
   "toc_section_display": true,
   "toc_window_display": true
  },
  "varInspector": {
   "cols": {
    "lenName": 16,
    "lenType": 16,
    "lenVar": 40
   },
   "kernels_config": {
    "python": {
     "delete_cmd_postfix": "",
     "delete_cmd_prefix": "del ",
     "library": "var_list.py",
     "varRefreshCmd": "print(var_dic_list())"
    },
    "r": {
     "delete_cmd_postfix": ") ",
     "delete_cmd_prefix": "rm(",
     "library": "var_list.r",
     "varRefreshCmd": "cat(var_dic_list()) "
    }
   },
   "oldHeight": 194.71875,
   "position": {
    "height": "216.71875px",
    "left": "791.8179931640625px",
    "right": "20px",
    "top": "120px",
    "width": "521px"
   },
   "types_to_exclude": [
    "module",
    "function",
    "builtin_function_or_method",
    "instance",
    "_Feature"
   ],
   "varInspector_section_display": "block",
   "window_display": true
  }
 },
 "nbformat": 4,
 "nbformat_minor": 4
}
