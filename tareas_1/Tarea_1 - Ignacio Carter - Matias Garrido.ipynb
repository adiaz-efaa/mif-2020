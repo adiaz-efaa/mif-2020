{
 "cells": [
  {
   "cell_type": "markdown",
   "metadata": {},
   "source": [
    "# Tarea 1"
   ]
  },
  {
   "cell_type": "markdown",
   "metadata": {},
   "source": [
    "### Ignacio Carter y Matías Garrido"
   ]
  },
  {
   "cell_type": "markdown",
   "metadata": {},
   "source": [
    "Implementar la clase `OisCashflow`."
   ]
  },
  {
   "cell_type": "markdown",
   "metadata": {},
   "source": [
    "## Configuración Inicial"
   ]
  },
  {
   "cell_type": "code",
   "execution_count": 1,
   "metadata": {
    "ExecuteTime": {
     "end_time": "2020-11-29T13:20:24.652812Z",
     "start_time": "2020-11-29T13:20:24.295857Z"
    }
   },
   "outputs": [],
   "source": [
    "from finrisk import QC_Financial_3 as Qcf\n",
    "\n",
    "# Modificado por AD\n",
    "import sys\n",
    "sys.path.insert(1, '../modules')\n",
    "import auxiliary as aux\n",
    "\n",
    "from dataclasses import dataclass\n",
    "from enum import Enum\n",
    "import pandas as pd\n",
    "import numpy as np"
   ]
  },
  {
   "cell_type": "code",
   "execution_count": 2,
   "metadata": {
    "ExecuteTime": {
     "end_time": "2020-11-29T13:20:25.872303Z",
     "start_time": "2020-11-29T13:20:25.868077Z"
    }
   },
   "outputs": [],
   "source": [
    "class BusCal(Enum):\n",
    "    NY = 1\n",
    "    SCL = 2"
   ]
  },
  {
   "cell_type": "code",
   "execution_count": 3,
   "metadata": {
    "ExecuteTime": {
     "end_time": "2020-11-29T13:20:26.733114Z",
     "start_time": "2020-11-29T13:20:26.682913Z"
    }
   },
   "outputs": [],
   "source": [
    "def get_cal(code: BusCal) -> Qcf.BusinessCalendar:\n",
    "    \"\"\"\n",
    "    \"\"\"\n",
    "    if code == BusCal.NY:\n",
    "        cal = Qcf.BusinessCalendar(Qcf.QCDate(1, 1, 2020), 20)\n",
    "        for agno in range(2020, 2071):\n",
    "            f = Qcf.QCDate(12, 10, agno)\n",
    "            if f.week_day() == Qcf.WeekDay.SAT:\n",
    "                cal.add_holiday(Qcf.QCDate(14, 10, agno))\n",
    "            elif f.week_day() == Qcf.WeekDay.SUN:\n",
    "                cal.add_holiday(Qcf.QCDate(13, 10, agno))\n",
    "            elif f.week_day() == Qcf.WeekDay.MON:\n",
    "                cal.add_holiday(Qcf.QCDate(12, 10, agno))\n",
    "            elif f.week_day() == Qcf.WeekDay.TUE:\n",
    "                cal.add_holiday(Qcf.QCDate(11, 10, agno))\n",
    "            elif f.week_day() == Qcf.WeekDay.WED:\n",
    "                cal.add_holiday(Qcf.QCDate(10, 10, agno))\n",
    "            elif f.week_day() == Qcf.WeekDay.THU:\n",
    "                cal.add_holiday(Qcf.QCDate(9, 10, agno))\n",
    "            else:\n",
    "                cal.add_holiday(Qcf.QCDate(8, 10, agno))\n",
    "        cal.add_holiday(Qcf.QCDate(15, 2, 2021))\n",
    "        \n",
    "    return cal"
   ]
  },
  {
   "cell_type": "code",
   "execution_count": 4,
   "metadata": {
    "ExecuteTime": {
     "end_time": "2020-11-29T13:20:32.331882Z",
     "start_time": "2020-11-29T13:20:32.167867Z"
    }
   },
   "outputs": [
    {
     "data": {
      "text/html": [
       "<style  type=\"text/css\" >\n",
       "</style><table id=\"T_a84efde2_3245_11eb_a3d0_02cba411ec9d\" ><thead>    <tr>        <th class=\"blank level0\" ></th>        <th class=\"col_heading level0 col0\" >fecha_inicial</th>        <th class=\"col_heading level0 col1\" >tasas_ois</th>    </tr></thead><tbody>\n",
       "                <tr>\n",
       "                        <th id=\"T_a84efde2_3245_11eb_a3d0_02cba411ec9dlevel0_row0\" class=\"row_heading level0 row0\" >0</th>\n",
       "                        <td id=\"T_a84efde2_3245_11eb_a3d0_02cba411ec9drow0_col0\" class=\"data row0 col0\" >2019-10-01 00:00:00</td>\n",
       "                        <td id=\"T_a84efde2_3245_11eb_a3d0_02cba411ec9drow0_col1\" class=\"data row0 col1\" >1.88</td>\n",
       "            </tr>\n",
       "            <tr>\n",
       "                        <th id=\"T_a84efde2_3245_11eb_a3d0_02cba411ec9dlevel0_row1\" class=\"row_heading level0 row1\" >1</th>\n",
       "                        <td id=\"T_a84efde2_3245_11eb_a3d0_02cba411ec9drow1_col0\" class=\"data row1 col0\" >2019-10-02 00:00:00</td>\n",
       "                        <td id=\"T_a84efde2_3245_11eb_a3d0_02cba411ec9drow1_col1\" class=\"data row1 col1\" >1.85</td>\n",
       "            </tr>\n",
       "            <tr>\n",
       "                        <th id=\"T_a84efde2_3245_11eb_a3d0_02cba411ec9dlevel0_row2\" class=\"row_heading level0 row2\" >2</th>\n",
       "                        <td id=\"T_a84efde2_3245_11eb_a3d0_02cba411ec9drow2_col0\" class=\"data row2 col0\" >2019-10-03 00:00:00</td>\n",
       "                        <td id=\"T_a84efde2_3245_11eb_a3d0_02cba411ec9drow2_col1\" class=\"data row2 col1\" >1.84</td>\n",
       "            </tr>\n",
       "            <tr>\n",
       "                        <th id=\"T_a84efde2_3245_11eb_a3d0_02cba411ec9dlevel0_row3\" class=\"row_heading level0 row3\" >3</th>\n",
       "                        <td id=\"T_a84efde2_3245_11eb_a3d0_02cba411ec9drow3_col0\" class=\"data row3 col0\" >2019-10-04 00:00:00</td>\n",
       "                        <td id=\"T_a84efde2_3245_11eb_a3d0_02cba411ec9drow3_col1\" class=\"data row3 col1\" >1.82</td>\n",
       "            </tr>\n",
       "            <tr>\n",
       "                        <th id=\"T_a84efde2_3245_11eb_a3d0_02cba411ec9dlevel0_row4\" class=\"row_heading level0 row4\" >4</th>\n",
       "                        <td id=\"T_a84efde2_3245_11eb_a3d0_02cba411ec9drow4_col0\" class=\"data row4 col0\" >2019-10-07 00:00:00</td>\n",
       "                        <td id=\"T_a84efde2_3245_11eb_a3d0_02cba411ec9drow4_col1\" class=\"data row4 col1\" >1.83</td>\n",
       "            </tr>\n",
       "            <tr>\n",
       "                        <th id=\"T_a84efde2_3245_11eb_a3d0_02cba411ec9dlevel0_row5\" class=\"row_heading level0 row5\" >5</th>\n",
       "                        <td id=\"T_a84efde2_3245_11eb_a3d0_02cba411ec9drow5_col0\" class=\"data row5 col0\" >2019-10-08 00:00:00</td>\n",
       "                        <td id=\"T_a84efde2_3245_11eb_a3d0_02cba411ec9drow5_col1\" class=\"data row5 col1\" >1.85</td>\n",
       "            </tr>\n",
       "            <tr>\n",
       "                        <th id=\"T_a84efde2_3245_11eb_a3d0_02cba411ec9dlevel0_row6\" class=\"row_heading level0 row6\" >6</th>\n",
       "                        <td id=\"T_a84efde2_3245_11eb_a3d0_02cba411ec9drow6_col0\" class=\"data row6 col0\" >2019-10-09 00:00:00</td>\n",
       "                        <td id=\"T_a84efde2_3245_11eb_a3d0_02cba411ec9drow6_col1\" class=\"data row6 col1\" >1.85</td>\n",
       "            </tr>\n",
       "            <tr>\n",
       "                        <th id=\"T_a84efde2_3245_11eb_a3d0_02cba411ec9dlevel0_row7\" class=\"row_heading level0 row7\" >7</th>\n",
       "                        <td id=\"T_a84efde2_3245_11eb_a3d0_02cba411ec9drow7_col0\" class=\"data row7 col0\" >2019-10-10 00:00:00</td>\n",
       "                        <td id=\"T_a84efde2_3245_11eb_a3d0_02cba411ec9drow7_col1\" class=\"data row7 col1\" >1.85</td>\n",
       "            </tr>\n",
       "            <tr>\n",
       "                        <th id=\"T_a84efde2_3245_11eb_a3d0_02cba411ec9dlevel0_row8\" class=\"row_heading level0 row8\" >8</th>\n",
       "                        <td id=\"T_a84efde2_3245_11eb_a3d0_02cba411ec9drow8_col0\" class=\"data row8 col0\" >2019-10-11 00:00:00</td>\n",
       "                        <td id=\"T_a84efde2_3245_11eb_a3d0_02cba411ec9drow8_col1\" class=\"data row8 col1\" >1.85</td>\n",
       "            </tr>\n",
       "            <tr>\n",
       "                        <th id=\"T_a84efde2_3245_11eb_a3d0_02cba411ec9dlevel0_row9\" class=\"row_heading level0 row9\" >9</th>\n",
       "                        <td id=\"T_a84efde2_3245_11eb_a3d0_02cba411ec9drow9_col0\" class=\"data row9 col0\" >2019-10-15 00:00:00</td>\n",
       "                        <td id=\"T_a84efde2_3245_11eb_a3d0_02cba411ec9drow9_col1\" class=\"data row9 col1\" >2.0</td>\n",
       "            </tr>\n",
       "            <tr>\n",
       "                        <th id=\"T_a84efde2_3245_11eb_a3d0_02cba411ec9dlevel0_row10\" class=\"row_heading level0 row10\" >10</th>\n",
       "                        <td id=\"T_a84efde2_3245_11eb_a3d0_02cba411ec9drow10_col0\" class=\"data row10 col0\" >2019-10-16 00:00:00</td>\n",
       "                        <td id=\"T_a84efde2_3245_11eb_a3d0_02cba411ec9drow10_col1\" class=\"data row10 col1\" >2.05</td>\n",
       "            </tr>\n",
       "            <tr>\n",
       "                        <th id=\"T_a84efde2_3245_11eb_a3d0_02cba411ec9dlevel0_row11\" class=\"row_heading level0 row11\" >11</th>\n",
       "                        <td id=\"T_a84efde2_3245_11eb_a3d0_02cba411ec9drow11_col0\" class=\"data row11 col0\" >2019-10-17 00:00:00</td>\n",
       "                        <td id=\"T_a84efde2_3245_11eb_a3d0_02cba411ec9drow11_col1\" class=\"data row11 col1\" >1.95</td>\n",
       "            </tr>\n",
       "            <tr>\n",
       "                        <th id=\"T_a84efde2_3245_11eb_a3d0_02cba411ec9dlevel0_row12\" class=\"row_heading level0 row12\" >12</th>\n",
       "                        <td id=\"T_a84efde2_3245_11eb_a3d0_02cba411ec9drow12_col0\" class=\"data row12 col0\" >2019-10-18 00:00:00</td>\n",
       "                        <td id=\"T_a84efde2_3245_11eb_a3d0_02cba411ec9drow12_col1\" class=\"data row12 col1\" >1.88</td>\n",
       "            </tr>\n",
       "            <tr>\n",
       "                        <th id=\"T_a84efde2_3245_11eb_a3d0_02cba411ec9dlevel0_row13\" class=\"row_heading level0 row13\" >13</th>\n",
       "                        <td id=\"T_a84efde2_3245_11eb_a3d0_02cba411ec9drow13_col0\" class=\"data row13 col0\" >2019-10-21 00:00:00</td>\n",
       "                        <td id=\"T_a84efde2_3245_11eb_a3d0_02cba411ec9drow13_col1\" class=\"data row13 col1\" >1.86</td>\n",
       "            </tr>\n",
       "            <tr>\n",
       "                        <th id=\"T_a84efde2_3245_11eb_a3d0_02cba411ec9dlevel0_row14\" class=\"row_heading level0 row14\" >14</th>\n",
       "                        <td id=\"T_a84efde2_3245_11eb_a3d0_02cba411ec9drow14_col0\" class=\"data row14 col0\" >2019-10-22 00:00:00</td>\n",
       "                        <td id=\"T_a84efde2_3245_11eb_a3d0_02cba411ec9drow14_col1\" class=\"data row14 col1\" >1.87</td>\n",
       "            </tr>\n",
       "            <tr>\n",
       "                        <th id=\"T_a84efde2_3245_11eb_a3d0_02cba411ec9dlevel0_row15\" class=\"row_heading level0 row15\" >15</th>\n",
       "                        <td id=\"T_a84efde2_3245_11eb_a3d0_02cba411ec9drow15_col0\" class=\"data row15 col0\" >2019-10-23 00:00:00</td>\n",
       "                        <td id=\"T_a84efde2_3245_11eb_a3d0_02cba411ec9drow15_col1\" class=\"data row15 col1\" >1.87</td>\n",
       "            </tr>\n",
       "            <tr>\n",
       "                        <th id=\"T_a84efde2_3245_11eb_a3d0_02cba411ec9dlevel0_row16\" class=\"row_heading level0 row16\" >16</th>\n",
       "                        <td id=\"T_a84efde2_3245_11eb_a3d0_02cba411ec9drow16_col0\" class=\"data row16 col0\" >2019-10-24 00:00:00</td>\n",
       "                        <td id=\"T_a84efde2_3245_11eb_a3d0_02cba411ec9drow16_col1\" class=\"data row16 col1\" >1.86</td>\n",
       "            </tr>\n",
       "            <tr>\n",
       "                        <th id=\"T_a84efde2_3245_11eb_a3d0_02cba411ec9dlevel0_row17\" class=\"row_heading level0 row17\" >17</th>\n",
       "                        <td id=\"T_a84efde2_3245_11eb_a3d0_02cba411ec9drow17_col0\" class=\"data row17 col0\" >2019-10-25 00:00:00</td>\n",
       "                        <td id=\"T_a84efde2_3245_11eb_a3d0_02cba411ec9drow17_col1\" class=\"data row17 col1\" >1.84</td>\n",
       "            </tr>\n",
       "            <tr>\n",
       "                        <th id=\"T_a84efde2_3245_11eb_a3d0_02cba411ec9dlevel0_row18\" class=\"row_heading level0 row18\" >18</th>\n",
       "                        <td id=\"T_a84efde2_3245_11eb_a3d0_02cba411ec9drow18_col0\" class=\"data row18 col0\" >2019-10-28 00:00:00</td>\n",
       "                        <td id=\"T_a84efde2_3245_11eb_a3d0_02cba411ec9drow18_col1\" class=\"data row18 col1\" >1.82</td>\n",
       "            </tr>\n",
       "            <tr>\n",
       "                        <th id=\"T_a84efde2_3245_11eb_a3d0_02cba411ec9dlevel0_row19\" class=\"row_heading level0 row19\" >19</th>\n",
       "                        <td id=\"T_a84efde2_3245_11eb_a3d0_02cba411ec9drow19_col0\" class=\"data row19 col0\" >2019-10-29 00:00:00</td>\n",
       "                        <td id=\"T_a84efde2_3245_11eb_a3d0_02cba411ec9drow19_col1\" class=\"data row19 col1\" >1.81</td>\n",
       "            </tr>\n",
       "            <tr>\n",
       "                        <th id=\"T_a84efde2_3245_11eb_a3d0_02cba411ec9dlevel0_row20\" class=\"row_heading level0 row20\" >20</th>\n",
       "                        <td id=\"T_a84efde2_3245_11eb_a3d0_02cba411ec9drow20_col0\" class=\"data row20 col0\" >2019-10-30 00:00:00</td>\n",
       "                        <td id=\"T_a84efde2_3245_11eb_a3d0_02cba411ec9drow20_col1\" class=\"data row20 col1\" >1.82</td>\n",
       "            </tr>\n",
       "            <tr>\n",
       "                        <th id=\"T_a84efde2_3245_11eb_a3d0_02cba411ec9dlevel0_row21\" class=\"row_heading level0 row21\" >21</th>\n",
       "                        <td id=\"T_a84efde2_3245_11eb_a3d0_02cba411ec9drow21_col0\" class=\"data row21 col0\" >2019-10-31 00:00:00</td>\n",
       "                        <td id=\"T_a84efde2_3245_11eb_a3d0_02cba411ec9drow21_col1\" class=\"data row21 col1\" >1.76</td>\n",
       "            </tr>\n",
       "            <tr>\n",
       "                        <th id=\"T_a84efde2_3245_11eb_a3d0_02cba411ec9dlevel0_row22\" class=\"row_heading level0 row22\" >22</th>\n",
       "                        <td id=\"T_a84efde2_3245_11eb_a3d0_02cba411ec9drow22_col0\" class=\"data row22 col0\" >2019-11-01 00:00:00</td>\n",
       "                        <td id=\"T_a84efde2_3245_11eb_a3d0_02cba411ec9drow22_col1\" class=\"data row22 col1\" >1.58</td>\n",
       "            </tr>\n",
       "            <tr>\n",
       "                        <th id=\"T_a84efde2_3245_11eb_a3d0_02cba411ec9dlevel0_row23\" class=\"row_heading level0 row23\" >23</th>\n",
       "                        <td id=\"T_a84efde2_3245_11eb_a3d0_02cba411ec9drow23_col0\" class=\"data row23 col0\" >2019-11-04 00:00:00</td>\n",
       "                        <td id=\"T_a84efde2_3245_11eb_a3d0_02cba411ec9drow23_col1\" class=\"data row23 col1\" >1.56</td>\n",
       "            </tr>\n",
       "            <tr>\n",
       "                        <th id=\"T_a84efde2_3245_11eb_a3d0_02cba411ec9dlevel0_row24\" class=\"row_heading level0 row24\" >24</th>\n",
       "                        <td id=\"T_a84efde2_3245_11eb_a3d0_02cba411ec9drow24_col0\" class=\"data row24 col0\" >2019-11-05 00:00:00</td>\n",
       "                        <td id=\"T_a84efde2_3245_11eb_a3d0_02cba411ec9drow24_col1\" class=\"data row24 col1\" >1.58</td>\n",
       "            </tr>\n",
       "            <tr>\n",
       "                        <th id=\"T_a84efde2_3245_11eb_a3d0_02cba411ec9dlevel0_row25\" class=\"row_heading level0 row25\" >25</th>\n",
       "                        <td id=\"T_a84efde2_3245_11eb_a3d0_02cba411ec9drow25_col0\" class=\"data row25 col0\" >2019-11-06 00:00:00</td>\n",
       "                        <td id=\"T_a84efde2_3245_11eb_a3d0_02cba411ec9drow25_col1\" class=\"data row25 col1\" >1.57</td>\n",
       "            </tr>\n",
       "            <tr>\n",
       "                        <th id=\"T_a84efde2_3245_11eb_a3d0_02cba411ec9dlevel0_row26\" class=\"row_heading level0 row26\" >26</th>\n",
       "                        <td id=\"T_a84efde2_3245_11eb_a3d0_02cba411ec9drow26_col0\" class=\"data row26 col0\" >2019-11-07 00:00:00</td>\n",
       "                        <td id=\"T_a84efde2_3245_11eb_a3d0_02cba411ec9drow26_col1\" class=\"data row26 col1\" >1.56</td>\n",
       "            </tr>\n",
       "            <tr>\n",
       "                        <th id=\"T_a84efde2_3245_11eb_a3d0_02cba411ec9dlevel0_row27\" class=\"row_heading level0 row27\" >27</th>\n",
       "                        <td id=\"T_a84efde2_3245_11eb_a3d0_02cba411ec9drow27_col0\" class=\"data row27 col0\" >2019-11-08 00:00:00</td>\n",
       "                        <td id=\"T_a84efde2_3245_11eb_a3d0_02cba411ec9drow27_col1\" class=\"data row27 col1\" >1.56</td>\n",
       "            </tr>\n",
       "            <tr>\n",
       "                        <th id=\"T_a84efde2_3245_11eb_a3d0_02cba411ec9dlevel0_row28\" class=\"row_heading level0 row28\" >28</th>\n",
       "                        <td id=\"T_a84efde2_3245_11eb_a3d0_02cba411ec9drow28_col0\" class=\"data row28 col0\" >2019-11-12 00:00:00</td>\n",
       "                        <td id=\"T_a84efde2_3245_11eb_a3d0_02cba411ec9drow28_col1\" class=\"data row28 col1\" >1.57</td>\n",
       "            </tr>\n",
       "            <tr>\n",
       "                        <th id=\"T_a84efde2_3245_11eb_a3d0_02cba411ec9dlevel0_row29\" class=\"row_heading level0 row29\" >29</th>\n",
       "                        <td id=\"T_a84efde2_3245_11eb_a3d0_02cba411ec9drow29_col0\" class=\"data row29 col0\" >2019-11-13 00:00:00</td>\n",
       "                        <td id=\"T_a84efde2_3245_11eb_a3d0_02cba411ec9drow29_col1\" class=\"data row29 col1\" >1.57</td>\n",
       "            </tr>\n",
       "            <tr>\n",
       "                        <th id=\"T_a84efde2_3245_11eb_a3d0_02cba411ec9dlevel0_row30\" class=\"row_heading level0 row30\" >30</th>\n",
       "                        <td id=\"T_a84efde2_3245_11eb_a3d0_02cba411ec9drow30_col0\" class=\"data row30 col0\" >2019-11-14 00:00:00</td>\n",
       "                        <td id=\"T_a84efde2_3245_11eb_a3d0_02cba411ec9drow30_col1\" class=\"data row30 col1\" >1.58</td>\n",
       "            </tr>\n",
       "            <tr>\n",
       "                        <th id=\"T_a84efde2_3245_11eb_a3d0_02cba411ec9dlevel0_row31\" class=\"row_heading level0 row31\" >31</th>\n",
       "                        <td id=\"T_a84efde2_3245_11eb_a3d0_02cba411ec9drow31_col0\" class=\"data row31 col0\" >2019-11-15 00:00:00</td>\n",
       "                        <td id=\"T_a84efde2_3245_11eb_a3d0_02cba411ec9drow31_col1\" class=\"data row31 col1\" >1.59</td>\n",
       "            </tr>\n",
       "            <tr>\n",
       "                        <th id=\"T_a84efde2_3245_11eb_a3d0_02cba411ec9dlevel0_row32\" class=\"row_heading level0 row32\" >32</th>\n",
       "                        <td id=\"T_a84efde2_3245_11eb_a3d0_02cba411ec9drow32_col0\" class=\"data row32 col0\" >2019-11-18 00:00:00</td>\n",
       "                        <td id=\"T_a84efde2_3245_11eb_a3d0_02cba411ec9drow32_col1\" class=\"data row32 col1\" >1.56</td>\n",
       "            </tr>\n",
       "            <tr>\n",
       "                        <th id=\"T_a84efde2_3245_11eb_a3d0_02cba411ec9dlevel0_row33\" class=\"row_heading level0 row33\" >33</th>\n",
       "                        <td id=\"T_a84efde2_3245_11eb_a3d0_02cba411ec9drow33_col0\" class=\"data row33 col0\" >2019-11-19 00:00:00</td>\n",
       "                        <td id=\"T_a84efde2_3245_11eb_a3d0_02cba411ec9drow33_col1\" class=\"data row33 col1\" >1.57</td>\n",
       "            </tr>\n",
       "            <tr>\n",
       "                        <th id=\"T_a84efde2_3245_11eb_a3d0_02cba411ec9dlevel0_row34\" class=\"row_heading level0 row34\" >34</th>\n",
       "                        <td id=\"T_a84efde2_3245_11eb_a3d0_02cba411ec9drow34_col0\" class=\"data row34 col0\" >2019-11-20 00:00:00</td>\n",
       "                        <td id=\"T_a84efde2_3245_11eb_a3d0_02cba411ec9drow34_col1\" class=\"data row34 col1\" >1.57</td>\n",
       "            </tr>\n",
       "            <tr>\n",
       "                        <th id=\"T_a84efde2_3245_11eb_a3d0_02cba411ec9dlevel0_row35\" class=\"row_heading level0 row35\" >35</th>\n",
       "                        <td id=\"T_a84efde2_3245_11eb_a3d0_02cba411ec9drow35_col0\" class=\"data row35 col0\" >2019-11-21 00:00:00</td>\n",
       "                        <td id=\"T_a84efde2_3245_11eb_a3d0_02cba411ec9drow35_col1\" class=\"data row35 col1\" >1.58</td>\n",
       "            </tr>\n",
       "            <tr>\n",
       "                        <th id=\"T_a84efde2_3245_11eb_a3d0_02cba411ec9dlevel0_row36\" class=\"row_heading level0 row36\" >36</th>\n",
       "                        <td id=\"T_a84efde2_3245_11eb_a3d0_02cba411ec9drow36_col0\" class=\"data row36 col0\" >2019-11-22 00:00:00</td>\n",
       "                        <td id=\"T_a84efde2_3245_11eb_a3d0_02cba411ec9drow36_col1\" class=\"data row36 col1\" >1.58</td>\n",
       "            </tr>\n",
       "            <tr>\n",
       "                        <th id=\"T_a84efde2_3245_11eb_a3d0_02cba411ec9dlevel0_row37\" class=\"row_heading level0 row37\" >37</th>\n",
       "                        <td id=\"T_a84efde2_3245_11eb_a3d0_02cba411ec9drow37_col0\" class=\"data row37 col0\" >2019-11-25 00:00:00</td>\n",
       "                        <td id=\"T_a84efde2_3245_11eb_a3d0_02cba411ec9drow37_col1\" class=\"data row37 col1\" >1.56</td>\n",
       "            </tr>\n",
       "            <tr>\n",
       "                        <th id=\"T_a84efde2_3245_11eb_a3d0_02cba411ec9dlevel0_row38\" class=\"row_heading level0 row38\" >38</th>\n",
       "                        <td id=\"T_a84efde2_3245_11eb_a3d0_02cba411ec9drow38_col0\" class=\"data row38 col0\" >2019-11-26 00:00:00</td>\n",
       "                        <td id=\"T_a84efde2_3245_11eb_a3d0_02cba411ec9drow38_col1\" class=\"data row38 col1\" >1.54</td>\n",
       "            </tr>\n",
       "            <tr>\n",
       "                        <th id=\"T_a84efde2_3245_11eb_a3d0_02cba411ec9dlevel0_row39\" class=\"row_heading level0 row39\" >39</th>\n",
       "                        <td id=\"T_a84efde2_3245_11eb_a3d0_02cba411ec9drow39_col0\" class=\"data row39 col0\" >2019-11-27 00:00:00</td>\n",
       "                        <td id=\"T_a84efde2_3245_11eb_a3d0_02cba411ec9drow39_col1\" class=\"data row39 col1\" >1.55</td>\n",
       "            </tr>\n",
       "            <tr>\n",
       "                        <th id=\"T_a84efde2_3245_11eb_a3d0_02cba411ec9dlevel0_row40\" class=\"row_heading level0 row40\" >40</th>\n",
       "                        <td id=\"T_a84efde2_3245_11eb_a3d0_02cba411ec9drow40_col0\" class=\"data row40 col0\" >2019-11-29 00:00:00</td>\n",
       "                        <td id=\"T_a84efde2_3245_11eb_a3d0_02cba411ec9drow40_col1\" class=\"data row40 col1\" >1.65</td>\n",
       "            </tr>\n",
       "            <tr>\n",
       "                        <th id=\"T_a84efde2_3245_11eb_a3d0_02cba411ec9dlevel0_row41\" class=\"row_heading level0 row41\" >41</th>\n",
       "                        <td id=\"T_a84efde2_3245_11eb_a3d0_02cba411ec9drow41_col0\" class=\"data row41 col0\" >2019-12-02 00:00:00</td>\n",
       "                        <td id=\"T_a84efde2_3245_11eb_a3d0_02cba411ec9drow41_col1\" class=\"data row41 col1\" >1.63</td>\n",
       "            </tr>\n",
       "            <tr>\n",
       "                        <th id=\"T_a84efde2_3245_11eb_a3d0_02cba411ec9dlevel0_row42\" class=\"row_heading level0 row42\" >42</th>\n",
       "                        <td id=\"T_a84efde2_3245_11eb_a3d0_02cba411ec9drow42_col0\" class=\"data row42 col0\" >2019-12-03 00:00:00</td>\n",
       "                        <td id=\"T_a84efde2_3245_11eb_a3d0_02cba411ec9drow42_col1\" class=\"data row42 col1\" >1.55</td>\n",
       "            </tr>\n",
       "            <tr>\n",
       "                        <th id=\"T_a84efde2_3245_11eb_a3d0_02cba411ec9dlevel0_row43\" class=\"row_heading level0 row43\" >43</th>\n",
       "                        <td id=\"T_a84efde2_3245_11eb_a3d0_02cba411ec9drow43_col0\" class=\"data row43 col0\" >2019-12-04 00:00:00</td>\n",
       "                        <td id=\"T_a84efde2_3245_11eb_a3d0_02cba411ec9drow43_col1\" class=\"data row43 col1\" >1.54</td>\n",
       "            </tr>\n",
       "            <tr>\n",
       "                        <th id=\"T_a84efde2_3245_11eb_a3d0_02cba411ec9dlevel0_row44\" class=\"row_heading level0 row44\" >44</th>\n",
       "                        <td id=\"T_a84efde2_3245_11eb_a3d0_02cba411ec9drow44_col0\" class=\"data row44 col0\" >2019-12-05 00:00:00</td>\n",
       "                        <td id=\"T_a84efde2_3245_11eb_a3d0_02cba411ec9drow44_col1\" class=\"data row44 col1\" >1.55</td>\n",
       "            </tr>\n",
       "            <tr>\n",
       "                        <th id=\"T_a84efde2_3245_11eb_a3d0_02cba411ec9dlevel0_row45\" class=\"row_heading level0 row45\" >45</th>\n",
       "                        <td id=\"T_a84efde2_3245_11eb_a3d0_02cba411ec9drow45_col0\" class=\"data row45 col0\" >2019-12-06 00:00:00</td>\n",
       "                        <td id=\"T_a84efde2_3245_11eb_a3d0_02cba411ec9drow45_col1\" class=\"data row45 col1\" >1.55</td>\n",
       "            </tr>\n",
       "            <tr>\n",
       "                        <th id=\"T_a84efde2_3245_11eb_a3d0_02cba411ec9dlevel0_row46\" class=\"row_heading level0 row46\" >46</th>\n",
       "                        <td id=\"T_a84efde2_3245_11eb_a3d0_02cba411ec9drow46_col0\" class=\"data row46 col0\" >2019-12-09 00:00:00</td>\n",
       "                        <td id=\"T_a84efde2_3245_11eb_a3d0_02cba411ec9drow46_col1\" class=\"data row46 col1\" >1.56</td>\n",
       "            </tr>\n",
       "            <tr>\n",
       "                        <th id=\"T_a84efde2_3245_11eb_a3d0_02cba411ec9dlevel0_row47\" class=\"row_heading level0 row47\" >47</th>\n",
       "                        <td id=\"T_a84efde2_3245_11eb_a3d0_02cba411ec9drow47_col0\" class=\"data row47 col0\" >2019-12-10 00:00:00</td>\n",
       "                        <td id=\"T_a84efde2_3245_11eb_a3d0_02cba411ec9drow47_col1\" class=\"data row47 col1\" >1.55</td>\n",
       "            </tr>\n",
       "            <tr>\n",
       "                        <th id=\"T_a84efde2_3245_11eb_a3d0_02cba411ec9dlevel0_row48\" class=\"row_heading level0 row48\" >48</th>\n",
       "                        <td id=\"T_a84efde2_3245_11eb_a3d0_02cba411ec9drow48_col0\" class=\"data row48 col0\" >2019-12-11 00:00:00</td>\n",
       "                        <td id=\"T_a84efde2_3245_11eb_a3d0_02cba411ec9drow48_col1\" class=\"data row48 col1\" >1.54</td>\n",
       "            </tr>\n",
       "            <tr>\n",
       "                        <th id=\"T_a84efde2_3245_11eb_a3d0_02cba411ec9dlevel0_row49\" class=\"row_heading level0 row49\" >49</th>\n",
       "                        <td id=\"T_a84efde2_3245_11eb_a3d0_02cba411ec9drow49_col0\" class=\"data row49 col0\" >2019-12-12 00:00:00</td>\n",
       "                        <td id=\"T_a84efde2_3245_11eb_a3d0_02cba411ec9drow49_col1\" class=\"data row49 col1\" >1.53</td>\n",
       "            </tr>\n",
       "            <tr>\n",
       "                        <th id=\"T_a84efde2_3245_11eb_a3d0_02cba411ec9dlevel0_row50\" class=\"row_heading level0 row50\" >50</th>\n",
       "                        <td id=\"T_a84efde2_3245_11eb_a3d0_02cba411ec9drow50_col0\" class=\"data row50 col0\" >2019-12-13 00:00:00</td>\n",
       "                        <td id=\"T_a84efde2_3245_11eb_a3d0_02cba411ec9drow50_col1\" class=\"data row50 col1\" >1.54</td>\n",
       "            </tr>\n",
       "            <tr>\n",
       "                        <th id=\"T_a84efde2_3245_11eb_a3d0_02cba411ec9dlevel0_row51\" class=\"row_heading level0 row51\" >51</th>\n",
       "                        <td id=\"T_a84efde2_3245_11eb_a3d0_02cba411ec9drow51_col0\" class=\"data row51 col0\" >2019-12-16 00:00:00</td>\n",
       "                        <td id=\"T_a84efde2_3245_11eb_a3d0_02cba411ec9drow51_col1\" class=\"data row51 col1\" >1.62</td>\n",
       "            </tr>\n",
       "            <tr>\n",
       "                        <th id=\"T_a84efde2_3245_11eb_a3d0_02cba411ec9dlevel0_row52\" class=\"row_heading level0 row52\" >52</th>\n",
       "                        <td id=\"T_a84efde2_3245_11eb_a3d0_02cba411ec9drow52_col0\" class=\"data row52 col0\" >2019-12-17 00:00:00</td>\n",
       "                        <td id=\"T_a84efde2_3245_11eb_a3d0_02cba411ec9drow52_col1\" class=\"data row52 col1\" >1.54</td>\n",
       "            </tr>\n",
       "            <tr>\n",
       "                        <th id=\"T_a84efde2_3245_11eb_a3d0_02cba411ec9dlevel0_row53\" class=\"row_heading level0 row53\" >53</th>\n",
       "                        <td id=\"T_a84efde2_3245_11eb_a3d0_02cba411ec9drow53_col0\" class=\"data row53 col0\" >2019-12-18 00:00:00</td>\n",
       "                        <td id=\"T_a84efde2_3245_11eb_a3d0_02cba411ec9drow53_col1\" class=\"data row53 col1\" >1.53</td>\n",
       "            </tr>\n",
       "            <tr>\n",
       "                        <th id=\"T_a84efde2_3245_11eb_a3d0_02cba411ec9dlevel0_row54\" class=\"row_heading level0 row54\" >54</th>\n",
       "                        <td id=\"T_a84efde2_3245_11eb_a3d0_02cba411ec9drow54_col0\" class=\"data row54 col0\" >2019-12-19 00:00:00</td>\n",
       "                        <td id=\"T_a84efde2_3245_11eb_a3d0_02cba411ec9drow54_col1\" class=\"data row54 col1\" >1.53</td>\n",
       "            </tr>\n",
       "            <tr>\n",
       "                        <th id=\"T_a84efde2_3245_11eb_a3d0_02cba411ec9dlevel0_row55\" class=\"row_heading level0 row55\" >55</th>\n",
       "                        <td id=\"T_a84efde2_3245_11eb_a3d0_02cba411ec9drow55_col0\" class=\"data row55 col0\" >2019-12-20 00:00:00</td>\n",
       "                        <td id=\"T_a84efde2_3245_11eb_a3d0_02cba411ec9drow55_col1\" class=\"data row55 col1\" >1.53</td>\n",
       "            </tr>\n",
       "            <tr>\n",
       "                        <th id=\"T_a84efde2_3245_11eb_a3d0_02cba411ec9dlevel0_row56\" class=\"row_heading level0 row56\" >56</th>\n",
       "                        <td id=\"T_a84efde2_3245_11eb_a3d0_02cba411ec9drow56_col0\" class=\"data row56 col0\" >2019-12-23 00:00:00</td>\n",
       "                        <td id=\"T_a84efde2_3245_11eb_a3d0_02cba411ec9drow56_col1\" class=\"data row56 col1\" >1.52</td>\n",
       "            </tr>\n",
       "            <tr>\n",
       "                        <th id=\"T_a84efde2_3245_11eb_a3d0_02cba411ec9dlevel0_row57\" class=\"row_heading level0 row57\" >57</th>\n",
       "                        <td id=\"T_a84efde2_3245_11eb_a3d0_02cba411ec9drow57_col0\" class=\"data row57 col0\" >2019-12-24 00:00:00</td>\n",
       "                        <td id=\"T_a84efde2_3245_11eb_a3d0_02cba411ec9drow57_col1\" class=\"data row57 col1\" >1.52</td>\n",
       "            </tr>\n",
       "            <tr>\n",
       "                        <th id=\"T_a84efde2_3245_11eb_a3d0_02cba411ec9dlevel0_row58\" class=\"row_heading level0 row58\" >58</th>\n",
       "                        <td id=\"T_a84efde2_3245_11eb_a3d0_02cba411ec9drow58_col0\" class=\"data row58 col0\" >2019-12-26 00:00:00</td>\n",
       "                        <td id=\"T_a84efde2_3245_11eb_a3d0_02cba411ec9drow58_col1\" class=\"data row58 col1\" >1.52</td>\n",
       "            </tr>\n",
       "            <tr>\n",
       "                        <th id=\"T_a84efde2_3245_11eb_a3d0_02cba411ec9dlevel0_row59\" class=\"row_heading level0 row59\" >59</th>\n",
       "                        <td id=\"T_a84efde2_3245_11eb_a3d0_02cba411ec9drow59_col0\" class=\"data row59 col0\" >2019-12-27 00:00:00</td>\n",
       "                        <td id=\"T_a84efde2_3245_11eb_a3d0_02cba411ec9drow59_col1\" class=\"data row59 col1\" >1.53</td>\n",
       "            </tr>\n",
       "            <tr>\n",
       "                        <th id=\"T_a84efde2_3245_11eb_a3d0_02cba411ec9dlevel0_row60\" class=\"row_heading level0 row60\" >60</th>\n",
       "                        <td id=\"T_a84efde2_3245_11eb_a3d0_02cba411ec9drow60_col0\" class=\"data row60 col0\" >2019-12-30 00:00:00</td>\n",
       "                        <td id=\"T_a84efde2_3245_11eb_a3d0_02cba411ec9drow60_col1\" class=\"data row60 col1\" >1.54</td>\n",
       "            </tr>\n",
       "            <tr>\n",
       "                        <th id=\"T_a84efde2_3245_11eb_a3d0_02cba411ec9dlevel0_row61\" class=\"row_heading level0 row61\" >61</th>\n",
       "                        <td id=\"T_a84efde2_3245_11eb_a3d0_02cba411ec9drow61_col0\" class=\"data row61 col0\" >2019-12-31 00:00:00</td>\n",
       "                        <td id=\"T_a84efde2_3245_11eb_a3d0_02cba411ec9drow61_col1\" class=\"data row61 col1\" >1.55</td>\n",
       "            </tr>\n",
       "            <tr>\n",
       "                        <th id=\"T_a84efde2_3245_11eb_a3d0_02cba411ec9dlevel0_row62\" class=\"row_heading level0 row62\" >62</th>\n",
       "                        <td id=\"T_a84efde2_3245_11eb_a3d0_02cba411ec9drow62_col0\" class=\"data row62 col0\" >2020-01-02 00:00:00</td>\n",
       "                        <td id=\"T_a84efde2_3245_11eb_a3d0_02cba411ec9drow62_col1\" class=\"data row62 col1\" >1.54</td>\n",
       "            </tr>\n",
       "            <tr>\n",
       "                        <th id=\"T_a84efde2_3245_11eb_a3d0_02cba411ec9dlevel0_row63\" class=\"row_heading level0 row63\" >63</th>\n",
       "                        <td id=\"T_a84efde2_3245_11eb_a3d0_02cba411ec9drow63_col0\" class=\"data row63 col0\" >2020-01-03 00:00:00</td>\n",
       "                        <td id=\"T_a84efde2_3245_11eb_a3d0_02cba411ec9drow63_col1\" class=\"data row63 col1\" >1.55</td>\n",
       "            </tr>\n",
       "            <tr>\n",
       "                        <th id=\"T_a84efde2_3245_11eb_a3d0_02cba411ec9dlevel0_row64\" class=\"row_heading level0 row64\" >64</th>\n",
       "                        <td id=\"T_a84efde2_3245_11eb_a3d0_02cba411ec9drow64_col0\" class=\"data row64 col0\" >2020-01-06 00:00:00</td>\n",
       "                        <td id=\"T_a84efde2_3245_11eb_a3d0_02cba411ec9drow64_col1\" class=\"data row64 col1\" >1.55</td>\n",
       "            </tr>\n",
       "            <tr>\n",
       "                        <th id=\"T_a84efde2_3245_11eb_a3d0_02cba411ec9dlevel0_row65\" class=\"row_heading level0 row65\" >65</th>\n",
       "                        <td id=\"T_a84efde2_3245_11eb_a3d0_02cba411ec9drow65_col0\" class=\"data row65 col0\" >2020-01-07 00:00:00</td>\n",
       "                        <td id=\"T_a84efde2_3245_11eb_a3d0_02cba411ec9drow65_col1\" class=\"data row65 col1\" >1.56</td>\n",
       "            </tr>\n",
       "            <tr>\n",
       "                        <th id=\"T_a84efde2_3245_11eb_a3d0_02cba411ec9dlevel0_row66\" class=\"row_heading level0 row66\" >66</th>\n",
       "                        <td id=\"T_a84efde2_3245_11eb_a3d0_02cba411ec9drow66_col0\" class=\"data row66 col0\" >2020-01-08 00:00:00</td>\n",
       "                        <td id=\"T_a84efde2_3245_11eb_a3d0_02cba411ec9drow66_col1\" class=\"data row66 col1\" >1.55</td>\n",
       "            </tr>\n",
       "            <tr>\n",
       "                        <th id=\"T_a84efde2_3245_11eb_a3d0_02cba411ec9dlevel0_row67\" class=\"row_heading level0 row67\" >67</th>\n",
       "                        <td id=\"T_a84efde2_3245_11eb_a3d0_02cba411ec9drow67_col0\" class=\"data row67 col0\" >2020-01-09 00:00:00</td>\n",
       "                        <td id=\"T_a84efde2_3245_11eb_a3d0_02cba411ec9drow67_col1\" class=\"data row67 col1\" >1.55</td>\n",
       "            </tr>\n",
       "            <tr>\n",
       "                        <th id=\"T_a84efde2_3245_11eb_a3d0_02cba411ec9dlevel0_row68\" class=\"row_heading level0 row68\" >68</th>\n",
       "                        <td id=\"T_a84efde2_3245_11eb_a3d0_02cba411ec9drow68_col0\" class=\"data row68 col0\" >2020-01-10 00:00:00</td>\n",
       "                        <td id=\"T_a84efde2_3245_11eb_a3d0_02cba411ec9drow68_col1\" class=\"data row68 col1\" >1.55</td>\n",
       "            </tr>\n",
       "            <tr>\n",
       "                        <th id=\"T_a84efde2_3245_11eb_a3d0_02cba411ec9dlevel0_row69\" class=\"row_heading level0 row69\" >69</th>\n",
       "                        <td id=\"T_a84efde2_3245_11eb_a3d0_02cba411ec9drow69_col0\" class=\"data row69 col0\" >2020-01-13 00:00:00</td>\n",
       "                        <td id=\"T_a84efde2_3245_11eb_a3d0_02cba411ec9drow69_col1\" class=\"data row69 col1\" >1.54</td>\n",
       "            </tr>\n",
       "            <tr>\n",
       "                        <th id=\"T_a84efde2_3245_11eb_a3d0_02cba411ec9dlevel0_row70\" class=\"row_heading level0 row70\" >70</th>\n",
       "                        <td id=\"T_a84efde2_3245_11eb_a3d0_02cba411ec9drow70_col0\" class=\"data row70 col0\" >2020-01-14 00:00:00</td>\n",
       "                        <td id=\"T_a84efde2_3245_11eb_a3d0_02cba411ec9drow70_col1\" class=\"data row70 col1\" >1.55</td>\n",
       "            </tr>\n",
       "            <tr>\n",
       "                        <th id=\"T_a84efde2_3245_11eb_a3d0_02cba411ec9dlevel0_row71\" class=\"row_heading level0 row71\" >71</th>\n",
       "                        <td id=\"T_a84efde2_3245_11eb_a3d0_02cba411ec9drow71_col0\" class=\"data row71 col0\" >2020-01-15 00:00:00</td>\n",
       "                        <td id=\"T_a84efde2_3245_11eb_a3d0_02cba411ec9drow71_col1\" class=\"data row71 col1\" >1.56</td>\n",
       "            </tr>\n",
       "            <tr>\n",
       "                        <th id=\"T_a84efde2_3245_11eb_a3d0_02cba411ec9dlevel0_row72\" class=\"row_heading level0 row72\" >72</th>\n",
       "                        <td id=\"T_a84efde2_3245_11eb_a3d0_02cba411ec9drow72_col0\" class=\"data row72 col0\" >2020-01-16 00:00:00</td>\n",
       "                        <td id=\"T_a84efde2_3245_11eb_a3d0_02cba411ec9drow72_col1\" class=\"data row72 col1\" >1.55</td>\n",
       "            </tr>\n",
       "            <tr>\n",
       "                        <th id=\"T_a84efde2_3245_11eb_a3d0_02cba411ec9dlevel0_row73\" class=\"row_heading level0 row73\" >73</th>\n",
       "                        <td id=\"T_a84efde2_3245_11eb_a3d0_02cba411ec9drow73_col0\" class=\"data row73 col0\" >2020-01-17 00:00:00</td>\n",
       "                        <td id=\"T_a84efde2_3245_11eb_a3d0_02cba411ec9drow73_col1\" class=\"data row73 col1\" >1.54</td>\n",
       "            </tr>\n",
       "            <tr>\n",
       "                        <th id=\"T_a84efde2_3245_11eb_a3d0_02cba411ec9dlevel0_row74\" class=\"row_heading level0 row74\" >74</th>\n",
       "                        <td id=\"T_a84efde2_3245_11eb_a3d0_02cba411ec9drow74_col0\" class=\"data row74 col0\" >2020-01-21 00:00:00</td>\n",
       "                        <td id=\"T_a84efde2_3245_11eb_a3d0_02cba411ec9drow74_col1\" class=\"data row74 col1\" >1.54</td>\n",
       "            </tr>\n",
       "            <tr>\n",
       "                        <th id=\"T_a84efde2_3245_11eb_a3d0_02cba411ec9dlevel0_row75\" class=\"row_heading level0 row75\" >75</th>\n",
       "                        <td id=\"T_a84efde2_3245_11eb_a3d0_02cba411ec9drow75_col0\" class=\"data row75 col0\" >2020-01-22 00:00:00</td>\n",
       "                        <td id=\"T_a84efde2_3245_11eb_a3d0_02cba411ec9drow75_col1\" class=\"data row75 col1\" >1.54</td>\n",
       "            </tr>\n",
       "            <tr>\n",
       "                        <th id=\"T_a84efde2_3245_11eb_a3d0_02cba411ec9dlevel0_row76\" class=\"row_heading level0 row76\" >76</th>\n",
       "                        <td id=\"T_a84efde2_3245_11eb_a3d0_02cba411ec9drow76_col0\" class=\"data row76 col0\" >2020-01-23 00:00:00</td>\n",
       "                        <td id=\"T_a84efde2_3245_11eb_a3d0_02cba411ec9drow76_col1\" class=\"data row76 col1\" >1.54</td>\n",
       "            </tr>\n",
       "            <tr>\n",
       "                        <th id=\"T_a84efde2_3245_11eb_a3d0_02cba411ec9dlevel0_row77\" class=\"row_heading level0 row77\" >77</th>\n",
       "                        <td id=\"T_a84efde2_3245_11eb_a3d0_02cba411ec9drow77_col0\" class=\"data row77 col0\" >2020-01-24 00:00:00</td>\n",
       "                        <td id=\"T_a84efde2_3245_11eb_a3d0_02cba411ec9drow77_col1\" class=\"data row77 col1\" >1.53</td>\n",
       "            </tr>\n",
       "            <tr>\n",
       "                        <th id=\"T_a84efde2_3245_11eb_a3d0_02cba411ec9dlevel0_row78\" class=\"row_heading level0 row78\" >78</th>\n",
       "                        <td id=\"T_a84efde2_3245_11eb_a3d0_02cba411ec9drow78_col0\" class=\"data row78 col0\" >2020-01-27 00:00:00</td>\n",
       "                        <td id=\"T_a84efde2_3245_11eb_a3d0_02cba411ec9drow78_col1\" class=\"data row78 col1\" >1.53</td>\n",
       "            </tr>\n",
       "            <tr>\n",
       "                        <th id=\"T_a84efde2_3245_11eb_a3d0_02cba411ec9dlevel0_row79\" class=\"row_heading level0 row79\" >79</th>\n",
       "                        <td id=\"T_a84efde2_3245_11eb_a3d0_02cba411ec9drow79_col0\" class=\"data row79 col0\" >2020-01-28 00:00:00</td>\n",
       "                        <td id=\"T_a84efde2_3245_11eb_a3d0_02cba411ec9drow79_col1\" class=\"data row79 col1\" >1.53</td>\n",
       "            </tr>\n",
       "            <tr>\n",
       "                        <th id=\"T_a84efde2_3245_11eb_a3d0_02cba411ec9dlevel0_row80\" class=\"row_heading level0 row80\" >80</th>\n",
       "                        <td id=\"T_a84efde2_3245_11eb_a3d0_02cba411ec9drow80_col0\" class=\"data row80 col0\" >2020-01-29 00:00:00</td>\n",
       "                        <td id=\"T_a84efde2_3245_11eb_a3d0_02cba411ec9drow80_col1\" class=\"data row80 col1\" >1.53</td>\n",
       "            </tr>\n",
       "            <tr>\n",
       "                        <th id=\"T_a84efde2_3245_11eb_a3d0_02cba411ec9dlevel0_row81\" class=\"row_heading level0 row81\" >81</th>\n",
       "                        <td id=\"T_a84efde2_3245_11eb_a3d0_02cba411ec9drow81_col0\" class=\"data row81 col0\" >2020-01-30 00:00:00</td>\n",
       "                        <td id=\"T_a84efde2_3245_11eb_a3d0_02cba411ec9drow81_col1\" class=\"data row81 col1\" >1.58</td>\n",
       "            </tr>\n",
       "            <tr>\n",
       "                        <th id=\"T_a84efde2_3245_11eb_a3d0_02cba411ec9dlevel0_row82\" class=\"row_heading level0 row82\" >82</th>\n",
       "                        <td id=\"T_a84efde2_3245_11eb_a3d0_02cba411ec9drow82_col0\" class=\"data row82 col0\" >2020-01-31 00:00:00</td>\n",
       "                        <td id=\"T_a84efde2_3245_11eb_a3d0_02cba411ec9drow82_col1\" class=\"data row82 col1\" >1.6</td>\n",
       "            </tr>\n",
       "            <tr>\n",
       "                        <th id=\"T_a84efde2_3245_11eb_a3d0_02cba411ec9dlevel0_row83\" class=\"row_heading level0 row83\" >83</th>\n",
       "                        <td id=\"T_a84efde2_3245_11eb_a3d0_02cba411ec9drow83_col0\" class=\"data row83 col0\" >2020-02-03 00:00:00</td>\n",
       "                        <td id=\"T_a84efde2_3245_11eb_a3d0_02cba411ec9drow83_col1\" class=\"data row83 col1\" >1.59</td>\n",
       "            </tr>\n",
       "            <tr>\n",
       "                        <th id=\"T_a84efde2_3245_11eb_a3d0_02cba411ec9dlevel0_row84\" class=\"row_heading level0 row84\" >84</th>\n",
       "                        <td id=\"T_a84efde2_3245_11eb_a3d0_02cba411ec9drow84_col0\" class=\"data row84 col0\" >2020-02-04 00:00:00</td>\n",
       "                        <td id=\"T_a84efde2_3245_11eb_a3d0_02cba411ec9drow84_col1\" class=\"data row84 col1\" >1.6</td>\n",
       "            </tr>\n",
       "            <tr>\n",
       "                        <th id=\"T_a84efde2_3245_11eb_a3d0_02cba411ec9dlevel0_row85\" class=\"row_heading level0 row85\" >85</th>\n",
       "                        <td id=\"T_a84efde2_3245_11eb_a3d0_02cba411ec9drow85_col0\" class=\"data row85 col0\" >2020-02-05 00:00:00</td>\n",
       "                        <td id=\"T_a84efde2_3245_11eb_a3d0_02cba411ec9drow85_col1\" class=\"data row85 col1\" >1.59</td>\n",
       "            </tr>\n",
       "            <tr>\n",
       "                        <th id=\"T_a84efde2_3245_11eb_a3d0_02cba411ec9dlevel0_row86\" class=\"row_heading level0 row86\" >86</th>\n",
       "                        <td id=\"T_a84efde2_3245_11eb_a3d0_02cba411ec9drow86_col0\" class=\"data row86 col0\" >2020-02-06 00:00:00</td>\n",
       "                        <td id=\"T_a84efde2_3245_11eb_a3d0_02cba411ec9drow86_col1\" class=\"data row86 col1\" >1.59</td>\n",
       "            </tr>\n",
       "            <tr>\n",
       "                        <th id=\"T_a84efde2_3245_11eb_a3d0_02cba411ec9dlevel0_row87\" class=\"row_heading level0 row87\" >87</th>\n",
       "                        <td id=\"T_a84efde2_3245_11eb_a3d0_02cba411ec9drow87_col0\" class=\"data row87 col0\" >2020-02-07 00:00:00</td>\n",
       "                        <td id=\"T_a84efde2_3245_11eb_a3d0_02cba411ec9drow87_col1\" class=\"data row87 col1\" >1.58</td>\n",
       "            </tr>\n",
       "            <tr>\n",
       "                        <th id=\"T_a84efde2_3245_11eb_a3d0_02cba411ec9dlevel0_row88\" class=\"row_heading level0 row88\" >88</th>\n",
       "                        <td id=\"T_a84efde2_3245_11eb_a3d0_02cba411ec9drow88_col0\" class=\"data row88 col0\" >2020-02-10 00:00:00</td>\n",
       "                        <td id=\"T_a84efde2_3245_11eb_a3d0_02cba411ec9drow88_col1\" class=\"data row88 col1\" >1.58</td>\n",
       "            </tr>\n",
       "            <tr>\n",
       "                        <th id=\"T_a84efde2_3245_11eb_a3d0_02cba411ec9dlevel0_row89\" class=\"row_heading level0 row89\" >89</th>\n",
       "                        <td id=\"T_a84efde2_3245_11eb_a3d0_02cba411ec9drow89_col0\" class=\"data row89 col0\" >2020-02-11 00:00:00</td>\n",
       "                        <td id=\"T_a84efde2_3245_11eb_a3d0_02cba411ec9drow89_col1\" class=\"data row89 col1\" >1.58</td>\n",
       "            </tr>\n",
       "            <tr>\n",
       "                        <th id=\"T_a84efde2_3245_11eb_a3d0_02cba411ec9dlevel0_row90\" class=\"row_heading level0 row90\" >90</th>\n",
       "                        <td id=\"T_a84efde2_3245_11eb_a3d0_02cba411ec9drow90_col0\" class=\"data row90 col0\" >2020-02-12 00:00:00</td>\n",
       "                        <td id=\"T_a84efde2_3245_11eb_a3d0_02cba411ec9drow90_col1\" class=\"data row90 col1\" >1.57</td>\n",
       "            </tr>\n",
       "            <tr>\n",
       "                        <th id=\"T_a84efde2_3245_11eb_a3d0_02cba411ec9dlevel0_row91\" class=\"row_heading level0 row91\" >91</th>\n",
       "                        <td id=\"T_a84efde2_3245_11eb_a3d0_02cba411ec9drow91_col0\" class=\"data row91 col0\" >2020-02-13 00:00:00</td>\n",
       "                        <td id=\"T_a84efde2_3245_11eb_a3d0_02cba411ec9drow91_col1\" class=\"data row91 col1\" >1.57</td>\n",
       "            </tr>\n",
       "            <tr>\n",
       "                        <th id=\"T_a84efde2_3245_11eb_a3d0_02cba411ec9dlevel0_row92\" class=\"row_heading level0 row92\" >92</th>\n",
       "                        <td id=\"T_a84efde2_3245_11eb_a3d0_02cba411ec9drow92_col0\" class=\"data row92 col0\" >2020-02-14 00:00:00</td>\n",
       "                        <td id=\"T_a84efde2_3245_11eb_a3d0_02cba411ec9drow92_col1\" class=\"data row92 col1\" >1.58</td>\n",
       "            </tr>\n",
       "            <tr>\n",
       "                        <th id=\"T_a84efde2_3245_11eb_a3d0_02cba411ec9dlevel0_row93\" class=\"row_heading level0 row93\" >93</th>\n",
       "                        <td id=\"T_a84efde2_3245_11eb_a3d0_02cba411ec9drow93_col0\" class=\"data row93 col0\" >2020-02-18 00:00:00</td>\n",
       "                        <td id=\"T_a84efde2_3245_11eb_a3d0_02cba411ec9drow93_col1\" class=\"data row93 col1\" >1.6</td>\n",
       "            </tr>\n",
       "            <tr>\n",
       "                        <th id=\"T_a84efde2_3245_11eb_a3d0_02cba411ec9dlevel0_row94\" class=\"row_heading level0 row94\" >94</th>\n",
       "                        <td id=\"T_a84efde2_3245_11eb_a3d0_02cba411ec9drow94_col0\" class=\"data row94 col0\" >2020-02-19 00:00:00</td>\n",
       "                        <td id=\"T_a84efde2_3245_11eb_a3d0_02cba411ec9drow94_col1\" class=\"data row94 col1\" >1.59</td>\n",
       "            </tr>\n",
       "            <tr>\n",
       "                        <th id=\"T_a84efde2_3245_11eb_a3d0_02cba411ec9dlevel0_row95\" class=\"row_heading level0 row95\" >95</th>\n",
       "                        <td id=\"T_a84efde2_3245_11eb_a3d0_02cba411ec9drow95_col0\" class=\"data row95 col0\" >2020-02-20 00:00:00</td>\n",
       "                        <td id=\"T_a84efde2_3245_11eb_a3d0_02cba411ec9drow95_col1\" class=\"data row95 col1\" >1.6</td>\n",
       "            </tr>\n",
       "            <tr>\n",
       "                        <th id=\"T_a84efde2_3245_11eb_a3d0_02cba411ec9dlevel0_row96\" class=\"row_heading level0 row96\" >96</th>\n",
       "                        <td id=\"T_a84efde2_3245_11eb_a3d0_02cba411ec9drow96_col0\" class=\"data row96 col0\" >2020-02-21 00:00:00</td>\n",
       "                        <td id=\"T_a84efde2_3245_11eb_a3d0_02cba411ec9drow96_col1\" class=\"data row96 col1\" >1.58</td>\n",
       "            </tr>\n",
       "            <tr>\n",
       "                        <th id=\"T_a84efde2_3245_11eb_a3d0_02cba411ec9dlevel0_row97\" class=\"row_heading level0 row97\" >97</th>\n",
       "                        <td id=\"T_a84efde2_3245_11eb_a3d0_02cba411ec9drow97_col0\" class=\"data row97 col0\" >2020-02-24 00:00:00</td>\n",
       "                        <td id=\"T_a84efde2_3245_11eb_a3d0_02cba411ec9drow97_col1\" class=\"data row97 col1\" >1.58</td>\n",
       "            </tr>\n",
       "            <tr>\n",
       "                        <th id=\"T_a84efde2_3245_11eb_a3d0_02cba411ec9dlevel0_row98\" class=\"row_heading level0 row98\" >98</th>\n",
       "                        <td id=\"T_a84efde2_3245_11eb_a3d0_02cba411ec9drow98_col0\" class=\"data row98 col0\" >2020-02-25 00:00:00</td>\n",
       "                        <td id=\"T_a84efde2_3245_11eb_a3d0_02cba411ec9drow98_col1\" class=\"data row98 col1\" >1.59</td>\n",
       "            </tr>\n",
       "            <tr>\n",
       "                        <th id=\"T_a84efde2_3245_11eb_a3d0_02cba411ec9dlevel0_row99\" class=\"row_heading level0 row99\" >99</th>\n",
       "                        <td id=\"T_a84efde2_3245_11eb_a3d0_02cba411ec9drow99_col0\" class=\"data row99 col0\" >2020-02-26 00:00:00</td>\n",
       "                        <td id=\"T_a84efde2_3245_11eb_a3d0_02cba411ec9drow99_col1\" class=\"data row99 col1\" >1.58</td>\n",
       "            </tr>\n",
       "            <tr>\n",
       "                        <th id=\"T_a84efde2_3245_11eb_a3d0_02cba411ec9dlevel0_row100\" class=\"row_heading level0 row100\" >100</th>\n",
       "                        <td id=\"T_a84efde2_3245_11eb_a3d0_02cba411ec9drow100_col0\" class=\"data row100 col0\" >2020-02-27 00:00:00</td>\n",
       "                        <td id=\"T_a84efde2_3245_11eb_a3d0_02cba411ec9drow100_col1\" class=\"data row100 col1\" >1.58</td>\n",
       "            </tr>\n",
       "            <tr>\n",
       "                        <th id=\"T_a84efde2_3245_11eb_a3d0_02cba411ec9dlevel0_row101\" class=\"row_heading level0 row101\" >101</th>\n",
       "                        <td id=\"T_a84efde2_3245_11eb_a3d0_02cba411ec9drow101_col0\" class=\"data row101 col0\" >2020-02-28 00:00:00</td>\n",
       "                        <td id=\"T_a84efde2_3245_11eb_a3d0_02cba411ec9drow101_col1\" class=\"data row101 col1\" >1.6</td>\n",
       "            </tr>\n",
       "            <tr>\n",
       "                        <th id=\"T_a84efde2_3245_11eb_a3d0_02cba411ec9dlevel0_row102\" class=\"row_heading level0 row102\" >102</th>\n",
       "                        <td id=\"T_a84efde2_3245_11eb_a3d0_02cba411ec9drow102_col0\" class=\"data row102 col0\" >2020-03-02 00:00:00</td>\n",
       "                        <td id=\"T_a84efde2_3245_11eb_a3d0_02cba411ec9drow102_col1\" class=\"data row102 col1\" >1.59</td>\n",
       "            </tr>\n",
       "            <tr>\n",
       "                        <th id=\"T_a84efde2_3245_11eb_a3d0_02cba411ec9dlevel0_row103\" class=\"row_heading level0 row103\" >103</th>\n",
       "                        <td id=\"T_a84efde2_3245_11eb_a3d0_02cba411ec9drow103_col0\" class=\"data row103 col0\" >2020-03-03 00:00:00</td>\n",
       "                        <td id=\"T_a84efde2_3245_11eb_a3d0_02cba411ec9drow103_col1\" class=\"data row103 col1\" >1.64</td>\n",
       "            </tr>\n",
       "            <tr>\n",
       "                        <th id=\"T_a84efde2_3245_11eb_a3d0_02cba411ec9dlevel0_row104\" class=\"row_heading level0 row104\" >104</th>\n",
       "                        <td id=\"T_a84efde2_3245_11eb_a3d0_02cba411ec9drow104_col0\" class=\"data row104 col0\" >2020-03-04 00:00:00</td>\n",
       "                        <td id=\"T_a84efde2_3245_11eb_a3d0_02cba411ec9drow104_col1\" class=\"data row104 col1\" >1.23</td>\n",
       "            </tr>\n",
       "            <tr>\n",
       "                        <th id=\"T_a84efde2_3245_11eb_a3d0_02cba411ec9dlevel0_row105\" class=\"row_heading level0 row105\" >105</th>\n",
       "                        <td id=\"T_a84efde2_3245_11eb_a3d0_02cba411ec9drow105_col0\" class=\"data row105 col0\" >2020-03-05 00:00:00</td>\n",
       "                        <td id=\"T_a84efde2_3245_11eb_a3d0_02cba411ec9drow105_col1\" class=\"data row105 col1\" >1.12</td>\n",
       "            </tr>\n",
       "            <tr>\n",
       "                        <th id=\"T_a84efde2_3245_11eb_a3d0_02cba411ec9dlevel0_row106\" class=\"row_heading level0 row106\" >106</th>\n",
       "                        <td id=\"T_a84efde2_3245_11eb_a3d0_02cba411ec9drow106_col0\" class=\"data row106 col0\" >2020-03-06 00:00:00</td>\n",
       "                        <td id=\"T_a84efde2_3245_11eb_a3d0_02cba411ec9drow106_col1\" class=\"data row106 col1\" >1.1</td>\n",
       "            </tr>\n",
       "            <tr>\n",
       "                        <th id=\"T_a84efde2_3245_11eb_a3d0_02cba411ec9dlevel0_row107\" class=\"row_heading level0 row107\" >107</th>\n",
       "                        <td id=\"T_a84efde2_3245_11eb_a3d0_02cba411ec9drow107_col0\" class=\"data row107 col0\" >2020-03-09 00:00:00</td>\n",
       "                        <td id=\"T_a84efde2_3245_11eb_a3d0_02cba411ec9drow107_col1\" class=\"data row107 col1\" >1.09</td>\n",
       "            </tr>\n",
       "            <tr>\n",
       "                        <th id=\"T_a84efde2_3245_11eb_a3d0_02cba411ec9dlevel0_row108\" class=\"row_heading level0 row108\" >108</th>\n",
       "                        <td id=\"T_a84efde2_3245_11eb_a3d0_02cba411ec9drow108_col0\" class=\"data row108 col0\" >2020-03-10 00:00:00</td>\n",
       "                        <td id=\"T_a84efde2_3245_11eb_a3d0_02cba411ec9drow108_col1\" class=\"data row108 col1\" >1.11</td>\n",
       "            </tr>\n",
       "            <tr>\n",
       "                        <th id=\"T_a84efde2_3245_11eb_a3d0_02cba411ec9dlevel0_row109\" class=\"row_heading level0 row109\" >109</th>\n",
       "                        <td id=\"T_a84efde2_3245_11eb_a3d0_02cba411ec9drow109_col0\" class=\"data row109 col0\" >2020-03-11 00:00:00</td>\n",
       "                        <td id=\"T_a84efde2_3245_11eb_a3d0_02cba411ec9drow109_col1\" class=\"data row109 col1\" >1.15</td>\n",
       "            </tr>\n",
       "            <tr>\n",
       "                        <th id=\"T_a84efde2_3245_11eb_a3d0_02cba411ec9dlevel0_row110\" class=\"row_heading level0 row110\" >110</th>\n",
       "                        <td id=\"T_a84efde2_3245_11eb_a3d0_02cba411ec9drow110_col0\" class=\"data row110 col0\" >2020-03-12 00:00:00</td>\n",
       "                        <td id=\"T_a84efde2_3245_11eb_a3d0_02cba411ec9drow110_col1\" class=\"data row110 col1\" >1.2</td>\n",
       "            </tr>\n",
       "            <tr>\n",
       "                        <th id=\"T_a84efde2_3245_11eb_a3d0_02cba411ec9dlevel0_row111\" class=\"row_heading level0 row111\" >111</th>\n",
       "                        <td id=\"T_a84efde2_3245_11eb_a3d0_02cba411ec9drow111_col0\" class=\"data row111 col0\" >2020-03-13 00:00:00</td>\n",
       "                        <td id=\"T_a84efde2_3245_11eb_a3d0_02cba411ec9drow111_col1\" class=\"data row111 col1\" >1.1</td>\n",
       "            </tr>\n",
       "            <tr>\n",
       "                        <th id=\"T_a84efde2_3245_11eb_a3d0_02cba411ec9dlevel0_row112\" class=\"row_heading level0 row112\" >112</th>\n",
       "                        <td id=\"T_a84efde2_3245_11eb_a3d0_02cba411ec9drow112_col0\" class=\"data row112 col0\" >2020-03-16 00:00:00</td>\n",
       "                        <td id=\"T_a84efde2_3245_11eb_a3d0_02cba411ec9drow112_col1\" class=\"data row112 col1\" >0.26</td>\n",
       "            </tr>\n",
       "            <tr>\n",
       "                        <th id=\"T_a84efde2_3245_11eb_a3d0_02cba411ec9dlevel0_row113\" class=\"row_heading level0 row113\" >113</th>\n",
       "                        <td id=\"T_a84efde2_3245_11eb_a3d0_02cba411ec9drow113_col0\" class=\"data row113 col0\" >2020-03-17 00:00:00</td>\n",
       "                        <td id=\"T_a84efde2_3245_11eb_a3d0_02cba411ec9drow113_col1\" class=\"data row113 col1\" >0.54</td>\n",
       "            </tr>\n",
       "            <tr>\n",
       "                        <th id=\"T_a84efde2_3245_11eb_a3d0_02cba411ec9dlevel0_row114\" class=\"row_heading level0 row114\" >114</th>\n",
       "                        <td id=\"T_a84efde2_3245_11eb_a3d0_02cba411ec9drow114_col0\" class=\"data row114 col0\" >2020-03-18 00:00:00</td>\n",
       "                        <td id=\"T_a84efde2_3245_11eb_a3d0_02cba411ec9drow114_col1\" class=\"data row114 col1\" >0.1</td>\n",
       "            </tr>\n",
       "            <tr>\n",
       "                        <th id=\"T_a84efde2_3245_11eb_a3d0_02cba411ec9dlevel0_row115\" class=\"row_heading level0 row115\" >115</th>\n",
       "                        <td id=\"T_a84efde2_3245_11eb_a3d0_02cba411ec9drow115_col0\" class=\"data row115 col0\" >2020-03-19 00:00:00</td>\n",
       "                        <td id=\"T_a84efde2_3245_11eb_a3d0_02cba411ec9drow115_col1\" class=\"data row115 col1\" >0.06</td>\n",
       "            </tr>\n",
       "            <tr>\n",
       "                        <th id=\"T_a84efde2_3245_11eb_a3d0_02cba411ec9dlevel0_row116\" class=\"row_heading level0 row116\" >116</th>\n",
       "                        <td id=\"T_a84efde2_3245_11eb_a3d0_02cba411ec9drow116_col0\" class=\"data row116 col0\" >2020-03-20 00:00:00</td>\n",
       "                        <td id=\"T_a84efde2_3245_11eb_a3d0_02cba411ec9drow116_col1\" class=\"data row116 col1\" >0.04</td>\n",
       "            </tr>\n",
       "            <tr>\n",
       "                        <th id=\"T_a84efde2_3245_11eb_a3d0_02cba411ec9dlevel0_row117\" class=\"row_heading level0 row117\" >117</th>\n",
       "                        <td id=\"T_a84efde2_3245_11eb_a3d0_02cba411ec9drow117_col0\" class=\"data row117 col0\" >2020-03-23 00:00:00</td>\n",
       "                        <td id=\"T_a84efde2_3245_11eb_a3d0_02cba411ec9drow117_col1\" class=\"data row117 col1\" >0.02</td>\n",
       "            </tr>\n",
       "            <tr>\n",
       "                        <th id=\"T_a84efde2_3245_11eb_a3d0_02cba411ec9dlevel0_row118\" class=\"row_heading level0 row118\" >118</th>\n",
       "                        <td id=\"T_a84efde2_3245_11eb_a3d0_02cba411ec9drow118_col0\" class=\"data row118 col0\" >2020-03-24 00:00:00</td>\n",
       "                        <td id=\"T_a84efde2_3245_11eb_a3d0_02cba411ec9drow118_col1\" class=\"data row118 col1\" >0.01</td>\n",
       "            </tr>\n",
       "            <tr>\n",
       "                        <th id=\"T_a84efde2_3245_11eb_a3d0_02cba411ec9dlevel0_row119\" class=\"row_heading level0 row119\" >119</th>\n",
       "                        <td id=\"T_a84efde2_3245_11eb_a3d0_02cba411ec9drow119_col0\" class=\"data row119 col0\" >2020-03-25 00:00:00</td>\n",
       "                        <td id=\"T_a84efde2_3245_11eb_a3d0_02cba411ec9drow119_col1\" class=\"data row119 col1\" >0.01</td>\n",
       "            </tr>\n",
       "            <tr>\n",
       "                        <th id=\"T_a84efde2_3245_11eb_a3d0_02cba411ec9dlevel0_row120\" class=\"row_heading level0 row120\" >120</th>\n",
       "                        <td id=\"T_a84efde2_3245_11eb_a3d0_02cba411ec9drow120_col0\" class=\"data row120 col0\" >2020-03-26 00:00:00</td>\n",
       "                        <td id=\"T_a84efde2_3245_11eb_a3d0_02cba411ec9drow120_col1\" class=\"data row120 col1\" >0.01</td>\n",
       "            </tr>\n",
       "            <tr>\n",
       "                        <th id=\"T_a84efde2_3245_11eb_a3d0_02cba411ec9dlevel0_row121\" class=\"row_heading level0 row121\" >121</th>\n",
       "                        <td id=\"T_a84efde2_3245_11eb_a3d0_02cba411ec9drow121_col0\" class=\"data row121 col0\" >2020-03-27 00:00:00</td>\n",
       "                        <td id=\"T_a84efde2_3245_11eb_a3d0_02cba411ec9drow121_col1\" class=\"data row121 col1\" >0.01</td>\n",
       "            </tr>\n",
       "            <tr>\n",
       "                        <th id=\"T_a84efde2_3245_11eb_a3d0_02cba411ec9dlevel0_row122\" class=\"row_heading level0 row122\" >122</th>\n",
       "                        <td id=\"T_a84efde2_3245_11eb_a3d0_02cba411ec9drow122_col0\" class=\"data row122 col0\" >2020-03-30 00:00:00</td>\n",
       "                        <td id=\"T_a84efde2_3245_11eb_a3d0_02cba411ec9drow122_col1\" class=\"data row122 col1\" >0.01</td>\n",
       "            </tr>\n",
       "            <tr>\n",
       "                        <th id=\"T_a84efde2_3245_11eb_a3d0_02cba411ec9dlevel0_row123\" class=\"row_heading level0 row123\" >123</th>\n",
       "                        <td id=\"T_a84efde2_3245_11eb_a3d0_02cba411ec9drow123_col0\" class=\"data row123 col0\" >2020-03-31 00:00:00</td>\n",
       "                        <td id=\"T_a84efde2_3245_11eb_a3d0_02cba411ec9drow123_col1\" class=\"data row123 col1\" >0.01</td>\n",
       "            </tr>\n",
       "            <tr>\n",
       "                        <th id=\"T_a84efde2_3245_11eb_a3d0_02cba411ec9dlevel0_row124\" class=\"row_heading level0 row124\" >124</th>\n",
       "                        <td id=\"T_a84efde2_3245_11eb_a3d0_02cba411ec9drow124_col0\" class=\"data row124 col0\" >2020-04-01 00:00:00</td>\n",
       "                        <td id=\"T_a84efde2_3245_11eb_a3d0_02cba411ec9drow124_col1\" class=\"data row124 col1\" >0.01</td>\n",
       "            </tr>\n",
       "            <tr>\n",
       "                        <th id=\"T_a84efde2_3245_11eb_a3d0_02cba411ec9dlevel0_row125\" class=\"row_heading level0 row125\" >125</th>\n",
       "                        <td id=\"T_a84efde2_3245_11eb_a3d0_02cba411ec9drow125_col0\" class=\"data row125 col0\" >2020-04-02 00:00:00</td>\n",
       "                        <td id=\"T_a84efde2_3245_11eb_a3d0_02cba411ec9drow125_col1\" class=\"data row125 col1\" >0.01</td>\n",
       "            </tr>\n",
       "            <tr>\n",
       "                        <th id=\"T_a84efde2_3245_11eb_a3d0_02cba411ec9dlevel0_row126\" class=\"row_heading level0 row126\" >126</th>\n",
       "                        <td id=\"T_a84efde2_3245_11eb_a3d0_02cba411ec9drow126_col0\" class=\"data row126 col0\" >2020-04-03 00:00:00</td>\n",
       "                        <td id=\"T_a84efde2_3245_11eb_a3d0_02cba411ec9drow126_col1\" class=\"data row126 col1\" >0.01</td>\n",
       "            </tr>\n",
       "            <tr>\n",
       "                        <th id=\"T_a84efde2_3245_11eb_a3d0_02cba411ec9dlevel0_row127\" class=\"row_heading level0 row127\" >127</th>\n",
       "                        <td id=\"T_a84efde2_3245_11eb_a3d0_02cba411ec9drow127_col0\" class=\"data row127 col0\" >2020-04-06 00:00:00</td>\n",
       "                        <td id=\"T_a84efde2_3245_11eb_a3d0_02cba411ec9drow127_col1\" class=\"data row127 col1\" >0.01</td>\n",
       "            </tr>\n",
       "            <tr>\n",
       "                        <th id=\"T_a84efde2_3245_11eb_a3d0_02cba411ec9dlevel0_row128\" class=\"row_heading level0 row128\" >128</th>\n",
       "                        <td id=\"T_a84efde2_3245_11eb_a3d0_02cba411ec9drow128_col0\" class=\"data row128 col0\" >2020-04-07 00:00:00</td>\n",
       "                        <td id=\"T_a84efde2_3245_11eb_a3d0_02cba411ec9drow128_col1\" class=\"data row128 col1\" >0.01</td>\n",
       "            </tr>\n",
       "            <tr>\n",
       "                        <th id=\"T_a84efde2_3245_11eb_a3d0_02cba411ec9dlevel0_row129\" class=\"row_heading level0 row129\" >129</th>\n",
       "                        <td id=\"T_a84efde2_3245_11eb_a3d0_02cba411ec9drow129_col0\" class=\"data row129 col0\" >2020-04-08 00:00:00</td>\n",
       "                        <td id=\"T_a84efde2_3245_11eb_a3d0_02cba411ec9drow129_col1\" class=\"data row129 col1\" >0.01</td>\n",
       "            </tr>\n",
       "            <tr>\n",
       "                        <th id=\"T_a84efde2_3245_11eb_a3d0_02cba411ec9dlevel0_row130\" class=\"row_heading level0 row130\" >130</th>\n",
       "                        <td id=\"T_a84efde2_3245_11eb_a3d0_02cba411ec9drow130_col0\" class=\"data row130 col0\" >2020-04-09 00:00:00</td>\n",
       "                        <td id=\"T_a84efde2_3245_11eb_a3d0_02cba411ec9drow130_col1\" class=\"data row130 col1\" >0.01</td>\n",
       "            </tr>\n",
       "            <tr>\n",
       "                        <th id=\"T_a84efde2_3245_11eb_a3d0_02cba411ec9dlevel0_row131\" class=\"row_heading level0 row131\" >131</th>\n",
       "                        <td id=\"T_a84efde2_3245_11eb_a3d0_02cba411ec9drow131_col0\" class=\"data row131 col0\" >2020-04-13 00:00:00</td>\n",
       "                        <td id=\"T_a84efde2_3245_11eb_a3d0_02cba411ec9drow131_col1\" class=\"data row131 col1\" >0.02</td>\n",
       "            </tr>\n",
       "            <tr>\n",
       "                        <th id=\"T_a84efde2_3245_11eb_a3d0_02cba411ec9dlevel0_row132\" class=\"row_heading level0 row132\" >132</th>\n",
       "                        <td id=\"T_a84efde2_3245_11eb_a3d0_02cba411ec9drow132_col0\" class=\"data row132 col0\" >2020-04-14 00:00:00</td>\n",
       "                        <td id=\"T_a84efde2_3245_11eb_a3d0_02cba411ec9drow132_col1\" class=\"data row132 col1\" >0.06</td>\n",
       "            </tr>\n",
       "            <tr>\n",
       "                        <th id=\"T_a84efde2_3245_11eb_a3d0_02cba411ec9dlevel0_row133\" class=\"row_heading level0 row133\" >133</th>\n",
       "                        <td id=\"T_a84efde2_3245_11eb_a3d0_02cba411ec9drow133_col0\" class=\"data row133 col0\" >2020-04-15 00:00:00</td>\n",
       "                        <td id=\"T_a84efde2_3245_11eb_a3d0_02cba411ec9drow133_col1\" class=\"data row133 col1\" >0.03</td>\n",
       "            </tr>\n",
       "            <tr>\n",
       "                        <th id=\"T_a84efde2_3245_11eb_a3d0_02cba411ec9dlevel0_row134\" class=\"row_heading level0 row134\" >134</th>\n",
       "                        <td id=\"T_a84efde2_3245_11eb_a3d0_02cba411ec9drow134_col0\" class=\"data row134 col0\" >2020-04-16 00:00:00</td>\n",
       "                        <td id=\"T_a84efde2_3245_11eb_a3d0_02cba411ec9drow134_col1\" class=\"data row134 col1\" >0.03</td>\n",
       "            </tr>\n",
       "            <tr>\n",
       "                        <th id=\"T_a84efde2_3245_11eb_a3d0_02cba411ec9dlevel0_row135\" class=\"row_heading level0 row135\" >135</th>\n",
       "                        <td id=\"T_a84efde2_3245_11eb_a3d0_02cba411ec9drow135_col0\" class=\"data row135 col0\" >2020-04-17 00:00:00</td>\n",
       "                        <td id=\"T_a84efde2_3245_11eb_a3d0_02cba411ec9drow135_col1\" class=\"data row135 col1\" >0.03</td>\n",
       "            </tr>\n",
       "            <tr>\n",
       "                        <th id=\"T_a84efde2_3245_11eb_a3d0_02cba411ec9dlevel0_row136\" class=\"row_heading level0 row136\" >136</th>\n",
       "                        <td id=\"T_a84efde2_3245_11eb_a3d0_02cba411ec9drow136_col0\" class=\"data row136 col0\" >2020-04-20 00:00:00</td>\n",
       "                        <td id=\"T_a84efde2_3245_11eb_a3d0_02cba411ec9drow136_col1\" class=\"data row136 col1\" >0.02</td>\n",
       "            </tr>\n",
       "            <tr>\n",
       "                        <th id=\"T_a84efde2_3245_11eb_a3d0_02cba411ec9dlevel0_row137\" class=\"row_heading level0 row137\" >137</th>\n",
       "                        <td id=\"T_a84efde2_3245_11eb_a3d0_02cba411ec9drow137_col0\" class=\"data row137 col0\" >2020-04-21 00:00:00</td>\n",
       "                        <td id=\"T_a84efde2_3245_11eb_a3d0_02cba411ec9drow137_col1\" class=\"data row137 col1\" >0.01</td>\n",
       "            </tr>\n",
       "            <tr>\n",
       "                        <th id=\"T_a84efde2_3245_11eb_a3d0_02cba411ec9dlevel0_row138\" class=\"row_heading level0 row138\" >138</th>\n",
       "                        <td id=\"T_a84efde2_3245_11eb_a3d0_02cba411ec9drow138_col0\" class=\"data row138 col0\" >2020-04-22 00:00:00</td>\n",
       "                        <td id=\"T_a84efde2_3245_11eb_a3d0_02cba411ec9drow138_col1\" class=\"data row138 col1\" >0.01</td>\n",
       "            </tr>\n",
       "            <tr>\n",
       "                        <th id=\"T_a84efde2_3245_11eb_a3d0_02cba411ec9dlevel0_row139\" class=\"row_heading level0 row139\" >139</th>\n",
       "                        <td id=\"T_a84efde2_3245_11eb_a3d0_02cba411ec9drow139_col0\" class=\"data row139 col0\" >2020-04-23 00:00:00</td>\n",
       "                        <td id=\"T_a84efde2_3245_11eb_a3d0_02cba411ec9drow139_col1\" class=\"data row139 col1\" >0.01</td>\n",
       "            </tr>\n",
       "            <tr>\n",
       "                        <th id=\"T_a84efde2_3245_11eb_a3d0_02cba411ec9dlevel0_row140\" class=\"row_heading level0 row140\" >140</th>\n",
       "                        <td id=\"T_a84efde2_3245_11eb_a3d0_02cba411ec9drow140_col0\" class=\"data row140 col0\" >2020-04-24 00:00:00</td>\n",
       "                        <td id=\"T_a84efde2_3245_11eb_a3d0_02cba411ec9drow140_col1\" class=\"data row140 col1\" >0.03</td>\n",
       "            </tr>\n",
       "            <tr>\n",
       "                        <th id=\"T_a84efde2_3245_11eb_a3d0_02cba411ec9dlevel0_row141\" class=\"row_heading level0 row141\" >141</th>\n",
       "                        <td id=\"T_a84efde2_3245_11eb_a3d0_02cba411ec9drow141_col0\" class=\"data row141 col0\" >2020-04-27 00:00:00</td>\n",
       "                        <td id=\"T_a84efde2_3245_11eb_a3d0_02cba411ec9drow141_col1\" class=\"data row141 col1\" >0.03</td>\n",
       "            </tr>\n",
       "            <tr>\n",
       "                        <th id=\"T_a84efde2_3245_11eb_a3d0_02cba411ec9dlevel0_row142\" class=\"row_heading level0 row142\" >142</th>\n",
       "                        <td id=\"T_a84efde2_3245_11eb_a3d0_02cba411ec9drow142_col0\" class=\"data row142 col0\" >2020-04-28 00:00:00</td>\n",
       "                        <td id=\"T_a84efde2_3245_11eb_a3d0_02cba411ec9drow142_col1\" class=\"data row142 col1\" >0.01</td>\n",
       "            </tr>\n",
       "            <tr>\n",
       "                        <th id=\"T_a84efde2_3245_11eb_a3d0_02cba411ec9dlevel0_row143\" class=\"row_heading level0 row143\" >143</th>\n",
       "                        <td id=\"T_a84efde2_3245_11eb_a3d0_02cba411ec9drow143_col0\" class=\"data row143 col0\" >2020-04-29 00:00:00</td>\n",
       "                        <td id=\"T_a84efde2_3245_11eb_a3d0_02cba411ec9drow143_col1\" class=\"data row143 col1\" >0.01</td>\n",
       "            </tr>\n",
       "            <tr>\n",
       "                        <th id=\"T_a84efde2_3245_11eb_a3d0_02cba411ec9dlevel0_row144\" class=\"row_heading level0 row144\" >144</th>\n",
       "                        <td id=\"T_a84efde2_3245_11eb_a3d0_02cba411ec9drow144_col0\" class=\"data row144 col0\" >2020-04-30 00:00:00</td>\n",
       "                        <td id=\"T_a84efde2_3245_11eb_a3d0_02cba411ec9drow144_col1\" class=\"data row144 col1\" >0.04</td>\n",
       "            </tr>\n",
       "            <tr>\n",
       "                        <th id=\"T_a84efde2_3245_11eb_a3d0_02cba411ec9dlevel0_row145\" class=\"row_heading level0 row145\" >145</th>\n",
       "                        <td id=\"T_a84efde2_3245_11eb_a3d0_02cba411ec9drow145_col0\" class=\"data row145 col0\" >2020-05-01 00:00:00</td>\n",
       "                        <td id=\"T_a84efde2_3245_11eb_a3d0_02cba411ec9drow145_col1\" class=\"data row145 col1\" >0.03</td>\n",
       "            </tr>\n",
       "            <tr>\n",
       "                        <th id=\"T_a84efde2_3245_11eb_a3d0_02cba411ec9dlevel0_row146\" class=\"row_heading level0 row146\" >146</th>\n",
       "                        <td id=\"T_a84efde2_3245_11eb_a3d0_02cba411ec9drow146_col0\" class=\"data row146 col0\" >2020-05-04 00:00:00</td>\n",
       "                        <td id=\"T_a84efde2_3245_11eb_a3d0_02cba411ec9drow146_col1\" class=\"data row146 col1\" >0.05</td>\n",
       "            </tr>\n",
       "            <tr>\n",
       "                        <th id=\"T_a84efde2_3245_11eb_a3d0_02cba411ec9dlevel0_row147\" class=\"row_heading level0 row147\" >147</th>\n",
       "                        <td id=\"T_a84efde2_3245_11eb_a3d0_02cba411ec9drow147_col0\" class=\"data row147 col0\" >2020-05-05 00:00:00</td>\n",
       "                        <td id=\"T_a84efde2_3245_11eb_a3d0_02cba411ec9drow147_col1\" class=\"data row147 col1\" >0.05</td>\n",
       "            </tr>\n",
       "            <tr>\n",
       "                        <th id=\"T_a84efde2_3245_11eb_a3d0_02cba411ec9dlevel0_row148\" class=\"row_heading level0 row148\" >148</th>\n",
       "                        <td id=\"T_a84efde2_3245_11eb_a3d0_02cba411ec9drow148_col0\" class=\"data row148 col0\" >2020-05-06 00:00:00</td>\n",
       "                        <td id=\"T_a84efde2_3245_11eb_a3d0_02cba411ec9drow148_col1\" class=\"data row148 col1\" >0.05</td>\n",
       "            </tr>\n",
       "            <tr>\n",
       "                        <th id=\"T_a84efde2_3245_11eb_a3d0_02cba411ec9dlevel0_row149\" class=\"row_heading level0 row149\" >149</th>\n",
       "                        <td id=\"T_a84efde2_3245_11eb_a3d0_02cba411ec9drow149_col0\" class=\"data row149 col0\" >2020-05-07 00:00:00</td>\n",
       "                        <td id=\"T_a84efde2_3245_11eb_a3d0_02cba411ec9drow149_col1\" class=\"data row149 col1\" >0.05</td>\n",
       "            </tr>\n",
       "            <tr>\n",
       "                        <th id=\"T_a84efde2_3245_11eb_a3d0_02cba411ec9dlevel0_row150\" class=\"row_heading level0 row150\" >150</th>\n",
       "                        <td id=\"T_a84efde2_3245_11eb_a3d0_02cba411ec9drow150_col0\" class=\"data row150 col0\" >2020-05-08 00:00:00</td>\n",
       "                        <td id=\"T_a84efde2_3245_11eb_a3d0_02cba411ec9drow150_col1\" class=\"data row150 col1\" >0.06</td>\n",
       "            </tr>\n",
       "            <tr>\n",
       "                        <th id=\"T_a84efde2_3245_11eb_a3d0_02cba411ec9dlevel0_row151\" class=\"row_heading level0 row151\" >151</th>\n",
       "                        <td id=\"T_a84efde2_3245_11eb_a3d0_02cba411ec9drow151_col0\" class=\"data row151 col0\" >2020-05-11 00:00:00</td>\n",
       "                        <td id=\"T_a84efde2_3245_11eb_a3d0_02cba411ec9drow151_col1\" class=\"data row151 col1\" >0.06</td>\n",
       "            </tr>\n",
       "            <tr>\n",
       "                        <th id=\"T_a84efde2_3245_11eb_a3d0_02cba411ec9dlevel0_row152\" class=\"row_heading level0 row152\" >152</th>\n",
       "                        <td id=\"T_a84efde2_3245_11eb_a3d0_02cba411ec9drow152_col0\" class=\"data row152 col0\" >2020-05-12 00:00:00</td>\n",
       "                        <td id=\"T_a84efde2_3245_11eb_a3d0_02cba411ec9drow152_col1\" class=\"data row152 col1\" >0.06</td>\n",
       "            </tr>\n",
       "            <tr>\n",
       "                        <th id=\"T_a84efde2_3245_11eb_a3d0_02cba411ec9dlevel0_row153\" class=\"row_heading level0 row153\" >153</th>\n",
       "                        <td id=\"T_a84efde2_3245_11eb_a3d0_02cba411ec9drow153_col0\" class=\"data row153 col0\" >2020-05-13 00:00:00</td>\n",
       "                        <td id=\"T_a84efde2_3245_11eb_a3d0_02cba411ec9drow153_col1\" class=\"data row153 col1\" >0.04</td>\n",
       "            </tr>\n",
       "            <tr>\n",
       "                        <th id=\"T_a84efde2_3245_11eb_a3d0_02cba411ec9dlevel0_row154\" class=\"row_heading level0 row154\" >154</th>\n",
       "                        <td id=\"T_a84efde2_3245_11eb_a3d0_02cba411ec9drow154_col0\" class=\"data row154 col0\" >2020-05-14 00:00:00</td>\n",
       "                        <td id=\"T_a84efde2_3245_11eb_a3d0_02cba411ec9drow154_col1\" class=\"data row154 col1\" >0.02</td>\n",
       "            </tr>\n",
       "            <tr>\n",
       "                        <th id=\"T_a84efde2_3245_11eb_a3d0_02cba411ec9dlevel0_row155\" class=\"row_heading level0 row155\" >155</th>\n",
       "                        <td id=\"T_a84efde2_3245_11eb_a3d0_02cba411ec9drow155_col0\" class=\"data row155 col0\" >2020-05-15 00:00:00</td>\n",
       "                        <td id=\"T_a84efde2_3245_11eb_a3d0_02cba411ec9drow155_col1\" class=\"data row155 col1\" >0.05</td>\n",
       "            </tr>\n",
       "            <tr>\n",
       "                        <th id=\"T_a84efde2_3245_11eb_a3d0_02cba411ec9dlevel0_row156\" class=\"row_heading level0 row156\" >156</th>\n",
       "                        <td id=\"T_a84efde2_3245_11eb_a3d0_02cba411ec9drow156_col0\" class=\"data row156 col0\" >2020-05-18 00:00:00</td>\n",
       "                        <td id=\"T_a84efde2_3245_11eb_a3d0_02cba411ec9drow156_col1\" class=\"data row156 col1\" >0.04</td>\n",
       "            </tr>\n",
       "            <tr>\n",
       "                        <th id=\"T_a84efde2_3245_11eb_a3d0_02cba411ec9dlevel0_row157\" class=\"row_heading level0 row157\" >157</th>\n",
       "                        <td id=\"T_a84efde2_3245_11eb_a3d0_02cba411ec9drow157_col0\" class=\"data row157 col0\" >2020-05-19 00:00:00</td>\n",
       "                        <td id=\"T_a84efde2_3245_11eb_a3d0_02cba411ec9drow157_col1\" class=\"data row157 col1\" >0.04</td>\n",
       "            </tr>\n",
       "            <tr>\n",
       "                        <th id=\"T_a84efde2_3245_11eb_a3d0_02cba411ec9dlevel0_row158\" class=\"row_heading level0 row158\" >158</th>\n",
       "                        <td id=\"T_a84efde2_3245_11eb_a3d0_02cba411ec9drow158_col0\" class=\"data row158 col0\" >2020-05-20 00:00:00</td>\n",
       "                        <td id=\"T_a84efde2_3245_11eb_a3d0_02cba411ec9drow158_col1\" class=\"data row158 col1\" >0.01</td>\n",
       "            </tr>\n",
       "            <tr>\n",
       "                        <th id=\"T_a84efde2_3245_11eb_a3d0_02cba411ec9dlevel0_row159\" class=\"row_heading level0 row159\" >159</th>\n",
       "                        <td id=\"T_a84efde2_3245_11eb_a3d0_02cba411ec9drow159_col0\" class=\"data row159 col0\" >2020-05-21 00:00:00</td>\n",
       "                        <td id=\"T_a84efde2_3245_11eb_a3d0_02cba411ec9drow159_col1\" class=\"data row159 col1\" >0.02</td>\n",
       "            </tr>\n",
       "            <tr>\n",
       "                        <th id=\"T_a84efde2_3245_11eb_a3d0_02cba411ec9dlevel0_row160\" class=\"row_heading level0 row160\" >160</th>\n",
       "                        <td id=\"T_a84efde2_3245_11eb_a3d0_02cba411ec9drow160_col0\" class=\"data row160 col0\" >2020-05-22 00:00:00</td>\n",
       "                        <td id=\"T_a84efde2_3245_11eb_a3d0_02cba411ec9drow160_col1\" class=\"data row160 col1\" >0.04</td>\n",
       "            </tr>\n",
       "            <tr>\n",
       "                        <th id=\"T_a84efde2_3245_11eb_a3d0_02cba411ec9dlevel0_row161\" class=\"row_heading level0 row161\" >161</th>\n",
       "                        <td id=\"T_a84efde2_3245_11eb_a3d0_02cba411ec9drow161_col0\" class=\"data row161 col0\" >2020-05-26 00:00:00</td>\n",
       "                        <td id=\"T_a84efde2_3245_11eb_a3d0_02cba411ec9drow161_col1\" class=\"data row161 col1\" >0.06</td>\n",
       "            </tr>\n",
       "            <tr>\n",
       "                        <th id=\"T_a84efde2_3245_11eb_a3d0_02cba411ec9dlevel0_row162\" class=\"row_heading level0 row162\" >162</th>\n",
       "                        <td id=\"T_a84efde2_3245_11eb_a3d0_02cba411ec9drow162_col0\" class=\"data row162 col0\" >2020-05-27 00:00:00</td>\n",
       "                        <td id=\"T_a84efde2_3245_11eb_a3d0_02cba411ec9drow162_col1\" class=\"data row162 col1\" >0.06</td>\n",
       "            </tr>\n",
       "            <tr>\n",
       "                        <th id=\"T_a84efde2_3245_11eb_a3d0_02cba411ec9dlevel0_row163\" class=\"row_heading level0 row163\" >163</th>\n",
       "                        <td id=\"T_a84efde2_3245_11eb_a3d0_02cba411ec9drow163_col0\" class=\"data row163 col0\" >2020-05-28 00:00:00</td>\n",
       "                        <td id=\"T_a84efde2_3245_11eb_a3d0_02cba411ec9drow163_col1\" class=\"data row163 col1\" >0.06</td>\n",
       "            </tr>\n",
       "            <tr>\n",
       "                        <th id=\"T_a84efde2_3245_11eb_a3d0_02cba411ec9dlevel0_row164\" class=\"row_heading level0 row164\" >164</th>\n",
       "                        <td id=\"T_a84efde2_3245_11eb_a3d0_02cba411ec9drow164_col0\" class=\"data row164 col0\" >2020-05-29 00:00:00</td>\n",
       "                        <td id=\"T_a84efde2_3245_11eb_a3d0_02cba411ec9drow164_col1\" class=\"data row164 col1\" >0.06</td>\n",
       "            </tr>\n",
       "            <tr>\n",
       "                        <th id=\"T_a84efde2_3245_11eb_a3d0_02cba411ec9dlevel0_row165\" class=\"row_heading level0 row165\" >165</th>\n",
       "                        <td id=\"T_a84efde2_3245_11eb_a3d0_02cba411ec9drow165_col0\" class=\"data row165 col0\" >2020-06-01 00:00:00</td>\n",
       "                        <td id=\"T_a84efde2_3245_11eb_a3d0_02cba411ec9drow165_col1\" class=\"data row165 col1\" >0.06</td>\n",
       "            </tr>\n",
       "            <tr>\n",
       "                        <th id=\"T_a84efde2_3245_11eb_a3d0_02cba411ec9dlevel0_row166\" class=\"row_heading level0 row166\" >166</th>\n",
       "                        <td id=\"T_a84efde2_3245_11eb_a3d0_02cba411ec9drow166_col0\" class=\"data row166 col0\" >2020-06-02 00:00:00</td>\n",
       "                        <td id=\"T_a84efde2_3245_11eb_a3d0_02cba411ec9drow166_col1\" class=\"data row166 col1\" >0.07</td>\n",
       "            </tr>\n",
       "            <tr>\n",
       "                        <th id=\"T_a84efde2_3245_11eb_a3d0_02cba411ec9dlevel0_row167\" class=\"row_heading level0 row167\" >167</th>\n",
       "                        <td id=\"T_a84efde2_3245_11eb_a3d0_02cba411ec9drow167_col0\" class=\"data row167 col0\" >2020-06-03 00:00:00</td>\n",
       "                        <td id=\"T_a84efde2_3245_11eb_a3d0_02cba411ec9drow167_col1\" class=\"data row167 col1\" >0.06</td>\n",
       "            </tr>\n",
       "            <tr>\n",
       "                        <th id=\"T_a84efde2_3245_11eb_a3d0_02cba411ec9dlevel0_row168\" class=\"row_heading level0 row168\" >168</th>\n",
       "                        <td id=\"T_a84efde2_3245_11eb_a3d0_02cba411ec9drow168_col0\" class=\"data row168 col0\" >2020-06-04 00:00:00</td>\n",
       "                        <td id=\"T_a84efde2_3245_11eb_a3d0_02cba411ec9drow168_col1\" class=\"data row168 col1\" >0.07</td>\n",
       "            </tr>\n",
       "            <tr>\n",
       "                        <th id=\"T_a84efde2_3245_11eb_a3d0_02cba411ec9dlevel0_row169\" class=\"row_heading level0 row169\" >169</th>\n",
       "                        <td id=\"T_a84efde2_3245_11eb_a3d0_02cba411ec9drow169_col0\" class=\"data row169 col0\" >2020-06-05 00:00:00</td>\n",
       "                        <td id=\"T_a84efde2_3245_11eb_a3d0_02cba411ec9drow169_col1\" class=\"data row169 col1\" >0.07</td>\n",
       "            </tr>\n",
       "            <tr>\n",
       "                        <th id=\"T_a84efde2_3245_11eb_a3d0_02cba411ec9dlevel0_row170\" class=\"row_heading level0 row170\" >170</th>\n",
       "                        <td id=\"T_a84efde2_3245_11eb_a3d0_02cba411ec9drow170_col0\" class=\"data row170 col0\" >2020-06-08 00:00:00</td>\n",
       "                        <td id=\"T_a84efde2_3245_11eb_a3d0_02cba411ec9drow170_col1\" class=\"data row170 col1\" >0.07</td>\n",
       "            </tr>\n",
       "            <tr>\n",
       "                        <th id=\"T_a84efde2_3245_11eb_a3d0_02cba411ec9dlevel0_row171\" class=\"row_heading level0 row171\" >171</th>\n",
       "                        <td id=\"T_a84efde2_3245_11eb_a3d0_02cba411ec9drow171_col0\" class=\"data row171 col0\" >2020-06-09 00:00:00</td>\n",
       "                        <td id=\"T_a84efde2_3245_11eb_a3d0_02cba411ec9drow171_col1\" class=\"data row171 col1\" >0.08</td>\n",
       "            </tr>\n",
       "            <tr>\n",
       "                        <th id=\"T_a84efde2_3245_11eb_a3d0_02cba411ec9dlevel0_row172\" class=\"row_heading level0 row172\" >172</th>\n",
       "                        <td id=\"T_a84efde2_3245_11eb_a3d0_02cba411ec9drow172_col0\" class=\"data row172 col0\" >2020-06-10 00:00:00</td>\n",
       "                        <td id=\"T_a84efde2_3245_11eb_a3d0_02cba411ec9drow172_col1\" class=\"data row172 col1\" >0.07</td>\n",
       "            </tr>\n",
       "            <tr>\n",
       "                        <th id=\"T_a84efde2_3245_11eb_a3d0_02cba411ec9dlevel0_row173\" class=\"row_heading level0 row173\" >173</th>\n",
       "                        <td id=\"T_a84efde2_3245_11eb_a3d0_02cba411ec9drow173_col0\" class=\"data row173 col0\" >2020-06-11 00:00:00</td>\n",
       "                        <td id=\"T_a84efde2_3245_11eb_a3d0_02cba411ec9drow173_col1\" class=\"data row173 col1\" >0.08</td>\n",
       "            </tr>\n",
       "            <tr>\n",
       "                        <th id=\"T_a84efde2_3245_11eb_a3d0_02cba411ec9dlevel0_row174\" class=\"row_heading level0 row174\" >174</th>\n",
       "                        <td id=\"T_a84efde2_3245_11eb_a3d0_02cba411ec9drow174_col0\" class=\"data row174 col0\" >2020-06-12 00:00:00</td>\n",
       "                        <td id=\"T_a84efde2_3245_11eb_a3d0_02cba411ec9drow174_col1\" class=\"data row174 col1\" >0.08</td>\n",
       "            </tr>\n",
       "            <tr>\n",
       "                        <th id=\"T_a84efde2_3245_11eb_a3d0_02cba411ec9dlevel0_row175\" class=\"row_heading level0 row175\" >175</th>\n",
       "                        <td id=\"T_a84efde2_3245_11eb_a3d0_02cba411ec9drow175_col0\" class=\"data row175 col0\" >2020-06-15 00:00:00</td>\n",
       "                        <td id=\"T_a84efde2_3245_11eb_a3d0_02cba411ec9drow175_col1\" class=\"data row175 col1\" >0.09</td>\n",
       "            </tr>\n",
       "            <tr>\n",
       "                        <th id=\"T_a84efde2_3245_11eb_a3d0_02cba411ec9dlevel0_row176\" class=\"row_heading level0 row176\" >176</th>\n",
       "                        <td id=\"T_a84efde2_3245_11eb_a3d0_02cba411ec9drow176_col0\" class=\"data row176 col0\" >2020-06-16 00:00:00</td>\n",
       "                        <td id=\"T_a84efde2_3245_11eb_a3d0_02cba411ec9drow176_col1\" class=\"data row176 col1\" >0.09</td>\n",
       "            </tr>\n",
       "            <tr>\n",
       "                        <th id=\"T_a84efde2_3245_11eb_a3d0_02cba411ec9dlevel0_row177\" class=\"row_heading level0 row177\" >177</th>\n",
       "                        <td id=\"T_a84efde2_3245_11eb_a3d0_02cba411ec9drow177_col0\" class=\"data row177 col0\" >2020-06-17 00:00:00</td>\n",
       "                        <td id=\"T_a84efde2_3245_11eb_a3d0_02cba411ec9drow177_col1\" class=\"data row177 col1\" >0.09</td>\n",
       "            </tr>\n",
       "            <tr>\n",
       "                        <th id=\"T_a84efde2_3245_11eb_a3d0_02cba411ec9dlevel0_row178\" class=\"row_heading level0 row178\" >178</th>\n",
       "                        <td id=\"T_a84efde2_3245_11eb_a3d0_02cba411ec9drow178_col0\" class=\"data row178 col0\" >2020-06-18 00:00:00</td>\n",
       "                        <td id=\"T_a84efde2_3245_11eb_a3d0_02cba411ec9drow178_col1\" class=\"data row178 col1\" >0.09</td>\n",
       "            </tr>\n",
       "            <tr>\n",
       "                        <th id=\"T_a84efde2_3245_11eb_a3d0_02cba411ec9dlevel0_row179\" class=\"row_heading level0 row179\" >179</th>\n",
       "                        <td id=\"T_a84efde2_3245_11eb_a3d0_02cba411ec9drow179_col0\" class=\"data row179 col0\" >2020-06-19 00:00:00</td>\n",
       "                        <td id=\"T_a84efde2_3245_11eb_a3d0_02cba411ec9drow179_col1\" class=\"data row179 col1\" >0.09</td>\n",
       "            </tr>\n",
       "            <tr>\n",
       "                        <th id=\"T_a84efde2_3245_11eb_a3d0_02cba411ec9dlevel0_row180\" class=\"row_heading level0 row180\" >180</th>\n",
       "                        <td id=\"T_a84efde2_3245_11eb_a3d0_02cba411ec9drow180_col0\" class=\"data row180 col0\" >2020-06-22 00:00:00</td>\n",
       "                        <td id=\"T_a84efde2_3245_11eb_a3d0_02cba411ec9drow180_col1\" class=\"data row180 col1\" >0.08</td>\n",
       "            </tr>\n",
       "            <tr>\n",
       "                        <th id=\"T_a84efde2_3245_11eb_a3d0_02cba411ec9dlevel0_row181\" class=\"row_heading level0 row181\" >181</th>\n",
       "                        <td id=\"T_a84efde2_3245_11eb_a3d0_02cba411ec9drow181_col0\" class=\"data row181 col0\" >2020-06-23 00:00:00</td>\n",
       "                        <td id=\"T_a84efde2_3245_11eb_a3d0_02cba411ec9drow181_col1\" class=\"data row181 col1\" >0.07</td>\n",
       "            </tr>\n",
       "            <tr>\n",
       "                        <th id=\"T_a84efde2_3245_11eb_a3d0_02cba411ec9dlevel0_row182\" class=\"row_heading level0 row182\" >182</th>\n",
       "                        <td id=\"T_a84efde2_3245_11eb_a3d0_02cba411ec9drow182_col0\" class=\"data row182 col0\" >2020-06-24 00:00:00</td>\n",
       "                        <td id=\"T_a84efde2_3245_11eb_a3d0_02cba411ec9drow182_col1\" class=\"data row182 col1\" >0.08</td>\n",
       "            </tr>\n",
       "            <tr>\n",
       "                        <th id=\"T_a84efde2_3245_11eb_a3d0_02cba411ec9dlevel0_row183\" class=\"row_heading level0 row183\" >183</th>\n",
       "                        <td id=\"T_a84efde2_3245_11eb_a3d0_02cba411ec9drow183_col0\" class=\"data row183 col0\" >2020-06-25 00:00:00</td>\n",
       "                        <td id=\"T_a84efde2_3245_11eb_a3d0_02cba411ec9drow183_col1\" class=\"data row183 col1\" >0.09</td>\n",
       "            </tr>\n",
       "            <tr>\n",
       "                        <th id=\"T_a84efde2_3245_11eb_a3d0_02cba411ec9dlevel0_row184\" class=\"row_heading level0 row184\" >184</th>\n",
       "                        <td id=\"T_a84efde2_3245_11eb_a3d0_02cba411ec9drow184_col0\" class=\"data row184 col0\" >2020-06-26 00:00:00</td>\n",
       "                        <td id=\"T_a84efde2_3245_11eb_a3d0_02cba411ec9drow184_col1\" class=\"data row184 col1\" >0.08</td>\n",
       "            </tr>\n",
       "            <tr>\n",
       "                        <th id=\"T_a84efde2_3245_11eb_a3d0_02cba411ec9dlevel0_row185\" class=\"row_heading level0 row185\" >185</th>\n",
       "                        <td id=\"T_a84efde2_3245_11eb_a3d0_02cba411ec9drow185_col0\" class=\"data row185 col0\" >2020-06-29 00:00:00</td>\n",
       "                        <td id=\"T_a84efde2_3245_11eb_a3d0_02cba411ec9drow185_col1\" class=\"data row185 col1\" >0.08</td>\n",
       "            </tr>\n",
       "            <tr>\n",
       "                        <th id=\"T_a84efde2_3245_11eb_a3d0_02cba411ec9dlevel0_row186\" class=\"row_heading level0 row186\" >186</th>\n",
       "                        <td id=\"T_a84efde2_3245_11eb_a3d0_02cba411ec9drow186_col0\" class=\"data row186 col0\" >2020-06-30 00:00:00</td>\n",
       "                        <td id=\"T_a84efde2_3245_11eb_a3d0_02cba411ec9drow186_col1\" class=\"data row186 col1\" >0.1</td>\n",
       "            </tr>\n",
       "            <tr>\n",
       "                        <th id=\"T_a84efde2_3245_11eb_a3d0_02cba411ec9dlevel0_row187\" class=\"row_heading level0 row187\" >187</th>\n",
       "                        <td id=\"T_a84efde2_3245_11eb_a3d0_02cba411ec9drow187_col0\" class=\"data row187 col0\" >2020-07-01 00:00:00</td>\n",
       "                        <td id=\"T_a84efde2_3245_11eb_a3d0_02cba411ec9drow187_col1\" class=\"data row187 col1\" >0.11</td>\n",
       "            </tr>\n",
       "            <tr>\n",
       "                        <th id=\"T_a84efde2_3245_11eb_a3d0_02cba411ec9dlevel0_row188\" class=\"row_heading level0 row188\" >188</th>\n",
       "                        <td id=\"T_a84efde2_3245_11eb_a3d0_02cba411ec9drow188_col0\" class=\"data row188 col0\" >2020-07-02 00:00:00</td>\n",
       "                        <td id=\"T_a84efde2_3245_11eb_a3d0_02cba411ec9drow188_col1\" class=\"data row188 col1\" >0.11</td>\n",
       "            </tr>\n",
       "            <tr>\n",
       "                        <th id=\"T_a84efde2_3245_11eb_a3d0_02cba411ec9dlevel0_row189\" class=\"row_heading level0 row189\" >189</th>\n",
       "                        <td id=\"T_a84efde2_3245_11eb_a3d0_02cba411ec9drow189_col0\" class=\"data row189 col0\" >2020-07-06 00:00:00</td>\n",
       "                        <td id=\"T_a84efde2_3245_11eb_a3d0_02cba411ec9drow189_col1\" class=\"data row189 col1\" >0.1</td>\n",
       "            </tr>\n",
       "            <tr>\n",
       "                        <th id=\"T_a84efde2_3245_11eb_a3d0_02cba411ec9dlevel0_row190\" class=\"row_heading level0 row190\" >190</th>\n",
       "                        <td id=\"T_a84efde2_3245_11eb_a3d0_02cba411ec9drow190_col0\" class=\"data row190 col0\" >2020-07-07 00:00:00</td>\n",
       "                        <td id=\"T_a84efde2_3245_11eb_a3d0_02cba411ec9drow190_col1\" class=\"data row190 col1\" >0.1</td>\n",
       "            </tr>\n",
       "            <tr>\n",
       "                        <th id=\"T_a84efde2_3245_11eb_a3d0_02cba411ec9dlevel0_row191\" class=\"row_heading level0 row191\" >191</th>\n",
       "                        <td id=\"T_a84efde2_3245_11eb_a3d0_02cba411ec9drow191_col0\" class=\"data row191 col0\" >2020-07-08 00:00:00</td>\n",
       "                        <td id=\"T_a84efde2_3245_11eb_a3d0_02cba411ec9drow191_col1\" class=\"data row191 col1\" >0.1</td>\n",
       "            </tr>\n",
       "            <tr>\n",
       "                        <th id=\"T_a84efde2_3245_11eb_a3d0_02cba411ec9dlevel0_row192\" class=\"row_heading level0 row192\" >192</th>\n",
       "                        <td id=\"T_a84efde2_3245_11eb_a3d0_02cba411ec9drow192_col0\" class=\"data row192 col0\" >2020-07-09 00:00:00</td>\n",
       "                        <td id=\"T_a84efde2_3245_11eb_a3d0_02cba411ec9drow192_col1\" class=\"data row192 col1\" >0.1</td>\n",
       "            </tr>\n",
       "            <tr>\n",
       "                        <th id=\"T_a84efde2_3245_11eb_a3d0_02cba411ec9dlevel0_row193\" class=\"row_heading level0 row193\" >193</th>\n",
       "                        <td id=\"T_a84efde2_3245_11eb_a3d0_02cba411ec9drow193_col0\" class=\"data row193 col0\" >2020-07-10 00:00:00</td>\n",
       "                        <td id=\"T_a84efde2_3245_11eb_a3d0_02cba411ec9drow193_col1\" class=\"data row193 col1\" >0.1</td>\n",
       "            </tr>\n",
       "            <tr>\n",
       "                        <th id=\"T_a84efde2_3245_11eb_a3d0_02cba411ec9dlevel0_row194\" class=\"row_heading level0 row194\" >194</th>\n",
       "                        <td id=\"T_a84efde2_3245_11eb_a3d0_02cba411ec9drow194_col0\" class=\"data row194 col0\" >2020-07-13 00:00:00</td>\n",
       "                        <td id=\"T_a84efde2_3245_11eb_a3d0_02cba411ec9drow194_col1\" class=\"data row194 col1\" >0.1</td>\n",
       "            </tr>\n",
       "            <tr>\n",
       "                        <th id=\"T_a84efde2_3245_11eb_a3d0_02cba411ec9dlevel0_row195\" class=\"row_heading level0 row195\" >195</th>\n",
       "                        <td id=\"T_a84efde2_3245_11eb_a3d0_02cba411ec9drow195_col0\" class=\"data row195 col0\" >2020-07-14 00:00:00</td>\n",
       "                        <td id=\"T_a84efde2_3245_11eb_a3d0_02cba411ec9drow195_col1\" class=\"data row195 col1\" >0.11</td>\n",
       "            </tr>\n",
       "            <tr>\n",
       "                        <th id=\"T_a84efde2_3245_11eb_a3d0_02cba411ec9dlevel0_row196\" class=\"row_heading level0 row196\" >196</th>\n",
       "                        <td id=\"T_a84efde2_3245_11eb_a3d0_02cba411ec9drow196_col0\" class=\"data row196 col0\" >2020-07-15 00:00:00</td>\n",
       "                        <td id=\"T_a84efde2_3245_11eb_a3d0_02cba411ec9drow196_col1\" class=\"data row196 col1\" >0.13</td>\n",
       "            </tr>\n",
       "            <tr>\n",
       "                        <th id=\"T_a84efde2_3245_11eb_a3d0_02cba411ec9dlevel0_row197\" class=\"row_heading level0 row197\" >197</th>\n",
       "                        <td id=\"T_a84efde2_3245_11eb_a3d0_02cba411ec9drow197_col0\" class=\"data row197 col0\" >2020-07-16 00:00:00</td>\n",
       "                        <td id=\"T_a84efde2_3245_11eb_a3d0_02cba411ec9drow197_col1\" class=\"data row197 col1\" >0.12</td>\n",
       "            </tr>\n",
       "            <tr>\n",
       "                        <th id=\"T_a84efde2_3245_11eb_a3d0_02cba411ec9dlevel0_row198\" class=\"row_heading level0 row198\" >198</th>\n",
       "                        <td id=\"T_a84efde2_3245_11eb_a3d0_02cba411ec9drow198_col0\" class=\"data row198 col0\" >2020-07-17 00:00:00</td>\n",
       "                        <td id=\"T_a84efde2_3245_11eb_a3d0_02cba411ec9drow198_col1\" class=\"data row198 col1\" >0.12</td>\n",
       "            </tr>\n",
       "            <tr>\n",
       "                        <th id=\"T_a84efde2_3245_11eb_a3d0_02cba411ec9dlevel0_row199\" class=\"row_heading level0 row199\" >199</th>\n",
       "                        <td id=\"T_a84efde2_3245_11eb_a3d0_02cba411ec9drow199_col0\" class=\"data row199 col0\" >2020-07-20 00:00:00</td>\n",
       "                        <td id=\"T_a84efde2_3245_11eb_a3d0_02cba411ec9drow199_col1\" class=\"data row199 col1\" >0.12</td>\n",
       "            </tr>\n",
       "            <tr>\n",
       "                        <th id=\"T_a84efde2_3245_11eb_a3d0_02cba411ec9dlevel0_row200\" class=\"row_heading level0 row200\" >200</th>\n",
       "                        <td id=\"T_a84efde2_3245_11eb_a3d0_02cba411ec9drow200_col0\" class=\"data row200 col0\" >2020-07-21 00:00:00</td>\n",
       "                        <td id=\"T_a84efde2_3245_11eb_a3d0_02cba411ec9drow200_col1\" class=\"data row200 col1\" >0.11</td>\n",
       "            </tr>\n",
       "            <tr>\n",
       "                        <th id=\"T_a84efde2_3245_11eb_a3d0_02cba411ec9dlevel0_row201\" class=\"row_heading level0 row201\" >201</th>\n",
       "                        <td id=\"T_a84efde2_3245_11eb_a3d0_02cba411ec9drow201_col0\" class=\"data row201 col0\" >2020-07-22 00:00:00</td>\n",
       "                        <td id=\"T_a84efde2_3245_11eb_a3d0_02cba411ec9drow201_col1\" class=\"data row201 col1\" >0.1</td>\n",
       "            </tr>\n",
       "            <tr>\n",
       "                        <th id=\"T_a84efde2_3245_11eb_a3d0_02cba411ec9dlevel0_row202\" class=\"row_heading level0 row202\" >202</th>\n",
       "                        <td id=\"T_a84efde2_3245_11eb_a3d0_02cba411ec9drow202_col0\" class=\"data row202 col0\" >2020-07-23 00:00:00</td>\n",
       "                        <td id=\"T_a84efde2_3245_11eb_a3d0_02cba411ec9drow202_col1\" class=\"data row202 col1\" >0.1</td>\n",
       "            </tr>\n",
       "            <tr>\n",
       "                        <th id=\"T_a84efde2_3245_11eb_a3d0_02cba411ec9dlevel0_row203\" class=\"row_heading level0 row203\" >203</th>\n",
       "                        <td id=\"T_a84efde2_3245_11eb_a3d0_02cba411ec9drow203_col0\" class=\"data row203 col0\" >2020-07-24 00:00:00</td>\n",
       "                        <td id=\"T_a84efde2_3245_11eb_a3d0_02cba411ec9drow203_col1\" class=\"data row203 col1\" >0.1</td>\n",
       "            </tr>\n",
       "            <tr>\n",
       "                        <th id=\"T_a84efde2_3245_11eb_a3d0_02cba411ec9dlevel0_row204\" class=\"row_heading level0 row204\" >204</th>\n",
       "                        <td id=\"T_a84efde2_3245_11eb_a3d0_02cba411ec9drow204_col0\" class=\"data row204 col0\" >2020-07-27 00:00:00</td>\n",
       "                        <td id=\"T_a84efde2_3245_11eb_a3d0_02cba411ec9drow204_col1\" class=\"data row204 col1\" >0.1</td>\n",
       "            </tr>\n",
       "            <tr>\n",
       "                        <th id=\"T_a84efde2_3245_11eb_a3d0_02cba411ec9dlevel0_row205\" class=\"row_heading level0 row205\" >205</th>\n",
       "                        <td id=\"T_a84efde2_3245_11eb_a3d0_02cba411ec9drow205_col0\" class=\"data row205 col0\" >2020-07-28 00:00:00</td>\n",
       "                        <td id=\"T_a84efde2_3245_11eb_a3d0_02cba411ec9drow205_col1\" class=\"data row205 col1\" >0.1</td>\n",
       "            </tr>\n",
       "            <tr>\n",
       "                        <th id=\"T_a84efde2_3245_11eb_a3d0_02cba411ec9dlevel0_row206\" class=\"row_heading level0 row206\" >206</th>\n",
       "                        <td id=\"T_a84efde2_3245_11eb_a3d0_02cba411ec9drow206_col0\" class=\"data row206 col0\" >2020-07-29 00:00:00</td>\n",
       "                        <td id=\"T_a84efde2_3245_11eb_a3d0_02cba411ec9drow206_col1\" class=\"data row206 col1\" >0.09</td>\n",
       "            </tr>\n",
       "            <tr>\n",
       "                        <th id=\"T_a84efde2_3245_11eb_a3d0_02cba411ec9dlevel0_row207\" class=\"row_heading level0 row207\" >207</th>\n",
       "                        <td id=\"T_a84efde2_3245_11eb_a3d0_02cba411ec9drow207_col0\" class=\"data row207 col0\" >2020-07-30 00:00:00</td>\n",
       "                        <td id=\"T_a84efde2_3245_11eb_a3d0_02cba411ec9drow207_col1\" class=\"data row207 col1\" >0.1</td>\n",
       "            </tr>\n",
       "            <tr>\n",
       "                        <th id=\"T_a84efde2_3245_11eb_a3d0_02cba411ec9dlevel0_row208\" class=\"row_heading level0 row208\" >208</th>\n",
       "                        <td id=\"T_a84efde2_3245_11eb_a3d0_02cba411ec9drow208_col0\" class=\"data row208 col0\" >2020-07-31 00:00:00</td>\n",
       "                        <td id=\"T_a84efde2_3245_11eb_a3d0_02cba411ec9drow208_col1\" class=\"data row208 col1\" >0.1</td>\n",
       "            </tr>\n",
       "            <tr>\n",
       "                        <th id=\"T_a84efde2_3245_11eb_a3d0_02cba411ec9dlevel0_row209\" class=\"row_heading level0 row209\" >209</th>\n",
       "                        <td id=\"T_a84efde2_3245_11eb_a3d0_02cba411ec9drow209_col0\" class=\"data row209 col0\" >2020-08-03 00:00:00</td>\n",
       "                        <td id=\"T_a84efde2_3245_11eb_a3d0_02cba411ec9drow209_col1\" class=\"data row209 col1\" >0.1</td>\n",
       "            </tr>\n",
       "            <tr>\n",
       "                        <th id=\"T_a84efde2_3245_11eb_a3d0_02cba411ec9dlevel0_row210\" class=\"row_heading level0 row210\" >210</th>\n",
       "                        <td id=\"T_a84efde2_3245_11eb_a3d0_02cba411ec9drow210_col0\" class=\"data row210 col0\" >2020-08-04 00:00:00</td>\n",
       "                        <td id=\"T_a84efde2_3245_11eb_a3d0_02cba411ec9drow210_col1\" class=\"data row210 col1\" >0.09</td>\n",
       "            </tr>\n",
       "            <tr>\n",
       "                        <th id=\"T_a84efde2_3245_11eb_a3d0_02cba411ec9dlevel0_row211\" class=\"row_heading level0 row211\" >211</th>\n",
       "                        <td id=\"T_a84efde2_3245_11eb_a3d0_02cba411ec9drow211_col0\" class=\"data row211 col0\" >2020-08-05 00:00:00</td>\n",
       "                        <td id=\"T_a84efde2_3245_11eb_a3d0_02cba411ec9drow211_col1\" class=\"data row211 col1\" >0.09</td>\n",
       "            </tr>\n",
       "            <tr>\n",
       "                        <th id=\"T_a84efde2_3245_11eb_a3d0_02cba411ec9dlevel0_row212\" class=\"row_heading level0 row212\" >212</th>\n",
       "                        <td id=\"T_a84efde2_3245_11eb_a3d0_02cba411ec9drow212_col0\" class=\"data row212 col0\" >2020-08-06 00:00:00</td>\n",
       "                        <td id=\"T_a84efde2_3245_11eb_a3d0_02cba411ec9drow212_col1\" class=\"data row212 col1\" >0.09</td>\n",
       "            </tr>\n",
       "            <tr>\n",
       "                        <th id=\"T_a84efde2_3245_11eb_a3d0_02cba411ec9dlevel0_row213\" class=\"row_heading level0 row213\" >213</th>\n",
       "                        <td id=\"T_a84efde2_3245_11eb_a3d0_02cba411ec9drow213_col0\" class=\"data row213 col0\" >2020-08-07 00:00:00</td>\n",
       "                        <td id=\"T_a84efde2_3245_11eb_a3d0_02cba411ec9drow213_col1\" class=\"data row213 col1\" >0.09</td>\n",
       "            </tr>\n",
       "            <tr>\n",
       "                        <th id=\"T_a84efde2_3245_11eb_a3d0_02cba411ec9dlevel0_row214\" class=\"row_heading level0 row214\" >214</th>\n",
       "                        <td id=\"T_a84efde2_3245_11eb_a3d0_02cba411ec9drow214_col0\" class=\"data row214 col0\" >2020-08-10 00:00:00</td>\n",
       "                        <td id=\"T_a84efde2_3245_11eb_a3d0_02cba411ec9drow214_col1\" class=\"data row214 col1\" >0.09</td>\n",
       "            </tr>\n",
       "            <tr>\n",
       "                        <th id=\"T_a84efde2_3245_11eb_a3d0_02cba411ec9dlevel0_row215\" class=\"row_heading level0 row215\" >215</th>\n",
       "                        <td id=\"T_a84efde2_3245_11eb_a3d0_02cba411ec9drow215_col0\" class=\"data row215 col0\" >2020-08-11 00:00:00</td>\n",
       "                        <td id=\"T_a84efde2_3245_11eb_a3d0_02cba411ec9drow215_col1\" class=\"data row215 col1\" >0.1</td>\n",
       "            </tr>\n",
       "            <tr>\n",
       "                        <th id=\"T_a84efde2_3245_11eb_a3d0_02cba411ec9dlevel0_row216\" class=\"row_heading level0 row216\" >216</th>\n",
       "                        <td id=\"T_a84efde2_3245_11eb_a3d0_02cba411ec9drow216_col0\" class=\"data row216 col0\" >2020-08-12 00:00:00</td>\n",
       "                        <td id=\"T_a84efde2_3245_11eb_a3d0_02cba411ec9drow216_col1\" class=\"data row216 col1\" >0.09</td>\n",
       "            </tr>\n",
       "            <tr>\n",
       "                        <th id=\"T_a84efde2_3245_11eb_a3d0_02cba411ec9dlevel0_row217\" class=\"row_heading level0 row217\" >217</th>\n",
       "                        <td id=\"T_a84efde2_3245_11eb_a3d0_02cba411ec9drow217_col0\" class=\"data row217 col0\" >2020-08-13 00:00:00</td>\n",
       "                        <td id=\"T_a84efde2_3245_11eb_a3d0_02cba411ec9drow217_col1\" class=\"data row217 col1\" >0.09</td>\n",
       "            </tr>\n",
       "            <tr>\n",
       "                        <th id=\"T_a84efde2_3245_11eb_a3d0_02cba411ec9dlevel0_row218\" class=\"row_heading level0 row218\" >218</th>\n",
       "                        <td id=\"T_a84efde2_3245_11eb_a3d0_02cba411ec9drow218_col0\" class=\"data row218 col0\" >2020-08-14 00:00:00</td>\n",
       "                        <td id=\"T_a84efde2_3245_11eb_a3d0_02cba411ec9drow218_col1\" class=\"data row218 col1\" >0.09</td>\n",
       "            </tr>\n",
       "            <tr>\n",
       "                        <th id=\"T_a84efde2_3245_11eb_a3d0_02cba411ec9dlevel0_row219\" class=\"row_heading level0 row219\" >219</th>\n",
       "                        <td id=\"T_a84efde2_3245_11eb_a3d0_02cba411ec9drow219_col0\" class=\"data row219 col0\" >2020-08-17 00:00:00</td>\n",
       "                        <td id=\"T_a84efde2_3245_11eb_a3d0_02cba411ec9drow219_col1\" class=\"data row219 col1\" >0.1</td>\n",
       "            </tr>\n",
       "            <tr>\n",
       "                        <th id=\"T_a84efde2_3245_11eb_a3d0_02cba411ec9dlevel0_row220\" class=\"row_heading level0 row220\" >220</th>\n",
       "                        <td id=\"T_a84efde2_3245_11eb_a3d0_02cba411ec9drow220_col0\" class=\"data row220 col0\" >2020-08-18 00:00:00</td>\n",
       "                        <td id=\"T_a84efde2_3245_11eb_a3d0_02cba411ec9drow220_col1\" class=\"data row220 col1\" >0.09</td>\n",
       "            </tr>\n",
       "            <tr>\n",
       "                        <th id=\"T_a84efde2_3245_11eb_a3d0_02cba411ec9dlevel0_row221\" class=\"row_heading level0 row221\" >221</th>\n",
       "                        <td id=\"T_a84efde2_3245_11eb_a3d0_02cba411ec9drow221_col0\" class=\"data row221 col0\" >2020-08-19 00:00:00</td>\n",
       "                        <td id=\"T_a84efde2_3245_11eb_a3d0_02cba411ec9drow221_col1\" class=\"data row221 col1\" >0.09</td>\n",
       "            </tr>\n",
       "            <tr>\n",
       "                        <th id=\"T_a84efde2_3245_11eb_a3d0_02cba411ec9dlevel0_row222\" class=\"row_heading level0 row222\" >222</th>\n",
       "                        <td id=\"T_a84efde2_3245_11eb_a3d0_02cba411ec9drow222_col0\" class=\"data row222 col0\" >2020-08-20 00:00:00</td>\n",
       "                        <td id=\"T_a84efde2_3245_11eb_a3d0_02cba411ec9drow222_col1\" class=\"data row222 col1\" >0.07</td>\n",
       "            </tr>\n",
       "            <tr>\n",
       "                        <th id=\"T_a84efde2_3245_11eb_a3d0_02cba411ec9dlevel0_row223\" class=\"row_heading level0 row223\" >223</th>\n",
       "                        <td id=\"T_a84efde2_3245_11eb_a3d0_02cba411ec9drow223_col0\" class=\"data row223 col0\" >2020-08-21 00:00:00</td>\n",
       "                        <td id=\"T_a84efde2_3245_11eb_a3d0_02cba411ec9drow223_col1\" class=\"data row223 col1\" >0.07</td>\n",
       "            </tr>\n",
       "            <tr>\n",
       "                        <th id=\"T_a84efde2_3245_11eb_a3d0_02cba411ec9dlevel0_row224\" class=\"row_heading level0 row224\" >224</th>\n",
       "                        <td id=\"T_a84efde2_3245_11eb_a3d0_02cba411ec9drow224_col0\" class=\"data row224 col0\" >2020-08-24 00:00:00</td>\n",
       "                        <td id=\"T_a84efde2_3245_11eb_a3d0_02cba411ec9drow224_col1\" class=\"data row224 col1\" >0.08</td>\n",
       "            </tr>\n",
       "            <tr>\n",
       "                        <th id=\"T_a84efde2_3245_11eb_a3d0_02cba411ec9dlevel0_row225\" class=\"row_heading level0 row225\" >225</th>\n",
       "                        <td id=\"T_a84efde2_3245_11eb_a3d0_02cba411ec9drow225_col0\" class=\"data row225 col0\" >2020-08-25 00:00:00</td>\n",
       "                        <td id=\"T_a84efde2_3245_11eb_a3d0_02cba411ec9drow225_col1\" class=\"data row225 col1\" >0.08</td>\n",
       "            </tr>\n",
       "            <tr>\n",
       "                        <th id=\"T_a84efde2_3245_11eb_a3d0_02cba411ec9dlevel0_row226\" class=\"row_heading level0 row226\" >226</th>\n",
       "                        <td id=\"T_a84efde2_3245_11eb_a3d0_02cba411ec9drow226_col0\" class=\"data row226 col0\" >2020-08-26 00:00:00</td>\n",
       "                        <td id=\"T_a84efde2_3245_11eb_a3d0_02cba411ec9drow226_col1\" class=\"data row226 col1\" >0.07</td>\n",
       "            </tr>\n",
       "            <tr>\n",
       "                        <th id=\"T_a84efde2_3245_11eb_a3d0_02cba411ec9dlevel0_row227\" class=\"row_heading level0 row227\" >227</th>\n",
       "                        <td id=\"T_a84efde2_3245_11eb_a3d0_02cba411ec9drow227_col0\" class=\"data row227 col0\" >2020-08-27 00:00:00</td>\n",
       "                        <td id=\"T_a84efde2_3245_11eb_a3d0_02cba411ec9drow227_col1\" class=\"data row227 col1\" >0.07</td>\n",
       "            </tr>\n",
       "            <tr>\n",
       "                        <th id=\"T_a84efde2_3245_11eb_a3d0_02cba411ec9dlevel0_row228\" class=\"row_heading level0 row228\" >228</th>\n",
       "                        <td id=\"T_a84efde2_3245_11eb_a3d0_02cba411ec9drow228_col0\" class=\"data row228 col0\" >2020-08-28 00:00:00</td>\n",
       "                        <td id=\"T_a84efde2_3245_11eb_a3d0_02cba411ec9drow228_col1\" class=\"data row228 col1\" >0.07</td>\n",
       "            </tr>\n",
       "            <tr>\n",
       "                        <th id=\"T_a84efde2_3245_11eb_a3d0_02cba411ec9dlevel0_row229\" class=\"row_heading level0 row229\" >229</th>\n",
       "                        <td id=\"T_a84efde2_3245_11eb_a3d0_02cba411ec9drow229_col0\" class=\"data row229 col0\" >2020-08-31 00:00:00</td>\n",
       "                        <td id=\"T_a84efde2_3245_11eb_a3d0_02cba411ec9drow229_col1\" class=\"data row229 col1\" >0.09</td>\n",
       "            </tr>\n",
       "            <tr>\n",
       "                        <th id=\"T_a84efde2_3245_11eb_a3d0_02cba411ec9dlevel0_row230\" class=\"row_heading level0 row230\" >230</th>\n",
       "                        <td id=\"T_a84efde2_3245_11eb_a3d0_02cba411ec9drow230_col0\" class=\"data row230 col0\" >2020-09-01 00:00:00</td>\n",
       "                        <td id=\"T_a84efde2_3245_11eb_a3d0_02cba411ec9drow230_col1\" class=\"data row230 col1\" >0.09</td>\n",
       "            </tr>\n",
       "            <tr>\n",
       "                        <th id=\"T_a84efde2_3245_11eb_a3d0_02cba411ec9dlevel0_row231\" class=\"row_heading level0 row231\" >231</th>\n",
       "                        <td id=\"T_a84efde2_3245_11eb_a3d0_02cba411ec9drow231_col0\" class=\"data row231 col0\" >2020-09-02 00:00:00</td>\n",
       "                        <td id=\"T_a84efde2_3245_11eb_a3d0_02cba411ec9drow231_col1\" class=\"data row231 col1\" >0.09</td>\n",
       "            </tr>\n",
       "            <tr>\n",
       "                        <th id=\"T_a84efde2_3245_11eb_a3d0_02cba411ec9dlevel0_row232\" class=\"row_heading level0 row232\" >232</th>\n",
       "                        <td id=\"T_a84efde2_3245_11eb_a3d0_02cba411ec9drow232_col0\" class=\"data row232 col0\" >2020-09-03 00:00:00</td>\n",
       "                        <td id=\"T_a84efde2_3245_11eb_a3d0_02cba411ec9drow232_col1\" class=\"data row232 col1\" >0.1</td>\n",
       "            </tr>\n",
       "            <tr>\n",
       "                        <th id=\"T_a84efde2_3245_11eb_a3d0_02cba411ec9dlevel0_row233\" class=\"row_heading level0 row233\" >233</th>\n",
       "                        <td id=\"T_a84efde2_3245_11eb_a3d0_02cba411ec9drow233_col0\" class=\"data row233 col0\" >2020-09-04 00:00:00</td>\n",
       "                        <td id=\"T_a84efde2_3245_11eb_a3d0_02cba411ec9drow233_col1\" class=\"data row233 col1\" >0.09</td>\n",
       "            </tr>\n",
       "            <tr>\n",
       "                        <th id=\"T_a84efde2_3245_11eb_a3d0_02cba411ec9dlevel0_row234\" class=\"row_heading level0 row234\" >234</th>\n",
       "                        <td id=\"T_a84efde2_3245_11eb_a3d0_02cba411ec9drow234_col0\" class=\"data row234 col0\" >2020-09-08 00:00:00</td>\n",
       "                        <td id=\"T_a84efde2_3245_11eb_a3d0_02cba411ec9drow234_col1\" class=\"data row234 col1\" >0.09</td>\n",
       "            </tr>\n",
       "            <tr>\n",
       "                        <th id=\"T_a84efde2_3245_11eb_a3d0_02cba411ec9dlevel0_row235\" class=\"row_heading level0 row235\" >235</th>\n",
       "                        <td id=\"T_a84efde2_3245_11eb_a3d0_02cba411ec9drow235_col0\" class=\"data row235 col0\" >2020-09-09 00:00:00</td>\n",
       "                        <td id=\"T_a84efde2_3245_11eb_a3d0_02cba411ec9drow235_col1\" class=\"data row235 col1\" >0.09</td>\n",
       "            </tr>\n",
       "            <tr>\n",
       "                        <th id=\"T_a84efde2_3245_11eb_a3d0_02cba411ec9dlevel0_row236\" class=\"row_heading level0 row236\" >236</th>\n",
       "                        <td id=\"T_a84efde2_3245_11eb_a3d0_02cba411ec9drow236_col0\" class=\"data row236 col0\" >2020-09-10 00:00:00</td>\n",
       "                        <td id=\"T_a84efde2_3245_11eb_a3d0_02cba411ec9drow236_col1\" class=\"data row236 col1\" >0.09</td>\n",
       "            </tr>\n",
       "            <tr>\n",
       "                        <th id=\"T_a84efde2_3245_11eb_a3d0_02cba411ec9dlevel0_row237\" class=\"row_heading level0 row237\" >237</th>\n",
       "                        <td id=\"T_a84efde2_3245_11eb_a3d0_02cba411ec9drow237_col0\" class=\"data row237 col0\" >2020-09-11 00:00:00</td>\n",
       "                        <td id=\"T_a84efde2_3245_11eb_a3d0_02cba411ec9drow237_col1\" class=\"data row237 col1\" >0.09</td>\n",
       "            </tr>\n",
       "            <tr>\n",
       "                        <th id=\"T_a84efde2_3245_11eb_a3d0_02cba411ec9dlevel0_row238\" class=\"row_heading level0 row238\" >238</th>\n",
       "                        <td id=\"T_a84efde2_3245_11eb_a3d0_02cba411ec9drow238_col0\" class=\"data row238 col0\" >2020-09-14 00:00:00</td>\n",
       "                        <td id=\"T_a84efde2_3245_11eb_a3d0_02cba411ec9drow238_col1\" class=\"data row238 col1\" >0.09</td>\n",
       "            </tr>\n",
       "            <tr>\n",
       "                        <th id=\"T_a84efde2_3245_11eb_a3d0_02cba411ec9dlevel0_row239\" class=\"row_heading level0 row239\" >239</th>\n",
       "                        <td id=\"T_a84efde2_3245_11eb_a3d0_02cba411ec9drow239_col0\" class=\"data row239 col0\" >2020-09-15 00:00:00</td>\n",
       "                        <td id=\"T_a84efde2_3245_11eb_a3d0_02cba411ec9drow239_col1\" class=\"data row239 col1\" >0.1</td>\n",
       "            </tr>\n",
       "            <tr>\n",
       "                        <th id=\"T_a84efde2_3245_11eb_a3d0_02cba411ec9dlevel0_row240\" class=\"row_heading level0 row240\" >240</th>\n",
       "                        <td id=\"T_a84efde2_3245_11eb_a3d0_02cba411ec9drow240_col0\" class=\"data row240 col0\" >2020-09-16 00:00:00</td>\n",
       "                        <td id=\"T_a84efde2_3245_11eb_a3d0_02cba411ec9drow240_col1\" class=\"data row240 col1\" >0.1</td>\n",
       "            </tr>\n",
       "            <tr>\n",
       "                        <th id=\"T_a84efde2_3245_11eb_a3d0_02cba411ec9dlevel0_row241\" class=\"row_heading level0 row241\" >241</th>\n",
       "                        <td id=\"T_a84efde2_3245_11eb_a3d0_02cba411ec9drow241_col0\" class=\"data row241 col0\" >2020-09-17 00:00:00</td>\n",
       "                        <td id=\"T_a84efde2_3245_11eb_a3d0_02cba411ec9drow241_col1\" class=\"data row241 col1\" >0.1</td>\n",
       "            </tr>\n",
       "            <tr>\n",
       "                        <th id=\"T_a84efde2_3245_11eb_a3d0_02cba411ec9dlevel0_row242\" class=\"row_heading level0 row242\" >242</th>\n",
       "                        <td id=\"T_a84efde2_3245_11eb_a3d0_02cba411ec9drow242_col0\" class=\"data row242 col0\" >2020-09-18 00:00:00</td>\n",
       "                        <td id=\"T_a84efde2_3245_11eb_a3d0_02cba411ec9drow242_col1\" class=\"data row242 col1\" >0.09</td>\n",
       "            </tr>\n",
       "            <tr>\n",
       "                        <th id=\"T_a84efde2_3245_11eb_a3d0_02cba411ec9dlevel0_row243\" class=\"row_heading level0 row243\" >243</th>\n",
       "                        <td id=\"T_a84efde2_3245_11eb_a3d0_02cba411ec9drow243_col0\" class=\"data row243 col0\" >2020-09-21 00:00:00</td>\n",
       "                        <td id=\"T_a84efde2_3245_11eb_a3d0_02cba411ec9drow243_col1\" class=\"data row243 col1\" >0.08</td>\n",
       "            </tr>\n",
       "            <tr>\n",
       "                        <th id=\"T_a84efde2_3245_11eb_a3d0_02cba411ec9dlevel0_row244\" class=\"row_heading level0 row244\" >244</th>\n",
       "                        <td id=\"T_a84efde2_3245_11eb_a3d0_02cba411ec9drow244_col0\" class=\"data row244 col0\" >2020-09-22 00:00:00</td>\n",
       "                        <td id=\"T_a84efde2_3245_11eb_a3d0_02cba411ec9drow244_col1\" class=\"data row244 col1\" >0.07</td>\n",
       "            </tr>\n",
       "            <tr>\n",
       "                        <th id=\"T_a84efde2_3245_11eb_a3d0_02cba411ec9dlevel0_row245\" class=\"row_heading level0 row245\" >245</th>\n",
       "                        <td id=\"T_a84efde2_3245_11eb_a3d0_02cba411ec9drow245_col0\" class=\"data row245 col0\" >2020-09-23 00:00:00</td>\n",
       "                        <td id=\"T_a84efde2_3245_11eb_a3d0_02cba411ec9drow245_col1\" class=\"data row245 col1\" >0.06</td>\n",
       "            </tr>\n",
       "            <tr>\n",
       "                        <th id=\"T_a84efde2_3245_11eb_a3d0_02cba411ec9dlevel0_row246\" class=\"row_heading level0 row246\" >246</th>\n",
       "                        <td id=\"T_a84efde2_3245_11eb_a3d0_02cba411ec9drow246_col0\" class=\"data row246 col0\" >2020-09-24 00:00:00</td>\n",
       "                        <td id=\"T_a84efde2_3245_11eb_a3d0_02cba411ec9drow246_col1\" class=\"data row246 col1\" >0.07</td>\n",
       "            </tr>\n",
       "            <tr>\n",
       "                        <th id=\"T_a84efde2_3245_11eb_a3d0_02cba411ec9dlevel0_row247\" class=\"row_heading level0 row247\" >247</th>\n",
       "                        <td id=\"T_a84efde2_3245_11eb_a3d0_02cba411ec9drow247_col0\" class=\"data row247 col0\" >2020-09-25 00:00:00</td>\n",
       "                        <td id=\"T_a84efde2_3245_11eb_a3d0_02cba411ec9drow247_col1\" class=\"data row247 col1\" >0.08</td>\n",
       "            </tr>\n",
       "            <tr>\n",
       "                        <th id=\"T_a84efde2_3245_11eb_a3d0_02cba411ec9dlevel0_row248\" class=\"row_heading level0 row248\" >248</th>\n",
       "                        <td id=\"T_a84efde2_3245_11eb_a3d0_02cba411ec9drow248_col0\" class=\"data row248 col0\" >2020-09-28 00:00:00</td>\n",
       "                        <td id=\"T_a84efde2_3245_11eb_a3d0_02cba411ec9drow248_col1\" class=\"data row248 col1\" >0.08</td>\n",
       "            </tr>\n",
       "            <tr>\n",
       "                        <th id=\"T_a84efde2_3245_11eb_a3d0_02cba411ec9dlevel0_row249\" class=\"row_heading level0 row249\" >249</th>\n",
       "                        <td id=\"T_a84efde2_3245_11eb_a3d0_02cba411ec9drow249_col0\" class=\"data row249 col0\" >2020-09-29 00:00:00</td>\n",
       "                        <td id=\"T_a84efde2_3245_11eb_a3d0_02cba411ec9drow249_col1\" class=\"data row249 col1\" >0.07</td>\n",
       "            </tr>\n",
       "            <tr>\n",
       "                        <th id=\"T_a84efde2_3245_11eb_a3d0_02cba411ec9dlevel0_row250\" class=\"row_heading level0 row250\" >250</th>\n",
       "                        <td id=\"T_a84efde2_3245_11eb_a3d0_02cba411ec9drow250_col0\" class=\"data row250 col0\" >2020-09-30 00:00:00</td>\n",
       "                        <td id=\"T_a84efde2_3245_11eb_a3d0_02cba411ec9drow250_col1\" class=\"data row250 col1\" >0.08</td>\n",
       "            </tr>\n",
       "            <tr>\n",
       "                        <th id=\"T_a84efde2_3245_11eb_a3d0_02cba411ec9dlevel0_row251\" class=\"row_heading level0 row251\" >251</th>\n",
       "                        <td id=\"T_a84efde2_3245_11eb_a3d0_02cba411ec9drow251_col0\" class=\"data row251 col0\" >2020-10-01 00:00:00</td>\n",
       "                        <td id=\"T_a84efde2_3245_11eb_a3d0_02cba411ec9drow251_col1\" class=\"data row251 col1\" >0.08</td>\n",
       "            </tr>\n",
       "            <tr>\n",
       "                        <th id=\"T_a84efde2_3245_11eb_a3d0_02cba411ec9dlevel0_row252\" class=\"row_heading level0 row252\" >252</th>\n",
       "                        <td id=\"T_a84efde2_3245_11eb_a3d0_02cba411ec9drow252_col0\" class=\"data row252 col0\" >2020-10-02 00:00:00</td>\n",
       "                        <td id=\"T_a84efde2_3245_11eb_a3d0_02cba411ec9drow252_col1\" class=\"data row252 col1\" >0.1</td>\n",
       "            </tr>\n",
       "            <tr>\n",
       "                        <th id=\"T_a84efde2_3245_11eb_a3d0_02cba411ec9dlevel0_row253\" class=\"row_heading level0 row253\" >253</th>\n",
       "                        <td id=\"T_a84efde2_3245_11eb_a3d0_02cba411ec9drow253_col0\" class=\"data row253 col0\" >2020-10-05 00:00:00</td>\n",
       "                        <td id=\"T_a84efde2_3245_11eb_a3d0_02cba411ec9drow253_col1\" class=\"data row253 col1\" >0.09</td>\n",
       "            </tr>\n",
       "            <tr>\n",
       "                        <th id=\"T_a84efde2_3245_11eb_a3d0_02cba411ec9dlevel0_row254\" class=\"row_heading level0 row254\" >254</th>\n",
       "                        <td id=\"T_a84efde2_3245_11eb_a3d0_02cba411ec9drow254_col0\" class=\"data row254 col0\" >2020-10-06 00:00:00</td>\n",
       "                        <td id=\"T_a84efde2_3245_11eb_a3d0_02cba411ec9drow254_col1\" class=\"data row254 col1\" >0.1</td>\n",
       "            </tr>\n",
       "            <tr>\n",
       "                        <th id=\"T_a84efde2_3245_11eb_a3d0_02cba411ec9dlevel0_row255\" class=\"row_heading level0 row255\" >255</th>\n",
       "                        <td id=\"T_a84efde2_3245_11eb_a3d0_02cba411ec9drow255_col0\" class=\"data row255 col0\" >2020-10-07 00:00:00</td>\n",
       "                        <td id=\"T_a84efde2_3245_11eb_a3d0_02cba411ec9drow255_col1\" class=\"data row255 col1\" >0.09</td>\n",
       "            </tr>\n",
       "            <tr>\n",
       "                        <th id=\"T_a84efde2_3245_11eb_a3d0_02cba411ec9dlevel0_row256\" class=\"row_heading level0 row256\" >256</th>\n",
       "                        <td id=\"T_a84efde2_3245_11eb_a3d0_02cba411ec9drow256_col0\" class=\"data row256 col0\" >2020-10-08 00:00:00</td>\n",
       "                        <td id=\"T_a84efde2_3245_11eb_a3d0_02cba411ec9drow256_col1\" class=\"data row256 col1\" >0.08</td>\n",
       "            </tr>\n",
       "            <tr>\n",
       "                        <th id=\"T_a84efde2_3245_11eb_a3d0_02cba411ec9dlevel0_row257\" class=\"row_heading level0 row257\" >257</th>\n",
       "                        <td id=\"T_a84efde2_3245_11eb_a3d0_02cba411ec9drow257_col0\" class=\"data row257 col0\" >2020-10-09 00:00:00</td>\n",
       "                        <td id=\"T_a84efde2_3245_11eb_a3d0_02cba411ec9drow257_col1\" class=\"data row257 col1\" >0.09</td>\n",
       "            </tr>\n",
       "            <tr>\n",
       "                        <th id=\"T_a84efde2_3245_11eb_a3d0_02cba411ec9dlevel0_row258\" class=\"row_heading level0 row258\" >258</th>\n",
       "                        <td id=\"T_a84efde2_3245_11eb_a3d0_02cba411ec9drow258_col0\" class=\"data row258 col0\" >2020-10-13 00:00:00</td>\n",
       "                        <td id=\"T_a84efde2_3245_11eb_a3d0_02cba411ec9drow258_col1\" class=\"data row258 col1\" >0.09</td>\n",
       "            </tr>\n",
       "            <tr>\n",
       "                        <th id=\"T_a84efde2_3245_11eb_a3d0_02cba411ec9dlevel0_row259\" class=\"row_heading level0 row259\" >259</th>\n",
       "                        <td id=\"T_a84efde2_3245_11eb_a3d0_02cba411ec9drow259_col0\" class=\"data row259 col0\" >2020-10-14 00:00:00</td>\n",
       "                        <td id=\"T_a84efde2_3245_11eb_a3d0_02cba411ec9drow259_col1\" class=\"data row259 col1\" >0.09</td>\n",
       "            </tr>\n",
       "            <tr>\n",
       "                        <th id=\"T_a84efde2_3245_11eb_a3d0_02cba411ec9dlevel0_row260\" class=\"row_heading level0 row260\" >260</th>\n",
       "                        <td id=\"T_a84efde2_3245_11eb_a3d0_02cba411ec9drow260_col0\" class=\"data row260 col0\" >2020-10-15 00:00:00</td>\n",
       "                        <td id=\"T_a84efde2_3245_11eb_a3d0_02cba411ec9drow260_col1\" class=\"data row260 col1\" >0.1</td>\n",
       "            </tr>\n",
       "            <tr>\n",
       "                        <th id=\"T_a84efde2_3245_11eb_a3d0_02cba411ec9dlevel0_row261\" class=\"row_heading level0 row261\" >261</th>\n",
       "                        <td id=\"T_a84efde2_3245_11eb_a3d0_02cba411ec9drow261_col0\" class=\"data row261 col0\" >2020-10-16 00:00:00</td>\n",
       "                        <td id=\"T_a84efde2_3245_11eb_a3d0_02cba411ec9drow261_col1\" class=\"data row261 col1\" >0.09</td>\n",
       "            </tr>\n",
       "            <tr>\n",
       "                        <th id=\"T_a84efde2_3245_11eb_a3d0_02cba411ec9dlevel0_row262\" class=\"row_heading level0 row262\" >262</th>\n",
       "                        <td id=\"T_a84efde2_3245_11eb_a3d0_02cba411ec9drow262_col0\" class=\"data row262 col0\" >2020-10-19 00:00:00</td>\n",
       "                        <td id=\"T_a84efde2_3245_11eb_a3d0_02cba411ec9drow262_col1\" class=\"data row262 col1\" >0.09</td>\n",
       "            </tr>\n",
       "            <tr>\n",
       "                        <th id=\"T_a84efde2_3245_11eb_a3d0_02cba411ec9dlevel0_row263\" class=\"row_heading level0 row263\" >263</th>\n",
       "                        <td id=\"T_a84efde2_3245_11eb_a3d0_02cba411ec9drow263_col0\" class=\"data row263 col0\" >2020-10-20 00:00:00</td>\n",
       "                        <td id=\"T_a84efde2_3245_11eb_a3d0_02cba411ec9drow263_col1\" class=\"data row263 col1\" >0.08</td>\n",
       "            </tr>\n",
       "            <tr>\n",
       "                        <th id=\"T_a84efde2_3245_11eb_a3d0_02cba411ec9dlevel0_row264\" class=\"row_heading level0 row264\" >264</th>\n",
       "                        <td id=\"T_a84efde2_3245_11eb_a3d0_02cba411ec9drow264_col0\" class=\"data row264 col0\" >2020-10-21 00:00:00</td>\n",
       "                        <td id=\"T_a84efde2_3245_11eb_a3d0_02cba411ec9drow264_col1\" class=\"data row264 col1\" >0.07</td>\n",
       "            </tr>\n",
       "            <tr>\n",
       "                        <th id=\"T_a84efde2_3245_11eb_a3d0_02cba411ec9dlevel0_row265\" class=\"row_heading level0 row265\" >265</th>\n",
       "                        <td id=\"T_a84efde2_3245_11eb_a3d0_02cba411ec9drow265_col0\" class=\"data row265 col0\" >2020-10-22 00:00:00</td>\n",
       "                        <td id=\"T_a84efde2_3245_11eb_a3d0_02cba411ec9drow265_col1\" class=\"data row265 col1\" >0.07</td>\n",
       "            </tr>\n",
       "            <tr>\n",
       "                        <th id=\"T_a84efde2_3245_11eb_a3d0_02cba411ec9dlevel0_row266\" class=\"row_heading level0 row266\" >266</th>\n",
       "                        <td id=\"T_a84efde2_3245_11eb_a3d0_02cba411ec9drow266_col0\" class=\"data row266 col0\" >2020-10-23 00:00:00</td>\n",
       "                        <td id=\"T_a84efde2_3245_11eb_a3d0_02cba411ec9drow266_col1\" class=\"data row266 col1\" >0.08</td>\n",
       "            </tr>\n",
       "            <tr>\n",
       "                        <th id=\"T_a84efde2_3245_11eb_a3d0_02cba411ec9dlevel0_row267\" class=\"row_heading level0 row267\" >267</th>\n",
       "                        <td id=\"T_a84efde2_3245_11eb_a3d0_02cba411ec9drow267_col0\" class=\"data row267 col0\" >2020-10-26 00:00:00</td>\n",
       "                        <td id=\"T_a84efde2_3245_11eb_a3d0_02cba411ec9drow267_col1\" class=\"data row267 col1\" >0.09</td>\n",
       "            </tr>\n",
       "            <tr>\n",
       "                        <th id=\"T_a84efde2_3245_11eb_a3d0_02cba411ec9dlevel0_row268\" class=\"row_heading level0 row268\" >268</th>\n",
       "                        <td id=\"T_a84efde2_3245_11eb_a3d0_02cba411ec9drow268_col0\" class=\"data row268 col0\" >2020-10-27 00:00:00</td>\n",
       "                        <td id=\"T_a84efde2_3245_11eb_a3d0_02cba411ec9drow268_col1\" class=\"data row268 col1\" >0.09</td>\n",
       "            </tr>\n",
       "            <tr>\n",
       "                        <th id=\"T_a84efde2_3245_11eb_a3d0_02cba411ec9dlevel0_row269\" class=\"row_heading level0 row269\" >269</th>\n",
       "                        <td id=\"T_a84efde2_3245_11eb_a3d0_02cba411ec9drow269_col0\" class=\"data row269 col0\" >2020-10-28 00:00:00</td>\n",
       "                        <td id=\"T_a84efde2_3245_11eb_a3d0_02cba411ec9drow269_col1\" class=\"data row269 col1\" >0.08</td>\n",
       "            </tr>\n",
       "    </tbody></table>"
      ],
      "text/plain": [
       "<pandas.io.formats.style.Styler at 0x7f7210c10390>"
      ]
     },
     "execution_count": 4,
     "metadata": {},
     "output_type": "execute_result"
    }
   ],
   "source": [
    "#Importación y ordenamiento de datos\n",
    "\n",
    "data  = pd.read_excel('../data/SOFR-10012019-10292020.xls', 'nice format')\n",
    "df = pd.DataFrame()\n",
    "df[\"fecha_inicial\"]=pd.to_datetime(data[\"DATE\"])\n",
    "df[\"fecha_inicial\"] = df[\"fecha_inicial\"]\n",
    "df[\"tasas_ois\"] = data[\"RATE\\n(PERCENT)\"]\n",
    "df = df.sort_values(by = \"fecha_inicial\")\n",
    "df.index = list(range(0,len(df)))\n",
    "df.style.format({'tasas_ois': '{0:.3}'})"
   ]
  },
  {
   "cell_type": "markdown",
   "metadata": {},
   "source": [
    "## `Qcf.time_series`"
   ]
  },
  {
   "cell_type": "code",
   "execution_count": 5,
   "metadata": {
    "ExecuteTime": {
     "end_time": "2020-11-29T13:20:36.933432Z",
     "start_time": "2020-11-29T13:20:36.925082Z"
    }
   },
   "outputs": [
    {
     "name": "stdout",
     "output_type": "stream",
     "text": [
      "ts[fecha1]: 19690113.0\n",
      "\n",
      "13-1-1969\n",
      "14-1-1969\n",
      "\n",
      "19690113.0\n",
      "19690114.0\n"
     ]
    }
   ],
   "source": [
    "ts = Qcf.time_series()\n",
    "\n",
    "fecha1 = Qcf.QCDate(13, 1, 1969)\n",
    "ts[fecha1] = 19690113\n",
    "\n",
    "fecha2 = Qcf.QCDate(14, 1, 1969)\n",
    "ts[fecha2] = 19690114\n",
    "\n",
    "print(f'ts[fecha1]: {ts[fecha1]}\\n')\n",
    "\n",
    "dl = Qcf.time_series_dates(ts)\n",
    "for d in dl:\n",
    "    print(d)\n",
    "print()\n",
    "    \n",
    "vl = Qcf.time_series_values(ts)\n",
    "for v in vl:\n",
    "    print(v)"
   ]
  },
  {
   "cell_type": "markdown",
   "metadata": {},
   "source": [
    "## Clase `OisCashflow`"
   ]
  },
  {
   "cell_type": "markdown",
   "metadata": {},
   "source": [
    "La clase `OisCashflow` es una [`dataclass`](https://realpython.com/python-data-classes/). La tarea consiste en:\n",
    "\n",
    "- Implementar los 3 métodos de la clase que están con `pass`.\n",
    "- Implementar la función `present_value`.\n",
    "- Implementar la función `set_expected_rate`."
   ]
  },
  {
   "cell_type": "code",
   "execution_count": 6,
   "metadata": {
    "ExecuteTime": {
     "end_time": "2020-11-29T13:20:41.894203Z",
     "start_time": "2020-11-29T13:20:41.869939Z"
    }
   },
   "outputs": [],
   "source": [
    "@dataclass # syntactic sugar\n",
    "class OisCashflow:\n",
    "    start_date: Qcf.QCDate\n",
    "    end_date: Qcf.QCDate\n",
    "    settlement_date: Qcf.QCDate\n",
    "    notional: float\n",
    "    currency: Qcf.QCCurrency\n",
    "    amortization: float\n",
    "    amort_is_cashflow: bool\n",
    "    interest_rate: Qcf.QCInterestRate\n",
    "    on_index: Qcf.InterestRateIndex\n",
    "    spread: float\n",
    "    gearing: float\n",
    "        \n",
    "    def get_accrued_rate(self, accrual_date: Qcf.QCDate, fixings: Qcf.time_series) -> float:\n",
    "        \"\"\"\n",
    "        Calcula la tasa equivalente desde `self.start_date` a `accrual_date`. La tasa equivalente\n",
    "        se calcula como:\n",
    "        \n",
    "        (P - 1) * 360 / (accrual_date - self.start_date)\n",
    "        \n",
    "        donde P es el producto de los factores de capitalización de todas las tasas overnight\n",
    "        entre `start_date` y `accrual_date`. Los valores de esas tasas deben estar almacenados\n",
    "        en la variable `fixings`.\n",
    "        \n",
    "        Ver la documentación de `QC_Financial_3` para el uso y funcionamiento de los objetos\n",
    "        de tipo Qcf.time_series.\n",
    "        \"\"\"\n",
    "        start_date = self.start_date\n",
    "        end_date = self.end_date\n",
    "        days = Qcf.time_series_dates(fixings)\n",
    "        dif_day = start_date.day_diff(accrual_date) #diferencia de fechas\n",
    "        factores = []\n",
    "        fecha_i = start_date\n",
    "        fecha_f = start_date\n",
    "        P = 1\n",
    "        i = 0\n",
    "        \n",
    "        if accrual_date > end_date:\n",
    "            accrual_date = end_date\n",
    "        \n",
    "        while fecha_i < accrual_date and fecha_f != accrual_date:\n",
    "            fecha_i = days[i]\n",
    "            fecha_f = days[i+1]\n",
    "            tasa = Qcf.QCInterestRate(fixings[fecha_i], Qcf.QCAct360(), Qcf.QCLinearWf())\n",
    "            factor = tasa.wf(fecha_i,fecha_f)\n",
    "            factores.append(factor)\n",
    "            P = P*factor\n",
    "            i+=1\n",
    "        \n",
    "        #print(\"Factores:\", factores)\n",
    "        #print(\"P:\",P)\n",
    "        \n",
    "        #tasa equivalente\n",
    "        tasa_equi = (P - 1)*360/dif_day \n",
    "        \n",
    "        return tasa_equi\n",
    "    \n",
    "    def get_accrued_interest(self, accrual_date: Qcf.QCDate, fixings: Qcf.time_series) -> float:\n",
    "        \"\"\"\n",
    "        Calcula el interés (plata) devengado desde `self.start_date` a `accrual_date` utilizando la tasa equivalente\n",
    "        que se calcula con el método anterior.\n",
    "        \n",
    "        Los valores de las  tasas overnight deben estar almacenados en la variable `fixings`.\n",
    "        \n",
    "        Ver la documentación de `QC_Financial_3` para el uso y funcionamiento de los objetos\n",
    "        de tipo Qcf.time_series.\n",
    "        \"\"\"\n",
    "        start_date = self.start_date\n",
    "        dif_day = start_date.day_diff(accrual_date) #diferencia de fechas\n",
    "        nocional = self.notional\n",
    "        tasa_equi = ois.get_accrued_rate(accrual_date,fixings)\n",
    "        intereses = nocional*tasa_equi*dif_day/360\n",
    "        \n",
    "        return intereses\n",
    "    \n",
    "    def amount(self, fixings: Qcf.time_series) -> float:\n",
    "        \"\"\"\n",
    "        Calcula el flujo total al vencimiento (amortización más intereses devengados hasta self.end_date).\n",
    "        \n",
    "        Los valores de las  tasas overnight deben estar almacenados en la variable `fixings`.\n",
    "        \n",
    "        Ver la documentación de `QC_Financial_3` para el uso y funcionamiento de los objetos\n",
    "        de tipo Qcf.time_series.\n",
    "        \"\"\"\n",
    "        end_date = self.end_date\n",
    "        intereses = ois.get_accrued_interest(end_date,fixings)\n",
    "        amortizacion = self.amortization\n",
    "        print(amortizacion)\n",
    "        print(intereses)\n",
    "        flujo_total = amortizacion + intereses\n",
    "        \n",
    "        return flujo_total\n",
    "    \n",
    " #   def test(self):\n",
    "     #   return 'test'\n",
    "    \n",
    "    #def test1(self, x: float):\n",
    "        #if x == 0:\n",
    "         #   raise ValueError('x debe ser != 0')\n",
    "        #return 1 / x\n",
    "    \n",
    "   # def test2(self, x: float):\n",
    "       # return self.test1(x) + 1\n",
    "    \n",
    "    #def test3(self, x: float):\n",
    "     #   return x + self.notional"
   ]
  },
  {
   "cell_type": "markdown",
   "metadata": {},
   "source": [
    "Construcción de un objeto `Qcf.InterestRateIndex`."
   ]
  },
  {
   "cell_type": "code",
   "execution_count": 7,
   "metadata": {
    "ExecuteTime": {
     "end_time": "2020-11-29T13:20:45.020617Z",
     "start_time": "2020-11-29T13:20:45.013853Z"
    }
   },
   "outputs": [],
   "source": [
    "codigo = 'SOFR'\n",
    "tasa_on = Qcf.QCInterestRate(.0, Qcf.QCAct360(), Qcf.QCLinearWf())\n",
    "fixing_lag = Qcf.Tenor('0d')\n",
    "tenor = Qcf.Tenor('1d')\n",
    "fixing_calendar = get_cal(BusCal.NY)     \n",
    "settlement_calendar = fixing_calendar  \n",
    "sofr = Qcf.InterestRateIndex(\n",
    "    codigo,\n",
    "    tasa_on,\n",
    "    fixing_lag,\n",
    "    tenor,\n",
    "    fixing_calendar,\n",
    "    settlement_calendar,\n",
    "    Qcf.QCUSD()\n",
    ")"
   ]
  },
  {
   "cell_type": "code",
   "execution_count": 8,
   "metadata": {
    "ExecuteTime": {
     "end_time": "2020-11-29T13:20:47.947384Z",
     "start_time": "2020-11-29T13:20:47.939235Z"
    }
   },
   "outputs": [
    {
     "name": "stdout",
     "output_type": "stream",
     "text": [
      "fecha inicial: 1-10-2019\n",
      "fecha final: 28-10-2020\n"
     ]
    }
   ],
   "source": [
    "#Extrae del data frame fecha inicial y fecha final\n",
    "day_i = df[\"fecha_inicial\"].iloc[0].day\n",
    "month_i = df[\"fecha_inicial\"].iloc[0].month\n",
    "year_i = df[\"fecha_inicial\"].iloc[0].year\n",
    "\n",
    "day_f = df[\"fecha_inicial\"].iloc[-1].day\n",
    "month_f = df[\"fecha_inicial\"].iloc[-1].month\n",
    "year_f = df[\"fecha_inicial\"].iloc[-1].year\n",
    "\n",
    "start_date = Qcf.QCDate(day_i,month_i,year_i)\n",
    "end_date = Qcf.QCDate(day_f,month_f,year_f)\n",
    "\n",
    "print(\"fecha inicial:\", start_date)\n",
    "print(\"fecha final:\", end_date)"
   ]
  },
  {
   "cell_type": "markdown",
   "metadata": {},
   "source": [
    "Construcción de una instancia de `OisCashflow`."
   ]
  },
  {
   "cell_type": "code",
   "execution_count": 9,
   "metadata": {
    "ExecuteTime": {
     "end_time": "2020-11-29T13:20:51.499835Z",
     "start_time": "2020-11-29T13:20:51.493116Z"
    }
   },
   "outputs": [],
   "source": [
    "ois = OisCashflow(\n",
    "    start_date,\n",
    "    end_date,\n",
    "    end_date,\n",
    "    10000000,\n",
    "    Qcf.QCUSD(),\n",
    "    10000000,\n",
    "    True,\n",
    "    Qcf.QCInterestRate(0.1, Qcf.QCAct360(), Qcf.QCLinearWf()),\n",
    "    sofr,\n",
    "    0,\n",
    "    1\n",
    ")"
   ]
  },
  {
   "cell_type": "code",
   "execution_count": 10,
   "metadata": {
    "ExecuteTime": {
     "end_time": "2020-11-29T13:20:54.605735Z",
     "start_time": "2020-11-29T13:20:54.568102Z"
    }
   },
   "outputs": [
    {
     "name": "stdout",
     "output_type": "stream",
     "text": [
      "0.018799999999999997\n"
     ]
    }
   ],
   "source": [
    "#Tasas overnight\n",
    "tasas_ois = Qcf.time_series()\n",
    "\n",
    "for i in range(len(df)):\n",
    "    dia = df[\"fecha_inicial\"][i].day\n",
    "    mes = df[\"fecha_inicial\"][i].month\n",
    "    año = df[\"fecha_inicial\"][i].year\n",
    "    fecha = Qcf.QCDate(dia,mes,año)\n",
    "    tasas_ois[fecha] = df[\"tasas_ois\"][i]/100\n",
    "    \n",
    "print(tasas_ois[ois.start_date])"
   ]
  },
  {
   "cell_type": "code",
   "execution_count": 11,
   "metadata": {
    "ExecuteTime": {
     "end_time": "2020-11-29T13:20:57.028184Z",
     "start_time": "2020-11-29T13:20:57.014692Z"
    }
   },
   "outputs": [
    {
     "name": "stdout",
     "output_type": "stream",
     "text": [
      "10000000\n",
      "78517.17779091328\n",
      "La fecha de devengo es: 28-10-2020\n",
      "Tasa equivalente: 0.71924132%\n",
      "Los intereses son de 78,517.18 USD con un nocional de 10,000,000.00\n",
      "Flujo total: 10,078,517.18 USD\n"
     ]
    }
   ],
   "source": [
    "#Resultados de las 3 primeras funciones\n",
    "\n",
    "accrual_date = Qcf.QCDate(28,10,2020)\n",
    "nocional = ois.notional\n",
    "tasa_equi = ois.get_accrued_rate(accrual_date,tasas_ois)\n",
    "intereses = ois.get_accrued_interest(accrual_date,tasas_ois)\n",
    "flujo_total = ois.amount(tasas_ois)\n",
    "\n",
    "print(\"La fecha de devengo es:\",accrual_date)\n",
    "print(f'Tasa equivalente: {tasa_equi:.8%}')\n",
    "print(f'Los intereses son de {intereses:,.2f} USD con un nocional de {nocional:,.2f}')\n",
    "print(f'Flujo total: {flujo_total:,.2f} USD')"
   ]
  },
  {
   "cell_type": "markdown",
   "metadata": {},
   "source": [
    "## Funciones"
   ]
  },
  {
   "cell_type": "code",
   "execution_count": 12,
   "metadata": {
    "ExecuteTime": {
     "end_time": "2020-11-29T13:21:02.005144Z",
     "start_time": "2020-11-29T13:21:02.000731Z"
    }
   },
   "outputs": [],
   "source": [
    "frmt = {'rate_value': '{:.8%}', 'valor_tasa': '{:.8%}',\n",
    "        'nominal': '{:,.2f}', 'amortizacion': '{:,.2f}',\n",
    "        'interes': '{:,.2f}', 'flujo': '{:,.2f}'\n",
    "       }"
   ]
  },
  {
   "cell_type": "code",
   "execution_count": 14,
   "metadata": {
    "ExecuteTime": {
     "end_time": "2020-11-29T13:21:08.214003Z",
     "start_time": "2020-11-29T13:21:08.131402Z"
    }
   },
   "outputs": [
    {
     "data": {
      "text/html": [
       "<style  type=\"text/css\" >\n",
       "</style><table id=\"T_bdb4f83a_3245_11eb_a3d0_02cba411ec9d\" ><thead>    <tr>        <th class=\"blank level0\" ></th>        <th class=\"col_heading level0 col0\" >plazo</th>        <th class=\"col_heading level0 col1\" >tasa</th>        <th class=\"col_heading level0 col2\" >df</th>    </tr></thead><tbody>\n",
       "                <tr>\n",
       "                        <th id=\"T_bdb4f83a_3245_11eb_a3d0_02cba411ec9dlevel0_row0\" class=\"row_heading level0 row0\" >0</th>\n",
       "                        <td id=\"T_bdb4f83a_3245_11eb_a3d0_02cba411ec9drow0_col0\" class=\"data row0 col0\" >1</td>\n",
       "                        <td id=\"T_bdb4f83a_3245_11eb_a3d0_02cba411ec9drow0_col1\" class=\"data row0 col1\" >0.000811</td>\n",
       "                        <td id=\"T_bdb4f83a_3245_11eb_a3d0_02cba411ec9drow0_col2\" class=\"data row0 col2\" >0.999998</td>\n",
       "            </tr>\n",
       "            <tr>\n",
       "                        <th id=\"T_bdb4f83a_3245_11eb_a3d0_02cba411ec9dlevel0_row1\" class=\"row_heading level0 row1\" >1</th>\n",
       "                        <td id=\"T_bdb4f83a_3245_11eb_a3d0_02cba411ec9drow1_col0\" class=\"data row1 col0\" >7</td>\n",
       "                        <td id=\"T_bdb4f83a_3245_11eb_a3d0_02cba411ec9drow1_col1\" class=\"data row1 col1\" >0.000841</td>\n",
       "                        <td id=\"T_bdb4f83a_3245_11eb_a3d0_02cba411ec9drow1_col2\" class=\"data row1 col2\" >0.999984</td>\n",
       "            </tr>\n",
       "            <tr>\n",
       "                        <th id=\"T_bdb4f83a_3245_11eb_a3d0_02cba411ec9dlevel0_row2\" class=\"row_heading level0 row2\" >2</th>\n",
       "                        <td id=\"T_bdb4f83a_3245_11eb_a3d0_02cba411ec9drow2_col0\" class=\"data row2 col0\" >14</td>\n",
       "                        <td id=\"T_bdb4f83a_3245_11eb_a3d0_02cba411ec9drow2_col1\" class=\"data row2 col1\" >0.000780</td>\n",
       "                        <td id=\"T_bdb4f83a_3245_11eb_a3d0_02cba411ec9drow2_col2\" class=\"data row2 col2\" >0.999970</td>\n",
       "            </tr>\n",
       "            <tr>\n",
       "                        <th id=\"T_bdb4f83a_3245_11eb_a3d0_02cba411ec9dlevel0_row3\" class=\"row_heading level0 row3\" >3</th>\n",
       "                        <td id=\"T_bdb4f83a_3245_11eb_a3d0_02cba411ec9drow3_col0\" class=\"data row3 col0\" >21</td>\n",
       "                        <td id=\"T_bdb4f83a_3245_11eb_a3d0_02cba411ec9drow3_col1\" class=\"data row3 col1\" >0.000774</td>\n",
       "                        <td id=\"T_bdb4f83a_3245_11eb_a3d0_02cba411ec9drow3_col2\" class=\"data row3 col2\" >0.999955</td>\n",
       "            </tr>\n",
       "            <tr>\n",
       "                        <th id=\"T_bdb4f83a_3245_11eb_a3d0_02cba411ec9dlevel0_row4\" class=\"row_heading level0 row4\" >4</th>\n",
       "                        <td id=\"T_bdb4f83a_3245_11eb_a3d0_02cba411ec9drow4_col0\" class=\"data row4 col0\" >33</td>\n",
       "                        <td id=\"T_bdb4f83a_3245_11eb_a3d0_02cba411ec9drow4_col1\" class=\"data row4 col1\" >0.000781</td>\n",
       "                        <td id=\"T_bdb4f83a_3245_11eb_a3d0_02cba411ec9drow4_col2\" class=\"data row4 col2\" >0.999929</td>\n",
       "            </tr>\n",
       "            <tr>\n",
       "                        <th id=\"T_bdb4f83a_3245_11eb_a3d0_02cba411ec9dlevel0_row5\" class=\"row_heading level0 row5\" >5</th>\n",
       "                        <td id=\"T_bdb4f83a_3245_11eb_a3d0_02cba411ec9drow5_col0\" class=\"data row5 col0\" >61</td>\n",
       "                        <td id=\"T_bdb4f83a_3245_11eb_a3d0_02cba411ec9drow5_col1\" class=\"data row5 col1\" >0.000781</td>\n",
       "                        <td id=\"T_bdb4f83a_3245_11eb_a3d0_02cba411ec9drow5_col2\" class=\"data row5 col2\" >0.999870</td>\n",
       "            </tr>\n",
       "            <tr>\n",
       "                        <th id=\"T_bdb4f83a_3245_11eb_a3d0_02cba411ec9dlevel0_row6\" class=\"row_heading level0 row6\" >6</th>\n",
       "                        <td id=\"T_bdb4f83a_3245_11eb_a3d0_02cba411ec9drow6_col0\" class=\"data row6 col0\" >92</td>\n",
       "                        <td id=\"T_bdb4f83a_3245_11eb_a3d0_02cba411ec9drow6_col1\" class=\"data row6 col1\" >0.000811</td>\n",
       "                        <td id=\"T_bdb4f83a_3245_11eb_a3d0_02cba411ec9drow6_col2\" class=\"data row6 col2\" >0.999796</td>\n",
       "            </tr>\n",
       "            <tr>\n",
       "                        <th id=\"T_bdb4f83a_3245_11eb_a3d0_02cba411ec9dlevel0_row7\" class=\"row_heading level0 row7\" >7</th>\n",
       "                        <td id=\"T_bdb4f83a_3245_11eb_a3d0_02cba411ec9drow7_col0\" class=\"data row7 col0\" >125</td>\n",
       "                        <td id=\"T_bdb4f83a_3245_11eb_a3d0_02cba411ec9drow7_col1\" class=\"data row7 col1\" >0.000781</td>\n",
       "                        <td id=\"T_bdb4f83a_3245_11eb_a3d0_02cba411ec9drow7_col2\" class=\"data row7 col2\" >0.999733</td>\n",
       "            </tr>\n",
       "            <tr>\n",
       "                        <th id=\"T_bdb4f83a_3245_11eb_a3d0_02cba411ec9dlevel0_row8\" class=\"row_heading level0 row8\" >8</th>\n",
       "                        <td id=\"T_bdb4f83a_3245_11eb_a3d0_02cba411ec9drow8_col0\" class=\"data row8 col0\" >152</td>\n",
       "                        <td id=\"T_bdb4f83a_3245_11eb_a3d0_02cba411ec9drow8_col1\" class=\"data row8 col1\" >0.000760</td>\n",
       "                        <td id=\"T_bdb4f83a_3245_11eb_a3d0_02cba411ec9drow8_col2\" class=\"data row8 col2\" >0.999683</td>\n",
       "            </tr>\n",
       "            <tr>\n",
       "                        <th id=\"T_bdb4f83a_3245_11eb_a3d0_02cba411ec9dlevel0_row9\" class=\"row_heading level0 row9\" >9</th>\n",
       "                        <td id=\"T_bdb4f83a_3245_11eb_a3d0_02cba411ec9drow9_col0\" class=\"data row9 col0\" >182</td>\n",
       "                        <td id=\"T_bdb4f83a_3245_11eb_a3d0_02cba411ec9drow9_col1\" class=\"data row9 col1\" >0.000750</td>\n",
       "                        <td id=\"T_bdb4f83a_3245_11eb_a3d0_02cba411ec9drow9_col2\" class=\"data row9 col2\" >0.999626</td>\n",
       "            </tr>\n",
       "            <tr>\n",
       "                        <th id=\"T_bdb4f83a_3245_11eb_a3d0_02cba411ec9dlevel0_row10\" class=\"row_heading level0 row10\" >10</th>\n",
       "                        <td id=\"T_bdb4f83a_3245_11eb_a3d0_02cba411ec9drow10_col0\" class=\"data row10 col0\" >212</td>\n",
       "                        <td id=\"T_bdb4f83a_3245_11eb_a3d0_02cba411ec9drow10_col1\" class=\"data row10 col1\" >0.000736</td>\n",
       "                        <td id=\"T_bdb4f83a_3245_11eb_a3d0_02cba411ec9drow10_col2\" class=\"data row10 col2\" >0.999573</td>\n",
       "            </tr>\n",
       "            <tr>\n",
       "                        <th id=\"T_bdb4f83a_3245_11eb_a3d0_02cba411ec9dlevel0_row11\" class=\"row_heading level0 row11\" >11</th>\n",
       "                        <td id=\"T_bdb4f83a_3245_11eb_a3d0_02cba411ec9drow11_col0\" class=\"data row11 col0\" >243</td>\n",
       "                        <td id=\"T_bdb4f83a_3245_11eb_a3d0_02cba411ec9drow11_col1\" class=\"data row11 col1\" >0.000725</td>\n",
       "                        <td id=\"T_bdb4f83a_3245_11eb_a3d0_02cba411ec9drow11_col2\" class=\"data row11 col2\" >0.999518</td>\n",
       "            </tr>\n",
       "            <tr>\n",
       "                        <th id=\"T_bdb4f83a_3245_11eb_a3d0_02cba411ec9dlevel0_row12\" class=\"row_heading level0 row12\" >12</th>\n",
       "                        <td id=\"T_bdb4f83a_3245_11eb_a3d0_02cba411ec9drow12_col0\" class=\"data row12 col0\" >273</td>\n",
       "                        <td id=\"T_bdb4f83a_3245_11eb_a3d0_02cba411ec9drow12_col1\" class=\"data row12 col1\" >0.000720</td>\n",
       "                        <td id=\"T_bdb4f83a_3245_11eb_a3d0_02cba411ec9drow12_col2\" class=\"data row12 col2\" >0.999462</td>\n",
       "            </tr>\n",
       "            <tr>\n",
       "                        <th id=\"T_bdb4f83a_3245_11eb_a3d0_02cba411ec9dlevel0_row13\" class=\"row_heading level0 row13\" >13</th>\n",
       "                        <td id=\"T_bdb4f83a_3245_11eb_a3d0_02cba411ec9drow13_col0\" class=\"data row13 col0\" >306</td>\n",
       "                        <td id=\"T_bdb4f83a_3245_11eb_a3d0_02cba411ec9drow13_col1\" class=\"data row13 col1\" >0.000714</td>\n",
       "                        <td id=\"T_bdb4f83a_3245_11eb_a3d0_02cba411ec9drow13_col2\" class=\"data row13 col2\" >0.999402</td>\n",
       "            </tr>\n",
       "            <tr>\n",
       "                        <th id=\"T_bdb4f83a_3245_11eb_a3d0_02cba411ec9dlevel0_row14\" class=\"row_heading level0 row14\" >14</th>\n",
       "                        <td id=\"T_bdb4f83a_3245_11eb_a3d0_02cba411ec9drow14_col0\" class=\"data row14 col0\" >335</td>\n",
       "                        <td id=\"T_bdb4f83a_3245_11eb_a3d0_02cba411ec9drow14_col1\" class=\"data row14 col1\" >0.000708</td>\n",
       "                        <td id=\"T_bdb4f83a_3245_11eb_a3d0_02cba411ec9drow14_col2\" class=\"data row14 col2\" >0.999350</td>\n",
       "            </tr>\n",
       "            <tr>\n",
       "                        <th id=\"T_bdb4f83a_3245_11eb_a3d0_02cba411ec9dlevel0_row15\" class=\"row_heading level0 row15\" >15</th>\n",
       "                        <td id=\"T_bdb4f83a_3245_11eb_a3d0_02cba411ec9drow15_col0\" class=\"data row15 col0\" >365</td>\n",
       "                        <td id=\"T_bdb4f83a_3245_11eb_a3d0_02cba411ec9drow15_col1\" class=\"data row15 col1\" >0.000702</td>\n",
       "                        <td id=\"T_bdb4f83a_3245_11eb_a3d0_02cba411ec9drow15_col2\" class=\"data row15 col2\" >0.999298</td>\n",
       "            </tr>\n",
       "            <tr>\n",
       "                        <th id=\"T_bdb4f83a_3245_11eb_a3d0_02cba411ec9dlevel0_row16\" class=\"row_heading level0 row16\" >16</th>\n",
       "                        <td id=\"T_bdb4f83a_3245_11eb_a3d0_02cba411ec9drow16_col0\" class=\"data row16 col0\" >547</td>\n",
       "                        <td id=\"T_bdb4f83a_3245_11eb_a3d0_02cba411ec9drow16_col1\" class=\"data row16 col1\" >0.000642</td>\n",
       "                        <td id=\"T_bdb4f83a_3245_11eb_a3d0_02cba411ec9drow16_col2\" class=\"data row16 col2\" >0.999039</td>\n",
       "            </tr>\n",
       "            <tr>\n",
       "                        <th id=\"T_bdb4f83a_3245_11eb_a3d0_02cba411ec9dlevel0_row17\" class=\"row_heading level0 row17\" >17</th>\n",
       "                        <td id=\"T_bdb4f83a_3245_11eb_a3d0_02cba411ec9drow17_col0\" class=\"data row17 col0\" >730</td>\n",
       "                        <td id=\"T_bdb4f83a_3245_11eb_a3d0_02cba411ec9drow17_col1\" class=\"data row17 col1\" >0.000568</td>\n",
       "                        <td id=\"T_bdb4f83a_3245_11eb_a3d0_02cba411ec9drow17_col2\" class=\"data row17 col2\" >0.998865</td>\n",
       "            </tr>\n",
       "            <tr>\n",
       "                        <th id=\"T_bdb4f83a_3245_11eb_a3d0_02cba411ec9dlevel0_row18\" class=\"row_heading level0 row18\" >18</th>\n",
       "                        <td id=\"T_bdb4f83a_3245_11eb_a3d0_02cba411ec9drow18_col0\" class=\"data row18 col0\" >1097</td>\n",
       "                        <td id=\"T_bdb4f83a_3245_11eb_a3d0_02cba411ec9drow18_col1\" class=\"data row18 col1\" >0.000750</td>\n",
       "                        <td id=\"T_bdb4f83a_3245_11eb_a3d0_02cba411ec9drow18_col2\" class=\"data row18 col2\" >0.997748</td>\n",
       "            </tr>\n",
       "            <tr>\n",
       "                        <th id=\"T_bdb4f83a_3245_11eb_a3d0_02cba411ec9dlevel0_row19\" class=\"row_heading level0 row19\" >19</th>\n",
       "                        <td id=\"T_bdb4f83a_3245_11eb_a3d0_02cba411ec9drow19_col0\" class=\"data row19 col0\" >1462</td>\n",
       "                        <td id=\"T_bdb4f83a_3245_11eb_a3d0_02cba411ec9drow19_col1\" class=\"data row19 col1\" >0.001258</td>\n",
       "                        <td id=\"T_bdb4f83a_3245_11eb_a3d0_02cba411ec9drow19_col2\" class=\"data row19 col2\" >0.994976</td>\n",
       "            </tr>\n",
       "            <tr>\n",
       "                        <th id=\"T_bdb4f83a_3245_11eb_a3d0_02cba411ec9dlevel0_row20\" class=\"row_heading level0 row20\" >20</th>\n",
       "                        <td id=\"T_bdb4f83a_3245_11eb_a3d0_02cba411ec9drow20_col0\" class=\"data row20 col0\" >1826</td>\n",
       "                        <td id=\"T_bdb4f83a_3245_11eb_a3d0_02cba411ec9drow20_col1\" class=\"data row20 col1\" >0.001939</td>\n",
       "                        <td id=\"T_bdb4f83a_3245_11eb_a3d0_02cba411ec9drow20_col2\" class=\"data row20 col2\" >0.990348</td>\n",
       "            </tr>\n",
       "            <tr>\n",
       "                        <th id=\"T_bdb4f83a_3245_11eb_a3d0_02cba411ec9dlevel0_row21\" class=\"row_heading level0 row21\" >21</th>\n",
       "                        <td id=\"T_bdb4f83a_3245_11eb_a3d0_02cba411ec9drow21_col0\" class=\"data row21 col0\" >2191</td>\n",
       "                        <td id=\"T_bdb4f83a_3245_11eb_a3d0_02cba411ec9drow21_col1\" class=\"data row21 col1\" >0.002775</td>\n",
       "                        <td id=\"T_bdb4f83a_3245_11eb_a3d0_02cba411ec9drow21_col2\" class=\"data row21 col2\" >0.983483</td>\n",
       "            </tr>\n",
       "            <tr>\n",
       "                        <th id=\"T_bdb4f83a_3245_11eb_a3d0_02cba411ec9dlevel0_row22\" class=\"row_heading level0 row22\" >22</th>\n",
       "                        <td id=\"T_bdb4f83a_3245_11eb_a3d0_02cba411ec9drow22_col0\" class=\"data row22 col0\" >2556</td>\n",
       "                        <td id=\"T_bdb4f83a_3245_11eb_a3d0_02cba411ec9drow22_col1\" class=\"data row22 col1\" >0.003603</td>\n",
       "                        <td id=\"T_bdb4f83a_3245_11eb_a3d0_02cba411ec9drow22_col2\" class=\"data row22 col2\" >0.975082</td>\n",
       "            </tr>\n",
       "            <tr>\n",
       "                        <th id=\"T_bdb4f83a_3245_11eb_a3d0_02cba411ec9dlevel0_row23\" class=\"row_heading level0 row23\" >23</th>\n",
       "                        <td id=\"T_bdb4f83a_3245_11eb_a3d0_02cba411ec9drow23_col0\" class=\"data row23 col0\" >2924</td>\n",
       "                        <td id=\"T_bdb4f83a_3245_11eb_a3d0_02cba411ec9drow23_col1\" class=\"data row23 col1\" >0.004384</td>\n",
       "                        <td id=\"T_bdb4f83a_3245_11eb_a3d0_02cba411ec9drow23_col2\" class=\"data row23 col2\" >0.965489</td>\n",
       "            </tr>\n",
       "            <tr>\n",
       "                        <th id=\"T_bdb4f83a_3245_11eb_a3d0_02cba411ec9dlevel0_row24\" class=\"row_heading level0 row24\" >24</th>\n",
       "                        <td id=\"T_bdb4f83a_3245_11eb_a3d0_02cba411ec9drow24_col0\" class=\"data row24 col0\" >3288</td>\n",
       "                        <td id=\"T_bdb4f83a_3245_11eb_a3d0_02cba411ec9drow24_col1\" class=\"data row24 col1\" >0.005117</td>\n",
       "                        <td id=\"T_bdb4f83a_3245_11eb_a3d0_02cba411ec9drow24_col2\" class=\"data row24 col2\" >0.954953</td>\n",
       "            </tr>\n",
       "            <tr>\n",
       "                        <th id=\"T_bdb4f83a_3245_11eb_a3d0_02cba411ec9dlevel0_row25\" class=\"row_heading level0 row25\" >25</th>\n",
       "                        <td id=\"T_bdb4f83a_3245_11eb_a3d0_02cba411ec9drow25_col0\" class=\"data row25 col0\" >3653</td>\n",
       "                        <td id=\"T_bdb4f83a_3245_11eb_a3d0_02cba411ec9drow25_col1\" class=\"data row25 col1\" >0.005812</td>\n",
       "                        <td id=\"T_bdb4f83a_3245_11eb_a3d0_02cba411ec9drow25_col2\" class=\"data row25 col2\" >0.943495</td>\n",
       "            </tr>\n",
       "            <tr>\n",
       "                        <th id=\"T_bdb4f83a_3245_11eb_a3d0_02cba411ec9dlevel0_row26\" class=\"row_heading level0 row26\" >26</th>\n",
       "                        <td id=\"T_bdb4f83a_3245_11eb_a3d0_02cba411ec9drow26_col0\" class=\"data row26 col0\" >4383</td>\n",
       "                        <td id=\"T_bdb4f83a_3245_11eb_a3d0_02cba411ec9drow26_col1\" class=\"data row26 col1\" >0.006917</td>\n",
       "                        <td id=\"T_bdb4f83a_3245_11eb_a3d0_02cba411ec9drow26_col2\" class=\"data row26 col2\" >0.920290</td>\n",
       "            </tr>\n",
       "            <tr>\n",
       "                        <th id=\"T_bdb4f83a_3245_11eb_a3d0_02cba411ec9dlevel0_row27\" class=\"row_heading level0 row27\" >27</th>\n",
       "                        <td id=\"T_bdb4f83a_3245_11eb_a3d0_02cba411ec9drow27_col0\" class=\"data row27 col0\" >5479</td>\n",
       "                        <td id=\"T_bdb4f83a_3245_11eb_a3d0_02cba411ec9drow27_col1\" class=\"data row27 col1\" >0.008064</td>\n",
       "                        <td id=\"T_bdb4f83a_3245_11eb_a3d0_02cba411ec9drow27_col2\" class=\"data row27 col2\" >0.885997</td>\n",
       "            </tr>\n",
       "            <tr>\n",
       "                        <th id=\"T_bdb4f83a_3245_11eb_a3d0_02cba411ec9dlevel0_row28\" class=\"row_heading level0 row28\" >28</th>\n",
       "                        <td id=\"T_bdb4f83a_3245_11eb_a3d0_02cba411ec9drow28_col0\" class=\"data row28 col0\" >7306</td>\n",
       "                        <td id=\"T_bdb4f83a_3245_11eb_a3d0_02cba411ec9drow28_col1\" class=\"data row28 col1\" >0.009253</td>\n",
       "                        <td id=\"T_bdb4f83a_3245_11eb_a3d0_02cba411ec9drow28_col2\" class=\"data row28 col2\" >0.830924</td>\n",
       "            </tr>\n",
       "            <tr>\n",
       "                        <th id=\"T_bdb4f83a_3245_11eb_a3d0_02cba411ec9dlevel0_row29\" class=\"row_heading level0 row29\" >29</th>\n",
       "                        <td id=\"T_bdb4f83a_3245_11eb_a3d0_02cba411ec9drow29_col0\" class=\"data row29 col0\" >9133</td>\n",
       "                        <td id=\"T_bdb4f83a_3245_11eb_a3d0_02cba411ec9drow29_col1\" class=\"data row29 col1\" >0.009657</td>\n",
       "                        <td id=\"T_bdb4f83a_3245_11eb_a3d0_02cba411ec9drow29_col2\" class=\"data row29 col2\" >0.785338</td>\n",
       "            </tr>\n",
       "            <tr>\n",
       "                        <th id=\"T_bdb4f83a_3245_11eb_a3d0_02cba411ec9dlevel0_row30\" class=\"row_heading level0 row30\" >30</th>\n",
       "                        <td id=\"T_bdb4f83a_3245_11eb_a3d0_02cba411ec9drow30_col0\" class=\"data row30 col0\" >10957</td>\n",
       "                        <td id=\"T_bdb4f83a_3245_11eb_a3d0_02cba411ec9drow30_col1\" class=\"data row30 col1\" >0.009881</td>\n",
       "                        <td id=\"T_bdb4f83a_3245_11eb_a3d0_02cba411ec9drow30_col2\" class=\"data row30 col2\" >0.743326</td>\n",
       "            </tr>\n",
       "            <tr>\n",
       "                        <th id=\"T_bdb4f83a_3245_11eb_a3d0_02cba411ec9dlevel0_row31\" class=\"row_heading level0 row31\" >31</th>\n",
       "                        <td id=\"T_bdb4f83a_3245_11eb_a3d0_02cba411ec9drow31_col0\" class=\"data row31 col0\" >14610</td>\n",
       "                        <td id=\"T_bdb4f83a_3245_11eb_a3d0_02cba411ec9drow31_col1\" class=\"data row31 col1\" >0.009408</td>\n",
       "                        <td id=\"T_bdb4f83a_3245_11eb_a3d0_02cba411ec9drow31_col2\" class=\"data row31 col2\" >0.686197</td>\n",
       "            </tr>\n",
       "            <tr>\n",
       "                        <th id=\"T_bdb4f83a_3245_11eb_a3d0_02cba411ec9dlevel0_row32\" class=\"row_heading level0 row32\" >32</th>\n",
       "                        <td id=\"T_bdb4f83a_3245_11eb_a3d0_02cba411ec9drow32_col0\" class=\"data row32 col0\" >18262</td>\n",
       "                        <td id=\"T_bdb4f83a_3245_11eb_a3d0_02cba411ec9drow32_col1\" class=\"data row32 col1\" >0.008464</td>\n",
       "                        <td id=\"T_bdb4f83a_3245_11eb_a3d0_02cba411ec9drow32_col2\" class=\"data row32 col2\" >0.654757</td>\n",
       "            </tr>\n",
       "    </tbody></table>"
      ],
      "text/plain": [
       "<pandas.io.formats.style.Styler at 0x7f724cb9bb70>"
      ]
     },
     "execution_count": 14,
     "metadata": {},
     "output_type": "execute_result"
    }
   ],
   "source": [
    "df_curva = pd.read_excel('../data/20201012_built_sofr_zero.xlsx')\n",
    "df_curva.style.format(frmt)"
   ]
  },
  {
   "cell_type": "code",
   "execution_count": 15,
   "metadata": {
    "ExecuteTime": {
     "end_time": "2020-11-29T13:21:11.857529Z",
     "start_time": "2020-11-29T13:21:11.851725Z"
    }
   },
   "outputs": [],
   "source": [
    "val_date = Qcf.QCDate(28,10,2020)\n",
    "zcc = aux.get_curve_from_dataframe(Qcf.QCAct365(),Qcf.QCCompoundWf(), df_curva)"
   ]
  },
  {
   "cell_type": "code",
   "execution_count": 16,
   "metadata": {
    "ExecuteTime": {
     "end_time": "2020-11-29T13:21:16.182901Z",
     "start_time": "2020-11-29T13:21:16.173075Z"
    }
   },
   "outputs": [],
   "source": [
    "def set_expected_rate(\n",
    "        val_date: Qcf.QCDate,\n",
    "        ois_cashflow: OisCashflow,\n",
    "        zcc: Qcf.ZeroCouponCurve,\n",
    "        fixings: Qcf.time_series) -> None:\n",
    "    \"\"\"\n",
    "    Esta función opera de la misma forma que la análoga función de `QC_Financial_3`.\n",
    "    Ver por ejemplo los casos cuando usamos el objeto Qcf.ForwardRates() en\n",
    "    el notebook 9.\n",
    "    \"\"\"\n",
    "    start_date = ois_cashflow.start_date\n",
    "    end_date = ois_cashflow.end_date\n",
    "    plazo = val_date.day_diff(end_date) \n",
    "    \n",
    "    if val_date > end_date:\n",
    "        return print(\"Fecha de evaluación debe ser menor o igual a la fecha de vencimiento\")\n",
    "\n",
    "    #Calculo fixings futuros\n",
    "    \n",
    "    for i in range(plazo):\n",
    "        fecha = val_date.add_days(i)\n",
    "        factor_i = zcc.get_forward_wf(0,i)\n",
    "        factor_i1 = zcc.get_forward_wf(0,i+1)\n",
    "        tasa = (factor_i1/factor_i - 1)*(360/1)\n",
    "        fixings[fecha] = tasa\n",
    "    \n",
    "    tasa_esperada = ois.get_accrued_rate(end_date,fixings)\n",
    "    \n",
    "    return tasa_esperada\n"
   ]
  },
  {
   "cell_type": "code",
   "execution_count": 17,
   "metadata": {
    "ExecuteTime": {
     "end_time": "2020-11-29T13:21:19.377471Z",
     "start_time": "2020-11-29T13:21:19.371709Z"
    }
   },
   "outputs": [],
   "source": [
    "def present_value(val_date: Qcf.QCDate,\n",
    "                  ois_cashflow: OisCashflow,\n",
    "                  zcc: Qcf.ZeroCouponCurve,\n",
    "                  fixings: Qcf.time_series) -> float:\n",
    "    \"\"\"\n",
    "    Esta función opera de la misma forma que la análoga función de `QC_Financial_3`.\n",
    "    Para probar esta función utilizar la data de que está en data/20201012_built_sofr_zero.xlsx.\n",
    "    Para traer a valor presente debes respetar la convención de las tasas de la curva.\n",
    "    \n",
    "    NOTA: la variable ois_cashflow debe haber 'pasado' por la función set_expected_rate para que\n",
    "    tenga los intereses de los fixings futuros.\n",
    "    \"\"\"\n",
    "    \n",
    "    tasa = set_expected_rate(val_date,ois_cashflow,zcc,fixings)\n",
    "    plazo = val_date.day_diff(end_date)\n",
    "    disc_fac = zcc.get_discount_factor_at(plazo)\n",
    "    amortizacion = ois_cashflow.amortization\n",
    "    intereses = tasa*ois_cashflow.notional\n",
    "    flujo_total = amortizacion + intereses\n",
    "    vp = flujo_total*disc_fac\n",
    "    \n",
    "    return vp"
   ]
  },
  {
   "cell_type": "code",
   "execution_count": 18,
   "metadata": {
    "ExecuteTime": {
     "end_time": "2020-11-29T13:21:21.270175Z",
     "start_time": "2020-11-29T13:21:21.264086Z"
    }
   },
   "outputs": [
    {
     "name": "stdout",
     "output_type": "stream",
     "text": [
      "Tasa esperada: 0.71924132% con fecha de valoracion el 28-10-2020\n"
     ]
    }
   ],
   "source": [
    "#Calcular valores presentes y tasa esperada\n",
    "\n",
    "tasa_esperada = set_expected_rate(val_date,\n",
    "                     ois,\n",
    "                     zcc,\n",
    "                     tasas_ois)\n",
    "\n",
    "print(f'Tasa esperada: {tasa_esperada:.8%} con fecha de valoracion el {val_date}')"
   ]
  },
  {
   "cell_type": "code",
   "execution_count": 19,
   "metadata": {
    "ExecuteTime": {
     "end_time": "2020-11-29T13:21:24.490281Z",
     "start_time": "2020-11-29T13:21:24.483104Z"
    }
   },
   "outputs": [
    {
     "name": "stdout",
     "output_type": "stream",
     "text": [
      "Valor presente: 10,071,924.13 USD\n"
     ]
    }
   ],
   "source": [
    "vp = present_value(val_date,\n",
    "                   ois,\n",
    "                   zcc,\n",
    "                   tasas_ois)\n",
    "print(f'Valor presente: {vp:,.2f} USD')"
   ]
  },
  {
   "cell_type": "code",
   "execution_count": 20,
   "metadata": {
    "ExecuteTime": {
     "end_time": "2020-11-29T13:21:25.453031Z",
     "start_time": "2020-11-29T13:21:25.449476Z"
    }
   },
   "outputs": [],
   "source": [
    "#ICP(t0)*wf(t0,t2) = ICP(t2), ICP(t0)*wf(t0,t1) = ICP(t1) -> ICP(t2)/ICP(t1) = ICP(t1,t2)\n",
    "#tasa(t1,t2) = [ICP(t1,t2) - 1]*360/(t2 - t1)\n",
    "# ICP se puede pensar como el account de la tasa de la tasa interbancaria chilena, es el indice overnigth chileno\n",
    "#Cuando  t1 < t0 < t2\n",
    "\n",
    "#Tengo que descontar en el valor presente el flujo que obtengo con la tasa esperada calculada con el set_expected_rate\n",
    "#el factor descuento lo calculo con zcc.get_disc_factor(plazo)\n",
    "#la tasa para el flujo que evaluamos set_expected_rate\n",
    "#flujo total = nocional(1 + tasa_expected)\n",
    "#Tasa expected es mzcla entre fixings y expected deped"
   ]
  },
  {
   "cell_type": "markdown",
   "metadata": {},
   "source": [
    "## Tests"
   ]
  },
  {
   "cell_type": "code",
   "execution_count": 21,
   "metadata": {
    "ExecuteTime": {
     "end_time": "2020-11-29T13:21:28.209831Z",
     "start_time": "2020-11-29T13:21:28.206329Z"
    }
   },
   "outputs": [],
   "source": [
    "import sys\n",
    "sys.path.insert(1, '../modules')\n",
    "import auxiliary as aux"
   ]
  },
  {
   "cell_type": "code",
   "execution_count": 22,
   "metadata": {
    "ExecuteTime": {
     "end_time": "2020-11-29T13:21:31.635703Z",
     "start_time": "2020-11-29T13:21:31.632519Z"
    }
   },
   "outputs": [],
   "source": [
    "amount_tol = 10000\n",
    "rate_tol = .001"
   ]
  },
  {
   "cell_type": "code",
   "execution_count": 23,
   "metadata": {
    "ExecuteTime": {
     "end_time": "2020-11-29T13:21:32.598124Z",
     "start_time": "2020-11-29T13:21:32.594244Z"
    }
   },
   "outputs": [],
   "source": [
    "exitos = 0"
   ]
  },
  {
   "cell_type": "code",
   "execution_count": 24,
   "metadata": {
    "ExecuteTime": {
     "end_time": "2020-11-29T13:21:34.076280Z",
     "start_time": "2020-11-29T13:21:34.069864Z"
    }
   },
   "outputs": [],
   "source": [
    "def suma_exito(resultado, check, tipo):\n",
    "    global exitos\n",
    "    if resultado is None:\n",
    "        return\n",
    "    else:\n",
    "        print('Suma medio punto por obtener resultado.')\n",
    "        exitos += .5\n",
    "        if tipo == 'monto':\n",
    "            if abs(resultado - check) < amount_tol:\n",
    "                print('Suma 1 punto por obtener resultado dentro de la tolerancia.')\n",
    "                exitos += 1\n",
    "        else:\n",
    "            if abs(resultado - check) < rate_tol:\n",
    "                print('Suma 1 punto por obtener resultado dentro de la tolerancia.')\n",
    "                exitos += 1"
   ]
  },
  {
   "cell_type": "markdown",
   "metadata": {},
   "source": [
    "Construcción de una instancia de `OisCashflow`."
   ]
  },
  {
   "cell_type": "code",
   "execution_count": 25,
   "metadata": {
    "ExecuteTime": {
     "end_time": "2020-11-29T13:21:40.442643Z",
     "start_time": "2020-11-29T13:21:40.436981Z"
    }
   },
   "outputs": [],
   "source": [
    "ois = OisCashflow(\n",
    "    Qcf.QCDate(1, 10, 2019),\n",
    "    Qcf.QCDate(1, 10, 2020),\n",
    "    Qcf.QCDate(1, 10, 2020),\n",
    "    10000000,\n",
    "    Qcf.QCUSD(),\n",
    "    1000000,\n",
    "    True,\n",
    "    Qcf.QCInterestRate(0.0, Qcf.QCAct360(), Qcf.QCLinearWf()),\n",
    "    sofr,\n",
    "    0,\n",
    "    1\n",
    ")"
   ]
  },
  {
   "cell_type": "markdown",
   "metadata": {},
   "source": [
    "En la siguiente variable `exitos` se registra cuantos tests se superan con éxito."
   ]
  },
  {
   "cell_type": "markdown",
   "metadata": {},
   "source": [
    "### Objeto `fixings`"
   ]
  },
  {
   "cell_type": "code",
   "execution_count": 26,
   "metadata": {
    "ExecuteTime": {
     "end_time": "2020-11-29T13:21:46.355047Z",
     "start_time": "2020-11-29T13:21:46.329485Z"
    }
   },
   "outputs": [],
   "source": [
    "df_fixings = pd.read_excel('../data/SOFR-10012019-10292020.xls', sheet_name='nice format')\n",
    "df_fixings.columns = ['fecha', 'nombre', 'valor']\n",
    "df_fixings['valor'] /= 100"
   ]
  },
  {
   "cell_type": "code",
   "execution_count": 27,
   "metadata": {
    "ExecuteTime": {
     "end_time": "2020-11-29T13:21:47.258459Z",
     "start_time": "2020-11-29T13:21:47.246880Z"
    }
   },
   "outputs": [
    {
     "data": {
      "text/html": [
       "<style  type=\"text/css\" >\n",
       "</style><table id=\"T_d4fe82c2_3245_11eb_a3d0_02cba411ec9d\" ><thead>    <tr>        <th class=\"blank level0\" ></th>        <th class=\"col_heading level0 col0\" >fecha</th>        <th class=\"col_heading level0 col1\" >nombre</th>        <th class=\"col_heading level0 col2\" >valor</th>    </tr></thead><tbody>\n",
       "                <tr>\n",
       "                        <th id=\"T_d4fe82c2_3245_11eb_a3d0_02cba411ec9dlevel0_row0\" class=\"row_heading level0 row0\" >0</th>\n",
       "                        <td id=\"T_d4fe82c2_3245_11eb_a3d0_02cba411ec9drow0_col0\" class=\"data row0 col0\" >2020-10-28</td>\n",
       "                        <td id=\"T_d4fe82c2_3245_11eb_a3d0_02cba411ec9drow0_col1\" class=\"data row0 col1\" >SOFR</td>\n",
       "                        <td id=\"T_d4fe82c2_3245_11eb_a3d0_02cba411ec9drow0_col2\" class=\"data row0 col2\" >0.0800%</td>\n",
       "            </tr>\n",
       "            <tr>\n",
       "                        <th id=\"T_d4fe82c2_3245_11eb_a3d0_02cba411ec9dlevel0_row1\" class=\"row_heading level0 row1\" >1</th>\n",
       "                        <td id=\"T_d4fe82c2_3245_11eb_a3d0_02cba411ec9drow1_col0\" class=\"data row1 col0\" >2020-10-27</td>\n",
       "                        <td id=\"T_d4fe82c2_3245_11eb_a3d0_02cba411ec9drow1_col1\" class=\"data row1 col1\" >SOFR</td>\n",
       "                        <td id=\"T_d4fe82c2_3245_11eb_a3d0_02cba411ec9drow1_col2\" class=\"data row1 col2\" >0.0900%</td>\n",
       "            </tr>\n",
       "            <tr>\n",
       "                        <th id=\"T_d4fe82c2_3245_11eb_a3d0_02cba411ec9dlevel0_row2\" class=\"row_heading level0 row2\" >2</th>\n",
       "                        <td id=\"T_d4fe82c2_3245_11eb_a3d0_02cba411ec9drow2_col0\" class=\"data row2 col0\" >2020-10-26</td>\n",
       "                        <td id=\"T_d4fe82c2_3245_11eb_a3d0_02cba411ec9drow2_col1\" class=\"data row2 col1\" >SOFR</td>\n",
       "                        <td id=\"T_d4fe82c2_3245_11eb_a3d0_02cba411ec9drow2_col2\" class=\"data row2 col2\" >0.0900%</td>\n",
       "            </tr>\n",
       "            <tr>\n",
       "                        <th id=\"T_d4fe82c2_3245_11eb_a3d0_02cba411ec9dlevel0_row3\" class=\"row_heading level0 row3\" >3</th>\n",
       "                        <td id=\"T_d4fe82c2_3245_11eb_a3d0_02cba411ec9drow3_col0\" class=\"data row3 col0\" >2020-10-23</td>\n",
       "                        <td id=\"T_d4fe82c2_3245_11eb_a3d0_02cba411ec9drow3_col1\" class=\"data row3 col1\" >SOFR</td>\n",
       "                        <td id=\"T_d4fe82c2_3245_11eb_a3d0_02cba411ec9drow3_col2\" class=\"data row3 col2\" >0.0800%</td>\n",
       "            </tr>\n",
       "            <tr>\n",
       "                        <th id=\"T_d4fe82c2_3245_11eb_a3d0_02cba411ec9dlevel0_row4\" class=\"row_heading level0 row4\" >4</th>\n",
       "                        <td id=\"T_d4fe82c2_3245_11eb_a3d0_02cba411ec9drow4_col0\" class=\"data row4 col0\" >2020-10-22</td>\n",
       "                        <td id=\"T_d4fe82c2_3245_11eb_a3d0_02cba411ec9drow4_col1\" class=\"data row4 col1\" >SOFR</td>\n",
       "                        <td id=\"T_d4fe82c2_3245_11eb_a3d0_02cba411ec9drow4_col2\" class=\"data row4 col2\" >0.0700%</td>\n",
       "            </tr>\n",
       "    </tbody></table>"
      ],
      "text/plain": [
       "<pandas.io.formats.style.Styler at 0x7f7238770710>"
      ]
     },
     "execution_count": 27,
     "metadata": {},
     "output_type": "execute_result"
    }
   ],
   "source": [
    "df_fixings.head().style.format({'valor': '{:.4%}'})"
   ]
  },
  {
   "cell_type": "code",
   "execution_count": 28,
   "metadata": {
    "ExecuteTime": {
     "end_time": "2020-11-29T13:21:48.431702Z",
     "start_time": "2020-11-29T13:21:48.415708Z"
    }
   },
   "outputs": [],
   "source": [
    "fixings = Qcf.time_series()\n",
    "for row in df_fixings.itertuples():\n",
    "    fixings[Qcf.build_qcdate_from_string(row.fecha)] = row.valor"
   ]
  },
  {
   "cell_type": "code",
   "execution_count": 29,
   "metadata": {
    "ExecuteTime": {
     "end_time": "2020-11-29T13:21:49.422704Z",
     "start_time": "2020-11-29T13:21:49.416639Z"
    }
   },
   "outputs": [
    {
     "data": {
      "text/plain": [
       "0.0154"
      ]
     },
     "execution_count": 29,
     "metadata": {},
     "output_type": "execute_result"
    }
   ],
   "source": [
    "fixings[Qcf.QCDate(13, 1, 2020)]"
   ]
  },
  {
   "cell_type": "markdown",
   "metadata": {},
   "source": [
    "### `OisCashflow.accrued_rate`"
   ]
  },
  {
   "cell_type": "code",
   "execution_count": 30,
   "metadata": {
    "ExecuteTime": {
     "end_time": "2020-11-29T13:21:52.222780Z",
     "start_time": "2020-11-29T13:21:52.214857Z"
    }
   },
   "outputs": [
    {
     "name": "stdout",
     "output_type": "stream",
     "text": [
      "accrued rate: 1.04766527%\n"
     ]
    }
   ],
   "source": [
    "accrued_rate = ois.get_accrued_rate(Qcf.QCDate(15, 6, 2020), fixings)\n",
    "print(f'accrued rate: {accrued_rate:.8%}')"
   ]
  },
  {
   "cell_type": "markdown",
   "metadata": {},
   "source": [
    "Se verificará el cálculo usando `df_fixings`."
   ]
  },
  {
   "cell_type": "code",
   "execution_count": 31,
   "metadata": {
    "ExecuteTime": {
     "end_time": "2020-11-29T13:21:54.749678Z",
     "start_time": "2020-11-29T13:21:54.741561Z"
    }
   },
   "outputs": [
    {
     "data": {
      "text/html": [
       "<style  type=\"text/css\" >\n",
       "</style><table id=\"T_d975d4c2_3245_11eb_a3d0_02cba411ec9d\" ><thead>    <tr>        <th class=\"blank level0\" ></th>        <th class=\"col_heading level0 col0\" >fecha</th>        <th class=\"col_heading level0 col1\" >nombre</th>        <th class=\"col_heading level0 col2\" >valor</th>    </tr></thead><tbody>\n",
       "                <tr>\n",
       "                        <th id=\"T_d975d4c2_3245_11eb_a3d0_02cba411ec9dlevel0_row0\" class=\"row_heading level0 row0\" >0</th>\n",
       "                        <td id=\"T_d975d4c2_3245_11eb_a3d0_02cba411ec9drow0_col0\" class=\"data row0 col0\" >2020-10-28</td>\n",
       "                        <td id=\"T_d975d4c2_3245_11eb_a3d0_02cba411ec9drow0_col1\" class=\"data row0 col1\" >SOFR</td>\n",
       "                        <td id=\"T_d975d4c2_3245_11eb_a3d0_02cba411ec9drow0_col2\" class=\"data row0 col2\" >0.0800%</td>\n",
       "            </tr>\n",
       "            <tr>\n",
       "                        <th id=\"T_d975d4c2_3245_11eb_a3d0_02cba411ec9dlevel0_row1\" class=\"row_heading level0 row1\" >1</th>\n",
       "                        <td id=\"T_d975d4c2_3245_11eb_a3d0_02cba411ec9drow1_col0\" class=\"data row1 col0\" >2020-10-27</td>\n",
       "                        <td id=\"T_d975d4c2_3245_11eb_a3d0_02cba411ec9drow1_col1\" class=\"data row1 col1\" >SOFR</td>\n",
       "                        <td id=\"T_d975d4c2_3245_11eb_a3d0_02cba411ec9drow1_col2\" class=\"data row1 col2\" >0.0900%</td>\n",
       "            </tr>\n",
       "            <tr>\n",
       "                        <th id=\"T_d975d4c2_3245_11eb_a3d0_02cba411ec9dlevel0_row2\" class=\"row_heading level0 row2\" >2</th>\n",
       "                        <td id=\"T_d975d4c2_3245_11eb_a3d0_02cba411ec9drow2_col0\" class=\"data row2 col0\" >2020-10-26</td>\n",
       "                        <td id=\"T_d975d4c2_3245_11eb_a3d0_02cba411ec9drow2_col1\" class=\"data row2 col1\" >SOFR</td>\n",
       "                        <td id=\"T_d975d4c2_3245_11eb_a3d0_02cba411ec9drow2_col2\" class=\"data row2 col2\" >0.0900%</td>\n",
       "            </tr>\n",
       "            <tr>\n",
       "                        <th id=\"T_d975d4c2_3245_11eb_a3d0_02cba411ec9dlevel0_row3\" class=\"row_heading level0 row3\" >3</th>\n",
       "                        <td id=\"T_d975d4c2_3245_11eb_a3d0_02cba411ec9drow3_col0\" class=\"data row3 col0\" >2020-10-23</td>\n",
       "                        <td id=\"T_d975d4c2_3245_11eb_a3d0_02cba411ec9drow3_col1\" class=\"data row3 col1\" >SOFR</td>\n",
       "                        <td id=\"T_d975d4c2_3245_11eb_a3d0_02cba411ec9drow3_col2\" class=\"data row3 col2\" >0.0800%</td>\n",
       "            </tr>\n",
       "            <tr>\n",
       "                        <th id=\"T_d975d4c2_3245_11eb_a3d0_02cba411ec9dlevel0_row4\" class=\"row_heading level0 row4\" >4</th>\n",
       "                        <td id=\"T_d975d4c2_3245_11eb_a3d0_02cba411ec9drow4_col0\" class=\"data row4 col0\" >2020-10-22</td>\n",
       "                        <td id=\"T_d975d4c2_3245_11eb_a3d0_02cba411ec9drow4_col1\" class=\"data row4 col1\" >SOFR</td>\n",
       "                        <td id=\"T_d975d4c2_3245_11eb_a3d0_02cba411ec9drow4_col2\" class=\"data row4 col2\" >0.0700%</td>\n",
       "            </tr>\n",
       "    </tbody></table>"
      ],
      "text/plain": [
       "<pandas.io.formats.style.Styler at 0x7f7238707cc0>"
      ]
     },
     "execution_count": 31,
     "metadata": {},
     "output_type": "execute_result"
    }
   ],
   "source": [
    "df_fixings.head().style.format({'valor': '{:.4%}'})"
   ]
  },
  {
   "cell_type": "markdown",
   "metadata": {
    "ExecuteTime": {
     "end_time": "2020-11-28T10:46:07.293545Z",
     "start_time": "2020-11-28T10:46:07.285532Z"
    }
   },
   "source": [
    "Se agrega la columna `next_date`, servirá para calcular el factor de capitalización de cada tasa."
   ]
  },
  {
   "cell_type": "code",
   "execution_count": 32,
   "metadata": {
    "ExecuteTime": {
     "end_time": "2020-11-29T13:21:56.109978Z",
     "start_time": "2020-11-29T13:21:56.105442Z"
    }
   },
   "outputs": [],
   "source": [
    "def next_date(fecha:str, calendario: Qcf.BusinessCalendar) -> str:\n",
    "    qfecha = Qcf.build_qcdate_from_string(fecha)\n",
    "    next_fecha = calendario.shift(qfecha, 1)\n",
    "    return next_fecha.description(False)"
   ]
  },
  {
   "cell_type": "code",
   "execution_count": 33,
   "metadata": {
    "ExecuteTime": {
     "end_time": "2020-11-29T13:21:56.999929Z",
     "start_time": "2020-11-29T13:21:56.977065Z"
    }
   },
   "outputs": [],
   "source": [
    "df_fixings['next_fecha'] = df_fixings.apply(\n",
    "    lambda row: next_date(row['fecha'], settlement_calendar),\n",
    "    axis=1\n",
    ")"
   ]
  },
  {
   "cell_type": "code",
   "execution_count": 34,
   "metadata": {
    "ExecuteTime": {
     "end_time": "2020-11-29T13:21:58.677186Z",
     "start_time": "2020-11-29T13:21:58.665344Z"
    }
   },
   "outputs": [
    {
     "data": {
      "text/html": [
       "<style  type=\"text/css\" >\n",
       "</style><table id=\"T_dbccd54a_3245_11eb_a3d0_02cba411ec9d\" ><thead>    <tr>        <th class=\"blank level0\" ></th>        <th class=\"col_heading level0 col0\" >fecha</th>        <th class=\"col_heading level0 col1\" >nombre</th>        <th class=\"col_heading level0 col2\" >valor</th>        <th class=\"col_heading level0 col3\" >next_fecha</th>    </tr></thead><tbody>\n",
       "                <tr>\n",
       "                        <th id=\"T_dbccd54a_3245_11eb_a3d0_02cba411ec9dlevel0_row0\" class=\"row_heading level0 row0\" >0</th>\n",
       "                        <td id=\"T_dbccd54a_3245_11eb_a3d0_02cba411ec9drow0_col0\" class=\"data row0 col0\" >2020-10-28</td>\n",
       "                        <td id=\"T_dbccd54a_3245_11eb_a3d0_02cba411ec9drow0_col1\" class=\"data row0 col1\" >SOFR</td>\n",
       "                        <td id=\"T_dbccd54a_3245_11eb_a3d0_02cba411ec9drow0_col2\" class=\"data row0 col2\" >0.0800%</td>\n",
       "                        <td id=\"T_dbccd54a_3245_11eb_a3d0_02cba411ec9drow0_col3\" class=\"data row0 col3\" >2020-10-29</td>\n",
       "            </tr>\n",
       "            <tr>\n",
       "                        <th id=\"T_dbccd54a_3245_11eb_a3d0_02cba411ec9dlevel0_row1\" class=\"row_heading level0 row1\" >1</th>\n",
       "                        <td id=\"T_dbccd54a_3245_11eb_a3d0_02cba411ec9drow1_col0\" class=\"data row1 col0\" >2020-10-27</td>\n",
       "                        <td id=\"T_dbccd54a_3245_11eb_a3d0_02cba411ec9drow1_col1\" class=\"data row1 col1\" >SOFR</td>\n",
       "                        <td id=\"T_dbccd54a_3245_11eb_a3d0_02cba411ec9drow1_col2\" class=\"data row1 col2\" >0.0900%</td>\n",
       "                        <td id=\"T_dbccd54a_3245_11eb_a3d0_02cba411ec9drow1_col3\" class=\"data row1 col3\" >2020-10-28</td>\n",
       "            </tr>\n",
       "            <tr>\n",
       "                        <th id=\"T_dbccd54a_3245_11eb_a3d0_02cba411ec9dlevel0_row2\" class=\"row_heading level0 row2\" >2</th>\n",
       "                        <td id=\"T_dbccd54a_3245_11eb_a3d0_02cba411ec9drow2_col0\" class=\"data row2 col0\" >2020-10-26</td>\n",
       "                        <td id=\"T_dbccd54a_3245_11eb_a3d0_02cba411ec9drow2_col1\" class=\"data row2 col1\" >SOFR</td>\n",
       "                        <td id=\"T_dbccd54a_3245_11eb_a3d0_02cba411ec9drow2_col2\" class=\"data row2 col2\" >0.0900%</td>\n",
       "                        <td id=\"T_dbccd54a_3245_11eb_a3d0_02cba411ec9drow2_col3\" class=\"data row2 col3\" >2020-10-27</td>\n",
       "            </tr>\n",
       "            <tr>\n",
       "                        <th id=\"T_dbccd54a_3245_11eb_a3d0_02cba411ec9dlevel0_row3\" class=\"row_heading level0 row3\" >3</th>\n",
       "                        <td id=\"T_dbccd54a_3245_11eb_a3d0_02cba411ec9drow3_col0\" class=\"data row3 col0\" >2020-10-23</td>\n",
       "                        <td id=\"T_dbccd54a_3245_11eb_a3d0_02cba411ec9drow3_col1\" class=\"data row3 col1\" >SOFR</td>\n",
       "                        <td id=\"T_dbccd54a_3245_11eb_a3d0_02cba411ec9drow3_col2\" class=\"data row3 col2\" >0.0800%</td>\n",
       "                        <td id=\"T_dbccd54a_3245_11eb_a3d0_02cba411ec9drow3_col3\" class=\"data row3 col3\" >2020-10-26</td>\n",
       "            </tr>\n",
       "            <tr>\n",
       "                        <th id=\"T_dbccd54a_3245_11eb_a3d0_02cba411ec9dlevel0_row4\" class=\"row_heading level0 row4\" >4</th>\n",
       "                        <td id=\"T_dbccd54a_3245_11eb_a3d0_02cba411ec9drow4_col0\" class=\"data row4 col0\" >2020-10-22</td>\n",
       "                        <td id=\"T_dbccd54a_3245_11eb_a3d0_02cba411ec9drow4_col1\" class=\"data row4 col1\" >SOFR</td>\n",
       "                        <td id=\"T_dbccd54a_3245_11eb_a3d0_02cba411ec9drow4_col2\" class=\"data row4 col2\" >0.0700%</td>\n",
       "                        <td id=\"T_dbccd54a_3245_11eb_a3d0_02cba411ec9drow4_col3\" class=\"data row4 col3\" >2020-10-23</td>\n",
       "            </tr>\n",
       "    </tbody></table>"
      ],
      "text/plain": [
       "<pandas.io.formats.style.Styler at 0x7f7238707cf8>"
      ]
     },
     "execution_count": 34,
     "metadata": {},
     "output_type": "execute_result"
    }
   ],
   "source": [
    "df_fixings.head().style.format({'valor': '{:.4%}'})"
   ]
  },
  {
   "cell_type": "markdown",
   "metadata": {},
   "source": [
    "Se calcula ahora el factor de capitalización."
   ]
  },
  {
   "cell_type": "code",
   "execution_count": 35,
   "metadata": {
    "ExecuteTime": {
     "end_time": "2020-11-29T13:21:59.936869Z",
     "start_time": "2020-11-29T13:21:59.930087Z"
    }
   },
   "outputs": [],
   "source": [
    "def factor_cap(fecha: str, next_fecha: str, valor: float) -> float:\n",
    "    qfecha = Qcf.build_qcdate_from_string(fecha)\n",
    "    qnext_fecha = Qcf.build_qcdate_from_string(next_fecha)\n",
    "    int_rate = Qcf.QCInterestRate(valor, Qcf.QCAct360(), Qcf.QCLinearWf())\n",
    "    return int_rate.wf(qfecha, qnext_fecha)"
   ]
  },
  {
   "cell_type": "code",
   "execution_count": 36,
   "metadata": {
    "ExecuteTime": {
     "end_time": "2020-11-29T13:22:00.428979Z",
     "start_time": "2020-11-29T13:22:00.403926Z"
    }
   },
   "outputs": [],
   "source": [
    "df_fixings['factor_capitalizacion'] = df_fixings.apply(\n",
    "    lambda row: factor_cap(row['fecha'], row['next_fecha'], row['valor']),\n",
    "    axis=1\n",
    ")"
   ]
  },
  {
   "cell_type": "code",
   "execution_count": 37,
   "metadata": {
    "ExecuteTime": {
     "end_time": "2020-11-29T13:22:02.325721Z",
     "start_time": "2020-11-29T13:22:02.313044Z"
    }
   },
   "outputs": [
    {
     "data": {
      "text/html": [
       "<style  type=\"text/css\" >\n",
       "</style><table id=\"T_ddf985b6_3245_11eb_a3d0_02cba411ec9d\" ><thead>    <tr>        <th class=\"blank level0\" ></th>        <th class=\"col_heading level0 col0\" >fecha</th>        <th class=\"col_heading level0 col1\" >nombre</th>        <th class=\"col_heading level0 col2\" >valor</th>        <th class=\"col_heading level0 col3\" >next_fecha</th>        <th class=\"col_heading level0 col4\" >factor_capitalizacion</th>    </tr></thead><tbody>\n",
       "                <tr>\n",
       "                        <th id=\"T_ddf985b6_3245_11eb_a3d0_02cba411ec9dlevel0_row0\" class=\"row_heading level0 row0\" >0</th>\n",
       "                        <td id=\"T_ddf985b6_3245_11eb_a3d0_02cba411ec9drow0_col0\" class=\"data row0 col0\" >2020-10-28</td>\n",
       "                        <td id=\"T_ddf985b6_3245_11eb_a3d0_02cba411ec9drow0_col1\" class=\"data row0 col1\" >SOFR</td>\n",
       "                        <td id=\"T_ddf985b6_3245_11eb_a3d0_02cba411ec9drow0_col2\" class=\"data row0 col2\" >0.0800%</td>\n",
       "                        <td id=\"T_ddf985b6_3245_11eb_a3d0_02cba411ec9drow0_col3\" class=\"data row0 col3\" >2020-10-29</td>\n",
       "                        <td id=\"T_ddf985b6_3245_11eb_a3d0_02cba411ec9drow0_col4\" class=\"data row0 col4\" >1.000002</td>\n",
       "            </tr>\n",
       "            <tr>\n",
       "                        <th id=\"T_ddf985b6_3245_11eb_a3d0_02cba411ec9dlevel0_row1\" class=\"row_heading level0 row1\" >1</th>\n",
       "                        <td id=\"T_ddf985b6_3245_11eb_a3d0_02cba411ec9drow1_col0\" class=\"data row1 col0\" >2020-10-27</td>\n",
       "                        <td id=\"T_ddf985b6_3245_11eb_a3d0_02cba411ec9drow1_col1\" class=\"data row1 col1\" >SOFR</td>\n",
       "                        <td id=\"T_ddf985b6_3245_11eb_a3d0_02cba411ec9drow1_col2\" class=\"data row1 col2\" >0.0900%</td>\n",
       "                        <td id=\"T_ddf985b6_3245_11eb_a3d0_02cba411ec9drow1_col3\" class=\"data row1 col3\" >2020-10-28</td>\n",
       "                        <td id=\"T_ddf985b6_3245_11eb_a3d0_02cba411ec9drow1_col4\" class=\"data row1 col4\" >1.000002</td>\n",
       "            </tr>\n",
       "            <tr>\n",
       "                        <th id=\"T_ddf985b6_3245_11eb_a3d0_02cba411ec9dlevel0_row2\" class=\"row_heading level0 row2\" >2</th>\n",
       "                        <td id=\"T_ddf985b6_3245_11eb_a3d0_02cba411ec9drow2_col0\" class=\"data row2 col0\" >2020-10-26</td>\n",
       "                        <td id=\"T_ddf985b6_3245_11eb_a3d0_02cba411ec9drow2_col1\" class=\"data row2 col1\" >SOFR</td>\n",
       "                        <td id=\"T_ddf985b6_3245_11eb_a3d0_02cba411ec9drow2_col2\" class=\"data row2 col2\" >0.0900%</td>\n",
       "                        <td id=\"T_ddf985b6_3245_11eb_a3d0_02cba411ec9drow2_col3\" class=\"data row2 col3\" >2020-10-27</td>\n",
       "                        <td id=\"T_ddf985b6_3245_11eb_a3d0_02cba411ec9drow2_col4\" class=\"data row2 col4\" >1.000002</td>\n",
       "            </tr>\n",
       "            <tr>\n",
       "                        <th id=\"T_ddf985b6_3245_11eb_a3d0_02cba411ec9dlevel0_row3\" class=\"row_heading level0 row3\" >3</th>\n",
       "                        <td id=\"T_ddf985b6_3245_11eb_a3d0_02cba411ec9drow3_col0\" class=\"data row3 col0\" >2020-10-23</td>\n",
       "                        <td id=\"T_ddf985b6_3245_11eb_a3d0_02cba411ec9drow3_col1\" class=\"data row3 col1\" >SOFR</td>\n",
       "                        <td id=\"T_ddf985b6_3245_11eb_a3d0_02cba411ec9drow3_col2\" class=\"data row3 col2\" >0.0800%</td>\n",
       "                        <td id=\"T_ddf985b6_3245_11eb_a3d0_02cba411ec9drow3_col3\" class=\"data row3 col3\" >2020-10-26</td>\n",
       "                        <td id=\"T_ddf985b6_3245_11eb_a3d0_02cba411ec9drow3_col4\" class=\"data row3 col4\" >1.000007</td>\n",
       "            </tr>\n",
       "            <tr>\n",
       "                        <th id=\"T_ddf985b6_3245_11eb_a3d0_02cba411ec9dlevel0_row4\" class=\"row_heading level0 row4\" >4</th>\n",
       "                        <td id=\"T_ddf985b6_3245_11eb_a3d0_02cba411ec9drow4_col0\" class=\"data row4 col0\" >2020-10-22</td>\n",
       "                        <td id=\"T_ddf985b6_3245_11eb_a3d0_02cba411ec9drow4_col1\" class=\"data row4 col1\" >SOFR</td>\n",
       "                        <td id=\"T_ddf985b6_3245_11eb_a3d0_02cba411ec9drow4_col2\" class=\"data row4 col2\" >0.0700%</td>\n",
       "                        <td id=\"T_ddf985b6_3245_11eb_a3d0_02cba411ec9drow4_col3\" class=\"data row4 col3\" >2020-10-23</td>\n",
       "                        <td id=\"T_ddf985b6_3245_11eb_a3d0_02cba411ec9drow4_col4\" class=\"data row4 col4\" >1.000002</td>\n",
       "            </tr>\n",
       "    </tbody></table>"
      ],
      "text/plain": [
       "<pandas.io.formats.style.Styler at 0x7f7238745cf8>"
      ]
     },
     "execution_count": 37,
     "metadata": {},
     "output_type": "execute_result"
    }
   ],
   "source": [
    "df_fixings.head().style.format({'valor': '{:.4%}'})"
   ]
  },
  {
   "cell_type": "markdown",
   "metadata": {},
   "source": [
    "Veamos donde están en `df_fixings` los valores para `start_date` de `ois` y la fecha 15-6-2020 y calculamos el producto de los factores de capitalización desde esa fecha hasta la última fecha de `df_flujos` (que es el primer registro). Luego, el cociente de los dos factores nos dará el factor entre ambas fechas. Finalmente, con ese factor, se calculará `accrued_rate`."
   ]
  },
  {
   "cell_type": "code",
   "execution_count": 38,
   "metadata": {
    "ExecuteTime": {
     "end_time": "2020-11-29T13:22:03.379577Z",
     "start_time": "2020-11-29T13:22:03.359082Z"
    }
   },
   "outputs": [
    {
     "data": {
      "text/html": [
       "<div>\n",
       "<style scoped>\n",
       "    .dataframe tbody tr th:only-of-type {\n",
       "        vertical-align: middle;\n",
       "    }\n",
       "\n",
       "    .dataframe tbody tr th {\n",
       "        vertical-align: top;\n",
       "    }\n",
       "\n",
       "    .dataframe thead th {\n",
       "        text-align: right;\n",
       "    }\n",
       "</style>\n",
       "<table border=\"1\" class=\"dataframe\">\n",
       "  <thead>\n",
       "    <tr style=\"text-align: right;\">\n",
       "      <th></th>\n",
       "      <th>fecha</th>\n",
       "      <th>nombre</th>\n",
       "      <th>valor</th>\n",
       "      <th>next_fecha</th>\n",
       "      <th>factor_capitalizacion</th>\n",
       "    </tr>\n",
       "  </thead>\n",
       "  <tbody>\n",
       "    <tr>\n",
       "      <th>269</th>\n",
       "      <td>2019-10-01</td>\n",
       "      <td>SOFR</td>\n",
       "      <td>0.0188</td>\n",
       "      <td>2019-10-02</td>\n",
       "      <td>1.000052</td>\n",
       "    </tr>\n",
       "  </tbody>\n",
       "</table>\n",
       "</div>"
      ],
      "text/plain": [
       "          fecha nombre   valor  next_fecha  factor_capitalizacion\n",
       "269  2019-10-01   SOFR  0.0188  2019-10-02               1.000052"
      ]
     },
     "execution_count": 38,
     "metadata": {},
     "output_type": "execute_result"
    }
   ],
   "source": [
    "start_date = ois.start_date.description(False)\n",
    "df_fixings[df_fixings.fecha == start_date]"
   ]
  },
  {
   "cell_type": "code",
   "execution_count": 39,
   "metadata": {
    "ExecuteTime": {
     "end_time": "2020-11-29T13:22:04.446665Z",
     "start_time": "2020-11-29T13:22:04.440924Z"
    }
   },
   "outputs": [
    {
     "name": "stdout",
     "output_type": "stream",
     "text": [
      "1.0075715527341267\n"
     ]
    }
   ],
   "source": [
    "factor_largo = df_fixings.iloc[:270]['factor_capitalizacion'].prod()\n",
    "print(factor_largo)\n",
    "qstart_date = Qcf.build_qcdate_from_string('2019-10-01')"
   ]
  },
  {
   "cell_type": "code",
   "execution_count": 40,
   "metadata": {
    "ExecuteTime": {
     "end_time": "2020-11-29T13:22:06.367202Z",
     "start_time": "2020-11-29T13:22:06.348569Z"
    }
   },
   "outputs": [
    {
     "data": {
      "text/html": [
       "<div>\n",
       "<style scoped>\n",
       "    .dataframe tbody tr th:only-of-type {\n",
       "        vertical-align: middle;\n",
       "    }\n",
       "\n",
       "    .dataframe tbody tr th {\n",
       "        vertical-align: top;\n",
       "    }\n",
       "\n",
       "    .dataframe thead th {\n",
       "        text-align: right;\n",
       "    }\n",
       "</style>\n",
       "<table border=\"1\" class=\"dataframe\">\n",
       "  <thead>\n",
       "    <tr style=\"text-align: right;\">\n",
       "      <th></th>\n",
       "      <th>fecha</th>\n",
       "      <th>nombre</th>\n",
       "      <th>valor</th>\n",
       "      <th>next_fecha</th>\n",
       "      <th>factor_capitalizacion</th>\n",
       "    </tr>\n",
       "  </thead>\n",
       "  <tbody>\n",
       "    <tr>\n",
       "      <th>94</th>\n",
       "      <td>2020-06-15</td>\n",
       "      <td>SOFR</td>\n",
       "      <td>0.0009</td>\n",
       "      <td>2020-06-16</td>\n",
       "      <td>1.000002</td>\n",
       "    </tr>\n",
       "  </tbody>\n",
       "</table>\n",
       "</div>"
      ],
      "text/plain": [
       "         fecha nombre   valor  next_fecha  factor_capitalizacion\n",
       "94  2020-06-15   SOFR  0.0009  2020-06-16               1.000002"
      ]
     },
     "execution_count": 40,
     "metadata": {},
     "output_type": "execute_result"
    }
   ],
   "source": [
    "df_fixings[df_fixings.fecha == '2020-06-15']"
   ]
  },
  {
   "cell_type": "code",
   "execution_count": 41,
   "metadata": {
    "ExecuteTime": {
     "end_time": "2020-11-29T13:22:07.423805Z",
     "start_time": "2020-11-29T13:22:07.417916Z"
    }
   },
   "outputs": [],
   "source": [
    "factor_corto = df_fixings.iloc[:95]['factor_capitalizacion'].prod()\n",
    "qaccrued_date = Qcf.build_qcdate_from_string('2020-06-15')"
   ]
  },
  {
   "cell_type": "code",
   "execution_count": 42,
   "metadata": {
    "ExecuteTime": {
     "end_time": "2020-11-29T13:22:08.511168Z",
     "start_time": "2020-11-29T13:22:08.505581Z"
    }
   },
   "outputs": [
    {
     "name": "stdout",
     "output_type": "stream",
     "text": [
      "La diferencia es: 0.03775213%\n"
     ]
    }
   ],
   "source": [
    "dias = qstart_date.day_diff(qaccrued_date)\n",
    "check_accrued_rate = (factor_largo / factor_corto - 1.0) * 360.0 / dias\n",
    "print(f'La diferencia es: {accrued_rate - check_accrued_rate:.8%}')"
   ]
  },
  {
   "cell_type": "code",
   "execution_count": 43,
   "metadata": {
    "ExecuteTime": {
     "end_time": "2020-11-29T13:22:11.374384Z",
     "start_time": "2020-11-29T13:22:11.370114Z"
    }
   },
   "outputs": [
    {
     "name": "stdout",
     "output_type": "stream",
     "text": [
      "Suma medio punto por obtener resultado.\n",
      "Suma 1 punto por obtener resultado dentro de la tolerancia.\n"
     ]
    }
   ],
   "source": [
    "suma_exito(accrued_rate, check_accrued_rate, 'tasa')"
   ]
  },
  {
   "cell_type": "markdown",
   "metadata": {},
   "source": [
    "### `OisCashflow.accrued_interest`"
   ]
  },
  {
   "cell_type": "code",
   "execution_count": 44,
   "metadata": {
    "ExecuteTime": {
     "end_time": "2020-11-29T13:22:14.946883Z",
     "start_time": "2020-11-29T13:22:14.941055Z"
    }
   },
   "outputs": [
    {
     "name": "stdout",
     "output_type": "stream",
     "text": [
      "accrued interest: 75,082.68\n"
     ]
    }
   ],
   "source": [
    "accrued_interest = ois.get_accrued_interest(Qcf.QCDate(15, 6, 2020), fixings)\n",
    "print(f'accrued interest: {accrued_interest:,.2f}')"
   ]
  },
  {
   "cell_type": "code",
   "execution_count": 45,
   "metadata": {
    "ExecuteTime": {
     "end_time": "2020-11-29T13:22:16.521503Z",
     "start_time": "2020-11-29T13:22:16.516455Z"
    }
   },
   "outputs": [
    {
     "name": "stdout",
     "output_type": "stream",
     "text": [
      "La diferencia es: 0.000000\n"
     ]
    }
   ],
   "source": [
    "check_accrued_interest = ois.notional * accrued_rate * dias / 360.0\n",
    "print(f'La diferencia es: {accrued_interest - check_accrued_interest:,.6f}')"
   ]
  },
  {
   "cell_type": "code",
   "execution_count": 46,
   "metadata": {
    "ExecuteTime": {
     "end_time": "2020-11-29T13:22:19.878072Z",
     "start_time": "2020-11-29T13:22:19.874329Z"
    }
   },
   "outputs": [
    {
     "name": "stdout",
     "output_type": "stream",
     "text": [
      "Suma medio punto por obtener resultado.\n",
      "Suma 1 punto por obtener resultado dentro de la tolerancia.\n"
     ]
    }
   ],
   "source": [
    "suma_exito(accrued_interest, check_accrued_interest, 'monto')"
   ]
  },
  {
   "cell_type": "markdown",
   "metadata": {},
   "source": [
    "### `OisCashflow.amount`"
   ]
  },
  {
   "cell_type": "code",
   "execution_count": 47,
   "metadata": {
    "ExecuteTime": {
     "end_time": "2020-11-29T13:22:23.502192Z",
     "start_time": "2020-11-29T13:22:23.483379Z"
    }
   },
   "outputs": [
    {
     "name": "stdout",
     "output_type": "stream",
     "text": [
      "1000000\n",
      "77850.89961860559\n",
      "amount: 1,077,850.90\n"
     ]
    }
   ],
   "source": [
    "amount = ois.amount(fixings)\n",
    "print(f'amount: {amount:,.2f}')"
   ]
  },
  {
   "cell_type": "code",
   "execution_count": 48,
   "metadata": {
    "ExecuteTime": {
     "end_time": "2020-11-29T13:22:28.100550Z",
     "start_time": "2020-11-29T13:22:28.085823Z"
    }
   },
   "outputs": [
    {
     "name": "stdout",
     "output_type": "stream",
     "text": [
      "end date: 2020-10-01\n"
     ]
    },
    {
     "data": {
      "text/html": [
       "<div>\n",
       "<style scoped>\n",
       "    .dataframe tbody tr th:only-of-type {\n",
       "        vertical-align: middle;\n",
       "    }\n",
       "\n",
       "    .dataframe tbody tr th {\n",
       "        vertical-align: top;\n",
       "    }\n",
       "\n",
       "    .dataframe thead th {\n",
       "        text-align: right;\n",
       "    }\n",
       "</style>\n",
       "<table border=\"1\" class=\"dataframe\">\n",
       "  <thead>\n",
       "    <tr style=\"text-align: right;\">\n",
       "      <th></th>\n",
       "      <th>fecha</th>\n",
       "      <th>nombre</th>\n",
       "      <th>valor</th>\n",
       "      <th>next_fecha</th>\n",
       "      <th>factor_capitalizacion</th>\n",
       "    </tr>\n",
       "  </thead>\n",
       "  <tbody>\n",
       "    <tr>\n",
       "      <th>18</th>\n",
       "      <td>2020-10-01</td>\n",
       "      <td>SOFR</td>\n",
       "      <td>0.0008</td>\n",
       "      <td>2020-10-02</td>\n",
       "      <td>1.000002</td>\n",
       "    </tr>\n",
       "  </tbody>\n",
       "</table>\n",
       "</div>"
      ],
      "text/plain": [
       "         fecha nombre   valor  next_fecha  factor_capitalizacion\n",
       "18  2020-10-01   SOFR  0.0008  2020-10-02               1.000002"
      ]
     },
     "execution_count": 48,
     "metadata": {},
     "output_type": "execute_result"
    }
   ],
   "source": [
    "end_date = ois.end_date.description(False)\n",
    "print(f'end date: {end_date}')\n",
    "df_fixings[df_fixings.fecha == end_date]"
   ]
  },
  {
   "cell_type": "code",
   "execution_count": 49,
   "metadata": {
    "ExecuteTime": {
     "end_time": "2020-11-29T13:22:31.019281Z",
     "start_time": "2020-11-29T13:22:31.012354Z"
    }
   },
   "outputs": [
    {
     "name": "stdout",
     "output_type": "stream",
     "text": [
      "La diferencia es: 2823.854185\n"
     ]
    }
   ],
   "source": [
    "factor_corto_2 = df_fixings.iloc[:19]['factor_capitalizacion'].prod()\n",
    "dias_2 = qstart_date.day_diff(ois.end_date)\n",
    "accrued_rate_amount = (factor_largo / factor_corto_2- 1.0) * 360.0 / dias_2\n",
    "check_amount = ois.notional * accrued_rate_amount * dias_2 / 360.0 + ois.amortization\n",
    "print(f'La diferencia es: {amount - check_amount:.6f}')"
   ]
  },
  {
   "cell_type": "code",
   "execution_count": 50,
   "metadata": {
    "ExecuteTime": {
     "end_time": "2020-11-29T13:22:33.115658Z",
     "start_time": "2020-11-29T13:22:33.111628Z"
    }
   },
   "outputs": [
    {
     "name": "stdout",
     "output_type": "stream",
     "text": [
      "Suma medio punto por obtener resultado.\n",
      "Suma 1 punto por obtener resultado dentro de la tolerancia.\n"
     ]
    }
   ],
   "source": [
    "suma_exito(amount, check_amount, 'monto')"
   ]
  },
  {
   "cell_type": "markdown",
   "metadata": {},
   "source": [
    "### `set_expected_rate`"
   ]
  },
  {
   "cell_type": "markdown",
   "metadata": {},
   "source": [
    "Comenzamos cargando los valores de la curva cero cupón que se utilizará para hacer pruebas de `set_expected_rate` y `present_value`."
   ]
  },
  {
   "cell_type": "code",
   "execution_count": 51,
   "metadata": {
    "ExecuteTime": {
     "end_time": "2020-11-29T13:22:36.701014Z",
     "start_time": "2020-11-29T13:22:36.688942Z"
    }
   },
   "outputs": [],
   "source": [
    "df_curva = pd.read_excel('../data/20201012_built_sofr_zero.xlsx')"
   ]
  },
  {
   "cell_type": "code",
   "execution_count": 52,
   "metadata": {
    "ExecuteTime": {
     "end_time": "2020-11-29T13:22:37.482688Z",
     "start_time": "2020-11-29T13:22:37.474148Z"
    }
   },
   "outputs": [
    {
     "data": {
      "text/html": [
       "<style  type=\"text/css\" >\n",
       "</style><table id=\"T_f2ee672a_3245_11eb_a3d0_02cba411ec9d\" ><thead>    <tr>        <th class=\"blank level0\" ></th>        <th class=\"col_heading level0 col0\" >plazo</th>        <th class=\"col_heading level0 col1\" >tasa</th>        <th class=\"col_heading level0 col2\" >df</th>    </tr></thead><tbody>\n",
       "                <tr>\n",
       "                        <th id=\"T_f2ee672a_3245_11eb_a3d0_02cba411ec9dlevel0_row0\" class=\"row_heading level0 row0\" >0</th>\n",
       "                        <td id=\"T_f2ee672a_3245_11eb_a3d0_02cba411ec9drow0_col0\" class=\"data row0 col0\" >1</td>\n",
       "                        <td id=\"T_f2ee672a_3245_11eb_a3d0_02cba411ec9drow0_col1\" class=\"data row0 col1\" >0.0811%</td>\n",
       "                        <td id=\"T_f2ee672a_3245_11eb_a3d0_02cba411ec9drow0_col2\" class=\"data row0 col2\" >99.999778%</td>\n",
       "            </tr>\n",
       "            <tr>\n",
       "                        <th id=\"T_f2ee672a_3245_11eb_a3d0_02cba411ec9dlevel0_row1\" class=\"row_heading level0 row1\" >1</th>\n",
       "                        <td id=\"T_f2ee672a_3245_11eb_a3d0_02cba411ec9drow1_col0\" class=\"data row1 col0\" >7</td>\n",
       "                        <td id=\"T_f2ee672a_3245_11eb_a3d0_02cba411ec9drow1_col1\" class=\"data row1 col1\" >0.0841%</td>\n",
       "                        <td id=\"T_f2ee672a_3245_11eb_a3d0_02cba411ec9drow1_col2\" class=\"data row1 col2\" >99.998388%</td>\n",
       "            </tr>\n",
       "            <tr>\n",
       "                        <th id=\"T_f2ee672a_3245_11eb_a3d0_02cba411ec9dlevel0_row2\" class=\"row_heading level0 row2\" >2</th>\n",
       "                        <td id=\"T_f2ee672a_3245_11eb_a3d0_02cba411ec9drow2_col0\" class=\"data row2 col0\" >14</td>\n",
       "                        <td id=\"T_f2ee672a_3245_11eb_a3d0_02cba411ec9drow2_col1\" class=\"data row2 col1\" >0.0780%</td>\n",
       "                        <td id=\"T_f2ee672a_3245_11eb_a3d0_02cba411ec9drow2_col2\" class=\"data row2 col2\" >99.997010%</td>\n",
       "            </tr>\n",
       "            <tr>\n",
       "                        <th id=\"T_f2ee672a_3245_11eb_a3d0_02cba411ec9dlevel0_row3\" class=\"row_heading level0 row3\" >3</th>\n",
       "                        <td id=\"T_f2ee672a_3245_11eb_a3d0_02cba411ec9drow3_col0\" class=\"data row3 col0\" >21</td>\n",
       "                        <td id=\"T_f2ee672a_3245_11eb_a3d0_02cba411ec9drow3_col1\" class=\"data row3 col1\" >0.0774%</td>\n",
       "                        <td id=\"T_f2ee672a_3245_11eb_a3d0_02cba411ec9drow3_col2\" class=\"data row3 col2\" >99.995549%</td>\n",
       "            </tr>\n",
       "            <tr>\n",
       "                        <th id=\"T_f2ee672a_3245_11eb_a3d0_02cba411ec9dlevel0_row4\" class=\"row_heading level0 row4\" >4</th>\n",
       "                        <td id=\"T_f2ee672a_3245_11eb_a3d0_02cba411ec9drow4_col0\" class=\"data row4 col0\" >33</td>\n",
       "                        <td id=\"T_f2ee672a_3245_11eb_a3d0_02cba411ec9drow4_col1\" class=\"data row4 col1\" >0.0781%</td>\n",
       "                        <td id=\"T_f2ee672a_3245_11eb_a3d0_02cba411ec9drow4_col2\" class=\"data row4 col2\" >99.992942%</td>\n",
       "            </tr>\n",
       "    </tbody></table>"
      ],
      "text/plain": [
       "<pandas.io.formats.style.Styler at 0x7f72386de668>"
      ]
     },
     "execution_count": 52,
     "metadata": {},
     "output_type": "execute_result"
    }
   ],
   "source": [
    "df_curva.head().style.format({'tasa': '{:.4%}', 'df': '{:.6%}'})"
   ]
  },
  {
   "cell_type": "markdown",
   "metadata": {},
   "source": [
    "Con la data se construye un objeto de tipo `Qcf.ZeroCouponCurve`."
   ]
  },
  {
   "cell_type": "code",
   "execution_count": 53,
   "metadata": {
    "ExecuteTime": {
     "end_time": "2020-11-29T13:22:40.081138Z",
     "start_time": "2020-11-29T13:22:40.075397Z"
    },
    "scrolled": true
   },
   "outputs": [],
   "source": [
    "zcc = aux.get_curve_from_dataframe(Qcf.QCAct365(),Qcf.QCCompoundWf(), df_curva)"
   ]
  },
  {
   "cell_type": "markdown",
   "metadata": {},
   "source": [
    "Comienzan los tests."
   ]
  },
  {
   "cell_type": "code",
   "execution_count": 54,
   "metadata": {
    "ExecuteTime": {
     "end_time": "2020-11-29T13:22:41.247448Z",
     "start_time": "2020-11-29T13:22:41.243188Z"
    }
   },
   "outputs": [
    {
     "name": "stdout",
     "output_type": "stream",
     "text": [
      "Fecha inicial flujo: 2019-10-01\n",
      "Fecha final flujo: 2020-10-01\n"
     ]
    }
   ],
   "source": [
    "print(f'Fecha inicial flujo: {ois.start_date.description(False)}')\n",
    "print(f'Fecha final flujo: {ois.end_date.description(False)}')"
   ]
  },
  {
   "cell_type": "code",
   "execution_count": 56,
   "metadata": {
    "ExecuteTime": {
     "end_time": "2020-11-29T13:22:57.292212Z",
     "start_time": "2020-11-29T13:22:57.268467Z"
    }
   },
   "outputs": [
    {
     "name": "stdout",
     "output_type": "stream",
     "text": [
      "Tasa esperada es: 0.00000000%\n",
      "Check tasa esperada es: 0.06121277%\n",
      "Suma medio punto por obtener resultado.\n",
      "Suma 1 punto por obtener resultado dentro de la tolerancia.\n"
     ]
    }
   ],
   "source": [
    "# Check primer caso\n",
    "val_date = Qcf.QCDate(1, 6, 2019)\n",
    "set_expected_rate(val_date, ois, zcc, fixings)\n",
    "resultado = ois.interest_rate.get_value()\n",
    "print(f'Tasa esperada es: {resultado:.8%}')\n",
    "p1 = val_date.day_diff(ois.start_date)\n",
    "p2 = val_date.day_diff(ois.end_date)\n",
    "df1 = zcc.get_discount_factor_at(p1)\n",
    "df2 = zcc.get_discount_factor_at(p2)\n",
    "check = (df1 / df2 - 1) * 360 / (p2 - p1)\n",
    "print(f'Check tasa esperada es: {check:.8%}')\n",
    "\n",
    "suma_exito(resultado, check, 'tasa')"
   ]
  },
  {
   "cell_type": "code",
   "execution_count": 57,
   "metadata": {
    "ExecuteTime": {
     "end_time": "2020-11-29T13:23:09.949329Z",
     "start_time": "2020-11-29T13:23:09.935906Z"
    }
   },
   "outputs": [
    {
     "name": "stdout",
     "output_type": "stream",
     "text": [
      "Tasa esperada es: 0.00000000%\n",
      "Check tasa esperada es: 0.06924275%\n",
      "Suma medio punto por obtener resultado.\n",
      "Suma 1 punto por obtener resultado dentro de la tolerancia.\n"
     ]
    }
   ],
   "source": [
    "# Check segundo caso borde\n",
    "val_date = Qcf.QCDate(1, 10, 2019)\n",
    "set_expected_rate(val_date, ois, zcc, fixings)\n",
    "resultado = ois.interest_rate.get_value()\n",
    "print(f'Tasa esperada es: {resultado:.8%}')\n",
    "p1 = val_date.day_diff(ois.start_date)\n",
    "p2 = val_date.day_diff(ois.end_date)\n",
    "df1 = zcc.get_discount_factor_at(p1)\n",
    "df2 = zcc.get_discount_factor_at(p2)\n",
    "check = (df1 / df2 - 1) * 360 / (p2 - p1)\n",
    "print(f'Check tasa esperada es: {check:.8%}')\n",
    "\n",
    "suma_exito(resultado, check, 'tasa')"
   ]
  },
  {
   "cell_type": "code",
   "execution_count": 58,
   "metadata": {
    "ExecuteTime": {
     "end_time": "2020-11-29T13:23:16.871918Z",
     "start_time": "2020-11-29T13:23:16.848682Z"
    }
   },
   "outputs": [
    {
     "name": "stdout",
     "output_type": "stream",
     "text": [
      "Tasa esperada es: 0.00000000%\n",
      "Check tasa esperada es: 0.09623647%\n",
      "Suma medio punto por obtener resultado.\n",
      "Suma 1 punto por obtener resultado dentro de la tolerancia.\n"
     ]
    }
   ],
   "source": [
    "# Check segundo caso\n",
    "val_date = Qcf.QCDate(1, 11, 2019)\n",
    "set_expected_rate(val_date, ois, zcc, fixings)\n",
    "resultado = ois.interest_rate.get_value()\n",
    "print(f'Tasa esperada es: {resultado:.8%}')\n",
    "p1 = ois.start_date.day_diff(val_date)\n",
    "p2 = val_date.day_diff(ois.end_date)\n",
    "wf1 = 1 + ois.get_accrued_interest(val_date, fixings) / ois.notional\n",
    "wf2 = 1 / zcc.get_discount_factor_at(p2)\n",
    "check = (wf1 * wf2 - 1) * 360 / (p1 + p2)\n",
    "print(f'Check tasa esperada es: {check:.8%}')\n",
    "\n",
    "suma_exito(resultado, check, 'tasa')"
   ]
  },
  {
   "cell_type": "code",
   "execution_count": 59,
   "metadata": {
    "ExecuteTime": {
     "end_time": "2020-11-29T13:23:26.295029Z",
     "start_time": "2020-11-29T13:23:26.271658Z"
    }
   },
   "outputs": [
    {
     "name": "stdout",
     "output_type": "stream",
     "text": [
      "Tasa esperada es: 0.00000000%\n",
      "Check tasa esperada es: 0.09623647%\n",
      "Suma medio punto por obtener resultado.\n",
      "Suma 1 punto por obtener resultado dentro de la tolerancia.\n"
     ]
    }
   ],
   "source": [
    "# Check tercer caso borde\n",
    "val_date = Qcf.QCDate(1, 10, 2020)\n",
    "set_expected_rate(val_date, ois, zcc, fixings)\n",
    "resultado = ois.interest_rate.get_value()\n",
    "print(f'Tasa esperada es: {resultado:.8%}')\n",
    "check = ois.get_accrued_rate(val_date, fixings)\n",
    "print(f'Check tasa esperada es: {check:.8%}')\n",
    "\n",
    "suma_exito(resultado, check, 'tasa')"
   ]
  },
  {
   "cell_type": "code",
   "execution_count": 60,
   "metadata": {
    "ExecuteTime": {
     "end_time": "2020-11-29T13:23:39.179632Z",
     "start_time": "2020-11-29T13:23:39.164301Z"
    }
   },
   "outputs": [
    {
     "name": "stdout",
     "output_type": "stream",
     "text": [
      "Fecha de evaluación debe ser menor o igual a la fecha de vencimiento\n",
      "Tasa esperada es: 0.00000000%\n",
      "Check tasa esperada es: 0.09623647%\n",
      "Suma medio punto por obtener resultado.\n",
      "Suma 1 punto por obtener resultado dentro de la tolerancia.\n"
     ]
    }
   ],
   "source": [
    "# Check tercer caso\n",
    "val_date = Qcf.QCDate(15, 10, 2020)\n",
    "set_expected_rate(val_date, ois, zcc, fixings)\n",
    "resultado = ois.interest_rate.get_value()\n",
    "print(f'Tasa esperada es: {resultado:.8%}')\n",
    "check = ois.get_accrued_rate(ois.end_date, fixings)\n",
    "print(f'Check tasa esperada es: {check:.8%}')\n",
    "\n",
    "suma_exito(resultado, check, 'tasa')"
   ]
  },
  {
   "cell_type": "markdown",
   "metadata": {},
   "source": [
    "### `present_value`"
   ]
  },
  {
   "cell_type": "code",
   "execution_count": 63,
   "metadata": {
    "ExecuteTime": {
     "end_time": "2020-11-29T13:24:49.997410Z",
     "start_time": "2020-11-29T13:24:49.960893Z"
    }
   },
   "outputs": [
    {
     "ename": "ArgumentError",
     "evalue": "Python argument types in\n    None.day_diff(QCDate, str)\ndid not match C++ signature:\n    day_diff(QCDate {lvalue}, QCDate)",
     "output_type": "error",
     "traceback": [
      "\u001b[0;31m---------------------------------------------------------------------------\u001b[0m",
      "\u001b[0;31mArgumentError\u001b[0m                             Traceback (most recent call last)",
      "\u001b[0;32m<ipython-input-63-d7d05dfc6680>\u001b[0m in \u001b[0;36m<module>\u001b[0;34m\u001b[0m\n\u001b[1;32m      2\u001b[0m \u001b[0mval_date\u001b[0m \u001b[0;34m=\u001b[0m \u001b[0mQcf\u001b[0m\u001b[0;34m.\u001b[0m\u001b[0mQCDate\u001b[0m\u001b[0;34m(\u001b[0m\u001b[0;36m1\u001b[0m\u001b[0;34m,\u001b[0m \u001b[0;36m6\u001b[0m\u001b[0;34m,\u001b[0m \u001b[0;36m2019\u001b[0m\u001b[0;34m)\u001b[0m\u001b[0;34m\u001b[0m\u001b[0;34m\u001b[0m\u001b[0m\n\u001b[1;32m      3\u001b[0m \u001b[0mset_expected_rate\u001b[0m\u001b[0;34m(\u001b[0m\u001b[0mval_date\u001b[0m\u001b[0;34m,\u001b[0m \u001b[0mois\u001b[0m\u001b[0;34m,\u001b[0m \u001b[0mzcc\u001b[0m\u001b[0;34m,\u001b[0m \u001b[0mfixings\u001b[0m\u001b[0;34m)\u001b[0m\u001b[0;34m\u001b[0m\u001b[0;34m\u001b[0m\u001b[0m\n\u001b[0;32m----> 4\u001b[0;31m \u001b[0mpv\u001b[0m \u001b[0;34m=\u001b[0m \u001b[0mpresent_value\u001b[0m\u001b[0;34m(\u001b[0m\u001b[0mval_date\u001b[0m\u001b[0;34m,\u001b[0m \u001b[0mois\u001b[0m\u001b[0;34m,\u001b[0m \u001b[0mzcc\u001b[0m\u001b[0;34m,\u001b[0m \u001b[0mfixings\u001b[0m\u001b[0;34m)\u001b[0m\u001b[0;34m\u001b[0m\u001b[0;34m\u001b[0m\u001b[0m\n\u001b[0m\u001b[1;32m      5\u001b[0m \u001b[0mprint\u001b[0m\u001b[0;34m(\u001b[0m\u001b[0;34mf'Valor presente es: {pv:,.4f}'\u001b[0m\u001b[0;34m)\u001b[0m\u001b[0;34m\u001b[0m\u001b[0;34m\u001b[0m\u001b[0m\n\u001b[1;32m      6\u001b[0m \u001b[0mamount\u001b[0m \u001b[0;34m=\u001b[0m \u001b[0mois\u001b[0m\u001b[0;34m.\u001b[0m\u001b[0mamount\u001b[0m\u001b[0;34m(\u001b[0m\u001b[0mfixings\u001b[0m\u001b[0;34m)\u001b[0m\u001b[0;34m\u001b[0m\u001b[0;34m\u001b[0m\u001b[0m\n",
      "\u001b[0;32m<ipython-input-17-1e160cb887cf>\u001b[0m in \u001b[0;36mpresent_value\u001b[0;34m(val_date, ois_cashflow, zcc, fixings)\u001b[0m\n\u001b[1;32m     13\u001b[0m \u001b[0;34m\u001b[0m\u001b[0m\n\u001b[1;32m     14\u001b[0m     \u001b[0mtasa\u001b[0m \u001b[0;34m=\u001b[0m \u001b[0mset_expected_rate\u001b[0m\u001b[0;34m(\u001b[0m\u001b[0mval_date\u001b[0m\u001b[0;34m,\u001b[0m\u001b[0mois_cashflow\u001b[0m\u001b[0;34m,\u001b[0m\u001b[0mzcc\u001b[0m\u001b[0;34m,\u001b[0m\u001b[0mfixings\u001b[0m\u001b[0;34m)\u001b[0m\u001b[0;34m\u001b[0m\u001b[0;34m\u001b[0m\u001b[0m\n\u001b[0;32m---> 15\u001b[0;31m     \u001b[0mplazo\u001b[0m \u001b[0;34m=\u001b[0m \u001b[0mval_date\u001b[0m\u001b[0;34m.\u001b[0m\u001b[0mday_diff\u001b[0m\u001b[0;34m(\u001b[0m\u001b[0mend_date\u001b[0m\u001b[0;34m)\u001b[0m\u001b[0;34m\u001b[0m\u001b[0;34m\u001b[0m\u001b[0m\n\u001b[0m\u001b[1;32m     16\u001b[0m     \u001b[0mdisc_fac\u001b[0m \u001b[0;34m=\u001b[0m \u001b[0mzcc\u001b[0m\u001b[0;34m.\u001b[0m\u001b[0mget_discount_factor_at\u001b[0m\u001b[0;34m(\u001b[0m\u001b[0mplazo\u001b[0m\u001b[0;34m)\u001b[0m\u001b[0;34m\u001b[0m\u001b[0;34m\u001b[0m\u001b[0m\n\u001b[1;32m     17\u001b[0m     \u001b[0mamortizacion\u001b[0m \u001b[0;34m=\u001b[0m \u001b[0mois_cashflow\u001b[0m\u001b[0;34m.\u001b[0m\u001b[0mamortization\u001b[0m\u001b[0;34m\u001b[0m\u001b[0;34m\u001b[0m\u001b[0m\n",
      "\u001b[0;31mArgumentError\u001b[0m: Python argument types in\n    None.day_diff(QCDate, str)\ndid not match C++ signature:\n    day_diff(QCDate {lvalue}, QCDate)"
     ]
    }
   ],
   "source": [
    "# Check primer caso\n",
    "val_date = Qcf.QCDate(1, 6, 2019)\n",
    "set_expected_rate(val_date, ois, zcc, fixings)\n",
    "pv = present_value(val_date, ois, zcc, fixings)\n",
    "print(f'Valor presente es: {pv:,.4f}')\n",
    "amount = ois.amount(fixings)\n",
    "print(f'Amount: {amount:,.4f}')\n",
    "amount = ois.amount(fixings)\n",
    "plazo = val_date.day_diff(ois.settlement_date)\n",
    "df = zcc.get_discount_factor_at(plazo)\n",
    "print(f'Df: {df:.6%}')\n",
    "vp_check = df * amount\n",
    "print(f'VP check es: {vp_check:,.4f}')\n",
    "\n",
    "suma_exito(pv, vp_check, 'monto')"
   ]
  },
  {
   "cell_type": "code",
   "execution_count": 64,
   "metadata": {
    "ExecuteTime": {
     "end_time": "2020-11-29T13:25:21.705333Z",
     "start_time": "2020-11-29T13:25:21.668200Z"
    }
   },
   "outputs": [
    {
     "ename": "ArgumentError",
     "evalue": "Python argument types in\n    None.day_diff(QCDate, str)\ndid not match C++ signature:\n    day_diff(QCDate {lvalue}, QCDate)",
     "output_type": "error",
     "traceback": [
      "\u001b[0;31m---------------------------------------------------------------------------\u001b[0m",
      "\u001b[0;31mArgumentError\u001b[0m                             Traceback (most recent call last)",
      "\u001b[0;32m<ipython-input-64-c63947943557>\u001b[0m in \u001b[0;36m<module>\u001b[0;34m\u001b[0m\n\u001b[1;32m      2\u001b[0m \u001b[0mval_date\u001b[0m \u001b[0;34m=\u001b[0m \u001b[0mQcf\u001b[0m\u001b[0;34m.\u001b[0m\u001b[0mQCDate\u001b[0m\u001b[0;34m(\u001b[0m\u001b[0;36m1\u001b[0m\u001b[0;34m,\u001b[0m \u001b[0;36m10\u001b[0m\u001b[0;34m,\u001b[0m \u001b[0;36m2019\u001b[0m\u001b[0;34m)\u001b[0m\u001b[0;34m\u001b[0m\u001b[0;34m\u001b[0m\u001b[0m\n\u001b[1;32m      3\u001b[0m \u001b[0mset_expected_rate\u001b[0m\u001b[0;34m(\u001b[0m\u001b[0mval_date\u001b[0m\u001b[0;34m,\u001b[0m \u001b[0mois\u001b[0m\u001b[0;34m,\u001b[0m \u001b[0mzcc\u001b[0m\u001b[0;34m,\u001b[0m \u001b[0mfixings\u001b[0m\u001b[0;34m)\u001b[0m\u001b[0;34m\u001b[0m\u001b[0;34m\u001b[0m\u001b[0m\n\u001b[0;32m----> 4\u001b[0;31m \u001b[0mpv\u001b[0m \u001b[0;34m=\u001b[0m \u001b[0mpresent_value\u001b[0m\u001b[0;34m(\u001b[0m\u001b[0mval_date\u001b[0m\u001b[0;34m,\u001b[0m \u001b[0mois\u001b[0m\u001b[0;34m,\u001b[0m \u001b[0mzcc\u001b[0m\u001b[0;34m,\u001b[0m \u001b[0mfixings\u001b[0m\u001b[0;34m)\u001b[0m\u001b[0;34m\u001b[0m\u001b[0;34m\u001b[0m\u001b[0m\n\u001b[0m\u001b[1;32m      5\u001b[0m \u001b[0mprint\u001b[0m\u001b[0;34m(\u001b[0m\u001b[0;34mf'Valor presente es: {pv:,.4f}'\u001b[0m\u001b[0;34m)\u001b[0m\u001b[0;34m\u001b[0m\u001b[0;34m\u001b[0m\u001b[0m\n\u001b[1;32m      6\u001b[0m \u001b[0mamount\u001b[0m \u001b[0;34m=\u001b[0m \u001b[0mois\u001b[0m\u001b[0;34m.\u001b[0m\u001b[0mamount\u001b[0m\u001b[0;34m(\u001b[0m\u001b[0mfixings\u001b[0m\u001b[0;34m)\u001b[0m\u001b[0;34m\u001b[0m\u001b[0;34m\u001b[0m\u001b[0m\n",
      "\u001b[0;32m<ipython-input-17-1e160cb887cf>\u001b[0m in \u001b[0;36mpresent_value\u001b[0;34m(val_date, ois_cashflow, zcc, fixings)\u001b[0m\n\u001b[1;32m     13\u001b[0m \u001b[0;34m\u001b[0m\u001b[0m\n\u001b[1;32m     14\u001b[0m     \u001b[0mtasa\u001b[0m \u001b[0;34m=\u001b[0m \u001b[0mset_expected_rate\u001b[0m\u001b[0;34m(\u001b[0m\u001b[0mval_date\u001b[0m\u001b[0;34m,\u001b[0m\u001b[0mois_cashflow\u001b[0m\u001b[0;34m,\u001b[0m\u001b[0mzcc\u001b[0m\u001b[0;34m,\u001b[0m\u001b[0mfixings\u001b[0m\u001b[0;34m)\u001b[0m\u001b[0;34m\u001b[0m\u001b[0;34m\u001b[0m\u001b[0m\n\u001b[0;32m---> 15\u001b[0;31m     \u001b[0mplazo\u001b[0m \u001b[0;34m=\u001b[0m \u001b[0mval_date\u001b[0m\u001b[0;34m.\u001b[0m\u001b[0mday_diff\u001b[0m\u001b[0;34m(\u001b[0m\u001b[0mend_date\u001b[0m\u001b[0;34m)\u001b[0m\u001b[0;34m\u001b[0m\u001b[0;34m\u001b[0m\u001b[0m\n\u001b[0m\u001b[1;32m     16\u001b[0m     \u001b[0mdisc_fac\u001b[0m \u001b[0;34m=\u001b[0m \u001b[0mzcc\u001b[0m\u001b[0;34m.\u001b[0m\u001b[0mget_discount_factor_at\u001b[0m\u001b[0;34m(\u001b[0m\u001b[0mplazo\u001b[0m\u001b[0;34m)\u001b[0m\u001b[0;34m\u001b[0m\u001b[0;34m\u001b[0m\u001b[0m\n\u001b[1;32m     17\u001b[0m     \u001b[0mamortizacion\u001b[0m \u001b[0;34m=\u001b[0m \u001b[0mois_cashflow\u001b[0m\u001b[0;34m.\u001b[0m\u001b[0mamortization\u001b[0m\u001b[0;34m\u001b[0m\u001b[0;34m\u001b[0m\u001b[0m\n",
      "\u001b[0;31mArgumentError\u001b[0m: Python argument types in\n    None.day_diff(QCDate, str)\ndid not match C++ signature:\n    day_diff(QCDate {lvalue}, QCDate)"
     ]
    }
   ],
   "source": [
    "# Check segundo caso borde\n",
    "val_date = Qcf.QCDate(1, 10, 2019)\n",
    "set_expected_rate(val_date, ois, zcc, fixings)\n",
    "pv = present_value(val_date, ois, zcc, fixings)\n",
    "print(f'Valor presente es: {pv:,.4f}')\n",
    "amount = ois.amount(fixings)\n",
    "print(f'Amount: {amount:,.4f}')\n",
    "amount = ois.amount(fixings)\n",
    "plazo = val_date.day_diff(ois.settlement_date)\n",
    "df = zcc.get_discount_factor_at(plazo)\n",
    "print(f'Df: {df:.6%}')\n",
    "vp_check = df * amount\n",
    "print(f'VP check es: {vp_check:,.4f}')\n",
    "\n",
    "suma_exito(pv, vp_check, 'monto')"
   ]
  },
  {
   "cell_type": "code",
   "execution_count": 65,
   "metadata": {
    "ExecuteTime": {
     "end_time": "2020-11-29T13:26:14.402494Z",
     "start_time": "2020-11-29T13:26:14.364177Z"
    }
   },
   "outputs": [
    {
     "ename": "ArgumentError",
     "evalue": "Python argument types in\n    None.day_diff(QCDate, str)\ndid not match C++ signature:\n    day_diff(QCDate {lvalue}, QCDate)",
     "output_type": "error",
     "traceback": [
      "\u001b[0;31m---------------------------------------------------------------------------\u001b[0m",
      "\u001b[0;31mArgumentError\u001b[0m                             Traceback (most recent call last)",
      "\u001b[0;32m<ipython-input-65-dd170ebf3a2b>\u001b[0m in \u001b[0;36m<module>\u001b[0;34m\u001b[0m\n\u001b[1;32m      2\u001b[0m \u001b[0mval_date\u001b[0m \u001b[0;34m=\u001b[0m \u001b[0mQcf\u001b[0m\u001b[0;34m.\u001b[0m\u001b[0mQCDate\u001b[0m\u001b[0;34m(\u001b[0m\u001b[0;36m1\u001b[0m\u001b[0;34m,\u001b[0m \u001b[0;36m11\u001b[0m\u001b[0;34m,\u001b[0m \u001b[0;36m2019\u001b[0m\u001b[0;34m)\u001b[0m\u001b[0;34m\u001b[0m\u001b[0;34m\u001b[0m\u001b[0m\n\u001b[1;32m      3\u001b[0m \u001b[0mset_expected_rate\u001b[0m\u001b[0;34m(\u001b[0m\u001b[0mval_date\u001b[0m\u001b[0;34m,\u001b[0m \u001b[0mois\u001b[0m\u001b[0;34m,\u001b[0m \u001b[0mzcc\u001b[0m\u001b[0;34m,\u001b[0m \u001b[0mfixings\u001b[0m\u001b[0;34m)\u001b[0m\u001b[0;34m\u001b[0m\u001b[0;34m\u001b[0m\u001b[0m\n\u001b[0;32m----> 4\u001b[0;31m \u001b[0mpv\u001b[0m \u001b[0;34m=\u001b[0m \u001b[0mpresent_value\u001b[0m\u001b[0;34m(\u001b[0m\u001b[0mval_date\u001b[0m\u001b[0;34m,\u001b[0m \u001b[0mois\u001b[0m\u001b[0;34m,\u001b[0m \u001b[0mzcc\u001b[0m\u001b[0;34m,\u001b[0m \u001b[0mfixings\u001b[0m\u001b[0;34m)\u001b[0m\u001b[0;34m\u001b[0m\u001b[0;34m\u001b[0m\u001b[0m\n\u001b[0m\u001b[1;32m      5\u001b[0m \u001b[0mprint\u001b[0m\u001b[0;34m(\u001b[0m\u001b[0;34mf'Valor presente es: {pv:,.4f}'\u001b[0m\u001b[0;34m)\u001b[0m\u001b[0;34m\u001b[0m\u001b[0;34m\u001b[0m\u001b[0m\n\u001b[1;32m      6\u001b[0m \u001b[0mamount\u001b[0m \u001b[0;34m=\u001b[0m \u001b[0mois\u001b[0m\u001b[0;34m.\u001b[0m\u001b[0mamount\u001b[0m\u001b[0;34m(\u001b[0m\u001b[0mfixings\u001b[0m\u001b[0;34m)\u001b[0m\u001b[0;34m\u001b[0m\u001b[0;34m\u001b[0m\u001b[0m\n",
      "\u001b[0;32m<ipython-input-17-1e160cb887cf>\u001b[0m in \u001b[0;36mpresent_value\u001b[0;34m(val_date, ois_cashflow, zcc, fixings)\u001b[0m\n\u001b[1;32m     13\u001b[0m \u001b[0;34m\u001b[0m\u001b[0m\n\u001b[1;32m     14\u001b[0m     \u001b[0mtasa\u001b[0m \u001b[0;34m=\u001b[0m \u001b[0mset_expected_rate\u001b[0m\u001b[0;34m(\u001b[0m\u001b[0mval_date\u001b[0m\u001b[0;34m,\u001b[0m\u001b[0mois_cashflow\u001b[0m\u001b[0;34m,\u001b[0m\u001b[0mzcc\u001b[0m\u001b[0;34m,\u001b[0m\u001b[0mfixings\u001b[0m\u001b[0;34m)\u001b[0m\u001b[0;34m\u001b[0m\u001b[0;34m\u001b[0m\u001b[0m\n\u001b[0;32m---> 15\u001b[0;31m     \u001b[0mplazo\u001b[0m \u001b[0;34m=\u001b[0m \u001b[0mval_date\u001b[0m\u001b[0;34m.\u001b[0m\u001b[0mday_diff\u001b[0m\u001b[0;34m(\u001b[0m\u001b[0mend_date\u001b[0m\u001b[0;34m)\u001b[0m\u001b[0;34m\u001b[0m\u001b[0;34m\u001b[0m\u001b[0m\n\u001b[0m\u001b[1;32m     16\u001b[0m     \u001b[0mdisc_fac\u001b[0m \u001b[0;34m=\u001b[0m \u001b[0mzcc\u001b[0m\u001b[0;34m.\u001b[0m\u001b[0mget_discount_factor_at\u001b[0m\u001b[0;34m(\u001b[0m\u001b[0mplazo\u001b[0m\u001b[0;34m)\u001b[0m\u001b[0;34m\u001b[0m\u001b[0;34m\u001b[0m\u001b[0m\n\u001b[1;32m     17\u001b[0m     \u001b[0mamortizacion\u001b[0m \u001b[0;34m=\u001b[0m \u001b[0mois_cashflow\u001b[0m\u001b[0;34m.\u001b[0m\u001b[0mamortization\u001b[0m\u001b[0;34m\u001b[0m\u001b[0;34m\u001b[0m\u001b[0m\n",
      "\u001b[0;31mArgumentError\u001b[0m: Python argument types in\n    None.day_diff(QCDate, str)\ndid not match C++ signature:\n    day_diff(QCDate {lvalue}, QCDate)"
     ]
    }
   ],
   "source": [
    "# Check segundo caso\n",
    "val_date = Qcf.QCDate(1, 11, 2019)\n",
    "set_expected_rate(val_date, ois, zcc, fixings)\n",
    "pv = present_value(val_date, ois, zcc, fixings)\n",
    "print(f'Valor presente es: {pv:,.4f}')\n",
    "amount = ois.amount(fixings)\n",
    "print(f'Amount: {amount:,.4f}')\n",
    "amount = ois.amount(fixings)\n",
    "plazo = val_date.day_diff(ois.settlement_date)\n",
    "df = zcc.get_discount_factor_at(plazo)\n",
    "print(f'Df: {df:.6%}')\n",
    "vp_check = df * amount\n",
    "print(f'VP check es: {vp_check:,.4f}')\n",
    "\n",
    "suma_exito(pv, vp_check, 'monto')"
   ]
  },
  {
   "cell_type": "code",
   "execution_count": 66,
   "metadata": {
    "ExecuteTime": {
     "end_time": "2020-11-29T13:26:29.111595Z",
     "start_time": "2020-11-29T13:26:29.088347Z"
    }
   },
   "outputs": [
    {
     "ename": "ArgumentError",
     "evalue": "Python argument types in\n    None.day_diff(QCDate, str)\ndid not match C++ signature:\n    day_diff(QCDate {lvalue}, QCDate)",
     "output_type": "error",
     "traceback": [
      "\u001b[0;31m---------------------------------------------------------------------------\u001b[0m",
      "\u001b[0;31mArgumentError\u001b[0m                             Traceback (most recent call last)",
      "\u001b[0;32m<ipython-input-66-e20e52a6a6aa>\u001b[0m in \u001b[0;36m<module>\u001b[0;34m\u001b[0m\n\u001b[1;32m      2\u001b[0m \u001b[0mval_date\u001b[0m \u001b[0;34m=\u001b[0m \u001b[0mQcf\u001b[0m\u001b[0;34m.\u001b[0m\u001b[0mQCDate\u001b[0m\u001b[0;34m(\u001b[0m\u001b[0;36m1\u001b[0m\u001b[0;34m,\u001b[0m \u001b[0;36m10\u001b[0m\u001b[0;34m,\u001b[0m \u001b[0;36m2020\u001b[0m\u001b[0;34m)\u001b[0m\u001b[0;34m\u001b[0m\u001b[0;34m\u001b[0m\u001b[0m\n\u001b[1;32m      3\u001b[0m \u001b[0mset_expected_rate\u001b[0m\u001b[0;34m(\u001b[0m\u001b[0mval_date\u001b[0m\u001b[0;34m,\u001b[0m \u001b[0mois\u001b[0m\u001b[0;34m,\u001b[0m \u001b[0mzcc\u001b[0m\u001b[0;34m,\u001b[0m \u001b[0mfixings\u001b[0m\u001b[0;34m)\u001b[0m\u001b[0;34m\u001b[0m\u001b[0;34m\u001b[0m\u001b[0m\n\u001b[0;32m----> 4\u001b[0;31m \u001b[0mpv\u001b[0m \u001b[0;34m=\u001b[0m \u001b[0mpresent_value\u001b[0m\u001b[0;34m(\u001b[0m\u001b[0mval_date\u001b[0m\u001b[0;34m,\u001b[0m \u001b[0mois\u001b[0m\u001b[0;34m,\u001b[0m \u001b[0mzcc\u001b[0m\u001b[0;34m,\u001b[0m \u001b[0mfixings\u001b[0m\u001b[0;34m)\u001b[0m\u001b[0;34m\u001b[0m\u001b[0;34m\u001b[0m\u001b[0m\n\u001b[0m\u001b[1;32m      5\u001b[0m \u001b[0mprint\u001b[0m\u001b[0;34m(\u001b[0m\u001b[0;34mf'Valor presente es: {pv:,.4f}'\u001b[0m\u001b[0;34m)\u001b[0m\u001b[0;34m\u001b[0m\u001b[0;34m\u001b[0m\u001b[0m\n\u001b[1;32m      6\u001b[0m \u001b[0mamount\u001b[0m \u001b[0;34m=\u001b[0m \u001b[0mois\u001b[0m\u001b[0;34m.\u001b[0m\u001b[0mamount\u001b[0m\u001b[0;34m(\u001b[0m\u001b[0mfixings\u001b[0m\u001b[0;34m)\u001b[0m\u001b[0;34m\u001b[0m\u001b[0;34m\u001b[0m\u001b[0m\n",
      "\u001b[0;32m<ipython-input-17-1e160cb887cf>\u001b[0m in \u001b[0;36mpresent_value\u001b[0;34m(val_date, ois_cashflow, zcc, fixings)\u001b[0m\n\u001b[1;32m     13\u001b[0m \u001b[0;34m\u001b[0m\u001b[0m\n\u001b[1;32m     14\u001b[0m     \u001b[0mtasa\u001b[0m \u001b[0;34m=\u001b[0m \u001b[0mset_expected_rate\u001b[0m\u001b[0;34m(\u001b[0m\u001b[0mval_date\u001b[0m\u001b[0;34m,\u001b[0m\u001b[0mois_cashflow\u001b[0m\u001b[0;34m,\u001b[0m\u001b[0mzcc\u001b[0m\u001b[0;34m,\u001b[0m\u001b[0mfixings\u001b[0m\u001b[0;34m)\u001b[0m\u001b[0;34m\u001b[0m\u001b[0;34m\u001b[0m\u001b[0m\n\u001b[0;32m---> 15\u001b[0;31m     \u001b[0mplazo\u001b[0m \u001b[0;34m=\u001b[0m \u001b[0mval_date\u001b[0m\u001b[0;34m.\u001b[0m\u001b[0mday_diff\u001b[0m\u001b[0;34m(\u001b[0m\u001b[0mend_date\u001b[0m\u001b[0;34m)\u001b[0m\u001b[0;34m\u001b[0m\u001b[0;34m\u001b[0m\u001b[0m\n\u001b[0m\u001b[1;32m     16\u001b[0m     \u001b[0mdisc_fac\u001b[0m \u001b[0;34m=\u001b[0m \u001b[0mzcc\u001b[0m\u001b[0;34m.\u001b[0m\u001b[0mget_discount_factor_at\u001b[0m\u001b[0;34m(\u001b[0m\u001b[0mplazo\u001b[0m\u001b[0;34m)\u001b[0m\u001b[0;34m\u001b[0m\u001b[0;34m\u001b[0m\u001b[0m\n\u001b[1;32m     17\u001b[0m     \u001b[0mamortizacion\u001b[0m \u001b[0;34m=\u001b[0m \u001b[0mois_cashflow\u001b[0m\u001b[0;34m.\u001b[0m\u001b[0mamortization\u001b[0m\u001b[0;34m\u001b[0m\u001b[0;34m\u001b[0m\u001b[0m\n",
      "\u001b[0;31mArgumentError\u001b[0m: Python argument types in\n    None.day_diff(QCDate, str)\ndid not match C++ signature:\n    day_diff(QCDate {lvalue}, QCDate)"
     ]
    }
   ],
   "source": [
    "# Check tercer caso borde\n",
    "val_date = Qcf.QCDate(1, 10, 2020)\n",
    "set_expected_rate(val_date, ois, zcc, fixings)\n",
    "pv = present_value(val_date, ois, zcc, fixings)\n",
    "print(f'Valor presente es: {pv:,.4f}')\n",
    "amount = ois.amount(fixings)\n",
    "print(f'Amount: {amount:,.4f}')\n",
    "amount = ois.amount(fixings)\n",
    "plazo = val_date.day_diff(ois.settlement_date)\n",
    "if plazo <= 0:\n",
    "    df = 0.0\n",
    "else:\n",
    "    df = zcc.get_discount_factor_at(plazo)\n",
    "print(f'Df: {df:.6%}')\n",
    "vp_check = df * amount\n",
    "print(f'VP check es: {vp_check:,.4f}')\n",
    "\n",
    "suma_exito(pv, vp_check, 'monto')"
   ]
  },
  {
   "cell_type": "code",
   "execution_count": 67,
   "metadata": {
    "ExecuteTime": {
     "end_time": "2020-11-29T13:26:48.117198Z",
     "start_time": "2020-11-29T13:26:48.093083Z"
    }
   },
   "outputs": [
    {
     "name": "stdout",
     "output_type": "stream",
     "text": [
      "Fecha de evaluación debe ser menor o igual a la fecha de vencimiento\n",
      "Fecha de evaluación debe ser menor o igual a la fecha de vencimiento\n"
     ]
    },
    {
     "ename": "ArgumentError",
     "evalue": "Python argument types in\n    None.day_diff(QCDate, str)\ndid not match C++ signature:\n    day_diff(QCDate {lvalue}, QCDate)",
     "output_type": "error",
     "traceback": [
      "\u001b[0;31m---------------------------------------------------------------------------\u001b[0m",
      "\u001b[0;31mArgumentError\u001b[0m                             Traceback (most recent call last)",
      "\u001b[0;32m<ipython-input-67-a6264760ce4a>\u001b[0m in \u001b[0;36m<module>\u001b[0;34m\u001b[0m\n\u001b[1;32m      2\u001b[0m \u001b[0mval_date\u001b[0m \u001b[0;34m=\u001b[0m \u001b[0mQcf\u001b[0m\u001b[0;34m.\u001b[0m\u001b[0mQCDate\u001b[0m\u001b[0;34m(\u001b[0m\u001b[0;36m15\u001b[0m\u001b[0;34m,\u001b[0m \u001b[0;36m10\u001b[0m\u001b[0;34m,\u001b[0m \u001b[0;36m2020\u001b[0m\u001b[0;34m)\u001b[0m\u001b[0;34m\u001b[0m\u001b[0;34m\u001b[0m\u001b[0m\n\u001b[1;32m      3\u001b[0m \u001b[0mset_expected_rate\u001b[0m\u001b[0;34m(\u001b[0m\u001b[0mval_date\u001b[0m\u001b[0;34m,\u001b[0m \u001b[0mois\u001b[0m\u001b[0;34m,\u001b[0m \u001b[0mzcc\u001b[0m\u001b[0;34m,\u001b[0m \u001b[0mfixings\u001b[0m\u001b[0;34m)\u001b[0m\u001b[0;34m\u001b[0m\u001b[0;34m\u001b[0m\u001b[0m\n\u001b[0;32m----> 4\u001b[0;31m \u001b[0mpv\u001b[0m \u001b[0;34m=\u001b[0m \u001b[0mpresent_value\u001b[0m\u001b[0;34m(\u001b[0m\u001b[0mval_date\u001b[0m\u001b[0;34m,\u001b[0m \u001b[0mois\u001b[0m\u001b[0;34m,\u001b[0m \u001b[0mzcc\u001b[0m\u001b[0;34m,\u001b[0m \u001b[0mfixings\u001b[0m\u001b[0;34m)\u001b[0m\u001b[0;34m\u001b[0m\u001b[0;34m\u001b[0m\u001b[0m\n\u001b[0m\u001b[1;32m      5\u001b[0m \u001b[0mprint\u001b[0m\u001b[0;34m(\u001b[0m\u001b[0;34mf'Valor presente es: {pv:,.4f}'\u001b[0m\u001b[0;34m)\u001b[0m\u001b[0;34m\u001b[0m\u001b[0;34m\u001b[0m\u001b[0m\n\u001b[1;32m      6\u001b[0m \u001b[0mamount\u001b[0m \u001b[0;34m=\u001b[0m \u001b[0mois\u001b[0m\u001b[0;34m.\u001b[0m\u001b[0mamount\u001b[0m\u001b[0;34m(\u001b[0m\u001b[0mfixings\u001b[0m\u001b[0;34m)\u001b[0m\u001b[0;34m\u001b[0m\u001b[0;34m\u001b[0m\u001b[0m\n",
      "\u001b[0;32m<ipython-input-17-1e160cb887cf>\u001b[0m in \u001b[0;36mpresent_value\u001b[0;34m(val_date, ois_cashflow, zcc, fixings)\u001b[0m\n\u001b[1;32m     13\u001b[0m \u001b[0;34m\u001b[0m\u001b[0m\n\u001b[1;32m     14\u001b[0m     \u001b[0mtasa\u001b[0m \u001b[0;34m=\u001b[0m \u001b[0mset_expected_rate\u001b[0m\u001b[0;34m(\u001b[0m\u001b[0mval_date\u001b[0m\u001b[0;34m,\u001b[0m\u001b[0mois_cashflow\u001b[0m\u001b[0;34m,\u001b[0m\u001b[0mzcc\u001b[0m\u001b[0;34m,\u001b[0m\u001b[0mfixings\u001b[0m\u001b[0;34m)\u001b[0m\u001b[0;34m\u001b[0m\u001b[0;34m\u001b[0m\u001b[0m\n\u001b[0;32m---> 15\u001b[0;31m     \u001b[0mplazo\u001b[0m \u001b[0;34m=\u001b[0m \u001b[0mval_date\u001b[0m\u001b[0;34m.\u001b[0m\u001b[0mday_diff\u001b[0m\u001b[0;34m(\u001b[0m\u001b[0mend_date\u001b[0m\u001b[0;34m)\u001b[0m\u001b[0;34m\u001b[0m\u001b[0;34m\u001b[0m\u001b[0m\n\u001b[0m\u001b[1;32m     16\u001b[0m     \u001b[0mdisc_fac\u001b[0m \u001b[0;34m=\u001b[0m \u001b[0mzcc\u001b[0m\u001b[0;34m.\u001b[0m\u001b[0mget_discount_factor_at\u001b[0m\u001b[0;34m(\u001b[0m\u001b[0mplazo\u001b[0m\u001b[0;34m)\u001b[0m\u001b[0;34m\u001b[0m\u001b[0;34m\u001b[0m\u001b[0m\n\u001b[1;32m     17\u001b[0m     \u001b[0mamortizacion\u001b[0m \u001b[0;34m=\u001b[0m \u001b[0mois_cashflow\u001b[0m\u001b[0;34m.\u001b[0m\u001b[0mamortization\u001b[0m\u001b[0;34m\u001b[0m\u001b[0;34m\u001b[0m\u001b[0m\n",
      "\u001b[0;31mArgumentError\u001b[0m: Python argument types in\n    None.day_diff(QCDate, str)\ndid not match C++ signature:\n    day_diff(QCDate {lvalue}, QCDate)"
     ]
    }
   ],
   "source": [
    "# Check tercer caso\n",
    "val_date = Qcf.QCDate(15, 10, 2020)\n",
    "set_expected_rate(val_date, ois, zcc, fixings)\n",
    "pv = present_value(val_date, ois, zcc, fixings)\n",
    "print(f'Valor presente es: {pv:,.4f}')\n",
    "amount = ois.amount(fixings)\n",
    "print(f'Amount: {amount:,.4f}')\n",
    "amount = ois.amount(fixings)\n",
    "plazo = val_date.day_diff(ois.settlement_date)\n",
    "if plazo <= 0:\n",
    "    df = 0.0\n",
    "else:\n",
    "    df = zcc.get_discount_factor_at(plazo)\n",
    "print(f'Df: {df:.6%}')\n",
    "vp_check = df * amount\n",
    "print(f'VP check es: {vp_check:,.4f}')\n",
    "\n",
    "suma_exito(pv, vp_check, 'monto')"
   ]
  },
  {
   "cell_type": "code",
   "execution_count": 68,
   "metadata": {
    "ExecuteTime": {
     "end_time": "2020-11-29T13:26:51.144989Z",
     "start_time": "2020-11-29T13:26:51.140056Z"
    }
   },
   "outputs": [
    {
     "name": "stdout",
     "output_type": "stream",
     "text": [
      "Éxitos totales: 12.0\n"
     ]
    }
   ],
   "source": [
    "print(f'Éxitos totales: {exitos}')"
   ]
  }
 ],
 "metadata": {
  "hide_input": false,
  "kernelspec": {
   "display_name": "Python 3",
   "language": "python",
   "name": "python3"
  },
  "language_info": {
   "codemirror_mode": {
    "name": "ipython",
    "version": 3
   },
   "file_extension": ".py",
   "mimetype": "text/x-python",
   "name": "python",
   "nbconvert_exporter": "python",
   "pygments_lexer": "ipython3",
   "version": "3.7.3"
  },
  "latex_envs": {
   "LaTeX_envs_menu_present": true,
   "autoclose": true,
   "autocomplete": true,
   "bibliofile": "biblio.bib",
   "cite_by": "apalike",
   "current_citInitial": 1,
   "eqLabelWithNumbers": true,
   "eqNumInitial": 1,
   "hotkeys": {
    "equation": "Ctrl-E",
    "itemize": "Ctrl-I"
   },
   "labels_anchors": false,
   "latex_user_defs": false,
   "report_style_numbering": false,
   "user_envs_cfg": false
  },
  "toc": {
   "base_numbering": "8",
   "nav_menu": {},
   "number_sections": true,
   "sideBar": true,
   "skip_h1_title": false,
   "title_cell": "Table of Contents",
   "title_sidebar": "Contenido",
   "toc_cell": false,
   "toc_position": {
    "height": "calc(100% - 180px)",
    "left": "10px",
    "top": "150px",
    "width": "187.59375px"
   },
   "toc_section_display": true,
   "toc_window_display": true
  }
 },
 "nbformat": 4,
 "nbformat_minor": 4
}
