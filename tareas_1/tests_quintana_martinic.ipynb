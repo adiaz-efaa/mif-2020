{
 "cells": [
  {
   "cell_type": "markdown",
   "metadata": {},
   "source": [
    "# Testeo Tarea 1"
   ]
  },
  {
   "cell_type": "markdown",
   "metadata": {},
   "source": [
    "Tarea 1 Carlos Quintana Martinic - Daniel García Vinuesa"
   ]
  },
  {
   "cell_type": "markdown",
   "metadata": {},
   "source": [
    "Profesor, en mi código original debe borrar el código que esta debajo de \"Construcción de una instancia de OisCashflow\", para que funcione haciendo un Run All.\n",
    "Es un código que tenia puesto usted, el cual es:\n",
    "\n",
    "ois = OIS(\n",
    "    Qcf.QCDate(1, 10, 2019),\n",
    "    Qcf.QCDate(28, 10, 2020),\n",
    "    Qcf.QCDate(1, 10, 2019),\n",
    "    10000000,\n",
    "    Qcf.QCUSD(),\n",
    "    1000000,\n",
    "    True,\n",
    "    Qcf.QCInterestRate(0.0, Qcf.QCAct360(), Qcf.QCLinearWf()),\n",
    "    sofr,\n",
    "    0,\n",
    "    1\n",
    ")\n",
    "\n",
    "Está ubicado antes del punto 8.4 llamado \"Funciones\","
   ]
  },
  {
   "cell_type": "code",
   "execution_count": null,
   "metadata": {},
   "outputs": [],
   "source": [
    "#Ejecutar la función accrued_rate como la clase creada y las fechas vienen en formato Qcf.QCDate\n",
    "r1=OIS()\n",
    "start_date=r1.start_date=data[\"fechas\"]\n",
    "fixings=r1.fixings=data[\"fixing\"]\n",
    "#Llamado a la primera función de la clase\n",
    "print(\"La tasa equivalente es:\",r1.get_accrued_rate(data[\"fechas\"],fixings))\n",
    "#El resultado en este teste es de 0.00696242230123633\n",
    "\n",
    "#Ejecutar la función get_accrued_interest como la clase creada y las fechas vienen en formato Qcf.QCDate\n",
    "print(\"El interes es:\",r1.get_accrued_interest(data[\"fechas\"],0.0))\n",
    "#El resultado es 76006.44345516327\n",
    "\n",
    "#Ejecutar la función amount como la clase creada y las fechas vienen en formato Qcf.QCDate\n",
    "print(\"El monto es:\",r1.amount(fixings))\n",
    "#10076006.443455163"
   ]
  },
  {
   "cell_type": "code",
   "execution_count": null,
   "metadata": {},
   "outputs": [],
   "source": [
    "#Penúltima función\n",
    "#Test 1\n",
    "zcc = aux.get_curve_from_dataframe(Qcf.QCAct365(),Qcf.QCCompoundWf(), df_curva)\n",
    "fixing=data[\"fixing\"]\n",
    "val_date=Qcf.QCDate(2, 10, 2020)\n",
    "set_expected_rate(val_date, OIS, zcc, fixing)\n",
    "\n",
    "#Test2\n",
    "val_date=Qcf.QCDate(10, 10, 2020)\n",
    "set_expected_rate(val_date, OIS, zcc, fixing)\n",
    "\n",
    "#Test3\n",
    "val_date=Qcf.QCDate(15, 10, 2020)\n",
    "set_expected_rate(val_date, OIS, zcc, fixing)\n",
    "#Al ir ejecutando le va a aparecer una tabla, no sacamos el valor en especifico, puede ir cambiando el val_date y obtener distintos valores\n"
   ]
  },
  {
   "cell_type": "code",
   "execution_count": null,
   "metadata": {},
   "outputs": [],
   "source": [
    "# última función\n",
    "#Para la función 5 \n",
    "#TEST 1\n",
    "zcc = aux.get_curve_from_dataframe(Qcf.QCAct365(),Qcf.QCCompoundWf(), df_curva)\n",
    "plazo = 730\n",
    "Tasa_730 =zcc.get_rate_at(plazo)\n",
    "DF=zcc.get_discount_factor_at(plazo)\n",
    "val_date=Qcf.QCDate(5, 10, 2020)\n",
    "print(present_value(val_date,OIS,zcc))\n",
    "\n",
    "#Va cambiando el val_date y le van saliendo distintos valores presentes\n",
    "#191524.54213135876\n",
    "\n",
    "#TEST 2\n",
    "val_date=Qcf.QCDate(10, 10, 2020)\n",
    "print(present_value(val_date,OIS,zcc))\n",
    "#191567.1611254327\n",
    "\n",
    "#TEST 3\n",
    "val_date=Qcf.QCDate(15, 10, 2020)\n",
    "print(present_value(val_date,OIS,zcc))\n",
    "#191610.34164786898"
   ]
  }
 ],
 "metadata": {
  "hide_input": false,
  "kernelspec": {
   "display_name": "Python 3",
   "language": "python",
   "name": "python3"
  },
  "language_info": {
   "codemirror_mode": {
    "name": "ipython",
    "version": 3
   },
   "file_extension": ".py",
   "mimetype": "text/x-python",
   "name": "python",
   "nbconvert_exporter": "python",
   "pygments_lexer": "ipython3",
   "version": "3.7.3"
  },
  "toc": {
   "base_numbering": 1,
   "nav_menu": {},
   "number_sections": true,
   "sideBar": true,
   "skip_h1_title": false,
   "title_cell": "Table of Contents",
   "title_sidebar": "Contents",
   "toc_cell": false,
   "toc_position": {},
   "toc_section_display": true,
   "toc_window_display": false
  }
 },
 "nbformat": 4,
 "nbformat_minor": 4
}
