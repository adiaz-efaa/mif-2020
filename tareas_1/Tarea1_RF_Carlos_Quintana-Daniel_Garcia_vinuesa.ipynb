{
 "cells": [
  {
   "cell_type": "markdown",
   "metadata": {},
   "source": [
    "# Tarea 1"
   ]
  },
  {
   "cell_type": "markdown",
   "metadata": {},
   "source": [
    "Implementar la clase `OisCashflow`."
   ]
  },
  {
   "cell_type": "markdown",
   "metadata": {},
   "source": [
    "### Integrantes\n",
    "\n",
    "- Daniel García-vinuesa Hödar\n",
    "- Carlos Quintana Martinic"
   ]
  },
  {
   "cell_type": "markdown",
   "metadata": {},
   "source": [
    "## Configuración Inicial"
   ]
  },
  {
   "cell_type": "code",
   "execution_count": 1,
   "metadata": {
    "ExecuteTime": {
     "end_time": "2020-12-07T11:21:35.599337Z",
     "start_time": "2020-12-07T11:21:35.246647Z"
    }
   },
   "outputs": [],
   "source": [
    "from finrisk import QC_Financial_3 as Qcf\n",
    "from dataclasses import dataclass\n",
    "from enum import Enum\n",
    "import pandas as pd\n",
    "from IPython.display import Image\n",
    "from IPython.core.display import HTML\n",
    "from datetime import date\n",
    "\n",
    "# Modificado por AD\n",
    "import sys\n",
    "sys.path.insert(1, '../modules')\n",
    "import auxiliary as aux\n",
    "\n",
    "from functools import partial"
   ]
  },
  {
   "cell_type": "code",
   "execution_count": 2,
   "metadata": {
    "ExecuteTime": {
     "end_time": "2020-12-07T11:21:36.399213Z",
     "start_time": "2020-12-07T11:21:36.393730Z"
    }
   },
   "outputs": [],
   "source": [
    "class BusCal(Enum):\n",
    "    NY = 1\n",
    "    SCL = 2"
   ]
  },
  {
   "cell_type": "code",
   "execution_count": 3,
   "metadata": {
    "ExecuteTime": {
     "end_time": "2020-12-07T11:21:37.174754Z",
     "start_time": "2020-12-07T11:21:37.126027Z"
    }
   },
   "outputs": [],
   "source": [
    "def get_cal(code: BusCal) -> Qcf.BusinessCalendar:\n",
    "    \n",
    "    if code == BusCal.NY:\n",
    "        cal = Qcf.BusinessCalendar(Qcf.QCDate(1, 1, 2020), 20)\n",
    "        for agno in range(2020, 2071):\n",
    "            f = Qcf.QCDate(12, 10, agno)\n",
    "            if f.week_day() == Qcf.WeekDay.SAT:\n",
    "                cal.add_holiday(Qcf.QCDate(14, 10, agno))\n",
    "            elif f.week_day() == Qcf.WeekDay.SUN:\n",
    "                cal.add_holiday(Qcf.QCDate(13, 10, agno))\n",
    "            elif f.week_day() == Qcf.WeekDay.MON:\n",
    "                cal.add_holiday(Qcf.QCDate(12, 10, agno))\n",
    "            elif f.week_day() == Qcf.WeekDay.TUE:\n",
    "                cal.add_holiday(Qcf.QCDate(11, 10, agno))\n",
    "            elif f.week_day() == Qcf.WeekDay.WED:\n",
    "                cal.add_holiday(Qcf.QCDate(10, 10, agno))\n",
    "            elif f.week_day() == Qcf.WeekDay.THU:\n",
    "                cal.add_holiday(Qcf.QCDate(9, 10, agno))\n",
    "            else:\n",
    "                cal.add_holiday(Qcf.QCDate(8, 10, agno))\n",
    "        cal.add_holiday(Qcf.QCDate(15, 2, 2021))\n",
    "        \n",
    "    return cal"
   ]
  },
  {
   "cell_type": "markdown",
   "metadata": {},
   "source": [
    "## `Qcf.time_series`"
   ]
  },
  {
   "cell_type": "code",
   "execution_count": 4,
   "metadata": {
    "ExecuteTime": {
     "end_time": "2020-12-07T11:21:38.409096Z",
     "start_time": "2020-12-07T11:21:38.398118Z"
    }
   },
   "outputs": [
    {
     "name": "stdout",
     "output_type": "stream",
     "text": [
      "ts[fecha1]: 19690113.0\n",
      "\n",
      "13-1-1969\n",
      "14-1-1969\n",
      "\n",
      "19690113.0\n",
      "19690114.0\n"
     ]
    }
   ],
   "source": [
    "ts = Qcf.time_series()\n",
    "\n",
    "fecha1 = Qcf.QCDate(13, 1, 1969)\n",
    "ts[fecha1] = 19690113\n",
    "\n",
    "fecha2 = Qcf.QCDate(14, 1, 1969)\n",
    "ts[fecha2] = 19690114\n",
    "\n",
    "print(f'ts[fecha1]: {ts[fecha1]}\\n')\n",
    "\n",
    "dl = Qcf.time_series_dates(ts)\n",
    "for d in dl:\n",
    "    print(d)\n",
    "print()\n",
    "    \n",
    "vl = Qcf.time_series_values(ts)\n",
    "for v in vl:\n",
    "    print(v)"
   ]
  },
  {
   "cell_type": "markdown",
   "metadata": {},
   "source": [
    "## Clase `OisCashflow`"
   ]
  },
  {
   "cell_type": "markdown",
   "metadata": {},
   "source": [
    "La clase `OisCashflow` es una [`dataclass`](https://realpython.com/python-data-classes/). La tarea consiste en:\n",
    "\n",
    "- Implementar los 3 métodos de la clase que están con `pass`.\n",
    "- Implementar la función `present_value`.\n",
    "- Implementar la función `set_expected_rate`."
   ]
  },
  {
   "cell_type": "markdown",
   "metadata": {},
   "source": [
    "### Importar la data"
   ]
  },
  {
   "cell_type": "code",
   "execution_count": 5,
   "metadata": {
    "ExecuteTime": {
     "end_time": "2020-12-07T11:21:40.565264Z",
     "start_time": "2020-12-07T11:21:40.520768Z"
    }
   },
   "outputs": [],
   "source": [
    "data = pd.read_excel(\"../data/SOFR-10012019-10292020.xls\", sheet_name=\"nice format\")\n",
    "data[\"RATE\\n(PERCENT)\"]=data[\"RATE\\n(PERCENT)\"]/100\n",
    "#data=pd.DataFrame(data)\n"
   ]
  },
  {
   "cell_type": "markdown",
   "metadata": {},
   "source": [
    "### Variables"
   ]
  },
  {
   "cell_type": "code",
   "execution_count": 6,
   "metadata": {
    "ExecuteTime": {
     "end_time": "2020-12-07T11:21:41.288597Z",
     "start_time": "2020-12-07T11:21:41.284131Z"
    }
   },
   "outputs": [],
   "source": [
    "def _fechas(day,month,year):\n",
    "    date=Qcf.QCDate(day, month, year)\n",
    "    return date"
   ]
  },
  {
   "cell_type": "code",
   "execution_count": 7,
   "metadata": {
    "ExecuteTime": {
     "end_time": "2020-12-07T11:21:41.730841Z",
     "start_time": "2020-12-07T11:21:41.722692Z"
    }
   },
   "outputs": [],
   "source": [
    "#función para dejar las fechas en el formato requerido\n",
    "def formato_año(data):\n",
    "   \n",
    "    data.rename(columns={\"RATE\\n(PERCENT)\": \"fixing\"}, inplace=True)\n",
    "    lista=[]\n",
    "    i=0\n",
    "    while i < (len(data[\"DATE\"])):\n",
    "        year=int(data[\"DATE\"][i][0:4])\n",
    "        month=int(data[\"DATE\"][i][5:7])\n",
    "        day=int(data[\"DATE\"][i][8:10])\n",
    "        fecha=_fechas(day, month, year)\n",
    "        lista.append(fecha)\n",
    "        i=i+1\n",
    "    data[\"fechas\"]=(lista)\n",
    "    data=data.sort_values(by=\"DATE\",ascending=True)\n",
    "    return data\n",
    " "
   ]
  },
  {
   "cell_type": "code",
   "execution_count": 8,
   "metadata": {
    "ExecuteTime": {
     "end_time": "2020-12-07T11:21:42.211244Z",
     "start_time": "2020-12-07T11:21:42.159471Z"
    }
   },
   "outputs": [
    {
     "data": {
      "text/html": [
       "<div>\n",
       "<style scoped>\n",
       "    .dataframe tbody tr th:only-of-type {\n",
       "        vertical-align: middle;\n",
       "    }\n",
       "\n",
       "    .dataframe tbody tr th {\n",
       "        vertical-align: top;\n",
       "    }\n",
       "\n",
       "    .dataframe thead th {\n",
       "        text-align: right;\n",
       "    }\n",
       "</style>\n",
       "<table border=\"1\" class=\"dataframe\">\n",
       "  <thead>\n",
       "    <tr style=\"text-align: right;\">\n",
       "      <th></th>\n",
       "      <th>DATE</th>\n",
       "      <th>BENCHMARK NAME</th>\n",
       "      <th>fixing</th>\n",
       "      <th>fechas</th>\n",
       "    </tr>\n",
       "  </thead>\n",
       "  <tbody>\n",
       "    <tr>\n",
       "      <th>269</th>\n",
       "      <td>2019-10-01</td>\n",
       "      <td>SOFR</td>\n",
       "      <td>0.0188</td>\n",
       "      <td>1-10-2019</td>\n",
       "    </tr>\n",
       "    <tr>\n",
       "      <th>268</th>\n",
       "      <td>2019-10-02</td>\n",
       "      <td>SOFR</td>\n",
       "      <td>0.0185</td>\n",
       "      <td>2-10-2019</td>\n",
       "    </tr>\n",
       "    <tr>\n",
       "      <th>267</th>\n",
       "      <td>2019-10-03</td>\n",
       "      <td>SOFR</td>\n",
       "      <td>0.0184</td>\n",
       "      <td>3-10-2019</td>\n",
       "    </tr>\n",
       "    <tr>\n",
       "      <th>266</th>\n",
       "      <td>2019-10-04</td>\n",
       "      <td>SOFR</td>\n",
       "      <td>0.0182</td>\n",
       "      <td>4-10-2019</td>\n",
       "    </tr>\n",
       "    <tr>\n",
       "      <th>265</th>\n",
       "      <td>2019-10-07</td>\n",
       "      <td>SOFR</td>\n",
       "      <td>0.0183</td>\n",
       "      <td>7-10-2019</td>\n",
       "    </tr>\n",
       "    <tr>\n",
       "      <th>...</th>\n",
       "      <td>...</td>\n",
       "      <td>...</td>\n",
       "      <td>...</td>\n",
       "      <td>...</td>\n",
       "    </tr>\n",
       "    <tr>\n",
       "      <th>4</th>\n",
       "      <td>2020-10-22</td>\n",
       "      <td>SOFR</td>\n",
       "      <td>0.0007</td>\n",
       "      <td>22-10-2020</td>\n",
       "    </tr>\n",
       "    <tr>\n",
       "      <th>3</th>\n",
       "      <td>2020-10-23</td>\n",
       "      <td>SOFR</td>\n",
       "      <td>0.0008</td>\n",
       "      <td>23-10-2020</td>\n",
       "    </tr>\n",
       "    <tr>\n",
       "      <th>2</th>\n",
       "      <td>2020-10-26</td>\n",
       "      <td>SOFR</td>\n",
       "      <td>0.0009</td>\n",
       "      <td>26-10-2020</td>\n",
       "    </tr>\n",
       "    <tr>\n",
       "      <th>1</th>\n",
       "      <td>2020-10-27</td>\n",
       "      <td>SOFR</td>\n",
       "      <td>0.0009</td>\n",
       "      <td>27-10-2020</td>\n",
       "    </tr>\n",
       "    <tr>\n",
       "      <th>0</th>\n",
       "      <td>2020-10-28</td>\n",
       "      <td>SOFR</td>\n",
       "      <td>0.0008</td>\n",
       "      <td>28-10-2020</td>\n",
       "    </tr>\n",
       "  </tbody>\n",
       "</table>\n",
       "<p>270 rows × 4 columns</p>\n",
       "</div>"
      ],
      "text/plain": [
       "           DATE  BENCHMARK NAME   fixing      fechas\n",
       "269  2019-10-01             SOFR  0.0188   1-10-2019\n",
       "268  2019-10-02             SOFR  0.0185   2-10-2019\n",
       "267  2019-10-03             SOFR  0.0184   3-10-2019\n",
       "266  2019-10-04             SOFR  0.0182   4-10-2019\n",
       "265  2019-10-07             SOFR  0.0183   7-10-2019\n",
       "..          ...              ...     ...         ...\n",
       "4    2020-10-22             SOFR  0.0007  22-10-2020\n",
       "3    2020-10-23             SOFR  0.0008  23-10-2020\n",
       "2    2020-10-26             SOFR  0.0009  26-10-2020\n",
       "1    2020-10-27             SOFR  0.0009  27-10-2020\n",
       "0    2020-10-28             SOFR  0.0008  28-10-2020\n",
       "\n",
       "[270 rows x 4 columns]"
      ]
     },
     "execution_count": 8,
     "metadata": {},
     "output_type": "execute_result"
    }
   ],
   "source": [
    "#fecha formato\n",
    "data=formato_año(data)\n",
    "data"
   ]
  },
  {
   "cell_type": "code",
   "execution_count": 9,
   "metadata": {
    "ExecuteTime": {
     "end_time": "2020-12-07T11:21:42.625691Z",
     "start_time": "2020-12-07T11:21:42.586200Z"
    },
    "scrolled": true
   },
   "outputs": [
    {
     "data": {
      "text/html": [
       "<div>\n",
       "<style scoped>\n",
       "    .dataframe tbody tr th:only-of-type {\n",
       "        vertical-align: middle;\n",
       "    }\n",
       "\n",
       "    .dataframe tbody tr th {\n",
       "        vertical-align: top;\n",
       "    }\n",
       "\n",
       "    .dataframe thead th {\n",
       "        text-align: right;\n",
       "    }\n",
       "</style>\n",
       "<table border=\"1\" class=\"dataframe\">\n",
       "  <thead>\n",
       "    <tr style=\"text-align: right;\">\n",
       "      <th></th>\n",
       "      <th>DATE</th>\n",
       "      <th>BENCHMARK NAME</th>\n",
       "      <th>fixing</th>\n",
       "      <th>fechas</th>\n",
       "      <th>Plazos</th>\n",
       "    </tr>\n",
       "  </thead>\n",
       "  <tbody>\n",
       "    <tr>\n",
       "      <th>269</th>\n",
       "      <td>2019-10-01</td>\n",
       "      <td>SOFR</td>\n",
       "      <td>0.0188</td>\n",
       "      <td>1-10-2019</td>\n",
       "      <td>1</td>\n",
       "    </tr>\n",
       "    <tr>\n",
       "      <th>268</th>\n",
       "      <td>2019-10-02</td>\n",
       "      <td>SOFR</td>\n",
       "      <td>0.0185</td>\n",
       "      <td>2-10-2019</td>\n",
       "      <td>1</td>\n",
       "    </tr>\n",
       "    <tr>\n",
       "      <th>267</th>\n",
       "      <td>2019-10-03</td>\n",
       "      <td>SOFR</td>\n",
       "      <td>0.0184</td>\n",
       "      <td>3-10-2019</td>\n",
       "      <td>1</td>\n",
       "    </tr>\n",
       "    <tr>\n",
       "      <th>266</th>\n",
       "      <td>2019-10-04</td>\n",
       "      <td>SOFR</td>\n",
       "      <td>0.0182</td>\n",
       "      <td>4-10-2019</td>\n",
       "      <td>3</td>\n",
       "    </tr>\n",
       "    <tr>\n",
       "      <th>265</th>\n",
       "      <td>2019-10-07</td>\n",
       "      <td>SOFR</td>\n",
       "      <td>0.0183</td>\n",
       "      <td>7-10-2019</td>\n",
       "      <td>1</td>\n",
       "    </tr>\n",
       "    <tr>\n",
       "      <th>...</th>\n",
       "      <td>...</td>\n",
       "      <td>...</td>\n",
       "      <td>...</td>\n",
       "      <td>...</td>\n",
       "      <td>...</td>\n",
       "    </tr>\n",
       "    <tr>\n",
       "      <th>4</th>\n",
       "      <td>2020-10-22</td>\n",
       "      <td>SOFR</td>\n",
       "      <td>0.0007</td>\n",
       "      <td>22-10-2020</td>\n",
       "      <td>1</td>\n",
       "    </tr>\n",
       "    <tr>\n",
       "      <th>3</th>\n",
       "      <td>2020-10-23</td>\n",
       "      <td>SOFR</td>\n",
       "      <td>0.0008</td>\n",
       "      <td>23-10-2020</td>\n",
       "      <td>3</td>\n",
       "    </tr>\n",
       "    <tr>\n",
       "      <th>2</th>\n",
       "      <td>2020-10-26</td>\n",
       "      <td>SOFR</td>\n",
       "      <td>0.0009</td>\n",
       "      <td>26-10-2020</td>\n",
       "      <td>1</td>\n",
       "    </tr>\n",
       "    <tr>\n",
       "      <th>1</th>\n",
       "      <td>2020-10-27</td>\n",
       "      <td>SOFR</td>\n",
       "      <td>0.0009</td>\n",
       "      <td>27-10-2020</td>\n",
       "      <td>1</td>\n",
       "    </tr>\n",
       "    <tr>\n",
       "      <th>0</th>\n",
       "      <td>2020-10-28</td>\n",
       "      <td>SOFR</td>\n",
       "      <td>0.0008</td>\n",
       "      <td>28-10-2020</td>\n",
       "      <td>1</td>\n",
       "    </tr>\n",
       "  </tbody>\n",
       "</table>\n",
       "<p>270 rows × 5 columns</p>\n",
       "</div>"
      ],
      "text/plain": [
       "           DATE  BENCHMARK NAME   fixing      fechas  Plazos\n",
       "269  2019-10-01             SOFR  0.0188   1-10-2019       1\n",
       "268  2019-10-02             SOFR  0.0185   2-10-2019       1\n",
       "267  2019-10-03             SOFR  0.0184   3-10-2019       1\n",
       "266  2019-10-04             SOFR  0.0182   4-10-2019       3\n",
       "265  2019-10-07             SOFR  0.0183   7-10-2019       1\n",
       "..          ...              ...     ...         ...     ...\n",
       "4    2020-10-22             SOFR  0.0007  22-10-2020       1\n",
       "3    2020-10-23             SOFR  0.0008  23-10-2020       3\n",
       "2    2020-10-26             SOFR  0.0009  26-10-2020       1\n",
       "1    2020-10-27             SOFR  0.0009  27-10-2020       1\n",
       "0    2020-10-28             SOFR  0.0008  28-10-2020       1\n",
       "\n",
       "[270 rows x 5 columns]"
      ]
     },
     "execution_count": 9,
     "metadata": {},
     "output_type": "execute_result"
    }
   ],
   "source": [
    "#plazos\n",
    "plazo=[1]\n",
    "for j in range(0,len(data[\"fechas\"])-1):\n",
    "    plazos=data[\"fechas\"][1+j].day_diff(data[\"fechas\"][j])\n",
    "    plazo.append(plazos)\n",
    "    #plazo.append(1)\n",
    "data[\"Plazos\"]=plazo\n",
    "data=data.sort_values(by=\"DATE\",ascending=True)\n",
    "data"
   ]
  },
  {
   "cell_type": "code",
   "execution_count": 10,
   "metadata": {
    "ExecuteTime": {
     "end_time": "2020-12-07T11:21:42.711701Z",
     "start_time": "2020-12-07T11:21:42.707418Z"
    }
   },
   "outputs": [],
   "source": [
    "def get_wf(start_date, fecha_final, valor_tasa) -> float:\n",
    "    \n",
    "    qc_tasa = Qcf.QCInterestRate(valor_tasa, Qcf.QCAct360(), Qcf.QCLinearWf())\n",
    "    \n",
    "    return qc_tasa.wf(start_date, fecha_final)"
   ]
  },
  {
   "cell_type": "code",
   "execution_count": 11,
   "metadata": {
    "ExecuteTime": {
     "end_time": "2020-12-07T11:21:43.004904Z",
     "start_time": "2020-12-07T11:21:43.001111Z"
    }
   },
   "outputs": [],
   "source": [
    "#Para realizar el producto de una lista\n",
    "def producto(lista_numero):\n",
    "    resultado=1\n",
    "    for i in lista_numero:\n",
    "        resultado*=i\n",
    "    return resultado"
   ]
  },
  {
   "cell_type": "code",
   "execution_count": 12,
   "metadata": {
    "ExecuteTime": {
     "end_time": "2020-12-07T11:21:43.180227Z",
     "start_time": "2020-12-07T11:21:43.167462Z"
    }
   },
   "outputs": [],
   "source": [
    "class OIS:\n",
    "    \n",
    "    # AD: esto ne es necesario. El decorador @dataclass incluye toda esta mecánica.\n",
    "    # Además hay un error de sintaxis grave. El método __init__ lleva dos guiones bajos en cada lado.\n",
    "    # Llama la atención que no hayan detectado este error.\n",
    "    \n",
    "    def _init_ (self, start_date,fixings, end_date, settlement_date, notional, currency, amortization,amort_is_cashflow,interest_rate, on_index, spread, gearing):\n",
    "        \n",
    "        self.start_date = start_date  \n",
    "        self.fixings=fixings\n",
    "        self.notional=notional\n",
    "        self.currency = currency\n",
    "        self.amortization = amortization\n",
    "        self.amort_is_cashflow = amort_is_cashflow\n",
    "        self.interest_rate = interest_rate\n",
    "        self.on_index = on_index\n",
    "        self.spread = spread\n",
    "        self.gearing = gearing\n",
    "    def get_accrued_rate(self,start_date, fixings) -> float:\n",
    "        \n",
    "        \n",
    "        factor_capitalizacion=[]\n",
    "        self.final_data=self.start_date[0]\n",
    "        i=0\n",
    "        while i< (len(self.start_date)-1):\n",
    "            fc=get_wf(self.start_date[len(self.start_date)-1-i],self.start_date[(len(self.start_date)-2)-i],self.fixings[i])\n",
    "            factor_capitalizacion.append(fc)\n",
    "            i=i+1\n",
    "           \n",
    "        factor_capitalizacion.append(get_wf(self.start_date[1],self.start_date[0],self.fixings[0]))\n",
    "        self.P=producto(factor_capitalizacion)\n",
    "        self.diff_dias = self.start_date[len(self.start_date)-1].day_diff(self.start_date[0])\n",
    "        self.tasa_eq = (self.P-1) * 360.0 / self.diff_dias\n",
    "        return self.tasa_eq\n",
    "    \n",
    "    \n",
    "    def get_accrued_interest(self, start_date: Qcf.QCDate, fixings) -> float:\n",
    "        self.notional = 10000000\n",
    "        self.interes_flot_ois = (self.notional*self.tasa_eq*self.diff_dias) / 360\n",
    "        return self.interes_flot_ois\n",
    "    \n",
    "    def amount(self, fixings) -> float:\n",
    "        self.flujo_total=self.interes_flot_ois+self.notional\n",
    "        return self.flujo_total \n",
    "\n",
    "    "
   ]
  },
  {
   "cell_type": "code",
   "execution_count": 13,
   "metadata": {
    "ExecuteTime": {
     "end_time": "2020-12-07T11:21:43.362003Z",
     "start_time": "2020-12-07T11:21:43.334663Z"
    }
   },
   "outputs": [
    {
     "name": "stdout",
     "output_type": "stream",
     "text": [
      "La tasa equivalente es: 0.00696242230123633\n",
      "El interes es: 76006.44345516327\n",
      "El monto es: 10076006.443455163\n"
     ]
    }
   ],
   "source": [
    "r1=OIS()\n",
    "start_date=r1.start_date=data[\"fechas\"]\n",
    "fixings=r1.fixings=data[\"fixing\"]\n",
    "#Llamado a la primera función de la clase\n",
    "print(\"La tasa equivalente es:\",r1.get_accrued_rate(start_date,fixings))\n",
    "#Llamado a lasegunda función de la clase\n",
    "print(\"El interes es:\",r1.get_accrued_interest(start_date,fixings))\n",
    "#Llamado a la tercera funciónd e la clase\n",
    "print(\"El monto es:\",r1.amount(fixings))"
   ]
  },
  {
   "cell_type": "markdown",
   "metadata": {},
   "source": [
    "Construcción de un objeto `Qcf.InterestRateIndex`."
   ]
  },
  {
   "cell_type": "code",
   "execution_count": 14,
   "metadata": {
    "ExecuteTime": {
     "end_time": "2020-12-07T11:21:43.865298Z",
     "start_time": "2020-12-07T11:21:43.858963Z"
    }
   },
   "outputs": [],
   "source": [
    "codigo = 'SOFR'\n",
    "tasa_on = Qcf.QCInterestRate(.0, Qcf.QCAct360(), Qcf.QCLinearWf())\n",
    "fixing_lag = Qcf.Tenor('0d')\n",
    "tenor = Qcf.Tenor('1d')\n",
    "fixing_calendar = get_cal(BusCal.NY)     \n",
    "settlement_calendar = fixing_calendar  \n",
    "sofr = Qcf.InterestRateIndex(\n",
    "    codigo,\n",
    "    tasa_on,\n",
    "    fixing_lag,\n",
    "    tenor,\n",
    "    fixing_calendar,\n",
    "    settlement_calendar,\n",
    "    Qcf.QCUSD()\n",
    ")"
   ]
  },
  {
   "cell_type": "markdown",
   "metadata": {},
   "source": [
    "Construcción de una instancia de `OisCashflow`."
   ]
  },
  {
   "cell_type": "code",
   "execution_count": 15,
   "metadata": {
    "ExecuteTime": {
     "end_time": "2020-12-07T11:21:44.361037Z",
     "start_time": "2020-12-07T11:21:44.245241Z"
    }
   },
   "outputs": [
    {
     "ename": "TypeError",
     "evalue": "OIS() takes no arguments",
     "output_type": "error",
     "traceback": [
      "\u001b[0;31m---------------------------------------------------------------------------\u001b[0m",
      "\u001b[0;31mTypeError\u001b[0m                                 Traceback (most recent call last)",
      "\u001b[0;32m<ipython-input-15-a747794dd547>\u001b[0m in \u001b[0;36m<module>\u001b[0;34m\u001b[0m\n\u001b[1;32m     10\u001b[0m     \u001b[0msofr\u001b[0m\u001b[0;34m,\u001b[0m\u001b[0;34m\u001b[0m\u001b[0;34m\u001b[0m\u001b[0m\n\u001b[1;32m     11\u001b[0m     \u001b[0;36m0\u001b[0m\u001b[0;34m,\u001b[0m\u001b[0;34m\u001b[0m\u001b[0;34m\u001b[0m\u001b[0m\n\u001b[0;32m---> 12\u001b[0;31m     \u001b[0;36m1\u001b[0m\u001b[0;34m\u001b[0m\u001b[0;34m\u001b[0m\u001b[0m\n\u001b[0m\u001b[1;32m     13\u001b[0m )\n",
      "\u001b[0;31mTypeError\u001b[0m: OIS() takes no arguments"
     ]
    }
   ],
   "source": [
    "ois = OIS(\n",
    "    Qcf.QCDate(1, 10, 2019),\n",
    "    Qcf.QCDate(28, 10, 2020),\n",
    "    Qcf.QCDate(1, 10, 2019),\n",
    "    10000000,\n",
    "    Qcf.QCUSD(),\n",
    "    1000000,\n",
    "    True,\n",
    "    Qcf.QCInterestRate(0.0, Qcf.QCAct360(), Qcf.QCLinearWf()),\n",
    "    sofr,\n",
    "    0,\n",
    "    1\n",
    ")"
   ]
  },
  {
   "cell_type": "code",
   "execution_count": 16,
   "metadata": {
    "ExecuteTime": {
     "end_time": "2020-12-07T11:21:44.468964Z",
     "start_time": "2020-12-07T11:21:44.464764Z"
    }
   },
   "outputs": [
    {
     "name": "stdout",
     "output_type": "stream",
     "text": [
      "Hacer algo\n"
     ]
    }
   ],
   "source": [
    "try:\n",
    "    ois.test1(0)\n",
    "except Exception as e:\n",
    "    print('Hacer algo')"
   ]
  },
  {
   "cell_type": "markdown",
   "metadata": {},
   "source": [
    "## Funciones"
   ]
  },
  {
   "cell_type": "code",
   "execution_count": 17,
   "metadata": {
    "ExecuteTime": {
     "end_time": "2020-12-07T11:21:44.858026Z",
     "start_time": "2020-12-07T11:21:44.828384Z"
    }
   },
   "outputs": [
    {
     "data": {
      "text/html": [
       "<div>\n",
       "<style scoped>\n",
       "    .dataframe tbody tr th:only-of-type {\n",
       "        vertical-align: middle;\n",
       "    }\n",
       "\n",
       "    .dataframe tbody tr th {\n",
       "        vertical-align: top;\n",
       "    }\n",
       "\n",
       "    .dataframe thead th {\n",
       "        text-align: right;\n",
       "    }\n",
       "</style>\n",
       "<table border=\"1\" class=\"dataframe\">\n",
       "  <thead>\n",
       "    <tr style=\"text-align: right;\">\n",
       "      <th></th>\n",
       "      <th>plazo</th>\n",
       "      <th>tasa</th>\n",
       "      <th>df</th>\n",
       "    </tr>\n",
       "  </thead>\n",
       "  <tbody>\n",
       "    <tr>\n",
       "      <th>0</th>\n",
       "      <td>1</td>\n",
       "      <td>0.000811</td>\n",
       "      <td>0.999998</td>\n",
       "    </tr>\n",
       "    <tr>\n",
       "      <th>1</th>\n",
       "      <td>7</td>\n",
       "      <td>0.000841</td>\n",
       "      <td>0.999984</td>\n",
       "    </tr>\n",
       "    <tr>\n",
       "      <th>2</th>\n",
       "      <td>14</td>\n",
       "      <td>0.000780</td>\n",
       "      <td>0.999970</td>\n",
       "    </tr>\n",
       "    <tr>\n",
       "      <th>3</th>\n",
       "      <td>21</td>\n",
       "      <td>0.000774</td>\n",
       "      <td>0.999955</td>\n",
       "    </tr>\n",
       "    <tr>\n",
       "      <th>4</th>\n",
       "      <td>33</td>\n",
       "      <td>0.000781</td>\n",
       "      <td>0.999929</td>\n",
       "    </tr>\n",
       "    <tr>\n",
       "      <th>5</th>\n",
       "      <td>61</td>\n",
       "      <td>0.000781</td>\n",
       "      <td>0.999870</td>\n",
       "    </tr>\n",
       "    <tr>\n",
       "      <th>6</th>\n",
       "      <td>92</td>\n",
       "      <td>0.000811</td>\n",
       "      <td>0.999796</td>\n",
       "    </tr>\n",
       "    <tr>\n",
       "      <th>7</th>\n",
       "      <td>125</td>\n",
       "      <td>0.000781</td>\n",
       "      <td>0.999733</td>\n",
       "    </tr>\n",
       "    <tr>\n",
       "      <th>8</th>\n",
       "      <td>152</td>\n",
       "      <td>0.000760</td>\n",
       "      <td>0.999683</td>\n",
       "    </tr>\n",
       "    <tr>\n",
       "      <th>9</th>\n",
       "      <td>182</td>\n",
       "      <td>0.000750</td>\n",
       "      <td>0.999626</td>\n",
       "    </tr>\n",
       "    <tr>\n",
       "      <th>10</th>\n",
       "      <td>212</td>\n",
       "      <td>0.000736</td>\n",
       "      <td>0.999573</td>\n",
       "    </tr>\n",
       "    <tr>\n",
       "      <th>11</th>\n",
       "      <td>243</td>\n",
       "      <td>0.000725</td>\n",
       "      <td>0.999518</td>\n",
       "    </tr>\n",
       "    <tr>\n",
       "      <th>12</th>\n",
       "      <td>273</td>\n",
       "      <td>0.000720</td>\n",
       "      <td>0.999462</td>\n",
       "    </tr>\n",
       "    <tr>\n",
       "      <th>13</th>\n",
       "      <td>306</td>\n",
       "      <td>0.000714</td>\n",
       "      <td>0.999402</td>\n",
       "    </tr>\n",
       "    <tr>\n",
       "      <th>14</th>\n",
       "      <td>335</td>\n",
       "      <td>0.000708</td>\n",
       "      <td>0.999350</td>\n",
       "    </tr>\n",
       "    <tr>\n",
       "      <th>15</th>\n",
       "      <td>365</td>\n",
       "      <td>0.000702</td>\n",
       "      <td>0.999298</td>\n",
       "    </tr>\n",
       "    <tr>\n",
       "      <th>16</th>\n",
       "      <td>547</td>\n",
       "      <td>0.000642</td>\n",
       "      <td>0.999039</td>\n",
       "    </tr>\n",
       "    <tr>\n",
       "      <th>17</th>\n",
       "      <td>730</td>\n",
       "      <td>0.000568</td>\n",
       "      <td>0.998865</td>\n",
       "    </tr>\n",
       "    <tr>\n",
       "      <th>18</th>\n",
       "      <td>1097</td>\n",
       "      <td>0.000750</td>\n",
       "      <td>0.997748</td>\n",
       "    </tr>\n",
       "    <tr>\n",
       "      <th>19</th>\n",
       "      <td>1462</td>\n",
       "      <td>0.001258</td>\n",
       "      <td>0.994976</td>\n",
       "    </tr>\n",
       "    <tr>\n",
       "      <th>20</th>\n",
       "      <td>1826</td>\n",
       "      <td>0.001939</td>\n",
       "      <td>0.990348</td>\n",
       "    </tr>\n",
       "    <tr>\n",
       "      <th>21</th>\n",
       "      <td>2191</td>\n",
       "      <td>0.002775</td>\n",
       "      <td>0.983483</td>\n",
       "    </tr>\n",
       "    <tr>\n",
       "      <th>22</th>\n",
       "      <td>2556</td>\n",
       "      <td>0.003603</td>\n",
       "      <td>0.975082</td>\n",
       "    </tr>\n",
       "    <tr>\n",
       "      <th>23</th>\n",
       "      <td>2924</td>\n",
       "      <td>0.004384</td>\n",
       "      <td>0.965489</td>\n",
       "    </tr>\n",
       "    <tr>\n",
       "      <th>24</th>\n",
       "      <td>3288</td>\n",
       "      <td>0.005117</td>\n",
       "      <td>0.954953</td>\n",
       "    </tr>\n",
       "    <tr>\n",
       "      <th>25</th>\n",
       "      <td>3653</td>\n",
       "      <td>0.005812</td>\n",
       "      <td>0.943495</td>\n",
       "    </tr>\n",
       "    <tr>\n",
       "      <th>26</th>\n",
       "      <td>4383</td>\n",
       "      <td>0.006917</td>\n",
       "      <td>0.920290</td>\n",
       "    </tr>\n",
       "    <tr>\n",
       "      <th>27</th>\n",
       "      <td>5479</td>\n",
       "      <td>0.008064</td>\n",
       "      <td>0.885997</td>\n",
       "    </tr>\n",
       "    <tr>\n",
       "      <th>28</th>\n",
       "      <td>7306</td>\n",
       "      <td>0.009253</td>\n",
       "      <td>0.830924</td>\n",
       "    </tr>\n",
       "    <tr>\n",
       "      <th>29</th>\n",
       "      <td>9133</td>\n",
       "      <td>0.009657</td>\n",
       "      <td>0.785338</td>\n",
       "    </tr>\n",
       "    <tr>\n",
       "      <th>30</th>\n",
       "      <td>10957</td>\n",
       "      <td>0.009881</td>\n",
       "      <td>0.743326</td>\n",
       "    </tr>\n",
       "    <tr>\n",
       "      <th>31</th>\n",
       "      <td>14610</td>\n",
       "      <td>0.009408</td>\n",
       "      <td>0.686197</td>\n",
       "    </tr>\n",
       "    <tr>\n",
       "      <th>32</th>\n",
       "      <td>18262</td>\n",
       "      <td>0.008464</td>\n",
       "      <td>0.654757</td>\n",
       "    </tr>\n",
       "  </tbody>\n",
       "</table>\n",
       "</div>"
      ],
      "text/plain": [
       "    plazo      tasa        df\n",
       "0       1  0.000811  0.999998\n",
       "1       7  0.000841  0.999984\n",
       "2      14  0.000780  0.999970\n",
       "3      21  0.000774  0.999955\n",
       "4      33  0.000781  0.999929\n",
       "5      61  0.000781  0.999870\n",
       "6      92  0.000811  0.999796\n",
       "7     125  0.000781  0.999733\n",
       "8     152  0.000760  0.999683\n",
       "9     182  0.000750  0.999626\n",
       "10    212  0.000736  0.999573\n",
       "11    243  0.000725  0.999518\n",
       "12    273  0.000720  0.999462\n",
       "13    306  0.000714  0.999402\n",
       "14    335  0.000708  0.999350\n",
       "15    365  0.000702  0.999298\n",
       "16    547  0.000642  0.999039\n",
       "17    730  0.000568  0.998865\n",
       "18   1097  0.000750  0.997748\n",
       "19   1462  0.001258  0.994976\n",
       "20   1826  0.001939  0.990348\n",
       "21   2191  0.002775  0.983483\n",
       "22   2556  0.003603  0.975082\n",
       "23   2924  0.004384  0.965489\n",
       "24   3288  0.005117  0.954953\n",
       "25   3653  0.005812  0.943495\n",
       "26   4383  0.006917  0.920290\n",
       "27   5479  0.008064  0.885997\n",
       "28   7306  0.009253  0.830924\n",
       "29   9133  0.009657  0.785338\n",
       "30  10957  0.009881  0.743326\n",
       "31  14610  0.009408  0.686197\n",
       "32  18262  0.008464  0.654757"
      ]
     },
     "execution_count": 17,
     "metadata": {},
     "output_type": "execute_result"
    }
   ],
   "source": [
    "# Data\n",
    "df_curva = pd.read_excel(\"../data/20201012_built_sofr_zero.xlsx\")\n",
    "df_curva"
   ]
  },
  {
   "cell_type": "code",
   "execution_count": 18,
   "metadata": {
    "ExecuteTime": {
     "end_time": "2020-12-07T11:21:45.030104Z",
     "start_time": "2020-12-07T11:21:45.026175Z"
    }
   },
   "outputs": [],
   "source": [
    "#Formato de la tabla\n",
    "frmt = {\n",
    "    'nominal': '{:,.2f}',\n",
    "    'amortizacion': '{:,.2f}',\n",
    "    'interes': '{:,.2f}',\n",
    "    'flujo': '{:,.2f}',\n",
    "    'interes_cap': '{:,.2f}',\n",
    "    'interes_total': '{:,.2f}',\n",
    "    'valor_tasa': '{:.6%}',\n",
    "    'tasa': '{:.6%}'\n",
    "}"
   ]
  },
  {
   "cell_type": "code",
   "execution_count": 19,
   "metadata": {
    "ExecuteTime": {
     "end_time": "2020-12-07T11:21:45.269959Z",
     "start_time": "2020-12-07T11:21:45.266540Z"
    }
   },
   "outputs": [],
   "source": [
    "def get_ois():\n",
    "    get_ois_sofr = partial(aux.get_ois_using_template, aux.type_ois_template, aux.TypeOis.SOFR)\n",
    "    return get_ois_sofr"
   ]
  },
  {
   "cell_type": "code",
   "execution_count": 20,
   "metadata": {
    "ExecuteTime": {
     "end_time": "2020-12-07T11:21:45.425264Z",
     "start_time": "2020-12-07T11:21:45.418262Z"
    }
   },
   "outputs": [],
   "source": [
    "def set_expected_rate(\n",
    "        val_date: Qcf.QCDate,\n",
    "        ois_cashflow: OIS,\n",
    "        zcc: Qcf.ZeroCouponCurve,\n",
    "        fixings: Qcf.time_series) -> None:\n",
    "    \n",
    "    fwd = Qcf.ForwardRates()\n",
    "    get=get_ois()   \n",
    "    op = get(rp=Qcf.RecPay.RECEIVE,notional=10000000,start_date=Qcf.QCDate(1, 6, 2019),tenor=Qcf.Tenor('2Y'),fixed_rate_value=.01,spread=0,gearing=1) \n",
    "    i=0\n",
    "    while i< len(fixings):\n",
    "        operaciones = fwd.set_rates_icp_clp_leg(val_date, fixings[i], op[1], zcc)\n",
    "        i=i+1\n",
    "    return aux.show_leg(op[1], 'IcpClpCashflow', '').style.format(frmt)"
   ]
  },
  {
   "cell_type": "code",
   "execution_count": 21,
   "metadata": {
    "ExecuteTime": {
     "end_time": "2020-12-07T11:21:45.732951Z",
     "start_time": "2020-12-07T11:21:45.619321Z"
    }
   },
   "outputs": [
    {
     "data": {
      "text/html": [
       "<style  type=\"text/css\" >\n",
       "</style><table id=\"T_63dac260_387e_11eb_a3d0_02cba411ec9d\" ><thead>    <tr>        <th class=\"blank level0\" ></th>        <th class=\"col_heading level0 col0\" >fecha_inicial</th>        <th class=\"col_heading level0 col1\" >fecha_final</th>        <th class=\"col_heading level0 col2\" >fecha_pago</th>        <th class=\"col_heading level0 col3\" >nominal</th>        <th class=\"col_heading level0 col4\" >amortizacion</th>        <th class=\"col_heading level0 col5\" >amort_es_flujo</th>        <th class=\"col_heading level0 col6\" >flujo</th>        <th class=\"col_heading level0 col7\" >moneda</th>        <th class=\"col_heading level0 col8\" >icp_inicial</th>        <th class=\"col_heading level0 col9\" >icp_final</th>        <th class=\"col_heading level0 col10\" >valor_tasa</th>        <th class=\"col_heading level0 col11\" >interes</th>        <th class=\"col_heading level0 col12\" >spread</th>        <th class=\"col_heading level0 col13\" >gearing</th>        <th class=\"col_heading level0 col14\" >tipo_tasa</th>    </tr></thead><tbody>\n",
       "                <tr>\n",
       "                        <th id=\"T_63dac260_387e_11eb_a3d0_02cba411ec9dlevel0_row0\" class=\"row_heading level0 row0\" >0</th>\n",
       "                        <td id=\"T_63dac260_387e_11eb_a3d0_02cba411ec9drow0_col0\" class=\"data row0 col0\" >2019-06-01</td>\n",
       "                        <td id=\"T_63dac260_387e_11eb_a3d0_02cba411ec9drow0_col1\" class=\"data row0 col1\" >2020-06-01</td>\n",
       "                        <td id=\"T_63dac260_387e_11eb_a3d0_02cba411ec9drow0_col2\" class=\"data row0 col2\" >2020-06-01</td>\n",
       "                        <td id=\"T_63dac260_387e_11eb_a3d0_02cba411ec9drow0_col3\" class=\"data row0 col3\" >-10,000,000.00</td>\n",
       "                        <td id=\"T_63dac260_387e_11eb_a3d0_02cba411ec9drow0_col4\" class=\"data row0 col4\" >0.00</td>\n",
       "                        <td id=\"T_63dac260_387e_11eb_a3d0_02cba411ec9drow0_col5\" class=\"data row0 col5\" >True</td>\n",
       "                        <td id=\"T_63dac260_387e_11eb_a3d0_02cba411ec9drow0_col6\" class=\"data row0 col6\" >0.00</td>\n",
       "                        <td id=\"T_63dac260_387e_11eb_a3d0_02cba411ec9drow0_col7\" class=\"data row0 col7\" >CLP</td>\n",
       "                        <td id=\"T_63dac260_387e_11eb_a3d0_02cba411ec9drow0_col8\" class=\"data row0 col8\" >1.000000</td>\n",
       "                        <td id=\"T_63dac260_387e_11eb_a3d0_02cba411ec9drow0_col9\" class=\"data row0 col9\" >1.000000</td>\n",
       "                        <td id=\"T_63dac260_387e_11eb_a3d0_02cba411ec9drow0_col10\" class=\"data row0 col10\" >0.000000%</td>\n",
       "                        <td id=\"T_63dac260_387e_11eb_a3d0_02cba411ec9drow0_col11\" class=\"data row0 col11\" >-0.00</td>\n",
       "                        <td id=\"T_63dac260_387e_11eb_a3d0_02cba411ec9drow0_col12\" class=\"data row0 col12\" >0.000000</td>\n",
       "                        <td id=\"T_63dac260_387e_11eb_a3d0_02cba411ec9drow0_col13\" class=\"data row0 col13\" >1.000000</td>\n",
       "                        <td id=\"T_63dac260_387e_11eb_a3d0_02cba411ec9drow0_col14\" class=\"data row0 col14\" >LinAct360</td>\n",
       "            </tr>\n",
       "            <tr>\n",
       "                        <th id=\"T_63dac260_387e_11eb_a3d0_02cba411ec9dlevel0_row1\" class=\"row_heading level0 row1\" >1</th>\n",
       "                        <td id=\"T_63dac260_387e_11eb_a3d0_02cba411ec9drow1_col0\" class=\"data row1 col0\" >2020-06-01</td>\n",
       "                        <td id=\"T_63dac260_387e_11eb_a3d0_02cba411ec9drow1_col1\" class=\"data row1 col1\" >2021-06-01</td>\n",
       "                        <td id=\"T_63dac260_387e_11eb_a3d0_02cba411ec9drow1_col2\" class=\"data row1 col2\" >2021-06-01</td>\n",
       "                        <td id=\"T_63dac260_387e_11eb_a3d0_02cba411ec9drow1_col3\" class=\"data row1 col3\" >-10,000,000.00</td>\n",
       "                        <td id=\"T_63dac260_387e_11eb_a3d0_02cba411ec9drow1_col4\" class=\"data row1 col4\" >-10,000,000.00</td>\n",
       "                        <td id=\"T_63dac260_387e_11eb_a3d0_02cba411ec9drow1_col5\" class=\"data row1 col5\" >True</td>\n",
       "                        <td id=\"T_63dac260_387e_11eb_a3d0_02cba411ec9drow1_col6\" class=\"data row1 col6\" >-188,090.37</td>\n",
       "                        <td id=\"T_63dac260_387e_11eb_a3d0_02cba411ec9drow1_col7\" class=\"data row1 col7\" >CLP</td>\n",
       "                        <td id=\"T_63dac260_387e_11eb_a3d0_02cba411ec9drow1_col8\" class=\"data row1 col8\" >1.000000</td>\n",
       "                        <td id=\"T_63dac260_387e_11eb_a3d0_02cba411ec9drow1_col9\" class=\"data row1 col9\" >0.018809</td>\n",
       "                        <td id=\"T_63dac260_387e_11eb_a3d0_02cba411ec9drow1_col10\" class=\"data row1 col10\" >-96.770000%</td>\n",
       "                        <td id=\"T_63dac260_387e_11eb_a3d0_02cba411ec9drow1_col11\" class=\"data row1 col11\" >9,811,402.78</td>\n",
       "                        <td id=\"T_63dac260_387e_11eb_a3d0_02cba411ec9drow1_col12\" class=\"data row1 col12\" >0.000000</td>\n",
       "                        <td id=\"T_63dac260_387e_11eb_a3d0_02cba411ec9drow1_col13\" class=\"data row1 col13\" >1.000000</td>\n",
       "                        <td id=\"T_63dac260_387e_11eb_a3d0_02cba411ec9drow1_col14\" class=\"data row1 col14\" >LinAct360</td>\n",
       "            </tr>\n",
       "    </tbody></table>"
      ],
      "text/plain": [
       "<pandas.io.formats.style.Styler at 0x7f69010ec898>"
      ]
     },
     "execution_count": 21,
     "metadata": {},
     "output_type": "execute_result"
    }
   ],
   "source": [
    "zcc = aux.get_curve_from_dataframe(Qcf.QCAct365(),Qcf.QCCompoundWf(), df_curva)\n",
    "val_date=Qcf.QCDate(2, 10, 2020)\n",
    "fixing=data[\"fixing\"]\n",
    "Tasas_esperadas=set_expected_rate(val_date, OIS, zcc, fixing)\n",
    "Tasas_esperadas"
   ]
  },
  {
   "cell_type": "code",
   "execution_count": 22,
   "metadata": {
    "ExecuteTime": {
     "end_time": "2020-12-07T11:21:45.813048Z",
     "start_time": "2020-12-07T11:21:45.803680Z"
    }
   },
   "outputs": [],
   "source": [
    "def present_value(val_date,ois_cashflow,zcc) -> float:\n",
    "    Tasa =zcc.get_rate_at(plazo)\n",
    "    DF=zcc.get_discount_factor_at(plazo)\n",
    "    OIS = partial(aux.get_ois_using_template, aux.type_ois_template, aux.TypeOis.SOFR)\n",
    "    OP = OIS(rp=Qcf.RecPay.RECEIVE,notional=10000000,start_date=Qcf.QCDate(1, 9, 2020),tenor=Qcf.Tenor('2Y'),fixed_rate_value=.01,spread=0.0,gearing=1.0)\n",
    "    valor_presente = Qcf.PresentValue()\n",
    "    fecha= val_date\n",
    "    Forward = Qcf.ForwardRates()\n",
    "    Forward.set_rates_icp_clp_leg(fecha, 1.0, OP[1], zcc)\n",
    "    vp_flot = valor_presente.pv(fecha, OP[1], zcc)\n",
    "    vp_fija = valor_presente.pv(fecha, OP[0], zcc)\n",
    "    valor_total=vp_fija+vp_flot\n",
    "    return valor_total"
   ]
  },
  {
   "cell_type": "code",
   "execution_count": 23,
   "metadata": {
    "ExecuteTime": {
     "end_time": "2020-12-07T11:21:46.052200Z",
     "start_time": "2020-12-07T11:21:46.000260Z"
    }
   },
   "outputs": [
    {
     "data": {
      "text/plain": [
       "191725.23899785243"
      ]
     },
     "execution_count": 23,
     "metadata": {},
     "output_type": "execute_result"
    }
   ],
   "source": [
    "#Para la función 5 \n",
    "zcc = aux.get_curve_from_dataframe(Qcf.QCAct365(),Qcf.QCCompoundWf(), df_curva)\n",
    "plazo = 730\n",
    "Tasa_730 =zcc.get_rate_at(plazo)\n",
    "DF=zcc.get_discount_factor_at(plazo)\n",
    "val_date=Qcf.QCDate(28, 10, 2020)\n",
    "present_value(val_date,OIS,zcc)"
   ]
  },
  {
   "cell_type": "markdown",
   "metadata": {},
   "source": [
    "## Tests"
   ]
  },
  {
   "cell_type": "code",
   "execution_count": 24,
   "metadata": {
    "ExecuteTime": {
     "end_time": "2020-12-07T11:21:46.446286Z",
     "start_time": "2020-12-07T11:21:46.442263Z"
    }
   },
   "outputs": [],
   "source": [
    "import sys\n",
    "sys.path.insert(1, '../modules')\n",
    "import auxiliary as aux"
   ]
  },
  {
   "cell_type": "code",
   "execution_count": 25,
   "metadata": {
    "ExecuteTime": {
     "end_time": "2020-12-07T11:21:46.666277Z",
     "start_time": "2020-12-07T11:21:46.662441Z"
    }
   },
   "outputs": [],
   "source": [
    "amount_tol = 10000\n",
    "rate_tol = .001"
   ]
  },
  {
   "cell_type": "code",
   "execution_count": 26,
   "metadata": {
    "ExecuteTime": {
     "end_time": "2020-12-07T11:21:46.879777Z",
     "start_time": "2020-12-07T11:21:46.876511Z"
    }
   },
   "outputs": [],
   "source": [
    "exitos = 0"
   ]
  },
  {
   "cell_type": "code",
   "execution_count": 27,
   "metadata": {
    "ExecuteTime": {
     "end_time": "2020-12-07T11:21:47.074909Z",
     "start_time": "2020-12-07T11:21:47.069214Z"
    }
   },
   "outputs": [],
   "source": [
    "def suma_exito(resultado, check, tipo):\n",
    "    global exitos\n",
    "    if resultado is None:\n",
    "        return\n",
    "    else:\n",
    "        print('Suma medio punto por obtener resultado.')\n",
    "        exitos += .5\n",
    "        if tipo == 'monto':\n",
    "            if abs(resultado - check) < amount_tol:\n",
    "                print('Suma 1 punto por obtener resultado dentro de la tolerancia.')\n",
    "                exitos += 1\n",
    "        else:\n",
    "            if abs(resultado - check) < rate_tol:\n",
    "                print('Suma 1 punto por obtener resultado dentro de la tolerancia.')\n",
    "                exitos += 1"
   ]
  },
  {
   "cell_type": "markdown",
   "metadata": {},
   "source": [
    "Construcción de una instancia de `OisCashflow`."
   ]
  },
  {
   "cell_type": "code",
   "execution_count": 28,
   "metadata": {
    "ExecuteTime": {
     "end_time": "2020-12-07T11:21:47.482623Z",
     "start_time": "2020-12-07T11:21:47.479081Z"
    }
   },
   "outputs": [],
   "source": [
    "ois = OIS()"
   ]
  },
  {
   "cell_type": "code",
   "execution_count": 29,
   "metadata": {
    "ExecuteTime": {
     "end_time": "2020-12-07T11:21:47.688642Z",
     "start_time": "2020-12-07T11:21:47.685686Z"
    }
   },
   "outputs": [],
   "source": [
    "#ois = OisCashflow(\n",
    "#    Qcf.QCDate(1, 10, 2019),\n",
    "#    Qcf.QCDate(1, 10, 2020),\n",
    "#    Qcf.QCDate(1, 10, 2020),\n",
    "#    10000000,\n",
    "#    Qcf.QCUSD(),\n",
    "#    1000000,\n",
    "#    True,\n",
    "#    Qcf.QCInterestRate(0.0, Qcf.QCAct360(), Qcf.QCLinearWf()),\n",
    "#    sofr,\n",
    "#    0,\n",
    "#    1,\n",
    "#    settlement_calendar\n",
    "#)"
   ]
  },
  {
   "cell_type": "markdown",
   "metadata": {},
   "source": [
    "AD: Al instanciar de esta forma el objeto OIS, éste no contiene data alguna. Como el método `__init__` está mal declarado, la clase ni siquiera tiene las variables internas donde guardar la data.\n",
    "Además de no seguir las instrucciones, esto obliga a modificar la clase antes de poder usar sus métodos."
   ]
  },
  {
   "cell_type": "markdown",
   "metadata": {},
   "source": [
    "En la siguiente variable `exitos` se registra cuantos tests se superan con éxito."
   ]
  },
  {
   "cell_type": "markdown",
   "metadata": {},
   "source": [
    "### Objeto `fixings`"
   ]
  },
  {
   "cell_type": "code",
   "execution_count": 30,
   "metadata": {
    "ExecuteTime": {
     "end_time": "2020-12-07T11:21:48.529691Z",
     "start_time": "2020-12-07T11:21:48.503665Z"
    }
   },
   "outputs": [],
   "source": [
    "df_fixings = pd.read_excel('../data/SOFR-10012019-10292020.xls', sheet_name='nice format')\n",
    "df_fixings.columns = ['fecha', 'nombre', 'valor']\n",
    "df_fixings['valor'] /= 100"
   ]
  },
  {
   "cell_type": "code",
   "execution_count": 31,
   "metadata": {
    "ExecuteTime": {
     "end_time": "2020-12-07T11:21:48.714917Z",
     "start_time": "2020-12-07T11:21:48.703039Z"
    }
   },
   "outputs": [
    {
     "data": {
      "text/html": [
       "<style  type=\"text/css\" >\n",
       "</style><table id=\"T_65a1aeec_387e_11eb_a3d0_02cba411ec9d\" ><thead>    <tr>        <th class=\"blank level0\" ></th>        <th class=\"col_heading level0 col0\" >fecha</th>        <th class=\"col_heading level0 col1\" >nombre</th>        <th class=\"col_heading level0 col2\" >valor</th>    </tr></thead><tbody>\n",
       "                <tr>\n",
       "                        <th id=\"T_65a1aeec_387e_11eb_a3d0_02cba411ec9dlevel0_row0\" class=\"row_heading level0 row0\" >0</th>\n",
       "                        <td id=\"T_65a1aeec_387e_11eb_a3d0_02cba411ec9drow0_col0\" class=\"data row0 col0\" >2020-10-28</td>\n",
       "                        <td id=\"T_65a1aeec_387e_11eb_a3d0_02cba411ec9drow0_col1\" class=\"data row0 col1\" >SOFR</td>\n",
       "                        <td id=\"T_65a1aeec_387e_11eb_a3d0_02cba411ec9drow0_col2\" class=\"data row0 col2\" >0.0800%</td>\n",
       "            </tr>\n",
       "            <tr>\n",
       "                        <th id=\"T_65a1aeec_387e_11eb_a3d0_02cba411ec9dlevel0_row1\" class=\"row_heading level0 row1\" >1</th>\n",
       "                        <td id=\"T_65a1aeec_387e_11eb_a3d0_02cba411ec9drow1_col0\" class=\"data row1 col0\" >2020-10-27</td>\n",
       "                        <td id=\"T_65a1aeec_387e_11eb_a3d0_02cba411ec9drow1_col1\" class=\"data row1 col1\" >SOFR</td>\n",
       "                        <td id=\"T_65a1aeec_387e_11eb_a3d0_02cba411ec9drow1_col2\" class=\"data row1 col2\" >0.0900%</td>\n",
       "            </tr>\n",
       "            <tr>\n",
       "                        <th id=\"T_65a1aeec_387e_11eb_a3d0_02cba411ec9dlevel0_row2\" class=\"row_heading level0 row2\" >2</th>\n",
       "                        <td id=\"T_65a1aeec_387e_11eb_a3d0_02cba411ec9drow2_col0\" class=\"data row2 col0\" >2020-10-26</td>\n",
       "                        <td id=\"T_65a1aeec_387e_11eb_a3d0_02cba411ec9drow2_col1\" class=\"data row2 col1\" >SOFR</td>\n",
       "                        <td id=\"T_65a1aeec_387e_11eb_a3d0_02cba411ec9drow2_col2\" class=\"data row2 col2\" >0.0900%</td>\n",
       "            </tr>\n",
       "            <tr>\n",
       "                        <th id=\"T_65a1aeec_387e_11eb_a3d0_02cba411ec9dlevel0_row3\" class=\"row_heading level0 row3\" >3</th>\n",
       "                        <td id=\"T_65a1aeec_387e_11eb_a3d0_02cba411ec9drow3_col0\" class=\"data row3 col0\" >2020-10-23</td>\n",
       "                        <td id=\"T_65a1aeec_387e_11eb_a3d0_02cba411ec9drow3_col1\" class=\"data row3 col1\" >SOFR</td>\n",
       "                        <td id=\"T_65a1aeec_387e_11eb_a3d0_02cba411ec9drow3_col2\" class=\"data row3 col2\" >0.0800%</td>\n",
       "            </tr>\n",
       "            <tr>\n",
       "                        <th id=\"T_65a1aeec_387e_11eb_a3d0_02cba411ec9dlevel0_row4\" class=\"row_heading level0 row4\" >4</th>\n",
       "                        <td id=\"T_65a1aeec_387e_11eb_a3d0_02cba411ec9drow4_col0\" class=\"data row4 col0\" >2020-10-22</td>\n",
       "                        <td id=\"T_65a1aeec_387e_11eb_a3d0_02cba411ec9drow4_col1\" class=\"data row4 col1\" >SOFR</td>\n",
       "                        <td id=\"T_65a1aeec_387e_11eb_a3d0_02cba411ec9drow4_col2\" class=\"data row4 col2\" >0.0700%</td>\n",
       "            </tr>\n",
       "    </tbody></table>"
      ],
      "text/plain": [
       "<pandas.io.formats.style.Styler at 0x7f6900a8b400>"
      ]
     },
     "execution_count": 31,
     "metadata": {},
     "output_type": "execute_result"
    }
   ],
   "source": [
    "df_fixings.head().style.format({'valor': '{:.4%}'})"
   ]
  },
  {
   "cell_type": "code",
   "execution_count": 32,
   "metadata": {
    "ExecuteTime": {
     "end_time": "2020-12-07T11:21:48.902155Z",
     "start_time": "2020-12-07T11:21:48.896745Z"
    }
   },
   "outputs": [],
   "source": [
    "fixings = Qcf.time_series()\n",
    "for row in df_fixings.itertuples():\n",
    "    fixings[Qcf.build_qcdate_from_string(row.fecha)] = row.valor"
   ]
  },
  {
   "cell_type": "code",
   "execution_count": 33,
   "metadata": {
    "ExecuteTime": {
     "end_time": "2020-12-07T11:21:49.100395Z",
     "start_time": "2020-12-07T11:21:49.095120Z"
    }
   },
   "outputs": [
    {
     "data": {
      "text/plain": [
       "0.0154"
      ]
     },
     "execution_count": 33,
     "metadata": {},
     "output_type": "execute_result"
    }
   ],
   "source": [
    "fixings[Qcf.QCDate(13, 1, 2020)]"
   ]
  },
  {
   "cell_type": "markdown",
   "metadata": {},
   "source": [
    "### `OisCashflow.accrued_rate`"
   ]
  },
  {
   "cell_type": "code",
   "execution_count": 34,
   "metadata": {
    "ExecuteTime": {
     "end_time": "2020-12-07T11:21:49.528846Z",
     "start_time": "2020-12-07T11:21:49.503468Z"
    }
   },
   "outputs": [
    {
     "ename": "AttributeError",
     "evalue": "'OIS' object has no attribute 'start_date'",
     "output_type": "error",
     "traceback": [
      "\u001b[0;31m---------------------------------------------------------------------------\u001b[0m",
      "\u001b[0;31mAttributeError\u001b[0m                            Traceback (most recent call last)",
      "\u001b[0;32m<ipython-input-34-81509e5440a9>\u001b[0m in \u001b[0;36m<module>\u001b[0;34m\u001b[0m\n\u001b[0;32m----> 1\u001b[0;31m \u001b[0maccrued_rate\u001b[0m \u001b[0;34m=\u001b[0m \u001b[0mois\u001b[0m\u001b[0;34m.\u001b[0m\u001b[0mget_accrued_rate\u001b[0m\u001b[0;34m(\u001b[0m\u001b[0mQcf\u001b[0m\u001b[0;34m.\u001b[0m\u001b[0mQCDate\u001b[0m\u001b[0;34m(\u001b[0m\u001b[0;36m15\u001b[0m\u001b[0;34m,\u001b[0m \u001b[0;36m6\u001b[0m\u001b[0;34m,\u001b[0m \u001b[0;36m2020\u001b[0m\u001b[0;34m)\u001b[0m\u001b[0;34m,\u001b[0m \u001b[0mfixings\u001b[0m\u001b[0;34m)\u001b[0m\u001b[0;34m\u001b[0m\u001b[0;34m\u001b[0m\u001b[0m\n\u001b[0m\u001b[1;32m      2\u001b[0m \u001b[0mprint\u001b[0m\u001b[0;34m(\u001b[0m\u001b[0;34mf'accrued rate: {accrued_rate:.8%}'\u001b[0m\u001b[0;34m)\u001b[0m\u001b[0;34m\u001b[0m\u001b[0;34m\u001b[0m\u001b[0m\n",
      "\u001b[0;32m<ipython-input-12-c7fe3eadaaf3>\u001b[0m in \u001b[0;36mget_accrued_rate\u001b[0;34m(self, start_date, fixings)\u001b[0m\n\u001b[1;32m     21\u001b[0m \u001b[0;34m\u001b[0m\u001b[0m\n\u001b[1;32m     22\u001b[0m         \u001b[0mfactor_capitalizacion\u001b[0m\u001b[0;34m=\u001b[0m\u001b[0;34m[\u001b[0m\u001b[0;34m]\u001b[0m\u001b[0;34m\u001b[0m\u001b[0;34m\u001b[0m\u001b[0m\n\u001b[0;32m---> 23\u001b[0;31m         \u001b[0mself\u001b[0m\u001b[0;34m.\u001b[0m\u001b[0mfinal_data\u001b[0m\u001b[0;34m=\u001b[0m\u001b[0mself\u001b[0m\u001b[0;34m.\u001b[0m\u001b[0mstart_date\u001b[0m\u001b[0;34m[\u001b[0m\u001b[0;36m0\u001b[0m\u001b[0;34m]\u001b[0m\u001b[0;34m\u001b[0m\u001b[0;34m\u001b[0m\u001b[0m\n\u001b[0m\u001b[1;32m     24\u001b[0m         \u001b[0mi\u001b[0m\u001b[0;34m=\u001b[0m\u001b[0;36m0\u001b[0m\u001b[0;34m\u001b[0m\u001b[0;34m\u001b[0m\u001b[0m\n\u001b[1;32m     25\u001b[0m         \u001b[0;32mwhile\u001b[0m \u001b[0mi\u001b[0m\u001b[0;34m<\u001b[0m \u001b[0;34m(\u001b[0m\u001b[0mlen\u001b[0m\u001b[0;34m(\u001b[0m\u001b[0mself\u001b[0m\u001b[0;34m.\u001b[0m\u001b[0mstart_date\u001b[0m\u001b[0;34m)\u001b[0m\u001b[0;34m-\u001b[0m\u001b[0;36m1\u001b[0m\u001b[0;34m)\u001b[0m\u001b[0;34m:\u001b[0m\u001b[0;34m\u001b[0m\u001b[0;34m\u001b[0m\u001b[0m\n",
      "\u001b[0;31mAttributeError\u001b[0m: 'OIS' object has no attribute 'start_date'"
     ]
    }
   ],
   "source": [
    "accrued_rate = ois.get_accrued_rate(Qcf.QCDate(15, 6, 2020), fixings)\n",
    "print(f'accrued rate: {accrued_rate:.8%}')"
   ]
  },
  {
   "cell_type": "markdown",
   "metadata": {},
   "source": [
    "AD: Se aplica test entregado por el grupo:\n",
    "\n",
    "- Se debe modificar la clase para poder usarla.\n",
    "- Los tipos de variables usados en los métodos no corresponden a las instrucciones y son inconsistentes con las declaraciones de los mismos."
   ]
  },
  {
   "cell_type": "code",
   "execution_count": 35,
   "metadata": {
    "ExecuteTime": {
     "end_time": "2020-12-07T11:21:49.946500Z",
     "start_time": "2020-12-07T11:21:49.903894Z"
    }
   },
   "outputs": [
    {
     "name": "stdout",
     "output_type": "stream",
     "text": [
      "La tasa equivalente es: 0.00696242230123633\n"
     ]
    }
   ],
   "source": [
    "ois.start_date=data[\"fechas\"]\n",
    "ois.fixings=data[\"fixing\"]\n",
    "accrued_rate = ois.get_accrued_rate(data[\"fechas\"],fixings)\n",
    "print(\"La tasa equivalente es:\",accrued_rate)"
   ]
  },
  {
   "cell_type": "markdown",
   "metadata": {},
   "source": [
    "Se verificará el cálculo usando `df_fixings`."
   ]
  },
  {
   "cell_type": "code",
   "execution_count": 36,
   "metadata": {
    "ExecuteTime": {
     "end_time": "2020-12-07T11:21:50.328023Z",
     "start_time": "2020-12-07T11:21:50.318573Z"
    }
   },
   "outputs": [
    {
     "data": {
      "text/html": [
       "<style  type=\"text/css\" >\n",
       "</style><table id=\"T_66984644_387e_11eb_a3d0_02cba411ec9d\" ><thead>    <tr>        <th class=\"blank level0\" ></th>        <th class=\"col_heading level0 col0\" >fecha</th>        <th class=\"col_heading level0 col1\" >nombre</th>        <th class=\"col_heading level0 col2\" >valor</th>    </tr></thead><tbody>\n",
       "                <tr>\n",
       "                        <th id=\"T_66984644_387e_11eb_a3d0_02cba411ec9dlevel0_row0\" class=\"row_heading level0 row0\" >0</th>\n",
       "                        <td id=\"T_66984644_387e_11eb_a3d0_02cba411ec9drow0_col0\" class=\"data row0 col0\" >2020-10-28</td>\n",
       "                        <td id=\"T_66984644_387e_11eb_a3d0_02cba411ec9drow0_col1\" class=\"data row0 col1\" >SOFR</td>\n",
       "                        <td id=\"T_66984644_387e_11eb_a3d0_02cba411ec9drow0_col2\" class=\"data row0 col2\" >0.0800%</td>\n",
       "            </tr>\n",
       "            <tr>\n",
       "                        <th id=\"T_66984644_387e_11eb_a3d0_02cba411ec9dlevel0_row1\" class=\"row_heading level0 row1\" >1</th>\n",
       "                        <td id=\"T_66984644_387e_11eb_a3d0_02cba411ec9drow1_col0\" class=\"data row1 col0\" >2020-10-27</td>\n",
       "                        <td id=\"T_66984644_387e_11eb_a3d0_02cba411ec9drow1_col1\" class=\"data row1 col1\" >SOFR</td>\n",
       "                        <td id=\"T_66984644_387e_11eb_a3d0_02cba411ec9drow1_col2\" class=\"data row1 col2\" >0.0900%</td>\n",
       "            </tr>\n",
       "            <tr>\n",
       "                        <th id=\"T_66984644_387e_11eb_a3d0_02cba411ec9dlevel0_row2\" class=\"row_heading level0 row2\" >2</th>\n",
       "                        <td id=\"T_66984644_387e_11eb_a3d0_02cba411ec9drow2_col0\" class=\"data row2 col0\" >2020-10-26</td>\n",
       "                        <td id=\"T_66984644_387e_11eb_a3d0_02cba411ec9drow2_col1\" class=\"data row2 col1\" >SOFR</td>\n",
       "                        <td id=\"T_66984644_387e_11eb_a3d0_02cba411ec9drow2_col2\" class=\"data row2 col2\" >0.0900%</td>\n",
       "            </tr>\n",
       "            <tr>\n",
       "                        <th id=\"T_66984644_387e_11eb_a3d0_02cba411ec9dlevel0_row3\" class=\"row_heading level0 row3\" >3</th>\n",
       "                        <td id=\"T_66984644_387e_11eb_a3d0_02cba411ec9drow3_col0\" class=\"data row3 col0\" >2020-10-23</td>\n",
       "                        <td id=\"T_66984644_387e_11eb_a3d0_02cba411ec9drow3_col1\" class=\"data row3 col1\" >SOFR</td>\n",
       "                        <td id=\"T_66984644_387e_11eb_a3d0_02cba411ec9drow3_col2\" class=\"data row3 col2\" >0.0800%</td>\n",
       "            </tr>\n",
       "            <tr>\n",
       "                        <th id=\"T_66984644_387e_11eb_a3d0_02cba411ec9dlevel0_row4\" class=\"row_heading level0 row4\" >4</th>\n",
       "                        <td id=\"T_66984644_387e_11eb_a3d0_02cba411ec9drow4_col0\" class=\"data row4 col0\" >2020-10-22</td>\n",
       "                        <td id=\"T_66984644_387e_11eb_a3d0_02cba411ec9drow4_col1\" class=\"data row4 col1\" >SOFR</td>\n",
       "                        <td id=\"T_66984644_387e_11eb_a3d0_02cba411ec9drow4_col2\" class=\"data row4 col2\" >0.0700%</td>\n",
       "            </tr>\n",
       "    </tbody></table>"
      ],
      "text/plain": [
       "<pandas.io.formats.style.Styler at 0x7f6928fd8518>"
      ]
     },
     "execution_count": 36,
     "metadata": {},
     "output_type": "execute_result"
    }
   ],
   "source": [
    "df_fixings.head().style.format({'valor': '{:.4%}'})"
   ]
  },
  {
   "cell_type": "markdown",
   "metadata": {
    "ExecuteTime": {
     "end_time": "2020-11-28T10:46:07.293545Z",
     "start_time": "2020-11-28T10:46:07.285532Z"
    }
   },
   "source": [
    "Se agrega la columna `next_date`, servirá para calcular el factor de capitalización de cada tasa."
   ]
  },
  {
   "cell_type": "code",
   "execution_count": 37,
   "metadata": {
    "ExecuteTime": {
     "end_time": "2020-12-07T11:21:50.732644Z",
     "start_time": "2020-12-07T11:21:50.727492Z"
    }
   },
   "outputs": [],
   "source": [
    "def next_date(fecha:str, calendario: Qcf.BusinessCalendar) -> str:\n",
    "    qfecha = Qcf.build_qcdate_from_string(fecha)\n",
    "    next_fecha = calendario.shift(qfecha, 1)\n",
    "    return next_fecha.description(False)"
   ]
  },
  {
   "cell_type": "code",
   "execution_count": 38,
   "metadata": {
    "ExecuteTime": {
     "end_time": "2020-12-07T11:21:50.953294Z",
     "start_time": "2020-12-07T11:21:50.927145Z"
    }
   },
   "outputs": [],
   "source": [
    "df_fixings['next_fecha'] = df_fixings.apply(\n",
    "    lambda row: next_date(row['fecha'], settlement_calendar),\n",
    "    axis=1\n",
    ")"
   ]
  },
  {
   "cell_type": "code",
   "execution_count": 39,
   "metadata": {
    "ExecuteTime": {
     "end_time": "2020-12-07T11:21:51.129796Z",
     "start_time": "2020-12-07T11:21:51.119588Z"
    }
   },
   "outputs": [
    {
     "data": {
      "text/html": [
       "<style  type=\"text/css\" >\n",
       "</style><table id=\"T_66984645_387e_11eb_a3d0_02cba411ec9d\" ><thead>    <tr>        <th class=\"blank level0\" ></th>        <th class=\"col_heading level0 col0\" >fecha</th>        <th class=\"col_heading level0 col1\" >nombre</th>        <th class=\"col_heading level0 col2\" >valor</th>        <th class=\"col_heading level0 col3\" >next_fecha</th>    </tr></thead><tbody>\n",
       "                <tr>\n",
       "                        <th id=\"T_66984645_387e_11eb_a3d0_02cba411ec9dlevel0_row0\" class=\"row_heading level0 row0\" >0</th>\n",
       "                        <td id=\"T_66984645_387e_11eb_a3d0_02cba411ec9drow0_col0\" class=\"data row0 col0\" >2020-10-28</td>\n",
       "                        <td id=\"T_66984645_387e_11eb_a3d0_02cba411ec9drow0_col1\" class=\"data row0 col1\" >SOFR</td>\n",
       "                        <td id=\"T_66984645_387e_11eb_a3d0_02cba411ec9drow0_col2\" class=\"data row0 col2\" >0.0800%</td>\n",
       "                        <td id=\"T_66984645_387e_11eb_a3d0_02cba411ec9drow0_col3\" class=\"data row0 col3\" >2020-10-29</td>\n",
       "            </tr>\n",
       "            <tr>\n",
       "                        <th id=\"T_66984645_387e_11eb_a3d0_02cba411ec9dlevel0_row1\" class=\"row_heading level0 row1\" >1</th>\n",
       "                        <td id=\"T_66984645_387e_11eb_a3d0_02cba411ec9drow1_col0\" class=\"data row1 col0\" >2020-10-27</td>\n",
       "                        <td id=\"T_66984645_387e_11eb_a3d0_02cba411ec9drow1_col1\" class=\"data row1 col1\" >SOFR</td>\n",
       "                        <td id=\"T_66984645_387e_11eb_a3d0_02cba411ec9drow1_col2\" class=\"data row1 col2\" >0.0900%</td>\n",
       "                        <td id=\"T_66984645_387e_11eb_a3d0_02cba411ec9drow1_col3\" class=\"data row1 col3\" >2020-10-28</td>\n",
       "            </tr>\n",
       "            <tr>\n",
       "                        <th id=\"T_66984645_387e_11eb_a3d0_02cba411ec9dlevel0_row2\" class=\"row_heading level0 row2\" >2</th>\n",
       "                        <td id=\"T_66984645_387e_11eb_a3d0_02cba411ec9drow2_col0\" class=\"data row2 col0\" >2020-10-26</td>\n",
       "                        <td id=\"T_66984645_387e_11eb_a3d0_02cba411ec9drow2_col1\" class=\"data row2 col1\" >SOFR</td>\n",
       "                        <td id=\"T_66984645_387e_11eb_a3d0_02cba411ec9drow2_col2\" class=\"data row2 col2\" >0.0900%</td>\n",
       "                        <td id=\"T_66984645_387e_11eb_a3d0_02cba411ec9drow2_col3\" class=\"data row2 col3\" >2020-10-27</td>\n",
       "            </tr>\n",
       "            <tr>\n",
       "                        <th id=\"T_66984645_387e_11eb_a3d0_02cba411ec9dlevel0_row3\" class=\"row_heading level0 row3\" >3</th>\n",
       "                        <td id=\"T_66984645_387e_11eb_a3d0_02cba411ec9drow3_col0\" class=\"data row3 col0\" >2020-10-23</td>\n",
       "                        <td id=\"T_66984645_387e_11eb_a3d0_02cba411ec9drow3_col1\" class=\"data row3 col1\" >SOFR</td>\n",
       "                        <td id=\"T_66984645_387e_11eb_a3d0_02cba411ec9drow3_col2\" class=\"data row3 col2\" >0.0800%</td>\n",
       "                        <td id=\"T_66984645_387e_11eb_a3d0_02cba411ec9drow3_col3\" class=\"data row3 col3\" >2020-10-26</td>\n",
       "            </tr>\n",
       "            <tr>\n",
       "                        <th id=\"T_66984645_387e_11eb_a3d0_02cba411ec9dlevel0_row4\" class=\"row_heading level0 row4\" >4</th>\n",
       "                        <td id=\"T_66984645_387e_11eb_a3d0_02cba411ec9drow4_col0\" class=\"data row4 col0\" >2020-10-22</td>\n",
       "                        <td id=\"T_66984645_387e_11eb_a3d0_02cba411ec9drow4_col1\" class=\"data row4 col1\" >SOFR</td>\n",
       "                        <td id=\"T_66984645_387e_11eb_a3d0_02cba411ec9drow4_col2\" class=\"data row4 col2\" >0.0700%</td>\n",
       "                        <td id=\"T_66984645_387e_11eb_a3d0_02cba411ec9drow4_col3\" class=\"data row4 col3\" >2020-10-23</td>\n",
       "            </tr>\n",
       "    </tbody></table>"
      ],
      "text/plain": [
       "<pandas.io.formats.style.Styler at 0x7f693d32c748>"
      ]
     },
     "execution_count": 39,
     "metadata": {},
     "output_type": "execute_result"
    }
   ],
   "source": [
    "df_fixings.head().style.format({'valor': '{:.4%}'})"
   ]
  },
  {
   "cell_type": "markdown",
   "metadata": {},
   "source": [
    "Se calcula ahora el factor de capitalización."
   ]
  },
  {
   "cell_type": "code",
   "execution_count": 40,
   "metadata": {
    "ExecuteTime": {
     "end_time": "2020-12-07T11:21:51.530999Z",
     "start_time": "2020-12-07T11:21:51.525851Z"
    }
   },
   "outputs": [],
   "source": [
    "def factor_cap(fecha: str, next_fecha: str, valor: float) -> float:\n",
    "    qfecha = Qcf.build_qcdate_from_string(fecha)\n",
    "    qnext_fecha = Qcf.build_qcdate_from_string(next_fecha)\n",
    "    int_rate = Qcf.QCInterestRate(valor, Qcf.QCAct360(), Qcf.QCLinearWf())\n",
    "    return int_rate.wf(qfecha, qnext_fecha)"
   ]
  },
  {
   "cell_type": "code",
   "execution_count": 41,
   "metadata": {
    "ExecuteTime": {
     "end_time": "2020-12-07T11:21:51.755030Z",
     "start_time": "2020-12-07T11:21:51.719399Z"
    }
   },
   "outputs": [],
   "source": [
    "df_fixings['factor_capitalizacion'] = df_fixings.apply(\n",
    "    lambda row: factor_cap(row['fecha'], row['next_fecha'], row['valor']),\n",
    "    axis=1\n",
    ")"
   ]
  },
  {
   "cell_type": "code",
   "execution_count": 42,
   "metadata": {
    "ExecuteTime": {
     "end_time": "2020-12-07T11:21:51.939952Z",
     "start_time": "2020-12-07T11:21:51.927518Z"
    }
   },
   "outputs": [
    {
     "data": {
      "text/html": [
       "<style  type=\"text/css\" >\n",
       "</style><table id=\"T_66984646_387e_11eb_a3d0_02cba411ec9d\" ><thead>    <tr>        <th class=\"blank level0\" ></th>        <th class=\"col_heading level0 col0\" >fecha</th>        <th class=\"col_heading level0 col1\" >nombre</th>        <th class=\"col_heading level0 col2\" >valor</th>        <th class=\"col_heading level0 col3\" >next_fecha</th>        <th class=\"col_heading level0 col4\" >factor_capitalizacion</th>    </tr></thead><tbody>\n",
       "                <tr>\n",
       "                        <th id=\"T_66984646_387e_11eb_a3d0_02cba411ec9dlevel0_row0\" class=\"row_heading level0 row0\" >0</th>\n",
       "                        <td id=\"T_66984646_387e_11eb_a3d0_02cba411ec9drow0_col0\" class=\"data row0 col0\" >2020-10-28</td>\n",
       "                        <td id=\"T_66984646_387e_11eb_a3d0_02cba411ec9drow0_col1\" class=\"data row0 col1\" >SOFR</td>\n",
       "                        <td id=\"T_66984646_387e_11eb_a3d0_02cba411ec9drow0_col2\" class=\"data row0 col2\" >0.0800%</td>\n",
       "                        <td id=\"T_66984646_387e_11eb_a3d0_02cba411ec9drow0_col3\" class=\"data row0 col3\" >2020-10-29</td>\n",
       "                        <td id=\"T_66984646_387e_11eb_a3d0_02cba411ec9drow0_col4\" class=\"data row0 col4\" >1.000002</td>\n",
       "            </tr>\n",
       "            <tr>\n",
       "                        <th id=\"T_66984646_387e_11eb_a3d0_02cba411ec9dlevel0_row1\" class=\"row_heading level0 row1\" >1</th>\n",
       "                        <td id=\"T_66984646_387e_11eb_a3d0_02cba411ec9drow1_col0\" class=\"data row1 col0\" >2020-10-27</td>\n",
       "                        <td id=\"T_66984646_387e_11eb_a3d0_02cba411ec9drow1_col1\" class=\"data row1 col1\" >SOFR</td>\n",
       "                        <td id=\"T_66984646_387e_11eb_a3d0_02cba411ec9drow1_col2\" class=\"data row1 col2\" >0.0900%</td>\n",
       "                        <td id=\"T_66984646_387e_11eb_a3d0_02cba411ec9drow1_col3\" class=\"data row1 col3\" >2020-10-28</td>\n",
       "                        <td id=\"T_66984646_387e_11eb_a3d0_02cba411ec9drow1_col4\" class=\"data row1 col4\" >1.000002</td>\n",
       "            </tr>\n",
       "            <tr>\n",
       "                        <th id=\"T_66984646_387e_11eb_a3d0_02cba411ec9dlevel0_row2\" class=\"row_heading level0 row2\" >2</th>\n",
       "                        <td id=\"T_66984646_387e_11eb_a3d0_02cba411ec9drow2_col0\" class=\"data row2 col0\" >2020-10-26</td>\n",
       "                        <td id=\"T_66984646_387e_11eb_a3d0_02cba411ec9drow2_col1\" class=\"data row2 col1\" >SOFR</td>\n",
       "                        <td id=\"T_66984646_387e_11eb_a3d0_02cba411ec9drow2_col2\" class=\"data row2 col2\" >0.0900%</td>\n",
       "                        <td id=\"T_66984646_387e_11eb_a3d0_02cba411ec9drow2_col3\" class=\"data row2 col3\" >2020-10-27</td>\n",
       "                        <td id=\"T_66984646_387e_11eb_a3d0_02cba411ec9drow2_col4\" class=\"data row2 col4\" >1.000002</td>\n",
       "            </tr>\n",
       "            <tr>\n",
       "                        <th id=\"T_66984646_387e_11eb_a3d0_02cba411ec9dlevel0_row3\" class=\"row_heading level0 row3\" >3</th>\n",
       "                        <td id=\"T_66984646_387e_11eb_a3d0_02cba411ec9drow3_col0\" class=\"data row3 col0\" >2020-10-23</td>\n",
       "                        <td id=\"T_66984646_387e_11eb_a3d0_02cba411ec9drow3_col1\" class=\"data row3 col1\" >SOFR</td>\n",
       "                        <td id=\"T_66984646_387e_11eb_a3d0_02cba411ec9drow3_col2\" class=\"data row3 col2\" >0.0800%</td>\n",
       "                        <td id=\"T_66984646_387e_11eb_a3d0_02cba411ec9drow3_col3\" class=\"data row3 col3\" >2020-10-26</td>\n",
       "                        <td id=\"T_66984646_387e_11eb_a3d0_02cba411ec9drow3_col4\" class=\"data row3 col4\" >1.000007</td>\n",
       "            </tr>\n",
       "            <tr>\n",
       "                        <th id=\"T_66984646_387e_11eb_a3d0_02cba411ec9dlevel0_row4\" class=\"row_heading level0 row4\" >4</th>\n",
       "                        <td id=\"T_66984646_387e_11eb_a3d0_02cba411ec9drow4_col0\" class=\"data row4 col0\" >2020-10-22</td>\n",
       "                        <td id=\"T_66984646_387e_11eb_a3d0_02cba411ec9drow4_col1\" class=\"data row4 col1\" >SOFR</td>\n",
       "                        <td id=\"T_66984646_387e_11eb_a3d0_02cba411ec9drow4_col2\" class=\"data row4 col2\" >0.0700%</td>\n",
       "                        <td id=\"T_66984646_387e_11eb_a3d0_02cba411ec9drow4_col3\" class=\"data row4 col3\" >2020-10-23</td>\n",
       "                        <td id=\"T_66984646_387e_11eb_a3d0_02cba411ec9drow4_col4\" class=\"data row4 col4\" >1.000002</td>\n",
       "            </tr>\n",
       "    </tbody></table>"
      ],
      "text/plain": [
       "<pandas.io.formats.style.Styler at 0x7f6929001160>"
      ]
     },
     "execution_count": 42,
     "metadata": {},
     "output_type": "execute_result"
    }
   ],
   "source": [
    "df_fixings.head().style.format({'valor': '{:.4%}'})"
   ]
  },
  {
   "cell_type": "markdown",
   "metadata": {},
   "source": [
    "Veamos donde están en `df_fixings` los valores para `start_date` de `ois` y la fecha 15-6-2020 y calculamos el producto de los factores de capitalización desde esa fecha hasta la última fecha de `df_flujos` (que es el primer registro). Luego, el cociente de los dos factores nos dará el factor entre ambas fechas. Finalmente, con ese factor, se calculará `accrued_rate`."
   ]
  },
  {
   "cell_type": "markdown",
   "metadata": {},
   "source": [
    "AD: se modifica este cálculo ya que la clase OIS no se comporta según lo instruido."
   ]
  },
  {
   "cell_type": "code",
   "execution_count": 43,
   "metadata": {
    "ExecuteTime": {
     "end_time": "2020-12-07T11:21:52.564571Z",
     "start_time": "2020-12-07T11:21:52.548282Z"
    }
   },
   "outputs": [
    {
     "data": {
      "text/html": [
       "<div>\n",
       "<style scoped>\n",
       "    .dataframe tbody tr th:only-of-type {\n",
       "        vertical-align: middle;\n",
       "    }\n",
       "\n",
       "    .dataframe tbody tr th {\n",
       "        vertical-align: top;\n",
       "    }\n",
       "\n",
       "    .dataframe thead th {\n",
       "        text-align: right;\n",
       "    }\n",
       "</style>\n",
       "<table border=\"1\" class=\"dataframe\">\n",
       "  <thead>\n",
       "    <tr style=\"text-align: right;\">\n",
       "      <th></th>\n",
       "      <th>fecha</th>\n",
       "      <th>nombre</th>\n",
       "      <th>valor</th>\n",
       "      <th>next_fecha</th>\n",
       "      <th>factor_capitalizacion</th>\n",
       "    </tr>\n",
       "  </thead>\n",
       "  <tbody>\n",
       "    <tr>\n",
       "      <th>269</th>\n",
       "      <td>2019-10-01</td>\n",
       "      <td>SOFR</td>\n",
       "      <td>0.0188</td>\n",
       "      <td>2019-10-02</td>\n",
       "      <td>1.000052</td>\n",
       "    </tr>\n",
       "  </tbody>\n",
       "</table>\n",
       "</div>"
      ],
      "text/plain": [
       "          fecha nombre   valor  next_fecha  factor_capitalizacion\n",
       "269  2019-10-01   SOFR  0.0188  2019-10-02               1.000052"
      ]
     },
     "execution_count": 43,
     "metadata": {},
     "output_type": "execute_result"
    }
   ],
   "source": [
    "# start_date = ois.start_date.description(False)\n",
    "start_date = Qcf.QCDate(1, 10, 2019).description(False)\n",
    "df_fixings[df_fixings.fecha == start_date]"
   ]
  },
  {
   "cell_type": "code",
   "execution_count": 44,
   "metadata": {
    "ExecuteTime": {
     "end_time": "2020-12-07T11:21:52.749237Z",
     "start_time": "2020-12-07T11:21:52.742336Z"
    }
   },
   "outputs": [
    {
     "name": "stdout",
     "output_type": "stream",
     "text": [
      "1.0075715527341267\n"
     ]
    }
   ],
   "source": [
    "factor_largo = df_fixings.iloc[:270]['factor_capitalizacion'].prod()\n",
    "print(factor_largo)\n",
    "qstart_date = Qcf.build_qcdate_from_string('2019-10-01')"
   ]
  },
  {
   "cell_type": "code",
   "execution_count": 45,
   "metadata": {
    "ExecuteTime": {
     "end_time": "2020-12-07T11:21:53.018010Z",
     "start_time": "2020-12-07T11:21:53.004647Z"
    }
   },
   "outputs": [
    {
     "data": {
      "text/html": [
       "<div>\n",
       "<style scoped>\n",
       "    .dataframe tbody tr th:only-of-type {\n",
       "        vertical-align: middle;\n",
       "    }\n",
       "\n",
       "    .dataframe tbody tr th {\n",
       "        vertical-align: top;\n",
       "    }\n",
       "\n",
       "    .dataframe thead th {\n",
       "        text-align: right;\n",
       "    }\n",
       "</style>\n",
       "<table border=\"1\" class=\"dataframe\">\n",
       "  <thead>\n",
       "    <tr style=\"text-align: right;\">\n",
       "      <th></th>\n",
       "      <th>fecha</th>\n",
       "      <th>nombre</th>\n",
       "      <th>valor</th>\n",
       "      <th>next_fecha</th>\n",
       "      <th>factor_capitalizacion</th>\n",
       "    </tr>\n",
       "  </thead>\n",
       "  <tbody>\n",
       "    <tr>\n",
       "      <th>94</th>\n",
       "      <td>2020-06-15</td>\n",
       "      <td>SOFR</td>\n",
       "      <td>0.0009</td>\n",
       "      <td>2020-06-16</td>\n",
       "      <td>1.000002</td>\n",
       "    </tr>\n",
       "  </tbody>\n",
       "</table>\n",
       "</div>"
      ],
      "text/plain": [
       "         fecha nombre   valor  next_fecha  factor_capitalizacion\n",
       "94  2020-06-15   SOFR  0.0009  2020-06-16               1.000002"
      ]
     },
     "execution_count": 45,
     "metadata": {},
     "output_type": "execute_result"
    }
   ],
   "source": [
    "df_fixings[df_fixings.fecha == '2020-06-15']"
   ]
  },
  {
   "cell_type": "code",
   "execution_count": 46,
   "metadata": {
    "ExecuteTime": {
     "end_time": "2020-12-07T11:21:53.168793Z",
     "start_time": "2020-12-07T11:21:53.162587Z"
    }
   },
   "outputs": [],
   "source": [
    "factor_corto = df_fixings.iloc[:95]['factor_capitalizacion'].prod()\n",
    "qaccrued_date = Qcf.build_qcdate_from_string('2020-06-15')"
   ]
  },
  {
   "cell_type": "code",
   "execution_count": 47,
   "metadata": {
    "ExecuteTime": {
     "end_time": "2020-12-07T11:21:53.424464Z",
     "start_time": "2020-12-07T11:21:53.417736Z"
    }
   },
   "outputs": [
    {
     "name": "stdout",
     "output_type": "stream",
     "text": [
      "La diferencia es: -0.31367091%\n"
     ]
    }
   ],
   "source": [
    "dias = qstart_date.day_diff(qaccrued_date)\n",
    "check_accrued_rate = (factor_largo / factor_corto - 1.0) * 360.0 / dias\n",
    "print(f'La diferencia es: {accrued_rate - check_accrued_rate:.8%}')"
   ]
  },
  {
   "cell_type": "code",
   "execution_count": 48,
   "metadata": {
    "ExecuteTime": {
     "end_time": "2020-12-07T11:21:53.566404Z",
     "start_time": "2020-12-07T11:21:53.560112Z"
    }
   },
   "outputs": [
    {
     "name": "stdout",
     "output_type": "stream",
     "text": [
      "Suma medio punto por obtener resultado.\n"
     ]
    }
   ],
   "source": [
    "try:\n",
    "    suma_exito(accrued_rate, check_accrued_rate, 'tasa')\n",
    "except Exception as e:\n",
    "    print('No hay resultado.')"
   ]
  },
  {
   "cell_type": "markdown",
   "metadata": {},
   "source": [
    "### `OisCashflow.accrued_interest`"
   ]
  },
  {
   "cell_type": "code",
   "execution_count": 49,
   "metadata": {
    "ExecuteTime": {
     "end_time": "2020-12-07T11:21:54.047077Z",
     "start_time": "2020-12-07T11:21:54.041977Z"
    }
   },
   "outputs": [
    {
     "name": "stdout",
     "output_type": "stream",
     "text": [
      "accrued interest: 76,006.44\n"
     ]
    }
   ],
   "source": [
    "accrued_interest = ois.get_accrued_interest(Qcf.QCDate(15, 6, 2020), fixings)\n",
    "print(f'accrued interest: {accrued_interest:,.2f}')"
   ]
  },
  {
   "cell_type": "code",
   "execution_count": 50,
   "metadata": {
    "ExecuteTime": {
     "end_time": "2020-12-07T11:21:54.294504Z",
     "start_time": "2020-12-07T11:21:54.288916Z"
    }
   },
   "outputs": [
    {
     "name": "stdout",
     "output_type": "stream",
     "text": [
      "La diferencia es: 26,109.083630\n"
     ]
    }
   ],
   "source": [
    "check_accrued_interest = ois.notional * accrued_rate * dias / 360.0\n",
    "print(f'La diferencia es: {accrued_interest - check_accrued_interest:,.6f}')"
   ]
  },
  {
   "cell_type": "code",
   "execution_count": 51,
   "metadata": {
    "ExecuteTime": {
     "end_time": "2020-12-07T11:21:54.499250Z",
     "start_time": "2020-12-07T11:21:54.493629Z"
    }
   },
   "outputs": [
    {
     "name": "stdout",
     "output_type": "stream",
     "text": [
      "Suma medio punto por obtener resultado.\n"
     ]
    }
   ],
   "source": [
    "try:\n",
    "    suma_exito(accrued_rate, check_accrued_rate, 'tasa')\n",
    "except Exception as e:\n",
    "    print('No hay resultado.')"
   ]
  },
  {
   "cell_type": "markdown",
   "metadata": {},
   "source": [
    "### `OisCashflow.amount`"
   ]
  },
  {
   "cell_type": "code",
   "execution_count": 52,
   "metadata": {
    "ExecuteTime": {
     "end_time": "2020-12-07T11:21:54.953619Z",
     "start_time": "2020-12-07T11:21:54.948287Z"
    }
   },
   "outputs": [
    {
     "name": "stdout",
     "output_type": "stream",
     "text": [
      "amount: 10,076,006.44\n"
     ]
    }
   ],
   "source": [
    "amount = ois.amount(fixings)\n",
    "print(f'amount: {amount:,.2f}')"
   ]
  },
  {
   "cell_type": "code",
   "execution_count": 53,
   "metadata": {
    "ExecuteTime": {
     "end_time": "2020-12-07T11:21:55.163316Z",
     "start_time": "2020-12-07T11:21:55.150819Z"
    }
   },
   "outputs": [
    {
     "ename": "AttributeError",
     "evalue": "'OIS' object has no attribute 'end_date'",
     "output_type": "error",
     "traceback": [
      "\u001b[0;31m---------------------------------------------------------------------------\u001b[0m",
      "\u001b[0;31mAttributeError\u001b[0m                            Traceback (most recent call last)",
      "\u001b[0;32m<ipython-input-53-25a1e400e7c3>\u001b[0m in \u001b[0;36m<module>\u001b[0;34m\u001b[0m\n\u001b[0;32m----> 1\u001b[0;31m \u001b[0mend_date\u001b[0m \u001b[0;34m=\u001b[0m \u001b[0mois\u001b[0m\u001b[0;34m.\u001b[0m\u001b[0mend_date\u001b[0m\u001b[0;34m.\u001b[0m\u001b[0mdescription\u001b[0m\u001b[0;34m(\u001b[0m\u001b[0;32mFalse\u001b[0m\u001b[0;34m)\u001b[0m\u001b[0;34m\u001b[0m\u001b[0;34m\u001b[0m\u001b[0m\n\u001b[0m\u001b[1;32m      2\u001b[0m \u001b[0mprint\u001b[0m\u001b[0;34m(\u001b[0m\u001b[0;34mf'end date: {end_date}'\u001b[0m\u001b[0;34m)\u001b[0m\u001b[0;34m\u001b[0m\u001b[0;34m\u001b[0m\u001b[0m\n\u001b[1;32m      3\u001b[0m \u001b[0mdf_fixings\u001b[0m\u001b[0;34m[\u001b[0m\u001b[0mdf_fixings\u001b[0m\u001b[0;34m.\u001b[0m\u001b[0mfecha\u001b[0m \u001b[0;34m==\u001b[0m \u001b[0mend_date\u001b[0m\u001b[0;34m]\u001b[0m\u001b[0;34m\u001b[0m\u001b[0;34m\u001b[0m\u001b[0m\n",
      "\u001b[0;31mAttributeError\u001b[0m: 'OIS' object has no attribute 'end_date'"
     ]
    }
   ],
   "source": [
    "end_date = ois.end_date.description(False)\n",
    "print(f'end date: {end_date}')\n",
    "df_fixings[df_fixings.fecha == end_date]"
   ]
  },
  {
   "cell_type": "markdown",
   "metadata": {},
   "source": [
    "AD: se modifica el test porque la clase no corresponde ni a lo instruido ni a lo declarado."
   ]
  },
  {
   "cell_type": "code",
   "execution_count": 54,
   "metadata": {
    "ExecuteTime": {
     "end_time": "2020-12-07T11:21:55.576094Z",
     "start_time": "2020-12-07T11:21:55.560848Z"
    }
   },
   "outputs": [
    {
     "name": "stdout",
     "output_type": "stream",
     "text": [
      "end date: 2020-10-01\n"
     ]
    },
    {
     "data": {
      "text/html": [
       "<div>\n",
       "<style scoped>\n",
       "    .dataframe tbody tr th:only-of-type {\n",
       "        vertical-align: middle;\n",
       "    }\n",
       "\n",
       "    .dataframe tbody tr th {\n",
       "        vertical-align: top;\n",
       "    }\n",
       "\n",
       "    .dataframe thead th {\n",
       "        text-align: right;\n",
       "    }\n",
       "</style>\n",
       "<table border=\"1\" class=\"dataframe\">\n",
       "  <thead>\n",
       "    <tr style=\"text-align: right;\">\n",
       "      <th></th>\n",
       "      <th>fecha</th>\n",
       "      <th>nombre</th>\n",
       "      <th>valor</th>\n",
       "      <th>next_fecha</th>\n",
       "      <th>factor_capitalizacion</th>\n",
       "    </tr>\n",
       "  </thead>\n",
       "  <tbody>\n",
       "    <tr>\n",
       "      <th>18</th>\n",
       "      <td>2020-10-01</td>\n",
       "      <td>SOFR</td>\n",
       "      <td>0.0008</td>\n",
       "      <td>2020-10-02</td>\n",
       "      <td>1.000002</td>\n",
       "    </tr>\n",
       "  </tbody>\n",
       "</table>\n",
       "</div>"
      ],
      "text/plain": [
       "         fecha nombre   valor  next_fecha  factor_capitalizacion\n",
       "18  2020-10-01   SOFR  0.0008  2020-10-02               1.000002"
      ]
     },
     "execution_count": 54,
     "metadata": {},
     "output_type": "execute_result"
    }
   ],
   "source": [
    "ois.end_date = Qcf.QCDate(1, 10, 2020)\n",
    "end_date = ois.end_date.description(False)\n",
    "print(f'end date: {end_date}')\n",
    "df_fixings[df_fixings.fecha == end_date]"
   ]
  },
  {
   "cell_type": "code",
   "execution_count": 55,
   "metadata": {
    "ExecuteTime": {
     "end_time": "2020-12-07T11:21:55.777791Z",
     "start_time": "2020-12-07T11:21:55.767948Z"
    }
   },
   "outputs": [
    {
     "name": "stdout",
     "output_type": "stream",
     "text": [
      "La diferencia es: 9000979.398022\n"
     ]
    }
   ],
   "source": [
    "ois.notional = 10000000 # AD: se modifica la clase\n",
    "ois.amortization = 1000000 # AD: se modifica la clase\n",
    "factor_corto_2 = df_fixings.iloc[:19]['factor_capitalizacion'].prod()\n",
    "dias_2 = qstart_date.day_diff(ois.end_date)\n",
    "accrued_rate_amount = (factor_largo / factor_corto_2- 1.0) * 360.0 / dias_2\n",
    "check_amount = ois.notional * accrued_rate_amount * dias_2 / 360.0 + ois.amortization\n",
    "print(f'La diferencia es: {amount - check_amount:.6f}')"
   ]
  },
  {
   "cell_type": "code",
   "execution_count": 56,
   "metadata": {
    "ExecuteTime": {
     "end_time": "2020-12-07T11:21:56.050566Z",
     "start_time": "2020-12-07T11:21:56.045211Z"
    }
   },
   "outputs": [
    {
     "name": "stdout",
     "output_type": "stream",
     "text": [
      "Suma medio punto por obtener resultado.\n"
     ]
    }
   ],
   "source": [
    "try:\n",
    "    suma_exito(accrued_rate, check_accrued_rate, 'tasa')\n",
    "except Exception as e:\n",
    "    print('No hay resultado.')"
   ]
  },
  {
   "cell_type": "markdown",
   "metadata": {},
   "source": [
    "### `set_expected_rate`"
   ]
  },
  {
   "cell_type": "markdown",
   "metadata": {},
   "source": [
    "Comenzamos cargando los valores de la curva cero cupón que se utilizará para hacer pruebas de `set_expected_rate` y `present_value`."
   ]
  },
  {
   "cell_type": "code",
   "execution_count": 57,
   "metadata": {
    "ExecuteTime": {
     "end_time": "2020-12-07T11:21:57.093769Z",
     "start_time": "2020-12-07T11:21:57.082179Z"
    }
   },
   "outputs": [],
   "source": [
    "df_curva = pd.read_excel('../data/20201012_built_sofr_zero.xlsx')"
   ]
  },
  {
   "cell_type": "code",
   "execution_count": 58,
   "metadata": {
    "ExecuteTime": {
     "end_time": "2020-12-07T11:21:57.341940Z",
     "start_time": "2020-12-07T11:21:57.332523Z"
    }
   },
   "outputs": [
    {
     "data": {
      "text/html": [
       "<style  type=\"text/css\" >\n",
       "</style><table id=\"T_6ac67704_387e_11eb_a3d0_02cba411ec9d\" ><thead>    <tr>        <th class=\"blank level0\" ></th>        <th class=\"col_heading level0 col0\" >plazo</th>        <th class=\"col_heading level0 col1\" >tasa</th>        <th class=\"col_heading level0 col2\" >df</th>    </tr></thead><tbody>\n",
       "                <tr>\n",
       "                        <th id=\"T_6ac67704_387e_11eb_a3d0_02cba411ec9dlevel0_row0\" class=\"row_heading level0 row0\" >0</th>\n",
       "                        <td id=\"T_6ac67704_387e_11eb_a3d0_02cba411ec9drow0_col0\" class=\"data row0 col0\" >1</td>\n",
       "                        <td id=\"T_6ac67704_387e_11eb_a3d0_02cba411ec9drow0_col1\" class=\"data row0 col1\" >0.0811%</td>\n",
       "                        <td id=\"T_6ac67704_387e_11eb_a3d0_02cba411ec9drow0_col2\" class=\"data row0 col2\" >99.999778%</td>\n",
       "            </tr>\n",
       "            <tr>\n",
       "                        <th id=\"T_6ac67704_387e_11eb_a3d0_02cba411ec9dlevel0_row1\" class=\"row_heading level0 row1\" >1</th>\n",
       "                        <td id=\"T_6ac67704_387e_11eb_a3d0_02cba411ec9drow1_col0\" class=\"data row1 col0\" >7</td>\n",
       "                        <td id=\"T_6ac67704_387e_11eb_a3d0_02cba411ec9drow1_col1\" class=\"data row1 col1\" >0.0841%</td>\n",
       "                        <td id=\"T_6ac67704_387e_11eb_a3d0_02cba411ec9drow1_col2\" class=\"data row1 col2\" >99.998388%</td>\n",
       "            </tr>\n",
       "            <tr>\n",
       "                        <th id=\"T_6ac67704_387e_11eb_a3d0_02cba411ec9dlevel0_row2\" class=\"row_heading level0 row2\" >2</th>\n",
       "                        <td id=\"T_6ac67704_387e_11eb_a3d0_02cba411ec9drow2_col0\" class=\"data row2 col0\" >14</td>\n",
       "                        <td id=\"T_6ac67704_387e_11eb_a3d0_02cba411ec9drow2_col1\" class=\"data row2 col1\" >0.0780%</td>\n",
       "                        <td id=\"T_6ac67704_387e_11eb_a3d0_02cba411ec9drow2_col2\" class=\"data row2 col2\" >99.997010%</td>\n",
       "            </tr>\n",
       "            <tr>\n",
       "                        <th id=\"T_6ac67704_387e_11eb_a3d0_02cba411ec9dlevel0_row3\" class=\"row_heading level0 row3\" >3</th>\n",
       "                        <td id=\"T_6ac67704_387e_11eb_a3d0_02cba411ec9drow3_col0\" class=\"data row3 col0\" >21</td>\n",
       "                        <td id=\"T_6ac67704_387e_11eb_a3d0_02cba411ec9drow3_col1\" class=\"data row3 col1\" >0.0774%</td>\n",
       "                        <td id=\"T_6ac67704_387e_11eb_a3d0_02cba411ec9drow3_col2\" class=\"data row3 col2\" >99.995549%</td>\n",
       "            </tr>\n",
       "            <tr>\n",
       "                        <th id=\"T_6ac67704_387e_11eb_a3d0_02cba411ec9dlevel0_row4\" class=\"row_heading level0 row4\" >4</th>\n",
       "                        <td id=\"T_6ac67704_387e_11eb_a3d0_02cba411ec9drow4_col0\" class=\"data row4 col0\" >33</td>\n",
       "                        <td id=\"T_6ac67704_387e_11eb_a3d0_02cba411ec9drow4_col1\" class=\"data row4 col1\" >0.0781%</td>\n",
       "                        <td id=\"T_6ac67704_387e_11eb_a3d0_02cba411ec9drow4_col2\" class=\"data row4 col2\" >99.992942%</td>\n",
       "            </tr>\n",
       "    </tbody></table>"
      ],
      "text/plain": [
       "<pandas.io.formats.style.Styler at 0x7f6928f9c630>"
      ]
     },
     "execution_count": 58,
     "metadata": {},
     "output_type": "execute_result"
    }
   ],
   "source": [
    "df_curva.head().style.format({'tasa': '{:.4%}', 'df': '{:.6%}'})"
   ]
  },
  {
   "cell_type": "markdown",
   "metadata": {},
   "source": [
    "Con la data se construye un objeto de tipo `Qcf.ZeroCouponCurve`."
   ]
  },
  {
   "cell_type": "code",
   "execution_count": 59,
   "metadata": {
    "ExecuteTime": {
     "end_time": "2020-12-07T11:21:57.758170Z",
     "start_time": "2020-12-07T11:21:57.752714Z"
    },
    "scrolled": true
   },
   "outputs": [],
   "source": [
    "zcc = aux.get_curve_from_dataframe(Qcf.QCAct365(),Qcf.QCCompoundWf(), df_curva)"
   ]
  },
  {
   "cell_type": "markdown",
   "metadata": {},
   "source": [
    "Comienzan los tests."
   ]
  },
  {
   "cell_type": "code",
   "execution_count": 60,
   "metadata": {
    "ExecuteTime": {
     "end_time": "2020-12-07T11:21:58.547655Z",
     "start_time": "2020-12-07T11:21:58.530485Z"
    }
   },
   "outputs": [
    {
     "ename": "AttributeError",
     "evalue": "'Series' object has no attribute 'description'",
     "output_type": "error",
     "traceback": [
      "\u001b[0;31m---------------------------------------------------------------------------\u001b[0m",
      "\u001b[0;31mAttributeError\u001b[0m                            Traceback (most recent call last)",
      "\u001b[0;32m<ipython-input-60-05e4040ae354>\u001b[0m in \u001b[0;36m<module>\u001b[0;34m\u001b[0m\n\u001b[0;32m----> 1\u001b[0;31m \u001b[0mprint\u001b[0m\u001b[0;34m(\u001b[0m\u001b[0;34mf'Fecha inicial flujo: {ois.start_date.description(False)}'\u001b[0m\u001b[0;34m)\u001b[0m\u001b[0;34m\u001b[0m\u001b[0;34m\u001b[0m\u001b[0m\n\u001b[0m\u001b[1;32m      2\u001b[0m \u001b[0mprint\u001b[0m\u001b[0;34m(\u001b[0m\u001b[0;34mf'Fecha final flujo: {ois.end_date.description(False)}'\u001b[0m\u001b[0;34m)\u001b[0m\u001b[0;34m\u001b[0m\u001b[0;34m\u001b[0m\u001b[0m\n",
      "\u001b[0;32m/opt/tljh/user/lib/python3.7/site-packages/pandas/core/generic.py\u001b[0m in \u001b[0;36m__getattr__\u001b[0;34m(self, name)\u001b[0m\n\u001b[1;32m   5271\u001b[0m             \u001b[0;32mif\u001b[0m \u001b[0mself\u001b[0m\u001b[0;34m.\u001b[0m\u001b[0m_info_axis\u001b[0m\u001b[0;34m.\u001b[0m\u001b[0m_can_hold_identifiers_and_holds_name\u001b[0m\u001b[0;34m(\u001b[0m\u001b[0mname\u001b[0m\u001b[0;34m)\u001b[0m\u001b[0;34m:\u001b[0m\u001b[0;34m\u001b[0m\u001b[0;34m\u001b[0m\u001b[0m\n\u001b[1;32m   5272\u001b[0m                 \u001b[0;32mreturn\u001b[0m \u001b[0mself\u001b[0m\u001b[0;34m[\u001b[0m\u001b[0mname\u001b[0m\u001b[0;34m]\u001b[0m\u001b[0;34m\u001b[0m\u001b[0;34m\u001b[0m\u001b[0m\n\u001b[0;32m-> 5273\u001b[0;31m             \u001b[0;32mreturn\u001b[0m \u001b[0mobject\u001b[0m\u001b[0;34m.\u001b[0m\u001b[0m__getattribute__\u001b[0m\u001b[0;34m(\u001b[0m\u001b[0mself\u001b[0m\u001b[0;34m,\u001b[0m \u001b[0mname\u001b[0m\u001b[0;34m)\u001b[0m\u001b[0;34m\u001b[0m\u001b[0;34m\u001b[0m\u001b[0m\n\u001b[0m\u001b[1;32m   5274\u001b[0m \u001b[0;34m\u001b[0m\u001b[0m\n\u001b[1;32m   5275\u001b[0m     \u001b[0;32mdef\u001b[0m \u001b[0m__setattr__\u001b[0m\u001b[0;34m(\u001b[0m\u001b[0mself\u001b[0m\u001b[0;34m,\u001b[0m \u001b[0mname\u001b[0m\u001b[0;34m:\u001b[0m \u001b[0mstr\u001b[0m\u001b[0;34m,\u001b[0m \u001b[0mvalue\u001b[0m\u001b[0;34m)\u001b[0m \u001b[0;34m->\u001b[0m \u001b[0;32mNone\u001b[0m\u001b[0;34m:\u001b[0m\u001b[0;34m\u001b[0m\u001b[0;34m\u001b[0m\u001b[0m\n",
      "\u001b[0;31mAttributeError\u001b[0m: 'Series' object has no attribute 'description'"
     ]
    }
   ],
   "source": [
    "print(f'Fecha inicial flujo: {ois.start_date.description(False)}')\n",
    "print(f'Fecha final flujo: {ois.end_date.description(False)}')"
   ]
  },
  {
   "cell_type": "code",
   "execution_count": 61,
   "metadata": {
    "ExecuteTime": {
     "end_time": "2020-12-07T11:21:58.825714Z",
     "start_time": "2020-12-07T11:21:58.754559Z"
    }
   },
   "outputs": [
    {
     "ename": "AttributeError",
     "evalue": "'OIS' object has no attribute 'interest_rate'",
     "output_type": "error",
     "traceback": [
      "\u001b[0;31m---------------------------------------------------------------------------\u001b[0m",
      "\u001b[0;31mAttributeError\u001b[0m                            Traceback (most recent call last)",
      "\u001b[0;32m<ipython-input-61-19413ab77d10>\u001b[0m in \u001b[0;36m<module>\u001b[0;34m\u001b[0m\n\u001b[1;32m      3\u001b[0m \u001b[0mval_date\u001b[0m \u001b[0;34m=\u001b[0m \u001b[0mQcf\u001b[0m\u001b[0;34m.\u001b[0m\u001b[0mQCDate\u001b[0m\u001b[0;34m(\u001b[0m\u001b[0;36m1\u001b[0m\u001b[0;34m,\u001b[0m \u001b[0;36m6\u001b[0m\u001b[0;34m,\u001b[0m \u001b[0;36m2019\u001b[0m\u001b[0;34m)\u001b[0m\u001b[0;34m\u001b[0m\u001b[0;34m\u001b[0m\u001b[0m\n\u001b[1;32m      4\u001b[0m \u001b[0mset_expected_rate\u001b[0m\u001b[0;34m(\u001b[0m\u001b[0mval_date\u001b[0m\u001b[0;34m,\u001b[0m \u001b[0mois\u001b[0m\u001b[0;34m,\u001b[0m \u001b[0mzcc\u001b[0m\u001b[0;34m,\u001b[0m \u001b[0mdata\u001b[0m\u001b[0;34m[\u001b[0m\u001b[0;34m\"fixing\"\u001b[0m\u001b[0;34m]\u001b[0m\u001b[0;34m)\u001b[0m\u001b[0;34m\u001b[0m\u001b[0;34m\u001b[0m\u001b[0m\n\u001b[0;32m----> 5\u001b[0;31m \u001b[0mresultado\u001b[0m \u001b[0;34m=\u001b[0m \u001b[0mois\u001b[0m\u001b[0;34m.\u001b[0m\u001b[0minterest_rate\u001b[0m\u001b[0;34m.\u001b[0m\u001b[0mget_value\u001b[0m\u001b[0;34m(\u001b[0m\u001b[0;34m)\u001b[0m\u001b[0;34m\u001b[0m\u001b[0;34m\u001b[0m\u001b[0m\n\u001b[0m\u001b[1;32m      6\u001b[0m \u001b[0mprint\u001b[0m\u001b[0;34m(\u001b[0m\u001b[0;34mf'Tasa esperada es: {resultado:.8%}'\u001b[0m\u001b[0;34m)\u001b[0m\u001b[0;34m\u001b[0m\u001b[0;34m\u001b[0m\u001b[0m\n\u001b[1;32m      7\u001b[0m \u001b[0mp1\u001b[0m \u001b[0;34m=\u001b[0m \u001b[0mval_date\u001b[0m\u001b[0;34m.\u001b[0m\u001b[0mday_diff\u001b[0m\u001b[0;34m(\u001b[0m\u001b[0mois\u001b[0m\u001b[0;34m.\u001b[0m\u001b[0mstart_date\u001b[0m\u001b[0;34m)\u001b[0m\u001b[0;34m\u001b[0m\u001b[0;34m\u001b[0m\u001b[0m\n",
      "\u001b[0;31mAttributeError\u001b[0m: 'OIS' object has no attribute 'interest_rate'"
     ]
    }
   ],
   "source": [
    "# Check primer caso\n",
    "# AD: se modifica según test entregado por el grupo\n",
    "val_date = Qcf.QCDate(1, 6, 2019)\n",
    "set_expected_rate(val_date, ois, zcc, data[\"fixing\"])\n",
    "resultado = ois.interest_rate.get_value()\n",
    "print(f'Tasa esperada es: {resultado:.8%}')\n",
    "p1 = val_date.day_diff(ois.start_date)\n",
    "p2 = val_date.day_diff(ois.end_date)\n",
    "df1 = zcc.get_discount_factor_at(p1)\n",
    "df2 = zcc.get_discount_factor_at(p2)\n",
    "check = (df1 / df2 - 1) * 360 / (p2 - p1)\n",
    "print(f'Check tasa esperada es: {check:.8%}')\n",
    "\n",
    "suma_exito(resultado, check, 'tasa')"
   ]
  },
  {
   "cell_type": "code",
   "execution_count": 62,
   "metadata": {
    "ExecuteTime": {
     "end_time": "2020-12-07T11:21:59.034465Z",
     "start_time": "2020-12-07T11:21:58.972643Z"
    }
   },
   "outputs": [
    {
     "ename": "TypeError",
     "evalue": "object of type 'ZeroCouponCurve' has no len()",
     "output_type": "error",
     "traceback": [
      "\u001b[0;31m---------------------------------------------------------------------------\u001b[0m",
      "\u001b[0;31mTypeError\u001b[0m                                 Traceback (most recent call last)",
      "\u001b[0;32m<ipython-input-62-3cd413be66df>\u001b[0m in \u001b[0;36m<module>\u001b[0;34m\u001b[0m\n\u001b[1;32m      1\u001b[0m \u001b[0;31m# Check segundo caso borde\u001b[0m\u001b[0;34m\u001b[0m\u001b[0;34m\u001b[0m\u001b[0;34m\u001b[0m\u001b[0m\n\u001b[1;32m      2\u001b[0m \u001b[0mval_date\u001b[0m \u001b[0;34m=\u001b[0m \u001b[0mQcf\u001b[0m\u001b[0;34m.\u001b[0m\u001b[0mQCDate\u001b[0m\u001b[0;34m(\u001b[0m\u001b[0;36m1\u001b[0m\u001b[0;34m,\u001b[0m \u001b[0;36m10\u001b[0m\u001b[0;34m,\u001b[0m \u001b[0;36m2019\u001b[0m\u001b[0;34m)\u001b[0m\u001b[0;34m\u001b[0m\u001b[0;34m\u001b[0m\u001b[0m\n\u001b[0;32m----> 3\u001b[0;31m \u001b[0mset_expected_rate\u001b[0m\u001b[0;34m(\u001b[0m\u001b[0mval_date\u001b[0m\u001b[0;34m,\u001b[0m \u001b[0mois\u001b[0m\u001b[0;34m,\u001b[0m \u001b[0mfixings\u001b[0m\u001b[0;34m,\u001b[0m \u001b[0mzcc\u001b[0m\u001b[0;34m)\u001b[0m\u001b[0;34m\u001b[0m\u001b[0;34m\u001b[0m\u001b[0m\n\u001b[0m\u001b[1;32m      4\u001b[0m \u001b[0mresultado\u001b[0m \u001b[0;34m=\u001b[0m \u001b[0mois\u001b[0m\u001b[0;34m.\u001b[0m\u001b[0minterest_rate\u001b[0m\u001b[0;34m.\u001b[0m\u001b[0mget_value\u001b[0m\u001b[0;34m(\u001b[0m\u001b[0;34m)\u001b[0m\u001b[0;34m\u001b[0m\u001b[0;34m\u001b[0m\u001b[0m\n\u001b[1;32m      5\u001b[0m \u001b[0mprint\u001b[0m\u001b[0;34m(\u001b[0m\u001b[0;34mf'Tasa esperada es: {resultado:.8%}'\u001b[0m\u001b[0;34m)\u001b[0m\u001b[0;34m\u001b[0m\u001b[0;34m\u001b[0m\u001b[0m\n",
      "\u001b[0;32m<ipython-input-20-44ccbb2287a4>\u001b[0m in \u001b[0;36mset_expected_rate\u001b[0;34m(val_date, ois_cashflow, zcc, fixings)\u001b[0m\n\u001b[1;32m      9\u001b[0m     \u001b[0mop\u001b[0m \u001b[0;34m=\u001b[0m \u001b[0mget\u001b[0m\u001b[0;34m(\u001b[0m\u001b[0mrp\u001b[0m\u001b[0;34m=\u001b[0m\u001b[0mQcf\u001b[0m\u001b[0;34m.\u001b[0m\u001b[0mRecPay\u001b[0m\u001b[0;34m.\u001b[0m\u001b[0mRECEIVE\u001b[0m\u001b[0;34m,\u001b[0m\u001b[0mnotional\u001b[0m\u001b[0;34m=\u001b[0m\u001b[0;36m10000000\u001b[0m\u001b[0;34m,\u001b[0m\u001b[0mstart_date\u001b[0m\u001b[0;34m=\u001b[0m\u001b[0mQcf\u001b[0m\u001b[0;34m.\u001b[0m\u001b[0mQCDate\u001b[0m\u001b[0;34m(\u001b[0m\u001b[0;36m1\u001b[0m\u001b[0;34m,\u001b[0m \u001b[0;36m6\u001b[0m\u001b[0;34m,\u001b[0m \u001b[0;36m2019\u001b[0m\u001b[0;34m)\u001b[0m\u001b[0;34m,\u001b[0m\u001b[0mtenor\u001b[0m\u001b[0;34m=\u001b[0m\u001b[0mQcf\u001b[0m\u001b[0;34m.\u001b[0m\u001b[0mTenor\u001b[0m\u001b[0;34m(\u001b[0m\u001b[0;34m'2Y'\u001b[0m\u001b[0;34m)\u001b[0m\u001b[0;34m,\u001b[0m\u001b[0mfixed_rate_value\u001b[0m\u001b[0;34m=\u001b[0m\u001b[0;36m.01\u001b[0m\u001b[0;34m,\u001b[0m\u001b[0mspread\u001b[0m\u001b[0;34m=\u001b[0m\u001b[0;36m0\u001b[0m\u001b[0;34m,\u001b[0m\u001b[0mgearing\u001b[0m\u001b[0;34m=\u001b[0m\u001b[0;36m1\u001b[0m\u001b[0;34m)\u001b[0m\u001b[0;34m\u001b[0m\u001b[0;34m\u001b[0m\u001b[0m\n\u001b[1;32m     10\u001b[0m     \u001b[0mi\u001b[0m\u001b[0;34m=\u001b[0m\u001b[0;36m0\u001b[0m\u001b[0;34m\u001b[0m\u001b[0;34m\u001b[0m\u001b[0m\n\u001b[0;32m---> 11\u001b[0;31m     \u001b[0;32mwhile\u001b[0m \u001b[0mi\u001b[0m\u001b[0;34m<\u001b[0m \u001b[0mlen\u001b[0m\u001b[0;34m(\u001b[0m\u001b[0mfixings\u001b[0m\u001b[0;34m)\u001b[0m\u001b[0;34m:\u001b[0m\u001b[0;34m\u001b[0m\u001b[0;34m\u001b[0m\u001b[0m\n\u001b[0m\u001b[1;32m     12\u001b[0m         \u001b[0moperaciones\u001b[0m \u001b[0;34m=\u001b[0m \u001b[0mfwd\u001b[0m\u001b[0;34m.\u001b[0m\u001b[0mset_rates_icp_clp_leg\u001b[0m\u001b[0;34m(\u001b[0m\u001b[0mval_date\u001b[0m\u001b[0;34m,\u001b[0m \u001b[0mfixings\u001b[0m\u001b[0;34m[\u001b[0m\u001b[0mi\u001b[0m\u001b[0;34m]\u001b[0m\u001b[0;34m,\u001b[0m \u001b[0mop\u001b[0m\u001b[0;34m[\u001b[0m\u001b[0;36m1\u001b[0m\u001b[0;34m]\u001b[0m\u001b[0;34m,\u001b[0m \u001b[0mzcc\u001b[0m\u001b[0;34m)\u001b[0m\u001b[0;34m\u001b[0m\u001b[0;34m\u001b[0m\u001b[0m\n\u001b[1;32m     13\u001b[0m         \u001b[0mi\u001b[0m\u001b[0;34m=\u001b[0m\u001b[0mi\u001b[0m\u001b[0;34m+\u001b[0m\u001b[0;36m1\u001b[0m\u001b[0;34m\u001b[0m\u001b[0;34m\u001b[0m\u001b[0m\n",
      "\u001b[0;31mTypeError\u001b[0m: object of type 'ZeroCouponCurve' has no len()"
     ]
    }
   ],
   "source": [
    "# Check segundo caso borde\n",
    "val_date = Qcf.QCDate(1, 10, 2019)\n",
    "set_expected_rate(val_date, ois, fixings, zcc)\n",
    "resultado = ois.interest_rate.get_value()\n",
    "print(f'Tasa esperada es: {resultado:.8%}')\n",
    "p1 = val_date.day_diff(ois.start_date)\n",
    "p2 = val_date.day_diff(ois.end_date)\n",
    "df1 = zcc.get_discount_factor_at(p1)\n",
    "df2 = zcc.get_discount_factor_at(p2)\n",
    "check = (df1 / df2 - 1) * 360 / (p2 - p1)\n",
    "print(f'Check tasa esperada es: {check:.8%}')\n",
    "\n",
    "suma_exito(resultado, check, 'tasa')"
   ]
  },
  {
   "cell_type": "code",
   "execution_count": 63,
   "metadata": {
    "ExecuteTime": {
     "end_time": "2020-12-07T11:22:01.657415Z",
     "start_time": "2020-12-07T11:22:01.595627Z"
    }
   },
   "outputs": [
    {
     "ename": "TypeError",
     "evalue": "object of type 'ZeroCouponCurve' has no len()",
     "output_type": "error",
     "traceback": [
      "\u001b[0;31m---------------------------------------------------------------------------\u001b[0m",
      "\u001b[0;31mTypeError\u001b[0m                                 Traceback (most recent call last)",
      "\u001b[0;32m<ipython-input-63-78892b3db4de>\u001b[0m in \u001b[0;36m<module>\u001b[0;34m\u001b[0m\n\u001b[1;32m      1\u001b[0m \u001b[0;31m# Check segundo caso\u001b[0m\u001b[0;34m\u001b[0m\u001b[0;34m\u001b[0m\u001b[0;34m\u001b[0m\u001b[0m\n\u001b[1;32m      2\u001b[0m \u001b[0mval_date\u001b[0m \u001b[0;34m=\u001b[0m \u001b[0mQcf\u001b[0m\u001b[0;34m.\u001b[0m\u001b[0mQCDate\u001b[0m\u001b[0;34m(\u001b[0m\u001b[0;36m1\u001b[0m\u001b[0;34m,\u001b[0m \u001b[0;36m11\u001b[0m\u001b[0;34m,\u001b[0m \u001b[0;36m2019\u001b[0m\u001b[0;34m)\u001b[0m\u001b[0;34m\u001b[0m\u001b[0;34m\u001b[0m\u001b[0m\n\u001b[0;32m----> 3\u001b[0;31m \u001b[0mset_expected_rate\u001b[0m\u001b[0;34m(\u001b[0m\u001b[0mval_date\u001b[0m\u001b[0;34m,\u001b[0m \u001b[0mois\u001b[0m\u001b[0;34m,\u001b[0m \u001b[0mfixings\u001b[0m\u001b[0;34m,\u001b[0m \u001b[0mzcc\u001b[0m\u001b[0;34m)\u001b[0m\u001b[0;34m\u001b[0m\u001b[0;34m\u001b[0m\u001b[0m\n\u001b[0m\u001b[1;32m      4\u001b[0m \u001b[0mresultado\u001b[0m \u001b[0;34m=\u001b[0m \u001b[0mois\u001b[0m\u001b[0;34m.\u001b[0m\u001b[0minterest_rate\u001b[0m\u001b[0;34m.\u001b[0m\u001b[0mget_value\u001b[0m\u001b[0;34m(\u001b[0m\u001b[0;34m)\u001b[0m\u001b[0;34m\u001b[0m\u001b[0;34m\u001b[0m\u001b[0m\n\u001b[1;32m      5\u001b[0m \u001b[0mprint\u001b[0m\u001b[0;34m(\u001b[0m\u001b[0;34mf'Tasa esperada es: {resultado:.8%}'\u001b[0m\u001b[0;34m)\u001b[0m\u001b[0;34m\u001b[0m\u001b[0;34m\u001b[0m\u001b[0m\n",
      "\u001b[0;32m<ipython-input-20-44ccbb2287a4>\u001b[0m in \u001b[0;36mset_expected_rate\u001b[0;34m(val_date, ois_cashflow, zcc, fixings)\u001b[0m\n\u001b[1;32m      9\u001b[0m     \u001b[0mop\u001b[0m \u001b[0;34m=\u001b[0m \u001b[0mget\u001b[0m\u001b[0;34m(\u001b[0m\u001b[0mrp\u001b[0m\u001b[0;34m=\u001b[0m\u001b[0mQcf\u001b[0m\u001b[0;34m.\u001b[0m\u001b[0mRecPay\u001b[0m\u001b[0;34m.\u001b[0m\u001b[0mRECEIVE\u001b[0m\u001b[0;34m,\u001b[0m\u001b[0mnotional\u001b[0m\u001b[0;34m=\u001b[0m\u001b[0;36m10000000\u001b[0m\u001b[0;34m,\u001b[0m\u001b[0mstart_date\u001b[0m\u001b[0;34m=\u001b[0m\u001b[0mQcf\u001b[0m\u001b[0;34m.\u001b[0m\u001b[0mQCDate\u001b[0m\u001b[0;34m(\u001b[0m\u001b[0;36m1\u001b[0m\u001b[0;34m,\u001b[0m \u001b[0;36m6\u001b[0m\u001b[0;34m,\u001b[0m \u001b[0;36m2019\u001b[0m\u001b[0;34m)\u001b[0m\u001b[0;34m,\u001b[0m\u001b[0mtenor\u001b[0m\u001b[0;34m=\u001b[0m\u001b[0mQcf\u001b[0m\u001b[0;34m.\u001b[0m\u001b[0mTenor\u001b[0m\u001b[0;34m(\u001b[0m\u001b[0;34m'2Y'\u001b[0m\u001b[0;34m)\u001b[0m\u001b[0;34m,\u001b[0m\u001b[0mfixed_rate_value\u001b[0m\u001b[0;34m=\u001b[0m\u001b[0;36m.01\u001b[0m\u001b[0;34m,\u001b[0m\u001b[0mspread\u001b[0m\u001b[0;34m=\u001b[0m\u001b[0;36m0\u001b[0m\u001b[0;34m,\u001b[0m\u001b[0mgearing\u001b[0m\u001b[0;34m=\u001b[0m\u001b[0;36m1\u001b[0m\u001b[0;34m)\u001b[0m\u001b[0;34m\u001b[0m\u001b[0;34m\u001b[0m\u001b[0m\n\u001b[1;32m     10\u001b[0m     \u001b[0mi\u001b[0m\u001b[0;34m=\u001b[0m\u001b[0;36m0\u001b[0m\u001b[0;34m\u001b[0m\u001b[0;34m\u001b[0m\u001b[0m\n\u001b[0;32m---> 11\u001b[0;31m     \u001b[0;32mwhile\u001b[0m \u001b[0mi\u001b[0m\u001b[0;34m<\u001b[0m \u001b[0mlen\u001b[0m\u001b[0;34m(\u001b[0m\u001b[0mfixings\u001b[0m\u001b[0;34m)\u001b[0m\u001b[0;34m:\u001b[0m\u001b[0;34m\u001b[0m\u001b[0;34m\u001b[0m\u001b[0m\n\u001b[0m\u001b[1;32m     12\u001b[0m         \u001b[0moperaciones\u001b[0m \u001b[0;34m=\u001b[0m \u001b[0mfwd\u001b[0m\u001b[0;34m.\u001b[0m\u001b[0mset_rates_icp_clp_leg\u001b[0m\u001b[0;34m(\u001b[0m\u001b[0mval_date\u001b[0m\u001b[0;34m,\u001b[0m \u001b[0mfixings\u001b[0m\u001b[0;34m[\u001b[0m\u001b[0mi\u001b[0m\u001b[0;34m]\u001b[0m\u001b[0;34m,\u001b[0m \u001b[0mop\u001b[0m\u001b[0;34m[\u001b[0m\u001b[0;36m1\u001b[0m\u001b[0;34m]\u001b[0m\u001b[0;34m,\u001b[0m \u001b[0mzcc\u001b[0m\u001b[0;34m)\u001b[0m\u001b[0;34m\u001b[0m\u001b[0;34m\u001b[0m\u001b[0m\n\u001b[1;32m     13\u001b[0m         \u001b[0mi\u001b[0m\u001b[0;34m=\u001b[0m\u001b[0mi\u001b[0m\u001b[0;34m+\u001b[0m\u001b[0;36m1\u001b[0m\u001b[0;34m\u001b[0m\u001b[0;34m\u001b[0m\u001b[0m\n",
      "\u001b[0;31mTypeError\u001b[0m: object of type 'ZeroCouponCurve' has no len()"
     ]
    }
   ],
   "source": [
    "# Check segundo caso\n",
    "val_date = Qcf.QCDate(1, 11, 2019)\n",
    "set_expected_rate(val_date, ois, fixings, zcc)\n",
    "resultado = ois.interest_rate.get_value()\n",
    "print(f'Tasa esperada es: {resultado:.8%}')\n",
    "p1 = ois.start_date.day_diff(val_date)\n",
    "p2 = val_date.day_diff(ois.end_date)\n",
    "wf1 = 1 + ois.get_accrued_interest(val_date, fixings) / ois.notional\n",
    "wf2 = 1 / zcc.get_discount_factor_at(p2)\n",
    "check = (wf1 * wf2 - 1) * 360 / (p1 + p2)\n",
    "print(f'Check tasa esperada es: {check:.8%}')\n",
    "\n",
    "suma_exito(resultado, check, 'tasa')"
   ]
  },
  {
   "cell_type": "code",
   "execution_count": 64,
   "metadata": {
    "ExecuteTime": {
     "end_time": "2020-12-07T11:22:02.136374Z",
     "start_time": "2020-12-07T11:22:02.045935Z"
    }
   },
   "outputs": [
    {
     "ename": "TypeError",
     "evalue": "object of type 'ZeroCouponCurve' has no len()",
     "output_type": "error",
     "traceback": [
      "\u001b[0;31m---------------------------------------------------------------------------\u001b[0m",
      "\u001b[0;31mTypeError\u001b[0m                                 Traceback (most recent call last)",
      "\u001b[0;32m<ipython-input-64-13131794e717>\u001b[0m in \u001b[0;36m<module>\u001b[0;34m\u001b[0m\n\u001b[1;32m      1\u001b[0m \u001b[0;31m# Check tercer caso borde\u001b[0m\u001b[0;34m\u001b[0m\u001b[0;34m\u001b[0m\u001b[0;34m\u001b[0m\u001b[0m\n\u001b[1;32m      2\u001b[0m \u001b[0mval_date\u001b[0m \u001b[0;34m=\u001b[0m \u001b[0mQcf\u001b[0m\u001b[0;34m.\u001b[0m\u001b[0mQCDate\u001b[0m\u001b[0;34m(\u001b[0m\u001b[0;36m1\u001b[0m\u001b[0;34m,\u001b[0m \u001b[0;36m10\u001b[0m\u001b[0;34m,\u001b[0m \u001b[0;36m2020\u001b[0m\u001b[0;34m)\u001b[0m\u001b[0;34m\u001b[0m\u001b[0;34m\u001b[0m\u001b[0m\n\u001b[0;32m----> 3\u001b[0;31m \u001b[0mset_expected_rate\u001b[0m\u001b[0;34m(\u001b[0m\u001b[0mval_date\u001b[0m\u001b[0;34m,\u001b[0m \u001b[0mois\u001b[0m\u001b[0;34m,\u001b[0m \u001b[0mfixings\u001b[0m\u001b[0;34m,\u001b[0m \u001b[0mzcc\u001b[0m\u001b[0;34m)\u001b[0m\u001b[0;34m\u001b[0m\u001b[0;34m\u001b[0m\u001b[0m\n\u001b[0m\u001b[1;32m      4\u001b[0m \u001b[0mresultado\u001b[0m \u001b[0;34m=\u001b[0m \u001b[0mois\u001b[0m\u001b[0;34m.\u001b[0m\u001b[0minterest_rate\u001b[0m\u001b[0;34m.\u001b[0m\u001b[0mget_value\u001b[0m\u001b[0;34m(\u001b[0m\u001b[0;34m)\u001b[0m\u001b[0;34m\u001b[0m\u001b[0;34m\u001b[0m\u001b[0m\n\u001b[1;32m      5\u001b[0m \u001b[0mprint\u001b[0m\u001b[0;34m(\u001b[0m\u001b[0;34mf'Tasa esperada es: {resultado:.8%}'\u001b[0m\u001b[0;34m)\u001b[0m\u001b[0;34m\u001b[0m\u001b[0;34m\u001b[0m\u001b[0m\n",
      "\u001b[0;32m<ipython-input-20-44ccbb2287a4>\u001b[0m in \u001b[0;36mset_expected_rate\u001b[0;34m(val_date, ois_cashflow, zcc, fixings)\u001b[0m\n\u001b[1;32m      9\u001b[0m     \u001b[0mop\u001b[0m \u001b[0;34m=\u001b[0m \u001b[0mget\u001b[0m\u001b[0;34m(\u001b[0m\u001b[0mrp\u001b[0m\u001b[0;34m=\u001b[0m\u001b[0mQcf\u001b[0m\u001b[0;34m.\u001b[0m\u001b[0mRecPay\u001b[0m\u001b[0;34m.\u001b[0m\u001b[0mRECEIVE\u001b[0m\u001b[0;34m,\u001b[0m\u001b[0mnotional\u001b[0m\u001b[0;34m=\u001b[0m\u001b[0;36m10000000\u001b[0m\u001b[0;34m,\u001b[0m\u001b[0mstart_date\u001b[0m\u001b[0;34m=\u001b[0m\u001b[0mQcf\u001b[0m\u001b[0;34m.\u001b[0m\u001b[0mQCDate\u001b[0m\u001b[0;34m(\u001b[0m\u001b[0;36m1\u001b[0m\u001b[0;34m,\u001b[0m \u001b[0;36m6\u001b[0m\u001b[0;34m,\u001b[0m \u001b[0;36m2019\u001b[0m\u001b[0;34m)\u001b[0m\u001b[0;34m,\u001b[0m\u001b[0mtenor\u001b[0m\u001b[0;34m=\u001b[0m\u001b[0mQcf\u001b[0m\u001b[0;34m.\u001b[0m\u001b[0mTenor\u001b[0m\u001b[0;34m(\u001b[0m\u001b[0;34m'2Y'\u001b[0m\u001b[0;34m)\u001b[0m\u001b[0;34m,\u001b[0m\u001b[0mfixed_rate_value\u001b[0m\u001b[0;34m=\u001b[0m\u001b[0;36m.01\u001b[0m\u001b[0;34m,\u001b[0m\u001b[0mspread\u001b[0m\u001b[0;34m=\u001b[0m\u001b[0;36m0\u001b[0m\u001b[0;34m,\u001b[0m\u001b[0mgearing\u001b[0m\u001b[0;34m=\u001b[0m\u001b[0;36m1\u001b[0m\u001b[0;34m)\u001b[0m\u001b[0;34m\u001b[0m\u001b[0;34m\u001b[0m\u001b[0m\n\u001b[1;32m     10\u001b[0m     \u001b[0mi\u001b[0m\u001b[0;34m=\u001b[0m\u001b[0;36m0\u001b[0m\u001b[0;34m\u001b[0m\u001b[0;34m\u001b[0m\u001b[0m\n\u001b[0;32m---> 11\u001b[0;31m     \u001b[0;32mwhile\u001b[0m \u001b[0mi\u001b[0m\u001b[0;34m<\u001b[0m \u001b[0mlen\u001b[0m\u001b[0;34m(\u001b[0m\u001b[0mfixings\u001b[0m\u001b[0;34m)\u001b[0m\u001b[0;34m:\u001b[0m\u001b[0;34m\u001b[0m\u001b[0;34m\u001b[0m\u001b[0m\n\u001b[0m\u001b[1;32m     12\u001b[0m         \u001b[0moperaciones\u001b[0m \u001b[0;34m=\u001b[0m \u001b[0mfwd\u001b[0m\u001b[0;34m.\u001b[0m\u001b[0mset_rates_icp_clp_leg\u001b[0m\u001b[0;34m(\u001b[0m\u001b[0mval_date\u001b[0m\u001b[0;34m,\u001b[0m \u001b[0mfixings\u001b[0m\u001b[0;34m[\u001b[0m\u001b[0mi\u001b[0m\u001b[0;34m]\u001b[0m\u001b[0;34m,\u001b[0m \u001b[0mop\u001b[0m\u001b[0;34m[\u001b[0m\u001b[0;36m1\u001b[0m\u001b[0;34m]\u001b[0m\u001b[0;34m,\u001b[0m \u001b[0mzcc\u001b[0m\u001b[0;34m)\u001b[0m\u001b[0;34m\u001b[0m\u001b[0;34m\u001b[0m\u001b[0m\n\u001b[1;32m     13\u001b[0m         \u001b[0mi\u001b[0m\u001b[0;34m=\u001b[0m\u001b[0mi\u001b[0m\u001b[0;34m+\u001b[0m\u001b[0;36m1\u001b[0m\u001b[0;34m\u001b[0m\u001b[0;34m\u001b[0m\u001b[0m\n",
      "\u001b[0;31mTypeError\u001b[0m: object of type 'ZeroCouponCurve' has no len()"
     ]
    }
   ],
   "source": [
    "# Check tercer caso borde\n",
    "val_date = Qcf.QCDate(1, 10, 2020)\n",
    "set_expected_rate(val_date, ois, fixings, zcc)\n",
    "resultado = ois.interest_rate.get_value()\n",
    "print(f'Tasa esperada es: {resultado:.8%}')\n",
    "check = ois.get_accrued_rate(val_date, fixings)\n",
    "print(f'Check tasa esperada es: {check:.8%}')\n",
    "\n",
    "suma_exito(resultado, check, 'tasa')"
   ]
  },
  {
   "cell_type": "code",
   "execution_count": 65,
   "metadata": {
    "ExecuteTime": {
     "end_time": "2020-12-07T11:22:03.754483Z",
     "start_time": "2020-12-07T11:22:03.697950Z"
    }
   },
   "outputs": [
    {
     "ename": "TypeError",
     "evalue": "object of type 'ZeroCouponCurve' has no len()",
     "output_type": "error",
     "traceback": [
      "\u001b[0;31m---------------------------------------------------------------------------\u001b[0m",
      "\u001b[0;31mTypeError\u001b[0m                                 Traceback (most recent call last)",
      "\u001b[0;32m<ipython-input-65-3c955cfb9ce0>\u001b[0m in \u001b[0;36m<module>\u001b[0;34m\u001b[0m\n\u001b[1;32m      1\u001b[0m \u001b[0;31m# Check tercer caso\u001b[0m\u001b[0;34m\u001b[0m\u001b[0;34m\u001b[0m\u001b[0;34m\u001b[0m\u001b[0m\n\u001b[1;32m      2\u001b[0m \u001b[0mval_date\u001b[0m \u001b[0;34m=\u001b[0m \u001b[0mQcf\u001b[0m\u001b[0;34m.\u001b[0m\u001b[0mQCDate\u001b[0m\u001b[0;34m(\u001b[0m\u001b[0;36m15\u001b[0m\u001b[0;34m,\u001b[0m \u001b[0;36m10\u001b[0m\u001b[0;34m,\u001b[0m \u001b[0;36m2020\u001b[0m\u001b[0;34m)\u001b[0m\u001b[0;34m\u001b[0m\u001b[0;34m\u001b[0m\u001b[0m\n\u001b[0;32m----> 3\u001b[0;31m \u001b[0mset_expected_rate\u001b[0m\u001b[0;34m(\u001b[0m\u001b[0mval_date\u001b[0m\u001b[0;34m,\u001b[0m \u001b[0mois\u001b[0m\u001b[0;34m,\u001b[0m \u001b[0mfixings\u001b[0m\u001b[0;34m,\u001b[0m \u001b[0mzcc\u001b[0m\u001b[0;34m)\u001b[0m\u001b[0;34m\u001b[0m\u001b[0;34m\u001b[0m\u001b[0m\n\u001b[0m\u001b[1;32m      4\u001b[0m \u001b[0mresultado\u001b[0m \u001b[0;34m=\u001b[0m \u001b[0mois\u001b[0m\u001b[0;34m.\u001b[0m\u001b[0minterest_rate\u001b[0m\u001b[0;34m.\u001b[0m\u001b[0mget_value\u001b[0m\u001b[0;34m(\u001b[0m\u001b[0;34m)\u001b[0m\u001b[0;34m\u001b[0m\u001b[0;34m\u001b[0m\u001b[0m\n\u001b[1;32m      5\u001b[0m \u001b[0mprint\u001b[0m\u001b[0;34m(\u001b[0m\u001b[0;34mf'Tasa esperada es: {resultado:.8%}'\u001b[0m\u001b[0;34m)\u001b[0m\u001b[0;34m\u001b[0m\u001b[0;34m\u001b[0m\u001b[0m\n",
      "\u001b[0;32m<ipython-input-20-44ccbb2287a4>\u001b[0m in \u001b[0;36mset_expected_rate\u001b[0;34m(val_date, ois_cashflow, zcc, fixings)\u001b[0m\n\u001b[1;32m      9\u001b[0m     \u001b[0mop\u001b[0m \u001b[0;34m=\u001b[0m \u001b[0mget\u001b[0m\u001b[0;34m(\u001b[0m\u001b[0mrp\u001b[0m\u001b[0;34m=\u001b[0m\u001b[0mQcf\u001b[0m\u001b[0;34m.\u001b[0m\u001b[0mRecPay\u001b[0m\u001b[0;34m.\u001b[0m\u001b[0mRECEIVE\u001b[0m\u001b[0;34m,\u001b[0m\u001b[0mnotional\u001b[0m\u001b[0;34m=\u001b[0m\u001b[0;36m10000000\u001b[0m\u001b[0;34m,\u001b[0m\u001b[0mstart_date\u001b[0m\u001b[0;34m=\u001b[0m\u001b[0mQcf\u001b[0m\u001b[0;34m.\u001b[0m\u001b[0mQCDate\u001b[0m\u001b[0;34m(\u001b[0m\u001b[0;36m1\u001b[0m\u001b[0;34m,\u001b[0m \u001b[0;36m6\u001b[0m\u001b[0;34m,\u001b[0m \u001b[0;36m2019\u001b[0m\u001b[0;34m)\u001b[0m\u001b[0;34m,\u001b[0m\u001b[0mtenor\u001b[0m\u001b[0;34m=\u001b[0m\u001b[0mQcf\u001b[0m\u001b[0;34m.\u001b[0m\u001b[0mTenor\u001b[0m\u001b[0;34m(\u001b[0m\u001b[0;34m'2Y'\u001b[0m\u001b[0;34m)\u001b[0m\u001b[0;34m,\u001b[0m\u001b[0mfixed_rate_value\u001b[0m\u001b[0;34m=\u001b[0m\u001b[0;36m.01\u001b[0m\u001b[0;34m,\u001b[0m\u001b[0mspread\u001b[0m\u001b[0;34m=\u001b[0m\u001b[0;36m0\u001b[0m\u001b[0;34m,\u001b[0m\u001b[0mgearing\u001b[0m\u001b[0;34m=\u001b[0m\u001b[0;36m1\u001b[0m\u001b[0;34m)\u001b[0m\u001b[0;34m\u001b[0m\u001b[0;34m\u001b[0m\u001b[0m\n\u001b[1;32m     10\u001b[0m     \u001b[0mi\u001b[0m\u001b[0;34m=\u001b[0m\u001b[0;36m0\u001b[0m\u001b[0;34m\u001b[0m\u001b[0;34m\u001b[0m\u001b[0m\n\u001b[0;32m---> 11\u001b[0;31m     \u001b[0;32mwhile\u001b[0m \u001b[0mi\u001b[0m\u001b[0;34m<\u001b[0m \u001b[0mlen\u001b[0m\u001b[0;34m(\u001b[0m\u001b[0mfixings\u001b[0m\u001b[0;34m)\u001b[0m\u001b[0;34m:\u001b[0m\u001b[0;34m\u001b[0m\u001b[0;34m\u001b[0m\u001b[0m\n\u001b[0m\u001b[1;32m     12\u001b[0m         \u001b[0moperaciones\u001b[0m \u001b[0;34m=\u001b[0m \u001b[0mfwd\u001b[0m\u001b[0;34m.\u001b[0m\u001b[0mset_rates_icp_clp_leg\u001b[0m\u001b[0;34m(\u001b[0m\u001b[0mval_date\u001b[0m\u001b[0;34m,\u001b[0m \u001b[0mfixings\u001b[0m\u001b[0;34m[\u001b[0m\u001b[0mi\u001b[0m\u001b[0;34m]\u001b[0m\u001b[0;34m,\u001b[0m \u001b[0mop\u001b[0m\u001b[0;34m[\u001b[0m\u001b[0;36m1\u001b[0m\u001b[0;34m]\u001b[0m\u001b[0;34m,\u001b[0m \u001b[0mzcc\u001b[0m\u001b[0;34m)\u001b[0m\u001b[0;34m\u001b[0m\u001b[0;34m\u001b[0m\u001b[0m\n\u001b[1;32m     13\u001b[0m         \u001b[0mi\u001b[0m\u001b[0;34m=\u001b[0m\u001b[0mi\u001b[0m\u001b[0;34m+\u001b[0m\u001b[0;36m1\u001b[0m\u001b[0;34m\u001b[0m\u001b[0;34m\u001b[0m\u001b[0m\n",
      "\u001b[0;31mTypeError\u001b[0m: object of type 'ZeroCouponCurve' has no len()"
     ]
    }
   ],
   "source": [
    "# Check tercer caso\n",
    "val_date = Qcf.QCDate(15, 10, 2020)\n",
    "set_expected_rate(val_date, ois, fixings, zcc)\n",
    "resultado = ois.interest_rate.get_value()\n",
    "print(f'Tasa esperada es: {resultado:.8%}')\n",
    "check = ois.get_accrued_rate(ois.end_date, fixings)\n",
    "print(f'Check tasa esperada es: {check:.8%}')\n",
    "\n",
    "suma_exito(resultado, check, 'tasa')"
   ]
  },
  {
   "cell_type": "markdown",
   "metadata": {},
   "source": [
    "### `present_value`"
   ]
  },
  {
   "cell_type": "code",
   "execution_count": 66,
   "metadata": {
    "ExecuteTime": {
     "end_time": "2020-12-07T11:22:05.608261Z",
     "start_time": "2020-12-07T11:22:05.548889Z"
    }
   },
   "outputs": [
    {
     "ename": "TypeError",
     "evalue": "object of type 'ZeroCouponCurve' has no len()",
     "output_type": "error",
     "traceback": [
      "\u001b[0;31m---------------------------------------------------------------------------\u001b[0m",
      "\u001b[0;31mTypeError\u001b[0m                                 Traceback (most recent call last)",
      "\u001b[0;32m<ipython-input-66-4f0160431073>\u001b[0m in \u001b[0;36m<module>\u001b[0;34m\u001b[0m\n\u001b[1;32m      1\u001b[0m \u001b[0;31m# Check primer caso\u001b[0m\u001b[0;34m\u001b[0m\u001b[0;34m\u001b[0m\u001b[0;34m\u001b[0m\u001b[0m\n\u001b[1;32m      2\u001b[0m \u001b[0mval_date\u001b[0m \u001b[0;34m=\u001b[0m \u001b[0mQcf\u001b[0m\u001b[0;34m.\u001b[0m\u001b[0mQCDate\u001b[0m\u001b[0;34m(\u001b[0m\u001b[0;36m1\u001b[0m\u001b[0;34m,\u001b[0m \u001b[0;36m6\u001b[0m\u001b[0;34m,\u001b[0m \u001b[0;36m2019\u001b[0m\u001b[0;34m)\u001b[0m\u001b[0;34m\u001b[0m\u001b[0;34m\u001b[0m\u001b[0m\n\u001b[0;32m----> 3\u001b[0;31m \u001b[0mset_expected_rate\u001b[0m\u001b[0;34m(\u001b[0m\u001b[0mval_date\u001b[0m\u001b[0;34m,\u001b[0m \u001b[0mois\u001b[0m\u001b[0;34m,\u001b[0m \u001b[0mfixings\u001b[0m\u001b[0;34m,\u001b[0m \u001b[0mzcc\u001b[0m\u001b[0;34m)\u001b[0m\u001b[0;34m\u001b[0m\u001b[0;34m\u001b[0m\u001b[0m\n\u001b[0m\u001b[1;32m      4\u001b[0m \u001b[0mpv\u001b[0m \u001b[0;34m=\u001b[0m \u001b[0mpresent_value\u001b[0m\u001b[0;34m(\u001b[0m\u001b[0mval_date\u001b[0m\u001b[0;34m,\u001b[0m \u001b[0mois\u001b[0m\u001b[0;34m,\u001b[0m \u001b[0mzcc\u001b[0m\u001b[0;34m)\u001b[0m\u001b[0;34m\u001b[0m\u001b[0;34m\u001b[0m\u001b[0m\n\u001b[1;32m      5\u001b[0m \u001b[0mprint\u001b[0m\u001b[0;34m(\u001b[0m\u001b[0;34mf'Valor presente es: {pv:,.4f}'\u001b[0m\u001b[0;34m)\u001b[0m\u001b[0;34m\u001b[0m\u001b[0;34m\u001b[0m\u001b[0m\n",
      "\u001b[0;32m<ipython-input-20-44ccbb2287a4>\u001b[0m in \u001b[0;36mset_expected_rate\u001b[0;34m(val_date, ois_cashflow, zcc, fixings)\u001b[0m\n\u001b[1;32m      9\u001b[0m     \u001b[0mop\u001b[0m \u001b[0;34m=\u001b[0m \u001b[0mget\u001b[0m\u001b[0;34m(\u001b[0m\u001b[0mrp\u001b[0m\u001b[0;34m=\u001b[0m\u001b[0mQcf\u001b[0m\u001b[0;34m.\u001b[0m\u001b[0mRecPay\u001b[0m\u001b[0;34m.\u001b[0m\u001b[0mRECEIVE\u001b[0m\u001b[0;34m,\u001b[0m\u001b[0mnotional\u001b[0m\u001b[0;34m=\u001b[0m\u001b[0;36m10000000\u001b[0m\u001b[0;34m,\u001b[0m\u001b[0mstart_date\u001b[0m\u001b[0;34m=\u001b[0m\u001b[0mQcf\u001b[0m\u001b[0;34m.\u001b[0m\u001b[0mQCDate\u001b[0m\u001b[0;34m(\u001b[0m\u001b[0;36m1\u001b[0m\u001b[0;34m,\u001b[0m \u001b[0;36m6\u001b[0m\u001b[0;34m,\u001b[0m \u001b[0;36m2019\u001b[0m\u001b[0;34m)\u001b[0m\u001b[0;34m,\u001b[0m\u001b[0mtenor\u001b[0m\u001b[0;34m=\u001b[0m\u001b[0mQcf\u001b[0m\u001b[0;34m.\u001b[0m\u001b[0mTenor\u001b[0m\u001b[0;34m(\u001b[0m\u001b[0;34m'2Y'\u001b[0m\u001b[0;34m)\u001b[0m\u001b[0;34m,\u001b[0m\u001b[0mfixed_rate_value\u001b[0m\u001b[0;34m=\u001b[0m\u001b[0;36m.01\u001b[0m\u001b[0;34m,\u001b[0m\u001b[0mspread\u001b[0m\u001b[0;34m=\u001b[0m\u001b[0;36m0\u001b[0m\u001b[0;34m,\u001b[0m\u001b[0mgearing\u001b[0m\u001b[0;34m=\u001b[0m\u001b[0;36m1\u001b[0m\u001b[0;34m)\u001b[0m\u001b[0;34m\u001b[0m\u001b[0;34m\u001b[0m\u001b[0m\n\u001b[1;32m     10\u001b[0m     \u001b[0mi\u001b[0m\u001b[0;34m=\u001b[0m\u001b[0;36m0\u001b[0m\u001b[0;34m\u001b[0m\u001b[0;34m\u001b[0m\u001b[0m\n\u001b[0;32m---> 11\u001b[0;31m     \u001b[0;32mwhile\u001b[0m \u001b[0mi\u001b[0m\u001b[0;34m<\u001b[0m \u001b[0mlen\u001b[0m\u001b[0;34m(\u001b[0m\u001b[0mfixings\u001b[0m\u001b[0;34m)\u001b[0m\u001b[0;34m:\u001b[0m\u001b[0;34m\u001b[0m\u001b[0;34m\u001b[0m\u001b[0m\n\u001b[0m\u001b[1;32m     12\u001b[0m         \u001b[0moperaciones\u001b[0m \u001b[0;34m=\u001b[0m \u001b[0mfwd\u001b[0m\u001b[0;34m.\u001b[0m\u001b[0mset_rates_icp_clp_leg\u001b[0m\u001b[0;34m(\u001b[0m\u001b[0mval_date\u001b[0m\u001b[0;34m,\u001b[0m \u001b[0mfixings\u001b[0m\u001b[0;34m[\u001b[0m\u001b[0mi\u001b[0m\u001b[0;34m]\u001b[0m\u001b[0;34m,\u001b[0m \u001b[0mop\u001b[0m\u001b[0;34m[\u001b[0m\u001b[0;36m1\u001b[0m\u001b[0;34m]\u001b[0m\u001b[0;34m,\u001b[0m \u001b[0mzcc\u001b[0m\u001b[0;34m)\u001b[0m\u001b[0;34m\u001b[0m\u001b[0;34m\u001b[0m\u001b[0m\n\u001b[1;32m     13\u001b[0m         \u001b[0mi\u001b[0m\u001b[0;34m=\u001b[0m\u001b[0mi\u001b[0m\u001b[0;34m+\u001b[0m\u001b[0;36m1\u001b[0m\u001b[0;34m\u001b[0m\u001b[0;34m\u001b[0m\u001b[0m\n",
      "\u001b[0;31mTypeError\u001b[0m: object of type 'ZeroCouponCurve' has no len()"
     ]
    }
   ],
   "source": [
    "# Check primer caso\n",
    "val_date = Qcf.QCDate(1, 6, 2019)\n",
    "set_expected_rate(val_date, ois, fixings, zcc)\n",
    "pv = present_value(val_date, ois, zcc)\n",
    "print(f'Valor presente es: {pv:,.4f}')\n",
    "amount = ois.amount()\n",
    "print(f'Amount: {amount:,.4f}')\n",
    "amount = ois.amount()\n",
    "plazo = val_date.day_diff(ois.settlement_date)\n",
    "df = zcc.get_discount_factor_at(plazo)\n",
    "print(f'Df: {df:.6%}')\n",
    "vp_check = df * amount\n",
    "print(f'VP check es: {vp_check:,.4f}')\n",
    "\n",
    "suma_exito(pv, vp_check, 'monto')"
   ]
  },
  {
   "cell_type": "code",
   "execution_count": 67,
   "metadata": {
    "ExecuteTime": {
     "end_time": "2020-12-07T11:22:06.166851Z",
     "start_time": "2020-12-07T11:22:06.108510Z"
    }
   },
   "outputs": [
    {
     "ename": "TypeError",
     "evalue": "object of type 'ZeroCouponCurve' has no len()",
     "output_type": "error",
     "traceback": [
      "\u001b[0;31m---------------------------------------------------------------------------\u001b[0m",
      "\u001b[0;31mTypeError\u001b[0m                                 Traceback (most recent call last)",
      "\u001b[0;32m<ipython-input-67-9658e49590a5>\u001b[0m in \u001b[0;36m<module>\u001b[0;34m\u001b[0m\n\u001b[1;32m      1\u001b[0m \u001b[0;31m# Check segundo caso borde\u001b[0m\u001b[0;34m\u001b[0m\u001b[0;34m\u001b[0m\u001b[0;34m\u001b[0m\u001b[0m\n\u001b[1;32m      2\u001b[0m \u001b[0mval_date\u001b[0m \u001b[0;34m=\u001b[0m \u001b[0mQcf\u001b[0m\u001b[0;34m.\u001b[0m\u001b[0mQCDate\u001b[0m\u001b[0;34m(\u001b[0m\u001b[0;36m1\u001b[0m\u001b[0;34m,\u001b[0m \u001b[0;36m10\u001b[0m\u001b[0;34m,\u001b[0m \u001b[0;36m2019\u001b[0m\u001b[0;34m)\u001b[0m\u001b[0;34m\u001b[0m\u001b[0;34m\u001b[0m\u001b[0m\n\u001b[0;32m----> 3\u001b[0;31m \u001b[0mset_expected_rate\u001b[0m\u001b[0;34m(\u001b[0m\u001b[0mval_date\u001b[0m\u001b[0;34m,\u001b[0m \u001b[0mois\u001b[0m\u001b[0;34m,\u001b[0m \u001b[0mfixings\u001b[0m\u001b[0;34m,\u001b[0m \u001b[0mzcc\u001b[0m\u001b[0;34m)\u001b[0m\u001b[0;34m\u001b[0m\u001b[0;34m\u001b[0m\u001b[0m\n\u001b[0m\u001b[1;32m      4\u001b[0m \u001b[0mpv\u001b[0m \u001b[0;34m=\u001b[0m \u001b[0mpresent_value\u001b[0m\u001b[0;34m(\u001b[0m\u001b[0mval_date\u001b[0m\u001b[0;34m,\u001b[0m \u001b[0mois\u001b[0m\u001b[0;34m,\u001b[0m \u001b[0mzcc\u001b[0m\u001b[0;34m)\u001b[0m\u001b[0;34m\u001b[0m\u001b[0;34m\u001b[0m\u001b[0m\n\u001b[1;32m      5\u001b[0m \u001b[0mprint\u001b[0m\u001b[0;34m(\u001b[0m\u001b[0;34mf'Valor presente es: {pv:,.4f}'\u001b[0m\u001b[0;34m)\u001b[0m\u001b[0;34m\u001b[0m\u001b[0;34m\u001b[0m\u001b[0m\n",
      "\u001b[0;32m<ipython-input-20-44ccbb2287a4>\u001b[0m in \u001b[0;36mset_expected_rate\u001b[0;34m(val_date, ois_cashflow, zcc, fixings)\u001b[0m\n\u001b[1;32m      9\u001b[0m     \u001b[0mop\u001b[0m \u001b[0;34m=\u001b[0m \u001b[0mget\u001b[0m\u001b[0;34m(\u001b[0m\u001b[0mrp\u001b[0m\u001b[0;34m=\u001b[0m\u001b[0mQcf\u001b[0m\u001b[0;34m.\u001b[0m\u001b[0mRecPay\u001b[0m\u001b[0;34m.\u001b[0m\u001b[0mRECEIVE\u001b[0m\u001b[0;34m,\u001b[0m\u001b[0mnotional\u001b[0m\u001b[0;34m=\u001b[0m\u001b[0;36m10000000\u001b[0m\u001b[0;34m,\u001b[0m\u001b[0mstart_date\u001b[0m\u001b[0;34m=\u001b[0m\u001b[0mQcf\u001b[0m\u001b[0;34m.\u001b[0m\u001b[0mQCDate\u001b[0m\u001b[0;34m(\u001b[0m\u001b[0;36m1\u001b[0m\u001b[0;34m,\u001b[0m \u001b[0;36m6\u001b[0m\u001b[0;34m,\u001b[0m \u001b[0;36m2019\u001b[0m\u001b[0;34m)\u001b[0m\u001b[0;34m,\u001b[0m\u001b[0mtenor\u001b[0m\u001b[0;34m=\u001b[0m\u001b[0mQcf\u001b[0m\u001b[0;34m.\u001b[0m\u001b[0mTenor\u001b[0m\u001b[0;34m(\u001b[0m\u001b[0;34m'2Y'\u001b[0m\u001b[0;34m)\u001b[0m\u001b[0;34m,\u001b[0m\u001b[0mfixed_rate_value\u001b[0m\u001b[0;34m=\u001b[0m\u001b[0;36m.01\u001b[0m\u001b[0;34m,\u001b[0m\u001b[0mspread\u001b[0m\u001b[0;34m=\u001b[0m\u001b[0;36m0\u001b[0m\u001b[0;34m,\u001b[0m\u001b[0mgearing\u001b[0m\u001b[0;34m=\u001b[0m\u001b[0;36m1\u001b[0m\u001b[0;34m)\u001b[0m\u001b[0;34m\u001b[0m\u001b[0;34m\u001b[0m\u001b[0m\n\u001b[1;32m     10\u001b[0m     \u001b[0mi\u001b[0m\u001b[0;34m=\u001b[0m\u001b[0;36m0\u001b[0m\u001b[0;34m\u001b[0m\u001b[0;34m\u001b[0m\u001b[0m\n\u001b[0;32m---> 11\u001b[0;31m     \u001b[0;32mwhile\u001b[0m \u001b[0mi\u001b[0m\u001b[0;34m<\u001b[0m \u001b[0mlen\u001b[0m\u001b[0;34m(\u001b[0m\u001b[0mfixings\u001b[0m\u001b[0;34m)\u001b[0m\u001b[0;34m:\u001b[0m\u001b[0;34m\u001b[0m\u001b[0;34m\u001b[0m\u001b[0m\n\u001b[0m\u001b[1;32m     12\u001b[0m         \u001b[0moperaciones\u001b[0m \u001b[0;34m=\u001b[0m \u001b[0mfwd\u001b[0m\u001b[0;34m.\u001b[0m\u001b[0mset_rates_icp_clp_leg\u001b[0m\u001b[0;34m(\u001b[0m\u001b[0mval_date\u001b[0m\u001b[0;34m,\u001b[0m \u001b[0mfixings\u001b[0m\u001b[0;34m[\u001b[0m\u001b[0mi\u001b[0m\u001b[0;34m]\u001b[0m\u001b[0;34m,\u001b[0m \u001b[0mop\u001b[0m\u001b[0;34m[\u001b[0m\u001b[0;36m1\u001b[0m\u001b[0;34m]\u001b[0m\u001b[0;34m,\u001b[0m \u001b[0mzcc\u001b[0m\u001b[0;34m)\u001b[0m\u001b[0;34m\u001b[0m\u001b[0;34m\u001b[0m\u001b[0m\n\u001b[1;32m     13\u001b[0m         \u001b[0mi\u001b[0m\u001b[0;34m=\u001b[0m\u001b[0mi\u001b[0m\u001b[0;34m+\u001b[0m\u001b[0;36m1\u001b[0m\u001b[0;34m\u001b[0m\u001b[0;34m\u001b[0m\u001b[0m\n",
      "\u001b[0;31mTypeError\u001b[0m: object of type 'ZeroCouponCurve' has no len()"
     ]
    }
   ],
   "source": [
    "# Check segundo caso borde\n",
    "val_date = Qcf.QCDate(1, 10, 2019)\n",
    "set_expected_rate(val_date, ois, fixings, zcc)\n",
    "pv = present_value(val_date, ois, zcc)\n",
    "print(f'Valor presente es: {pv:,.4f}')\n",
    "amount = ois.amount()\n",
    "print(f'Amount: {amount:,.4f}')\n",
    "amount = ois.amount()\n",
    "plazo = val_date.day_diff(ois.settlement_date)\n",
    "df = zcc.get_discount_factor_at(plazo)\n",
    "print(f'Df: {df:.6%}')\n",
    "vp_check = df * amount\n",
    "print(f'VP check es: {vp_check:,.4f}')\n",
    "\n",
    "suma_exito(pv, vp_check, 'monto')"
   ]
  },
  {
   "cell_type": "code",
   "execution_count": 68,
   "metadata": {
    "ExecuteTime": {
     "end_time": "2020-12-07T11:22:07.420598Z",
     "start_time": "2020-12-07T11:22:07.356072Z"
    }
   },
   "outputs": [
    {
     "ename": "TypeError",
     "evalue": "object of type 'ZeroCouponCurve' has no len()",
     "output_type": "error",
     "traceback": [
      "\u001b[0;31m---------------------------------------------------------------------------\u001b[0m",
      "\u001b[0;31mTypeError\u001b[0m                                 Traceback (most recent call last)",
      "\u001b[0;32m<ipython-input-68-21b8241a3f80>\u001b[0m in \u001b[0;36m<module>\u001b[0;34m\u001b[0m\n\u001b[1;32m      1\u001b[0m \u001b[0;31m# Check segundo caso\u001b[0m\u001b[0;34m\u001b[0m\u001b[0;34m\u001b[0m\u001b[0;34m\u001b[0m\u001b[0m\n\u001b[1;32m      2\u001b[0m \u001b[0mval_date\u001b[0m \u001b[0;34m=\u001b[0m \u001b[0mQcf\u001b[0m\u001b[0;34m.\u001b[0m\u001b[0mQCDate\u001b[0m\u001b[0;34m(\u001b[0m\u001b[0;36m1\u001b[0m\u001b[0;34m,\u001b[0m \u001b[0;36m11\u001b[0m\u001b[0;34m,\u001b[0m \u001b[0;36m2019\u001b[0m\u001b[0;34m)\u001b[0m\u001b[0;34m\u001b[0m\u001b[0;34m\u001b[0m\u001b[0m\n\u001b[0;32m----> 3\u001b[0;31m \u001b[0mset_expected_rate\u001b[0m\u001b[0;34m(\u001b[0m\u001b[0mval_date\u001b[0m\u001b[0;34m,\u001b[0m \u001b[0mois\u001b[0m\u001b[0;34m,\u001b[0m \u001b[0mfixings\u001b[0m\u001b[0;34m,\u001b[0m \u001b[0mzcc\u001b[0m\u001b[0;34m)\u001b[0m\u001b[0;34m\u001b[0m\u001b[0;34m\u001b[0m\u001b[0m\n\u001b[0m\u001b[1;32m      4\u001b[0m \u001b[0mpv\u001b[0m \u001b[0;34m=\u001b[0m \u001b[0mpresent_value\u001b[0m\u001b[0;34m(\u001b[0m\u001b[0mval_date\u001b[0m\u001b[0;34m,\u001b[0m \u001b[0mois\u001b[0m\u001b[0;34m,\u001b[0m \u001b[0mzcc\u001b[0m\u001b[0;34m)\u001b[0m\u001b[0;34m\u001b[0m\u001b[0;34m\u001b[0m\u001b[0m\n\u001b[1;32m      5\u001b[0m \u001b[0mprint\u001b[0m\u001b[0;34m(\u001b[0m\u001b[0;34mf'Valor presente es: {pv:,.4f}'\u001b[0m\u001b[0;34m)\u001b[0m\u001b[0;34m\u001b[0m\u001b[0;34m\u001b[0m\u001b[0m\n",
      "\u001b[0;32m<ipython-input-20-44ccbb2287a4>\u001b[0m in \u001b[0;36mset_expected_rate\u001b[0;34m(val_date, ois_cashflow, zcc, fixings)\u001b[0m\n\u001b[1;32m      9\u001b[0m     \u001b[0mop\u001b[0m \u001b[0;34m=\u001b[0m \u001b[0mget\u001b[0m\u001b[0;34m(\u001b[0m\u001b[0mrp\u001b[0m\u001b[0;34m=\u001b[0m\u001b[0mQcf\u001b[0m\u001b[0;34m.\u001b[0m\u001b[0mRecPay\u001b[0m\u001b[0;34m.\u001b[0m\u001b[0mRECEIVE\u001b[0m\u001b[0;34m,\u001b[0m\u001b[0mnotional\u001b[0m\u001b[0;34m=\u001b[0m\u001b[0;36m10000000\u001b[0m\u001b[0;34m,\u001b[0m\u001b[0mstart_date\u001b[0m\u001b[0;34m=\u001b[0m\u001b[0mQcf\u001b[0m\u001b[0;34m.\u001b[0m\u001b[0mQCDate\u001b[0m\u001b[0;34m(\u001b[0m\u001b[0;36m1\u001b[0m\u001b[0;34m,\u001b[0m \u001b[0;36m6\u001b[0m\u001b[0;34m,\u001b[0m \u001b[0;36m2019\u001b[0m\u001b[0;34m)\u001b[0m\u001b[0;34m,\u001b[0m\u001b[0mtenor\u001b[0m\u001b[0;34m=\u001b[0m\u001b[0mQcf\u001b[0m\u001b[0;34m.\u001b[0m\u001b[0mTenor\u001b[0m\u001b[0;34m(\u001b[0m\u001b[0;34m'2Y'\u001b[0m\u001b[0;34m)\u001b[0m\u001b[0;34m,\u001b[0m\u001b[0mfixed_rate_value\u001b[0m\u001b[0;34m=\u001b[0m\u001b[0;36m.01\u001b[0m\u001b[0;34m,\u001b[0m\u001b[0mspread\u001b[0m\u001b[0;34m=\u001b[0m\u001b[0;36m0\u001b[0m\u001b[0;34m,\u001b[0m\u001b[0mgearing\u001b[0m\u001b[0;34m=\u001b[0m\u001b[0;36m1\u001b[0m\u001b[0;34m)\u001b[0m\u001b[0;34m\u001b[0m\u001b[0;34m\u001b[0m\u001b[0m\n\u001b[1;32m     10\u001b[0m     \u001b[0mi\u001b[0m\u001b[0;34m=\u001b[0m\u001b[0;36m0\u001b[0m\u001b[0;34m\u001b[0m\u001b[0;34m\u001b[0m\u001b[0m\n\u001b[0;32m---> 11\u001b[0;31m     \u001b[0;32mwhile\u001b[0m \u001b[0mi\u001b[0m\u001b[0;34m<\u001b[0m \u001b[0mlen\u001b[0m\u001b[0;34m(\u001b[0m\u001b[0mfixings\u001b[0m\u001b[0;34m)\u001b[0m\u001b[0;34m:\u001b[0m\u001b[0;34m\u001b[0m\u001b[0;34m\u001b[0m\u001b[0m\n\u001b[0m\u001b[1;32m     12\u001b[0m         \u001b[0moperaciones\u001b[0m \u001b[0;34m=\u001b[0m \u001b[0mfwd\u001b[0m\u001b[0;34m.\u001b[0m\u001b[0mset_rates_icp_clp_leg\u001b[0m\u001b[0;34m(\u001b[0m\u001b[0mval_date\u001b[0m\u001b[0;34m,\u001b[0m \u001b[0mfixings\u001b[0m\u001b[0;34m[\u001b[0m\u001b[0mi\u001b[0m\u001b[0;34m]\u001b[0m\u001b[0;34m,\u001b[0m \u001b[0mop\u001b[0m\u001b[0;34m[\u001b[0m\u001b[0;36m1\u001b[0m\u001b[0;34m]\u001b[0m\u001b[0;34m,\u001b[0m \u001b[0mzcc\u001b[0m\u001b[0;34m)\u001b[0m\u001b[0;34m\u001b[0m\u001b[0;34m\u001b[0m\u001b[0m\n\u001b[1;32m     13\u001b[0m         \u001b[0mi\u001b[0m\u001b[0;34m=\u001b[0m\u001b[0mi\u001b[0m\u001b[0;34m+\u001b[0m\u001b[0;36m1\u001b[0m\u001b[0;34m\u001b[0m\u001b[0;34m\u001b[0m\u001b[0m\n",
      "\u001b[0;31mTypeError\u001b[0m: object of type 'ZeroCouponCurve' has no len()"
     ]
    }
   ],
   "source": [
    "# Check segundo caso\n",
    "val_date = Qcf.QCDate(1, 11, 2019)\n",
    "set_expected_rate(val_date, ois, fixings, zcc)\n",
    "pv = present_value(val_date, ois, zcc)\n",
    "print(f'Valor presente es: {pv:,.4f}')\n",
    "amount = ois.amount()\n",
    "print(f'Amount: {amount:,.4f}')\n",
    "amount = ois.amount()\n",
    "plazo = val_date.day_diff(ois.settlement_date)\n",
    "df = zcc.get_discount_factor_at(plazo)\n",
    "print(f'Df: {df:.6%}')\n",
    "vp_check = df * amount\n",
    "print(f'VP check es: {vp_check:,.4f}')\n",
    "\n",
    "suma_exito(pv, vp_check, 'monto')"
   ]
  },
  {
   "cell_type": "code",
   "execution_count": 69,
   "metadata": {
    "ExecuteTime": {
     "end_time": "2020-12-07T11:22:08.702244Z",
     "start_time": "2020-12-07T11:22:08.637349Z"
    }
   },
   "outputs": [
    {
     "ename": "TypeError",
     "evalue": "object of type 'ZeroCouponCurve' has no len()",
     "output_type": "error",
     "traceback": [
      "\u001b[0;31m---------------------------------------------------------------------------\u001b[0m",
      "\u001b[0;31mTypeError\u001b[0m                                 Traceback (most recent call last)",
      "\u001b[0;32m<ipython-input-69-b30b1a6a077b>\u001b[0m in \u001b[0;36m<module>\u001b[0;34m\u001b[0m\n\u001b[1;32m      1\u001b[0m \u001b[0;31m# Check tercer caso borde\u001b[0m\u001b[0;34m\u001b[0m\u001b[0;34m\u001b[0m\u001b[0;34m\u001b[0m\u001b[0m\n\u001b[1;32m      2\u001b[0m \u001b[0mval_date\u001b[0m \u001b[0;34m=\u001b[0m \u001b[0mQcf\u001b[0m\u001b[0;34m.\u001b[0m\u001b[0mQCDate\u001b[0m\u001b[0;34m(\u001b[0m\u001b[0;36m1\u001b[0m\u001b[0;34m,\u001b[0m \u001b[0;36m10\u001b[0m\u001b[0;34m,\u001b[0m \u001b[0;36m2020\u001b[0m\u001b[0;34m)\u001b[0m\u001b[0;34m\u001b[0m\u001b[0;34m\u001b[0m\u001b[0m\n\u001b[0;32m----> 3\u001b[0;31m \u001b[0mset_expected_rate\u001b[0m\u001b[0;34m(\u001b[0m\u001b[0mval_date\u001b[0m\u001b[0;34m,\u001b[0m \u001b[0mois\u001b[0m\u001b[0;34m,\u001b[0m \u001b[0mfixings\u001b[0m\u001b[0;34m,\u001b[0m \u001b[0mzcc\u001b[0m\u001b[0;34m)\u001b[0m\u001b[0;34m\u001b[0m\u001b[0;34m\u001b[0m\u001b[0m\n\u001b[0m\u001b[1;32m      4\u001b[0m \u001b[0mpv\u001b[0m \u001b[0;34m=\u001b[0m \u001b[0mpresent_value\u001b[0m\u001b[0;34m(\u001b[0m\u001b[0mval_date\u001b[0m\u001b[0;34m,\u001b[0m \u001b[0mois\u001b[0m\u001b[0;34m,\u001b[0m \u001b[0mzcc\u001b[0m\u001b[0;34m)\u001b[0m\u001b[0;34m\u001b[0m\u001b[0;34m\u001b[0m\u001b[0m\n\u001b[1;32m      5\u001b[0m \u001b[0mprint\u001b[0m\u001b[0;34m(\u001b[0m\u001b[0;34mf'Valor presente es: {pv:,.4f}'\u001b[0m\u001b[0;34m)\u001b[0m\u001b[0;34m\u001b[0m\u001b[0;34m\u001b[0m\u001b[0m\n",
      "\u001b[0;32m<ipython-input-20-44ccbb2287a4>\u001b[0m in \u001b[0;36mset_expected_rate\u001b[0;34m(val_date, ois_cashflow, zcc, fixings)\u001b[0m\n\u001b[1;32m      9\u001b[0m     \u001b[0mop\u001b[0m \u001b[0;34m=\u001b[0m \u001b[0mget\u001b[0m\u001b[0;34m(\u001b[0m\u001b[0mrp\u001b[0m\u001b[0;34m=\u001b[0m\u001b[0mQcf\u001b[0m\u001b[0;34m.\u001b[0m\u001b[0mRecPay\u001b[0m\u001b[0;34m.\u001b[0m\u001b[0mRECEIVE\u001b[0m\u001b[0;34m,\u001b[0m\u001b[0mnotional\u001b[0m\u001b[0;34m=\u001b[0m\u001b[0;36m10000000\u001b[0m\u001b[0;34m,\u001b[0m\u001b[0mstart_date\u001b[0m\u001b[0;34m=\u001b[0m\u001b[0mQcf\u001b[0m\u001b[0;34m.\u001b[0m\u001b[0mQCDate\u001b[0m\u001b[0;34m(\u001b[0m\u001b[0;36m1\u001b[0m\u001b[0;34m,\u001b[0m \u001b[0;36m6\u001b[0m\u001b[0;34m,\u001b[0m \u001b[0;36m2019\u001b[0m\u001b[0;34m)\u001b[0m\u001b[0;34m,\u001b[0m\u001b[0mtenor\u001b[0m\u001b[0;34m=\u001b[0m\u001b[0mQcf\u001b[0m\u001b[0;34m.\u001b[0m\u001b[0mTenor\u001b[0m\u001b[0;34m(\u001b[0m\u001b[0;34m'2Y'\u001b[0m\u001b[0;34m)\u001b[0m\u001b[0;34m,\u001b[0m\u001b[0mfixed_rate_value\u001b[0m\u001b[0;34m=\u001b[0m\u001b[0;36m.01\u001b[0m\u001b[0;34m,\u001b[0m\u001b[0mspread\u001b[0m\u001b[0;34m=\u001b[0m\u001b[0;36m0\u001b[0m\u001b[0;34m,\u001b[0m\u001b[0mgearing\u001b[0m\u001b[0;34m=\u001b[0m\u001b[0;36m1\u001b[0m\u001b[0;34m)\u001b[0m\u001b[0;34m\u001b[0m\u001b[0;34m\u001b[0m\u001b[0m\n\u001b[1;32m     10\u001b[0m     \u001b[0mi\u001b[0m\u001b[0;34m=\u001b[0m\u001b[0;36m0\u001b[0m\u001b[0;34m\u001b[0m\u001b[0;34m\u001b[0m\u001b[0m\n\u001b[0;32m---> 11\u001b[0;31m     \u001b[0;32mwhile\u001b[0m \u001b[0mi\u001b[0m\u001b[0;34m<\u001b[0m \u001b[0mlen\u001b[0m\u001b[0;34m(\u001b[0m\u001b[0mfixings\u001b[0m\u001b[0;34m)\u001b[0m\u001b[0;34m:\u001b[0m\u001b[0;34m\u001b[0m\u001b[0;34m\u001b[0m\u001b[0m\n\u001b[0m\u001b[1;32m     12\u001b[0m         \u001b[0moperaciones\u001b[0m \u001b[0;34m=\u001b[0m \u001b[0mfwd\u001b[0m\u001b[0;34m.\u001b[0m\u001b[0mset_rates_icp_clp_leg\u001b[0m\u001b[0;34m(\u001b[0m\u001b[0mval_date\u001b[0m\u001b[0;34m,\u001b[0m \u001b[0mfixings\u001b[0m\u001b[0;34m[\u001b[0m\u001b[0mi\u001b[0m\u001b[0;34m]\u001b[0m\u001b[0;34m,\u001b[0m \u001b[0mop\u001b[0m\u001b[0;34m[\u001b[0m\u001b[0;36m1\u001b[0m\u001b[0;34m]\u001b[0m\u001b[0;34m,\u001b[0m \u001b[0mzcc\u001b[0m\u001b[0;34m)\u001b[0m\u001b[0;34m\u001b[0m\u001b[0;34m\u001b[0m\u001b[0m\n\u001b[1;32m     13\u001b[0m         \u001b[0mi\u001b[0m\u001b[0;34m=\u001b[0m\u001b[0mi\u001b[0m\u001b[0;34m+\u001b[0m\u001b[0;36m1\u001b[0m\u001b[0;34m\u001b[0m\u001b[0;34m\u001b[0m\u001b[0m\n",
      "\u001b[0;31mTypeError\u001b[0m: object of type 'ZeroCouponCurve' has no len()"
     ]
    }
   ],
   "source": [
    "# Check tercer caso borde\n",
    "val_date = Qcf.QCDate(1, 10, 2020)\n",
    "set_expected_rate(val_date, ois, fixings, zcc)\n",
    "pv = present_value(val_date, ois, zcc)\n",
    "print(f'Valor presente es: {pv:,.4f}')\n",
    "amount = ois.amount()\n",
    "print(f'Amount: {amount:,.4f}')\n",
    "amount = ois.amount()\n",
    "plazo = val_date.day_diff(ois.settlement_date)\n",
    "if plazo <= 0:\n",
    "    df = 0.0\n",
    "else:\n",
    "    df = zcc.get_discount_factor_at(plazo)\n",
    "print(f'Df: {df:.6%}')\n",
    "vp_check = df * amount\n",
    "print(f'VP check es: {vp_check:,.4f}')\n",
    "\n",
    "suma_exito(pv, vp_check, 'monto')"
   ]
  },
  {
   "cell_type": "code",
   "execution_count": 70,
   "metadata": {
    "ExecuteTime": {
     "end_time": "2020-12-07T11:22:10.722526Z",
     "start_time": "2020-12-07T11:22:10.663254Z"
    }
   },
   "outputs": [
    {
     "ename": "TypeError",
     "evalue": "object of type 'ZeroCouponCurve' has no len()",
     "output_type": "error",
     "traceback": [
      "\u001b[0;31m---------------------------------------------------------------------------\u001b[0m",
      "\u001b[0;31mTypeError\u001b[0m                                 Traceback (most recent call last)",
      "\u001b[0;32m<ipython-input-70-b7cc61ac2171>\u001b[0m in \u001b[0;36m<module>\u001b[0;34m\u001b[0m\n\u001b[1;32m      1\u001b[0m \u001b[0;31m# Check tercer caso\u001b[0m\u001b[0;34m\u001b[0m\u001b[0;34m\u001b[0m\u001b[0;34m\u001b[0m\u001b[0m\n\u001b[1;32m      2\u001b[0m \u001b[0mval_date\u001b[0m \u001b[0;34m=\u001b[0m \u001b[0mQcf\u001b[0m\u001b[0;34m.\u001b[0m\u001b[0mQCDate\u001b[0m\u001b[0;34m(\u001b[0m\u001b[0;36m15\u001b[0m\u001b[0;34m,\u001b[0m \u001b[0;36m10\u001b[0m\u001b[0;34m,\u001b[0m \u001b[0;36m2020\u001b[0m\u001b[0;34m)\u001b[0m\u001b[0;34m\u001b[0m\u001b[0;34m\u001b[0m\u001b[0m\n\u001b[0;32m----> 3\u001b[0;31m \u001b[0mset_expected_rate\u001b[0m\u001b[0;34m(\u001b[0m\u001b[0mval_date\u001b[0m\u001b[0;34m,\u001b[0m \u001b[0mois\u001b[0m\u001b[0;34m,\u001b[0m \u001b[0mfixings\u001b[0m\u001b[0;34m,\u001b[0m \u001b[0mzcc\u001b[0m\u001b[0;34m)\u001b[0m\u001b[0;34m\u001b[0m\u001b[0;34m\u001b[0m\u001b[0m\n\u001b[0m\u001b[1;32m      4\u001b[0m \u001b[0mpv\u001b[0m \u001b[0;34m=\u001b[0m \u001b[0mpresent_value\u001b[0m\u001b[0;34m(\u001b[0m\u001b[0mval_date\u001b[0m\u001b[0;34m,\u001b[0m \u001b[0mois\u001b[0m\u001b[0;34m,\u001b[0m \u001b[0mzcc\u001b[0m\u001b[0;34m)\u001b[0m\u001b[0;34m\u001b[0m\u001b[0;34m\u001b[0m\u001b[0m\n\u001b[1;32m      5\u001b[0m \u001b[0mprint\u001b[0m\u001b[0;34m(\u001b[0m\u001b[0;34mf'Valor presente es: {pv:,.4f}'\u001b[0m\u001b[0;34m)\u001b[0m\u001b[0;34m\u001b[0m\u001b[0;34m\u001b[0m\u001b[0m\n",
      "\u001b[0;32m<ipython-input-20-44ccbb2287a4>\u001b[0m in \u001b[0;36mset_expected_rate\u001b[0;34m(val_date, ois_cashflow, zcc, fixings)\u001b[0m\n\u001b[1;32m      9\u001b[0m     \u001b[0mop\u001b[0m \u001b[0;34m=\u001b[0m \u001b[0mget\u001b[0m\u001b[0;34m(\u001b[0m\u001b[0mrp\u001b[0m\u001b[0;34m=\u001b[0m\u001b[0mQcf\u001b[0m\u001b[0;34m.\u001b[0m\u001b[0mRecPay\u001b[0m\u001b[0;34m.\u001b[0m\u001b[0mRECEIVE\u001b[0m\u001b[0;34m,\u001b[0m\u001b[0mnotional\u001b[0m\u001b[0;34m=\u001b[0m\u001b[0;36m10000000\u001b[0m\u001b[0;34m,\u001b[0m\u001b[0mstart_date\u001b[0m\u001b[0;34m=\u001b[0m\u001b[0mQcf\u001b[0m\u001b[0;34m.\u001b[0m\u001b[0mQCDate\u001b[0m\u001b[0;34m(\u001b[0m\u001b[0;36m1\u001b[0m\u001b[0;34m,\u001b[0m \u001b[0;36m6\u001b[0m\u001b[0;34m,\u001b[0m \u001b[0;36m2019\u001b[0m\u001b[0;34m)\u001b[0m\u001b[0;34m,\u001b[0m\u001b[0mtenor\u001b[0m\u001b[0;34m=\u001b[0m\u001b[0mQcf\u001b[0m\u001b[0;34m.\u001b[0m\u001b[0mTenor\u001b[0m\u001b[0;34m(\u001b[0m\u001b[0;34m'2Y'\u001b[0m\u001b[0;34m)\u001b[0m\u001b[0;34m,\u001b[0m\u001b[0mfixed_rate_value\u001b[0m\u001b[0;34m=\u001b[0m\u001b[0;36m.01\u001b[0m\u001b[0;34m,\u001b[0m\u001b[0mspread\u001b[0m\u001b[0;34m=\u001b[0m\u001b[0;36m0\u001b[0m\u001b[0;34m,\u001b[0m\u001b[0mgearing\u001b[0m\u001b[0;34m=\u001b[0m\u001b[0;36m1\u001b[0m\u001b[0;34m)\u001b[0m\u001b[0;34m\u001b[0m\u001b[0;34m\u001b[0m\u001b[0m\n\u001b[1;32m     10\u001b[0m     \u001b[0mi\u001b[0m\u001b[0;34m=\u001b[0m\u001b[0;36m0\u001b[0m\u001b[0;34m\u001b[0m\u001b[0;34m\u001b[0m\u001b[0m\n\u001b[0;32m---> 11\u001b[0;31m     \u001b[0;32mwhile\u001b[0m \u001b[0mi\u001b[0m\u001b[0;34m<\u001b[0m \u001b[0mlen\u001b[0m\u001b[0;34m(\u001b[0m\u001b[0mfixings\u001b[0m\u001b[0;34m)\u001b[0m\u001b[0;34m:\u001b[0m\u001b[0;34m\u001b[0m\u001b[0;34m\u001b[0m\u001b[0m\n\u001b[0m\u001b[1;32m     12\u001b[0m         \u001b[0moperaciones\u001b[0m \u001b[0;34m=\u001b[0m \u001b[0mfwd\u001b[0m\u001b[0;34m.\u001b[0m\u001b[0mset_rates_icp_clp_leg\u001b[0m\u001b[0;34m(\u001b[0m\u001b[0mval_date\u001b[0m\u001b[0;34m,\u001b[0m \u001b[0mfixings\u001b[0m\u001b[0;34m[\u001b[0m\u001b[0mi\u001b[0m\u001b[0;34m]\u001b[0m\u001b[0;34m,\u001b[0m \u001b[0mop\u001b[0m\u001b[0;34m[\u001b[0m\u001b[0;36m1\u001b[0m\u001b[0;34m]\u001b[0m\u001b[0;34m,\u001b[0m \u001b[0mzcc\u001b[0m\u001b[0;34m)\u001b[0m\u001b[0;34m\u001b[0m\u001b[0;34m\u001b[0m\u001b[0m\n\u001b[1;32m     13\u001b[0m         \u001b[0mi\u001b[0m\u001b[0;34m=\u001b[0m\u001b[0mi\u001b[0m\u001b[0;34m+\u001b[0m\u001b[0;36m1\u001b[0m\u001b[0;34m\u001b[0m\u001b[0;34m\u001b[0m\u001b[0m\n",
      "\u001b[0;31mTypeError\u001b[0m: object of type 'ZeroCouponCurve' has no len()"
     ]
    }
   ],
   "source": [
    "# Check tercer caso\n",
    "val_date = Qcf.QCDate(15, 10, 2020)\n",
    "set_expected_rate(val_date, ois, fixings, zcc)\n",
    "pv = present_value(val_date, ois, zcc)\n",
    "print(f'Valor presente es: {pv:,.4f}')\n",
    "amount = ois.amount()\n",
    "print(f'Amount: {amount:,.4f}')\n",
    "amount = ois.amount()\n",
    "plazo = val_date.day_diff(ois.settlement_date)\n",
    "if plazo <= 0:\n",
    "    df = 0.0\n",
    "else:\n",
    "    df = zcc.get_discount_factor_at(plazo)\n",
    "print(f'Df: {df:.6%}')\n",
    "vp_check = df * amount\n",
    "print(f'VP check es: {vp_check:,.4f}')\n",
    "\n",
    "suma_exito(pv, vp_check, 'monto')"
   ]
  },
  {
   "cell_type": "code",
   "execution_count": 71,
   "metadata": {
    "ExecuteTime": {
     "end_time": "2020-12-07T11:22:13.327930Z",
     "start_time": "2020-12-07T11:22:13.323671Z"
    }
   },
   "outputs": [
    {
     "name": "stdout",
     "output_type": "stream",
     "text": [
      "Éxitos totales: 1.5\n"
     ]
    }
   ],
   "source": [
    "print(f'Éxitos totales: {exitos}')"
   ]
  }
 ],
 "metadata": {
  "hide_input": false,
  "kernelspec": {
   "display_name": "Python 3",
   "language": "python",
   "name": "python3"
  },
  "language_info": {
   "codemirror_mode": {
    "name": "ipython",
    "version": 3
   },
   "file_extension": ".py",
   "mimetype": "text/x-python",
   "name": "python",
   "nbconvert_exporter": "python",
   "pygments_lexer": "ipython3",
   "version": "3.7.3"
  },
  "latex_envs": {
   "LaTeX_envs_menu_present": true,
   "autoclose": true,
   "autocomplete": true,
   "bibliofile": "biblio.bib",
   "cite_by": "apalike",
   "current_citInitial": 1,
   "eqLabelWithNumbers": true,
   "eqNumInitial": 1,
   "hotkeys": {
    "equation": "Ctrl-E",
    "itemize": "Ctrl-I"
   },
   "labels_anchors": false,
   "latex_user_defs": false,
   "report_style_numbering": false,
   "user_envs_cfg": false
  },
  "toc": {
   "base_numbering": "8",
   "nav_menu": {},
   "number_sections": true,
   "sideBar": true,
   "skip_h1_title": false,
   "title_cell": "Table of Contents",
   "title_sidebar": "Contenido",
   "toc_cell": false,
   "toc_position": {
    "height": "calc(100% - 180px)",
    "left": "10px",
    "top": "150px",
    "width": "187.59375px"
   },
   "toc_section_display": true,
   "toc_window_display": true
  }
 },
 "nbformat": 4,
 "nbformat_minor": 4
}
