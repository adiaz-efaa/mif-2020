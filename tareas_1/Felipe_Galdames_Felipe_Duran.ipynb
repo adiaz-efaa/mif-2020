{
 "cells": [
  {
   "cell_type": "markdown",
   "metadata": {},
   "source": [
    "##### Tarea 1"
   ]
  },
  {
   "cell_type": "markdown",
   "metadata": {},
   "source": [
    "Implementar la clase `OisCashflow`."
   ]
  },
  {
   "cell_type": "markdown",
   "metadata": {},
   "source": [
    "## Configuración Inicial"
   ]
  },
  {
   "cell_type": "code",
   "execution_count": 1,
   "metadata": {
    "ExecuteTime": {
     "end_time": "2020-12-01T23:28:12.368567Z",
     "start_time": "2020-12-01T23:28:11.818219Z"
    }
   },
   "outputs": [],
   "source": [
    "from finrisk import QC_Financial_3 as Qcf\n",
    "from dataclasses import dataclass\n",
    "from enum import Enum\n",
    "import pandas as pd\n",
    "import numpy as np\n",
    "import inspect\n",
    "import os\n",
    "import decimal"
   ]
  },
  {
   "cell_type": "markdown",
   "metadata": {
    "ExecuteTime": {
     "end_time": "2020-11-06T04:45:09.000826Z",
     "start_time": "2020-11-06T04:45:08.996312Z"
    }
   },
   "source": [
    "Cambiamos el path a data."
   ]
  },
  {
   "cell_type": "code",
   "execution_count": 2,
   "metadata": {
    "ExecuteTime": {
     "end_time": "2020-12-01T23:28:14.142672Z",
     "start_time": "2020-12-01T23:28:13.933387Z"
    }
   },
   "outputs": [
    {
     "ename": "PermissionError",
     "evalue": "[Errno 13] Permission denied: '/home/jupyter-felduran@alumnos.u-3a791/mif-2020'",
     "output_type": "error",
     "traceback": [
      "\u001b[0;31m---------------------------------------------------------------------------\u001b[0m",
      "\u001b[0;31mPermissionError\u001b[0m                           Traceback (most recent call last)",
      "\u001b[0;32m<ipython-input-2-f9db4b97a4dc>\u001b[0m in \u001b[0;36m<module>\u001b[0;34m\u001b[0m\n\u001b[1;32m      1\u001b[0m \u001b[0mowd\u001b[0m\u001b[0;34m=\u001b[0m\u001b[0;34m'/home/jupyter-felduran@alumnos.u-3a791/mif-2020'\u001b[0m\u001b[0;34m\u001b[0m\u001b[0;34m\u001b[0m\u001b[0m\n\u001b[1;32m      2\u001b[0m \u001b[0;31m#owd='/home/jupyter-fgaldames@alumnos.-18bbe/mif-2020'\u001b[0m\u001b[0;34m\u001b[0m\u001b[0;34m\u001b[0m\u001b[0;34m\u001b[0m\u001b[0m\n\u001b[0;32m----> 3\u001b[0;31m \u001b[0mos\u001b[0m\u001b[0;34m.\u001b[0m\u001b[0mchdir\u001b[0m\u001b[0;34m(\u001b[0m\u001b[0mowd\u001b[0m\u001b[0;34m)\u001b[0m\u001b[0;34m\u001b[0m\u001b[0;34m\u001b[0m\u001b[0m\n\u001b[0m\u001b[1;32m      4\u001b[0m \u001b[0mcwd\u001b[0m \u001b[0;34m=\u001b[0m \u001b[0mos\u001b[0m\u001b[0;34m.\u001b[0m\u001b[0mgetcwd\u001b[0m\u001b[0;34m(\u001b[0m\u001b[0;34m)\u001b[0m\u001b[0;34m\u001b[0m\u001b[0;34m\u001b[0m\u001b[0m\n\u001b[1;32m      5\u001b[0m \u001b[0mcwd\u001b[0m\u001b[0;34m\u001b[0m\u001b[0;34m\u001b[0m\u001b[0m\n",
      "\u001b[0;31mPermissionError\u001b[0m: [Errno 13] Permission denied: '/home/jupyter-felduran@alumnos.u-3a791/mif-2020'"
     ]
    }
   ],
   "source": [
    "owd='/home/jupyter-felduran@alumnos.u-3a791/mif-2020'\n",
    "#owd='/home/jupyter-fgaldames@alumnos.-18bbe/mif-2020'\n",
    "os.chdir(owd)\n",
    "cwd = os.getcwd()\n",
    "cwd"
   ]
  },
  {
   "cell_type": "code",
   "execution_count": 3,
   "metadata": {
    "ExecuteTime": {
     "end_time": "2020-11-08T15:21:32.989421Z",
     "start_time": "2020-11-08T15:21:32.985121Z"
    }
   },
   "outputs": [],
   "source": [
    "relpath=cwd+'/data'\n",
    "os.chdir(relpath)"
   ]
  },
  {
   "cell_type": "code",
   "execution_count": 4,
   "metadata": {
    "ExecuteTime": {
     "end_time": "2020-11-08T15:21:34.789941Z",
     "start_time": "2020-11-08T15:21:34.782064Z"
    }
   },
   "outputs": [
    {
     "data": {
      "text/plain": [
       "'/home/jupyter-felduran@alumnos.u-3a791/mif-2020/data'"
      ]
     },
     "execution_count": 4,
     "metadata": {},
     "output_type": "execute_result"
    }
   ],
   "source": [
    "cwd = os.getcwd()\n",
    "cwd"
   ]
  },
  {
   "cell_type": "markdown",
   "metadata": {},
   "source": [
    "Hemos logrado cambiar el path de working directory."
   ]
  },
  {
   "cell_type": "markdown",
   "metadata": {},
   "source": [
    "Se cargan los datos para la tarea."
   ]
  },
  {
   "cell_type": "code",
   "execution_count": 3,
   "metadata": {
    "ExecuteTime": {
     "end_time": "2020-12-01T23:28:45.435948Z",
     "start_time": "2020-12-01T23:28:45.431290Z"
    }
   },
   "outputs": [],
   "source": [
    "pv = Qcf.PresentValue()"
   ]
  },
  {
   "cell_type": "code",
   "execution_count": 4,
   "metadata": {
    "ExecuteTime": {
     "end_time": "2020-12-01T23:29:03.480824Z",
     "start_time": "2020-12-01T23:29:03.393325Z"
    }
   },
   "outputs": [
    {
     "data": {
      "text/html": [
       "<div>\n",
       "<style scoped>\n",
       "    .dataframe tbody tr th:only-of-type {\n",
       "        vertical-align: middle;\n",
       "    }\n",
       "\n",
       "    .dataframe tbody tr th {\n",
       "        vertical-align: top;\n",
       "    }\n",
       "\n",
       "    .dataframe thead th {\n",
       "        text-align: right;\n",
       "    }\n",
       "</style>\n",
       "<table border=\"1\" class=\"dataframe\">\n",
       "  <thead>\n",
       "    <tr style=\"text-align: right;\">\n",
       "      <th></th>\n",
       "      <th>DATE</th>\n",
       "      <th>TASA</th>\n",
       "    </tr>\n",
       "  </thead>\n",
       "  <tbody>\n",
       "    <tr>\n",
       "      <th>0</th>\n",
       "      <td>2019-10-01</td>\n",
       "      <td>0.0188</td>\n",
       "    </tr>\n",
       "    <tr>\n",
       "      <th>1</th>\n",
       "      <td>2019-10-02</td>\n",
       "      <td>0.0185</td>\n",
       "    </tr>\n",
       "    <tr>\n",
       "      <th>2</th>\n",
       "      <td>2019-10-03</td>\n",
       "      <td>0.0184</td>\n",
       "    </tr>\n",
       "    <tr>\n",
       "      <th>3</th>\n",
       "      <td>2019-10-04</td>\n",
       "      <td>0.0182</td>\n",
       "    </tr>\n",
       "    <tr>\n",
       "      <th>4</th>\n",
       "      <td>2019-10-07</td>\n",
       "      <td>0.0183</td>\n",
       "    </tr>\n",
       "    <tr>\n",
       "      <th>...</th>\n",
       "      <td>...</td>\n",
       "      <td>...</td>\n",
       "    </tr>\n",
       "    <tr>\n",
       "      <th>265</th>\n",
       "      <td>2020-10-22</td>\n",
       "      <td>0.0007</td>\n",
       "    </tr>\n",
       "    <tr>\n",
       "      <th>266</th>\n",
       "      <td>2020-10-23</td>\n",
       "      <td>0.0008</td>\n",
       "    </tr>\n",
       "    <tr>\n",
       "      <th>267</th>\n",
       "      <td>2020-10-26</td>\n",
       "      <td>0.0009</td>\n",
       "    </tr>\n",
       "    <tr>\n",
       "      <th>268</th>\n",
       "      <td>2020-10-27</td>\n",
       "      <td>0.0009</td>\n",
       "    </tr>\n",
       "    <tr>\n",
       "      <th>269</th>\n",
       "      <td>2020-10-28</td>\n",
       "      <td>0.0008</td>\n",
       "    </tr>\n",
       "  </tbody>\n",
       "</table>\n",
       "<p>270 rows × 2 columns</p>\n",
       "</div>"
      ],
      "text/plain": [
       "           DATE    TASA\n",
       "0    2019-10-01  0.0188\n",
       "1    2019-10-02  0.0185\n",
       "2    2019-10-03  0.0184\n",
       "3    2019-10-04  0.0182\n",
       "4    2019-10-07  0.0183\n",
       "..          ...     ...\n",
       "265  2020-10-22  0.0007\n",
       "266  2020-10-23  0.0008\n",
       "267  2020-10-26  0.0009\n",
       "268  2020-10-27  0.0009\n",
       "269  2020-10-28  0.0008\n",
       "\n",
       "[270 rows x 2 columns]"
      ]
     },
     "execution_count": 4,
     "metadata": {},
     "output_type": "execute_result"
    }
   ],
   "source": [
    "swaps = pd.read_excel('../data/SOFR-10012019-10292020.xls', sheet_name='nice format')\n",
    "\n",
    "swaps=swaps[::-1].reset_index()\n",
    "swaps = swaps.rename(columns={' BENCHMARK NAME ':'a', 'RATE\\n(PERCENT)':'TASA'})\n",
    "swaps.TASA = swaps.TASA / 100\n",
    "auxiliar = swaps.drop(['index','a'], axis=1)\n",
    "swaps = swaps.drop(['index','a'], axis=1)\n",
    "swaps"
   ]
  },
  {
   "cell_type": "code",
   "execution_count": 5,
   "metadata": {
    "ExecuteTime": {
     "end_time": "2020-12-01T23:29:16.587343Z",
     "start_time": "2020-12-01T23:29:16.569049Z"
    }
   },
   "outputs": [
    {
     "data": {
      "text/html": [
       "<div>\n",
       "<style scoped>\n",
       "    .dataframe tbody tr th:only-of-type {\n",
       "        vertical-align: middle;\n",
       "    }\n",
       "\n",
       "    .dataframe tbody tr th {\n",
       "        vertical-align: top;\n",
       "    }\n",
       "\n",
       "    .dataframe thead th {\n",
       "        text-align: right;\n",
       "    }\n",
       "</style>\n",
       "<table border=\"1\" class=\"dataframe\">\n",
       "  <thead>\n",
       "    <tr style=\"text-align: right;\">\n",
       "      <th></th>\n",
       "      <th>DATE</th>\n",
       "      <th>TASA</th>\n",
       "    </tr>\n",
       "  </thead>\n",
       "  <tbody>\n",
       "    <tr>\n",
       "      <th>0</th>\n",
       "      <td>2019-10-01</td>\n",
       "      <td>0.0188</td>\n",
       "    </tr>\n",
       "    <tr>\n",
       "      <th>1</th>\n",
       "      <td>2019-10-02</td>\n",
       "      <td>0.0185</td>\n",
       "    </tr>\n",
       "    <tr>\n",
       "      <th>2</th>\n",
       "      <td>2019-10-03</td>\n",
       "      <td>0.0184</td>\n",
       "    </tr>\n",
       "    <tr>\n",
       "      <th>3</th>\n",
       "      <td>2019-10-04</td>\n",
       "      <td>0.0182</td>\n",
       "    </tr>\n",
       "    <tr>\n",
       "      <th>4</th>\n",
       "      <td>2019-10-07</td>\n",
       "      <td>0.0183</td>\n",
       "    </tr>\n",
       "    <tr>\n",
       "      <th>...</th>\n",
       "      <td>...</td>\n",
       "      <td>...</td>\n",
       "    </tr>\n",
       "    <tr>\n",
       "      <th>265</th>\n",
       "      <td>2020-10-22</td>\n",
       "      <td>0.0007</td>\n",
       "    </tr>\n",
       "    <tr>\n",
       "      <th>266</th>\n",
       "      <td>2020-10-23</td>\n",
       "      <td>0.0008</td>\n",
       "    </tr>\n",
       "    <tr>\n",
       "      <th>267</th>\n",
       "      <td>2020-10-26</td>\n",
       "      <td>0.0009</td>\n",
       "    </tr>\n",
       "    <tr>\n",
       "      <th>268</th>\n",
       "      <td>2020-10-27</td>\n",
       "      <td>0.0009</td>\n",
       "    </tr>\n",
       "    <tr>\n",
       "      <th>269</th>\n",
       "      <td>2020-10-28</td>\n",
       "      <td>0.0008</td>\n",
       "    </tr>\n",
       "  </tbody>\n",
       "</table>\n",
       "<p>270 rows × 2 columns</p>\n",
       "</div>"
      ],
      "text/plain": [
       "           DATE    TASA\n",
       "0    2019-10-01  0.0188\n",
       "1    2019-10-02  0.0185\n",
       "2    2019-10-03  0.0184\n",
       "3    2019-10-04  0.0182\n",
       "4    2019-10-07  0.0183\n",
       "..          ...     ...\n",
       "265  2020-10-22  0.0007\n",
       "266  2020-10-23  0.0008\n",
       "267  2020-10-26  0.0009\n",
       "268  2020-10-27  0.0009\n",
       "269  2020-10-28  0.0008\n",
       "\n",
       "[270 rows x 2 columns]"
      ]
     },
     "execution_count": 5,
     "metadata": {},
     "output_type": "execute_result"
    }
   ],
   "source": [
    "auxiliar"
   ]
  },
  {
   "cell_type": "code",
   "execution_count": 6,
   "metadata": {
    "ExecuteTime": {
     "end_time": "2020-12-01T23:29:26.060675Z",
     "start_time": "2020-12-01T23:29:26.012673Z"
    }
   },
   "outputs": [
    {
     "name": "stdout",
     "output_type": "stream",
     "text": [
      "         DATE    TASA\n",
      "0  2019-10-01  0.0188\n",
      "1  2019-10-02  0.0185\n",
      "2  2019-10-03  0.0184\n",
      "6.39952e-06\n"
     ]
    }
   ],
   "source": [
    "algo=auxiliar.iloc[0:3,:]\n",
    "print(algo)\n",
    "print(algo['TASA'].product())"
   ]
  },
  {
   "cell_type": "code",
   "execution_count": 7,
   "metadata": {
    "ExecuteTime": {
     "end_time": "2020-12-01T23:29:28.324036Z",
     "start_time": "2020-12-01T23:29:28.318384Z"
    }
   },
   "outputs": [],
   "source": [
    "class BusCal(Enum):\n",
    "    NY = 1\n",
    "    SCL = 2"
   ]
  },
  {
   "cell_type": "code",
   "execution_count": 8,
   "metadata": {
    "ExecuteTime": {
     "end_time": "2020-12-01T23:29:30.510969Z",
     "start_time": "2020-12-01T23:29:30.494837Z"
    }
   },
   "outputs": [],
   "source": [
    "def get_cal(code: BusCal) -> Qcf.BusinessCalendar:\n",
    "    \"\"\"\n",
    "    \"\"\"\n",
    "    if code == BusCal.NY:\n",
    "        cal = Qcf.BusinessCalendar(Qcf.QCDate(1, 1, 2020), 20)\n",
    "        for agno in range(2020, 2071):\n",
    "            f = Qcf.QCDate(12, 10, agno)\n",
    "            if f.week_day() == Qcf.WeekDay.SAT:\n",
    "                cal.add_holiday(Qcf.QCDate(14, 10, agno))\n",
    "            elif f.week_day() == Qcf.WeekDay.SUN:\n",
    "                cal.add_holiday(Qcf.QCDate(13, 10, agno))\n",
    "            elif f.week_day() == Qcf.WeekDay.MON:\n",
    "                cal.add_holiday(Qcf.QCDate(12, 10, agno))\n",
    "            elif f.week_day() == Qcf.WeekDay.TUE:\n",
    "                cal.add_holiday(Qcf.QCDate(11, 10, agno))\n",
    "            elif f.week_day() == Qcf.WeekDay.WED:\n",
    "                cal.add_holiday(Qcf.QCDate(10, 10, agno)) \n",
    "            elif f.week_day() == Qcf.WeekDay.THU:\n",
    "                cal.add_holiday(Qcf.QCDate(9, 10, agno))\n",
    "            else:\n",
    "                cal.add_holiday(Qcf.QCDate(8, 10, agno))\n",
    "        cal.add_holiday(Qcf.QCDate(15, 2, 2021))\n",
    "        \n",
    "    return cal"
   ]
  },
  {
   "cell_type": "markdown",
   "metadata": {},
   "source": [
    "## `Qcf.time_series`"
   ]
  },
  {
   "cell_type": "code",
   "execution_count": 9,
   "metadata": {
    "ExecuteTime": {
     "end_time": "2020-12-01T23:29:33.973243Z",
     "start_time": "2020-12-01T23:29:33.958332Z"
    }
   },
   "outputs": [
    {
     "name": "stdout",
     "output_type": "stream",
     "text": [
      "ts[fecha1]: 19690113.0\n",
      "\n",
      "13-1-1969\n",
      "14-1-1969\n",
      "\n",
      "19690113.0\n",
      "19690114.0\n"
     ]
    }
   ],
   "source": [
    "ts = Qcf.time_series()\n",
    "\n",
    "fecha1 = Qcf.QCDate(13, 1, 1969)\n",
    "ts[fecha1] = 19690113\n",
    "\n",
    "fecha2 = Qcf.QCDate(14, 1, 1969)\n",
    "ts[fecha2] = 19690114\n",
    "\n",
    "print(f'ts[fecha1]: {ts[fecha1]}\\n')\n",
    "\n",
    "dl = Qcf.time_series_dates(ts)\n",
    "for d in dl:\n",
    "    print(d)\n",
    "print()\n",
    "    \n",
    "vl = Qcf.time_series_values(ts)\n",
    "for v in vl:\n",
    "    print(v)"
   ]
  },
  {
   "cell_type": "markdown",
   "metadata": {},
   "source": [
    "Procedemos a hacer un objeto time_series de fixings."
   ]
  },
  {
   "cell_type": "code",
   "execution_count": 10,
   "metadata": {
    "ExecuteTime": {
     "end_time": "2020-12-01T23:29:37.753691Z",
     "start_time": "2020-12-01T23:29:37.556982Z"
    }
   },
   "outputs": [
    {
     "name": "stdout",
     "output_type": "stream",
     "text": [
      "--- This is the end ---\n"
     ]
    }
   ],
   "source": [
    "fixings = Qcf.time_series()\n",
    "nrows = auxiliar.shape[0]\n",
    "#print(nrows)\n",
    "ncols = auxiliar.shape[1]\n",
    "#print(ncols)\n",
    "for i in range(int(0),int(nrows)):\n",
    "    #print(i)\n",
    "    fechaauxiliar = Qcf.build_qcdate_from_string(auxiliar.loc[i]['DATE'])\n",
    "    tasaauxiliar = auxiliar.loc[i]['TASA']\n",
    "    fixings[fechaauxiliar] = tasaauxiliar\n",
    "print('--- This is the end ---')"
   ]
  },
  {
   "cell_type": "markdown",
   "metadata": {},
   "source": [
    "Hemos realizado la serie de tiempo con todas los factores de interes hasta el momento."
   ]
  },
  {
   "cell_type": "markdown",
   "metadata": {},
   "source": [
    "Ahora transformamos un dataframe que posea todos sus elementos de forma Qcf."
   ]
  },
  {
   "cell_type": "code",
   "execution_count": 11,
   "metadata": {
    "ExecuteTime": {
     "end_time": "2020-12-01T23:29:58.646882Z",
     "start_time": "2020-12-01T23:29:58.631237Z"
    }
   },
   "outputs": [
    {
     "data": {
      "text/plain": [
       "['__class__',\n",
       " '__delattr__',\n",
       " '__dict__',\n",
       " '__dir__',\n",
       " '__doc__',\n",
       " '__eq__',\n",
       " '__format__',\n",
       " '__ge__',\n",
       " '__getattribute__',\n",
       " '__getinitargs__',\n",
       " '__gt__',\n",
       " '__hash__',\n",
       " '__init__',\n",
       " '__init_subclass__',\n",
       " '__instance_size__',\n",
       " '__le__',\n",
       " '__lt__',\n",
       " '__module__',\n",
       " '__ne__',\n",
       " '__new__',\n",
       " '__reduce__',\n",
       " '__reduce_ex__',\n",
       " '__repr__',\n",
       " '__safe_for_unpickling__',\n",
       " '__setattr__',\n",
       " '__sizeof__',\n",
       " '__str__',\n",
       " '__subclasshook__',\n",
       " '__weakref__',\n",
       " 'add_days',\n",
       " 'add_months',\n",
       " 'day',\n",
       " 'day_diff',\n",
       " 'description',\n",
       " 'month',\n",
       " 'month_diff_day_remainder',\n",
       " 'set_day',\n",
       " 'set_month',\n",
       " 'set_year',\n",
       " 'week_day',\n",
       " 'year']"
      ]
     },
     "execution_count": 11,
     "metadata": {},
     "output_type": "execute_result"
    }
   ],
   "source": [
    "dir(fecha1)"
   ]
  },
  {
   "cell_type": "code",
   "execution_count": 12,
   "metadata": {
    "ExecuteTime": {
     "end_time": "2020-12-01T23:30:02.034519Z",
     "start_time": "2020-12-01T23:30:02.029415Z"
    }
   },
   "outputs": [],
   "source": [
    "# Initial_Date = auxiliar['DATE'].apply(lambda DATE: Qcf.build_qcdate_from_string(DATE))\n",
    "# print(Initial_Date)"
   ]
  },
  {
   "cell_type": "code",
   "execution_count": 13,
   "metadata": {
    "ExecuteTime": {
     "end_time": "2020-12-01T23:30:02.659082Z",
     "start_time": "2020-12-01T23:30:02.653807Z"
    }
   },
   "outputs": [],
   "source": [
    "# Initial_Date = Qcf.time_series_dates(fixings)\n",
    "# print(Initial_Date)\n",
    "# type(Initial_Date)"
   ]
  },
  {
   "cell_type": "code",
   "execution_count": 14,
   "metadata": {
    "ExecuteTime": {
     "end_time": "2020-12-01T23:30:05.843867Z",
     "start_time": "2020-12-01T23:30:05.830281Z"
    }
   },
   "outputs": [
    {
     "name": "stdout",
     "output_type": "stream",
     "text": [
      "1-1-2020\n",
      "12-10-2020\n",
      "1-1-2021\n",
      "15-2-2021\n",
      "11-10-2021\n",
      "1-1-2022\n",
      "10-10-2022\n",
      "1-1-2023\n",
      "9-10-2023\n",
      "1-1-2024\n",
      "14-10-2024\n",
      "1-1-2025\n",
      "13-10-2025\n",
      "1-1-2026\n",
      "12-10-2026\n",
      "1-1-2027\n",
      "11-10-2027\n",
      "1-1-2028\n",
      "9-10-2028\n",
      "1-1-2029\n",
      "8-10-2029\n",
      "1-1-2030\n",
      "14-10-2030\n",
      "1-1-2031\n",
      "13-10-2031\n",
      "1-1-2032\n",
      "11-10-2032\n",
      "1-1-2033\n",
      "10-10-2033\n",
      "1-1-2034\n",
      "9-10-2034\n",
      "1-1-2035\n",
      "8-10-2035\n",
      "1-1-2036\n",
      "13-10-2036\n",
      "1-1-2037\n",
      "12-10-2037\n",
      "1-1-2038\n",
      "11-10-2038\n",
      "1-1-2039\n",
      "10-10-2039\n",
      "1-1-2040\n",
      "8-10-2040\n",
      "14-10-2041\n",
      "13-10-2042\n",
      "12-10-2043\n",
      "10-10-2044\n",
      "9-10-2045\n",
      "8-10-2046\n",
      "14-10-2047\n",
      "12-10-2048\n",
      "11-10-2049\n",
      "10-10-2050\n",
      "9-10-2051\n",
      "14-10-2052\n",
      "13-10-2053\n",
      "12-10-2054\n",
      "11-10-2055\n",
      "9-10-2056\n",
      "8-10-2057\n",
      "14-10-2058\n",
      "13-10-2059\n",
      "11-10-2060\n",
      "10-10-2061\n",
      "9-10-2062\n",
      "8-10-2063\n",
      "13-10-2064\n",
      "12-10-2065\n",
      "11-10-2066\n",
      "10-10-2067\n",
      "8-10-2068\n",
      "14-10-2069\n",
      "13-10-2070\n"
     ]
    }
   ],
   "source": [
    "calendario = get_cal(BusCal.NY)\n",
    "type(calendario)\n",
    "dir(calendario)\n",
    "for holiday in calendario.get_holidays():\n",
    "    print(holiday)"
   ]
  },
  {
   "cell_type": "code",
   "execution_count": 15,
   "metadata": {
    "ExecuteTime": {
     "end_time": "2020-12-01T23:30:09.250260Z",
     "start_time": "2020-12-01T23:30:09.246859Z"
    }
   },
   "outputs": [],
   "source": [
    "# prueba = calendario.next_busy_day(fecha1)\n",
    "# print(prueba)"
   ]
  },
  {
   "cell_type": "code",
   "execution_count": 16,
   "metadata": {
    "ExecuteTime": {
     "end_time": "2020-12-01T23:30:10.064926Z",
     "start_time": "2020-12-01T23:30:10.061190Z"
    }
   },
   "outputs": [],
   "source": [
    "# auxiliarframe = { 'Initial_Date': Initial_Date }\n",
    "# auxiliarresult = pd.DataFrame(auxiliarframe)\n",
    "# print(auxiliarresult)"
   ]
  },
  {
   "cell_type": "code",
   "execution_count": 17,
   "metadata": {
    "ExecuteTime": {
     "end_time": "2020-12-01T23:30:10.779190Z",
     "start_time": "2020-12-01T23:30:10.773736Z"
    }
   },
   "outputs": [],
   "source": [
    "# auxiliarresult['Final_Date'] = auxiliarresult['Initial_Date'].apply(\n",
    "#     lambda Initial_Date: calendario.next_busy_day(Initial_Date.add_days(1)))\n",
    "# Initial_Date = auxiliar['DATE'].apply(lambda DATE: Qcf.build_qcdate_from_string(DATE))\n",
    "# print(Initial_Date)\n",
    "# print(auxiliarresult)\n",
    "# print(auxiliarresult.loc[257])"
   ]
  },
  {
   "cell_type": "code",
   "execution_count": 18,
   "metadata": {
    "ExecuteTime": {
     "end_time": "2020-12-01T23:30:11.700205Z",
     "start_time": "2020-12-01T23:30:11.690910Z"
    }
   },
   "outputs": [],
   "source": [
    "# auxiliarresult.insert(2,'Tasa',Qcf.time_series_values(fixings))\n",
    "# print(auxiliarresult)\n",
    "# print(auxiliarresult.loc[257]['Tasa'])\n",
    "# type(auxiliarresult.loc[257]['Tasa'])"
   ]
  },
  {
   "cell_type": "code",
   "execution_count": 19,
   "metadata": {
    "ExecuteTime": {
     "end_time": "2020-12-01T23:30:19.659884Z",
     "start_time": "2020-12-01T23:30:19.652776Z"
    }
   },
   "outputs": [],
   "source": [
    "def get_wf(fecha_inicial: Qcf.QCDate, fecha_final: Qcf.QCDate, valor_tasa: float) -> float:\n",
    "    \"\"\"\n",
    "    Retorna el factor de capitalización para una tasa entre dos fechas.\n",
    "    Supone que la convención de la tasa es LinAct360.\n",
    "    \"\"\"\n",
    "    qc_fec_ini = fecha_inicial\n",
    "    \n",
    "    qc_fec_fin = fecha_final\n",
    "    \n",
    "    qc_tasa = Qcf.QCInterestRate(valor_tasa, Qcf.QCAct360(), Qcf.QCLinearWf())\n",
    "    \n",
    "    return qc_tasa.wf(qc_fec_ini, qc_fec_fin)"
   ]
  },
  {
   "cell_type": "code",
   "execution_count": 20,
   "metadata": {
    "ExecuteTime": {
     "end_time": "2020-12-01T23:30:23.921990Z",
     "start_time": "2020-12-01T23:30:23.918319Z"
    }
   },
   "outputs": [],
   "source": [
    "# a = 225\n",
    "# print(auxiliarresult.loc[a]['Initial_Date'])\n",
    "# print(auxiliarresult.loc[a]['Final_Date'])\n",
    "# print(auxiliarresult.loc[a]['Tasa'])\n",
    "# auxauxaux = get_wf(auxiliarresult.loc[a]['Initial_Date'],auxiliarresult.loc[a]['Final_Date'],auxiliarresult.loc[a]['Tasa'])\n",
    "# print(decimal.Decimal.from_float(auxauxaux))"
   ]
  },
  {
   "cell_type": "code",
   "execution_count": 21,
   "metadata": {
    "ExecuteTime": {
     "end_time": "2020-12-01T23:30:25.218517Z",
     "start_time": "2020-12-01T23:30:25.210118Z"
    }
   },
   "outputs": [],
   "source": [
    "# auxiliarresult['wf'] = auxiliarresult.apply(\n",
    "#     lambda row: get_wf(row['Initial_Date'], row['Final_Date'], row['Tasa']),\n",
    "#     axis=1\n",
    "# )\n",
    "# print(auxiliarresult)"
   ]
  },
  {
   "cell_type": "code",
   "execution_count": 22,
   "metadata": {
    "ExecuteTime": {
     "end_time": "2020-12-01T23:30:26.628188Z",
     "start_time": "2020-12-01T23:30:26.618150Z"
    }
   },
   "outputs": [],
   "source": [
    "# print(auxiliarresult.loc[0]['wf'])"
   ]
  },
  {
   "cell_type": "code",
   "execution_count": 23,
   "metadata": {
    "ExecuteTime": {
     "end_time": "2020-12-01T23:30:32.048107Z",
     "start_time": "2020-12-01T23:30:32.025921Z"
    }
   },
   "outputs": [],
   "source": [
    "# fechaaccprueba = Qcf.QCDate(5, 10, 2019)\n",
    "# print(fechaaccprueba)\n",
    "# nfechaaccprueba = calendario.next_busy_day(fechaaccprueba)\n",
    "# print(nfechaaccprueba)"
   ]
  },
  {
   "cell_type": "code",
   "execution_count": 24,
   "metadata": {
    "ExecuteTime": {
     "end_time": "2020-12-01T23:30:32.069152Z",
     "start_time": "2020-12-01T23:30:32.056298Z"
    }
   },
   "outputs": [],
   "source": [
    "# indice=auxiliarresult['Final_Date'].loc[lambda Final_Date: Final_Date==nfechaaccprueba].index.values\n",
    "# print(indice)"
   ]
  },
  {
   "cell_type": "code",
   "execution_count": null,
   "metadata": {
    "ExecuteTime": {
     "start_time": "2020-12-01T23:30:31.558Z"
    }
   },
   "outputs": [],
   "source": [
    "# iaux = 1\n",
    "# indiceinitial=int(auxiliarresult['Initial_Date'].loc[lambda Initial_Date: Initial_Date==auxiliarresult.loc[0]['Initial_Date']].index.values)\n",
    "# indicefinal=indice=int(auxiliarresult['Final_Date'].loc[lambda Final_Date: Final_Date==nfechaaccprueba].index.values)\n",
    "# for i in range(indiceinitial,indicefinal+1):\n",
    "    \n",
    "#     if(iaux==1):\n",
    "#         prodaux = auxiliarresult.loc[i]['wf']\n",
    "    \n",
    "#     else:\n",
    "#         prodaux = prodaux * auxiliarresult.loc[i]['wf']\n",
    "    \n",
    "#     iaux = iaux+1\n",
    "    \n",
    "    \n",
    "# print('--- This is the end ---')\n",
    "# print(prodaux)\n",
    "# print('--- This is the end ---')   "
   ]
  },
  {
   "cell_type": "markdown",
   "metadata": {},
   "source": [
    "## Clase `OisCashflow`"
   ]
  },
  {
   "cell_type": "markdown",
   "metadata": {},
   "source": [
    "La clase `OisCashflow` es una [`dataclass`](https://realpython.com/python-data-classes/). La tarea consiste en:\n",
    "\n",
    "- Implementar los 3 métodos de la clase que están con `pass`.\n",
    "- Implementar la función `present_value`.\n",
    "- Implementar la función `set_expected_rate`."
   ]
  },
  {
   "cell_type": "markdown",
   "metadata": {},
   "source": [
    "Insertamos las funciones que necesitaremos luego para las otras funciones"
   ]
  },
  {
   "cell_type": "code",
   "execution_count": null,
   "metadata": {
    "ExecuteTime": {
     "start_time": "2020-12-01T23:30:37.909Z"
    }
   },
   "outputs": [],
   "source": [
    "fecha_inicial=Qcf.QCDate(14, 9, 2018)\n",
    "fecha_final=Qcf.QCDate(29, 9, 2018)\n",
    "\n",
    "fecha_inicial.day_diff(fecha_final)"
   ]
  },
  {
   "cell_type": "code",
   "execution_count": null,
   "metadata": {
    "ExecuteTime": {
     "start_time": "2020-12-01T23:30:42.443Z"
    }
   },
   "outputs": [],
   "source": [
    "# @dataclass # syntactic sugar\n",
    "# class OisCashflow:\n",
    "#     start_date: Qcf.QCDate\n",
    "#     end_date: Qcf.QCDate\n",
    "#     settlement_date: Qcf.QCDate\n",
    "#     notional: float\n",
    "#     currency: Qcf.QCCurrency\n",
    "#     amortization: float\n",
    "#     amort_is_cashflow: bool\n",
    "#     interest_rate: Qcf.QCInterestRate\n",
    "#     on_index: Qcf.InterestRateIndex\n",
    "#     spread: float\n",
    "#     gearing: float\n",
    "        \n",
    "#     def get_accrued_rate(self, accrual_date: Qcf.QCDate, fixings: Qcf.time_series) -> float:\n",
    "#         \"\"\"\n",
    "#         Calcula la tasa equivalente desde `self.start_date` a `accrual_date`. La tasa equivalente\n",
    "#         se calcula como:\n",
    "        \n",
    "#         (P - 1) * 360 / (accrual_date - self.start_date)\n",
    "        \n",
    "#         donde P es el producto de los factores de capitalización de todas las tasas overnight\n",
    "#         entre `start_date` y `accrual_date`. Los valores de esas tasas deben estar almacenados\n",
    "#         en la variable `fixings`.\n",
    "        \n",
    "#         Ver la documentación de `QC_Financial_3` para el uso y funcionamiento de los objetos\n",
    "#         de tipo Qcf.time_series.\n",
    "#         \"\"\"\n",
    "        \n",
    "#         fecha_inicial = self.start_date\n",
    "#         fecha_final = accrual_date\n",
    "#         P= fixings.wf(self.start_date,accrual_date)\n",
    "        \n",
    "#         teq= ((P - 1) * 360)/(fecha_inicial.day_diff(fecha_final))\n",
    "        \n",
    "#         return teq\n",
    "    \n",
    "#     def get_accrued_interest(self, accrual_date: Qcf.QCDate, fixings: Qcf.time_series) -> float:\n",
    "#         \"\"\"\n",
    "#         Calcula el interés (plata) devengado desde `self.start_date` a `accrual_date` utilizando la tasa equivalente\n",
    "#         que se calcula con el método anterior.\n",
    "        \n",
    "#         Los valores de las  tasas overnight deben estar almacenados en la variable `fixings`.\n",
    "        \n",
    "#         Ver la documentación de `QC_Financial_3` para el uso y funcionamiento de los objetos\n",
    "#         de tipo Qcf.time_series.\n",
    "#         \"\"\"\n",
    "#         pass\n",
    "    \n",
    "#     def amount(self, fixings: Qcf.time_series) -> float:\n",
    "#         \"\"\"\n",
    "#         Calcula el flujo total al vencimiento (amortización más intereses devengados hasta self.end_date).\n",
    "        \n",
    "#         Los valores de las  tasas overnight deben estar almacenados en la variable `fixings`.\n",
    "        \n",
    "#         Ver la documentación de `QC_Financial_3` para el uso y funcionamiento de los objetos\n",
    "#         de tipo Qcf.time_series.\n",
    "#         \"\"\"\n",
    "#         pass\n",
    "    \n",
    "#     def test(self):\n",
    "#         return 'test'\n",
    "    \n",
    "#     def test1(self, x: float):\n",
    "#         if x == 0:\n",
    "#             raise ValueError('x debe ser != 0')\n",
    "#         return 1 / x\n",
    "    \n",
    "#     def test2(self, x: float):\n",
    "#         return self.test1(x) + 1\n",
    "    \n",
    "#     def test3(self, x: float):\n",
    "#         return x + self.notional"
   ]
  },
  {
   "cell_type": "code",
   "execution_count": 27,
   "metadata": {
    "ExecuteTime": {
     "end_time": "2020-12-01T23:34:10.794918Z",
     "start_time": "2020-12-01T23:34:10.754431Z"
    }
   },
   "outputs": [],
   "source": [
    "@dataclass # syntactic sugar\n",
    "class OisCashflow:\n",
    "    start_date: Qcf.QCDate\n",
    "    end_date: Qcf.QCDate\n",
    "    settlement_date: Qcf.QCDate\n",
    "    notional: float\n",
    "    currency: Qcf.QCCurrency\n",
    "    amortization: float\n",
    "    amort_is_cashflow: bool\n",
    "    interest_rate: Qcf.QCInterestRate\n",
    "    on_index: Qcf.InterestRateIndex\n",
    "    spread: float\n",
    "    gearing: float\n",
    "        \n",
    "    def get_accrued_rate(self, accrual_date: Qcf.QCDate, fixings: Qcf.time_series) -> float:\n",
    "        \"\"\"\n",
    "        Calcula la tasa equivalente desde `self.start_date` a `accrual_date`. La tasa equivalente\n",
    "        se calcula como:\n",
    "        \n",
    "        (P - 1) * 360 / (accrual_date - self.start_date)\n",
    "        \n",
    "        donde P es el producto de los factores de capitalización de todas las tasas overnight\n",
    "        entre `start_date` y `accrual_date`. Los valores de esas tasas deben estar almacenados\n",
    "        en la variable `fixings`.\n",
    "        \n",
    "        Ver la documentación de `QC_Financial_3` para el uso y funcionamiento de los objetos\n",
    "        de tipo Qcf.time_series.\n",
    "        \"\"\"\n",
    "        \n",
    "        \n",
    "        fecha_inicial = self.start_date\n",
    "        fecha_final = calendario.next_busy_day(accrual_date)\n",
    "        \n",
    "        Initial_Date = Qcf.time_series_dates(fixings)\n",
    "        \n",
    "        auxiliarframe = { 'Initial_Date': Initial_Date }\n",
    "        auxiliarresult = pd.DataFrame(auxiliarframe)\n",
    "        \n",
    "        auxiliarresult['Final_Date'] = auxiliarresult['Initial_Date'].apply(\n",
    "        lambda Initial_Date: calendario.next_busy_day(Initial_Date.add_days(1)))\n",
    "        \n",
    "        auxiliarresult.insert(2,'Tasa',Qcf.time_series_values(fixings))\n",
    "        \n",
    "        auxiliarresult['wf'] = auxiliarresult.apply(\n",
    "        lambda row: get_wf(row['Initial_Date'], row['Final_Date'], row['Tasa']),\n",
    "        axis=1\n",
    "        )\n",
    "    \n",
    "        indiceinitial=int(auxiliarresult['Initial_Date'].loc[lambda Initial_Date: Initial_Date==fecha_inicial].index.values)\n",
    "        indicefinal=indice=int(auxiliarresult['Final_Date'].loc[lambda Final_Date: Final_Date==fecha_final].index.values)\n",
    "        \n",
    "        \n",
    "        otherauxiliar = auxiliarresult.iloc[indiceinitial:indicefinal+1,:]\n",
    "        \n",
    "        P = otherauxiliar['wf'].product()\n",
    "        \n",
    "        TasaEquivalente = ((P - 1) * 360)/(fecha_inicial.day_diff(fecha_final))\n",
    "        \n",
    "        return TasaEquivalente\n",
    "    \n",
    "    def get_accrued_interest(self, accrual_date: Qcf.QCDate, fixings: Qcf.time_series) -> float:\n",
    "            \n",
    "        \"\"\"\n",
    "        Calcula el interés (plata) devengado desde `self.start_date` a `accrual_date` utilizando la tasa equivalente\n",
    "        que se calcula con el método anterior.\n",
    "        \n",
    "        Los valores de las  tasas overnight deben estar almacenados en la variable `fixings`.\n",
    "        \n",
    "        Ver la documentación de `QC_Financial_3` para el uso y funcionamiento de los objetos\n",
    "        de tipo Qcf.time_series.\n",
    "        \"\"\"\n",
    "        fecha_inicial = self.start_date\n",
    "        fecha_final = calendario.next_busy_day(accrual_date)\n",
    "        \n",
    "        TasaEquivalente=self.get_accrued_rate(fecha_final,fixings)\n",
    "        Intereses=self.notional * TasaEquivalente* (fecha_inicial.day_diff(fecha_final)/360)\n",
    "\n",
    "        return Intereses \n",
    "    \n",
    "    def amount(self, fixings: Qcf.time_series) -> float:\n",
    "        \"\"\"\n",
    "        Calcula el flujo total al vencimiento (amortización más intereses devengados hasta self.end_date).\n",
    "        \n",
    "        Los valores de las  tasas overnight deben estar almacenados en la variable `fixings`.\n",
    "        \n",
    "        Ver la documentación de `QC_Financial_3` para el uso y funcionamiento de los objetos\n",
    "        de tipo Qcf.time_series.\n",
    "        \"\"\"\n",
    "        fecha_final=calendario.next_busy_day(self.end_date)\n",
    "        InteresDevengado=self.get_accrued_interest(fecha_final,fixings)\n",
    "        FlujoFinal=InteresDevengado+self.amortization\n",
    "        return FlujoFinal"
   ]
  },
  {
   "cell_type": "markdown",
   "metadata": {},
   "source": [
    "Construcción de un objeto `Qcf.InterestRateIndex`."
   ]
  },
  {
   "cell_type": "code",
   "execution_count": 28,
   "metadata": {
    "ExecuteTime": {
     "end_time": "2020-12-01T23:34:19.456015Z",
     "start_time": "2020-12-01T23:34:19.443022Z"
    }
   },
   "outputs": [],
   "source": [
    "codigo = 'SOFR'\n",
    "tasa_on = Qcf.QCInterestRate(.0, Qcf.QCAct360(), Qcf.QCLinearWf())\n",
    "fixing_lag = Qcf.Tenor('0d')\n",
    "tenor = Qcf.Tenor('1d')\n",
    "fixing_calendar = get_cal(BusCal.NY)     \n",
    "settlement_calendar = fixing_calendar  \n",
    "sofr = Qcf.InterestRateIndex(\n",
    "    codigo,\n",
    "    tasa_on,\n",
    "    fixing_lag,\n",
    "    tenor,\n",
    "    fixing_calendar,\n",
    "    settlement_calendar,\n",
    "    Qcf.QCUSD()\n",
    ")"
   ]
  },
  {
   "cell_type": "markdown",
   "metadata": {},
   "source": [
    "Construcción de una instancia de `OisCashflow`."
   ]
  },
  {
   "cell_type": "code",
   "execution_count": 29,
   "metadata": {
    "ExecuteTime": {
     "end_time": "2020-12-01T23:34:23.124598Z",
     "start_time": "2020-12-01T23:34:23.108150Z"
    }
   },
   "outputs": [],
   "source": [
    "ois = OisCashflow(\n",
    "    #Qcf.QCDate(13, 1, 2020),\n",
    "    Qcf.QCDate(1, 10, 2019),\n",
    "    #Qcf.QCDate(13, 1, 2021),\n",
    "    Qcf.QCDate(28, 10, 2020),\n",
    "    #Qcf.QCDate(13, 1, 2021),\n",
    "    Qcf.QCDate(28, 10, 2020), \n",
    "    10000000,\n",
    "    Qcf.QCUSD(),\n",
    "    1000000,\n",
    "    True,\n",
    "    Qcf.QCInterestRate(0.0, Qcf.QCAct360(), Qcf.QCLinearWf()),\n",
    "    sofr,\n",
    "    0,\n",
    "    1\n",
    ")"
   ]
  },
  {
   "cell_type": "markdown",
   "metadata": {},
   "source": [
    "Probamos las funciones aca abajo esperando que retornen un valor respectivo a su programación con tal de no tener un error fundamental, sino poder estar equivocados parcialmente."
   ]
  },
  {
   "cell_type": "markdown",
   "metadata": {},
   "source": [
    "Prueba de ois.get_accrued_rate(Qcf.QCDate())."
   ]
  },
  {
   "cell_type": "code",
   "execution_count": 30,
   "metadata": {
    "ExecuteTime": {
     "end_time": "2020-12-01T23:34:25.556643Z",
     "start_time": "2020-12-01T23:34:25.486385Z"
    }
   },
   "outputs": [
    {
     "name": "stdout",
     "output_type": "stream",
     "text": [
      "0.006933722465227534249854191017448101774789392948150634765625\n"
     ]
    }
   ],
   "source": [
    "#a = ois.get_accrued_rate(Qcf.QCDate(20, 1, 2020),fixings)\n",
    "#a = ois.get_accrued_rate(Qcf.QCDate(5, 10, 2019),fixings)\n",
    "a = ois.get_accrued_rate(ois.end_date,fixings)\n",
    "print(decimal.Decimal.from_float(a))"
   ]
  },
  {
   "cell_type": "markdown",
   "metadata": {},
   "source": [
    "Prueba de ois.get_accrued_interest(Qcf.QCDate(20,1,2020))."
   ]
  },
  {
   "cell_type": "code",
   "execution_count": 31,
   "metadata": {
    "ExecuteTime": {
     "end_time": "2020-12-01T23:34:34.032250Z",
     "start_time": "2020-12-01T23:34:33.949739Z"
    }
   },
   "outputs": [
    {
     "name": "stdout",
     "output_type": "stream",
     "text": [
      "75693.1369120672461576759815216064453125\n"
     ]
    }
   ],
   "source": [
    "#b=ois.get_accrued_interest(Qcf.QCDate(20, 1, 2020),fixings)\n",
    "#b=ois.get_accrued_interest(Qcf.QCDate(5, 10, 2019),fixings)\n",
    "b=ois.get_accrued_interest(ois.end_date,fixings)\n",
    "print(decimal.Decimal.from_float(b))"
   ]
  },
  {
   "cell_type": "code",
   "execution_count": 32,
   "metadata": {
    "ExecuteTime": {
     "end_time": "2020-12-01T23:34:36.991809Z",
     "start_time": "2020-12-01T23:34:36.987480Z"
    }
   },
   "outputs": [],
   "source": [
    "#print(calendario.next_busy_day(Qcf.QCDate(28, 10, 2020)))"
   ]
  },
  {
   "cell_type": "markdown",
   "metadata": {
    "ExecuteTime": {
     "end_time": "2020-11-08T15:40:43.246042Z",
     "start_time": "2020-11-08T15:40:43.240094Z"
    }
   },
   "source": [
    "Prueba de ois.amount()."
   ]
  },
  {
   "cell_type": "code",
   "execution_count": 33,
   "metadata": {
    "ExecuteTime": {
     "end_time": "2020-12-01T23:34:38.562783Z",
     "start_time": "2020-12-01T23:34:38.497472Z"
    }
   },
   "outputs": [
    {
     "name": "stdout",
     "output_type": "stream",
     "text": [
      "1075693.13691206718795001506805419921875\n"
     ]
    }
   ],
   "source": [
    "c=ois.amount(fixings)\n",
    "print(decimal.Decimal.from_float(c))"
   ]
  },
  {
   "cell_type": "code",
   "execution_count": 34,
   "metadata": {
    "ExecuteTime": {
     "end_time": "2020-12-01T23:34:39.689313Z",
     "start_time": "2020-12-01T23:34:39.682358Z"
    }
   },
   "outputs": [
    {
     "data": {
      "text/plain": [
       "<finrisk.QC_Financial_3.time_series at 0x7fbbaa2510a0>"
      ]
     },
     "execution_count": 34,
     "metadata": {},
     "output_type": "execute_result"
    }
   ],
   "source": [
    "fixings"
   ]
  },
  {
   "cell_type": "code",
   "execution_count": 35,
   "metadata": {
    "ExecuteTime": {
     "end_time": "2020-12-01T23:34:40.189561Z",
     "start_time": "2020-12-01T23:34:40.182240Z"
    }
   },
   "outputs": [
    {
     "data": {
      "text/plain": [
       "finrisk.QC_Financial_3.time_series"
      ]
     },
     "execution_count": 35,
     "metadata": {},
     "output_type": "execute_result"
    }
   ],
   "source": [
    "type(fixings)"
   ]
  },
  {
   "cell_type": "code",
   "execution_count": 36,
   "metadata": {
    "ExecuteTime": {
     "end_time": "2020-12-01T23:34:41.424874Z",
     "start_time": "2020-12-01T23:34:41.412157Z"
    }
   },
   "outputs": [
    {
     "data": {
      "text/plain": [
       "6"
      ]
     },
     "execution_count": 36,
     "metadata": {},
     "output_type": "execute_result"
    }
   ],
   "source": [
    "(Qcf.QCDate(1, 10, 2019)).day_diff(Qcf.QCDate(7, 10, 2019))"
   ]
  },
  {
   "cell_type": "code",
   "execution_count": 37,
   "metadata": {
    "ExecuteTime": {
     "end_time": "2020-12-01T23:34:43.365673Z",
     "start_time": "2020-12-01T23:34:43.359459Z"
    }
   },
   "outputs": [
    {
     "name": "stdout",
     "output_type": "stream",
     "text": [
      "Hacer algo\n"
     ]
    }
   ],
   "source": [
    "try:\n",
    "    ois.test1(0)\n",
    "except Exception as e:\n",
    "    print('Hacer algo')"
   ]
  },
  {
   "cell_type": "code",
   "execution_count": 38,
   "metadata": {
    "ExecuteTime": {
     "end_time": "2020-12-01T23:34:44.171777Z",
     "start_time": "2020-12-01T23:34:44.166881Z"
    }
   },
   "outputs": [
    {
     "name": "stdout",
     "output_type": "stream",
     "text": [
      "1-10-2019\n"
     ]
    }
   ],
   "source": [
    "print(ois.start_date)"
   ]
  },
  {
   "cell_type": "code",
   "execution_count": 39,
   "metadata": {
    "ExecuteTime": {
     "end_time": "2020-12-01T23:34:45.112453Z",
     "start_time": "2020-12-01T23:34:45.106692Z"
    }
   },
   "outputs": [
    {
     "name": "stdout",
     "output_type": "stream",
     "text": [
      "10000000\n"
     ]
    }
   ],
   "source": [
    "print(ois.notional)"
   ]
  },
  {
   "cell_type": "markdown",
   "metadata": {},
   "source": [
    "## Funciones"
   ]
  },
  {
   "cell_type": "code",
   "execution_count": 40,
   "metadata": {
    "ExecuteTime": {
     "end_time": "2020-12-01T23:34:47.572658Z",
     "start_time": "2020-12-01T23:34:47.564893Z"
    }
   },
   "outputs": [],
   "source": [
    "def set_expected_rate(\n",
    "        val_date: Qcf.QCDate,\n",
    "        ois_cashflow: OisCashflow,\n",
    "        zcc: Qcf.ZeroCouponCurve,\n",
    "        fixings: Qcf.time_series) -> None:\n",
    "    \"\"\"\n",
    "    Esta función opera de la misma forma que la análoga función de `QC_Financial_3`.\n",
    "    Ver por ejemplo los casos cuando usamos el objeto Qcf.ForwardRates() en\n",
    "    el notebook 9.\n",
    "    \"\"\"\n",
    "    return TasaEsperada # ¿? ¿de dónde sale esta variable? Notar que explícitamente dice que la función\n",
    "                        # retorna None"
   ]
  },
  {
   "cell_type": "code",
   "execution_count": 42,
   "metadata": {
    "ExecuteTime": {
     "end_time": "2020-12-01T23:35:29.276568Z",
     "start_time": "2020-12-01T23:35:29.269356Z"
    }
   },
   "outputs": [],
   "source": [
    "def present_value(val_date: Qcf.QCDate, ois_cashflow: OisCashflow, zcc: Qcf.ZeroCouponCurve) -> float:\n",
    "    \"\"\"\n",
    "    Esta función opera de la misma forma que la análoga función de `QC_Financial_3`.\n",
    "    Para probar esta función utilizar la data de que está en data/20201012_built_sofr_zero.xlsx.\n",
    "    Para traer a valor presente debes respetar la convención de las tasas de la curva.\n",
    "    \n",
    "    NOTA: la variable ois_cashflow debe haber 'pasado' por la función set_expected_rate para que\n",
    "    tenga los intereses de los fixings futuros.\n",
    "    \"\"\"\n",
    "    \n",
    "    fwd = Qcf.ForwardRates()\n",
    "    fwd.set_rates_icp_clp_leg(val_date, 1.0, ois_cashflow, zcc) # faltaba , después de cashflow\n",
    "    vp_flot = vp.pv(val_date, ois_cashflow, zcc)\n",
    "    return vp_flot"
   ]
  },
  {
   "cell_type": "markdown",
   "metadata": {},
   "source": [
    "## Tests"
   ]
  },
  {
   "cell_type": "code",
   "execution_count": 43,
   "metadata": {
    "ExecuteTime": {
     "end_time": "2020-12-01T23:35:32.371892Z",
     "start_time": "2020-12-01T23:35:32.364653Z"
    }
   },
   "outputs": [],
   "source": [
    "import sys\n",
    "sys.path.insert(1, '../modules')\n",
    "import auxiliary as aux"
   ]
  },
  {
   "cell_type": "code",
   "execution_count": 44,
   "metadata": {
    "ExecuteTime": {
     "end_time": "2020-12-01T23:35:33.587941Z",
     "start_time": "2020-12-01T23:35:33.582043Z"
    }
   },
   "outputs": [],
   "source": [
    "amount_tol = 10000\n",
    "rate_tol = .001"
   ]
  },
  {
   "cell_type": "code",
   "execution_count": 45,
   "metadata": {
    "ExecuteTime": {
     "end_time": "2020-12-01T23:35:34.491378Z",
     "start_time": "2020-12-01T23:35:34.487169Z"
    }
   },
   "outputs": [],
   "source": [
    "exitos = 0"
   ]
  },
  {
   "cell_type": "code",
   "execution_count": 46,
   "metadata": {
    "ExecuteTime": {
     "end_time": "2020-12-01T23:35:37.085359Z",
     "start_time": "2020-12-01T23:35:37.069646Z"
    }
   },
   "outputs": [],
   "source": [
    "def suma_exito(resultado, check, tipo):\n",
    "    global exitos\n",
    "    if resultado is None:\n",
    "        return\n",
    "    else:\n",
    "        print('Suma medio punto por obtener resultado.')\n",
    "        exitos += .5\n",
    "        if tipo == 'monto':\n",
    "            if abs(resultado - check) < amount_tol:\n",
    "                print('Suma 1 punto por obtener resultado dentro de la tolerancia.')\n",
    "                exitos += 1\n",
    "        else:\n",
    "            if abs(resultado - check) < rate_tol:\n",
    "                print('Suma 1 punto por obtener resultado dentro de la tolerancia.')\n",
    "                exitos += 1"
   ]
  },
  {
   "cell_type": "markdown",
   "metadata": {},
   "source": [
    "Construcción de una instancia de `OisCashflow`."
   ]
  },
  {
   "cell_type": "code",
   "execution_count": 48,
   "metadata": {
    "ExecuteTime": {
     "end_time": "2020-12-01T23:36:12.663655Z",
     "start_time": "2020-12-01T23:36:12.652613Z"
    }
   },
   "outputs": [],
   "source": [
    "ois = OisCashflow(\n",
    "    Qcf.QCDate(1, 10, 2019),\n",
    "    Qcf.QCDate(1, 10, 2020),\n",
    "    Qcf.QCDate(1, 10, 2020),\n",
    "    10000000,\n",
    "    Qcf.QCUSD(),\n",
    "    1000000,\n",
    "    True,\n",
    "    Qcf.QCInterestRate(0.0, Qcf.QCAct360(), Qcf.QCLinearWf()),\n",
    "    sofr,\n",
    "    0,\n",
    "    1\n",
    ")"
   ]
  },
  {
   "cell_type": "markdown",
   "metadata": {},
   "source": [
    "En la siguiente variable `exitos` se registra cuantos tests se superan con éxito."
   ]
  },
  {
   "cell_type": "markdown",
   "metadata": {},
   "source": [
    "### Objeto `fixings`"
   ]
  },
  {
   "cell_type": "code",
   "execution_count": 49,
   "metadata": {
    "ExecuteTime": {
     "end_time": "2020-12-01T23:36:19.841816Z",
     "start_time": "2020-12-01T23:36:19.749787Z"
    }
   },
   "outputs": [],
   "source": [
    "df_fixings = pd.read_excel('../data/SOFR-10012019-10292020.xls', sheet_name='nice format')\n",
    "df_fixings.columns = ['fecha', 'nombre', 'valor']\n",
    "df_fixings['valor'] /= 100"
   ]
  },
  {
   "cell_type": "code",
   "execution_count": 50,
   "metadata": {
    "ExecuteTime": {
     "end_time": "2020-12-01T23:36:21.557928Z",
     "start_time": "2020-12-01T23:36:21.350998Z"
    }
   },
   "outputs": [
    {
     "data": {
      "text/html": [
       "<style  type=\"text/css\" >\n",
       "</style><table id=\"T_04997fd4_342e_11eb_a3d0_02cba411ec9d\" ><thead>    <tr>        <th class=\"blank level0\" ></th>        <th class=\"col_heading level0 col0\" >fecha</th>        <th class=\"col_heading level0 col1\" >nombre</th>        <th class=\"col_heading level0 col2\" >valor</th>    </tr></thead><tbody>\n",
       "                <tr>\n",
       "                        <th id=\"T_04997fd4_342e_11eb_a3d0_02cba411ec9dlevel0_row0\" class=\"row_heading level0 row0\" >0</th>\n",
       "                        <td id=\"T_04997fd4_342e_11eb_a3d0_02cba411ec9drow0_col0\" class=\"data row0 col0\" >2020-10-28</td>\n",
       "                        <td id=\"T_04997fd4_342e_11eb_a3d0_02cba411ec9drow0_col1\" class=\"data row0 col1\" >SOFR</td>\n",
       "                        <td id=\"T_04997fd4_342e_11eb_a3d0_02cba411ec9drow0_col2\" class=\"data row0 col2\" >0.0800%</td>\n",
       "            </tr>\n",
       "            <tr>\n",
       "                        <th id=\"T_04997fd4_342e_11eb_a3d0_02cba411ec9dlevel0_row1\" class=\"row_heading level0 row1\" >1</th>\n",
       "                        <td id=\"T_04997fd4_342e_11eb_a3d0_02cba411ec9drow1_col0\" class=\"data row1 col0\" >2020-10-27</td>\n",
       "                        <td id=\"T_04997fd4_342e_11eb_a3d0_02cba411ec9drow1_col1\" class=\"data row1 col1\" >SOFR</td>\n",
       "                        <td id=\"T_04997fd4_342e_11eb_a3d0_02cba411ec9drow1_col2\" class=\"data row1 col2\" >0.0900%</td>\n",
       "            </tr>\n",
       "            <tr>\n",
       "                        <th id=\"T_04997fd4_342e_11eb_a3d0_02cba411ec9dlevel0_row2\" class=\"row_heading level0 row2\" >2</th>\n",
       "                        <td id=\"T_04997fd4_342e_11eb_a3d0_02cba411ec9drow2_col0\" class=\"data row2 col0\" >2020-10-26</td>\n",
       "                        <td id=\"T_04997fd4_342e_11eb_a3d0_02cba411ec9drow2_col1\" class=\"data row2 col1\" >SOFR</td>\n",
       "                        <td id=\"T_04997fd4_342e_11eb_a3d0_02cba411ec9drow2_col2\" class=\"data row2 col2\" >0.0900%</td>\n",
       "            </tr>\n",
       "            <tr>\n",
       "                        <th id=\"T_04997fd4_342e_11eb_a3d0_02cba411ec9dlevel0_row3\" class=\"row_heading level0 row3\" >3</th>\n",
       "                        <td id=\"T_04997fd4_342e_11eb_a3d0_02cba411ec9drow3_col0\" class=\"data row3 col0\" >2020-10-23</td>\n",
       "                        <td id=\"T_04997fd4_342e_11eb_a3d0_02cba411ec9drow3_col1\" class=\"data row3 col1\" >SOFR</td>\n",
       "                        <td id=\"T_04997fd4_342e_11eb_a3d0_02cba411ec9drow3_col2\" class=\"data row3 col2\" >0.0800%</td>\n",
       "            </tr>\n",
       "            <tr>\n",
       "                        <th id=\"T_04997fd4_342e_11eb_a3d0_02cba411ec9dlevel0_row4\" class=\"row_heading level0 row4\" >4</th>\n",
       "                        <td id=\"T_04997fd4_342e_11eb_a3d0_02cba411ec9drow4_col0\" class=\"data row4 col0\" >2020-10-22</td>\n",
       "                        <td id=\"T_04997fd4_342e_11eb_a3d0_02cba411ec9drow4_col1\" class=\"data row4 col1\" >SOFR</td>\n",
       "                        <td id=\"T_04997fd4_342e_11eb_a3d0_02cba411ec9drow4_col2\" class=\"data row4 col2\" >0.0700%</td>\n",
       "            </tr>\n",
       "    </tbody></table>"
      ],
      "text/plain": [
       "<pandas.io.formats.style.Styler at 0x7fbbaa22feb8>"
      ]
     },
     "execution_count": 50,
     "metadata": {},
     "output_type": "execute_result"
    }
   ],
   "source": [
    "df_fixings.head().style.format({'valor': '{:.4%}'})"
   ]
  },
  {
   "cell_type": "code",
   "execution_count": 51,
   "metadata": {
    "ExecuteTime": {
     "end_time": "2020-12-01T23:36:24.762530Z",
     "start_time": "2020-12-01T23:36:24.730623Z"
    }
   },
   "outputs": [],
   "source": [
    "fixings = Qcf.time_series()\n",
    "for row in df_fixings.itertuples():\n",
    "    fixings[Qcf.build_qcdate_from_string(row.fecha)] = row.valor"
   ]
  },
  {
   "cell_type": "code",
   "execution_count": 52,
   "metadata": {
    "ExecuteTime": {
     "end_time": "2020-12-01T23:36:26.424802Z",
     "start_time": "2020-12-01T23:36:26.408261Z"
    }
   },
   "outputs": [
    {
     "data": {
      "text/plain": [
       "0.0154"
      ]
     },
     "execution_count": 52,
     "metadata": {},
     "output_type": "execute_result"
    }
   ],
   "source": [
    "fixings[Qcf.QCDate(13, 1, 2020)]"
   ]
  },
  {
   "cell_type": "markdown",
   "metadata": {},
   "source": [
    "### `OisCashflow.accrued_rate`"
   ]
  },
  {
   "cell_type": "code",
   "execution_count": 53,
   "metadata": {
    "ExecuteTime": {
     "end_time": "2020-12-01T23:36:29.197500Z",
     "start_time": "2020-12-01T23:36:29.090042Z"
    }
   },
   "outputs": [
    {
     "name": "stdout",
     "output_type": "stream",
     "text": [
      "accrued rate: 1.00991314%\n"
     ]
    }
   ],
   "source": [
    "accrued_rate = ois.get_accrued_rate(Qcf.QCDate(15, 6, 2020), fixings)\n",
    "print(f'accrued rate: {accrued_rate:.8%}')"
   ]
  },
  {
   "cell_type": "markdown",
   "metadata": {},
   "source": [
    "Se verificará el cálculo usando `df_fixings`."
   ]
  },
  {
   "cell_type": "code",
   "execution_count": 54,
   "metadata": {
    "ExecuteTime": {
     "end_time": "2020-12-01T23:36:53.797385Z",
     "start_time": "2020-12-01T23:36:53.784946Z"
    }
   },
   "outputs": [
    {
     "data": {
      "text/html": [
       "<style  type=\"text/css\" >\n",
       "</style><table id=\"T_17d4ccca_342e_11eb_a3d0_02cba411ec9d\" ><thead>    <tr>        <th class=\"blank level0\" ></th>        <th class=\"col_heading level0 col0\" >fecha</th>        <th class=\"col_heading level0 col1\" >nombre</th>        <th class=\"col_heading level0 col2\" >valor</th>    </tr></thead><tbody>\n",
       "                <tr>\n",
       "                        <th id=\"T_17d4ccca_342e_11eb_a3d0_02cba411ec9dlevel0_row0\" class=\"row_heading level0 row0\" >0</th>\n",
       "                        <td id=\"T_17d4ccca_342e_11eb_a3d0_02cba411ec9drow0_col0\" class=\"data row0 col0\" >2020-10-28</td>\n",
       "                        <td id=\"T_17d4ccca_342e_11eb_a3d0_02cba411ec9drow0_col1\" class=\"data row0 col1\" >SOFR</td>\n",
       "                        <td id=\"T_17d4ccca_342e_11eb_a3d0_02cba411ec9drow0_col2\" class=\"data row0 col2\" >0.0800%</td>\n",
       "            </tr>\n",
       "            <tr>\n",
       "                        <th id=\"T_17d4ccca_342e_11eb_a3d0_02cba411ec9dlevel0_row1\" class=\"row_heading level0 row1\" >1</th>\n",
       "                        <td id=\"T_17d4ccca_342e_11eb_a3d0_02cba411ec9drow1_col0\" class=\"data row1 col0\" >2020-10-27</td>\n",
       "                        <td id=\"T_17d4ccca_342e_11eb_a3d0_02cba411ec9drow1_col1\" class=\"data row1 col1\" >SOFR</td>\n",
       "                        <td id=\"T_17d4ccca_342e_11eb_a3d0_02cba411ec9drow1_col2\" class=\"data row1 col2\" >0.0900%</td>\n",
       "            </tr>\n",
       "            <tr>\n",
       "                        <th id=\"T_17d4ccca_342e_11eb_a3d0_02cba411ec9dlevel0_row2\" class=\"row_heading level0 row2\" >2</th>\n",
       "                        <td id=\"T_17d4ccca_342e_11eb_a3d0_02cba411ec9drow2_col0\" class=\"data row2 col0\" >2020-10-26</td>\n",
       "                        <td id=\"T_17d4ccca_342e_11eb_a3d0_02cba411ec9drow2_col1\" class=\"data row2 col1\" >SOFR</td>\n",
       "                        <td id=\"T_17d4ccca_342e_11eb_a3d0_02cba411ec9drow2_col2\" class=\"data row2 col2\" >0.0900%</td>\n",
       "            </tr>\n",
       "            <tr>\n",
       "                        <th id=\"T_17d4ccca_342e_11eb_a3d0_02cba411ec9dlevel0_row3\" class=\"row_heading level0 row3\" >3</th>\n",
       "                        <td id=\"T_17d4ccca_342e_11eb_a3d0_02cba411ec9drow3_col0\" class=\"data row3 col0\" >2020-10-23</td>\n",
       "                        <td id=\"T_17d4ccca_342e_11eb_a3d0_02cba411ec9drow3_col1\" class=\"data row3 col1\" >SOFR</td>\n",
       "                        <td id=\"T_17d4ccca_342e_11eb_a3d0_02cba411ec9drow3_col2\" class=\"data row3 col2\" >0.0800%</td>\n",
       "            </tr>\n",
       "            <tr>\n",
       "                        <th id=\"T_17d4ccca_342e_11eb_a3d0_02cba411ec9dlevel0_row4\" class=\"row_heading level0 row4\" >4</th>\n",
       "                        <td id=\"T_17d4ccca_342e_11eb_a3d0_02cba411ec9drow4_col0\" class=\"data row4 col0\" >2020-10-22</td>\n",
       "                        <td id=\"T_17d4ccca_342e_11eb_a3d0_02cba411ec9drow4_col1\" class=\"data row4 col1\" >SOFR</td>\n",
       "                        <td id=\"T_17d4ccca_342e_11eb_a3d0_02cba411ec9drow4_col2\" class=\"data row4 col2\" >0.0700%</td>\n",
       "            </tr>\n",
       "    </tbody></table>"
      ],
      "text/plain": [
       "<pandas.io.formats.style.Styler at 0x7fbbaa318828>"
      ]
     },
     "execution_count": 54,
     "metadata": {},
     "output_type": "execute_result"
    }
   ],
   "source": [
    "df_fixings.head().style.format({'valor': '{:.4%}'})"
   ]
  },
  {
   "cell_type": "markdown",
   "metadata": {
    "ExecuteTime": {
     "end_time": "2020-11-28T10:46:07.293545Z",
     "start_time": "2020-11-28T10:46:07.285532Z"
    }
   },
   "source": [
    "Se agrega la columna `next_date`, servirá para calcular el factor de capitalización de cada tasa."
   ]
  },
  {
   "cell_type": "code",
   "execution_count": 55,
   "metadata": {
    "ExecuteTime": {
     "end_time": "2020-12-01T23:37:29.370847Z",
     "start_time": "2020-12-01T23:37:29.362267Z"
    }
   },
   "outputs": [],
   "source": [
    "def next_date(fecha:str, calendario: Qcf.BusinessCalendar) -> str:\n",
    "    qfecha = Qcf.build_qcdate_from_string(fecha)\n",
    "    next_fecha = calendario.shift(qfecha, 1)\n",
    "    return next_fecha.description(False)"
   ]
  },
  {
   "cell_type": "code",
   "execution_count": 56,
   "metadata": {
    "ExecuteTime": {
     "end_time": "2020-12-01T23:37:32.939084Z",
     "start_time": "2020-12-01T23:37:32.910105Z"
    }
   },
   "outputs": [],
   "source": [
    "df_fixings['next_fecha'] = df_fixings.apply(\n",
    "    lambda row: next_date(row['fecha'], settlement_calendar),\n",
    "    axis=1\n",
    ")"
   ]
  },
  {
   "cell_type": "code",
   "execution_count": 57,
   "metadata": {
    "ExecuteTime": {
     "end_time": "2020-12-01T23:37:34.805713Z",
     "start_time": "2020-12-01T23:37:34.779802Z"
    }
   },
   "outputs": [
    {
     "data": {
      "text/html": [
       "<style  type=\"text/css\" >\n",
       "</style><table id=\"T_30441b80_342e_11eb_a3d0_02cba411ec9d\" ><thead>    <tr>        <th class=\"blank level0\" ></th>        <th class=\"col_heading level0 col0\" >fecha</th>        <th class=\"col_heading level0 col1\" >nombre</th>        <th class=\"col_heading level0 col2\" >valor</th>        <th class=\"col_heading level0 col3\" >next_fecha</th>    </tr></thead><tbody>\n",
       "                <tr>\n",
       "                        <th id=\"T_30441b80_342e_11eb_a3d0_02cba411ec9dlevel0_row0\" class=\"row_heading level0 row0\" >0</th>\n",
       "                        <td id=\"T_30441b80_342e_11eb_a3d0_02cba411ec9drow0_col0\" class=\"data row0 col0\" >2020-10-28</td>\n",
       "                        <td id=\"T_30441b80_342e_11eb_a3d0_02cba411ec9drow0_col1\" class=\"data row0 col1\" >SOFR</td>\n",
       "                        <td id=\"T_30441b80_342e_11eb_a3d0_02cba411ec9drow0_col2\" class=\"data row0 col2\" >0.0800%</td>\n",
       "                        <td id=\"T_30441b80_342e_11eb_a3d0_02cba411ec9drow0_col3\" class=\"data row0 col3\" >2020-10-29</td>\n",
       "            </tr>\n",
       "            <tr>\n",
       "                        <th id=\"T_30441b80_342e_11eb_a3d0_02cba411ec9dlevel0_row1\" class=\"row_heading level0 row1\" >1</th>\n",
       "                        <td id=\"T_30441b80_342e_11eb_a3d0_02cba411ec9drow1_col0\" class=\"data row1 col0\" >2020-10-27</td>\n",
       "                        <td id=\"T_30441b80_342e_11eb_a3d0_02cba411ec9drow1_col1\" class=\"data row1 col1\" >SOFR</td>\n",
       "                        <td id=\"T_30441b80_342e_11eb_a3d0_02cba411ec9drow1_col2\" class=\"data row1 col2\" >0.0900%</td>\n",
       "                        <td id=\"T_30441b80_342e_11eb_a3d0_02cba411ec9drow1_col3\" class=\"data row1 col3\" >2020-10-28</td>\n",
       "            </tr>\n",
       "            <tr>\n",
       "                        <th id=\"T_30441b80_342e_11eb_a3d0_02cba411ec9dlevel0_row2\" class=\"row_heading level0 row2\" >2</th>\n",
       "                        <td id=\"T_30441b80_342e_11eb_a3d0_02cba411ec9drow2_col0\" class=\"data row2 col0\" >2020-10-26</td>\n",
       "                        <td id=\"T_30441b80_342e_11eb_a3d0_02cba411ec9drow2_col1\" class=\"data row2 col1\" >SOFR</td>\n",
       "                        <td id=\"T_30441b80_342e_11eb_a3d0_02cba411ec9drow2_col2\" class=\"data row2 col2\" >0.0900%</td>\n",
       "                        <td id=\"T_30441b80_342e_11eb_a3d0_02cba411ec9drow2_col3\" class=\"data row2 col3\" >2020-10-27</td>\n",
       "            </tr>\n",
       "            <tr>\n",
       "                        <th id=\"T_30441b80_342e_11eb_a3d0_02cba411ec9dlevel0_row3\" class=\"row_heading level0 row3\" >3</th>\n",
       "                        <td id=\"T_30441b80_342e_11eb_a3d0_02cba411ec9drow3_col0\" class=\"data row3 col0\" >2020-10-23</td>\n",
       "                        <td id=\"T_30441b80_342e_11eb_a3d0_02cba411ec9drow3_col1\" class=\"data row3 col1\" >SOFR</td>\n",
       "                        <td id=\"T_30441b80_342e_11eb_a3d0_02cba411ec9drow3_col2\" class=\"data row3 col2\" >0.0800%</td>\n",
       "                        <td id=\"T_30441b80_342e_11eb_a3d0_02cba411ec9drow3_col3\" class=\"data row3 col3\" >2020-10-26</td>\n",
       "            </tr>\n",
       "            <tr>\n",
       "                        <th id=\"T_30441b80_342e_11eb_a3d0_02cba411ec9dlevel0_row4\" class=\"row_heading level0 row4\" >4</th>\n",
       "                        <td id=\"T_30441b80_342e_11eb_a3d0_02cba411ec9drow4_col0\" class=\"data row4 col0\" >2020-10-22</td>\n",
       "                        <td id=\"T_30441b80_342e_11eb_a3d0_02cba411ec9drow4_col1\" class=\"data row4 col1\" >SOFR</td>\n",
       "                        <td id=\"T_30441b80_342e_11eb_a3d0_02cba411ec9drow4_col2\" class=\"data row4 col2\" >0.0700%</td>\n",
       "                        <td id=\"T_30441b80_342e_11eb_a3d0_02cba411ec9drow4_col3\" class=\"data row4 col3\" >2020-10-23</td>\n",
       "            </tr>\n",
       "    </tbody></table>"
      ],
      "text/plain": [
       "<pandas.io.formats.style.Styler at 0x7fbbe657a400>"
      ]
     },
     "execution_count": 57,
     "metadata": {},
     "output_type": "execute_result"
    }
   ],
   "source": [
    "df_fixings.head().style.format({'valor': '{:.4%}'})"
   ]
  },
  {
   "cell_type": "markdown",
   "metadata": {},
   "source": [
    "Se calcula ahora el factor de capitalización."
   ]
  },
  {
   "cell_type": "code",
   "execution_count": 58,
   "metadata": {
    "ExecuteTime": {
     "end_time": "2020-12-01T23:37:36.259521Z",
     "start_time": "2020-12-01T23:37:36.253545Z"
    }
   },
   "outputs": [],
   "source": [
    "def factor_cap(fecha: str, next_fecha: str, valor: float) -> float:\n",
    "    qfecha = Qcf.build_qcdate_from_string(fecha)\n",
    "    qnext_fecha = Qcf.build_qcdate_from_string(next_fecha)\n",
    "    int_rate = Qcf.QCInterestRate(valor, Qcf.QCAct360(), Qcf.QCLinearWf())\n",
    "    return int_rate.wf(qfecha, qnext_fecha)"
   ]
  },
  {
   "cell_type": "code",
   "execution_count": 59,
   "metadata": {
    "ExecuteTime": {
     "end_time": "2020-12-01T23:37:37.245456Z",
     "start_time": "2020-12-01T23:37:37.209478Z"
    }
   },
   "outputs": [],
   "source": [
    "df_fixings['factor_capitalizacion'] = df_fixings.apply(\n",
    "    lambda row: factor_cap(row['fecha'], row['next_fecha'], row['valor']),\n",
    "    axis=1\n",
    ")"
   ]
  },
  {
   "cell_type": "code",
   "execution_count": 60,
   "metadata": {
    "ExecuteTime": {
     "end_time": "2020-12-01T23:37:39.078712Z",
     "start_time": "2020-12-01T23:37:39.059593Z"
    }
   },
   "outputs": [
    {
     "data": {
      "text/html": [
       "<style  type=\"text/css\" >\n",
       "</style><table id=\"T_32d143aa_342e_11eb_a3d0_02cba411ec9d\" ><thead>    <tr>        <th class=\"blank level0\" ></th>        <th class=\"col_heading level0 col0\" >fecha</th>        <th class=\"col_heading level0 col1\" >nombre</th>        <th class=\"col_heading level0 col2\" >valor</th>        <th class=\"col_heading level0 col3\" >next_fecha</th>        <th class=\"col_heading level0 col4\" >factor_capitalizacion</th>    </tr></thead><tbody>\n",
       "                <tr>\n",
       "                        <th id=\"T_32d143aa_342e_11eb_a3d0_02cba411ec9dlevel0_row0\" class=\"row_heading level0 row0\" >0</th>\n",
       "                        <td id=\"T_32d143aa_342e_11eb_a3d0_02cba411ec9drow0_col0\" class=\"data row0 col0\" >2020-10-28</td>\n",
       "                        <td id=\"T_32d143aa_342e_11eb_a3d0_02cba411ec9drow0_col1\" class=\"data row0 col1\" >SOFR</td>\n",
       "                        <td id=\"T_32d143aa_342e_11eb_a3d0_02cba411ec9drow0_col2\" class=\"data row0 col2\" >0.0800%</td>\n",
       "                        <td id=\"T_32d143aa_342e_11eb_a3d0_02cba411ec9drow0_col3\" class=\"data row0 col3\" >2020-10-29</td>\n",
       "                        <td id=\"T_32d143aa_342e_11eb_a3d0_02cba411ec9drow0_col4\" class=\"data row0 col4\" >1.000002</td>\n",
       "            </tr>\n",
       "            <tr>\n",
       "                        <th id=\"T_32d143aa_342e_11eb_a3d0_02cba411ec9dlevel0_row1\" class=\"row_heading level0 row1\" >1</th>\n",
       "                        <td id=\"T_32d143aa_342e_11eb_a3d0_02cba411ec9drow1_col0\" class=\"data row1 col0\" >2020-10-27</td>\n",
       "                        <td id=\"T_32d143aa_342e_11eb_a3d0_02cba411ec9drow1_col1\" class=\"data row1 col1\" >SOFR</td>\n",
       "                        <td id=\"T_32d143aa_342e_11eb_a3d0_02cba411ec9drow1_col2\" class=\"data row1 col2\" >0.0900%</td>\n",
       "                        <td id=\"T_32d143aa_342e_11eb_a3d0_02cba411ec9drow1_col3\" class=\"data row1 col3\" >2020-10-28</td>\n",
       "                        <td id=\"T_32d143aa_342e_11eb_a3d0_02cba411ec9drow1_col4\" class=\"data row1 col4\" >1.000002</td>\n",
       "            </tr>\n",
       "            <tr>\n",
       "                        <th id=\"T_32d143aa_342e_11eb_a3d0_02cba411ec9dlevel0_row2\" class=\"row_heading level0 row2\" >2</th>\n",
       "                        <td id=\"T_32d143aa_342e_11eb_a3d0_02cba411ec9drow2_col0\" class=\"data row2 col0\" >2020-10-26</td>\n",
       "                        <td id=\"T_32d143aa_342e_11eb_a3d0_02cba411ec9drow2_col1\" class=\"data row2 col1\" >SOFR</td>\n",
       "                        <td id=\"T_32d143aa_342e_11eb_a3d0_02cba411ec9drow2_col2\" class=\"data row2 col2\" >0.0900%</td>\n",
       "                        <td id=\"T_32d143aa_342e_11eb_a3d0_02cba411ec9drow2_col3\" class=\"data row2 col3\" >2020-10-27</td>\n",
       "                        <td id=\"T_32d143aa_342e_11eb_a3d0_02cba411ec9drow2_col4\" class=\"data row2 col4\" >1.000002</td>\n",
       "            </tr>\n",
       "            <tr>\n",
       "                        <th id=\"T_32d143aa_342e_11eb_a3d0_02cba411ec9dlevel0_row3\" class=\"row_heading level0 row3\" >3</th>\n",
       "                        <td id=\"T_32d143aa_342e_11eb_a3d0_02cba411ec9drow3_col0\" class=\"data row3 col0\" >2020-10-23</td>\n",
       "                        <td id=\"T_32d143aa_342e_11eb_a3d0_02cba411ec9drow3_col1\" class=\"data row3 col1\" >SOFR</td>\n",
       "                        <td id=\"T_32d143aa_342e_11eb_a3d0_02cba411ec9drow3_col2\" class=\"data row3 col2\" >0.0800%</td>\n",
       "                        <td id=\"T_32d143aa_342e_11eb_a3d0_02cba411ec9drow3_col3\" class=\"data row3 col3\" >2020-10-26</td>\n",
       "                        <td id=\"T_32d143aa_342e_11eb_a3d0_02cba411ec9drow3_col4\" class=\"data row3 col4\" >1.000007</td>\n",
       "            </tr>\n",
       "            <tr>\n",
       "                        <th id=\"T_32d143aa_342e_11eb_a3d0_02cba411ec9dlevel0_row4\" class=\"row_heading level0 row4\" >4</th>\n",
       "                        <td id=\"T_32d143aa_342e_11eb_a3d0_02cba411ec9drow4_col0\" class=\"data row4 col0\" >2020-10-22</td>\n",
       "                        <td id=\"T_32d143aa_342e_11eb_a3d0_02cba411ec9drow4_col1\" class=\"data row4 col1\" >SOFR</td>\n",
       "                        <td id=\"T_32d143aa_342e_11eb_a3d0_02cba411ec9drow4_col2\" class=\"data row4 col2\" >0.0700%</td>\n",
       "                        <td id=\"T_32d143aa_342e_11eb_a3d0_02cba411ec9drow4_col3\" class=\"data row4 col3\" >2020-10-23</td>\n",
       "                        <td id=\"T_32d143aa_342e_11eb_a3d0_02cba411ec9drow4_col4\" class=\"data row4 col4\" >1.000002</td>\n",
       "            </tr>\n",
       "    </tbody></table>"
      ],
      "text/plain": [
       "<pandas.io.formats.style.Styler at 0x7fbbe657a240>"
      ]
     },
     "execution_count": 60,
     "metadata": {},
     "output_type": "execute_result"
    }
   ],
   "source": [
    "df_fixings.head().style.format({'valor': '{:.4%}'})"
   ]
  },
  {
   "cell_type": "markdown",
   "metadata": {},
   "source": [
    "Veamos donde están en `df_fixings` los valores para `start_date` de `ois` y la fecha 15-6-2020 y calculamos el producto de los factores de capitalización desde esa fecha hasta la última fecha de `df_flujos` (que es el primer registro). Luego, el cociente de los dos factores nos dará el factor entre ambas fechas. Finalmente, con ese factor, se calculará `accrued_rate`."
   ]
  },
  {
   "cell_type": "code",
   "execution_count": 61,
   "metadata": {
    "ExecuteTime": {
     "end_time": "2020-12-01T23:37:42.374631Z",
     "start_time": "2020-12-01T23:37:42.349629Z"
    }
   },
   "outputs": [
    {
     "data": {
      "text/html": [
       "<div>\n",
       "<style scoped>\n",
       "    .dataframe tbody tr th:only-of-type {\n",
       "        vertical-align: middle;\n",
       "    }\n",
       "\n",
       "    .dataframe tbody tr th {\n",
       "        vertical-align: top;\n",
       "    }\n",
       "\n",
       "    .dataframe thead th {\n",
       "        text-align: right;\n",
       "    }\n",
       "</style>\n",
       "<table border=\"1\" class=\"dataframe\">\n",
       "  <thead>\n",
       "    <tr style=\"text-align: right;\">\n",
       "      <th></th>\n",
       "      <th>fecha</th>\n",
       "      <th>nombre</th>\n",
       "      <th>valor</th>\n",
       "      <th>next_fecha</th>\n",
       "      <th>factor_capitalizacion</th>\n",
       "    </tr>\n",
       "  </thead>\n",
       "  <tbody>\n",
       "    <tr>\n",
       "      <th>269</th>\n",
       "      <td>2019-10-01</td>\n",
       "      <td>SOFR</td>\n",
       "      <td>0.0188</td>\n",
       "      <td>2019-10-02</td>\n",
       "      <td>1.000052</td>\n",
       "    </tr>\n",
       "  </tbody>\n",
       "</table>\n",
       "</div>"
      ],
      "text/plain": [
       "          fecha nombre   valor  next_fecha  factor_capitalizacion\n",
       "269  2019-10-01   SOFR  0.0188  2019-10-02               1.000052"
      ]
     },
     "execution_count": 61,
     "metadata": {},
     "output_type": "execute_result"
    }
   ],
   "source": [
    "start_date = ois.start_date.description(False)\n",
    "df_fixings[df_fixings.fecha == start_date]"
   ]
  },
  {
   "cell_type": "code",
   "execution_count": 62,
   "metadata": {
    "ExecuteTime": {
     "end_time": "2020-12-01T23:37:44.115238Z",
     "start_time": "2020-12-01T23:37:44.108816Z"
    }
   },
   "outputs": [
    {
     "name": "stdout",
     "output_type": "stream",
     "text": [
      "1.0075715527341267\n"
     ]
    }
   ],
   "source": [
    "factor_largo = df_fixings.iloc[:270]['factor_capitalizacion'].prod()\n",
    "print(factor_largo)\n",
    "qstart_date = Qcf.build_qcdate_from_string('2019-10-01')"
   ]
  },
  {
   "cell_type": "code",
   "execution_count": 63,
   "metadata": {
    "ExecuteTime": {
     "end_time": "2020-12-01T23:37:45.090496Z",
     "start_time": "2020-12-01T23:37:45.068977Z"
    }
   },
   "outputs": [
    {
     "data": {
      "text/html": [
       "<div>\n",
       "<style scoped>\n",
       "    .dataframe tbody tr th:only-of-type {\n",
       "        vertical-align: middle;\n",
       "    }\n",
       "\n",
       "    .dataframe tbody tr th {\n",
       "        vertical-align: top;\n",
       "    }\n",
       "\n",
       "    .dataframe thead th {\n",
       "        text-align: right;\n",
       "    }\n",
       "</style>\n",
       "<table border=\"1\" class=\"dataframe\">\n",
       "  <thead>\n",
       "    <tr style=\"text-align: right;\">\n",
       "      <th></th>\n",
       "      <th>fecha</th>\n",
       "      <th>nombre</th>\n",
       "      <th>valor</th>\n",
       "      <th>next_fecha</th>\n",
       "      <th>factor_capitalizacion</th>\n",
       "    </tr>\n",
       "  </thead>\n",
       "  <tbody>\n",
       "    <tr>\n",
       "      <th>94</th>\n",
       "      <td>2020-06-15</td>\n",
       "      <td>SOFR</td>\n",
       "      <td>0.0009</td>\n",
       "      <td>2020-06-16</td>\n",
       "      <td>1.000002</td>\n",
       "    </tr>\n",
       "  </tbody>\n",
       "</table>\n",
       "</div>"
      ],
      "text/plain": [
       "         fecha nombre   valor  next_fecha  factor_capitalizacion\n",
       "94  2020-06-15   SOFR  0.0009  2020-06-16               1.000002"
      ]
     },
     "execution_count": 63,
     "metadata": {},
     "output_type": "execute_result"
    }
   ],
   "source": [
    "df_fixings[df_fixings.fecha == '2020-06-15']"
   ]
  },
  {
   "cell_type": "code",
   "execution_count": 64,
   "metadata": {
    "ExecuteTime": {
     "end_time": "2020-12-01T23:37:46.216779Z",
     "start_time": "2020-12-01T23:37:46.209694Z"
    }
   },
   "outputs": [],
   "source": [
    "factor_corto = df_fixings.iloc[:95]['factor_capitalizacion'].prod()\n",
    "qaccrued_date = Qcf.build_qcdate_from_string('2020-06-15')"
   ]
  },
  {
   "cell_type": "code",
   "execution_count": 65,
   "metadata": {
    "ExecuteTime": {
     "end_time": "2020-12-01T23:37:47.123932Z",
     "start_time": "2020-12-01T23:37:47.115930Z"
    }
   },
   "outputs": [
    {
     "name": "stdout",
     "output_type": "stream",
     "text": [
      "La diferencia es: 0.00000000%\n"
     ]
    }
   ],
   "source": [
    "dias = qstart_date.day_diff(qaccrued_date)\n",
    "check_accrued_rate = (factor_largo / factor_corto - 1.0) * 360.0 / dias\n",
    "print(f'La diferencia es: {accrued_rate - check_accrued_rate:.8%}')"
   ]
  },
  {
   "cell_type": "code",
   "execution_count": 66,
   "metadata": {
    "ExecuteTime": {
     "end_time": "2020-12-01T23:37:55.699570Z",
     "start_time": "2020-12-01T23:37:55.692549Z"
    }
   },
   "outputs": [
    {
     "name": "stdout",
     "output_type": "stream",
     "text": [
      "Suma medio punto por obtener resultado.\n",
      "Suma 1 punto por obtener resultado dentro de la tolerancia.\n"
     ]
    }
   ],
   "source": [
    "suma_exito(accrued_rate, check_accrued_rate, 'tasa')"
   ]
  },
  {
   "cell_type": "markdown",
   "metadata": {},
   "source": [
    "### `OisCashflow.accrued_interest`"
   ]
  },
  {
   "cell_type": "code",
   "execution_count": 67,
   "metadata": {
    "ExecuteTime": {
     "end_time": "2020-12-01T23:38:06.032699Z",
     "start_time": "2020-12-01T23:38:05.962538Z"
    }
   },
   "outputs": [
    {
     "name": "stdout",
     "output_type": "stream",
     "text": [
      "accrued interest: 72,377.11\n"
     ]
    }
   ],
   "source": [
    "accrued_interest = ois.get_accrued_interest(Qcf.QCDate(15, 6, 2020), fixings)\n",
    "print(f'accrued interest: {accrued_interest:,.2f}')"
   ]
  },
  {
   "cell_type": "code",
   "execution_count": 68,
   "metadata": {
    "ExecuteTime": {
     "end_time": "2020-12-01T23:38:07.786023Z",
     "start_time": "2020-12-01T23:38:07.779267Z"
    }
   },
   "outputs": [
    {
     "name": "stdout",
     "output_type": "stream",
     "text": [
      "La diferencia es: 0.000000\n"
     ]
    }
   ],
   "source": [
    "check_accrued_interest = ois.notional * accrued_rate * dias / 360.0\n",
    "print(f'La diferencia es: {accrued_interest - check_accrued_interest:,.6f}')"
   ]
  },
  {
   "cell_type": "code",
   "execution_count": 69,
   "metadata": {
    "ExecuteTime": {
     "end_time": "2020-12-01T23:38:10.243250Z",
     "start_time": "2020-12-01T23:38:10.237057Z"
    }
   },
   "outputs": [
    {
     "name": "stdout",
     "output_type": "stream",
     "text": [
      "Suma medio punto por obtener resultado.\n",
      "Suma 1 punto por obtener resultado dentro de la tolerancia.\n"
     ]
    }
   ],
   "source": [
    "suma_exito(accrued_interest, check_accrued_interest, 'monto')"
   ]
  },
  {
   "cell_type": "markdown",
   "metadata": {},
   "source": [
    "### `OisCashflow.amount`"
   ]
  },
  {
   "cell_type": "code",
   "execution_count": 70,
   "metadata": {
    "ExecuteTime": {
     "end_time": "2020-12-01T23:38:12.255807Z",
     "start_time": "2020-12-01T23:38:12.197072Z"
    }
   },
   "outputs": [
    {
     "name": "stdout",
     "output_type": "stream",
     "text": [
      "amount: 1,075,027.05\n"
     ]
    }
   ],
   "source": [
    "amount = ois.amount(fixings)\n",
    "print(f'amount: {amount:,.2f}')"
   ]
  },
  {
   "cell_type": "code",
   "execution_count": 71,
   "metadata": {
    "ExecuteTime": {
     "end_time": "2020-12-01T23:38:18.231136Z",
     "start_time": "2020-12-01T23:38:18.200233Z"
    }
   },
   "outputs": [
    {
     "name": "stdout",
     "output_type": "stream",
     "text": [
      "end date: 2020-10-01\n"
     ]
    },
    {
     "data": {
      "text/html": [
       "<div>\n",
       "<style scoped>\n",
       "    .dataframe tbody tr th:only-of-type {\n",
       "        vertical-align: middle;\n",
       "    }\n",
       "\n",
       "    .dataframe tbody tr th {\n",
       "        vertical-align: top;\n",
       "    }\n",
       "\n",
       "    .dataframe thead th {\n",
       "        text-align: right;\n",
       "    }\n",
       "</style>\n",
       "<table border=\"1\" class=\"dataframe\">\n",
       "  <thead>\n",
       "    <tr style=\"text-align: right;\">\n",
       "      <th></th>\n",
       "      <th>fecha</th>\n",
       "      <th>nombre</th>\n",
       "      <th>valor</th>\n",
       "      <th>next_fecha</th>\n",
       "      <th>factor_capitalizacion</th>\n",
       "    </tr>\n",
       "  </thead>\n",
       "  <tbody>\n",
       "    <tr>\n",
       "      <th>18</th>\n",
       "      <td>2020-10-01</td>\n",
       "      <td>SOFR</td>\n",
       "      <td>0.0008</td>\n",
       "      <td>2020-10-02</td>\n",
       "      <td>1.000002</td>\n",
       "    </tr>\n",
       "  </tbody>\n",
       "</table>\n",
       "</div>"
      ],
      "text/plain": [
       "         fecha nombre   valor  next_fecha  factor_capitalizacion\n",
       "18  2020-10-01   SOFR  0.0008  2020-10-02               1.000002"
      ]
     },
     "execution_count": 71,
     "metadata": {},
     "output_type": "execute_result"
    }
   ],
   "source": [
    "end_date = ois.end_date.description(False)\n",
    "print(f'end date: {end_date}')\n",
    "df_fixings[df_fixings.fecha == end_date]"
   ]
  },
  {
   "cell_type": "code",
   "execution_count": 72,
   "metadata": {
    "ExecuteTime": {
     "end_time": "2020-12-01T23:38:20.500669Z",
     "start_time": "2020-12-01T23:38:20.489392Z"
    }
   },
   "outputs": [
    {
     "name": "stdout",
     "output_type": "stream",
     "text": [
      "La diferencia es: -0.000000\n"
     ]
    }
   ],
   "source": [
    "factor_corto_2 = df_fixings.iloc[:19]['factor_capitalizacion'].prod()\n",
    "dias_2 = qstart_date.day_diff(ois.end_date)\n",
    "accrued_rate_amount = (factor_largo / factor_corto_2- 1.0) * 360.0 / dias_2\n",
    "check_amount = ois.notional * accrued_rate_amount * dias_2 / 360.0 + ois.amortization\n",
    "print(f'La diferencia es: {amount - check_amount:.6f}')"
   ]
  },
  {
   "cell_type": "code",
   "execution_count": 73,
   "metadata": {
    "ExecuteTime": {
     "end_time": "2020-12-01T23:38:24.642623Z",
     "start_time": "2020-12-01T23:38:24.628966Z"
    }
   },
   "outputs": [
    {
     "name": "stdout",
     "output_type": "stream",
     "text": [
      "Suma medio punto por obtener resultado.\n",
      "Suma 1 punto por obtener resultado dentro de la tolerancia.\n"
     ]
    }
   ],
   "source": [
    "suma_exito(amount, check_amount, 'monto')"
   ]
  },
  {
   "cell_type": "markdown",
   "metadata": {},
   "source": [
    "### `set_expected_rate`"
   ]
  },
  {
   "cell_type": "markdown",
   "metadata": {},
   "source": [
    "Comenzamos cargando los valores de la curva cero cupón que se utilizará para hacer pruebas de `set_expected_rate` y `present_value`."
   ]
  },
  {
   "cell_type": "code",
   "execution_count": 74,
   "metadata": {
    "ExecuteTime": {
     "end_time": "2020-12-01T23:38:28.324536Z",
     "start_time": "2020-12-01T23:38:28.291358Z"
    }
   },
   "outputs": [],
   "source": [
    "df_curva = pd.read_excel('../data/20201012_built_sofr_zero.xlsx')"
   ]
  },
  {
   "cell_type": "code",
   "execution_count": 75,
   "metadata": {
    "ExecuteTime": {
     "end_time": "2020-12-01T23:38:29.714937Z",
     "start_time": "2020-12-01T23:38:29.699042Z"
    }
   },
   "outputs": [
    {
     "data": {
      "text/html": [
       "<style  type=\"text/css\" >\n",
       "</style><table id=\"T_51003ef8_342e_11eb_a3d0_02cba411ec9d\" ><thead>    <tr>        <th class=\"blank level0\" ></th>        <th class=\"col_heading level0 col0\" >plazo</th>        <th class=\"col_heading level0 col1\" >tasa</th>        <th class=\"col_heading level0 col2\" >df</th>    </tr></thead><tbody>\n",
       "                <tr>\n",
       "                        <th id=\"T_51003ef8_342e_11eb_a3d0_02cba411ec9dlevel0_row0\" class=\"row_heading level0 row0\" >0</th>\n",
       "                        <td id=\"T_51003ef8_342e_11eb_a3d0_02cba411ec9drow0_col0\" class=\"data row0 col0\" >1</td>\n",
       "                        <td id=\"T_51003ef8_342e_11eb_a3d0_02cba411ec9drow0_col1\" class=\"data row0 col1\" >0.0811%</td>\n",
       "                        <td id=\"T_51003ef8_342e_11eb_a3d0_02cba411ec9drow0_col2\" class=\"data row0 col2\" >99.999778%</td>\n",
       "            </tr>\n",
       "            <tr>\n",
       "                        <th id=\"T_51003ef8_342e_11eb_a3d0_02cba411ec9dlevel0_row1\" class=\"row_heading level0 row1\" >1</th>\n",
       "                        <td id=\"T_51003ef8_342e_11eb_a3d0_02cba411ec9drow1_col0\" class=\"data row1 col0\" >7</td>\n",
       "                        <td id=\"T_51003ef8_342e_11eb_a3d0_02cba411ec9drow1_col1\" class=\"data row1 col1\" >0.0841%</td>\n",
       "                        <td id=\"T_51003ef8_342e_11eb_a3d0_02cba411ec9drow1_col2\" class=\"data row1 col2\" >99.998388%</td>\n",
       "            </tr>\n",
       "            <tr>\n",
       "                        <th id=\"T_51003ef8_342e_11eb_a3d0_02cba411ec9dlevel0_row2\" class=\"row_heading level0 row2\" >2</th>\n",
       "                        <td id=\"T_51003ef8_342e_11eb_a3d0_02cba411ec9drow2_col0\" class=\"data row2 col0\" >14</td>\n",
       "                        <td id=\"T_51003ef8_342e_11eb_a3d0_02cba411ec9drow2_col1\" class=\"data row2 col1\" >0.0780%</td>\n",
       "                        <td id=\"T_51003ef8_342e_11eb_a3d0_02cba411ec9drow2_col2\" class=\"data row2 col2\" >99.997010%</td>\n",
       "            </tr>\n",
       "            <tr>\n",
       "                        <th id=\"T_51003ef8_342e_11eb_a3d0_02cba411ec9dlevel0_row3\" class=\"row_heading level0 row3\" >3</th>\n",
       "                        <td id=\"T_51003ef8_342e_11eb_a3d0_02cba411ec9drow3_col0\" class=\"data row3 col0\" >21</td>\n",
       "                        <td id=\"T_51003ef8_342e_11eb_a3d0_02cba411ec9drow3_col1\" class=\"data row3 col1\" >0.0774%</td>\n",
       "                        <td id=\"T_51003ef8_342e_11eb_a3d0_02cba411ec9drow3_col2\" class=\"data row3 col2\" >99.995549%</td>\n",
       "            </tr>\n",
       "            <tr>\n",
       "                        <th id=\"T_51003ef8_342e_11eb_a3d0_02cba411ec9dlevel0_row4\" class=\"row_heading level0 row4\" >4</th>\n",
       "                        <td id=\"T_51003ef8_342e_11eb_a3d0_02cba411ec9drow4_col0\" class=\"data row4 col0\" >33</td>\n",
       "                        <td id=\"T_51003ef8_342e_11eb_a3d0_02cba411ec9drow4_col1\" class=\"data row4 col1\" >0.0781%</td>\n",
       "                        <td id=\"T_51003ef8_342e_11eb_a3d0_02cba411ec9drow4_col2\" class=\"data row4 col2\" >99.992942%</td>\n",
       "            </tr>\n",
       "    </tbody></table>"
      ],
      "text/plain": [
       "<pandas.io.formats.style.Styler at 0x7fbbaa2a98d0>"
      ]
     },
     "execution_count": 75,
     "metadata": {},
     "output_type": "execute_result"
    }
   ],
   "source": [
    "df_curva.head().style.format({'tasa': '{:.4%}', 'df': '{:.6%}'})"
   ]
  },
  {
   "cell_type": "markdown",
   "metadata": {},
   "source": [
    "Con la data se construye un objeto de tipo `Qcf.ZeroCouponCurve`."
   ]
  },
  {
   "cell_type": "code",
   "execution_count": 76,
   "metadata": {
    "ExecuteTime": {
     "end_time": "2020-12-01T23:38:33.717409Z",
     "start_time": "2020-12-01T23:38:33.699874Z"
    },
    "scrolled": true
   },
   "outputs": [],
   "source": [
    "zcc = aux.get_curve_from_dataframe(Qcf.QCAct365(),Qcf.QCCompoundWf(), df_curva)"
   ]
  },
  {
   "cell_type": "markdown",
   "metadata": {},
   "source": [
    "Comienzan los tests."
   ]
  },
  {
   "cell_type": "code",
   "execution_count": 77,
   "metadata": {
    "ExecuteTime": {
     "end_time": "2020-12-01T23:38:35.502294Z",
     "start_time": "2020-12-01T23:38:35.496288Z"
    }
   },
   "outputs": [
    {
     "name": "stdout",
     "output_type": "stream",
     "text": [
      "Fecha inicial flujo: 2019-10-01\n",
      "Fecha final flujo: 2020-10-01\n"
     ]
    }
   ],
   "source": [
    "print(f'Fecha inicial flujo: {ois.start_date.description(False)}')\n",
    "print(f'Fecha final flujo: {ois.end_date.description(False)}')"
   ]
  },
  {
   "cell_type": "code",
   "execution_count": 80,
   "metadata": {
    "ExecuteTime": {
     "end_time": "2020-12-01T23:41:52.068974Z",
     "start_time": "2020-12-01T23:41:52.007602Z"
    }
   },
   "outputs": [
    {
     "ename": "NameError",
     "evalue": "name 'TasaEsperada' is not defined",
     "output_type": "error",
     "traceback": [
      "\u001b[0;31m---------------------------------------------------------------------------\u001b[0m",
      "\u001b[0;31mNameError\u001b[0m                                 Traceback (most recent call last)",
      "\u001b[0;32m<ipython-input-80-ed87d25cc283>\u001b[0m in \u001b[0;36m<module>\u001b[0;34m\u001b[0m\n\u001b[1;32m      1\u001b[0m \u001b[0;31m# Check primer caso\u001b[0m\u001b[0;34m\u001b[0m\u001b[0;34m\u001b[0m\u001b[0;34m\u001b[0m\u001b[0m\n\u001b[1;32m      2\u001b[0m \u001b[0mval_date\u001b[0m \u001b[0;34m=\u001b[0m \u001b[0mQcf\u001b[0m\u001b[0;34m.\u001b[0m\u001b[0mQCDate\u001b[0m\u001b[0;34m(\u001b[0m\u001b[0;36m1\u001b[0m\u001b[0;34m,\u001b[0m \u001b[0;36m6\u001b[0m\u001b[0;34m,\u001b[0m \u001b[0;36m2019\u001b[0m\u001b[0;34m)\u001b[0m\u001b[0;34m\u001b[0m\u001b[0;34m\u001b[0m\u001b[0m\n\u001b[0;32m----> 3\u001b[0;31m \u001b[0mte\u001b[0m \u001b[0;34m=\u001b[0m \u001b[0mset_expected_rate\u001b[0m\u001b[0;34m(\u001b[0m\u001b[0mval_date\u001b[0m\u001b[0;34m,\u001b[0m \u001b[0mois\u001b[0m\u001b[0;34m,\u001b[0m \u001b[0mfixings\u001b[0m\u001b[0;34m,\u001b[0m \u001b[0mzcc\u001b[0m\u001b[0;34m)\u001b[0m\u001b[0;34m\u001b[0m\u001b[0;34m\u001b[0m\u001b[0m\n\u001b[0m\u001b[1;32m      4\u001b[0m \u001b[0mresultado\u001b[0m \u001b[0;34m=\u001b[0m \u001b[0mois\u001b[0m\u001b[0;34m.\u001b[0m\u001b[0minterest_rate\u001b[0m\u001b[0;34m.\u001b[0m\u001b[0mget_value\u001b[0m\u001b[0;34m(\u001b[0m\u001b[0;34m)\u001b[0m\u001b[0;34m\u001b[0m\u001b[0;34m\u001b[0m\u001b[0m\n\u001b[1;32m      5\u001b[0m \u001b[0mprint\u001b[0m\u001b[0;34m(\u001b[0m\u001b[0;34mf'Tasa esperada es: {resultado:.8%}'\u001b[0m\u001b[0;34m)\u001b[0m\u001b[0;34m\u001b[0m\u001b[0;34m\u001b[0m\u001b[0m\n",
      "\u001b[0;32m<ipython-input-40-99f3b25227a3>\u001b[0m in \u001b[0;36mset_expected_rate\u001b[0;34m(val_date, ois_cashflow, zcc, fixings)\u001b[0m\n\u001b[1;32m      9\u001b[0m     \u001b[0mel\u001b[0m \u001b[0mnotebook\u001b[0m \u001b[0;36m9.\u001b[0m\u001b[0;34m\u001b[0m\u001b[0;34m\u001b[0m\u001b[0m\n\u001b[1;32m     10\u001b[0m     \"\"\"\n\u001b[0;32m---> 11\u001b[0;31m     \u001b[0;32mreturn\u001b[0m \u001b[0mTasaEsperada\u001b[0m\u001b[0;34m\u001b[0m\u001b[0;34m\u001b[0m\u001b[0m\n\u001b[0m",
      "\u001b[0;31mNameError\u001b[0m: name 'TasaEsperada' is not defined"
     ]
    }
   ],
   "source": [
    "# Check primer caso\n",
    "val_date = Qcf.QCDate(1, 6, 2019)\n",
    "te = set_expected_rate(val_date, ois, fixings, zcc)\n",
    "resultado = ois.interest_rate.get_value()\n",
    "print(f'Tasa esperada es: {resultado:.8%}')\n",
    "p1 = val_date.day_diff(ois.start_date)\n",
    "p2 = val_date.day_diff(ois.end_date)\n",
    "df1 = zcc.get_discount_factor_at(p1)\n",
    "df2 = zcc.get_discount_factor_at(p2)\n",
    "check = (df1 / df2 - 1) * 360 / (p2 - p1)\n",
    "print(f'Check tasa esperada es: {check:.8%}')\n",
    "\n",
    "suma_exito(resultado, check, 'tasa')"
   ]
  },
  {
   "cell_type": "code",
   "execution_count": 82,
   "metadata": {
    "ExecuteTime": {
     "end_time": "2020-12-01T23:42:17.279972Z",
     "start_time": "2020-12-01T23:42:17.260015Z"
    }
   },
   "outputs": [
    {
     "ename": "NameError",
     "evalue": "name 'te' is not defined",
     "output_type": "error",
     "traceback": [
      "\u001b[0;31m---------------------------------------------------------------------------\u001b[0m",
      "\u001b[0;31mNameError\u001b[0m                                 Traceback (most recent call last)",
      "\u001b[0;32m<ipython-input-82-8d7d582a2c53>\u001b[0m in \u001b[0;36m<module>\u001b[0;34m\u001b[0m\n\u001b[0;32m----> 1\u001b[0;31m \u001b[0mprint\u001b[0m\u001b[0;34m(\u001b[0m\u001b[0mte\u001b[0m\u001b[0;34m)\u001b[0m\u001b[0;34m\u001b[0m\u001b[0;34m\u001b[0m\u001b[0m\n\u001b[0m",
      "\u001b[0;31mNameError\u001b[0m: name 'te' is not defined"
     ]
    }
   ],
   "source": [
    "print(te)"
   ]
  },
  {
   "cell_type": "code",
   "execution_count": 83,
   "metadata": {
    "ExecuteTime": {
     "end_time": "2020-12-01T23:42:24.817274Z",
     "start_time": "2020-12-01T23:42:24.778897Z"
    }
   },
   "outputs": [
    {
     "ename": "NameError",
     "evalue": "name 'TasaEsperada' is not defined",
     "output_type": "error",
     "traceback": [
      "\u001b[0;31m---------------------------------------------------------------------------\u001b[0m",
      "\u001b[0;31mNameError\u001b[0m                                 Traceback (most recent call last)",
      "\u001b[0;32m<ipython-input-83-3cd413be66df>\u001b[0m in \u001b[0;36m<module>\u001b[0;34m\u001b[0m\n\u001b[1;32m      1\u001b[0m \u001b[0;31m# Check segundo caso borde\u001b[0m\u001b[0;34m\u001b[0m\u001b[0;34m\u001b[0m\u001b[0;34m\u001b[0m\u001b[0m\n\u001b[1;32m      2\u001b[0m \u001b[0mval_date\u001b[0m \u001b[0;34m=\u001b[0m \u001b[0mQcf\u001b[0m\u001b[0;34m.\u001b[0m\u001b[0mQCDate\u001b[0m\u001b[0;34m(\u001b[0m\u001b[0;36m1\u001b[0m\u001b[0;34m,\u001b[0m \u001b[0;36m10\u001b[0m\u001b[0;34m,\u001b[0m \u001b[0;36m2019\u001b[0m\u001b[0;34m)\u001b[0m\u001b[0;34m\u001b[0m\u001b[0;34m\u001b[0m\u001b[0m\n\u001b[0;32m----> 3\u001b[0;31m \u001b[0mset_expected_rate\u001b[0m\u001b[0;34m(\u001b[0m\u001b[0mval_date\u001b[0m\u001b[0;34m,\u001b[0m \u001b[0mois\u001b[0m\u001b[0;34m,\u001b[0m \u001b[0mfixings\u001b[0m\u001b[0;34m,\u001b[0m \u001b[0mzcc\u001b[0m\u001b[0;34m)\u001b[0m\u001b[0;34m\u001b[0m\u001b[0;34m\u001b[0m\u001b[0m\n\u001b[0m\u001b[1;32m      4\u001b[0m \u001b[0mresultado\u001b[0m \u001b[0;34m=\u001b[0m \u001b[0mois\u001b[0m\u001b[0;34m.\u001b[0m\u001b[0minterest_rate\u001b[0m\u001b[0;34m.\u001b[0m\u001b[0mget_value\u001b[0m\u001b[0;34m(\u001b[0m\u001b[0;34m)\u001b[0m\u001b[0;34m\u001b[0m\u001b[0;34m\u001b[0m\u001b[0m\n\u001b[1;32m      5\u001b[0m \u001b[0mprint\u001b[0m\u001b[0;34m(\u001b[0m\u001b[0;34mf'Tasa esperada es: {resultado:.8%}'\u001b[0m\u001b[0;34m)\u001b[0m\u001b[0;34m\u001b[0m\u001b[0;34m\u001b[0m\u001b[0m\n",
      "\u001b[0;32m<ipython-input-40-99f3b25227a3>\u001b[0m in \u001b[0;36mset_expected_rate\u001b[0;34m(val_date, ois_cashflow, zcc, fixings)\u001b[0m\n\u001b[1;32m      9\u001b[0m     \u001b[0mel\u001b[0m \u001b[0mnotebook\u001b[0m \u001b[0;36m9.\u001b[0m\u001b[0;34m\u001b[0m\u001b[0;34m\u001b[0m\u001b[0m\n\u001b[1;32m     10\u001b[0m     \"\"\"\n\u001b[0;32m---> 11\u001b[0;31m     \u001b[0;32mreturn\u001b[0m \u001b[0mTasaEsperada\u001b[0m\u001b[0;34m\u001b[0m\u001b[0;34m\u001b[0m\u001b[0m\n\u001b[0m",
      "\u001b[0;31mNameError\u001b[0m: name 'TasaEsperada' is not defined"
     ]
    }
   ],
   "source": [
    "# Check segundo caso borde\n",
    "val_date = Qcf.QCDate(1, 10, 2019)\n",
    "set_expected_rate(val_date, ois, fixings, zcc)\n",
    "resultado = ois.interest_rate.get_value()\n",
    "print(f'Tasa esperada es: {resultado:.8%}')\n",
    "p1 = val_date.day_diff(ois.start_date)\n",
    "p2 = val_date.day_diff(ois.end_date)\n",
    "df1 = zcc.get_discount_factor_at(p1)\n",
    "df2 = zcc.get_discount_factor_at(p2)\n",
    "check = (df1 / df2 - 1) * 360 / (p2 - p1)\n",
    "print(f'Check tasa esperada es: {check:.8%}')\n",
    "\n",
    "suma_exito(resultado, check, 'tasa')"
   ]
  },
  {
   "cell_type": "code",
   "execution_count": 84,
   "metadata": {
    "ExecuteTime": {
     "end_time": "2020-12-01T23:42:26.863776Z",
     "start_time": "2020-12-01T23:42:26.838870Z"
    }
   },
   "outputs": [
    {
     "ename": "NameError",
     "evalue": "name 'TasaEsperada' is not defined",
     "output_type": "error",
     "traceback": [
      "\u001b[0;31m---------------------------------------------------------------------------\u001b[0m",
      "\u001b[0;31mNameError\u001b[0m                                 Traceback (most recent call last)",
      "\u001b[0;32m<ipython-input-84-78892b3db4de>\u001b[0m in \u001b[0;36m<module>\u001b[0;34m\u001b[0m\n\u001b[1;32m      1\u001b[0m \u001b[0;31m# Check segundo caso\u001b[0m\u001b[0;34m\u001b[0m\u001b[0;34m\u001b[0m\u001b[0;34m\u001b[0m\u001b[0m\n\u001b[1;32m      2\u001b[0m \u001b[0mval_date\u001b[0m \u001b[0;34m=\u001b[0m \u001b[0mQcf\u001b[0m\u001b[0;34m.\u001b[0m\u001b[0mQCDate\u001b[0m\u001b[0;34m(\u001b[0m\u001b[0;36m1\u001b[0m\u001b[0;34m,\u001b[0m \u001b[0;36m11\u001b[0m\u001b[0;34m,\u001b[0m \u001b[0;36m2019\u001b[0m\u001b[0;34m)\u001b[0m\u001b[0;34m\u001b[0m\u001b[0;34m\u001b[0m\u001b[0m\n\u001b[0;32m----> 3\u001b[0;31m \u001b[0mset_expected_rate\u001b[0m\u001b[0;34m(\u001b[0m\u001b[0mval_date\u001b[0m\u001b[0;34m,\u001b[0m \u001b[0mois\u001b[0m\u001b[0;34m,\u001b[0m \u001b[0mfixings\u001b[0m\u001b[0;34m,\u001b[0m \u001b[0mzcc\u001b[0m\u001b[0;34m)\u001b[0m\u001b[0;34m\u001b[0m\u001b[0;34m\u001b[0m\u001b[0m\n\u001b[0m\u001b[1;32m      4\u001b[0m \u001b[0mresultado\u001b[0m \u001b[0;34m=\u001b[0m \u001b[0mois\u001b[0m\u001b[0;34m.\u001b[0m\u001b[0minterest_rate\u001b[0m\u001b[0;34m.\u001b[0m\u001b[0mget_value\u001b[0m\u001b[0;34m(\u001b[0m\u001b[0;34m)\u001b[0m\u001b[0;34m\u001b[0m\u001b[0;34m\u001b[0m\u001b[0m\n\u001b[1;32m      5\u001b[0m \u001b[0mprint\u001b[0m\u001b[0;34m(\u001b[0m\u001b[0;34mf'Tasa esperada es: {resultado:.8%}'\u001b[0m\u001b[0;34m)\u001b[0m\u001b[0;34m\u001b[0m\u001b[0;34m\u001b[0m\u001b[0m\n",
      "\u001b[0;32m<ipython-input-40-99f3b25227a3>\u001b[0m in \u001b[0;36mset_expected_rate\u001b[0;34m(val_date, ois_cashflow, zcc, fixings)\u001b[0m\n\u001b[1;32m      9\u001b[0m     \u001b[0mel\u001b[0m \u001b[0mnotebook\u001b[0m \u001b[0;36m9.\u001b[0m\u001b[0;34m\u001b[0m\u001b[0;34m\u001b[0m\u001b[0m\n\u001b[1;32m     10\u001b[0m     \"\"\"\n\u001b[0;32m---> 11\u001b[0;31m     \u001b[0;32mreturn\u001b[0m \u001b[0mTasaEsperada\u001b[0m\u001b[0;34m\u001b[0m\u001b[0;34m\u001b[0m\u001b[0m\n\u001b[0m",
      "\u001b[0;31mNameError\u001b[0m: name 'TasaEsperada' is not defined"
     ]
    }
   ],
   "source": [
    "# Check segundo caso\n",
    "val_date = Qcf.QCDate(1, 11, 2019)\n",
    "set_expected_rate(val_date, ois, fixings, zcc)\n",
    "resultado = ois.interest_rate.get_value()\n",
    "print(f'Tasa esperada es: {resultado:.8%}')\n",
    "p1 = ois.start_date.day_diff(val_date)\n",
    "p2 = val_date.day_diff(ois.end_date)\n",
    "wf1 = 1 + ois.get_accrued_interest(val_date, fixings) / ois.notional\n",
    "wf2 = 1 / zcc.get_discount_factor_at(p2)\n",
    "check = (wf1 * wf2 - 1) * 360 / (p1 + p2)\n",
    "print(f'Check tasa esperada es: {check:.8%}')\n",
    "\n",
    "suma_exito(resultado, check, 'tasa')"
   ]
  },
  {
   "cell_type": "code",
   "execution_count": 85,
   "metadata": {
    "ExecuteTime": {
     "end_time": "2020-12-01T23:42:28.730876Z",
     "start_time": "2020-12-01T23:42:28.678610Z"
    }
   },
   "outputs": [
    {
     "ename": "NameError",
     "evalue": "name 'TasaEsperada' is not defined",
     "output_type": "error",
     "traceback": [
      "\u001b[0;31m---------------------------------------------------------------------------\u001b[0m",
      "\u001b[0;31mNameError\u001b[0m                                 Traceback (most recent call last)",
      "\u001b[0;32m<ipython-input-85-13131794e717>\u001b[0m in \u001b[0;36m<module>\u001b[0;34m\u001b[0m\n\u001b[1;32m      1\u001b[0m \u001b[0;31m# Check tercer caso borde\u001b[0m\u001b[0;34m\u001b[0m\u001b[0;34m\u001b[0m\u001b[0;34m\u001b[0m\u001b[0m\n\u001b[1;32m      2\u001b[0m \u001b[0mval_date\u001b[0m \u001b[0;34m=\u001b[0m \u001b[0mQcf\u001b[0m\u001b[0;34m.\u001b[0m\u001b[0mQCDate\u001b[0m\u001b[0;34m(\u001b[0m\u001b[0;36m1\u001b[0m\u001b[0;34m,\u001b[0m \u001b[0;36m10\u001b[0m\u001b[0;34m,\u001b[0m \u001b[0;36m2020\u001b[0m\u001b[0;34m)\u001b[0m\u001b[0;34m\u001b[0m\u001b[0;34m\u001b[0m\u001b[0m\n\u001b[0;32m----> 3\u001b[0;31m \u001b[0mset_expected_rate\u001b[0m\u001b[0;34m(\u001b[0m\u001b[0mval_date\u001b[0m\u001b[0;34m,\u001b[0m \u001b[0mois\u001b[0m\u001b[0;34m,\u001b[0m \u001b[0mfixings\u001b[0m\u001b[0;34m,\u001b[0m \u001b[0mzcc\u001b[0m\u001b[0;34m)\u001b[0m\u001b[0;34m\u001b[0m\u001b[0;34m\u001b[0m\u001b[0m\n\u001b[0m\u001b[1;32m      4\u001b[0m \u001b[0mresultado\u001b[0m \u001b[0;34m=\u001b[0m \u001b[0mois\u001b[0m\u001b[0;34m.\u001b[0m\u001b[0minterest_rate\u001b[0m\u001b[0;34m.\u001b[0m\u001b[0mget_value\u001b[0m\u001b[0;34m(\u001b[0m\u001b[0;34m)\u001b[0m\u001b[0;34m\u001b[0m\u001b[0;34m\u001b[0m\u001b[0m\n\u001b[1;32m      5\u001b[0m \u001b[0mprint\u001b[0m\u001b[0;34m(\u001b[0m\u001b[0;34mf'Tasa esperada es: {resultado:.8%}'\u001b[0m\u001b[0;34m)\u001b[0m\u001b[0;34m\u001b[0m\u001b[0;34m\u001b[0m\u001b[0m\n",
      "\u001b[0;32m<ipython-input-40-99f3b25227a3>\u001b[0m in \u001b[0;36mset_expected_rate\u001b[0;34m(val_date, ois_cashflow, zcc, fixings)\u001b[0m\n\u001b[1;32m      9\u001b[0m     \u001b[0mel\u001b[0m \u001b[0mnotebook\u001b[0m \u001b[0;36m9.\u001b[0m\u001b[0;34m\u001b[0m\u001b[0;34m\u001b[0m\u001b[0m\n\u001b[1;32m     10\u001b[0m     \"\"\"\n\u001b[0;32m---> 11\u001b[0;31m     \u001b[0;32mreturn\u001b[0m \u001b[0mTasaEsperada\u001b[0m\u001b[0;34m\u001b[0m\u001b[0;34m\u001b[0m\u001b[0m\n\u001b[0m",
      "\u001b[0;31mNameError\u001b[0m: name 'TasaEsperada' is not defined"
     ]
    }
   ],
   "source": [
    "# Check tercer caso borde\n",
    "val_date = Qcf.QCDate(1, 10, 2020)\n",
    "set_expected_rate(val_date, ois, fixings, zcc)\n",
    "resultado = ois.interest_rate.get_value()\n",
    "print(f'Tasa esperada es: {resultado:.8%}')\n",
    "check = ois.get_accrued_rate(val_date, fixings)\n",
    "print(f'Check tasa esperada es: {check:.8%}')\n",
    "\n",
    "suma_exito(resultado, check, 'tasa')"
   ]
  },
  {
   "cell_type": "code",
   "execution_count": 86,
   "metadata": {
    "ExecuteTime": {
     "end_time": "2020-12-01T23:42:30.946005Z",
     "start_time": "2020-12-01T23:42:30.899463Z"
    }
   },
   "outputs": [
    {
     "ename": "NameError",
     "evalue": "name 'TasaEsperada' is not defined",
     "output_type": "error",
     "traceback": [
      "\u001b[0;31m---------------------------------------------------------------------------\u001b[0m",
      "\u001b[0;31mNameError\u001b[0m                                 Traceback (most recent call last)",
      "\u001b[0;32m<ipython-input-86-3c955cfb9ce0>\u001b[0m in \u001b[0;36m<module>\u001b[0;34m\u001b[0m\n\u001b[1;32m      1\u001b[0m \u001b[0;31m# Check tercer caso\u001b[0m\u001b[0;34m\u001b[0m\u001b[0;34m\u001b[0m\u001b[0;34m\u001b[0m\u001b[0m\n\u001b[1;32m      2\u001b[0m \u001b[0mval_date\u001b[0m \u001b[0;34m=\u001b[0m \u001b[0mQcf\u001b[0m\u001b[0;34m.\u001b[0m\u001b[0mQCDate\u001b[0m\u001b[0;34m(\u001b[0m\u001b[0;36m15\u001b[0m\u001b[0;34m,\u001b[0m \u001b[0;36m10\u001b[0m\u001b[0;34m,\u001b[0m \u001b[0;36m2020\u001b[0m\u001b[0;34m)\u001b[0m\u001b[0;34m\u001b[0m\u001b[0;34m\u001b[0m\u001b[0m\n\u001b[0;32m----> 3\u001b[0;31m \u001b[0mset_expected_rate\u001b[0m\u001b[0;34m(\u001b[0m\u001b[0mval_date\u001b[0m\u001b[0;34m,\u001b[0m \u001b[0mois\u001b[0m\u001b[0;34m,\u001b[0m \u001b[0mfixings\u001b[0m\u001b[0;34m,\u001b[0m \u001b[0mzcc\u001b[0m\u001b[0;34m)\u001b[0m\u001b[0;34m\u001b[0m\u001b[0;34m\u001b[0m\u001b[0m\n\u001b[0m\u001b[1;32m      4\u001b[0m \u001b[0mresultado\u001b[0m \u001b[0;34m=\u001b[0m \u001b[0mois\u001b[0m\u001b[0;34m.\u001b[0m\u001b[0minterest_rate\u001b[0m\u001b[0;34m.\u001b[0m\u001b[0mget_value\u001b[0m\u001b[0;34m(\u001b[0m\u001b[0;34m)\u001b[0m\u001b[0;34m\u001b[0m\u001b[0;34m\u001b[0m\u001b[0m\n\u001b[1;32m      5\u001b[0m \u001b[0mprint\u001b[0m\u001b[0;34m(\u001b[0m\u001b[0;34mf'Tasa esperada es: {resultado:.8%}'\u001b[0m\u001b[0;34m)\u001b[0m\u001b[0;34m\u001b[0m\u001b[0;34m\u001b[0m\u001b[0m\n",
      "\u001b[0;32m<ipython-input-40-99f3b25227a3>\u001b[0m in \u001b[0;36mset_expected_rate\u001b[0;34m(val_date, ois_cashflow, zcc, fixings)\u001b[0m\n\u001b[1;32m      9\u001b[0m     \u001b[0mel\u001b[0m \u001b[0mnotebook\u001b[0m \u001b[0;36m9.\u001b[0m\u001b[0;34m\u001b[0m\u001b[0;34m\u001b[0m\u001b[0m\n\u001b[1;32m     10\u001b[0m     \"\"\"\n\u001b[0;32m---> 11\u001b[0;31m     \u001b[0;32mreturn\u001b[0m \u001b[0mTasaEsperada\u001b[0m\u001b[0;34m\u001b[0m\u001b[0;34m\u001b[0m\u001b[0m\n\u001b[0m",
      "\u001b[0;31mNameError\u001b[0m: name 'TasaEsperada' is not defined"
     ]
    }
   ],
   "source": [
    "# Check tercer caso\n",
    "val_date = Qcf.QCDate(15, 10, 2020)\n",
    "set_expected_rate(val_date, ois, fixings, zcc)\n",
    "resultado = ois.interest_rate.get_value()\n",
    "print(f'Tasa esperada es: {resultado:.8%}')\n",
    "check = ois.get_accrued_rate(ois.end_date, fixings)\n",
    "print(f'Check tasa esperada es: {check:.8%}')\n",
    "\n",
    "suma_exito(resultado, check, 'tasa')"
   ]
  },
  {
   "cell_type": "markdown",
   "metadata": {},
   "source": [
    "### `present_value`"
   ]
  },
  {
   "cell_type": "code",
   "execution_count": 87,
   "metadata": {
    "ExecuteTime": {
     "end_time": "2020-12-01T23:42:38.750316Z",
     "start_time": "2020-12-01T23:42:38.726981Z"
    }
   },
   "outputs": [
    {
     "ename": "NameError",
     "evalue": "name 'TasaEsperada' is not defined",
     "output_type": "error",
     "traceback": [
      "\u001b[0;31m---------------------------------------------------------------------------\u001b[0m",
      "\u001b[0;31mNameError\u001b[0m                                 Traceback (most recent call last)",
      "\u001b[0;32m<ipython-input-87-4f0160431073>\u001b[0m in \u001b[0;36m<module>\u001b[0;34m\u001b[0m\n\u001b[1;32m      1\u001b[0m \u001b[0;31m# Check primer caso\u001b[0m\u001b[0;34m\u001b[0m\u001b[0;34m\u001b[0m\u001b[0;34m\u001b[0m\u001b[0m\n\u001b[1;32m      2\u001b[0m \u001b[0mval_date\u001b[0m \u001b[0;34m=\u001b[0m \u001b[0mQcf\u001b[0m\u001b[0;34m.\u001b[0m\u001b[0mQCDate\u001b[0m\u001b[0;34m(\u001b[0m\u001b[0;36m1\u001b[0m\u001b[0;34m,\u001b[0m \u001b[0;36m6\u001b[0m\u001b[0;34m,\u001b[0m \u001b[0;36m2019\u001b[0m\u001b[0;34m)\u001b[0m\u001b[0;34m\u001b[0m\u001b[0;34m\u001b[0m\u001b[0m\n\u001b[0;32m----> 3\u001b[0;31m \u001b[0mset_expected_rate\u001b[0m\u001b[0;34m(\u001b[0m\u001b[0mval_date\u001b[0m\u001b[0;34m,\u001b[0m \u001b[0mois\u001b[0m\u001b[0;34m,\u001b[0m \u001b[0mfixings\u001b[0m\u001b[0;34m,\u001b[0m \u001b[0mzcc\u001b[0m\u001b[0;34m)\u001b[0m\u001b[0;34m\u001b[0m\u001b[0;34m\u001b[0m\u001b[0m\n\u001b[0m\u001b[1;32m      4\u001b[0m \u001b[0mpv\u001b[0m \u001b[0;34m=\u001b[0m \u001b[0mpresent_value\u001b[0m\u001b[0;34m(\u001b[0m\u001b[0mval_date\u001b[0m\u001b[0;34m,\u001b[0m \u001b[0mois\u001b[0m\u001b[0;34m,\u001b[0m \u001b[0mzcc\u001b[0m\u001b[0;34m)\u001b[0m\u001b[0;34m\u001b[0m\u001b[0;34m\u001b[0m\u001b[0m\n\u001b[1;32m      5\u001b[0m \u001b[0mprint\u001b[0m\u001b[0;34m(\u001b[0m\u001b[0;34mf'Valor presente es: {pv:,.4f}'\u001b[0m\u001b[0;34m)\u001b[0m\u001b[0;34m\u001b[0m\u001b[0;34m\u001b[0m\u001b[0m\n",
      "\u001b[0;32m<ipython-input-40-99f3b25227a3>\u001b[0m in \u001b[0;36mset_expected_rate\u001b[0;34m(val_date, ois_cashflow, zcc, fixings)\u001b[0m\n\u001b[1;32m      9\u001b[0m     \u001b[0mel\u001b[0m \u001b[0mnotebook\u001b[0m \u001b[0;36m9.\u001b[0m\u001b[0;34m\u001b[0m\u001b[0;34m\u001b[0m\u001b[0m\n\u001b[1;32m     10\u001b[0m     \"\"\"\n\u001b[0;32m---> 11\u001b[0;31m     \u001b[0;32mreturn\u001b[0m \u001b[0mTasaEsperada\u001b[0m\u001b[0;34m\u001b[0m\u001b[0;34m\u001b[0m\u001b[0m\n\u001b[0m",
      "\u001b[0;31mNameError\u001b[0m: name 'TasaEsperada' is not defined"
     ]
    }
   ],
   "source": [
    "# Check primer caso\n",
    "val_date = Qcf.QCDate(1, 6, 2019)\n",
    "set_expected_rate(val_date, ois, fixings, zcc)\n",
    "pv = present_value(val_date, ois, zcc)\n",
    "print(f'Valor presente es: {pv:,.4f}')\n",
    "amount = ois.amount()\n",
    "print(f'Amount: {amount:,.4f}')\n",
    "amount = ois.amount()\n",
    "plazo = val_date.day_diff(ois.settlement_date)\n",
    "df = zcc.get_discount_factor_at(plazo)\n",
    "print(f'Df: {df:.6%}')\n",
    "vp_check = df * amount\n",
    "print(f'VP check es: {vp_check:,.4f}')\n",
    "\n",
    "suma_exito(pv, vp_check, 'monto')"
   ]
  },
  {
   "cell_type": "code",
   "execution_count": 88,
   "metadata": {
    "ExecuteTime": {
     "end_time": "2020-12-01T23:42:45.604426Z",
     "start_time": "2020-12-01T23:42:45.579631Z"
    }
   },
   "outputs": [
    {
     "ename": "NameError",
     "evalue": "name 'TasaEsperada' is not defined",
     "output_type": "error",
     "traceback": [
      "\u001b[0;31m---------------------------------------------------------------------------\u001b[0m",
      "\u001b[0;31mNameError\u001b[0m                                 Traceback (most recent call last)",
      "\u001b[0;32m<ipython-input-88-9658e49590a5>\u001b[0m in \u001b[0;36m<module>\u001b[0;34m\u001b[0m\n\u001b[1;32m      1\u001b[0m \u001b[0;31m# Check segundo caso borde\u001b[0m\u001b[0;34m\u001b[0m\u001b[0;34m\u001b[0m\u001b[0;34m\u001b[0m\u001b[0m\n\u001b[1;32m      2\u001b[0m \u001b[0mval_date\u001b[0m \u001b[0;34m=\u001b[0m \u001b[0mQcf\u001b[0m\u001b[0;34m.\u001b[0m\u001b[0mQCDate\u001b[0m\u001b[0;34m(\u001b[0m\u001b[0;36m1\u001b[0m\u001b[0;34m,\u001b[0m \u001b[0;36m10\u001b[0m\u001b[0;34m,\u001b[0m \u001b[0;36m2019\u001b[0m\u001b[0;34m)\u001b[0m\u001b[0;34m\u001b[0m\u001b[0;34m\u001b[0m\u001b[0m\n\u001b[0;32m----> 3\u001b[0;31m \u001b[0mset_expected_rate\u001b[0m\u001b[0;34m(\u001b[0m\u001b[0mval_date\u001b[0m\u001b[0;34m,\u001b[0m \u001b[0mois\u001b[0m\u001b[0;34m,\u001b[0m \u001b[0mfixings\u001b[0m\u001b[0;34m,\u001b[0m \u001b[0mzcc\u001b[0m\u001b[0;34m)\u001b[0m\u001b[0;34m\u001b[0m\u001b[0;34m\u001b[0m\u001b[0m\n\u001b[0m\u001b[1;32m      4\u001b[0m \u001b[0mpv\u001b[0m \u001b[0;34m=\u001b[0m \u001b[0mpresent_value\u001b[0m\u001b[0;34m(\u001b[0m\u001b[0mval_date\u001b[0m\u001b[0;34m,\u001b[0m \u001b[0mois\u001b[0m\u001b[0;34m,\u001b[0m \u001b[0mzcc\u001b[0m\u001b[0;34m)\u001b[0m\u001b[0;34m\u001b[0m\u001b[0;34m\u001b[0m\u001b[0m\n\u001b[1;32m      5\u001b[0m \u001b[0mprint\u001b[0m\u001b[0;34m(\u001b[0m\u001b[0;34mf'Valor presente es: {pv:,.4f}'\u001b[0m\u001b[0;34m)\u001b[0m\u001b[0;34m\u001b[0m\u001b[0;34m\u001b[0m\u001b[0m\n",
      "\u001b[0;32m<ipython-input-40-99f3b25227a3>\u001b[0m in \u001b[0;36mset_expected_rate\u001b[0;34m(val_date, ois_cashflow, zcc, fixings)\u001b[0m\n\u001b[1;32m      9\u001b[0m     \u001b[0mel\u001b[0m \u001b[0mnotebook\u001b[0m \u001b[0;36m9.\u001b[0m\u001b[0;34m\u001b[0m\u001b[0;34m\u001b[0m\u001b[0m\n\u001b[1;32m     10\u001b[0m     \"\"\"\n\u001b[0;32m---> 11\u001b[0;31m     \u001b[0;32mreturn\u001b[0m \u001b[0mTasaEsperada\u001b[0m\u001b[0;34m\u001b[0m\u001b[0;34m\u001b[0m\u001b[0m\n\u001b[0m",
      "\u001b[0;31mNameError\u001b[0m: name 'TasaEsperada' is not defined"
     ]
    }
   ],
   "source": [
    "# Check segundo caso borde\n",
    "val_date = Qcf.QCDate(1, 10, 2019)\n",
    "set_expected_rate(val_date, ois, fixings, zcc)\n",
    "pv = present_value(val_date, ois, zcc)\n",
    "print(f'Valor presente es: {pv:,.4f}')\n",
    "amount = ois.amount()\n",
    "print(f'Amount: {amount:,.4f}')\n",
    "amount = ois.amount()\n",
    "plazo = val_date.day_diff(ois.settlement_date)\n",
    "df = zcc.get_discount_factor_at(plazo)\n",
    "print(f'Df: {df:.6%}')\n",
    "vp_check = df * amount\n",
    "print(f'VP check es: {vp_check:,.4f}')\n",
    "\n",
    "suma_exito(pv, vp_check, 'monto')"
   ]
  },
  {
   "cell_type": "code",
   "execution_count": 89,
   "metadata": {
    "ExecuteTime": {
     "end_time": "2020-12-01T23:42:47.310096Z",
     "start_time": "2020-12-01T23:42:47.254778Z"
    }
   },
   "outputs": [
    {
     "ename": "NameError",
     "evalue": "name 'TasaEsperada' is not defined",
     "output_type": "error",
     "traceback": [
      "\u001b[0;31m---------------------------------------------------------------------------\u001b[0m",
      "\u001b[0;31mNameError\u001b[0m                                 Traceback (most recent call last)",
      "\u001b[0;32m<ipython-input-89-21b8241a3f80>\u001b[0m in \u001b[0;36m<module>\u001b[0;34m\u001b[0m\n\u001b[1;32m      1\u001b[0m \u001b[0;31m# Check segundo caso\u001b[0m\u001b[0;34m\u001b[0m\u001b[0;34m\u001b[0m\u001b[0;34m\u001b[0m\u001b[0m\n\u001b[1;32m      2\u001b[0m \u001b[0mval_date\u001b[0m \u001b[0;34m=\u001b[0m \u001b[0mQcf\u001b[0m\u001b[0;34m.\u001b[0m\u001b[0mQCDate\u001b[0m\u001b[0;34m(\u001b[0m\u001b[0;36m1\u001b[0m\u001b[0;34m,\u001b[0m \u001b[0;36m11\u001b[0m\u001b[0;34m,\u001b[0m \u001b[0;36m2019\u001b[0m\u001b[0;34m)\u001b[0m\u001b[0;34m\u001b[0m\u001b[0;34m\u001b[0m\u001b[0m\n\u001b[0;32m----> 3\u001b[0;31m \u001b[0mset_expected_rate\u001b[0m\u001b[0;34m(\u001b[0m\u001b[0mval_date\u001b[0m\u001b[0;34m,\u001b[0m \u001b[0mois\u001b[0m\u001b[0;34m,\u001b[0m \u001b[0mfixings\u001b[0m\u001b[0;34m,\u001b[0m \u001b[0mzcc\u001b[0m\u001b[0;34m)\u001b[0m\u001b[0;34m\u001b[0m\u001b[0;34m\u001b[0m\u001b[0m\n\u001b[0m\u001b[1;32m      4\u001b[0m \u001b[0mpv\u001b[0m \u001b[0;34m=\u001b[0m \u001b[0mpresent_value\u001b[0m\u001b[0;34m(\u001b[0m\u001b[0mval_date\u001b[0m\u001b[0;34m,\u001b[0m \u001b[0mois\u001b[0m\u001b[0;34m,\u001b[0m \u001b[0mzcc\u001b[0m\u001b[0;34m)\u001b[0m\u001b[0;34m\u001b[0m\u001b[0;34m\u001b[0m\u001b[0m\n\u001b[1;32m      5\u001b[0m \u001b[0mprint\u001b[0m\u001b[0;34m(\u001b[0m\u001b[0;34mf'Valor presente es: {pv:,.4f}'\u001b[0m\u001b[0;34m)\u001b[0m\u001b[0;34m\u001b[0m\u001b[0;34m\u001b[0m\u001b[0m\n",
      "\u001b[0;32m<ipython-input-40-99f3b25227a3>\u001b[0m in \u001b[0;36mset_expected_rate\u001b[0;34m(val_date, ois_cashflow, zcc, fixings)\u001b[0m\n\u001b[1;32m      9\u001b[0m     \u001b[0mel\u001b[0m \u001b[0mnotebook\u001b[0m \u001b[0;36m9.\u001b[0m\u001b[0;34m\u001b[0m\u001b[0;34m\u001b[0m\u001b[0m\n\u001b[1;32m     10\u001b[0m     \"\"\"\n\u001b[0;32m---> 11\u001b[0;31m     \u001b[0;32mreturn\u001b[0m \u001b[0mTasaEsperada\u001b[0m\u001b[0;34m\u001b[0m\u001b[0;34m\u001b[0m\u001b[0m\n\u001b[0m",
      "\u001b[0;31mNameError\u001b[0m: name 'TasaEsperada' is not defined"
     ]
    }
   ],
   "source": [
    "# Check segundo caso\n",
    "val_date = Qcf.QCDate(1, 11, 2019)\n",
    "set_expected_rate(val_date, ois, fixings, zcc)\n",
    "pv = present_value(val_date, ois, zcc)\n",
    "print(f'Valor presente es: {pv:,.4f}')\n",
    "amount = ois.amount()\n",
    "print(f'Amount: {amount:,.4f}')\n",
    "amount = ois.amount()\n",
    "plazo = val_date.day_diff(ois.settlement_date)\n",
    "df = zcc.get_discount_factor_at(plazo)\n",
    "print(f'Df: {df:.6%}')\n",
    "vp_check = df * amount\n",
    "print(f'VP check es: {vp_check:,.4f}')\n",
    "\n",
    "suma_exito(pv, vp_check, 'monto')"
   ]
  },
  {
   "cell_type": "code",
   "execution_count": 90,
   "metadata": {
    "ExecuteTime": {
     "end_time": "2020-12-01T23:42:49.252591Z",
     "start_time": "2020-12-01T23:42:49.146828Z"
    }
   },
   "outputs": [
    {
     "ename": "NameError",
     "evalue": "name 'TasaEsperada' is not defined",
     "output_type": "error",
     "traceback": [
      "\u001b[0;31m---------------------------------------------------------------------------\u001b[0m",
      "\u001b[0;31mNameError\u001b[0m                                 Traceback (most recent call last)",
      "\u001b[0;32m<ipython-input-90-b30b1a6a077b>\u001b[0m in \u001b[0;36m<module>\u001b[0;34m\u001b[0m\n\u001b[1;32m      1\u001b[0m \u001b[0;31m# Check tercer caso borde\u001b[0m\u001b[0;34m\u001b[0m\u001b[0;34m\u001b[0m\u001b[0;34m\u001b[0m\u001b[0m\n\u001b[1;32m      2\u001b[0m \u001b[0mval_date\u001b[0m \u001b[0;34m=\u001b[0m \u001b[0mQcf\u001b[0m\u001b[0;34m.\u001b[0m\u001b[0mQCDate\u001b[0m\u001b[0;34m(\u001b[0m\u001b[0;36m1\u001b[0m\u001b[0;34m,\u001b[0m \u001b[0;36m10\u001b[0m\u001b[0;34m,\u001b[0m \u001b[0;36m2020\u001b[0m\u001b[0;34m)\u001b[0m\u001b[0;34m\u001b[0m\u001b[0;34m\u001b[0m\u001b[0m\n\u001b[0;32m----> 3\u001b[0;31m \u001b[0mset_expected_rate\u001b[0m\u001b[0;34m(\u001b[0m\u001b[0mval_date\u001b[0m\u001b[0;34m,\u001b[0m \u001b[0mois\u001b[0m\u001b[0;34m,\u001b[0m \u001b[0mfixings\u001b[0m\u001b[0;34m,\u001b[0m \u001b[0mzcc\u001b[0m\u001b[0;34m)\u001b[0m\u001b[0;34m\u001b[0m\u001b[0;34m\u001b[0m\u001b[0m\n\u001b[0m\u001b[1;32m      4\u001b[0m \u001b[0mpv\u001b[0m \u001b[0;34m=\u001b[0m \u001b[0mpresent_value\u001b[0m\u001b[0;34m(\u001b[0m\u001b[0mval_date\u001b[0m\u001b[0;34m,\u001b[0m \u001b[0mois\u001b[0m\u001b[0;34m,\u001b[0m \u001b[0mzcc\u001b[0m\u001b[0;34m)\u001b[0m\u001b[0;34m\u001b[0m\u001b[0;34m\u001b[0m\u001b[0m\n\u001b[1;32m      5\u001b[0m \u001b[0mprint\u001b[0m\u001b[0;34m(\u001b[0m\u001b[0;34mf'Valor presente es: {pv:,.4f}'\u001b[0m\u001b[0;34m)\u001b[0m\u001b[0;34m\u001b[0m\u001b[0;34m\u001b[0m\u001b[0m\n",
      "\u001b[0;32m<ipython-input-40-99f3b25227a3>\u001b[0m in \u001b[0;36mset_expected_rate\u001b[0;34m(val_date, ois_cashflow, zcc, fixings)\u001b[0m\n\u001b[1;32m      9\u001b[0m     \u001b[0mel\u001b[0m \u001b[0mnotebook\u001b[0m \u001b[0;36m9.\u001b[0m\u001b[0;34m\u001b[0m\u001b[0;34m\u001b[0m\u001b[0m\n\u001b[1;32m     10\u001b[0m     \"\"\"\n\u001b[0;32m---> 11\u001b[0;31m     \u001b[0;32mreturn\u001b[0m \u001b[0mTasaEsperada\u001b[0m\u001b[0;34m\u001b[0m\u001b[0;34m\u001b[0m\u001b[0m\n\u001b[0m",
      "\u001b[0;31mNameError\u001b[0m: name 'TasaEsperada' is not defined"
     ]
    }
   ],
   "source": [
    "# Check tercer caso borde\n",
    "val_date = Qcf.QCDate(1, 10, 2020)\n",
    "set_expected_rate(val_date, ois, fixings, zcc)\n",
    "pv = present_value(val_date, ois, zcc)\n",
    "print(f'Valor presente es: {pv:,.4f}')\n",
    "amount = ois.amount()\n",
    "print(f'Amount: {amount:,.4f}')\n",
    "amount = ois.amount()\n",
    "plazo = val_date.day_diff(ois.settlement_date)\n",
    "if plazo <= 0:\n",
    "    df = 0.0\n",
    "else:\n",
    "    df = zcc.get_discount_factor_at(plazo)\n",
    "print(f'Df: {df:.6%}')\n",
    "vp_check = df * amount\n",
    "print(f'VP check es: {vp_check:,.4f}')\n",
    "\n",
    "suma_exito(pv, vp_check, 'monto')"
   ]
  },
  {
   "cell_type": "code",
   "execution_count": 91,
   "metadata": {
    "ExecuteTime": {
     "end_time": "2020-12-01T23:42:51.634851Z",
     "start_time": "2020-12-01T23:42:51.611988Z"
    }
   },
   "outputs": [
    {
     "ename": "NameError",
     "evalue": "name 'TasaEsperada' is not defined",
     "output_type": "error",
     "traceback": [
      "\u001b[0;31m---------------------------------------------------------------------------\u001b[0m",
      "\u001b[0;31mNameError\u001b[0m                                 Traceback (most recent call last)",
      "\u001b[0;32m<ipython-input-91-b7cc61ac2171>\u001b[0m in \u001b[0;36m<module>\u001b[0;34m\u001b[0m\n\u001b[1;32m      1\u001b[0m \u001b[0;31m# Check tercer caso\u001b[0m\u001b[0;34m\u001b[0m\u001b[0;34m\u001b[0m\u001b[0;34m\u001b[0m\u001b[0m\n\u001b[1;32m      2\u001b[0m \u001b[0mval_date\u001b[0m \u001b[0;34m=\u001b[0m \u001b[0mQcf\u001b[0m\u001b[0;34m.\u001b[0m\u001b[0mQCDate\u001b[0m\u001b[0;34m(\u001b[0m\u001b[0;36m15\u001b[0m\u001b[0;34m,\u001b[0m \u001b[0;36m10\u001b[0m\u001b[0;34m,\u001b[0m \u001b[0;36m2020\u001b[0m\u001b[0;34m)\u001b[0m\u001b[0;34m\u001b[0m\u001b[0;34m\u001b[0m\u001b[0m\n\u001b[0;32m----> 3\u001b[0;31m \u001b[0mset_expected_rate\u001b[0m\u001b[0;34m(\u001b[0m\u001b[0mval_date\u001b[0m\u001b[0;34m,\u001b[0m \u001b[0mois\u001b[0m\u001b[0;34m,\u001b[0m \u001b[0mfixings\u001b[0m\u001b[0;34m,\u001b[0m \u001b[0mzcc\u001b[0m\u001b[0;34m)\u001b[0m\u001b[0;34m\u001b[0m\u001b[0;34m\u001b[0m\u001b[0m\n\u001b[0m\u001b[1;32m      4\u001b[0m \u001b[0mpv\u001b[0m \u001b[0;34m=\u001b[0m \u001b[0mpresent_value\u001b[0m\u001b[0;34m(\u001b[0m\u001b[0mval_date\u001b[0m\u001b[0;34m,\u001b[0m \u001b[0mois\u001b[0m\u001b[0;34m,\u001b[0m \u001b[0mzcc\u001b[0m\u001b[0;34m)\u001b[0m\u001b[0;34m\u001b[0m\u001b[0;34m\u001b[0m\u001b[0m\n\u001b[1;32m      5\u001b[0m \u001b[0mprint\u001b[0m\u001b[0;34m(\u001b[0m\u001b[0;34mf'Valor presente es: {pv:,.4f}'\u001b[0m\u001b[0;34m)\u001b[0m\u001b[0;34m\u001b[0m\u001b[0;34m\u001b[0m\u001b[0m\n",
      "\u001b[0;32m<ipython-input-40-99f3b25227a3>\u001b[0m in \u001b[0;36mset_expected_rate\u001b[0;34m(val_date, ois_cashflow, zcc, fixings)\u001b[0m\n\u001b[1;32m      9\u001b[0m     \u001b[0mel\u001b[0m \u001b[0mnotebook\u001b[0m \u001b[0;36m9.\u001b[0m\u001b[0;34m\u001b[0m\u001b[0;34m\u001b[0m\u001b[0m\n\u001b[1;32m     10\u001b[0m     \"\"\"\n\u001b[0;32m---> 11\u001b[0;31m     \u001b[0;32mreturn\u001b[0m \u001b[0mTasaEsperada\u001b[0m\u001b[0;34m\u001b[0m\u001b[0;34m\u001b[0m\u001b[0m\n\u001b[0m",
      "\u001b[0;31mNameError\u001b[0m: name 'TasaEsperada' is not defined"
     ]
    }
   ],
   "source": [
    "# Check tercer caso\n",
    "val_date = Qcf.QCDate(15, 10, 2020)\n",
    "set_expected_rate(val_date, ois, fixings, zcc)\n",
    "pv = present_value(val_date, ois, zcc)\n",
    "print(f'Valor presente es: {pv:,.4f}')\n",
    "amount = ois.amount()\n",
    "print(f'Amount: {amount:,.4f}')\n",
    "amount = ois.amount()\n",
    "plazo = val_date.day_diff(ois.settlement_date)\n",
    "if plazo <= 0:\n",
    "    df = 0.0\n",
    "else:\n",
    "    df = zcc.get_discount_factor_at(plazo)\n",
    "print(f'Df: {df:.6%}')\n",
    "vp_check = df * amount\n",
    "print(f'VP check es: {vp_check:,.4f}')\n",
    "\n",
    "suma_exito(pv, vp_check, 'monto')"
   ]
  },
  {
   "cell_type": "code",
   "execution_count": 92,
   "metadata": {
    "ExecuteTime": {
     "end_time": "2020-12-01T23:42:54.302913Z",
     "start_time": "2020-12-01T23:42:54.298835Z"
    }
   },
   "outputs": [
    {
     "name": "stdout",
     "output_type": "stream",
     "text": [
      "Éxitos totales: 4.5\n"
     ]
    }
   ],
   "source": [
    "print(f'Éxitos totales: {exitos}')"
   ]
  }
 ],
 "metadata": {
  "hide_input": false,
  "kernelspec": {
   "display_name": "Python 3",
   "language": "python",
   "name": "python3"
  },
  "language_info": {
   "codemirror_mode": {
    "name": "ipython",
    "version": 3
   },
   "file_extension": ".py",
   "mimetype": "text/x-python",
   "name": "python",
   "nbconvert_exporter": "python",
   "pygments_lexer": "ipython3",
   "version": "3.7.3"
  },
  "latex_envs": {
   "LaTeX_envs_menu_present": true,
   "autoclose": true,
   "autocomplete": true,
   "bibliofile": "biblio.bib",
   "cite_by": "apalike",
   "current_citInitial": 1,
   "eqLabelWithNumbers": true,
   "eqNumInitial": 1,
   "hotkeys": {
    "equation": "Ctrl-E",
    "itemize": "Ctrl-I"
   },
   "labels_anchors": false,
   "latex_user_defs": false,
   "report_style_numbering": false,
   "user_envs_cfg": false
  },
  "toc": {
   "base_numbering": "8",
   "nav_menu": {},
   "number_sections": true,
   "sideBar": true,
   "skip_h1_title": false,
   "title_cell": "Table of Contents",
   "title_sidebar": "Contenido",
   "toc_cell": false,
   "toc_position": {
    "height": "calc(100% - 180px)",
    "left": "10px",
    "top": "150px",
    "width": "187.587px"
   },
   "toc_section_display": true,
   "toc_window_display": true
  }
 },
 "nbformat": 4,
 "nbformat_minor": 4
}
