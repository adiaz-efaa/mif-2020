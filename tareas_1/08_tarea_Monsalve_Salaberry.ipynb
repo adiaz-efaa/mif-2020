{
 "cells": [
  {
   "cell_type": "markdown",
   "metadata": {},
   "source": [
    "# Tarea 1"
   ]
  },
  {
   "cell_type": "markdown",
   "metadata": {},
   "source": [
    "Implementar la clase `OisCashflow`.\n",
    "\n",
    "Integrantes: Gregorio Salaberry  y \n",
    "             Rocío Monsalve"
   ]
  },
  {
   "cell_type": "markdown",
   "metadata": {},
   "source": [
    "## Configuración Inicial"
   ]
  },
  {
   "cell_type": "code",
   "execution_count": 1,
   "metadata": {
    "ExecuteTime": {
     "end_time": "2020-12-02T00:19:33.180706Z",
     "start_time": "2020-12-02T00:19:33.111666Z"
    }
   },
   "outputs": [],
   "source": [
    "from finrisk import QC_Financial_3 as Qcf\n",
    "from dataclasses import dataclass\n",
    "from enum import Enum"
   ]
  },
  {
   "cell_type": "code",
   "execution_count": 2,
   "metadata": {
    "ExecuteTime": {
     "end_time": "2020-12-02T00:19:35.017533Z",
     "start_time": "2020-12-02T00:19:34.264703Z"
    }
   },
   "outputs": [],
   "source": [
    "from finrisk import QC_Financial_3 as Qcf\n",
    "from IPython.display import Image\n",
    "from IPython.core.display import HTML\n",
    "import pandas as pd\n",
    "from datetime import date\n",
    "\n",
    "# Modificado por AD\n",
    "import sys\n",
    "sys.path.insert(1, '../modules')\n",
    "import auxiliary as aux\n",
    "# Fin modificación\n",
    "\n",
    "from scipy.optimize import root_scalar\n",
    "from functools import partial"
   ]
  },
  {
   "cell_type": "code",
   "execution_count": 3,
   "metadata": {
    "ExecuteTime": {
     "end_time": "2020-12-02T00:19:35.901816Z",
     "start_time": "2020-12-02T00:19:35.891865Z"
    }
   },
   "outputs": [],
   "source": [
    "class BusCal(Enum):\n",
    "    NY = 1\n",
    "    SCL = 2"
   ]
  },
  {
   "cell_type": "code",
   "execution_count": 4,
   "metadata": {
    "ExecuteTime": {
     "end_time": "2020-12-02T00:19:38.130520Z",
     "start_time": "2020-12-02T00:19:38.116608Z"
    }
   },
   "outputs": [],
   "source": [
    "def get_cal(code: BusCal) -> Qcf.BusinessCalendar:\n",
    "    \"\"\"\n",
    "    \"\"\"\n",
    "    if code == BusCal.NY:\n",
    "        cal = Qcf.BusinessCalendar(Qcf.QCDate(1, 1, 2020), 20)\n",
    "        for agno in range(2020, 2071):\n",
    "            f = Qcf.QCDate(12, 10, agno)\n",
    "            if f.week_day() == Qcf.WeekDay.SAT:\n",
    "                cal.add_holiday(Qcf.QCDate(14, 10, agno))\n",
    "            elif f.week_day() == Qcf.WeekDay.SUN:\n",
    "                cal.add_holiday(Qcf.QCDate(13, 10, agno))\n",
    "            elif f.week_day() == Qcf.WeekDay.MON:\n",
    "                cal.add_holiday(Qcf.QCDate(12, 10, agno))\n",
    "            elif f.week_day() == Qcf.WeekDay.TUE:\n",
    "                cal.add_holiday(Qcf.QCDate(11, 10, agno))\n",
    "            elif f.week_day() == Qcf.WeekDay.WED:\n",
    "                cal.add_holiday(Qcf.QCDate(10, 10, agno))\n",
    "            elif f.week_day() == Qcf.WeekDay.THU:\n",
    "                cal.add_holiday(Qcf.QCDate(9, 10, agno))\n",
    "            else:\n",
    "                cal.add_holiday(Qcf.QCDate(8, 10, agno))\n",
    "        cal.add_holiday(Qcf.QCDate(15, 2, 2021))\n",
    "        \n",
    "    return cal"
   ]
  },
  {
   "cell_type": "code",
   "execution_count": 5,
   "metadata": {
    "ExecuteTime": {
     "end_time": "2020-12-02T00:19:39.047527Z",
     "start_time": "2020-12-02T00:19:39.040996Z"
    }
   },
   "outputs": [
    {
     "name": "stdout",
     "output_type": "stream",
     "text": [
      "<function get_cal at 0x7f1380516158>\n"
     ]
    }
   ],
   "source": [
    "calendario_1=get_cal\n",
    "\n",
    "print(calendario_1)"
   ]
  },
  {
   "cell_type": "markdown",
   "metadata": {},
   "source": [
    "## `Qcf.time_series`"
   ]
  },
  {
   "cell_type": "code",
   "execution_count": 6,
   "metadata": {
    "ExecuteTime": {
     "end_time": "2020-12-02T00:19:41.498353Z",
     "start_time": "2020-12-02T00:19:41.489723Z"
    }
   },
   "outputs": [
    {
     "name": "stdout",
     "output_type": "stream",
     "text": [
      "ts[fecha1]: 19690113.0\n",
      "\n",
      "13-1-1969\n",
      "14-1-1969\n",
      "\n",
      "19690113.0\n",
      "19690114.0\n"
     ]
    }
   ],
   "source": [
    "ts = Qcf.time_series()\n",
    "\n",
    "fecha1 = Qcf.QCDate(13, 1, 1969)\n",
    "ts[fecha1] = 19690113\n",
    "\n",
    "fecha2 = Qcf.QCDate(14, 1, 1969)\n",
    "ts[fecha2] = 19690114\n",
    "\n",
    "print(f'ts[fecha1]: {ts[fecha1]}\\n')\n",
    "\n",
    "dl = Qcf.time_series_dates(ts)\n",
    "for d in dl:\n",
    "    print(d)\n",
    "print()\n",
    "    \n",
    "vl = Qcf.time_series_values(ts)\n",
    "for v in vl:\n",
    "    print(v)"
   ]
  },
  {
   "cell_type": "markdown",
   "metadata": {},
   "source": [
    "## Clase `OisCashflow`"
   ]
  },
  {
   "cell_type": "markdown",
   "metadata": {},
   "source": [
    "La clase `OisCashflow` es una [`dataclass`](https://realpython.com/python-data-classes/). La tarea consiste en:\n",
    "\n",
    "- Implementar los 3 métodos de la clase que están con `pass`.\n",
    "- Implementar la función `present_value`.\n",
    "- Implementar la función `set_expected_rate`."
   ]
  },
  {
   "cell_type": "code",
   "execution_count": 7,
   "metadata": {
    "ExecuteTime": {
     "end_time": "2020-12-02T00:19:45.115142Z",
     "start_time": "2020-12-02T00:19:44.719690Z"
    }
   },
   "outputs": [
    {
     "data": {
      "text/html": [
       "<style  type=\"text/css\" >\n",
       "</style><table id=\"T_146b4fd6_3434_11eb_a3d0_02cba411ec9d\" ><thead>    <tr>        <th class=\"blank level0\" ></th>        <th class=\"col_heading level0 col0\" >DATE</th>        <th class=\"col_heading level0 col1\" > BENCHMARK NAME </th>        <th class=\"col_heading level0 col2\" >RATE\n",
       "(PERCENT)</th>    </tr></thead><tbody>\n",
       "                <tr>\n",
       "                        <th id=\"T_146b4fd6_3434_11eb_a3d0_02cba411ec9dlevel0_row0\" class=\"row_heading level0 row0\" >0</th>\n",
       "                        <td id=\"T_146b4fd6_3434_11eb_a3d0_02cba411ec9drow0_col0\" class=\"data row0 col0\" >28-10-2020</td>\n",
       "                        <td id=\"T_146b4fd6_3434_11eb_a3d0_02cba411ec9drow0_col1\" class=\"data row0 col1\" >SOFR</td>\n",
       "                        <td id=\"T_146b4fd6_3434_11eb_a3d0_02cba411ec9drow0_col2\" class=\"data row0 col2\" >0.080000</td>\n",
       "            </tr>\n",
       "            <tr>\n",
       "                        <th id=\"T_146b4fd6_3434_11eb_a3d0_02cba411ec9dlevel0_row1\" class=\"row_heading level0 row1\" >1</th>\n",
       "                        <td id=\"T_146b4fd6_3434_11eb_a3d0_02cba411ec9drow1_col0\" class=\"data row1 col0\" >27-10-2020</td>\n",
       "                        <td id=\"T_146b4fd6_3434_11eb_a3d0_02cba411ec9drow1_col1\" class=\"data row1 col1\" >SOFR</td>\n",
       "                        <td id=\"T_146b4fd6_3434_11eb_a3d0_02cba411ec9drow1_col2\" class=\"data row1 col2\" >0.090000</td>\n",
       "            </tr>\n",
       "            <tr>\n",
       "                        <th id=\"T_146b4fd6_3434_11eb_a3d0_02cba411ec9dlevel0_row2\" class=\"row_heading level0 row2\" >2</th>\n",
       "                        <td id=\"T_146b4fd6_3434_11eb_a3d0_02cba411ec9drow2_col0\" class=\"data row2 col0\" >26-10-2020</td>\n",
       "                        <td id=\"T_146b4fd6_3434_11eb_a3d0_02cba411ec9drow2_col1\" class=\"data row2 col1\" >SOFR</td>\n",
       "                        <td id=\"T_146b4fd6_3434_11eb_a3d0_02cba411ec9drow2_col2\" class=\"data row2 col2\" >0.090000</td>\n",
       "            </tr>\n",
       "            <tr>\n",
       "                        <th id=\"T_146b4fd6_3434_11eb_a3d0_02cba411ec9dlevel0_row3\" class=\"row_heading level0 row3\" >3</th>\n",
       "                        <td id=\"T_146b4fd6_3434_11eb_a3d0_02cba411ec9drow3_col0\" class=\"data row3 col0\" >23-10-2020</td>\n",
       "                        <td id=\"T_146b4fd6_3434_11eb_a3d0_02cba411ec9drow3_col1\" class=\"data row3 col1\" >SOFR</td>\n",
       "                        <td id=\"T_146b4fd6_3434_11eb_a3d0_02cba411ec9drow3_col2\" class=\"data row3 col2\" >0.080000</td>\n",
       "            </tr>\n",
       "            <tr>\n",
       "                        <th id=\"T_146b4fd6_3434_11eb_a3d0_02cba411ec9dlevel0_row4\" class=\"row_heading level0 row4\" >4</th>\n",
       "                        <td id=\"T_146b4fd6_3434_11eb_a3d0_02cba411ec9drow4_col0\" class=\"data row4 col0\" >22-10-2020</td>\n",
       "                        <td id=\"T_146b4fd6_3434_11eb_a3d0_02cba411ec9drow4_col1\" class=\"data row4 col1\" >SOFR</td>\n",
       "                        <td id=\"T_146b4fd6_3434_11eb_a3d0_02cba411ec9drow4_col2\" class=\"data row4 col2\" >0.070000</td>\n",
       "            </tr>\n",
       "            <tr>\n",
       "                        <th id=\"T_146b4fd6_3434_11eb_a3d0_02cba411ec9dlevel0_row5\" class=\"row_heading level0 row5\" >5</th>\n",
       "                        <td id=\"T_146b4fd6_3434_11eb_a3d0_02cba411ec9drow5_col0\" class=\"data row5 col0\" >21-10-2020</td>\n",
       "                        <td id=\"T_146b4fd6_3434_11eb_a3d0_02cba411ec9drow5_col1\" class=\"data row5 col1\" >SOFR</td>\n",
       "                        <td id=\"T_146b4fd6_3434_11eb_a3d0_02cba411ec9drow5_col2\" class=\"data row5 col2\" >0.070000</td>\n",
       "            </tr>\n",
       "            <tr>\n",
       "                        <th id=\"T_146b4fd6_3434_11eb_a3d0_02cba411ec9dlevel0_row6\" class=\"row_heading level0 row6\" >6</th>\n",
       "                        <td id=\"T_146b4fd6_3434_11eb_a3d0_02cba411ec9drow6_col0\" class=\"data row6 col0\" >20-10-2020</td>\n",
       "                        <td id=\"T_146b4fd6_3434_11eb_a3d0_02cba411ec9drow6_col1\" class=\"data row6 col1\" >SOFR</td>\n",
       "                        <td id=\"T_146b4fd6_3434_11eb_a3d0_02cba411ec9drow6_col2\" class=\"data row6 col2\" >0.080000</td>\n",
       "            </tr>\n",
       "            <tr>\n",
       "                        <th id=\"T_146b4fd6_3434_11eb_a3d0_02cba411ec9dlevel0_row7\" class=\"row_heading level0 row7\" >7</th>\n",
       "                        <td id=\"T_146b4fd6_3434_11eb_a3d0_02cba411ec9drow7_col0\" class=\"data row7 col0\" >19-10-2020</td>\n",
       "                        <td id=\"T_146b4fd6_3434_11eb_a3d0_02cba411ec9drow7_col1\" class=\"data row7 col1\" >SOFR</td>\n",
       "                        <td id=\"T_146b4fd6_3434_11eb_a3d0_02cba411ec9drow7_col2\" class=\"data row7 col2\" >0.090000</td>\n",
       "            </tr>\n",
       "            <tr>\n",
       "                        <th id=\"T_146b4fd6_3434_11eb_a3d0_02cba411ec9dlevel0_row8\" class=\"row_heading level0 row8\" >8</th>\n",
       "                        <td id=\"T_146b4fd6_3434_11eb_a3d0_02cba411ec9drow8_col0\" class=\"data row8 col0\" >16-10-2020</td>\n",
       "                        <td id=\"T_146b4fd6_3434_11eb_a3d0_02cba411ec9drow8_col1\" class=\"data row8 col1\" >SOFR</td>\n",
       "                        <td id=\"T_146b4fd6_3434_11eb_a3d0_02cba411ec9drow8_col2\" class=\"data row8 col2\" >0.090000</td>\n",
       "            </tr>\n",
       "            <tr>\n",
       "                        <th id=\"T_146b4fd6_3434_11eb_a3d0_02cba411ec9dlevel0_row9\" class=\"row_heading level0 row9\" >9</th>\n",
       "                        <td id=\"T_146b4fd6_3434_11eb_a3d0_02cba411ec9drow9_col0\" class=\"data row9 col0\" >15-10-2020</td>\n",
       "                        <td id=\"T_146b4fd6_3434_11eb_a3d0_02cba411ec9drow9_col1\" class=\"data row9 col1\" >SOFR</td>\n",
       "                        <td id=\"T_146b4fd6_3434_11eb_a3d0_02cba411ec9drow9_col2\" class=\"data row9 col2\" >0.100000</td>\n",
       "            </tr>\n",
       "            <tr>\n",
       "                        <th id=\"T_146b4fd6_3434_11eb_a3d0_02cba411ec9dlevel0_row10\" class=\"row_heading level0 row10\" >10</th>\n",
       "                        <td id=\"T_146b4fd6_3434_11eb_a3d0_02cba411ec9drow10_col0\" class=\"data row10 col0\" >14-10-2020</td>\n",
       "                        <td id=\"T_146b4fd6_3434_11eb_a3d0_02cba411ec9drow10_col1\" class=\"data row10 col1\" >SOFR</td>\n",
       "                        <td id=\"T_146b4fd6_3434_11eb_a3d0_02cba411ec9drow10_col2\" class=\"data row10 col2\" >0.090000</td>\n",
       "            </tr>\n",
       "            <tr>\n",
       "                        <th id=\"T_146b4fd6_3434_11eb_a3d0_02cba411ec9dlevel0_row11\" class=\"row_heading level0 row11\" >11</th>\n",
       "                        <td id=\"T_146b4fd6_3434_11eb_a3d0_02cba411ec9drow11_col0\" class=\"data row11 col0\" >13-10-2020</td>\n",
       "                        <td id=\"T_146b4fd6_3434_11eb_a3d0_02cba411ec9drow11_col1\" class=\"data row11 col1\" >SOFR</td>\n",
       "                        <td id=\"T_146b4fd6_3434_11eb_a3d0_02cba411ec9drow11_col2\" class=\"data row11 col2\" >0.090000</td>\n",
       "            </tr>\n",
       "            <tr>\n",
       "                        <th id=\"T_146b4fd6_3434_11eb_a3d0_02cba411ec9dlevel0_row12\" class=\"row_heading level0 row12\" >12</th>\n",
       "                        <td id=\"T_146b4fd6_3434_11eb_a3d0_02cba411ec9drow12_col0\" class=\"data row12 col0\" >9-10-2020</td>\n",
       "                        <td id=\"T_146b4fd6_3434_11eb_a3d0_02cba411ec9drow12_col1\" class=\"data row12 col1\" >SOFR</td>\n",
       "                        <td id=\"T_146b4fd6_3434_11eb_a3d0_02cba411ec9drow12_col2\" class=\"data row12 col2\" >0.090000</td>\n",
       "            </tr>\n",
       "            <tr>\n",
       "                        <th id=\"T_146b4fd6_3434_11eb_a3d0_02cba411ec9dlevel0_row13\" class=\"row_heading level0 row13\" >13</th>\n",
       "                        <td id=\"T_146b4fd6_3434_11eb_a3d0_02cba411ec9drow13_col0\" class=\"data row13 col0\" >8-10-2020</td>\n",
       "                        <td id=\"T_146b4fd6_3434_11eb_a3d0_02cba411ec9drow13_col1\" class=\"data row13 col1\" >SOFR</td>\n",
       "                        <td id=\"T_146b4fd6_3434_11eb_a3d0_02cba411ec9drow13_col2\" class=\"data row13 col2\" >0.080000</td>\n",
       "            </tr>\n",
       "            <tr>\n",
       "                        <th id=\"T_146b4fd6_3434_11eb_a3d0_02cba411ec9dlevel0_row14\" class=\"row_heading level0 row14\" >14</th>\n",
       "                        <td id=\"T_146b4fd6_3434_11eb_a3d0_02cba411ec9drow14_col0\" class=\"data row14 col0\" >7-10-2020</td>\n",
       "                        <td id=\"T_146b4fd6_3434_11eb_a3d0_02cba411ec9drow14_col1\" class=\"data row14 col1\" >SOFR</td>\n",
       "                        <td id=\"T_146b4fd6_3434_11eb_a3d0_02cba411ec9drow14_col2\" class=\"data row14 col2\" >0.090000</td>\n",
       "            </tr>\n",
       "            <tr>\n",
       "                        <th id=\"T_146b4fd6_3434_11eb_a3d0_02cba411ec9dlevel0_row15\" class=\"row_heading level0 row15\" >15</th>\n",
       "                        <td id=\"T_146b4fd6_3434_11eb_a3d0_02cba411ec9drow15_col0\" class=\"data row15 col0\" >6-10-2020</td>\n",
       "                        <td id=\"T_146b4fd6_3434_11eb_a3d0_02cba411ec9drow15_col1\" class=\"data row15 col1\" >SOFR</td>\n",
       "                        <td id=\"T_146b4fd6_3434_11eb_a3d0_02cba411ec9drow15_col2\" class=\"data row15 col2\" >0.100000</td>\n",
       "            </tr>\n",
       "            <tr>\n",
       "                        <th id=\"T_146b4fd6_3434_11eb_a3d0_02cba411ec9dlevel0_row16\" class=\"row_heading level0 row16\" >16</th>\n",
       "                        <td id=\"T_146b4fd6_3434_11eb_a3d0_02cba411ec9drow16_col0\" class=\"data row16 col0\" >5-10-2020</td>\n",
       "                        <td id=\"T_146b4fd6_3434_11eb_a3d0_02cba411ec9drow16_col1\" class=\"data row16 col1\" >SOFR</td>\n",
       "                        <td id=\"T_146b4fd6_3434_11eb_a3d0_02cba411ec9drow16_col2\" class=\"data row16 col2\" >0.090000</td>\n",
       "            </tr>\n",
       "            <tr>\n",
       "                        <th id=\"T_146b4fd6_3434_11eb_a3d0_02cba411ec9dlevel0_row17\" class=\"row_heading level0 row17\" >17</th>\n",
       "                        <td id=\"T_146b4fd6_3434_11eb_a3d0_02cba411ec9drow17_col0\" class=\"data row17 col0\" >2-10-2020</td>\n",
       "                        <td id=\"T_146b4fd6_3434_11eb_a3d0_02cba411ec9drow17_col1\" class=\"data row17 col1\" >SOFR</td>\n",
       "                        <td id=\"T_146b4fd6_3434_11eb_a3d0_02cba411ec9drow17_col2\" class=\"data row17 col2\" >0.100000</td>\n",
       "            </tr>\n",
       "            <tr>\n",
       "                        <th id=\"T_146b4fd6_3434_11eb_a3d0_02cba411ec9dlevel0_row18\" class=\"row_heading level0 row18\" >18</th>\n",
       "                        <td id=\"T_146b4fd6_3434_11eb_a3d0_02cba411ec9drow18_col0\" class=\"data row18 col0\" >1-10-2020</td>\n",
       "                        <td id=\"T_146b4fd6_3434_11eb_a3d0_02cba411ec9drow18_col1\" class=\"data row18 col1\" >SOFR</td>\n",
       "                        <td id=\"T_146b4fd6_3434_11eb_a3d0_02cba411ec9drow18_col2\" class=\"data row18 col2\" >0.080000</td>\n",
       "            </tr>\n",
       "            <tr>\n",
       "                        <th id=\"T_146b4fd6_3434_11eb_a3d0_02cba411ec9dlevel0_row19\" class=\"row_heading level0 row19\" >19</th>\n",
       "                        <td id=\"T_146b4fd6_3434_11eb_a3d0_02cba411ec9drow19_col0\" class=\"data row19 col0\" >30-9-2020</td>\n",
       "                        <td id=\"T_146b4fd6_3434_11eb_a3d0_02cba411ec9drow19_col1\" class=\"data row19 col1\" >SOFR</td>\n",
       "                        <td id=\"T_146b4fd6_3434_11eb_a3d0_02cba411ec9drow19_col2\" class=\"data row19 col2\" >0.080000</td>\n",
       "            </tr>\n",
       "            <tr>\n",
       "                        <th id=\"T_146b4fd6_3434_11eb_a3d0_02cba411ec9dlevel0_row20\" class=\"row_heading level0 row20\" >20</th>\n",
       "                        <td id=\"T_146b4fd6_3434_11eb_a3d0_02cba411ec9drow20_col0\" class=\"data row20 col0\" >29-9-2020</td>\n",
       "                        <td id=\"T_146b4fd6_3434_11eb_a3d0_02cba411ec9drow20_col1\" class=\"data row20 col1\" >SOFR</td>\n",
       "                        <td id=\"T_146b4fd6_3434_11eb_a3d0_02cba411ec9drow20_col2\" class=\"data row20 col2\" >0.070000</td>\n",
       "            </tr>\n",
       "            <tr>\n",
       "                        <th id=\"T_146b4fd6_3434_11eb_a3d0_02cba411ec9dlevel0_row21\" class=\"row_heading level0 row21\" >21</th>\n",
       "                        <td id=\"T_146b4fd6_3434_11eb_a3d0_02cba411ec9drow21_col0\" class=\"data row21 col0\" >28-9-2020</td>\n",
       "                        <td id=\"T_146b4fd6_3434_11eb_a3d0_02cba411ec9drow21_col1\" class=\"data row21 col1\" >SOFR</td>\n",
       "                        <td id=\"T_146b4fd6_3434_11eb_a3d0_02cba411ec9drow21_col2\" class=\"data row21 col2\" >0.080000</td>\n",
       "            </tr>\n",
       "            <tr>\n",
       "                        <th id=\"T_146b4fd6_3434_11eb_a3d0_02cba411ec9dlevel0_row22\" class=\"row_heading level0 row22\" >22</th>\n",
       "                        <td id=\"T_146b4fd6_3434_11eb_a3d0_02cba411ec9drow22_col0\" class=\"data row22 col0\" >25-9-2020</td>\n",
       "                        <td id=\"T_146b4fd6_3434_11eb_a3d0_02cba411ec9drow22_col1\" class=\"data row22 col1\" >SOFR</td>\n",
       "                        <td id=\"T_146b4fd6_3434_11eb_a3d0_02cba411ec9drow22_col2\" class=\"data row22 col2\" >0.080000</td>\n",
       "            </tr>\n",
       "            <tr>\n",
       "                        <th id=\"T_146b4fd6_3434_11eb_a3d0_02cba411ec9dlevel0_row23\" class=\"row_heading level0 row23\" >23</th>\n",
       "                        <td id=\"T_146b4fd6_3434_11eb_a3d0_02cba411ec9drow23_col0\" class=\"data row23 col0\" >24-9-2020</td>\n",
       "                        <td id=\"T_146b4fd6_3434_11eb_a3d0_02cba411ec9drow23_col1\" class=\"data row23 col1\" >SOFR</td>\n",
       "                        <td id=\"T_146b4fd6_3434_11eb_a3d0_02cba411ec9drow23_col2\" class=\"data row23 col2\" >0.070000</td>\n",
       "            </tr>\n",
       "            <tr>\n",
       "                        <th id=\"T_146b4fd6_3434_11eb_a3d0_02cba411ec9dlevel0_row24\" class=\"row_heading level0 row24\" >24</th>\n",
       "                        <td id=\"T_146b4fd6_3434_11eb_a3d0_02cba411ec9drow24_col0\" class=\"data row24 col0\" >23-9-2020</td>\n",
       "                        <td id=\"T_146b4fd6_3434_11eb_a3d0_02cba411ec9drow24_col1\" class=\"data row24 col1\" >SOFR</td>\n",
       "                        <td id=\"T_146b4fd6_3434_11eb_a3d0_02cba411ec9drow24_col2\" class=\"data row24 col2\" >0.060000</td>\n",
       "            </tr>\n",
       "            <tr>\n",
       "                        <th id=\"T_146b4fd6_3434_11eb_a3d0_02cba411ec9dlevel0_row25\" class=\"row_heading level0 row25\" >25</th>\n",
       "                        <td id=\"T_146b4fd6_3434_11eb_a3d0_02cba411ec9drow25_col0\" class=\"data row25 col0\" >22-9-2020</td>\n",
       "                        <td id=\"T_146b4fd6_3434_11eb_a3d0_02cba411ec9drow25_col1\" class=\"data row25 col1\" >SOFR</td>\n",
       "                        <td id=\"T_146b4fd6_3434_11eb_a3d0_02cba411ec9drow25_col2\" class=\"data row25 col2\" >0.070000</td>\n",
       "            </tr>\n",
       "            <tr>\n",
       "                        <th id=\"T_146b4fd6_3434_11eb_a3d0_02cba411ec9dlevel0_row26\" class=\"row_heading level0 row26\" >26</th>\n",
       "                        <td id=\"T_146b4fd6_3434_11eb_a3d0_02cba411ec9drow26_col0\" class=\"data row26 col0\" >21-9-2020</td>\n",
       "                        <td id=\"T_146b4fd6_3434_11eb_a3d0_02cba411ec9drow26_col1\" class=\"data row26 col1\" >SOFR</td>\n",
       "                        <td id=\"T_146b4fd6_3434_11eb_a3d0_02cba411ec9drow26_col2\" class=\"data row26 col2\" >0.080000</td>\n",
       "            </tr>\n",
       "            <tr>\n",
       "                        <th id=\"T_146b4fd6_3434_11eb_a3d0_02cba411ec9dlevel0_row27\" class=\"row_heading level0 row27\" >27</th>\n",
       "                        <td id=\"T_146b4fd6_3434_11eb_a3d0_02cba411ec9drow27_col0\" class=\"data row27 col0\" >18-9-2020</td>\n",
       "                        <td id=\"T_146b4fd6_3434_11eb_a3d0_02cba411ec9drow27_col1\" class=\"data row27 col1\" >SOFR</td>\n",
       "                        <td id=\"T_146b4fd6_3434_11eb_a3d0_02cba411ec9drow27_col2\" class=\"data row27 col2\" >0.090000</td>\n",
       "            </tr>\n",
       "            <tr>\n",
       "                        <th id=\"T_146b4fd6_3434_11eb_a3d0_02cba411ec9dlevel0_row28\" class=\"row_heading level0 row28\" >28</th>\n",
       "                        <td id=\"T_146b4fd6_3434_11eb_a3d0_02cba411ec9drow28_col0\" class=\"data row28 col0\" >17-9-2020</td>\n",
       "                        <td id=\"T_146b4fd6_3434_11eb_a3d0_02cba411ec9drow28_col1\" class=\"data row28 col1\" >SOFR</td>\n",
       "                        <td id=\"T_146b4fd6_3434_11eb_a3d0_02cba411ec9drow28_col2\" class=\"data row28 col2\" >0.100000</td>\n",
       "            </tr>\n",
       "            <tr>\n",
       "                        <th id=\"T_146b4fd6_3434_11eb_a3d0_02cba411ec9dlevel0_row29\" class=\"row_heading level0 row29\" >29</th>\n",
       "                        <td id=\"T_146b4fd6_3434_11eb_a3d0_02cba411ec9drow29_col0\" class=\"data row29 col0\" >16-9-2020</td>\n",
       "                        <td id=\"T_146b4fd6_3434_11eb_a3d0_02cba411ec9drow29_col1\" class=\"data row29 col1\" >SOFR</td>\n",
       "                        <td id=\"T_146b4fd6_3434_11eb_a3d0_02cba411ec9drow29_col2\" class=\"data row29 col2\" >0.100000</td>\n",
       "            </tr>\n",
       "            <tr>\n",
       "                        <th id=\"T_146b4fd6_3434_11eb_a3d0_02cba411ec9dlevel0_row30\" class=\"row_heading level0 row30\" >30</th>\n",
       "                        <td id=\"T_146b4fd6_3434_11eb_a3d0_02cba411ec9drow30_col0\" class=\"data row30 col0\" >15-9-2020</td>\n",
       "                        <td id=\"T_146b4fd6_3434_11eb_a3d0_02cba411ec9drow30_col1\" class=\"data row30 col1\" >SOFR</td>\n",
       "                        <td id=\"T_146b4fd6_3434_11eb_a3d0_02cba411ec9drow30_col2\" class=\"data row30 col2\" >0.100000</td>\n",
       "            </tr>\n",
       "            <tr>\n",
       "                        <th id=\"T_146b4fd6_3434_11eb_a3d0_02cba411ec9dlevel0_row31\" class=\"row_heading level0 row31\" >31</th>\n",
       "                        <td id=\"T_146b4fd6_3434_11eb_a3d0_02cba411ec9drow31_col0\" class=\"data row31 col0\" >14-9-2020</td>\n",
       "                        <td id=\"T_146b4fd6_3434_11eb_a3d0_02cba411ec9drow31_col1\" class=\"data row31 col1\" >SOFR</td>\n",
       "                        <td id=\"T_146b4fd6_3434_11eb_a3d0_02cba411ec9drow31_col2\" class=\"data row31 col2\" >0.090000</td>\n",
       "            </tr>\n",
       "            <tr>\n",
       "                        <th id=\"T_146b4fd6_3434_11eb_a3d0_02cba411ec9dlevel0_row32\" class=\"row_heading level0 row32\" >32</th>\n",
       "                        <td id=\"T_146b4fd6_3434_11eb_a3d0_02cba411ec9drow32_col0\" class=\"data row32 col0\" >11-9-2020</td>\n",
       "                        <td id=\"T_146b4fd6_3434_11eb_a3d0_02cba411ec9drow32_col1\" class=\"data row32 col1\" >SOFR</td>\n",
       "                        <td id=\"T_146b4fd6_3434_11eb_a3d0_02cba411ec9drow32_col2\" class=\"data row32 col2\" >0.090000</td>\n",
       "            </tr>\n",
       "            <tr>\n",
       "                        <th id=\"T_146b4fd6_3434_11eb_a3d0_02cba411ec9dlevel0_row33\" class=\"row_heading level0 row33\" >33</th>\n",
       "                        <td id=\"T_146b4fd6_3434_11eb_a3d0_02cba411ec9drow33_col0\" class=\"data row33 col0\" >10-9-2020</td>\n",
       "                        <td id=\"T_146b4fd6_3434_11eb_a3d0_02cba411ec9drow33_col1\" class=\"data row33 col1\" >SOFR</td>\n",
       "                        <td id=\"T_146b4fd6_3434_11eb_a3d0_02cba411ec9drow33_col2\" class=\"data row33 col2\" >0.090000</td>\n",
       "            </tr>\n",
       "            <tr>\n",
       "                        <th id=\"T_146b4fd6_3434_11eb_a3d0_02cba411ec9dlevel0_row34\" class=\"row_heading level0 row34\" >34</th>\n",
       "                        <td id=\"T_146b4fd6_3434_11eb_a3d0_02cba411ec9drow34_col0\" class=\"data row34 col0\" >9-9-2020</td>\n",
       "                        <td id=\"T_146b4fd6_3434_11eb_a3d0_02cba411ec9drow34_col1\" class=\"data row34 col1\" >SOFR</td>\n",
       "                        <td id=\"T_146b4fd6_3434_11eb_a3d0_02cba411ec9drow34_col2\" class=\"data row34 col2\" >0.090000</td>\n",
       "            </tr>\n",
       "            <tr>\n",
       "                        <th id=\"T_146b4fd6_3434_11eb_a3d0_02cba411ec9dlevel0_row35\" class=\"row_heading level0 row35\" >35</th>\n",
       "                        <td id=\"T_146b4fd6_3434_11eb_a3d0_02cba411ec9drow35_col0\" class=\"data row35 col0\" >8-9-2020</td>\n",
       "                        <td id=\"T_146b4fd6_3434_11eb_a3d0_02cba411ec9drow35_col1\" class=\"data row35 col1\" >SOFR</td>\n",
       "                        <td id=\"T_146b4fd6_3434_11eb_a3d0_02cba411ec9drow35_col2\" class=\"data row35 col2\" >0.090000</td>\n",
       "            </tr>\n",
       "            <tr>\n",
       "                        <th id=\"T_146b4fd6_3434_11eb_a3d0_02cba411ec9dlevel0_row36\" class=\"row_heading level0 row36\" >36</th>\n",
       "                        <td id=\"T_146b4fd6_3434_11eb_a3d0_02cba411ec9drow36_col0\" class=\"data row36 col0\" >4-9-2020</td>\n",
       "                        <td id=\"T_146b4fd6_3434_11eb_a3d0_02cba411ec9drow36_col1\" class=\"data row36 col1\" >SOFR</td>\n",
       "                        <td id=\"T_146b4fd6_3434_11eb_a3d0_02cba411ec9drow36_col2\" class=\"data row36 col2\" >0.090000</td>\n",
       "            </tr>\n",
       "            <tr>\n",
       "                        <th id=\"T_146b4fd6_3434_11eb_a3d0_02cba411ec9dlevel0_row37\" class=\"row_heading level0 row37\" >37</th>\n",
       "                        <td id=\"T_146b4fd6_3434_11eb_a3d0_02cba411ec9drow37_col0\" class=\"data row37 col0\" >3-9-2020</td>\n",
       "                        <td id=\"T_146b4fd6_3434_11eb_a3d0_02cba411ec9drow37_col1\" class=\"data row37 col1\" >SOFR</td>\n",
       "                        <td id=\"T_146b4fd6_3434_11eb_a3d0_02cba411ec9drow37_col2\" class=\"data row37 col2\" >0.100000</td>\n",
       "            </tr>\n",
       "            <tr>\n",
       "                        <th id=\"T_146b4fd6_3434_11eb_a3d0_02cba411ec9dlevel0_row38\" class=\"row_heading level0 row38\" >38</th>\n",
       "                        <td id=\"T_146b4fd6_3434_11eb_a3d0_02cba411ec9drow38_col0\" class=\"data row38 col0\" >2-9-2020</td>\n",
       "                        <td id=\"T_146b4fd6_3434_11eb_a3d0_02cba411ec9drow38_col1\" class=\"data row38 col1\" >SOFR</td>\n",
       "                        <td id=\"T_146b4fd6_3434_11eb_a3d0_02cba411ec9drow38_col2\" class=\"data row38 col2\" >0.090000</td>\n",
       "            </tr>\n",
       "            <tr>\n",
       "                        <th id=\"T_146b4fd6_3434_11eb_a3d0_02cba411ec9dlevel0_row39\" class=\"row_heading level0 row39\" >39</th>\n",
       "                        <td id=\"T_146b4fd6_3434_11eb_a3d0_02cba411ec9drow39_col0\" class=\"data row39 col0\" >1-9-2020</td>\n",
       "                        <td id=\"T_146b4fd6_3434_11eb_a3d0_02cba411ec9drow39_col1\" class=\"data row39 col1\" >SOFR</td>\n",
       "                        <td id=\"T_146b4fd6_3434_11eb_a3d0_02cba411ec9drow39_col2\" class=\"data row39 col2\" >0.090000</td>\n",
       "            </tr>\n",
       "            <tr>\n",
       "                        <th id=\"T_146b4fd6_3434_11eb_a3d0_02cba411ec9dlevel0_row40\" class=\"row_heading level0 row40\" >40</th>\n",
       "                        <td id=\"T_146b4fd6_3434_11eb_a3d0_02cba411ec9drow40_col0\" class=\"data row40 col0\" >31-8-2020</td>\n",
       "                        <td id=\"T_146b4fd6_3434_11eb_a3d0_02cba411ec9drow40_col1\" class=\"data row40 col1\" >SOFR</td>\n",
       "                        <td id=\"T_146b4fd6_3434_11eb_a3d0_02cba411ec9drow40_col2\" class=\"data row40 col2\" >0.090000</td>\n",
       "            </tr>\n",
       "            <tr>\n",
       "                        <th id=\"T_146b4fd6_3434_11eb_a3d0_02cba411ec9dlevel0_row41\" class=\"row_heading level0 row41\" >41</th>\n",
       "                        <td id=\"T_146b4fd6_3434_11eb_a3d0_02cba411ec9drow41_col0\" class=\"data row41 col0\" >28-8-2020</td>\n",
       "                        <td id=\"T_146b4fd6_3434_11eb_a3d0_02cba411ec9drow41_col1\" class=\"data row41 col1\" >SOFR</td>\n",
       "                        <td id=\"T_146b4fd6_3434_11eb_a3d0_02cba411ec9drow41_col2\" class=\"data row41 col2\" >0.070000</td>\n",
       "            </tr>\n",
       "            <tr>\n",
       "                        <th id=\"T_146b4fd6_3434_11eb_a3d0_02cba411ec9dlevel0_row42\" class=\"row_heading level0 row42\" >42</th>\n",
       "                        <td id=\"T_146b4fd6_3434_11eb_a3d0_02cba411ec9drow42_col0\" class=\"data row42 col0\" >27-8-2020</td>\n",
       "                        <td id=\"T_146b4fd6_3434_11eb_a3d0_02cba411ec9drow42_col1\" class=\"data row42 col1\" >SOFR</td>\n",
       "                        <td id=\"T_146b4fd6_3434_11eb_a3d0_02cba411ec9drow42_col2\" class=\"data row42 col2\" >0.070000</td>\n",
       "            </tr>\n",
       "            <tr>\n",
       "                        <th id=\"T_146b4fd6_3434_11eb_a3d0_02cba411ec9dlevel0_row43\" class=\"row_heading level0 row43\" >43</th>\n",
       "                        <td id=\"T_146b4fd6_3434_11eb_a3d0_02cba411ec9drow43_col0\" class=\"data row43 col0\" >26-8-2020</td>\n",
       "                        <td id=\"T_146b4fd6_3434_11eb_a3d0_02cba411ec9drow43_col1\" class=\"data row43 col1\" >SOFR</td>\n",
       "                        <td id=\"T_146b4fd6_3434_11eb_a3d0_02cba411ec9drow43_col2\" class=\"data row43 col2\" >0.070000</td>\n",
       "            </tr>\n",
       "            <tr>\n",
       "                        <th id=\"T_146b4fd6_3434_11eb_a3d0_02cba411ec9dlevel0_row44\" class=\"row_heading level0 row44\" >44</th>\n",
       "                        <td id=\"T_146b4fd6_3434_11eb_a3d0_02cba411ec9drow44_col0\" class=\"data row44 col0\" >25-8-2020</td>\n",
       "                        <td id=\"T_146b4fd6_3434_11eb_a3d0_02cba411ec9drow44_col1\" class=\"data row44 col1\" >SOFR</td>\n",
       "                        <td id=\"T_146b4fd6_3434_11eb_a3d0_02cba411ec9drow44_col2\" class=\"data row44 col2\" >0.080000</td>\n",
       "            </tr>\n",
       "            <tr>\n",
       "                        <th id=\"T_146b4fd6_3434_11eb_a3d0_02cba411ec9dlevel0_row45\" class=\"row_heading level0 row45\" >45</th>\n",
       "                        <td id=\"T_146b4fd6_3434_11eb_a3d0_02cba411ec9drow45_col0\" class=\"data row45 col0\" >24-8-2020</td>\n",
       "                        <td id=\"T_146b4fd6_3434_11eb_a3d0_02cba411ec9drow45_col1\" class=\"data row45 col1\" >SOFR</td>\n",
       "                        <td id=\"T_146b4fd6_3434_11eb_a3d0_02cba411ec9drow45_col2\" class=\"data row45 col2\" >0.080000</td>\n",
       "            </tr>\n",
       "            <tr>\n",
       "                        <th id=\"T_146b4fd6_3434_11eb_a3d0_02cba411ec9dlevel0_row46\" class=\"row_heading level0 row46\" >46</th>\n",
       "                        <td id=\"T_146b4fd6_3434_11eb_a3d0_02cba411ec9drow46_col0\" class=\"data row46 col0\" >21-8-2020</td>\n",
       "                        <td id=\"T_146b4fd6_3434_11eb_a3d0_02cba411ec9drow46_col1\" class=\"data row46 col1\" >SOFR</td>\n",
       "                        <td id=\"T_146b4fd6_3434_11eb_a3d0_02cba411ec9drow46_col2\" class=\"data row46 col2\" >0.070000</td>\n",
       "            </tr>\n",
       "            <tr>\n",
       "                        <th id=\"T_146b4fd6_3434_11eb_a3d0_02cba411ec9dlevel0_row47\" class=\"row_heading level0 row47\" >47</th>\n",
       "                        <td id=\"T_146b4fd6_3434_11eb_a3d0_02cba411ec9drow47_col0\" class=\"data row47 col0\" >20-8-2020</td>\n",
       "                        <td id=\"T_146b4fd6_3434_11eb_a3d0_02cba411ec9drow47_col1\" class=\"data row47 col1\" >SOFR</td>\n",
       "                        <td id=\"T_146b4fd6_3434_11eb_a3d0_02cba411ec9drow47_col2\" class=\"data row47 col2\" >0.070000</td>\n",
       "            </tr>\n",
       "            <tr>\n",
       "                        <th id=\"T_146b4fd6_3434_11eb_a3d0_02cba411ec9dlevel0_row48\" class=\"row_heading level0 row48\" >48</th>\n",
       "                        <td id=\"T_146b4fd6_3434_11eb_a3d0_02cba411ec9drow48_col0\" class=\"data row48 col0\" >19-8-2020</td>\n",
       "                        <td id=\"T_146b4fd6_3434_11eb_a3d0_02cba411ec9drow48_col1\" class=\"data row48 col1\" >SOFR</td>\n",
       "                        <td id=\"T_146b4fd6_3434_11eb_a3d0_02cba411ec9drow48_col2\" class=\"data row48 col2\" >0.090000</td>\n",
       "            </tr>\n",
       "            <tr>\n",
       "                        <th id=\"T_146b4fd6_3434_11eb_a3d0_02cba411ec9dlevel0_row49\" class=\"row_heading level0 row49\" >49</th>\n",
       "                        <td id=\"T_146b4fd6_3434_11eb_a3d0_02cba411ec9drow49_col0\" class=\"data row49 col0\" >18-8-2020</td>\n",
       "                        <td id=\"T_146b4fd6_3434_11eb_a3d0_02cba411ec9drow49_col1\" class=\"data row49 col1\" >SOFR</td>\n",
       "                        <td id=\"T_146b4fd6_3434_11eb_a3d0_02cba411ec9drow49_col2\" class=\"data row49 col2\" >0.090000</td>\n",
       "            </tr>\n",
       "            <tr>\n",
       "                        <th id=\"T_146b4fd6_3434_11eb_a3d0_02cba411ec9dlevel0_row50\" class=\"row_heading level0 row50\" >50</th>\n",
       "                        <td id=\"T_146b4fd6_3434_11eb_a3d0_02cba411ec9drow50_col0\" class=\"data row50 col0\" >17-8-2020</td>\n",
       "                        <td id=\"T_146b4fd6_3434_11eb_a3d0_02cba411ec9drow50_col1\" class=\"data row50 col1\" >SOFR</td>\n",
       "                        <td id=\"T_146b4fd6_3434_11eb_a3d0_02cba411ec9drow50_col2\" class=\"data row50 col2\" >0.100000</td>\n",
       "            </tr>\n",
       "            <tr>\n",
       "                        <th id=\"T_146b4fd6_3434_11eb_a3d0_02cba411ec9dlevel0_row51\" class=\"row_heading level0 row51\" >51</th>\n",
       "                        <td id=\"T_146b4fd6_3434_11eb_a3d0_02cba411ec9drow51_col0\" class=\"data row51 col0\" >14-8-2020</td>\n",
       "                        <td id=\"T_146b4fd6_3434_11eb_a3d0_02cba411ec9drow51_col1\" class=\"data row51 col1\" >SOFR</td>\n",
       "                        <td id=\"T_146b4fd6_3434_11eb_a3d0_02cba411ec9drow51_col2\" class=\"data row51 col2\" >0.090000</td>\n",
       "            </tr>\n",
       "            <tr>\n",
       "                        <th id=\"T_146b4fd6_3434_11eb_a3d0_02cba411ec9dlevel0_row52\" class=\"row_heading level0 row52\" >52</th>\n",
       "                        <td id=\"T_146b4fd6_3434_11eb_a3d0_02cba411ec9drow52_col0\" class=\"data row52 col0\" >13-8-2020</td>\n",
       "                        <td id=\"T_146b4fd6_3434_11eb_a3d0_02cba411ec9drow52_col1\" class=\"data row52 col1\" >SOFR</td>\n",
       "                        <td id=\"T_146b4fd6_3434_11eb_a3d0_02cba411ec9drow52_col2\" class=\"data row52 col2\" >0.090000</td>\n",
       "            </tr>\n",
       "            <tr>\n",
       "                        <th id=\"T_146b4fd6_3434_11eb_a3d0_02cba411ec9dlevel0_row53\" class=\"row_heading level0 row53\" >53</th>\n",
       "                        <td id=\"T_146b4fd6_3434_11eb_a3d0_02cba411ec9drow53_col0\" class=\"data row53 col0\" >12-8-2020</td>\n",
       "                        <td id=\"T_146b4fd6_3434_11eb_a3d0_02cba411ec9drow53_col1\" class=\"data row53 col1\" >SOFR</td>\n",
       "                        <td id=\"T_146b4fd6_3434_11eb_a3d0_02cba411ec9drow53_col2\" class=\"data row53 col2\" >0.090000</td>\n",
       "            </tr>\n",
       "            <tr>\n",
       "                        <th id=\"T_146b4fd6_3434_11eb_a3d0_02cba411ec9dlevel0_row54\" class=\"row_heading level0 row54\" >54</th>\n",
       "                        <td id=\"T_146b4fd6_3434_11eb_a3d0_02cba411ec9drow54_col0\" class=\"data row54 col0\" >11-8-2020</td>\n",
       "                        <td id=\"T_146b4fd6_3434_11eb_a3d0_02cba411ec9drow54_col1\" class=\"data row54 col1\" >SOFR</td>\n",
       "                        <td id=\"T_146b4fd6_3434_11eb_a3d0_02cba411ec9drow54_col2\" class=\"data row54 col2\" >0.100000</td>\n",
       "            </tr>\n",
       "            <tr>\n",
       "                        <th id=\"T_146b4fd6_3434_11eb_a3d0_02cba411ec9dlevel0_row55\" class=\"row_heading level0 row55\" >55</th>\n",
       "                        <td id=\"T_146b4fd6_3434_11eb_a3d0_02cba411ec9drow55_col0\" class=\"data row55 col0\" >10-8-2020</td>\n",
       "                        <td id=\"T_146b4fd6_3434_11eb_a3d0_02cba411ec9drow55_col1\" class=\"data row55 col1\" >SOFR</td>\n",
       "                        <td id=\"T_146b4fd6_3434_11eb_a3d0_02cba411ec9drow55_col2\" class=\"data row55 col2\" >0.090000</td>\n",
       "            </tr>\n",
       "            <tr>\n",
       "                        <th id=\"T_146b4fd6_3434_11eb_a3d0_02cba411ec9dlevel0_row56\" class=\"row_heading level0 row56\" >56</th>\n",
       "                        <td id=\"T_146b4fd6_3434_11eb_a3d0_02cba411ec9drow56_col0\" class=\"data row56 col0\" >7-8-2020</td>\n",
       "                        <td id=\"T_146b4fd6_3434_11eb_a3d0_02cba411ec9drow56_col1\" class=\"data row56 col1\" >SOFR</td>\n",
       "                        <td id=\"T_146b4fd6_3434_11eb_a3d0_02cba411ec9drow56_col2\" class=\"data row56 col2\" >0.090000</td>\n",
       "            </tr>\n",
       "            <tr>\n",
       "                        <th id=\"T_146b4fd6_3434_11eb_a3d0_02cba411ec9dlevel0_row57\" class=\"row_heading level0 row57\" >57</th>\n",
       "                        <td id=\"T_146b4fd6_3434_11eb_a3d0_02cba411ec9drow57_col0\" class=\"data row57 col0\" >6-8-2020</td>\n",
       "                        <td id=\"T_146b4fd6_3434_11eb_a3d0_02cba411ec9drow57_col1\" class=\"data row57 col1\" >SOFR</td>\n",
       "                        <td id=\"T_146b4fd6_3434_11eb_a3d0_02cba411ec9drow57_col2\" class=\"data row57 col2\" >0.090000</td>\n",
       "            </tr>\n",
       "            <tr>\n",
       "                        <th id=\"T_146b4fd6_3434_11eb_a3d0_02cba411ec9dlevel0_row58\" class=\"row_heading level0 row58\" >58</th>\n",
       "                        <td id=\"T_146b4fd6_3434_11eb_a3d0_02cba411ec9drow58_col0\" class=\"data row58 col0\" >5-8-2020</td>\n",
       "                        <td id=\"T_146b4fd6_3434_11eb_a3d0_02cba411ec9drow58_col1\" class=\"data row58 col1\" >SOFR</td>\n",
       "                        <td id=\"T_146b4fd6_3434_11eb_a3d0_02cba411ec9drow58_col2\" class=\"data row58 col2\" >0.090000</td>\n",
       "            </tr>\n",
       "            <tr>\n",
       "                        <th id=\"T_146b4fd6_3434_11eb_a3d0_02cba411ec9dlevel0_row59\" class=\"row_heading level0 row59\" >59</th>\n",
       "                        <td id=\"T_146b4fd6_3434_11eb_a3d0_02cba411ec9drow59_col0\" class=\"data row59 col0\" >4-8-2020</td>\n",
       "                        <td id=\"T_146b4fd6_3434_11eb_a3d0_02cba411ec9drow59_col1\" class=\"data row59 col1\" >SOFR</td>\n",
       "                        <td id=\"T_146b4fd6_3434_11eb_a3d0_02cba411ec9drow59_col2\" class=\"data row59 col2\" >0.090000</td>\n",
       "            </tr>\n",
       "            <tr>\n",
       "                        <th id=\"T_146b4fd6_3434_11eb_a3d0_02cba411ec9dlevel0_row60\" class=\"row_heading level0 row60\" >60</th>\n",
       "                        <td id=\"T_146b4fd6_3434_11eb_a3d0_02cba411ec9drow60_col0\" class=\"data row60 col0\" >3-8-2020</td>\n",
       "                        <td id=\"T_146b4fd6_3434_11eb_a3d0_02cba411ec9drow60_col1\" class=\"data row60 col1\" >SOFR</td>\n",
       "                        <td id=\"T_146b4fd6_3434_11eb_a3d0_02cba411ec9drow60_col2\" class=\"data row60 col2\" >0.100000</td>\n",
       "            </tr>\n",
       "            <tr>\n",
       "                        <th id=\"T_146b4fd6_3434_11eb_a3d0_02cba411ec9dlevel0_row61\" class=\"row_heading level0 row61\" >61</th>\n",
       "                        <td id=\"T_146b4fd6_3434_11eb_a3d0_02cba411ec9drow61_col0\" class=\"data row61 col0\" >31-7-2020</td>\n",
       "                        <td id=\"T_146b4fd6_3434_11eb_a3d0_02cba411ec9drow61_col1\" class=\"data row61 col1\" >SOFR</td>\n",
       "                        <td id=\"T_146b4fd6_3434_11eb_a3d0_02cba411ec9drow61_col2\" class=\"data row61 col2\" >0.100000</td>\n",
       "            </tr>\n",
       "            <tr>\n",
       "                        <th id=\"T_146b4fd6_3434_11eb_a3d0_02cba411ec9dlevel0_row62\" class=\"row_heading level0 row62\" >62</th>\n",
       "                        <td id=\"T_146b4fd6_3434_11eb_a3d0_02cba411ec9drow62_col0\" class=\"data row62 col0\" >30-7-2020</td>\n",
       "                        <td id=\"T_146b4fd6_3434_11eb_a3d0_02cba411ec9drow62_col1\" class=\"data row62 col1\" >SOFR</td>\n",
       "                        <td id=\"T_146b4fd6_3434_11eb_a3d0_02cba411ec9drow62_col2\" class=\"data row62 col2\" >0.100000</td>\n",
       "            </tr>\n",
       "            <tr>\n",
       "                        <th id=\"T_146b4fd6_3434_11eb_a3d0_02cba411ec9dlevel0_row63\" class=\"row_heading level0 row63\" >63</th>\n",
       "                        <td id=\"T_146b4fd6_3434_11eb_a3d0_02cba411ec9drow63_col0\" class=\"data row63 col0\" >29-7-2020</td>\n",
       "                        <td id=\"T_146b4fd6_3434_11eb_a3d0_02cba411ec9drow63_col1\" class=\"data row63 col1\" >SOFR</td>\n",
       "                        <td id=\"T_146b4fd6_3434_11eb_a3d0_02cba411ec9drow63_col2\" class=\"data row63 col2\" >0.090000</td>\n",
       "            </tr>\n",
       "            <tr>\n",
       "                        <th id=\"T_146b4fd6_3434_11eb_a3d0_02cba411ec9dlevel0_row64\" class=\"row_heading level0 row64\" >64</th>\n",
       "                        <td id=\"T_146b4fd6_3434_11eb_a3d0_02cba411ec9drow64_col0\" class=\"data row64 col0\" >28-7-2020</td>\n",
       "                        <td id=\"T_146b4fd6_3434_11eb_a3d0_02cba411ec9drow64_col1\" class=\"data row64 col1\" >SOFR</td>\n",
       "                        <td id=\"T_146b4fd6_3434_11eb_a3d0_02cba411ec9drow64_col2\" class=\"data row64 col2\" >0.100000</td>\n",
       "            </tr>\n",
       "            <tr>\n",
       "                        <th id=\"T_146b4fd6_3434_11eb_a3d0_02cba411ec9dlevel0_row65\" class=\"row_heading level0 row65\" >65</th>\n",
       "                        <td id=\"T_146b4fd6_3434_11eb_a3d0_02cba411ec9drow65_col0\" class=\"data row65 col0\" >27-7-2020</td>\n",
       "                        <td id=\"T_146b4fd6_3434_11eb_a3d0_02cba411ec9drow65_col1\" class=\"data row65 col1\" >SOFR</td>\n",
       "                        <td id=\"T_146b4fd6_3434_11eb_a3d0_02cba411ec9drow65_col2\" class=\"data row65 col2\" >0.100000</td>\n",
       "            </tr>\n",
       "            <tr>\n",
       "                        <th id=\"T_146b4fd6_3434_11eb_a3d0_02cba411ec9dlevel0_row66\" class=\"row_heading level0 row66\" >66</th>\n",
       "                        <td id=\"T_146b4fd6_3434_11eb_a3d0_02cba411ec9drow66_col0\" class=\"data row66 col0\" >24-7-2020</td>\n",
       "                        <td id=\"T_146b4fd6_3434_11eb_a3d0_02cba411ec9drow66_col1\" class=\"data row66 col1\" >SOFR</td>\n",
       "                        <td id=\"T_146b4fd6_3434_11eb_a3d0_02cba411ec9drow66_col2\" class=\"data row66 col2\" >0.100000</td>\n",
       "            </tr>\n",
       "            <tr>\n",
       "                        <th id=\"T_146b4fd6_3434_11eb_a3d0_02cba411ec9dlevel0_row67\" class=\"row_heading level0 row67\" >67</th>\n",
       "                        <td id=\"T_146b4fd6_3434_11eb_a3d0_02cba411ec9drow67_col0\" class=\"data row67 col0\" >23-7-2020</td>\n",
       "                        <td id=\"T_146b4fd6_3434_11eb_a3d0_02cba411ec9drow67_col1\" class=\"data row67 col1\" >SOFR</td>\n",
       "                        <td id=\"T_146b4fd6_3434_11eb_a3d0_02cba411ec9drow67_col2\" class=\"data row67 col2\" >0.100000</td>\n",
       "            </tr>\n",
       "            <tr>\n",
       "                        <th id=\"T_146b4fd6_3434_11eb_a3d0_02cba411ec9dlevel0_row68\" class=\"row_heading level0 row68\" >68</th>\n",
       "                        <td id=\"T_146b4fd6_3434_11eb_a3d0_02cba411ec9drow68_col0\" class=\"data row68 col0\" >22-7-2020</td>\n",
       "                        <td id=\"T_146b4fd6_3434_11eb_a3d0_02cba411ec9drow68_col1\" class=\"data row68 col1\" >SOFR</td>\n",
       "                        <td id=\"T_146b4fd6_3434_11eb_a3d0_02cba411ec9drow68_col2\" class=\"data row68 col2\" >0.100000</td>\n",
       "            </tr>\n",
       "            <tr>\n",
       "                        <th id=\"T_146b4fd6_3434_11eb_a3d0_02cba411ec9dlevel0_row69\" class=\"row_heading level0 row69\" >69</th>\n",
       "                        <td id=\"T_146b4fd6_3434_11eb_a3d0_02cba411ec9drow69_col0\" class=\"data row69 col0\" >21-7-2020</td>\n",
       "                        <td id=\"T_146b4fd6_3434_11eb_a3d0_02cba411ec9drow69_col1\" class=\"data row69 col1\" >SOFR</td>\n",
       "                        <td id=\"T_146b4fd6_3434_11eb_a3d0_02cba411ec9drow69_col2\" class=\"data row69 col2\" >0.110000</td>\n",
       "            </tr>\n",
       "            <tr>\n",
       "                        <th id=\"T_146b4fd6_3434_11eb_a3d0_02cba411ec9dlevel0_row70\" class=\"row_heading level0 row70\" >70</th>\n",
       "                        <td id=\"T_146b4fd6_3434_11eb_a3d0_02cba411ec9drow70_col0\" class=\"data row70 col0\" >20-7-2020</td>\n",
       "                        <td id=\"T_146b4fd6_3434_11eb_a3d0_02cba411ec9drow70_col1\" class=\"data row70 col1\" >SOFR</td>\n",
       "                        <td id=\"T_146b4fd6_3434_11eb_a3d0_02cba411ec9drow70_col2\" class=\"data row70 col2\" >0.120000</td>\n",
       "            </tr>\n",
       "            <tr>\n",
       "                        <th id=\"T_146b4fd6_3434_11eb_a3d0_02cba411ec9dlevel0_row71\" class=\"row_heading level0 row71\" >71</th>\n",
       "                        <td id=\"T_146b4fd6_3434_11eb_a3d0_02cba411ec9drow71_col0\" class=\"data row71 col0\" >17-7-2020</td>\n",
       "                        <td id=\"T_146b4fd6_3434_11eb_a3d0_02cba411ec9drow71_col1\" class=\"data row71 col1\" >SOFR</td>\n",
       "                        <td id=\"T_146b4fd6_3434_11eb_a3d0_02cba411ec9drow71_col2\" class=\"data row71 col2\" >0.120000</td>\n",
       "            </tr>\n",
       "            <tr>\n",
       "                        <th id=\"T_146b4fd6_3434_11eb_a3d0_02cba411ec9dlevel0_row72\" class=\"row_heading level0 row72\" >72</th>\n",
       "                        <td id=\"T_146b4fd6_3434_11eb_a3d0_02cba411ec9drow72_col0\" class=\"data row72 col0\" >16-7-2020</td>\n",
       "                        <td id=\"T_146b4fd6_3434_11eb_a3d0_02cba411ec9drow72_col1\" class=\"data row72 col1\" >SOFR</td>\n",
       "                        <td id=\"T_146b4fd6_3434_11eb_a3d0_02cba411ec9drow72_col2\" class=\"data row72 col2\" >0.120000</td>\n",
       "            </tr>\n",
       "            <tr>\n",
       "                        <th id=\"T_146b4fd6_3434_11eb_a3d0_02cba411ec9dlevel0_row73\" class=\"row_heading level0 row73\" >73</th>\n",
       "                        <td id=\"T_146b4fd6_3434_11eb_a3d0_02cba411ec9drow73_col0\" class=\"data row73 col0\" >15-7-2020</td>\n",
       "                        <td id=\"T_146b4fd6_3434_11eb_a3d0_02cba411ec9drow73_col1\" class=\"data row73 col1\" >SOFR</td>\n",
       "                        <td id=\"T_146b4fd6_3434_11eb_a3d0_02cba411ec9drow73_col2\" class=\"data row73 col2\" >0.130000</td>\n",
       "            </tr>\n",
       "            <tr>\n",
       "                        <th id=\"T_146b4fd6_3434_11eb_a3d0_02cba411ec9dlevel0_row74\" class=\"row_heading level0 row74\" >74</th>\n",
       "                        <td id=\"T_146b4fd6_3434_11eb_a3d0_02cba411ec9drow74_col0\" class=\"data row74 col0\" >14-7-2020</td>\n",
       "                        <td id=\"T_146b4fd6_3434_11eb_a3d0_02cba411ec9drow74_col1\" class=\"data row74 col1\" >SOFR</td>\n",
       "                        <td id=\"T_146b4fd6_3434_11eb_a3d0_02cba411ec9drow74_col2\" class=\"data row74 col2\" >0.110000</td>\n",
       "            </tr>\n",
       "            <tr>\n",
       "                        <th id=\"T_146b4fd6_3434_11eb_a3d0_02cba411ec9dlevel0_row75\" class=\"row_heading level0 row75\" >75</th>\n",
       "                        <td id=\"T_146b4fd6_3434_11eb_a3d0_02cba411ec9drow75_col0\" class=\"data row75 col0\" >13-7-2020</td>\n",
       "                        <td id=\"T_146b4fd6_3434_11eb_a3d0_02cba411ec9drow75_col1\" class=\"data row75 col1\" >SOFR</td>\n",
       "                        <td id=\"T_146b4fd6_3434_11eb_a3d0_02cba411ec9drow75_col2\" class=\"data row75 col2\" >0.100000</td>\n",
       "            </tr>\n",
       "            <tr>\n",
       "                        <th id=\"T_146b4fd6_3434_11eb_a3d0_02cba411ec9dlevel0_row76\" class=\"row_heading level0 row76\" >76</th>\n",
       "                        <td id=\"T_146b4fd6_3434_11eb_a3d0_02cba411ec9drow76_col0\" class=\"data row76 col0\" >10-7-2020</td>\n",
       "                        <td id=\"T_146b4fd6_3434_11eb_a3d0_02cba411ec9drow76_col1\" class=\"data row76 col1\" >SOFR</td>\n",
       "                        <td id=\"T_146b4fd6_3434_11eb_a3d0_02cba411ec9drow76_col2\" class=\"data row76 col2\" >0.100000</td>\n",
       "            </tr>\n",
       "            <tr>\n",
       "                        <th id=\"T_146b4fd6_3434_11eb_a3d0_02cba411ec9dlevel0_row77\" class=\"row_heading level0 row77\" >77</th>\n",
       "                        <td id=\"T_146b4fd6_3434_11eb_a3d0_02cba411ec9drow77_col0\" class=\"data row77 col0\" >9-7-2020</td>\n",
       "                        <td id=\"T_146b4fd6_3434_11eb_a3d0_02cba411ec9drow77_col1\" class=\"data row77 col1\" >SOFR</td>\n",
       "                        <td id=\"T_146b4fd6_3434_11eb_a3d0_02cba411ec9drow77_col2\" class=\"data row77 col2\" >0.100000</td>\n",
       "            </tr>\n",
       "            <tr>\n",
       "                        <th id=\"T_146b4fd6_3434_11eb_a3d0_02cba411ec9dlevel0_row78\" class=\"row_heading level0 row78\" >78</th>\n",
       "                        <td id=\"T_146b4fd6_3434_11eb_a3d0_02cba411ec9drow78_col0\" class=\"data row78 col0\" >8-7-2020</td>\n",
       "                        <td id=\"T_146b4fd6_3434_11eb_a3d0_02cba411ec9drow78_col1\" class=\"data row78 col1\" >SOFR</td>\n",
       "                        <td id=\"T_146b4fd6_3434_11eb_a3d0_02cba411ec9drow78_col2\" class=\"data row78 col2\" >0.100000</td>\n",
       "            </tr>\n",
       "            <tr>\n",
       "                        <th id=\"T_146b4fd6_3434_11eb_a3d0_02cba411ec9dlevel0_row79\" class=\"row_heading level0 row79\" >79</th>\n",
       "                        <td id=\"T_146b4fd6_3434_11eb_a3d0_02cba411ec9drow79_col0\" class=\"data row79 col0\" >7-7-2020</td>\n",
       "                        <td id=\"T_146b4fd6_3434_11eb_a3d0_02cba411ec9drow79_col1\" class=\"data row79 col1\" >SOFR</td>\n",
       "                        <td id=\"T_146b4fd6_3434_11eb_a3d0_02cba411ec9drow79_col2\" class=\"data row79 col2\" >0.100000</td>\n",
       "            </tr>\n",
       "            <tr>\n",
       "                        <th id=\"T_146b4fd6_3434_11eb_a3d0_02cba411ec9dlevel0_row80\" class=\"row_heading level0 row80\" >80</th>\n",
       "                        <td id=\"T_146b4fd6_3434_11eb_a3d0_02cba411ec9drow80_col0\" class=\"data row80 col0\" >6-7-2020</td>\n",
       "                        <td id=\"T_146b4fd6_3434_11eb_a3d0_02cba411ec9drow80_col1\" class=\"data row80 col1\" >SOFR</td>\n",
       "                        <td id=\"T_146b4fd6_3434_11eb_a3d0_02cba411ec9drow80_col2\" class=\"data row80 col2\" >0.100000</td>\n",
       "            </tr>\n",
       "            <tr>\n",
       "                        <th id=\"T_146b4fd6_3434_11eb_a3d0_02cba411ec9dlevel0_row81\" class=\"row_heading level0 row81\" >81</th>\n",
       "                        <td id=\"T_146b4fd6_3434_11eb_a3d0_02cba411ec9drow81_col0\" class=\"data row81 col0\" >2-7-2020</td>\n",
       "                        <td id=\"T_146b4fd6_3434_11eb_a3d0_02cba411ec9drow81_col1\" class=\"data row81 col1\" >SOFR</td>\n",
       "                        <td id=\"T_146b4fd6_3434_11eb_a3d0_02cba411ec9drow81_col2\" class=\"data row81 col2\" >0.110000</td>\n",
       "            </tr>\n",
       "            <tr>\n",
       "                        <th id=\"T_146b4fd6_3434_11eb_a3d0_02cba411ec9dlevel0_row82\" class=\"row_heading level0 row82\" >82</th>\n",
       "                        <td id=\"T_146b4fd6_3434_11eb_a3d0_02cba411ec9drow82_col0\" class=\"data row82 col0\" >1-7-2020</td>\n",
       "                        <td id=\"T_146b4fd6_3434_11eb_a3d0_02cba411ec9drow82_col1\" class=\"data row82 col1\" >SOFR</td>\n",
       "                        <td id=\"T_146b4fd6_3434_11eb_a3d0_02cba411ec9drow82_col2\" class=\"data row82 col2\" >0.110000</td>\n",
       "            </tr>\n",
       "            <tr>\n",
       "                        <th id=\"T_146b4fd6_3434_11eb_a3d0_02cba411ec9dlevel0_row83\" class=\"row_heading level0 row83\" >83</th>\n",
       "                        <td id=\"T_146b4fd6_3434_11eb_a3d0_02cba411ec9drow83_col0\" class=\"data row83 col0\" >30-6-2020</td>\n",
       "                        <td id=\"T_146b4fd6_3434_11eb_a3d0_02cba411ec9drow83_col1\" class=\"data row83 col1\" >SOFR</td>\n",
       "                        <td id=\"T_146b4fd6_3434_11eb_a3d0_02cba411ec9drow83_col2\" class=\"data row83 col2\" >0.100000</td>\n",
       "            </tr>\n",
       "            <tr>\n",
       "                        <th id=\"T_146b4fd6_3434_11eb_a3d0_02cba411ec9dlevel0_row84\" class=\"row_heading level0 row84\" >84</th>\n",
       "                        <td id=\"T_146b4fd6_3434_11eb_a3d0_02cba411ec9drow84_col0\" class=\"data row84 col0\" >29-6-2020</td>\n",
       "                        <td id=\"T_146b4fd6_3434_11eb_a3d0_02cba411ec9drow84_col1\" class=\"data row84 col1\" >SOFR</td>\n",
       "                        <td id=\"T_146b4fd6_3434_11eb_a3d0_02cba411ec9drow84_col2\" class=\"data row84 col2\" >0.080000</td>\n",
       "            </tr>\n",
       "            <tr>\n",
       "                        <th id=\"T_146b4fd6_3434_11eb_a3d0_02cba411ec9dlevel0_row85\" class=\"row_heading level0 row85\" >85</th>\n",
       "                        <td id=\"T_146b4fd6_3434_11eb_a3d0_02cba411ec9drow85_col0\" class=\"data row85 col0\" >26-6-2020</td>\n",
       "                        <td id=\"T_146b4fd6_3434_11eb_a3d0_02cba411ec9drow85_col1\" class=\"data row85 col1\" >SOFR</td>\n",
       "                        <td id=\"T_146b4fd6_3434_11eb_a3d0_02cba411ec9drow85_col2\" class=\"data row85 col2\" >0.080000</td>\n",
       "            </tr>\n",
       "            <tr>\n",
       "                        <th id=\"T_146b4fd6_3434_11eb_a3d0_02cba411ec9dlevel0_row86\" class=\"row_heading level0 row86\" >86</th>\n",
       "                        <td id=\"T_146b4fd6_3434_11eb_a3d0_02cba411ec9drow86_col0\" class=\"data row86 col0\" >25-6-2020</td>\n",
       "                        <td id=\"T_146b4fd6_3434_11eb_a3d0_02cba411ec9drow86_col1\" class=\"data row86 col1\" >SOFR</td>\n",
       "                        <td id=\"T_146b4fd6_3434_11eb_a3d0_02cba411ec9drow86_col2\" class=\"data row86 col2\" >0.090000</td>\n",
       "            </tr>\n",
       "            <tr>\n",
       "                        <th id=\"T_146b4fd6_3434_11eb_a3d0_02cba411ec9dlevel0_row87\" class=\"row_heading level0 row87\" >87</th>\n",
       "                        <td id=\"T_146b4fd6_3434_11eb_a3d0_02cba411ec9drow87_col0\" class=\"data row87 col0\" >24-6-2020</td>\n",
       "                        <td id=\"T_146b4fd6_3434_11eb_a3d0_02cba411ec9drow87_col1\" class=\"data row87 col1\" >SOFR</td>\n",
       "                        <td id=\"T_146b4fd6_3434_11eb_a3d0_02cba411ec9drow87_col2\" class=\"data row87 col2\" >0.080000</td>\n",
       "            </tr>\n",
       "            <tr>\n",
       "                        <th id=\"T_146b4fd6_3434_11eb_a3d0_02cba411ec9dlevel0_row88\" class=\"row_heading level0 row88\" >88</th>\n",
       "                        <td id=\"T_146b4fd6_3434_11eb_a3d0_02cba411ec9drow88_col0\" class=\"data row88 col0\" >23-6-2020</td>\n",
       "                        <td id=\"T_146b4fd6_3434_11eb_a3d0_02cba411ec9drow88_col1\" class=\"data row88 col1\" >SOFR</td>\n",
       "                        <td id=\"T_146b4fd6_3434_11eb_a3d0_02cba411ec9drow88_col2\" class=\"data row88 col2\" >0.070000</td>\n",
       "            </tr>\n",
       "            <tr>\n",
       "                        <th id=\"T_146b4fd6_3434_11eb_a3d0_02cba411ec9dlevel0_row89\" class=\"row_heading level0 row89\" >89</th>\n",
       "                        <td id=\"T_146b4fd6_3434_11eb_a3d0_02cba411ec9drow89_col0\" class=\"data row89 col0\" >22-6-2020</td>\n",
       "                        <td id=\"T_146b4fd6_3434_11eb_a3d0_02cba411ec9drow89_col1\" class=\"data row89 col1\" >SOFR</td>\n",
       "                        <td id=\"T_146b4fd6_3434_11eb_a3d0_02cba411ec9drow89_col2\" class=\"data row89 col2\" >0.080000</td>\n",
       "            </tr>\n",
       "            <tr>\n",
       "                        <th id=\"T_146b4fd6_3434_11eb_a3d0_02cba411ec9dlevel0_row90\" class=\"row_heading level0 row90\" >90</th>\n",
       "                        <td id=\"T_146b4fd6_3434_11eb_a3d0_02cba411ec9drow90_col0\" class=\"data row90 col0\" >19-6-2020</td>\n",
       "                        <td id=\"T_146b4fd6_3434_11eb_a3d0_02cba411ec9drow90_col1\" class=\"data row90 col1\" >SOFR</td>\n",
       "                        <td id=\"T_146b4fd6_3434_11eb_a3d0_02cba411ec9drow90_col2\" class=\"data row90 col2\" >0.090000</td>\n",
       "            </tr>\n",
       "            <tr>\n",
       "                        <th id=\"T_146b4fd6_3434_11eb_a3d0_02cba411ec9dlevel0_row91\" class=\"row_heading level0 row91\" >91</th>\n",
       "                        <td id=\"T_146b4fd6_3434_11eb_a3d0_02cba411ec9drow91_col0\" class=\"data row91 col0\" >18-6-2020</td>\n",
       "                        <td id=\"T_146b4fd6_3434_11eb_a3d0_02cba411ec9drow91_col1\" class=\"data row91 col1\" >SOFR</td>\n",
       "                        <td id=\"T_146b4fd6_3434_11eb_a3d0_02cba411ec9drow91_col2\" class=\"data row91 col2\" >0.090000</td>\n",
       "            </tr>\n",
       "            <tr>\n",
       "                        <th id=\"T_146b4fd6_3434_11eb_a3d0_02cba411ec9dlevel0_row92\" class=\"row_heading level0 row92\" >92</th>\n",
       "                        <td id=\"T_146b4fd6_3434_11eb_a3d0_02cba411ec9drow92_col0\" class=\"data row92 col0\" >17-6-2020</td>\n",
       "                        <td id=\"T_146b4fd6_3434_11eb_a3d0_02cba411ec9drow92_col1\" class=\"data row92 col1\" >SOFR</td>\n",
       "                        <td id=\"T_146b4fd6_3434_11eb_a3d0_02cba411ec9drow92_col2\" class=\"data row92 col2\" >0.090000</td>\n",
       "            </tr>\n",
       "            <tr>\n",
       "                        <th id=\"T_146b4fd6_3434_11eb_a3d0_02cba411ec9dlevel0_row93\" class=\"row_heading level0 row93\" >93</th>\n",
       "                        <td id=\"T_146b4fd6_3434_11eb_a3d0_02cba411ec9drow93_col0\" class=\"data row93 col0\" >16-6-2020</td>\n",
       "                        <td id=\"T_146b4fd6_3434_11eb_a3d0_02cba411ec9drow93_col1\" class=\"data row93 col1\" >SOFR</td>\n",
       "                        <td id=\"T_146b4fd6_3434_11eb_a3d0_02cba411ec9drow93_col2\" class=\"data row93 col2\" >0.090000</td>\n",
       "            </tr>\n",
       "            <tr>\n",
       "                        <th id=\"T_146b4fd6_3434_11eb_a3d0_02cba411ec9dlevel0_row94\" class=\"row_heading level0 row94\" >94</th>\n",
       "                        <td id=\"T_146b4fd6_3434_11eb_a3d0_02cba411ec9drow94_col0\" class=\"data row94 col0\" >15-6-2020</td>\n",
       "                        <td id=\"T_146b4fd6_3434_11eb_a3d0_02cba411ec9drow94_col1\" class=\"data row94 col1\" >SOFR</td>\n",
       "                        <td id=\"T_146b4fd6_3434_11eb_a3d0_02cba411ec9drow94_col2\" class=\"data row94 col2\" >0.090000</td>\n",
       "            </tr>\n",
       "            <tr>\n",
       "                        <th id=\"T_146b4fd6_3434_11eb_a3d0_02cba411ec9dlevel0_row95\" class=\"row_heading level0 row95\" >95</th>\n",
       "                        <td id=\"T_146b4fd6_3434_11eb_a3d0_02cba411ec9drow95_col0\" class=\"data row95 col0\" >12-6-2020</td>\n",
       "                        <td id=\"T_146b4fd6_3434_11eb_a3d0_02cba411ec9drow95_col1\" class=\"data row95 col1\" >SOFR</td>\n",
       "                        <td id=\"T_146b4fd6_3434_11eb_a3d0_02cba411ec9drow95_col2\" class=\"data row95 col2\" >0.080000</td>\n",
       "            </tr>\n",
       "            <tr>\n",
       "                        <th id=\"T_146b4fd6_3434_11eb_a3d0_02cba411ec9dlevel0_row96\" class=\"row_heading level0 row96\" >96</th>\n",
       "                        <td id=\"T_146b4fd6_3434_11eb_a3d0_02cba411ec9drow96_col0\" class=\"data row96 col0\" >11-6-2020</td>\n",
       "                        <td id=\"T_146b4fd6_3434_11eb_a3d0_02cba411ec9drow96_col1\" class=\"data row96 col1\" >SOFR</td>\n",
       "                        <td id=\"T_146b4fd6_3434_11eb_a3d0_02cba411ec9drow96_col2\" class=\"data row96 col2\" >0.080000</td>\n",
       "            </tr>\n",
       "            <tr>\n",
       "                        <th id=\"T_146b4fd6_3434_11eb_a3d0_02cba411ec9dlevel0_row97\" class=\"row_heading level0 row97\" >97</th>\n",
       "                        <td id=\"T_146b4fd6_3434_11eb_a3d0_02cba411ec9drow97_col0\" class=\"data row97 col0\" >10-6-2020</td>\n",
       "                        <td id=\"T_146b4fd6_3434_11eb_a3d0_02cba411ec9drow97_col1\" class=\"data row97 col1\" >SOFR</td>\n",
       "                        <td id=\"T_146b4fd6_3434_11eb_a3d0_02cba411ec9drow97_col2\" class=\"data row97 col2\" >0.070000</td>\n",
       "            </tr>\n",
       "            <tr>\n",
       "                        <th id=\"T_146b4fd6_3434_11eb_a3d0_02cba411ec9dlevel0_row98\" class=\"row_heading level0 row98\" >98</th>\n",
       "                        <td id=\"T_146b4fd6_3434_11eb_a3d0_02cba411ec9drow98_col0\" class=\"data row98 col0\" >9-6-2020</td>\n",
       "                        <td id=\"T_146b4fd6_3434_11eb_a3d0_02cba411ec9drow98_col1\" class=\"data row98 col1\" >SOFR</td>\n",
       "                        <td id=\"T_146b4fd6_3434_11eb_a3d0_02cba411ec9drow98_col2\" class=\"data row98 col2\" >0.080000</td>\n",
       "            </tr>\n",
       "            <tr>\n",
       "                        <th id=\"T_146b4fd6_3434_11eb_a3d0_02cba411ec9dlevel0_row99\" class=\"row_heading level0 row99\" >99</th>\n",
       "                        <td id=\"T_146b4fd6_3434_11eb_a3d0_02cba411ec9drow99_col0\" class=\"data row99 col0\" >8-6-2020</td>\n",
       "                        <td id=\"T_146b4fd6_3434_11eb_a3d0_02cba411ec9drow99_col1\" class=\"data row99 col1\" >SOFR</td>\n",
       "                        <td id=\"T_146b4fd6_3434_11eb_a3d0_02cba411ec9drow99_col2\" class=\"data row99 col2\" >0.070000</td>\n",
       "            </tr>\n",
       "            <tr>\n",
       "                        <th id=\"T_146b4fd6_3434_11eb_a3d0_02cba411ec9dlevel0_row100\" class=\"row_heading level0 row100\" >100</th>\n",
       "                        <td id=\"T_146b4fd6_3434_11eb_a3d0_02cba411ec9drow100_col0\" class=\"data row100 col0\" >5-6-2020</td>\n",
       "                        <td id=\"T_146b4fd6_3434_11eb_a3d0_02cba411ec9drow100_col1\" class=\"data row100 col1\" >SOFR</td>\n",
       "                        <td id=\"T_146b4fd6_3434_11eb_a3d0_02cba411ec9drow100_col2\" class=\"data row100 col2\" >0.070000</td>\n",
       "            </tr>\n",
       "            <tr>\n",
       "                        <th id=\"T_146b4fd6_3434_11eb_a3d0_02cba411ec9dlevel0_row101\" class=\"row_heading level0 row101\" >101</th>\n",
       "                        <td id=\"T_146b4fd6_3434_11eb_a3d0_02cba411ec9drow101_col0\" class=\"data row101 col0\" >4-6-2020</td>\n",
       "                        <td id=\"T_146b4fd6_3434_11eb_a3d0_02cba411ec9drow101_col1\" class=\"data row101 col1\" >SOFR</td>\n",
       "                        <td id=\"T_146b4fd6_3434_11eb_a3d0_02cba411ec9drow101_col2\" class=\"data row101 col2\" >0.070000</td>\n",
       "            </tr>\n",
       "            <tr>\n",
       "                        <th id=\"T_146b4fd6_3434_11eb_a3d0_02cba411ec9dlevel0_row102\" class=\"row_heading level0 row102\" >102</th>\n",
       "                        <td id=\"T_146b4fd6_3434_11eb_a3d0_02cba411ec9drow102_col0\" class=\"data row102 col0\" >3-6-2020</td>\n",
       "                        <td id=\"T_146b4fd6_3434_11eb_a3d0_02cba411ec9drow102_col1\" class=\"data row102 col1\" >SOFR</td>\n",
       "                        <td id=\"T_146b4fd6_3434_11eb_a3d0_02cba411ec9drow102_col2\" class=\"data row102 col2\" >0.060000</td>\n",
       "            </tr>\n",
       "            <tr>\n",
       "                        <th id=\"T_146b4fd6_3434_11eb_a3d0_02cba411ec9dlevel0_row103\" class=\"row_heading level0 row103\" >103</th>\n",
       "                        <td id=\"T_146b4fd6_3434_11eb_a3d0_02cba411ec9drow103_col0\" class=\"data row103 col0\" >2-6-2020</td>\n",
       "                        <td id=\"T_146b4fd6_3434_11eb_a3d0_02cba411ec9drow103_col1\" class=\"data row103 col1\" >SOFR</td>\n",
       "                        <td id=\"T_146b4fd6_3434_11eb_a3d0_02cba411ec9drow103_col2\" class=\"data row103 col2\" >0.070000</td>\n",
       "            </tr>\n",
       "            <tr>\n",
       "                        <th id=\"T_146b4fd6_3434_11eb_a3d0_02cba411ec9dlevel0_row104\" class=\"row_heading level0 row104\" >104</th>\n",
       "                        <td id=\"T_146b4fd6_3434_11eb_a3d0_02cba411ec9drow104_col0\" class=\"data row104 col0\" >1-6-2020</td>\n",
       "                        <td id=\"T_146b4fd6_3434_11eb_a3d0_02cba411ec9drow104_col1\" class=\"data row104 col1\" >SOFR</td>\n",
       "                        <td id=\"T_146b4fd6_3434_11eb_a3d0_02cba411ec9drow104_col2\" class=\"data row104 col2\" >0.060000</td>\n",
       "            </tr>\n",
       "            <tr>\n",
       "                        <th id=\"T_146b4fd6_3434_11eb_a3d0_02cba411ec9dlevel0_row105\" class=\"row_heading level0 row105\" >105</th>\n",
       "                        <td id=\"T_146b4fd6_3434_11eb_a3d0_02cba411ec9drow105_col0\" class=\"data row105 col0\" >29-5-2020</td>\n",
       "                        <td id=\"T_146b4fd6_3434_11eb_a3d0_02cba411ec9drow105_col1\" class=\"data row105 col1\" >SOFR</td>\n",
       "                        <td id=\"T_146b4fd6_3434_11eb_a3d0_02cba411ec9drow105_col2\" class=\"data row105 col2\" >0.060000</td>\n",
       "            </tr>\n",
       "            <tr>\n",
       "                        <th id=\"T_146b4fd6_3434_11eb_a3d0_02cba411ec9dlevel0_row106\" class=\"row_heading level0 row106\" >106</th>\n",
       "                        <td id=\"T_146b4fd6_3434_11eb_a3d0_02cba411ec9drow106_col0\" class=\"data row106 col0\" >28-5-2020</td>\n",
       "                        <td id=\"T_146b4fd6_3434_11eb_a3d0_02cba411ec9drow106_col1\" class=\"data row106 col1\" >SOFR</td>\n",
       "                        <td id=\"T_146b4fd6_3434_11eb_a3d0_02cba411ec9drow106_col2\" class=\"data row106 col2\" >0.060000</td>\n",
       "            </tr>\n",
       "            <tr>\n",
       "                        <th id=\"T_146b4fd6_3434_11eb_a3d0_02cba411ec9dlevel0_row107\" class=\"row_heading level0 row107\" >107</th>\n",
       "                        <td id=\"T_146b4fd6_3434_11eb_a3d0_02cba411ec9drow107_col0\" class=\"data row107 col0\" >27-5-2020</td>\n",
       "                        <td id=\"T_146b4fd6_3434_11eb_a3d0_02cba411ec9drow107_col1\" class=\"data row107 col1\" >SOFR</td>\n",
       "                        <td id=\"T_146b4fd6_3434_11eb_a3d0_02cba411ec9drow107_col2\" class=\"data row107 col2\" >0.060000</td>\n",
       "            </tr>\n",
       "            <tr>\n",
       "                        <th id=\"T_146b4fd6_3434_11eb_a3d0_02cba411ec9dlevel0_row108\" class=\"row_heading level0 row108\" >108</th>\n",
       "                        <td id=\"T_146b4fd6_3434_11eb_a3d0_02cba411ec9drow108_col0\" class=\"data row108 col0\" >26-5-2020</td>\n",
       "                        <td id=\"T_146b4fd6_3434_11eb_a3d0_02cba411ec9drow108_col1\" class=\"data row108 col1\" >SOFR</td>\n",
       "                        <td id=\"T_146b4fd6_3434_11eb_a3d0_02cba411ec9drow108_col2\" class=\"data row108 col2\" >0.060000</td>\n",
       "            </tr>\n",
       "            <tr>\n",
       "                        <th id=\"T_146b4fd6_3434_11eb_a3d0_02cba411ec9dlevel0_row109\" class=\"row_heading level0 row109\" >109</th>\n",
       "                        <td id=\"T_146b4fd6_3434_11eb_a3d0_02cba411ec9drow109_col0\" class=\"data row109 col0\" >22-5-2020</td>\n",
       "                        <td id=\"T_146b4fd6_3434_11eb_a3d0_02cba411ec9drow109_col1\" class=\"data row109 col1\" >SOFR</td>\n",
       "                        <td id=\"T_146b4fd6_3434_11eb_a3d0_02cba411ec9drow109_col2\" class=\"data row109 col2\" >0.040000</td>\n",
       "            </tr>\n",
       "            <tr>\n",
       "                        <th id=\"T_146b4fd6_3434_11eb_a3d0_02cba411ec9dlevel0_row110\" class=\"row_heading level0 row110\" >110</th>\n",
       "                        <td id=\"T_146b4fd6_3434_11eb_a3d0_02cba411ec9drow110_col0\" class=\"data row110 col0\" >21-5-2020</td>\n",
       "                        <td id=\"T_146b4fd6_3434_11eb_a3d0_02cba411ec9drow110_col1\" class=\"data row110 col1\" >SOFR</td>\n",
       "                        <td id=\"T_146b4fd6_3434_11eb_a3d0_02cba411ec9drow110_col2\" class=\"data row110 col2\" >0.020000</td>\n",
       "            </tr>\n",
       "            <tr>\n",
       "                        <th id=\"T_146b4fd6_3434_11eb_a3d0_02cba411ec9dlevel0_row111\" class=\"row_heading level0 row111\" >111</th>\n",
       "                        <td id=\"T_146b4fd6_3434_11eb_a3d0_02cba411ec9drow111_col0\" class=\"data row111 col0\" >20-5-2020</td>\n",
       "                        <td id=\"T_146b4fd6_3434_11eb_a3d0_02cba411ec9drow111_col1\" class=\"data row111 col1\" >SOFR</td>\n",
       "                        <td id=\"T_146b4fd6_3434_11eb_a3d0_02cba411ec9drow111_col2\" class=\"data row111 col2\" >0.010000</td>\n",
       "            </tr>\n",
       "            <tr>\n",
       "                        <th id=\"T_146b4fd6_3434_11eb_a3d0_02cba411ec9dlevel0_row112\" class=\"row_heading level0 row112\" >112</th>\n",
       "                        <td id=\"T_146b4fd6_3434_11eb_a3d0_02cba411ec9drow112_col0\" class=\"data row112 col0\" >19-5-2020</td>\n",
       "                        <td id=\"T_146b4fd6_3434_11eb_a3d0_02cba411ec9drow112_col1\" class=\"data row112 col1\" >SOFR</td>\n",
       "                        <td id=\"T_146b4fd6_3434_11eb_a3d0_02cba411ec9drow112_col2\" class=\"data row112 col2\" >0.040000</td>\n",
       "            </tr>\n",
       "            <tr>\n",
       "                        <th id=\"T_146b4fd6_3434_11eb_a3d0_02cba411ec9dlevel0_row113\" class=\"row_heading level0 row113\" >113</th>\n",
       "                        <td id=\"T_146b4fd6_3434_11eb_a3d0_02cba411ec9drow113_col0\" class=\"data row113 col0\" >18-5-2020</td>\n",
       "                        <td id=\"T_146b4fd6_3434_11eb_a3d0_02cba411ec9drow113_col1\" class=\"data row113 col1\" >SOFR</td>\n",
       "                        <td id=\"T_146b4fd6_3434_11eb_a3d0_02cba411ec9drow113_col2\" class=\"data row113 col2\" >0.040000</td>\n",
       "            </tr>\n",
       "            <tr>\n",
       "                        <th id=\"T_146b4fd6_3434_11eb_a3d0_02cba411ec9dlevel0_row114\" class=\"row_heading level0 row114\" >114</th>\n",
       "                        <td id=\"T_146b4fd6_3434_11eb_a3d0_02cba411ec9drow114_col0\" class=\"data row114 col0\" >15-5-2020</td>\n",
       "                        <td id=\"T_146b4fd6_3434_11eb_a3d0_02cba411ec9drow114_col1\" class=\"data row114 col1\" >SOFR</td>\n",
       "                        <td id=\"T_146b4fd6_3434_11eb_a3d0_02cba411ec9drow114_col2\" class=\"data row114 col2\" >0.050000</td>\n",
       "            </tr>\n",
       "            <tr>\n",
       "                        <th id=\"T_146b4fd6_3434_11eb_a3d0_02cba411ec9dlevel0_row115\" class=\"row_heading level0 row115\" >115</th>\n",
       "                        <td id=\"T_146b4fd6_3434_11eb_a3d0_02cba411ec9drow115_col0\" class=\"data row115 col0\" >14-5-2020</td>\n",
       "                        <td id=\"T_146b4fd6_3434_11eb_a3d0_02cba411ec9drow115_col1\" class=\"data row115 col1\" >SOFR</td>\n",
       "                        <td id=\"T_146b4fd6_3434_11eb_a3d0_02cba411ec9drow115_col2\" class=\"data row115 col2\" >0.020000</td>\n",
       "            </tr>\n",
       "            <tr>\n",
       "                        <th id=\"T_146b4fd6_3434_11eb_a3d0_02cba411ec9dlevel0_row116\" class=\"row_heading level0 row116\" >116</th>\n",
       "                        <td id=\"T_146b4fd6_3434_11eb_a3d0_02cba411ec9drow116_col0\" class=\"data row116 col0\" >13-5-2020</td>\n",
       "                        <td id=\"T_146b4fd6_3434_11eb_a3d0_02cba411ec9drow116_col1\" class=\"data row116 col1\" >SOFR</td>\n",
       "                        <td id=\"T_146b4fd6_3434_11eb_a3d0_02cba411ec9drow116_col2\" class=\"data row116 col2\" >0.040000</td>\n",
       "            </tr>\n",
       "            <tr>\n",
       "                        <th id=\"T_146b4fd6_3434_11eb_a3d0_02cba411ec9dlevel0_row117\" class=\"row_heading level0 row117\" >117</th>\n",
       "                        <td id=\"T_146b4fd6_3434_11eb_a3d0_02cba411ec9drow117_col0\" class=\"data row117 col0\" >12-5-2020</td>\n",
       "                        <td id=\"T_146b4fd6_3434_11eb_a3d0_02cba411ec9drow117_col1\" class=\"data row117 col1\" >SOFR</td>\n",
       "                        <td id=\"T_146b4fd6_3434_11eb_a3d0_02cba411ec9drow117_col2\" class=\"data row117 col2\" >0.060000</td>\n",
       "            </tr>\n",
       "            <tr>\n",
       "                        <th id=\"T_146b4fd6_3434_11eb_a3d0_02cba411ec9dlevel0_row118\" class=\"row_heading level0 row118\" >118</th>\n",
       "                        <td id=\"T_146b4fd6_3434_11eb_a3d0_02cba411ec9drow118_col0\" class=\"data row118 col0\" >11-5-2020</td>\n",
       "                        <td id=\"T_146b4fd6_3434_11eb_a3d0_02cba411ec9drow118_col1\" class=\"data row118 col1\" >SOFR</td>\n",
       "                        <td id=\"T_146b4fd6_3434_11eb_a3d0_02cba411ec9drow118_col2\" class=\"data row118 col2\" >0.060000</td>\n",
       "            </tr>\n",
       "            <tr>\n",
       "                        <th id=\"T_146b4fd6_3434_11eb_a3d0_02cba411ec9dlevel0_row119\" class=\"row_heading level0 row119\" >119</th>\n",
       "                        <td id=\"T_146b4fd6_3434_11eb_a3d0_02cba411ec9drow119_col0\" class=\"data row119 col0\" >8-5-2020</td>\n",
       "                        <td id=\"T_146b4fd6_3434_11eb_a3d0_02cba411ec9drow119_col1\" class=\"data row119 col1\" >SOFR</td>\n",
       "                        <td id=\"T_146b4fd6_3434_11eb_a3d0_02cba411ec9drow119_col2\" class=\"data row119 col2\" >0.060000</td>\n",
       "            </tr>\n",
       "            <tr>\n",
       "                        <th id=\"T_146b4fd6_3434_11eb_a3d0_02cba411ec9dlevel0_row120\" class=\"row_heading level0 row120\" >120</th>\n",
       "                        <td id=\"T_146b4fd6_3434_11eb_a3d0_02cba411ec9drow120_col0\" class=\"data row120 col0\" >7-5-2020</td>\n",
       "                        <td id=\"T_146b4fd6_3434_11eb_a3d0_02cba411ec9drow120_col1\" class=\"data row120 col1\" >SOFR</td>\n",
       "                        <td id=\"T_146b4fd6_3434_11eb_a3d0_02cba411ec9drow120_col2\" class=\"data row120 col2\" >0.050000</td>\n",
       "            </tr>\n",
       "            <tr>\n",
       "                        <th id=\"T_146b4fd6_3434_11eb_a3d0_02cba411ec9dlevel0_row121\" class=\"row_heading level0 row121\" >121</th>\n",
       "                        <td id=\"T_146b4fd6_3434_11eb_a3d0_02cba411ec9drow121_col0\" class=\"data row121 col0\" >6-5-2020</td>\n",
       "                        <td id=\"T_146b4fd6_3434_11eb_a3d0_02cba411ec9drow121_col1\" class=\"data row121 col1\" >SOFR</td>\n",
       "                        <td id=\"T_146b4fd6_3434_11eb_a3d0_02cba411ec9drow121_col2\" class=\"data row121 col2\" >0.050000</td>\n",
       "            </tr>\n",
       "            <tr>\n",
       "                        <th id=\"T_146b4fd6_3434_11eb_a3d0_02cba411ec9dlevel0_row122\" class=\"row_heading level0 row122\" >122</th>\n",
       "                        <td id=\"T_146b4fd6_3434_11eb_a3d0_02cba411ec9drow122_col0\" class=\"data row122 col0\" >5-5-2020</td>\n",
       "                        <td id=\"T_146b4fd6_3434_11eb_a3d0_02cba411ec9drow122_col1\" class=\"data row122 col1\" >SOFR</td>\n",
       "                        <td id=\"T_146b4fd6_3434_11eb_a3d0_02cba411ec9drow122_col2\" class=\"data row122 col2\" >0.050000</td>\n",
       "            </tr>\n",
       "            <tr>\n",
       "                        <th id=\"T_146b4fd6_3434_11eb_a3d0_02cba411ec9dlevel0_row123\" class=\"row_heading level0 row123\" >123</th>\n",
       "                        <td id=\"T_146b4fd6_3434_11eb_a3d0_02cba411ec9drow123_col0\" class=\"data row123 col0\" >4-5-2020</td>\n",
       "                        <td id=\"T_146b4fd6_3434_11eb_a3d0_02cba411ec9drow123_col1\" class=\"data row123 col1\" >SOFR</td>\n",
       "                        <td id=\"T_146b4fd6_3434_11eb_a3d0_02cba411ec9drow123_col2\" class=\"data row123 col2\" >0.050000</td>\n",
       "            </tr>\n",
       "            <tr>\n",
       "                        <th id=\"T_146b4fd6_3434_11eb_a3d0_02cba411ec9dlevel0_row124\" class=\"row_heading level0 row124\" >124</th>\n",
       "                        <td id=\"T_146b4fd6_3434_11eb_a3d0_02cba411ec9drow124_col0\" class=\"data row124 col0\" >1-5-2020</td>\n",
       "                        <td id=\"T_146b4fd6_3434_11eb_a3d0_02cba411ec9drow124_col1\" class=\"data row124 col1\" >SOFR</td>\n",
       "                        <td id=\"T_146b4fd6_3434_11eb_a3d0_02cba411ec9drow124_col2\" class=\"data row124 col2\" >0.030000</td>\n",
       "            </tr>\n",
       "            <tr>\n",
       "                        <th id=\"T_146b4fd6_3434_11eb_a3d0_02cba411ec9dlevel0_row125\" class=\"row_heading level0 row125\" >125</th>\n",
       "                        <td id=\"T_146b4fd6_3434_11eb_a3d0_02cba411ec9drow125_col0\" class=\"data row125 col0\" >30-4-2020</td>\n",
       "                        <td id=\"T_146b4fd6_3434_11eb_a3d0_02cba411ec9drow125_col1\" class=\"data row125 col1\" >SOFR</td>\n",
       "                        <td id=\"T_146b4fd6_3434_11eb_a3d0_02cba411ec9drow125_col2\" class=\"data row125 col2\" >0.040000</td>\n",
       "            </tr>\n",
       "            <tr>\n",
       "                        <th id=\"T_146b4fd6_3434_11eb_a3d0_02cba411ec9dlevel0_row126\" class=\"row_heading level0 row126\" >126</th>\n",
       "                        <td id=\"T_146b4fd6_3434_11eb_a3d0_02cba411ec9drow126_col0\" class=\"data row126 col0\" >29-4-2020</td>\n",
       "                        <td id=\"T_146b4fd6_3434_11eb_a3d0_02cba411ec9drow126_col1\" class=\"data row126 col1\" >SOFR</td>\n",
       "                        <td id=\"T_146b4fd6_3434_11eb_a3d0_02cba411ec9drow126_col2\" class=\"data row126 col2\" >0.010000</td>\n",
       "            </tr>\n",
       "            <tr>\n",
       "                        <th id=\"T_146b4fd6_3434_11eb_a3d0_02cba411ec9dlevel0_row127\" class=\"row_heading level0 row127\" >127</th>\n",
       "                        <td id=\"T_146b4fd6_3434_11eb_a3d0_02cba411ec9drow127_col0\" class=\"data row127 col0\" >28-4-2020</td>\n",
       "                        <td id=\"T_146b4fd6_3434_11eb_a3d0_02cba411ec9drow127_col1\" class=\"data row127 col1\" >SOFR</td>\n",
       "                        <td id=\"T_146b4fd6_3434_11eb_a3d0_02cba411ec9drow127_col2\" class=\"data row127 col2\" >0.010000</td>\n",
       "            </tr>\n",
       "            <tr>\n",
       "                        <th id=\"T_146b4fd6_3434_11eb_a3d0_02cba411ec9dlevel0_row128\" class=\"row_heading level0 row128\" >128</th>\n",
       "                        <td id=\"T_146b4fd6_3434_11eb_a3d0_02cba411ec9drow128_col0\" class=\"data row128 col0\" >27-4-2020</td>\n",
       "                        <td id=\"T_146b4fd6_3434_11eb_a3d0_02cba411ec9drow128_col1\" class=\"data row128 col1\" >SOFR</td>\n",
       "                        <td id=\"T_146b4fd6_3434_11eb_a3d0_02cba411ec9drow128_col2\" class=\"data row128 col2\" >0.030000</td>\n",
       "            </tr>\n",
       "            <tr>\n",
       "                        <th id=\"T_146b4fd6_3434_11eb_a3d0_02cba411ec9dlevel0_row129\" class=\"row_heading level0 row129\" >129</th>\n",
       "                        <td id=\"T_146b4fd6_3434_11eb_a3d0_02cba411ec9drow129_col0\" class=\"data row129 col0\" >24-4-2020</td>\n",
       "                        <td id=\"T_146b4fd6_3434_11eb_a3d0_02cba411ec9drow129_col1\" class=\"data row129 col1\" >SOFR</td>\n",
       "                        <td id=\"T_146b4fd6_3434_11eb_a3d0_02cba411ec9drow129_col2\" class=\"data row129 col2\" >0.030000</td>\n",
       "            </tr>\n",
       "            <tr>\n",
       "                        <th id=\"T_146b4fd6_3434_11eb_a3d0_02cba411ec9dlevel0_row130\" class=\"row_heading level0 row130\" >130</th>\n",
       "                        <td id=\"T_146b4fd6_3434_11eb_a3d0_02cba411ec9drow130_col0\" class=\"data row130 col0\" >23-4-2020</td>\n",
       "                        <td id=\"T_146b4fd6_3434_11eb_a3d0_02cba411ec9drow130_col1\" class=\"data row130 col1\" >SOFR</td>\n",
       "                        <td id=\"T_146b4fd6_3434_11eb_a3d0_02cba411ec9drow130_col2\" class=\"data row130 col2\" >0.010000</td>\n",
       "            </tr>\n",
       "            <tr>\n",
       "                        <th id=\"T_146b4fd6_3434_11eb_a3d0_02cba411ec9dlevel0_row131\" class=\"row_heading level0 row131\" >131</th>\n",
       "                        <td id=\"T_146b4fd6_3434_11eb_a3d0_02cba411ec9drow131_col0\" class=\"data row131 col0\" >22-4-2020</td>\n",
       "                        <td id=\"T_146b4fd6_3434_11eb_a3d0_02cba411ec9drow131_col1\" class=\"data row131 col1\" >SOFR</td>\n",
       "                        <td id=\"T_146b4fd6_3434_11eb_a3d0_02cba411ec9drow131_col2\" class=\"data row131 col2\" >0.010000</td>\n",
       "            </tr>\n",
       "            <tr>\n",
       "                        <th id=\"T_146b4fd6_3434_11eb_a3d0_02cba411ec9dlevel0_row132\" class=\"row_heading level0 row132\" >132</th>\n",
       "                        <td id=\"T_146b4fd6_3434_11eb_a3d0_02cba411ec9drow132_col0\" class=\"data row132 col0\" >21-4-2020</td>\n",
       "                        <td id=\"T_146b4fd6_3434_11eb_a3d0_02cba411ec9drow132_col1\" class=\"data row132 col1\" >SOFR</td>\n",
       "                        <td id=\"T_146b4fd6_3434_11eb_a3d0_02cba411ec9drow132_col2\" class=\"data row132 col2\" >0.010000</td>\n",
       "            </tr>\n",
       "            <tr>\n",
       "                        <th id=\"T_146b4fd6_3434_11eb_a3d0_02cba411ec9dlevel0_row133\" class=\"row_heading level0 row133\" >133</th>\n",
       "                        <td id=\"T_146b4fd6_3434_11eb_a3d0_02cba411ec9drow133_col0\" class=\"data row133 col0\" >20-4-2020</td>\n",
       "                        <td id=\"T_146b4fd6_3434_11eb_a3d0_02cba411ec9drow133_col1\" class=\"data row133 col1\" >SOFR</td>\n",
       "                        <td id=\"T_146b4fd6_3434_11eb_a3d0_02cba411ec9drow133_col2\" class=\"data row133 col2\" >0.020000</td>\n",
       "            </tr>\n",
       "            <tr>\n",
       "                        <th id=\"T_146b4fd6_3434_11eb_a3d0_02cba411ec9dlevel0_row134\" class=\"row_heading level0 row134\" >134</th>\n",
       "                        <td id=\"T_146b4fd6_3434_11eb_a3d0_02cba411ec9drow134_col0\" class=\"data row134 col0\" >17-4-2020</td>\n",
       "                        <td id=\"T_146b4fd6_3434_11eb_a3d0_02cba411ec9drow134_col1\" class=\"data row134 col1\" >SOFR</td>\n",
       "                        <td id=\"T_146b4fd6_3434_11eb_a3d0_02cba411ec9drow134_col2\" class=\"data row134 col2\" >0.030000</td>\n",
       "            </tr>\n",
       "            <tr>\n",
       "                        <th id=\"T_146b4fd6_3434_11eb_a3d0_02cba411ec9dlevel0_row135\" class=\"row_heading level0 row135\" >135</th>\n",
       "                        <td id=\"T_146b4fd6_3434_11eb_a3d0_02cba411ec9drow135_col0\" class=\"data row135 col0\" >16-4-2020</td>\n",
       "                        <td id=\"T_146b4fd6_3434_11eb_a3d0_02cba411ec9drow135_col1\" class=\"data row135 col1\" >SOFR</td>\n",
       "                        <td id=\"T_146b4fd6_3434_11eb_a3d0_02cba411ec9drow135_col2\" class=\"data row135 col2\" >0.030000</td>\n",
       "            </tr>\n",
       "            <tr>\n",
       "                        <th id=\"T_146b4fd6_3434_11eb_a3d0_02cba411ec9dlevel0_row136\" class=\"row_heading level0 row136\" >136</th>\n",
       "                        <td id=\"T_146b4fd6_3434_11eb_a3d0_02cba411ec9drow136_col0\" class=\"data row136 col0\" >15-4-2020</td>\n",
       "                        <td id=\"T_146b4fd6_3434_11eb_a3d0_02cba411ec9drow136_col1\" class=\"data row136 col1\" >SOFR</td>\n",
       "                        <td id=\"T_146b4fd6_3434_11eb_a3d0_02cba411ec9drow136_col2\" class=\"data row136 col2\" >0.030000</td>\n",
       "            </tr>\n",
       "            <tr>\n",
       "                        <th id=\"T_146b4fd6_3434_11eb_a3d0_02cba411ec9dlevel0_row137\" class=\"row_heading level0 row137\" >137</th>\n",
       "                        <td id=\"T_146b4fd6_3434_11eb_a3d0_02cba411ec9drow137_col0\" class=\"data row137 col0\" >14-4-2020</td>\n",
       "                        <td id=\"T_146b4fd6_3434_11eb_a3d0_02cba411ec9drow137_col1\" class=\"data row137 col1\" >SOFR</td>\n",
       "                        <td id=\"T_146b4fd6_3434_11eb_a3d0_02cba411ec9drow137_col2\" class=\"data row137 col2\" >0.060000</td>\n",
       "            </tr>\n",
       "            <tr>\n",
       "                        <th id=\"T_146b4fd6_3434_11eb_a3d0_02cba411ec9dlevel0_row138\" class=\"row_heading level0 row138\" >138</th>\n",
       "                        <td id=\"T_146b4fd6_3434_11eb_a3d0_02cba411ec9drow138_col0\" class=\"data row138 col0\" >13-4-2020</td>\n",
       "                        <td id=\"T_146b4fd6_3434_11eb_a3d0_02cba411ec9drow138_col1\" class=\"data row138 col1\" >SOFR</td>\n",
       "                        <td id=\"T_146b4fd6_3434_11eb_a3d0_02cba411ec9drow138_col2\" class=\"data row138 col2\" >0.020000</td>\n",
       "            </tr>\n",
       "            <tr>\n",
       "                        <th id=\"T_146b4fd6_3434_11eb_a3d0_02cba411ec9dlevel0_row139\" class=\"row_heading level0 row139\" >139</th>\n",
       "                        <td id=\"T_146b4fd6_3434_11eb_a3d0_02cba411ec9drow139_col0\" class=\"data row139 col0\" >9-4-2020</td>\n",
       "                        <td id=\"T_146b4fd6_3434_11eb_a3d0_02cba411ec9drow139_col1\" class=\"data row139 col1\" >SOFR</td>\n",
       "                        <td id=\"T_146b4fd6_3434_11eb_a3d0_02cba411ec9drow139_col2\" class=\"data row139 col2\" >0.010000</td>\n",
       "            </tr>\n",
       "            <tr>\n",
       "                        <th id=\"T_146b4fd6_3434_11eb_a3d0_02cba411ec9dlevel0_row140\" class=\"row_heading level0 row140\" >140</th>\n",
       "                        <td id=\"T_146b4fd6_3434_11eb_a3d0_02cba411ec9drow140_col0\" class=\"data row140 col0\" >8-4-2020</td>\n",
       "                        <td id=\"T_146b4fd6_3434_11eb_a3d0_02cba411ec9drow140_col1\" class=\"data row140 col1\" >SOFR</td>\n",
       "                        <td id=\"T_146b4fd6_3434_11eb_a3d0_02cba411ec9drow140_col2\" class=\"data row140 col2\" >0.010000</td>\n",
       "            </tr>\n",
       "            <tr>\n",
       "                        <th id=\"T_146b4fd6_3434_11eb_a3d0_02cba411ec9dlevel0_row141\" class=\"row_heading level0 row141\" >141</th>\n",
       "                        <td id=\"T_146b4fd6_3434_11eb_a3d0_02cba411ec9drow141_col0\" class=\"data row141 col0\" >7-4-2020</td>\n",
       "                        <td id=\"T_146b4fd6_3434_11eb_a3d0_02cba411ec9drow141_col1\" class=\"data row141 col1\" >SOFR</td>\n",
       "                        <td id=\"T_146b4fd6_3434_11eb_a3d0_02cba411ec9drow141_col2\" class=\"data row141 col2\" >0.010000</td>\n",
       "            </tr>\n",
       "            <tr>\n",
       "                        <th id=\"T_146b4fd6_3434_11eb_a3d0_02cba411ec9dlevel0_row142\" class=\"row_heading level0 row142\" >142</th>\n",
       "                        <td id=\"T_146b4fd6_3434_11eb_a3d0_02cba411ec9drow142_col0\" class=\"data row142 col0\" >6-4-2020</td>\n",
       "                        <td id=\"T_146b4fd6_3434_11eb_a3d0_02cba411ec9drow142_col1\" class=\"data row142 col1\" >SOFR</td>\n",
       "                        <td id=\"T_146b4fd6_3434_11eb_a3d0_02cba411ec9drow142_col2\" class=\"data row142 col2\" >0.010000</td>\n",
       "            </tr>\n",
       "            <tr>\n",
       "                        <th id=\"T_146b4fd6_3434_11eb_a3d0_02cba411ec9dlevel0_row143\" class=\"row_heading level0 row143\" >143</th>\n",
       "                        <td id=\"T_146b4fd6_3434_11eb_a3d0_02cba411ec9drow143_col0\" class=\"data row143 col0\" >3-4-2020</td>\n",
       "                        <td id=\"T_146b4fd6_3434_11eb_a3d0_02cba411ec9drow143_col1\" class=\"data row143 col1\" >SOFR</td>\n",
       "                        <td id=\"T_146b4fd6_3434_11eb_a3d0_02cba411ec9drow143_col2\" class=\"data row143 col2\" >0.010000</td>\n",
       "            </tr>\n",
       "            <tr>\n",
       "                        <th id=\"T_146b4fd6_3434_11eb_a3d0_02cba411ec9dlevel0_row144\" class=\"row_heading level0 row144\" >144</th>\n",
       "                        <td id=\"T_146b4fd6_3434_11eb_a3d0_02cba411ec9drow144_col0\" class=\"data row144 col0\" >2-4-2020</td>\n",
       "                        <td id=\"T_146b4fd6_3434_11eb_a3d0_02cba411ec9drow144_col1\" class=\"data row144 col1\" >SOFR</td>\n",
       "                        <td id=\"T_146b4fd6_3434_11eb_a3d0_02cba411ec9drow144_col2\" class=\"data row144 col2\" >0.010000</td>\n",
       "            </tr>\n",
       "            <tr>\n",
       "                        <th id=\"T_146b4fd6_3434_11eb_a3d0_02cba411ec9dlevel0_row145\" class=\"row_heading level0 row145\" >145</th>\n",
       "                        <td id=\"T_146b4fd6_3434_11eb_a3d0_02cba411ec9drow145_col0\" class=\"data row145 col0\" >1-4-2020</td>\n",
       "                        <td id=\"T_146b4fd6_3434_11eb_a3d0_02cba411ec9drow145_col1\" class=\"data row145 col1\" >SOFR</td>\n",
       "                        <td id=\"T_146b4fd6_3434_11eb_a3d0_02cba411ec9drow145_col2\" class=\"data row145 col2\" >0.010000</td>\n",
       "            </tr>\n",
       "            <tr>\n",
       "                        <th id=\"T_146b4fd6_3434_11eb_a3d0_02cba411ec9dlevel0_row146\" class=\"row_heading level0 row146\" >146</th>\n",
       "                        <td id=\"T_146b4fd6_3434_11eb_a3d0_02cba411ec9drow146_col0\" class=\"data row146 col0\" >31-3-2020</td>\n",
       "                        <td id=\"T_146b4fd6_3434_11eb_a3d0_02cba411ec9drow146_col1\" class=\"data row146 col1\" >SOFR</td>\n",
       "                        <td id=\"T_146b4fd6_3434_11eb_a3d0_02cba411ec9drow146_col2\" class=\"data row146 col2\" >0.010000</td>\n",
       "            </tr>\n",
       "            <tr>\n",
       "                        <th id=\"T_146b4fd6_3434_11eb_a3d0_02cba411ec9dlevel0_row147\" class=\"row_heading level0 row147\" >147</th>\n",
       "                        <td id=\"T_146b4fd6_3434_11eb_a3d0_02cba411ec9drow147_col0\" class=\"data row147 col0\" >30-3-2020</td>\n",
       "                        <td id=\"T_146b4fd6_3434_11eb_a3d0_02cba411ec9drow147_col1\" class=\"data row147 col1\" >SOFR</td>\n",
       "                        <td id=\"T_146b4fd6_3434_11eb_a3d0_02cba411ec9drow147_col2\" class=\"data row147 col2\" >0.010000</td>\n",
       "            </tr>\n",
       "            <tr>\n",
       "                        <th id=\"T_146b4fd6_3434_11eb_a3d0_02cba411ec9dlevel0_row148\" class=\"row_heading level0 row148\" >148</th>\n",
       "                        <td id=\"T_146b4fd6_3434_11eb_a3d0_02cba411ec9drow148_col0\" class=\"data row148 col0\" >27-3-2020</td>\n",
       "                        <td id=\"T_146b4fd6_3434_11eb_a3d0_02cba411ec9drow148_col1\" class=\"data row148 col1\" >SOFR</td>\n",
       "                        <td id=\"T_146b4fd6_3434_11eb_a3d0_02cba411ec9drow148_col2\" class=\"data row148 col2\" >0.010000</td>\n",
       "            </tr>\n",
       "            <tr>\n",
       "                        <th id=\"T_146b4fd6_3434_11eb_a3d0_02cba411ec9dlevel0_row149\" class=\"row_heading level0 row149\" >149</th>\n",
       "                        <td id=\"T_146b4fd6_3434_11eb_a3d0_02cba411ec9drow149_col0\" class=\"data row149 col0\" >26-3-2020</td>\n",
       "                        <td id=\"T_146b4fd6_3434_11eb_a3d0_02cba411ec9drow149_col1\" class=\"data row149 col1\" >SOFR</td>\n",
       "                        <td id=\"T_146b4fd6_3434_11eb_a3d0_02cba411ec9drow149_col2\" class=\"data row149 col2\" >0.010000</td>\n",
       "            </tr>\n",
       "            <tr>\n",
       "                        <th id=\"T_146b4fd6_3434_11eb_a3d0_02cba411ec9dlevel0_row150\" class=\"row_heading level0 row150\" >150</th>\n",
       "                        <td id=\"T_146b4fd6_3434_11eb_a3d0_02cba411ec9drow150_col0\" class=\"data row150 col0\" >25-3-2020</td>\n",
       "                        <td id=\"T_146b4fd6_3434_11eb_a3d0_02cba411ec9drow150_col1\" class=\"data row150 col1\" >SOFR</td>\n",
       "                        <td id=\"T_146b4fd6_3434_11eb_a3d0_02cba411ec9drow150_col2\" class=\"data row150 col2\" >0.010000</td>\n",
       "            </tr>\n",
       "            <tr>\n",
       "                        <th id=\"T_146b4fd6_3434_11eb_a3d0_02cba411ec9dlevel0_row151\" class=\"row_heading level0 row151\" >151</th>\n",
       "                        <td id=\"T_146b4fd6_3434_11eb_a3d0_02cba411ec9drow151_col0\" class=\"data row151 col0\" >24-3-2020</td>\n",
       "                        <td id=\"T_146b4fd6_3434_11eb_a3d0_02cba411ec9drow151_col1\" class=\"data row151 col1\" >SOFR</td>\n",
       "                        <td id=\"T_146b4fd6_3434_11eb_a3d0_02cba411ec9drow151_col2\" class=\"data row151 col2\" >0.010000</td>\n",
       "            </tr>\n",
       "            <tr>\n",
       "                        <th id=\"T_146b4fd6_3434_11eb_a3d0_02cba411ec9dlevel0_row152\" class=\"row_heading level0 row152\" >152</th>\n",
       "                        <td id=\"T_146b4fd6_3434_11eb_a3d0_02cba411ec9drow152_col0\" class=\"data row152 col0\" >23-3-2020</td>\n",
       "                        <td id=\"T_146b4fd6_3434_11eb_a3d0_02cba411ec9drow152_col1\" class=\"data row152 col1\" >SOFR</td>\n",
       "                        <td id=\"T_146b4fd6_3434_11eb_a3d0_02cba411ec9drow152_col2\" class=\"data row152 col2\" >0.020000</td>\n",
       "            </tr>\n",
       "            <tr>\n",
       "                        <th id=\"T_146b4fd6_3434_11eb_a3d0_02cba411ec9dlevel0_row153\" class=\"row_heading level0 row153\" >153</th>\n",
       "                        <td id=\"T_146b4fd6_3434_11eb_a3d0_02cba411ec9drow153_col0\" class=\"data row153 col0\" >20-3-2020</td>\n",
       "                        <td id=\"T_146b4fd6_3434_11eb_a3d0_02cba411ec9drow153_col1\" class=\"data row153 col1\" >SOFR</td>\n",
       "                        <td id=\"T_146b4fd6_3434_11eb_a3d0_02cba411ec9drow153_col2\" class=\"data row153 col2\" >0.040000</td>\n",
       "            </tr>\n",
       "            <tr>\n",
       "                        <th id=\"T_146b4fd6_3434_11eb_a3d0_02cba411ec9dlevel0_row154\" class=\"row_heading level0 row154\" >154</th>\n",
       "                        <td id=\"T_146b4fd6_3434_11eb_a3d0_02cba411ec9drow154_col0\" class=\"data row154 col0\" >19-3-2020</td>\n",
       "                        <td id=\"T_146b4fd6_3434_11eb_a3d0_02cba411ec9drow154_col1\" class=\"data row154 col1\" >SOFR</td>\n",
       "                        <td id=\"T_146b4fd6_3434_11eb_a3d0_02cba411ec9drow154_col2\" class=\"data row154 col2\" >0.060000</td>\n",
       "            </tr>\n",
       "            <tr>\n",
       "                        <th id=\"T_146b4fd6_3434_11eb_a3d0_02cba411ec9dlevel0_row155\" class=\"row_heading level0 row155\" >155</th>\n",
       "                        <td id=\"T_146b4fd6_3434_11eb_a3d0_02cba411ec9drow155_col0\" class=\"data row155 col0\" >18-3-2020</td>\n",
       "                        <td id=\"T_146b4fd6_3434_11eb_a3d0_02cba411ec9drow155_col1\" class=\"data row155 col1\" >SOFR</td>\n",
       "                        <td id=\"T_146b4fd6_3434_11eb_a3d0_02cba411ec9drow155_col2\" class=\"data row155 col2\" >0.100000</td>\n",
       "            </tr>\n",
       "            <tr>\n",
       "                        <th id=\"T_146b4fd6_3434_11eb_a3d0_02cba411ec9dlevel0_row156\" class=\"row_heading level0 row156\" >156</th>\n",
       "                        <td id=\"T_146b4fd6_3434_11eb_a3d0_02cba411ec9drow156_col0\" class=\"data row156 col0\" >17-3-2020</td>\n",
       "                        <td id=\"T_146b4fd6_3434_11eb_a3d0_02cba411ec9drow156_col1\" class=\"data row156 col1\" >SOFR</td>\n",
       "                        <td id=\"T_146b4fd6_3434_11eb_a3d0_02cba411ec9drow156_col2\" class=\"data row156 col2\" >0.540000</td>\n",
       "            </tr>\n",
       "            <tr>\n",
       "                        <th id=\"T_146b4fd6_3434_11eb_a3d0_02cba411ec9dlevel0_row157\" class=\"row_heading level0 row157\" >157</th>\n",
       "                        <td id=\"T_146b4fd6_3434_11eb_a3d0_02cba411ec9drow157_col0\" class=\"data row157 col0\" >16-3-2020</td>\n",
       "                        <td id=\"T_146b4fd6_3434_11eb_a3d0_02cba411ec9drow157_col1\" class=\"data row157 col1\" >SOFR</td>\n",
       "                        <td id=\"T_146b4fd6_3434_11eb_a3d0_02cba411ec9drow157_col2\" class=\"data row157 col2\" >0.260000</td>\n",
       "            </tr>\n",
       "            <tr>\n",
       "                        <th id=\"T_146b4fd6_3434_11eb_a3d0_02cba411ec9dlevel0_row158\" class=\"row_heading level0 row158\" >158</th>\n",
       "                        <td id=\"T_146b4fd6_3434_11eb_a3d0_02cba411ec9drow158_col0\" class=\"data row158 col0\" >13-3-2020</td>\n",
       "                        <td id=\"T_146b4fd6_3434_11eb_a3d0_02cba411ec9drow158_col1\" class=\"data row158 col1\" >SOFR</td>\n",
       "                        <td id=\"T_146b4fd6_3434_11eb_a3d0_02cba411ec9drow158_col2\" class=\"data row158 col2\" >1.100000</td>\n",
       "            </tr>\n",
       "            <tr>\n",
       "                        <th id=\"T_146b4fd6_3434_11eb_a3d0_02cba411ec9dlevel0_row159\" class=\"row_heading level0 row159\" >159</th>\n",
       "                        <td id=\"T_146b4fd6_3434_11eb_a3d0_02cba411ec9drow159_col0\" class=\"data row159 col0\" >12-3-2020</td>\n",
       "                        <td id=\"T_146b4fd6_3434_11eb_a3d0_02cba411ec9drow159_col1\" class=\"data row159 col1\" >SOFR</td>\n",
       "                        <td id=\"T_146b4fd6_3434_11eb_a3d0_02cba411ec9drow159_col2\" class=\"data row159 col2\" >1.200000</td>\n",
       "            </tr>\n",
       "            <tr>\n",
       "                        <th id=\"T_146b4fd6_3434_11eb_a3d0_02cba411ec9dlevel0_row160\" class=\"row_heading level0 row160\" >160</th>\n",
       "                        <td id=\"T_146b4fd6_3434_11eb_a3d0_02cba411ec9drow160_col0\" class=\"data row160 col0\" >11-3-2020</td>\n",
       "                        <td id=\"T_146b4fd6_3434_11eb_a3d0_02cba411ec9drow160_col1\" class=\"data row160 col1\" >SOFR</td>\n",
       "                        <td id=\"T_146b4fd6_3434_11eb_a3d0_02cba411ec9drow160_col2\" class=\"data row160 col2\" >1.150000</td>\n",
       "            </tr>\n",
       "            <tr>\n",
       "                        <th id=\"T_146b4fd6_3434_11eb_a3d0_02cba411ec9dlevel0_row161\" class=\"row_heading level0 row161\" >161</th>\n",
       "                        <td id=\"T_146b4fd6_3434_11eb_a3d0_02cba411ec9drow161_col0\" class=\"data row161 col0\" >10-3-2020</td>\n",
       "                        <td id=\"T_146b4fd6_3434_11eb_a3d0_02cba411ec9drow161_col1\" class=\"data row161 col1\" >SOFR</td>\n",
       "                        <td id=\"T_146b4fd6_3434_11eb_a3d0_02cba411ec9drow161_col2\" class=\"data row161 col2\" >1.110000</td>\n",
       "            </tr>\n",
       "            <tr>\n",
       "                        <th id=\"T_146b4fd6_3434_11eb_a3d0_02cba411ec9dlevel0_row162\" class=\"row_heading level0 row162\" >162</th>\n",
       "                        <td id=\"T_146b4fd6_3434_11eb_a3d0_02cba411ec9drow162_col0\" class=\"data row162 col0\" >9-3-2020</td>\n",
       "                        <td id=\"T_146b4fd6_3434_11eb_a3d0_02cba411ec9drow162_col1\" class=\"data row162 col1\" >SOFR</td>\n",
       "                        <td id=\"T_146b4fd6_3434_11eb_a3d0_02cba411ec9drow162_col2\" class=\"data row162 col2\" >1.090000</td>\n",
       "            </tr>\n",
       "            <tr>\n",
       "                        <th id=\"T_146b4fd6_3434_11eb_a3d0_02cba411ec9dlevel0_row163\" class=\"row_heading level0 row163\" >163</th>\n",
       "                        <td id=\"T_146b4fd6_3434_11eb_a3d0_02cba411ec9drow163_col0\" class=\"data row163 col0\" >6-3-2020</td>\n",
       "                        <td id=\"T_146b4fd6_3434_11eb_a3d0_02cba411ec9drow163_col1\" class=\"data row163 col1\" >SOFR</td>\n",
       "                        <td id=\"T_146b4fd6_3434_11eb_a3d0_02cba411ec9drow163_col2\" class=\"data row163 col2\" >1.100000</td>\n",
       "            </tr>\n",
       "            <tr>\n",
       "                        <th id=\"T_146b4fd6_3434_11eb_a3d0_02cba411ec9dlevel0_row164\" class=\"row_heading level0 row164\" >164</th>\n",
       "                        <td id=\"T_146b4fd6_3434_11eb_a3d0_02cba411ec9drow164_col0\" class=\"data row164 col0\" >5-3-2020</td>\n",
       "                        <td id=\"T_146b4fd6_3434_11eb_a3d0_02cba411ec9drow164_col1\" class=\"data row164 col1\" >SOFR</td>\n",
       "                        <td id=\"T_146b4fd6_3434_11eb_a3d0_02cba411ec9drow164_col2\" class=\"data row164 col2\" >1.120000</td>\n",
       "            </tr>\n",
       "            <tr>\n",
       "                        <th id=\"T_146b4fd6_3434_11eb_a3d0_02cba411ec9dlevel0_row165\" class=\"row_heading level0 row165\" >165</th>\n",
       "                        <td id=\"T_146b4fd6_3434_11eb_a3d0_02cba411ec9drow165_col0\" class=\"data row165 col0\" >4-3-2020</td>\n",
       "                        <td id=\"T_146b4fd6_3434_11eb_a3d0_02cba411ec9drow165_col1\" class=\"data row165 col1\" >SOFR</td>\n",
       "                        <td id=\"T_146b4fd6_3434_11eb_a3d0_02cba411ec9drow165_col2\" class=\"data row165 col2\" >1.230000</td>\n",
       "            </tr>\n",
       "            <tr>\n",
       "                        <th id=\"T_146b4fd6_3434_11eb_a3d0_02cba411ec9dlevel0_row166\" class=\"row_heading level0 row166\" >166</th>\n",
       "                        <td id=\"T_146b4fd6_3434_11eb_a3d0_02cba411ec9drow166_col0\" class=\"data row166 col0\" >3-3-2020</td>\n",
       "                        <td id=\"T_146b4fd6_3434_11eb_a3d0_02cba411ec9drow166_col1\" class=\"data row166 col1\" >SOFR</td>\n",
       "                        <td id=\"T_146b4fd6_3434_11eb_a3d0_02cba411ec9drow166_col2\" class=\"data row166 col2\" >1.640000</td>\n",
       "            </tr>\n",
       "            <tr>\n",
       "                        <th id=\"T_146b4fd6_3434_11eb_a3d0_02cba411ec9dlevel0_row167\" class=\"row_heading level0 row167\" >167</th>\n",
       "                        <td id=\"T_146b4fd6_3434_11eb_a3d0_02cba411ec9drow167_col0\" class=\"data row167 col0\" >2-3-2020</td>\n",
       "                        <td id=\"T_146b4fd6_3434_11eb_a3d0_02cba411ec9drow167_col1\" class=\"data row167 col1\" >SOFR</td>\n",
       "                        <td id=\"T_146b4fd6_3434_11eb_a3d0_02cba411ec9drow167_col2\" class=\"data row167 col2\" >1.590000</td>\n",
       "            </tr>\n",
       "            <tr>\n",
       "                        <th id=\"T_146b4fd6_3434_11eb_a3d0_02cba411ec9dlevel0_row168\" class=\"row_heading level0 row168\" >168</th>\n",
       "                        <td id=\"T_146b4fd6_3434_11eb_a3d0_02cba411ec9drow168_col0\" class=\"data row168 col0\" >28-2-2020</td>\n",
       "                        <td id=\"T_146b4fd6_3434_11eb_a3d0_02cba411ec9drow168_col1\" class=\"data row168 col1\" >SOFR</td>\n",
       "                        <td id=\"T_146b4fd6_3434_11eb_a3d0_02cba411ec9drow168_col2\" class=\"data row168 col2\" >1.600000</td>\n",
       "            </tr>\n",
       "            <tr>\n",
       "                        <th id=\"T_146b4fd6_3434_11eb_a3d0_02cba411ec9dlevel0_row169\" class=\"row_heading level0 row169\" >169</th>\n",
       "                        <td id=\"T_146b4fd6_3434_11eb_a3d0_02cba411ec9drow169_col0\" class=\"data row169 col0\" >27-2-2020</td>\n",
       "                        <td id=\"T_146b4fd6_3434_11eb_a3d0_02cba411ec9drow169_col1\" class=\"data row169 col1\" >SOFR</td>\n",
       "                        <td id=\"T_146b4fd6_3434_11eb_a3d0_02cba411ec9drow169_col2\" class=\"data row169 col2\" >1.580000</td>\n",
       "            </tr>\n",
       "            <tr>\n",
       "                        <th id=\"T_146b4fd6_3434_11eb_a3d0_02cba411ec9dlevel0_row170\" class=\"row_heading level0 row170\" >170</th>\n",
       "                        <td id=\"T_146b4fd6_3434_11eb_a3d0_02cba411ec9drow170_col0\" class=\"data row170 col0\" >26-2-2020</td>\n",
       "                        <td id=\"T_146b4fd6_3434_11eb_a3d0_02cba411ec9drow170_col1\" class=\"data row170 col1\" >SOFR</td>\n",
       "                        <td id=\"T_146b4fd6_3434_11eb_a3d0_02cba411ec9drow170_col2\" class=\"data row170 col2\" >1.580000</td>\n",
       "            </tr>\n",
       "            <tr>\n",
       "                        <th id=\"T_146b4fd6_3434_11eb_a3d0_02cba411ec9dlevel0_row171\" class=\"row_heading level0 row171\" >171</th>\n",
       "                        <td id=\"T_146b4fd6_3434_11eb_a3d0_02cba411ec9drow171_col0\" class=\"data row171 col0\" >25-2-2020</td>\n",
       "                        <td id=\"T_146b4fd6_3434_11eb_a3d0_02cba411ec9drow171_col1\" class=\"data row171 col1\" >SOFR</td>\n",
       "                        <td id=\"T_146b4fd6_3434_11eb_a3d0_02cba411ec9drow171_col2\" class=\"data row171 col2\" >1.590000</td>\n",
       "            </tr>\n",
       "            <tr>\n",
       "                        <th id=\"T_146b4fd6_3434_11eb_a3d0_02cba411ec9dlevel0_row172\" class=\"row_heading level0 row172\" >172</th>\n",
       "                        <td id=\"T_146b4fd6_3434_11eb_a3d0_02cba411ec9drow172_col0\" class=\"data row172 col0\" >24-2-2020</td>\n",
       "                        <td id=\"T_146b4fd6_3434_11eb_a3d0_02cba411ec9drow172_col1\" class=\"data row172 col1\" >SOFR</td>\n",
       "                        <td id=\"T_146b4fd6_3434_11eb_a3d0_02cba411ec9drow172_col2\" class=\"data row172 col2\" >1.580000</td>\n",
       "            </tr>\n",
       "            <tr>\n",
       "                        <th id=\"T_146b4fd6_3434_11eb_a3d0_02cba411ec9dlevel0_row173\" class=\"row_heading level0 row173\" >173</th>\n",
       "                        <td id=\"T_146b4fd6_3434_11eb_a3d0_02cba411ec9drow173_col0\" class=\"data row173 col0\" >21-2-2020</td>\n",
       "                        <td id=\"T_146b4fd6_3434_11eb_a3d0_02cba411ec9drow173_col1\" class=\"data row173 col1\" >SOFR</td>\n",
       "                        <td id=\"T_146b4fd6_3434_11eb_a3d0_02cba411ec9drow173_col2\" class=\"data row173 col2\" >1.580000</td>\n",
       "            </tr>\n",
       "            <tr>\n",
       "                        <th id=\"T_146b4fd6_3434_11eb_a3d0_02cba411ec9dlevel0_row174\" class=\"row_heading level0 row174\" >174</th>\n",
       "                        <td id=\"T_146b4fd6_3434_11eb_a3d0_02cba411ec9drow174_col0\" class=\"data row174 col0\" >20-2-2020</td>\n",
       "                        <td id=\"T_146b4fd6_3434_11eb_a3d0_02cba411ec9drow174_col1\" class=\"data row174 col1\" >SOFR</td>\n",
       "                        <td id=\"T_146b4fd6_3434_11eb_a3d0_02cba411ec9drow174_col2\" class=\"data row174 col2\" >1.600000</td>\n",
       "            </tr>\n",
       "            <tr>\n",
       "                        <th id=\"T_146b4fd6_3434_11eb_a3d0_02cba411ec9dlevel0_row175\" class=\"row_heading level0 row175\" >175</th>\n",
       "                        <td id=\"T_146b4fd6_3434_11eb_a3d0_02cba411ec9drow175_col0\" class=\"data row175 col0\" >19-2-2020</td>\n",
       "                        <td id=\"T_146b4fd6_3434_11eb_a3d0_02cba411ec9drow175_col1\" class=\"data row175 col1\" >SOFR</td>\n",
       "                        <td id=\"T_146b4fd6_3434_11eb_a3d0_02cba411ec9drow175_col2\" class=\"data row175 col2\" >1.590000</td>\n",
       "            </tr>\n",
       "            <tr>\n",
       "                        <th id=\"T_146b4fd6_3434_11eb_a3d0_02cba411ec9dlevel0_row176\" class=\"row_heading level0 row176\" >176</th>\n",
       "                        <td id=\"T_146b4fd6_3434_11eb_a3d0_02cba411ec9drow176_col0\" class=\"data row176 col0\" >18-2-2020</td>\n",
       "                        <td id=\"T_146b4fd6_3434_11eb_a3d0_02cba411ec9drow176_col1\" class=\"data row176 col1\" >SOFR</td>\n",
       "                        <td id=\"T_146b4fd6_3434_11eb_a3d0_02cba411ec9drow176_col2\" class=\"data row176 col2\" >1.600000</td>\n",
       "            </tr>\n",
       "            <tr>\n",
       "                        <th id=\"T_146b4fd6_3434_11eb_a3d0_02cba411ec9dlevel0_row177\" class=\"row_heading level0 row177\" >177</th>\n",
       "                        <td id=\"T_146b4fd6_3434_11eb_a3d0_02cba411ec9drow177_col0\" class=\"data row177 col0\" >14-2-2020</td>\n",
       "                        <td id=\"T_146b4fd6_3434_11eb_a3d0_02cba411ec9drow177_col1\" class=\"data row177 col1\" >SOFR</td>\n",
       "                        <td id=\"T_146b4fd6_3434_11eb_a3d0_02cba411ec9drow177_col2\" class=\"data row177 col2\" >1.580000</td>\n",
       "            </tr>\n",
       "            <tr>\n",
       "                        <th id=\"T_146b4fd6_3434_11eb_a3d0_02cba411ec9dlevel0_row178\" class=\"row_heading level0 row178\" >178</th>\n",
       "                        <td id=\"T_146b4fd6_3434_11eb_a3d0_02cba411ec9drow178_col0\" class=\"data row178 col0\" >13-2-2020</td>\n",
       "                        <td id=\"T_146b4fd6_3434_11eb_a3d0_02cba411ec9drow178_col1\" class=\"data row178 col1\" >SOFR</td>\n",
       "                        <td id=\"T_146b4fd6_3434_11eb_a3d0_02cba411ec9drow178_col2\" class=\"data row178 col2\" >1.570000</td>\n",
       "            </tr>\n",
       "            <tr>\n",
       "                        <th id=\"T_146b4fd6_3434_11eb_a3d0_02cba411ec9dlevel0_row179\" class=\"row_heading level0 row179\" >179</th>\n",
       "                        <td id=\"T_146b4fd6_3434_11eb_a3d0_02cba411ec9drow179_col0\" class=\"data row179 col0\" >12-2-2020</td>\n",
       "                        <td id=\"T_146b4fd6_3434_11eb_a3d0_02cba411ec9drow179_col1\" class=\"data row179 col1\" >SOFR</td>\n",
       "                        <td id=\"T_146b4fd6_3434_11eb_a3d0_02cba411ec9drow179_col2\" class=\"data row179 col2\" >1.570000</td>\n",
       "            </tr>\n",
       "            <tr>\n",
       "                        <th id=\"T_146b4fd6_3434_11eb_a3d0_02cba411ec9dlevel0_row180\" class=\"row_heading level0 row180\" >180</th>\n",
       "                        <td id=\"T_146b4fd6_3434_11eb_a3d0_02cba411ec9drow180_col0\" class=\"data row180 col0\" >11-2-2020</td>\n",
       "                        <td id=\"T_146b4fd6_3434_11eb_a3d0_02cba411ec9drow180_col1\" class=\"data row180 col1\" >SOFR</td>\n",
       "                        <td id=\"T_146b4fd6_3434_11eb_a3d0_02cba411ec9drow180_col2\" class=\"data row180 col2\" >1.580000</td>\n",
       "            </tr>\n",
       "            <tr>\n",
       "                        <th id=\"T_146b4fd6_3434_11eb_a3d0_02cba411ec9dlevel0_row181\" class=\"row_heading level0 row181\" >181</th>\n",
       "                        <td id=\"T_146b4fd6_3434_11eb_a3d0_02cba411ec9drow181_col0\" class=\"data row181 col0\" >10-2-2020</td>\n",
       "                        <td id=\"T_146b4fd6_3434_11eb_a3d0_02cba411ec9drow181_col1\" class=\"data row181 col1\" >SOFR</td>\n",
       "                        <td id=\"T_146b4fd6_3434_11eb_a3d0_02cba411ec9drow181_col2\" class=\"data row181 col2\" >1.580000</td>\n",
       "            </tr>\n",
       "            <tr>\n",
       "                        <th id=\"T_146b4fd6_3434_11eb_a3d0_02cba411ec9dlevel0_row182\" class=\"row_heading level0 row182\" >182</th>\n",
       "                        <td id=\"T_146b4fd6_3434_11eb_a3d0_02cba411ec9drow182_col0\" class=\"data row182 col0\" >7-2-2020</td>\n",
       "                        <td id=\"T_146b4fd6_3434_11eb_a3d0_02cba411ec9drow182_col1\" class=\"data row182 col1\" >SOFR</td>\n",
       "                        <td id=\"T_146b4fd6_3434_11eb_a3d0_02cba411ec9drow182_col2\" class=\"data row182 col2\" >1.580000</td>\n",
       "            </tr>\n",
       "            <tr>\n",
       "                        <th id=\"T_146b4fd6_3434_11eb_a3d0_02cba411ec9dlevel0_row183\" class=\"row_heading level0 row183\" >183</th>\n",
       "                        <td id=\"T_146b4fd6_3434_11eb_a3d0_02cba411ec9drow183_col0\" class=\"data row183 col0\" >6-2-2020</td>\n",
       "                        <td id=\"T_146b4fd6_3434_11eb_a3d0_02cba411ec9drow183_col1\" class=\"data row183 col1\" >SOFR</td>\n",
       "                        <td id=\"T_146b4fd6_3434_11eb_a3d0_02cba411ec9drow183_col2\" class=\"data row183 col2\" >1.590000</td>\n",
       "            </tr>\n",
       "            <tr>\n",
       "                        <th id=\"T_146b4fd6_3434_11eb_a3d0_02cba411ec9dlevel0_row184\" class=\"row_heading level0 row184\" >184</th>\n",
       "                        <td id=\"T_146b4fd6_3434_11eb_a3d0_02cba411ec9drow184_col0\" class=\"data row184 col0\" >5-2-2020</td>\n",
       "                        <td id=\"T_146b4fd6_3434_11eb_a3d0_02cba411ec9drow184_col1\" class=\"data row184 col1\" >SOFR</td>\n",
       "                        <td id=\"T_146b4fd6_3434_11eb_a3d0_02cba411ec9drow184_col2\" class=\"data row184 col2\" >1.590000</td>\n",
       "            </tr>\n",
       "            <tr>\n",
       "                        <th id=\"T_146b4fd6_3434_11eb_a3d0_02cba411ec9dlevel0_row185\" class=\"row_heading level0 row185\" >185</th>\n",
       "                        <td id=\"T_146b4fd6_3434_11eb_a3d0_02cba411ec9drow185_col0\" class=\"data row185 col0\" >4-2-2020</td>\n",
       "                        <td id=\"T_146b4fd6_3434_11eb_a3d0_02cba411ec9drow185_col1\" class=\"data row185 col1\" >SOFR</td>\n",
       "                        <td id=\"T_146b4fd6_3434_11eb_a3d0_02cba411ec9drow185_col2\" class=\"data row185 col2\" >1.600000</td>\n",
       "            </tr>\n",
       "            <tr>\n",
       "                        <th id=\"T_146b4fd6_3434_11eb_a3d0_02cba411ec9dlevel0_row186\" class=\"row_heading level0 row186\" >186</th>\n",
       "                        <td id=\"T_146b4fd6_3434_11eb_a3d0_02cba411ec9drow186_col0\" class=\"data row186 col0\" >3-2-2020</td>\n",
       "                        <td id=\"T_146b4fd6_3434_11eb_a3d0_02cba411ec9drow186_col1\" class=\"data row186 col1\" >SOFR</td>\n",
       "                        <td id=\"T_146b4fd6_3434_11eb_a3d0_02cba411ec9drow186_col2\" class=\"data row186 col2\" >1.590000</td>\n",
       "            </tr>\n",
       "            <tr>\n",
       "                        <th id=\"T_146b4fd6_3434_11eb_a3d0_02cba411ec9dlevel0_row187\" class=\"row_heading level0 row187\" >187</th>\n",
       "                        <td id=\"T_146b4fd6_3434_11eb_a3d0_02cba411ec9drow187_col0\" class=\"data row187 col0\" >31-1-2020</td>\n",
       "                        <td id=\"T_146b4fd6_3434_11eb_a3d0_02cba411ec9drow187_col1\" class=\"data row187 col1\" >SOFR</td>\n",
       "                        <td id=\"T_146b4fd6_3434_11eb_a3d0_02cba411ec9drow187_col2\" class=\"data row187 col2\" >1.600000</td>\n",
       "            </tr>\n",
       "            <tr>\n",
       "                        <th id=\"T_146b4fd6_3434_11eb_a3d0_02cba411ec9dlevel0_row188\" class=\"row_heading level0 row188\" >188</th>\n",
       "                        <td id=\"T_146b4fd6_3434_11eb_a3d0_02cba411ec9drow188_col0\" class=\"data row188 col0\" >30-1-2020</td>\n",
       "                        <td id=\"T_146b4fd6_3434_11eb_a3d0_02cba411ec9drow188_col1\" class=\"data row188 col1\" >SOFR</td>\n",
       "                        <td id=\"T_146b4fd6_3434_11eb_a3d0_02cba411ec9drow188_col2\" class=\"data row188 col2\" >1.580000</td>\n",
       "            </tr>\n",
       "            <tr>\n",
       "                        <th id=\"T_146b4fd6_3434_11eb_a3d0_02cba411ec9dlevel0_row189\" class=\"row_heading level0 row189\" >189</th>\n",
       "                        <td id=\"T_146b4fd6_3434_11eb_a3d0_02cba411ec9drow189_col0\" class=\"data row189 col0\" >29-1-2020</td>\n",
       "                        <td id=\"T_146b4fd6_3434_11eb_a3d0_02cba411ec9drow189_col1\" class=\"data row189 col1\" >SOFR</td>\n",
       "                        <td id=\"T_146b4fd6_3434_11eb_a3d0_02cba411ec9drow189_col2\" class=\"data row189 col2\" >1.530000</td>\n",
       "            </tr>\n",
       "            <tr>\n",
       "                        <th id=\"T_146b4fd6_3434_11eb_a3d0_02cba411ec9dlevel0_row190\" class=\"row_heading level0 row190\" >190</th>\n",
       "                        <td id=\"T_146b4fd6_3434_11eb_a3d0_02cba411ec9drow190_col0\" class=\"data row190 col0\" >28-1-2020</td>\n",
       "                        <td id=\"T_146b4fd6_3434_11eb_a3d0_02cba411ec9drow190_col1\" class=\"data row190 col1\" >SOFR</td>\n",
       "                        <td id=\"T_146b4fd6_3434_11eb_a3d0_02cba411ec9drow190_col2\" class=\"data row190 col2\" >1.530000</td>\n",
       "            </tr>\n",
       "            <tr>\n",
       "                        <th id=\"T_146b4fd6_3434_11eb_a3d0_02cba411ec9dlevel0_row191\" class=\"row_heading level0 row191\" >191</th>\n",
       "                        <td id=\"T_146b4fd6_3434_11eb_a3d0_02cba411ec9drow191_col0\" class=\"data row191 col0\" >27-1-2020</td>\n",
       "                        <td id=\"T_146b4fd6_3434_11eb_a3d0_02cba411ec9drow191_col1\" class=\"data row191 col1\" >SOFR</td>\n",
       "                        <td id=\"T_146b4fd6_3434_11eb_a3d0_02cba411ec9drow191_col2\" class=\"data row191 col2\" >1.530000</td>\n",
       "            </tr>\n",
       "            <tr>\n",
       "                        <th id=\"T_146b4fd6_3434_11eb_a3d0_02cba411ec9dlevel0_row192\" class=\"row_heading level0 row192\" >192</th>\n",
       "                        <td id=\"T_146b4fd6_3434_11eb_a3d0_02cba411ec9drow192_col0\" class=\"data row192 col0\" >24-1-2020</td>\n",
       "                        <td id=\"T_146b4fd6_3434_11eb_a3d0_02cba411ec9drow192_col1\" class=\"data row192 col1\" >SOFR</td>\n",
       "                        <td id=\"T_146b4fd6_3434_11eb_a3d0_02cba411ec9drow192_col2\" class=\"data row192 col2\" >1.530000</td>\n",
       "            </tr>\n",
       "            <tr>\n",
       "                        <th id=\"T_146b4fd6_3434_11eb_a3d0_02cba411ec9dlevel0_row193\" class=\"row_heading level0 row193\" >193</th>\n",
       "                        <td id=\"T_146b4fd6_3434_11eb_a3d0_02cba411ec9drow193_col0\" class=\"data row193 col0\" >23-1-2020</td>\n",
       "                        <td id=\"T_146b4fd6_3434_11eb_a3d0_02cba411ec9drow193_col1\" class=\"data row193 col1\" >SOFR</td>\n",
       "                        <td id=\"T_146b4fd6_3434_11eb_a3d0_02cba411ec9drow193_col2\" class=\"data row193 col2\" >1.540000</td>\n",
       "            </tr>\n",
       "            <tr>\n",
       "                        <th id=\"T_146b4fd6_3434_11eb_a3d0_02cba411ec9dlevel0_row194\" class=\"row_heading level0 row194\" >194</th>\n",
       "                        <td id=\"T_146b4fd6_3434_11eb_a3d0_02cba411ec9drow194_col0\" class=\"data row194 col0\" >22-1-2020</td>\n",
       "                        <td id=\"T_146b4fd6_3434_11eb_a3d0_02cba411ec9drow194_col1\" class=\"data row194 col1\" >SOFR</td>\n",
       "                        <td id=\"T_146b4fd6_3434_11eb_a3d0_02cba411ec9drow194_col2\" class=\"data row194 col2\" >1.540000</td>\n",
       "            </tr>\n",
       "            <tr>\n",
       "                        <th id=\"T_146b4fd6_3434_11eb_a3d0_02cba411ec9dlevel0_row195\" class=\"row_heading level0 row195\" >195</th>\n",
       "                        <td id=\"T_146b4fd6_3434_11eb_a3d0_02cba411ec9drow195_col0\" class=\"data row195 col0\" >21-1-2020</td>\n",
       "                        <td id=\"T_146b4fd6_3434_11eb_a3d0_02cba411ec9drow195_col1\" class=\"data row195 col1\" >SOFR</td>\n",
       "                        <td id=\"T_146b4fd6_3434_11eb_a3d0_02cba411ec9drow195_col2\" class=\"data row195 col2\" >1.540000</td>\n",
       "            </tr>\n",
       "            <tr>\n",
       "                        <th id=\"T_146b4fd6_3434_11eb_a3d0_02cba411ec9dlevel0_row196\" class=\"row_heading level0 row196\" >196</th>\n",
       "                        <td id=\"T_146b4fd6_3434_11eb_a3d0_02cba411ec9drow196_col0\" class=\"data row196 col0\" >17-1-2020</td>\n",
       "                        <td id=\"T_146b4fd6_3434_11eb_a3d0_02cba411ec9drow196_col1\" class=\"data row196 col1\" >SOFR</td>\n",
       "                        <td id=\"T_146b4fd6_3434_11eb_a3d0_02cba411ec9drow196_col2\" class=\"data row196 col2\" >1.540000</td>\n",
       "            </tr>\n",
       "            <tr>\n",
       "                        <th id=\"T_146b4fd6_3434_11eb_a3d0_02cba411ec9dlevel0_row197\" class=\"row_heading level0 row197\" >197</th>\n",
       "                        <td id=\"T_146b4fd6_3434_11eb_a3d0_02cba411ec9drow197_col0\" class=\"data row197 col0\" >16-1-2020</td>\n",
       "                        <td id=\"T_146b4fd6_3434_11eb_a3d0_02cba411ec9drow197_col1\" class=\"data row197 col1\" >SOFR</td>\n",
       "                        <td id=\"T_146b4fd6_3434_11eb_a3d0_02cba411ec9drow197_col2\" class=\"data row197 col2\" >1.550000</td>\n",
       "            </tr>\n",
       "            <tr>\n",
       "                        <th id=\"T_146b4fd6_3434_11eb_a3d0_02cba411ec9dlevel0_row198\" class=\"row_heading level0 row198\" >198</th>\n",
       "                        <td id=\"T_146b4fd6_3434_11eb_a3d0_02cba411ec9drow198_col0\" class=\"data row198 col0\" >15-1-2020</td>\n",
       "                        <td id=\"T_146b4fd6_3434_11eb_a3d0_02cba411ec9drow198_col1\" class=\"data row198 col1\" >SOFR</td>\n",
       "                        <td id=\"T_146b4fd6_3434_11eb_a3d0_02cba411ec9drow198_col2\" class=\"data row198 col2\" >1.560000</td>\n",
       "            </tr>\n",
       "            <tr>\n",
       "                        <th id=\"T_146b4fd6_3434_11eb_a3d0_02cba411ec9dlevel0_row199\" class=\"row_heading level0 row199\" >199</th>\n",
       "                        <td id=\"T_146b4fd6_3434_11eb_a3d0_02cba411ec9drow199_col0\" class=\"data row199 col0\" >14-1-2020</td>\n",
       "                        <td id=\"T_146b4fd6_3434_11eb_a3d0_02cba411ec9drow199_col1\" class=\"data row199 col1\" >SOFR</td>\n",
       "                        <td id=\"T_146b4fd6_3434_11eb_a3d0_02cba411ec9drow199_col2\" class=\"data row199 col2\" >1.550000</td>\n",
       "            </tr>\n",
       "            <tr>\n",
       "                        <th id=\"T_146b4fd6_3434_11eb_a3d0_02cba411ec9dlevel0_row200\" class=\"row_heading level0 row200\" >200</th>\n",
       "                        <td id=\"T_146b4fd6_3434_11eb_a3d0_02cba411ec9drow200_col0\" class=\"data row200 col0\" >13-1-2020</td>\n",
       "                        <td id=\"T_146b4fd6_3434_11eb_a3d0_02cba411ec9drow200_col1\" class=\"data row200 col1\" >SOFR</td>\n",
       "                        <td id=\"T_146b4fd6_3434_11eb_a3d0_02cba411ec9drow200_col2\" class=\"data row200 col2\" >1.540000</td>\n",
       "            </tr>\n",
       "            <tr>\n",
       "                        <th id=\"T_146b4fd6_3434_11eb_a3d0_02cba411ec9dlevel0_row201\" class=\"row_heading level0 row201\" >201</th>\n",
       "                        <td id=\"T_146b4fd6_3434_11eb_a3d0_02cba411ec9drow201_col0\" class=\"data row201 col0\" >10-1-2020</td>\n",
       "                        <td id=\"T_146b4fd6_3434_11eb_a3d0_02cba411ec9drow201_col1\" class=\"data row201 col1\" >SOFR</td>\n",
       "                        <td id=\"T_146b4fd6_3434_11eb_a3d0_02cba411ec9drow201_col2\" class=\"data row201 col2\" >1.550000</td>\n",
       "            </tr>\n",
       "            <tr>\n",
       "                        <th id=\"T_146b4fd6_3434_11eb_a3d0_02cba411ec9dlevel0_row202\" class=\"row_heading level0 row202\" >202</th>\n",
       "                        <td id=\"T_146b4fd6_3434_11eb_a3d0_02cba411ec9drow202_col0\" class=\"data row202 col0\" >9-1-2020</td>\n",
       "                        <td id=\"T_146b4fd6_3434_11eb_a3d0_02cba411ec9drow202_col1\" class=\"data row202 col1\" >SOFR</td>\n",
       "                        <td id=\"T_146b4fd6_3434_11eb_a3d0_02cba411ec9drow202_col2\" class=\"data row202 col2\" >1.550000</td>\n",
       "            </tr>\n",
       "            <tr>\n",
       "                        <th id=\"T_146b4fd6_3434_11eb_a3d0_02cba411ec9dlevel0_row203\" class=\"row_heading level0 row203\" >203</th>\n",
       "                        <td id=\"T_146b4fd6_3434_11eb_a3d0_02cba411ec9drow203_col0\" class=\"data row203 col0\" >8-1-2020</td>\n",
       "                        <td id=\"T_146b4fd6_3434_11eb_a3d0_02cba411ec9drow203_col1\" class=\"data row203 col1\" >SOFR</td>\n",
       "                        <td id=\"T_146b4fd6_3434_11eb_a3d0_02cba411ec9drow203_col2\" class=\"data row203 col2\" >1.550000</td>\n",
       "            </tr>\n",
       "            <tr>\n",
       "                        <th id=\"T_146b4fd6_3434_11eb_a3d0_02cba411ec9dlevel0_row204\" class=\"row_heading level0 row204\" >204</th>\n",
       "                        <td id=\"T_146b4fd6_3434_11eb_a3d0_02cba411ec9drow204_col0\" class=\"data row204 col0\" >7-1-2020</td>\n",
       "                        <td id=\"T_146b4fd6_3434_11eb_a3d0_02cba411ec9drow204_col1\" class=\"data row204 col1\" >SOFR</td>\n",
       "                        <td id=\"T_146b4fd6_3434_11eb_a3d0_02cba411ec9drow204_col2\" class=\"data row204 col2\" >1.560000</td>\n",
       "            </tr>\n",
       "            <tr>\n",
       "                        <th id=\"T_146b4fd6_3434_11eb_a3d0_02cba411ec9dlevel0_row205\" class=\"row_heading level0 row205\" >205</th>\n",
       "                        <td id=\"T_146b4fd6_3434_11eb_a3d0_02cba411ec9drow205_col0\" class=\"data row205 col0\" >6-1-2020</td>\n",
       "                        <td id=\"T_146b4fd6_3434_11eb_a3d0_02cba411ec9drow205_col1\" class=\"data row205 col1\" >SOFR</td>\n",
       "                        <td id=\"T_146b4fd6_3434_11eb_a3d0_02cba411ec9drow205_col2\" class=\"data row205 col2\" >1.550000</td>\n",
       "            </tr>\n",
       "            <tr>\n",
       "                        <th id=\"T_146b4fd6_3434_11eb_a3d0_02cba411ec9dlevel0_row206\" class=\"row_heading level0 row206\" >206</th>\n",
       "                        <td id=\"T_146b4fd6_3434_11eb_a3d0_02cba411ec9drow206_col0\" class=\"data row206 col0\" >3-1-2020</td>\n",
       "                        <td id=\"T_146b4fd6_3434_11eb_a3d0_02cba411ec9drow206_col1\" class=\"data row206 col1\" >SOFR</td>\n",
       "                        <td id=\"T_146b4fd6_3434_11eb_a3d0_02cba411ec9drow206_col2\" class=\"data row206 col2\" >1.550000</td>\n",
       "            </tr>\n",
       "            <tr>\n",
       "                        <th id=\"T_146b4fd6_3434_11eb_a3d0_02cba411ec9dlevel0_row207\" class=\"row_heading level0 row207\" >207</th>\n",
       "                        <td id=\"T_146b4fd6_3434_11eb_a3d0_02cba411ec9drow207_col0\" class=\"data row207 col0\" >2-1-2020</td>\n",
       "                        <td id=\"T_146b4fd6_3434_11eb_a3d0_02cba411ec9drow207_col1\" class=\"data row207 col1\" >SOFR</td>\n",
       "                        <td id=\"T_146b4fd6_3434_11eb_a3d0_02cba411ec9drow207_col2\" class=\"data row207 col2\" >1.540000</td>\n",
       "            </tr>\n",
       "            <tr>\n",
       "                        <th id=\"T_146b4fd6_3434_11eb_a3d0_02cba411ec9dlevel0_row208\" class=\"row_heading level0 row208\" >208</th>\n",
       "                        <td id=\"T_146b4fd6_3434_11eb_a3d0_02cba411ec9drow208_col0\" class=\"data row208 col0\" >31-12-2019</td>\n",
       "                        <td id=\"T_146b4fd6_3434_11eb_a3d0_02cba411ec9drow208_col1\" class=\"data row208 col1\" >SOFR</td>\n",
       "                        <td id=\"T_146b4fd6_3434_11eb_a3d0_02cba411ec9drow208_col2\" class=\"data row208 col2\" >1.550000</td>\n",
       "            </tr>\n",
       "            <tr>\n",
       "                        <th id=\"T_146b4fd6_3434_11eb_a3d0_02cba411ec9dlevel0_row209\" class=\"row_heading level0 row209\" >209</th>\n",
       "                        <td id=\"T_146b4fd6_3434_11eb_a3d0_02cba411ec9drow209_col0\" class=\"data row209 col0\" >30-12-2019</td>\n",
       "                        <td id=\"T_146b4fd6_3434_11eb_a3d0_02cba411ec9drow209_col1\" class=\"data row209 col1\" >SOFR</td>\n",
       "                        <td id=\"T_146b4fd6_3434_11eb_a3d0_02cba411ec9drow209_col2\" class=\"data row209 col2\" >1.540000</td>\n",
       "            </tr>\n",
       "            <tr>\n",
       "                        <th id=\"T_146b4fd6_3434_11eb_a3d0_02cba411ec9dlevel0_row210\" class=\"row_heading level0 row210\" >210</th>\n",
       "                        <td id=\"T_146b4fd6_3434_11eb_a3d0_02cba411ec9drow210_col0\" class=\"data row210 col0\" >27-12-2019</td>\n",
       "                        <td id=\"T_146b4fd6_3434_11eb_a3d0_02cba411ec9drow210_col1\" class=\"data row210 col1\" >SOFR</td>\n",
       "                        <td id=\"T_146b4fd6_3434_11eb_a3d0_02cba411ec9drow210_col2\" class=\"data row210 col2\" >1.530000</td>\n",
       "            </tr>\n",
       "            <tr>\n",
       "                        <th id=\"T_146b4fd6_3434_11eb_a3d0_02cba411ec9dlevel0_row211\" class=\"row_heading level0 row211\" >211</th>\n",
       "                        <td id=\"T_146b4fd6_3434_11eb_a3d0_02cba411ec9drow211_col0\" class=\"data row211 col0\" >26-12-2019</td>\n",
       "                        <td id=\"T_146b4fd6_3434_11eb_a3d0_02cba411ec9drow211_col1\" class=\"data row211 col1\" >SOFR</td>\n",
       "                        <td id=\"T_146b4fd6_3434_11eb_a3d0_02cba411ec9drow211_col2\" class=\"data row211 col2\" >1.520000</td>\n",
       "            </tr>\n",
       "            <tr>\n",
       "                        <th id=\"T_146b4fd6_3434_11eb_a3d0_02cba411ec9dlevel0_row212\" class=\"row_heading level0 row212\" >212</th>\n",
       "                        <td id=\"T_146b4fd6_3434_11eb_a3d0_02cba411ec9drow212_col0\" class=\"data row212 col0\" >24-12-2019</td>\n",
       "                        <td id=\"T_146b4fd6_3434_11eb_a3d0_02cba411ec9drow212_col1\" class=\"data row212 col1\" >SOFR</td>\n",
       "                        <td id=\"T_146b4fd6_3434_11eb_a3d0_02cba411ec9drow212_col2\" class=\"data row212 col2\" >1.520000</td>\n",
       "            </tr>\n",
       "            <tr>\n",
       "                        <th id=\"T_146b4fd6_3434_11eb_a3d0_02cba411ec9dlevel0_row213\" class=\"row_heading level0 row213\" >213</th>\n",
       "                        <td id=\"T_146b4fd6_3434_11eb_a3d0_02cba411ec9drow213_col0\" class=\"data row213 col0\" >23-12-2019</td>\n",
       "                        <td id=\"T_146b4fd6_3434_11eb_a3d0_02cba411ec9drow213_col1\" class=\"data row213 col1\" >SOFR</td>\n",
       "                        <td id=\"T_146b4fd6_3434_11eb_a3d0_02cba411ec9drow213_col2\" class=\"data row213 col2\" >1.520000</td>\n",
       "            </tr>\n",
       "            <tr>\n",
       "                        <th id=\"T_146b4fd6_3434_11eb_a3d0_02cba411ec9dlevel0_row214\" class=\"row_heading level0 row214\" >214</th>\n",
       "                        <td id=\"T_146b4fd6_3434_11eb_a3d0_02cba411ec9drow214_col0\" class=\"data row214 col0\" >20-12-2019</td>\n",
       "                        <td id=\"T_146b4fd6_3434_11eb_a3d0_02cba411ec9drow214_col1\" class=\"data row214 col1\" >SOFR</td>\n",
       "                        <td id=\"T_146b4fd6_3434_11eb_a3d0_02cba411ec9drow214_col2\" class=\"data row214 col2\" >1.530000</td>\n",
       "            </tr>\n",
       "            <tr>\n",
       "                        <th id=\"T_146b4fd6_3434_11eb_a3d0_02cba411ec9dlevel0_row215\" class=\"row_heading level0 row215\" >215</th>\n",
       "                        <td id=\"T_146b4fd6_3434_11eb_a3d0_02cba411ec9drow215_col0\" class=\"data row215 col0\" >19-12-2019</td>\n",
       "                        <td id=\"T_146b4fd6_3434_11eb_a3d0_02cba411ec9drow215_col1\" class=\"data row215 col1\" >SOFR</td>\n",
       "                        <td id=\"T_146b4fd6_3434_11eb_a3d0_02cba411ec9drow215_col2\" class=\"data row215 col2\" >1.530000</td>\n",
       "            </tr>\n",
       "            <tr>\n",
       "                        <th id=\"T_146b4fd6_3434_11eb_a3d0_02cba411ec9dlevel0_row216\" class=\"row_heading level0 row216\" >216</th>\n",
       "                        <td id=\"T_146b4fd6_3434_11eb_a3d0_02cba411ec9drow216_col0\" class=\"data row216 col0\" >18-12-2019</td>\n",
       "                        <td id=\"T_146b4fd6_3434_11eb_a3d0_02cba411ec9drow216_col1\" class=\"data row216 col1\" >SOFR</td>\n",
       "                        <td id=\"T_146b4fd6_3434_11eb_a3d0_02cba411ec9drow216_col2\" class=\"data row216 col2\" >1.530000</td>\n",
       "            </tr>\n",
       "            <tr>\n",
       "                        <th id=\"T_146b4fd6_3434_11eb_a3d0_02cba411ec9dlevel0_row217\" class=\"row_heading level0 row217\" >217</th>\n",
       "                        <td id=\"T_146b4fd6_3434_11eb_a3d0_02cba411ec9drow217_col0\" class=\"data row217 col0\" >17-12-2019</td>\n",
       "                        <td id=\"T_146b4fd6_3434_11eb_a3d0_02cba411ec9drow217_col1\" class=\"data row217 col1\" >SOFR</td>\n",
       "                        <td id=\"T_146b4fd6_3434_11eb_a3d0_02cba411ec9drow217_col2\" class=\"data row217 col2\" >1.540000</td>\n",
       "            </tr>\n",
       "            <tr>\n",
       "                        <th id=\"T_146b4fd6_3434_11eb_a3d0_02cba411ec9dlevel0_row218\" class=\"row_heading level0 row218\" >218</th>\n",
       "                        <td id=\"T_146b4fd6_3434_11eb_a3d0_02cba411ec9drow218_col0\" class=\"data row218 col0\" >16-12-2019</td>\n",
       "                        <td id=\"T_146b4fd6_3434_11eb_a3d0_02cba411ec9drow218_col1\" class=\"data row218 col1\" >SOFR</td>\n",
       "                        <td id=\"T_146b4fd6_3434_11eb_a3d0_02cba411ec9drow218_col2\" class=\"data row218 col2\" >1.620000</td>\n",
       "            </tr>\n",
       "            <tr>\n",
       "                        <th id=\"T_146b4fd6_3434_11eb_a3d0_02cba411ec9dlevel0_row219\" class=\"row_heading level0 row219\" >219</th>\n",
       "                        <td id=\"T_146b4fd6_3434_11eb_a3d0_02cba411ec9drow219_col0\" class=\"data row219 col0\" >13-12-2019</td>\n",
       "                        <td id=\"T_146b4fd6_3434_11eb_a3d0_02cba411ec9drow219_col1\" class=\"data row219 col1\" >SOFR</td>\n",
       "                        <td id=\"T_146b4fd6_3434_11eb_a3d0_02cba411ec9drow219_col2\" class=\"data row219 col2\" >1.540000</td>\n",
       "            </tr>\n",
       "            <tr>\n",
       "                        <th id=\"T_146b4fd6_3434_11eb_a3d0_02cba411ec9dlevel0_row220\" class=\"row_heading level0 row220\" >220</th>\n",
       "                        <td id=\"T_146b4fd6_3434_11eb_a3d0_02cba411ec9drow220_col0\" class=\"data row220 col0\" >12-12-2019</td>\n",
       "                        <td id=\"T_146b4fd6_3434_11eb_a3d0_02cba411ec9drow220_col1\" class=\"data row220 col1\" >SOFR</td>\n",
       "                        <td id=\"T_146b4fd6_3434_11eb_a3d0_02cba411ec9drow220_col2\" class=\"data row220 col2\" >1.530000</td>\n",
       "            </tr>\n",
       "            <tr>\n",
       "                        <th id=\"T_146b4fd6_3434_11eb_a3d0_02cba411ec9dlevel0_row221\" class=\"row_heading level0 row221\" >221</th>\n",
       "                        <td id=\"T_146b4fd6_3434_11eb_a3d0_02cba411ec9drow221_col0\" class=\"data row221 col0\" >11-12-2019</td>\n",
       "                        <td id=\"T_146b4fd6_3434_11eb_a3d0_02cba411ec9drow221_col1\" class=\"data row221 col1\" >SOFR</td>\n",
       "                        <td id=\"T_146b4fd6_3434_11eb_a3d0_02cba411ec9drow221_col2\" class=\"data row221 col2\" >1.540000</td>\n",
       "            </tr>\n",
       "            <tr>\n",
       "                        <th id=\"T_146b4fd6_3434_11eb_a3d0_02cba411ec9dlevel0_row222\" class=\"row_heading level0 row222\" >222</th>\n",
       "                        <td id=\"T_146b4fd6_3434_11eb_a3d0_02cba411ec9drow222_col0\" class=\"data row222 col0\" >10-12-2019</td>\n",
       "                        <td id=\"T_146b4fd6_3434_11eb_a3d0_02cba411ec9drow222_col1\" class=\"data row222 col1\" >SOFR</td>\n",
       "                        <td id=\"T_146b4fd6_3434_11eb_a3d0_02cba411ec9drow222_col2\" class=\"data row222 col2\" >1.550000</td>\n",
       "            </tr>\n",
       "            <tr>\n",
       "                        <th id=\"T_146b4fd6_3434_11eb_a3d0_02cba411ec9dlevel0_row223\" class=\"row_heading level0 row223\" >223</th>\n",
       "                        <td id=\"T_146b4fd6_3434_11eb_a3d0_02cba411ec9drow223_col0\" class=\"data row223 col0\" >9-12-2019</td>\n",
       "                        <td id=\"T_146b4fd6_3434_11eb_a3d0_02cba411ec9drow223_col1\" class=\"data row223 col1\" >SOFR</td>\n",
       "                        <td id=\"T_146b4fd6_3434_11eb_a3d0_02cba411ec9drow223_col2\" class=\"data row223 col2\" >1.560000</td>\n",
       "            </tr>\n",
       "            <tr>\n",
       "                        <th id=\"T_146b4fd6_3434_11eb_a3d0_02cba411ec9dlevel0_row224\" class=\"row_heading level0 row224\" >224</th>\n",
       "                        <td id=\"T_146b4fd6_3434_11eb_a3d0_02cba411ec9drow224_col0\" class=\"data row224 col0\" >6-12-2019</td>\n",
       "                        <td id=\"T_146b4fd6_3434_11eb_a3d0_02cba411ec9drow224_col1\" class=\"data row224 col1\" >SOFR</td>\n",
       "                        <td id=\"T_146b4fd6_3434_11eb_a3d0_02cba411ec9drow224_col2\" class=\"data row224 col2\" >1.550000</td>\n",
       "            </tr>\n",
       "            <tr>\n",
       "                        <th id=\"T_146b4fd6_3434_11eb_a3d0_02cba411ec9dlevel0_row225\" class=\"row_heading level0 row225\" >225</th>\n",
       "                        <td id=\"T_146b4fd6_3434_11eb_a3d0_02cba411ec9drow225_col0\" class=\"data row225 col0\" >5-12-2019</td>\n",
       "                        <td id=\"T_146b4fd6_3434_11eb_a3d0_02cba411ec9drow225_col1\" class=\"data row225 col1\" >SOFR</td>\n",
       "                        <td id=\"T_146b4fd6_3434_11eb_a3d0_02cba411ec9drow225_col2\" class=\"data row225 col2\" >1.550000</td>\n",
       "            </tr>\n",
       "            <tr>\n",
       "                        <th id=\"T_146b4fd6_3434_11eb_a3d0_02cba411ec9dlevel0_row226\" class=\"row_heading level0 row226\" >226</th>\n",
       "                        <td id=\"T_146b4fd6_3434_11eb_a3d0_02cba411ec9drow226_col0\" class=\"data row226 col0\" >4-12-2019</td>\n",
       "                        <td id=\"T_146b4fd6_3434_11eb_a3d0_02cba411ec9drow226_col1\" class=\"data row226 col1\" >SOFR</td>\n",
       "                        <td id=\"T_146b4fd6_3434_11eb_a3d0_02cba411ec9drow226_col2\" class=\"data row226 col2\" >1.540000</td>\n",
       "            </tr>\n",
       "            <tr>\n",
       "                        <th id=\"T_146b4fd6_3434_11eb_a3d0_02cba411ec9dlevel0_row227\" class=\"row_heading level0 row227\" >227</th>\n",
       "                        <td id=\"T_146b4fd6_3434_11eb_a3d0_02cba411ec9drow227_col0\" class=\"data row227 col0\" >3-12-2019</td>\n",
       "                        <td id=\"T_146b4fd6_3434_11eb_a3d0_02cba411ec9drow227_col1\" class=\"data row227 col1\" >SOFR</td>\n",
       "                        <td id=\"T_146b4fd6_3434_11eb_a3d0_02cba411ec9drow227_col2\" class=\"data row227 col2\" >1.550000</td>\n",
       "            </tr>\n",
       "            <tr>\n",
       "                        <th id=\"T_146b4fd6_3434_11eb_a3d0_02cba411ec9dlevel0_row228\" class=\"row_heading level0 row228\" >228</th>\n",
       "                        <td id=\"T_146b4fd6_3434_11eb_a3d0_02cba411ec9drow228_col0\" class=\"data row228 col0\" >2-12-2019</td>\n",
       "                        <td id=\"T_146b4fd6_3434_11eb_a3d0_02cba411ec9drow228_col1\" class=\"data row228 col1\" >SOFR</td>\n",
       "                        <td id=\"T_146b4fd6_3434_11eb_a3d0_02cba411ec9drow228_col2\" class=\"data row228 col2\" >1.630000</td>\n",
       "            </tr>\n",
       "            <tr>\n",
       "                        <th id=\"T_146b4fd6_3434_11eb_a3d0_02cba411ec9dlevel0_row229\" class=\"row_heading level0 row229\" >229</th>\n",
       "                        <td id=\"T_146b4fd6_3434_11eb_a3d0_02cba411ec9drow229_col0\" class=\"data row229 col0\" >29-11-2019</td>\n",
       "                        <td id=\"T_146b4fd6_3434_11eb_a3d0_02cba411ec9drow229_col1\" class=\"data row229 col1\" >SOFR</td>\n",
       "                        <td id=\"T_146b4fd6_3434_11eb_a3d0_02cba411ec9drow229_col2\" class=\"data row229 col2\" >1.650000</td>\n",
       "            </tr>\n",
       "            <tr>\n",
       "                        <th id=\"T_146b4fd6_3434_11eb_a3d0_02cba411ec9dlevel0_row230\" class=\"row_heading level0 row230\" >230</th>\n",
       "                        <td id=\"T_146b4fd6_3434_11eb_a3d0_02cba411ec9drow230_col0\" class=\"data row230 col0\" >27-11-2019</td>\n",
       "                        <td id=\"T_146b4fd6_3434_11eb_a3d0_02cba411ec9drow230_col1\" class=\"data row230 col1\" >SOFR</td>\n",
       "                        <td id=\"T_146b4fd6_3434_11eb_a3d0_02cba411ec9drow230_col2\" class=\"data row230 col2\" >1.550000</td>\n",
       "            </tr>\n",
       "            <tr>\n",
       "                        <th id=\"T_146b4fd6_3434_11eb_a3d0_02cba411ec9dlevel0_row231\" class=\"row_heading level0 row231\" >231</th>\n",
       "                        <td id=\"T_146b4fd6_3434_11eb_a3d0_02cba411ec9drow231_col0\" class=\"data row231 col0\" >26-11-2019</td>\n",
       "                        <td id=\"T_146b4fd6_3434_11eb_a3d0_02cba411ec9drow231_col1\" class=\"data row231 col1\" >SOFR</td>\n",
       "                        <td id=\"T_146b4fd6_3434_11eb_a3d0_02cba411ec9drow231_col2\" class=\"data row231 col2\" >1.540000</td>\n",
       "            </tr>\n",
       "            <tr>\n",
       "                        <th id=\"T_146b4fd6_3434_11eb_a3d0_02cba411ec9dlevel0_row232\" class=\"row_heading level0 row232\" >232</th>\n",
       "                        <td id=\"T_146b4fd6_3434_11eb_a3d0_02cba411ec9drow232_col0\" class=\"data row232 col0\" >25-11-2019</td>\n",
       "                        <td id=\"T_146b4fd6_3434_11eb_a3d0_02cba411ec9drow232_col1\" class=\"data row232 col1\" >SOFR</td>\n",
       "                        <td id=\"T_146b4fd6_3434_11eb_a3d0_02cba411ec9drow232_col2\" class=\"data row232 col2\" >1.560000</td>\n",
       "            </tr>\n",
       "            <tr>\n",
       "                        <th id=\"T_146b4fd6_3434_11eb_a3d0_02cba411ec9dlevel0_row233\" class=\"row_heading level0 row233\" >233</th>\n",
       "                        <td id=\"T_146b4fd6_3434_11eb_a3d0_02cba411ec9drow233_col0\" class=\"data row233 col0\" >22-11-2019</td>\n",
       "                        <td id=\"T_146b4fd6_3434_11eb_a3d0_02cba411ec9drow233_col1\" class=\"data row233 col1\" >SOFR</td>\n",
       "                        <td id=\"T_146b4fd6_3434_11eb_a3d0_02cba411ec9drow233_col2\" class=\"data row233 col2\" >1.580000</td>\n",
       "            </tr>\n",
       "            <tr>\n",
       "                        <th id=\"T_146b4fd6_3434_11eb_a3d0_02cba411ec9dlevel0_row234\" class=\"row_heading level0 row234\" >234</th>\n",
       "                        <td id=\"T_146b4fd6_3434_11eb_a3d0_02cba411ec9drow234_col0\" class=\"data row234 col0\" >21-11-2019</td>\n",
       "                        <td id=\"T_146b4fd6_3434_11eb_a3d0_02cba411ec9drow234_col1\" class=\"data row234 col1\" >SOFR</td>\n",
       "                        <td id=\"T_146b4fd6_3434_11eb_a3d0_02cba411ec9drow234_col2\" class=\"data row234 col2\" >1.580000</td>\n",
       "            </tr>\n",
       "            <tr>\n",
       "                        <th id=\"T_146b4fd6_3434_11eb_a3d0_02cba411ec9dlevel0_row235\" class=\"row_heading level0 row235\" >235</th>\n",
       "                        <td id=\"T_146b4fd6_3434_11eb_a3d0_02cba411ec9drow235_col0\" class=\"data row235 col0\" >20-11-2019</td>\n",
       "                        <td id=\"T_146b4fd6_3434_11eb_a3d0_02cba411ec9drow235_col1\" class=\"data row235 col1\" >SOFR</td>\n",
       "                        <td id=\"T_146b4fd6_3434_11eb_a3d0_02cba411ec9drow235_col2\" class=\"data row235 col2\" >1.570000</td>\n",
       "            </tr>\n",
       "            <tr>\n",
       "                        <th id=\"T_146b4fd6_3434_11eb_a3d0_02cba411ec9dlevel0_row236\" class=\"row_heading level0 row236\" >236</th>\n",
       "                        <td id=\"T_146b4fd6_3434_11eb_a3d0_02cba411ec9drow236_col0\" class=\"data row236 col0\" >19-11-2019</td>\n",
       "                        <td id=\"T_146b4fd6_3434_11eb_a3d0_02cba411ec9drow236_col1\" class=\"data row236 col1\" >SOFR</td>\n",
       "                        <td id=\"T_146b4fd6_3434_11eb_a3d0_02cba411ec9drow236_col2\" class=\"data row236 col2\" >1.570000</td>\n",
       "            </tr>\n",
       "            <tr>\n",
       "                        <th id=\"T_146b4fd6_3434_11eb_a3d0_02cba411ec9dlevel0_row237\" class=\"row_heading level0 row237\" >237</th>\n",
       "                        <td id=\"T_146b4fd6_3434_11eb_a3d0_02cba411ec9drow237_col0\" class=\"data row237 col0\" >18-11-2019</td>\n",
       "                        <td id=\"T_146b4fd6_3434_11eb_a3d0_02cba411ec9drow237_col1\" class=\"data row237 col1\" >SOFR</td>\n",
       "                        <td id=\"T_146b4fd6_3434_11eb_a3d0_02cba411ec9drow237_col2\" class=\"data row237 col2\" >1.560000</td>\n",
       "            </tr>\n",
       "            <tr>\n",
       "                        <th id=\"T_146b4fd6_3434_11eb_a3d0_02cba411ec9dlevel0_row238\" class=\"row_heading level0 row238\" >238</th>\n",
       "                        <td id=\"T_146b4fd6_3434_11eb_a3d0_02cba411ec9drow238_col0\" class=\"data row238 col0\" >15-11-2019</td>\n",
       "                        <td id=\"T_146b4fd6_3434_11eb_a3d0_02cba411ec9drow238_col1\" class=\"data row238 col1\" >SOFR</td>\n",
       "                        <td id=\"T_146b4fd6_3434_11eb_a3d0_02cba411ec9drow238_col2\" class=\"data row238 col2\" >1.590000</td>\n",
       "            </tr>\n",
       "            <tr>\n",
       "                        <th id=\"T_146b4fd6_3434_11eb_a3d0_02cba411ec9dlevel0_row239\" class=\"row_heading level0 row239\" >239</th>\n",
       "                        <td id=\"T_146b4fd6_3434_11eb_a3d0_02cba411ec9drow239_col0\" class=\"data row239 col0\" >14-11-2019</td>\n",
       "                        <td id=\"T_146b4fd6_3434_11eb_a3d0_02cba411ec9drow239_col1\" class=\"data row239 col1\" >SOFR</td>\n",
       "                        <td id=\"T_146b4fd6_3434_11eb_a3d0_02cba411ec9drow239_col2\" class=\"data row239 col2\" >1.580000</td>\n",
       "            </tr>\n",
       "            <tr>\n",
       "                        <th id=\"T_146b4fd6_3434_11eb_a3d0_02cba411ec9dlevel0_row240\" class=\"row_heading level0 row240\" >240</th>\n",
       "                        <td id=\"T_146b4fd6_3434_11eb_a3d0_02cba411ec9drow240_col0\" class=\"data row240 col0\" >13-11-2019</td>\n",
       "                        <td id=\"T_146b4fd6_3434_11eb_a3d0_02cba411ec9drow240_col1\" class=\"data row240 col1\" >SOFR</td>\n",
       "                        <td id=\"T_146b4fd6_3434_11eb_a3d0_02cba411ec9drow240_col2\" class=\"data row240 col2\" >1.570000</td>\n",
       "            </tr>\n",
       "            <tr>\n",
       "                        <th id=\"T_146b4fd6_3434_11eb_a3d0_02cba411ec9dlevel0_row241\" class=\"row_heading level0 row241\" >241</th>\n",
       "                        <td id=\"T_146b4fd6_3434_11eb_a3d0_02cba411ec9drow241_col0\" class=\"data row241 col0\" >12-11-2019</td>\n",
       "                        <td id=\"T_146b4fd6_3434_11eb_a3d0_02cba411ec9drow241_col1\" class=\"data row241 col1\" >SOFR</td>\n",
       "                        <td id=\"T_146b4fd6_3434_11eb_a3d0_02cba411ec9drow241_col2\" class=\"data row241 col2\" >1.570000</td>\n",
       "            </tr>\n",
       "            <tr>\n",
       "                        <th id=\"T_146b4fd6_3434_11eb_a3d0_02cba411ec9dlevel0_row242\" class=\"row_heading level0 row242\" >242</th>\n",
       "                        <td id=\"T_146b4fd6_3434_11eb_a3d0_02cba411ec9drow242_col0\" class=\"data row242 col0\" >8-11-2019</td>\n",
       "                        <td id=\"T_146b4fd6_3434_11eb_a3d0_02cba411ec9drow242_col1\" class=\"data row242 col1\" >SOFR</td>\n",
       "                        <td id=\"T_146b4fd6_3434_11eb_a3d0_02cba411ec9drow242_col2\" class=\"data row242 col2\" >1.560000</td>\n",
       "            </tr>\n",
       "            <tr>\n",
       "                        <th id=\"T_146b4fd6_3434_11eb_a3d0_02cba411ec9dlevel0_row243\" class=\"row_heading level0 row243\" >243</th>\n",
       "                        <td id=\"T_146b4fd6_3434_11eb_a3d0_02cba411ec9drow243_col0\" class=\"data row243 col0\" >7-11-2019</td>\n",
       "                        <td id=\"T_146b4fd6_3434_11eb_a3d0_02cba411ec9drow243_col1\" class=\"data row243 col1\" >SOFR</td>\n",
       "                        <td id=\"T_146b4fd6_3434_11eb_a3d0_02cba411ec9drow243_col2\" class=\"data row243 col2\" >1.560000</td>\n",
       "            </tr>\n",
       "            <tr>\n",
       "                        <th id=\"T_146b4fd6_3434_11eb_a3d0_02cba411ec9dlevel0_row244\" class=\"row_heading level0 row244\" >244</th>\n",
       "                        <td id=\"T_146b4fd6_3434_11eb_a3d0_02cba411ec9drow244_col0\" class=\"data row244 col0\" >6-11-2019</td>\n",
       "                        <td id=\"T_146b4fd6_3434_11eb_a3d0_02cba411ec9drow244_col1\" class=\"data row244 col1\" >SOFR</td>\n",
       "                        <td id=\"T_146b4fd6_3434_11eb_a3d0_02cba411ec9drow244_col2\" class=\"data row244 col2\" >1.570000</td>\n",
       "            </tr>\n",
       "            <tr>\n",
       "                        <th id=\"T_146b4fd6_3434_11eb_a3d0_02cba411ec9dlevel0_row245\" class=\"row_heading level0 row245\" >245</th>\n",
       "                        <td id=\"T_146b4fd6_3434_11eb_a3d0_02cba411ec9drow245_col0\" class=\"data row245 col0\" >5-11-2019</td>\n",
       "                        <td id=\"T_146b4fd6_3434_11eb_a3d0_02cba411ec9drow245_col1\" class=\"data row245 col1\" >SOFR</td>\n",
       "                        <td id=\"T_146b4fd6_3434_11eb_a3d0_02cba411ec9drow245_col2\" class=\"data row245 col2\" >1.580000</td>\n",
       "            </tr>\n",
       "            <tr>\n",
       "                        <th id=\"T_146b4fd6_3434_11eb_a3d0_02cba411ec9dlevel0_row246\" class=\"row_heading level0 row246\" >246</th>\n",
       "                        <td id=\"T_146b4fd6_3434_11eb_a3d0_02cba411ec9drow246_col0\" class=\"data row246 col0\" >4-11-2019</td>\n",
       "                        <td id=\"T_146b4fd6_3434_11eb_a3d0_02cba411ec9drow246_col1\" class=\"data row246 col1\" >SOFR</td>\n",
       "                        <td id=\"T_146b4fd6_3434_11eb_a3d0_02cba411ec9drow246_col2\" class=\"data row246 col2\" >1.560000</td>\n",
       "            </tr>\n",
       "            <tr>\n",
       "                        <th id=\"T_146b4fd6_3434_11eb_a3d0_02cba411ec9dlevel0_row247\" class=\"row_heading level0 row247\" >247</th>\n",
       "                        <td id=\"T_146b4fd6_3434_11eb_a3d0_02cba411ec9drow247_col0\" class=\"data row247 col0\" >1-11-2019</td>\n",
       "                        <td id=\"T_146b4fd6_3434_11eb_a3d0_02cba411ec9drow247_col1\" class=\"data row247 col1\" >SOFR</td>\n",
       "                        <td id=\"T_146b4fd6_3434_11eb_a3d0_02cba411ec9drow247_col2\" class=\"data row247 col2\" >1.580000</td>\n",
       "            </tr>\n",
       "            <tr>\n",
       "                        <th id=\"T_146b4fd6_3434_11eb_a3d0_02cba411ec9dlevel0_row248\" class=\"row_heading level0 row248\" >248</th>\n",
       "                        <td id=\"T_146b4fd6_3434_11eb_a3d0_02cba411ec9drow248_col0\" class=\"data row248 col0\" >31-10-2019</td>\n",
       "                        <td id=\"T_146b4fd6_3434_11eb_a3d0_02cba411ec9drow248_col1\" class=\"data row248 col1\" >SOFR</td>\n",
       "                        <td id=\"T_146b4fd6_3434_11eb_a3d0_02cba411ec9drow248_col2\" class=\"data row248 col2\" >1.760000</td>\n",
       "            </tr>\n",
       "            <tr>\n",
       "                        <th id=\"T_146b4fd6_3434_11eb_a3d0_02cba411ec9dlevel0_row249\" class=\"row_heading level0 row249\" >249</th>\n",
       "                        <td id=\"T_146b4fd6_3434_11eb_a3d0_02cba411ec9drow249_col0\" class=\"data row249 col0\" >30-10-2019</td>\n",
       "                        <td id=\"T_146b4fd6_3434_11eb_a3d0_02cba411ec9drow249_col1\" class=\"data row249 col1\" >SOFR</td>\n",
       "                        <td id=\"T_146b4fd6_3434_11eb_a3d0_02cba411ec9drow249_col2\" class=\"data row249 col2\" >1.820000</td>\n",
       "            </tr>\n",
       "            <tr>\n",
       "                        <th id=\"T_146b4fd6_3434_11eb_a3d0_02cba411ec9dlevel0_row250\" class=\"row_heading level0 row250\" >250</th>\n",
       "                        <td id=\"T_146b4fd6_3434_11eb_a3d0_02cba411ec9drow250_col0\" class=\"data row250 col0\" >29-10-2019</td>\n",
       "                        <td id=\"T_146b4fd6_3434_11eb_a3d0_02cba411ec9drow250_col1\" class=\"data row250 col1\" >SOFR</td>\n",
       "                        <td id=\"T_146b4fd6_3434_11eb_a3d0_02cba411ec9drow250_col2\" class=\"data row250 col2\" >1.810000</td>\n",
       "            </tr>\n",
       "            <tr>\n",
       "                        <th id=\"T_146b4fd6_3434_11eb_a3d0_02cba411ec9dlevel0_row251\" class=\"row_heading level0 row251\" >251</th>\n",
       "                        <td id=\"T_146b4fd6_3434_11eb_a3d0_02cba411ec9drow251_col0\" class=\"data row251 col0\" >28-10-2019</td>\n",
       "                        <td id=\"T_146b4fd6_3434_11eb_a3d0_02cba411ec9drow251_col1\" class=\"data row251 col1\" >SOFR</td>\n",
       "                        <td id=\"T_146b4fd6_3434_11eb_a3d0_02cba411ec9drow251_col2\" class=\"data row251 col2\" >1.820000</td>\n",
       "            </tr>\n",
       "            <tr>\n",
       "                        <th id=\"T_146b4fd6_3434_11eb_a3d0_02cba411ec9dlevel0_row252\" class=\"row_heading level0 row252\" >252</th>\n",
       "                        <td id=\"T_146b4fd6_3434_11eb_a3d0_02cba411ec9drow252_col0\" class=\"data row252 col0\" >25-10-2019</td>\n",
       "                        <td id=\"T_146b4fd6_3434_11eb_a3d0_02cba411ec9drow252_col1\" class=\"data row252 col1\" >SOFR</td>\n",
       "                        <td id=\"T_146b4fd6_3434_11eb_a3d0_02cba411ec9drow252_col2\" class=\"data row252 col2\" >1.840000</td>\n",
       "            </tr>\n",
       "            <tr>\n",
       "                        <th id=\"T_146b4fd6_3434_11eb_a3d0_02cba411ec9dlevel0_row253\" class=\"row_heading level0 row253\" >253</th>\n",
       "                        <td id=\"T_146b4fd6_3434_11eb_a3d0_02cba411ec9drow253_col0\" class=\"data row253 col0\" >24-10-2019</td>\n",
       "                        <td id=\"T_146b4fd6_3434_11eb_a3d0_02cba411ec9drow253_col1\" class=\"data row253 col1\" >SOFR</td>\n",
       "                        <td id=\"T_146b4fd6_3434_11eb_a3d0_02cba411ec9drow253_col2\" class=\"data row253 col2\" >1.860000</td>\n",
       "            </tr>\n",
       "            <tr>\n",
       "                        <th id=\"T_146b4fd6_3434_11eb_a3d0_02cba411ec9dlevel0_row254\" class=\"row_heading level0 row254\" >254</th>\n",
       "                        <td id=\"T_146b4fd6_3434_11eb_a3d0_02cba411ec9drow254_col0\" class=\"data row254 col0\" >23-10-2019</td>\n",
       "                        <td id=\"T_146b4fd6_3434_11eb_a3d0_02cba411ec9drow254_col1\" class=\"data row254 col1\" >SOFR</td>\n",
       "                        <td id=\"T_146b4fd6_3434_11eb_a3d0_02cba411ec9drow254_col2\" class=\"data row254 col2\" >1.870000</td>\n",
       "            </tr>\n",
       "            <tr>\n",
       "                        <th id=\"T_146b4fd6_3434_11eb_a3d0_02cba411ec9dlevel0_row255\" class=\"row_heading level0 row255\" >255</th>\n",
       "                        <td id=\"T_146b4fd6_3434_11eb_a3d0_02cba411ec9drow255_col0\" class=\"data row255 col0\" >22-10-2019</td>\n",
       "                        <td id=\"T_146b4fd6_3434_11eb_a3d0_02cba411ec9drow255_col1\" class=\"data row255 col1\" >SOFR</td>\n",
       "                        <td id=\"T_146b4fd6_3434_11eb_a3d0_02cba411ec9drow255_col2\" class=\"data row255 col2\" >1.870000</td>\n",
       "            </tr>\n",
       "            <tr>\n",
       "                        <th id=\"T_146b4fd6_3434_11eb_a3d0_02cba411ec9dlevel0_row256\" class=\"row_heading level0 row256\" >256</th>\n",
       "                        <td id=\"T_146b4fd6_3434_11eb_a3d0_02cba411ec9drow256_col0\" class=\"data row256 col0\" >21-10-2019</td>\n",
       "                        <td id=\"T_146b4fd6_3434_11eb_a3d0_02cba411ec9drow256_col1\" class=\"data row256 col1\" >SOFR</td>\n",
       "                        <td id=\"T_146b4fd6_3434_11eb_a3d0_02cba411ec9drow256_col2\" class=\"data row256 col2\" >1.860000</td>\n",
       "            </tr>\n",
       "            <tr>\n",
       "                        <th id=\"T_146b4fd6_3434_11eb_a3d0_02cba411ec9dlevel0_row257\" class=\"row_heading level0 row257\" >257</th>\n",
       "                        <td id=\"T_146b4fd6_3434_11eb_a3d0_02cba411ec9drow257_col0\" class=\"data row257 col0\" >18-10-2019</td>\n",
       "                        <td id=\"T_146b4fd6_3434_11eb_a3d0_02cba411ec9drow257_col1\" class=\"data row257 col1\" >SOFR</td>\n",
       "                        <td id=\"T_146b4fd6_3434_11eb_a3d0_02cba411ec9drow257_col2\" class=\"data row257 col2\" >1.880000</td>\n",
       "            </tr>\n",
       "            <tr>\n",
       "                        <th id=\"T_146b4fd6_3434_11eb_a3d0_02cba411ec9dlevel0_row258\" class=\"row_heading level0 row258\" >258</th>\n",
       "                        <td id=\"T_146b4fd6_3434_11eb_a3d0_02cba411ec9drow258_col0\" class=\"data row258 col0\" >17-10-2019</td>\n",
       "                        <td id=\"T_146b4fd6_3434_11eb_a3d0_02cba411ec9drow258_col1\" class=\"data row258 col1\" >SOFR</td>\n",
       "                        <td id=\"T_146b4fd6_3434_11eb_a3d0_02cba411ec9drow258_col2\" class=\"data row258 col2\" >1.950000</td>\n",
       "            </tr>\n",
       "            <tr>\n",
       "                        <th id=\"T_146b4fd6_3434_11eb_a3d0_02cba411ec9dlevel0_row259\" class=\"row_heading level0 row259\" >259</th>\n",
       "                        <td id=\"T_146b4fd6_3434_11eb_a3d0_02cba411ec9drow259_col0\" class=\"data row259 col0\" >16-10-2019</td>\n",
       "                        <td id=\"T_146b4fd6_3434_11eb_a3d0_02cba411ec9drow259_col1\" class=\"data row259 col1\" >SOFR</td>\n",
       "                        <td id=\"T_146b4fd6_3434_11eb_a3d0_02cba411ec9drow259_col2\" class=\"data row259 col2\" >2.050000</td>\n",
       "            </tr>\n",
       "            <tr>\n",
       "                        <th id=\"T_146b4fd6_3434_11eb_a3d0_02cba411ec9dlevel0_row260\" class=\"row_heading level0 row260\" >260</th>\n",
       "                        <td id=\"T_146b4fd6_3434_11eb_a3d0_02cba411ec9drow260_col0\" class=\"data row260 col0\" >15-10-2019</td>\n",
       "                        <td id=\"T_146b4fd6_3434_11eb_a3d0_02cba411ec9drow260_col1\" class=\"data row260 col1\" >SOFR</td>\n",
       "                        <td id=\"T_146b4fd6_3434_11eb_a3d0_02cba411ec9drow260_col2\" class=\"data row260 col2\" >2.000000</td>\n",
       "            </tr>\n",
       "            <tr>\n",
       "                        <th id=\"T_146b4fd6_3434_11eb_a3d0_02cba411ec9dlevel0_row261\" class=\"row_heading level0 row261\" >261</th>\n",
       "                        <td id=\"T_146b4fd6_3434_11eb_a3d0_02cba411ec9drow261_col0\" class=\"data row261 col0\" >11-10-2019</td>\n",
       "                        <td id=\"T_146b4fd6_3434_11eb_a3d0_02cba411ec9drow261_col1\" class=\"data row261 col1\" >SOFR</td>\n",
       "                        <td id=\"T_146b4fd6_3434_11eb_a3d0_02cba411ec9drow261_col2\" class=\"data row261 col2\" >1.850000</td>\n",
       "            </tr>\n",
       "            <tr>\n",
       "                        <th id=\"T_146b4fd6_3434_11eb_a3d0_02cba411ec9dlevel0_row262\" class=\"row_heading level0 row262\" >262</th>\n",
       "                        <td id=\"T_146b4fd6_3434_11eb_a3d0_02cba411ec9drow262_col0\" class=\"data row262 col0\" >10-10-2019</td>\n",
       "                        <td id=\"T_146b4fd6_3434_11eb_a3d0_02cba411ec9drow262_col1\" class=\"data row262 col1\" >SOFR</td>\n",
       "                        <td id=\"T_146b4fd6_3434_11eb_a3d0_02cba411ec9drow262_col2\" class=\"data row262 col2\" >1.850000</td>\n",
       "            </tr>\n",
       "            <tr>\n",
       "                        <th id=\"T_146b4fd6_3434_11eb_a3d0_02cba411ec9dlevel0_row263\" class=\"row_heading level0 row263\" >263</th>\n",
       "                        <td id=\"T_146b4fd6_3434_11eb_a3d0_02cba411ec9drow263_col0\" class=\"data row263 col0\" >9-10-2019</td>\n",
       "                        <td id=\"T_146b4fd6_3434_11eb_a3d0_02cba411ec9drow263_col1\" class=\"data row263 col1\" >SOFR</td>\n",
       "                        <td id=\"T_146b4fd6_3434_11eb_a3d0_02cba411ec9drow263_col2\" class=\"data row263 col2\" >1.850000</td>\n",
       "            </tr>\n",
       "            <tr>\n",
       "                        <th id=\"T_146b4fd6_3434_11eb_a3d0_02cba411ec9dlevel0_row264\" class=\"row_heading level0 row264\" >264</th>\n",
       "                        <td id=\"T_146b4fd6_3434_11eb_a3d0_02cba411ec9drow264_col0\" class=\"data row264 col0\" >8-10-2019</td>\n",
       "                        <td id=\"T_146b4fd6_3434_11eb_a3d0_02cba411ec9drow264_col1\" class=\"data row264 col1\" >SOFR</td>\n",
       "                        <td id=\"T_146b4fd6_3434_11eb_a3d0_02cba411ec9drow264_col2\" class=\"data row264 col2\" >1.850000</td>\n",
       "            </tr>\n",
       "            <tr>\n",
       "                        <th id=\"T_146b4fd6_3434_11eb_a3d0_02cba411ec9dlevel0_row265\" class=\"row_heading level0 row265\" >265</th>\n",
       "                        <td id=\"T_146b4fd6_3434_11eb_a3d0_02cba411ec9drow265_col0\" class=\"data row265 col0\" >7-10-2019</td>\n",
       "                        <td id=\"T_146b4fd6_3434_11eb_a3d0_02cba411ec9drow265_col1\" class=\"data row265 col1\" >SOFR</td>\n",
       "                        <td id=\"T_146b4fd6_3434_11eb_a3d0_02cba411ec9drow265_col2\" class=\"data row265 col2\" >1.830000</td>\n",
       "            </tr>\n",
       "            <tr>\n",
       "                        <th id=\"T_146b4fd6_3434_11eb_a3d0_02cba411ec9dlevel0_row266\" class=\"row_heading level0 row266\" >266</th>\n",
       "                        <td id=\"T_146b4fd6_3434_11eb_a3d0_02cba411ec9drow266_col0\" class=\"data row266 col0\" >4-10-2019</td>\n",
       "                        <td id=\"T_146b4fd6_3434_11eb_a3d0_02cba411ec9drow266_col1\" class=\"data row266 col1\" >SOFR</td>\n",
       "                        <td id=\"T_146b4fd6_3434_11eb_a3d0_02cba411ec9drow266_col2\" class=\"data row266 col2\" >1.820000</td>\n",
       "            </tr>\n",
       "            <tr>\n",
       "                        <th id=\"T_146b4fd6_3434_11eb_a3d0_02cba411ec9dlevel0_row267\" class=\"row_heading level0 row267\" >267</th>\n",
       "                        <td id=\"T_146b4fd6_3434_11eb_a3d0_02cba411ec9drow267_col0\" class=\"data row267 col0\" >3-10-2019</td>\n",
       "                        <td id=\"T_146b4fd6_3434_11eb_a3d0_02cba411ec9drow267_col1\" class=\"data row267 col1\" >SOFR</td>\n",
       "                        <td id=\"T_146b4fd6_3434_11eb_a3d0_02cba411ec9drow267_col2\" class=\"data row267 col2\" >1.840000</td>\n",
       "            </tr>\n",
       "            <tr>\n",
       "                        <th id=\"T_146b4fd6_3434_11eb_a3d0_02cba411ec9dlevel0_row268\" class=\"row_heading level0 row268\" >268</th>\n",
       "                        <td id=\"T_146b4fd6_3434_11eb_a3d0_02cba411ec9drow268_col0\" class=\"data row268 col0\" >2-10-2019</td>\n",
       "                        <td id=\"T_146b4fd6_3434_11eb_a3d0_02cba411ec9drow268_col1\" class=\"data row268 col1\" >SOFR</td>\n",
       "                        <td id=\"T_146b4fd6_3434_11eb_a3d0_02cba411ec9drow268_col2\" class=\"data row268 col2\" >1.850000</td>\n",
       "            </tr>\n",
       "            <tr>\n",
       "                        <th id=\"T_146b4fd6_3434_11eb_a3d0_02cba411ec9dlevel0_row269\" class=\"row_heading level0 row269\" >269</th>\n",
       "                        <td id=\"T_146b4fd6_3434_11eb_a3d0_02cba411ec9drow269_col0\" class=\"data row269 col0\" >1-10-2019</td>\n",
       "                        <td id=\"T_146b4fd6_3434_11eb_a3d0_02cba411ec9drow269_col1\" class=\"data row269 col1\" >SOFR</td>\n",
       "                        <td id=\"T_146b4fd6_3434_11eb_a3d0_02cba411ec9drow269_col2\" class=\"data row269 col2\" >1.880000</td>\n",
       "            </tr>\n",
       "    </tbody></table>"
      ],
      "text/plain": [
       "<pandas.io.formats.style.Styler at 0x7f132f322f98>"
      ]
     },
     "execution_count": 7,
     "metadata": {},
     "output_type": "execute_result"
    }
   ],
   "source": [
    "#Importar datos para realizar la tarea \n",
    "sofr_excel = pd.ExcelFile('../data/SOFR-10012019-10292020.xls')\n",
    "#repo_rate = pd.read_excel(sofr_excel, 'RepoRate')\n",
    "data = pd.read_excel(sofr_excel, 'nice format')\n",
    "#data = pd.read_excel('SOFR-10012019-10292020.xls','nice format')\n",
    "\n",
    "data.head(5)\n",
    "\n",
    "#datos['DATE'] = datos['DATE'].dt.date\n",
    "type(data)\n",
    "type(data['DATE'])\n",
    "\n",
    "data.tail(10)\n",
    "len(data)\n",
    "\n",
    "data[\"DATE\"] = pd.to_datetime(data[\"DATE\"])\n",
    "\n",
    "data['DATE'] = data['DATE'].dt.date\n",
    "data['RATE\\n(PERCENT)'] = data['RATE\\n(PERCENT)']\n",
    "\n",
    "# Se visualiza el resultado\n",
    "data.style.format({'SOFR': '{0:.2%}'})\n",
    "\n",
    "for i in range(len(data[\"DATE\"])):\n",
    "     data.iloc[i,0] = Qcf.QCDate(data.iloc[i,0].day, data.iloc[i,0].month,data.iloc[i,0].year)\n",
    "\n",
    "        \n",
    "# Se visualiza el resultado\n",
    "data.style.format({'SOFR': '{0:.2%}'})\n"
   ]
  },
  {
   "cell_type": "code",
   "execution_count": 8,
   "metadata": {
    "ExecuteTime": {
     "end_time": "2020-12-02T00:19:46.654880Z",
     "start_time": "2020-12-02T00:19:46.619945Z"
    }
   },
   "outputs": [
    {
     "data": {
      "text/html": [
       "<div>\n",
       "<style scoped>\n",
       "    .dataframe tbody tr th:only-of-type {\n",
       "        vertical-align: middle;\n",
       "    }\n",
       "\n",
       "    .dataframe tbody tr th {\n",
       "        vertical-align: top;\n",
       "    }\n",
       "\n",
       "    .dataframe thead th {\n",
       "        text-align: right;\n",
       "    }\n",
       "</style>\n",
       "<table border=\"1\" class=\"dataframe\">\n",
       "  <thead>\n",
       "    <tr style=\"text-align: right;\">\n",
       "      <th></th>\n",
       "      <th>DATE</th>\n",
       "      <th>BENCHMARK NAME</th>\n",
       "      <th>RATE\\n(PERCENT)</th>\n",
       "    </tr>\n",
       "  </thead>\n",
       "  <tbody>\n",
       "    <tr>\n",
       "      <th>265</th>\n",
       "      <td>7-10-2019</td>\n",
       "      <td>SOFR</td>\n",
       "      <td>1.83</td>\n",
       "    </tr>\n",
       "    <tr>\n",
       "      <th>266</th>\n",
       "      <td>4-10-2019</td>\n",
       "      <td>SOFR</td>\n",
       "      <td>1.82</td>\n",
       "    </tr>\n",
       "    <tr>\n",
       "      <th>267</th>\n",
       "      <td>3-10-2019</td>\n",
       "      <td>SOFR</td>\n",
       "      <td>1.84</td>\n",
       "    </tr>\n",
       "    <tr>\n",
       "      <th>268</th>\n",
       "      <td>2-10-2019</td>\n",
       "      <td>SOFR</td>\n",
       "      <td>1.85</td>\n",
       "    </tr>\n",
       "    <tr>\n",
       "      <th>269</th>\n",
       "      <td>1-10-2019</td>\n",
       "      <td>SOFR</td>\n",
       "      <td>1.88</td>\n",
       "    </tr>\n",
       "  </tbody>\n",
       "</table>\n",
       "</div>"
      ],
      "text/plain": [
       "          DATE  BENCHMARK NAME   RATE\\n(PERCENT)\n",
       "265  7-10-2019             SOFR             1.83\n",
       "266  4-10-2019             SOFR             1.82\n",
       "267  3-10-2019             SOFR             1.84\n",
       "268  2-10-2019             SOFR             1.85\n",
       "269  1-10-2019             SOFR             1.88"
      ]
     },
     "execution_count": 8,
     "metadata": {},
     "output_type": "execute_result"
    }
   ],
   "source": [
    "data.tail(5) "
   ]
  },
  {
   "cell_type": "code",
   "execution_count": 9,
   "metadata": {
    "ExecuteTime": {
     "end_time": "2020-12-02T00:19:47.796639Z",
     "start_time": "2020-12-02T00:19:47.774649Z"
    }
   },
   "outputs": [
    {
     "data": {
      "text/plain": [
       "0.0008"
      ]
     },
     "execution_count": 9,
     "metadata": {},
     "output_type": "execute_result"
    }
   ],
   "source": [
    "valor_tasa = data['RATE\\n(PERCENT)']\n",
    "fixings = Qcf.time_series()\n",
    "x = len(data['DATE'])\n",
    "\n",
    "for i in range(x):\n",
    "    fixings[data.iloc[i,0]] = data.iloc[i,2]/100\n",
    "    \n",
    "fecha_prueba = Qcf.QCDate(28, 10, 2020)\n",
    "fixings[fecha_prueba]\n"
   ]
  },
  {
   "cell_type": "code",
   "execution_count": 10,
   "metadata": {
    "ExecuteTime": {
     "end_time": "2020-12-02T00:19:49.645136Z",
     "start_time": "2020-12-02T00:19:49.639401Z"
    }
   },
   "outputs": [
    {
     "name": "stdout",
     "output_type": "stream",
     "text": [
      "1-10-2019\n"
     ]
    }
   ],
   "source": [
    "#Entender como funciona Qcf.time_series_dates\n",
    "dates= Qcf.time_series_dates(fixings)\n",
    "x=dates[0]\n",
    "print(x)"
   ]
  },
  {
   "cell_type": "code",
   "execution_count": 11,
   "metadata": {
    "ExecuteTime": {
     "end_time": "2020-12-02T00:19:50.535751Z",
     "start_time": "2020-12-02T00:19:50.521869Z"
    }
   },
   "outputs": [
    {
     "name": "stdout",
     "output_type": "stream",
     "text": [
      "                 0\n",
      "0.0188   1-10-2019\n",
      "0.0185   2-10-2019\n",
      "0.0184   3-10-2019\n",
      "0.0182   4-10-2019\n",
      "0.0183   7-10-2019\n",
      "...            ...\n",
      "0.0007  22-10-2020\n",
      "0.0008  23-10-2020\n",
      "0.0009  26-10-2020\n",
      "0.0009  27-10-2020\n",
      "0.0008  28-10-2020\n",
      "\n",
      "[270 rows x 1 columns]\n"
     ]
    }
   ],
   "source": [
    "#Para utiilizar las fechas que estan en la base de datos entregada\n",
    "dates_basedatos= Qcf.time_series_dates(fixings)\n",
    "value_basedatos = Qcf.time_series_values(fixings)\n",
    "\n",
    "#Crear dataframe para entender los datos que utilizaremos para hacer las funciones\n",
    "data_frame=pd.DataFrame(dates_basedatos,value_basedatos)\n",
    "\n",
    "print(data_frame)"
   ]
  },
  {
   "cell_type": "code",
   "execution_count": 12,
   "metadata": {
    "ExecuteTime": {
     "end_time": "2020-12-02T00:19:52.822082Z",
     "start_time": "2020-12-02T00:19:52.806292Z"
    }
   },
   "outputs": [],
   "source": [
    "@dataclass # syntactic sugar\n",
    "class OisCashflow:\n",
    "    start_date: Qcf.QCDate\n",
    "    end_date: Qcf.QCDate\n",
    "    settlement_date: Qcf.QCDate\n",
    "    notional: float\n",
    "    currency: Qcf.QCCurrency\n",
    "    amortization: float\n",
    "    amort_is_cashflow: bool\n",
    "    interest_rate: Qcf.QCInterestRate\n",
    "    on_index: Qcf.InterestRateIndex\n",
    "    spread: float\n",
    "    gearing: float\n",
    "        \n",
    "    def get_accrued_rate(self, accrual_date: Qcf.QCDate, fixings: Qcf.time_series) -> float:\n",
    "        \n",
    "        \"\"\"\n",
    "        Calcula la tasa equivalente desde `self.start_date` a `accrual_date`. La tasa equivalente\n",
    "        se calcula como:\n",
    "        accrual_date es el end date de mi ultimo dato\n",
    "   \n",
    "        Lo del calendario, es no pedir una fecha que no tendra un valor\n",
    "       \n",
    "        (P - 1) * 360 / (accrual_date - self.start_date)\n",
    "        \n",
    "        donde P es el producto de los factores de capitalización de todas las tasas overnight\n",
    "        entre `start_date` y `accrual_date`. Los valores de esas tasas deben estar almacenados\n",
    "        en la variable `fixings`.\n",
    "        \n",
    "        Ver la documentación de `QC_Financial_3` para el uso y funcionamiento de los objetos\n",
    "        de tipo Qcf.time_series.\n",
    "        \n",
    "        accrual_date --> devengo\n",
    "        Tasa lineal actual 360. \n",
    "        \"\"\"\n",
    "        # Número de días entre la fecha inicial y la fecha final\n",
    "        dias = self.start_date.day_diff(accrual_date)\n",
    "        \n",
    "        dates_basedatos= Qcf.time_series_dates(fixings)\n",
    "        value_basedatos = Qcf.time_series_values(fixings)\n",
    "            \n",
    "        P = 1\n",
    "        \n",
    "        for i in range(0, (len(data) -1)):\n",
    "            start_date= dates_basedatos[i]\n",
    "            final_date = dates_basedatos[i+1]\n",
    "            \n",
    "            if (dates_basedatos[i] != accrual_date):\n",
    "            \n",
    "                qc_tasa = Qcf.QCInterestRate(value_basedatos[i], Qcf.QCAct360(), Qcf.QCLinearWf())\n",
    "            \n",
    "                wf = qc_tasa.wf(start_date, final_date)\n",
    "            \n",
    "                P = P*wf\n",
    "            \n",
    "            else:  \n",
    "                P = P\n",
    "                \n",
    "                break #para terminar con el for\n",
    "                \n",
    "        if (dias==0):   #restrccion cuando accrual_date es igual al start_date y no se indefine el resultado\n",
    "            tasa_eq=0  \n",
    "            \n",
    "        else:\n",
    "            # Tasa equivalente\n",
    "            tasa_eq = (P - 1) * 360.0 / dias\n",
    "        \n",
    "        return tasa_eq\n",
    "        \n",
    "    \n",
    "    def get_accrued_interest(self, accrual_date: Qcf.QCDate, fixings: Qcf.time_series) -> float:\n",
    "        \"\"\"\n",
    "        Calcula el interés (plata) devengado desde `self.start_date` a `accrual_date` utilizando la tasa equivalente\n",
    "        que se calcula con el método anterior.\n",
    "        \n",
    "        Los valores de las  tasas overnight deben estar almacenados en la variable `fixings`.\n",
    "        \n",
    "        Ver la documentación de `QC_Financial_3` para el uso y funcionamiento de los objetos\n",
    "        de tipo Qcf.time_series.\n",
    "        \"\"\"\n",
    "        # Número de días entre la fecha inicial y la fecha final\n",
    "        dias = self.start_date.day_diff(accrual_date)\n",
    "        \n",
    "        #Se usa el resultado de la función anterior\n",
    "        tasa_eq = self.get_accrued_rate(accrual_date, fixings)\n",
    "        \n",
    "        interes_flot_ois = self.notional * tasa_eq * dias / 360\n",
    "        \n",
    " \n",
    "        return interes_flot_ois\n",
    "    \n",
    "    \n",
    "    def amount(self, fixings: Qcf.time_series) -> float:\n",
    "        \"\"\"\n",
    "        Calcula el flujo total al vencimiento (amortización más intereses devengados hasta self.end_date).\n",
    "        \n",
    "        Los valores de las  tasas overnight deben estar almacenados en la variable `fixings`.\n",
    "        \n",
    "        Ver la documentación de `QC_Financial_3` para el uso y funcionamiento de los objetos\n",
    "        de tipo Qcf.time_series.\n",
    "        \"\"\"\n",
    "        #Se usa el resultado de la función anterior\n",
    "        intereses_devengados= self.get_accrued_interest(self.end_date, fixings)\n",
    "        \n",
    "        flujo_vencimiento= intereses_devengados + self.amortization\n",
    "        \n",
    "        \n",
    "        return flujo_vencimiento\n",
    "    "
   ]
  },
  {
   "cell_type": "markdown",
   "metadata": {},
   "source": [
    "Construcción de un objeto `Qcf.InterestRateIndex`."
   ]
  },
  {
   "cell_type": "code",
   "execution_count": 13,
   "metadata": {
    "ExecuteTime": {
     "end_time": "2020-12-02T00:19:54.391276Z",
     "start_time": "2020-12-02T00:19:54.381667Z"
    }
   },
   "outputs": [],
   "source": [
    "codigo = 'SOFR'\n",
    "tasa_on = Qcf.QCInterestRate(.0, Qcf.QCAct360(), Qcf.QCLinearWf())\n",
    "fixing_lag = Qcf.Tenor('0d')\n",
    "tenor = Qcf.Tenor('1d')\n",
    "fixing_calendar = get_cal(BusCal.NY)     \n",
    "settlement_calendar = fixing_calendar  \n",
    "sofr = Qcf.InterestRateIndex(\n",
    "    codigo,\n",
    "    tasa_on,\n",
    "    fixing_lag,\n",
    "    tenor,\n",
    "    fixing_calendar,\n",
    "    settlement_calendar,\n",
    "    Qcf.QCUSD()\n",
    ")"
   ]
  },
  {
   "cell_type": "code",
   "execution_count": 14,
   "metadata": {
    "ExecuteTime": {
     "end_time": "2020-12-02T00:19:55.415624Z",
     "start_time": "2020-12-02T00:19:55.407304Z"
    }
   },
   "outputs": [],
   "source": [
    "ois = OisCashflow(\n",
    "    Qcf.QCDate(1, 10, 2019),   #start_date\n",
    "    Qcf.QCDate(28, 10, 2020),   #end_date\n",
    "    Qcf.QCDate(28, 10, 2020),   #settlement_date\n",
    "    10000000,    #notional\n",
    "    Qcf.QCUSD(), #currency\n",
    "    10000000,     #amortization\n",
    "    True,   #amort_is_cashflow \n",
    "    Qcf.QCInterestRate(0.0, Qcf.QCAct360(), Qcf.QCLinearWf()), #interest_rate\n",
    "    sofr,  #on_index\n",
    "    0,     #spread\n",
    "    1      #gearing\n",
    ")"
   ]
  },
  {
   "cell_type": "markdown",
   "metadata": {},
   "source": [
    "Construcción de una instancia de `OisCashflow`."
   ]
  },
  {
   "cell_type": "markdown",
   "metadata": {},
   "source": [
    "## Clase `Prueba de class OisCashflow`"
   ]
  },
  {
   "cell_type": "code",
   "execution_count": 15,
   "metadata": {
    "ExecuteTime": {
     "end_time": "2020-12-02T00:20:00.907370Z",
     "start_time": "2020-12-02T00:20:00.901566Z"
    }
   },
   "outputs": [
    {
     "name": "stdout",
     "output_type": "stream",
     "text": [
      "0.018403455373592337\n"
     ]
    }
   ],
   "source": [
    "#Prueba de Qcf.QCDate\n",
    "#Se eligen una fecha para probar la construcción realizada\n",
    "x=Qcf.QCDate(10, 10, 2019)\n",
    "\n",
    "funcion1=ois.get_accrued_rate(x,fixings)\n",
    "print(funcion1)"
   ]
  },
  {
   "cell_type": "code",
   "execution_count": 16,
   "metadata": {
    "ExecuteTime": {
     "end_time": "2020-12-02T00:20:01.978420Z",
     "start_time": "2020-12-02T00:20:01.972741Z"
    }
   },
   "outputs": [
    {
     "name": "stdout",
     "output_type": "stream",
     "text": [
      "4600.863843398085\n"
     ]
    }
   ],
   "source": [
    "funcion2=ois.get_accrued_interest(x,fixings)\n",
    "print(funcion2)    "
   ]
  },
  {
   "cell_type": "code",
   "execution_count": 17,
   "metadata": {
    "ExecuteTime": {
     "end_time": "2020-12-02T00:20:02.598714Z",
     "start_time": "2020-12-02T00:20:02.589652Z"
    }
   },
   "outputs": [
    {
     "name": "stdout",
     "output_type": "stream",
     "text": [
      "10078517.177790914\n"
     ]
    }
   ],
   "source": [
    "funcion3=ois.amount(fixings)\n",
    "print(funcion3)"
   ]
  },
  {
   "cell_type": "code",
   "execution_count": 18,
   "metadata": {
    "ExecuteTime": {
     "end_time": "2020-12-02T00:20:04.619393Z",
     "start_time": "2020-12-02T00:20:04.610965Z"
    }
   },
   "outputs": [],
   "source": [
    "try:\n",
    "    ois.get_accrued_rate(x,fixings)\n",
    "except Exception as e:\n",
    "    print('Cambiar algo porque esta mal')\n",
    "\n",
    "try:\n",
    "    ois.get_accrued_interest(x,fixings)\n",
    "except Exception as e:\n",
    "    print('Cambiar algo porque esta mal')\n",
    "    \n",
    "try:\n",
    "    ois.amount(fixings)\n",
    "except Exception as e:\n",
    "    print('Cambiar algo porque esta mal')\n",
    "    \n",
    "#Como no imprime nada, la función esta bien"
   ]
  },
  {
   "cell_type": "markdown",
   "metadata": {},
   "source": [
    "## Funciones"
   ]
  },
  {
   "cell_type": "code",
   "execution_count": 19,
   "metadata": {
    "ExecuteTime": {
     "end_time": "2020-12-02T00:20:06.162239Z",
     "start_time": "2020-12-02T00:20:06.151758Z"
    }
   },
   "outputs": [],
   "source": [
    "def get_curve_from_dataframe(yf: Qcf.QCYearFraction, wf: Qcf.QCWealthFactor,\n",
    "                             df_curva: pd.DataFrame) -> Qcf.ZeroCouponCurve:\n",
    "    \"\"\"\n",
    "    Retorna un objeto Qcf.ZeroCouponCurve. Esta función requiere que `df_curva` tenga una columna\n",
    "    de nombre 'plazo' y una columna de nombre 'tasa'. Se usa interpolación lineal en la curva que\n",
    "    se retorna.\n",
    "    \"\"\"\n",
    "    plazos = Qcf.long_vec()\n",
    "    tasas = Qcf.double_vec()\n",
    "    for row in df_curva.itertuples():\n",
    "        plazos.append(row.plazo)\n",
    "        tasas.append(row.tasa)\n",
    "    curva = Qcf.QCCurve(plazos, tasas)\n",
    "    curva = Qcf.QCLinearInterpolator(curva)\n",
    "    tipo_tasa = Qcf.QCInterestRate(0.0, yf, wf)\n",
    "    curva = Qcf.ZeroCouponCurve(curva, tipo_tasa)\n",
    "    return curva"
   ]
  },
  {
   "cell_type": "code",
   "execution_count": 20,
   "metadata": {
    "ExecuteTime": {
     "end_time": "2020-12-02T00:20:08.515164Z",
     "start_time": "2020-12-02T00:20:08.511099Z"
    },
    "scrolled": true
   },
   "outputs": [],
   "source": [
    "### Variables Globales\n",
    "frmt = {\n",
    "    'tasa': '{:.6%}',\n",
    "    'df': '{:.6%}',\n",
    "    'valor_tasa': '{:.4%}',\n",
    "    'spread': '{:.4%}',\n",
    "    'nominal': '{:,.2f}',\n",
    "    'interes': '{:,.2f}',\n",
    "    'amortizacion': '{:,.2f}',\n",
    "    'flujo': '{:,.2f}',\n",
    "}"
   ]
  },
  {
   "cell_type": "code",
   "execution_count": 21,
   "metadata": {
    "ExecuteTime": {
     "end_time": "2020-12-02T00:20:08.952705Z",
     "start_time": "2020-12-02T00:20:08.919393Z"
    }
   },
   "outputs": [
    {
     "data": {
      "text/html": [
       "<style  type=\"text/css\" >\n",
       "</style><table id=\"T_22aa60d2_3434_11eb_a3d0_02cba411ec9d\" ><thead>    <tr>        <th class=\"blank level0\" ></th>        <th class=\"col_heading level0 col0\" >plazo</th>        <th class=\"col_heading level0 col1\" >tasa</th>        <th class=\"col_heading level0 col2\" >df</th>    </tr></thead><tbody>\n",
       "                <tr>\n",
       "                        <th id=\"T_22aa60d2_3434_11eb_a3d0_02cba411ec9dlevel0_row0\" class=\"row_heading level0 row0\" >0</th>\n",
       "                        <td id=\"T_22aa60d2_3434_11eb_a3d0_02cba411ec9drow0_col0\" class=\"data row0 col0\" >1</td>\n",
       "                        <td id=\"T_22aa60d2_3434_11eb_a3d0_02cba411ec9drow0_col1\" class=\"data row0 col1\" >0.081111%</td>\n",
       "                        <td id=\"T_22aa60d2_3434_11eb_a3d0_02cba411ec9drow0_col2\" class=\"data row0 col2\" >99.999778%</td>\n",
       "            </tr>\n",
       "            <tr>\n",
       "                        <th id=\"T_22aa60d2_3434_11eb_a3d0_02cba411ec9dlevel0_row1\" class=\"row_heading level0 row1\" >1</th>\n",
       "                        <td id=\"T_22aa60d2_3434_11eb_a3d0_02cba411ec9drow1_col0\" class=\"data row1 col0\" >7</td>\n",
       "                        <td id=\"T_22aa60d2_3434_11eb_a3d0_02cba411ec9drow1_col1\" class=\"data row1 col1\" >0.084051%</td>\n",
       "                        <td id=\"T_22aa60d2_3434_11eb_a3d0_02cba411ec9drow1_col2\" class=\"data row1 col2\" >99.998388%</td>\n",
       "            </tr>\n",
       "            <tr>\n",
       "                        <th id=\"T_22aa60d2_3434_11eb_a3d0_02cba411ec9dlevel0_row2\" class=\"row_heading level0 row2\" >2</th>\n",
       "                        <td id=\"T_22aa60d2_3434_11eb_a3d0_02cba411ec9drow2_col0\" class=\"data row2 col0\" >14</td>\n",
       "                        <td id=\"T_22aa60d2_3434_11eb_a3d0_02cba411ec9drow2_col1\" class=\"data row2 col1\" >0.077967%</td>\n",
       "                        <td id=\"T_22aa60d2_3434_11eb_a3d0_02cba411ec9drow2_col2\" class=\"data row2 col2\" >99.997010%</td>\n",
       "            </tr>\n",
       "            <tr>\n",
       "                        <th id=\"T_22aa60d2_3434_11eb_a3d0_02cba411ec9dlevel0_row3\" class=\"row_heading level0 row3\" >3</th>\n",
       "                        <td id=\"T_22aa60d2_3434_11eb_a3d0_02cba411ec9drow3_col0\" class=\"data row3 col0\" >21</td>\n",
       "                        <td id=\"T_22aa60d2_3434_11eb_a3d0_02cba411ec9drow3_col1\" class=\"data row3 col1\" >0.077358%</td>\n",
       "                        <td id=\"T_22aa60d2_3434_11eb_a3d0_02cba411ec9drow3_col2\" class=\"data row3 col2\" >99.995549%</td>\n",
       "            </tr>\n",
       "            <tr>\n",
       "                        <th id=\"T_22aa60d2_3434_11eb_a3d0_02cba411ec9dlevel0_row4\" class=\"row_heading level0 row4\" >4</th>\n",
       "                        <td id=\"T_22aa60d2_3434_11eb_a3d0_02cba411ec9drow4_col0\" class=\"data row4 col0\" >33</td>\n",
       "                        <td id=\"T_22aa60d2_3434_11eb_a3d0_02cba411ec9drow4_col1\" class=\"data row4 col1\" >0.078067%</td>\n",
       "                        <td id=\"T_22aa60d2_3434_11eb_a3d0_02cba411ec9drow4_col2\" class=\"data row4 col2\" >99.992942%</td>\n",
       "            </tr>\n",
       "    </tbody></table>"
      ],
      "text/plain": [
       "<pandas.io.formats.style.Styler at 0x7f1363da7b38>"
      ]
     },
     "execution_count": 21,
     "metadata": {},
     "output_type": "execute_result"
    }
   ],
   "source": [
    "#Importar datos para realizar la tarea \n",
    "df_curva = pd.read_excel('../data/20201012_built_sofr_zero.xlsx')\n",
    "#df_curva = pd.read_excel('20201012_built_sofr_zero.xlsx')\n",
    "\n",
    "df_curva.head().style.format(frmt)"
   ]
  },
  {
   "cell_type": "code",
   "execution_count": 22,
   "metadata": {
    "ExecuteTime": {
     "end_time": "2020-12-02T00:20:10.935465Z",
     "start_time": "2020-12-02T00:20:10.929759Z"
    }
   },
   "outputs": [
    {
     "name": "stdout",
     "output_type": "stream",
     "text": [
      "<finrisk.QC_Financial_3.ZeroCouponCurve object at 0x7f1363da53e8>\n"
     ]
    }
   ],
   "source": [
    "zcc = get_curve_from_dataframe(Qcf.QCAct365(),Qcf.QCCompoundWf(), df_curva)\n",
    "print(zcc)"
   ]
  },
  {
   "cell_type": "code",
   "execution_count": 23,
   "metadata": {
    "ExecuteTime": {
     "end_time": "2020-12-02T00:20:11.332238Z",
     "start_time": "2020-12-02T00:20:11.325007Z"
    }
   },
   "outputs": [
    {
     "name": "stdout",
     "output_type": "stream",
     "text": [
      "28-10-2020\n"
     ]
    }
   ],
   "source": [
    "dates_basedatos= Qcf.time_series_dates(fixings)\n",
    "value_basedatos = Qcf.time_series_values(fixings)\n",
    "x=len(value_basedatos)\n",
    "ultima_fecha=dates_basedatos[x-1]\n",
    "print(ultima_fecha)"
   ]
  },
  {
   "cell_type": "code",
   "execution_count": 24,
   "metadata": {
    "ExecuteTime": {
     "end_time": "2020-12-02T00:20:12.846834Z",
     "start_time": "2020-12-02T00:20:12.837563Z"
    }
   },
   "outputs": [],
   "source": [
    "def set_expected_rate(\n",
    "        val_date: Qcf.QCDate,\n",
    "        ois_cashflow: OisCashflow,\n",
    "        zcc: Qcf.ZeroCouponCurve,\n",
    "        fixings: Qcf.time_series) -> None:\n",
    "    \"\"\"\n",
    "    Ver bien lo que hace la forward rate para poder sacar la tasa esperada. \n",
    "    Val_date: a la fecha que estoy calculando esa fecha esperada. El dia que estoy haciendo el calculo.\n",
    "    Tengo un pedazo que es un factor de capitalizacion que ya conozco y un factor de capitalizacion que no\n",
    "    conozco (de aqui al final del cupon), se deben juntar multiplicando. Fixings para el pasado y la curva \n",
    "    cero cupon para el futuro de los datos. Cuando estoy entre medio debo usar las dos. Fixing son la SOFR\n",
    "    historicas, la curva del build sofr es la que calculamos a una cierta fecha (lo que esperamos que ocurra)\n",
    "    \n",
    "    Esta función opera de la misma forma que la análoga función de `QC_Financial_3`.\n",
    "    Ver por ejemplo los casos cuando usamos el objeto Qcf.ForwardRates() en\n",
    "    el notebook 9.\n",
    "    \"\"\"\n",
    "    long = val_date.day_diff(ois_cashflow.end_date)\n",
    "    short = val_date.day_diff(ois_cashflow.start_date)\n",
    "    \n",
    "    if short >= 0:\n",
    "        short_rate = ois.get_accrued_rate(val_date, fixings)\n",
    "        df_short = 1/(1+short_rate)**(short/360)\n",
    "        \n",
    "        long_rate = zcc.get_rate_at(abs(long))\n",
    "        df_long = 1/(1+long_rate)**(long/360)\n",
    "        \n",
    "        expected_rate = (df_short / df_long  - 1) * 360.0 / (abs(long) - short)\n",
    "        \n",
    "    else:  \n",
    "        short_rate = zcc.get_rate_at(short)\n",
    "        df_short = 1/(1+short_rate)**(short/360)\n",
    "        long_rate = zcc.get_rate_at(long)\n",
    "        df_long = 1/(1+long_rate)**(long/360)\n",
    "\n",
    "        expected_rate = (df_short / df_long  - 1) * 360.0 / (abs(long) - short)\n",
    "\n",
    "    print(f\"Expected Rate: {expected_rate: .6%}\")\n",
    "    ois_cashflow.interest_rate.set_value(expected_rate) \n",
    "\n",
    "    return"
   ]
  },
  {
   "cell_type": "code",
   "execution_count": 25,
   "metadata": {
    "ExecuteTime": {
     "end_time": "2020-12-02T00:20:13.765503Z",
     "start_time": "2020-12-02T00:20:13.761070Z"
    }
   },
   "outputs": [
    {
     "name": "stdout",
     "output_type": "stream",
     "text": [
      "Expected Rate:  0.069869%\n"
     ]
    }
   ],
   "source": [
    "fecha=Qcf.QCDate(10, 10, 2019)\n",
    "set_expected_rate(fecha, ois, zcc, fixings)"
   ]
  },
  {
   "cell_type": "code",
   "execution_count": 26,
   "metadata": {
    "ExecuteTime": {
     "end_time": "2020-12-02T00:20:14.743280Z",
     "start_time": "2020-12-02T00:20:14.738831Z"
    }
   },
   "outputs": [
    {
     "name": "stdout",
     "output_type": "stream",
     "text": [
      "0.000699 Act360 Lin\n"
     ]
    }
   ],
   "source": [
    "print(ois.interest_rate)"
   ]
  },
  {
   "cell_type": "code",
   "execution_count": 27,
   "metadata": {
    "ExecuteTime": {
     "end_time": "2020-12-02T00:20:17.067035Z",
     "start_time": "2020-12-02T00:20:17.047231Z"
    }
   },
   "outputs": [
    {
     "name": "stdout",
     "output_type": "stream",
     "text": [
      "0.000698691303813272\n"
     ]
    }
   ],
   "source": [
    "print(ois.interest_rate.get_value())"
   ]
  },
  {
   "cell_type": "code",
   "execution_count": 28,
   "metadata": {
    "ExecuteTime": {
     "end_time": "2020-12-02T00:20:18.455091Z",
     "start_time": "2020-12-02T00:20:18.446715Z"
    }
   },
   "outputs": [],
   "source": [
    "def present_value(\n",
    "    val_date: Qcf.QCDate, \n",
    "    ois_cashflow: OisCashflow, \n",
    "    zcc: Qcf.ZeroCouponCurve) -> float:\n",
    "    \n",
    "    \"\"\"\n",
    "    Esta función opera de la misma forma que la análoga función de `QC_Financial_3`.\n",
    "    Para probar esta función utilizar la data de que está en data/20201012_built_sofr_zero.xlsx.\n",
    "    Para traer a valor presente debes respetar la convención de las tasas de la curva.\n",
    "    \n",
    "    NOTA: la variable ois_cashflow debe haber 'pasado' por la función set_expected_rate para que\n",
    "    tenga los intereses de los fixings futuros.\n",
    "    \"\"\"\n",
    "    long = (val_date.day_diff(ois_cashflow.end_date))\n",
    "    short = (val_date.day_diff(ois_cashflow.start_date))\n",
    "    \n",
    "    time_year = (long - short)/360\n",
    "    \n",
    "    notional=ois_cashflow.notional\n",
    "    amort=ois_cashflow.amortization\n",
    "    \n",
    "    short_rate = zcc.get_rate_at(short)\n",
    "    long_rate = zcc.get_rate_at(long)\n",
    "    \n",
    "    short_df=zcc.get_discount_factor_at(short)\n",
    "    long_df=zcc.get_discount_factor_at(long)\n",
    "    \n",
    "    tasa=(short_df/long_df -1) *360 /(long- short)\n",
    "    interest_rate= ois_cashflow.interest_rate.get_value()\n",
    "    \n",
    "    cash_flow = interest_rate *time_year * notional + amort \n",
    "    df = (tasa * time_year +1)**(-1)\n",
    "    present_value = cash_flow * df\n",
    "    \n",
    "    return  present_value\n",
    "    "
   ]
  },
  {
   "cell_type": "code",
   "execution_count": 29,
   "metadata": {
    "ExecuteTime": {
     "end_time": "2020-12-02T00:20:19.498724Z",
     "start_time": "2020-12-02T00:20:19.491686Z"
    }
   },
   "outputs": [
    {
     "data": {
      "text/plain": [
       "10000104.445376925"
      ]
     },
     "execution_count": 29,
     "metadata": {},
     "output_type": "execute_result"
    }
   ],
   "source": [
    "fecha=Qcf.QCDate(10, 10, 2019)\n",
    "present_value(fecha, ois, zcc)"
   ]
  },
  {
   "cell_type": "markdown",
   "metadata": {},
   "source": [
    "## Tests"
   ]
  },
  {
   "cell_type": "code",
   "execution_count": 30,
   "metadata": {
    "ExecuteTime": {
     "end_time": "2020-12-02T00:20:23.795714Z",
     "start_time": "2020-12-02T00:20:23.791646Z"
    }
   },
   "outputs": [],
   "source": [
    "import sys\n",
    "sys.path.insert(1, '../modules')\n",
    "import auxiliary as aux"
   ]
  },
  {
   "cell_type": "code",
   "execution_count": 31,
   "metadata": {
    "ExecuteTime": {
     "end_time": "2020-12-02T00:20:26.308683Z",
     "start_time": "2020-12-02T00:20:26.301729Z"
    }
   },
   "outputs": [],
   "source": [
    "amount_tol = 10000\n",
    "rate_tol = .001"
   ]
  },
  {
   "cell_type": "code",
   "execution_count": 32,
   "metadata": {
    "ExecuteTime": {
     "end_time": "2020-12-02T00:20:28.279744Z",
     "start_time": "2020-12-02T00:20:28.273339Z"
    }
   },
   "outputs": [],
   "source": [
    "exitos = 0"
   ]
  },
  {
   "cell_type": "code",
   "execution_count": 33,
   "metadata": {
    "ExecuteTime": {
     "end_time": "2020-12-02T00:20:30.503754Z",
     "start_time": "2020-12-02T00:20:30.490190Z"
    }
   },
   "outputs": [],
   "source": [
    "def suma_exito(resultado, check, tipo):\n",
    "    global exitos\n",
    "    if resultado is None:\n",
    "        return\n",
    "    else:\n",
    "        print('Suma medio punto por obtener resultado.')\n",
    "        exitos += .5\n",
    "        if tipo == 'monto':\n",
    "            if abs(resultado - check) < amount_tol:\n",
    "                print('Suma 1 punto por obtener resultado dentro de la tolerancia.')\n",
    "                exitos += 1\n",
    "        else:\n",
    "            if abs(resultado - check) < rate_tol:\n",
    "                print('Suma 1 punto por obtener resultado dentro de la tolerancia.')\n",
    "                exitos += 1"
   ]
  },
  {
   "cell_type": "markdown",
   "metadata": {},
   "source": [
    "Construcción de una instancia de `OisCashflow`."
   ]
  },
  {
   "cell_type": "code",
   "execution_count": 35,
   "metadata": {
    "ExecuteTime": {
     "end_time": "2020-12-02T00:20:35.891575Z",
     "start_time": "2020-12-02T00:20:35.872225Z"
    }
   },
   "outputs": [],
   "source": [
    "ois = OisCashflow(\n",
    "    Qcf.QCDate(1, 10, 2019),\n",
    "    Qcf.QCDate(1, 10, 2020),\n",
    "    Qcf.QCDate(1, 10, 2020),\n",
    "    10000000,\n",
    "    Qcf.QCUSD(),\n",
    "    1000000,\n",
    "    True,\n",
    "    Qcf.QCInterestRate(0.0, Qcf.QCAct360(), Qcf.QCLinearWf()),\n",
    "    sofr,\n",
    "    0,\n",
    "    1\n",
    ")"
   ]
  },
  {
   "cell_type": "markdown",
   "metadata": {},
   "source": [
    "En la siguiente variable `exitos` se registra cuantos tests se superan con éxito."
   ]
  },
  {
   "cell_type": "markdown",
   "metadata": {},
   "source": [
    "### Objeto `fixings`"
   ]
  },
  {
   "cell_type": "code",
   "execution_count": 36,
   "metadata": {
    "ExecuteTime": {
     "end_time": "2020-12-02T00:20:37.879589Z",
     "start_time": "2020-12-02T00:20:37.841630Z"
    }
   },
   "outputs": [],
   "source": [
    "df_fixings = pd.read_excel('../data/SOFR-10012019-10292020.xls', sheet_name='nice format')\n",
    "df_fixings.columns = ['fecha', 'nombre', 'valor']\n",
    "df_fixings['valor'] /= 100"
   ]
  },
  {
   "cell_type": "code",
   "execution_count": 37,
   "metadata": {
    "ExecuteTime": {
     "end_time": "2020-12-02T00:20:38.829855Z",
     "start_time": "2020-12-02T00:20:38.821058Z"
    }
   },
   "outputs": [
    {
     "data": {
      "text/html": [
       "<style  type=\"text/css\" >\n",
       "</style><table id=\"T_3479494a_3434_11eb_a3d0_02cba411ec9d\" ><thead>    <tr>        <th class=\"blank level0\" ></th>        <th class=\"col_heading level0 col0\" >fecha</th>        <th class=\"col_heading level0 col1\" >nombre</th>        <th class=\"col_heading level0 col2\" >valor</th>    </tr></thead><tbody>\n",
       "                <tr>\n",
       "                        <th id=\"T_3479494a_3434_11eb_a3d0_02cba411ec9dlevel0_row0\" class=\"row_heading level0 row0\" >0</th>\n",
       "                        <td id=\"T_3479494a_3434_11eb_a3d0_02cba411ec9drow0_col0\" class=\"data row0 col0\" >2020-10-28</td>\n",
       "                        <td id=\"T_3479494a_3434_11eb_a3d0_02cba411ec9drow0_col1\" class=\"data row0 col1\" >SOFR</td>\n",
       "                        <td id=\"T_3479494a_3434_11eb_a3d0_02cba411ec9drow0_col2\" class=\"data row0 col2\" >0.0800%</td>\n",
       "            </tr>\n",
       "            <tr>\n",
       "                        <th id=\"T_3479494a_3434_11eb_a3d0_02cba411ec9dlevel0_row1\" class=\"row_heading level0 row1\" >1</th>\n",
       "                        <td id=\"T_3479494a_3434_11eb_a3d0_02cba411ec9drow1_col0\" class=\"data row1 col0\" >2020-10-27</td>\n",
       "                        <td id=\"T_3479494a_3434_11eb_a3d0_02cba411ec9drow1_col1\" class=\"data row1 col1\" >SOFR</td>\n",
       "                        <td id=\"T_3479494a_3434_11eb_a3d0_02cba411ec9drow1_col2\" class=\"data row1 col2\" >0.0900%</td>\n",
       "            </tr>\n",
       "            <tr>\n",
       "                        <th id=\"T_3479494a_3434_11eb_a3d0_02cba411ec9dlevel0_row2\" class=\"row_heading level0 row2\" >2</th>\n",
       "                        <td id=\"T_3479494a_3434_11eb_a3d0_02cba411ec9drow2_col0\" class=\"data row2 col0\" >2020-10-26</td>\n",
       "                        <td id=\"T_3479494a_3434_11eb_a3d0_02cba411ec9drow2_col1\" class=\"data row2 col1\" >SOFR</td>\n",
       "                        <td id=\"T_3479494a_3434_11eb_a3d0_02cba411ec9drow2_col2\" class=\"data row2 col2\" >0.0900%</td>\n",
       "            </tr>\n",
       "            <tr>\n",
       "                        <th id=\"T_3479494a_3434_11eb_a3d0_02cba411ec9dlevel0_row3\" class=\"row_heading level0 row3\" >3</th>\n",
       "                        <td id=\"T_3479494a_3434_11eb_a3d0_02cba411ec9drow3_col0\" class=\"data row3 col0\" >2020-10-23</td>\n",
       "                        <td id=\"T_3479494a_3434_11eb_a3d0_02cba411ec9drow3_col1\" class=\"data row3 col1\" >SOFR</td>\n",
       "                        <td id=\"T_3479494a_3434_11eb_a3d0_02cba411ec9drow3_col2\" class=\"data row3 col2\" >0.0800%</td>\n",
       "            </tr>\n",
       "            <tr>\n",
       "                        <th id=\"T_3479494a_3434_11eb_a3d0_02cba411ec9dlevel0_row4\" class=\"row_heading level0 row4\" >4</th>\n",
       "                        <td id=\"T_3479494a_3434_11eb_a3d0_02cba411ec9drow4_col0\" class=\"data row4 col0\" >2020-10-22</td>\n",
       "                        <td id=\"T_3479494a_3434_11eb_a3d0_02cba411ec9drow4_col1\" class=\"data row4 col1\" >SOFR</td>\n",
       "                        <td id=\"T_3479494a_3434_11eb_a3d0_02cba411ec9drow4_col2\" class=\"data row4 col2\" >0.0700%</td>\n",
       "            </tr>\n",
       "    </tbody></table>"
      ],
      "text/plain": [
       "<pandas.io.formats.style.Styler at 0x7f1363da5f98>"
      ]
     },
     "execution_count": 37,
     "metadata": {},
     "output_type": "execute_result"
    }
   ],
   "source": [
    "df_fixings.head().style.format({'valor': '{:.4%}'})"
   ]
  },
  {
   "cell_type": "code",
   "execution_count": 38,
   "metadata": {
    "ExecuteTime": {
     "end_time": "2020-12-02T00:20:40.957232Z",
     "start_time": "2020-12-02T00:20:40.951000Z"
    }
   },
   "outputs": [],
   "source": [
    "fixings = Qcf.time_series()\n",
    "for row in df_fixings.itertuples():\n",
    "    fixings[Qcf.build_qcdate_from_string(row.fecha)] = row.valor"
   ]
  },
  {
   "cell_type": "code",
   "execution_count": 39,
   "metadata": {
    "ExecuteTime": {
     "end_time": "2020-12-02T00:20:41.747490Z",
     "start_time": "2020-12-02T00:20:41.741852Z"
    }
   },
   "outputs": [
    {
     "data": {
      "text/plain": [
       "0.0154"
      ]
     },
     "execution_count": 39,
     "metadata": {},
     "output_type": "execute_result"
    }
   ],
   "source": [
    "fixings[Qcf.QCDate(13, 1, 2020)]"
   ]
  },
  {
   "cell_type": "markdown",
   "metadata": {},
   "source": [
    "### `OisCashflow.accrued_rate`"
   ]
  },
  {
   "cell_type": "code",
   "execution_count": 40,
   "metadata": {
    "ExecuteTime": {
     "end_time": "2020-12-02T00:20:43.088844Z",
     "start_time": "2020-12-02T00:20:43.081338Z"
    }
   },
   "outputs": [
    {
     "name": "stdout",
     "output_type": "stream",
     "text": [
      "accrued rate: 1.04766527%\n"
     ]
    }
   ],
   "source": [
    "accrued_rate = ois.get_accrued_rate(Qcf.QCDate(15, 6, 2020), fixings)\n",
    "print(f'accrued rate: {accrued_rate:.8%}')"
   ]
  },
  {
   "cell_type": "markdown",
   "metadata": {},
   "source": [
    "Se verificará el cálculo usando `df_fixings`."
   ]
  },
  {
   "cell_type": "code",
   "execution_count": 41,
   "metadata": {
    "ExecuteTime": {
     "end_time": "2020-12-02T00:20:44.660072Z",
     "start_time": "2020-12-02T00:20:44.651236Z"
    }
   },
   "outputs": [
    {
     "data": {
      "text/html": [
       "<style  type=\"text/css\" >\n",
       "</style><table id=\"T_37f2ec0c_3434_11eb_a3d0_02cba411ec9d\" ><thead>    <tr>        <th class=\"blank level0\" ></th>        <th class=\"col_heading level0 col0\" >fecha</th>        <th class=\"col_heading level0 col1\" >nombre</th>        <th class=\"col_heading level0 col2\" >valor</th>    </tr></thead><tbody>\n",
       "                <tr>\n",
       "                        <th id=\"T_37f2ec0c_3434_11eb_a3d0_02cba411ec9dlevel0_row0\" class=\"row_heading level0 row0\" >0</th>\n",
       "                        <td id=\"T_37f2ec0c_3434_11eb_a3d0_02cba411ec9drow0_col0\" class=\"data row0 col0\" >2020-10-28</td>\n",
       "                        <td id=\"T_37f2ec0c_3434_11eb_a3d0_02cba411ec9drow0_col1\" class=\"data row0 col1\" >SOFR</td>\n",
       "                        <td id=\"T_37f2ec0c_3434_11eb_a3d0_02cba411ec9drow0_col2\" class=\"data row0 col2\" >0.0800%</td>\n",
       "            </tr>\n",
       "            <tr>\n",
       "                        <th id=\"T_37f2ec0c_3434_11eb_a3d0_02cba411ec9dlevel0_row1\" class=\"row_heading level0 row1\" >1</th>\n",
       "                        <td id=\"T_37f2ec0c_3434_11eb_a3d0_02cba411ec9drow1_col0\" class=\"data row1 col0\" >2020-10-27</td>\n",
       "                        <td id=\"T_37f2ec0c_3434_11eb_a3d0_02cba411ec9drow1_col1\" class=\"data row1 col1\" >SOFR</td>\n",
       "                        <td id=\"T_37f2ec0c_3434_11eb_a3d0_02cba411ec9drow1_col2\" class=\"data row1 col2\" >0.0900%</td>\n",
       "            </tr>\n",
       "            <tr>\n",
       "                        <th id=\"T_37f2ec0c_3434_11eb_a3d0_02cba411ec9dlevel0_row2\" class=\"row_heading level0 row2\" >2</th>\n",
       "                        <td id=\"T_37f2ec0c_3434_11eb_a3d0_02cba411ec9drow2_col0\" class=\"data row2 col0\" >2020-10-26</td>\n",
       "                        <td id=\"T_37f2ec0c_3434_11eb_a3d0_02cba411ec9drow2_col1\" class=\"data row2 col1\" >SOFR</td>\n",
       "                        <td id=\"T_37f2ec0c_3434_11eb_a3d0_02cba411ec9drow2_col2\" class=\"data row2 col2\" >0.0900%</td>\n",
       "            </tr>\n",
       "            <tr>\n",
       "                        <th id=\"T_37f2ec0c_3434_11eb_a3d0_02cba411ec9dlevel0_row3\" class=\"row_heading level0 row3\" >3</th>\n",
       "                        <td id=\"T_37f2ec0c_3434_11eb_a3d0_02cba411ec9drow3_col0\" class=\"data row3 col0\" >2020-10-23</td>\n",
       "                        <td id=\"T_37f2ec0c_3434_11eb_a3d0_02cba411ec9drow3_col1\" class=\"data row3 col1\" >SOFR</td>\n",
       "                        <td id=\"T_37f2ec0c_3434_11eb_a3d0_02cba411ec9drow3_col2\" class=\"data row3 col2\" >0.0800%</td>\n",
       "            </tr>\n",
       "            <tr>\n",
       "                        <th id=\"T_37f2ec0c_3434_11eb_a3d0_02cba411ec9dlevel0_row4\" class=\"row_heading level0 row4\" >4</th>\n",
       "                        <td id=\"T_37f2ec0c_3434_11eb_a3d0_02cba411ec9drow4_col0\" class=\"data row4 col0\" >2020-10-22</td>\n",
       "                        <td id=\"T_37f2ec0c_3434_11eb_a3d0_02cba411ec9drow4_col1\" class=\"data row4 col1\" >SOFR</td>\n",
       "                        <td id=\"T_37f2ec0c_3434_11eb_a3d0_02cba411ec9drow4_col2\" class=\"data row4 col2\" >0.0700%</td>\n",
       "            </tr>\n",
       "    </tbody></table>"
      ],
      "text/plain": [
       "<pandas.io.formats.style.Styler at 0x7f1363c50780>"
      ]
     },
     "execution_count": 41,
     "metadata": {},
     "output_type": "execute_result"
    }
   ],
   "source": [
    "df_fixings.head().style.format({'valor': '{:.4%}'})"
   ]
  },
  {
   "cell_type": "markdown",
   "metadata": {
    "ExecuteTime": {
     "end_time": "2020-11-28T10:46:07.293545Z",
     "start_time": "2020-11-28T10:46:07.285532Z"
    }
   },
   "source": [
    "Se agrega la columna `next_date`, servirá para calcular el factor de capitalización de cada tasa."
   ]
  },
  {
   "cell_type": "code",
   "execution_count": 42,
   "metadata": {
    "ExecuteTime": {
     "end_time": "2020-12-02T00:20:47.364296Z",
     "start_time": "2020-12-02T00:20:47.359311Z"
    }
   },
   "outputs": [],
   "source": [
    "def next_date(fecha:str, calendario: Qcf.BusinessCalendar) -> str:\n",
    "    qfecha = Qcf.build_qcdate_from_string(fecha)\n",
    "    next_fecha = calendario.shift(qfecha, 1)\n",
    "    return next_fecha.description(False)"
   ]
  },
  {
   "cell_type": "code",
   "execution_count": 43,
   "metadata": {
    "ExecuteTime": {
     "end_time": "2020-12-02T00:20:48.047573Z",
     "start_time": "2020-12-02T00:20:48.031560Z"
    }
   },
   "outputs": [],
   "source": [
    "df_fixings['next_fecha'] = df_fixings.apply(\n",
    "    lambda row: next_date(row['fecha'], settlement_calendar),\n",
    "    axis=1\n",
    ")"
   ]
  },
  {
   "cell_type": "code",
   "execution_count": 44,
   "metadata": {
    "ExecuteTime": {
     "end_time": "2020-12-02T00:20:49.668272Z",
     "start_time": "2020-12-02T00:20:49.659083Z"
    }
   },
   "outputs": [
    {
     "data": {
      "text/html": [
       "<style  type=\"text/css\" >\n",
       "</style><table id=\"T_3aef1fd4_3434_11eb_a3d0_02cba411ec9d\" ><thead>    <tr>        <th class=\"blank level0\" ></th>        <th class=\"col_heading level0 col0\" >fecha</th>        <th class=\"col_heading level0 col1\" >nombre</th>        <th class=\"col_heading level0 col2\" >valor</th>        <th class=\"col_heading level0 col3\" >next_fecha</th>    </tr></thead><tbody>\n",
       "                <tr>\n",
       "                        <th id=\"T_3aef1fd4_3434_11eb_a3d0_02cba411ec9dlevel0_row0\" class=\"row_heading level0 row0\" >0</th>\n",
       "                        <td id=\"T_3aef1fd4_3434_11eb_a3d0_02cba411ec9drow0_col0\" class=\"data row0 col0\" >2020-10-28</td>\n",
       "                        <td id=\"T_3aef1fd4_3434_11eb_a3d0_02cba411ec9drow0_col1\" class=\"data row0 col1\" >SOFR</td>\n",
       "                        <td id=\"T_3aef1fd4_3434_11eb_a3d0_02cba411ec9drow0_col2\" class=\"data row0 col2\" >0.0800%</td>\n",
       "                        <td id=\"T_3aef1fd4_3434_11eb_a3d0_02cba411ec9drow0_col3\" class=\"data row0 col3\" >2020-10-29</td>\n",
       "            </tr>\n",
       "            <tr>\n",
       "                        <th id=\"T_3aef1fd4_3434_11eb_a3d0_02cba411ec9dlevel0_row1\" class=\"row_heading level0 row1\" >1</th>\n",
       "                        <td id=\"T_3aef1fd4_3434_11eb_a3d0_02cba411ec9drow1_col0\" class=\"data row1 col0\" >2020-10-27</td>\n",
       "                        <td id=\"T_3aef1fd4_3434_11eb_a3d0_02cba411ec9drow1_col1\" class=\"data row1 col1\" >SOFR</td>\n",
       "                        <td id=\"T_3aef1fd4_3434_11eb_a3d0_02cba411ec9drow1_col2\" class=\"data row1 col2\" >0.0900%</td>\n",
       "                        <td id=\"T_3aef1fd4_3434_11eb_a3d0_02cba411ec9drow1_col3\" class=\"data row1 col3\" >2020-10-28</td>\n",
       "            </tr>\n",
       "            <tr>\n",
       "                        <th id=\"T_3aef1fd4_3434_11eb_a3d0_02cba411ec9dlevel0_row2\" class=\"row_heading level0 row2\" >2</th>\n",
       "                        <td id=\"T_3aef1fd4_3434_11eb_a3d0_02cba411ec9drow2_col0\" class=\"data row2 col0\" >2020-10-26</td>\n",
       "                        <td id=\"T_3aef1fd4_3434_11eb_a3d0_02cba411ec9drow2_col1\" class=\"data row2 col1\" >SOFR</td>\n",
       "                        <td id=\"T_3aef1fd4_3434_11eb_a3d0_02cba411ec9drow2_col2\" class=\"data row2 col2\" >0.0900%</td>\n",
       "                        <td id=\"T_3aef1fd4_3434_11eb_a3d0_02cba411ec9drow2_col3\" class=\"data row2 col3\" >2020-10-27</td>\n",
       "            </tr>\n",
       "            <tr>\n",
       "                        <th id=\"T_3aef1fd4_3434_11eb_a3d0_02cba411ec9dlevel0_row3\" class=\"row_heading level0 row3\" >3</th>\n",
       "                        <td id=\"T_3aef1fd4_3434_11eb_a3d0_02cba411ec9drow3_col0\" class=\"data row3 col0\" >2020-10-23</td>\n",
       "                        <td id=\"T_3aef1fd4_3434_11eb_a3d0_02cba411ec9drow3_col1\" class=\"data row3 col1\" >SOFR</td>\n",
       "                        <td id=\"T_3aef1fd4_3434_11eb_a3d0_02cba411ec9drow3_col2\" class=\"data row3 col2\" >0.0800%</td>\n",
       "                        <td id=\"T_3aef1fd4_3434_11eb_a3d0_02cba411ec9drow3_col3\" class=\"data row3 col3\" >2020-10-26</td>\n",
       "            </tr>\n",
       "            <tr>\n",
       "                        <th id=\"T_3aef1fd4_3434_11eb_a3d0_02cba411ec9dlevel0_row4\" class=\"row_heading level0 row4\" >4</th>\n",
       "                        <td id=\"T_3aef1fd4_3434_11eb_a3d0_02cba411ec9drow4_col0\" class=\"data row4 col0\" >2020-10-22</td>\n",
       "                        <td id=\"T_3aef1fd4_3434_11eb_a3d0_02cba411ec9drow4_col1\" class=\"data row4 col1\" >SOFR</td>\n",
       "                        <td id=\"T_3aef1fd4_3434_11eb_a3d0_02cba411ec9drow4_col2\" class=\"data row4 col2\" >0.0700%</td>\n",
       "                        <td id=\"T_3aef1fd4_3434_11eb_a3d0_02cba411ec9drow4_col3\" class=\"data row4 col3\" >2020-10-23</td>\n",
       "            </tr>\n",
       "    </tbody></table>"
      ],
      "text/plain": [
       "<pandas.io.formats.style.Styler at 0x7f1363c50358>"
      ]
     },
     "execution_count": 44,
     "metadata": {},
     "output_type": "execute_result"
    }
   ],
   "source": [
    "df_fixings.head().style.format({'valor': '{:.4%}'})"
   ]
  },
  {
   "cell_type": "markdown",
   "metadata": {},
   "source": [
    "Se calcula ahora el factor de capitalización."
   ]
  },
  {
   "cell_type": "code",
   "execution_count": 45,
   "metadata": {
    "ExecuteTime": {
     "end_time": "2020-12-02T00:20:51.187965Z",
     "start_time": "2020-12-02T00:20:51.182043Z"
    }
   },
   "outputs": [],
   "source": [
    "def factor_cap(fecha: str, next_fecha: str, valor: float) -> float:\n",
    "    qfecha = Qcf.build_qcdate_from_string(fecha)\n",
    "    qnext_fecha = Qcf.build_qcdate_from_string(next_fecha)\n",
    "    int_rate = Qcf.QCInterestRate(valor, Qcf.QCAct360(), Qcf.QCLinearWf())\n",
    "    return int_rate.wf(qfecha, qnext_fecha)"
   ]
  },
  {
   "cell_type": "code",
   "execution_count": 46,
   "metadata": {
    "ExecuteTime": {
     "end_time": "2020-12-02T00:20:51.854720Z",
     "start_time": "2020-12-02T00:20:51.830114Z"
    }
   },
   "outputs": [],
   "source": [
    "df_fixings['factor_capitalizacion'] = df_fixings.apply(\n",
    "    lambda row: factor_cap(row['fecha'], row['next_fecha'], row['valor']),\n",
    "    axis=1\n",
    ")"
   ]
  },
  {
   "cell_type": "code",
   "execution_count": 47,
   "metadata": {
    "ExecuteTime": {
     "end_time": "2020-12-02T00:20:53.658006Z",
     "start_time": "2020-12-02T00:20:53.649688Z"
    }
   },
   "outputs": [
    {
     "data": {
      "text/html": [
       "<style  type=\"text/css\" >\n",
       "</style><table id=\"T_3d4ffa8c_3434_11eb_a3d0_02cba411ec9d\" ><thead>    <tr>        <th class=\"blank level0\" ></th>        <th class=\"col_heading level0 col0\" >fecha</th>        <th class=\"col_heading level0 col1\" >nombre</th>        <th class=\"col_heading level0 col2\" >valor</th>        <th class=\"col_heading level0 col3\" >next_fecha</th>        <th class=\"col_heading level0 col4\" >factor_capitalizacion</th>    </tr></thead><tbody>\n",
       "                <tr>\n",
       "                        <th id=\"T_3d4ffa8c_3434_11eb_a3d0_02cba411ec9dlevel0_row0\" class=\"row_heading level0 row0\" >0</th>\n",
       "                        <td id=\"T_3d4ffa8c_3434_11eb_a3d0_02cba411ec9drow0_col0\" class=\"data row0 col0\" >2020-10-28</td>\n",
       "                        <td id=\"T_3d4ffa8c_3434_11eb_a3d0_02cba411ec9drow0_col1\" class=\"data row0 col1\" >SOFR</td>\n",
       "                        <td id=\"T_3d4ffa8c_3434_11eb_a3d0_02cba411ec9drow0_col2\" class=\"data row0 col2\" >0.0800%</td>\n",
       "                        <td id=\"T_3d4ffa8c_3434_11eb_a3d0_02cba411ec9drow0_col3\" class=\"data row0 col3\" >2020-10-29</td>\n",
       "                        <td id=\"T_3d4ffa8c_3434_11eb_a3d0_02cba411ec9drow0_col4\" class=\"data row0 col4\" >1.000002</td>\n",
       "            </tr>\n",
       "            <tr>\n",
       "                        <th id=\"T_3d4ffa8c_3434_11eb_a3d0_02cba411ec9dlevel0_row1\" class=\"row_heading level0 row1\" >1</th>\n",
       "                        <td id=\"T_3d4ffa8c_3434_11eb_a3d0_02cba411ec9drow1_col0\" class=\"data row1 col0\" >2020-10-27</td>\n",
       "                        <td id=\"T_3d4ffa8c_3434_11eb_a3d0_02cba411ec9drow1_col1\" class=\"data row1 col1\" >SOFR</td>\n",
       "                        <td id=\"T_3d4ffa8c_3434_11eb_a3d0_02cba411ec9drow1_col2\" class=\"data row1 col2\" >0.0900%</td>\n",
       "                        <td id=\"T_3d4ffa8c_3434_11eb_a3d0_02cba411ec9drow1_col3\" class=\"data row1 col3\" >2020-10-28</td>\n",
       "                        <td id=\"T_3d4ffa8c_3434_11eb_a3d0_02cba411ec9drow1_col4\" class=\"data row1 col4\" >1.000002</td>\n",
       "            </tr>\n",
       "            <tr>\n",
       "                        <th id=\"T_3d4ffa8c_3434_11eb_a3d0_02cba411ec9dlevel0_row2\" class=\"row_heading level0 row2\" >2</th>\n",
       "                        <td id=\"T_3d4ffa8c_3434_11eb_a3d0_02cba411ec9drow2_col0\" class=\"data row2 col0\" >2020-10-26</td>\n",
       "                        <td id=\"T_3d4ffa8c_3434_11eb_a3d0_02cba411ec9drow2_col1\" class=\"data row2 col1\" >SOFR</td>\n",
       "                        <td id=\"T_3d4ffa8c_3434_11eb_a3d0_02cba411ec9drow2_col2\" class=\"data row2 col2\" >0.0900%</td>\n",
       "                        <td id=\"T_3d4ffa8c_3434_11eb_a3d0_02cba411ec9drow2_col3\" class=\"data row2 col3\" >2020-10-27</td>\n",
       "                        <td id=\"T_3d4ffa8c_3434_11eb_a3d0_02cba411ec9drow2_col4\" class=\"data row2 col4\" >1.000002</td>\n",
       "            </tr>\n",
       "            <tr>\n",
       "                        <th id=\"T_3d4ffa8c_3434_11eb_a3d0_02cba411ec9dlevel0_row3\" class=\"row_heading level0 row3\" >3</th>\n",
       "                        <td id=\"T_3d4ffa8c_3434_11eb_a3d0_02cba411ec9drow3_col0\" class=\"data row3 col0\" >2020-10-23</td>\n",
       "                        <td id=\"T_3d4ffa8c_3434_11eb_a3d0_02cba411ec9drow3_col1\" class=\"data row3 col1\" >SOFR</td>\n",
       "                        <td id=\"T_3d4ffa8c_3434_11eb_a3d0_02cba411ec9drow3_col2\" class=\"data row3 col2\" >0.0800%</td>\n",
       "                        <td id=\"T_3d4ffa8c_3434_11eb_a3d0_02cba411ec9drow3_col3\" class=\"data row3 col3\" >2020-10-26</td>\n",
       "                        <td id=\"T_3d4ffa8c_3434_11eb_a3d0_02cba411ec9drow3_col4\" class=\"data row3 col4\" >1.000007</td>\n",
       "            </tr>\n",
       "            <tr>\n",
       "                        <th id=\"T_3d4ffa8c_3434_11eb_a3d0_02cba411ec9dlevel0_row4\" class=\"row_heading level0 row4\" >4</th>\n",
       "                        <td id=\"T_3d4ffa8c_3434_11eb_a3d0_02cba411ec9drow4_col0\" class=\"data row4 col0\" >2020-10-22</td>\n",
       "                        <td id=\"T_3d4ffa8c_3434_11eb_a3d0_02cba411ec9drow4_col1\" class=\"data row4 col1\" >SOFR</td>\n",
       "                        <td id=\"T_3d4ffa8c_3434_11eb_a3d0_02cba411ec9drow4_col2\" class=\"data row4 col2\" >0.0700%</td>\n",
       "                        <td id=\"T_3d4ffa8c_3434_11eb_a3d0_02cba411ec9drow4_col3\" class=\"data row4 col3\" >2020-10-23</td>\n",
       "                        <td id=\"T_3d4ffa8c_3434_11eb_a3d0_02cba411ec9drow4_col4\" class=\"data row4 col4\" >1.000002</td>\n",
       "            </tr>\n",
       "    </tbody></table>"
      ],
      "text/plain": [
       "<pandas.io.formats.style.Styler at 0x7f1363c50940>"
      ]
     },
     "execution_count": 47,
     "metadata": {},
     "output_type": "execute_result"
    }
   ],
   "source": [
    "df_fixings.head().style.format({'valor': '{:.4%}'})"
   ]
  },
  {
   "cell_type": "markdown",
   "metadata": {},
   "source": [
    "Veamos donde están en `df_fixings` los valores para `start_date` de `ois` y la fecha 15-6-2020 y calculamos el producto de los factores de capitalización desde esa fecha hasta la última fecha de `df_flujos` (que es el primer registro). Luego, el cociente de los dos factores nos dará el factor entre ambas fechas. Finalmente, con ese factor, se calculará `accrued_rate`."
   ]
  },
  {
   "cell_type": "code",
   "execution_count": 48,
   "metadata": {
    "ExecuteTime": {
     "end_time": "2020-12-02T00:20:55.038526Z",
     "start_time": "2020-12-02T00:20:54.975727Z"
    }
   },
   "outputs": [
    {
     "data": {
      "text/html": [
       "<div>\n",
       "<style scoped>\n",
       "    .dataframe tbody tr th:only-of-type {\n",
       "        vertical-align: middle;\n",
       "    }\n",
       "\n",
       "    .dataframe tbody tr th {\n",
       "        vertical-align: top;\n",
       "    }\n",
       "\n",
       "    .dataframe thead th {\n",
       "        text-align: right;\n",
       "    }\n",
       "</style>\n",
       "<table border=\"1\" class=\"dataframe\">\n",
       "  <thead>\n",
       "    <tr style=\"text-align: right;\">\n",
       "      <th></th>\n",
       "      <th>fecha</th>\n",
       "      <th>nombre</th>\n",
       "      <th>valor</th>\n",
       "      <th>next_fecha</th>\n",
       "      <th>factor_capitalizacion</th>\n",
       "    </tr>\n",
       "  </thead>\n",
       "  <tbody>\n",
       "    <tr>\n",
       "      <th>269</th>\n",
       "      <td>2019-10-01</td>\n",
       "      <td>SOFR</td>\n",
       "      <td>0.0188</td>\n",
       "      <td>2019-10-02</td>\n",
       "      <td>1.000052</td>\n",
       "    </tr>\n",
       "  </tbody>\n",
       "</table>\n",
       "</div>"
      ],
      "text/plain": [
       "          fecha nombre   valor  next_fecha  factor_capitalizacion\n",
       "269  2019-10-01   SOFR  0.0188  2019-10-02               1.000052"
      ]
     },
     "execution_count": 48,
     "metadata": {},
     "output_type": "execute_result"
    }
   ],
   "source": [
    "start_date = ois.start_date.description(False)\n",
    "df_fixings[df_fixings.fecha == start_date]"
   ]
  },
  {
   "cell_type": "code",
   "execution_count": 49,
   "metadata": {
    "ExecuteTime": {
     "end_time": "2020-12-02T00:20:56.447021Z",
     "start_time": "2020-12-02T00:20:56.432668Z"
    }
   },
   "outputs": [
    {
     "name": "stdout",
     "output_type": "stream",
     "text": [
      "1.0075715527341267\n"
     ]
    }
   ],
   "source": [
    "factor_largo = df_fixings.iloc[:270]['factor_capitalizacion'].prod()\n",
    "print(factor_largo)\n",
    "qstart_date = Qcf.build_qcdate_from_string('2019-10-01')"
   ]
  },
  {
   "cell_type": "code",
   "execution_count": 50,
   "metadata": {
    "ExecuteTime": {
     "end_time": "2020-12-02T00:20:58.614404Z",
     "start_time": "2020-12-02T00:20:58.600981Z"
    }
   },
   "outputs": [
    {
     "data": {
      "text/html": [
       "<div>\n",
       "<style scoped>\n",
       "    .dataframe tbody tr th:only-of-type {\n",
       "        vertical-align: middle;\n",
       "    }\n",
       "\n",
       "    .dataframe tbody tr th {\n",
       "        vertical-align: top;\n",
       "    }\n",
       "\n",
       "    .dataframe thead th {\n",
       "        text-align: right;\n",
       "    }\n",
       "</style>\n",
       "<table border=\"1\" class=\"dataframe\">\n",
       "  <thead>\n",
       "    <tr style=\"text-align: right;\">\n",
       "      <th></th>\n",
       "      <th>fecha</th>\n",
       "      <th>nombre</th>\n",
       "      <th>valor</th>\n",
       "      <th>next_fecha</th>\n",
       "      <th>factor_capitalizacion</th>\n",
       "    </tr>\n",
       "  </thead>\n",
       "  <tbody>\n",
       "    <tr>\n",
       "      <th>94</th>\n",
       "      <td>2020-06-15</td>\n",
       "      <td>SOFR</td>\n",
       "      <td>0.0009</td>\n",
       "      <td>2020-06-16</td>\n",
       "      <td>1.000002</td>\n",
       "    </tr>\n",
       "  </tbody>\n",
       "</table>\n",
       "</div>"
      ],
      "text/plain": [
       "         fecha nombre   valor  next_fecha  factor_capitalizacion\n",
       "94  2020-06-15   SOFR  0.0009  2020-06-16               1.000002"
      ]
     },
     "execution_count": 50,
     "metadata": {},
     "output_type": "execute_result"
    }
   ],
   "source": [
    "df_fixings[df_fixings.fecha == '2020-06-15']"
   ]
  },
  {
   "cell_type": "code",
   "execution_count": 51,
   "metadata": {
    "ExecuteTime": {
     "end_time": "2020-12-02T00:20:59.565616Z",
     "start_time": "2020-12-02T00:20:59.560980Z"
    }
   },
   "outputs": [],
   "source": [
    "factor_corto = df_fixings.iloc[:95]['factor_capitalizacion'].prod()\n",
    "qaccrued_date = Qcf.build_qcdate_from_string('2020-06-15')"
   ]
  },
  {
   "cell_type": "code",
   "execution_count": 52,
   "metadata": {
    "ExecuteTime": {
     "end_time": "2020-12-02T00:21:00.237325Z",
     "start_time": "2020-12-02T00:21:00.231335Z"
    }
   },
   "outputs": [
    {
     "name": "stdout",
     "output_type": "stream",
     "text": [
      "La diferencia es: 0.03775213%\n"
     ]
    }
   ],
   "source": [
    "dias = qstart_date.day_diff(qaccrued_date)\n",
    "check_accrued_rate = (factor_largo / factor_corto - 1.0) * 360.0 / dias\n",
    "print(f'La diferencia es: {accrued_rate - check_accrued_rate:.8%}')"
   ]
  },
  {
   "cell_type": "code",
   "execution_count": 53,
   "metadata": {
    "ExecuteTime": {
     "end_time": "2020-12-02T00:21:03.067372Z",
     "start_time": "2020-12-02T00:21:03.062045Z"
    }
   },
   "outputs": [
    {
     "name": "stdout",
     "output_type": "stream",
     "text": [
      "Suma medio punto por obtener resultado.\n",
      "Suma 1 punto por obtener resultado dentro de la tolerancia.\n"
     ]
    }
   ],
   "source": [
    "suma_exito(accrued_rate, check_accrued_rate, 'tasa')"
   ]
  },
  {
   "cell_type": "markdown",
   "metadata": {},
   "source": [
    "### `OisCashflow.accrued_interest`"
   ]
  },
  {
   "cell_type": "code",
   "execution_count": 54,
   "metadata": {
    "ExecuteTime": {
     "end_time": "2020-12-02T00:21:08.936173Z",
     "start_time": "2020-12-02T00:21:08.930789Z"
    }
   },
   "outputs": [
    {
     "name": "stdout",
     "output_type": "stream",
     "text": [
      "accrued interest: 75,082.68\n"
     ]
    }
   ],
   "source": [
    "accrued_interest = ois.get_accrued_interest(Qcf.QCDate(15, 6, 2020), fixings)\n",
    "print(f'accrued interest: {accrued_interest:,.2f}')"
   ]
  },
  {
   "cell_type": "code",
   "execution_count": 55,
   "metadata": {
    "ExecuteTime": {
     "end_time": "2020-12-02T00:21:10.042513Z",
     "start_time": "2020-12-02T00:21:10.038712Z"
    }
   },
   "outputs": [
    {
     "name": "stdout",
     "output_type": "stream",
     "text": [
      "La diferencia es: 0.000000\n"
     ]
    }
   ],
   "source": [
    "check_accrued_interest = ois.notional * accrued_rate * dias / 360.0\n",
    "print(f'La diferencia es: {accrued_interest - check_accrued_interest:,.6f}')"
   ]
  },
  {
   "cell_type": "code",
   "execution_count": 56,
   "metadata": {
    "ExecuteTime": {
     "end_time": "2020-12-02T00:21:10.953176Z",
     "start_time": "2020-12-02T00:21:10.949139Z"
    }
   },
   "outputs": [
    {
     "name": "stdout",
     "output_type": "stream",
     "text": [
      "Suma medio punto por obtener resultado.\n",
      "Suma 1 punto por obtener resultado dentro de la tolerancia.\n"
     ]
    }
   ],
   "source": [
    "suma_exito(accrued_interest, check_accrued_interest, 'monto')"
   ]
  },
  {
   "cell_type": "markdown",
   "metadata": {},
   "source": [
    "### `OisCashflow.amount`"
   ]
  },
  {
   "cell_type": "code",
   "execution_count": 57,
   "metadata": {
    "ExecuteTime": {
     "end_time": "2020-12-02T00:21:14.448040Z",
     "start_time": "2020-12-02T00:21:14.439786Z"
    }
   },
   "outputs": [
    {
     "name": "stdout",
     "output_type": "stream",
     "text": [
      "amount: 1,077,850.90\n"
     ]
    }
   ],
   "source": [
    "amount = ois.amount(fixings)\n",
    "print(f'amount: {amount:,.2f}')"
   ]
  },
  {
   "cell_type": "code",
   "execution_count": 58,
   "metadata": {
    "ExecuteTime": {
     "end_time": "2020-12-02T00:21:15.580290Z",
     "start_time": "2020-12-02T00:21:15.562224Z"
    }
   },
   "outputs": [
    {
     "name": "stdout",
     "output_type": "stream",
     "text": [
      "end date: 2020-10-01\n"
     ]
    },
    {
     "data": {
      "text/html": [
       "<div>\n",
       "<style scoped>\n",
       "    .dataframe tbody tr th:only-of-type {\n",
       "        vertical-align: middle;\n",
       "    }\n",
       "\n",
       "    .dataframe tbody tr th {\n",
       "        vertical-align: top;\n",
       "    }\n",
       "\n",
       "    .dataframe thead th {\n",
       "        text-align: right;\n",
       "    }\n",
       "</style>\n",
       "<table border=\"1\" class=\"dataframe\">\n",
       "  <thead>\n",
       "    <tr style=\"text-align: right;\">\n",
       "      <th></th>\n",
       "      <th>fecha</th>\n",
       "      <th>nombre</th>\n",
       "      <th>valor</th>\n",
       "      <th>next_fecha</th>\n",
       "      <th>factor_capitalizacion</th>\n",
       "    </tr>\n",
       "  </thead>\n",
       "  <tbody>\n",
       "    <tr>\n",
       "      <th>18</th>\n",
       "      <td>2020-10-01</td>\n",
       "      <td>SOFR</td>\n",
       "      <td>0.0008</td>\n",
       "      <td>2020-10-02</td>\n",
       "      <td>1.000002</td>\n",
       "    </tr>\n",
       "  </tbody>\n",
       "</table>\n",
       "</div>"
      ],
      "text/plain": [
       "         fecha nombre   valor  next_fecha  factor_capitalizacion\n",
       "18  2020-10-01   SOFR  0.0008  2020-10-02               1.000002"
      ]
     },
     "execution_count": 58,
     "metadata": {},
     "output_type": "execute_result"
    }
   ],
   "source": [
    "end_date = ois.end_date.description(False)\n",
    "print(f'end date: {end_date}')\n",
    "df_fixings[df_fixings.fecha == end_date]"
   ]
  },
  {
   "cell_type": "code",
   "execution_count": 59,
   "metadata": {
    "ExecuteTime": {
     "end_time": "2020-12-02T00:21:16.860732Z",
     "start_time": "2020-12-02T00:21:16.854628Z"
    }
   },
   "outputs": [
    {
     "name": "stdout",
     "output_type": "stream",
     "text": [
      "La diferencia es: 2823.854185\n"
     ]
    }
   ],
   "source": [
    "factor_corto_2 = df_fixings.iloc[:19]['factor_capitalizacion'].prod()\n",
    "dias_2 = qstart_date.day_diff(ois.end_date)\n",
    "accrued_rate_amount = (factor_largo / factor_corto_2- 1.0) * 360.0 / dias_2\n",
    "check_amount = ois.notional * accrued_rate_amount * dias_2 / 360.0 + ois.amortization\n",
    "print(f'La diferencia es: {amount - check_amount:.6f}')"
   ]
  },
  {
   "cell_type": "code",
   "execution_count": 60,
   "metadata": {
    "ExecuteTime": {
     "end_time": "2020-12-02T00:21:19.507757Z",
     "start_time": "2020-12-02T00:21:19.501791Z"
    }
   },
   "outputs": [
    {
     "name": "stdout",
     "output_type": "stream",
     "text": [
      "Suma medio punto por obtener resultado.\n",
      "Suma 1 punto por obtener resultado dentro de la tolerancia.\n"
     ]
    }
   ],
   "source": [
    "suma_exito(amount, check_amount, 'monto')"
   ]
  },
  {
   "cell_type": "markdown",
   "metadata": {},
   "source": [
    "### `set_expected_rate`"
   ]
  },
  {
   "cell_type": "markdown",
   "metadata": {},
   "source": [
    "Comenzamos cargando los valores de la curva cero cupón que se utilizará para hacer pruebas de `set_expected_rate` y `present_value`."
   ]
  },
  {
   "cell_type": "code",
   "execution_count": 61,
   "metadata": {
    "ExecuteTime": {
     "end_time": "2020-12-02T00:21:21.758485Z",
     "start_time": "2020-12-02T00:21:21.741803Z"
    }
   },
   "outputs": [],
   "source": [
    "df_curva = pd.read_excel('../data/20201012_built_sofr_zero.xlsx')"
   ]
  },
  {
   "cell_type": "code",
   "execution_count": 62,
   "metadata": {
    "ExecuteTime": {
     "end_time": "2020-12-02T00:21:22.591749Z",
     "start_time": "2020-12-02T00:21:22.579834Z"
    }
   },
   "outputs": [
    {
     "data": {
      "text/html": [
       "<style  type=\"text/css\" >\n",
       "</style><table id=\"T_4e8eaa64_3434_11eb_a3d0_02cba411ec9d\" ><thead>    <tr>        <th class=\"blank level0\" ></th>        <th class=\"col_heading level0 col0\" >plazo</th>        <th class=\"col_heading level0 col1\" >tasa</th>        <th class=\"col_heading level0 col2\" >df</th>    </tr></thead><tbody>\n",
       "                <tr>\n",
       "                        <th id=\"T_4e8eaa64_3434_11eb_a3d0_02cba411ec9dlevel0_row0\" class=\"row_heading level0 row0\" >0</th>\n",
       "                        <td id=\"T_4e8eaa64_3434_11eb_a3d0_02cba411ec9drow0_col0\" class=\"data row0 col0\" >1</td>\n",
       "                        <td id=\"T_4e8eaa64_3434_11eb_a3d0_02cba411ec9drow0_col1\" class=\"data row0 col1\" >0.0811%</td>\n",
       "                        <td id=\"T_4e8eaa64_3434_11eb_a3d0_02cba411ec9drow0_col2\" class=\"data row0 col2\" >99.999778%</td>\n",
       "            </tr>\n",
       "            <tr>\n",
       "                        <th id=\"T_4e8eaa64_3434_11eb_a3d0_02cba411ec9dlevel0_row1\" class=\"row_heading level0 row1\" >1</th>\n",
       "                        <td id=\"T_4e8eaa64_3434_11eb_a3d0_02cba411ec9drow1_col0\" class=\"data row1 col0\" >7</td>\n",
       "                        <td id=\"T_4e8eaa64_3434_11eb_a3d0_02cba411ec9drow1_col1\" class=\"data row1 col1\" >0.0841%</td>\n",
       "                        <td id=\"T_4e8eaa64_3434_11eb_a3d0_02cba411ec9drow1_col2\" class=\"data row1 col2\" >99.998388%</td>\n",
       "            </tr>\n",
       "            <tr>\n",
       "                        <th id=\"T_4e8eaa64_3434_11eb_a3d0_02cba411ec9dlevel0_row2\" class=\"row_heading level0 row2\" >2</th>\n",
       "                        <td id=\"T_4e8eaa64_3434_11eb_a3d0_02cba411ec9drow2_col0\" class=\"data row2 col0\" >14</td>\n",
       "                        <td id=\"T_4e8eaa64_3434_11eb_a3d0_02cba411ec9drow2_col1\" class=\"data row2 col1\" >0.0780%</td>\n",
       "                        <td id=\"T_4e8eaa64_3434_11eb_a3d0_02cba411ec9drow2_col2\" class=\"data row2 col2\" >99.997010%</td>\n",
       "            </tr>\n",
       "            <tr>\n",
       "                        <th id=\"T_4e8eaa64_3434_11eb_a3d0_02cba411ec9dlevel0_row3\" class=\"row_heading level0 row3\" >3</th>\n",
       "                        <td id=\"T_4e8eaa64_3434_11eb_a3d0_02cba411ec9drow3_col0\" class=\"data row3 col0\" >21</td>\n",
       "                        <td id=\"T_4e8eaa64_3434_11eb_a3d0_02cba411ec9drow3_col1\" class=\"data row3 col1\" >0.0774%</td>\n",
       "                        <td id=\"T_4e8eaa64_3434_11eb_a3d0_02cba411ec9drow3_col2\" class=\"data row3 col2\" >99.995549%</td>\n",
       "            </tr>\n",
       "            <tr>\n",
       "                        <th id=\"T_4e8eaa64_3434_11eb_a3d0_02cba411ec9dlevel0_row4\" class=\"row_heading level0 row4\" >4</th>\n",
       "                        <td id=\"T_4e8eaa64_3434_11eb_a3d0_02cba411ec9drow4_col0\" class=\"data row4 col0\" >33</td>\n",
       "                        <td id=\"T_4e8eaa64_3434_11eb_a3d0_02cba411ec9drow4_col1\" class=\"data row4 col1\" >0.0781%</td>\n",
       "                        <td id=\"T_4e8eaa64_3434_11eb_a3d0_02cba411ec9drow4_col2\" class=\"data row4 col2\" >99.992942%</td>\n",
       "            </tr>\n",
       "    </tbody></table>"
      ],
      "text/plain": [
       "<pandas.io.formats.style.Styler at 0x7f1363c50518>"
      ]
     },
     "execution_count": 62,
     "metadata": {},
     "output_type": "execute_result"
    }
   ],
   "source": [
    "df_curva.head().style.format({'tasa': '{:.4%}', 'df': '{:.6%}'})"
   ]
  },
  {
   "cell_type": "markdown",
   "metadata": {},
   "source": [
    "Con la data se construye un objeto de tipo `Qcf.ZeroCouponCurve`."
   ]
  },
  {
   "cell_type": "code",
   "execution_count": 63,
   "metadata": {
    "ExecuteTime": {
     "end_time": "2020-12-02T00:21:25.414379Z",
     "start_time": "2020-12-02T00:21:25.409676Z"
    },
    "scrolled": true
   },
   "outputs": [],
   "source": [
    "zcc = aux.get_curve_from_dataframe(Qcf.QCAct365(),Qcf.QCCompoundWf(), df_curva)"
   ]
  },
  {
   "cell_type": "markdown",
   "metadata": {},
   "source": [
    "Comienzan los tests."
   ]
  },
  {
   "cell_type": "code",
   "execution_count": 64,
   "metadata": {
    "ExecuteTime": {
     "end_time": "2020-12-02T00:21:27.070000Z",
     "start_time": "2020-12-02T00:21:27.064663Z"
    }
   },
   "outputs": [
    {
     "name": "stdout",
     "output_type": "stream",
     "text": [
      "Fecha inicial flujo: 2019-10-01\n",
      "Fecha final flujo: 2020-10-01\n"
     ]
    }
   ],
   "source": [
    "print(f'Fecha inicial flujo: {ois.start_date.description(False)}')\n",
    "print(f'Fecha final flujo: {ois.end_date.description(False)}')"
   ]
  },
  {
   "cell_type": "code",
   "execution_count": 66,
   "metadata": {
    "ExecuteTime": {
     "end_time": "2020-12-02T00:21:46.766274Z",
     "start_time": "2020-12-02T00:21:46.752577Z"
    }
   },
   "outputs": [
    {
     "name": "stdout",
     "output_type": "stream",
     "text": [
      "Expected Rate:  0.873388%\n",
      "Tasa esperada es: 0.87338758%\n",
      "Check tasa esperada es: 0.06121277%\n",
      "Suma medio punto por obtener resultado.\n"
     ]
    }
   ],
   "source": [
    "# Check primer caso\n",
    "val_date = Qcf.QCDate(1, 6, 2019)\n",
    "set_expected_rate(val_date, ois, zcc, fixings)\n",
    "resultado = ois.interest_rate.get_value()\n",
    "print(f'Tasa esperada es: {resultado:.8%}')\n",
    "p1 = val_date.day_diff(ois.start_date)\n",
    "p2 = val_date.day_diff(ois.end_date)\n",
    "df1 = zcc.get_discount_factor_at(p1)\n",
    "df2 = zcc.get_discount_factor_at(p2)\n",
    "check = (df1 / df2 - 1) * 360 / (p2 - p1)\n",
    "print(f'Check tasa esperada es: {check:.8%}')\n",
    "\n",
    "suma_exito(resultado, check, 'tasa')"
   ]
  },
  {
   "cell_type": "code",
   "execution_count": 67,
   "metadata": {
    "ExecuteTime": {
     "end_time": "2020-12-02T00:22:05.862711Z",
     "start_time": "2020-12-02T00:22:05.852893Z"
    }
   },
   "outputs": [
    {
     "name": "stdout",
     "output_type": "stream",
     "text": [
      "Expected Rate:  0.070205%\n",
      "Tasa esperada es: 0.07020480%\n",
      "Check tasa esperada es: 0.06924275%\n",
      "Suma medio punto por obtener resultado.\n",
      "Suma 1 punto por obtener resultado dentro de la tolerancia.\n"
     ]
    }
   ],
   "source": [
    "# Check segundo caso borde\n",
    "val_date = Qcf.QCDate(1, 10, 2019)\n",
    "set_expected_rate(val_date, ois, zcc, fixings)\n",
    "resultado = ois.interest_rate.get_value()\n",
    "print(f'Tasa esperada es: {resultado:.8%}')\n",
    "p1 = val_date.day_diff(ois.start_date)\n",
    "p2 = val_date.day_diff(ois.end_date)\n",
    "df1 = zcc.get_discount_factor_at(p1)\n",
    "df2 = zcc.get_discount_factor_at(p2)\n",
    "check = (df1 / df2 - 1) * 360 / (p2 - p1)\n",
    "print(f'Check tasa esperada es: {check:.8%}')\n",
    "\n",
    "suma_exito(resultado, check, 'tasa')"
   ]
  },
  {
   "cell_type": "code",
   "execution_count": 68,
   "metadata": {
    "ExecuteTime": {
     "end_time": "2020-12-02T00:22:13.193094Z",
     "start_time": "2020-12-02T00:22:13.182863Z"
    }
   },
   "outputs": [
    {
     "name": "stdout",
     "output_type": "stream",
     "text": [
      "Expected Rate:  0.071717%\n",
      "Tasa esperada es: 0.07171747%\n",
      "Check tasa esperada es: 0.22166384%\n",
      "Suma medio punto por obtener resultado.\n"
     ]
    }
   ],
   "source": [
    "# Check segundo caso\n",
    "val_date = Qcf.QCDate(1, 11, 2019)\n",
    "set_expected_rate(val_date, ois, zcc, fixings)\n",
    "resultado = ois.interest_rate.get_value()\n",
    "print(f'Tasa esperada es: {resultado:.8%}')\n",
    "p1 = ois.start_date.day_diff(val_date)\n",
    "p2 = val_date.day_diff(ois.end_date)\n",
    "wf1 = 1 + ois.get_accrued_interest(val_date, fixings) / ois.notional\n",
    "wf2 = 1 / zcc.get_discount_factor_at(p2)\n",
    "check = (wf1 * wf2 - 1) * 360 / (p1 + p2)\n",
    "print(f'Check tasa esperada es: {check:.8%}')\n",
    "\n",
    "suma_exito(resultado, check, 'tasa')"
   ]
  },
  {
   "cell_type": "code",
   "execution_count": 69,
   "metadata": {
    "ExecuteTime": {
     "end_time": "2020-12-02T00:22:21.590751Z",
     "start_time": "2020-12-02T00:22:21.581600Z"
    }
   },
   "outputs": [
    {
     "name": "stdout",
     "output_type": "stream",
     "text": [
      "Expected Rate:  0.081112%\n",
      "Tasa esperada es: 0.08111157%\n",
      "Check tasa esperada es: 0.76574655%\n",
      "Suma medio punto por obtener resultado.\n"
     ]
    }
   ],
   "source": [
    "# Check tercer caso borde\n",
    "val_date = Qcf.QCDate(1, 10, 2020)\n",
    "set_expected_rate(val_date, ois, zcc, fixings)\n",
    "resultado = ois.interest_rate.get_value()\n",
    "print(f'Tasa esperada es: {resultado:.8%}')\n",
    "check = ois.get_accrued_rate(val_date, fixings)\n",
    "print(f'Check tasa esperada es: {check:.8%}')\n",
    "\n",
    "suma_exito(resultado, check, 'tasa')"
   ]
  },
  {
   "cell_type": "code",
   "execution_count": 70,
   "metadata": {
    "ExecuteTime": {
     "end_time": "2020-12-02T00:22:43.131993Z",
     "start_time": "2020-12-02T00:22:43.120531Z"
    }
   },
   "outputs": [
    {
     "name": "stdout",
     "output_type": "stream",
     "text": [
      "Expected Rate:  0.075347%\n",
      "Tasa esperada es: 0.07534730%\n",
      "Check tasa esperada es: 0.76574655%\n",
      "Suma medio punto por obtener resultado.\n"
     ]
    }
   ],
   "source": [
    "# Check tercer caso\n",
    "val_date = Qcf.QCDate(15, 10, 2020)\n",
    "set_expected_rate(val_date, ois, zcc, fixings)\n",
    "resultado = ois.interest_rate.get_value()\n",
    "print(f'Tasa esperada es: {resultado:.8%}')\n",
    "check = ois.get_accrued_rate(ois.end_date, fixings)\n",
    "print(f'Check tasa esperada es: {check:.8%}')\n",
    "\n",
    "suma_exito(resultado, check, 'tasa')"
   ]
  },
  {
   "cell_type": "markdown",
   "metadata": {},
   "source": [
    "### `present_value`"
   ]
  },
  {
   "cell_type": "code",
   "execution_count": 72,
   "metadata": {
    "ExecuteTime": {
     "end_time": "2020-12-02T00:23:22.921269Z",
     "start_time": "2020-12-02T00:23:22.900384Z"
    }
   },
   "outputs": [
    {
     "name": "stdout",
     "output_type": "stream",
     "text": [
      "Expected Rate:  0.873388%\n",
      "Valor presente es: 1,088,117.2359\n",
      "Amount: 1,077,850.8996\n",
      "Df: 99.911652%\n",
      "VP check es: 1,076,898.6424\n",
      "Suma medio punto por obtener resultado.\n"
     ]
    }
   ],
   "source": [
    "# Check primer caso\n",
    "val_date = Qcf.QCDate(1, 6, 2019)\n",
    "set_expected_rate(val_date, ois, zcc, fixings)\n",
    "pv = present_value(val_date, ois, zcc)\n",
    "print(f'Valor presente es: {pv:,.4f}')\n",
    "amount = ois.amount(fixings)\n",
    "print(f'Amount: {amount:,.4f}')\n",
    "amount = ois.amount(fixings)\n",
    "plazo = val_date.day_diff(ois.settlement_date)\n",
    "df = zcc.get_discount_factor_at(plazo)\n",
    "print(f'Df: {df:.6%}')\n",
    "vp_check = df * amount\n",
    "print(f'VP check es: {vp_check:,.4f}')\n",
    "\n",
    "suma_exito(pv, vp_check, 'monto')"
   ]
  },
  {
   "cell_type": "code",
   "execution_count": 73,
   "metadata": {
    "ExecuteTime": {
     "end_time": "2020-12-02T00:23:38.542709Z",
     "start_time": "2020-12-02T00:23:38.523284Z"
    }
   },
   "outputs": [
    {
     "name": "stdout",
     "output_type": "stream",
     "text": [
      "Expected Rate:  0.070205%\n",
      "Valor presente es: 1,006,428.9941\n",
      "Amount: 1,077,850.8996\n",
      "Df: 99.929653%\n",
      "VP check es: 1,077,092.6609\n",
      "Suma medio punto por obtener resultado.\n"
     ]
    }
   ],
   "source": [
    "# Check segundo caso borde\n",
    "val_date = Qcf.QCDate(1, 10, 2019)\n",
    "set_expected_rate(val_date, ois, zcc, fixings)\n",
    "pv = present_value(val_date, ois, zcc)\n",
    "print(f'Valor presente es: {pv:,.4f}')\n",
    "amount = ois.amount(fixings)\n",
    "print(f'Amount: {amount:,.4f}')\n",
    "amount = ois.amount(fixings)\n",
    "plazo = val_date.day_diff(ois.settlement_date)\n",
    "df = zcc.get_discount_factor_at(plazo)\n",
    "print(f'Df: {df:.6%}')\n",
    "vp_check = df * amount\n",
    "print(f'VP check es: {vp_check:,.4f}')\n",
    "\n",
    "suma_exito(pv, vp_check, 'monto')"
   ]
  },
  {
   "cell_type": "code",
   "execution_count": 74,
   "metadata": {
    "ExecuteTime": {
     "end_time": "2020-12-02T00:23:57.364464Z",
     "start_time": "2020-12-02T00:23:57.346531Z"
    }
   },
   "outputs": [
    {
     "name": "stdout",
     "output_type": "stream",
     "text": [
      "Expected Rate:  0.071717%\n",
      "Valor presente es: 1,006,567.4176\n",
      "Amount: 1,077,850.8996\n",
      "Df: 99.935019%\n",
      "VP check es: 1,077,150.5062\n",
      "Suma medio punto por obtener resultado.\n"
     ]
    }
   ],
   "source": [
    "# Check segundo caso\n",
    "val_date = Qcf.QCDate(1, 11, 2019)\n",
    "set_expected_rate(val_date, ois, zcc, fixings)\n",
    "pv = present_value(val_date, ois, zcc)\n",
    "print(f'Valor presente es: {pv:,.4f}')\n",
    "amount = ois.amount(fixings)\n",
    "print(f'Amount: {amount:,.4f}')\n",
    "amount = ois.amount(fixings)\n",
    "plazo = val_date.day_diff(ois.settlement_date)\n",
    "df = zcc.get_discount_factor_at(plazo)\n",
    "print(f'Df: {df:.6%}')\n",
    "vp_check = df * amount\n",
    "print(f'VP check es: {vp_check:,.4f}')\n",
    "\n",
    "suma_exito(pv, vp_check, 'monto')"
   ]
  },
  {
   "cell_type": "code",
   "execution_count": 75,
   "metadata": {
    "ExecuteTime": {
     "end_time": "2020-12-02T00:24:14.125109Z",
     "start_time": "2020-12-02T00:24:14.113113Z"
    }
   },
   "outputs": [
    {
     "name": "stdout",
     "output_type": "stream",
     "text": [
      "Expected Rate:  0.081112%\n",
      "Valor presente es: 1,007,426.9689\n",
      "Amount: 1,077,850.8996\n",
      "Df: 0.000000%\n",
      "VP check es: 0.0000\n",
      "Suma medio punto por obtener resultado.\n"
     ]
    }
   ],
   "source": [
    "# Check tercer caso borde\n",
    "val_date = Qcf.QCDate(1, 10, 2020)\n",
    "set_expected_rate(val_date, ois, zcc, fixings)\n",
    "pv = present_value(val_date, ois, zcc)\n",
    "print(f'Valor presente es: {pv:,.4f}')\n",
    "amount = ois.amount(fixings)\n",
    "print(f'Amount: {amount:,.4f}')\n",
    "amount = ois.amount(fixings)\n",
    "plazo = val_date.day_diff(ois.settlement_date)\n",
    "if plazo <= 0:\n",
    "    df = 0.0\n",
    "else:\n",
    "    df = zcc.get_discount_factor_at(plazo)\n",
    "print(f'Df: {df:.6%}')\n",
    "vp_check = df * amount\n",
    "print(f'VP check es: {vp_check:,.4f}')\n",
    "\n",
    "suma_exito(pv, vp_check, 'monto')"
   ]
  },
  {
   "cell_type": "code",
   "execution_count": 76,
   "metadata": {
    "ExecuteTime": {
     "end_time": "2020-12-02T00:24:29.378518Z",
     "start_time": "2020-12-02T00:24:29.327187Z"
    }
   },
   "outputs": [
    {
     "name": "stdout",
     "output_type": "stream",
     "text": [
      "Expected Rate:  0.075347%\n",
      "Valor presente es: 1,006,841.4107\n",
      "Amount: 1,077,850.8996\n",
      "Df: 0.000000%\n",
      "VP check es: 0.0000\n",
      "Suma medio punto por obtener resultado.\n"
     ]
    }
   ],
   "source": [
    "# Check tercer caso\n",
    "val_date = Qcf.QCDate(15, 10, 2020)\n",
    "set_expected_rate(val_date, ois, zcc, fixings)\n",
    "pv = present_value(val_date, ois, zcc)\n",
    "print(f'Valor presente es: {pv:,.4f}')\n",
    "amount = ois.amount(fixings)\n",
    "print(f'Amount: {amount:,.4f}')\n",
    "amount = ois.amount(fixings)\n",
    "plazo = val_date.day_diff(ois.settlement_date)\n",
    "if plazo <= 0:\n",
    "    df = 0.0\n",
    "else:\n",
    "    df = zcc.get_discount_factor_at(plazo)\n",
    "print(f'Df: {df:.6%}')\n",
    "vp_check = df * amount\n",
    "print(f'VP check es: {vp_check:,.4f}')\n",
    "\n",
    "suma_exito(pv, vp_check, 'monto')"
   ]
  },
  {
   "cell_type": "code",
   "execution_count": 77,
   "metadata": {
    "ExecuteTime": {
     "end_time": "2020-12-02T00:24:34.026992Z",
     "start_time": "2020-12-02T00:24:34.022977Z"
    }
   },
   "outputs": [
    {
     "name": "stdout",
     "output_type": "stream",
     "text": [
      "Éxitos totales: 10.5\n"
     ]
    }
   ],
   "source": [
    "print(f'Éxitos totales: {exitos}')"
   ]
  }
 ],
 "metadata": {
  "hide_input": false,
  "kernelspec": {
   "display_name": "Python 3",
   "language": "python",
   "name": "python3"
  },
  "language_info": {
   "codemirror_mode": {
    "name": "ipython",
    "version": 3
   },
   "file_extension": ".py",
   "mimetype": "text/x-python",
   "name": "python",
   "nbconvert_exporter": "python",
   "pygments_lexer": "ipython3",
   "version": "3.7.3"
  },
  "latex_envs": {
   "LaTeX_envs_menu_present": true,
   "autoclose": true,
   "autocomplete": true,
   "bibliofile": "biblio.bib",
   "cite_by": "apalike",
   "current_citInitial": 1,
   "eqLabelWithNumbers": true,
   "eqNumInitial": 1,
   "hotkeys": {
    "equation": "Ctrl-E",
    "itemize": "Ctrl-I"
   },
   "labels_anchors": false,
   "latex_user_defs": false,
   "report_style_numbering": false,
   "user_envs_cfg": false
  },
  "toc": {
   "base_numbering": "8",
   "nav_menu": {},
   "number_sections": true,
   "sideBar": true,
   "skip_h1_title": false,
   "title_cell": "Table of Contents",
   "title_sidebar": "Contenido",
   "toc_cell": false,
   "toc_position": {
    "height": "846.656px",
    "left": "95px",
    "top": "112.333px",
    "width": "165px"
   },
   "toc_section_display": true,
   "toc_window_display": true
  }
 },
 "nbformat": 4,
 "nbformat_minor": 4
}
