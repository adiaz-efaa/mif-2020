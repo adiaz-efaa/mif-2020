{
 "cells": [
  {
   "cell_type": "markdown",
   "metadata": {},
   "source": [
    "# Tarea 1"
   ]
  },
  {
   "cell_type": "markdown",
   "metadata": {},
   "source": [
    "Implementar la clase `OisCashflow`."
   ]
  },
  {
   "cell_type": "markdown",
   "metadata": {},
   "source": [
    "## Configuración Inicial"
   ]
  },
  {
   "cell_type": "code",
   "execution_count": 1,
   "metadata": {
    "ExecuteTime": {
     "end_time": "2020-10-30T22:27:32.821485Z",
     "start_time": "2020-10-30T22:27:32.804480Z"
    }
   },
   "outputs": [],
   "source": [
    "from finrisk import QC_Financial_3 as Qcf\n",
    "from dataclasses import dataclass\n",
    "from enum import Enum"
   ]
  },
  {
   "cell_type": "code",
   "execution_count": 2,
   "metadata": {
    "ExecuteTime": {
     "end_time": "2020-10-30T22:27:32.831875Z",
     "start_time": "2020-10-30T22:27:32.824517Z"
    }
   },
   "outputs": [],
   "source": [
    "class BusCal(Enum):\n",
    "    NY = 1\n",
    "    SCL = 2"
   ]
  },
  {
   "cell_type": "code",
   "execution_count": 3,
   "metadata": {
    "ExecuteTime": {
     "end_time": "2020-10-30T22:27:32.856632Z",
     "start_time": "2020-10-30T22:27:32.839495Z"
    }
   },
   "outputs": [],
   "source": [
    "def get_cal(code: BusCal) -> Qcf.BusinessCalendar:\n",
    "    \"\"\"\n",
    "    \"\"\"\n",
    "    if code == BusCal.NY:\n",
    "        cal = Qcf.BusinessCalendar(Qcf.QCDate(1, 1, 2020), 20)\n",
    "        for agno in range(2020, 2071):\n",
    "            f = Qcf.QCDate(12, 10, agno)\n",
    "            if f.week_day() == Qcf.WeekDay.SAT:\n",
    "                cal.add_holiday(Qcf.QCDate(14, 10, agno))\n",
    "            elif f.week_day() == Qcf.WeekDay.SUN:\n",
    "                cal.add_holiday(Qcf.QCDate(13, 10, agno))\n",
    "            elif f.week_day() == Qcf.WeekDay.MON:\n",
    "                cal.add_holiday(Qcf.QCDate(12, 10, agno))\n",
    "            elif f.week_day() == Qcf.WeekDay.TUE:\n",
    "                cal.add_holiday(Qcf.QCDate(11, 10, agno))\n",
    "            elif f.week_day() == Qcf.WeekDay.WED:\n",
    "                cal.add_holiday(Qcf.QCDate(10, 10, agno))\n",
    "            elif f.week_day() == Qcf.WeekDay.THU:\n",
    "                cal.add_holiday(Qcf.QCDate(9, 10, agno))\n",
    "            else:\n",
    "                cal.add_holiday(Qcf.QCDate(8, 10, agno))\n",
    "        cal.add_holiday(Qcf.QCDate(15, 2, 2021))\n",
    "        \n",
    "    return cal"
   ]
  },
  {
   "cell_type": "markdown",
   "metadata": {},
   "source": [
    "## `Qcf.time_series`"
   ]
  },
  {
   "cell_type": "code",
   "execution_count": 4,
   "metadata": {
    "ExecuteTime": {
     "end_time": "2020-10-30T22:27:32.871258Z",
     "start_time": "2020-10-30T22:27:32.861006Z"
    }
   },
   "outputs": [
    {
     "name": "stdout",
     "output_type": "stream",
     "text": [
      "ts[fecha1]: 19690113.0\n",
      "\n",
      "13-1-1969\n",
      "14-1-1969\n",
      "\n",
      "19690113.0\n",
      "19690114.0\n"
     ]
    }
   ],
   "source": [
    "ts = Qcf.time_series()\n",
    "\n",
    "fecha1 = Qcf.QCDate(13, 1, 1969)\n",
    "ts[fecha1] = 19690113\n",
    "\n",
    "fecha2 = Qcf.QCDate(14, 1, 1969)\n",
    "ts[fecha2] = 19690114\n",
    "\n",
    "print(f'ts[fecha1]: {ts[fecha1]}\\n')\n",
    "\n",
    "dl = Qcf.time_series_dates(ts)\n",
    "for d in dl:\n",
    "    print(d)\n",
    "print()\n",
    "    \n",
    "vl = Qcf.time_series_values(ts)\n",
    "for v in vl:\n",
    "    print(v)"
   ]
  },
  {
   "cell_type": "markdown",
   "metadata": {},
   "source": [
    "## Clase `OisCashflow`"
   ]
  },
  {
   "cell_type": "markdown",
   "metadata": {},
   "source": [
    "La clase `OisCashflow` es una [`dataclass`](https://realpython.com/python-data-classes/). La tarea consiste en:\n",
    "\n",
    "- Implementar los 3 métodos de la clase que están con `pass`.\n",
    "- Implementar la función `present_value`.\n",
    "- Implementar la función `set_expected_rate`."
   ]
  },
  {
   "cell_type": "code",
   "execution_count": 5,
   "metadata": {
    "ExecuteTime": {
     "end_time": "2020-10-30T22:27:32.969802Z",
     "start_time": "2020-10-30T22:27:32.957935Z"
    }
   },
   "outputs": [],
   "source": [
    "@dataclass # syntactic sugar\n",
    "class OisCashflow:\n",
    "    start_date: Qcf.QCDate\n",
    "    end_date: Qcf.QCDate\n",
    "    settlement_date: Qcf.QCDate\n",
    "    notional: float\n",
    "    currency: Qcf.QCCurrency\n",
    "    amortization: float\n",
    "    amort_is_cashflow: bool\n",
    "    interest_rate: Qcf.QCInterestRate\n",
    "    on_index: Qcf.InterestRateIndex\n",
    "    spread: float\n",
    "    gearing: float\n",
    "        \n",
    "    def get_accrued_rate(self, accrual_date: Qcf.QCDate, fixings: Qcf.time_series) -> float:\n",
    "        \"\"\"\n",
    "        Calcula la tasa equivalente desde `self.start_date` a `accrual_date`. La tasa equivalente\n",
    "        se calcula como:\n",
    "        \n",
    "        (P - 1) * 360 / (accrual_date - self.start_date)\n",
    "        \n",
    "        donde P es el producto de los factores de capitalización de todas las tasas overnight\n",
    "        entre `start_date` y `accrual_date`. Los valores de esas tasas deben estar almacenados\n",
    "        en la variable `fixings`.\n",
    "        \n",
    "        Ver la documentación de `QC_Financial_3` para el uso y funcionamiento de los objetos\n",
    "        de tipo Qcf.time_series.\n",
    "        \"\"\"\n",
    "        pass\n",
    "    \n",
    "    def get_accrued_interest(self, accrual_date: Qcf.QCDate, fixings: Qcf.time_series) -> float:\n",
    "        \"\"\"\n",
    "        Calcula el interés (plata) devengado desde `self.start_date` a `accrual_date` utilizando la tasa equivalente\n",
    "        que se calcula con el método anterior.\n",
    "        \n",
    "        Los valores de las  tasas overnight deben estar almacenados en la variable `fixings`.\n",
    "        \n",
    "        Ver la documentación de `QC_Financial_3` para el uso y funcionamiento de los objetos\n",
    "        de tipo Qcf.time_series.\n",
    "        \"\"\"\n",
    "        pass\n",
    "    \n",
    "    def amount(self, fixings: Qcf.time_series) -> float:\n",
    "        \"\"\"\n",
    "        Calcula el flujo total al vencimiento (amortización más intereses devengados hasta self.end_date).\n",
    "        \n",
    "        Los valores de las  tasas overnight deben estar almacenados en la variable `fixings`.\n",
    "        \n",
    "        Ver la documentación de `QC_Financial_3` para el uso y funcionamiento de los objetos\n",
    "        de tipo Qcf.time_series.\n",
    "        \"\"\"\n",
    "        pass\n",
    "    \n",
    "    def test(self):\n",
    "        return 'test'\n",
    "    \n",
    "    def test1(self, x: float):\n",
    "        if x == 0:\n",
    "            raise ValueError('x debe ser != 0')\n",
    "        return 1 / x\n",
    "    \n",
    "    def test2(self, x: float):\n",
    "        return self.test1(x) + 1\n",
    "    \n",
    "    def test3(self, x: float):\n",
    "        return x + self.notional"
   ]
  },
  {
   "cell_type": "markdown",
   "metadata": {},
   "source": [
    "Construcción de un objeto `Qcf.InterestRateIndex`."
   ]
  },
  {
   "cell_type": "code",
   "execution_count": 6,
   "metadata": {
    "ExecuteTime": {
     "end_time": "2020-10-30T22:27:32.979087Z",
     "start_time": "2020-10-30T22:27:32.973126Z"
    }
   },
   "outputs": [],
   "source": [
    "codigo = 'SOFR'\n",
    "tasa_on = Qcf.QCInterestRate(.0, Qcf.QCAct360(), Qcf.QCLinearWf())\n",
    "fixing_lag = Qcf.Tenor('0d')\n",
    "tenor = Qcf.Tenor('1d')\n",
    "fixing_calendar = get_cal(BusCal.NY)     \n",
    "settlement_calendar = fixing_calendar  \n",
    "sofr = Qcf.InterestRateIndex(\n",
    "    codigo,\n",
    "    tasa_on,\n",
    "    fixing_lag,\n",
    "    tenor,\n",
    "    fixing_calendar,\n",
    "    settlement_calendar,\n",
    "    Qcf.QCUSD()\n",
    ")"
   ]
  },
  {
   "cell_type": "markdown",
   "metadata": {},
   "source": [
    "Construcción de una instancia de `OisCashflow`."
   ]
  },
  {
   "cell_type": "code",
   "execution_count": 7,
   "metadata": {
    "ExecuteTime": {
     "end_time": "2020-10-30T22:27:32.986002Z",
     "start_time": "2020-10-30T22:27:32.981253Z"
    }
   },
   "outputs": [],
   "source": [
    "ois = OisCashflow(\n",
    "    Qcf.QCDate(13, 1, 2020),\n",
    "    Qcf.QCDate(13, 1, 2021),\n",
    "    Qcf.QCDate(13, 1, 2021),\n",
    "    10000000,\n",
    "    Qcf.QCUSD(),\n",
    "    1000000,\n",
    "    True,\n",
    "    Qcf.QCInterestRate(0.0, Qcf.QCAct360(), Qcf.QCLinearWf()),\n",
    "    sofr,\n",
    "    0,\n",
    "    1\n",
    ")"
   ]
  },
  {
   "cell_type": "code",
   "execution_count": 8,
   "metadata": {
    "ExecuteTime": {
     "end_time": "2020-10-30T22:27:32.994695Z",
     "start_time": "2020-10-30T22:27:32.989159Z"
    }
   },
   "outputs": [
    {
     "name": "stdout",
     "output_type": "stream",
     "text": [
      "Hacer algo\n"
     ]
    }
   ],
   "source": [
    "try:\n",
    "    ois.test1(0)\n",
    "except Exception as e:\n",
    "    print('Hacer algo')"
   ]
  },
  {
   "cell_type": "code",
   "execution_count": 9,
   "metadata": {
    "ExecuteTime": {
     "end_time": "2020-10-30T22:27:33.002056Z",
     "start_time": "2020-10-30T22:27:32.997241Z"
    }
   },
   "outputs": [
    {
     "name": "stdout",
     "output_type": "stream",
     "text": [
      "13-1-2020\n"
     ]
    }
   ],
   "source": [
    "print(ois.start_date)"
   ]
  },
  {
   "cell_type": "code",
   "execution_count": 10,
   "metadata": {
    "ExecuteTime": {
     "end_time": "2020-10-30T22:27:33.010979Z",
     "start_time": "2020-10-30T22:27:33.003869Z"
    }
   },
   "outputs": [
    {
     "name": "stdout",
     "output_type": "stream",
     "text": [
      "10000000\n"
     ]
    }
   ],
   "source": [
    "print(ois.notional)"
   ]
  },
  {
   "cell_type": "markdown",
   "metadata": {},
   "source": [
    "## Funciones"
   ]
  },
  {
   "cell_type": "code",
   "execution_count": 11,
   "metadata": {
    "ExecuteTime": {
     "end_time": "2020-10-30T22:27:33.017812Z",
     "start_time": "2020-10-30T22:27:33.014107Z"
    }
   },
   "outputs": [],
   "source": [
    "def set_expected_rate(\n",
    "        val_date: Qcf.QCDate,\n",
    "        ois_cashflow: OisCashflow,\n",
    "        zcc: Qcf.ZeroCouponCurve,\n",
    "        fixings: Qcf.time_series) -> None:\n",
    "    \"\"\"\n",
    "    Esta función opera de la misma forma que la análoga función de `QC_Financial_3`.\n",
    "    Ver por ejemplo los casos cuando usamos el objeto Qcf.ForwardRates() en\n",
    "    el notebook 9.\n",
    "    \"\"\"\n",
    "    pass"
   ]
  },
  {
   "cell_type": "code",
   "execution_count": 12,
   "metadata": {
    "ExecuteTime": {
     "end_time": "2020-10-30T22:27:33.023257Z",
     "start_time": "2020-10-30T22:27:33.019953Z"
    }
   },
   "outputs": [],
   "source": [
    "def present_value(val_date: Qcf.QCDate, ois_cashflow: OisCashflow, zcc: Qcf.ZeroCouponCurve) -> float:\n",
    "    \"\"\"\n",
    "    Esta función opera de la misma forma que la análoga función de `QC_Financial_3`.\n",
    "    Para probar esta función utilizar la data de que está en data/20201012_sofr_zero.xlsx.\n",
    "    Para traer a valor presente debes respetar la convención de las tasas de la curva.\n",
    "    \n",
    "    NOTA: la variable ois_cashflow debe haber 'pasado' por la función set_expected_rate para que\n",
    "    tenga los intereses de los fixings futuros.\n",
    "    \"\"\"\n",
    "    pass"
   ]
  }
 ],
 "metadata": {
  "hide_input": false,
  "kernelspec": {
   "display_name": "Python 3",
   "language": "python",
   "name": "python3"
  },
  "language_info": {
   "codemirror_mode": {
    "name": "ipython",
    "version": 3
   },
   "file_extension": ".py",
   "mimetype": "text/x-python",
   "name": "python",
   "nbconvert_exporter": "python",
   "pygments_lexer": "ipython3",
   "version": "3.7.3"
  },
  "toc": {
   "base_numbering": "8",
   "nav_menu": {},
   "number_sections": true,
   "sideBar": true,
   "skip_h1_title": false,
   "title_cell": "Table of Contents",
   "title_sidebar": "Contenido",
   "toc_cell": false,
   "toc_position": {
    "height": "calc(100% - 180px)",
    "left": "10px",
    "top": "150px",
    "width": "187.59375px"
   },
   "toc_section_display": true,
   "toc_window_display": true
  }
 },
 "nbformat": 4,
 "nbformat_minor": 4
}
